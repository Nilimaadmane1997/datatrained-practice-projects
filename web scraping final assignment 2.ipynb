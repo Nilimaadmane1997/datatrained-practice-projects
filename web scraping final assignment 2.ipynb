{
 "cells": [
  {
   "cell_type": "code",
   "execution_count": 1,
   "id": "4c3a2f55",
   "metadata": {},
   "outputs": [
    {
     "name": "stdout",
     "output_type": "stream",
     "text": [
      "Requirement already satisfied: selenium in c:\\programdata\\anaconda3\\lib\\site-packages (4.1.0)\n",
      "Requirement already satisfied: urllib3[secure]~=1.26 in c:\\programdata\\anaconda3\\lib\\site-packages (from selenium) (1.26.4)\n",
      "Requirement already satisfied: trio-websocket~=0.9 in c:\\programdata\\anaconda3\\lib\\site-packages (from selenium) (0.9.2)\n",
      "Requirement already satisfied: trio~=0.17 in c:\\programdata\\anaconda3\\lib\\site-packages (from selenium) (0.19.0)\n",
      "Requirement already satisfied: async-generator>=1.9 in c:\\programdata\\anaconda3\\lib\\site-packages (from trio~=0.17->selenium) (1.10)\n",
      "Requirement already satisfied: idna in c:\\programdata\\anaconda3\\lib\\site-packages (from trio~=0.17->selenium) (2.10)\n",
      "Requirement already satisfied: outcome in c:\\programdata\\anaconda3\\lib\\site-packages (from trio~=0.17->selenium) (1.1.0)\n",
      "Requirement already satisfied: cffi>=1.14 in c:\\programdata\\anaconda3\\lib\\site-packages (from trio~=0.17->selenium) (1.14.5)\n",
      "Requirement already satisfied: attrs>=19.2.0 in c:\\programdata\\anaconda3\\lib\\site-packages (from trio~=0.17->selenium) (20.3.0)\n",
      "Requirement already satisfied: sniffio in c:\\programdata\\anaconda3\\lib\\site-packages (from trio~=0.17->selenium) (1.2.0)\n",
      "Requirement already satisfied: sortedcontainers in c:\\programdata\\anaconda3\\lib\\site-packages (from trio~=0.17->selenium) (2.3.0)\n",
      "Requirement already satisfied: pycparser in c:\\programdata\\anaconda3\\lib\\site-packages (from cffi>=1.14->trio~=0.17->selenium) (2.20)\n",
      "Requirement already satisfied: wsproto>=0.14 in c:\\programdata\\anaconda3\\lib\\site-packages (from trio-websocket~=0.9->selenium) (1.0.0)\n",
      "Requirement already satisfied: cryptography>=1.3.4 in c:\\programdata\\anaconda3\\lib\\site-packages (from urllib3[secure]~=1.26->selenium) (3.4.7)\n",
      "Requirement already satisfied: pyOpenSSL>=0.14 in c:\\programdata\\anaconda3\\lib\\site-packages (from urllib3[secure]~=1.26->selenium) (20.0.1)\n",
      "Requirement already satisfied: certifi in c:\\programdata\\anaconda3\\lib\\site-packages (from urllib3[secure]~=1.26->selenium) (2020.12.5)\n",
      "Requirement already satisfied: six>=1.5.2 in c:\\programdata\\anaconda3\\lib\\site-packages (from pyOpenSSL>=0.14->urllib3[secure]~=1.26->selenium) (1.15.0)\n",
      "Requirement already satisfied: h11<1,>=0.9.0 in c:\\programdata\\anaconda3\\lib\\site-packages (from wsproto>=0.14->trio-websocket~=0.9->selenium) (0.13.0)\n"
     ]
    }
   ],
   "source": [
    "!pip install selenium"
   ]
  },
  {
   "cell_type": "code",
   "execution_count": 3,
   "id": "b937bd28",
   "metadata": {},
   "outputs": [],
   "source": [
    "import selenium \n",
    "from selenium import webdriver\n",
    "import pandas as pd\n",
    "import warnings\n",
    "warnings.filterwarnings(\"ignore\")"
   ]
  },
  {
   "cell_type": "code",
   "execution_count": null,
   "id": "52db5515",
   "metadata": {},
   "outputs": [],
   "source": [
    "QUESTION 1"
   ]
  },
  {
   "cell_type": "code",
   "execution_count": 4,
   "id": "f7095373",
   "metadata": {},
   "outputs": [],
   "source": [
    "driver = webdriver.Chrome('chromedriver.exe')"
   ]
  },
  {
   "cell_type": "code",
   "execution_count": 5,
   "id": "38e6b162",
   "metadata": {},
   "outputs": [],
   "source": [
    "url = 'https://www.naukri.com/'\n",
    "driver.get(url)"
   ]
  },
  {
   "cell_type": "code",
   "execution_count": 6,
   "id": "d1c7d03b",
   "metadata": {},
   "outputs": [
    {
     "data": {
      "text/plain": [
       "<selenium.webdriver.remote.webelement.WebElement (session=\"fdeda68d3f775a0b221054f48365ecff\", element=\"fdbd24ab-d7cb-4162-a360-e80b6a4bdf86\")>"
      ]
     },
     "execution_count": 6,
     "metadata": {},
     "output_type": "execute_result"
    }
   ],
   "source": [
    "search_job = driver.find_element_by_class_name(\"suggestor-input \")\n",
    "search_job"
   ]
  },
  {
   "cell_type": "code",
   "execution_count": 7,
   "id": "1bc5def0",
   "metadata": {},
   "outputs": [],
   "source": [
    "search_job.send_keys(\"Data Analyst\")"
   ]
  },
  {
   "cell_type": "code",
   "execution_count": 8,
   "id": "f0ca1196",
   "metadata": {},
   "outputs": [
    {
     "data": {
      "text/plain": [
       "<selenium.webdriver.remote.webelement.WebElement (session=\"fdeda68d3f775a0b221054f48365ecff\", element=\"6befb302-e25b-4470-b4f1-ab991d1913f3\")>"
      ]
     },
     "execution_count": 8,
     "metadata": {},
     "output_type": "execute_result"
    }
   ],
   "source": [
    "search_locn =driver.find_element_by_xpath('/html/body/div/div[2]/div[3]/div/div[1]/div[3]/div/div/div/input')\n",
    "search_locn"
   ]
  },
  {
   "cell_type": "code",
   "execution_count": 9,
   "id": "d100695b",
   "metadata": {},
   "outputs": [],
   "source": [
    "search_locn.send_keys(\"Bangalore\")"
   ]
  },
  {
   "cell_type": "code",
   "execution_count": 10,
   "id": "48d267c6",
   "metadata": {},
   "outputs": [
    {
     "data": {
      "text/plain": [
       "<selenium.webdriver.remote.webelement.WebElement (session=\"fdeda68d3f775a0b221054f48365ecff\", element=\"f307c129-5b55-4d17-b08b-b9a42aa975aa\")>"
      ]
     },
     "execution_count": 10,
     "metadata": {},
     "output_type": "execute_result"
    }
   ],
   "source": [
    "search_btn = driver.find_element_by_class_name(\"qsbSubmit\")\n",
    "search_btn"
   ]
  },
  {
   "cell_type": "code",
   "execution_count": 11,
   "id": "3a40e3ca",
   "metadata": {},
   "outputs": [],
   "source": [
    "search_btn.click()"
   ]
  },
  {
   "cell_type": "code",
   "execution_count": 12,
   "id": "b67fcabb",
   "metadata": {},
   "outputs": [],
   "source": [
    "job_tags=driver.find_elements_by_xpath('//a[@class=\"title fw500 ellipsis\"]')"
   ]
  },
  {
   "cell_type": "code",
   "execution_count": 13,
   "id": "0ea378ae",
   "metadata": {},
   "outputs": [
    {
     "data": {
      "text/plain": [
       "[<selenium.webdriver.remote.webelement.WebElement (session=\"fdeda68d3f775a0b221054f48365ecff\", element=\"e098c9c9-5694-480b-a071-662596468c53\")>,\n",
       " <selenium.webdriver.remote.webelement.WebElement (session=\"fdeda68d3f775a0b221054f48365ecff\", element=\"5c2737c9-ebf2-4b0f-9ba0-7725f976682d\")>,\n",
       " <selenium.webdriver.remote.webelement.WebElement (session=\"fdeda68d3f775a0b221054f48365ecff\", element=\"9d5c5148-640e-44f3-94ee-4175469f48ec\")>,\n",
       " <selenium.webdriver.remote.webelement.WebElement (session=\"fdeda68d3f775a0b221054f48365ecff\", element=\"e865c532-de7a-44d4-9b75-971056feb0b0\")>,\n",
       " <selenium.webdriver.remote.webelement.WebElement (session=\"fdeda68d3f775a0b221054f48365ecff\", element=\"d4cd29db-c51c-44c9-b38a-c2fd62de3a65\")>,\n",
       " <selenium.webdriver.remote.webelement.WebElement (session=\"fdeda68d3f775a0b221054f48365ecff\", element=\"5acc45bf-96bc-434b-9e50-bb0effe50168\")>,\n",
       " <selenium.webdriver.remote.webelement.WebElement (session=\"fdeda68d3f775a0b221054f48365ecff\", element=\"2dae733c-f6e9-4374-b9ca-9f64196e40a2\")>,\n",
       " <selenium.webdriver.remote.webelement.WebElement (session=\"fdeda68d3f775a0b221054f48365ecff\", element=\"6edef1a2-8739-48f6-94bb-5db4c050c661\")>,\n",
       " <selenium.webdriver.remote.webelement.WebElement (session=\"fdeda68d3f775a0b221054f48365ecff\", element=\"7ebaa441-13ea-4561-be57-fd28ac07174e\")>,\n",
       " <selenium.webdriver.remote.webelement.WebElement (session=\"fdeda68d3f775a0b221054f48365ecff\", element=\"e723bfdb-ccea-463c-89a3-e33596e150a7\")>,\n",
       " <selenium.webdriver.remote.webelement.WebElement (session=\"fdeda68d3f775a0b221054f48365ecff\", element=\"46487df3-68d6-4608-925d-37187c41aeb1\")>,\n",
       " <selenium.webdriver.remote.webelement.WebElement (session=\"fdeda68d3f775a0b221054f48365ecff\", element=\"e2e33c5c-e803-4d79-be84-0ec4551e8d0a\")>,\n",
       " <selenium.webdriver.remote.webelement.WebElement (session=\"fdeda68d3f775a0b221054f48365ecff\", element=\"3dadaadf-a090-4ea1-b93a-ad7a6f87e860\")>,\n",
       " <selenium.webdriver.remote.webelement.WebElement (session=\"fdeda68d3f775a0b221054f48365ecff\", element=\"56f8c4d5-49f7-41d3-8026-199bce04be29\")>,\n",
       " <selenium.webdriver.remote.webelement.WebElement (session=\"fdeda68d3f775a0b221054f48365ecff\", element=\"b8f6c29b-9cf4-4507-9733-10edbc0dd102\")>,\n",
       " <selenium.webdriver.remote.webelement.WebElement (session=\"fdeda68d3f775a0b221054f48365ecff\", element=\"f03b0f51-eeb2-41e9-bb52-aef84ad031b9\")>,\n",
       " <selenium.webdriver.remote.webelement.WebElement (session=\"fdeda68d3f775a0b221054f48365ecff\", element=\"9acba179-287e-4e6c-80a2-17be7bf8d7fd\")>,\n",
       " <selenium.webdriver.remote.webelement.WebElement (session=\"fdeda68d3f775a0b221054f48365ecff\", element=\"f6d98980-b693-4643-8f24-141389ebbaa7\")>,\n",
       " <selenium.webdriver.remote.webelement.WebElement (session=\"fdeda68d3f775a0b221054f48365ecff\", element=\"3ee68a46-ac58-4ff1-8cdb-741cd4bdaccc\")>,\n",
       " <selenium.webdriver.remote.webelement.WebElement (session=\"fdeda68d3f775a0b221054f48365ecff\", element=\"1574bb45-4cee-4576-b5ae-c5e681262333\")>]"
      ]
     },
     "execution_count": 13,
     "metadata": {},
     "output_type": "execute_result"
    }
   ],
   "source": [
    "job_tags"
   ]
  },
  {
   "cell_type": "code",
   "execution_count": 14,
   "id": "870e57a1",
   "metadata": {},
   "outputs": [
    {
     "data": {
      "text/plain": [
       "20"
      ]
     },
     "execution_count": 14,
     "metadata": {},
     "output_type": "execute_result"
    }
   ],
   "source": [
    "len(job_tags)"
   ]
  },
  {
   "cell_type": "code",
   "execution_count": 15,
   "id": "8d303ed9",
   "metadata": {},
   "outputs": [
    {
     "data": {
      "text/plain": [
       "['QA Data Analyst',\n",
       " 'Senior Data Analyst',\n",
       " 'Data Analyst',\n",
       " 'Data Analyst',\n",
       " 'Senior Data Analyst - Data Modeling/Database Design',\n",
       " 'Data analyst',\n",
       " 'Data Analyst',\n",
       " 'Financial Data Analyst',\n",
       " 'Data Analyst',\n",
       " 'OYO Rooms - Data Analyst / Business Analyst',\n",
       " 'Senior Data Analyst',\n",
       " 'Senior Data Analyst',\n",
       " 'Senior Data Analyst - Collibra',\n",
       " 'Data Analyst - Python/SQL',\n",
       " 'Data Analyst - IT',\n",
       " 'Staff Data Analyst (MINT)',\n",
       " 'Financial Data Analyst',\n",
       " 'Data Analyst',\n",
       " 'Marketing Data Analyst',\n",
       " 'Reference Data Analyst']"
      ]
     },
     "execution_count": 15,
     "metadata": {},
     "output_type": "execute_result"
    }
   ],
   "source": [
    "job_titles=[]\n",
    "for i in job_tags:\n",
    "    job_titles.append(i.text)\n",
    "    \n",
    "job_titles"
   ]
  },
  {
   "cell_type": "code",
   "execution_count": 16,
   "id": "9b328f93",
   "metadata": {},
   "outputs": [],
   "source": [
    "location=driver.find_elements_by_xpath('//li[@class=\"fleft grey-text br2 placeHolderLi location\"]')"
   ]
  },
  {
   "cell_type": "code",
   "execution_count": 17,
   "id": "7b8fe426",
   "metadata": {},
   "outputs": [
    {
     "data": {
      "text/plain": [
       "[<selenium.webdriver.remote.webelement.WebElement (session=\"fdeda68d3f775a0b221054f48365ecff\", element=\"7cd7f11b-ec6f-4c9b-ad01-2ed86c56c367\")>,\n",
       " <selenium.webdriver.remote.webelement.WebElement (session=\"fdeda68d3f775a0b221054f48365ecff\", element=\"6139db00-35f9-441b-a6ee-a789bf919b04\")>,\n",
       " <selenium.webdriver.remote.webelement.WebElement (session=\"fdeda68d3f775a0b221054f48365ecff\", element=\"fdb5b2fc-05d7-4101-ab4f-67061314b5d1\")>,\n",
       " <selenium.webdriver.remote.webelement.WebElement (session=\"fdeda68d3f775a0b221054f48365ecff\", element=\"3857db22-660a-486a-8d2c-db2f2b17c437\")>,\n",
       " <selenium.webdriver.remote.webelement.WebElement (session=\"fdeda68d3f775a0b221054f48365ecff\", element=\"9913e9e7-cd24-43c5-aa7b-1f29f167560f\")>,\n",
       " <selenium.webdriver.remote.webelement.WebElement (session=\"fdeda68d3f775a0b221054f48365ecff\", element=\"5f1ab151-87f9-43f3-839e-e8ba2c25398a\")>,\n",
       " <selenium.webdriver.remote.webelement.WebElement (session=\"fdeda68d3f775a0b221054f48365ecff\", element=\"b5299eb8-6813-4dd2-a53a-eb9a5d91707c\")>,\n",
       " <selenium.webdriver.remote.webelement.WebElement (session=\"fdeda68d3f775a0b221054f48365ecff\", element=\"e5c94e84-aa8c-48af-b7e7-f9cf7446c8e9\")>,\n",
       " <selenium.webdriver.remote.webelement.WebElement (session=\"fdeda68d3f775a0b221054f48365ecff\", element=\"610a1d82-b049-4bc0-ab8e-c6ded2025cf3\")>,\n",
       " <selenium.webdriver.remote.webelement.WebElement (session=\"fdeda68d3f775a0b221054f48365ecff\", element=\"42e8841e-cbf0-45a5-aad6-add055ed1ce6\")>,\n",
       " <selenium.webdriver.remote.webelement.WebElement (session=\"fdeda68d3f775a0b221054f48365ecff\", element=\"275e5eb1-d037-4638-9f98-10b197565f3b\")>,\n",
       " <selenium.webdriver.remote.webelement.WebElement (session=\"fdeda68d3f775a0b221054f48365ecff\", element=\"597c2001-5619-4d7e-914c-74d296d76f7c\")>,\n",
       " <selenium.webdriver.remote.webelement.WebElement (session=\"fdeda68d3f775a0b221054f48365ecff\", element=\"a08625a5-f99e-45ae-a874-69fcca8d44dc\")>,\n",
       " <selenium.webdriver.remote.webelement.WebElement (session=\"fdeda68d3f775a0b221054f48365ecff\", element=\"094bafbd-6b94-491c-b926-ab5b2c192b96\")>,\n",
       " <selenium.webdriver.remote.webelement.WebElement (session=\"fdeda68d3f775a0b221054f48365ecff\", element=\"de08d878-b567-471d-bae4-ca443af0cf29\")>,\n",
       " <selenium.webdriver.remote.webelement.WebElement (session=\"fdeda68d3f775a0b221054f48365ecff\", element=\"f9e9a1be-f182-42a0-891c-91e5c6a0a853\")>,\n",
       " <selenium.webdriver.remote.webelement.WebElement (session=\"fdeda68d3f775a0b221054f48365ecff\", element=\"0b8426d2-4033-4f4f-b3b5-6abbbc584d19\")>,\n",
       " <selenium.webdriver.remote.webelement.WebElement (session=\"fdeda68d3f775a0b221054f48365ecff\", element=\"19215018-dcc9-4188-8d12-e6a1ad859066\")>,\n",
       " <selenium.webdriver.remote.webelement.WebElement (session=\"fdeda68d3f775a0b221054f48365ecff\", element=\"7ba6c5af-6fa3-49da-b856-1b481811dd8e\")>,\n",
       " <selenium.webdriver.remote.webelement.WebElement (session=\"fdeda68d3f775a0b221054f48365ecff\", element=\"416075c3-baf4-4fc2-b73d-d95d3206cd66\")>]"
      ]
     },
     "execution_count": 17,
     "metadata": {},
     "output_type": "execute_result"
    }
   ],
   "source": [
    "location"
   ]
  },
  {
   "cell_type": "code",
   "execution_count": 18,
   "id": "53b464e5",
   "metadata": {},
   "outputs": [
    {
     "data": {
      "text/plain": [
       "['Bangalore/Bengaluru',\n",
       " 'Bangalore/Bengaluru',\n",
       " 'Bangalore/Bengaluru',\n",
       " 'Bangalore/Bengaluru',\n",
       " 'Bangalore/Bengaluru',\n",
       " 'Bangalore/Bengaluru',\n",
       " 'Bangalore/Bengaluru',\n",
       " 'Bangalore/Bengaluru',\n",
       " 'Bangalore/Bengaluru',\n",
       " 'Bangalore/Bengaluru, Delhi / NCR, Mumbai (All Areas)',\n",
       " 'Remote',\n",
       " 'Bangalore/Bengaluru',\n",
       " 'Bangalore/Bengaluru',\n",
       " 'Bangalore/Bengaluru',\n",
       " 'Bangalore/Bengaluru',\n",
       " 'Bangalore/Bengaluru',\n",
       " 'Bangalore/Bengaluru',\n",
       " 'Bangalore/Bengaluru',\n",
       " 'Bangalore/Bengaluru',\n",
       " 'Bangalore/Bengaluru']"
      ]
     },
     "execution_count": 18,
     "metadata": {},
     "output_type": "execute_result"
    }
   ],
   "source": [
    "loc=[]\n",
    "for i in location:\n",
    "    loc.append(i.text)\n",
    "    \n",
    "loc    "
   ]
  },
  {
   "cell_type": "code",
   "execution_count": 19,
   "id": "744c2f23",
   "metadata": {},
   "outputs": [],
   "source": [
    "company=driver.find_elements_by_xpath('//a[@class=\"subTitle ellipsis fleft\"]')"
   ]
  },
  {
   "cell_type": "code",
   "execution_count": 20,
   "id": "1888c16c",
   "metadata": {},
   "outputs": [
    {
     "data": {
      "text/plain": [
       "[<selenium.webdriver.remote.webelement.WebElement (session=\"fdeda68d3f775a0b221054f48365ecff\", element=\"9107ac28-19c1-4bd3-8d34-b2ba97111f5b\")>,\n",
       " <selenium.webdriver.remote.webelement.WebElement (session=\"fdeda68d3f775a0b221054f48365ecff\", element=\"9a370986-4a3c-4ad5-98df-b5aeaf733b54\")>,\n",
       " <selenium.webdriver.remote.webelement.WebElement (session=\"fdeda68d3f775a0b221054f48365ecff\", element=\"8c6c2e60-38f3-43fc-89fd-b939a96cfc40\")>,\n",
       " <selenium.webdriver.remote.webelement.WebElement (session=\"fdeda68d3f775a0b221054f48365ecff\", element=\"aa750ef5-4fdf-4aaa-8c55-751a4ae1d01a\")>,\n",
       " <selenium.webdriver.remote.webelement.WebElement (session=\"fdeda68d3f775a0b221054f48365ecff\", element=\"62e221ee-ef33-4a60-ab72-7554e9ffdf6f\")>,\n",
       " <selenium.webdriver.remote.webelement.WebElement (session=\"fdeda68d3f775a0b221054f48365ecff\", element=\"58f90697-2f27-474e-857b-977e440263b5\")>,\n",
       " <selenium.webdriver.remote.webelement.WebElement (session=\"fdeda68d3f775a0b221054f48365ecff\", element=\"f0a5da17-a981-47d4-bcdb-236ac98d46fd\")>,\n",
       " <selenium.webdriver.remote.webelement.WebElement (session=\"fdeda68d3f775a0b221054f48365ecff\", element=\"ec8d3411-cb5e-44e6-87a9-968a4144c81f\")>,\n",
       " <selenium.webdriver.remote.webelement.WebElement (session=\"fdeda68d3f775a0b221054f48365ecff\", element=\"29fdc15c-511b-449f-a0d3-f1756608bd04\")>,\n",
       " <selenium.webdriver.remote.webelement.WebElement (session=\"fdeda68d3f775a0b221054f48365ecff\", element=\"8ec85afa-734c-4dec-944e-85e61dbd9033\")>,\n",
       " <selenium.webdriver.remote.webelement.WebElement (session=\"fdeda68d3f775a0b221054f48365ecff\", element=\"ad226764-8633-4ace-be8f-47d50352160a\")>,\n",
       " <selenium.webdriver.remote.webelement.WebElement (session=\"fdeda68d3f775a0b221054f48365ecff\", element=\"185a9dd3-b425-475b-a883-c5046a25fd41\")>,\n",
       " <selenium.webdriver.remote.webelement.WebElement (session=\"fdeda68d3f775a0b221054f48365ecff\", element=\"ff852d6b-db5c-4a36-b327-7ccb7b96b29f\")>,\n",
       " <selenium.webdriver.remote.webelement.WebElement (session=\"fdeda68d3f775a0b221054f48365ecff\", element=\"e82eaf2a-a633-429c-bb0c-7578a26f51b3\")>,\n",
       " <selenium.webdriver.remote.webelement.WebElement (session=\"fdeda68d3f775a0b221054f48365ecff\", element=\"32a96b7d-ab87-4d25-845c-9065681d6899\")>,\n",
       " <selenium.webdriver.remote.webelement.WebElement (session=\"fdeda68d3f775a0b221054f48365ecff\", element=\"fafdd59e-a40a-4adc-8aa2-dd39caee964b\")>,\n",
       " <selenium.webdriver.remote.webelement.WebElement (session=\"fdeda68d3f775a0b221054f48365ecff\", element=\"2f0f3370-8048-482c-8721-100a3b38239c\")>,\n",
       " <selenium.webdriver.remote.webelement.WebElement (session=\"fdeda68d3f775a0b221054f48365ecff\", element=\"70146066-41db-4a75-a972-46eb48efe13e\")>,\n",
       " <selenium.webdriver.remote.webelement.WebElement (session=\"fdeda68d3f775a0b221054f48365ecff\", element=\"9ecb2ae2-aec4-4e8f-8c00-60e467fd2e1f\")>,\n",
       " <selenium.webdriver.remote.webelement.WebElement (session=\"fdeda68d3f775a0b221054f48365ecff\", element=\"dd4562e5-33cf-47cd-88d6-42109a7c2769\")>]"
      ]
     },
     "execution_count": 20,
     "metadata": {},
     "output_type": "execute_result"
    }
   ],
   "source": [
    "company"
   ]
  },
  {
   "cell_type": "code",
   "execution_count": 21,
   "id": "7c4b37c6",
   "metadata": {},
   "outputs": [
    {
     "data": {
      "text/plain": [
       "['Ralph Lauren',\n",
       " 'Flipkart',\n",
       " 'Ericsson Global Services',\n",
       " 'Flipkart',\n",
       " 'K & R Enterprises',\n",
       " 'GSK India',\n",
       " 'GSK India',\n",
       " \"Moody's\",\n",
       " 'Aldius Consulting Services Pvt Ltd (Paramantra)',\n",
       " 'OyoRooms',\n",
       " 'Liventus',\n",
       " 'Cerner',\n",
       " 'Shell',\n",
       " 'Affine',\n",
       " 'Yespired',\n",
       " 'Walmart',\n",
       " \"Moody's\",\n",
       " 'Slice',\n",
       " 'Branch Metrics',\n",
       " 'Deutsche Bank']"
      ]
     },
     "execution_count": 21,
     "metadata": {},
     "output_type": "execute_result"
    }
   ],
   "source": [
    "comp=[]\n",
    "for i in company:\n",
    "    comp.append(i.text)\n",
    "    \n",
    "comp "
   ]
  },
  {
   "cell_type": "code",
   "execution_count": 22,
   "id": "c771387c",
   "metadata": {},
   "outputs": [],
   "source": [
    "expirence=driver.find_elements_by_xpath('//span[contains(@title,\"Yrs\")]')"
   ]
  },
  {
   "cell_type": "code",
   "execution_count": 23,
   "id": "f39f7e8d",
   "metadata": {},
   "outputs": [
    {
     "data": {
      "text/plain": [
       "[<selenium.webdriver.remote.webelement.WebElement (session=\"fdeda68d3f775a0b221054f48365ecff\", element=\"a0a91773-89b3-411d-88e7-c30d67d43bee\")>,\n",
       " <selenium.webdriver.remote.webelement.WebElement (session=\"fdeda68d3f775a0b221054f48365ecff\", element=\"8086f711-cca3-4f95-8df5-241692889c96\")>,\n",
       " <selenium.webdriver.remote.webelement.WebElement (session=\"fdeda68d3f775a0b221054f48365ecff\", element=\"716416ba-3855-4c18-b4e5-51faa7892155\")>,\n",
       " <selenium.webdriver.remote.webelement.WebElement (session=\"fdeda68d3f775a0b221054f48365ecff\", element=\"5e049805-09b0-4008-a23d-7e59106cfd14\")>,\n",
       " <selenium.webdriver.remote.webelement.WebElement (session=\"fdeda68d3f775a0b221054f48365ecff\", element=\"cf8d4862-6e06-4aa2-8a04-3c02546e244e\")>,\n",
       " <selenium.webdriver.remote.webelement.WebElement (session=\"fdeda68d3f775a0b221054f48365ecff\", element=\"0579122c-44bc-4c83-bdae-5c8ffdc01f55\")>,\n",
       " <selenium.webdriver.remote.webelement.WebElement (session=\"fdeda68d3f775a0b221054f48365ecff\", element=\"be17237e-e959-4233-86ce-4894a745a45d\")>,\n",
       " <selenium.webdriver.remote.webelement.WebElement (session=\"fdeda68d3f775a0b221054f48365ecff\", element=\"7c534f8e-8cf4-4208-83e9-4099c2b8519c\")>,\n",
       " <selenium.webdriver.remote.webelement.WebElement (session=\"fdeda68d3f775a0b221054f48365ecff\", element=\"97c1ed55-8c3c-4a38-a9b1-99449e72cb1b\")>,\n",
       " <selenium.webdriver.remote.webelement.WebElement (session=\"fdeda68d3f775a0b221054f48365ecff\", element=\"a41d2ce0-bd87-4d8d-93a0-a55c5d38e129\")>,\n",
       " <selenium.webdriver.remote.webelement.WebElement (session=\"fdeda68d3f775a0b221054f48365ecff\", element=\"7e0682a2-433f-4146-a8a5-17259ccf5fc9\")>,\n",
       " <selenium.webdriver.remote.webelement.WebElement (session=\"fdeda68d3f775a0b221054f48365ecff\", element=\"cb928700-0a36-40e9-b2b8-fe27b5747758\")>,\n",
       " <selenium.webdriver.remote.webelement.WebElement (session=\"fdeda68d3f775a0b221054f48365ecff\", element=\"d650abeb-56ec-49e3-a311-6af1154af7db\")>,\n",
       " <selenium.webdriver.remote.webelement.WebElement (session=\"fdeda68d3f775a0b221054f48365ecff\", element=\"aac0b0bc-5d87-4af1-a935-0b38dbbf98a7\")>,\n",
       " <selenium.webdriver.remote.webelement.WebElement (session=\"fdeda68d3f775a0b221054f48365ecff\", element=\"39881074-dc0b-4ee0-96a2-72982725b363\")>,\n",
       " <selenium.webdriver.remote.webelement.WebElement (session=\"fdeda68d3f775a0b221054f48365ecff\", element=\"7d00aa23-55b2-4850-a0d2-92ce38cca1c7\")>,\n",
       " <selenium.webdriver.remote.webelement.WebElement (session=\"fdeda68d3f775a0b221054f48365ecff\", element=\"3b56f227-049f-438c-a20b-55572da8e7a6\")>,\n",
       " <selenium.webdriver.remote.webelement.WebElement (session=\"fdeda68d3f775a0b221054f48365ecff\", element=\"dfcfa3b4-9518-4d25-8df6-d86edca34d0b\")>,\n",
       " <selenium.webdriver.remote.webelement.WebElement (session=\"fdeda68d3f775a0b221054f48365ecff\", element=\"4ffb7f56-42ef-41f9-b89d-a0d5118371e0\")>,\n",
       " <selenium.webdriver.remote.webelement.WebElement (session=\"fdeda68d3f775a0b221054f48365ecff\", element=\"dcad46e3-068a-4a23-966b-4c9005c7dba4\")>]"
      ]
     },
     "execution_count": 23,
     "metadata": {},
     "output_type": "execute_result"
    }
   ],
   "source": [
    "expirence"
   ]
  },
  {
   "cell_type": "code",
   "execution_count": 24,
   "id": "d5475df6",
   "metadata": {},
   "outputs": [
    {
     "data": {
      "text/plain": [
       "['0-3 Yrs',\n",
       " '4-6 Yrs',\n",
       " '10-20 Yrs',\n",
       " '1-6 Yrs',\n",
       " '4-6 Yrs',\n",
       " '5-9 Yrs',\n",
       " '7-10 Yrs',\n",
       " '0-2 Yrs',\n",
       " '0-2 Yrs',\n",
       " '2-6 Yrs',\n",
       " '5-8 Yrs',\n",
       " '2-5 Yrs',\n",
       " '8-12 Yrs',\n",
       " '3-5 Yrs',\n",
       " '3-8 Yrs',\n",
       " '3-7 Yrs',\n",
       " '1-3 Yrs',\n",
       " '1-5 Yrs',\n",
       " '2-5 Yrs',\n",
       " '2-5 Yrs']"
      ]
     },
     "execution_count": 24,
     "metadata": {},
     "output_type": "execute_result"
    }
   ],
   "source": [
    "exp=[]\n",
    "for i in expirence:\n",
    "    exp.append(i.text)\n",
    "    \n",
    "exp "
   ]
  },
  {
   "cell_type": "code",
   "execution_count": 25,
   "id": "a7c69b61",
   "metadata": {},
   "outputs": [
    {
     "data": {
      "text/html": [
       "<div>\n",
       "<style scoped>\n",
       "    .dataframe tbody tr th:only-of-type {\n",
       "        vertical-align: middle;\n",
       "    }\n",
       "\n",
       "    .dataframe tbody tr th {\n",
       "        vertical-align: top;\n",
       "    }\n",
       "\n",
       "    .dataframe thead th {\n",
       "        text-align: right;\n",
       "    }\n",
       "</style>\n",
       "<table border=\"1\" class=\"dataframe\">\n",
       "  <thead>\n",
       "    <tr style=\"text-align: right;\">\n",
       "      <th></th>\n",
       "      <th>Job-Title</th>\n",
       "      <th>Job-Location</th>\n",
       "      <th>Company-Name</th>\n",
       "      <th>Expirence-required</th>\n",
       "    </tr>\n",
       "  </thead>\n",
       "  <tbody>\n",
       "    <tr>\n",
       "      <th>0</th>\n",
       "      <td>QA Data Analyst</td>\n",
       "      <td>Bangalore/Bengaluru</td>\n",
       "      <td>Ralph Lauren</td>\n",
       "      <td>0-3 Yrs</td>\n",
       "    </tr>\n",
       "    <tr>\n",
       "      <th>1</th>\n",
       "      <td>Senior Data Analyst</td>\n",
       "      <td>Bangalore/Bengaluru</td>\n",
       "      <td>Flipkart</td>\n",
       "      <td>4-6 Yrs</td>\n",
       "    </tr>\n",
       "    <tr>\n",
       "      <th>2</th>\n",
       "      <td>Data Analyst</td>\n",
       "      <td>Bangalore/Bengaluru</td>\n",
       "      <td>Ericsson Global Services</td>\n",
       "      <td>10-20 Yrs</td>\n",
       "    </tr>\n",
       "    <tr>\n",
       "      <th>3</th>\n",
       "      <td>Data Analyst</td>\n",
       "      <td>Bangalore/Bengaluru</td>\n",
       "      <td>Flipkart</td>\n",
       "      <td>1-6 Yrs</td>\n",
       "    </tr>\n",
       "    <tr>\n",
       "      <th>4</th>\n",
       "      <td>Senior Data Analyst - Data Modeling/Database D...</td>\n",
       "      <td>Bangalore/Bengaluru</td>\n",
       "      <td>K &amp; R Enterprises</td>\n",
       "      <td>4-6 Yrs</td>\n",
       "    </tr>\n",
       "    <tr>\n",
       "      <th>5</th>\n",
       "      <td>Data analyst</td>\n",
       "      <td>Bangalore/Bengaluru</td>\n",
       "      <td>GSK India</td>\n",
       "      <td>5-9 Yrs</td>\n",
       "    </tr>\n",
       "    <tr>\n",
       "      <th>6</th>\n",
       "      <td>Data Analyst</td>\n",
       "      <td>Bangalore/Bengaluru</td>\n",
       "      <td>GSK India</td>\n",
       "      <td>7-10 Yrs</td>\n",
       "    </tr>\n",
       "    <tr>\n",
       "      <th>7</th>\n",
       "      <td>Financial Data Analyst</td>\n",
       "      <td>Bangalore/Bengaluru</td>\n",
       "      <td>Moody's</td>\n",
       "      <td>0-2 Yrs</td>\n",
       "    </tr>\n",
       "    <tr>\n",
       "      <th>8</th>\n",
       "      <td>Data Analyst</td>\n",
       "      <td>Bangalore/Bengaluru</td>\n",
       "      <td>Aldius Consulting Services Pvt Ltd (Paramantra)</td>\n",
       "      <td>0-2 Yrs</td>\n",
       "    </tr>\n",
       "    <tr>\n",
       "      <th>9</th>\n",
       "      <td>OYO Rooms - Data Analyst / Business Analyst</td>\n",
       "      <td>Bangalore/Bengaluru, Delhi / NCR, Mumbai (All ...</td>\n",
       "      <td>OyoRooms</td>\n",
       "      <td>2-6 Yrs</td>\n",
       "    </tr>\n",
       "    <tr>\n",
       "      <th>10</th>\n",
       "      <td>Senior Data Analyst</td>\n",
       "      <td>Remote</td>\n",
       "      <td>Liventus</td>\n",
       "      <td>5-8 Yrs</td>\n",
       "    </tr>\n",
       "    <tr>\n",
       "      <th>11</th>\n",
       "      <td>Senior Data Analyst</td>\n",
       "      <td>Bangalore/Bengaluru</td>\n",
       "      <td>Cerner</td>\n",
       "      <td>2-5 Yrs</td>\n",
       "    </tr>\n",
       "    <tr>\n",
       "      <th>12</th>\n",
       "      <td>Senior Data Analyst - Collibra</td>\n",
       "      <td>Bangalore/Bengaluru</td>\n",
       "      <td>Shell</td>\n",
       "      <td>8-12 Yrs</td>\n",
       "    </tr>\n",
       "    <tr>\n",
       "      <th>13</th>\n",
       "      <td>Data Analyst - Python/SQL</td>\n",
       "      <td>Bangalore/Bengaluru</td>\n",
       "      <td>Affine</td>\n",
       "      <td>3-5 Yrs</td>\n",
       "    </tr>\n",
       "    <tr>\n",
       "      <th>14</th>\n",
       "      <td>Data Analyst - IT</td>\n",
       "      <td>Bangalore/Bengaluru</td>\n",
       "      <td>Yespired</td>\n",
       "      <td>3-8 Yrs</td>\n",
       "    </tr>\n",
       "    <tr>\n",
       "      <th>15</th>\n",
       "      <td>Staff Data Analyst (MINT)</td>\n",
       "      <td>Bangalore/Bengaluru</td>\n",
       "      <td>Walmart</td>\n",
       "      <td>3-7 Yrs</td>\n",
       "    </tr>\n",
       "    <tr>\n",
       "      <th>16</th>\n",
       "      <td>Financial Data Analyst</td>\n",
       "      <td>Bangalore/Bengaluru</td>\n",
       "      <td>Moody's</td>\n",
       "      <td>1-3 Yrs</td>\n",
       "    </tr>\n",
       "    <tr>\n",
       "      <th>17</th>\n",
       "      <td>Data Analyst</td>\n",
       "      <td>Bangalore/Bengaluru</td>\n",
       "      <td>Slice</td>\n",
       "      <td>1-5 Yrs</td>\n",
       "    </tr>\n",
       "    <tr>\n",
       "      <th>18</th>\n",
       "      <td>Marketing Data Analyst</td>\n",
       "      <td>Bangalore/Bengaluru</td>\n",
       "      <td>Branch Metrics</td>\n",
       "      <td>2-5 Yrs</td>\n",
       "    </tr>\n",
       "    <tr>\n",
       "      <th>19</th>\n",
       "      <td>Reference Data Analyst</td>\n",
       "      <td>Bangalore/Bengaluru</td>\n",
       "      <td>Deutsche Bank</td>\n",
       "      <td>2-5 Yrs</td>\n",
       "    </tr>\n",
       "  </tbody>\n",
       "</table>\n",
       "</div>"
      ],
      "text/plain": [
       "                                            Job-Title  \\\n",
       "0                                     QA Data Analyst   \n",
       "1                                 Senior Data Analyst   \n",
       "2                                        Data Analyst   \n",
       "3                                        Data Analyst   \n",
       "4   Senior Data Analyst - Data Modeling/Database D...   \n",
       "5                                        Data analyst   \n",
       "6                                        Data Analyst   \n",
       "7                              Financial Data Analyst   \n",
       "8                                        Data Analyst   \n",
       "9         OYO Rooms - Data Analyst / Business Analyst   \n",
       "10                                Senior Data Analyst   \n",
       "11                                Senior Data Analyst   \n",
       "12                     Senior Data Analyst - Collibra   \n",
       "13                          Data Analyst - Python/SQL   \n",
       "14                                  Data Analyst - IT   \n",
       "15                          Staff Data Analyst (MINT)   \n",
       "16                             Financial Data Analyst   \n",
       "17                                       Data Analyst   \n",
       "18                             Marketing Data Analyst   \n",
       "19                             Reference Data Analyst   \n",
       "\n",
       "                                         Job-Location  \\\n",
       "0                                 Bangalore/Bengaluru   \n",
       "1                                 Bangalore/Bengaluru   \n",
       "2                                 Bangalore/Bengaluru   \n",
       "3                                 Bangalore/Bengaluru   \n",
       "4                                 Bangalore/Bengaluru   \n",
       "5                                 Bangalore/Bengaluru   \n",
       "6                                 Bangalore/Bengaluru   \n",
       "7                                 Bangalore/Bengaluru   \n",
       "8                                 Bangalore/Bengaluru   \n",
       "9   Bangalore/Bengaluru, Delhi / NCR, Mumbai (All ...   \n",
       "10                                             Remote   \n",
       "11                                Bangalore/Bengaluru   \n",
       "12                                Bangalore/Bengaluru   \n",
       "13                                Bangalore/Bengaluru   \n",
       "14                                Bangalore/Bengaluru   \n",
       "15                                Bangalore/Bengaluru   \n",
       "16                                Bangalore/Bengaluru   \n",
       "17                                Bangalore/Bengaluru   \n",
       "18                                Bangalore/Bengaluru   \n",
       "19                                Bangalore/Bengaluru   \n",
       "\n",
       "                                       Company-Name Expirence-required  \n",
       "0                                      Ralph Lauren            0-3 Yrs  \n",
       "1                                          Flipkart            4-6 Yrs  \n",
       "2                          Ericsson Global Services          10-20 Yrs  \n",
       "3                                          Flipkart            1-6 Yrs  \n",
       "4                                 K & R Enterprises            4-6 Yrs  \n",
       "5                                         GSK India            5-9 Yrs  \n",
       "6                                         GSK India           7-10 Yrs  \n",
       "7                                           Moody's            0-2 Yrs  \n",
       "8   Aldius Consulting Services Pvt Ltd (Paramantra)            0-2 Yrs  \n",
       "9                                          OyoRooms            2-6 Yrs  \n",
       "10                                         Liventus            5-8 Yrs  \n",
       "11                                           Cerner            2-5 Yrs  \n",
       "12                                            Shell           8-12 Yrs  \n",
       "13                                           Affine            3-5 Yrs  \n",
       "14                                         Yespired            3-8 Yrs  \n",
       "15                                          Walmart            3-7 Yrs  \n",
       "16                                          Moody's            1-3 Yrs  \n",
       "17                                            Slice            1-5 Yrs  \n",
       "18                                   Branch Metrics            2-5 Yrs  \n",
       "19                                    Deutsche Bank            2-5 Yrs  "
      ]
     },
     "execution_count": 25,
     "metadata": {},
     "output_type": "execute_result"
    }
   ],
   "source": [
    "df=pd.DataFrame({'Job-Title':job_titles,'Job-Location':loc,'Company-Name':comp,'Expirence-required':exp})\n",
    "df\n"
   ]
  },
  {
   "cell_type": "code",
   "execution_count": null,
   "id": "bce44456",
   "metadata": {},
   "outputs": [],
   "source": [
    "QUESTION 2"
   ]
  },
  {
   "cell_type": "code",
   "execution_count": 26,
   "id": "ec382c9f",
   "metadata": {},
   "outputs": [],
   "source": [
    "driver=webdriver.Chrome('chromedriver.exe')"
   ]
  },
  {
   "cell_type": "code",
   "execution_count": 27,
   "id": "c54d40d8",
   "metadata": {},
   "outputs": [],
   "source": [
    "url='https://www.naukri.com/'\n",
    "driver.get(url)"
   ]
  },
  {
   "cell_type": "code",
   "execution_count": 28,
   "id": "e2eb21dd",
   "metadata": {},
   "outputs": [
    {
     "data": {
      "text/plain": [
       "<selenium.webdriver.remote.webelement.WebElement (session=\"e9276eb8691e759f0c21a8b46845af13\", element=\"c51acb2c-23b4-4109-9f0b-a76b4ece4614\")>"
      ]
     },
     "execution_count": 28,
     "metadata": {},
     "output_type": "execute_result"
    }
   ],
   "source": [
    "search_job = driver.find_element_by_class_name('suggestor-input')\n",
    "search_job"
   ]
  },
  {
   "cell_type": "code",
   "execution_count": 30,
   "id": "db412e3c",
   "metadata": {},
   "outputs": [],
   "source": [
    "search_job.send_keys('Data Scientist')"
   ]
  },
  {
   "cell_type": "code",
   "execution_count": 36,
   "id": "c48acc83",
   "metadata": {},
   "outputs": [],
   "source": [
    "search_locn=driver.find_element_by_xpath('/html/body/div/div[2]/div[3]/div/div/div[3]/div/div/div/input')"
   ]
  },
  {
   "cell_type": "code",
   "execution_count": 32,
   "id": "651d8782",
   "metadata": {},
   "outputs": [],
   "source": [
    "search_locn.send_keys('Banglore')"
   ]
  },
  {
   "cell_type": "code",
   "execution_count": 39,
   "id": "d6fe70a7",
   "metadata": {},
   "outputs": [
    {
     "data": {
      "text/plain": [
       "<selenium.webdriver.remote.webelement.WebElement (session=\"e9276eb8691e759f0c21a8b46845af13\", element=\"f7a6a28f-c27e-4791-81e3-5bb06cfa58a1\")>"
      ]
     },
     "execution_count": 39,
     "metadata": {},
     "output_type": "execute_result"
    }
   ],
   "source": [
    "search_btn = driver.find_element_by_class_name(\"qsbSubmit\")\n",
    "search_btn"
   ]
  },
  {
   "cell_type": "code",
   "execution_count": 40,
   "id": "4ea42fdd",
   "metadata": {},
   "outputs": [],
   "source": [
    "search_btn.click()"
   ]
  },
  {
   "cell_type": "code",
   "execution_count": 42,
   "id": "f2e1a507",
   "metadata": {},
   "outputs": [],
   "source": [
    "job_tags=driver.find_elements_by_xpath('//a[@class=\"title fw500 ellipsis\"]')"
   ]
  },
  {
   "cell_type": "code",
   "execution_count": 43,
   "id": "ed111bce",
   "metadata": {},
   "outputs": [
    {
     "data": {
      "text/plain": [
       "[<selenium.webdriver.remote.webelement.WebElement (session=\"e9276eb8691e759f0c21a8b46845af13\", element=\"bc468e6b-47fc-4d94-9615-7883942b59e2\")>,\n",
       " <selenium.webdriver.remote.webelement.WebElement (session=\"e9276eb8691e759f0c21a8b46845af13\", element=\"28be18bc-5d9f-4247-a547-5b3dbc8a2064\")>,\n",
       " <selenium.webdriver.remote.webelement.WebElement (session=\"e9276eb8691e759f0c21a8b46845af13\", element=\"9daf55f5-b0b0-4aa1-abee-92da5b931400\")>,\n",
       " <selenium.webdriver.remote.webelement.WebElement (session=\"e9276eb8691e759f0c21a8b46845af13\", element=\"1544619f-f4b6-44ce-9a46-e28fb7eef1b0\")>,\n",
       " <selenium.webdriver.remote.webelement.WebElement (session=\"e9276eb8691e759f0c21a8b46845af13\", element=\"f58bf5ed-c9ba-4d13-a3a5-6f8cd305b125\")>,\n",
       " <selenium.webdriver.remote.webelement.WebElement (session=\"e9276eb8691e759f0c21a8b46845af13\", element=\"9558b19a-9902-4bef-8fb4-d59583523c89\")>,\n",
       " <selenium.webdriver.remote.webelement.WebElement (session=\"e9276eb8691e759f0c21a8b46845af13\", element=\"80b6dc02-73ac-4381-9093-a93db7fd34d9\")>,\n",
       " <selenium.webdriver.remote.webelement.WebElement (session=\"e9276eb8691e759f0c21a8b46845af13\", element=\"e0e03de3-dd96-4c5e-8af1-274ef5263e08\")>,\n",
       " <selenium.webdriver.remote.webelement.WebElement (session=\"e9276eb8691e759f0c21a8b46845af13\", element=\"7c633b72-330f-441a-a0cd-a1f4c21a0dda\")>,\n",
       " <selenium.webdriver.remote.webelement.WebElement (session=\"e9276eb8691e759f0c21a8b46845af13\", element=\"ec7d7971-33b9-4eb9-baef-744564ca6b48\")>,\n",
       " <selenium.webdriver.remote.webelement.WebElement (session=\"e9276eb8691e759f0c21a8b46845af13\", element=\"b7378ca0-1d14-4f13-90fa-21047c6e7133\")>,\n",
       " <selenium.webdriver.remote.webelement.WebElement (session=\"e9276eb8691e759f0c21a8b46845af13\", element=\"cc41fe48-20bf-4161-a4d8-b4fdab2aa756\")>,\n",
       " <selenium.webdriver.remote.webelement.WebElement (session=\"e9276eb8691e759f0c21a8b46845af13\", element=\"6de2286b-ba5c-4a51-bd96-469f46b1766a\")>,\n",
       " <selenium.webdriver.remote.webelement.WebElement (session=\"e9276eb8691e759f0c21a8b46845af13\", element=\"89a58112-be1f-42f5-8d06-6afa1f4df943\")>,\n",
       " <selenium.webdriver.remote.webelement.WebElement (session=\"e9276eb8691e759f0c21a8b46845af13\", element=\"55b2416e-ceea-44d1-90ca-cf29071605b3\")>,\n",
       " <selenium.webdriver.remote.webelement.WebElement (session=\"e9276eb8691e759f0c21a8b46845af13\", element=\"b8eb44b8-9ce7-4fe4-84e5-7a6471923003\")>,\n",
       " <selenium.webdriver.remote.webelement.WebElement (session=\"e9276eb8691e759f0c21a8b46845af13\", element=\"74b989dc-a4b4-448a-82e4-4984938157f9\")>,\n",
       " <selenium.webdriver.remote.webelement.WebElement (session=\"e9276eb8691e759f0c21a8b46845af13\", element=\"4ca903be-36b5-4e5a-9575-d26c54a5cfcb\")>,\n",
       " <selenium.webdriver.remote.webelement.WebElement (session=\"e9276eb8691e759f0c21a8b46845af13\", element=\"3d7febd5-9cee-425a-808b-716ec3e7a923\")>,\n",
       " <selenium.webdriver.remote.webelement.WebElement (session=\"e9276eb8691e759f0c21a8b46845af13\", element=\"f92bbbdc-5d3e-4b20-8b04-c31823c57b42\")>]"
      ]
     },
     "execution_count": 43,
     "metadata": {},
     "output_type": "execute_result"
    }
   ],
   "source": [
    "job_tags"
   ]
  },
  {
   "cell_type": "code",
   "execution_count": 44,
   "id": "076bda66",
   "metadata": {},
   "outputs": [
    {
     "data": {
      "text/plain": [
       "20"
      ]
     },
     "execution_count": 44,
     "metadata": {},
     "output_type": "execute_result"
    }
   ],
   "source": [
    "len(job_tags)"
   ]
  },
  {
   "cell_type": "code",
   "execution_count": 45,
   "id": "1a5b889a",
   "metadata": {},
   "outputs": [
    {
     "data": {
      "text/plain": [
       "['Global Tax Automation & Operations - Data Scientist Senior Analyst',\n",
       " 'Analyst / Data Scientist',\n",
       " 'Data Scientist: Advanced Analytics',\n",
       " 'Data Scientist: Advanced Analytics',\n",
       " 'Senior Data Scientist',\n",
       " 'Senior Data Scientist',\n",
       " 'Senior Data Scientist (Fintech)',\n",
       " 'Senior Data Scientist',\n",
       " 'Data Scientist - Lead / Architect - Looking For Early Joiners - Wipro',\n",
       " 'Data Scientist - Lead / Architect - Looking For Early Joiners - Wipro',\n",
       " 'Data Scientist - Lead / Architect - Looking For Early Joiners - Wipro',\n",
       " 'Data Scientist / Analyst',\n",
       " 'Lead Data Scientist - Machine Learning/ Data Mining',\n",
       " 'Data Scientist',\n",
       " 'Principal Data Scientist',\n",
       " 'Opportunity For Data Scientist Internship - Bengaluru',\n",
       " 'Louis Dreyfus Company Looking For Data Scientist',\n",
       " 'Wanted Data Scientists / Senior Data Scientists For our MNC client.',\n",
       " 'Data Scientist: Artificial Intelligence',\n",
       " 'Data Scientist: Artificial Intelligence']"
      ]
     },
     "execution_count": 45,
     "metadata": {},
     "output_type": "execute_result"
    }
   ],
   "source": [
    "job_titles=[]\n",
    "for i in job_tags:\n",
    "    job_titles.append(i.text)\n",
    "    \n",
    "job_titles   "
   ]
  },
  {
   "cell_type": "code",
   "execution_count": 46,
   "id": "83f76e61",
   "metadata": {},
   "outputs": [
    {
     "data": {
      "text/plain": [
       "[<selenium.webdriver.remote.webelement.WebElement (session=\"e9276eb8691e759f0c21a8b46845af13\", element=\"45f80bb5-80d6-47fb-abbb-71a776a53fdf\")>,\n",
       " <selenium.webdriver.remote.webelement.WebElement (session=\"e9276eb8691e759f0c21a8b46845af13\", element=\"513341df-c28b-454d-8edf-c6941f1cdbb8\")>,\n",
       " <selenium.webdriver.remote.webelement.WebElement (session=\"e9276eb8691e759f0c21a8b46845af13\", element=\"ecc64855-7c70-4a10-9052-931287daee32\")>,\n",
       " <selenium.webdriver.remote.webelement.WebElement (session=\"e9276eb8691e759f0c21a8b46845af13\", element=\"5339203d-b454-42d6-95fa-c32e18f92f1b\")>,\n",
       " <selenium.webdriver.remote.webelement.WebElement (session=\"e9276eb8691e759f0c21a8b46845af13\", element=\"293f9936-ed29-4935-817f-19593c168612\")>,\n",
       " <selenium.webdriver.remote.webelement.WebElement (session=\"e9276eb8691e759f0c21a8b46845af13\", element=\"9e72b356-d157-43e7-b152-db543b79998a\")>,\n",
       " <selenium.webdriver.remote.webelement.WebElement (session=\"e9276eb8691e759f0c21a8b46845af13\", element=\"28999f33-bc31-4730-b883-1170d88ad46f\")>,\n",
       " <selenium.webdriver.remote.webelement.WebElement (session=\"e9276eb8691e759f0c21a8b46845af13\", element=\"8155c73a-a4c4-4748-8246-a728f7b8f73e\")>,\n",
       " <selenium.webdriver.remote.webelement.WebElement (session=\"e9276eb8691e759f0c21a8b46845af13\", element=\"fb2f3910-5e2e-406c-8c48-03c5efa8cff0\")>,\n",
       " <selenium.webdriver.remote.webelement.WebElement (session=\"e9276eb8691e759f0c21a8b46845af13\", element=\"4f140967-5321-4e0e-8c99-81c335aa50db\")>,\n",
       " <selenium.webdriver.remote.webelement.WebElement (session=\"e9276eb8691e759f0c21a8b46845af13\", element=\"2296c537-adb9-4eb8-bfa2-204bc74aface\")>,\n",
       " <selenium.webdriver.remote.webelement.WebElement (session=\"e9276eb8691e759f0c21a8b46845af13\", element=\"6c931a57-73e7-43cd-9deb-38d886ee5dd5\")>,\n",
       " <selenium.webdriver.remote.webelement.WebElement (session=\"e9276eb8691e759f0c21a8b46845af13\", element=\"2c482de0-f036-4a5e-88ad-199dc8a11438\")>,\n",
       " <selenium.webdriver.remote.webelement.WebElement (session=\"e9276eb8691e759f0c21a8b46845af13\", element=\"8e2b530d-9953-49c7-8f29-b951c2d0f235\")>,\n",
       " <selenium.webdriver.remote.webelement.WebElement (session=\"e9276eb8691e759f0c21a8b46845af13\", element=\"944e9511-1c0c-4c5d-a67c-5bb0d7d73577\")>,\n",
       " <selenium.webdriver.remote.webelement.WebElement (session=\"e9276eb8691e759f0c21a8b46845af13\", element=\"b1eabd2a-5db4-4572-b029-030d9821fd25\")>,\n",
       " <selenium.webdriver.remote.webelement.WebElement (session=\"e9276eb8691e759f0c21a8b46845af13\", element=\"ade9130e-b191-4fca-9b30-67f8f5032a53\")>,\n",
       " <selenium.webdriver.remote.webelement.WebElement (session=\"e9276eb8691e759f0c21a8b46845af13\", element=\"b4487a0c-1f0e-4036-a76f-fb24aac8c0c9\")>,\n",
       " <selenium.webdriver.remote.webelement.WebElement (session=\"e9276eb8691e759f0c21a8b46845af13\", element=\"5cc6c6eb-d452-46bb-98af-e85c120e5aa5\")>,\n",
       " <selenium.webdriver.remote.webelement.WebElement (session=\"e9276eb8691e759f0c21a8b46845af13\", element=\"97f58bb6-c780-4eb7-a439-7ec895c372d2\")>]"
      ]
     },
     "execution_count": 46,
     "metadata": {},
     "output_type": "execute_result"
    }
   ],
   "source": [
    "job_loc=driver.find_elements_by_xpath('//li[@class=\"fleft grey-text br2 placeHolderLi location\"]')\n",
    "job_loc"
   ]
  },
  {
   "cell_type": "code",
   "execution_count": 56,
   "id": "30e2b8a2",
   "metadata": {},
   "outputs": [
    {
     "data": {
      "text/plain": [
       "['Bangalore/Bengaluru',\n",
       " 'Bangalore/Bengaluru',\n",
       " 'Bangalore/Bengaluru',\n",
       " 'Bangalore/Bengaluru',\n",
       " 'Bangalore/Bengaluru',\n",
       " 'Bangalore/Bengaluru',\n",
       " 'Bangalore/Bengaluru',\n",
       " 'Bangalore/Bengaluru',\n",
       " 'Bangalore/Bengaluru',\n",
       " 'Bangalore/Bengaluru, Delhi / NCR, Mumbai (All Areas)',\n",
       " 'Remote',\n",
       " 'Bangalore/Bengaluru',\n",
       " 'Bangalore/Bengaluru',\n",
       " 'Bangalore/Bengaluru',\n",
       " 'Bangalore/Bengaluru',\n",
       " 'Bangalore/Bengaluru',\n",
       " 'Bangalore/Bengaluru',\n",
       " 'Bangalore/Bengaluru',\n",
       " 'Bangalore/Bengaluru',\n",
       " 'Bangalore/Bengaluru']"
      ]
     },
     "execution_count": 56,
     "metadata": {},
     "output_type": "execute_result"
    }
   ],
   "source": [
    "loc=[]\n",
    "for i in location:\n",
    "    loc.append(i.text)\n",
    "    \n",
    "loc    "
   ]
  },
  {
   "cell_type": "code",
   "execution_count": 49,
   "id": "93406741",
   "metadata": {},
   "outputs": [
    {
     "data": {
      "text/plain": [
       "[<selenium.webdriver.remote.webelement.WebElement (session=\"e9276eb8691e759f0c21a8b46845af13\", element=\"e5c73c34-2849-4c99-a86b-2e3ff7e0ff07\")>,\n",
       " <selenium.webdriver.remote.webelement.WebElement (session=\"e9276eb8691e759f0c21a8b46845af13\", element=\"72aba0cd-acbb-41ca-886b-19d4c10bf807\")>,\n",
       " <selenium.webdriver.remote.webelement.WebElement (session=\"e9276eb8691e759f0c21a8b46845af13\", element=\"de213268-3a99-4252-aff0-dfd4b186f682\")>,\n",
       " <selenium.webdriver.remote.webelement.WebElement (session=\"e9276eb8691e759f0c21a8b46845af13\", element=\"e8d1c682-6c0e-4a91-b52f-a5f228286b1f\")>,\n",
       " <selenium.webdriver.remote.webelement.WebElement (session=\"e9276eb8691e759f0c21a8b46845af13\", element=\"66e9430e-6cdd-48b7-8430-0af3cbc7de02\")>,\n",
       " <selenium.webdriver.remote.webelement.WebElement (session=\"e9276eb8691e759f0c21a8b46845af13\", element=\"948ee459-e7c1-44b2-8f89-5f6ab15e77ce\")>,\n",
       " <selenium.webdriver.remote.webelement.WebElement (session=\"e9276eb8691e759f0c21a8b46845af13\", element=\"9b3b4659-c6b9-4b6b-a485-4476745bfe85\")>,\n",
       " <selenium.webdriver.remote.webelement.WebElement (session=\"e9276eb8691e759f0c21a8b46845af13\", element=\"a4aec278-2d5e-44a5-a398-88466f71b79b\")>,\n",
       " <selenium.webdriver.remote.webelement.WebElement (session=\"e9276eb8691e759f0c21a8b46845af13\", element=\"033095dc-2e7b-4f1a-9982-ab83c48b1dbb\")>,\n",
       " <selenium.webdriver.remote.webelement.WebElement (session=\"e9276eb8691e759f0c21a8b46845af13\", element=\"14589426-80ca-43b6-931d-bd8835185e2a\")>,\n",
       " <selenium.webdriver.remote.webelement.WebElement (session=\"e9276eb8691e759f0c21a8b46845af13\", element=\"12f4e0e7-03f9-411e-be24-6402c909b3f7\")>,\n",
       " <selenium.webdriver.remote.webelement.WebElement (session=\"e9276eb8691e759f0c21a8b46845af13\", element=\"ea91ed50-4f1d-417e-87e5-356d842cfdab\")>,\n",
       " <selenium.webdriver.remote.webelement.WebElement (session=\"e9276eb8691e759f0c21a8b46845af13\", element=\"c57563ff-7151-43ca-9dc1-c5618b70f3fb\")>,\n",
       " <selenium.webdriver.remote.webelement.WebElement (session=\"e9276eb8691e759f0c21a8b46845af13\", element=\"067630a1-8c33-4199-a9dc-3fc02393ddd6\")>,\n",
       " <selenium.webdriver.remote.webelement.WebElement (session=\"e9276eb8691e759f0c21a8b46845af13\", element=\"78d0e7fa-dfb3-4a61-8fae-8d5c39b13782\")>,\n",
       " <selenium.webdriver.remote.webelement.WebElement (session=\"e9276eb8691e759f0c21a8b46845af13\", element=\"9097afd9-e399-442e-96bb-a34d6597ca45\")>,\n",
       " <selenium.webdriver.remote.webelement.WebElement (session=\"e9276eb8691e759f0c21a8b46845af13\", element=\"e2730ee7-64e0-4897-b9e8-ecdf9abb0ecd\")>,\n",
       " <selenium.webdriver.remote.webelement.WebElement (session=\"e9276eb8691e759f0c21a8b46845af13\", element=\"58d22551-5504-4d7c-882a-776cbfe9c40d\")>,\n",
       " <selenium.webdriver.remote.webelement.WebElement (session=\"e9276eb8691e759f0c21a8b46845af13\", element=\"5539932f-9a9e-4928-90eb-366c030fe07f\")>,\n",
       " <selenium.webdriver.remote.webelement.WebElement (session=\"e9276eb8691e759f0c21a8b46845af13\", element=\"6d0489ed-feac-416d-ad46-33e34008f207\")>]"
      ]
     },
     "execution_count": 49,
     "metadata": {},
     "output_type": "execute_result"
    }
   ],
   "source": [
    "comp_name=driver.find_elements_by_xpath('//a[@class=\"subTitle ellipsis fleft\"]')\n",
    "comp_name"
   ]
  },
  {
   "cell_type": "code",
   "execution_count": 55,
   "id": "0e325132",
   "metadata": {},
   "outputs": [
    {
     "data": {
      "text/plain": [
       "['Ralph Lauren',\n",
       " 'Flipkart',\n",
       " 'Ericsson Global Services',\n",
       " 'Flipkart',\n",
       " 'K & R Enterprises',\n",
       " 'GSK India',\n",
       " 'GSK India',\n",
       " \"Moody's\",\n",
       " 'Aldius Consulting Services Pvt Ltd (Paramantra)',\n",
       " 'OyoRooms',\n",
       " 'Liventus',\n",
       " 'Cerner',\n",
       " 'Shell',\n",
       " 'Affine',\n",
       " 'Yespired',\n",
       " 'Walmart',\n",
       " \"Moody's\",\n",
       " 'Slice',\n",
       " 'Branch Metrics',\n",
       " 'Deutsche Bank']"
      ]
     },
     "execution_count": 55,
     "metadata": {},
     "output_type": "execute_result"
    }
   ],
   "source": [
    "comp=[]\n",
    "for i in company:\n",
    "    comp.append(i.text)\n",
    "    \n",
    "comp "
   ]
  },
  {
   "cell_type": "code",
   "execution_count": 57,
   "id": "4e0f58c1",
   "metadata": {},
   "outputs": [
    {
     "data": {
      "text/html": [
       "<div>\n",
       "<style scoped>\n",
       "    .dataframe tbody tr th:only-of-type {\n",
       "        vertical-align: middle;\n",
       "    }\n",
       "\n",
       "    .dataframe tbody tr th {\n",
       "        vertical-align: top;\n",
       "    }\n",
       "\n",
       "    .dataframe thead th {\n",
       "        text-align: right;\n",
       "    }\n",
       "</style>\n",
       "<table border=\"1\" class=\"dataframe\">\n",
       "  <thead>\n",
       "    <tr style=\"text-align: right;\">\n",
       "      <th></th>\n",
       "      <th>Job-Title</th>\n",
       "      <th>Job-Location</th>\n",
       "      <th>Company-Name</th>\n",
       "    </tr>\n",
       "  </thead>\n",
       "  <tbody>\n",
       "    <tr>\n",
       "      <th>0</th>\n",
       "      <td>Global Tax Automation &amp; Operations - Data Scie...</td>\n",
       "      <td>Bangalore/Bengaluru</td>\n",
       "      <td>Ralph Lauren</td>\n",
       "    </tr>\n",
       "    <tr>\n",
       "      <th>1</th>\n",
       "      <td>Analyst / Data Scientist</td>\n",
       "      <td>Bangalore/Bengaluru</td>\n",
       "      <td>Flipkart</td>\n",
       "    </tr>\n",
       "    <tr>\n",
       "      <th>2</th>\n",
       "      <td>Data Scientist: Advanced Analytics</td>\n",
       "      <td>Bangalore/Bengaluru</td>\n",
       "      <td>Ericsson Global Services</td>\n",
       "    </tr>\n",
       "    <tr>\n",
       "      <th>3</th>\n",
       "      <td>Data Scientist: Advanced Analytics</td>\n",
       "      <td>Bangalore/Bengaluru</td>\n",
       "      <td>Flipkart</td>\n",
       "    </tr>\n",
       "    <tr>\n",
       "      <th>4</th>\n",
       "      <td>Senior Data Scientist</td>\n",
       "      <td>Bangalore/Bengaluru</td>\n",
       "      <td>K &amp; R Enterprises</td>\n",
       "    </tr>\n",
       "    <tr>\n",
       "      <th>5</th>\n",
       "      <td>Senior Data Scientist</td>\n",
       "      <td>Bangalore/Bengaluru</td>\n",
       "      <td>GSK India</td>\n",
       "    </tr>\n",
       "    <tr>\n",
       "      <th>6</th>\n",
       "      <td>Senior Data Scientist (Fintech)</td>\n",
       "      <td>Bangalore/Bengaluru</td>\n",
       "      <td>GSK India</td>\n",
       "    </tr>\n",
       "    <tr>\n",
       "      <th>7</th>\n",
       "      <td>Senior Data Scientist</td>\n",
       "      <td>Bangalore/Bengaluru</td>\n",
       "      <td>Moody's</td>\n",
       "    </tr>\n",
       "    <tr>\n",
       "      <th>8</th>\n",
       "      <td>Data Scientist - Lead / Architect - Looking Fo...</td>\n",
       "      <td>Bangalore/Bengaluru</td>\n",
       "      <td>Aldius Consulting Services Pvt Ltd (Paramantra)</td>\n",
       "    </tr>\n",
       "    <tr>\n",
       "      <th>9</th>\n",
       "      <td>Data Scientist - Lead / Architect - Looking Fo...</td>\n",
       "      <td>Bangalore/Bengaluru, Delhi / NCR, Mumbai (All ...</td>\n",
       "      <td>OyoRooms</td>\n",
       "    </tr>\n",
       "    <tr>\n",
       "      <th>10</th>\n",
       "      <td>Data Scientist - Lead / Architect - Looking Fo...</td>\n",
       "      <td>Remote</td>\n",
       "      <td>Liventus</td>\n",
       "    </tr>\n",
       "    <tr>\n",
       "      <th>11</th>\n",
       "      <td>Data Scientist / Analyst</td>\n",
       "      <td>Bangalore/Bengaluru</td>\n",
       "      <td>Cerner</td>\n",
       "    </tr>\n",
       "    <tr>\n",
       "      <th>12</th>\n",
       "      <td>Lead Data Scientist - Machine Learning/ Data M...</td>\n",
       "      <td>Bangalore/Bengaluru</td>\n",
       "      <td>Shell</td>\n",
       "    </tr>\n",
       "    <tr>\n",
       "      <th>13</th>\n",
       "      <td>Data Scientist</td>\n",
       "      <td>Bangalore/Bengaluru</td>\n",
       "      <td>Affine</td>\n",
       "    </tr>\n",
       "    <tr>\n",
       "      <th>14</th>\n",
       "      <td>Principal Data Scientist</td>\n",
       "      <td>Bangalore/Bengaluru</td>\n",
       "      <td>Yespired</td>\n",
       "    </tr>\n",
       "    <tr>\n",
       "      <th>15</th>\n",
       "      <td>Opportunity For Data Scientist Internship - Be...</td>\n",
       "      <td>Bangalore/Bengaluru</td>\n",
       "      <td>Walmart</td>\n",
       "    </tr>\n",
       "    <tr>\n",
       "      <th>16</th>\n",
       "      <td>Louis Dreyfus Company Looking For Data Scientist</td>\n",
       "      <td>Bangalore/Bengaluru</td>\n",
       "      <td>Moody's</td>\n",
       "    </tr>\n",
       "    <tr>\n",
       "      <th>17</th>\n",
       "      <td>Wanted Data Scientists / Senior Data Scientist...</td>\n",
       "      <td>Bangalore/Bengaluru</td>\n",
       "      <td>Slice</td>\n",
       "    </tr>\n",
       "    <tr>\n",
       "      <th>18</th>\n",
       "      <td>Data Scientist: Artificial Intelligence</td>\n",
       "      <td>Bangalore/Bengaluru</td>\n",
       "      <td>Branch Metrics</td>\n",
       "    </tr>\n",
       "    <tr>\n",
       "      <th>19</th>\n",
       "      <td>Data Scientist: Artificial Intelligence</td>\n",
       "      <td>Bangalore/Bengaluru</td>\n",
       "      <td>Deutsche Bank</td>\n",
       "    </tr>\n",
       "  </tbody>\n",
       "</table>\n",
       "</div>"
      ],
      "text/plain": [
       "                                            Job-Title  \\\n",
       "0   Global Tax Automation & Operations - Data Scie...   \n",
       "1                            Analyst / Data Scientist   \n",
       "2                  Data Scientist: Advanced Analytics   \n",
       "3                  Data Scientist: Advanced Analytics   \n",
       "4                               Senior Data Scientist   \n",
       "5                               Senior Data Scientist   \n",
       "6                     Senior Data Scientist (Fintech)   \n",
       "7                               Senior Data Scientist   \n",
       "8   Data Scientist - Lead / Architect - Looking Fo...   \n",
       "9   Data Scientist - Lead / Architect - Looking Fo...   \n",
       "10  Data Scientist - Lead / Architect - Looking Fo...   \n",
       "11                           Data Scientist / Analyst   \n",
       "12  Lead Data Scientist - Machine Learning/ Data M...   \n",
       "13                                     Data Scientist   \n",
       "14                           Principal Data Scientist   \n",
       "15  Opportunity For Data Scientist Internship - Be...   \n",
       "16   Louis Dreyfus Company Looking For Data Scientist   \n",
       "17  Wanted Data Scientists / Senior Data Scientist...   \n",
       "18            Data Scientist: Artificial Intelligence   \n",
       "19            Data Scientist: Artificial Intelligence   \n",
       "\n",
       "                                         Job-Location  \\\n",
       "0                                 Bangalore/Bengaluru   \n",
       "1                                 Bangalore/Bengaluru   \n",
       "2                                 Bangalore/Bengaluru   \n",
       "3                                 Bangalore/Bengaluru   \n",
       "4                                 Bangalore/Bengaluru   \n",
       "5                                 Bangalore/Bengaluru   \n",
       "6                                 Bangalore/Bengaluru   \n",
       "7                                 Bangalore/Bengaluru   \n",
       "8                                 Bangalore/Bengaluru   \n",
       "9   Bangalore/Bengaluru, Delhi / NCR, Mumbai (All ...   \n",
       "10                                             Remote   \n",
       "11                                Bangalore/Bengaluru   \n",
       "12                                Bangalore/Bengaluru   \n",
       "13                                Bangalore/Bengaluru   \n",
       "14                                Bangalore/Bengaluru   \n",
       "15                                Bangalore/Bengaluru   \n",
       "16                                Bangalore/Bengaluru   \n",
       "17                                Bangalore/Bengaluru   \n",
       "18                                Bangalore/Bengaluru   \n",
       "19                                Bangalore/Bengaluru   \n",
       "\n",
       "                                       Company-Name  \n",
       "0                                      Ralph Lauren  \n",
       "1                                          Flipkart  \n",
       "2                          Ericsson Global Services  \n",
       "3                                          Flipkart  \n",
       "4                                 K & R Enterprises  \n",
       "5                                         GSK India  \n",
       "6                                         GSK India  \n",
       "7                                           Moody's  \n",
       "8   Aldius Consulting Services Pvt Ltd (Paramantra)  \n",
       "9                                          OyoRooms  \n",
       "10                                         Liventus  \n",
       "11                                           Cerner  \n",
       "12                                            Shell  \n",
       "13                                           Affine  \n",
       "14                                         Yespired  \n",
       "15                                          Walmart  \n",
       "16                                          Moody's  \n",
       "17                                            Slice  \n",
       "18                                   Branch Metrics  \n",
       "19                                    Deutsche Bank  "
      ]
     },
     "execution_count": 57,
     "metadata": {},
     "output_type": "execute_result"
    }
   ],
   "source": [
    "df=pd.DataFrame({'Job-Title':job_titles,'Job-Location':loc,'Company-Name':comp})\n",
    "df"
   ]
  },
  {
   "cell_type": "code",
   "execution_count": null,
   "id": "ea60f47b",
   "metadata": {},
   "outputs": [],
   "source": [
    "QUESTION 3"
   ]
  },
  {
   "cell_type": "code",
   "execution_count": 58,
   "id": "025bd908",
   "metadata": {},
   "outputs": [],
   "source": [
    "driver=webdriver.Chrome('chromedriver.exe')"
   ]
  },
  {
   "cell_type": "code",
   "execution_count": 59,
   "id": "e56fcd0c",
   "metadata": {},
   "outputs": [],
   "source": [
    "url='https://www.naukri.com/'\n",
    "driver.get(url)"
   ]
  },
  {
   "cell_type": "code",
   "execution_count": 60,
   "id": "4711b7e7",
   "metadata": {},
   "outputs": [
    {
     "data": {
      "text/plain": [
       "<selenium.webdriver.remote.webelement.WebElement (session=\"f2fab6b98d951eaeeccb6ac0945ee190\", element=\"cace8aa9-933a-446d-a236-973b5e5ee625\")>"
      ]
     },
     "execution_count": 60,
     "metadata": {},
     "output_type": "execute_result"
    }
   ],
   "source": [
    "search_job = driver.find_element_by_class_name('suggestor-input')\n",
    "search_job"
   ]
  },
  {
   "cell_type": "code",
   "execution_count": 61,
   "id": "8bc134ab",
   "metadata": {},
   "outputs": [],
   "source": [
    "search_job.send_keys('Data Scientist')"
   ]
  },
  {
   "cell_type": "code",
   "execution_count": 62,
   "id": "acabbcf4",
   "metadata": {},
   "outputs": [],
   "source": [
    "search_locn=driver.find_element_by_xpath('/html/body/div/div[2]/div[3]/div/div/div[3]/div/div/div/input')"
   ]
  },
  {
   "cell_type": "code",
   "execution_count": 63,
   "id": "ec528d47",
   "metadata": {},
   "outputs": [],
   "source": [
    "search_locn.send_keys('Delhi/NCR')"
   ]
  },
  {
   "cell_type": "code",
   "execution_count": 66,
   "id": "2dd43d30",
   "metadata": {},
   "outputs": [
    {
     "data": {
      "text/plain": [
       "<selenium.webdriver.remote.webelement.WebElement (session=\"f2fab6b98d951eaeeccb6ac0945ee190\", element=\"3ca15a24-31c3-4010-a260-7284a5a3a20a\")>"
      ]
     },
     "execution_count": 66,
     "metadata": {},
     "output_type": "execute_result"
    }
   ],
   "source": [
    "search_btn = driver.find_element_by_class_name(\"qsbSubmit\")\n",
    "search_btn"
   ]
  },
  {
   "cell_type": "code",
   "execution_count": 67,
   "id": "c20efb19",
   "metadata": {},
   "outputs": [],
   "source": [
    "search_btn.click()"
   ]
  },
  {
   "cell_type": "code",
   "execution_count": 68,
   "id": "8a2daa9d",
   "metadata": {},
   "outputs": [],
   "source": [
    "job_tags=driver.find_elements_by_xpath('//a[@class=\"title fw500 ellipsis\"]')"
   ]
  },
  {
   "cell_type": "code",
   "execution_count": 69,
   "id": "346df2f1",
   "metadata": {},
   "outputs": [
    {
     "data": {
      "text/plain": [
       "[<selenium.webdriver.remote.webelement.WebElement (session=\"f2fab6b98d951eaeeccb6ac0945ee190\", element=\"f0943908-6ad1-44c4-8a84-c3017260b5ee\")>,\n",
       " <selenium.webdriver.remote.webelement.WebElement (session=\"f2fab6b98d951eaeeccb6ac0945ee190\", element=\"9ce02fa4-0777-4771-bb62-9f2f01ef0de3\")>,\n",
       " <selenium.webdriver.remote.webelement.WebElement (session=\"f2fab6b98d951eaeeccb6ac0945ee190\", element=\"539518d0-8c6b-4687-b08a-e457d34831bf\")>,\n",
       " <selenium.webdriver.remote.webelement.WebElement (session=\"f2fab6b98d951eaeeccb6ac0945ee190\", element=\"fd8d14b4-51f0-4b77-b894-bc9b8552e98e\")>,\n",
       " <selenium.webdriver.remote.webelement.WebElement (session=\"f2fab6b98d951eaeeccb6ac0945ee190\", element=\"bbff7b73-1947-4268-8973-2e0772f867fa\")>,\n",
       " <selenium.webdriver.remote.webelement.WebElement (session=\"f2fab6b98d951eaeeccb6ac0945ee190\", element=\"707ad595-f487-4b43-9c21-c4f6eeedf606\")>,\n",
       " <selenium.webdriver.remote.webelement.WebElement (session=\"f2fab6b98d951eaeeccb6ac0945ee190\", element=\"43ce1ece-42e6-4c03-8e16-7982fd4eeb3a\")>,\n",
       " <selenium.webdriver.remote.webelement.WebElement (session=\"f2fab6b98d951eaeeccb6ac0945ee190\", element=\"53ea6638-a7fd-4ea5-b4d7-d9cc66177094\")>,\n",
       " <selenium.webdriver.remote.webelement.WebElement (session=\"f2fab6b98d951eaeeccb6ac0945ee190\", element=\"a8f4b702-ca8d-4c1e-b0f2-d2d9a87f639b\")>,\n",
       " <selenium.webdriver.remote.webelement.WebElement (session=\"f2fab6b98d951eaeeccb6ac0945ee190\", element=\"cf72e7cf-cba1-4db5-87d1-0b3151074ba6\")>,\n",
       " <selenium.webdriver.remote.webelement.WebElement (session=\"f2fab6b98d951eaeeccb6ac0945ee190\", element=\"e12aefe5-98e1-497c-b9d4-ef004857c0de\")>,\n",
       " <selenium.webdriver.remote.webelement.WebElement (session=\"f2fab6b98d951eaeeccb6ac0945ee190\", element=\"bd66b471-59f8-4545-9c0f-6043d576e853\")>,\n",
       " <selenium.webdriver.remote.webelement.WebElement (session=\"f2fab6b98d951eaeeccb6ac0945ee190\", element=\"b585e90f-b91e-4728-93d7-8bb5174254b4\")>,\n",
       " <selenium.webdriver.remote.webelement.WebElement (session=\"f2fab6b98d951eaeeccb6ac0945ee190\", element=\"5f0ada79-eef8-4f78-bace-1a91199c8ab7\")>,\n",
       " <selenium.webdriver.remote.webelement.WebElement (session=\"f2fab6b98d951eaeeccb6ac0945ee190\", element=\"c57a4eff-723d-405a-b0d3-35119c961768\")>,\n",
       " <selenium.webdriver.remote.webelement.WebElement (session=\"f2fab6b98d951eaeeccb6ac0945ee190\", element=\"f39ec29b-c663-4ce5-96ab-66bc955a2be3\")>,\n",
       " <selenium.webdriver.remote.webelement.WebElement (session=\"f2fab6b98d951eaeeccb6ac0945ee190\", element=\"34be9173-10c7-4446-87a9-66a83a4a7ff7\")>,\n",
       " <selenium.webdriver.remote.webelement.WebElement (session=\"f2fab6b98d951eaeeccb6ac0945ee190\", element=\"60cf0746-0fe4-4e9f-a8a0-51d2a48a6e40\")>,\n",
       " <selenium.webdriver.remote.webelement.WebElement (session=\"f2fab6b98d951eaeeccb6ac0945ee190\", element=\"46813358-07ff-4422-9559-12eedea2c68f\")>,\n",
       " <selenium.webdriver.remote.webelement.WebElement (session=\"f2fab6b98d951eaeeccb6ac0945ee190\", element=\"156546df-9ccb-4fdf-a404-f9053bd0cc07\")>]"
      ]
     },
     "execution_count": 69,
     "metadata": {},
     "output_type": "execute_result"
    }
   ],
   "source": [
    "job_tags"
   ]
  },
  {
   "cell_type": "code",
   "execution_count": 70,
   "id": "b73c1c20",
   "metadata": {},
   "outputs": [
    {
     "data": {
      "text/plain": [
       "20"
      ]
     },
     "execution_count": 70,
     "metadata": {},
     "output_type": "execute_result"
    }
   ],
   "source": [
    "len(job_tags)"
   ]
  },
  {
   "cell_type": "code",
   "execution_count": 71,
   "id": "2943a4ed",
   "metadata": {},
   "outputs": [
    {
     "data": {
      "text/plain": [
       "['Data Analyst / Data Scientist',\n",
       " 'Data Scientist - Lead / Architect - Looking For Early Joiners - Wipro',\n",
       " 'Data Scientist - Lead / Architect - Looking For Early Joiners - Wipro',\n",
       " 'Data Scientist / Analyst',\n",
       " 'Farfetch - Senior Data Scientist',\n",
       " 'Data Scientist',\n",
       " 'Data Scientist/ Sr Data Scientist',\n",
       " 'Wanted Data Scientists / Senior Data Scientists For our MNC client.',\n",
       " 'Senior Data Scientist/Data Scientist',\n",
       " 'Data Scientist / ML Engineer',\n",
       " 'Lead Data Scientist',\n",
       " 'Lead Data Scientist',\n",
       " 'AI Data Scientist',\n",
       " 'Data Scientist /Data Analyst For a global leader For Gurgaon/Bangalore',\n",
       " 'Data Scientist - Deep Learning/Neural Networks',\n",
       " 'Senior Data Scientist',\n",
       " 'Senior Data Scientist',\n",
       " 'Senior Data Scientist',\n",
       " 'Data Scientist - Immediate Joiners only',\n",
       " 'Sr. Data Scientist- Advanced Analytics/Data Science & Machine Learning']"
      ]
     },
     "execution_count": 71,
     "metadata": {},
     "output_type": "execute_result"
    }
   ],
   "source": [
    "job_titles=[]\n",
    "for i in job_tags:\n",
    "    job_titles.append(i.text)\n",
    "    \n",
    "job_titles   "
   ]
  },
  {
   "cell_type": "code",
   "execution_count": 72,
   "id": "beb2731b",
   "metadata": {},
   "outputs": [
    {
     "data": {
      "text/plain": [
       "[<selenium.webdriver.remote.webelement.WebElement (session=\"f2fab6b98d951eaeeccb6ac0945ee190\", element=\"4df863de-d21c-4112-8506-45d9ac74eb2a\")>,\n",
       " <selenium.webdriver.remote.webelement.WebElement (session=\"f2fab6b98d951eaeeccb6ac0945ee190\", element=\"d8067faa-2973-4f2d-aab2-9851fcd0e1c7\")>,\n",
       " <selenium.webdriver.remote.webelement.WebElement (session=\"f2fab6b98d951eaeeccb6ac0945ee190\", element=\"8aa657be-7e8a-4b83-9cee-840776fdebb8\")>,\n",
       " <selenium.webdriver.remote.webelement.WebElement (session=\"f2fab6b98d951eaeeccb6ac0945ee190\", element=\"d16affa4-e88a-45ec-bdeb-4c5176fad967\")>,\n",
       " <selenium.webdriver.remote.webelement.WebElement (session=\"f2fab6b98d951eaeeccb6ac0945ee190\", element=\"2acc8f6a-a60c-4609-a292-cefc1fc8b33e\")>,\n",
       " <selenium.webdriver.remote.webelement.WebElement (session=\"f2fab6b98d951eaeeccb6ac0945ee190\", element=\"5ef3d930-e78b-4b3e-bb56-94dc8f90dcf2\")>,\n",
       " <selenium.webdriver.remote.webelement.WebElement (session=\"f2fab6b98d951eaeeccb6ac0945ee190\", element=\"4d42466f-1caf-4a28-9c08-188944f3b4e1\")>,\n",
       " <selenium.webdriver.remote.webelement.WebElement (session=\"f2fab6b98d951eaeeccb6ac0945ee190\", element=\"b4d69bc6-f3a8-4bcc-8978-72a7141806b6\")>,\n",
       " <selenium.webdriver.remote.webelement.WebElement (session=\"f2fab6b98d951eaeeccb6ac0945ee190\", element=\"ed4eabad-b50b-4278-8595-a9831152774b\")>,\n",
       " <selenium.webdriver.remote.webelement.WebElement (session=\"f2fab6b98d951eaeeccb6ac0945ee190\", element=\"116e3c83-76c1-4832-b6e3-a727f5cd06a3\")>,\n",
       " <selenium.webdriver.remote.webelement.WebElement (session=\"f2fab6b98d951eaeeccb6ac0945ee190\", element=\"8748dafd-9853-4a0c-ae56-49300502d764\")>,\n",
       " <selenium.webdriver.remote.webelement.WebElement (session=\"f2fab6b98d951eaeeccb6ac0945ee190\", element=\"1c7a5e47-2f25-40d5-9d76-bd5e30cbb6a5\")>,\n",
       " <selenium.webdriver.remote.webelement.WebElement (session=\"f2fab6b98d951eaeeccb6ac0945ee190\", element=\"1fd3eb22-68dd-4f8b-adbb-21b09da83075\")>,\n",
       " <selenium.webdriver.remote.webelement.WebElement (session=\"f2fab6b98d951eaeeccb6ac0945ee190\", element=\"396a16f2-d8e5-4ec3-acea-46b7bfc29f1f\")>,\n",
       " <selenium.webdriver.remote.webelement.WebElement (session=\"f2fab6b98d951eaeeccb6ac0945ee190\", element=\"97d9777e-9ba3-4457-9cba-df8d56533072\")>,\n",
       " <selenium.webdriver.remote.webelement.WebElement (session=\"f2fab6b98d951eaeeccb6ac0945ee190\", element=\"ae9c611c-9e60-40e1-a73b-7105ff304683\")>,\n",
       " <selenium.webdriver.remote.webelement.WebElement (session=\"f2fab6b98d951eaeeccb6ac0945ee190\", element=\"5f998a19-f0e7-4871-bffc-4218a28699cc\")>,\n",
       " <selenium.webdriver.remote.webelement.WebElement (session=\"f2fab6b98d951eaeeccb6ac0945ee190\", element=\"371f46e9-a550-4b74-bfe4-75f78e9499b8\")>,\n",
       " <selenium.webdriver.remote.webelement.WebElement (session=\"f2fab6b98d951eaeeccb6ac0945ee190\", element=\"8aa4c4a6-5b6b-40ef-8bb4-89fb55578adc\")>,\n",
       " <selenium.webdriver.remote.webelement.WebElement (session=\"f2fab6b98d951eaeeccb6ac0945ee190\", element=\"3b62a613-7bd6-4094-8b29-189e94e6715a\")>]"
      ]
     },
     "execution_count": 72,
     "metadata": {},
     "output_type": "execute_result"
    }
   ],
   "source": [
    "job_loc=driver.find_elements_by_xpath('//li[@class=\"fleft grey-text br2 placeHolderLi location\"]')\n",
    "job_loc"
   ]
  },
  {
   "cell_type": "code",
   "execution_count": 73,
   "id": "02c6dfd9",
   "metadata": {},
   "outputs": [
    {
     "data": {
      "text/plain": [
       "['Bangalore/Bengaluru',\n",
       " 'Bangalore/Bengaluru',\n",
       " 'Bangalore/Bengaluru',\n",
       " 'Bangalore/Bengaluru',\n",
       " 'Bangalore/Bengaluru',\n",
       " 'Bangalore/Bengaluru',\n",
       " 'Bangalore/Bengaluru',\n",
       " 'Bangalore/Bengaluru',\n",
       " 'Bangalore/Bengaluru',\n",
       " 'Bangalore/Bengaluru, Delhi / NCR, Mumbai (All Areas)',\n",
       " 'Remote',\n",
       " 'Bangalore/Bengaluru',\n",
       " 'Bangalore/Bengaluru',\n",
       " 'Bangalore/Bengaluru',\n",
       " 'Bangalore/Bengaluru',\n",
       " 'Bangalore/Bengaluru',\n",
       " 'Bangalore/Bengaluru',\n",
       " 'Bangalore/Bengaluru',\n",
       " 'Bangalore/Bengaluru',\n",
       " 'Bangalore/Bengaluru']"
      ]
     },
     "execution_count": 73,
     "metadata": {},
     "output_type": "execute_result"
    }
   ],
   "source": [
    "loc=[]\n",
    "for i in location:\n",
    "    loc.append(i.text)\n",
    "    \n",
    "loc    "
   ]
  },
  {
   "cell_type": "code",
   "execution_count": 74,
   "id": "b9731f8d",
   "metadata": {},
   "outputs": [
    {
     "data": {
      "text/plain": [
       "[<selenium.webdriver.remote.webelement.WebElement (session=\"f2fab6b98d951eaeeccb6ac0945ee190\", element=\"db0add4c-56d0-4d96-950f-b8bd1681adb3\")>,\n",
       " <selenium.webdriver.remote.webelement.WebElement (session=\"f2fab6b98d951eaeeccb6ac0945ee190\", element=\"8427331b-679a-4a6d-9e74-684ede7cef9d\")>,\n",
       " <selenium.webdriver.remote.webelement.WebElement (session=\"f2fab6b98d951eaeeccb6ac0945ee190\", element=\"54d0055e-0e8a-4b1b-8d83-9521eaba6cd4\")>,\n",
       " <selenium.webdriver.remote.webelement.WebElement (session=\"f2fab6b98d951eaeeccb6ac0945ee190\", element=\"774f5da6-cadb-4c6d-a7f7-5f059bb728c6\")>,\n",
       " <selenium.webdriver.remote.webelement.WebElement (session=\"f2fab6b98d951eaeeccb6ac0945ee190\", element=\"39d01c2b-db05-436d-86b0-df742fc72819\")>,\n",
       " <selenium.webdriver.remote.webelement.WebElement (session=\"f2fab6b98d951eaeeccb6ac0945ee190\", element=\"630ae14c-7502-4793-a42b-4e540db5c03d\")>,\n",
       " <selenium.webdriver.remote.webelement.WebElement (session=\"f2fab6b98d951eaeeccb6ac0945ee190\", element=\"0db9d45c-9921-4fa5-9602-7a30ab0ef612\")>,\n",
       " <selenium.webdriver.remote.webelement.WebElement (session=\"f2fab6b98d951eaeeccb6ac0945ee190\", element=\"464473eb-e76b-4391-9434-2718dbae65ce\")>,\n",
       " <selenium.webdriver.remote.webelement.WebElement (session=\"f2fab6b98d951eaeeccb6ac0945ee190\", element=\"198d5e0f-c007-4cac-a1dd-4d503ac32f8f\")>,\n",
       " <selenium.webdriver.remote.webelement.WebElement (session=\"f2fab6b98d951eaeeccb6ac0945ee190\", element=\"ec464bac-7af8-4e72-89ab-2f489add0cfe\")>,\n",
       " <selenium.webdriver.remote.webelement.WebElement (session=\"f2fab6b98d951eaeeccb6ac0945ee190\", element=\"7e1b4363-0820-4ce1-a138-4c36529c34ef\")>,\n",
       " <selenium.webdriver.remote.webelement.WebElement (session=\"f2fab6b98d951eaeeccb6ac0945ee190\", element=\"2dfbe668-a4eb-4438-b8aa-eb09161a3990\")>,\n",
       " <selenium.webdriver.remote.webelement.WebElement (session=\"f2fab6b98d951eaeeccb6ac0945ee190\", element=\"b5e7d69b-9d17-4cdb-a8b4-84634bb8bb5d\")>,\n",
       " <selenium.webdriver.remote.webelement.WebElement (session=\"f2fab6b98d951eaeeccb6ac0945ee190\", element=\"b408356a-4a0f-4b92-89b4-89c9deeb75c5\")>,\n",
       " <selenium.webdriver.remote.webelement.WebElement (session=\"f2fab6b98d951eaeeccb6ac0945ee190\", element=\"132fe434-8239-43bf-ab66-39a6d976f84a\")>,\n",
       " <selenium.webdriver.remote.webelement.WebElement (session=\"f2fab6b98d951eaeeccb6ac0945ee190\", element=\"a4f37a4e-c3d1-41e6-b3fe-e95a7e7f541d\")>,\n",
       " <selenium.webdriver.remote.webelement.WebElement (session=\"f2fab6b98d951eaeeccb6ac0945ee190\", element=\"f28e1e36-a766-43cd-81e3-58f32b5a0a32\")>,\n",
       " <selenium.webdriver.remote.webelement.WebElement (session=\"f2fab6b98d951eaeeccb6ac0945ee190\", element=\"02a71710-1f10-422d-9462-71e2da078217\")>,\n",
       " <selenium.webdriver.remote.webelement.WebElement (session=\"f2fab6b98d951eaeeccb6ac0945ee190\", element=\"05fdbadf-62bb-47ad-9be5-8d973fc51a18\")>,\n",
       " <selenium.webdriver.remote.webelement.WebElement (session=\"f2fab6b98d951eaeeccb6ac0945ee190\", element=\"e90bc148-6f01-4d6d-a1db-da2c040dba3b\")>]"
      ]
     },
     "execution_count": 74,
     "metadata": {},
     "output_type": "execute_result"
    }
   ],
   "source": [
    "comp_name=driver.find_elements_by_xpath('//a[@class=\"subTitle ellipsis fleft\"]')\n",
    "comp_name"
   ]
  },
  {
   "cell_type": "code",
   "execution_count": 75,
   "id": "5a9ed555",
   "metadata": {},
   "outputs": [
    {
     "data": {
      "text/plain": [
       "['Ralph Lauren',\n",
       " 'Flipkart',\n",
       " 'Ericsson Global Services',\n",
       " 'Flipkart',\n",
       " 'K & R Enterprises',\n",
       " 'GSK India',\n",
       " 'GSK India',\n",
       " \"Moody's\",\n",
       " 'Aldius Consulting Services Pvt Ltd (Paramantra)',\n",
       " 'OyoRooms',\n",
       " 'Liventus',\n",
       " 'Cerner',\n",
       " 'Shell',\n",
       " 'Affine',\n",
       " 'Yespired',\n",
       " 'Walmart',\n",
       " \"Moody's\",\n",
       " 'Slice',\n",
       " 'Branch Metrics',\n",
       " 'Deutsche Bank']"
      ]
     },
     "execution_count": 75,
     "metadata": {},
     "output_type": "execute_result"
    }
   ],
   "source": [
    "comp=[]\n",
    "for i in company:\n",
    "    comp.append(i.text)\n",
    "    \n",
    "comp "
   ]
  },
  {
   "cell_type": "code",
   "execution_count": 76,
   "id": "4b5d1b3f",
   "metadata": {},
   "outputs": [
    {
     "data": {
      "text/plain": [
       "[<selenium.webdriver.remote.webelement.WebElement (session=\"f2fab6b98d951eaeeccb6ac0945ee190\", element=\"c1903427-fff2-4f19-9cdc-05a1bda2ac36\")>,\n",
       " <selenium.webdriver.remote.webelement.WebElement (session=\"f2fab6b98d951eaeeccb6ac0945ee190\", element=\"62a9680d-aa69-4d89-8397-ec9000ea759b\")>,\n",
       " <selenium.webdriver.remote.webelement.WebElement (session=\"f2fab6b98d951eaeeccb6ac0945ee190\", element=\"1805c545-08e2-4243-b9ee-072951977242\")>,\n",
       " <selenium.webdriver.remote.webelement.WebElement (session=\"f2fab6b98d951eaeeccb6ac0945ee190\", element=\"01a599d9-4f76-4177-a496-a26ed7d855f9\")>,\n",
       " <selenium.webdriver.remote.webelement.WebElement (session=\"f2fab6b98d951eaeeccb6ac0945ee190\", element=\"dbd945cc-a837-4bd1-ad08-90fb269f3062\")>,\n",
       " <selenium.webdriver.remote.webelement.WebElement (session=\"f2fab6b98d951eaeeccb6ac0945ee190\", element=\"e8436109-f4d5-4ba1-ab27-ae6417a31b7e\")>,\n",
       " <selenium.webdriver.remote.webelement.WebElement (session=\"f2fab6b98d951eaeeccb6ac0945ee190\", element=\"306f09e5-2f41-469a-bd62-9989f120ef5a\")>,\n",
       " <selenium.webdriver.remote.webelement.WebElement (session=\"f2fab6b98d951eaeeccb6ac0945ee190\", element=\"48316c49-a447-4fbd-a532-a7cac4cf1231\")>,\n",
       " <selenium.webdriver.remote.webelement.WebElement (session=\"f2fab6b98d951eaeeccb6ac0945ee190\", element=\"e13a6267-7da4-4ac0-af4d-7fe946491b1f\")>,\n",
       " <selenium.webdriver.remote.webelement.WebElement (session=\"f2fab6b98d951eaeeccb6ac0945ee190\", element=\"a504a630-e16c-4d93-8cf3-69df34fef6c5\")>,\n",
       " <selenium.webdriver.remote.webelement.WebElement (session=\"f2fab6b98d951eaeeccb6ac0945ee190\", element=\"55cae4ed-0031-4d3e-a44d-2920346d28a5\")>,\n",
       " <selenium.webdriver.remote.webelement.WebElement (session=\"f2fab6b98d951eaeeccb6ac0945ee190\", element=\"4df90df5-8933-4301-909d-4064a83673ac\")>,\n",
       " <selenium.webdriver.remote.webelement.WebElement (session=\"f2fab6b98d951eaeeccb6ac0945ee190\", element=\"9dffe0d4-7617-4349-82ad-c6648ad339ac\")>,\n",
       " <selenium.webdriver.remote.webelement.WebElement (session=\"f2fab6b98d951eaeeccb6ac0945ee190\", element=\"b16da769-fa1f-4d5d-9302-630b3de17514\")>,\n",
       " <selenium.webdriver.remote.webelement.WebElement (session=\"f2fab6b98d951eaeeccb6ac0945ee190\", element=\"c66eadff-5f61-4424-aeef-938868f8e3c1\")>,\n",
       " <selenium.webdriver.remote.webelement.WebElement (session=\"f2fab6b98d951eaeeccb6ac0945ee190\", element=\"37f80a36-e2f6-43ba-99ae-1209c6291d6d\")>,\n",
       " <selenium.webdriver.remote.webelement.WebElement (session=\"f2fab6b98d951eaeeccb6ac0945ee190\", element=\"b1ee54c6-8d3c-40fe-a434-08f7b0dda309\")>,\n",
       " <selenium.webdriver.remote.webelement.WebElement (session=\"f2fab6b98d951eaeeccb6ac0945ee190\", element=\"1e284e35-52f9-49b7-8f5d-e549535e73b7\")>,\n",
       " <selenium.webdriver.remote.webelement.WebElement (session=\"f2fab6b98d951eaeeccb6ac0945ee190\", element=\"bb2160fd-d838-4688-961f-61e5557a1139\")>,\n",
       " <selenium.webdriver.remote.webelement.WebElement (session=\"f2fab6b98d951eaeeccb6ac0945ee190\", element=\"fd38dfbf-72f7-4d59-af93-b097cb9f8832\")>]"
      ]
     },
     "execution_count": 76,
     "metadata": {},
     "output_type": "execute_result"
    }
   ],
   "source": [
    "expirence=driver.find_elements_by_xpath('//span[contains(@title,\"Yrs\")]')\n",
    "expirence"
   ]
  },
  {
   "cell_type": "code",
   "execution_count": 77,
   "id": "4be5eb6c",
   "metadata": {},
   "outputs": [
    {
     "data": {
      "text/plain": [
       "['3-4 Yrs',\n",
       " '5-10 Yrs',\n",
       " '5-10 Yrs',\n",
       " '0-1 Yrs',\n",
       " '5-9 Yrs',\n",
       " '2-5 Yrs',\n",
       " '2-6 Yrs',\n",
       " '2-6 Yrs',\n",
       " '2-7 Yrs',\n",
       " '3-8 Yrs',\n",
       " '5-10 Yrs',\n",
       " '4-9 Yrs',\n",
       " '3-8 Yrs',\n",
       " '3-8 Yrs',\n",
       " '6-10 Yrs',\n",
       " '5-10 Yrs',\n",
       " '3-8 Yrs',\n",
       " '3-8 Yrs',\n",
       " '3-6 Yrs',\n",
       " '7-12 Yrs']"
      ]
     },
     "execution_count": 77,
     "metadata": {},
     "output_type": "execute_result"
    }
   ],
   "source": [
    "exp=[]\n",
    "for i in expirence:\n",
    "    exp.append(i.text)\n",
    "    \n",
    "exp "
   ]
  },
  {
   "cell_type": "code",
   "execution_count": 78,
   "id": "91d36320",
   "metadata": {},
   "outputs": [
    {
     "data": {
      "text/html": [
       "<div>\n",
       "<style scoped>\n",
       "    .dataframe tbody tr th:only-of-type {\n",
       "        vertical-align: middle;\n",
       "    }\n",
       "\n",
       "    .dataframe tbody tr th {\n",
       "        vertical-align: top;\n",
       "    }\n",
       "\n",
       "    .dataframe thead th {\n",
       "        text-align: right;\n",
       "    }\n",
       "</style>\n",
       "<table border=\"1\" class=\"dataframe\">\n",
       "  <thead>\n",
       "    <tr style=\"text-align: right;\">\n",
       "      <th></th>\n",
       "      <th>Job-Title</th>\n",
       "      <th>Job-Location</th>\n",
       "      <th>Company-Name</th>\n",
       "      <th>Expirence-required</th>\n",
       "    </tr>\n",
       "  </thead>\n",
       "  <tbody>\n",
       "    <tr>\n",
       "      <th>0</th>\n",
       "      <td>Data Analyst / Data Scientist</td>\n",
       "      <td>Bangalore/Bengaluru</td>\n",
       "      <td>Ralph Lauren</td>\n",
       "      <td>3-4 Yrs</td>\n",
       "    </tr>\n",
       "    <tr>\n",
       "      <th>1</th>\n",
       "      <td>Data Scientist - Lead / Architect - Looking Fo...</td>\n",
       "      <td>Bangalore/Bengaluru</td>\n",
       "      <td>Flipkart</td>\n",
       "      <td>5-10 Yrs</td>\n",
       "    </tr>\n",
       "    <tr>\n",
       "      <th>2</th>\n",
       "      <td>Data Scientist - Lead / Architect - Looking Fo...</td>\n",
       "      <td>Bangalore/Bengaluru</td>\n",
       "      <td>Ericsson Global Services</td>\n",
       "      <td>5-10 Yrs</td>\n",
       "    </tr>\n",
       "    <tr>\n",
       "      <th>3</th>\n",
       "      <td>Data Scientist / Analyst</td>\n",
       "      <td>Bangalore/Bengaluru</td>\n",
       "      <td>Flipkart</td>\n",
       "      <td>0-1 Yrs</td>\n",
       "    </tr>\n",
       "    <tr>\n",
       "      <th>4</th>\n",
       "      <td>Farfetch - Senior Data Scientist</td>\n",
       "      <td>Bangalore/Bengaluru</td>\n",
       "      <td>K &amp; R Enterprises</td>\n",
       "      <td>5-9 Yrs</td>\n",
       "    </tr>\n",
       "    <tr>\n",
       "      <th>5</th>\n",
       "      <td>Data Scientist</td>\n",
       "      <td>Bangalore/Bengaluru</td>\n",
       "      <td>GSK India</td>\n",
       "      <td>2-5 Yrs</td>\n",
       "    </tr>\n",
       "    <tr>\n",
       "      <th>6</th>\n",
       "      <td>Data Scientist/ Sr Data Scientist</td>\n",
       "      <td>Bangalore/Bengaluru</td>\n",
       "      <td>GSK India</td>\n",
       "      <td>2-6 Yrs</td>\n",
       "    </tr>\n",
       "    <tr>\n",
       "      <th>7</th>\n",
       "      <td>Wanted Data Scientists / Senior Data Scientist...</td>\n",
       "      <td>Bangalore/Bengaluru</td>\n",
       "      <td>Moody's</td>\n",
       "      <td>2-6 Yrs</td>\n",
       "    </tr>\n",
       "    <tr>\n",
       "      <th>8</th>\n",
       "      <td>Senior Data Scientist/Data Scientist</td>\n",
       "      <td>Bangalore/Bengaluru</td>\n",
       "      <td>Aldius Consulting Services Pvt Ltd (Paramantra)</td>\n",
       "      <td>2-7 Yrs</td>\n",
       "    </tr>\n",
       "    <tr>\n",
       "      <th>9</th>\n",
       "      <td>Data Scientist / ML Engineer</td>\n",
       "      <td>Bangalore/Bengaluru, Delhi / NCR, Mumbai (All ...</td>\n",
       "      <td>OyoRooms</td>\n",
       "      <td>3-8 Yrs</td>\n",
       "    </tr>\n",
       "    <tr>\n",
       "      <th>10</th>\n",
       "      <td>Lead Data Scientist</td>\n",
       "      <td>Remote</td>\n",
       "      <td>Liventus</td>\n",
       "      <td>5-10 Yrs</td>\n",
       "    </tr>\n",
       "    <tr>\n",
       "      <th>11</th>\n",
       "      <td>Lead Data Scientist</td>\n",
       "      <td>Bangalore/Bengaluru</td>\n",
       "      <td>Cerner</td>\n",
       "      <td>4-9 Yrs</td>\n",
       "    </tr>\n",
       "    <tr>\n",
       "      <th>12</th>\n",
       "      <td>AI Data Scientist</td>\n",
       "      <td>Bangalore/Bengaluru</td>\n",
       "      <td>Shell</td>\n",
       "      <td>3-8 Yrs</td>\n",
       "    </tr>\n",
       "    <tr>\n",
       "      <th>13</th>\n",
       "      <td>Data Scientist /Data Analyst For a global lead...</td>\n",
       "      <td>Bangalore/Bengaluru</td>\n",
       "      <td>Affine</td>\n",
       "      <td>3-8 Yrs</td>\n",
       "    </tr>\n",
       "    <tr>\n",
       "      <th>14</th>\n",
       "      <td>Data Scientist - Deep Learning/Neural Networks</td>\n",
       "      <td>Bangalore/Bengaluru</td>\n",
       "      <td>Yespired</td>\n",
       "      <td>6-10 Yrs</td>\n",
       "    </tr>\n",
       "    <tr>\n",
       "      <th>15</th>\n",
       "      <td>Senior Data Scientist</td>\n",
       "      <td>Bangalore/Bengaluru</td>\n",
       "      <td>Walmart</td>\n",
       "      <td>5-10 Yrs</td>\n",
       "    </tr>\n",
       "    <tr>\n",
       "      <th>16</th>\n",
       "      <td>Senior Data Scientist</td>\n",
       "      <td>Bangalore/Bengaluru</td>\n",
       "      <td>Moody's</td>\n",
       "      <td>3-8 Yrs</td>\n",
       "    </tr>\n",
       "    <tr>\n",
       "      <th>17</th>\n",
       "      <td>Senior Data Scientist</td>\n",
       "      <td>Bangalore/Bengaluru</td>\n",
       "      <td>Slice</td>\n",
       "      <td>3-8 Yrs</td>\n",
       "    </tr>\n",
       "    <tr>\n",
       "      <th>18</th>\n",
       "      <td>Data Scientist - Immediate Joiners only</td>\n",
       "      <td>Bangalore/Bengaluru</td>\n",
       "      <td>Branch Metrics</td>\n",
       "      <td>3-6 Yrs</td>\n",
       "    </tr>\n",
       "    <tr>\n",
       "      <th>19</th>\n",
       "      <td>Sr. Data Scientist- Advanced Analytics/Data Sc...</td>\n",
       "      <td>Bangalore/Bengaluru</td>\n",
       "      <td>Deutsche Bank</td>\n",
       "      <td>7-12 Yrs</td>\n",
       "    </tr>\n",
       "  </tbody>\n",
       "</table>\n",
       "</div>"
      ],
      "text/plain": [
       "                                            Job-Title  \\\n",
       "0                       Data Analyst / Data Scientist   \n",
       "1   Data Scientist - Lead / Architect - Looking Fo...   \n",
       "2   Data Scientist - Lead / Architect - Looking Fo...   \n",
       "3                            Data Scientist / Analyst   \n",
       "4                    Farfetch - Senior Data Scientist   \n",
       "5                                      Data Scientist   \n",
       "6                   Data Scientist/ Sr Data Scientist   \n",
       "7   Wanted Data Scientists / Senior Data Scientist...   \n",
       "8                Senior Data Scientist/Data Scientist   \n",
       "9                        Data Scientist / ML Engineer   \n",
       "10                                Lead Data Scientist   \n",
       "11                                Lead Data Scientist   \n",
       "12                                  AI Data Scientist   \n",
       "13  Data Scientist /Data Analyst For a global lead...   \n",
       "14     Data Scientist - Deep Learning/Neural Networks   \n",
       "15                              Senior Data Scientist   \n",
       "16                              Senior Data Scientist   \n",
       "17                              Senior Data Scientist   \n",
       "18            Data Scientist - Immediate Joiners only   \n",
       "19  Sr. Data Scientist- Advanced Analytics/Data Sc...   \n",
       "\n",
       "                                         Job-Location  \\\n",
       "0                                 Bangalore/Bengaluru   \n",
       "1                                 Bangalore/Bengaluru   \n",
       "2                                 Bangalore/Bengaluru   \n",
       "3                                 Bangalore/Bengaluru   \n",
       "4                                 Bangalore/Bengaluru   \n",
       "5                                 Bangalore/Bengaluru   \n",
       "6                                 Bangalore/Bengaluru   \n",
       "7                                 Bangalore/Bengaluru   \n",
       "8                                 Bangalore/Bengaluru   \n",
       "9   Bangalore/Bengaluru, Delhi / NCR, Mumbai (All ...   \n",
       "10                                             Remote   \n",
       "11                                Bangalore/Bengaluru   \n",
       "12                                Bangalore/Bengaluru   \n",
       "13                                Bangalore/Bengaluru   \n",
       "14                                Bangalore/Bengaluru   \n",
       "15                                Bangalore/Bengaluru   \n",
       "16                                Bangalore/Bengaluru   \n",
       "17                                Bangalore/Bengaluru   \n",
       "18                                Bangalore/Bengaluru   \n",
       "19                                Bangalore/Bengaluru   \n",
       "\n",
       "                                       Company-Name Expirence-required  \n",
       "0                                      Ralph Lauren            3-4 Yrs  \n",
       "1                                          Flipkart           5-10 Yrs  \n",
       "2                          Ericsson Global Services           5-10 Yrs  \n",
       "3                                          Flipkart            0-1 Yrs  \n",
       "4                                 K & R Enterprises            5-9 Yrs  \n",
       "5                                         GSK India            2-5 Yrs  \n",
       "6                                         GSK India            2-6 Yrs  \n",
       "7                                           Moody's            2-6 Yrs  \n",
       "8   Aldius Consulting Services Pvt Ltd (Paramantra)            2-7 Yrs  \n",
       "9                                          OyoRooms            3-8 Yrs  \n",
       "10                                         Liventus           5-10 Yrs  \n",
       "11                                           Cerner            4-9 Yrs  \n",
       "12                                            Shell            3-8 Yrs  \n",
       "13                                           Affine            3-8 Yrs  \n",
       "14                                         Yespired           6-10 Yrs  \n",
       "15                                          Walmart           5-10 Yrs  \n",
       "16                                          Moody's            3-8 Yrs  \n",
       "17                                            Slice            3-8 Yrs  \n",
       "18                                   Branch Metrics            3-6 Yrs  \n",
       "19                                    Deutsche Bank           7-12 Yrs  "
      ]
     },
     "execution_count": 78,
     "metadata": {},
     "output_type": "execute_result"
    }
   ],
   "source": [
    "df=pd.DataFrame({'Job-Title':job_titles,'Job-Location':loc,'Company-Name':comp,'Expirence-required':exp})\n",
    "df"
   ]
  },
  {
   "cell_type": "code",
   "execution_count": null,
   "id": "5ac0d9a3",
   "metadata": {},
   "outputs": [],
   "source": [
    "QUESTION 4"
   ]
  },
  {
   "cell_type": "code",
   "execution_count": 79,
   "id": "4e4657f5",
   "metadata": {},
   "outputs": [],
   "source": [
    "driver=webdriver.Chrome('chromedriver.exe')"
   ]
  },
  {
   "cell_type": "code",
   "execution_count": 80,
   "id": "6b7faec8",
   "metadata": {},
   "outputs": [],
   "source": [
    "url='http://www.flipkart.com/'\n",
    "driver.get(url)"
   ]
  },
  {
   "cell_type": "code",
   "execution_count": 81,
   "id": "db4e34af",
   "metadata": {},
   "outputs": [
    {
     "data": {
      "text/plain": [
       "<selenium.webdriver.remote.webelement.WebElement (session=\"8f1709cad8d28a7c529aedcbbc30c343\", element=\"6b981a1c-a1aa-43d2-9836-e652933d7155\")>"
      ]
     },
     "execution_count": 81,
     "metadata": {},
     "output_type": "execute_result"
    }
   ],
   "source": [
    "search_glass = driver.find_element_by_class_name('_3704LK')\n",
    "search_glass"
   ]
  },
  {
   "cell_type": "code",
   "execution_count": 106,
   "id": "1c2c6fa9",
   "metadata": {},
   "outputs": [],
   "source": [
    "search_glass.send_keys('sunglasses')"
   ]
  },
  {
   "cell_type": "code",
   "execution_count": 107,
   "id": "a86b570a",
   "metadata": {},
   "outputs": [
    {
     "data": {
      "text/plain": [
       "<selenium.webdriver.remote.webelement.WebElement (session=\"8f1709cad8d28a7c529aedcbbc30c343\", element=\"04c9b1e3-b2c1-473e-9f6a-8cac5b951a2f\")>"
      ]
     },
     "execution_count": 107,
     "metadata": {},
     "output_type": "execute_result"
    }
   ],
   "source": [
    "search_btn = driver.find_element_by_class_name(\"L0Z3Pu\")\n",
    "search_btn"
   ]
  },
  {
   "cell_type": "code",
   "execution_count": 112,
   "id": "d4c32d0d",
   "metadata": {},
   "outputs": [
    {
     "ename": "StaleElementReferenceException",
     "evalue": "Message: stale element reference: element is not attached to the page document\n  (Session info: chrome=98.0.4758.102)\nStacktrace:\nBacktrace:\n\tOrdinal0 [0x008169A3+2582947]\n\tOrdinal0 [0x007AA6D1+2139857]\n\tOrdinal0 [0x006A3A98+1063576]\n\tOrdinal0 [0x006A62B7+1073847]\n\tOrdinal0 [0x006A617E+1073534]\n\tOrdinal0 [0x006A63F0+1074160]\n\tOrdinal0 [0x006D17FC+1251324]\n\tOrdinal0 [0x006C6A76+1206902]\n\tOrdinal0 [0x006E854C+1344844]\n\tOrdinal0 [0x006C6524+1205540]\n\tOrdinal0 [0x006E86A4+1345188]\n\tOrdinal0 [0x006F834A+1409866]\n\tOrdinal0 [0x006E8366+1344358]\n\tOrdinal0 [0x006C5176+1200502]\n\tOrdinal0 [0x006C6066+1204326]\n\tGetHandleVerifier [0x009BBE02+1675858]\n\tGetHandleVerifier [0x00A7036C+2414524]\n\tGetHandleVerifier [0x008ABB01+560977]\n\tGetHandleVerifier [0x008AA8D3+556323]\n\tOrdinal0 [0x007B020E+2163214]\n\tOrdinal0 [0x007B5078+2183288]\n\tOrdinal0 [0x007B51C0+2183616]\n\tOrdinal0 [0x007BEE1C+2223644]\n\tBaseThreadInitThunk [0x76006739+25]\n\tRtlGetFullPathName_UEx [0x76F18E7F+1215]\n\tRtlGetFullPathName_UEx [0x76F18E4D+1165]\n",
     "output_type": "error",
     "traceback": [
      "\u001b[1;31m---------------------------------------------------------------------------\u001b[0m",
      "\u001b[1;31mStaleElementReferenceException\u001b[0m            Traceback (most recent call last)",
      "\u001b[1;32m<ipython-input-112-de9dba617963>\u001b[0m in \u001b[0;36m<module>\u001b[1;34m\u001b[0m\n\u001b[1;32m----> 1\u001b[1;33m \u001b[0msearch_btn\u001b[0m\u001b[1;33m.\u001b[0m\u001b[0mclick\u001b[0m\u001b[1;33m(\u001b[0m\u001b[1;33m)\u001b[0m\u001b[1;33m\u001b[0m\u001b[1;33m\u001b[0m\u001b[0m\n\u001b[0m",
      "\u001b[1;32mC:\\ProgramData\\Anaconda3\\lib\\site-packages\\selenium\\webdriver\\remote\\webelement.py\u001b[0m in \u001b[0;36mclick\u001b[1;34m(self)\u001b[0m\n\u001b[0;32m     79\u001b[0m     \u001b[1;32mdef\u001b[0m \u001b[0mclick\u001b[0m\u001b[1;33m(\u001b[0m\u001b[0mself\u001b[0m\u001b[1;33m)\u001b[0m \u001b[1;33m->\u001b[0m \u001b[1;32mNone\u001b[0m\u001b[1;33m:\u001b[0m\u001b[1;33m\u001b[0m\u001b[1;33m\u001b[0m\u001b[0m\n\u001b[0;32m     80\u001b[0m         \u001b[1;34m\"\"\"Clicks the element.\"\"\"\u001b[0m\u001b[1;33m\u001b[0m\u001b[1;33m\u001b[0m\u001b[0m\n\u001b[1;32m---> 81\u001b[1;33m         \u001b[0mself\u001b[0m\u001b[1;33m.\u001b[0m\u001b[0m_execute\u001b[0m\u001b[1;33m(\u001b[0m\u001b[0mCommand\u001b[0m\u001b[1;33m.\u001b[0m\u001b[0mCLICK_ELEMENT\u001b[0m\u001b[1;33m)\u001b[0m\u001b[1;33m\u001b[0m\u001b[1;33m\u001b[0m\u001b[0m\n\u001b[0m\u001b[0;32m     82\u001b[0m \u001b[1;33m\u001b[0m\u001b[0m\n\u001b[0;32m     83\u001b[0m     \u001b[1;32mdef\u001b[0m \u001b[0msubmit\u001b[0m\u001b[1;33m(\u001b[0m\u001b[0mself\u001b[0m\u001b[1;33m)\u001b[0m\u001b[1;33m:\u001b[0m\u001b[1;33m\u001b[0m\u001b[1;33m\u001b[0m\u001b[0m\n",
      "\u001b[1;32mC:\\ProgramData\\Anaconda3\\lib\\site-packages\\selenium\\webdriver\\remote\\webelement.py\u001b[0m in \u001b[0;36m_execute\u001b[1;34m(self, command, params)\u001b[0m\n\u001b[0;32m    708\u001b[0m             \u001b[0mparams\u001b[0m \u001b[1;33m=\u001b[0m \u001b[1;33m{\u001b[0m\u001b[1;33m}\u001b[0m\u001b[1;33m\u001b[0m\u001b[1;33m\u001b[0m\u001b[0m\n\u001b[0;32m    709\u001b[0m         \u001b[0mparams\u001b[0m\u001b[1;33m[\u001b[0m\u001b[1;34m'id'\u001b[0m\u001b[1;33m]\u001b[0m \u001b[1;33m=\u001b[0m \u001b[0mself\u001b[0m\u001b[1;33m.\u001b[0m\u001b[0m_id\u001b[0m\u001b[1;33m\u001b[0m\u001b[1;33m\u001b[0m\u001b[0m\n\u001b[1;32m--> 710\u001b[1;33m         \u001b[1;32mreturn\u001b[0m \u001b[0mself\u001b[0m\u001b[1;33m.\u001b[0m\u001b[0m_parent\u001b[0m\u001b[1;33m.\u001b[0m\u001b[0mexecute\u001b[0m\u001b[1;33m(\u001b[0m\u001b[0mcommand\u001b[0m\u001b[1;33m,\u001b[0m \u001b[0mparams\u001b[0m\u001b[1;33m)\u001b[0m\u001b[1;33m\u001b[0m\u001b[1;33m\u001b[0m\u001b[0m\n\u001b[0m\u001b[0;32m    711\u001b[0m \u001b[1;33m\u001b[0m\u001b[0m\n\u001b[0;32m    712\u001b[0m     \u001b[1;32mdef\u001b[0m \u001b[0mfind_element\u001b[0m\u001b[1;33m(\u001b[0m\u001b[0mself\u001b[0m\u001b[1;33m,\u001b[0m \u001b[0mby\u001b[0m\u001b[1;33m=\u001b[0m\u001b[0mBy\u001b[0m\u001b[1;33m.\u001b[0m\u001b[0mID\u001b[0m\u001b[1;33m,\u001b[0m \u001b[0mvalue\u001b[0m\u001b[1;33m=\u001b[0m\u001b[1;32mNone\u001b[0m\u001b[1;33m)\u001b[0m\u001b[1;33m:\u001b[0m\u001b[1;33m\u001b[0m\u001b[1;33m\u001b[0m\u001b[0m\n",
      "\u001b[1;32mC:\\ProgramData\\Anaconda3\\lib\\site-packages\\selenium\\webdriver\\remote\\webdriver.py\u001b[0m in \u001b[0;36mexecute\u001b[1;34m(self, driver_command, params)\u001b[0m\n\u001b[0;32m    422\u001b[0m         \u001b[0mresponse\u001b[0m \u001b[1;33m=\u001b[0m \u001b[0mself\u001b[0m\u001b[1;33m.\u001b[0m\u001b[0mcommand_executor\u001b[0m\u001b[1;33m.\u001b[0m\u001b[0mexecute\u001b[0m\u001b[1;33m(\u001b[0m\u001b[0mdriver_command\u001b[0m\u001b[1;33m,\u001b[0m \u001b[0mparams\u001b[0m\u001b[1;33m)\u001b[0m\u001b[1;33m\u001b[0m\u001b[1;33m\u001b[0m\u001b[0m\n\u001b[0;32m    423\u001b[0m         \u001b[1;32mif\u001b[0m \u001b[0mresponse\u001b[0m\u001b[1;33m:\u001b[0m\u001b[1;33m\u001b[0m\u001b[1;33m\u001b[0m\u001b[0m\n\u001b[1;32m--> 424\u001b[1;33m             \u001b[0mself\u001b[0m\u001b[1;33m.\u001b[0m\u001b[0merror_handler\u001b[0m\u001b[1;33m.\u001b[0m\u001b[0mcheck_response\u001b[0m\u001b[1;33m(\u001b[0m\u001b[0mresponse\u001b[0m\u001b[1;33m)\u001b[0m\u001b[1;33m\u001b[0m\u001b[1;33m\u001b[0m\u001b[0m\n\u001b[0m\u001b[0;32m    425\u001b[0m             response['value'] = self._unwrap_value(\n\u001b[0;32m    426\u001b[0m                 response.get('value', None))\n",
      "\u001b[1;32mC:\\ProgramData\\Anaconda3\\lib\\site-packages\\selenium\\webdriver\\remote\\errorhandler.py\u001b[0m in \u001b[0;36mcheck_response\u001b[1;34m(self, response)\u001b[0m\n\u001b[0;32m    245\u001b[0m                 \u001b[0malert_text\u001b[0m \u001b[1;33m=\u001b[0m \u001b[0mvalue\u001b[0m\u001b[1;33m[\u001b[0m\u001b[1;34m'alert'\u001b[0m\u001b[1;33m]\u001b[0m\u001b[1;33m.\u001b[0m\u001b[0mget\u001b[0m\u001b[1;33m(\u001b[0m\u001b[1;34m'text'\u001b[0m\u001b[1;33m)\u001b[0m\u001b[1;33m\u001b[0m\u001b[1;33m\u001b[0m\u001b[0m\n\u001b[0;32m    246\u001b[0m             \u001b[1;32mraise\u001b[0m \u001b[0mexception_class\u001b[0m\u001b[1;33m(\u001b[0m\u001b[0mmessage\u001b[0m\u001b[1;33m,\u001b[0m \u001b[0mscreen\u001b[0m\u001b[1;33m,\u001b[0m \u001b[0mstacktrace\u001b[0m\u001b[1;33m,\u001b[0m \u001b[0malert_text\u001b[0m\u001b[1;33m)\u001b[0m  \u001b[1;31m# type: ignore[call-arg]  # mypy is not smart enough here\u001b[0m\u001b[1;33m\u001b[0m\u001b[1;33m\u001b[0m\u001b[0m\n\u001b[1;32m--> 247\u001b[1;33m         \u001b[1;32mraise\u001b[0m \u001b[0mexception_class\u001b[0m\u001b[1;33m(\u001b[0m\u001b[0mmessage\u001b[0m\u001b[1;33m,\u001b[0m \u001b[0mscreen\u001b[0m\u001b[1;33m,\u001b[0m \u001b[0mstacktrace\u001b[0m\u001b[1;33m)\u001b[0m\u001b[1;33m\u001b[0m\u001b[1;33m\u001b[0m\u001b[0m\n\u001b[0m\u001b[0;32m    248\u001b[0m \u001b[1;33m\u001b[0m\u001b[0m\n\u001b[0;32m    249\u001b[0m     \u001b[1;32mdef\u001b[0m \u001b[0m_value_or_default\u001b[0m\u001b[1;33m(\u001b[0m\u001b[0mself\u001b[0m\u001b[1;33m,\u001b[0m \u001b[0mobj\u001b[0m\u001b[1;33m:\u001b[0m \u001b[0mMapping\u001b[0m\u001b[1;33m[\u001b[0m\u001b[0m_KT\u001b[0m\u001b[1;33m,\u001b[0m \u001b[0m_VT\u001b[0m\u001b[1;33m]\u001b[0m\u001b[1;33m,\u001b[0m \u001b[0mkey\u001b[0m\u001b[1;33m:\u001b[0m \u001b[0m_KT\u001b[0m\u001b[1;33m,\u001b[0m \u001b[0mdefault\u001b[0m\u001b[1;33m:\u001b[0m \u001b[0m_VT\u001b[0m\u001b[1;33m)\u001b[0m \u001b[1;33m->\u001b[0m \u001b[0m_VT\u001b[0m\u001b[1;33m:\u001b[0m\u001b[1;33m\u001b[0m\u001b[1;33m\u001b[0m\u001b[0m\n",
      "\u001b[1;31mStaleElementReferenceException\u001b[0m: Message: stale element reference: element is not attached to the page document\n  (Session info: chrome=98.0.4758.102)\nStacktrace:\nBacktrace:\n\tOrdinal0 [0x008169A3+2582947]\n\tOrdinal0 [0x007AA6D1+2139857]\n\tOrdinal0 [0x006A3A98+1063576]\n\tOrdinal0 [0x006A62B7+1073847]\n\tOrdinal0 [0x006A617E+1073534]\n\tOrdinal0 [0x006A63F0+1074160]\n\tOrdinal0 [0x006D17FC+1251324]\n\tOrdinal0 [0x006C6A76+1206902]\n\tOrdinal0 [0x006E854C+1344844]\n\tOrdinal0 [0x006C6524+1205540]\n\tOrdinal0 [0x006E86A4+1345188]\n\tOrdinal0 [0x006F834A+1409866]\n\tOrdinal0 [0x006E8366+1344358]\n\tOrdinal0 [0x006C5176+1200502]\n\tOrdinal0 [0x006C6066+1204326]\n\tGetHandleVerifier [0x009BBE02+1675858]\n\tGetHandleVerifier [0x00A7036C+2414524]\n\tGetHandleVerifier [0x008ABB01+560977]\n\tGetHandleVerifier [0x008AA8D3+556323]\n\tOrdinal0 [0x007B020E+2163214]\n\tOrdinal0 [0x007B5078+2183288]\n\tOrdinal0 [0x007B51C0+2183616]\n\tOrdinal0 [0x007BEE1C+2223644]\n\tBaseThreadInitThunk [0x76006739+25]\n\tRtlGetFullPathName_UEx [0x76F18E7F+1215]\n\tRtlGetFullPathName_UEx [0x76F18E4D+1165]\n"
     ]
    }
   ],
   "source": [
    "search_btn.click()"
   ]
  },
  {
   "cell_type": "code",
   "execution_count": 113,
   "id": "93bf5586",
   "metadata": {},
   "outputs": [
    {
     "data": {
      "text/plain": [
       "<selenium.webdriver.remote.webelement.WebElement (session=\"8f1709cad8d28a7c529aedcbbc30c343\", element=\"c509beb8-d817-45fe-8ecc-d0ee583f8451\")>"
      ]
     },
     "execution_count": 113,
     "metadata": {},
     "output_type": "execute_result"
    }
   ],
   "source": [
    "brand = driver.find_element_by_class_name('_2WkVRV')\n",
    "brand"
   ]
  },
  {
   "cell_type": "code",
   "execution_count": 114,
   "id": "7c7579f4",
   "metadata": {},
   "outputs": [
    {
     "data": {
      "text/plain": [
       "'CRYSTAL CART'"
      ]
     },
     "execution_count": 114,
     "metadata": {},
     "output_type": "execute_result"
    }
   ],
   "source": [
    "brand.text"
   ]
  },
  {
   "cell_type": "code",
   "execution_count": 115,
   "id": "ab799fdf",
   "metadata": {},
   "outputs": [
    {
     "data": {
      "text/plain": [
       "[<selenium.webdriver.remote.webelement.WebElement (session=\"8f1709cad8d28a7c529aedcbbc30c343\", element=\"c509beb8-d817-45fe-8ecc-d0ee583f8451\")>,\n",
       " <selenium.webdriver.remote.webelement.WebElement (session=\"8f1709cad8d28a7c529aedcbbc30c343\", element=\"c82409ee-1f2d-4cb2-9f5d-e693005be5f4\")>,\n",
       " <selenium.webdriver.remote.webelement.WebElement (session=\"8f1709cad8d28a7c529aedcbbc30c343\", element=\"abe8e411-55e4-4f0a-800e-50363b30826f\")>,\n",
       " <selenium.webdriver.remote.webelement.WebElement (session=\"8f1709cad8d28a7c529aedcbbc30c343\", element=\"8a6fa2f3-6208-469d-b23f-024c66d4776c\")>,\n",
       " <selenium.webdriver.remote.webelement.WebElement (session=\"8f1709cad8d28a7c529aedcbbc30c343\", element=\"fa0aee09-322f-473c-bbf3-bd264ee3cc03\")>,\n",
       " <selenium.webdriver.remote.webelement.WebElement (session=\"8f1709cad8d28a7c529aedcbbc30c343\", element=\"2252b50d-75f6-419a-a787-69d58330d8cd\")>,\n",
       " <selenium.webdriver.remote.webelement.WebElement (session=\"8f1709cad8d28a7c529aedcbbc30c343\", element=\"cebbea52-0423-4ef8-a18f-6eb8937e5f4a\")>,\n",
       " <selenium.webdriver.remote.webelement.WebElement (session=\"8f1709cad8d28a7c529aedcbbc30c343\", element=\"30f77716-527a-4a22-ae85-8215a68462c9\")>,\n",
       " <selenium.webdriver.remote.webelement.WebElement (session=\"8f1709cad8d28a7c529aedcbbc30c343\", element=\"28345fbf-3a88-486c-b467-1e0dc0c6c6fd\")>,\n",
       " <selenium.webdriver.remote.webelement.WebElement (session=\"8f1709cad8d28a7c529aedcbbc30c343\", element=\"4925d8fb-bddd-4f44-8dce-acac5032c6b0\")>,\n",
       " <selenium.webdriver.remote.webelement.WebElement (session=\"8f1709cad8d28a7c529aedcbbc30c343\", element=\"63683093-4de6-4329-a70f-6b2a074fa5dd\")>,\n",
       " <selenium.webdriver.remote.webelement.WebElement (session=\"8f1709cad8d28a7c529aedcbbc30c343\", element=\"99f0acb7-7d7f-45e2-9e4c-5c3027bf1c67\")>,\n",
       " <selenium.webdriver.remote.webelement.WebElement (session=\"8f1709cad8d28a7c529aedcbbc30c343\", element=\"c8308287-3be0-4280-9e6a-cfbf98dd0294\")>,\n",
       " <selenium.webdriver.remote.webelement.WebElement (session=\"8f1709cad8d28a7c529aedcbbc30c343\", element=\"9b00d69e-585d-48cc-96fe-9930592a1df8\")>,\n",
       " <selenium.webdriver.remote.webelement.WebElement (session=\"8f1709cad8d28a7c529aedcbbc30c343\", element=\"2e8c37f8-23fe-4629-aa05-27b40b78c08e\")>,\n",
       " <selenium.webdriver.remote.webelement.WebElement (session=\"8f1709cad8d28a7c529aedcbbc30c343\", element=\"9ee9bbdf-f77e-415d-9b52-f5b85ba808c0\")>,\n",
       " <selenium.webdriver.remote.webelement.WebElement (session=\"8f1709cad8d28a7c529aedcbbc30c343\", element=\"b619bc9a-9e6e-421a-976f-389332dac3ee\")>,\n",
       " <selenium.webdriver.remote.webelement.WebElement (session=\"8f1709cad8d28a7c529aedcbbc30c343\", element=\"e389a2f8-aa8a-4f7a-b851-55a69c9214a2\")>,\n",
       " <selenium.webdriver.remote.webelement.WebElement (session=\"8f1709cad8d28a7c529aedcbbc30c343\", element=\"b8dfde35-f36e-41a1-af27-d5f04078a2a7\")>,\n",
       " <selenium.webdriver.remote.webelement.WebElement (session=\"8f1709cad8d28a7c529aedcbbc30c343\", element=\"06043834-fead-4f10-8cfa-69776e2ab81e\")>,\n",
       " <selenium.webdriver.remote.webelement.WebElement (session=\"8f1709cad8d28a7c529aedcbbc30c343\", element=\"6101f8b2-a385-493d-afc9-215114bf70a9\")>,\n",
       " <selenium.webdriver.remote.webelement.WebElement (session=\"8f1709cad8d28a7c529aedcbbc30c343\", element=\"9a9aa6cf-c4e0-48cf-99d0-8c3fc4e62033\")>,\n",
       " <selenium.webdriver.remote.webelement.WebElement (session=\"8f1709cad8d28a7c529aedcbbc30c343\", element=\"7805b445-5beb-4abc-b8a4-623b0e752492\")>,\n",
       " <selenium.webdriver.remote.webelement.WebElement (session=\"8f1709cad8d28a7c529aedcbbc30c343\", element=\"f414f5b4-25a3-428a-a7e0-85513a923ec7\")>,\n",
       " <selenium.webdriver.remote.webelement.WebElement (session=\"8f1709cad8d28a7c529aedcbbc30c343\", element=\"0e91e360-08dc-4906-84fa-5af225a314ae\")>,\n",
       " <selenium.webdriver.remote.webelement.WebElement (session=\"8f1709cad8d28a7c529aedcbbc30c343\", element=\"477eeada-2331-4954-b41f-44419b702a03\")>,\n",
       " <selenium.webdriver.remote.webelement.WebElement (session=\"8f1709cad8d28a7c529aedcbbc30c343\", element=\"060d6591-2a39-4301-a33f-e4a95014841a\")>,\n",
       " <selenium.webdriver.remote.webelement.WebElement (session=\"8f1709cad8d28a7c529aedcbbc30c343\", element=\"24a7ed8a-222e-4c6a-8e68-4e81d362d235\")>,\n",
       " <selenium.webdriver.remote.webelement.WebElement (session=\"8f1709cad8d28a7c529aedcbbc30c343\", element=\"ced5195d-9682-44d8-a163-8e290700c40c\")>,\n",
       " <selenium.webdriver.remote.webelement.WebElement (session=\"8f1709cad8d28a7c529aedcbbc30c343\", element=\"96f14a36-c213-42ce-98b3-0cc66b170939\")>,\n",
       " <selenium.webdriver.remote.webelement.WebElement (session=\"8f1709cad8d28a7c529aedcbbc30c343\", element=\"11a71157-1043-4b02-889c-3e1579050c8d\")>,\n",
       " <selenium.webdriver.remote.webelement.WebElement (session=\"8f1709cad8d28a7c529aedcbbc30c343\", element=\"5fec81be-8404-4f7b-9e56-52314ac4e0a7\")>,\n",
       " <selenium.webdriver.remote.webelement.WebElement (session=\"8f1709cad8d28a7c529aedcbbc30c343\", element=\"7cc550a4-8109-43c5-801d-3136342abb91\")>,\n",
       " <selenium.webdriver.remote.webelement.WebElement (session=\"8f1709cad8d28a7c529aedcbbc30c343\", element=\"2450eb51-eb75-4ad6-a115-e594d9f8d176\")>,\n",
       " <selenium.webdriver.remote.webelement.WebElement (session=\"8f1709cad8d28a7c529aedcbbc30c343\", element=\"d567682a-b496-4de6-a252-8f673f45ee11\")>,\n",
       " <selenium.webdriver.remote.webelement.WebElement (session=\"8f1709cad8d28a7c529aedcbbc30c343\", element=\"6d80644b-0184-47e9-8898-b04f528e201c\")>,\n",
       " <selenium.webdriver.remote.webelement.WebElement (session=\"8f1709cad8d28a7c529aedcbbc30c343\", element=\"2e80846e-70b1-4379-9252-3d7ee1145be4\")>,\n",
       " <selenium.webdriver.remote.webelement.WebElement (session=\"8f1709cad8d28a7c529aedcbbc30c343\", element=\"460813fd-3e07-462f-90e4-c46b85533b7a\")>,\n",
       " <selenium.webdriver.remote.webelement.WebElement (session=\"8f1709cad8d28a7c529aedcbbc30c343\", element=\"9e0089b3-c6da-45ea-af36-d29db39b1da4\")>,\n",
       " <selenium.webdriver.remote.webelement.WebElement (session=\"8f1709cad8d28a7c529aedcbbc30c343\", element=\"8796f1e6-b886-4fb9-97b2-9aaf99e472a4\")>]"
      ]
     },
     "execution_count": 115,
     "metadata": {},
     "output_type": "execute_result"
    }
   ],
   "source": [
    "page_brand=driver.find_elements_by_xpath('//div[@class=\"_2WkVRV\"]')\n",
    "page_brand"
   ]
  },
  {
   "cell_type": "code",
   "execution_count": 116,
   "id": "6fee2e47",
   "metadata": {},
   "outputs": [
    {
     "data": {
      "text/plain": [
       "['CRYSTAL CART',\n",
       " 'VINCENT CHASE',\n",
       " 'GANSTA',\n",
       " 'GANSTA',\n",
       " 'Elligator',\n",
       " 'SRPM',\n",
       " 'SUNBEE',\n",
       " 'ROZZETTA CRAFT',\n",
       " 'SHAAH COLLECTIONS',\n",
       " 'Fastrack',\n",
       " 'New Specs',\n",
       " 'CRYSTAL CART',\n",
       " 'PIRASO',\n",
       " 'Poland',\n",
       " 'Poland',\n",
       " 'VILLAIN',\n",
       " 'Poland',\n",
       " 'Allzariworldwide',\n",
       " 'SUNBEE',\n",
       " 'ZOSTAL',\n",
       " 'SHAAH COLLECTIONS',\n",
       " 'agera',\n",
       " 'Fastrack',\n",
       " 'VINCENT CHASE',\n",
       " 'kingsunglasses',\n",
       " 'GANSTA',\n",
       " 'GANSTA',\n",
       " 'VINCENT CHASE',\n",
       " 'PHENOMENAL',\n",
       " 'PIRASO',\n",
       " 'Allzariworldwide',\n",
       " 'ROZZETTA CRAFT',\n",
       " 'Poland',\n",
       " 'Allzariworldwide',\n",
       " 'Allzariworldwide',\n",
       " 'VINCENT CHASE',\n",
       " 'PIRASO',\n",
       " 'ROZZETTA CRAFT',\n",
       " 'PHENOMENAL',\n",
       " 'VINCENT CHASE']"
      ]
     },
     "execution_count": 116,
     "metadata": {},
     "output_type": "execute_result"
    }
   ],
   "source": [
    "brand_name=[]\n",
    "for i in page_brand:\n",
    "    brand_name.append(i.text)\n",
    "    \n",
    "brand_name   "
   ]
  },
  {
   "cell_type": "code",
   "execution_count": 117,
   "id": "cc702653",
   "metadata": {},
   "outputs": [
    {
     "data": {
      "text/plain": [
       "[<selenium.webdriver.remote.webelement.WebElement (session=\"8f1709cad8d28a7c529aedcbbc30c343\", element=\"005500d4-9684-46f6-bb3f-ae0f990b4b5a\")>,\n",
       " <selenium.webdriver.remote.webelement.WebElement (session=\"8f1709cad8d28a7c529aedcbbc30c343\", element=\"6f0a7a9a-9dfa-4986-bd30-cbff0385772a\")>,\n",
       " <selenium.webdriver.remote.webelement.WebElement (session=\"8f1709cad8d28a7c529aedcbbc30c343\", element=\"441f4350-58ad-4e2a-b9ba-25a1814903c1\")>,\n",
       " <selenium.webdriver.remote.webelement.WebElement (session=\"8f1709cad8d28a7c529aedcbbc30c343\", element=\"d00af762-e3c3-474e-acd3-c2eb39d3b633\")>,\n",
       " <selenium.webdriver.remote.webelement.WebElement (session=\"8f1709cad8d28a7c529aedcbbc30c343\", element=\"cef8769c-af65-4b26-ab9b-d99590561f9d\")>,\n",
       " <selenium.webdriver.remote.webelement.WebElement (session=\"8f1709cad8d28a7c529aedcbbc30c343\", element=\"a63572ec-c0e1-4877-9938-cf246709ed3e\")>,\n",
       " <selenium.webdriver.remote.webelement.WebElement (session=\"8f1709cad8d28a7c529aedcbbc30c343\", element=\"418cbb19-6aa3-4ef5-aa54-3b93bbf56989\")>,\n",
       " <selenium.webdriver.remote.webelement.WebElement (session=\"8f1709cad8d28a7c529aedcbbc30c343\", element=\"d84305fd-bfd7-4e74-adb0-97957d354fec\")>,\n",
       " <selenium.webdriver.remote.webelement.WebElement (session=\"8f1709cad8d28a7c529aedcbbc30c343\", element=\"0e56ff0d-1a0b-4da2-9fa5-61a3a4a1ce4f\")>,\n",
       " <selenium.webdriver.remote.webelement.WebElement (session=\"8f1709cad8d28a7c529aedcbbc30c343\", element=\"6ba2a780-cf44-4cbb-b790-603980d63eef\")>,\n",
       " <selenium.webdriver.remote.webelement.WebElement (session=\"8f1709cad8d28a7c529aedcbbc30c343\", element=\"63251464-9009-4f8f-ac92-2c64331c450b\")>,\n",
       " <selenium.webdriver.remote.webelement.WebElement (session=\"8f1709cad8d28a7c529aedcbbc30c343\", element=\"efe62743-934a-4bd0-acff-ff950a33dba1\")>,\n",
       " <selenium.webdriver.remote.webelement.WebElement (session=\"8f1709cad8d28a7c529aedcbbc30c343\", element=\"0d5846c8-e0d9-4793-9941-38545440b7a5\")>,\n",
       " <selenium.webdriver.remote.webelement.WebElement (session=\"8f1709cad8d28a7c529aedcbbc30c343\", element=\"68a23106-8854-44fd-9964-8f13952fbea7\")>,\n",
       " <selenium.webdriver.remote.webelement.WebElement (session=\"8f1709cad8d28a7c529aedcbbc30c343\", element=\"e0d2b634-9777-47ae-ad09-6da2328b20e8\")>,\n",
       " <selenium.webdriver.remote.webelement.WebElement (session=\"8f1709cad8d28a7c529aedcbbc30c343\", element=\"0d8e7ff3-e996-4b29-92c3-6e9db6a7469e\")>,\n",
       " <selenium.webdriver.remote.webelement.WebElement (session=\"8f1709cad8d28a7c529aedcbbc30c343\", element=\"64e5f6b1-5dd3-4e26-8fa9-35e8dc0895f2\")>,\n",
       " <selenium.webdriver.remote.webelement.WebElement (session=\"8f1709cad8d28a7c529aedcbbc30c343\", element=\"6100503a-d873-4fa8-961c-ae40b6779429\")>,\n",
       " <selenium.webdriver.remote.webelement.WebElement (session=\"8f1709cad8d28a7c529aedcbbc30c343\", element=\"5bdbd273-3cff-41ce-abdd-1781ed29e8be\")>,\n",
       " <selenium.webdriver.remote.webelement.WebElement (session=\"8f1709cad8d28a7c529aedcbbc30c343\", element=\"7850d4b2-a85c-44fb-bfd7-2e2afaf506c5\")>,\n",
       " <selenium.webdriver.remote.webelement.WebElement (session=\"8f1709cad8d28a7c529aedcbbc30c343\", element=\"dbde9901-cdf6-4668-8d15-ed9315a898f7\")>,\n",
       " <selenium.webdriver.remote.webelement.WebElement (session=\"8f1709cad8d28a7c529aedcbbc30c343\", element=\"6bac211b-7723-4d3c-8621-808b1baaaf98\")>,\n",
       " <selenium.webdriver.remote.webelement.WebElement (session=\"8f1709cad8d28a7c529aedcbbc30c343\", element=\"d44e0e77-6fbf-482b-b1fb-5319e0e30ce8\")>,\n",
       " <selenium.webdriver.remote.webelement.WebElement (session=\"8f1709cad8d28a7c529aedcbbc30c343\", element=\"930daaa5-65bd-4645-90cd-f8ab8434f222\")>,\n",
       " <selenium.webdriver.remote.webelement.WebElement (session=\"8f1709cad8d28a7c529aedcbbc30c343\", element=\"aa8f0119-c1e4-4e13-b53a-81a4c72067a1\")>,\n",
       " <selenium.webdriver.remote.webelement.WebElement (session=\"8f1709cad8d28a7c529aedcbbc30c343\", element=\"0a27c529-920e-44de-8462-94e931673b73\")>,\n",
       " <selenium.webdriver.remote.webelement.WebElement (session=\"8f1709cad8d28a7c529aedcbbc30c343\", element=\"12d86956-1dd8-4894-8b65-06207c7a2571\")>,\n",
       " <selenium.webdriver.remote.webelement.WebElement (session=\"8f1709cad8d28a7c529aedcbbc30c343\", element=\"22644fb8-2758-46e8-a99b-4eecfc8eaed5\")>,\n",
       " <selenium.webdriver.remote.webelement.WebElement (session=\"8f1709cad8d28a7c529aedcbbc30c343\", element=\"3004b32f-368a-4e06-bc38-80c21ce1548d\")>,\n",
       " <selenium.webdriver.remote.webelement.WebElement (session=\"8f1709cad8d28a7c529aedcbbc30c343\", element=\"cf48b6d6-eaa1-484f-89e7-2f2a8f4df177\")>,\n",
       " <selenium.webdriver.remote.webelement.WebElement (session=\"8f1709cad8d28a7c529aedcbbc30c343\", element=\"f2c2410d-07b9-4d0e-a4d6-aa394b87aac2\")>,\n",
       " <selenium.webdriver.remote.webelement.WebElement (session=\"8f1709cad8d28a7c529aedcbbc30c343\", element=\"486c89d0-32ae-40f8-8ea8-ecec56ec23db\")>,\n",
       " <selenium.webdriver.remote.webelement.WebElement (session=\"8f1709cad8d28a7c529aedcbbc30c343\", element=\"c277516f-1e6b-4040-b076-d7e104f1d849\")>]"
      ]
     },
     "execution_count": 117,
     "metadata": {},
     "output_type": "execute_result"
    }
   ],
   "source": [
    "prdt_des=driver.find_elements_by_xpath('//a[@class=\"IRpwTa\"]')\n",
    "prdt_des"
   ]
  },
  {
   "cell_type": "code",
   "execution_count": 118,
   "id": "8c4ad7a2",
   "metadata": {},
   "outputs": [
    {
     "data": {
      "text/plain": [
       "33"
      ]
     },
     "execution_count": 118,
     "metadata": {},
     "output_type": "execute_result"
    }
   ],
   "source": [
    "len(prdt_des)"
   ]
  },
  {
   "cell_type": "code",
   "execution_count": 119,
   "id": "60c89d50",
   "metadata": {},
   "outputs": [
    {
     "data": {
      "text/plain": [
       "['Polarized, UV Protection, Gradient, Riding Glasses Rect...',\n",
       " 'by Lenskart Polarized, UV Protection Wayfarer Sunglasse...',\n",
       " 'UV Protection, Riding Glasses Wayfarer Sunglasses (53)',\n",
       " 'UV Protection Aviator Sunglasses (57)',\n",
       " 'UV Protection Round Sunglasses (54)',\n",
       " 'UV Protection Wayfarer Sunglasses (50)',\n",
       " 'UV Protection, Polarized Wayfarer Sunglasses (Free Size...',\n",
       " 'UV Protection, Riding Glasses Rectangular Sunglasses (F...',\n",
       " 'UV Protection, Polarized, Mirrored Rectangular Sunglass...',\n",
       " 'UV Protection Wayfarer Sunglasses (Free Size)',\n",
       " 'UV Protection Rectangular Sunglasses (Free Size)',\n",
       " 'Polarized, UV Protection, Mirrored, Gradient Rectangula...',\n",
       " 'UV Protection Aviator Sunglasses (54)',\n",
       " 'UV Protection Wayfarer Sunglasses (Free Size)',\n",
       " 'Others Retro Square Sunglasses (Free Size)',\n",
       " 'UV Protection, Polarized, Mirrored Round Sunglasses (Fr...',\n",
       " 'UV Protection Wrap-around Sunglasses (Free Size)',\n",
       " 'UV Protection, Polarized, Mirrored Rectangular Sunglass...',\n",
       " 'Gradient Aviator Sunglasses (55)',\n",
       " 'UV Protection Rectangular Sunglasses (Free Size)',\n",
       " 'by Lenskart Polarized, UV Protection Round Sunglasses (...',\n",
       " 'UV Protection Round Sunglasses (54)',\n",
       " 'UV Protection Aviator Sunglasses (57)',\n",
       " 'UV Protection, Riding Glasses Wayfarer Sunglasses (53)',\n",
       " 'by Lenskart Polarized, UV Protection Wayfarer Sunglasse...',\n",
       " 'UV Protection Retro Square Sunglasses (53)',\n",
       " 'UV Protection Aviator Sunglasses (54)',\n",
       " 'UV Protection, Gradient Rectangular Sunglasses (Free Si...',\n",
       " 'by Lenskart Polarized, UV Protection Round Sunglasses (...',\n",
       " 'UV Protection Aviator Sunglasses (54)',\n",
       " 'UV Protection, Gradient Rectangular Sunglasses (Free Si...',\n",
       " 'UV Protection Retro Square Sunglasses (Free Size)',\n",
       " 'by Lenskart Polarized, UV Protection Wayfarer Sunglasse...']"
      ]
     },
     "execution_count": 119,
     "metadata": {},
     "output_type": "execute_result"
    }
   ],
   "source": [
    "des_name=[]\n",
    "for i in prdt_des:\n",
    "    des_name.append(i.text)\n",
    "    \n",
    "des_name"
   ]
  },
  {
   "cell_type": "code",
   "execution_count": 121,
   "id": "6623db5d",
   "metadata": {},
   "outputs": [
    {
     "data": {
      "text/plain": [
       "[<selenium.webdriver.remote.webelement.WebElement (session=\"8f1709cad8d28a7c529aedcbbc30c343\", element=\"20ae7791-aaa4-4fad-8752-503c8c7913b3\")>,\n",
       " <selenium.webdriver.remote.webelement.WebElement (session=\"8f1709cad8d28a7c529aedcbbc30c343\", element=\"374bc1ca-c84e-4b0b-900a-6dc8969bb8ba\")>,\n",
       " <selenium.webdriver.remote.webelement.WebElement (session=\"8f1709cad8d28a7c529aedcbbc30c343\", element=\"8ddae661-2823-42cf-9d22-e9cd1934f311\")>,\n",
       " <selenium.webdriver.remote.webelement.WebElement (session=\"8f1709cad8d28a7c529aedcbbc30c343\", element=\"e19e152f-32b9-4927-a4be-3dc516cfa370\")>,\n",
       " <selenium.webdriver.remote.webelement.WebElement (session=\"8f1709cad8d28a7c529aedcbbc30c343\", element=\"6407f5af-f5d6-4304-ba44-b9f312127fe4\")>,\n",
       " <selenium.webdriver.remote.webelement.WebElement (session=\"8f1709cad8d28a7c529aedcbbc30c343\", element=\"7c123820-8c84-491e-8763-ec49cc5f2d12\")>,\n",
       " <selenium.webdriver.remote.webelement.WebElement (session=\"8f1709cad8d28a7c529aedcbbc30c343\", element=\"97075df5-857d-4b43-8459-4fff26aa3f41\")>,\n",
       " <selenium.webdriver.remote.webelement.WebElement (session=\"8f1709cad8d28a7c529aedcbbc30c343\", element=\"beffc8dd-164d-4fb4-8b59-5c688d4bccf0\")>,\n",
       " <selenium.webdriver.remote.webelement.WebElement (session=\"8f1709cad8d28a7c529aedcbbc30c343\", element=\"8fb388da-44f1-40fb-96f4-6d181d1a871c\")>,\n",
       " <selenium.webdriver.remote.webelement.WebElement (session=\"8f1709cad8d28a7c529aedcbbc30c343\", element=\"c8f051d8-352b-4607-b072-e05128394156\")>,\n",
       " <selenium.webdriver.remote.webelement.WebElement (session=\"8f1709cad8d28a7c529aedcbbc30c343\", element=\"c065edf1-7f43-411a-a9da-d722e5f9cb51\")>,\n",
       " <selenium.webdriver.remote.webelement.WebElement (session=\"8f1709cad8d28a7c529aedcbbc30c343\", element=\"26eee472-4091-4664-a059-c52dc3dd29b6\")>,\n",
       " <selenium.webdriver.remote.webelement.WebElement (session=\"8f1709cad8d28a7c529aedcbbc30c343\", element=\"2cc7f410-0c58-401e-9e06-35afa3d8e63f\")>,\n",
       " <selenium.webdriver.remote.webelement.WebElement (session=\"8f1709cad8d28a7c529aedcbbc30c343\", element=\"72999d99-8611-4557-ad9c-e9ab60f7c269\")>,\n",
       " <selenium.webdriver.remote.webelement.WebElement (session=\"8f1709cad8d28a7c529aedcbbc30c343\", element=\"b4320385-d730-4ea4-a069-66e28dc97d91\")>,\n",
       " <selenium.webdriver.remote.webelement.WebElement (session=\"8f1709cad8d28a7c529aedcbbc30c343\", element=\"4f72ea22-e665-47b7-a0e2-44f451adbb77\")>,\n",
       " <selenium.webdriver.remote.webelement.WebElement (session=\"8f1709cad8d28a7c529aedcbbc30c343\", element=\"15c248e0-cde8-4337-80f9-97cb8af50b19\")>,\n",
       " <selenium.webdriver.remote.webelement.WebElement (session=\"8f1709cad8d28a7c529aedcbbc30c343\", element=\"6c6ffbb2-cf25-430a-ade7-02538f041d73\")>,\n",
       " <selenium.webdriver.remote.webelement.WebElement (session=\"8f1709cad8d28a7c529aedcbbc30c343\", element=\"b8c190de-0fc3-447c-93f4-12500bece316\")>,\n",
       " <selenium.webdriver.remote.webelement.WebElement (session=\"8f1709cad8d28a7c529aedcbbc30c343\", element=\"9f3989ac-ca69-4742-b389-df7df4ba441f\")>,\n",
       " <selenium.webdriver.remote.webelement.WebElement (session=\"8f1709cad8d28a7c529aedcbbc30c343\", element=\"87e973fe-aa6f-4116-bf86-a8fdeb98d587\")>,\n",
       " <selenium.webdriver.remote.webelement.WebElement (session=\"8f1709cad8d28a7c529aedcbbc30c343\", element=\"e79502fc-44cb-48a2-9ddb-85ec628134f5\")>,\n",
       " <selenium.webdriver.remote.webelement.WebElement (session=\"8f1709cad8d28a7c529aedcbbc30c343\", element=\"8a410d8c-def0-4e62-a6c4-dc274a637760\")>,\n",
       " <selenium.webdriver.remote.webelement.WebElement (session=\"8f1709cad8d28a7c529aedcbbc30c343\", element=\"a571a5a8-8330-4eaf-bd9e-2932e14afbf7\")>,\n",
       " <selenium.webdriver.remote.webelement.WebElement (session=\"8f1709cad8d28a7c529aedcbbc30c343\", element=\"d837e309-81fe-46ca-8b1e-0705cf8bbc1e\")>,\n",
       " <selenium.webdriver.remote.webelement.WebElement (session=\"8f1709cad8d28a7c529aedcbbc30c343\", element=\"51126ccf-1e1f-456a-877c-9e5bddcb435f\")>,\n",
       " <selenium.webdriver.remote.webelement.WebElement (session=\"8f1709cad8d28a7c529aedcbbc30c343\", element=\"ad34a788-95cf-45b8-83e4-17e53326d45f\")>,\n",
       " <selenium.webdriver.remote.webelement.WebElement (session=\"8f1709cad8d28a7c529aedcbbc30c343\", element=\"fad46af7-0965-476f-ab0a-845eb7efeeaf\")>,\n",
       " <selenium.webdriver.remote.webelement.WebElement (session=\"8f1709cad8d28a7c529aedcbbc30c343\", element=\"efb1d75a-dd70-4761-84c6-b5512a7026ff\")>,\n",
       " <selenium.webdriver.remote.webelement.WebElement (session=\"8f1709cad8d28a7c529aedcbbc30c343\", element=\"dc085baa-3559-4dac-a7b4-6a7902c31891\")>,\n",
       " <selenium.webdriver.remote.webelement.WebElement (session=\"8f1709cad8d28a7c529aedcbbc30c343\", element=\"646c5f6f-dfc9-4272-8046-9fc94d20a732\")>,\n",
       " <selenium.webdriver.remote.webelement.WebElement (session=\"8f1709cad8d28a7c529aedcbbc30c343\", element=\"0bda113a-fff7-4be7-afff-e1cea46f3ce3\")>,\n",
       " <selenium.webdriver.remote.webelement.WebElement (session=\"8f1709cad8d28a7c529aedcbbc30c343\", element=\"5b948aae-80de-41e2-8ffd-162bf4d15803\")>,\n",
       " <selenium.webdriver.remote.webelement.WebElement (session=\"8f1709cad8d28a7c529aedcbbc30c343\", element=\"b7bb3d27-62f3-4b10-819c-f579e49c72cf\")>,\n",
       " <selenium.webdriver.remote.webelement.WebElement (session=\"8f1709cad8d28a7c529aedcbbc30c343\", element=\"456581df-2631-4dba-9d86-1fc07a3a4073\")>,\n",
       " <selenium.webdriver.remote.webelement.WebElement (session=\"8f1709cad8d28a7c529aedcbbc30c343\", element=\"550ea4be-3346-482a-953b-333f93a7a566\")>,\n",
       " <selenium.webdriver.remote.webelement.WebElement (session=\"8f1709cad8d28a7c529aedcbbc30c343\", element=\"46022685-05c6-447e-9f77-5cd96821dffb\")>,\n",
       " <selenium.webdriver.remote.webelement.WebElement (session=\"8f1709cad8d28a7c529aedcbbc30c343\", element=\"40fe8e55-8355-4be0-8f84-7612c72c04bb\")>,\n",
       " <selenium.webdriver.remote.webelement.WebElement (session=\"8f1709cad8d28a7c529aedcbbc30c343\", element=\"6daa4ac8-05ed-43d2-934f-cb0a4d8e0ebc\")>,\n",
       " <selenium.webdriver.remote.webelement.WebElement (session=\"8f1709cad8d28a7c529aedcbbc30c343\", element=\"1629d720-b81b-4ccc-b461-1c7bffe18a4a\")>]"
      ]
     },
     "execution_count": 121,
     "metadata": {},
     "output_type": "execute_result"
    }
   ],
   "source": [
    "price=driver.find_elements_by_xpath('//div[@class=\"_30jeq3\"]')\n",
    "price"
   ]
  },
  {
   "cell_type": "code",
   "execution_count": 122,
   "id": "addc8514",
   "metadata": {},
   "outputs": [
    {
     "data": {
      "text/plain": [
       "['₹229',\n",
       " '₹1,365',\n",
       " '₹159',\n",
       " '₹234',\n",
       " '₹198',\n",
       " '₹138',\n",
       " '₹193',\n",
       " '₹399',\n",
       " '₹115',\n",
       " '₹729',\n",
       " '₹184',\n",
       " '₹409',\n",
       " '₹179',\n",
       " '₹90',\n",
       " '₹354',\n",
       " '₹499',\n",
       " '₹72',\n",
       " '₹229',\n",
       " '₹221',\n",
       " '₹110',\n",
       " '₹131',\n",
       " '₹186',\n",
       " '₹579',\n",
       " '₹1,129',\n",
       " '₹136',\n",
       " '₹183',\n",
       " '₹199',\n",
       " '₹1,129',\n",
       " '₹215',\n",
       " '₹150',\n",
       " '₹199',\n",
       " '₹298',\n",
       " '₹399',\n",
       " '₹449',\n",
       " '₹249',\n",
       " '₹1,365',\n",
       " '₹150',\n",
       " '₹349',\n",
       " '₹259',\n",
       " '₹1,483']"
      ]
     },
     "execution_count": 122,
     "metadata": {},
     "output_type": "execute_result"
    }
   ],
   "source": [
    "price_name=[]\n",
    "for i in price:\n",
    "    price_name.append(i.text)\n",
    "    \n",
    "price_name"
   ]
  },
  {
   "cell_type": "code",
   "execution_count": 124,
   "id": "eed9145c",
   "metadata": {},
   "outputs": [],
   "source": [
    "next_page=driver.find_element_by_class_name('ge-49M')"
   ]
  },
  {
   "cell_type": "code",
   "execution_count": 125,
   "id": "b096c40e",
   "metadata": {},
   "outputs": [],
   "source": [
    "next_page.click()"
   ]
  },
  {
   "cell_type": "code",
   "execution_count": 126,
   "id": "71c30c43",
   "metadata": {},
   "outputs": [
    {
     "data": {
      "text/plain": [
       "[<selenium.webdriver.remote.webelement.WebElement (session=\"8f1709cad8d28a7c529aedcbbc30c343\", element=\"d5394427-60b3-47c9-b730-9c68b180c039\")>,\n",
       " <selenium.webdriver.remote.webelement.WebElement (session=\"8f1709cad8d28a7c529aedcbbc30c343\", element=\"23ea7407-0d6c-4b4a-847a-0d63b77b86ea\")>,\n",
       " <selenium.webdriver.remote.webelement.WebElement (session=\"8f1709cad8d28a7c529aedcbbc30c343\", element=\"e8d24145-538e-4d81-9980-41423fa64a91\")>,\n",
       " <selenium.webdriver.remote.webelement.WebElement (session=\"8f1709cad8d28a7c529aedcbbc30c343\", element=\"07a9b725-4417-4ce4-9e4b-80eeb1d08efe\")>,\n",
       " <selenium.webdriver.remote.webelement.WebElement (session=\"8f1709cad8d28a7c529aedcbbc30c343\", element=\"97685e54-c90a-4fcc-91f0-0089142de3a9\")>,\n",
       " <selenium.webdriver.remote.webelement.WebElement (session=\"8f1709cad8d28a7c529aedcbbc30c343\", element=\"afb7d547-b83f-4054-8368-6be411c6a373\")>,\n",
       " <selenium.webdriver.remote.webelement.WebElement (session=\"8f1709cad8d28a7c529aedcbbc30c343\", element=\"454bffaf-5db5-47b5-8b23-e9643161567d\")>,\n",
       " <selenium.webdriver.remote.webelement.WebElement (session=\"8f1709cad8d28a7c529aedcbbc30c343\", element=\"bc914778-b02c-4b73-bd6e-66659d0860f2\")>,\n",
       " <selenium.webdriver.remote.webelement.WebElement (session=\"8f1709cad8d28a7c529aedcbbc30c343\", element=\"25ec1d56-bcdc-472b-a61a-05fbe0022f75\")>,\n",
       " <selenium.webdriver.remote.webelement.WebElement (session=\"8f1709cad8d28a7c529aedcbbc30c343\", element=\"38353b20-3440-48e4-9c28-fd47a381c34c\")>,\n",
       " <selenium.webdriver.remote.webelement.WebElement (session=\"8f1709cad8d28a7c529aedcbbc30c343\", element=\"29b98fad-3b1c-4f53-9731-1e2056e9ff4e\")>,\n",
       " <selenium.webdriver.remote.webelement.WebElement (session=\"8f1709cad8d28a7c529aedcbbc30c343\", element=\"7ba2ed7c-ecb3-4969-a66d-0e19bcf9e996\")>,\n",
       " <selenium.webdriver.remote.webelement.WebElement (session=\"8f1709cad8d28a7c529aedcbbc30c343\", element=\"9f680056-51c0-4578-bbf4-4534c00cba2e\")>,\n",
       " <selenium.webdriver.remote.webelement.WebElement (session=\"8f1709cad8d28a7c529aedcbbc30c343\", element=\"409e8aba-6505-4355-a0dd-87ddaae50d2b\")>,\n",
       " <selenium.webdriver.remote.webelement.WebElement (session=\"8f1709cad8d28a7c529aedcbbc30c343\", element=\"af88d552-b542-41a8-84a1-350653f3d5fc\")>,\n",
       " <selenium.webdriver.remote.webelement.WebElement (session=\"8f1709cad8d28a7c529aedcbbc30c343\", element=\"af78721a-37ae-4303-869b-922630a51a44\")>,\n",
       " <selenium.webdriver.remote.webelement.WebElement (session=\"8f1709cad8d28a7c529aedcbbc30c343\", element=\"5c2ed155-5c3c-4488-a508-d36dfd7df1fc\")>,\n",
       " <selenium.webdriver.remote.webelement.WebElement (session=\"8f1709cad8d28a7c529aedcbbc30c343\", element=\"3726c459-ef05-4b43-b753-b45bd77f5b5c\")>,\n",
       " <selenium.webdriver.remote.webelement.WebElement (session=\"8f1709cad8d28a7c529aedcbbc30c343\", element=\"89eaa330-ac1a-4750-a602-d95d92347e21\")>,\n",
       " <selenium.webdriver.remote.webelement.WebElement (session=\"8f1709cad8d28a7c529aedcbbc30c343\", element=\"5de03b61-9efb-4bf0-9f95-0d0d3a7657d7\")>,\n",
       " <selenium.webdriver.remote.webelement.WebElement (session=\"8f1709cad8d28a7c529aedcbbc30c343\", element=\"f1ea0231-2ff2-45b7-96dc-1311f628ee28\")>,\n",
       " <selenium.webdriver.remote.webelement.WebElement (session=\"8f1709cad8d28a7c529aedcbbc30c343\", element=\"95a0c757-9358-4daf-b372-c6d9854e5c4a\")>,\n",
       " <selenium.webdriver.remote.webelement.WebElement (session=\"8f1709cad8d28a7c529aedcbbc30c343\", element=\"adc6176e-5ac9-4d7b-8df4-805c326a393e\")>,\n",
       " <selenium.webdriver.remote.webelement.WebElement (session=\"8f1709cad8d28a7c529aedcbbc30c343\", element=\"e060d996-6c2c-4673-b517-20f2d48e18ab\")>,\n",
       " <selenium.webdriver.remote.webelement.WebElement (session=\"8f1709cad8d28a7c529aedcbbc30c343\", element=\"3e858c2d-15b5-4804-b296-099719a6c421\")>,\n",
       " <selenium.webdriver.remote.webelement.WebElement (session=\"8f1709cad8d28a7c529aedcbbc30c343\", element=\"23d8619b-2bd2-4d32-bf0a-cdf862c62371\")>,\n",
       " <selenium.webdriver.remote.webelement.WebElement (session=\"8f1709cad8d28a7c529aedcbbc30c343\", element=\"d3884e8b-d9fe-428a-9657-98a7b7fc4008\")>,\n",
       " <selenium.webdriver.remote.webelement.WebElement (session=\"8f1709cad8d28a7c529aedcbbc30c343\", element=\"42d1bf98-582b-4d35-ba75-8d9780b080c9\")>,\n",
       " <selenium.webdriver.remote.webelement.WebElement (session=\"8f1709cad8d28a7c529aedcbbc30c343\", element=\"66dcbd17-5336-4ed3-8e86-b319a76a2b29\")>,\n",
       " <selenium.webdriver.remote.webelement.WebElement (session=\"8f1709cad8d28a7c529aedcbbc30c343\", element=\"06e5bdde-c8ed-43fb-a40f-f9105f07d83d\")>,\n",
       " <selenium.webdriver.remote.webelement.WebElement (session=\"8f1709cad8d28a7c529aedcbbc30c343\", element=\"6d40e90a-2687-482c-aedc-815947c0af01\")>,\n",
       " <selenium.webdriver.remote.webelement.WebElement (session=\"8f1709cad8d28a7c529aedcbbc30c343\", element=\"2cf711ed-3558-4cf8-89dd-e1ef428f6e92\")>,\n",
       " <selenium.webdriver.remote.webelement.WebElement (session=\"8f1709cad8d28a7c529aedcbbc30c343\", element=\"73389e78-d2b6-431d-8aee-1d4122320265\")>,\n",
       " <selenium.webdriver.remote.webelement.WebElement (session=\"8f1709cad8d28a7c529aedcbbc30c343\", element=\"e7dc3fa0-29bc-472a-ba34-80f044452936\")>,\n",
       " <selenium.webdriver.remote.webelement.WebElement (session=\"8f1709cad8d28a7c529aedcbbc30c343\", element=\"3410ef86-e2eb-4bd7-ab2e-60b4c22f5b7e\")>,\n",
       " <selenium.webdriver.remote.webelement.WebElement (session=\"8f1709cad8d28a7c529aedcbbc30c343\", element=\"78b90257-9d90-438e-bd32-912aacf91f99\")>,\n",
       " <selenium.webdriver.remote.webelement.WebElement (session=\"8f1709cad8d28a7c529aedcbbc30c343\", element=\"728ae371-91ba-4eb9-a4a9-d33747e05e79\")>,\n",
       " <selenium.webdriver.remote.webelement.WebElement (session=\"8f1709cad8d28a7c529aedcbbc30c343\", element=\"c5838fa8-ce0c-45f5-9e49-57f2873c4df4\")>,\n",
       " <selenium.webdriver.remote.webelement.WebElement (session=\"8f1709cad8d28a7c529aedcbbc30c343\", element=\"419ff380-8998-4d76-a181-cf19c923bb64\")>,\n",
       " <selenium.webdriver.remote.webelement.WebElement (session=\"8f1709cad8d28a7c529aedcbbc30c343\", element=\"397d6e13-e5f6-446b-9613-d0744fe53026\")>]"
      ]
     },
     "execution_count": 126,
     "metadata": {},
     "output_type": "execute_result"
    }
   ],
   "source": [
    "page2_glass=driver.find_elements_by_xpath('//div[@class=\"_2WkVRV\"]')\n",
    "page2_glass"
   ]
  },
  {
   "cell_type": "code",
   "execution_count": 127,
   "id": "e294f6cd",
   "metadata": {},
   "outputs": [
    {
     "data": {
      "text/plain": [
       "['Resist',\n",
       " 'ROZZETTA CRAFT',\n",
       " 'GANSTA',\n",
       " 'GANSTA',\n",
       " 'Elligator',\n",
       " 'SRPM',\n",
       " 'SUNBEE',\n",
       " 'VINCENT CHASE',\n",
       " 'SHAAH COLLECTIONS',\n",
       " 'Fastrack',\n",
       " 'New Specs',\n",
       " 'VINCENT CHASE',\n",
       " 'PIRASO',\n",
       " 'Poland',\n",
       " 'Poland',\n",
       " 'ROYAL SON',\n",
       " 'Poland',\n",
       " 'Allzariworldwide',\n",
       " 'SUNBEE',\n",
       " 'New Specs',\n",
       " 'SHAAH COLLECTIONS',\n",
       " 'agera',\n",
       " 'Fastrack',\n",
       " 'CRYSTAL CART',\n",
       " 'kingsunglasses',\n",
       " 'GANSTA',\n",
       " 'GANSTA',\n",
       " 'VINCENT CHASE',\n",
       " 'PHENOMENAL',\n",
       " 'PIRASO',\n",
       " 'Allzariworldwide',\n",
       " 'VINCENT CHASE',\n",
       " 'Poland',\n",
       " 'Allzariworldwide',\n",
       " 'Allzariworldwide',\n",
       " 'VINCENT CHASE',\n",
       " 'PIRASO',\n",
       " 'ROZZETTA CRAFT',\n",
       " 'PHENOMENAL',\n",
       " 'VINCENT CHASE']"
      ]
     },
     "execution_count": 127,
     "metadata": {},
     "output_type": "execute_result"
    }
   ],
   "source": [
    "page2_brand=[]\n",
    "for i in page2_glass:\n",
    "    page2_brand.append(i.text)\n",
    "    \n",
    "page2_brand"
   ]
  },
  {
   "cell_type": "code",
   "execution_count": 129,
   "id": "88eacf8f",
   "metadata": {},
   "outputs": [
    {
     "data": {
      "text/plain": [
       "[<selenium.webdriver.remote.webelement.WebElement (session=\"8f1709cad8d28a7c529aedcbbc30c343\", element=\"8afcd7a7-94bc-4ab7-8464-468b6674d763\")>,\n",
       " <selenium.webdriver.remote.webelement.WebElement (session=\"8f1709cad8d28a7c529aedcbbc30c343\", element=\"48520bff-abda-4f9b-9c42-9439fb8f30f9\")>,\n",
       " <selenium.webdriver.remote.webelement.WebElement (session=\"8f1709cad8d28a7c529aedcbbc30c343\", element=\"4cc535a8-e9d0-4a6e-b0df-fee3645f5dc0\")>,\n",
       " <selenium.webdriver.remote.webelement.WebElement (session=\"8f1709cad8d28a7c529aedcbbc30c343\", element=\"55703415-6758-40b7-890a-992467274f06\")>,\n",
       " <selenium.webdriver.remote.webelement.WebElement (session=\"8f1709cad8d28a7c529aedcbbc30c343\", element=\"4854926b-620b-41f9-8009-dba382da344c\")>,\n",
       " <selenium.webdriver.remote.webelement.WebElement (session=\"8f1709cad8d28a7c529aedcbbc30c343\", element=\"67b2f8c4-a37a-40e3-acad-39dc6700ce11\")>,\n",
       " <selenium.webdriver.remote.webelement.WebElement (session=\"8f1709cad8d28a7c529aedcbbc30c343\", element=\"e115b6f8-4ab7-4885-ad25-ffc8c663c142\")>,\n",
       " <selenium.webdriver.remote.webelement.WebElement (session=\"8f1709cad8d28a7c529aedcbbc30c343\", element=\"79a9244e-40d7-4641-bcc6-6e30c6b2ec99\")>,\n",
       " <selenium.webdriver.remote.webelement.WebElement (session=\"8f1709cad8d28a7c529aedcbbc30c343\", element=\"1fb12257-30bc-4b4c-b41d-786c1d46f783\")>,\n",
       " <selenium.webdriver.remote.webelement.WebElement (session=\"8f1709cad8d28a7c529aedcbbc30c343\", element=\"c6224bc4-9e25-4ad5-8c11-92ebbd26b169\")>,\n",
       " <selenium.webdriver.remote.webelement.WebElement (session=\"8f1709cad8d28a7c529aedcbbc30c343\", element=\"aa413b42-74c4-4a34-9cff-6401e216711f\")>,\n",
       " <selenium.webdriver.remote.webelement.WebElement (session=\"8f1709cad8d28a7c529aedcbbc30c343\", element=\"4624a1e6-a6ca-4ca1-9679-d53de6bbb81f\")>,\n",
       " <selenium.webdriver.remote.webelement.WebElement (session=\"8f1709cad8d28a7c529aedcbbc30c343\", element=\"87745e57-e447-4514-b339-9f233aa71d87\")>,\n",
       " <selenium.webdriver.remote.webelement.WebElement (session=\"8f1709cad8d28a7c529aedcbbc30c343\", element=\"b6c24c5f-a3b3-435b-9ea4-d962035799af\")>,\n",
       " <selenium.webdriver.remote.webelement.WebElement (session=\"8f1709cad8d28a7c529aedcbbc30c343\", element=\"de8a3e90-26ff-4aa7-a15e-835f74745806\")>,\n",
       " <selenium.webdriver.remote.webelement.WebElement (session=\"8f1709cad8d28a7c529aedcbbc30c343\", element=\"89a951cb-3411-4330-9389-7069a4c5088e\")>,\n",
       " <selenium.webdriver.remote.webelement.WebElement (session=\"8f1709cad8d28a7c529aedcbbc30c343\", element=\"2e72985f-e92a-49c3-b3b2-3edc615f0629\")>,\n",
       " <selenium.webdriver.remote.webelement.WebElement (session=\"8f1709cad8d28a7c529aedcbbc30c343\", element=\"91b9e547-5411-4553-9334-5dd5509b475d\")>,\n",
       " <selenium.webdriver.remote.webelement.WebElement (session=\"8f1709cad8d28a7c529aedcbbc30c343\", element=\"a0da9fad-90a4-4d83-9164-3dda3afed43b\")>,\n",
       " <selenium.webdriver.remote.webelement.WebElement (session=\"8f1709cad8d28a7c529aedcbbc30c343\", element=\"ca2ada38-a57a-46a3-9450-1f8e6f18bc52\")>,\n",
       " <selenium.webdriver.remote.webelement.WebElement (session=\"8f1709cad8d28a7c529aedcbbc30c343\", element=\"24cb0bb6-4519-444a-86d7-4c12455fdb02\")>,\n",
       " <selenium.webdriver.remote.webelement.WebElement (session=\"8f1709cad8d28a7c529aedcbbc30c343\", element=\"ef3cd38f-5867-400a-b866-8f41e7ced659\")>,\n",
       " <selenium.webdriver.remote.webelement.WebElement (session=\"8f1709cad8d28a7c529aedcbbc30c343\", element=\"a7f48853-131a-46a4-8739-13e4debbe2a3\")>,\n",
       " <selenium.webdriver.remote.webelement.WebElement (session=\"8f1709cad8d28a7c529aedcbbc30c343\", element=\"4e3258a5-4c5b-46d3-915e-5b6a4d3d51b1\")>,\n",
       " <selenium.webdriver.remote.webelement.WebElement (session=\"8f1709cad8d28a7c529aedcbbc30c343\", element=\"b7bd184f-7312-4981-bb10-faf77392efc7\")>,\n",
       " <selenium.webdriver.remote.webelement.WebElement (session=\"8f1709cad8d28a7c529aedcbbc30c343\", element=\"6b8d2b39-dc5b-4871-9c74-798c5647e3a4\")>,\n",
       " <selenium.webdriver.remote.webelement.WebElement (session=\"8f1709cad8d28a7c529aedcbbc30c343\", element=\"b2a11a58-93d9-4bd3-80b2-84cd0ae900c5\")>,\n",
       " <selenium.webdriver.remote.webelement.WebElement (session=\"8f1709cad8d28a7c529aedcbbc30c343\", element=\"99be289b-997e-4755-b897-3a507fc2ed08\")>,\n",
       " <selenium.webdriver.remote.webelement.WebElement (session=\"8f1709cad8d28a7c529aedcbbc30c343\", element=\"a2324b19-112b-4817-9fc9-fc91b1c53289\")>,\n",
       " <selenium.webdriver.remote.webelement.WebElement (session=\"8f1709cad8d28a7c529aedcbbc30c343\", element=\"dc546cb3-905e-4324-93fd-acfd63127181\")>,\n",
       " <selenium.webdriver.remote.webelement.WebElement (session=\"8f1709cad8d28a7c529aedcbbc30c343\", element=\"f6dd6e9c-9887-474f-9e70-248600661fee\")>,\n",
       " <selenium.webdriver.remote.webelement.WebElement (session=\"8f1709cad8d28a7c529aedcbbc30c343\", element=\"6034e4c4-7a73-47f7-b27b-8feee26a1e98\")>]"
      ]
     },
     "execution_count": 129,
     "metadata": {},
     "output_type": "execute_result"
    }
   ],
   "source": [
    "prdt2_des=driver.find_elements_by_xpath('//a[@class=\"IRpwTa\"]')\n",
    "prdt2_des"
   ]
  },
  {
   "cell_type": "code",
   "execution_count": 130,
   "id": "1f38d46c",
   "metadata": {},
   "outputs": [
    {
     "data": {
      "text/plain": [
       "['UV Protection, Riding Glasses, Toughened Glass Lens, Gr...',\n",
       " 'UV Protection Spectacle Sunglasses (Free Size)',\n",
       " 'UV Protection, Riding Glasses Wayfarer Sunglasses (53)',\n",
       " 'UV Protection Aviator Sunglasses (57)',\n",
       " 'UV Protection Round Sunglasses (54)',\n",
       " 'UV Protection Wayfarer Sunglasses (50)',\n",
       " 'UV Protection, Polarized Wayfarer Sunglasses (Free Size...',\n",
       " 'by Lenskart Polarized, UV Protection Wayfarer Sunglasse...',\n",
       " 'UV Protection, Polarized, Mirrored Rectangular Sunglass...',\n",
       " 'UV Protection Wayfarer Sunglasses (Free Size)',\n",
       " 'UV Protection Rectangular Sunglasses (Free Size)',\n",
       " 'by Lenskart UV Protection Round Sunglasses (48)',\n",
       " 'UV Protection Aviator Sunglasses (54)',\n",
       " 'UV Protection Wayfarer Sunglasses (Free Size)',\n",
       " 'UV Protection, Polarized, Mirrored Round Sunglasses (Fr...',\n",
       " 'UV Protection Rectangular Sunglasses (Free Size)',\n",
       " 'UV Protection, Polarized, Mirrored Rectangular Sunglass...',\n",
       " 'Gradient Aviator Sunglasses (55)',\n",
       " 'UV Protection Rectangular Sunglasses (Free Size)',\n",
       " 'Polarized, UV Protection, Gradient, Riding Glasses Oval...',\n",
       " 'UV Protection Round Sunglasses (54)',\n",
       " 'UV Protection Aviator Sunglasses (57)',\n",
       " 'UV Protection, Riding Glasses Wayfarer Sunglasses (53)',\n",
       " 'by Lenskart Polarized, UV Protection Round Sunglasses (...',\n",
       " 'UV Protection Retro Square Sunglasses (53)',\n",
       " 'UV Protection Aviator Sunglasses (54)',\n",
       " 'by Lenskart Polarized, UV Protection Round Sunglasses (...',\n",
       " 'by Lenskart Polarized, UV Protection Wayfarer Sunglasse...',\n",
       " 'UV Protection Aviator Sunglasses (54)',\n",
       " 'UV Protection, Gradient Rectangular Sunglasses (Free Si...',\n",
       " 'UV Protection Retro Square Sunglasses (Free Size)',\n",
       " 'by Lenskart Polarized, UV Protection Wayfarer Sunglasse...']"
      ]
     },
     "execution_count": 130,
     "metadata": {},
     "output_type": "execute_result"
    }
   ],
   "source": [
    "des_name=[]\n",
    "for i in prdt2_des:\n",
    "    des_name.append(i.text)\n",
    "    \n",
    "des_name"
   ]
  },
  {
   "cell_type": "code",
   "execution_count": 131,
   "id": "52de9e57",
   "metadata": {},
   "outputs": [
    {
     "data": {
      "text/plain": [
       "[<selenium.webdriver.remote.webelement.WebElement (session=\"8f1709cad8d28a7c529aedcbbc30c343\", element=\"8f2304d4-e379-4b53-ae85-ea00c962a687\")>,\n",
       " <selenium.webdriver.remote.webelement.WebElement (session=\"8f1709cad8d28a7c529aedcbbc30c343\", element=\"23d17437-17ea-4f13-a2e7-98f18b5302ef\")>,\n",
       " <selenium.webdriver.remote.webelement.WebElement (session=\"8f1709cad8d28a7c529aedcbbc30c343\", element=\"a1481c61-056e-4ea0-852f-9b9d891a6632\")>,\n",
       " <selenium.webdriver.remote.webelement.WebElement (session=\"8f1709cad8d28a7c529aedcbbc30c343\", element=\"6de0e7d8-fbf1-4228-8d74-911ce07d8eba\")>,\n",
       " <selenium.webdriver.remote.webelement.WebElement (session=\"8f1709cad8d28a7c529aedcbbc30c343\", element=\"d964a40a-a9fd-4690-9329-74c7fbf62768\")>,\n",
       " <selenium.webdriver.remote.webelement.WebElement (session=\"8f1709cad8d28a7c529aedcbbc30c343\", element=\"3d4a1542-8770-4891-987f-3ee1acd28e80\")>,\n",
       " <selenium.webdriver.remote.webelement.WebElement (session=\"8f1709cad8d28a7c529aedcbbc30c343\", element=\"b6f1f903-d41b-4d79-b301-57fb27e99522\")>,\n",
       " <selenium.webdriver.remote.webelement.WebElement (session=\"8f1709cad8d28a7c529aedcbbc30c343\", element=\"c96be049-2b56-45ed-8483-e6d541a8f3b5\")>,\n",
       " <selenium.webdriver.remote.webelement.WebElement (session=\"8f1709cad8d28a7c529aedcbbc30c343\", element=\"57fcf799-2b4c-439d-8cb7-6e9d1833031d\")>,\n",
       " <selenium.webdriver.remote.webelement.WebElement (session=\"8f1709cad8d28a7c529aedcbbc30c343\", element=\"66a9561d-8247-4f3e-846b-5d73650cf545\")>,\n",
       " <selenium.webdriver.remote.webelement.WebElement (session=\"8f1709cad8d28a7c529aedcbbc30c343\", element=\"8397d8a7-1d8a-4d53-8779-4e2bc6d8a43c\")>,\n",
       " <selenium.webdriver.remote.webelement.WebElement (session=\"8f1709cad8d28a7c529aedcbbc30c343\", element=\"36ee985a-c9ac-42d8-9a68-57df2845feef\")>,\n",
       " <selenium.webdriver.remote.webelement.WebElement (session=\"8f1709cad8d28a7c529aedcbbc30c343\", element=\"6a3dd8e7-7488-4efc-8651-e01c87e66cef\")>,\n",
       " <selenium.webdriver.remote.webelement.WebElement (session=\"8f1709cad8d28a7c529aedcbbc30c343\", element=\"f1a62312-92b8-4f43-86f1-c4d3e63d2b2a\")>,\n",
       " <selenium.webdriver.remote.webelement.WebElement (session=\"8f1709cad8d28a7c529aedcbbc30c343\", element=\"6b3c286d-fda3-4075-a691-41e87f3c89dc\")>,\n",
       " <selenium.webdriver.remote.webelement.WebElement (session=\"8f1709cad8d28a7c529aedcbbc30c343\", element=\"61e4f049-f291-4ed4-aa44-6435bee1af64\")>,\n",
       " <selenium.webdriver.remote.webelement.WebElement (session=\"8f1709cad8d28a7c529aedcbbc30c343\", element=\"e98d63e3-963c-41b8-a9d0-ad1857b555ad\")>,\n",
       " <selenium.webdriver.remote.webelement.WebElement (session=\"8f1709cad8d28a7c529aedcbbc30c343\", element=\"8bca3129-6756-4704-9e5d-1f4c2051c237\")>,\n",
       " <selenium.webdriver.remote.webelement.WebElement (session=\"8f1709cad8d28a7c529aedcbbc30c343\", element=\"6f6a5317-4358-402a-b284-8d9d2b8bc58a\")>,\n",
       " <selenium.webdriver.remote.webelement.WebElement (session=\"8f1709cad8d28a7c529aedcbbc30c343\", element=\"f9fc588f-6c76-4a8e-b9e7-1e926048c7d0\")>,\n",
       " <selenium.webdriver.remote.webelement.WebElement (session=\"8f1709cad8d28a7c529aedcbbc30c343\", element=\"857bb7e6-f684-4897-a969-ed04ec1fcf91\")>,\n",
       " <selenium.webdriver.remote.webelement.WebElement (session=\"8f1709cad8d28a7c529aedcbbc30c343\", element=\"4b7e07a3-6eca-4fee-99e9-8eac867b571c\")>,\n",
       " <selenium.webdriver.remote.webelement.WebElement (session=\"8f1709cad8d28a7c529aedcbbc30c343\", element=\"cfb18aa9-7fa6-4b0c-b03f-5b266f4c8fa5\")>,\n",
       " <selenium.webdriver.remote.webelement.WebElement (session=\"8f1709cad8d28a7c529aedcbbc30c343\", element=\"c101fd65-a983-4853-9f16-c329d320b41f\")>,\n",
       " <selenium.webdriver.remote.webelement.WebElement (session=\"8f1709cad8d28a7c529aedcbbc30c343\", element=\"02195efb-f123-4f07-96de-18494e534118\")>,\n",
       " <selenium.webdriver.remote.webelement.WebElement (session=\"8f1709cad8d28a7c529aedcbbc30c343\", element=\"b2a48636-9d22-466f-87ab-114b9119cd3e\")>,\n",
       " <selenium.webdriver.remote.webelement.WebElement (session=\"8f1709cad8d28a7c529aedcbbc30c343\", element=\"f6b947fa-5420-4376-a52e-628398e6fd14\")>,\n",
       " <selenium.webdriver.remote.webelement.WebElement (session=\"8f1709cad8d28a7c529aedcbbc30c343\", element=\"a0a47326-3748-476a-a879-b830f986ae1b\")>,\n",
       " <selenium.webdriver.remote.webelement.WebElement (session=\"8f1709cad8d28a7c529aedcbbc30c343\", element=\"3f24ba7a-5e92-4e6d-87a8-0bc0310c732c\")>,\n",
       " <selenium.webdriver.remote.webelement.WebElement (session=\"8f1709cad8d28a7c529aedcbbc30c343\", element=\"2ceb7e61-6694-4f1f-9dcf-57a7d074c7f4\")>,\n",
       " <selenium.webdriver.remote.webelement.WebElement (session=\"8f1709cad8d28a7c529aedcbbc30c343\", element=\"cf3c7b2c-eb3e-4418-84e2-6d9f0780f9f8\")>,\n",
       " <selenium.webdriver.remote.webelement.WebElement (session=\"8f1709cad8d28a7c529aedcbbc30c343\", element=\"0709ef1d-2a2c-46bb-8545-bedc443d2917\")>,\n",
       " <selenium.webdriver.remote.webelement.WebElement (session=\"8f1709cad8d28a7c529aedcbbc30c343\", element=\"80a6da78-a847-4f54-80cf-a6d0c4fad28b\")>,\n",
       " <selenium.webdriver.remote.webelement.WebElement (session=\"8f1709cad8d28a7c529aedcbbc30c343\", element=\"3558a455-0872-49bd-a850-2a752ba404b8\")>,\n",
       " <selenium.webdriver.remote.webelement.WebElement (session=\"8f1709cad8d28a7c529aedcbbc30c343\", element=\"2f1bf5f8-28ce-4c6a-886f-cede966bcdec\")>,\n",
       " <selenium.webdriver.remote.webelement.WebElement (session=\"8f1709cad8d28a7c529aedcbbc30c343\", element=\"e24461ac-7ea9-4904-b042-397057960600\")>,\n",
       " <selenium.webdriver.remote.webelement.WebElement (session=\"8f1709cad8d28a7c529aedcbbc30c343\", element=\"d6ccb6d1-409d-4f95-87e8-ea512754df55\")>,\n",
       " <selenium.webdriver.remote.webelement.WebElement (session=\"8f1709cad8d28a7c529aedcbbc30c343\", element=\"3189a1ca-81e5-4124-b177-965722a2591d\")>,\n",
       " <selenium.webdriver.remote.webelement.WebElement (session=\"8f1709cad8d28a7c529aedcbbc30c343\", element=\"ae2a91f1-41e0-498d-b6a1-4984a51d5436\")>,\n",
       " <selenium.webdriver.remote.webelement.WebElement (session=\"8f1709cad8d28a7c529aedcbbc30c343\", element=\"f2b99b9c-f482-44b8-b1e5-cd3e8a94fff3\")>]"
      ]
     },
     "execution_count": 131,
     "metadata": {},
     "output_type": "execute_result"
    }
   ],
   "source": [
    "price=driver.find_elements_by_xpath('//div[@class=\"_30jeq3\"]')\n",
    "price"
   ]
  },
  {
   "cell_type": "code",
   "execution_count": 132,
   "id": "bb6d19e1",
   "metadata": {},
   "outputs": [
    {
     "data": {
      "text/plain": [
       "['₹769',\n",
       " '₹399',\n",
       " '₹159',\n",
       " '₹234',\n",
       " '₹198',\n",
       " '₹138',\n",
       " '₹193',\n",
       " '₹1,365',\n",
       " '₹115',\n",
       " '₹729',\n",
       " '₹184',\n",
       " '₹1,365',\n",
       " '₹179',\n",
       " '₹90',\n",
       " '₹354',\n",
       " '₹614',\n",
       " '₹72',\n",
       " '₹229',\n",
       " '₹221',\n",
       " '₹128',\n",
       " '₹131',\n",
       " '₹186',\n",
       " '₹579',\n",
       " '₹239',\n",
       " '₹136',\n",
       " '₹183',\n",
       " '₹199',\n",
       " '₹1,365',\n",
       " '₹215',\n",
       " '₹150',\n",
       " '₹199',\n",
       " '₹1,365',\n",
       " '₹399',\n",
       " '₹449',\n",
       " '₹249',\n",
       " '₹1,365',\n",
       " '₹150',\n",
       " '₹349',\n",
       " '₹259',\n",
       " '₹1,365']"
      ]
     },
     "execution_count": 132,
     "metadata": {},
     "output_type": "execute_result"
    }
   ],
   "source": [
    "price_name=[]\n",
    "for i in price:\n",
    "    price_name.append(i.text)\n",
    "    \n",
    "price_name"
   ]
  },
  {
   "cell_type": "code",
   "execution_count": null,
   "id": "834d217f",
   "metadata": {},
   "outputs": [],
   "source": [
    "QUESTION 5"
   ]
  },
  {
   "cell_type": "code",
   "execution_count": 133,
   "id": "831bcf12",
   "metadata": {},
   "outputs": [],
   "source": [
    "driver=webdriver.Chrome('chromedriver.exe')"
   ]
  },
  {
   "cell_type": "code",
   "execution_count": 134,
   "id": "f019d245",
   "metadata": {},
   "outputs": [],
   "source": [
    "url='http://www.flipkart.com/apple-iphone-11-black-64-gb-includes-earpods-power-'\n",
    "driver.get(url)"
   ]
  },
  {
   "cell_type": "code",
   "execution_count": null,
   "id": "a1a61961",
   "metadata": {},
   "outputs": [],
   "source": [
    "#The given above Link is not opening in 'automated tested chrome' it shows that the given page is unfortunately moved or deleted so cannot scrap the data by flipcart link. "
   ]
  },
  {
   "cell_type": "code",
   "execution_count": null,
   "id": "d916ec9d",
   "metadata": {},
   "outputs": [],
   "source": [
    "QUESTION 6"
   ]
  },
  {
   "cell_type": "code",
   "execution_count": 135,
   "id": "8cdd876d",
   "metadata": {},
   "outputs": [],
   "source": [
    "driver=webdriver.Chrome('chromedriver.exe')"
   ]
  },
  {
   "cell_type": "code",
   "execution_count": 136,
   "id": "2ec3c90a",
   "metadata": {},
   "outputs": [],
   "source": [
    "url='https://www.flipkart.com/'\n",
    "driver.get(url)"
   ]
  },
  {
   "cell_type": "code",
   "execution_count": 137,
   "id": "ca5ebe73",
   "metadata": {},
   "outputs": [
    {
     "data": {
      "text/plain": [
       "<selenium.webdriver.remote.webelement.WebElement (session=\"a621cb1a50f6198ecce32440a2283710\", element=\"497f21eb-5a6a-4857-a8e7-b7e551acaa1f\")>"
      ]
     },
     "execution_count": 137,
     "metadata": {},
     "output_type": "execute_result"
    }
   ],
   "source": [
    "search_sneaker = driver.find_element_by_class_name('_3704LK')\n",
    "search_sneaker"
   ]
  },
  {
   "cell_type": "code",
   "execution_count": 138,
   "id": "29a8f4bc",
   "metadata": {},
   "outputs": [],
   "source": [
    "search_sneaker.send_keys('sneakers')"
   ]
  },
  {
   "cell_type": "code",
   "execution_count": 140,
   "id": "185fd0b4",
   "metadata": {},
   "outputs": [
    {
     "data": {
      "text/plain": [
       "<selenium.webdriver.remote.webelement.WebElement (session=\"a621cb1a50f6198ecce32440a2283710\", element=\"ee904731-f47d-4a30-aa91-7eebf624d168\")>"
      ]
     },
     "execution_count": 140,
     "metadata": {},
     "output_type": "execute_result"
    }
   ],
   "source": [
    "search_btn = driver.find_element_by_class_name(\"L0Z3Pu\")\n",
    "search_btn"
   ]
  },
  {
   "cell_type": "code",
   "execution_count": 141,
   "id": "0a0a44dd",
   "metadata": {},
   "outputs": [
    {
     "ename": "ElementNotInteractableException",
     "evalue": "Message: element not interactable\n  (Session info: chrome=98.0.4758.102)\nStacktrace:\nBacktrace:\n\tOrdinal0 [0x008169A3+2582947]\n\tOrdinal0 [0x007AA6D1+2139857]\n\tOrdinal0 [0x006A3960+1063264]\n\tOrdinal0 [0x006D0E4E+1248846]\n\tOrdinal0 [0x006C6B53+1207123]\n\tOrdinal0 [0x006E854C+1344844]\n\tOrdinal0 [0x006C6524+1205540]\n\tOrdinal0 [0x006E86A4+1345188]\n\tOrdinal0 [0x006F834A+1409866]\n\tOrdinal0 [0x006E8366+1344358]\n\tOrdinal0 [0x006C5176+1200502]\n\tOrdinal0 [0x006C6066+1204326]\n\tGetHandleVerifier [0x009BBE02+1675858]\n\tGetHandleVerifier [0x00A7036C+2414524]\n\tGetHandleVerifier [0x008ABB01+560977]\n\tGetHandleVerifier [0x008AA8D3+556323]\n\tOrdinal0 [0x007B020E+2163214]\n\tOrdinal0 [0x007B5078+2183288]\n\tOrdinal0 [0x007B51C0+2183616]\n\tOrdinal0 [0x007BEE1C+2223644]\n\tBaseThreadInitThunk [0x76006739+25]\n\tRtlGetFullPathName_UEx [0x76F18E7F+1215]\n\tRtlGetFullPathName_UEx [0x76F18E4D+1165]\n",
     "output_type": "error",
     "traceback": [
      "\u001b[1;31m---------------------------------------------------------------------------\u001b[0m",
      "\u001b[1;31mElementNotInteractableException\u001b[0m           Traceback (most recent call last)",
      "\u001b[1;32m<ipython-input-141-de9dba617963>\u001b[0m in \u001b[0;36m<module>\u001b[1;34m\u001b[0m\n\u001b[1;32m----> 1\u001b[1;33m \u001b[0msearch_btn\u001b[0m\u001b[1;33m.\u001b[0m\u001b[0mclick\u001b[0m\u001b[1;33m(\u001b[0m\u001b[1;33m)\u001b[0m\u001b[1;33m\u001b[0m\u001b[1;33m\u001b[0m\u001b[0m\n\u001b[0m",
      "\u001b[1;32mC:\\ProgramData\\Anaconda3\\lib\\site-packages\\selenium\\webdriver\\remote\\webelement.py\u001b[0m in \u001b[0;36mclick\u001b[1;34m(self)\u001b[0m\n\u001b[0;32m     79\u001b[0m     \u001b[1;32mdef\u001b[0m \u001b[0mclick\u001b[0m\u001b[1;33m(\u001b[0m\u001b[0mself\u001b[0m\u001b[1;33m)\u001b[0m \u001b[1;33m->\u001b[0m \u001b[1;32mNone\u001b[0m\u001b[1;33m:\u001b[0m\u001b[1;33m\u001b[0m\u001b[1;33m\u001b[0m\u001b[0m\n\u001b[0;32m     80\u001b[0m         \u001b[1;34m\"\"\"Clicks the element.\"\"\"\u001b[0m\u001b[1;33m\u001b[0m\u001b[1;33m\u001b[0m\u001b[0m\n\u001b[1;32m---> 81\u001b[1;33m         \u001b[0mself\u001b[0m\u001b[1;33m.\u001b[0m\u001b[0m_execute\u001b[0m\u001b[1;33m(\u001b[0m\u001b[0mCommand\u001b[0m\u001b[1;33m.\u001b[0m\u001b[0mCLICK_ELEMENT\u001b[0m\u001b[1;33m)\u001b[0m\u001b[1;33m\u001b[0m\u001b[1;33m\u001b[0m\u001b[0m\n\u001b[0m\u001b[0;32m     82\u001b[0m \u001b[1;33m\u001b[0m\u001b[0m\n\u001b[0;32m     83\u001b[0m     \u001b[1;32mdef\u001b[0m \u001b[0msubmit\u001b[0m\u001b[1;33m(\u001b[0m\u001b[0mself\u001b[0m\u001b[1;33m)\u001b[0m\u001b[1;33m:\u001b[0m\u001b[1;33m\u001b[0m\u001b[1;33m\u001b[0m\u001b[0m\n",
      "\u001b[1;32mC:\\ProgramData\\Anaconda3\\lib\\site-packages\\selenium\\webdriver\\remote\\webelement.py\u001b[0m in \u001b[0;36m_execute\u001b[1;34m(self, command, params)\u001b[0m\n\u001b[0;32m    708\u001b[0m             \u001b[0mparams\u001b[0m \u001b[1;33m=\u001b[0m \u001b[1;33m{\u001b[0m\u001b[1;33m}\u001b[0m\u001b[1;33m\u001b[0m\u001b[1;33m\u001b[0m\u001b[0m\n\u001b[0;32m    709\u001b[0m         \u001b[0mparams\u001b[0m\u001b[1;33m[\u001b[0m\u001b[1;34m'id'\u001b[0m\u001b[1;33m]\u001b[0m \u001b[1;33m=\u001b[0m \u001b[0mself\u001b[0m\u001b[1;33m.\u001b[0m\u001b[0m_id\u001b[0m\u001b[1;33m\u001b[0m\u001b[1;33m\u001b[0m\u001b[0m\n\u001b[1;32m--> 710\u001b[1;33m         \u001b[1;32mreturn\u001b[0m \u001b[0mself\u001b[0m\u001b[1;33m.\u001b[0m\u001b[0m_parent\u001b[0m\u001b[1;33m.\u001b[0m\u001b[0mexecute\u001b[0m\u001b[1;33m(\u001b[0m\u001b[0mcommand\u001b[0m\u001b[1;33m,\u001b[0m \u001b[0mparams\u001b[0m\u001b[1;33m)\u001b[0m\u001b[1;33m\u001b[0m\u001b[1;33m\u001b[0m\u001b[0m\n\u001b[0m\u001b[0;32m    711\u001b[0m \u001b[1;33m\u001b[0m\u001b[0m\n\u001b[0;32m    712\u001b[0m     \u001b[1;32mdef\u001b[0m \u001b[0mfind_element\u001b[0m\u001b[1;33m(\u001b[0m\u001b[0mself\u001b[0m\u001b[1;33m,\u001b[0m \u001b[0mby\u001b[0m\u001b[1;33m=\u001b[0m\u001b[0mBy\u001b[0m\u001b[1;33m.\u001b[0m\u001b[0mID\u001b[0m\u001b[1;33m,\u001b[0m \u001b[0mvalue\u001b[0m\u001b[1;33m=\u001b[0m\u001b[1;32mNone\u001b[0m\u001b[1;33m)\u001b[0m\u001b[1;33m:\u001b[0m\u001b[1;33m\u001b[0m\u001b[1;33m\u001b[0m\u001b[0m\n",
      "\u001b[1;32mC:\\ProgramData\\Anaconda3\\lib\\site-packages\\selenium\\webdriver\\remote\\webdriver.py\u001b[0m in \u001b[0;36mexecute\u001b[1;34m(self, driver_command, params)\u001b[0m\n\u001b[0;32m    422\u001b[0m         \u001b[0mresponse\u001b[0m \u001b[1;33m=\u001b[0m \u001b[0mself\u001b[0m\u001b[1;33m.\u001b[0m\u001b[0mcommand_executor\u001b[0m\u001b[1;33m.\u001b[0m\u001b[0mexecute\u001b[0m\u001b[1;33m(\u001b[0m\u001b[0mdriver_command\u001b[0m\u001b[1;33m,\u001b[0m \u001b[0mparams\u001b[0m\u001b[1;33m)\u001b[0m\u001b[1;33m\u001b[0m\u001b[1;33m\u001b[0m\u001b[0m\n\u001b[0;32m    423\u001b[0m         \u001b[1;32mif\u001b[0m \u001b[0mresponse\u001b[0m\u001b[1;33m:\u001b[0m\u001b[1;33m\u001b[0m\u001b[1;33m\u001b[0m\u001b[0m\n\u001b[1;32m--> 424\u001b[1;33m             \u001b[0mself\u001b[0m\u001b[1;33m.\u001b[0m\u001b[0merror_handler\u001b[0m\u001b[1;33m.\u001b[0m\u001b[0mcheck_response\u001b[0m\u001b[1;33m(\u001b[0m\u001b[0mresponse\u001b[0m\u001b[1;33m)\u001b[0m\u001b[1;33m\u001b[0m\u001b[1;33m\u001b[0m\u001b[0m\n\u001b[0m\u001b[0;32m    425\u001b[0m             response['value'] = self._unwrap_value(\n\u001b[0;32m    426\u001b[0m                 response.get('value', None))\n",
      "\u001b[1;32mC:\\ProgramData\\Anaconda3\\lib\\site-packages\\selenium\\webdriver\\remote\\errorhandler.py\u001b[0m in \u001b[0;36mcheck_response\u001b[1;34m(self, response)\u001b[0m\n\u001b[0;32m    245\u001b[0m                 \u001b[0malert_text\u001b[0m \u001b[1;33m=\u001b[0m \u001b[0mvalue\u001b[0m\u001b[1;33m[\u001b[0m\u001b[1;34m'alert'\u001b[0m\u001b[1;33m]\u001b[0m\u001b[1;33m.\u001b[0m\u001b[0mget\u001b[0m\u001b[1;33m(\u001b[0m\u001b[1;34m'text'\u001b[0m\u001b[1;33m)\u001b[0m\u001b[1;33m\u001b[0m\u001b[1;33m\u001b[0m\u001b[0m\n\u001b[0;32m    246\u001b[0m             \u001b[1;32mraise\u001b[0m \u001b[0mexception_class\u001b[0m\u001b[1;33m(\u001b[0m\u001b[0mmessage\u001b[0m\u001b[1;33m,\u001b[0m \u001b[0mscreen\u001b[0m\u001b[1;33m,\u001b[0m \u001b[0mstacktrace\u001b[0m\u001b[1;33m,\u001b[0m \u001b[0malert_text\u001b[0m\u001b[1;33m)\u001b[0m  \u001b[1;31m# type: ignore[call-arg]  # mypy is not smart enough here\u001b[0m\u001b[1;33m\u001b[0m\u001b[1;33m\u001b[0m\u001b[0m\n\u001b[1;32m--> 247\u001b[1;33m         \u001b[1;32mraise\u001b[0m \u001b[0mexception_class\u001b[0m\u001b[1;33m(\u001b[0m\u001b[0mmessage\u001b[0m\u001b[1;33m,\u001b[0m \u001b[0mscreen\u001b[0m\u001b[1;33m,\u001b[0m \u001b[0mstacktrace\u001b[0m\u001b[1;33m)\u001b[0m\u001b[1;33m\u001b[0m\u001b[1;33m\u001b[0m\u001b[0m\n\u001b[0m\u001b[0;32m    248\u001b[0m \u001b[1;33m\u001b[0m\u001b[0m\n\u001b[0;32m    249\u001b[0m     \u001b[1;32mdef\u001b[0m \u001b[0m_value_or_default\u001b[0m\u001b[1;33m(\u001b[0m\u001b[0mself\u001b[0m\u001b[1;33m,\u001b[0m \u001b[0mobj\u001b[0m\u001b[1;33m:\u001b[0m \u001b[0mMapping\u001b[0m\u001b[1;33m[\u001b[0m\u001b[0m_KT\u001b[0m\u001b[1;33m,\u001b[0m \u001b[0m_VT\u001b[0m\u001b[1;33m]\u001b[0m\u001b[1;33m,\u001b[0m \u001b[0mkey\u001b[0m\u001b[1;33m:\u001b[0m \u001b[0m_KT\u001b[0m\u001b[1;33m,\u001b[0m \u001b[0mdefault\u001b[0m\u001b[1;33m:\u001b[0m \u001b[0m_VT\u001b[0m\u001b[1;33m)\u001b[0m \u001b[1;33m->\u001b[0m \u001b[0m_VT\u001b[0m\u001b[1;33m:\u001b[0m\u001b[1;33m\u001b[0m\u001b[1;33m\u001b[0m\u001b[0m\n",
      "\u001b[1;31mElementNotInteractableException\u001b[0m: Message: element not interactable\n  (Session info: chrome=98.0.4758.102)\nStacktrace:\nBacktrace:\n\tOrdinal0 [0x008169A3+2582947]\n\tOrdinal0 [0x007AA6D1+2139857]\n\tOrdinal0 [0x006A3960+1063264]\n\tOrdinal0 [0x006D0E4E+1248846]\n\tOrdinal0 [0x006C6B53+1207123]\n\tOrdinal0 [0x006E854C+1344844]\n\tOrdinal0 [0x006C6524+1205540]\n\tOrdinal0 [0x006E86A4+1345188]\n\tOrdinal0 [0x006F834A+1409866]\n\tOrdinal0 [0x006E8366+1344358]\n\tOrdinal0 [0x006C5176+1200502]\n\tOrdinal0 [0x006C6066+1204326]\n\tGetHandleVerifier [0x009BBE02+1675858]\n\tGetHandleVerifier [0x00A7036C+2414524]\n\tGetHandleVerifier [0x008ABB01+560977]\n\tGetHandleVerifier [0x008AA8D3+556323]\n\tOrdinal0 [0x007B020E+2163214]\n\tOrdinal0 [0x007B5078+2183288]\n\tOrdinal0 [0x007B51C0+2183616]\n\tOrdinal0 [0x007BEE1C+2223644]\n\tBaseThreadInitThunk [0x76006739+25]\n\tRtlGetFullPathName_UEx [0x76F18E7F+1215]\n\tRtlGetFullPathName_UEx [0x76F18E4D+1165]\n"
     ]
    }
   ],
   "source": [
    "search_btn.click()"
   ]
  },
  {
   "cell_type": "code",
   "execution_count": 143,
   "id": "c69e7279",
   "metadata": {},
   "outputs": [
    {
     "data": {
      "text/plain": [
       "<selenium.webdriver.remote.webelement.WebElement (session=\"a621cb1a50f6198ecce32440a2283710\", element=\"2ac61872-b025-421b-98d1-ccbf2ac5c4e8\")>"
      ]
     },
     "execution_count": 143,
     "metadata": {},
     "output_type": "execute_result"
    }
   ],
   "source": [
    "brand = driver.find_element_by_class_name('_2WkVRV')\n",
    "brand"
   ]
  },
  {
   "cell_type": "code",
   "execution_count": 144,
   "id": "7d09e2a1",
   "metadata": {},
   "outputs": [
    {
     "data": {
      "text/plain": [
       "'Echor'"
      ]
     },
     "execution_count": 144,
     "metadata": {},
     "output_type": "execute_result"
    }
   ],
   "source": [
    "brand.text"
   ]
  },
  {
   "cell_type": "code",
   "execution_count": 145,
   "id": "bf2c872e",
   "metadata": {},
   "outputs": [
    {
     "data": {
      "text/plain": [
       "[<selenium.webdriver.remote.webelement.WebElement (session=\"a621cb1a50f6198ecce32440a2283710\", element=\"2ac61872-b025-421b-98d1-ccbf2ac5c4e8\")>,\n",
       " <selenium.webdriver.remote.webelement.WebElement (session=\"a621cb1a50f6198ecce32440a2283710\", element=\"b11c092a-8934-412a-850f-b61fc92507f6\")>,\n",
       " <selenium.webdriver.remote.webelement.WebElement (session=\"a621cb1a50f6198ecce32440a2283710\", element=\"5e2b912e-9d2d-4047-a789-6feaeb002f61\")>,\n",
       " <selenium.webdriver.remote.webelement.WebElement (session=\"a621cb1a50f6198ecce32440a2283710\", element=\"4731d69f-0e71-4c21-afb5-1c7e8b41179a\")>,\n",
       " <selenium.webdriver.remote.webelement.WebElement (session=\"a621cb1a50f6198ecce32440a2283710\", element=\"41eed043-ee3a-4212-80d8-883268ac3213\")>,\n",
       " <selenium.webdriver.remote.webelement.WebElement (session=\"a621cb1a50f6198ecce32440a2283710\", element=\"4fcad9c8-3e0a-4895-a2b1-b9de5cd9cacf\")>,\n",
       " <selenium.webdriver.remote.webelement.WebElement (session=\"a621cb1a50f6198ecce32440a2283710\", element=\"d37db5b3-2d77-493c-9a4a-f9e2380d4e5c\")>,\n",
       " <selenium.webdriver.remote.webelement.WebElement (session=\"a621cb1a50f6198ecce32440a2283710\", element=\"0be7261f-b766-4ab0-9b8a-e84c87e37a39\")>,\n",
       " <selenium.webdriver.remote.webelement.WebElement (session=\"a621cb1a50f6198ecce32440a2283710\", element=\"e74f31ee-6b14-41c7-85f9-d56f132ce9fb\")>,\n",
       " <selenium.webdriver.remote.webelement.WebElement (session=\"a621cb1a50f6198ecce32440a2283710\", element=\"b410b8ba-3bea-4b92-bd16-b4692a63f5f3\")>,\n",
       " <selenium.webdriver.remote.webelement.WebElement (session=\"a621cb1a50f6198ecce32440a2283710\", element=\"c23c2d6e-6610-4737-b0d9-fc8ba64eedeb\")>,\n",
       " <selenium.webdriver.remote.webelement.WebElement (session=\"a621cb1a50f6198ecce32440a2283710\", element=\"ef730ba8-b36e-44e6-88f3-79c028d92e0a\")>,\n",
       " <selenium.webdriver.remote.webelement.WebElement (session=\"a621cb1a50f6198ecce32440a2283710\", element=\"f3d3cfb1-6985-410e-98f8-86be44902b87\")>,\n",
       " <selenium.webdriver.remote.webelement.WebElement (session=\"a621cb1a50f6198ecce32440a2283710\", element=\"141f1da1-41c6-44b3-91f9-4ee458e65d0d\")>,\n",
       " <selenium.webdriver.remote.webelement.WebElement (session=\"a621cb1a50f6198ecce32440a2283710\", element=\"0ddaab3d-89a8-4060-9c4f-72b75ff51ba9\")>,\n",
       " <selenium.webdriver.remote.webelement.WebElement (session=\"a621cb1a50f6198ecce32440a2283710\", element=\"7cb66c4c-ec3e-4088-aa1c-5a130c8aef9a\")>,\n",
       " <selenium.webdriver.remote.webelement.WebElement (session=\"a621cb1a50f6198ecce32440a2283710\", element=\"0353a883-e311-4a59-b3ef-bd60761e9795\")>,\n",
       " <selenium.webdriver.remote.webelement.WebElement (session=\"a621cb1a50f6198ecce32440a2283710\", element=\"726cd53d-932b-44f9-a57e-e67b25281034\")>,\n",
       " <selenium.webdriver.remote.webelement.WebElement (session=\"a621cb1a50f6198ecce32440a2283710\", element=\"d968e42d-888b-4ce2-8f9d-ab7539e90143\")>,\n",
       " <selenium.webdriver.remote.webelement.WebElement (session=\"a621cb1a50f6198ecce32440a2283710\", element=\"7fbbc55e-c385-43b4-99d5-06a8808a13e7\")>,\n",
       " <selenium.webdriver.remote.webelement.WebElement (session=\"a621cb1a50f6198ecce32440a2283710\", element=\"b0d1a444-f6dc-44a6-a8fb-c0c8e6ef8d6e\")>,\n",
       " <selenium.webdriver.remote.webelement.WebElement (session=\"a621cb1a50f6198ecce32440a2283710\", element=\"d8da3d49-8772-4cbe-b1f8-dab9665ab95a\")>,\n",
       " <selenium.webdriver.remote.webelement.WebElement (session=\"a621cb1a50f6198ecce32440a2283710\", element=\"599649b9-37a7-493a-8b47-6e4c8208b2c1\")>,\n",
       " <selenium.webdriver.remote.webelement.WebElement (session=\"a621cb1a50f6198ecce32440a2283710\", element=\"2d0b1696-68cf-4911-b75e-e6fb17e9c41c\")>,\n",
       " <selenium.webdriver.remote.webelement.WebElement (session=\"a621cb1a50f6198ecce32440a2283710\", element=\"4e7302d5-c66e-4dda-8632-adf28620828d\")>,\n",
       " <selenium.webdriver.remote.webelement.WebElement (session=\"a621cb1a50f6198ecce32440a2283710\", element=\"2c3e7919-e1a5-40fa-a072-8de6c90a1d65\")>,\n",
       " <selenium.webdriver.remote.webelement.WebElement (session=\"a621cb1a50f6198ecce32440a2283710\", element=\"39bf4697-c06d-41a0-922c-296eeed0deb8\")>,\n",
       " <selenium.webdriver.remote.webelement.WebElement (session=\"a621cb1a50f6198ecce32440a2283710\", element=\"74577a47-4eaa-4f6f-b355-85d06d357b38\")>,\n",
       " <selenium.webdriver.remote.webelement.WebElement (session=\"a621cb1a50f6198ecce32440a2283710\", element=\"30d4d143-30f5-455d-81a5-3526b8be2159\")>,\n",
       " <selenium.webdriver.remote.webelement.WebElement (session=\"a621cb1a50f6198ecce32440a2283710\", element=\"321c0fe6-a905-4806-876f-efd668dcb02a\")>,\n",
       " <selenium.webdriver.remote.webelement.WebElement (session=\"a621cb1a50f6198ecce32440a2283710\", element=\"37246391-ca16-42e1-84c6-61f28c00f035\")>,\n",
       " <selenium.webdriver.remote.webelement.WebElement (session=\"a621cb1a50f6198ecce32440a2283710\", element=\"fdba4858-b7c3-4896-8cd8-d14984f39c8b\")>,\n",
       " <selenium.webdriver.remote.webelement.WebElement (session=\"a621cb1a50f6198ecce32440a2283710\", element=\"c2355823-b10e-48bd-8992-2fdb0a67a5c5\")>,\n",
       " <selenium.webdriver.remote.webelement.WebElement (session=\"a621cb1a50f6198ecce32440a2283710\", element=\"9ee153c3-98a6-45a6-8451-f04e952da261\")>,\n",
       " <selenium.webdriver.remote.webelement.WebElement (session=\"a621cb1a50f6198ecce32440a2283710\", element=\"220445e8-f702-4f93-b882-89d8908a4dbc\")>,\n",
       " <selenium.webdriver.remote.webelement.WebElement (session=\"a621cb1a50f6198ecce32440a2283710\", element=\"f7dbf833-e8d0-4f1c-a459-3cf4d388a857\")>,\n",
       " <selenium.webdriver.remote.webelement.WebElement (session=\"a621cb1a50f6198ecce32440a2283710\", element=\"e1773d74-e11b-4b17-9720-e2235dbd696b\")>,\n",
       " <selenium.webdriver.remote.webelement.WebElement (session=\"a621cb1a50f6198ecce32440a2283710\", element=\"d601a0cf-02e5-435a-8d57-4455f8cd957a\")>,\n",
       " <selenium.webdriver.remote.webelement.WebElement (session=\"a621cb1a50f6198ecce32440a2283710\", element=\"1c2e9a9f-60d0-497c-b0e1-c4c06a594afa\")>,\n",
       " <selenium.webdriver.remote.webelement.WebElement (session=\"a621cb1a50f6198ecce32440a2283710\", element=\"8bee5b27-4c36-4b34-a4d6-ee0a6343b0c3\")>]"
      ]
     },
     "execution_count": 145,
     "metadata": {},
     "output_type": "execute_result"
    }
   ],
   "source": [
    "page_brand=driver.find_elements_by_xpath('//div[@class=\"_2WkVRV\"]')\n",
    "page_brand"
   ]
  },
  {
   "cell_type": "code",
   "execution_count": 146,
   "id": "b1b4abca",
   "metadata": {},
   "outputs": [
    {
     "data": {
      "text/plain": [
       "['Echor',\n",
       " 'Nilatin',\n",
       " 'BRUTON',\n",
       " 'Elevarse',\n",
       " 'corsac',\n",
       " 'BRUTON',\n",
       " 'BRUTON',\n",
       " 'BRUTON',\n",
       " 'World Wear Footwear',\n",
       " 'URBANBOX',\n",
       " 'Labbin',\n",
       " 'AERAMBOL',\n",
       " 'DUNKASTON',\n",
       " 'Trendmode',\n",
       " 'RapidBox',\n",
       " 'Strollin',\n",
       " 'SCATCHITE',\n",
       " 'World Wear Footwear',\n",
       " 'Chevit',\n",
       " 'Airland',\n",
       " 'D-SNEAKERZ',\n",
       " 'Shoes Bank',\n",
       " 'luxury fashion',\n",
       " 'MAFLO',\n",
       " 'ASTEROID',\n",
       " 'Noztile',\n",
       " 'CLYMB',\n",
       " 'Zixer',\n",
       " 'Rzisbo',\n",
       " 'RapidBox',\n",
       " 'Numenzo',\n",
       " 'CLYMB',\n",
       " 'Xtoon',\n",
       " 'BIRDE',\n",
       " 'BRUTON',\n",
       " 'Echor',\n",
       " 'aadi',\n",
       " 'HOTSTYLE',\n",
       " 'Robbie jones',\n",
       " \"Neeman's\"]"
      ]
     },
     "execution_count": 146,
     "metadata": {},
     "output_type": "execute_result"
    }
   ],
   "source": [
    "brand_name=[]\n",
    "for i in page_brand:\n",
    "    brand_name.append(i.text)\n",
    "    \n",
    "brand_name   "
   ]
  },
  {
   "cell_type": "code",
   "execution_count": 147,
   "id": "e3f9cc74",
   "metadata": {},
   "outputs": [
    {
     "data": {
      "text/plain": [
       "[<selenium.webdriver.remote.webelement.WebElement (session=\"a621cb1a50f6198ecce32440a2283710\", element=\"297675c7-7678-4881-a912-ca6cada09768\")>,\n",
       " <selenium.webdriver.remote.webelement.WebElement (session=\"a621cb1a50f6198ecce32440a2283710\", element=\"5cf3ad95-5f20-4052-94f9-cd3f3be7987f\")>,\n",
       " <selenium.webdriver.remote.webelement.WebElement (session=\"a621cb1a50f6198ecce32440a2283710\", element=\"01036b35-8ccc-4d93-8052-ec41adc59f10\")>,\n",
       " <selenium.webdriver.remote.webelement.WebElement (session=\"a621cb1a50f6198ecce32440a2283710\", element=\"55728b13-fb21-468d-8efc-c41a2a0bc45a\")>,\n",
       " <selenium.webdriver.remote.webelement.WebElement (session=\"a621cb1a50f6198ecce32440a2283710\", element=\"e6a9fa7e-92a4-43fb-b69a-c12edfdbad79\")>,\n",
       " <selenium.webdriver.remote.webelement.WebElement (session=\"a621cb1a50f6198ecce32440a2283710\", element=\"9e48693c-7de9-454a-a62d-e8635481807a\")>,\n",
       " <selenium.webdriver.remote.webelement.WebElement (session=\"a621cb1a50f6198ecce32440a2283710\", element=\"0de62222-5d13-484c-b282-17210fb11e4e\")>,\n",
       " <selenium.webdriver.remote.webelement.WebElement (session=\"a621cb1a50f6198ecce32440a2283710\", element=\"7eeed8f8-c23f-43b4-8e8a-94ce51f5cfbc\")>,\n",
       " <selenium.webdriver.remote.webelement.WebElement (session=\"a621cb1a50f6198ecce32440a2283710\", element=\"80133e75-2624-4e0c-ae6f-4b5aa11f164e\")>,\n",
       " <selenium.webdriver.remote.webelement.WebElement (session=\"a621cb1a50f6198ecce32440a2283710\", element=\"b7384a30-6d0d-43aa-9190-c3d7752ba956\")>,\n",
       " <selenium.webdriver.remote.webelement.WebElement (session=\"a621cb1a50f6198ecce32440a2283710\", element=\"7a0086ea-41d8-4413-b4dd-c3fe78e5ab1e\")>,\n",
       " <selenium.webdriver.remote.webelement.WebElement (session=\"a621cb1a50f6198ecce32440a2283710\", element=\"4b34bc1c-4e48-4b8a-8e5f-a764d65a6fb8\")>,\n",
       " <selenium.webdriver.remote.webelement.WebElement (session=\"a621cb1a50f6198ecce32440a2283710\", element=\"74fcec0d-afad-4cc9-80fa-15a9c53cae11\")>,\n",
       " <selenium.webdriver.remote.webelement.WebElement (session=\"a621cb1a50f6198ecce32440a2283710\", element=\"e9942a82-2e64-4627-9109-0a6aaf7dbf5f\")>,\n",
       " <selenium.webdriver.remote.webelement.WebElement (session=\"a621cb1a50f6198ecce32440a2283710\", element=\"97d26d4e-2855-4508-bce2-d79851153414\")>,\n",
       " <selenium.webdriver.remote.webelement.WebElement (session=\"a621cb1a50f6198ecce32440a2283710\", element=\"cb862c84-7029-4b35-8a1e-2e5978eadf24\")>,\n",
       " <selenium.webdriver.remote.webelement.WebElement (session=\"a621cb1a50f6198ecce32440a2283710\", element=\"fe8897c5-e127-41c9-a72e-9fb2ab97796c\")>,\n",
       " <selenium.webdriver.remote.webelement.WebElement (session=\"a621cb1a50f6198ecce32440a2283710\", element=\"b0d8d61c-a48f-46a7-aa0a-336966fbc2fc\")>,\n",
       " <selenium.webdriver.remote.webelement.WebElement (session=\"a621cb1a50f6198ecce32440a2283710\", element=\"deddaa1f-a3db-4451-86de-2d300f45652c\")>,\n",
       " <selenium.webdriver.remote.webelement.WebElement (session=\"a621cb1a50f6198ecce32440a2283710\", element=\"859b56f2-78f8-4212-825f-bd5a1c445e06\")>,\n",
       " <selenium.webdriver.remote.webelement.WebElement (session=\"a621cb1a50f6198ecce32440a2283710\", element=\"573ad252-5063-4858-8cf6-8f56ca647448\")>,\n",
       " <selenium.webdriver.remote.webelement.WebElement (session=\"a621cb1a50f6198ecce32440a2283710\", element=\"41908120-5556-4a80-9072-2206c396279d\")>,\n",
       " <selenium.webdriver.remote.webelement.WebElement (session=\"a621cb1a50f6198ecce32440a2283710\", element=\"6c09259e-75fb-45ee-aaa7-8f62bdf019b8\")>,\n",
       " <selenium.webdriver.remote.webelement.WebElement (session=\"a621cb1a50f6198ecce32440a2283710\", element=\"1cd074d6-39b3-4938-8293-5a41c783afdd\")>,\n",
       " <selenium.webdriver.remote.webelement.WebElement (session=\"a621cb1a50f6198ecce32440a2283710\", element=\"85768423-5d65-41fb-8858-fc96347afeb6\")>,\n",
       " <selenium.webdriver.remote.webelement.WebElement (session=\"a621cb1a50f6198ecce32440a2283710\", element=\"e14e7dbb-6672-4889-90f1-9ac3050863f0\")>,\n",
       " <selenium.webdriver.remote.webelement.WebElement (session=\"a621cb1a50f6198ecce32440a2283710\", element=\"c057561b-3d28-4dbb-8404-15f05c71bb51\")>,\n",
       " <selenium.webdriver.remote.webelement.WebElement (session=\"a621cb1a50f6198ecce32440a2283710\", element=\"c40467cd-53cf-4a31-a78f-36b9f2de359f\")>,\n",
       " <selenium.webdriver.remote.webelement.WebElement (session=\"a621cb1a50f6198ecce32440a2283710\", element=\"a3683af6-ef44-4979-98c9-be417de26a59\")>,\n",
       " <selenium.webdriver.remote.webelement.WebElement (session=\"a621cb1a50f6198ecce32440a2283710\", element=\"8f1b47db-3c07-48e2-b5dc-ff26b7ff9ac1\")>,\n",
       " <selenium.webdriver.remote.webelement.WebElement (session=\"a621cb1a50f6198ecce32440a2283710\", element=\"cbd390b8-323f-48f2-8376-1b0c148233f9\")>,\n",
       " <selenium.webdriver.remote.webelement.WebElement (session=\"a621cb1a50f6198ecce32440a2283710\", element=\"b6859e19-7480-4e49-aefb-cb779d1bebff\")>,\n",
       " <selenium.webdriver.remote.webelement.WebElement (session=\"a621cb1a50f6198ecce32440a2283710\", element=\"930e1b5c-d9f6-4b1a-bc67-95ae165afaae\")>]"
      ]
     },
     "execution_count": 147,
     "metadata": {},
     "output_type": "execute_result"
    }
   ],
   "source": [
    "prdt2_des=driver.find_elements_by_xpath('//a[@class=\"IRpwTa\"]')\n",
    "prdt2_des"
   ]
  },
  {
   "cell_type": "code",
   "execution_count": 148,
   "id": "10bdd909",
   "metadata": {},
   "outputs": [
    {
     "data": {
      "text/plain": [
       "[\"Men's casual shoe Black sneaker shoe for men Sneakers F...\",\n",
       " 'Sneakers For Men',\n",
       " 'Modern Trendy Sneakers Shoes Sneakers For Men',\n",
       " 'STYLISH MENS BLACK AND WHITE SNEAKER Sneakers For Men',\n",
       " 'Combo Pack Of 4 Casual Shoes Loafer Shoes Sneakers For ...',\n",
       " 'Combo Pack Of 2 Latest Stylish Casual Shoes for Men Lac...',\n",
       " 'Combo Pack Of 3 Latest Casual Shoes Sneakers For Men',\n",
       " '5011-Latest Collection Stylish Casual Loafer Sneakers S...',\n",
       " 'Sneakers For Men',\n",
       " \"Men's Stylish Sports & Casual Shoes For Men Sneakers Fo...\",\n",
       " 'Sneakers For Men',\n",
       " 'Sneakers For Men',\n",
       " 'Sneakers Sneakers For Men',\n",
       " 'Sneakers For Men',\n",
       " 'Super Stylish & Trendy Combo Pack of 02 Pairs Sneakers ...',\n",
       " 'sneaker men red 1258 - 8 Sneakers For Men',\n",
       " \"Casual , Partywear Sneakers Shoes For Men's And Boys Wh...\",\n",
       " \"White Sneaker For Men's/Boy's Sneakers For Men\",\n",
       " 'Luxury Fashionable casual sneaker shoes Sneakers For Me...',\n",
       " \"Original Luxury Branded Fashionable Men's Casual Walkin...\",\n",
       " 'Sneakers For Men',\n",
       " 'Sneakers For Men',\n",
       " 'Sneakers For Men',\n",
       " '411 Casual Sneakers For Men',\n",
       " \"Perfect Casual Loafer Shoes for Men's Running Training ...\",\n",
       " \"white Casual shoes,Sneakers for men's Sneakers For Men\",\n",
       " 'Sports Running Shoes Sneakers For Men',\n",
       " 'Lattest Sneakers Shoe Sneakers For Men',\n",
       " \"Men's Fashion Sneakers - Lightweight Breathable Walking...\",\n",
       " 'Sneakers For Men',\n",
       " 'Sneakers For Men',\n",
       " 'Sneakers For Men',\n",
       " 'Sneakers For Men']"
      ]
     },
     "execution_count": 148,
     "metadata": {},
     "output_type": "execute_result"
    }
   ],
   "source": [
    "des_name=[]\n",
    "for i in prdt2_des:\n",
    "    des_name.append(i.text)\n",
    "    \n",
    "des_name"
   ]
  },
  {
   "cell_type": "code",
   "execution_count": 149,
   "id": "4d1d2d8a",
   "metadata": {},
   "outputs": [
    {
     "data": {
      "text/plain": [
       "[<selenium.webdriver.remote.webelement.WebElement (session=\"a621cb1a50f6198ecce32440a2283710\", element=\"1c967669-6782-467d-a55f-509aa229db67\")>,\n",
       " <selenium.webdriver.remote.webelement.WebElement (session=\"a621cb1a50f6198ecce32440a2283710\", element=\"d9855f31-ec17-4e6f-b650-45557b60d38b\")>,\n",
       " <selenium.webdriver.remote.webelement.WebElement (session=\"a621cb1a50f6198ecce32440a2283710\", element=\"0529974b-7f23-4b9f-ba98-8aa5408a8b7d\")>,\n",
       " <selenium.webdriver.remote.webelement.WebElement (session=\"a621cb1a50f6198ecce32440a2283710\", element=\"16f4b422-51de-475d-a19e-d9c68c546c50\")>,\n",
       " <selenium.webdriver.remote.webelement.WebElement (session=\"a621cb1a50f6198ecce32440a2283710\", element=\"469ddfd8-1729-4d67-94a9-582b3974c146\")>,\n",
       " <selenium.webdriver.remote.webelement.WebElement (session=\"a621cb1a50f6198ecce32440a2283710\", element=\"751deb69-c2e1-4e11-acac-e4e89c5b76fa\")>,\n",
       " <selenium.webdriver.remote.webelement.WebElement (session=\"a621cb1a50f6198ecce32440a2283710\", element=\"cbd1524c-decb-491b-8b4f-27ccf46c54ba\")>,\n",
       " <selenium.webdriver.remote.webelement.WebElement (session=\"a621cb1a50f6198ecce32440a2283710\", element=\"2afff5cb-5900-463e-94b5-01c3b03d3a7b\")>,\n",
       " <selenium.webdriver.remote.webelement.WebElement (session=\"a621cb1a50f6198ecce32440a2283710\", element=\"f310d713-9acf-461c-a006-88072030cad8\")>,\n",
       " <selenium.webdriver.remote.webelement.WebElement (session=\"a621cb1a50f6198ecce32440a2283710\", element=\"fee98fa8-dbfa-458a-92d4-b513ecaaa0fe\")>,\n",
       " <selenium.webdriver.remote.webelement.WebElement (session=\"a621cb1a50f6198ecce32440a2283710\", element=\"2bf391ef-e153-467a-9fe4-29fa10d5e74b\")>,\n",
       " <selenium.webdriver.remote.webelement.WebElement (session=\"a621cb1a50f6198ecce32440a2283710\", element=\"a9f0d3d6-7a22-4768-8668-4324a980f200\")>,\n",
       " <selenium.webdriver.remote.webelement.WebElement (session=\"a621cb1a50f6198ecce32440a2283710\", element=\"2a6174e9-34ee-4017-86f9-061eec2de1a3\")>,\n",
       " <selenium.webdriver.remote.webelement.WebElement (session=\"a621cb1a50f6198ecce32440a2283710\", element=\"f8c67100-9d84-4b31-8596-28fcf3bf84e5\")>,\n",
       " <selenium.webdriver.remote.webelement.WebElement (session=\"a621cb1a50f6198ecce32440a2283710\", element=\"8e1dcb46-acff-42e6-a8c6-0b6340ba9287\")>,\n",
       " <selenium.webdriver.remote.webelement.WebElement (session=\"a621cb1a50f6198ecce32440a2283710\", element=\"f2ad1793-d3e5-49da-a70e-3c898f4b0d16\")>,\n",
       " <selenium.webdriver.remote.webelement.WebElement (session=\"a621cb1a50f6198ecce32440a2283710\", element=\"2448a77e-ea50-4c41-be51-9ab004f368fa\")>,\n",
       " <selenium.webdriver.remote.webelement.WebElement (session=\"a621cb1a50f6198ecce32440a2283710\", element=\"533c02e2-c1ef-41de-acb2-07970559a942\")>,\n",
       " <selenium.webdriver.remote.webelement.WebElement (session=\"a621cb1a50f6198ecce32440a2283710\", element=\"0982b73a-2ee4-45b5-aeb7-13d120d56af1\")>,\n",
       " <selenium.webdriver.remote.webelement.WebElement (session=\"a621cb1a50f6198ecce32440a2283710\", element=\"800e585a-f89a-49a2-8491-ea56db564339\")>,\n",
       " <selenium.webdriver.remote.webelement.WebElement (session=\"a621cb1a50f6198ecce32440a2283710\", element=\"46cf04cf-749b-4aed-907b-69b786b0a4c5\")>,\n",
       " <selenium.webdriver.remote.webelement.WebElement (session=\"a621cb1a50f6198ecce32440a2283710\", element=\"ae5bfc56-9f74-4719-b362-29b1b6925f28\")>,\n",
       " <selenium.webdriver.remote.webelement.WebElement (session=\"a621cb1a50f6198ecce32440a2283710\", element=\"4b9b30c6-c979-4c01-8a40-ead9082919c5\")>,\n",
       " <selenium.webdriver.remote.webelement.WebElement (session=\"a621cb1a50f6198ecce32440a2283710\", element=\"9a644434-9911-42ed-9477-5592d22ce421\")>,\n",
       " <selenium.webdriver.remote.webelement.WebElement (session=\"a621cb1a50f6198ecce32440a2283710\", element=\"fce8d957-cdb0-4d40-b36d-b31dd97cde53\")>,\n",
       " <selenium.webdriver.remote.webelement.WebElement (session=\"a621cb1a50f6198ecce32440a2283710\", element=\"ed5d3f0a-dfd7-4150-8a8e-66c1e7ec71d8\")>,\n",
       " <selenium.webdriver.remote.webelement.WebElement (session=\"a621cb1a50f6198ecce32440a2283710\", element=\"0caef739-20be-48a4-9f55-a7bb7eb39032\")>,\n",
       " <selenium.webdriver.remote.webelement.WebElement (session=\"a621cb1a50f6198ecce32440a2283710\", element=\"3797cc6d-9cf7-444b-a2e5-6e3bed134231\")>,\n",
       " <selenium.webdriver.remote.webelement.WebElement (session=\"a621cb1a50f6198ecce32440a2283710\", element=\"61701966-8e23-47ce-b56f-f40a2920d65e\")>,\n",
       " <selenium.webdriver.remote.webelement.WebElement (session=\"a621cb1a50f6198ecce32440a2283710\", element=\"558d156d-d5b6-4c13-a33d-6a4df98e93bf\")>,\n",
       " <selenium.webdriver.remote.webelement.WebElement (session=\"a621cb1a50f6198ecce32440a2283710\", element=\"7e6ee6cd-46cd-4de0-9517-ec72190ba076\")>,\n",
       " <selenium.webdriver.remote.webelement.WebElement (session=\"a621cb1a50f6198ecce32440a2283710\", element=\"a91743cb-e8c9-4395-89a7-22a4c2d2e7f8\")>,\n",
       " <selenium.webdriver.remote.webelement.WebElement (session=\"a621cb1a50f6198ecce32440a2283710\", element=\"68e1c184-c796-44f4-9d7a-7bf7b2c5da30\")>,\n",
       " <selenium.webdriver.remote.webelement.WebElement (session=\"a621cb1a50f6198ecce32440a2283710\", element=\"42d5b130-d2cb-4218-813a-92d7e61bb19b\")>,\n",
       " <selenium.webdriver.remote.webelement.WebElement (session=\"a621cb1a50f6198ecce32440a2283710\", element=\"ca1382b8-c3d2-41a2-a355-09bc12901350\")>,\n",
       " <selenium.webdriver.remote.webelement.WebElement (session=\"a621cb1a50f6198ecce32440a2283710\", element=\"e6c7dff4-1db2-49df-bfd5-ed136c97bb47\")>,\n",
       " <selenium.webdriver.remote.webelement.WebElement (session=\"a621cb1a50f6198ecce32440a2283710\", element=\"c2f6cfd1-1728-4aab-9cc6-8dd588e31ed6\")>,\n",
       " <selenium.webdriver.remote.webelement.WebElement (session=\"a621cb1a50f6198ecce32440a2283710\", element=\"78c29144-f4e9-461d-ac96-584eded4fb25\")>,\n",
       " <selenium.webdriver.remote.webelement.WebElement (session=\"a621cb1a50f6198ecce32440a2283710\", element=\"18e4c9c7-3474-424d-8c50-3db99962e991\")>,\n",
       " <selenium.webdriver.remote.webelement.WebElement (session=\"a621cb1a50f6198ecce32440a2283710\", element=\"d1de996c-0bf0-41ef-885d-78e01048df69\")>]"
      ]
     },
     "execution_count": 149,
     "metadata": {},
     "output_type": "execute_result"
    }
   ],
   "source": [
    "price=driver.find_elements_by_xpath('//div[@class=\"_30jeq3\"]')\n",
    "price"
   ]
  },
  {
   "cell_type": "code",
   "execution_count": 150,
   "id": "ceb9f564",
   "metadata": {},
   "outputs": [
    {
     "data": {
      "text/plain": [
       "['₹449',\n",
       " '₹449',\n",
       " '₹209',\n",
       " '₹299',\n",
       " '₹449',\n",
       " '₹449',\n",
       " '₹449',\n",
       " '₹423',\n",
       " '₹149',\n",
       " '₹170',\n",
       " '₹424',\n",
       " '₹210',\n",
       " '₹349',\n",
       " '₹249',\n",
       " '₹630',\n",
       " '₹348',\n",
       " '₹327',\n",
       " '₹199',\n",
       " '₹599',\n",
       " '₹188',\n",
       " '₹249',\n",
       " '₹295',\n",
       " '₹399',\n",
       " '₹549',\n",
       " '₹424',\n",
       " '₹349',\n",
       " '₹566',\n",
       " '₹549',\n",
       " '₹499',\n",
       " '₹640',\n",
       " '₹376',\n",
       " '₹471',\n",
       " '₹429',\n",
       " '₹249',\n",
       " '₹209',\n",
       " '₹348',\n",
       " '₹349',\n",
       " '₹199',\n",
       " '₹449',\n",
       " '₹2,349']"
      ]
     },
     "execution_count": 150,
     "metadata": {},
     "output_type": "execute_result"
    }
   ],
   "source": [
    "price_name=[]\n",
    "for i in price:\n",
    "    price_name.append(i.text)\n",
    "    \n",
    "price_name"
   ]
  },
  {
   "cell_type": "code",
   "execution_count": null,
   "id": "96c24b1a",
   "metadata": {},
   "outputs": [],
   "source": [
    "QUESTION 7"
   ]
  },
  {
   "cell_type": "code",
   "execution_count": 151,
   "id": "b99fac1e",
   "metadata": {},
   "outputs": [],
   "source": [
    "driver=webdriver.Chrome('chromedriver.exe')"
   ]
  },
  {
   "cell_type": "code",
   "execution_count": 152,
   "id": "cb298e48",
   "metadata": {},
   "outputs": [],
   "source": [
    "url='http://www.myntra.com/shoes'\n",
    "driver.get(url)"
   ]
  },
  {
   "cell_type": "code",
   "execution_count": 155,
   "id": "24c55ce2",
   "metadata": {},
   "outputs": [
    {
     "data": {
      "text/plain": [
       "<selenium.webdriver.remote.webelement.WebElement (session=\"531b46525c2e69137d1840f8e10d618c\", element=\"0eb41a56-9b0c-4ef1-8bcd-2ef832e17475\")>"
      ]
     },
     "execution_count": 155,
     "metadata": {},
     "output_type": "execute_result"
    }
   ],
   "source": [
    "search_price = driver.find_element_by_class_name('common-checkboxIndicator')\n",
    "search_price"
   ]
  },
  {
   "cell_type": "code",
   "execution_count": 156,
   "id": "68a38534",
   "metadata": {},
   "outputs": [
    {
     "ename": "ElementNotInteractableException",
     "evalue": "Message: element not interactable\n  (Session info: chrome=98.0.4758.102)\nStacktrace:\nBacktrace:\n\tOrdinal0 [0x008169A3+2582947]\n\tOrdinal0 [0x007AA6D1+2139857]\n\tOrdinal0 [0x006A3960+1063264]\n\tOrdinal0 [0x006CB493+1225875]\n\tOrdinal0 [0x006CABDC+1223644]\n\tOrdinal0 [0x006E854C+1344844]\n\tOrdinal0 [0x006C6524+1205540]\n\tOrdinal0 [0x006E86A4+1345188]\n\tOrdinal0 [0x006F834A+1409866]\n\tOrdinal0 [0x006E8366+1344358]\n\tOrdinal0 [0x006C5176+1200502]\n\tOrdinal0 [0x006C6066+1204326]\n\tGetHandleVerifier [0x009BBE02+1675858]\n\tGetHandleVerifier [0x00A7036C+2414524]\n\tGetHandleVerifier [0x008ABB01+560977]\n\tGetHandleVerifier [0x008AA8D3+556323]\n\tOrdinal0 [0x007B020E+2163214]\n\tOrdinal0 [0x007B5078+2183288]\n\tOrdinal0 [0x007B51C0+2183616]\n\tOrdinal0 [0x007BEE1C+2223644]\n\tBaseThreadInitThunk [0x76006739+25]\n\tRtlGetFullPathName_UEx [0x76F18E7F+1215]\n\tRtlGetFullPathName_UEx [0x76F18E4D+1165]\n",
     "output_type": "error",
     "traceback": [
      "\u001b[1;31m---------------------------------------------------------------------------\u001b[0m",
      "\u001b[1;31mElementNotInteractableException\u001b[0m           Traceback (most recent call last)",
      "\u001b[1;32m<ipython-input-156-af8c49285aa2>\u001b[0m in \u001b[0;36m<module>\u001b[1;34m\u001b[0m\n\u001b[1;32m----> 1\u001b[1;33m \u001b[0msearch_price\u001b[0m\u001b[1;33m.\u001b[0m\u001b[0msend_keys\u001b[0m\u001b[1;33m(\u001b[0m\u001b[1;34m'Rs. 7149 to Rs. 14099'\u001b[0m\u001b[1;33m)\u001b[0m\u001b[1;33m\u001b[0m\u001b[1;33m\u001b[0m\u001b[0m\n\u001b[0m",
      "\u001b[1;32mC:\\ProgramData\\Anaconda3\\lib\\site-packages\\selenium\\webdriver\\remote\\webelement.py\u001b[0m in \u001b[0;36msend_keys\u001b[1;34m(self, *value)\u001b[0m\n\u001b[0;32m    538\u001b[0m                 \u001b[0mvalue\u001b[0m \u001b[1;33m=\u001b[0m \u001b[1;34m'\\n'\u001b[0m\u001b[1;33m.\u001b[0m\u001b[0mjoin\u001b[0m\u001b[1;33m(\u001b[0m\u001b[0mremote_files\u001b[0m\u001b[1;33m)\u001b[0m\u001b[1;33m\u001b[0m\u001b[1;33m\u001b[0m\u001b[0m\n\u001b[0;32m    539\u001b[0m \u001b[1;33m\u001b[0m\u001b[0m\n\u001b[1;32m--> 540\u001b[1;33m         self._execute(Command.SEND_KEYS_TO_ELEMENT,\n\u001b[0m\u001b[0;32m    541\u001b[0m                       {'text': \"\".join(keys_to_typing(value)),\n\u001b[0;32m    542\u001b[0m                        'value': keys_to_typing(value)})\n",
      "\u001b[1;32mC:\\ProgramData\\Anaconda3\\lib\\site-packages\\selenium\\webdriver\\remote\\webelement.py\u001b[0m in \u001b[0;36m_execute\u001b[1;34m(self, command, params)\u001b[0m\n\u001b[0;32m    708\u001b[0m             \u001b[0mparams\u001b[0m \u001b[1;33m=\u001b[0m \u001b[1;33m{\u001b[0m\u001b[1;33m}\u001b[0m\u001b[1;33m\u001b[0m\u001b[1;33m\u001b[0m\u001b[0m\n\u001b[0;32m    709\u001b[0m         \u001b[0mparams\u001b[0m\u001b[1;33m[\u001b[0m\u001b[1;34m'id'\u001b[0m\u001b[1;33m]\u001b[0m \u001b[1;33m=\u001b[0m \u001b[0mself\u001b[0m\u001b[1;33m.\u001b[0m\u001b[0m_id\u001b[0m\u001b[1;33m\u001b[0m\u001b[1;33m\u001b[0m\u001b[0m\n\u001b[1;32m--> 710\u001b[1;33m         \u001b[1;32mreturn\u001b[0m \u001b[0mself\u001b[0m\u001b[1;33m.\u001b[0m\u001b[0m_parent\u001b[0m\u001b[1;33m.\u001b[0m\u001b[0mexecute\u001b[0m\u001b[1;33m(\u001b[0m\u001b[0mcommand\u001b[0m\u001b[1;33m,\u001b[0m \u001b[0mparams\u001b[0m\u001b[1;33m)\u001b[0m\u001b[1;33m\u001b[0m\u001b[1;33m\u001b[0m\u001b[0m\n\u001b[0m\u001b[0;32m    711\u001b[0m \u001b[1;33m\u001b[0m\u001b[0m\n\u001b[0;32m    712\u001b[0m     \u001b[1;32mdef\u001b[0m \u001b[0mfind_element\u001b[0m\u001b[1;33m(\u001b[0m\u001b[0mself\u001b[0m\u001b[1;33m,\u001b[0m \u001b[0mby\u001b[0m\u001b[1;33m=\u001b[0m\u001b[0mBy\u001b[0m\u001b[1;33m.\u001b[0m\u001b[0mID\u001b[0m\u001b[1;33m,\u001b[0m \u001b[0mvalue\u001b[0m\u001b[1;33m=\u001b[0m\u001b[1;32mNone\u001b[0m\u001b[1;33m)\u001b[0m\u001b[1;33m:\u001b[0m\u001b[1;33m\u001b[0m\u001b[1;33m\u001b[0m\u001b[0m\n",
      "\u001b[1;32mC:\\ProgramData\\Anaconda3\\lib\\site-packages\\selenium\\webdriver\\remote\\webdriver.py\u001b[0m in \u001b[0;36mexecute\u001b[1;34m(self, driver_command, params)\u001b[0m\n\u001b[0;32m    422\u001b[0m         \u001b[0mresponse\u001b[0m \u001b[1;33m=\u001b[0m \u001b[0mself\u001b[0m\u001b[1;33m.\u001b[0m\u001b[0mcommand_executor\u001b[0m\u001b[1;33m.\u001b[0m\u001b[0mexecute\u001b[0m\u001b[1;33m(\u001b[0m\u001b[0mdriver_command\u001b[0m\u001b[1;33m,\u001b[0m \u001b[0mparams\u001b[0m\u001b[1;33m)\u001b[0m\u001b[1;33m\u001b[0m\u001b[1;33m\u001b[0m\u001b[0m\n\u001b[0;32m    423\u001b[0m         \u001b[1;32mif\u001b[0m \u001b[0mresponse\u001b[0m\u001b[1;33m:\u001b[0m\u001b[1;33m\u001b[0m\u001b[1;33m\u001b[0m\u001b[0m\n\u001b[1;32m--> 424\u001b[1;33m             \u001b[0mself\u001b[0m\u001b[1;33m.\u001b[0m\u001b[0merror_handler\u001b[0m\u001b[1;33m.\u001b[0m\u001b[0mcheck_response\u001b[0m\u001b[1;33m(\u001b[0m\u001b[0mresponse\u001b[0m\u001b[1;33m)\u001b[0m\u001b[1;33m\u001b[0m\u001b[1;33m\u001b[0m\u001b[0m\n\u001b[0m\u001b[0;32m    425\u001b[0m             response['value'] = self._unwrap_value(\n\u001b[0;32m    426\u001b[0m                 response.get('value', None))\n",
      "\u001b[1;32mC:\\ProgramData\\Anaconda3\\lib\\site-packages\\selenium\\webdriver\\remote\\errorhandler.py\u001b[0m in \u001b[0;36mcheck_response\u001b[1;34m(self, response)\u001b[0m\n\u001b[0;32m    245\u001b[0m                 \u001b[0malert_text\u001b[0m \u001b[1;33m=\u001b[0m \u001b[0mvalue\u001b[0m\u001b[1;33m[\u001b[0m\u001b[1;34m'alert'\u001b[0m\u001b[1;33m]\u001b[0m\u001b[1;33m.\u001b[0m\u001b[0mget\u001b[0m\u001b[1;33m(\u001b[0m\u001b[1;34m'text'\u001b[0m\u001b[1;33m)\u001b[0m\u001b[1;33m\u001b[0m\u001b[1;33m\u001b[0m\u001b[0m\n\u001b[0;32m    246\u001b[0m             \u001b[1;32mraise\u001b[0m \u001b[0mexception_class\u001b[0m\u001b[1;33m(\u001b[0m\u001b[0mmessage\u001b[0m\u001b[1;33m,\u001b[0m \u001b[0mscreen\u001b[0m\u001b[1;33m,\u001b[0m \u001b[0mstacktrace\u001b[0m\u001b[1;33m,\u001b[0m \u001b[0malert_text\u001b[0m\u001b[1;33m)\u001b[0m  \u001b[1;31m# type: ignore[call-arg]  # mypy is not smart enough here\u001b[0m\u001b[1;33m\u001b[0m\u001b[1;33m\u001b[0m\u001b[0m\n\u001b[1;32m--> 247\u001b[1;33m         \u001b[1;32mraise\u001b[0m \u001b[0mexception_class\u001b[0m\u001b[1;33m(\u001b[0m\u001b[0mmessage\u001b[0m\u001b[1;33m,\u001b[0m \u001b[0mscreen\u001b[0m\u001b[1;33m,\u001b[0m \u001b[0mstacktrace\u001b[0m\u001b[1;33m)\u001b[0m\u001b[1;33m\u001b[0m\u001b[1;33m\u001b[0m\u001b[0m\n\u001b[0m\u001b[0;32m    248\u001b[0m \u001b[1;33m\u001b[0m\u001b[0m\n\u001b[0;32m    249\u001b[0m     \u001b[1;32mdef\u001b[0m \u001b[0m_value_or_default\u001b[0m\u001b[1;33m(\u001b[0m\u001b[0mself\u001b[0m\u001b[1;33m,\u001b[0m \u001b[0mobj\u001b[0m\u001b[1;33m:\u001b[0m \u001b[0mMapping\u001b[0m\u001b[1;33m[\u001b[0m\u001b[0m_KT\u001b[0m\u001b[1;33m,\u001b[0m \u001b[0m_VT\u001b[0m\u001b[1;33m]\u001b[0m\u001b[1;33m,\u001b[0m \u001b[0mkey\u001b[0m\u001b[1;33m:\u001b[0m \u001b[0m_KT\u001b[0m\u001b[1;33m,\u001b[0m \u001b[0mdefault\u001b[0m\u001b[1;33m:\u001b[0m \u001b[0m_VT\u001b[0m\u001b[1;33m)\u001b[0m \u001b[1;33m->\u001b[0m \u001b[0m_VT\u001b[0m\u001b[1;33m:\u001b[0m\u001b[1;33m\u001b[0m\u001b[1;33m\u001b[0m\u001b[0m\n",
      "\u001b[1;31mElementNotInteractableException\u001b[0m: Message: element not interactable\n  (Session info: chrome=98.0.4758.102)\nStacktrace:\nBacktrace:\n\tOrdinal0 [0x008169A3+2582947]\n\tOrdinal0 [0x007AA6D1+2139857]\n\tOrdinal0 [0x006A3960+1063264]\n\tOrdinal0 [0x006CB493+1225875]\n\tOrdinal0 [0x006CABDC+1223644]\n\tOrdinal0 [0x006E854C+1344844]\n\tOrdinal0 [0x006C6524+1205540]\n\tOrdinal0 [0x006E86A4+1345188]\n\tOrdinal0 [0x006F834A+1409866]\n\tOrdinal0 [0x006E8366+1344358]\n\tOrdinal0 [0x006C5176+1200502]\n\tOrdinal0 [0x006C6066+1204326]\n\tGetHandleVerifier [0x009BBE02+1675858]\n\tGetHandleVerifier [0x00A7036C+2414524]\n\tGetHandleVerifier [0x008ABB01+560977]\n\tGetHandleVerifier [0x008AA8D3+556323]\n\tOrdinal0 [0x007B020E+2163214]\n\tOrdinal0 [0x007B5078+2183288]\n\tOrdinal0 [0x007B51C0+2183616]\n\tOrdinal0 [0x007BEE1C+2223644]\n\tBaseThreadInitThunk [0x76006739+25]\n\tRtlGetFullPathName_UEx [0x76F18E7F+1215]\n\tRtlGetFullPathName_UEx [0x76F18E4D+1165]\n"
     ]
    }
   ],
   "source": [
    "search_price.send_keys('Rs. 7149 to Rs. 14099')"
   ]
  },
  {
   "cell_type": "code",
   "execution_count": 157,
   "id": "f207f4a1",
   "metadata": {},
   "outputs": [
    {
     "data": {
      "text/plain": [
       "<selenium.webdriver.remote.webelement.WebElement (session=\"531b46525c2e69137d1840f8e10d618c\", element=\"ddb76678-2ba0-48e8-9a1b-1a754ac07344\")>"
      ]
     },
     "execution_count": 157,
     "metadata": {},
     "output_type": "execute_result"
    }
   ],
   "source": [
    "search_color = driver.find_element_by_class_name('common-customCheckbox')\n",
    "search_color"
   ]
  },
  {
   "cell_type": "code",
   "execution_count": 159,
   "id": "f87785de",
   "metadata": {},
   "outputs": [
    {
     "data": {
      "text/plain": [
       "<selenium.webdriver.remote.webelement.WebElement (session=\"531b46525c2e69137d1840f8e10d618c\", element=\"a2c6ac07-912f-4a3e-9be6-3c55910828c9\")>"
      ]
     },
     "execution_count": 159,
     "metadata": {},
     "output_type": "execute_result"
    }
   ],
   "source": [
    "brand = driver.find_element_by_class_name('brand-list')\n",
    "brand"
   ]
  },
  {
   "cell_type": "code",
   "execution_count": 160,
   "id": "c9a1b3ae",
   "metadata": {},
   "outputs": [
    {
     "data": {
      "text/plain": [
       "'Saint G(70)\\nGeox(69)\\nROSSO BRUNELLO(65)\\nNike(34)\\nALDO(34)\\nPuma(30)\\nECCO(28)\\nBirkenstock(28)'"
      ]
     },
     "execution_count": 160,
     "metadata": {},
     "output_type": "execute_result"
    }
   ],
   "source": [
    "brand.text"
   ]
  },
  {
   "cell_type": "code",
   "execution_count": 161,
   "id": "224824ff",
   "metadata": {},
   "outputs": [
    {
     "data": {
      "text/plain": [
       "[<selenium.webdriver.remote.webelement.WebElement (session=\"531b46525c2e69137d1840f8e10d618c\", element=\"a2c6ac07-912f-4a3e-9be6-3c55910828c9\")>]"
      ]
     },
     "execution_count": 161,
     "metadata": {},
     "output_type": "execute_result"
    }
   ],
   "source": [
    "page_brand=driver.find_elements_by_xpath('/html/body/div[2]/div/div[1]/main/div[3]/div[1]/section/div/div[3]/ul')\n",
    "page_brand"
   ]
  },
  {
   "cell_type": "code",
   "execution_count": 168,
   "id": "a79a5c10",
   "metadata": {},
   "outputs": [],
   "source": [
    "brand = driver.find_elements_by_class_name('product-brand')\n",
    "    "
   ]
  },
  {
   "cell_type": "code",
   "execution_count": 169,
   "id": "3ea2960f",
   "metadata": {},
   "outputs": [],
   "source": [
    "for i in brand:\n",
    "    brand_name.append(i.text)"
   ]
  },
  {
   "cell_type": "code",
   "execution_count": null,
   "id": "b3e80982",
   "metadata": {},
   "outputs": [],
   "source": [
    "QUESTION 8"
   ]
  },
  {
   "cell_type": "code",
   "execution_count": 170,
   "id": "b688fb19",
   "metadata": {},
   "outputs": [],
   "source": [
    "driver=webdriver.Chrome('chromedriver.exe')"
   ]
  },
  {
   "cell_type": "code",
   "execution_count": 171,
   "id": "32575271",
   "metadata": {},
   "outputs": [],
   "source": [
    "url='https://www.amazon.in/'\n",
    "driver.get(url)"
   ]
  },
  {
   "cell_type": "code",
   "execution_count": 172,
   "id": "6f563449",
   "metadata": {},
   "outputs": [
    {
     "data": {
      "text/plain": [
       "<selenium.webdriver.remote.webelement.WebElement (session=\"a01c4f0e14a18bb2fa1e1de6d5299dbd\", element=\"03321492-f467-4d5f-ad8d-7346681d2150\")>"
      ]
     },
     "execution_count": 172,
     "metadata": {},
     "output_type": "execute_result"
    }
   ],
   "source": [
    "search_lap=driver.find_element_by_id('twotabsearchtextbox')\n",
    "search_lap"
   ]
  },
  {
   "cell_type": "code",
   "execution_count": 173,
   "id": "1662a378",
   "metadata": {},
   "outputs": [],
   "source": [
    "search_lap.send_keys(\"Laptop\")"
   ]
  },
  {
   "cell_type": "code",
   "execution_count": 174,
   "id": "62371194",
   "metadata": {},
   "outputs": [],
   "source": [
    "button_search=driver.find_element_by_id(\"nav-search-submit-button\")"
   ]
  },
  {
   "cell_type": "code",
   "execution_count": 175,
   "id": "0d3a365b",
   "metadata": {},
   "outputs": [],
   "source": [
    "button_search.click()"
   ]
  },
  {
   "cell_type": "code",
   "execution_count": 176,
   "id": "8f654b25",
   "metadata": {},
   "outputs": [],
   "source": [
    "core_i7=driver.find_element_by_xpath(\"/html/body/div[1]/div[2]/div[1]/div[2]/div/div[3]/span/div[1]/div/div/div[6]/ul[3]/li[11]/span/a/div/label\")\n",
    "core_i7.click()"
   ]
  },
  {
   "cell_type": "code",
   "execution_count": 178,
   "id": "5b5674bd",
   "metadata": {},
   "outputs": [
    {
     "ename": "NoSuchElementException",
     "evalue": "Message: no such element: Unable to locate element: {\"method\":\"xpath\",\"selector\":\"/html/body/div[1]/div[2]/div[1]/div[2]/div/div[3]/span/div[1]/div/div/div[6]/ul[4]/li[12]/span/a/div/label/input\"}\n  (Session info: chrome=98.0.4758.102)\nStacktrace:\nBacktrace:\n\tOrdinal0 [0x008169A3+2582947]\n\tOrdinal0 [0x007AA6D1+2139857]\n\tOrdinal0 [0x006A3A98+1063576]\n\tOrdinal0 [0x006CFF3E+1244990]\n\tOrdinal0 [0x006D013B+1245499]\n\tOrdinal0 [0x006F9F52+1417042]\n\tOrdinal0 [0x006E8594+1344916]\n\tOrdinal0 [0x006F834A+1409866]\n\tOrdinal0 [0x006E8366+1344358]\n\tOrdinal0 [0x006C5176+1200502]\n\tOrdinal0 [0x006C6066+1204326]\n\tGetHandleVerifier [0x009BBE02+1675858]\n\tGetHandleVerifier [0x00A7036C+2414524]\n\tGetHandleVerifier [0x008ABB01+560977]\n\tGetHandleVerifier [0x008AA8D3+556323]\n\tOrdinal0 [0x007B020E+2163214]\n\tOrdinal0 [0x007B5078+2183288]\n\tOrdinal0 [0x007B51C0+2183616]\n\tOrdinal0 [0x007BEE1C+2223644]\n\tBaseThreadInitThunk [0x76006739+25]\n\tRtlGetFullPathName_UEx [0x76F18E7F+1215]\n\tRtlGetFullPathName_UEx [0x76F18E4D+1165]\n",
     "output_type": "error",
     "traceback": [
      "\u001b[1;31m---------------------------------------------------------------------------\u001b[0m",
      "\u001b[1;31mNoSuchElementException\u001b[0m                    Traceback (most recent call last)",
      "\u001b[1;32m<ipython-input-178-5927e4b22605>\u001b[0m in \u001b[0;36m<module>\u001b[1;34m\u001b[0m\n\u001b[1;32m----> 1\u001b[1;33m \u001b[0mcore_i9\u001b[0m\u001b[1;33m=\u001b[0m\u001b[0mdriver\u001b[0m\u001b[1;33m.\u001b[0m\u001b[0mfind_element_by_xpath\u001b[0m\u001b[1;33m(\u001b[0m\u001b[1;34m\"/html/body/div[1]/div[2]/div[1]/div[2]/div/div[3]/span/div[1]/div/div/div[6]/ul[4]/li[12]/span/a/div/label/input\"\u001b[0m\u001b[1;33m)\u001b[0m\u001b[1;33m\u001b[0m\u001b[1;33m\u001b[0m\u001b[0m\n\u001b[0m\u001b[0;32m      2\u001b[0m \u001b[0mcore_i9\u001b[0m\u001b[1;33m.\u001b[0m\u001b[0mclick\u001b[0m\u001b[1;33m\u001b[0m\u001b[1;33m\u001b[0m\u001b[0m\n",
      "\u001b[1;32mC:\\ProgramData\\Anaconda3\\lib\\site-packages\\selenium\\webdriver\\remote\\webdriver.py\u001b[0m in \u001b[0;36mfind_element_by_xpath\u001b[1;34m(self, xpath)\u001b[0m\n\u001b[0;32m    518\u001b[0m             \u001b[0mstacklevel\u001b[0m\u001b[1;33m=\u001b[0m\u001b[1;36m2\u001b[0m\u001b[1;33m,\u001b[0m\u001b[1;33m\u001b[0m\u001b[1;33m\u001b[0m\u001b[0m\n\u001b[0;32m    519\u001b[0m         )\n\u001b[1;32m--> 520\u001b[1;33m         \u001b[1;32mreturn\u001b[0m \u001b[0mself\u001b[0m\u001b[1;33m.\u001b[0m\u001b[0mfind_element\u001b[0m\u001b[1;33m(\u001b[0m\u001b[0mby\u001b[0m\u001b[1;33m=\u001b[0m\u001b[0mBy\u001b[0m\u001b[1;33m.\u001b[0m\u001b[0mXPATH\u001b[0m\u001b[1;33m,\u001b[0m \u001b[0mvalue\u001b[0m\u001b[1;33m=\u001b[0m\u001b[0mxpath\u001b[0m\u001b[1;33m)\u001b[0m\u001b[1;33m\u001b[0m\u001b[1;33m\u001b[0m\u001b[0m\n\u001b[0m\u001b[0;32m    521\u001b[0m \u001b[1;33m\u001b[0m\u001b[0m\n\u001b[0;32m    522\u001b[0m     \u001b[1;32mdef\u001b[0m \u001b[0mfind_elements_by_xpath\u001b[0m\u001b[1;33m(\u001b[0m\u001b[0mself\u001b[0m\u001b[1;33m,\u001b[0m \u001b[0mxpath\u001b[0m\u001b[1;33m)\u001b[0m \u001b[1;33m->\u001b[0m \u001b[0mWebElement\u001b[0m\u001b[1;33m:\u001b[0m\u001b[1;33m\u001b[0m\u001b[1;33m\u001b[0m\u001b[0m\n",
      "\u001b[1;32mC:\\ProgramData\\Anaconda3\\lib\\site-packages\\selenium\\webdriver\\remote\\webdriver.py\u001b[0m in \u001b[0;36mfind_element\u001b[1;34m(self, by, value)\u001b[0m\n\u001b[0;32m   1242\u001b[0m             \u001b[0mvalue\u001b[0m \u001b[1;33m=\u001b[0m \u001b[1;34m'[name=\"%s\"]'\u001b[0m \u001b[1;33m%\u001b[0m \u001b[0mvalue\u001b[0m\u001b[1;33m\u001b[0m\u001b[1;33m\u001b[0m\u001b[0m\n\u001b[0;32m   1243\u001b[0m \u001b[1;33m\u001b[0m\u001b[0m\n\u001b[1;32m-> 1244\u001b[1;33m         return self.execute(Command.FIND_ELEMENT, {\n\u001b[0m\u001b[0;32m   1245\u001b[0m             \u001b[1;34m'using'\u001b[0m\u001b[1;33m:\u001b[0m \u001b[0mby\u001b[0m\u001b[1;33m,\u001b[0m\u001b[1;33m\u001b[0m\u001b[1;33m\u001b[0m\u001b[0m\n\u001b[0;32m   1246\u001b[0m             'value': value})['value']\n",
      "\u001b[1;32mC:\\ProgramData\\Anaconda3\\lib\\site-packages\\selenium\\webdriver\\remote\\webdriver.py\u001b[0m in \u001b[0;36mexecute\u001b[1;34m(self, driver_command, params)\u001b[0m\n\u001b[0;32m    422\u001b[0m         \u001b[0mresponse\u001b[0m \u001b[1;33m=\u001b[0m \u001b[0mself\u001b[0m\u001b[1;33m.\u001b[0m\u001b[0mcommand_executor\u001b[0m\u001b[1;33m.\u001b[0m\u001b[0mexecute\u001b[0m\u001b[1;33m(\u001b[0m\u001b[0mdriver_command\u001b[0m\u001b[1;33m,\u001b[0m \u001b[0mparams\u001b[0m\u001b[1;33m)\u001b[0m\u001b[1;33m\u001b[0m\u001b[1;33m\u001b[0m\u001b[0m\n\u001b[0;32m    423\u001b[0m         \u001b[1;32mif\u001b[0m \u001b[0mresponse\u001b[0m\u001b[1;33m:\u001b[0m\u001b[1;33m\u001b[0m\u001b[1;33m\u001b[0m\u001b[0m\n\u001b[1;32m--> 424\u001b[1;33m             \u001b[0mself\u001b[0m\u001b[1;33m.\u001b[0m\u001b[0merror_handler\u001b[0m\u001b[1;33m.\u001b[0m\u001b[0mcheck_response\u001b[0m\u001b[1;33m(\u001b[0m\u001b[0mresponse\u001b[0m\u001b[1;33m)\u001b[0m\u001b[1;33m\u001b[0m\u001b[1;33m\u001b[0m\u001b[0m\n\u001b[0m\u001b[0;32m    425\u001b[0m             response['value'] = self._unwrap_value(\n\u001b[0;32m    426\u001b[0m                 response.get('value', None))\n",
      "\u001b[1;32mC:\\ProgramData\\Anaconda3\\lib\\site-packages\\selenium\\webdriver\\remote\\errorhandler.py\u001b[0m in \u001b[0;36mcheck_response\u001b[1;34m(self, response)\u001b[0m\n\u001b[0;32m    245\u001b[0m                 \u001b[0malert_text\u001b[0m \u001b[1;33m=\u001b[0m \u001b[0mvalue\u001b[0m\u001b[1;33m[\u001b[0m\u001b[1;34m'alert'\u001b[0m\u001b[1;33m]\u001b[0m\u001b[1;33m.\u001b[0m\u001b[0mget\u001b[0m\u001b[1;33m(\u001b[0m\u001b[1;34m'text'\u001b[0m\u001b[1;33m)\u001b[0m\u001b[1;33m\u001b[0m\u001b[1;33m\u001b[0m\u001b[0m\n\u001b[0;32m    246\u001b[0m             \u001b[1;32mraise\u001b[0m \u001b[0mexception_class\u001b[0m\u001b[1;33m(\u001b[0m\u001b[0mmessage\u001b[0m\u001b[1;33m,\u001b[0m \u001b[0mscreen\u001b[0m\u001b[1;33m,\u001b[0m \u001b[0mstacktrace\u001b[0m\u001b[1;33m,\u001b[0m \u001b[0malert_text\u001b[0m\u001b[1;33m)\u001b[0m  \u001b[1;31m# type: ignore[call-arg]  # mypy is not smart enough here\u001b[0m\u001b[1;33m\u001b[0m\u001b[1;33m\u001b[0m\u001b[0m\n\u001b[1;32m--> 247\u001b[1;33m         \u001b[1;32mraise\u001b[0m \u001b[0mexception_class\u001b[0m\u001b[1;33m(\u001b[0m\u001b[0mmessage\u001b[0m\u001b[1;33m,\u001b[0m \u001b[0mscreen\u001b[0m\u001b[1;33m,\u001b[0m \u001b[0mstacktrace\u001b[0m\u001b[1;33m)\u001b[0m\u001b[1;33m\u001b[0m\u001b[1;33m\u001b[0m\u001b[0m\n\u001b[0m\u001b[0;32m    248\u001b[0m \u001b[1;33m\u001b[0m\u001b[0m\n\u001b[0;32m    249\u001b[0m     \u001b[1;32mdef\u001b[0m \u001b[0m_value_or_default\u001b[0m\u001b[1;33m(\u001b[0m\u001b[0mself\u001b[0m\u001b[1;33m,\u001b[0m \u001b[0mobj\u001b[0m\u001b[1;33m:\u001b[0m \u001b[0mMapping\u001b[0m\u001b[1;33m[\u001b[0m\u001b[0m_KT\u001b[0m\u001b[1;33m,\u001b[0m \u001b[0m_VT\u001b[0m\u001b[1;33m]\u001b[0m\u001b[1;33m,\u001b[0m \u001b[0mkey\u001b[0m\u001b[1;33m:\u001b[0m \u001b[0m_KT\u001b[0m\u001b[1;33m,\u001b[0m \u001b[0mdefault\u001b[0m\u001b[1;33m:\u001b[0m \u001b[0m_VT\u001b[0m\u001b[1;33m)\u001b[0m \u001b[1;33m->\u001b[0m \u001b[0m_VT\u001b[0m\u001b[1;33m:\u001b[0m\u001b[1;33m\u001b[0m\u001b[1;33m\u001b[0m\u001b[0m\n",
      "\u001b[1;31mNoSuchElementException\u001b[0m: Message: no such element: Unable to locate element: {\"method\":\"xpath\",\"selector\":\"/html/body/div[1]/div[2]/div[1]/div[2]/div/div[3]/span/div[1]/div/div/div[6]/ul[4]/li[12]/span/a/div/label/input\"}\n  (Session info: chrome=98.0.4758.102)\nStacktrace:\nBacktrace:\n\tOrdinal0 [0x008169A3+2582947]\n\tOrdinal0 [0x007AA6D1+2139857]\n\tOrdinal0 [0x006A3A98+1063576]\n\tOrdinal0 [0x006CFF3E+1244990]\n\tOrdinal0 [0x006D013B+1245499]\n\tOrdinal0 [0x006F9F52+1417042]\n\tOrdinal0 [0x006E8594+1344916]\n\tOrdinal0 [0x006F834A+1409866]\n\tOrdinal0 [0x006E8366+1344358]\n\tOrdinal0 [0x006C5176+1200502]\n\tOrdinal0 [0x006C6066+1204326]\n\tGetHandleVerifier [0x009BBE02+1675858]\n\tGetHandleVerifier [0x00A7036C+2414524]\n\tGetHandleVerifier [0x008ABB01+560977]\n\tGetHandleVerifier [0x008AA8D3+556323]\n\tOrdinal0 [0x007B020E+2163214]\n\tOrdinal0 [0x007B5078+2183288]\n\tOrdinal0 [0x007B51C0+2183616]\n\tOrdinal0 [0x007BEE1C+2223644]\n\tBaseThreadInitThunk [0x76006739+25]\n\tRtlGetFullPathName_UEx [0x76F18E7F+1215]\n\tRtlGetFullPathName_UEx [0x76F18E4D+1165]\n"
     ]
    }
   ],
   "source": [
    "core_i9=driver.find_element_by_xpath(\"/html/body/div[1]/div[2]/div[1]/div[2]/div/div[3]/span/div[1]/div/div/div[6]/ul[4]/li[12]/span/a/div/label/input\")\n",
    "core_i9.click"
   ]
  },
  {
   "cell_type": "code",
   "execution_count": 179,
   "id": "bbc06670",
   "metadata": {},
   "outputs": [],
   "source": [
    "lap_title=driver.find_elements_by_xpath('//a[@class=\"a-link-normal s-underline-text s-underline-link-text s-link-style a-text-normal\"]')"
   ]
  },
  {
   "cell_type": "code",
   "execution_count": 180,
   "id": "6c026855",
   "metadata": {},
   "outputs": [
    {
     "data": {
      "text/plain": [
       "[<selenium.webdriver.remote.webelement.WebElement (session=\"a01c4f0e14a18bb2fa1e1de6d5299dbd\", element=\"74cf6df9-8574-4d21-9103-e2aa5fc11aad\")>,\n",
       " <selenium.webdriver.remote.webelement.WebElement (session=\"a01c4f0e14a18bb2fa1e1de6d5299dbd\", element=\"3cb7cfe0-e39e-4c03-97b2-c64d3a919e58\")>,\n",
       " <selenium.webdriver.remote.webelement.WebElement (session=\"a01c4f0e14a18bb2fa1e1de6d5299dbd\", element=\"a97aab98-625a-4ec7-a5cd-b591ee22baa1\")>,\n",
       " <selenium.webdriver.remote.webelement.WebElement (session=\"a01c4f0e14a18bb2fa1e1de6d5299dbd\", element=\"65bc8b14-e472-4175-b40f-46d41e2b68f4\")>,\n",
       " <selenium.webdriver.remote.webelement.WebElement (session=\"a01c4f0e14a18bb2fa1e1de6d5299dbd\", element=\"33543299-b40f-476a-a814-d99dd774da12\")>,\n",
       " <selenium.webdriver.remote.webelement.WebElement (session=\"a01c4f0e14a18bb2fa1e1de6d5299dbd\", element=\"eecfd835-3982-4606-95f5-fe585750fd77\")>,\n",
       " <selenium.webdriver.remote.webelement.WebElement (session=\"a01c4f0e14a18bb2fa1e1de6d5299dbd\", element=\"72710df8-3e0c-486c-8554-a80ac07d76d5\")>,\n",
       " <selenium.webdriver.remote.webelement.WebElement (session=\"a01c4f0e14a18bb2fa1e1de6d5299dbd\", element=\"1be13d1e-d9ee-40e9-91a6-25fb0ba38581\")>,\n",
       " <selenium.webdriver.remote.webelement.WebElement (session=\"a01c4f0e14a18bb2fa1e1de6d5299dbd\", element=\"692ab5f6-38b4-4c9f-9530-89e74b1d4025\")>,\n",
       " <selenium.webdriver.remote.webelement.WebElement (session=\"a01c4f0e14a18bb2fa1e1de6d5299dbd\", element=\"d747a3a6-e49b-466b-9f59-88225e8cbe5c\")>,\n",
       " <selenium.webdriver.remote.webelement.WebElement (session=\"a01c4f0e14a18bb2fa1e1de6d5299dbd\", element=\"cedc4d12-8fa3-42a6-a3f0-ff67cf80538e\")>,\n",
       " <selenium.webdriver.remote.webelement.WebElement (session=\"a01c4f0e14a18bb2fa1e1de6d5299dbd\", element=\"78181025-1b61-4892-bb57-fa5e1edf1b29\")>,\n",
       " <selenium.webdriver.remote.webelement.WebElement (session=\"a01c4f0e14a18bb2fa1e1de6d5299dbd\", element=\"fac79af2-5c20-4496-b5b6-3e822e70e7d6\")>,\n",
       " <selenium.webdriver.remote.webelement.WebElement (session=\"a01c4f0e14a18bb2fa1e1de6d5299dbd\", element=\"c5e574c5-68bb-4657-a7c8-6c3ddbb327a8\")>,\n",
       " <selenium.webdriver.remote.webelement.WebElement (session=\"a01c4f0e14a18bb2fa1e1de6d5299dbd\", element=\"c80dd007-69ef-4a2d-8b75-8f5125032e8e\")>,\n",
       " <selenium.webdriver.remote.webelement.WebElement (session=\"a01c4f0e14a18bb2fa1e1de6d5299dbd\", element=\"857f1e87-8dcd-4e89-ba58-489ef71fd121\")>,\n",
       " <selenium.webdriver.remote.webelement.WebElement (session=\"a01c4f0e14a18bb2fa1e1de6d5299dbd\", element=\"5f20a1cf-e660-49a8-bcb1-ec67de4a40fc\")>,\n",
       " <selenium.webdriver.remote.webelement.WebElement (session=\"a01c4f0e14a18bb2fa1e1de6d5299dbd\", element=\"132791c5-18e3-4401-9c1b-a21ed7f68b30\")>,\n",
       " <selenium.webdriver.remote.webelement.WebElement (session=\"a01c4f0e14a18bb2fa1e1de6d5299dbd\", element=\"918ff0ea-7117-474c-aa86-b895e158e921\")>,\n",
       " <selenium.webdriver.remote.webelement.WebElement (session=\"a01c4f0e14a18bb2fa1e1de6d5299dbd\", element=\"e6ab21e7-68b1-494d-a8ee-279c7140adab\")>,\n",
       " <selenium.webdriver.remote.webelement.WebElement (session=\"a01c4f0e14a18bb2fa1e1de6d5299dbd\", element=\"f6ae8297-cdf4-4869-9900-caa07457d81b\")>,\n",
       " <selenium.webdriver.remote.webelement.WebElement (session=\"a01c4f0e14a18bb2fa1e1de6d5299dbd\", element=\"9a40f63a-eb3a-481f-9d08-df0799c08b7f\")>,\n",
       " <selenium.webdriver.remote.webelement.WebElement (session=\"a01c4f0e14a18bb2fa1e1de6d5299dbd\", element=\"9b55bb3b-9c6f-4663-b75b-d85c2839878f\")>,\n",
       " <selenium.webdriver.remote.webelement.WebElement (session=\"a01c4f0e14a18bb2fa1e1de6d5299dbd\", element=\"73f63ea4-6837-4c8a-bc51-4ca23b228170\")>,\n",
       " <selenium.webdriver.remote.webelement.WebElement (session=\"a01c4f0e14a18bb2fa1e1de6d5299dbd\", element=\"c2d9a60a-96b4-4492-8e88-cc99833da7bf\")>,\n",
       " <selenium.webdriver.remote.webelement.WebElement (session=\"a01c4f0e14a18bb2fa1e1de6d5299dbd\", element=\"429b1832-284a-4af6-9f95-4223a5a4286b\")>,\n",
       " <selenium.webdriver.remote.webelement.WebElement (session=\"a01c4f0e14a18bb2fa1e1de6d5299dbd\", element=\"e604bcc2-acd9-4a70-ac8d-947cd4b36f06\")>,\n",
       " <selenium.webdriver.remote.webelement.WebElement (session=\"a01c4f0e14a18bb2fa1e1de6d5299dbd\", element=\"18e0117a-4ca6-441b-b227-52885ce07662\")>,\n",
       " <selenium.webdriver.remote.webelement.WebElement (session=\"a01c4f0e14a18bb2fa1e1de6d5299dbd\", element=\"a671a6c8-851e-440e-b4fb-c12b000a32a9\")>,\n",
       " <selenium.webdriver.remote.webelement.WebElement (session=\"a01c4f0e14a18bb2fa1e1de6d5299dbd\", element=\"830c35b8-ef60-4464-878f-2e21af689470\")>]"
      ]
     },
     "execution_count": 180,
     "metadata": {},
     "output_type": "execute_result"
    }
   ],
   "source": [
    "lap_title"
   ]
  },
  {
   "cell_type": "code",
   "execution_count": 181,
   "id": "55740b50",
   "metadata": {},
   "outputs": [
    {
     "data": {
      "text/plain": [
       "['HP 15 Thin & Light Ryzen 3-3250 Laptop, 8 GB RAM, 1TB HDD + 256GB SSD, 15.6\" (39.2 cms) FHD Screen, Win 10, MS Office (15s-gr0012AU) + Wired Mouse + Microsoft 365 Personal 12-Month Subscription',\n",
       " 'Dell 14 (2021) Thin & Light i3-1005G1 Laptop, 4Gb RAM, 1TB HDD + 256GB SSD, 14” FHD AG Display, Win 10 + MSO,Black + Wireless Mouse + Microsoft 365 Personal 12-Month Subscription',\n",
       " 'Lenovo Chromebook 14e 14.0\" FHD Business Laptop (AMD 3015Ce Processor/4GB DDR4 RAM/64GB Storage eMMC/AMD Radeon Graphics/Chrome OS/Grey) 82M10019HA',\n",
       " 'Lenovo IdeaPad Slim 3 10th Gen Intel Core i3 15.6\"(39.62cm) FHD Thin & Light Laptop (8GB/256GB SSD/UHD Graphics/Windows 11/MS Office 2021/Platinum Grey/1.7Kg), 81WB01EFIN',\n",
       " 'Dell 15 (2021) Athlon Silver 3050U, 4GB, 256GB SSD, Win 11 + MS Office\\'21, AMD Vega Graphics, , 15.6\" (39.62 cms) HD Display, Carbon Black (Inspiron 3515, D560702WIN9BE)',\n",
       " 'HP Chromebook 14 Intel Celeron N4020-4GB SDRAM/64GB eMMC + 256GB Expandable Storage 14inch(35.6 cm) Thin & Light Touchscreen Laptop (Chrome OS/B&O/Google Assistant/BL Keyboard/1.46 kg),14a-na0003TU',\n",
       " 'HP Chromebook 14 Intel Celeron N4020-4GB SDRAM/64GB eMMC + 256GB Expandable Storage 14inch(35.6 cm) Thin & Light Touchscreen Laptop (Chrome OS/B&O/Google Assistant/BL Keyboard/1.46 kg),14a-na0002TU',\n",
       " 'Lenovo V15 Intel Celeron N4020 15.6\" FHD (1080p)(39.62 cm) HD Thin and Light Laptop (4GB RAM/1 TB HDD / DOS /Iron Grey/1 Year Onsite Warranty/1.7 kg), 82C30052IH',\n",
       " 'Dell 14 (2021) Ryzen 3-3250U, 8GB, 512GB SSD, Win 11 + MS Office\\'21, Integrated Graphics, 14\" (35.56 cms) FHD Display, Black (Vostro 3405, D552235WIN9B)',\n",
       " 'Lenovo IdeaPad Slim 3 10th Gen Intel Core i3 14\" (35.56cm) FHD Thin & Light Laptop (4GB/256GB SSD/Windows 11/MS Office 2021/2Year Warranty/Abyss Blue/1.6Kg), 81WD0141IN']"
      ]
     },
     "execution_count": 181,
     "metadata": {},
     "output_type": "execute_result"
    }
   ],
   "source": [
    "top10=[]\n",
    "for i in lap_title:\n",
    "    top10.append(i.text)\n",
    "    top10=top10[0:10]    \n",
    "top10"
   ]
  },
  {
   "cell_type": "code",
   "execution_count": 185,
   "id": "ccdbdd39",
   "metadata": {},
   "outputs": [],
   "source": [
    "Ratings=driver.find_elements_by_xpath('//a[@class=\"a-popover-trigger a-declarative\"]')"
   ]
  },
  {
   "cell_type": "code",
   "execution_count": 186,
   "id": "b5af296a",
   "metadata": {},
   "outputs": [
    {
     "data": {
      "text/plain": [
       "28"
      ]
     },
     "execution_count": 186,
     "metadata": {},
     "output_type": "execute_result"
    }
   ],
   "source": [
    "len(Ratings)"
   ]
  },
  {
   "cell_type": "code",
   "execution_count": 187,
   "id": "796c37af",
   "metadata": {},
   "outputs": [
    {
     "data": {
      "text/plain": [
       "[<selenium.webdriver.remote.webelement.WebElement (session=\"a01c4f0e14a18bb2fa1e1de6d5299dbd\", element=\"8e9774fc-b7f2-495c-b612-a7e3c4f72f40\")>,\n",
       " <selenium.webdriver.remote.webelement.WebElement (session=\"a01c4f0e14a18bb2fa1e1de6d5299dbd\", element=\"a80df18f-945b-4267-8c9c-0ce8e4c56f08\")>,\n",
       " <selenium.webdriver.remote.webelement.WebElement (session=\"a01c4f0e14a18bb2fa1e1de6d5299dbd\", element=\"b90ac648-f677-4883-a30d-bd23f8fbe531\")>,\n",
       " <selenium.webdriver.remote.webelement.WebElement (session=\"a01c4f0e14a18bb2fa1e1de6d5299dbd\", element=\"4f3bd062-2466-4da8-aaaf-c17cdc720c2a\")>,\n",
       " <selenium.webdriver.remote.webelement.WebElement (session=\"a01c4f0e14a18bb2fa1e1de6d5299dbd\", element=\"e5f4347c-3726-4a4f-8f20-21d40b41859b\")>,\n",
       " <selenium.webdriver.remote.webelement.WebElement (session=\"a01c4f0e14a18bb2fa1e1de6d5299dbd\", element=\"27079902-69ba-4c5f-b812-1a5f8a3ceb8d\")>,\n",
       " <selenium.webdriver.remote.webelement.WebElement (session=\"a01c4f0e14a18bb2fa1e1de6d5299dbd\", element=\"69243262-db5f-4b46-a880-39b530ea3840\")>,\n",
       " <selenium.webdriver.remote.webelement.WebElement (session=\"a01c4f0e14a18bb2fa1e1de6d5299dbd\", element=\"61e1c932-22a3-4618-9382-cdba2b214e97\")>,\n",
       " <selenium.webdriver.remote.webelement.WebElement (session=\"a01c4f0e14a18bb2fa1e1de6d5299dbd\", element=\"f813c29e-05a8-4c4d-b058-21005f755655\")>,\n",
       " <selenium.webdriver.remote.webelement.WebElement (session=\"a01c4f0e14a18bb2fa1e1de6d5299dbd\", element=\"72cd9911-5ec5-41e2-bb1e-eebd6f1cc29e\")>,\n",
       " <selenium.webdriver.remote.webelement.WebElement (session=\"a01c4f0e14a18bb2fa1e1de6d5299dbd\", element=\"c169ec8d-c028-4313-bbab-fd1d4ca67739\")>,\n",
       " <selenium.webdriver.remote.webelement.WebElement (session=\"a01c4f0e14a18bb2fa1e1de6d5299dbd\", element=\"cdfff0c4-ad4d-4245-aeec-49f4a6f12b2f\")>,\n",
       " <selenium.webdriver.remote.webelement.WebElement (session=\"a01c4f0e14a18bb2fa1e1de6d5299dbd\", element=\"a75550c1-938a-413c-81d3-de8168c18915\")>,\n",
       " <selenium.webdriver.remote.webelement.WebElement (session=\"a01c4f0e14a18bb2fa1e1de6d5299dbd\", element=\"a9011aa5-1f80-4783-a4aa-236305ac9f04\")>,\n",
       " <selenium.webdriver.remote.webelement.WebElement (session=\"a01c4f0e14a18bb2fa1e1de6d5299dbd\", element=\"a64e24eb-b3e3-4c9e-8530-dac6e52555b7\")>,\n",
       " <selenium.webdriver.remote.webelement.WebElement (session=\"a01c4f0e14a18bb2fa1e1de6d5299dbd\", element=\"9db62b58-ab81-471b-9737-3b333eb2a2d5\")>,\n",
       " <selenium.webdriver.remote.webelement.WebElement (session=\"a01c4f0e14a18bb2fa1e1de6d5299dbd\", element=\"73a880ae-013d-4322-a086-7cca2ae591a3\")>,\n",
       " <selenium.webdriver.remote.webelement.WebElement (session=\"a01c4f0e14a18bb2fa1e1de6d5299dbd\", element=\"9a8c1c79-1064-4ce6-a1db-657fd58ad3cb\")>,\n",
       " <selenium.webdriver.remote.webelement.WebElement (session=\"a01c4f0e14a18bb2fa1e1de6d5299dbd\", element=\"4f1bec79-433a-4920-9d77-92999cbbeb4c\")>,\n",
       " <selenium.webdriver.remote.webelement.WebElement (session=\"a01c4f0e14a18bb2fa1e1de6d5299dbd\", element=\"85499b50-7d61-4660-9b1f-4d00c96b26f0\")>,\n",
       " <selenium.webdriver.remote.webelement.WebElement (session=\"a01c4f0e14a18bb2fa1e1de6d5299dbd\", element=\"a97457a9-e0d3-4ad6-bedf-90a0f75e2a1b\")>,\n",
       " <selenium.webdriver.remote.webelement.WebElement (session=\"a01c4f0e14a18bb2fa1e1de6d5299dbd\", element=\"e56a582c-f8d3-490f-9478-bf77e13d3978\")>,\n",
       " <selenium.webdriver.remote.webelement.WebElement (session=\"a01c4f0e14a18bb2fa1e1de6d5299dbd\", element=\"1019c464-33e7-41a9-af57-ec1bd37658bb\")>,\n",
       " <selenium.webdriver.remote.webelement.WebElement (session=\"a01c4f0e14a18bb2fa1e1de6d5299dbd\", element=\"e3ad51e9-7f4b-4dc4-a466-caf3dba9eb9d\")>,\n",
       " <selenium.webdriver.remote.webelement.WebElement (session=\"a01c4f0e14a18bb2fa1e1de6d5299dbd\", element=\"9a5d2c97-769d-42b2-94da-14585b59c29a\")>,\n",
       " <selenium.webdriver.remote.webelement.WebElement (session=\"a01c4f0e14a18bb2fa1e1de6d5299dbd\", element=\"fb28af8f-6887-4ba0-81ee-468c0f0bb4b4\")>,\n",
       " <selenium.webdriver.remote.webelement.WebElement (session=\"a01c4f0e14a18bb2fa1e1de6d5299dbd\", element=\"8873d8a5-6638-4a04-848d-b2549f366eee\")>,\n",
       " <selenium.webdriver.remote.webelement.WebElement (session=\"a01c4f0e14a18bb2fa1e1de6d5299dbd\", element=\"ec1ccf8d-1680-4247-8c8b-e644a4a9d597\")>]"
      ]
     },
     "execution_count": 187,
     "metadata": {},
     "output_type": "execute_result"
    }
   ],
   "source": [
    "Ratings"
   ]
  },
  {
   "cell_type": "code",
   "execution_count": 189,
   "id": "41a69091",
   "metadata": {},
   "outputs": [
    {
     "data": {
      "text/plain": [
       "['', '', '', '', '', '', '', '', '', '']"
      ]
     },
     "execution_count": 189,
     "metadata": {},
     "output_type": "execute_result"
    }
   ],
   "source": [
    "top_rat=[]\n",
    "for i in Ratings:\n",
    "    top_rat.append(i.text)\n",
    "    top_rat=top_rat[0:10]    \n",
    "top_rat"
   ]
  },
  {
   "cell_type": "code",
   "execution_count": 190,
   "id": "f6acc16f",
   "metadata": {},
   "outputs": [
    {
     "data": {
      "text/plain": [
       "[<selenium.webdriver.remote.webelement.WebElement (session=\"a01c4f0e14a18bb2fa1e1de6d5299dbd\", element=\"ef87aa48-1806-4f23-a40b-78b62769b4ca\")>,\n",
       " <selenium.webdriver.remote.webelement.WebElement (session=\"a01c4f0e14a18bb2fa1e1de6d5299dbd\", element=\"9a8d7f11-67a6-49a2-920d-aa689c76331e\")>,\n",
       " <selenium.webdriver.remote.webelement.WebElement (session=\"a01c4f0e14a18bb2fa1e1de6d5299dbd\", element=\"1ac47cbe-879d-445b-a712-c92fb1722bca\")>,\n",
       " <selenium.webdriver.remote.webelement.WebElement (session=\"a01c4f0e14a18bb2fa1e1de6d5299dbd\", element=\"eb616884-3f64-4b6e-a592-447b76f10eda\")>,\n",
       " <selenium.webdriver.remote.webelement.WebElement (session=\"a01c4f0e14a18bb2fa1e1de6d5299dbd\", element=\"5c58cb64-033c-45af-97c0-abece01c3cda\")>,\n",
       " <selenium.webdriver.remote.webelement.WebElement (session=\"a01c4f0e14a18bb2fa1e1de6d5299dbd\", element=\"7bda2904-17e4-4d99-8404-50b95ab3929b\")>,\n",
       " <selenium.webdriver.remote.webelement.WebElement (session=\"a01c4f0e14a18bb2fa1e1de6d5299dbd\", element=\"853faeae-c9b5-4eda-bd71-d2f873888e31\")>,\n",
       " <selenium.webdriver.remote.webelement.WebElement (session=\"a01c4f0e14a18bb2fa1e1de6d5299dbd\", element=\"7e107195-9d41-4c38-b2a8-2d5fd85b69f4\")>,\n",
       " <selenium.webdriver.remote.webelement.WebElement (session=\"a01c4f0e14a18bb2fa1e1de6d5299dbd\", element=\"18ea265a-c59f-43e0-a662-ac97638a5762\")>,\n",
       " <selenium.webdriver.remote.webelement.WebElement (session=\"a01c4f0e14a18bb2fa1e1de6d5299dbd\", element=\"a583ed11-f6fe-4aaf-8501-da592689e879\")>,\n",
       " <selenium.webdriver.remote.webelement.WebElement (session=\"a01c4f0e14a18bb2fa1e1de6d5299dbd\", element=\"bd1c0528-1ce7-4932-b4d2-89d1eb5e16ad\")>,\n",
       " <selenium.webdriver.remote.webelement.WebElement (session=\"a01c4f0e14a18bb2fa1e1de6d5299dbd\", element=\"1b2fbeab-84f9-4ceb-b9ca-ac8dff74d377\")>,\n",
       " <selenium.webdriver.remote.webelement.WebElement (session=\"a01c4f0e14a18bb2fa1e1de6d5299dbd\", element=\"7997402e-3e83-4127-aa17-09dbddfd031a\")>,\n",
       " <selenium.webdriver.remote.webelement.WebElement (session=\"a01c4f0e14a18bb2fa1e1de6d5299dbd\", element=\"dd94fca2-869a-4472-a920-08d487f53289\")>,\n",
       " <selenium.webdriver.remote.webelement.WebElement (session=\"a01c4f0e14a18bb2fa1e1de6d5299dbd\", element=\"299d841b-3c90-463a-8d73-2e713a9cba7e\")>,\n",
       " <selenium.webdriver.remote.webelement.WebElement (session=\"a01c4f0e14a18bb2fa1e1de6d5299dbd\", element=\"6510aae3-be92-4e3d-a0ce-9a0b91d4d1d8\")>,\n",
       " <selenium.webdriver.remote.webelement.WebElement (session=\"a01c4f0e14a18bb2fa1e1de6d5299dbd\", element=\"828c7f97-e8c8-4aa9-a6a6-654ff296fd5f\")>,\n",
       " <selenium.webdriver.remote.webelement.WebElement (session=\"a01c4f0e14a18bb2fa1e1de6d5299dbd\", element=\"858dc1fc-ec54-4dfa-a5ce-6281f34dfbfb\")>,\n",
       " <selenium.webdriver.remote.webelement.WebElement (session=\"a01c4f0e14a18bb2fa1e1de6d5299dbd\", element=\"bc95a719-d584-4501-b681-b9f8f84b21dd\")>,\n",
       " <selenium.webdriver.remote.webelement.WebElement (session=\"a01c4f0e14a18bb2fa1e1de6d5299dbd\", element=\"41d0fada-8817-4f39-b1b8-119d650da286\")>,\n",
       " <selenium.webdriver.remote.webelement.WebElement (session=\"a01c4f0e14a18bb2fa1e1de6d5299dbd\", element=\"e2b020c8-be47-49c3-9966-496e1a7c235c\")>,\n",
       " <selenium.webdriver.remote.webelement.WebElement (session=\"a01c4f0e14a18bb2fa1e1de6d5299dbd\", element=\"beb2d5f9-f552-449b-b232-9446a015eb59\")>,\n",
       " <selenium.webdriver.remote.webelement.WebElement (session=\"a01c4f0e14a18bb2fa1e1de6d5299dbd\", element=\"b246b97e-fcc7-4fa8-8270-33fc0330f418\")>,\n",
       " <selenium.webdriver.remote.webelement.WebElement (session=\"a01c4f0e14a18bb2fa1e1de6d5299dbd\", element=\"b1f2a919-49cb-4a16-9bc0-bab442b98444\")>,\n",
       " <selenium.webdriver.remote.webelement.WebElement (session=\"a01c4f0e14a18bb2fa1e1de6d5299dbd\", element=\"bc7f924c-44a2-46a0-9bd2-01f8ce4e8144\")>,\n",
       " <selenium.webdriver.remote.webelement.WebElement (session=\"a01c4f0e14a18bb2fa1e1de6d5299dbd\", element=\"68fa7100-3f39-4a28-8797-a34f681a67f9\")>,\n",
       " <selenium.webdriver.remote.webelement.WebElement (session=\"a01c4f0e14a18bb2fa1e1de6d5299dbd\", element=\"fc06e2d9-b69e-4926-9f20-fc2ed40b0581\")>,\n",
       " <selenium.webdriver.remote.webelement.WebElement (session=\"a01c4f0e14a18bb2fa1e1de6d5299dbd\", element=\"d3314b3b-3aca-4fd3-9afc-b80e142f602f\")>,\n",
       " <selenium.webdriver.remote.webelement.WebElement (session=\"a01c4f0e14a18bb2fa1e1de6d5299dbd\", element=\"d1d7d888-5e9a-462b-90b4-36a250eaf557\")>,\n",
       " <selenium.webdriver.remote.webelement.WebElement (session=\"a01c4f0e14a18bb2fa1e1de6d5299dbd\", element=\"8ebbfa78-3415-464a-ac42-4599ebac70e9\")>,\n",
       " <selenium.webdriver.remote.webelement.WebElement (session=\"a01c4f0e14a18bb2fa1e1de6d5299dbd\", element=\"a5740426-3393-4191-b530-f111dac7a6cd\")>,\n",
       " <selenium.webdriver.remote.webelement.WebElement (session=\"a01c4f0e14a18bb2fa1e1de6d5299dbd\", element=\"df1b6a78-1b0f-4364-95e3-48eca6173857\")>,\n",
       " <selenium.webdriver.remote.webelement.WebElement (session=\"a01c4f0e14a18bb2fa1e1de6d5299dbd\", element=\"665b612a-b396-4e18-927a-0bb51975738f\")>]"
      ]
     },
     "execution_count": 190,
     "metadata": {},
     "output_type": "execute_result"
    }
   ],
   "source": [
    "lap_price=driver.find_elements_by_xpath('//span[@class=\"a-price-whole\"]')\n",
    "lap_price"
   ]
  },
  {
   "cell_type": "code",
   "execution_count": 191,
   "id": "9110b3d5",
   "metadata": {},
   "outputs": [
    {
     "data": {
      "text/plain": [
       "['40,190',\n",
       " '70,290',\n",
       " '49,990',\n",
       " '46,323',\n",
       " '40,590',\n",
       " '20,990',\n",
       " '37,490',\n",
       " '29,490',\n",
       " '81,990',\n",
       " '26,490']"
      ]
     },
     "execution_count": 191,
     "metadata": {},
     "output_type": "execute_result"
    }
   ],
   "source": [
    "top_price=[]\n",
    "for i in lap_price:\n",
    "    top_price.append(i.text)\n",
    "    top_price=top_price[0:10]    \n",
    "top_price"
   ]
  },
  {
   "cell_type": "code",
   "execution_count": null,
   "id": "cb4cb50b",
   "metadata": {},
   "outputs": [],
   "source": [
    "QUESTION 9"
   ]
  },
  {
   "cell_type": "code",
   "execution_count": 192,
   "id": "8a5f26d0",
   "metadata": {},
   "outputs": [],
   "source": [
    "driver=webdriver.Chrome('chromedriver.exe')"
   ]
  },
  {
   "cell_type": "code",
   "execution_count": 193,
   "id": "5b4bb98b",
   "metadata": {},
   "outputs": [],
   "source": [
    "url='http://www.ambitionbox.com/'\n",
    "driver.get(url)"
   ]
  },
  {
   "cell_type": "code",
   "execution_count": 194,
   "id": "e52bb6d6",
   "metadata": {},
   "outputs": [],
   "source": [
    "job_icon=driver.find_element_by_xpath(\"/html/body/div[1]/nav/nav/a[6]\")\n",
    "job_icon.click()"
   ]
  },
  {
   "cell_type": "code",
   "execution_count": 195,
   "id": "b26152fc",
   "metadata": {},
   "outputs": [
    {
     "data": {
      "text/plain": [
       "<selenium.webdriver.remote.webelement.WebElement (session=\"c13a1594651e280229736d31d81fb69e\", element=\"85539f8c-4766-410d-bd51-b7d32b1a4599\")>"
      ]
     },
     "execution_count": 195,
     "metadata": {},
     "output_type": "execute_result"
    }
   ],
   "source": [
    "job_srh=driver.find_element_by_xpath(\"/html/body/div[1]/div/div/div[2]/div[1]/div/div/div/div/span/input\")\n",
    "job_srh"
   ]
  },
  {
   "cell_type": "code",
   "execution_count": 196,
   "id": "017a1da5",
   "metadata": {},
   "outputs": [],
   "source": [
    "job_srh.send_keys('Data Scientist')"
   ]
  },
  {
   "cell_type": "code",
   "execution_count": 197,
   "id": "e564167b",
   "metadata": {},
   "outputs": [],
   "source": [
    "srh_bt=driver.find_element_by_xpath(\"/html/body/div/div/div/div[2]/div[1]/div/div/div/button/span\")\n",
    "srh_bt.click()"
   ]
  },
  {
   "cell_type": "code",
   "execution_count": 198,
   "id": "7a99196c",
   "metadata": {},
   "outputs": [],
   "source": [
    "loc_job=driver.find_element_by_xpath(\"/html/body/div/div/div/div[2]/div[2]/div[1]/div/div/div/div[2]/div[1]/p\")\n",
    "loc_job.click()"
   ]
  },
  {
   "cell_type": "code",
   "execution_count": 199,
   "id": "c63a012a",
   "metadata": {},
   "outputs": [
    {
     "data": {
      "text/plain": [
       "<selenium.webdriver.remote.webelement.WebElement (session=\"c13a1594651e280229736d31d81fb69e\", element=\"346a0073-af92-4105-8eb9-e4db23031f9a\")>"
      ]
     },
     "execution_count": 199,
     "metadata": {},
     "output_type": "execute_result"
    }
   ],
   "source": [
    "noida=driver.find_element_by_xpath(\"/html/body/div/div/div/div[2]/div[2]/div[1]/div/div/div/div[2]/div[2]/div/div[3]/div[1]/div[5]/div/label\")\n",
    "noida"
   ]
  },
  {
   "cell_type": "code",
   "execution_count": 200,
   "id": "0f651bbf",
   "metadata": {},
   "outputs": [
    {
     "data": {
      "text/plain": [
       "[<selenium.webdriver.remote.webelement.WebElement (session=\"c13a1594651e280229736d31d81fb69e\", element=\"9e1c71bf-2391-4407-b509-ea146ec9f243\")>,\n",
       " <selenium.webdriver.remote.webelement.WebElement (session=\"c13a1594651e280229736d31d81fb69e\", element=\"9ad6d8f6-4f81-4332-88f4-3bc9c810a3a8\")>,\n",
       " <selenium.webdriver.remote.webelement.WebElement (session=\"c13a1594651e280229736d31d81fb69e\", element=\"e3424e5a-1708-44f0-bb17-72950b44345e\")>,\n",
       " <selenium.webdriver.remote.webelement.WebElement (session=\"c13a1594651e280229736d31d81fb69e\", element=\"01d71d85-61a3-4887-9e13-b8086d54a9d5\")>,\n",
       " <selenium.webdriver.remote.webelement.WebElement (session=\"c13a1594651e280229736d31d81fb69e\", element=\"95fd7c78-b5cf-4e3d-85a3-12b2649fd8ec\")>,\n",
       " <selenium.webdriver.remote.webelement.WebElement (session=\"c13a1594651e280229736d31d81fb69e\", element=\"a24c94c3-21c5-4ba6-b7d9-e45f6dcb194c\")>,\n",
       " <selenium.webdriver.remote.webelement.WebElement (session=\"c13a1594651e280229736d31d81fb69e\", element=\"9d4be6f5-de84-428e-9203-4019e12d0346\")>,\n",
       " <selenium.webdriver.remote.webelement.WebElement (session=\"c13a1594651e280229736d31d81fb69e\", element=\"6e9d0d97-950b-40ff-a184-d36429216b88\")>,\n",
       " <selenium.webdriver.remote.webelement.WebElement (session=\"c13a1594651e280229736d31d81fb69e\", element=\"177a3688-118d-4d16-a5f9-8d0153ba360c\")>,\n",
       " <selenium.webdriver.remote.webelement.WebElement (session=\"c13a1594651e280229736d31d81fb69e\", element=\"81098f15-4e4c-43ef-9273-5d204bd230c8\")>]"
      ]
     },
     "execution_count": 200,
     "metadata": {},
     "output_type": "execute_result"
    }
   ],
   "source": [
    "company_name=driver.find_elements_by_xpath('//p[@class=\"company body-medium\"]')\n",
    "company_name"
   ]
  },
  {
   "cell_type": "code",
   "execution_count": 201,
   "id": "9be9724b",
   "metadata": {},
   "outputs": [
    {
     "data": {
      "text/plain": [
       "10"
      ]
     },
     "execution_count": 201,
     "metadata": {},
     "output_type": "execute_result"
    }
   ],
   "source": [
    "len(company_name)"
   ]
  },
  {
   "cell_type": "code",
   "execution_count": 202,
   "id": "eef38925",
   "metadata": {},
   "outputs": [
    {
     "data": {
      "text/plain": [
       "['Walmart Labs',\n",
       " 'IBM India Pvt. Limited',\n",
       " 'IBM India Pvt. Limited',\n",
       " 'JP Morgan Chase',\n",
       " 'IBM India Pvt. Limited',\n",
       " 'IBM India Pvt. Limited',\n",
       " 'Intel Technology India Pvt Ltd',\n",
       " 'IBM India Pvt. Limited',\n",
       " 'IBM India Pvt. Limited',\n",
       " 'IBM India Pvt. Limited']"
      ]
     },
     "execution_count": 202,
     "metadata": {},
     "output_type": "execute_result"
    }
   ],
   "source": [
    "comp_list=[]\n",
    "for i in company_name:\n",
    "    comp_list.append(i.text)\n",
    "    \n",
    "comp_list "
   ]
  },
  {
   "cell_type": "code",
   "execution_count": 203,
   "id": "f06ad7d7",
   "metadata": {},
   "outputs": [
    {
     "data": {
      "text/plain": [
       "[<selenium.webdriver.remote.webelement.WebElement (session=\"c13a1594651e280229736d31d81fb69e\", element=\"a9899ac1-ebc8-4ce3-8c79-59c7153ff08f\")>,\n",
       " <selenium.webdriver.remote.webelement.WebElement (session=\"c13a1594651e280229736d31d81fb69e\", element=\"4f8b69c6-c916-48f2-8516-e972b6791c39\")>,\n",
       " <selenium.webdriver.remote.webelement.WebElement (session=\"c13a1594651e280229736d31d81fb69e\", element=\"739cdc64-daff-48f6-890b-a7f303e1771a\")>,\n",
       " <selenium.webdriver.remote.webelement.WebElement (session=\"c13a1594651e280229736d31d81fb69e\", element=\"7537d617-6ce4-4b63-a2c9-c5839441f682\")>,\n",
       " <selenium.webdriver.remote.webelement.WebElement (session=\"c13a1594651e280229736d31d81fb69e\", element=\"d5db4aa1-bc44-4bb6-a4aa-8ec418ac4185\")>,\n",
       " <selenium.webdriver.remote.webelement.WebElement (session=\"c13a1594651e280229736d31d81fb69e\", element=\"399d070c-a0d7-4a6b-ae88-493d1726cebc\")>,\n",
       " <selenium.webdriver.remote.webelement.WebElement (session=\"c13a1594651e280229736d31d81fb69e\", element=\"934f1f14-5dab-4702-8dbc-2e546e5a960c\")>,\n",
       " <selenium.webdriver.remote.webelement.WebElement (session=\"c13a1594651e280229736d31d81fb69e\", element=\"3b1e3bcb-cb21-40e1-a177-df00102061ba\")>,\n",
       " <selenium.webdriver.remote.webelement.WebElement (session=\"c13a1594651e280229736d31d81fb69e\", element=\"cbbad8b0-bc52-465a-b6f9-f92e28cdf04d\")>,\n",
       " <selenium.webdriver.remote.webelement.WebElement (session=\"c13a1594651e280229736d31d81fb69e\", element=\"866ffbcc-c5d8-42e9-8bc6-14db81249f81\")>,\n",
       " <selenium.webdriver.remote.webelement.WebElement (session=\"c13a1594651e280229736d31d81fb69e\", element=\"e5e6934a-749a-4dfd-a090-f818d0208da7\")>,\n",
       " <selenium.webdriver.remote.webelement.WebElement (session=\"c13a1594651e280229736d31d81fb69e\", element=\"cf9de966-01a1-45c5-9ae2-c06099aa5541\")>,\n",
       " <selenium.webdriver.remote.webelement.WebElement (session=\"c13a1594651e280229736d31d81fb69e\", element=\"e3373568-38c8-4883-b920-0649574e1bca\")>,\n",
       " <selenium.webdriver.remote.webelement.WebElement (session=\"c13a1594651e280229736d31d81fb69e\", element=\"23678f02-220d-48dc-adb9-2f26fe85b029\")>,\n",
       " <selenium.webdriver.remote.webelement.WebElement (session=\"c13a1594651e280229736d31d81fb69e\", element=\"8153aadf-7f41-4602-9a0c-e889ae67126f\")>,\n",
       " <selenium.webdriver.remote.webelement.WebElement (session=\"c13a1594651e280229736d31d81fb69e\", element=\"93db75a6-4c16-4129-a75c-6e2035831909\")>,\n",
       " <selenium.webdriver.remote.webelement.WebElement (session=\"c13a1594651e280229736d31d81fb69e\", element=\"65c3cc2d-8d85-4f09-95a2-f995c6951535\")>,\n",
       " <selenium.webdriver.remote.webelement.WebElement (session=\"c13a1594651e280229736d31d81fb69e\", element=\"808c8200-aa97-4d99-bece-2b4ce6807a87\")>,\n",
       " <selenium.webdriver.remote.webelement.WebElement (session=\"c13a1594651e280229736d31d81fb69e\", element=\"594d0844-645d-4a37-8fa7-4b5136c48014\")>,\n",
       " <selenium.webdriver.remote.webelement.WebElement (session=\"c13a1594651e280229736d31d81fb69e\", element=\"05f177f3-e8a2-4726-ba0b-9772a7c0c159\")>]"
      ]
     },
     "execution_count": 203,
     "metadata": {},
     "output_type": "execute_result"
    }
   ],
   "source": [
    "days=driver.find_elements_by_xpath('//span[@class=\"body-small-l\"]')\n",
    "days"
   ]
  },
  {
   "cell_type": "code",
   "execution_count": 204,
   "id": "fc3ad165",
   "metadata": {},
   "outputs": [
    {
     "data": {
      "text/plain": [
       "['2d ago',\n",
       " 'via naukri.com',\n",
       " '2d ago',\n",
       " 'via naukri.com',\n",
       " '2d ago',\n",
       " 'via naukri.com',\n",
       " '1d ago',\n",
       " 'via iimjobs.com',\n",
       " '3d ago',\n",
       " 'via naukri.com']"
      ]
     },
     "execution_count": 204,
     "metadata": {},
     "output_type": "execute_result"
    }
   ],
   "source": [
    "days_list=[]\n",
    "for i in days:\n",
    "    days_list.append(i.text)\n",
    "    days_list=days_list[0:10]\n",
    "    \n",
    "days_list"
   ]
  },
  {
   "cell_type": "code",
   "execution_count": 205,
   "id": "f71816c5",
   "metadata": {},
   "outputs": [
    {
     "data": {
      "text/plain": [
       "[<selenium.webdriver.remote.webelement.WebElement (session=\"c13a1594651e280229736d31d81fb69e\", element=\"8980beec-7d4b-44b5-974c-eb1fa8e5571d\")>,\n",
       " <selenium.webdriver.remote.webelement.WebElement (session=\"c13a1594651e280229736d31d81fb69e\", element=\"1a400989-20cb-4e25-a056-ee63212e50f5\")>,\n",
       " <selenium.webdriver.remote.webelement.WebElement (session=\"c13a1594651e280229736d31d81fb69e\", element=\"99b05251-a424-4ac4-9c52-538d2cea8bf5\")>,\n",
       " <selenium.webdriver.remote.webelement.WebElement (session=\"c13a1594651e280229736d31d81fb69e\", element=\"d039e9a4-a806-4e40-af2d-e1882774161c\")>,\n",
       " <selenium.webdriver.remote.webelement.WebElement (session=\"c13a1594651e280229736d31d81fb69e\", element=\"2b1b8056-c5ad-42d9-a040-7ef5ed99fd58\")>,\n",
       " <selenium.webdriver.remote.webelement.WebElement (session=\"c13a1594651e280229736d31d81fb69e\", element=\"8cb68371-9ae3-45a2-9edc-eeb44789e306\")>,\n",
       " <selenium.webdriver.remote.webelement.WebElement (session=\"c13a1594651e280229736d31d81fb69e\", element=\"b02a99e2-921e-4d10-8c85-04abfef62123\")>,\n",
       " <selenium.webdriver.remote.webelement.WebElement (session=\"c13a1594651e280229736d31d81fb69e\", element=\"bb389cd9-7346-4515-80e9-0864e565f6dc\")>,\n",
       " <selenium.webdriver.remote.webelement.WebElement (session=\"c13a1594651e280229736d31d81fb69e\", element=\"367c27a4-39de-4113-bcbc-0c1518aeae6d\")>,\n",
       " <selenium.webdriver.remote.webelement.WebElement (session=\"c13a1594651e280229736d31d81fb69e\", element=\"57574d28-29ac-4df0-9d28-85bdbd716bec\")>]"
      ]
     },
     "execution_count": 205,
     "metadata": {},
     "output_type": "execute_result"
    }
   ],
   "source": [
    "ratings=driver.find_elements_by_xpath('//span[@class=\"body-small\"]')\n",
    "ratings"
   ]
  },
  {
   "cell_type": "code",
   "execution_count": 206,
   "id": "645eaf31",
   "metadata": {},
   "outputs": [
    {
     "data": {
      "text/plain": [
       "['4.1', '4.1', '4.1', '4.1', '4.1', '4.1', '4.3', '4.1', '4.1', '4.1']"
      ]
     },
     "execution_count": 206,
     "metadata": {},
     "output_type": "execute_result"
    }
   ],
   "source": [
    "rat_list=[]\n",
    "for i in ratings:\n",
    "    rat_list.append(i.text)\n",
    "    \n",
    "    \n",
    "rat_list"
   ]
  },
  {
   "cell_type": "code",
   "execution_count": null,
   "id": "cffc1c69",
   "metadata": {},
   "outputs": [],
   "source": [
    "QUESTION 10"
   ]
  },
  {
   "cell_type": "code",
   "execution_count": 207,
   "id": "22677f45",
   "metadata": {},
   "outputs": [],
   "source": [
    "driver=webdriver.Chrome('chromedriver.exe')"
   ]
  },
  {
   "cell_type": "code",
   "execution_count": 208,
   "id": "dbe82447",
   "metadata": {},
   "outputs": [],
   "source": [
    "url='http://www.ambitionbox.com/'\n",
    "driver.get(url)"
   ]
  },
  {
   "cell_type": "code",
   "execution_count": 238,
   "id": "4fd03da4",
   "metadata": {},
   "outputs": [],
   "source": [
    "driver.maximize_window()\n"
   ]
  },
  {
   "cell_type": "code",
   "execution_count": 240,
   "id": "f54cac22",
   "metadata": {},
   "outputs": [
    {
     "ename": "NoSuchElementException",
     "evalue": "Message: no such element: Unable to locate element: {\"method\":\"xpath\",\"selector\":\"/html/body/div[1]/nav/nav/a[4]\"}\n  (Session info: chrome=98.0.4758.102)\nStacktrace:\nBacktrace:\n\tOrdinal0 [0x008169A3+2582947]\n\tOrdinal0 [0x007AA6D1+2139857]\n\tOrdinal0 [0x006A3A98+1063576]\n\tOrdinal0 [0x006CFF3E+1244990]\n\tOrdinal0 [0x006D013B+1245499]\n\tOrdinal0 [0x006F9F52+1417042]\n\tOrdinal0 [0x006E8594+1344916]\n\tOrdinal0 [0x006F834A+1409866]\n\tOrdinal0 [0x006E8366+1344358]\n\tOrdinal0 [0x006C5176+1200502]\n\tOrdinal0 [0x006C6066+1204326]\n\tGetHandleVerifier [0x009BBE02+1675858]\n\tGetHandleVerifier [0x00A7036C+2414524]\n\tGetHandleVerifier [0x008ABB01+560977]\n\tGetHandleVerifier [0x008AA8D3+556323]\n\tOrdinal0 [0x007B020E+2163214]\n\tOrdinal0 [0x007B5078+2183288]\n\tOrdinal0 [0x007B51C0+2183616]\n\tOrdinal0 [0x007BEE1C+2223644]\n\tBaseThreadInitThunk [0x76006739+25]\n\tRtlGetFullPathName_UEx [0x76F18E7F+1215]\n\tRtlGetFullPathName_UEx [0x76F18E4D+1165]\n",
     "output_type": "error",
     "traceback": [
      "\u001b[1;31m---------------------------------------------------------------------------\u001b[0m",
      "\u001b[1;31mNoSuchElementException\u001b[0m                    Traceback (most recent call last)",
      "\u001b[1;32m<ipython-input-240-edc6eb5afd6a>\u001b[0m in \u001b[0;36m<module>\u001b[1;34m\u001b[0m\n\u001b[1;32m----> 1\u001b[1;33m \u001b[0msal_icon\u001b[0m\u001b[1;33m=\u001b[0m\u001b[0mdriver\u001b[0m\u001b[1;33m.\u001b[0m\u001b[0mfind_element_by_xpath\u001b[0m\u001b[1;33m(\u001b[0m\u001b[1;34m\"/html/body/div[1]/nav/nav/a[4]\"\u001b[0m\u001b[1;33m)\u001b[0m\u001b[1;33m\u001b[0m\u001b[1;33m\u001b[0m\u001b[0m\n\u001b[0m\u001b[0;32m      2\u001b[0m \u001b[0msal_icon\u001b[0m\u001b[1;33m.\u001b[0m\u001b[0mclick\u001b[0m\u001b[1;33m(\u001b[0m\u001b[1;33m)\u001b[0m\u001b[1;33m\u001b[0m\u001b[1;33m\u001b[0m\u001b[0m\n",
      "\u001b[1;32mC:\\ProgramData\\Anaconda3\\lib\\site-packages\\selenium\\webdriver\\remote\\webdriver.py\u001b[0m in \u001b[0;36mfind_element_by_xpath\u001b[1;34m(self, xpath)\u001b[0m\n\u001b[0;32m    518\u001b[0m             \u001b[0mstacklevel\u001b[0m\u001b[1;33m=\u001b[0m\u001b[1;36m2\u001b[0m\u001b[1;33m,\u001b[0m\u001b[1;33m\u001b[0m\u001b[1;33m\u001b[0m\u001b[0m\n\u001b[0;32m    519\u001b[0m         )\n\u001b[1;32m--> 520\u001b[1;33m         \u001b[1;32mreturn\u001b[0m \u001b[0mself\u001b[0m\u001b[1;33m.\u001b[0m\u001b[0mfind_element\u001b[0m\u001b[1;33m(\u001b[0m\u001b[0mby\u001b[0m\u001b[1;33m=\u001b[0m\u001b[0mBy\u001b[0m\u001b[1;33m.\u001b[0m\u001b[0mXPATH\u001b[0m\u001b[1;33m,\u001b[0m \u001b[0mvalue\u001b[0m\u001b[1;33m=\u001b[0m\u001b[0mxpath\u001b[0m\u001b[1;33m)\u001b[0m\u001b[1;33m\u001b[0m\u001b[1;33m\u001b[0m\u001b[0m\n\u001b[0m\u001b[0;32m    521\u001b[0m \u001b[1;33m\u001b[0m\u001b[0m\n\u001b[0;32m    522\u001b[0m     \u001b[1;32mdef\u001b[0m \u001b[0mfind_elements_by_xpath\u001b[0m\u001b[1;33m(\u001b[0m\u001b[0mself\u001b[0m\u001b[1;33m,\u001b[0m \u001b[0mxpath\u001b[0m\u001b[1;33m)\u001b[0m \u001b[1;33m->\u001b[0m \u001b[0mWebElement\u001b[0m\u001b[1;33m:\u001b[0m\u001b[1;33m\u001b[0m\u001b[1;33m\u001b[0m\u001b[0m\n",
      "\u001b[1;32mC:\\ProgramData\\Anaconda3\\lib\\site-packages\\selenium\\webdriver\\remote\\webdriver.py\u001b[0m in \u001b[0;36mfind_element\u001b[1;34m(self, by, value)\u001b[0m\n\u001b[0;32m   1242\u001b[0m             \u001b[0mvalue\u001b[0m \u001b[1;33m=\u001b[0m \u001b[1;34m'[name=\"%s\"]'\u001b[0m \u001b[1;33m%\u001b[0m \u001b[0mvalue\u001b[0m\u001b[1;33m\u001b[0m\u001b[1;33m\u001b[0m\u001b[0m\n\u001b[0;32m   1243\u001b[0m \u001b[1;33m\u001b[0m\u001b[0m\n\u001b[1;32m-> 1244\u001b[1;33m         return self.execute(Command.FIND_ELEMENT, {\n\u001b[0m\u001b[0;32m   1245\u001b[0m             \u001b[1;34m'using'\u001b[0m\u001b[1;33m:\u001b[0m \u001b[0mby\u001b[0m\u001b[1;33m,\u001b[0m\u001b[1;33m\u001b[0m\u001b[1;33m\u001b[0m\u001b[0m\n\u001b[0;32m   1246\u001b[0m             'value': value})['value']\n",
      "\u001b[1;32mC:\\ProgramData\\Anaconda3\\lib\\site-packages\\selenium\\webdriver\\remote\\webdriver.py\u001b[0m in \u001b[0;36mexecute\u001b[1;34m(self, driver_command, params)\u001b[0m\n\u001b[0;32m    422\u001b[0m         \u001b[0mresponse\u001b[0m \u001b[1;33m=\u001b[0m \u001b[0mself\u001b[0m\u001b[1;33m.\u001b[0m\u001b[0mcommand_executor\u001b[0m\u001b[1;33m.\u001b[0m\u001b[0mexecute\u001b[0m\u001b[1;33m(\u001b[0m\u001b[0mdriver_command\u001b[0m\u001b[1;33m,\u001b[0m \u001b[0mparams\u001b[0m\u001b[1;33m)\u001b[0m\u001b[1;33m\u001b[0m\u001b[1;33m\u001b[0m\u001b[0m\n\u001b[0;32m    423\u001b[0m         \u001b[1;32mif\u001b[0m \u001b[0mresponse\u001b[0m\u001b[1;33m:\u001b[0m\u001b[1;33m\u001b[0m\u001b[1;33m\u001b[0m\u001b[0m\n\u001b[1;32m--> 424\u001b[1;33m             \u001b[0mself\u001b[0m\u001b[1;33m.\u001b[0m\u001b[0merror_handler\u001b[0m\u001b[1;33m.\u001b[0m\u001b[0mcheck_response\u001b[0m\u001b[1;33m(\u001b[0m\u001b[0mresponse\u001b[0m\u001b[1;33m)\u001b[0m\u001b[1;33m\u001b[0m\u001b[1;33m\u001b[0m\u001b[0m\n\u001b[0m\u001b[0;32m    425\u001b[0m             response['value'] = self._unwrap_value(\n\u001b[0;32m    426\u001b[0m                 response.get('value', None))\n",
      "\u001b[1;32mC:\\ProgramData\\Anaconda3\\lib\\site-packages\\selenium\\webdriver\\remote\\errorhandler.py\u001b[0m in \u001b[0;36mcheck_response\u001b[1;34m(self, response)\u001b[0m\n\u001b[0;32m    245\u001b[0m                 \u001b[0malert_text\u001b[0m \u001b[1;33m=\u001b[0m \u001b[0mvalue\u001b[0m\u001b[1;33m[\u001b[0m\u001b[1;34m'alert'\u001b[0m\u001b[1;33m]\u001b[0m\u001b[1;33m.\u001b[0m\u001b[0mget\u001b[0m\u001b[1;33m(\u001b[0m\u001b[1;34m'text'\u001b[0m\u001b[1;33m)\u001b[0m\u001b[1;33m\u001b[0m\u001b[1;33m\u001b[0m\u001b[0m\n\u001b[0;32m    246\u001b[0m             \u001b[1;32mraise\u001b[0m \u001b[0mexception_class\u001b[0m\u001b[1;33m(\u001b[0m\u001b[0mmessage\u001b[0m\u001b[1;33m,\u001b[0m \u001b[0mscreen\u001b[0m\u001b[1;33m,\u001b[0m \u001b[0mstacktrace\u001b[0m\u001b[1;33m,\u001b[0m \u001b[0malert_text\u001b[0m\u001b[1;33m)\u001b[0m  \u001b[1;31m# type: ignore[call-arg]  # mypy is not smart enough here\u001b[0m\u001b[1;33m\u001b[0m\u001b[1;33m\u001b[0m\u001b[0m\n\u001b[1;32m--> 247\u001b[1;33m         \u001b[1;32mraise\u001b[0m \u001b[0mexception_class\u001b[0m\u001b[1;33m(\u001b[0m\u001b[0mmessage\u001b[0m\u001b[1;33m,\u001b[0m \u001b[0mscreen\u001b[0m\u001b[1;33m,\u001b[0m \u001b[0mstacktrace\u001b[0m\u001b[1;33m)\u001b[0m\u001b[1;33m\u001b[0m\u001b[1;33m\u001b[0m\u001b[0m\n\u001b[0m\u001b[0;32m    248\u001b[0m \u001b[1;33m\u001b[0m\u001b[0m\n\u001b[0;32m    249\u001b[0m     \u001b[1;32mdef\u001b[0m \u001b[0m_value_or_default\u001b[0m\u001b[1;33m(\u001b[0m\u001b[0mself\u001b[0m\u001b[1;33m,\u001b[0m \u001b[0mobj\u001b[0m\u001b[1;33m:\u001b[0m \u001b[0mMapping\u001b[0m\u001b[1;33m[\u001b[0m\u001b[0m_KT\u001b[0m\u001b[1;33m,\u001b[0m \u001b[0m_VT\u001b[0m\u001b[1;33m]\u001b[0m\u001b[1;33m,\u001b[0m \u001b[0mkey\u001b[0m\u001b[1;33m:\u001b[0m \u001b[0m_KT\u001b[0m\u001b[1;33m,\u001b[0m \u001b[0mdefault\u001b[0m\u001b[1;33m:\u001b[0m \u001b[0m_VT\u001b[0m\u001b[1;33m)\u001b[0m \u001b[1;33m->\u001b[0m \u001b[0m_VT\u001b[0m\u001b[1;33m:\u001b[0m\u001b[1;33m\u001b[0m\u001b[1;33m\u001b[0m\u001b[0m\n",
      "\u001b[1;31mNoSuchElementException\u001b[0m: Message: no such element: Unable to locate element: {\"method\":\"xpath\",\"selector\":\"/html/body/div[1]/nav/nav/a[4]\"}\n  (Session info: chrome=98.0.4758.102)\nStacktrace:\nBacktrace:\n\tOrdinal0 [0x008169A3+2582947]\n\tOrdinal0 [0x007AA6D1+2139857]\n\tOrdinal0 [0x006A3A98+1063576]\n\tOrdinal0 [0x006CFF3E+1244990]\n\tOrdinal0 [0x006D013B+1245499]\n\tOrdinal0 [0x006F9F52+1417042]\n\tOrdinal0 [0x006E8594+1344916]\n\tOrdinal0 [0x006F834A+1409866]\n\tOrdinal0 [0x006E8366+1344358]\n\tOrdinal0 [0x006C5176+1200502]\n\tOrdinal0 [0x006C6066+1204326]\n\tGetHandleVerifier [0x009BBE02+1675858]\n\tGetHandleVerifier [0x00A7036C+2414524]\n\tGetHandleVerifier [0x008ABB01+560977]\n\tGetHandleVerifier [0x008AA8D3+556323]\n\tOrdinal0 [0x007B020E+2163214]\n\tOrdinal0 [0x007B5078+2183288]\n\tOrdinal0 [0x007B51C0+2183616]\n\tOrdinal0 [0x007BEE1C+2223644]\n\tBaseThreadInitThunk [0x76006739+25]\n\tRtlGetFullPathName_UEx [0x76F18E7F+1215]\n\tRtlGetFullPathName_UEx [0x76F18E4D+1165]\n"
     ]
    }
   ],
   "source": [
    "sal_icon=driver.find_element_by_xpath(\"/html/body/div[1]/nav/nav/a[4]\")\n",
    "sal_icon.click()"
   ]
  },
  {
   "cell_type": "code",
   "execution_count": 241,
   "id": "034497bc",
   "metadata": {},
   "outputs": [
    {
     "data": {
      "text/plain": [
       "<selenium.webdriver.remote.webelement.WebElement (session=\"880e737459466134f39b12e1c65e7a13\", element=\"282cee1b-3e22-4823-b25f-6d2dc6da4443\")>"
      ]
     },
     "execution_count": 241,
     "metadata": {},
     "output_type": "execute_result"
    }
   ],
   "source": [
    "job_search=driver.find_element_by_xpath(\"/html/body/div[1]/div/div/div[2]/div/div/div/div[1]/span/input\")\n",
    "job_srh"
   ]
  },
  {
   "cell_type": "code",
   "execution_count": 242,
   "id": "758bbbf5",
   "metadata": {},
   "outputs": [],
   "source": [
    "job_search.send_keys('Data Scientist')"
   ]
  },
  {
   "cell_type": "code",
   "execution_count": 243,
   "id": "5172f353",
   "metadata": {},
   "outputs": [],
   "source": [
    "search_btn=driver.find_element_by_xpath(\"/html/body/div/div/div/div[2]/div/div/div/button/span\")\n"
   ]
  },
  {
   "cell_type": "raw",
   "id": "67a86fb1",
   "metadata": {},
   "source": []
  },
  {
   "cell_type": "code",
   "execution_count": 244,
   "id": "d05ac1a9",
   "metadata": {},
   "outputs": [],
   "source": [
    "search_btn.click()"
   ]
  },
  {
   "cell_type": "code",
   "execution_count": 245,
   "id": "b0d98356",
   "metadata": {},
   "outputs": [],
   "source": [
    "company=driver.find_elements_by_xpath('/html/body/div/div/div/div[2]/div/div/div/div[1]/span/input')\n"
   ]
  },
  {
   "cell_type": "code",
   "execution_count": 246,
   "id": "c52c8a89",
   "metadata": {},
   "outputs": [
    {
     "data": {
      "text/plain": [
       "[]"
      ]
     },
     "execution_count": 246,
     "metadata": {},
     "output_type": "execute_result"
    }
   ],
   "source": [
    "Company"
   ]
  },
  {
   "cell_type": "code",
   "execution_count": 247,
   "id": "75d049a8",
   "metadata": {},
   "outputs": [
    {
     "data": {
      "text/plain": [
       "0"
      ]
     },
     "execution_count": 247,
     "metadata": {},
     "output_type": "execute_result"
    }
   ],
   "source": [
    "len(Company)"
   ]
  },
  {
   "cell_type": "code",
   "execution_count": 248,
   "id": "805ec92f",
   "metadata": {},
   "outputs": [
    {
     "data": {
      "text/plain": [
       "0"
      ]
     },
     "execution_count": 248,
     "metadata": {},
     "output_type": "execute_result"
    }
   ],
   "source": [
    "Expirence=driver.find_elements_by_xpath('//div[@class=\"salaries sbold-list-header\"]')\n",
    "len(Expirence)"
   ]
  },
  {
   "cell_type": "code",
   "execution_count": 249,
   "id": "3501fb67",
   "metadata": {},
   "outputs": [
    {
     "data": {
      "text/plain": [
       "[]"
      ]
     },
     "execution_count": 249,
     "metadata": {},
     "output_type": "execute_result"
    }
   ],
   "source": [
    "Expirence"
   ]
  },
  {
   "cell_type": "code",
   "execution_count": 250,
   "id": "99d77493",
   "metadata": {},
   "outputs": [
    {
     "data": {
      "text/plain": [
       "[]"
      ]
     },
     "execution_count": 250,
     "metadata": {},
     "output_type": "execute_result"
    }
   ],
   "source": [
    "Salary=driver.find_elements_by_xpath('//div[@class=\"result-col salary-range\"]')\n",
    "Sal=[]\n",
    "for i in Salary:\n",
    "    Sal.append(i.text)\n",
    "    \n",
    "Sal    "
   ]
  },
  {
   "cell_type": "code",
   "execution_count": 252,
   "id": "6e20cd95",
   "metadata": {},
   "outputs": [
    {
     "ename": "NameError",
     "evalue": "name 'Comp' is not defined",
     "output_type": "error",
     "traceback": [
      "\u001b[1;31m---------------------------------------------------------------------------\u001b[0m",
      "\u001b[1;31mNameError\u001b[0m                                 Traceback (most recent call last)",
      "\u001b[1;32m<ipython-input-252-8584dea7f368>\u001b[0m in \u001b[0;36m<module>\u001b[1;34m\u001b[0m\n\u001b[0;32m      1\u001b[0m \u001b[0mdf\u001b[0m \u001b[1;33m=\u001b[0m \u001b[0mpd\u001b[0m\u001b[1;33m.\u001b[0m\u001b[0mDataFrame\u001b[0m\u001b[1;33m(\u001b[0m\u001b[1;33m{\u001b[0m\u001b[1;33m}\u001b[0m\u001b[1;33m)\u001b[0m\u001b[1;33m\u001b[0m\u001b[1;33m\u001b[0m\u001b[0m\n\u001b[1;32m----> 2\u001b[1;33m \u001b[0mdf\u001b[0m\u001b[1;33m[\u001b[0m\u001b[1;34m'Comapny Name'\u001b[0m\u001b[1;33m]\u001b[0m \u001b[1;33m=\u001b[0m \u001b[0mComp\u001b[0m\u001b[1;33m\u001b[0m\u001b[1;33m\u001b[0m\u001b[0m\n\u001b[0m\u001b[0;32m      3\u001b[0m \u001b[0mdf\u001b[0m\u001b[1;33m[\u001b[0m\u001b[1;34m'Expirence'\u001b[0m\u001b[1;33m]\u001b[0m \u001b[1;33m=\u001b[0m \u001b[0mExp\u001b[0m\u001b[1;33m\u001b[0m\u001b[1;33m\u001b[0m\u001b[0m\n\u001b[0;32m      4\u001b[0m \u001b[0mdf\u001b[0m\u001b[1;33m[\u001b[0m\u001b[1;34m'Average Salary'\u001b[0m\u001b[1;33m]\u001b[0m \u001b[1;33m=\u001b[0m \u001b[0mSal\u001b[0m\u001b[1;33m\u001b[0m\u001b[1;33m\u001b[0m\u001b[0m\n",
      "\u001b[1;31mNameError\u001b[0m: name 'Comp' is not defined"
     ]
    }
   ],
   "source": [
    "df = pd.DataFrame({})\n",
    "df['Comapny Name'] = Comp \n",
    "df['Expirence'] = Exp\n",
    "df['Average Salary'] = Sal"
   ]
  },
  {
   "cell_type": "code",
   "execution_count": null,
   "id": "20a8d02c",
   "metadata": {},
   "outputs": [],
   "source": []
  }
 ],
 "metadata": {
  "kernelspec": {
   "display_name": "Python 3",
   "language": "python",
   "name": "python3"
  },
  "language_info": {
   "codemirror_mode": {
    "name": "ipython",
    "version": 3
   },
   "file_extension": ".py",
   "mimetype": "text/x-python",
   "name": "python",
   "nbconvert_exporter": "python",
   "pygments_lexer": "ipython3",
   "version": "3.8.8"
  }
 },
 "nbformat": 4,
 "nbformat_minor": 5
}
