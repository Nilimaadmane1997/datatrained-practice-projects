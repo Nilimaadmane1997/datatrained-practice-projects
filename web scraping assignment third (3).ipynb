{
 "cells": [
  {
   "cell_type": "code",
   "execution_count": 1,
   "id": "d91096c7",
   "metadata": {},
   "outputs": [],
   "source": [
    "import selenium \n",
    "import pandas as pd\n",
    "import time\n",
    "from bs4 import BeautifulSoup \n",
    "\n",
    "from selenium import webdriver \n",
    "from selenium.common.exceptions import StaleElementReferenceException, NoSuchElementException\n",
    "\n",
    "import requests \n",
    "\n",
    "import re \n",
    "\n",
    "import time"
   ]
  },
  {
   "cell_type": "code",
   "execution_count": 2,
   "id": "d01111ce",
   "metadata": {},
   "outputs": [
    {
     "name": "stderr",
     "output_type": "stream",
     "text": [
      "<ipython-input-2-452eafebab4f>:2: DeprecationWarning: executable_path has been deprecated, please pass in a Service object\n",
      "  driver = webdriver.Chrome(PATH)\n"
     ]
    }
   ],
   "source": [
    "PATH = 'C:/Users/Shiva Labade/Desktop/chromedriver_win32/chromedriver.exe'\n",
    "driver = webdriver.Chrome(PATH)"
   ]
  },
  {
   "cell_type": "markdown",
   "id": "f8075287",
   "metadata": {},
   "source": [
    "QUESTION 10"
   ]
  },
  {
   "cell_type": "markdown",
   "id": "5f390f39",
   "metadata": {},
   "source": [
    "driver.get('https://www.hostelworld.com/')"
   ]
  },
  {
   "cell_type": "code",
   "execution_count": 4,
   "id": "b60713c3",
   "metadata": {},
   "outputs": [
    {
     "name": "stderr",
     "output_type": "stream",
     "text": [
      "<ipython-input-4-d7f23a99dde2>:1: DeprecationWarning: find_element_by_* commands are deprecated. Please use find_element() instead\n",
      "  search_locn =driver.find_element_by_xpath('/html/body/div[3]/div/div/div[1]/div[2]/div/div[2]/div[4]/div/div[2]/div/div[1]/div/div/div/input')\n"
     ]
    },
    {
     "data": {
      "text/plain": [
       "<selenium.webdriver.remote.webelement.WebElement (session=\"9cb73111fd9b15cc4d589d2e9127ff68\", element=\"ae4b169d-c0fb-4817-9f3e-3e2dae1ec5ba\")>"
      ]
     },
     "execution_count": 4,
     "metadata": {},
     "output_type": "execute_result"
    }
   ],
   "source": [
    "search_locn =driver.find_element_by_xpath('/html/body/div[3]/div/div/div[1]/div[2]/div/div[2]/div[4]/div/div[2]/div/div[1]/div/div/div/input')\n",
    "search_locn"
   ]
  },
  {
   "cell_type": "code",
   "execution_count": 5,
   "id": "577908cf",
   "metadata": {},
   "outputs": [],
   "source": [
    "search_locn.send_keys(\"London\")"
   ]
  },
  {
   "cell_type": "code",
   "execution_count": 9,
   "id": "2de89931",
   "metadata": {},
   "outputs": [
    {
     "name": "stderr",
     "output_type": "stream",
     "text": [
      "<ipython-input-9-6b9444bc85e1>:1: DeprecationWarning: find_element_by_* commands are deprecated. Please use find_element() instead\n",
      "  search_btn = driver.find_element_by_xpath(\"/html/body/div[3]/div/div/div[1]/div[2]/div/div[2]/div[4]/div/div[2]/div/div[1]/div/div/div/input\")\n"
     ]
    },
    {
     "data": {
      "text/plain": [
       "<selenium.webdriver.remote.webelement.WebElement (session=\"9cb73111fd9b15cc4d589d2e9127ff68\", element=\"ae4b169d-c0fb-4817-9f3e-3e2dae1ec5ba\")>"
      ]
     },
     "execution_count": 9,
     "metadata": {},
     "output_type": "execute_result"
    }
   ],
   "source": [
    "search_btn = driver.find_element_by_xpath(\"/html/body/div[3]/div/div/div[1]/div[2]/div/div[2]/div[4]/div/div[2]/div/div[1]/div/div/div/input\")\n",
    "search_btn"
   ]
  },
  {
   "cell_type": "code",
   "execution_count": 10,
   "id": "82e5816b",
   "metadata": {},
   "outputs": [],
   "source": [
    "search_btn.click()"
   ]
  },
  {
   "cell_type": "code",
   "execution_count": 11,
   "id": "d8536383",
   "metadata": {},
   "outputs": [
    {
     "name": "stderr",
     "output_type": "stream",
     "text": [
      "<ipython-input-11-ff35b0f3554f>:1: DeprecationWarning: find_elements_by_* commands are deprecated. Please use find_elements() instead\n",
      "  hostel_name=driver.find_elements_by_xpath('//h2[@class=\"title title-6\"]')\n"
     ]
    },
    {
     "data": {
      "text/plain": [
       "[<selenium.webdriver.remote.webelement.WebElement (session=\"9cb73111fd9b15cc4d589d2e9127ff68\", element=\"ea08cce7-e713-49ee-85c7-47fef64662b2\")>,\n",
       " <selenium.webdriver.remote.webelement.WebElement (session=\"9cb73111fd9b15cc4d589d2e9127ff68\", element=\"f090f3d8-2ba4-4dfe-96a1-9d71c25ae75a\")>,\n",
       " <selenium.webdriver.remote.webelement.WebElement (session=\"9cb73111fd9b15cc4d589d2e9127ff68\", element=\"78bc572c-43c0-4220-95e5-630cef105360\")>,\n",
       " <selenium.webdriver.remote.webelement.WebElement (session=\"9cb73111fd9b15cc4d589d2e9127ff68\", element=\"f22975cc-d8a8-4dbf-b621-9ba7a1399e86\")>,\n",
       " <selenium.webdriver.remote.webelement.WebElement (session=\"9cb73111fd9b15cc4d589d2e9127ff68\", element=\"9744f38b-1934-4ba1-b490-93aaa114c159\")>,\n",
       " <selenium.webdriver.remote.webelement.WebElement (session=\"9cb73111fd9b15cc4d589d2e9127ff68\", element=\"ded90049-6d4d-49cd-9c35-8a616e4540f2\")>,\n",
       " <selenium.webdriver.remote.webelement.WebElement (session=\"9cb73111fd9b15cc4d589d2e9127ff68\", element=\"ba99aa06-ce21-4583-a04b-cb54e4de3e26\")>,\n",
       " <selenium.webdriver.remote.webelement.WebElement (session=\"9cb73111fd9b15cc4d589d2e9127ff68\", element=\"fd7390fb-1107-45db-b9c1-93d5e379bfbb\")>,\n",
       " <selenium.webdriver.remote.webelement.WebElement (session=\"9cb73111fd9b15cc4d589d2e9127ff68\", element=\"e01ad02e-a930-418c-8c9c-1c6d43afab19\")>,\n",
       " <selenium.webdriver.remote.webelement.WebElement (session=\"9cb73111fd9b15cc4d589d2e9127ff68\", element=\"1f872c29-7c13-4775-b6d7-c12a5fca6638\")>,\n",
       " <selenium.webdriver.remote.webelement.WebElement (session=\"9cb73111fd9b15cc4d589d2e9127ff68\", element=\"8363ebc7-b577-446e-8e86-541a3a33b387\")>,\n",
       " <selenium.webdriver.remote.webelement.WebElement (session=\"9cb73111fd9b15cc4d589d2e9127ff68\", element=\"19017422-fd9e-41d5-b83d-a5ee7fcbb225\")>,\n",
       " <selenium.webdriver.remote.webelement.WebElement (session=\"9cb73111fd9b15cc4d589d2e9127ff68\", element=\"34bceb02-b246-40e9-9aab-23b97312c883\")>,\n",
       " <selenium.webdriver.remote.webelement.WebElement (session=\"9cb73111fd9b15cc4d589d2e9127ff68\", element=\"00e8e0ce-0ac3-40ba-8eec-167a81229ba2\")>,\n",
       " <selenium.webdriver.remote.webelement.WebElement (session=\"9cb73111fd9b15cc4d589d2e9127ff68\", element=\"af5c46e9-0af6-4afe-9575-ffb2f4d81788\")>,\n",
       " <selenium.webdriver.remote.webelement.WebElement (session=\"9cb73111fd9b15cc4d589d2e9127ff68\", element=\"b1826507-a0d4-4f0d-a9a9-7460cf5d063f\")>,\n",
       " <selenium.webdriver.remote.webelement.WebElement (session=\"9cb73111fd9b15cc4d589d2e9127ff68\", element=\"16fd2ad1-6efe-406f-86a7-25f97c4f42cf\")>,\n",
       " <selenium.webdriver.remote.webelement.WebElement (session=\"9cb73111fd9b15cc4d589d2e9127ff68\", element=\"f083f689-ebef-490f-a8d8-07e707699047\")>,\n",
       " <selenium.webdriver.remote.webelement.WebElement (session=\"9cb73111fd9b15cc4d589d2e9127ff68\", element=\"92275453-a37d-48d1-97d3-71aa32622cfa\")>,\n",
       " <selenium.webdriver.remote.webelement.WebElement (session=\"9cb73111fd9b15cc4d589d2e9127ff68\", element=\"9d2bdea8-bc68-42e3-ac91-26a9bfda2714\")>,\n",
       " <selenium.webdriver.remote.webelement.WebElement (session=\"9cb73111fd9b15cc4d589d2e9127ff68\", element=\"a3e7c561-29e1-4af8-a792-6440f4a035de\")>,\n",
       " <selenium.webdriver.remote.webelement.WebElement (session=\"9cb73111fd9b15cc4d589d2e9127ff68\", element=\"07db48f1-75f1-47b3-b985-827be8e3c9a5\")>,\n",
       " <selenium.webdriver.remote.webelement.WebElement (session=\"9cb73111fd9b15cc4d589d2e9127ff68\", element=\"9d640758-b4be-4129-9fef-76b3a7febbfc\")>,\n",
       " <selenium.webdriver.remote.webelement.WebElement (session=\"9cb73111fd9b15cc4d589d2e9127ff68\", element=\"efab0c47-eab1-4152-b8a8-f35d30afdc52\")>,\n",
       " <selenium.webdriver.remote.webelement.WebElement (session=\"9cb73111fd9b15cc4d589d2e9127ff68\", element=\"2e5522db-493f-4ce9-b127-7222c2499744\")>,\n",
       " <selenium.webdriver.remote.webelement.WebElement (session=\"9cb73111fd9b15cc4d589d2e9127ff68\", element=\"8ffa37ba-5099-4cd0-b92d-41066dce3053\")>,\n",
       " <selenium.webdriver.remote.webelement.WebElement (session=\"9cb73111fd9b15cc4d589d2e9127ff68\", element=\"2df3ab81-a0dd-4ce5-88ea-898c8be416d0\")>,\n",
       " <selenium.webdriver.remote.webelement.WebElement (session=\"9cb73111fd9b15cc4d589d2e9127ff68\", element=\"25ca9898-d51a-43bd-b013-b9cc5a3ba3c6\")>,\n",
       " <selenium.webdriver.remote.webelement.WebElement (session=\"9cb73111fd9b15cc4d589d2e9127ff68\", element=\"70ee6aa3-8b44-4df3-8cd4-9c32291a89eb\")>,\n",
       " <selenium.webdriver.remote.webelement.WebElement (session=\"9cb73111fd9b15cc4d589d2e9127ff68\", element=\"76204e88-a2e2-4abf-bcc1-923a63e7a86f\")>]"
      ]
     },
     "execution_count": 11,
     "metadata": {},
     "output_type": "execute_result"
    }
   ],
   "source": [
    "hostel_name=driver.find_elements_by_xpath('//h2[@class=\"title title-6\"]')\n",
    "hostel_name"
   ]
  },
  {
   "cell_type": "code",
   "execution_count": 12,
   "id": "2f4878a8",
   "metadata": {},
   "outputs": [
    {
     "data": {
      "text/plain": [
       "30"
      ]
     },
     "execution_count": 12,
     "metadata": {},
     "output_type": "execute_result"
    }
   ],
   "source": [
    "len(hostel_name)"
   ]
  },
  {
   "cell_type": "code",
   "execution_count": 16,
   "id": "c6c85a3e",
   "metadata": {},
   "outputs": [
    {
     "data": {
      "text/plain": [
       "[]"
      ]
     },
     "execution_count": 16,
     "metadata": {},
     "output_type": "execute_result"
    }
   ],
   "source": [
    "hostel_name=[]\n",
    "for i in hostel_name:\n",
    "    hostel_name.append(i.text)\n",
    "    \n",
    "hostel_name"
   ]
  },
  {
   "cell_type": "code",
   "execution_count": 17,
   "id": "2cc69d38",
   "metadata": {},
   "outputs": [
    {
     "name": "stderr",
     "output_type": "stream",
     "text": [
      "<ipython-input-17-618126949412>:1: DeprecationWarning: find_elements_by_* commands are deprecated. Please use find_elements() instead\n",
      "  distance=driver.find_elements_by_xpath('//span[@class=\"description\"]')\n"
     ]
    },
    {
     "data": {
      "text/plain": [
       "[<selenium.webdriver.remote.webelement.WebElement (session=\"9cb73111fd9b15cc4d589d2e9127ff68\", element=\"d331f63f-a882-469a-9b9a-84f04dce57b9\")>,\n",
       " <selenium.webdriver.remote.webelement.WebElement (session=\"9cb73111fd9b15cc4d589d2e9127ff68\", element=\"0bb67b32-44e9-4ecc-9ce8-888614a4f7fb\")>,\n",
       " <selenium.webdriver.remote.webelement.WebElement (session=\"9cb73111fd9b15cc4d589d2e9127ff68\", element=\"33797676-5bac-4c35-8453-08168f887e7b\")>,\n",
       " <selenium.webdriver.remote.webelement.WebElement (session=\"9cb73111fd9b15cc4d589d2e9127ff68\", element=\"9f359293-2753-47a1-b9cb-29c5757ef955\")>,\n",
       " <selenium.webdriver.remote.webelement.WebElement (session=\"9cb73111fd9b15cc4d589d2e9127ff68\", element=\"7515e305-9b51-4388-a553-30164f805c00\")>,\n",
       " <selenium.webdriver.remote.webelement.WebElement (session=\"9cb73111fd9b15cc4d589d2e9127ff68\", element=\"e18feb47-fc31-4ca8-b2c9-a8b66b3af6cd\")>,\n",
       " <selenium.webdriver.remote.webelement.WebElement (session=\"9cb73111fd9b15cc4d589d2e9127ff68\", element=\"f511ff2d-df86-4fd4-a555-3b6bbfac9ab2\")>,\n",
       " <selenium.webdriver.remote.webelement.WebElement (session=\"9cb73111fd9b15cc4d589d2e9127ff68\", element=\"4369c8ca-abd8-47a5-9e76-573dd7d6bb14\")>,\n",
       " <selenium.webdriver.remote.webelement.WebElement (session=\"9cb73111fd9b15cc4d589d2e9127ff68\", element=\"6885477c-6424-4fc9-aa3c-538235940c54\")>,\n",
       " <selenium.webdriver.remote.webelement.WebElement (session=\"9cb73111fd9b15cc4d589d2e9127ff68\", element=\"c6b33d91-64de-4627-9e94-b5d0caa50131\")>,\n",
       " <selenium.webdriver.remote.webelement.WebElement (session=\"9cb73111fd9b15cc4d589d2e9127ff68\", element=\"5a027bc0-3f0e-476f-9749-56b661b13403\")>,\n",
       " <selenium.webdriver.remote.webelement.WebElement (session=\"9cb73111fd9b15cc4d589d2e9127ff68\", element=\"f287cbaa-98d4-488c-bfc7-009c57c7287f\")>,\n",
       " <selenium.webdriver.remote.webelement.WebElement (session=\"9cb73111fd9b15cc4d589d2e9127ff68\", element=\"d30c2127-61ea-4bbd-aad7-194402385474\")>,\n",
       " <selenium.webdriver.remote.webelement.WebElement (session=\"9cb73111fd9b15cc4d589d2e9127ff68\", element=\"c3515f44-1224-41ae-83a6-5d80f60f65e5\")>,\n",
       " <selenium.webdriver.remote.webelement.WebElement (session=\"9cb73111fd9b15cc4d589d2e9127ff68\", element=\"c8458d18-1b4e-4c21-b32c-c3e1a1444c4b\")>,\n",
       " <selenium.webdriver.remote.webelement.WebElement (session=\"9cb73111fd9b15cc4d589d2e9127ff68\", element=\"4447ed7e-f76b-4e3d-ae4f-34b0d0b137da\")>,\n",
       " <selenium.webdriver.remote.webelement.WebElement (session=\"9cb73111fd9b15cc4d589d2e9127ff68\", element=\"a34ab551-3a1b-4c7e-806f-b24d926ad2d0\")>,\n",
       " <selenium.webdriver.remote.webelement.WebElement (session=\"9cb73111fd9b15cc4d589d2e9127ff68\", element=\"8294f73e-d32b-4e62-93c7-6866891feedc\")>,\n",
       " <selenium.webdriver.remote.webelement.WebElement (session=\"9cb73111fd9b15cc4d589d2e9127ff68\", element=\"c2870f9c-c528-4b91-b215-e856b44c89d5\")>,\n",
       " <selenium.webdriver.remote.webelement.WebElement (session=\"9cb73111fd9b15cc4d589d2e9127ff68\", element=\"2446738e-58fc-431a-b473-378e8896d89c\")>,\n",
       " <selenium.webdriver.remote.webelement.WebElement (session=\"9cb73111fd9b15cc4d589d2e9127ff68\", element=\"f37a5aab-8723-45a5-b1cb-c24192b1c79c\")>,\n",
       " <selenium.webdriver.remote.webelement.WebElement (session=\"9cb73111fd9b15cc4d589d2e9127ff68\", element=\"86987493-d23b-4b67-b6b0-335af8ceefd8\")>,\n",
       " <selenium.webdriver.remote.webelement.WebElement (session=\"9cb73111fd9b15cc4d589d2e9127ff68\", element=\"5347fc92-9e85-4f1e-94ba-20315165dea9\")>,\n",
       " <selenium.webdriver.remote.webelement.WebElement (session=\"9cb73111fd9b15cc4d589d2e9127ff68\", element=\"365d38a5-8851-4026-927e-6fda8ed9ef3e\")>,\n",
       " <selenium.webdriver.remote.webelement.WebElement (session=\"9cb73111fd9b15cc4d589d2e9127ff68\", element=\"f5e318e7-3aa8-4931-87e1-cdc96a7efb23\")>,\n",
       " <selenium.webdriver.remote.webelement.WebElement (session=\"9cb73111fd9b15cc4d589d2e9127ff68\", element=\"1c8e12a0-7417-4bcc-9de9-9ca7008c8620\")>,\n",
       " <selenium.webdriver.remote.webelement.WebElement (session=\"9cb73111fd9b15cc4d589d2e9127ff68\", element=\"d0c8add1-4da9-400a-927c-317fa24847f4\")>,\n",
       " <selenium.webdriver.remote.webelement.WebElement (session=\"9cb73111fd9b15cc4d589d2e9127ff68\", element=\"d1dd6e3d-39db-4dbf-ba5a-570ac0d7b987\")>,\n",
       " <selenium.webdriver.remote.webelement.WebElement (session=\"9cb73111fd9b15cc4d589d2e9127ff68\", element=\"46ad11d1-d604-4dcc-b527-896270277571\")>,\n",
       " <selenium.webdriver.remote.webelement.WebElement (session=\"9cb73111fd9b15cc4d589d2e9127ff68\", element=\"a77f6da8-5401-4ceb-8f8e-0d0270c235f4\")>]"
      ]
     },
     "execution_count": 17,
     "metadata": {},
     "output_type": "execute_result"
    }
   ],
   "source": [
    "distance=driver.find_elements_by_xpath('//span[@class=\"description\"]')\n",
    "distance"
   ]
  },
  {
   "cell_type": "code",
   "execution_count": 18,
   "id": "3d1274a2",
   "metadata": {},
   "outputs": [
    {
     "data": {
      "text/plain": [
       "[]"
      ]
     },
     "execution_count": 18,
     "metadata": {},
     "output_type": "execute_result"
    }
   ],
   "source": [
    "distance=[]\n",
    "for i in distance:\n",
    "    distance.append(i.text)\n",
    "    \n",
    "distance    "
   ]
  },
  {
   "cell_type": "code",
   "execution_count": 19,
   "id": "1f5b52cd",
   "metadata": {},
   "outputs": [
    {
     "name": "stderr",
     "output_type": "stream",
     "text": [
      "<ipython-input-19-42f922b22d99>:1: DeprecationWarning: find_elements_by_* commands are deprecated. Please use find_elements() instead\n",
      "  ratings=driver.find_elements_by_xpath('//div[@class=\"score orange big\"]')\n"
     ]
    },
    {
     "data": {
      "text/plain": [
       "[<selenium.webdriver.remote.webelement.WebElement (session=\"9cb73111fd9b15cc4d589d2e9127ff68\", element=\"e430d874-986a-4c12-886b-61fc14a97f97\")>,\n",
       " <selenium.webdriver.remote.webelement.WebElement (session=\"9cb73111fd9b15cc4d589d2e9127ff68\", element=\"e0db5418-267e-4d59-81db-f336a1959053\")>,\n",
       " <selenium.webdriver.remote.webelement.WebElement (session=\"9cb73111fd9b15cc4d589d2e9127ff68\", element=\"8411d56c-e396-4b99-aee0-2c933dd18644\")>,\n",
       " <selenium.webdriver.remote.webelement.WebElement (session=\"9cb73111fd9b15cc4d589d2e9127ff68\", element=\"1de5b01e-9adf-434e-b55f-6a9ab743556d\")>,\n",
       " <selenium.webdriver.remote.webelement.WebElement (session=\"9cb73111fd9b15cc4d589d2e9127ff68\", element=\"b60d11dc-4904-436b-af11-59605d3d7f89\")>,\n",
       " <selenium.webdriver.remote.webelement.WebElement (session=\"9cb73111fd9b15cc4d589d2e9127ff68\", element=\"a638539c-8286-4ca7-8e3c-41b60f00bbb0\")>,\n",
       " <selenium.webdriver.remote.webelement.WebElement (session=\"9cb73111fd9b15cc4d589d2e9127ff68\", element=\"2d1aca97-c1f3-416d-87d4-14e7ef813c7b\")>,\n",
       " <selenium.webdriver.remote.webelement.WebElement (session=\"9cb73111fd9b15cc4d589d2e9127ff68\", element=\"d6c6dba9-bcb1-4cef-a645-2f693306f659\")>,\n",
       " <selenium.webdriver.remote.webelement.WebElement (session=\"9cb73111fd9b15cc4d589d2e9127ff68\", element=\"433dff00-edbe-40d5-b443-aebe1e4fd3af\")>,\n",
       " <selenium.webdriver.remote.webelement.WebElement (session=\"9cb73111fd9b15cc4d589d2e9127ff68\", element=\"53988b8f-d52c-431c-a59f-60a7af78a502\")>,\n",
       " <selenium.webdriver.remote.webelement.WebElement (session=\"9cb73111fd9b15cc4d589d2e9127ff68\", element=\"817a7d3f-324d-41ff-acc5-5d5717962359\")>,\n",
       " <selenium.webdriver.remote.webelement.WebElement (session=\"9cb73111fd9b15cc4d589d2e9127ff68\", element=\"85c5989f-3774-4354-b472-b74a2e4b6318\")>,\n",
       " <selenium.webdriver.remote.webelement.WebElement (session=\"9cb73111fd9b15cc4d589d2e9127ff68\", element=\"7ee9c693-b77d-4f0f-a7ed-ba2d4768340c\")>,\n",
       " <selenium.webdriver.remote.webelement.WebElement (session=\"9cb73111fd9b15cc4d589d2e9127ff68\", element=\"4041ffc1-98f7-4f96-a9ef-73cbeaa930b1\")>,\n",
       " <selenium.webdriver.remote.webelement.WebElement (session=\"9cb73111fd9b15cc4d589d2e9127ff68\", element=\"b120a062-8b33-4fc6-abda-ea231e29085d\")>,\n",
       " <selenium.webdriver.remote.webelement.WebElement (session=\"9cb73111fd9b15cc4d589d2e9127ff68\", element=\"069f34f8-19ab-4707-80a6-61b98cbd02a6\")>,\n",
       " <selenium.webdriver.remote.webelement.WebElement (session=\"9cb73111fd9b15cc4d589d2e9127ff68\", element=\"a8f30f07-b446-453e-9c95-f9011b5f4290\")>,\n",
       " <selenium.webdriver.remote.webelement.WebElement (session=\"9cb73111fd9b15cc4d589d2e9127ff68\", element=\"0df4cbb0-af97-4362-938f-ad7e9c341d04\")>,\n",
       " <selenium.webdriver.remote.webelement.WebElement (session=\"9cb73111fd9b15cc4d589d2e9127ff68\", element=\"30d7348f-5b6a-4e9f-b881-c643f92d3bd7\")>,\n",
       " <selenium.webdriver.remote.webelement.WebElement (session=\"9cb73111fd9b15cc4d589d2e9127ff68\", element=\"60686a34-fecf-4e0c-840f-228dfeaeb9b7\")>,\n",
       " <selenium.webdriver.remote.webelement.WebElement (session=\"9cb73111fd9b15cc4d589d2e9127ff68\", element=\"cb0526a7-d21e-427b-829c-896fab51215d\")>,\n",
       " <selenium.webdriver.remote.webelement.WebElement (session=\"9cb73111fd9b15cc4d589d2e9127ff68\", element=\"fe15f1db-3995-4878-b329-8c2baa0cff5f\")>,\n",
       " <selenium.webdriver.remote.webelement.WebElement (session=\"9cb73111fd9b15cc4d589d2e9127ff68\", element=\"509598cb-83ba-40da-a790-61de9453e40f\")>,\n",
       " <selenium.webdriver.remote.webelement.WebElement (session=\"9cb73111fd9b15cc4d589d2e9127ff68\", element=\"537793fe-4cde-4337-a1b5-775f3dfc772b\")>,\n",
       " <selenium.webdriver.remote.webelement.WebElement (session=\"9cb73111fd9b15cc4d589d2e9127ff68\", element=\"692b6658-26be-4523-8466-7f90f82b7d7e\")>,\n",
       " <selenium.webdriver.remote.webelement.WebElement (session=\"9cb73111fd9b15cc4d589d2e9127ff68\", element=\"46815d35-21d0-4dc8-ae03-1e8ed0be8ca4\")>,\n",
       " <selenium.webdriver.remote.webelement.WebElement (session=\"9cb73111fd9b15cc4d589d2e9127ff68\", element=\"d6e2060e-bace-4101-b641-f221fe392bd1\")>,\n",
       " <selenium.webdriver.remote.webelement.WebElement (session=\"9cb73111fd9b15cc4d589d2e9127ff68\", element=\"a23aa890-1c36-457a-96ec-a4841b52ba88\")>,\n",
       " <selenium.webdriver.remote.webelement.WebElement (session=\"9cb73111fd9b15cc4d589d2e9127ff68\", element=\"2aaf8429-dace-45d9-810d-43c52df1883f\")>,\n",
       " <selenium.webdriver.remote.webelement.WebElement (session=\"9cb73111fd9b15cc4d589d2e9127ff68\", element=\"7a5598fc-ca6e-4954-b99f-bfc079b257ce\")>]"
      ]
     },
     "execution_count": 19,
     "metadata": {},
     "output_type": "execute_result"
    }
   ],
   "source": [
    "ratings=driver.find_elements_by_xpath('//div[@class=\"score orange big\"]')\n",
    "ratings"
   ]
  },
  {
   "cell_type": "code",
   "execution_count": 20,
   "id": "7fc705db",
   "metadata": {},
   "outputs": [
    {
     "data": {
      "text/plain": [
       "[]"
      ]
     },
     "execution_count": 20,
     "metadata": {},
     "output_type": "execute_result"
    }
   ],
   "source": [
    "ratings=[]\n",
    "for i in ratings:\n",
    "    ratings.append(i.text)\n",
    "    \n",
    "ratings    "
   ]
  },
  {
   "cell_type": "code",
   "execution_count": 21,
   "id": "a3a1b8e4",
   "metadata": {},
   "outputs": [
    {
     "name": "stderr",
     "output_type": "stream",
     "text": [
      "<ipython-input-21-36554e4ef103>:1: DeprecationWarning: find_elements_by_* commands are deprecated. Please use find_elements() instead\n",
      "  reviews=driver.find_elements_by_xpath('//div[@class=\"reviews\"]')\n"
     ]
    },
    {
     "data": {
      "text/plain": [
       "[<selenium.webdriver.remote.webelement.WebElement (session=\"9cb73111fd9b15cc4d589d2e9127ff68\", element=\"86768dd9-c7cd-421c-b6fc-0ee8ba8d7eb1\")>,\n",
       " <selenium.webdriver.remote.webelement.WebElement (session=\"9cb73111fd9b15cc4d589d2e9127ff68\", element=\"258f0869-4a6e-4914-be19-76aaf7fd158d\")>,\n",
       " <selenium.webdriver.remote.webelement.WebElement (session=\"9cb73111fd9b15cc4d589d2e9127ff68\", element=\"06151b14-b1db-45ed-b05c-5783e41e5569\")>,\n",
       " <selenium.webdriver.remote.webelement.WebElement (session=\"9cb73111fd9b15cc4d589d2e9127ff68\", element=\"1f74af33-4a91-4c6b-8367-9ffe71bb494e\")>,\n",
       " <selenium.webdriver.remote.webelement.WebElement (session=\"9cb73111fd9b15cc4d589d2e9127ff68\", element=\"f9e94b14-9231-4081-bb1d-ba12b657baaf\")>,\n",
       " <selenium.webdriver.remote.webelement.WebElement (session=\"9cb73111fd9b15cc4d589d2e9127ff68\", element=\"c78f3974-c535-4809-9076-4fc6e41f5779\")>,\n",
       " <selenium.webdriver.remote.webelement.WebElement (session=\"9cb73111fd9b15cc4d589d2e9127ff68\", element=\"224c2a1b-09d9-4b78-8af2-7fb77b7a7cf4\")>,\n",
       " <selenium.webdriver.remote.webelement.WebElement (session=\"9cb73111fd9b15cc4d589d2e9127ff68\", element=\"a17dc39a-30dd-4547-95f9-6c1e7970a299\")>,\n",
       " <selenium.webdriver.remote.webelement.WebElement (session=\"9cb73111fd9b15cc4d589d2e9127ff68\", element=\"6f0d28a4-e1c4-434f-9301-45ecbbd9d88c\")>,\n",
       " <selenium.webdriver.remote.webelement.WebElement (session=\"9cb73111fd9b15cc4d589d2e9127ff68\", element=\"4117fa1a-d03b-4dc5-8b06-6f985d7744f8\")>,\n",
       " <selenium.webdriver.remote.webelement.WebElement (session=\"9cb73111fd9b15cc4d589d2e9127ff68\", element=\"9c48e8f8-b967-40ae-99f0-3222cae829bd\")>,\n",
       " <selenium.webdriver.remote.webelement.WebElement (session=\"9cb73111fd9b15cc4d589d2e9127ff68\", element=\"c1f52c38-e6f9-4798-accf-92e6f7df5bf0\")>,\n",
       " <selenium.webdriver.remote.webelement.WebElement (session=\"9cb73111fd9b15cc4d589d2e9127ff68\", element=\"a24adf7b-5851-41f5-b3b4-79c927b77f87\")>,\n",
       " <selenium.webdriver.remote.webelement.WebElement (session=\"9cb73111fd9b15cc4d589d2e9127ff68\", element=\"5603361c-496c-4a07-84fe-f0aa34fa3e96\")>,\n",
       " <selenium.webdriver.remote.webelement.WebElement (session=\"9cb73111fd9b15cc4d589d2e9127ff68\", element=\"2f9c8dd3-08b5-43ec-8fa2-be1505334820\")>,\n",
       " <selenium.webdriver.remote.webelement.WebElement (session=\"9cb73111fd9b15cc4d589d2e9127ff68\", element=\"6d617aea-d285-46f0-a57e-4cfb9a8c89ef\")>,\n",
       " <selenium.webdriver.remote.webelement.WebElement (session=\"9cb73111fd9b15cc4d589d2e9127ff68\", element=\"3b7db593-f6e3-4758-91e4-ed740a41996d\")>,\n",
       " <selenium.webdriver.remote.webelement.WebElement (session=\"9cb73111fd9b15cc4d589d2e9127ff68\", element=\"376b46dd-a1c4-44e5-afa5-24bbfaf86528\")>,\n",
       " <selenium.webdriver.remote.webelement.WebElement (session=\"9cb73111fd9b15cc4d589d2e9127ff68\", element=\"2bb1a099-0138-4bc4-b0c5-f0b59495a9bc\")>,\n",
       " <selenium.webdriver.remote.webelement.WebElement (session=\"9cb73111fd9b15cc4d589d2e9127ff68\", element=\"545e2690-0810-4d50-84fb-f53e2709182f\")>,\n",
       " <selenium.webdriver.remote.webelement.WebElement (session=\"9cb73111fd9b15cc4d589d2e9127ff68\", element=\"cc78d87a-75ee-415f-afbe-09534a192349\")>,\n",
       " <selenium.webdriver.remote.webelement.WebElement (session=\"9cb73111fd9b15cc4d589d2e9127ff68\", element=\"1231a2d2-a226-4332-b189-e57c6fb47c9e\")>,\n",
       " <selenium.webdriver.remote.webelement.WebElement (session=\"9cb73111fd9b15cc4d589d2e9127ff68\", element=\"d44cffb9-5c61-4629-99f1-5b75875b9151\")>,\n",
       " <selenium.webdriver.remote.webelement.WebElement (session=\"9cb73111fd9b15cc4d589d2e9127ff68\", element=\"1d220d52-702f-4404-b5b6-fd14b300a886\")>,\n",
       " <selenium.webdriver.remote.webelement.WebElement (session=\"9cb73111fd9b15cc4d589d2e9127ff68\", element=\"4e25d802-42ed-4a1f-9450-3aa7bc404e1e\")>,\n",
       " <selenium.webdriver.remote.webelement.WebElement (session=\"9cb73111fd9b15cc4d589d2e9127ff68\", element=\"d5836797-a152-4f9e-9657-5cdcf48dff09\")>,\n",
       " <selenium.webdriver.remote.webelement.WebElement (session=\"9cb73111fd9b15cc4d589d2e9127ff68\", element=\"8c28b8ae-035a-49dc-b641-888cbe2edb48\")>,\n",
       " <selenium.webdriver.remote.webelement.WebElement (session=\"9cb73111fd9b15cc4d589d2e9127ff68\", element=\"af049f48-53bb-47bf-8c6f-ede4dc8c9834\")>,\n",
       " <selenium.webdriver.remote.webelement.WebElement (session=\"9cb73111fd9b15cc4d589d2e9127ff68\", element=\"108c0b64-30c1-4926-a371-482540fe87af\")>,\n",
       " <selenium.webdriver.remote.webelement.WebElement (session=\"9cb73111fd9b15cc4d589d2e9127ff68\", element=\"0747bf81-2e5f-4ca3-acba-94eea1a17b50\")>]"
      ]
     },
     "execution_count": 21,
     "metadata": {},
     "output_type": "execute_result"
    }
   ],
   "source": [
    "reviews=driver.find_elements_by_xpath('//div[@class=\"reviews\"]')\n",
    "reviews"
   ]
  },
  {
   "cell_type": "code",
   "execution_count": 22,
   "id": "422aaad9",
   "metadata": {},
   "outputs": [
    {
     "data": {
      "text/plain": [
       "[]"
      ]
     },
     "execution_count": 22,
     "metadata": {},
     "output_type": "execute_result"
    }
   ],
   "source": [
    "reviews=[]\n",
    "for i in reviews:\n",
    "    reviews.append(i.text)\n",
    "    \n",
    "reviews    "
   ]
  },
  {
   "cell_type": "code",
   "execution_count": 23,
   "id": "97f5fde3",
   "metadata": {},
   "outputs": [
    {
     "name": "stderr",
     "output_type": "stream",
     "text": [
      "<ipython-input-23-5b2d5e8c58b8>:1: DeprecationWarning: find_elements_by_* commands are deprecated. Please use find_elements() instead\n",
      "  private_price=driver.find_elements_by_xpath('//p[@class=\"price-label body-3\"]')\n"
     ]
    },
    {
     "data": {
      "text/plain": [
       "[<selenium.webdriver.remote.webelement.WebElement (session=\"9cb73111fd9b15cc4d589d2e9127ff68\", element=\"14b622da-808e-4704-9431-3a28c935f50f\")>,\n",
       " <selenium.webdriver.remote.webelement.WebElement (session=\"9cb73111fd9b15cc4d589d2e9127ff68\", element=\"f502f96c-42e3-4e40-a265-67f1add1074f\")>,\n",
       " <selenium.webdriver.remote.webelement.WebElement (session=\"9cb73111fd9b15cc4d589d2e9127ff68\", element=\"6cca5fe9-0040-4e32-8ee9-02362ce07d0a\")>,\n",
       " <selenium.webdriver.remote.webelement.WebElement (session=\"9cb73111fd9b15cc4d589d2e9127ff68\", element=\"f057fd46-519d-4012-a3b9-577a2c35db0e\")>,\n",
       " <selenium.webdriver.remote.webelement.WebElement (session=\"9cb73111fd9b15cc4d589d2e9127ff68\", element=\"41823f3a-93c9-4ed5-afc0-b5afa86c8d1f\")>,\n",
       " <selenium.webdriver.remote.webelement.WebElement (session=\"9cb73111fd9b15cc4d589d2e9127ff68\", element=\"add66020-dbf1-468c-8f4f-bc5a21945e6a\")>,\n",
       " <selenium.webdriver.remote.webelement.WebElement (session=\"9cb73111fd9b15cc4d589d2e9127ff68\", element=\"5b621075-101e-4f0e-8701-f3a2c11f3010\")>,\n",
       " <selenium.webdriver.remote.webelement.WebElement (session=\"9cb73111fd9b15cc4d589d2e9127ff68\", element=\"5e63f2d8-b901-4b11-a6a2-894b95710b08\")>,\n",
       " <selenium.webdriver.remote.webelement.WebElement (session=\"9cb73111fd9b15cc4d589d2e9127ff68\", element=\"97f0b8d0-b2bf-4263-9665-47c6870649de\")>,\n",
       " <selenium.webdriver.remote.webelement.WebElement (session=\"9cb73111fd9b15cc4d589d2e9127ff68\", element=\"a407bccd-8acf-4d2a-8676-e8eec8c8376f\")>,\n",
       " <selenium.webdriver.remote.webelement.WebElement (session=\"9cb73111fd9b15cc4d589d2e9127ff68\", element=\"e4095b5c-87f2-4f6e-800c-943f34e6ce4c\")>,\n",
       " <selenium.webdriver.remote.webelement.WebElement (session=\"9cb73111fd9b15cc4d589d2e9127ff68\", element=\"5d5c8410-244a-4474-9492-1439c598b838\")>,\n",
       " <selenium.webdriver.remote.webelement.WebElement (session=\"9cb73111fd9b15cc4d589d2e9127ff68\", element=\"5a229446-7033-4938-ada2-81c91b21cc4d\")>,\n",
       " <selenium.webdriver.remote.webelement.WebElement (session=\"9cb73111fd9b15cc4d589d2e9127ff68\", element=\"faf132f0-7b6b-4a0c-b2e1-5c406503979d\")>,\n",
       " <selenium.webdriver.remote.webelement.WebElement (session=\"9cb73111fd9b15cc4d589d2e9127ff68\", element=\"9b97b7ab-bafa-4858-8351-6a4c3bf7cf30\")>,\n",
       " <selenium.webdriver.remote.webelement.WebElement (session=\"9cb73111fd9b15cc4d589d2e9127ff68\", element=\"7856ec9d-47de-4983-b572-dd9a297dcb79\")>,\n",
       " <selenium.webdriver.remote.webelement.WebElement (session=\"9cb73111fd9b15cc4d589d2e9127ff68\", element=\"122f9a67-236a-40fb-b552-aabf654f4062\")>,\n",
       " <selenium.webdriver.remote.webelement.WebElement (session=\"9cb73111fd9b15cc4d589d2e9127ff68\", element=\"ab158382-3350-41cc-929d-5190a4d8dfc4\")>,\n",
       " <selenium.webdriver.remote.webelement.WebElement (session=\"9cb73111fd9b15cc4d589d2e9127ff68\", element=\"e55d529c-b41a-47a5-b7af-b726a64e3849\")>,\n",
       " <selenium.webdriver.remote.webelement.WebElement (session=\"9cb73111fd9b15cc4d589d2e9127ff68\", element=\"f8cb6673-c801-43f5-9de6-67dbe89e0f63\")>,\n",
       " <selenium.webdriver.remote.webelement.WebElement (session=\"9cb73111fd9b15cc4d589d2e9127ff68\", element=\"a4dc1f46-33ed-457e-8627-518616fb7cdd\")>,\n",
       " <selenium.webdriver.remote.webelement.WebElement (session=\"9cb73111fd9b15cc4d589d2e9127ff68\", element=\"74b2951f-9f26-4c40-a7c7-97d488ca9173\")>,\n",
       " <selenium.webdriver.remote.webelement.WebElement (session=\"9cb73111fd9b15cc4d589d2e9127ff68\", element=\"ad6432a5-fd04-407a-a8d9-580efc5e8016\")>,\n",
       " <selenium.webdriver.remote.webelement.WebElement (session=\"9cb73111fd9b15cc4d589d2e9127ff68\", element=\"f75890d9-7c55-4474-b6ec-f65360e66ce4\")>,\n",
       " <selenium.webdriver.remote.webelement.WebElement (session=\"9cb73111fd9b15cc4d589d2e9127ff68\", element=\"8eecb5b7-870d-4b9d-915d-96d057c25853\")>,\n",
       " <selenium.webdriver.remote.webelement.WebElement (session=\"9cb73111fd9b15cc4d589d2e9127ff68\", element=\"bb741bbe-d9c5-4ad5-ba0e-e1066c5c2af2\")>,\n",
       " <selenium.webdriver.remote.webelement.WebElement (session=\"9cb73111fd9b15cc4d589d2e9127ff68\", element=\"57f264a2-a93e-4c0a-83aa-41a10f67c22a\")>,\n",
       " <selenium.webdriver.remote.webelement.WebElement (session=\"9cb73111fd9b15cc4d589d2e9127ff68\", element=\"09f1c5f3-7dae-4439-af32-5bd5d5ab98a1\")>,\n",
       " <selenium.webdriver.remote.webelement.WebElement (session=\"9cb73111fd9b15cc4d589d2e9127ff68\", element=\"4a4ddaa4-09e1-4b92-a3ac-12009766c167\")>,\n",
       " <selenium.webdriver.remote.webelement.WebElement (session=\"9cb73111fd9b15cc4d589d2e9127ff68\", element=\"8c2f042e-ffd1-410e-8f86-9d128e8d9f37\")>,\n",
       " <selenium.webdriver.remote.webelement.WebElement (session=\"9cb73111fd9b15cc4d589d2e9127ff68\", element=\"b7ab4c43-1809-4cc2-9fc2-d8b6947d35e9\")>,\n",
       " <selenium.webdriver.remote.webelement.WebElement (session=\"9cb73111fd9b15cc4d589d2e9127ff68\", element=\"3abdcef2-2412-444a-ac0b-d7a8cea82ffa\")>,\n",
       " <selenium.webdriver.remote.webelement.WebElement (session=\"9cb73111fd9b15cc4d589d2e9127ff68\", element=\"1e40a2fa-2730-40cc-83e6-17f42811217e\")>,\n",
       " <selenium.webdriver.remote.webelement.WebElement (session=\"9cb73111fd9b15cc4d589d2e9127ff68\", element=\"3c3973d3-0c5b-4bb4-82e1-5e69d7c81edf\")>,\n",
       " <selenium.webdriver.remote.webelement.WebElement (session=\"9cb73111fd9b15cc4d589d2e9127ff68\", element=\"fdd4050e-47dc-4387-8e8f-8489fb48bb4c\")>,\n",
       " <selenium.webdriver.remote.webelement.WebElement (session=\"9cb73111fd9b15cc4d589d2e9127ff68\", element=\"067a6f18-191f-4fd5-8c64-4761a038b712\")>,\n",
       " <selenium.webdriver.remote.webelement.WebElement (session=\"9cb73111fd9b15cc4d589d2e9127ff68\", element=\"4c7ea2f3-8971-4c48-8d93-c600862316f7\")>,\n",
       " <selenium.webdriver.remote.webelement.WebElement (session=\"9cb73111fd9b15cc4d589d2e9127ff68\", element=\"1bf0a93e-b775-469e-b791-d4d5f35a320f\")>,\n",
       " <selenium.webdriver.remote.webelement.WebElement (session=\"9cb73111fd9b15cc4d589d2e9127ff68\", element=\"f476f104-0ae3-4a66-8bc2-ab967ad55542\")>,\n",
       " <selenium.webdriver.remote.webelement.WebElement (session=\"9cb73111fd9b15cc4d589d2e9127ff68\", element=\"441c5cf1-ceb7-4340-b2bb-24178447c055\")>,\n",
       " <selenium.webdriver.remote.webelement.WebElement (session=\"9cb73111fd9b15cc4d589d2e9127ff68\", element=\"e2b788ae-2baa-486d-bc0b-f5ab4c5639f2\")>,\n",
       " <selenium.webdriver.remote.webelement.WebElement (session=\"9cb73111fd9b15cc4d589d2e9127ff68\", element=\"dd8d9daa-706f-4f00-979d-1a2f89385afc\")>,\n",
       " <selenium.webdriver.remote.webelement.WebElement (session=\"9cb73111fd9b15cc4d589d2e9127ff68\", element=\"7c37c22d-7fd0-4559-9f5c-759bed8d70f1\")>,\n",
       " <selenium.webdriver.remote.webelement.WebElement (session=\"9cb73111fd9b15cc4d589d2e9127ff68\", element=\"35c88284-512b-4390-a346-22017316d28c\")>]"
      ]
     },
     "execution_count": 23,
     "metadata": {},
     "output_type": "execute_result"
    }
   ],
   "source": [
    "private_price=driver.find_elements_by_xpath('//p[@class=\"price-label body-3\"]')\n",
    "private_price"
   ]
  },
  {
   "cell_type": "code",
   "execution_count": 24,
   "id": "2e81967a",
   "metadata": {},
   "outputs": [
    {
     "data": {
      "text/plain": [
       "[]"
      ]
     },
     "execution_count": 24,
     "metadata": {},
     "output_type": "execute_result"
    }
   ],
   "source": [
    "private_price=[]\n",
    "for i in private_price:\n",
    "    private_price.append(i.text)\n",
    "    \n",
    "private_price  "
   ]
  },
  {
   "cell_type": "code",
   "execution_count": 25,
   "id": "d0032f3e",
   "metadata": {},
   "outputs": [
    {
     "name": "stderr",
     "output_type": "stream",
     "text": [
      "<ipython-input-25-91b2bd03843a>:1: DeprecationWarning: find_elements_by_* commands are deprecated. Please use find_elements() instead\n",
      "  dorms_price=driver.find_elements_by_xpath('//p[@class=\"price-label body-3\"]')\n"
     ]
    },
    {
     "data": {
      "text/plain": [
       "[<selenium.webdriver.remote.webelement.WebElement (session=\"9cb73111fd9b15cc4d589d2e9127ff68\", element=\"14b622da-808e-4704-9431-3a28c935f50f\")>,\n",
       " <selenium.webdriver.remote.webelement.WebElement (session=\"9cb73111fd9b15cc4d589d2e9127ff68\", element=\"f502f96c-42e3-4e40-a265-67f1add1074f\")>,\n",
       " <selenium.webdriver.remote.webelement.WebElement (session=\"9cb73111fd9b15cc4d589d2e9127ff68\", element=\"6cca5fe9-0040-4e32-8ee9-02362ce07d0a\")>,\n",
       " <selenium.webdriver.remote.webelement.WebElement (session=\"9cb73111fd9b15cc4d589d2e9127ff68\", element=\"f057fd46-519d-4012-a3b9-577a2c35db0e\")>,\n",
       " <selenium.webdriver.remote.webelement.WebElement (session=\"9cb73111fd9b15cc4d589d2e9127ff68\", element=\"41823f3a-93c9-4ed5-afc0-b5afa86c8d1f\")>,\n",
       " <selenium.webdriver.remote.webelement.WebElement (session=\"9cb73111fd9b15cc4d589d2e9127ff68\", element=\"add66020-dbf1-468c-8f4f-bc5a21945e6a\")>,\n",
       " <selenium.webdriver.remote.webelement.WebElement (session=\"9cb73111fd9b15cc4d589d2e9127ff68\", element=\"5b621075-101e-4f0e-8701-f3a2c11f3010\")>,\n",
       " <selenium.webdriver.remote.webelement.WebElement (session=\"9cb73111fd9b15cc4d589d2e9127ff68\", element=\"5e63f2d8-b901-4b11-a6a2-894b95710b08\")>,\n",
       " <selenium.webdriver.remote.webelement.WebElement (session=\"9cb73111fd9b15cc4d589d2e9127ff68\", element=\"97f0b8d0-b2bf-4263-9665-47c6870649de\")>,\n",
       " <selenium.webdriver.remote.webelement.WebElement (session=\"9cb73111fd9b15cc4d589d2e9127ff68\", element=\"a407bccd-8acf-4d2a-8676-e8eec8c8376f\")>,\n",
       " <selenium.webdriver.remote.webelement.WebElement (session=\"9cb73111fd9b15cc4d589d2e9127ff68\", element=\"e4095b5c-87f2-4f6e-800c-943f34e6ce4c\")>,\n",
       " <selenium.webdriver.remote.webelement.WebElement (session=\"9cb73111fd9b15cc4d589d2e9127ff68\", element=\"5d5c8410-244a-4474-9492-1439c598b838\")>,\n",
       " <selenium.webdriver.remote.webelement.WebElement (session=\"9cb73111fd9b15cc4d589d2e9127ff68\", element=\"5a229446-7033-4938-ada2-81c91b21cc4d\")>,\n",
       " <selenium.webdriver.remote.webelement.WebElement (session=\"9cb73111fd9b15cc4d589d2e9127ff68\", element=\"faf132f0-7b6b-4a0c-b2e1-5c406503979d\")>,\n",
       " <selenium.webdriver.remote.webelement.WebElement (session=\"9cb73111fd9b15cc4d589d2e9127ff68\", element=\"9b97b7ab-bafa-4858-8351-6a4c3bf7cf30\")>,\n",
       " <selenium.webdriver.remote.webelement.WebElement (session=\"9cb73111fd9b15cc4d589d2e9127ff68\", element=\"7856ec9d-47de-4983-b572-dd9a297dcb79\")>,\n",
       " <selenium.webdriver.remote.webelement.WebElement (session=\"9cb73111fd9b15cc4d589d2e9127ff68\", element=\"122f9a67-236a-40fb-b552-aabf654f4062\")>,\n",
       " <selenium.webdriver.remote.webelement.WebElement (session=\"9cb73111fd9b15cc4d589d2e9127ff68\", element=\"ab158382-3350-41cc-929d-5190a4d8dfc4\")>,\n",
       " <selenium.webdriver.remote.webelement.WebElement (session=\"9cb73111fd9b15cc4d589d2e9127ff68\", element=\"e55d529c-b41a-47a5-b7af-b726a64e3849\")>,\n",
       " <selenium.webdriver.remote.webelement.WebElement (session=\"9cb73111fd9b15cc4d589d2e9127ff68\", element=\"f8cb6673-c801-43f5-9de6-67dbe89e0f63\")>,\n",
       " <selenium.webdriver.remote.webelement.WebElement (session=\"9cb73111fd9b15cc4d589d2e9127ff68\", element=\"a4dc1f46-33ed-457e-8627-518616fb7cdd\")>,\n",
       " <selenium.webdriver.remote.webelement.WebElement (session=\"9cb73111fd9b15cc4d589d2e9127ff68\", element=\"74b2951f-9f26-4c40-a7c7-97d488ca9173\")>,\n",
       " <selenium.webdriver.remote.webelement.WebElement (session=\"9cb73111fd9b15cc4d589d2e9127ff68\", element=\"ad6432a5-fd04-407a-a8d9-580efc5e8016\")>,\n",
       " <selenium.webdriver.remote.webelement.WebElement (session=\"9cb73111fd9b15cc4d589d2e9127ff68\", element=\"f75890d9-7c55-4474-b6ec-f65360e66ce4\")>,\n",
       " <selenium.webdriver.remote.webelement.WebElement (session=\"9cb73111fd9b15cc4d589d2e9127ff68\", element=\"8eecb5b7-870d-4b9d-915d-96d057c25853\")>,\n",
       " <selenium.webdriver.remote.webelement.WebElement (session=\"9cb73111fd9b15cc4d589d2e9127ff68\", element=\"bb741bbe-d9c5-4ad5-ba0e-e1066c5c2af2\")>,\n",
       " <selenium.webdriver.remote.webelement.WebElement (session=\"9cb73111fd9b15cc4d589d2e9127ff68\", element=\"57f264a2-a93e-4c0a-83aa-41a10f67c22a\")>,\n",
       " <selenium.webdriver.remote.webelement.WebElement (session=\"9cb73111fd9b15cc4d589d2e9127ff68\", element=\"09f1c5f3-7dae-4439-af32-5bd5d5ab98a1\")>,\n",
       " <selenium.webdriver.remote.webelement.WebElement (session=\"9cb73111fd9b15cc4d589d2e9127ff68\", element=\"4a4ddaa4-09e1-4b92-a3ac-12009766c167\")>,\n",
       " <selenium.webdriver.remote.webelement.WebElement (session=\"9cb73111fd9b15cc4d589d2e9127ff68\", element=\"8c2f042e-ffd1-410e-8f86-9d128e8d9f37\")>,\n",
       " <selenium.webdriver.remote.webelement.WebElement (session=\"9cb73111fd9b15cc4d589d2e9127ff68\", element=\"b7ab4c43-1809-4cc2-9fc2-d8b6947d35e9\")>,\n",
       " <selenium.webdriver.remote.webelement.WebElement (session=\"9cb73111fd9b15cc4d589d2e9127ff68\", element=\"3abdcef2-2412-444a-ac0b-d7a8cea82ffa\")>,\n",
       " <selenium.webdriver.remote.webelement.WebElement (session=\"9cb73111fd9b15cc4d589d2e9127ff68\", element=\"1e40a2fa-2730-40cc-83e6-17f42811217e\")>,\n",
       " <selenium.webdriver.remote.webelement.WebElement (session=\"9cb73111fd9b15cc4d589d2e9127ff68\", element=\"3c3973d3-0c5b-4bb4-82e1-5e69d7c81edf\")>,\n",
       " <selenium.webdriver.remote.webelement.WebElement (session=\"9cb73111fd9b15cc4d589d2e9127ff68\", element=\"fdd4050e-47dc-4387-8e8f-8489fb48bb4c\")>,\n",
       " <selenium.webdriver.remote.webelement.WebElement (session=\"9cb73111fd9b15cc4d589d2e9127ff68\", element=\"067a6f18-191f-4fd5-8c64-4761a038b712\")>,\n",
       " <selenium.webdriver.remote.webelement.WebElement (session=\"9cb73111fd9b15cc4d589d2e9127ff68\", element=\"4c7ea2f3-8971-4c48-8d93-c600862316f7\")>,\n",
       " <selenium.webdriver.remote.webelement.WebElement (session=\"9cb73111fd9b15cc4d589d2e9127ff68\", element=\"1bf0a93e-b775-469e-b791-d4d5f35a320f\")>,\n",
       " <selenium.webdriver.remote.webelement.WebElement (session=\"9cb73111fd9b15cc4d589d2e9127ff68\", element=\"f476f104-0ae3-4a66-8bc2-ab967ad55542\")>,\n",
       " <selenium.webdriver.remote.webelement.WebElement (session=\"9cb73111fd9b15cc4d589d2e9127ff68\", element=\"441c5cf1-ceb7-4340-b2bb-24178447c055\")>,\n",
       " <selenium.webdriver.remote.webelement.WebElement (session=\"9cb73111fd9b15cc4d589d2e9127ff68\", element=\"e2b788ae-2baa-486d-bc0b-f5ab4c5639f2\")>,\n",
       " <selenium.webdriver.remote.webelement.WebElement (session=\"9cb73111fd9b15cc4d589d2e9127ff68\", element=\"dd8d9daa-706f-4f00-979d-1a2f89385afc\")>,\n",
       " <selenium.webdriver.remote.webelement.WebElement (session=\"9cb73111fd9b15cc4d589d2e9127ff68\", element=\"7c37c22d-7fd0-4559-9f5c-759bed8d70f1\")>,\n",
       " <selenium.webdriver.remote.webelement.WebElement (session=\"9cb73111fd9b15cc4d589d2e9127ff68\", element=\"35c88284-512b-4390-a346-22017316d28c\")>]"
      ]
     },
     "execution_count": 25,
     "metadata": {},
     "output_type": "execute_result"
    }
   ],
   "source": [
    "dorms_price=driver.find_elements_by_xpath('//p[@class=\"price-label body-3\"]')\n",
    "dorms_price"
   ]
  },
  {
   "cell_type": "code",
   "execution_count": 26,
   "id": "d5cb8c0b",
   "metadata": {},
   "outputs": [
    {
     "data": {
      "text/plain": [
       "[]"
      ]
     },
     "execution_count": 26,
     "metadata": {},
     "output_type": "execute_result"
    }
   ],
   "source": [
    "dorms_price=[]\n",
    "for i in dorms_price:\n",
    "    dorms_price.append(i.text)\n",
    "    \n",
    "dorms_price  "
   ]
  },
  {
   "cell_type": "code",
   "execution_count": 27,
   "id": "a870fec7",
   "metadata": {},
   "outputs": [
    {
     "name": "stderr",
     "output_type": "stream",
     "text": [
      "<ipython-input-27-86e2334ec5e5>:1: DeprecationWarning: find_elements_by_* commands are deprecated. Please use find_elements() instead\n",
      "  description=driver.find_elements_by_xpath('//div[@class=\"title\"]')\n"
     ]
    },
    {
     "data": {
      "text/plain": [
       "[<selenium.webdriver.remote.webelement.WebElement (session=\"9cb73111fd9b15cc4d589d2e9127ff68\", element=\"a93e9c40-c380-43f5-b302-25f97008d749\")>,\n",
       " <selenium.webdriver.remote.webelement.WebElement (session=\"9cb73111fd9b15cc4d589d2e9127ff68\", element=\"fdaaf404-5441-43d0-bb6c-5a0adde19e45\")>,\n",
       " <selenium.webdriver.remote.webelement.WebElement (session=\"9cb73111fd9b15cc4d589d2e9127ff68\", element=\"f27ff65e-0fac-42fb-842f-e5e7d1bc9dee\")>,\n",
       " <selenium.webdriver.remote.webelement.WebElement (session=\"9cb73111fd9b15cc4d589d2e9127ff68\", element=\"90e4c32d-d197-4028-af20-8a919c511d1f\")>,\n",
       " <selenium.webdriver.remote.webelement.WebElement (session=\"9cb73111fd9b15cc4d589d2e9127ff68\", element=\"57605be7-725b-4fa6-9913-e2778aeafc65\")>,\n",
       " <selenium.webdriver.remote.webelement.WebElement (session=\"9cb73111fd9b15cc4d589d2e9127ff68\", element=\"f8863664-7fce-4a81-bf69-cd5ecfb6bcac\")>,\n",
       " <selenium.webdriver.remote.webelement.WebElement (session=\"9cb73111fd9b15cc4d589d2e9127ff68\", element=\"e7c2ece0-12d7-40a0-846a-720cc986444a\")>,\n",
       " <selenium.webdriver.remote.webelement.WebElement (session=\"9cb73111fd9b15cc4d589d2e9127ff68\", element=\"48c06d06-10f0-45aa-8dc0-f244b93188bc\")>,\n",
       " <selenium.webdriver.remote.webelement.WebElement (session=\"9cb73111fd9b15cc4d589d2e9127ff68\", element=\"85ccd942-251c-47c9-a93e-92f0a9f6a5a4\")>,\n",
       " <selenium.webdriver.remote.webelement.WebElement (session=\"9cb73111fd9b15cc4d589d2e9127ff68\", element=\"702e9b35-b0f2-4c03-87f3-c18b3414d4e2\")>,\n",
       " <selenium.webdriver.remote.webelement.WebElement (session=\"9cb73111fd9b15cc4d589d2e9127ff68\", element=\"64130864-ed8c-418e-aa04-d20a55234f55\")>,\n",
       " <selenium.webdriver.remote.webelement.WebElement (session=\"9cb73111fd9b15cc4d589d2e9127ff68\", element=\"2a46821f-5498-4a52-85e4-d6ed9d6b5435\")>,\n",
       " <selenium.webdriver.remote.webelement.WebElement (session=\"9cb73111fd9b15cc4d589d2e9127ff68\", element=\"a96308e1-278b-4861-a2a4-4c5a8e4ab46a\")>]"
      ]
     },
     "execution_count": 27,
     "metadata": {},
     "output_type": "execute_result"
    }
   ],
   "source": [
    "description=driver.find_elements_by_xpath('//div[@class=\"title\"]')\n",
    "description"
   ]
  },
  {
   "cell_type": "code",
   "execution_count": 29,
   "id": "d4766760",
   "metadata": {},
   "outputs": [
    {
     "data": {
      "text/plain": [
       "[]"
      ]
     },
     "execution_count": 29,
     "metadata": {},
     "output_type": "execute_result"
    }
   ],
   "source": [
    "description=[]\n",
    "for i in description:\n",
    "    description.append(i.text)\n",
    "    \n",
    "description"
   ]
  },
  {
   "cell_type": "markdown",
   "id": "20334634",
   "metadata": {},
   "source": [
    "QUESTION 8"
   ]
  },
  {
   "cell_type": "code",
   "execution_count": 30,
   "id": "1e76ea3f",
   "metadata": {},
   "outputs": [
    {
     "name": "stderr",
     "output_type": "stream",
     "text": [
      "<ipython-input-30-452eafebab4f>:2: DeprecationWarning: executable_path has been deprecated, please pass in a Service object\n",
      "  driver = webdriver.Chrome(PATH)\n"
     ]
    }
   ],
   "source": [
    "PATH = 'C:/Users/Shiva Labade/Desktop/chromedriver_win32/chromedriver.exe'\n",
    "driver = webdriver.Chrome(PATH)"
   ]
  },
  {
   "cell_type": "code",
   "execution_count": 31,
   "id": "a3ef7b90",
   "metadata": {},
   "outputs": [],
   "source": [
    "driver.get('https://www.forbes.com/?sh=388cedc2254c')"
   ]
  },
  {
   "cell_type": "code",
   "execution_count": 32,
   "id": "dcb7ae0f",
   "metadata": {},
   "outputs": [
    {
     "name": "stderr",
     "output_type": "stream",
     "text": [
      "<ipython-input-32-8db89342aee0>:1: DeprecationWarning: find_element_by_* commands are deprecated. Please use find_element() instead\n",
      "  search_billionaires = driver.find_element_by_xpath(\"/html/body/div[1]/header/nav/div[4]/button \")\n"
     ]
    },
    {
     "data": {
      "text/plain": [
       "<selenium.webdriver.remote.webelement.WebElement (session=\"c3a3d03caad65361aa012d6a86a3abad\", element=\"7b9e7bd3-953c-4516-abae-46a54a1e2348\")>"
      ]
     },
     "execution_count": 32,
     "metadata": {},
     "output_type": "execute_result"
    }
   ],
   "source": [
    "search_billionaires = driver.find_element_by_xpath(\"/html/body/div[1]/header/nav/div[4]/button \")\n",
    "search_billionaires"
   ]
  },
  {
   "cell_type": "code",
   "execution_count": 34,
   "id": "cc04868c",
   "metadata": {},
   "outputs": [
    {
     "name": "stderr",
     "output_type": "stream",
     "text": [
      "<ipython-input-34-f291becd096d>:1: DeprecationWarning: find_element_by_* commands are deprecated. Please use find_element() instead\n",
      "  search_btn = driver.find_element_by_xpath(\"/html/body/div[1]/header/nav/div[4]/div\")\n"
     ]
    }
   ],
   "source": [
    "search_btn = driver.find_element_by_xpath(\"/html/body/div[1]/header/nav/div[4]/div\")\n",
    "search_btn\n",
    "\n",
    "search_btn.click()"
   ]
  },
  {
   "cell_type": "code",
   "execution_count": 35,
   "id": "1f24b5eb",
   "metadata": {},
   "outputs": [
    {
     "name": "stderr",
     "output_type": "stream",
     "text": [
      "<ipython-input-35-f894ad4cb4a2>:1: DeprecationWarning: find_elements_by_* commands are deprecated. Please use find_elements() instead\n",
      "  name=driver.find_elements_by_xpath('//div[@class=\"data-viz__title-container\"]')\n"
     ]
    },
    {
     "data": {
      "text/plain": [
       "[<selenium.webdriver.remote.webelement.WebElement (session=\"c3a3d03caad65361aa012d6a86a3abad\", element=\"8bef42fe-42bc-4201-b479-fa7ee89d008a\")>,\n",
       " <selenium.webdriver.remote.webelement.WebElement (session=\"c3a3d03caad65361aa012d6a86a3abad\", element=\"554df9d7-8eda-41e7-8177-7a4da73a209e\")>,\n",
       " <selenium.webdriver.remote.webelement.WebElement (session=\"c3a3d03caad65361aa012d6a86a3abad\", element=\"d9350b43-2026-428e-920e-c6019633473e\")>,\n",
       " <selenium.webdriver.remote.webelement.WebElement (session=\"c3a3d03caad65361aa012d6a86a3abad\", element=\"52194a84-6902-4d0f-a932-b43a6802a038\")>,\n",
       " <selenium.webdriver.remote.webelement.WebElement (session=\"c3a3d03caad65361aa012d6a86a3abad\", element=\"a34492ab-c7ea-4ca1-a533-f06ff1f13678\")>,\n",
       " <selenium.webdriver.remote.webelement.WebElement (session=\"c3a3d03caad65361aa012d6a86a3abad\", element=\"3732e1cb-4879-4bb9-bee6-0ab651c4d4ca\")>,\n",
       " <selenium.webdriver.remote.webelement.WebElement (session=\"c3a3d03caad65361aa012d6a86a3abad\", element=\"d4a687b4-36c9-4465-81ce-9e369f5f917c\")>,\n",
       " <selenium.webdriver.remote.webelement.WebElement (session=\"c3a3d03caad65361aa012d6a86a3abad\", element=\"31817133-9f4e-43b3-8443-12d81b8ce4fa\")>,\n",
       " <selenium.webdriver.remote.webelement.WebElement (session=\"c3a3d03caad65361aa012d6a86a3abad\", element=\"372fd987-a02e-4164-91df-5bf5281894e9\")>,\n",
       " <selenium.webdriver.remote.webelement.WebElement (session=\"c3a3d03caad65361aa012d6a86a3abad\", element=\"1812ab76-a46d-47d7-ad59-92d2580f5da2\")>,\n",
       " <selenium.webdriver.remote.webelement.WebElement (session=\"c3a3d03caad65361aa012d6a86a3abad\", element=\"1949fcbf-695d-427b-b8a1-b69617bbae65\")>,\n",
       " <selenium.webdriver.remote.webelement.WebElement (session=\"c3a3d03caad65361aa012d6a86a3abad\", element=\"6f6e7206-4b67-453b-bff7-a95a9033202c\")>,\n",
       " <selenium.webdriver.remote.webelement.WebElement (session=\"c3a3d03caad65361aa012d6a86a3abad\", element=\"e6176028-bfe8-4365-b10c-f8e650fa046c\")>,\n",
       " <selenium.webdriver.remote.webelement.WebElement (session=\"c3a3d03caad65361aa012d6a86a3abad\", element=\"39f21d6b-e223-4a96-9e82-6bc02fdf560c\")>]"
      ]
     },
     "execution_count": 35,
     "metadata": {},
     "output_type": "execute_result"
    }
   ],
   "source": [
    "name=driver.find_elements_by_xpath('//div[@class=\"data-viz__title-container\"]')\n",
    "name"
   ]
  },
  {
   "cell_type": "code",
   "execution_count": 36,
   "id": "dfa663a5",
   "metadata": {},
   "outputs": [
    {
     "data": {
      "text/plain": [
       "[]"
      ]
     },
     "execution_count": 36,
     "metadata": {},
     "output_type": "execute_result"
    }
   ],
   "source": [
    "name=[]\n",
    "for i in name:\n",
    "    name.append(i.text)\n",
    "    \n",
    "name"
   ]
  },
  {
   "cell_type": "code",
   "execution_count": 37,
   "id": "2b102f45",
   "metadata": {},
   "outputs": [
    {
     "name": "stderr",
     "output_type": "stream",
     "text": [
      "<ipython-input-37-093652e15edf>:1: DeprecationWarning: find_elements_by_* commands are deprecated. Please use find_elements() instead\n",
      "  rank=driver.find_elements_by_xpath('//div[@class=\"data-viz__title-container\"]')\n"
     ]
    },
    {
     "data": {
      "text/plain": [
       "[<selenium.webdriver.remote.webelement.WebElement (session=\"c3a3d03caad65361aa012d6a86a3abad\", element=\"8bef42fe-42bc-4201-b479-fa7ee89d008a\")>,\n",
       " <selenium.webdriver.remote.webelement.WebElement (session=\"c3a3d03caad65361aa012d6a86a3abad\", element=\"554df9d7-8eda-41e7-8177-7a4da73a209e\")>,\n",
       " <selenium.webdriver.remote.webelement.WebElement (session=\"c3a3d03caad65361aa012d6a86a3abad\", element=\"d9350b43-2026-428e-920e-c6019633473e\")>,\n",
       " <selenium.webdriver.remote.webelement.WebElement (session=\"c3a3d03caad65361aa012d6a86a3abad\", element=\"52194a84-6902-4d0f-a932-b43a6802a038\")>,\n",
       " <selenium.webdriver.remote.webelement.WebElement (session=\"c3a3d03caad65361aa012d6a86a3abad\", element=\"a34492ab-c7ea-4ca1-a533-f06ff1f13678\")>,\n",
       " <selenium.webdriver.remote.webelement.WebElement (session=\"c3a3d03caad65361aa012d6a86a3abad\", element=\"3732e1cb-4879-4bb9-bee6-0ab651c4d4ca\")>,\n",
       " <selenium.webdriver.remote.webelement.WebElement (session=\"c3a3d03caad65361aa012d6a86a3abad\", element=\"d4a687b4-36c9-4465-81ce-9e369f5f917c\")>,\n",
       " <selenium.webdriver.remote.webelement.WebElement (session=\"c3a3d03caad65361aa012d6a86a3abad\", element=\"31817133-9f4e-43b3-8443-12d81b8ce4fa\")>,\n",
       " <selenium.webdriver.remote.webelement.WebElement (session=\"c3a3d03caad65361aa012d6a86a3abad\", element=\"372fd987-a02e-4164-91df-5bf5281894e9\")>,\n",
       " <selenium.webdriver.remote.webelement.WebElement (session=\"c3a3d03caad65361aa012d6a86a3abad\", element=\"1812ab76-a46d-47d7-ad59-92d2580f5da2\")>,\n",
       " <selenium.webdriver.remote.webelement.WebElement (session=\"c3a3d03caad65361aa012d6a86a3abad\", element=\"1949fcbf-695d-427b-b8a1-b69617bbae65\")>,\n",
       " <selenium.webdriver.remote.webelement.WebElement (session=\"c3a3d03caad65361aa012d6a86a3abad\", element=\"6f6e7206-4b67-453b-bff7-a95a9033202c\")>,\n",
       " <selenium.webdriver.remote.webelement.WebElement (session=\"c3a3d03caad65361aa012d6a86a3abad\", element=\"e6176028-bfe8-4365-b10c-f8e650fa046c\")>,\n",
       " <selenium.webdriver.remote.webelement.WebElement (session=\"c3a3d03caad65361aa012d6a86a3abad\", element=\"39f21d6b-e223-4a96-9e82-6bc02fdf560c\")>]"
      ]
     },
     "execution_count": 37,
     "metadata": {},
     "output_type": "execute_result"
    }
   ],
   "source": [
    "rank=driver.find_elements_by_xpath('//div[@class=\"data-viz__title-container\"]')\n",
    "rank"
   ]
  },
  {
   "cell_type": "code",
   "execution_count": 38,
   "id": "ee7070fd",
   "metadata": {},
   "outputs": [
    {
     "data": {
      "text/plain": [
       "[]"
      ]
     },
     "execution_count": 38,
     "metadata": {},
     "output_type": "execute_result"
    }
   ],
   "source": [
    "rank=[]\n",
    "for i in rank:\n",
    "    rank.append(i.text)\n",
    "    \n",
    "rank"
   ]
  },
  {
   "cell_type": "code",
   "execution_count": 39,
   "id": "29430a3e",
   "metadata": {},
   "outputs": [
    {
     "name": "stderr",
     "output_type": "stream",
     "text": [
      "<ipython-input-39-bd924ef52fa8>:1: DeprecationWarning: find_elements_by_* commands are deprecated. Please use find_elements() instead\n",
      "  net_worth=driver.find_elements_by_xpath('//div[@class=\"data-viz__title-container\"]')\n"
     ]
    },
    {
     "data": {
      "text/plain": [
       "[<selenium.webdriver.remote.webelement.WebElement (session=\"c3a3d03caad65361aa012d6a86a3abad\", element=\"72847d2d-0d04-4388-a203-eb56e9efb755\")>,\n",
       " <selenium.webdriver.remote.webelement.WebElement (session=\"c3a3d03caad65361aa012d6a86a3abad\", element=\"6df24add-4b46-45ab-8c6c-e3316ba8e438\")>,\n",
       " <selenium.webdriver.remote.webelement.WebElement (session=\"c3a3d03caad65361aa012d6a86a3abad\", element=\"7acb9af1-075b-4b6e-b59e-b2d07892fac7\")>,\n",
       " <selenium.webdriver.remote.webelement.WebElement (session=\"c3a3d03caad65361aa012d6a86a3abad\", element=\"d83cd075-d17d-4935-ac03-be8b01523c11\")>,\n",
       " <selenium.webdriver.remote.webelement.WebElement (session=\"c3a3d03caad65361aa012d6a86a3abad\", element=\"ce73e32d-e62a-477d-a695-8908702cea4e\")>,\n",
       " <selenium.webdriver.remote.webelement.WebElement (session=\"c3a3d03caad65361aa012d6a86a3abad\", element=\"a3395497-ca35-47c3-a30a-48c550c90445\")>,\n",
       " <selenium.webdriver.remote.webelement.WebElement (session=\"c3a3d03caad65361aa012d6a86a3abad\", element=\"a54b127d-cf78-4fc4-82fa-82b5836f85e2\")>,\n",
       " <selenium.webdriver.remote.webelement.WebElement (session=\"c3a3d03caad65361aa012d6a86a3abad\", element=\"ca61cd19-2dc8-4500-9fd8-65a7f6de4009\")>,\n",
       " <selenium.webdriver.remote.webelement.WebElement (session=\"c3a3d03caad65361aa012d6a86a3abad\", element=\"6df17b13-5776-4843-bec3-8c35374415e5\")>,\n",
       " <selenium.webdriver.remote.webelement.WebElement (session=\"c3a3d03caad65361aa012d6a86a3abad\", element=\"0414ace5-3dbc-4311-975f-178a944e158e\")>,\n",
       " <selenium.webdriver.remote.webelement.WebElement (session=\"c3a3d03caad65361aa012d6a86a3abad\", element=\"4d596581-fec5-4dd8-9b8d-f2f42cd217aa\")>]"
      ]
     },
     "execution_count": 39,
     "metadata": {},
     "output_type": "execute_result"
    }
   ],
   "source": [
    "net_worth=driver.find_elements_by_xpath('//div[@class=\"data-viz__title-container\"]')\n",
    "net_worth"
   ]
  },
  {
   "cell_type": "code",
   "execution_count": 40,
   "id": "7328a727",
   "metadata": {},
   "outputs": [
    {
     "data": {
      "text/plain": [
       "[]"
      ]
     },
     "execution_count": 40,
     "metadata": {},
     "output_type": "execute_result"
    }
   ],
   "source": [
    "net_worth=[]\n",
    "for i in net_worth:\n",
    "    net_worth.append(i.text)\n",
    "    \n",
    "net_worth"
   ]
  },
  {
   "cell_type": "code",
   "execution_count": 41,
   "id": "38acad97",
   "metadata": {},
   "outputs": [
    {
     "name": "stderr",
     "output_type": "stream",
     "text": [
      "<ipython-input-41-431744f0ade7>:1: DeprecationWarning: find_elements_by_* commands are deprecated. Please use find_elements() instead\n",
      "  age=driver.find_elements_by_xpath('//div[@class=\"data-viz__title-container\"]')\n"
     ]
    },
    {
     "data": {
      "text/plain": [
       "[<selenium.webdriver.remote.webelement.WebElement (session=\"c3a3d03caad65361aa012d6a86a3abad\", element=\"72847d2d-0d04-4388-a203-eb56e9efb755\")>,\n",
       " <selenium.webdriver.remote.webelement.WebElement (session=\"c3a3d03caad65361aa012d6a86a3abad\", element=\"6df24add-4b46-45ab-8c6c-e3316ba8e438\")>,\n",
       " <selenium.webdriver.remote.webelement.WebElement (session=\"c3a3d03caad65361aa012d6a86a3abad\", element=\"7acb9af1-075b-4b6e-b59e-b2d07892fac7\")>,\n",
       " <selenium.webdriver.remote.webelement.WebElement (session=\"c3a3d03caad65361aa012d6a86a3abad\", element=\"d83cd075-d17d-4935-ac03-be8b01523c11\")>,\n",
       " <selenium.webdriver.remote.webelement.WebElement (session=\"c3a3d03caad65361aa012d6a86a3abad\", element=\"ce73e32d-e62a-477d-a695-8908702cea4e\")>,\n",
       " <selenium.webdriver.remote.webelement.WebElement (session=\"c3a3d03caad65361aa012d6a86a3abad\", element=\"a3395497-ca35-47c3-a30a-48c550c90445\")>,\n",
       " <selenium.webdriver.remote.webelement.WebElement (session=\"c3a3d03caad65361aa012d6a86a3abad\", element=\"a54b127d-cf78-4fc4-82fa-82b5836f85e2\")>,\n",
       " <selenium.webdriver.remote.webelement.WebElement (session=\"c3a3d03caad65361aa012d6a86a3abad\", element=\"ca61cd19-2dc8-4500-9fd8-65a7f6de4009\")>,\n",
       " <selenium.webdriver.remote.webelement.WebElement (session=\"c3a3d03caad65361aa012d6a86a3abad\", element=\"6df17b13-5776-4843-bec3-8c35374415e5\")>,\n",
       " <selenium.webdriver.remote.webelement.WebElement (session=\"c3a3d03caad65361aa012d6a86a3abad\", element=\"0414ace5-3dbc-4311-975f-178a944e158e\")>,\n",
       " <selenium.webdriver.remote.webelement.WebElement (session=\"c3a3d03caad65361aa012d6a86a3abad\", element=\"4d596581-fec5-4dd8-9b8d-f2f42cd217aa\")>]"
      ]
     },
     "execution_count": 41,
     "metadata": {},
     "output_type": "execute_result"
    }
   ],
   "source": [
    "age=driver.find_elements_by_xpath('//div[@class=\"data-viz__title-container\"]')\n",
    "age"
   ]
  },
  {
   "cell_type": "code",
   "execution_count": 42,
   "id": "438447ec",
   "metadata": {},
   "outputs": [
    {
     "data": {
      "text/plain": [
       "[]"
      ]
     },
     "execution_count": 42,
     "metadata": {},
     "output_type": "execute_result"
    }
   ],
   "source": [
    "age=[]\n",
    "for i in age:\n",
    "    age.append(i.text)\n",
    "    \n",
    "age"
   ]
  },
  {
   "cell_type": "code",
   "execution_count": 43,
   "id": "776bfd50",
   "metadata": {},
   "outputs": [
    {
     "name": "stderr",
     "output_type": "stream",
     "text": [
      "<ipython-input-43-b5c734a7e069>:1: DeprecationWarning: find_elements_by_* commands are deprecated. Please use find_elements() instead\n",
      "  citizenship=driver.find_elements_by_xpath('//div[@class=\"data-viz__title-container\"]')\n"
     ]
    },
    {
     "data": {
      "text/plain": [
       "[<selenium.webdriver.remote.webelement.WebElement (session=\"c3a3d03caad65361aa012d6a86a3abad\", element=\"72847d2d-0d04-4388-a203-eb56e9efb755\")>,\n",
       " <selenium.webdriver.remote.webelement.WebElement (session=\"c3a3d03caad65361aa012d6a86a3abad\", element=\"6df24add-4b46-45ab-8c6c-e3316ba8e438\")>,\n",
       " <selenium.webdriver.remote.webelement.WebElement (session=\"c3a3d03caad65361aa012d6a86a3abad\", element=\"7acb9af1-075b-4b6e-b59e-b2d07892fac7\")>,\n",
       " <selenium.webdriver.remote.webelement.WebElement (session=\"c3a3d03caad65361aa012d6a86a3abad\", element=\"d83cd075-d17d-4935-ac03-be8b01523c11\")>,\n",
       " <selenium.webdriver.remote.webelement.WebElement (session=\"c3a3d03caad65361aa012d6a86a3abad\", element=\"ce73e32d-e62a-477d-a695-8908702cea4e\")>,\n",
       " <selenium.webdriver.remote.webelement.WebElement (session=\"c3a3d03caad65361aa012d6a86a3abad\", element=\"a3395497-ca35-47c3-a30a-48c550c90445\")>,\n",
       " <selenium.webdriver.remote.webelement.WebElement (session=\"c3a3d03caad65361aa012d6a86a3abad\", element=\"a54b127d-cf78-4fc4-82fa-82b5836f85e2\")>,\n",
       " <selenium.webdriver.remote.webelement.WebElement (session=\"c3a3d03caad65361aa012d6a86a3abad\", element=\"ca61cd19-2dc8-4500-9fd8-65a7f6de4009\")>,\n",
       " <selenium.webdriver.remote.webelement.WebElement (session=\"c3a3d03caad65361aa012d6a86a3abad\", element=\"6df17b13-5776-4843-bec3-8c35374415e5\")>,\n",
       " <selenium.webdriver.remote.webelement.WebElement (session=\"c3a3d03caad65361aa012d6a86a3abad\", element=\"0414ace5-3dbc-4311-975f-178a944e158e\")>,\n",
       " <selenium.webdriver.remote.webelement.WebElement (session=\"c3a3d03caad65361aa012d6a86a3abad\", element=\"4d596581-fec5-4dd8-9b8d-f2f42cd217aa\")>]"
      ]
     },
     "execution_count": 43,
     "metadata": {},
     "output_type": "execute_result"
    }
   ],
   "source": [
    "citizenship=driver.find_elements_by_xpath('//div[@class=\"data-viz__title-container\"]')\n",
    "citizenship"
   ]
  },
  {
   "cell_type": "code",
   "execution_count": 44,
   "id": "f8f9d0ce",
   "metadata": {},
   "outputs": [
    {
     "data": {
      "text/plain": [
       "[]"
      ]
     },
     "execution_count": 44,
     "metadata": {},
     "output_type": "execute_result"
    }
   ],
   "source": [
    "citizenship=[]\n",
    "for i in citizenship:\n",
    "    citizenship.append(i.text)\n",
    "    \n",
    "citizenship"
   ]
  },
  {
   "cell_type": "code",
   "execution_count": 45,
   "id": "e6023965",
   "metadata": {},
   "outputs": [
    {
     "name": "stderr",
     "output_type": "stream",
     "text": [
      "<ipython-input-45-3d8395df3800>:1: DeprecationWarning: find_elements_by_* commands are deprecated. Please use find_elements() instead\n",
      "  source=driver.find_elements_by_xpath('//div[@class=\"data-viz__title-container\"]')\n"
     ]
    },
    {
     "data": {
      "text/plain": [
       "[<selenium.webdriver.remote.webelement.WebElement (session=\"c3a3d03caad65361aa012d6a86a3abad\", element=\"72847d2d-0d04-4388-a203-eb56e9efb755\")>,\n",
       " <selenium.webdriver.remote.webelement.WebElement (session=\"c3a3d03caad65361aa012d6a86a3abad\", element=\"6df24add-4b46-45ab-8c6c-e3316ba8e438\")>,\n",
       " <selenium.webdriver.remote.webelement.WebElement (session=\"c3a3d03caad65361aa012d6a86a3abad\", element=\"7acb9af1-075b-4b6e-b59e-b2d07892fac7\")>,\n",
       " <selenium.webdriver.remote.webelement.WebElement (session=\"c3a3d03caad65361aa012d6a86a3abad\", element=\"d83cd075-d17d-4935-ac03-be8b01523c11\")>,\n",
       " <selenium.webdriver.remote.webelement.WebElement (session=\"c3a3d03caad65361aa012d6a86a3abad\", element=\"ce73e32d-e62a-477d-a695-8908702cea4e\")>,\n",
       " <selenium.webdriver.remote.webelement.WebElement (session=\"c3a3d03caad65361aa012d6a86a3abad\", element=\"a3395497-ca35-47c3-a30a-48c550c90445\")>,\n",
       " <selenium.webdriver.remote.webelement.WebElement (session=\"c3a3d03caad65361aa012d6a86a3abad\", element=\"a54b127d-cf78-4fc4-82fa-82b5836f85e2\")>,\n",
       " <selenium.webdriver.remote.webelement.WebElement (session=\"c3a3d03caad65361aa012d6a86a3abad\", element=\"ca61cd19-2dc8-4500-9fd8-65a7f6de4009\")>,\n",
       " <selenium.webdriver.remote.webelement.WebElement (session=\"c3a3d03caad65361aa012d6a86a3abad\", element=\"6df17b13-5776-4843-bec3-8c35374415e5\")>,\n",
       " <selenium.webdriver.remote.webelement.WebElement (session=\"c3a3d03caad65361aa012d6a86a3abad\", element=\"0414ace5-3dbc-4311-975f-178a944e158e\")>,\n",
       " <selenium.webdriver.remote.webelement.WebElement (session=\"c3a3d03caad65361aa012d6a86a3abad\", element=\"4d596581-fec5-4dd8-9b8d-f2f42cd217aa\")>]"
      ]
     },
     "execution_count": 45,
     "metadata": {},
     "output_type": "execute_result"
    }
   ],
   "source": [
    "source=driver.find_elements_by_xpath('//div[@class=\"data-viz__title-container\"]')\n",
    "source"
   ]
  },
  {
   "cell_type": "code",
   "execution_count": 46,
   "id": "e11a7003",
   "metadata": {},
   "outputs": [
    {
     "data": {
      "text/plain": [
       "[]"
      ]
     },
     "execution_count": 46,
     "metadata": {},
     "output_type": "execute_result"
    }
   ],
   "source": [
    "source=[]\n",
    "for i in source:\n",
    "    source.append(i.text)\n",
    "    \n",
    "source"
   ]
  },
  {
   "cell_type": "code",
   "execution_count": 48,
   "id": "7795126d",
   "metadata": {},
   "outputs": [
    {
     "name": "stderr",
     "output_type": "stream",
     "text": [
      "<ipython-input-48-5df5d0b751a3>:1: DeprecationWarning: find_elements_by_* commands are deprecated. Please use find_elements() instead\n",
      "  industry=driver.find_elements_by_xpath('//div[@class=\"data-viz__title-container\"]')\n"
     ]
    },
    {
     "data": {
      "text/plain": [
       "[<selenium.webdriver.remote.webelement.WebElement (session=\"c3a3d03caad65361aa012d6a86a3abad\", element=\"72847d2d-0d04-4388-a203-eb56e9efb755\")>,\n",
       " <selenium.webdriver.remote.webelement.WebElement (session=\"c3a3d03caad65361aa012d6a86a3abad\", element=\"6df24add-4b46-45ab-8c6c-e3316ba8e438\")>,\n",
       " <selenium.webdriver.remote.webelement.WebElement (session=\"c3a3d03caad65361aa012d6a86a3abad\", element=\"7acb9af1-075b-4b6e-b59e-b2d07892fac7\")>,\n",
       " <selenium.webdriver.remote.webelement.WebElement (session=\"c3a3d03caad65361aa012d6a86a3abad\", element=\"d83cd075-d17d-4935-ac03-be8b01523c11\")>,\n",
       " <selenium.webdriver.remote.webelement.WebElement (session=\"c3a3d03caad65361aa012d6a86a3abad\", element=\"ce73e32d-e62a-477d-a695-8908702cea4e\")>,\n",
       " <selenium.webdriver.remote.webelement.WebElement (session=\"c3a3d03caad65361aa012d6a86a3abad\", element=\"a3395497-ca35-47c3-a30a-48c550c90445\")>,\n",
       " <selenium.webdriver.remote.webelement.WebElement (session=\"c3a3d03caad65361aa012d6a86a3abad\", element=\"a54b127d-cf78-4fc4-82fa-82b5836f85e2\")>,\n",
       " <selenium.webdriver.remote.webelement.WebElement (session=\"c3a3d03caad65361aa012d6a86a3abad\", element=\"ca61cd19-2dc8-4500-9fd8-65a7f6de4009\")>,\n",
       " <selenium.webdriver.remote.webelement.WebElement (session=\"c3a3d03caad65361aa012d6a86a3abad\", element=\"6df17b13-5776-4843-bec3-8c35374415e5\")>,\n",
       " <selenium.webdriver.remote.webelement.WebElement (session=\"c3a3d03caad65361aa012d6a86a3abad\", element=\"0414ace5-3dbc-4311-975f-178a944e158e\")>,\n",
       " <selenium.webdriver.remote.webelement.WebElement (session=\"c3a3d03caad65361aa012d6a86a3abad\", element=\"4d596581-fec5-4dd8-9b8d-f2f42cd217aa\")>]"
      ]
     },
     "execution_count": 48,
     "metadata": {},
     "output_type": "execute_result"
    }
   ],
   "source": [
    "industry=driver.find_elements_by_xpath('//div[@class=\"data-viz__title-container\"]')\n",
    "industry"
   ]
  },
  {
   "cell_type": "code",
   "execution_count": 49,
   "id": "5d661f3d",
   "metadata": {},
   "outputs": [
    {
     "data": {
      "text/plain": [
       "[]"
      ]
     },
     "execution_count": 49,
     "metadata": {},
     "output_type": "execute_result"
    }
   ],
   "source": [
    "industry=[]\n",
    "for i in industry:\n",
    "    industry.append(i.text)\n",
    "    \n",
    "industry"
   ]
  },
  {
   "cell_type": "markdown",
   "id": "8d03b9ac",
   "metadata": {},
   "source": [
    "QUESTION 9"
   ]
  },
  {
   "cell_type": "code",
   "execution_count": 50,
   "id": "57f9fbf5",
   "metadata": {},
   "outputs": [
    {
     "name": "stderr",
     "output_type": "stream",
     "text": [
      "<ipython-input-50-452eafebab4f>:2: DeprecationWarning: executable_path has been deprecated, please pass in a Service object\n",
      "  driver = webdriver.Chrome(PATH)\n"
     ]
    }
   ],
   "source": [
    "PATH = 'C:/Users/Shiva Labade/Desktop/chromedriver_win32/chromedriver.exe'\n",
    "driver = webdriver.Chrome(PATH)"
   ]
  },
  {
   "cell_type": "code",
   "execution_count": 51,
   "id": "2770508c",
   "metadata": {},
   "outputs": [],
   "source": [
    "driver.get('https://www.youtube.com/')"
   ]
  },
  {
   "cell_type": "code",
   "execution_count": 52,
   "id": "ec4c1110",
   "metadata": {},
   "outputs": [
    {
     "name": "stderr",
     "output_type": "stream",
     "text": [
      "<ipython-input-52-a09eb2eb2e4a>:1: DeprecationWarning: find_element_by_* commands are deprecated. Please use find_element() instead\n",
      "  search_comment =driver.find_element_by_xpath('//span[@class=\"style-scope ytd-comment-renderer\"]')\n"
     ]
    },
    {
     "data": {
      "text/plain": [
       "<selenium.webdriver.remote.webelement.WebElement (session=\"e76c0465f662def313cc91147835719d\", element=\"cc5bdc04-09f6-4745-b8bb-abbde413a915\")>"
      ]
     },
     "execution_count": 52,
     "metadata": {},
     "output_type": "execute_result"
    }
   ],
   "source": [
    "search_comment =driver.find_element_by_xpath('//span[@class=\"style-scope ytd-comment-renderer\"]')\n",
    "search_comment"
   ]
  },
  {
   "cell_type": "code",
   "execution_count": 54,
   "id": "cc82d330",
   "metadata": {
    "scrolled": true
   },
   "outputs": [
    {
     "name": "stderr",
     "output_type": "stream",
     "text": [
      "<ipython-input-54-f1f30530be49>:1: DeprecationWarning: find_elements_by_* commands are deprecated. Please use find_elements() instead\n",
      "  commment=driver.find_elements_by_xpath('/html/body/ytd-app/div[1]/ytd-page-manager/ytd-watch-flexy/div[5]/div[1]/div/div[2]/ytd-engagement-panel-section-list-renderer[3]/div[2]/ytd-section-list-renderer/div[2]/ytd-comments/ytd-item-section-renderer/div[3]/ytd-comment-thread-renderer[1]/ytd-comment-renderer/div[3]/div[2]/div[1]/div[2]/h3')\n"
     ]
    }
   ],
   "source": [
    "commment=driver.find_elements_by_xpath('/html/body/ytd-app/div[1]/ytd-page-manager/ytd-watch-flexy/div[5]/div[1]/div/div[2]/ytd-engagement-panel-section-list-renderer[3]/div[2]/ytd-section-list-renderer/div[2]/ytd-comments/ytd-item-section-renderer/div[3]/ytd-comment-thread-renderer[1]/ytd-comment-renderer/div[3]/div[2]/div[1]/div[2]/h3')"
   ]
  },
  {
   "cell_type": "code",
   "execution_count": 59,
   "id": "d6619e44",
   "metadata": {},
   "outputs": [
    {
     "name": "stderr",
     "output_type": "stream",
     "text": [
      "<ipython-input-59-c1b8aaa4ccf4>:1: DeprecationWarning: find_elements_by_* commands are deprecated. Please use find_elements() instead\n",
      "  comment=driver.find_elements_by_class_name(\"style-scope ytd-comment-renderer\")\n"
     ]
    },
    {
     "data": {
      "text/plain": [
       "[<selenium.webdriver.remote.webelement.WebElement (session=\"e76c0465f662def313cc91147835719d\", element=\"2ba7ad42-584a-40ff-b658-b8d19fb4e507\")>,\n",
       " <selenium.webdriver.remote.webelement.WebElement (session=\"e76c0465f662def313cc91147835719d\", element=\"5f8cedf6-2dd9-4ab8-9fc8-76d895bc61cd\")>,\n",
       " <selenium.webdriver.remote.webelement.WebElement (session=\"e76c0465f662def313cc91147835719d\", element=\"a9692517-590f-47ca-8703-3a8c73565a11\")>,\n",
       " <selenium.webdriver.remote.webelement.WebElement (session=\"e76c0465f662def313cc91147835719d\", element=\"0f37de5c-00eb-4137-8c61-7f5c61bfe4e5\")>,\n",
       " <selenium.webdriver.remote.webelement.WebElement (session=\"e76c0465f662def313cc91147835719d\", element=\"86f6b6cf-afe5-4727-a929-c3e741edbccb\")>,\n",
       " <selenium.webdriver.remote.webelement.WebElement (session=\"e76c0465f662def313cc91147835719d\", element=\"b91f3967-ba95-4fbf-a4d4-81e33299d039\")>,\n",
       " <selenium.webdriver.remote.webelement.WebElement (session=\"e76c0465f662def313cc91147835719d\", element=\"f762a10e-3aa3-41bc-9349-9654c77ca529\")>,\n",
       " <selenium.webdriver.remote.webelement.WebElement (session=\"e76c0465f662def313cc91147835719d\", element=\"da49d285-9377-4814-aaa8-dd48b8d280fa\")>,\n",
       " <selenium.webdriver.remote.webelement.WebElement (session=\"e76c0465f662def313cc91147835719d\", element=\"2d3f1e05-d6ae-468f-b8ad-fd908c000ef7\")>,\n",
       " <selenium.webdriver.remote.webelement.WebElement (session=\"e76c0465f662def313cc91147835719d\", element=\"efea5f6f-a45e-44a9-9aa0-6dc90d2777b8\")>,\n",
       " <selenium.webdriver.remote.webelement.WebElement (session=\"e76c0465f662def313cc91147835719d\", element=\"f2526985-a3d7-4497-bfb6-307e79687e76\")>,\n",
       " <selenium.webdriver.remote.webelement.WebElement (session=\"e76c0465f662def313cc91147835719d\", element=\"cd54c72a-e2ab-43a1-b1ff-5eca2eb06b2c\")>,\n",
       " <selenium.webdriver.remote.webelement.WebElement (session=\"e76c0465f662def313cc91147835719d\", element=\"34e14766-0018-4493-b99e-f50e9754aec6\")>,\n",
       " <selenium.webdriver.remote.webelement.WebElement (session=\"e76c0465f662def313cc91147835719d\", element=\"c7480bf2-029c-46e4-bc77-17d7f26131bd\")>,\n",
       " <selenium.webdriver.remote.webelement.WebElement (session=\"e76c0465f662def313cc91147835719d\", element=\"897de6d6-dade-4839-9baa-c6fd929dfa53\")>,\n",
       " <selenium.webdriver.remote.webelement.WebElement (session=\"e76c0465f662def313cc91147835719d\", element=\"dfada763-9bf4-4b86-a7c3-6181181f9e3e\")>,\n",
       " <selenium.webdriver.remote.webelement.WebElement (session=\"e76c0465f662def313cc91147835719d\", element=\"f9a7f575-6eb4-46f1-9c33-56f0573d0803\")>,\n",
       " <selenium.webdriver.remote.webelement.WebElement (session=\"e76c0465f662def313cc91147835719d\", element=\"732c4646-ce0f-4490-a676-682f6b307933\")>,\n",
       " <selenium.webdriver.remote.webelement.WebElement (session=\"e76c0465f662def313cc91147835719d\", element=\"be61e543-0d9d-4393-aa9d-d595d3f02855\")>]"
      ]
     },
     "execution_count": 59,
     "metadata": {},
     "output_type": "execute_result"
    }
   ],
   "source": [
    "comment=driver.find_elements_by_class_name(\"style-scope ytd-comment-renderer\")\n",
    "comment"
   ]
  },
  {
   "cell_type": "code",
   "execution_count": 60,
   "id": "6bd8e096",
   "metadata": {},
   "outputs": [
    {
     "data": {
      "text/plain": [
       "19"
      ]
     },
     "execution_count": 60,
     "metadata": {},
     "output_type": "execute_result"
    }
   ],
   "source": [
    "len(comment)"
   ]
  },
  {
   "cell_type": "code",
   "execution_count": 61,
   "id": "a9431145",
   "metadata": {},
   "outputs": [
    {
     "data": {
      "text/plain": [
       "[]"
      ]
     },
     "execution_count": 61,
     "metadata": {},
     "output_type": "execute_result"
    }
   ],
   "source": [
    "comment=[]\n",
    "for i in comment:\n",
    "    comment.append(i.text)\n",
    "    \n",
    "comment"
   ]
  },
  {
   "cell_type": "markdown",
   "id": "c6c1eb6c",
   "metadata": {},
   "source": [
    "QUESTION 7"
   ]
  },
  {
   "cell_type": "code",
   "execution_count": 62,
   "id": "d21838d2",
   "metadata": {},
   "outputs": [
    {
     "name": "stderr",
     "output_type": "stream",
     "text": [
      "<ipython-input-62-452eafebab4f>:2: DeprecationWarning: executable_path has been deprecated, please pass in a Service object\n",
      "  driver = webdriver.Chrome(PATH)\n"
     ]
    }
   ],
   "source": [
    "PATH = 'C:/Users/Shiva Labade/Desktop/chromedriver_win32/chromedriver.exe'\n",
    "driver = webdriver.Chrome(PATH)"
   ]
  },
  {
   "cell_type": "code",
   "execution_count": 74,
   "id": "034ba441",
   "metadata": {},
   "outputs": [],
   "source": [
    "driver.get(\"https://www.digit.in/\")"
   ]
  },
  {
   "cell_type": "code",
   "execution_count": 75,
   "id": "497be8c7",
   "metadata": {},
   "outputs": [
    {
     "name": "stderr",
     "output_type": "stream",
     "text": [
      "<ipython-input-75-295e6bc9b83d>:1: DeprecationWarning: find_element_by_* commands are deprecated. Please use find_element() instead\n",
      "  search_laptop = driver.find_element_by_class_name(\"form-control\")\n"
     ]
    },
    {
     "data": {
      "text/plain": [
       "<selenium.webdriver.remote.webelement.WebElement (session=\"0c20cbc7116e494f9c0e233bed299045\", element=\"f9d9ff4a-3efb-439a-b51c-26b3494c87fe\")>"
      ]
     },
     "execution_count": 75,
     "metadata": {},
     "output_type": "execute_result"
    }
   ],
   "source": [
    "search_laptop = driver.find_element_by_class_name(\"form-control\")\n",
    "search_laptop"
   ]
  },
  {
   "cell_type": "code",
   "execution_count": 76,
   "id": "79a4ae48",
   "metadata": {},
   "outputs": [],
   "source": [
    "search_laptop.send_keys(\"Laptop\")"
   ]
  },
  {
   "cell_type": "code",
   "execution_count": 77,
   "id": "30979b03",
   "metadata": {},
   "outputs": [
    {
     "name": "stderr",
     "output_type": "stream",
     "text": [
      "<ipython-input-77-824d4ea78c62>:1: DeprecationWarning: find_element_by_* commands are deprecated. Please use find_element() instead\n",
      "  search_detail =driver.find_element_by_xpath('/html/body/div[3]/div[2]/div[7]/div[2]/div[1]/div[1]')\n"
     ]
    },
    {
     "data": {
      "text/plain": [
       "<selenium.webdriver.remote.webelement.WebElement (session=\"0c20cbc7116e494f9c0e233bed299045\", element=\"eda015a4-58ea-43d3-b75c-ec065f3f29f9\")>"
      ]
     },
     "execution_count": 77,
     "metadata": {},
     "output_type": "execute_result"
    }
   ],
   "source": [
    "search_detail =driver.find_element_by_xpath('/html/body/div[3]/div[2]/div[7]/div[2]/div[1]/div[1]')\n",
    "search_detail"
   ]
  },
  {
   "cell_type": "code",
   "execution_count": 78,
   "id": "070412a9",
   "metadata": {},
   "outputs": [
    {
     "data": {
      "text/plain": [
       "[]"
      ]
     },
     "execution_count": 78,
     "metadata": {},
     "output_type": "execute_result"
    }
   ],
   "source": [
    "detail=[]\n",
    "for i in detail:\n",
    "    detail.append(i.text)\n",
    "    \n",
    "detail"
   ]
  },
  {
   "cell_type": "markdown",
   "id": "9a547362",
   "metadata": {},
   "source": [
    "QUESTION 6"
   ]
  },
  {
   "cell_type": "code",
   "execution_count": 79,
   "id": "814713e9",
   "metadata": {},
   "outputs": [
    {
     "name": "stderr",
     "output_type": "stream",
     "text": [
      "<ipython-input-79-452eafebab4f>:2: DeprecationWarning: executable_path has been deprecated, please pass in a Service object\n",
      "  driver = webdriver.Chrome(PATH)\n"
     ]
    }
   ],
   "source": [
    "PATH = 'C:/Users/Shiva Labade/Desktop/chromedriver_win32/chromedriver.exe'\n",
    "driver = webdriver.Chrome(PATH)"
   ]
  },
  {
   "cell_type": "code",
   "execution_count": 80,
   "id": "70e1f7cd",
   "metadata": {},
   "outputs": [],
   "source": [
    "driver.get(\"https://trak.in/\")"
   ]
  },
  {
   "cell_type": "code",
   "execution_count": 81,
   "id": "23b25c2a",
   "metadata": {},
   "outputs": [
    {
     "name": "stderr",
     "output_type": "stream",
     "text": [
      "<ipython-input-81-b0f11e44817f>:1: DeprecationWarning: find_element_by_* commands are deprecated. Please use find_element() instead\n",
      "  search_second_quarter = driver.find_element_by_class_name(\"search-handler\")\n"
     ]
    },
    {
     "data": {
      "text/plain": [
       "<selenium.webdriver.remote.webelement.WebElement (session=\"317f84f391916fbcc17e85b2fe65c7fe\", element=\"5f9b8db7-c4aa-498e-a10f-1fc713c40063\")>"
      ]
     },
     "execution_count": 81,
     "metadata": {},
     "output_type": "execute_result"
    }
   ],
   "source": [
    "search_second_quarter = driver.find_element_by_class_name(\"search-handler\")\n",
    "search_second_quarter"
   ]
  },
  {
   "cell_type": "code",
   "execution_count": 85,
   "id": "c1183ce0",
   "metadata": {},
   "outputs": [
    {
     "ename": "StaleElementReferenceException",
     "evalue": "Message: stale element reference: element is not attached to the page document\n  (Session info: chrome=99.0.4844.82)\nStacktrace:\nBacktrace:\n\tOrdinal0 [0x00579943+2595139]\n\tOrdinal0 [0x0050C9F1+2148849]\n\tOrdinal0 [0x00404528+1066280]\n\tOrdinal0 [0x00406E04+1076740]\n\tOrdinal0 [0x00406CBE+1076414]\n\tOrdinal0 [0x00406F50+1077072]\n\tOrdinal0 [0x004319F9+1251833]\n\tOrdinal0 [0x00431AD4+1252052]\n\tOrdinal0 [0x0042A197+1221015]\n\tOrdinal0 [0x0044B9EC+1358316]\n\tOrdinal0 [0x00427474+1209460]\n\tOrdinal0 [0x0044BC04+1358852]\n\tOrdinal0 [0x0045BAF2+1424114]\n\tOrdinal0 [0x0044B806+1357830]\n\tOrdinal0 [0x00426086+1204358]\n\tOrdinal0 [0x00426F96+1208214]\n\tGetHandleVerifier [0x0071B232+1658114]\n\tGetHandleVerifier [0x007D312C+2411516]\n\tGetHandleVerifier [0x0060F261+560433]\n\tGetHandleVerifier [0x0060E366+556598]\n\tOrdinal0 [0x0051286B+2173035]\n\tOrdinal0 [0x005175F8+2192888]\n\tOrdinal0 [0x005176E5+2193125]\n\tOrdinal0 [0x005211FC+2232828]\n\tBaseThreadInitThunk [0x76106739+25]\n\tRtlGetFullPathName_UEx [0x778D8E7F+1215]\n\tRtlGetFullPathName_UEx [0x778D8E4D+1165]\n",
     "output_type": "error",
     "traceback": [
      "\u001b[1;31m---------------------------------------------------------------------------\u001b[0m",
      "\u001b[1;31mStaleElementReferenceException\u001b[0m            Traceback (most recent call last)",
      "\u001b[1;32m<ipython-input-85-7a8386155814>\u001b[0m in \u001b[0;36m<module>\u001b[1;34m\u001b[0m\n\u001b[1;32m----> 1\u001b[1;33m \u001b[0msearch_second_quarter\u001b[0m\u001b[1;33m.\u001b[0m\u001b[0msend_keys\u001b[0m\u001b[1;33m(\u001b[0m\u001b[1;34m\"-\"\u001b[0m\u001b[1;33m)\u001b[0m\u001b[1;33m\u001b[0m\u001b[1;33m\u001b[0m\u001b[0m\n\u001b[0m",
      "\u001b[1;32mC:\\ProgramData\\Anaconda3\\lib\\site-packages\\selenium\\webdriver\\remote\\webelement.py\u001b[0m in \u001b[0;36msend_keys\u001b[1;34m(self, *value)\u001b[0m\n\u001b[0;32m    538\u001b[0m                 \u001b[0mvalue\u001b[0m \u001b[1;33m=\u001b[0m \u001b[1;34m'\\n'\u001b[0m\u001b[1;33m.\u001b[0m\u001b[0mjoin\u001b[0m\u001b[1;33m(\u001b[0m\u001b[0mremote_files\u001b[0m\u001b[1;33m)\u001b[0m\u001b[1;33m\u001b[0m\u001b[1;33m\u001b[0m\u001b[0m\n\u001b[0;32m    539\u001b[0m \u001b[1;33m\u001b[0m\u001b[0m\n\u001b[1;32m--> 540\u001b[1;33m         self._execute(Command.SEND_KEYS_TO_ELEMENT,\n\u001b[0m\u001b[0;32m    541\u001b[0m                       {'text': \"\".join(keys_to_typing(value)),\n\u001b[0;32m    542\u001b[0m                        'value': keys_to_typing(value)})\n",
      "\u001b[1;32mC:\\ProgramData\\Anaconda3\\lib\\site-packages\\selenium\\webdriver\\remote\\webelement.py\u001b[0m in \u001b[0;36m_execute\u001b[1;34m(self, command, params)\u001b[0m\n\u001b[0;32m    708\u001b[0m             \u001b[0mparams\u001b[0m \u001b[1;33m=\u001b[0m \u001b[1;33m{\u001b[0m\u001b[1;33m}\u001b[0m\u001b[1;33m\u001b[0m\u001b[1;33m\u001b[0m\u001b[0m\n\u001b[0;32m    709\u001b[0m         \u001b[0mparams\u001b[0m\u001b[1;33m[\u001b[0m\u001b[1;34m'id'\u001b[0m\u001b[1;33m]\u001b[0m \u001b[1;33m=\u001b[0m \u001b[0mself\u001b[0m\u001b[1;33m.\u001b[0m\u001b[0m_id\u001b[0m\u001b[1;33m\u001b[0m\u001b[1;33m\u001b[0m\u001b[0m\n\u001b[1;32m--> 710\u001b[1;33m         \u001b[1;32mreturn\u001b[0m \u001b[0mself\u001b[0m\u001b[1;33m.\u001b[0m\u001b[0m_parent\u001b[0m\u001b[1;33m.\u001b[0m\u001b[0mexecute\u001b[0m\u001b[1;33m(\u001b[0m\u001b[0mcommand\u001b[0m\u001b[1;33m,\u001b[0m \u001b[0mparams\u001b[0m\u001b[1;33m)\u001b[0m\u001b[1;33m\u001b[0m\u001b[1;33m\u001b[0m\u001b[0m\n\u001b[0m\u001b[0;32m    711\u001b[0m \u001b[1;33m\u001b[0m\u001b[0m\n\u001b[0;32m    712\u001b[0m     \u001b[1;32mdef\u001b[0m \u001b[0mfind_element\u001b[0m\u001b[1;33m(\u001b[0m\u001b[0mself\u001b[0m\u001b[1;33m,\u001b[0m \u001b[0mby\u001b[0m\u001b[1;33m=\u001b[0m\u001b[0mBy\u001b[0m\u001b[1;33m.\u001b[0m\u001b[0mID\u001b[0m\u001b[1;33m,\u001b[0m \u001b[0mvalue\u001b[0m\u001b[1;33m=\u001b[0m\u001b[1;32mNone\u001b[0m\u001b[1;33m)\u001b[0m\u001b[1;33m:\u001b[0m\u001b[1;33m\u001b[0m\u001b[1;33m\u001b[0m\u001b[0m\n",
      "\u001b[1;32mC:\\ProgramData\\Anaconda3\\lib\\site-packages\\selenium\\webdriver\\remote\\webdriver.py\u001b[0m in \u001b[0;36mexecute\u001b[1;34m(self, driver_command, params)\u001b[0m\n\u001b[0;32m    422\u001b[0m         \u001b[0mresponse\u001b[0m \u001b[1;33m=\u001b[0m \u001b[0mself\u001b[0m\u001b[1;33m.\u001b[0m\u001b[0mcommand_executor\u001b[0m\u001b[1;33m.\u001b[0m\u001b[0mexecute\u001b[0m\u001b[1;33m(\u001b[0m\u001b[0mdriver_command\u001b[0m\u001b[1;33m,\u001b[0m \u001b[0mparams\u001b[0m\u001b[1;33m)\u001b[0m\u001b[1;33m\u001b[0m\u001b[1;33m\u001b[0m\u001b[0m\n\u001b[0;32m    423\u001b[0m         \u001b[1;32mif\u001b[0m \u001b[0mresponse\u001b[0m\u001b[1;33m:\u001b[0m\u001b[1;33m\u001b[0m\u001b[1;33m\u001b[0m\u001b[0m\n\u001b[1;32m--> 424\u001b[1;33m             \u001b[0mself\u001b[0m\u001b[1;33m.\u001b[0m\u001b[0merror_handler\u001b[0m\u001b[1;33m.\u001b[0m\u001b[0mcheck_response\u001b[0m\u001b[1;33m(\u001b[0m\u001b[0mresponse\u001b[0m\u001b[1;33m)\u001b[0m\u001b[1;33m\u001b[0m\u001b[1;33m\u001b[0m\u001b[0m\n\u001b[0m\u001b[0;32m    425\u001b[0m             response['value'] = self._unwrap_value(\n\u001b[0;32m    426\u001b[0m                 response.get('value', None))\n",
      "\u001b[1;32mC:\\ProgramData\\Anaconda3\\lib\\site-packages\\selenium\\webdriver\\remote\\errorhandler.py\u001b[0m in \u001b[0;36mcheck_response\u001b[1;34m(self, response)\u001b[0m\n\u001b[0;32m    245\u001b[0m                 \u001b[0malert_text\u001b[0m \u001b[1;33m=\u001b[0m \u001b[0mvalue\u001b[0m\u001b[1;33m[\u001b[0m\u001b[1;34m'alert'\u001b[0m\u001b[1;33m]\u001b[0m\u001b[1;33m.\u001b[0m\u001b[0mget\u001b[0m\u001b[1;33m(\u001b[0m\u001b[1;34m'text'\u001b[0m\u001b[1;33m)\u001b[0m\u001b[1;33m\u001b[0m\u001b[1;33m\u001b[0m\u001b[0m\n\u001b[0;32m    246\u001b[0m             \u001b[1;32mraise\u001b[0m \u001b[0mexception_class\u001b[0m\u001b[1;33m(\u001b[0m\u001b[0mmessage\u001b[0m\u001b[1;33m,\u001b[0m \u001b[0mscreen\u001b[0m\u001b[1;33m,\u001b[0m \u001b[0mstacktrace\u001b[0m\u001b[1;33m,\u001b[0m \u001b[0malert_text\u001b[0m\u001b[1;33m)\u001b[0m  \u001b[1;31m# type: ignore[call-arg]  # mypy is not smart enough here\u001b[0m\u001b[1;33m\u001b[0m\u001b[1;33m\u001b[0m\u001b[0m\n\u001b[1;32m--> 247\u001b[1;33m         \u001b[1;32mraise\u001b[0m \u001b[0mexception_class\u001b[0m\u001b[1;33m(\u001b[0m\u001b[0mmessage\u001b[0m\u001b[1;33m,\u001b[0m \u001b[0mscreen\u001b[0m\u001b[1;33m,\u001b[0m \u001b[0mstacktrace\u001b[0m\u001b[1;33m)\u001b[0m\u001b[1;33m\u001b[0m\u001b[1;33m\u001b[0m\u001b[0m\n\u001b[0m\u001b[0;32m    248\u001b[0m \u001b[1;33m\u001b[0m\u001b[0m\n\u001b[0;32m    249\u001b[0m     \u001b[1;32mdef\u001b[0m \u001b[0m_value_or_default\u001b[0m\u001b[1;33m(\u001b[0m\u001b[0mself\u001b[0m\u001b[1;33m,\u001b[0m \u001b[0mobj\u001b[0m\u001b[1;33m:\u001b[0m \u001b[0mMapping\u001b[0m\u001b[1;33m[\u001b[0m\u001b[0m_KT\u001b[0m\u001b[1;33m,\u001b[0m \u001b[0m_VT\u001b[0m\u001b[1;33m]\u001b[0m\u001b[1;33m,\u001b[0m \u001b[0mkey\u001b[0m\u001b[1;33m:\u001b[0m \u001b[0m_KT\u001b[0m\u001b[1;33m,\u001b[0m \u001b[0mdefault\u001b[0m\u001b[1;33m:\u001b[0m \u001b[0m_VT\u001b[0m\u001b[1;33m)\u001b[0m \u001b[1;33m->\u001b[0m \u001b[0m_VT\u001b[0m\u001b[1;33m:\u001b[0m\u001b[1;33m\u001b[0m\u001b[1;33m\u001b[0m\u001b[0m\n",
      "\u001b[1;31mStaleElementReferenceException\u001b[0m: Message: stale element reference: element is not attached to the page document\n  (Session info: chrome=99.0.4844.82)\nStacktrace:\nBacktrace:\n\tOrdinal0 [0x00579943+2595139]\n\tOrdinal0 [0x0050C9F1+2148849]\n\tOrdinal0 [0x00404528+1066280]\n\tOrdinal0 [0x00406E04+1076740]\n\tOrdinal0 [0x00406CBE+1076414]\n\tOrdinal0 [0x00406F50+1077072]\n\tOrdinal0 [0x004319F9+1251833]\n\tOrdinal0 [0x00431AD4+1252052]\n\tOrdinal0 [0x0042A197+1221015]\n\tOrdinal0 [0x0044B9EC+1358316]\n\tOrdinal0 [0x00427474+1209460]\n\tOrdinal0 [0x0044BC04+1358852]\n\tOrdinal0 [0x0045BAF2+1424114]\n\tOrdinal0 [0x0044B806+1357830]\n\tOrdinal0 [0x00426086+1204358]\n\tOrdinal0 [0x00426F96+1208214]\n\tGetHandleVerifier [0x0071B232+1658114]\n\tGetHandleVerifier [0x007D312C+2411516]\n\tGetHandleVerifier [0x0060F261+560433]\n\tGetHandleVerifier [0x0060E366+556598]\n\tOrdinal0 [0x0051286B+2173035]\n\tOrdinal0 [0x005175F8+2192888]\n\tOrdinal0 [0x005176E5+2193125]\n\tOrdinal0 [0x005211FC+2232828]\n\tBaseThreadInitThunk [0x76106739+25]\n\tRtlGetFullPathName_UEx [0x778D8E7F+1215]\n\tRtlGetFullPathName_UEx [0x778D8E4D+1165]\n"
     ]
    }
   ],
   "source": [
    "search_second_quarter.send_keys(\"-\")"
   ]
  },
  {
   "cell_type": "code",
   "execution_count": 86,
   "id": "3ab7efd1",
   "metadata": {},
   "outputs": [
    {
     "name": "stderr",
     "output_type": "stream",
     "text": [
      "<ipython-input-86-b210ab4cd865>:1: DeprecationWarning: find_element_by_* commands are deprecated. Please use find_element() instead\n",
      "  search_funding =driver.find_element_by_xpath('/html/body/div[1]/div[2]/main/div/div/div[1]/section/div/form/input[1]')\n"
     ]
    },
    {
     "data": {
      "text/plain": [
       "<selenium.webdriver.remote.webelement.WebElement (session=\"317f84f391916fbcc17e85b2fe65c7fe\", element=\"c3a6b1af-f3b4-40d8-afc7-08f98e5e8888\")>"
      ]
     },
     "execution_count": 86,
     "metadata": {},
     "output_type": "execute_result"
    }
   ],
   "source": [
    "search_funding =driver.find_element_by_xpath('/html/body/div[1]/div[2]/main/div/div/div[1]/section/div/form/input[1]')\n",
    "search_funding"
   ]
  },
  {
   "cell_type": "code",
   "execution_count": 87,
   "id": "e41fe5d7",
   "metadata": {},
   "outputs": [
    {
     "data": {
      "text/plain": [
       "[]"
      ]
     },
     "execution_count": 87,
     "metadata": {},
     "output_type": "execute_result"
    }
   ],
   "source": [
    "funding=[]\n",
    "for i in funding:\n",
    "    funding.append(i.text)\n",
    "    \n",
    "funding"
   ]
  },
  {
   "cell_type": "markdown",
   "id": "e09a741c",
   "metadata": {},
   "source": [
    "QUESTION 5"
   ]
  },
  {
   "cell_type": "code",
   "execution_count": 88,
   "id": "22e6563d",
   "metadata": {},
   "outputs": [
    {
     "name": "stderr",
     "output_type": "stream",
     "text": [
      "<ipython-input-88-452eafebab4f>:2: DeprecationWarning: executable_path has been deprecated, please pass in a Service object\n",
      "  driver = webdriver.Chrome(PATH)\n"
     ]
    }
   ],
   "source": [
    "PATH = 'C:/Users/Shiva Labade/Desktop/chromedriver_win32/chromedriver.exe'\n",
    "driver = webdriver.Chrome(PATH)"
   ]
  },
  {
   "cell_type": "code",
   "execution_count": 89,
   "id": "f54f5f9c",
   "metadata": {},
   "outputs": [],
   "source": [
    "driver.get(\"https://www.google.com/maps/@18.7339616,73.6889375,15z\")"
   ]
  },
  {
   "cell_type": "code",
   "execution_count": 90,
   "id": "acee2da8",
   "metadata": {},
   "outputs": [],
   "source": [
    "def searchplace():\n",
    "    Place = driver.find_element_by_class_name(\"xoLGzf-BIqFsb-haAclf\")\n",
    "    Place.send_keys(\"Pune\")\n",
    "    Submit = driver.find_element_by_xpath(\"/html/body/div[3]/div[9]/div[3]/div[1]/div[1]/div[1]/div[2]/form/div/div[3]/div/input[1]\")\n",
    "    Submit.click()\n",
    "    \n",
    "    searchplace()"
   ]
  },
  {
   "cell_type": "code",
   "execution_count": 91,
   "id": "c863b7ac",
   "metadata": {},
   "outputs": [
    {
     "data": {
      "text/plain": [
       "{}"
      ]
     },
     "execution_count": 91,
     "metadata": {},
     "output_type": "execute_result"
    }
   ],
   "source": [
    "latitude = 18.7339616\n",
    "longitude = 73.6889375\n",
    "accuracy = 100\n",
    " \n",
    "driver.maximize_window()\n",
    "driver.execute_cdp_cmd(\"Emulation.setGeolocationOverride\", {\n",
    "\t\"latitude\": latitude,\n",
    "      \"longitude\":longitude,\n",
    "      \"accuracy\": accuracy})"
   ]
  },
  {
   "cell_type": "code",
   "execution_count": 92,
   "id": "c8990826",
   "metadata": {},
   "outputs": [
    {
     "name": "stderr",
     "output_type": "stream",
     "text": [
      "<ipython-input-92-245d298ba597>:1: DeprecationWarning: find_element_by_* commands are deprecated. Please use find_element() instead\n",
      "  location_icon = driver.find_element_by_css_selector(\".icon-geolocate\")\n"
     ]
    },
    {
     "ename": "NoSuchElementException",
     "evalue": "Message: no such element: Unable to locate element: {\"method\":\"css selector\",\"selector\":\".icon-geolocate\"}\n  (Session info: chrome=99.0.4844.82)\nStacktrace:\nBacktrace:\n\tOrdinal0 [0x00579943+2595139]\n\tOrdinal0 [0x0050C9F1+2148849]\n\tOrdinal0 [0x00404528+1066280]\n\tOrdinal0 [0x00430FD4+1249236]\n\tOrdinal0 [0x004311CB+1249739]\n\tOrdinal0 [0x0045D812+1431570]\n\tOrdinal0 [0x0044BA34+1358388]\n\tOrdinal0 [0x0045BAF2+1424114]\n\tOrdinal0 [0x0044B806+1357830]\n\tOrdinal0 [0x00426086+1204358]\n\tOrdinal0 [0x00426F96+1208214]\n\tGetHandleVerifier [0x0071B232+1658114]\n\tGetHandleVerifier [0x007D312C+2411516]\n\tGetHandleVerifier [0x0060F261+560433]\n\tGetHandleVerifier [0x0060E366+556598]\n\tOrdinal0 [0x0051286B+2173035]\n\tOrdinal0 [0x005175F8+2192888]\n\tOrdinal0 [0x005176E5+2193125]\n\tOrdinal0 [0x005211FC+2232828]\n\tBaseThreadInitThunk [0x76106739+25]\n\tRtlGetFullPathName_UEx [0x778D8E7F+1215]\n\tRtlGetFullPathName_UEx [0x778D8E4D+1165]\n",
     "output_type": "error",
     "traceback": [
      "\u001b[1;31m---------------------------------------------------------------------------\u001b[0m",
      "\u001b[1;31mNoSuchElementException\u001b[0m                    Traceback (most recent call last)",
      "\u001b[1;32m<ipython-input-92-245d298ba597>\u001b[0m in \u001b[0;36m<module>\u001b[1;34m\u001b[0m\n\u001b[1;32m----> 1\u001b[1;33m \u001b[0mlocation_icon\u001b[0m \u001b[1;33m=\u001b[0m \u001b[0mdriver\u001b[0m\u001b[1;33m.\u001b[0m\u001b[0mfind_element_by_css_selector\u001b[0m\u001b[1;33m(\u001b[0m\u001b[1;34m\".icon-geolocate\"\u001b[0m\u001b[1;33m)\u001b[0m\u001b[1;33m\u001b[0m\u001b[1;33m\u001b[0m\u001b[0m\n\u001b[0m\u001b[0;32m      2\u001b[0m \u001b[0mtime\u001b[0m\u001b[1;33m.\u001b[0m\u001b[0msleep\u001b[0m\u001b[1;33m(\u001b[0m\u001b[1;36m10\u001b[0m\u001b[1;33m)\u001b[0m\u001b[1;33m\u001b[0m\u001b[1;33m\u001b[0m\u001b[0m\n\u001b[0;32m      3\u001b[0m \u001b[0mlocation_icon\u001b[0m\u001b[1;33m.\u001b[0m\u001b[0mclick\u001b[0m\u001b[1;33m(\u001b[0m\u001b[1;33m)\u001b[0m\u001b[1;33m\u001b[0m\u001b[1;33m\u001b[0m\u001b[0m\n",
      "\u001b[1;32mC:\\ProgramData\\Anaconda3\\lib\\site-packages\\selenium\\webdriver\\remote\\webdriver.py\u001b[0m in \u001b[0;36mfind_element_by_css_selector\u001b[1;34m(self, css_selector)\u001b[0m\n\u001b[0;32m    806\u001b[0m             \u001b[0mstacklevel\u001b[0m\u001b[1;33m=\u001b[0m\u001b[1;36m2\u001b[0m\u001b[1;33m,\u001b[0m\u001b[1;33m\u001b[0m\u001b[1;33m\u001b[0m\u001b[0m\n\u001b[0;32m    807\u001b[0m         )\n\u001b[1;32m--> 808\u001b[1;33m         \u001b[1;32mreturn\u001b[0m \u001b[0mself\u001b[0m\u001b[1;33m.\u001b[0m\u001b[0mfind_element\u001b[0m\u001b[1;33m(\u001b[0m\u001b[0mby\u001b[0m\u001b[1;33m=\u001b[0m\u001b[0mBy\u001b[0m\u001b[1;33m.\u001b[0m\u001b[0mCSS_SELECTOR\u001b[0m\u001b[1;33m,\u001b[0m \u001b[0mvalue\u001b[0m\u001b[1;33m=\u001b[0m\u001b[0mcss_selector\u001b[0m\u001b[1;33m)\u001b[0m\u001b[1;33m\u001b[0m\u001b[1;33m\u001b[0m\u001b[0m\n\u001b[0m\u001b[0;32m    809\u001b[0m \u001b[1;33m\u001b[0m\u001b[0m\n\u001b[0;32m    810\u001b[0m     \u001b[1;32mdef\u001b[0m \u001b[0mfind_elements_by_css_selector\u001b[0m\u001b[1;33m(\u001b[0m\u001b[0mself\u001b[0m\u001b[1;33m,\u001b[0m \u001b[0mcss_selector\u001b[0m\u001b[1;33m)\u001b[0m \u001b[1;33m->\u001b[0m \u001b[0mWebElement\u001b[0m\u001b[1;33m:\u001b[0m\u001b[1;33m\u001b[0m\u001b[1;33m\u001b[0m\u001b[0m\n",
      "\u001b[1;32mC:\\ProgramData\\Anaconda3\\lib\\site-packages\\selenium\\webdriver\\remote\\webdriver.py\u001b[0m in \u001b[0;36mfind_element\u001b[1;34m(self, by, value)\u001b[0m\n\u001b[0;32m   1242\u001b[0m             \u001b[0mvalue\u001b[0m \u001b[1;33m=\u001b[0m \u001b[1;34m'[name=\"%s\"]'\u001b[0m \u001b[1;33m%\u001b[0m \u001b[0mvalue\u001b[0m\u001b[1;33m\u001b[0m\u001b[1;33m\u001b[0m\u001b[0m\n\u001b[0;32m   1243\u001b[0m \u001b[1;33m\u001b[0m\u001b[0m\n\u001b[1;32m-> 1244\u001b[1;33m         return self.execute(Command.FIND_ELEMENT, {\n\u001b[0m\u001b[0;32m   1245\u001b[0m             \u001b[1;34m'using'\u001b[0m\u001b[1;33m:\u001b[0m \u001b[0mby\u001b[0m\u001b[1;33m,\u001b[0m\u001b[1;33m\u001b[0m\u001b[1;33m\u001b[0m\u001b[0m\n\u001b[0;32m   1246\u001b[0m             'value': value})['value']\n",
      "\u001b[1;32mC:\\ProgramData\\Anaconda3\\lib\\site-packages\\selenium\\webdriver\\remote\\webdriver.py\u001b[0m in \u001b[0;36mexecute\u001b[1;34m(self, driver_command, params)\u001b[0m\n\u001b[0;32m    422\u001b[0m         \u001b[0mresponse\u001b[0m \u001b[1;33m=\u001b[0m \u001b[0mself\u001b[0m\u001b[1;33m.\u001b[0m\u001b[0mcommand_executor\u001b[0m\u001b[1;33m.\u001b[0m\u001b[0mexecute\u001b[0m\u001b[1;33m(\u001b[0m\u001b[0mdriver_command\u001b[0m\u001b[1;33m,\u001b[0m \u001b[0mparams\u001b[0m\u001b[1;33m)\u001b[0m\u001b[1;33m\u001b[0m\u001b[1;33m\u001b[0m\u001b[0m\n\u001b[0;32m    423\u001b[0m         \u001b[1;32mif\u001b[0m \u001b[0mresponse\u001b[0m\u001b[1;33m:\u001b[0m\u001b[1;33m\u001b[0m\u001b[1;33m\u001b[0m\u001b[0m\n\u001b[1;32m--> 424\u001b[1;33m             \u001b[0mself\u001b[0m\u001b[1;33m.\u001b[0m\u001b[0merror_handler\u001b[0m\u001b[1;33m.\u001b[0m\u001b[0mcheck_response\u001b[0m\u001b[1;33m(\u001b[0m\u001b[0mresponse\u001b[0m\u001b[1;33m)\u001b[0m\u001b[1;33m\u001b[0m\u001b[1;33m\u001b[0m\u001b[0m\n\u001b[0m\u001b[0;32m    425\u001b[0m             response['value'] = self._unwrap_value(\n\u001b[0;32m    426\u001b[0m                 response.get('value', None))\n",
      "\u001b[1;32mC:\\ProgramData\\Anaconda3\\lib\\site-packages\\selenium\\webdriver\\remote\\errorhandler.py\u001b[0m in \u001b[0;36mcheck_response\u001b[1;34m(self, response)\u001b[0m\n\u001b[0;32m    245\u001b[0m                 \u001b[0malert_text\u001b[0m \u001b[1;33m=\u001b[0m \u001b[0mvalue\u001b[0m\u001b[1;33m[\u001b[0m\u001b[1;34m'alert'\u001b[0m\u001b[1;33m]\u001b[0m\u001b[1;33m.\u001b[0m\u001b[0mget\u001b[0m\u001b[1;33m(\u001b[0m\u001b[1;34m'text'\u001b[0m\u001b[1;33m)\u001b[0m\u001b[1;33m\u001b[0m\u001b[1;33m\u001b[0m\u001b[0m\n\u001b[0;32m    246\u001b[0m             \u001b[1;32mraise\u001b[0m \u001b[0mexception_class\u001b[0m\u001b[1;33m(\u001b[0m\u001b[0mmessage\u001b[0m\u001b[1;33m,\u001b[0m \u001b[0mscreen\u001b[0m\u001b[1;33m,\u001b[0m \u001b[0mstacktrace\u001b[0m\u001b[1;33m,\u001b[0m \u001b[0malert_text\u001b[0m\u001b[1;33m)\u001b[0m  \u001b[1;31m# type: ignore[call-arg]  # mypy is not smart enough here\u001b[0m\u001b[1;33m\u001b[0m\u001b[1;33m\u001b[0m\u001b[0m\n\u001b[1;32m--> 247\u001b[1;33m         \u001b[1;32mraise\u001b[0m \u001b[0mexception_class\u001b[0m\u001b[1;33m(\u001b[0m\u001b[0mmessage\u001b[0m\u001b[1;33m,\u001b[0m \u001b[0mscreen\u001b[0m\u001b[1;33m,\u001b[0m \u001b[0mstacktrace\u001b[0m\u001b[1;33m)\u001b[0m\u001b[1;33m\u001b[0m\u001b[1;33m\u001b[0m\u001b[0m\n\u001b[0m\u001b[0;32m    248\u001b[0m \u001b[1;33m\u001b[0m\u001b[0m\n\u001b[0;32m    249\u001b[0m     \u001b[1;32mdef\u001b[0m \u001b[0m_value_or_default\u001b[0m\u001b[1;33m(\u001b[0m\u001b[0mself\u001b[0m\u001b[1;33m,\u001b[0m \u001b[0mobj\u001b[0m\u001b[1;33m:\u001b[0m \u001b[0mMapping\u001b[0m\u001b[1;33m[\u001b[0m\u001b[0m_KT\u001b[0m\u001b[1;33m,\u001b[0m \u001b[0m_VT\u001b[0m\u001b[1;33m]\u001b[0m\u001b[1;33m,\u001b[0m \u001b[0mkey\u001b[0m\u001b[1;33m:\u001b[0m \u001b[0m_KT\u001b[0m\u001b[1;33m,\u001b[0m \u001b[0mdefault\u001b[0m\u001b[1;33m:\u001b[0m \u001b[0m_VT\u001b[0m\u001b[1;33m)\u001b[0m \u001b[1;33m->\u001b[0m \u001b[0m_VT\u001b[0m\u001b[1;33m:\u001b[0m\u001b[1;33m\u001b[0m\u001b[1;33m\u001b[0m\u001b[0m\n",
      "\u001b[1;31mNoSuchElementException\u001b[0m: Message: no such element: Unable to locate element: {\"method\":\"css selector\",\"selector\":\".icon-geolocate\"}\n  (Session info: chrome=99.0.4844.82)\nStacktrace:\nBacktrace:\n\tOrdinal0 [0x00579943+2595139]\n\tOrdinal0 [0x0050C9F1+2148849]\n\tOrdinal0 [0x00404528+1066280]\n\tOrdinal0 [0x00430FD4+1249236]\n\tOrdinal0 [0x004311CB+1249739]\n\tOrdinal0 [0x0045D812+1431570]\n\tOrdinal0 [0x0044BA34+1358388]\n\tOrdinal0 [0x0045BAF2+1424114]\n\tOrdinal0 [0x0044B806+1357830]\n\tOrdinal0 [0x00426086+1204358]\n\tOrdinal0 [0x00426F96+1208214]\n\tGetHandleVerifier [0x0071B232+1658114]\n\tGetHandleVerifier [0x007D312C+2411516]\n\tGetHandleVerifier [0x0060F261+560433]\n\tGetHandleVerifier [0x0060E366+556598]\n\tOrdinal0 [0x0051286B+2173035]\n\tOrdinal0 [0x005175F8+2192888]\n\tOrdinal0 [0x005176E5+2193125]\n\tOrdinal0 [0x005211FC+2232828]\n\tBaseThreadInitThunk [0x76106739+25]\n\tRtlGetFullPathName_UEx [0x778D8E7F+1215]\n\tRtlGetFullPathName_UEx [0x778D8E4D+1165]\n"
     ]
    }
   ],
   "source": [
    "location_icon = driver.find_element_by_css_selector(\".icon-geolocate\")\n",
    "time.sleep(10)\n",
    "location_icon.click()"
   ]
  },
  {
   "cell_type": "markdown",
   "id": "01f53740",
   "metadata": {},
   "source": [
    "QUESTION 4"
   ]
  },
  {
   "cell_type": "code",
   "execution_count": 93,
   "id": "b07750a7",
   "metadata": {},
   "outputs": [
    {
     "name": "stderr",
     "output_type": "stream",
     "text": [
      "<ipython-input-93-452eafebab4f>:2: DeprecationWarning: executable_path has been deprecated, please pass in a Service object\n",
      "  driver = webdriver.Chrome(PATH)\n"
     ]
    }
   ],
   "source": [
    "PATH = 'C:/Users/Shiva Labade/Desktop/chromedriver_win32/chromedriver.exe'\n",
    "driver = webdriver.Chrome(PATH)"
   ]
  },
  {
   "cell_type": "code",
   "execution_count": 94,
   "id": "8d39e35c",
   "metadata": {},
   "outputs": [],
   "source": [
    "driver.get(\"https://www.flipkart.com/\")"
   ]
  },
  {
   "cell_type": "code",
   "execution_count": 95,
   "id": "551154a3",
   "metadata": {},
   "outputs": [
    {
     "name": "stderr",
     "output_type": "stream",
     "text": [
      "<ipython-input-95-affbc8d4ecb0>:1: DeprecationWarning: find_element_by_* commands are deprecated. Please use find_element() instead\n",
      "  search_smartphone = driver.find_element_by_class_name('_3704LK')\n"
     ]
    },
    {
     "data": {
      "text/plain": [
       "<selenium.webdriver.remote.webelement.WebElement (session=\"f4207426e1115da75d39d5993651df8e\", element=\"50996ad8-ddfb-4751-b297-9ce1c9adaa90\")>"
      ]
     },
     "execution_count": 95,
     "metadata": {},
     "output_type": "execute_result"
    }
   ],
   "source": [
    "search_smartphone = driver.find_element_by_class_name('_3704LK')\n",
    "search_smartphone"
   ]
  },
  {
   "cell_type": "code",
   "execution_count": 98,
   "id": "b43e8646",
   "metadata": {},
   "outputs": [],
   "source": [
    "search_smartphone.send_keys('smartphones')"
   ]
  },
  {
   "cell_type": "code",
   "execution_count": 116,
   "id": "64b12519",
   "metadata": {},
   "outputs": [
    {
     "name": "stderr",
     "output_type": "stream",
     "text": [
      "<ipython-input-116-218c62e847fd>:1: DeprecationWarning: find_element_by_* commands are deprecated. Please use find_element() instead\n",
      "  search_btn = driver.find_element_by_class_name(\"_3704LK\")\n"
     ]
    },
    {
     "data": {
      "text/plain": [
       "<selenium.webdriver.remote.webelement.WebElement (session=\"f4207426e1115da75d39d5993651df8e\", element=\"50996ad8-ddfb-4751-b297-9ce1c9adaa90\")>"
      ]
     },
     "execution_count": 116,
     "metadata": {},
     "output_type": "execute_result"
    }
   ],
   "source": [
    "search_btn = driver.find_element_by_class_name(\"_3704LK\")\n",
    "search_btn"
   ]
  },
  {
   "cell_type": "code",
   "execution_count": 117,
   "id": "5ad5ec36",
   "metadata": {},
   "outputs": [],
   "source": [
    "search_btn.click()"
   ]
  },
  {
   "cell_type": "code",
   "execution_count": 119,
   "id": "d299e0a0",
   "metadata": {},
   "outputs": [
    {
     "name": "stderr",
     "output_type": "stream",
     "text": [
      "<ipython-input-119-ffe9b4faffc6>:1: DeprecationWarning: find_element_by_* commands are deprecated. Please use find_element() instead\n",
      "  brand = driver.find_element_by_class_name('_34uFYj')\n"
     ]
    },
    {
     "data": {
      "text/plain": [
       "<selenium.webdriver.remote.webelement.WebElement (session=\"f4207426e1115da75d39d5993651df8e\", element=\"c9c0c93f-5674-4095-8fe8-f88d785b1381\")>"
      ]
     },
     "execution_count": 119,
     "metadata": {},
     "output_type": "execute_result"
    }
   ],
   "source": [
    "brand = driver.find_element_by_class_name('_34uFYj')\n",
    "brand"
   ]
  },
  {
   "cell_type": "code",
   "execution_count": 120,
   "id": "6a366e54",
   "metadata": {},
   "outputs": [
    {
     "name": "stderr",
     "output_type": "stream",
     "text": [
      "<ipython-input-120-bf67d667804e>:1: DeprecationWarning: find_elements_by_* commands are deprecated. Please use find_elements() instead\n",
      "  page_brand=driver.find_elements_by_xpath('//input[@class=\"_34uFYj\"]')\n"
     ]
    },
    {
     "data": {
      "text/plain": [
       "[<selenium.webdriver.remote.webelement.WebElement (session=\"f4207426e1115da75d39d5993651df8e\", element=\"c9c0c93f-5674-4095-8fe8-f88d785b1381\")>]"
      ]
     },
     "execution_count": 120,
     "metadata": {},
     "output_type": "execute_result"
    }
   ],
   "source": [
    "page_brand=driver.find_elements_by_xpath('//input[@class=\"_34uFYj\"]')\n",
    "page_brand"
   ]
  },
  {
   "cell_type": "code",
   "execution_count": 121,
   "id": "90098220",
   "metadata": {},
   "outputs": [
    {
     "data": {
      "text/plain": [
       "['']"
      ]
     },
     "execution_count": 121,
     "metadata": {},
     "output_type": "execute_result"
    }
   ],
   "source": [
    "brand_name=[]\n",
    "for i in page_brand:\n",
    "    brand_name.append(i.text)\n",
    "    \n",
    "brand_name   "
   ]
  },
  {
   "cell_type": "code",
   "execution_count": 122,
   "id": "bae50342",
   "metadata": {},
   "outputs": [
    {
     "name": "stderr",
     "output_type": "stream",
     "text": [
      "<ipython-input-122-f5d7b8d5a3f6>:1: DeprecationWarning: find_elements_by_* commands are deprecated. Please use find_elements() instead\n",
      "  prdt_des=driver.find_elements_by_xpath('//div[@class=\"_4rR01T\"]')\n"
     ]
    },
    {
     "data": {
      "text/plain": [
       "[<selenium.webdriver.remote.webelement.WebElement (session=\"f4207426e1115da75d39d5993651df8e\", element=\"a9dec609-e7e3-417f-bf7d-e5425dde2bda\")>,\n",
       " <selenium.webdriver.remote.webelement.WebElement (session=\"f4207426e1115da75d39d5993651df8e\", element=\"576dc213-8816-437e-a905-5039340c679c\")>,\n",
       " <selenium.webdriver.remote.webelement.WebElement (session=\"f4207426e1115da75d39d5993651df8e\", element=\"adb5e0fb-5e9f-4213-8373-a003bb1b680b\")>,\n",
       " <selenium.webdriver.remote.webelement.WebElement (session=\"f4207426e1115da75d39d5993651df8e\", element=\"0931c720-abaf-44ad-badc-867cc81b345c\")>,\n",
       " <selenium.webdriver.remote.webelement.WebElement (session=\"f4207426e1115da75d39d5993651df8e\", element=\"fc203c2f-cf46-4718-9511-0f033c99faf0\")>,\n",
       " <selenium.webdriver.remote.webelement.WebElement (session=\"f4207426e1115da75d39d5993651df8e\", element=\"a030cde9-5cd7-4898-be87-34a72349a234\")>,\n",
       " <selenium.webdriver.remote.webelement.WebElement (session=\"f4207426e1115da75d39d5993651df8e\", element=\"d8709c39-4fb8-4653-b222-5221d64606e7\")>,\n",
       " <selenium.webdriver.remote.webelement.WebElement (session=\"f4207426e1115da75d39d5993651df8e\", element=\"be20c45e-70c1-4738-8eb4-8e1e99d82e65\")>,\n",
       " <selenium.webdriver.remote.webelement.WebElement (session=\"f4207426e1115da75d39d5993651df8e\", element=\"d45b24a9-744b-4cb2-b1cb-8183dfb2ff2b\")>,\n",
       " <selenium.webdriver.remote.webelement.WebElement (session=\"f4207426e1115da75d39d5993651df8e\", element=\"c273946a-ae57-4934-b789-28cc20c3a627\")>,\n",
       " <selenium.webdriver.remote.webelement.WebElement (session=\"f4207426e1115da75d39d5993651df8e\", element=\"67ef7f7c-3a2a-4356-8a5e-ec79e06f80e1\")>,\n",
       " <selenium.webdriver.remote.webelement.WebElement (session=\"f4207426e1115da75d39d5993651df8e\", element=\"b6775de8-dcef-4d54-8ad2-3b03b958d138\")>,\n",
       " <selenium.webdriver.remote.webelement.WebElement (session=\"f4207426e1115da75d39d5993651df8e\", element=\"3fe695f4-dda5-4675-ba12-eaa63dcafe05\")>,\n",
       " <selenium.webdriver.remote.webelement.WebElement (session=\"f4207426e1115da75d39d5993651df8e\", element=\"c58e4559-8a92-4426-a592-85d2da637579\")>,\n",
       " <selenium.webdriver.remote.webelement.WebElement (session=\"f4207426e1115da75d39d5993651df8e\", element=\"0ec67700-5b2e-4d79-ac80-f4e3177573aa\")>,\n",
       " <selenium.webdriver.remote.webelement.WebElement (session=\"f4207426e1115da75d39d5993651df8e\", element=\"1b112746-0134-4352-87be-ab799ca1c035\")>,\n",
       " <selenium.webdriver.remote.webelement.WebElement (session=\"f4207426e1115da75d39d5993651df8e\", element=\"963c0a64-3b96-44cd-82a7-4897c54c11c2\")>,\n",
       " <selenium.webdriver.remote.webelement.WebElement (session=\"f4207426e1115da75d39d5993651df8e\", element=\"8521529e-a97b-4072-9f0c-29fd00c5eaeb\")>,\n",
       " <selenium.webdriver.remote.webelement.WebElement (session=\"f4207426e1115da75d39d5993651df8e\", element=\"ef4bc133-b03b-4349-acbf-69cb2f88e165\")>,\n",
       " <selenium.webdriver.remote.webelement.WebElement (session=\"f4207426e1115da75d39d5993651df8e\", element=\"26cfd656-8b60-4dd1-a2bd-e8b71d5870ae\")>,\n",
       " <selenium.webdriver.remote.webelement.WebElement (session=\"f4207426e1115da75d39d5993651df8e\", element=\"7021602f-4bd6-4eb1-8e8d-09be19d11739\")>,\n",
       " <selenium.webdriver.remote.webelement.WebElement (session=\"f4207426e1115da75d39d5993651df8e\", element=\"8e89cb66-6357-4eeb-bc83-09a36922c831\")>,\n",
       " <selenium.webdriver.remote.webelement.WebElement (session=\"f4207426e1115da75d39d5993651df8e\", element=\"83d8df9f-1371-4d84-bb9e-5f777cca6793\")>,\n",
       " <selenium.webdriver.remote.webelement.WebElement (session=\"f4207426e1115da75d39d5993651df8e\", element=\"2d380527-ed75-44ad-8cef-bbd3de901ab6\")>]"
      ]
     },
     "execution_count": 122,
     "metadata": {},
     "output_type": "execute_result"
    }
   ],
   "source": [
    "prdt_des=driver.find_elements_by_xpath('//div[@class=\"_4rR01T\"]')\n",
    "prdt_des"
   ]
  },
  {
   "cell_type": "code",
   "execution_count": 123,
   "id": "99c676a9",
   "metadata": {},
   "outputs": [
    {
     "data": {
      "text/plain": [
       "24"
      ]
     },
     "execution_count": 123,
     "metadata": {},
     "output_type": "execute_result"
    }
   ],
   "source": [
    "len(prdt_des)"
   ]
  },
  {
   "cell_type": "code",
   "execution_count": 124,
   "id": "8c08cbbe",
   "metadata": {},
   "outputs": [
    {
     "data": {
      "text/plain": [
       "['POCO C31 (Royal Blue, 64 GB)',\n",
       " 'realme C35 (Glowing Green, 64 GB)',\n",
       " 'POCO C31 (Shadow Gray, 64 GB)',\n",
       " 'REDMI 10 (Caribbean Green, 128 GB)',\n",
       " 'POCO C31 (Royal Blue, 32 GB)',\n",
       " 'realme C20 (Cool Blue, 32 GB)',\n",
       " 'realme C20 (Cool Grey, 32 GB)',\n",
       " 'realme 9i (Prism Black, 64 GB)',\n",
       " 'realme 9i (Prism Blue, 64 GB)',\n",
       " 'realme 9i (Prism Black, 128 GB)',\n",
       " 'realme C35 (Glowing Black, 128 GB)',\n",
       " 'realme C25Y (Metal Grey, 64 GB)',\n",
       " 'POCO M3 Pro 5G (Power Black, 64 GB)',\n",
       " 'POCO M3 Pro 5G (Cool Blue, 128 GB)',\n",
       " 'POCO M3 Pro 5G (Yellow, 64 GB)',\n",
       " 'REDMI 9i Sport (Carbon Black, 64 GB)',\n",
       " 'POCO M3 Pro 5G (Cool Blue, 64 GB)',\n",
       " 'MOTOROLA G60 (Soft Silver, 128 GB)',\n",
       " 'realme 9i (Prism Black, 128 GB)',\n",
       " 'realme 9i (Prism Blue, 128 GB)',\n",
       " 'MOTOROLA G60 (Moonless, 128 GB)',\n",
       " 'SAMSUNG Galaxy F23 5G (Forest Green, 128 GB)',\n",
       " 'SAMSUNG Galaxy F23 5G (Aqua Blue, 128 GB)',\n",
       " 'MOTOROLA e40 (Carbon Gray, 64 GB)']"
      ]
     },
     "execution_count": 124,
     "metadata": {},
     "output_type": "execute_result"
    }
   ],
   "source": [
    "des_name=[]\n",
    "for i in prdt_des:\n",
    "    des_name.append(i.text)\n",
    "    \n",
    "des_name"
   ]
  },
  {
   "cell_type": "code",
   "execution_count": 125,
   "id": "9c7cbc03",
   "metadata": {},
   "outputs": [
    {
     "name": "stderr",
     "output_type": "stream",
     "text": [
      "<ipython-input-125-7dcf433776de>:1: DeprecationWarning: find_elements_by_* commands are deprecated. Please use find_elements() instead\n",
      "  price=driver.find_elements_by_xpath('//div[@class=\"_30jeq3 _1_WHN1\"]')\n"
     ]
    },
    {
     "data": {
      "text/plain": [
       "[<selenium.webdriver.remote.webelement.WebElement (session=\"f4207426e1115da75d39d5993651df8e\", element=\"a3e8f1ed-8231-40cf-9593-fd0ac6081314\")>,\n",
       " <selenium.webdriver.remote.webelement.WebElement (session=\"f4207426e1115da75d39d5993651df8e\", element=\"b5d718bf-f9af-4ad1-aa67-04b2644a7890\")>,\n",
       " <selenium.webdriver.remote.webelement.WebElement (session=\"f4207426e1115da75d39d5993651df8e\", element=\"aa653cbe-13b3-45df-81b0-8a7e3fdadd21\")>,\n",
       " <selenium.webdriver.remote.webelement.WebElement (session=\"f4207426e1115da75d39d5993651df8e\", element=\"50c71cf8-92a5-408b-9b6e-6904d7be8d2f\")>,\n",
       " <selenium.webdriver.remote.webelement.WebElement (session=\"f4207426e1115da75d39d5993651df8e\", element=\"25cd365e-da5b-4baa-88e2-717827e36485\")>,\n",
       " <selenium.webdriver.remote.webelement.WebElement (session=\"f4207426e1115da75d39d5993651df8e\", element=\"3de8c7fa-b8e0-4978-b1a9-395750f0604c\")>,\n",
       " <selenium.webdriver.remote.webelement.WebElement (session=\"f4207426e1115da75d39d5993651df8e\", element=\"36f21670-3972-4f8f-b668-1a8018811990\")>,\n",
       " <selenium.webdriver.remote.webelement.WebElement (session=\"f4207426e1115da75d39d5993651df8e\", element=\"2bd05e0e-95e0-4010-ae4a-0f7a4715377f\")>,\n",
       " <selenium.webdriver.remote.webelement.WebElement (session=\"f4207426e1115da75d39d5993651df8e\", element=\"6a9e1e45-16fa-4ea5-8ee4-e2c6156a05f5\")>,\n",
       " <selenium.webdriver.remote.webelement.WebElement (session=\"f4207426e1115da75d39d5993651df8e\", element=\"eb800b4b-4931-495d-89f1-6bfde68f7fca\")>,\n",
       " <selenium.webdriver.remote.webelement.WebElement (session=\"f4207426e1115da75d39d5993651df8e\", element=\"57206b35-c503-45d1-b870-c6d16a538603\")>,\n",
       " <selenium.webdriver.remote.webelement.WebElement (session=\"f4207426e1115da75d39d5993651df8e\", element=\"fdd4d3b8-57c8-4b34-a350-4a0e4bed0305\")>,\n",
       " <selenium.webdriver.remote.webelement.WebElement (session=\"f4207426e1115da75d39d5993651df8e\", element=\"8fddd85f-0f6f-437d-9e5b-94c71b52ac22\")>,\n",
       " <selenium.webdriver.remote.webelement.WebElement (session=\"f4207426e1115da75d39d5993651df8e\", element=\"5d7cb669-ce43-4c7e-af82-1ee894addd37\")>,\n",
       " <selenium.webdriver.remote.webelement.WebElement (session=\"f4207426e1115da75d39d5993651df8e\", element=\"a3742a52-3cc2-4391-b40e-da05fdfb34b5\")>,\n",
       " <selenium.webdriver.remote.webelement.WebElement (session=\"f4207426e1115da75d39d5993651df8e\", element=\"bb8c9078-b571-45c2-86f3-61b138b2c609\")>,\n",
       " <selenium.webdriver.remote.webelement.WebElement (session=\"f4207426e1115da75d39d5993651df8e\", element=\"b2e3766d-8eea-4584-a573-9c69ef57cf45\")>,\n",
       " <selenium.webdriver.remote.webelement.WebElement (session=\"f4207426e1115da75d39d5993651df8e\", element=\"ecd79bba-fcac-4883-b4cf-b3c4df6b8668\")>,\n",
       " <selenium.webdriver.remote.webelement.WebElement (session=\"f4207426e1115da75d39d5993651df8e\", element=\"1c2ffe7b-7d3d-42ca-88eb-bd14ae4998fe\")>,\n",
       " <selenium.webdriver.remote.webelement.WebElement (session=\"f4207426e1115da75d39d5993651df8e\", element=\"eeac09f4-4e54-49d2-b8bd-3589bc986e08\")>,\n",
       " <selenium.webdriver.remote.webelement.WebElement (session=\"f4207426e1115da75d39d5993651df8e\", element=\"1ebb074e-123e-46f6-aa13-3997fa96730f\")>,\n",
       " <selenium.webdriver.remote.webelement.WebElement (session=\"f4207426e1115da75d39d5993651df8e\", element=\"d3597a4d-7f1a-4e4f-8089-7e09d689e190\")>,\n",
       " <selenium.webdriver.remote.webelement.WebElement (session=\"f4207426e1115da75d39d5993651df8e\", element=\"2da37cfc-1c2c-44ba-a47a-18304bd020b0\")>,\n",
       " <selenium.webdriver.remote.webelement.WebElement (session=\"f4207426e1115da75d39d5993651df8e\", element=\"8255df35-c856-4246-ac11-e44d78aa256e\")>]"
      ]
     },
     "execution_count": 125,
     "metadata": {},
     "output_type": "execute_result"
    }
   ],
   "source": [
    "price=driver.find_elements_by_xpath('//div[@class=\"_30jeq3 _1_WHN1\"]')\n",
    "price"
   ]
  },
  {
   "cell_type": "code",
   "execution_count": 126,
   "id": "c2f8e848",
   "metadata": {},
   "outputs": [
    {
     "data": {
      "text/plain": [
       "['₹8,999',\n",
       " '₹11,999',\n",
       " '₹8,999',\n",
       " '₹12,999',\n",
       " '₹7,999',\n",
       " '₹7,499',\n",
       " '₹7,499',\n",
       " '₹12,999',\n",
       " '₹12,999',\n",
       " '₹14,999',\n",
       " '₹12,999',\n",
       " '₹10,999',\n",
       " '₹11,999',\n",
       " '₹13,999',\n",
       " '₹11,999',\n",
       " '₹8,799',\n",
       " '₹11,999',\n",
       " '₹16,999',\n",
       " '₹15,999',\n",
       " '₹15,999',\n",
       " '₹16,999',\n",
       " '₹16,999',\n",
       " '₹16,999',\n",
       " '₹9,999']"
      ]
     },
     "execution_count": 126,
     "metadata": {},
     "output_type": "execute_result"
    }
   ],
   "source": [
    "price_name=[]\n",
    "for i in price:\n",
    "    price_name.append(i.text)\n",
    "    \n",
    "price_name"
   ]
  },
  {
   "cell_type": "code",
   "execution_count": 127,
   "id": "e6b09de0",
   "metadata": {},
   "outputs": [
    {
     "name": "stderr",
     "output_type": "stream",
     "text": [
      "<ipython-input-127-9b267bae4949>:1: DeprecationWarning: find_elements_by_* commands are deprecated. Please use find_elements() instead\n",
      "  colour=driver.find_elements_by_xpath('//div[@class=\"_4rR01T\"]')\n"
     ]
    },
    {
     "data": {
      "text/plain": [
       "[<selenium.webdriver.remote.webelement.WebElement (session=\"f4207426e1115da75d39d5993651df8e\", element=\"a9dec609-e7e3-417f-bf7d-e5425dde2bda\")>,\n",
       " <selenium.webdriver.remote.webelement.WebElement (session=\"f4207426e1115da75d39d5993651df8e\", element=\"576dc213-8816-437e-a905-5039340c679c\")>,\n",
       " <selenium.webdriver.remote.webelement.WebElement (session=\"f4207426e1115da75d39d5993651df8e\", element=\"adb5e0fb-5e9f-4213-8373-a003bb1b680b\")>,\n",
       " <selenium.webdriver.remote.webelement.WebElement (session=\"f4207426e1115da75d39d5993651df8e\", element=\"0931c720-abaf-44ad-badc-867cc81b345c\")>,\n",
       " <selenium.webdriver.remote.webelement.WebElement (session=\"f4207426e1115da75d39d5993651df8e\", element=\"fc203c2f-cf46-4718-9511-0f033c99faf0\")>,\n",
       " <selenium.webdriver.remote.webelement.WebElement (session=\"f4207426e1115da75d39d5993651df8e\", element=\"a030cde9-5cd7-4898-be87-34a72349a234\")>,\n",
       " <selenium.webdriver.remote.webelement.WebElement (session=\"f4207426e1115da75d39d5993651df8e\", element=\"d8709c39-4fb8-4653-b222-5221d64606e7\")>,\n",
       " <selenium.webdriver.remote.webelement.WebElement (session=\"f4207426e1115da75d39d5993651df8e\", element=\"be20c45e-70c1-4738-8eb4-8e1e99d82e65\")>,\n",
       " <selenium.webdriver.remote.webelement.WebElement (session=\"f4207426e1115da75d39d5993651df8e\", element=\"d45b24a9-744b-4cb2-b1cb-8183dfb2ff2b\")>,\n",
       " <selenium.webdriver.remote.webelement.WebElement (session=\"f4207426e1115da75d39d5993651df8e\", element=\"c273946a-ae57-4934-b789-28cc20c3a627\")>,\n",
       " <selenium.webdriver.remote.webelement.WebElement (session=\"f4207426e1115da75d39d5993651df8e\", element=\"67ef7f7c-3a2a-4356-8a5e-ec79e06f80e1\")>,\n",
       " <selenium.webdriver.remote.webelement.WebElement (session=\"f4207426e1115da75d39d5993651df8e\", element=\"b6775de8-dcef-4d54-8ad2-3b03b958d138\")>,\n",
       " <selenium.webdriver.remote.webelement.WebElement (session=\"f4207426e1115da75d39d5993651df8e\", element=\"3fe695f4-dda5-4675-ba12-eaa63dcafe05\")>,\n",
       " <selenium.webdriver.remote.webelement.WebElement (session=\"f4207426e1115da75d39d5993651df8e\", element=\"c58e4559-8a92-4426-a592-85d2da637579\")>,\n",
       " <selenium.webdriver.remote.webelement.WebElement (session=\"f4207426e1115da75d39d5993651df8e\", element=\"0ec67700-5b2e-4d79-ac80-f4e3177573aa\")>,\n",
       " <selenium.webdriver.remote.webelement.WebElement (session=\"f4207426e1115da75d39d5993651df8e\", element=\"1b112746-0134-4352-87be-ab799ca1c035\")>,\n",
       " <selenium.webdriver.remote.webelement.WebElement (session=\"f4207426e1115da75d39d5993651df8e\", element=\"963c0a64-3b96-44cd-82a7-4897c54c11c2\")>,\n",
       " <selenium.webdriver.remote.webelement.WebElement (session=\"f4207426e1115da75d39d5993651df8e\", element=\"8521529e-a97b-4072-9f0c-29fd00c5eaeb\")>,\n",
       " <selenium.webdriver.remote.webelement.WebElement (session=\"f4207426e1115da75d39d5993651df8e\", element=\"ef4bc133-b03b-4349-acbf-69cb2f88e165\")>,\n",
       " <selenium.webdriver.remote.webelement.WebElement (session=\"f4207426e1115da75d39d5993651df8e\", element=\"26cfd656-8b60-4dd1-a2bd-e8b71d5870ae\")>,\n",
       " <selenium.webdriver.remote.webelement.WebElement (session=\"f4207426e1115da75d39d5993651df8e\", element=\"7021602f-4bd6-4eb1-8e8d-09be19d11739\")>,\n",
       " <selenium.webdriver.remote.webelement.WebElement (session=\"f4207426e1115da75d39d5993651df8e\", element=\"8e89cb66-6357-4eeb-bc83-09a36922c831\")>,\n",
       " <selenium.webdriver.remote.webelement.WebElement (session=\"f4207426e1115da75d39d5993651df8e\", element=\"83d8df9f-1371-4d84-bb9e-5f777cca6793\")>,\n",
       " <selenium.webdriver.remote.webelement.WebElement (session=\"f4207426e1115da75d39d5993651df8e\", element=\"2d380527-ed75-44ad-8cef-bbd3de901ab6\")>]"
      ]
     },
     "execution_count": 127,
     "metadata": {},
     "output_type": "execute_result"
    }
   ],
   "source": [
    "colour=driver.find_elements_by_xpath('//div[@class=\"_4rR01T\"]')\n",
    "colour"
   ]
  },
  {
   "cell_type": "code",
   "execution_count": 128,
   "id": "56c15673",
   "metadata": {},
   "outputs": [
    {
     "data": {
      "text/plain": [
       "['POCO C31 (Royal Blue, 64 GB)',\n",
       " 'realme C35 (Glowing Green, 64 GB)',\n",
       " 'POCO C31 (Shadow Gray, 64 GB)',\n",
       " 'REDMI 10 (Caribbean Green, 128 GB)',\n",
       " 'POCO C31 (Royal Blue, 32 GB)',\n",
       " 'realme C20 (Cool Blue, 32 GB)',\n",
       " 'realme C20 (Cool Grey, 32 GB)',\n",
       " 'realme 9i (Prism Black, 64 GB)',\n",
       " 'realme 9i (Prism Blue, 64 GB)',\n",
       " 'realme 9i (Prism Black, 128 GB)',\n",
       " 'realme C35 (Glowing Black, 128 GB)',\n",
       " 'realme C25Y (Metal Grey, 64 GB)',\n",
       " 'POCO M3 Pro 5G (Power Black, 64 GB)',\n",
       " 'POCO M3 Pro 5G (Cool Blue, 128 GB)',\n",
       " 'POCO M3 Pro 5G (Yellow, 64 GB)',\n",
       " 'REDMI 9i Sport (Carbon Black, 64 GB)',\n",
       " 'POCO M3 Pro 5G (Cool Blue, 64 GB)',\n",
       " 'MOTOROLA G60 (Soft Silver, 128 GB)',\n",
       " 'realme 9i (Prism Black, 128 GB)',\n",
       " 'realme 9i (Prism Blue, 128 GB)',\n",
       " 'MOTOROLA G60 (Moonless, 128 GB)',\n",
       " 'SAMSUNG Galaxy F23 5G (Forest Green, 128 GB)',\n",
       " 'SAMSUNG Galaxy F23 5G (Aqua Blue, 128 GB)',\n",
       " 'MOTOROLA e40 (Carbon Gray, 64 GB)']"
      ]
     },
     "execution_count": 128,
     "metadata": {},
     "output_type": "execute_result"
    }
   ],
   "source": [
    "colour_name=[]\n",
    "for i in colour:\n",
    "    colour_name.append(i.text)\n",
    "    \n",
    "colour_name"
   ]
  },
  {
   "cell_type": "code",
   "execution_count": 129,
   "id": "e3702a44",
   "metadata": {
    "scrolled": false
   },
   "outputs": [
    {
     "name": "stderr",
     "output_type": "stream",
     "text": [
      "<ipython-input-129-bd61e786702b>:1: DeprecationWarning: find_elements_by_* commands are deprecated. Please use find_elements() instead\n",
      "  ram=driver.find_elements_by_xpath('//li[@class=\"rgWa7D\"]')\n"
     ]
    },
    {
     "data": {
      "text/plain": [
       "[<selenium.webdriver.remote.webelement.WebElement (session=\"f4207426e1115da75d39d5993651df8e\", element=\"b9cea02d-a2aa-4e03-8942-943d62d5c4da\")>,\n",
       " <selenium.webdriver.remote.webelement.WebElement (session=\"f4207426e1115da75d39d5993651df8e\", element=\"7298895c-65dd-4ac4-a565-a904dd5fde46\")>,\n",
       " <selenium.webdriver.remote.webelement.WebElement (session=\"f4207426e1115da75d39d5993651df8e\", element=\"a75b8220-2c87-479c-afae-8e078ac1a9b5\")>,\n",
       " <selenium.webdriver.remote.webelement.WebElement (session=\"f4207426e1115da75d39d5993651df8e\", element=\"fd2312b6-69d2-4ccc-8d39-4e7a22ef1ca2\")>,\n",
       " <selenium.webdriver.remote.webelement.WebElement (session=\"f4207426e1115da75d39d5993651df8e\", element=\"b56a6e23-99c2-4e7b-8cfd-0adceccbe806\")>,\n",
       " <selenium.webdriver.remote.webelement.WebElement (session=\"f4207426e1115da75d39d5993651df8e\", element=\"28eff0b8-149c-4cee-a62e-c619dbae18b0\")>,\n",
       " <selenium.webdriver.remote.webelement.WebElement (session=\"f4207426e1115da75d39d5993651df8e\", element=\"55662546-aa38-4201-bffb-dc036e935421\")>,\n",
       " <selenium.webdriver.remote.webelement.WebElement (session=\"f4207426e1115da75d39d5993651df8e\", element=\"3a8a84b6-c69e-4d33-88db-3b0ac6c74da5\")>,\n",
       " <selenium.webdriver.remote.webelement.WebElement (session=\"f4207426e1115da75d39d5993651df8e\", element=\"57a9a77a-d601-41f2-ae47-3484d4fc865c\")>,\n",
       " <selenium.webdriver.remote.webelement.WebElement (session=\"f4207426e1115da75d39d5993651df8e\", element=\"6438d592-b259-4e44-a949-99d3ccc0ea69\")>,\n",
       " <selenium.webdriver.remote.webelement.WebElement (session=\"f4207426e1115da75d39d5993651df8e\", element=\"f93ba06a-7350-4b68-9d65-75b64ad2ac7d\")>,\n",
       " <selenium.webdriver.remote.webelement.WebElement (session=\"f4207426e1115da75d39d5993651df8e\", element=\"7f5fa7b6-8411-48ba-b5f9-dab3fdc427de\")>,\n",
       " <selenium.webdriver.remote.webelement.WebElement (session=\"f4207426e1115da75d39d5993651df8e\", element=\"86e3fd73-8198-4101-9223-aa7925f734d5\")>,\n",
       " <selenium.webdriver.remote.webelement.WebElement (session=\"f4207426e1115da75d39d5993651df8e\", element=\"e94a8f52-908b-4d0d-91d8-29d21def9468\")>,\n",
       " <selenium.webdriver.remote.webelement.WebElement (session=\"f4207426e1115da75d39d5993651df8e\", element=\"60fe5b91-b6cc-482a-8483-1c07439f85dd\")>,\n",
       " <selenium.webdriver.remote.webelement.WebElement (session=\"f4207426e1115da75d39d5993651df8e\", element=\"e99ae08c-ad78-44b0-aeac-cd43f04051de\")>,\n",
       " <selenium.webdriver.remote.webelement.WebElement (session=\"f4207426e1115da75d39d5993651df8e\", element=\"c908dc2a-371f-460b-97dd-abc4547df7c0\")>,\n",
       " <selenium.webdriver.remote.webelement.WebElement (session=\"f4207426e1115da75d39d5993651df8e\", element=\"32540e91-ee79-4eec-a7dd-eac65d9333dd\")>,\n",
       " <selenium.webdriver.remote.webelement.WebElement (session=\"f4207426e1115da75d39d5993651df8e\", element=\"3f575403-6e9e-4c14-b364-a8e736f866d8\")>,\n",
       " <selenium.webdriver.remote.webelement.WebElement (session=\"f4207426e1115da75d39d5993651df8e\", element=\"abfac7ac-d433-4a96-a57d-e97ef1907d62\")>,\n",
       " <selenium.webdriver.remote.webelement.WebElement (session=\"f4207426e1115da75d39d5993651df8e\", element=\"2a6edbaf-bc6f-4116-8208-2dd72042d112\")>,\n",
       " <selenium.webdriver.remote.webelement.WebElement (session=\"f4207426e1115da75d39d5993651df8e\", element=\"2d281fdf-0da6-483b-9ab8-110da4918281\")>,\n",
       " <selenium.webdriver.remote.webelement.WebElement (session=\"f4207426e1115da75d39d5993651df8e\", element=\"abad820d-6312-448a-8e56-fea6af69101f\")>,\n",
       " <selenium.webdriver.remote.webelement.WebElement (session=\"f4207426e1115da75d39d5993651df8e\", element=\"57bfce09-3410-4a1b-a70c-2dbde9affd79\")>,\n",
       " <selenium.webdriver.remote.webelement.WebElement (session=\"f4207426e1115da75d39d5993651df8e\", element=\"66df20c2-ffc3-4cae-93c8-47ea60c23d81\")>,\n",
       " <selenium.webdriver.remote.webelement.WebElement (session=\"f4207426e1115da75d39d5993651df8e\", element=\"644a36e7-1939-46ba-b777-2a5dc9901f22\")>,\n",
       " <selenium.webdriver.remote.webelement.WebElement (session=\"f4207426e1115da75d39d5993651df8e\", element=\"33da4cff-46e9-4c69-868f-7091b6896126\")>,\n",
       " <selenium.webdriver.remote.webelement.WebElement (session=\"f4207426e1115da75d39d5993651df8e\", element=\"76bd9da4-b2ff-44ec-9e56-8f05f14ffb55\")>,\n",
       " <selenium.webdriver.remote.webelement.WebElement (session=\"f4207426e1115da75d39d5993651df8e\", element=\"9be9f4f6-b9b0-48d0-a0e2-b87e73c7dc23\")>,\n",
       " <selenium.webdriver.remote.webelement.WebElement (session=\"f4207426e1115da75d39d5993651df8e\", element=\"2e3a9ab2-0703-4a85-ad79-5a6ed134d046\")>,\n",
       " <selenium.webdriver.remote.webelement.WebElement (session=\"f4207426e1115da75d39d5993651df8e\", element=\"ef32e916-d640-4da5-bec6-d96491bb0b61\")>,\n",
       " <selenium.webdriver.remote.webelement.WebElement (session=\"f4207426e1115da75d39d5993651df8e\", element=\"024f73a1-7ccd-496f-a77e-c36ad86deccb\")>,\n",
       " <selenium.webdriver.remote.webelement.WebElement (session=\"f4207426e1115da75d39d5993651df8e\", element=\"c3c03a10-fbb1-4a76-9d44-f4746b95e37a\")>,\n",
       " <selenium.webdriver.remote.webelement.WebElement (session=\"f4207426e1115da75d39d5993651df8e\", element=\"1f3ea324-52b2-4573-b88f-6dc2f5bcdd12\")>,\n",
       " <selenium.webdriver.remote.webelement.WebElement (session=\"f4207426e1115da75d39d5993651df8e\", element=\"2b1d19ea-27cf-47df-9e71-bb8bf1c9c1ee\")>,\n",
       " <selenium.webdriver.remote.webelement.WebElement (session=\"f4207426e1115da75d39d5993651df8e\", element=\"8c6e193c-5d6a-4395-8d04-aa8cb93c01a2\")>,\n",
       " <selenium.webdriver.remote.webelement.WebElement (session=\"f4207426e1115da75d39d5993651df8e\", element=\"e07e9c45-b534-4341-8acb-e2509021e3ce\")>,\n",
       " <selenium.webdriver.remote.webelement.WebElement (session=\"f4207426e1115da75d39d5993651df8e\", element=\"74aec31e-464d-46bd-be60-36c492179c97\")>,\n",
       " <selenium.webdriver.remote.webelement.WebElement (session=\"f4207426e1115da75d39d5993651df8e\", element=\"b5c327ac-207c-44d0-9743-84ef7e0eb09a\")>,\n",
       " <selenium.webdriver.remote.webelement.WebElement (session=\"f4207426e1115da75d39d5993651df8e\", element=\"cf937474-802d-4daf-a791-49a051d2eb65\")>,\n",
       " <selenium.webdriver.remote.webelement.WebElement (session=\"f4207426e1115da75d39d5993651df8e\", element=\"d4701b2f-78ae-4431-bdf1-7eb62c80af2f\")>,\n",
       " <selenium.webdriver.remote.webelement.WebElement (session=\"f4207426e1115da75d39d5993651df8e\", element=\"2da2ffa8-522b-4220-99e3-36ea27f151fb\")>,\n",
       " <selenium.webdriver.remote.webelement.WebElement (session=\"f4207426e1115da75d39d5993651df8e\", element=\"a7cd7e04-3d20-4b1b-a2ee-7f6eeace3a6e\")>,\n",
       " <selenium.webdriver.remote.webelement.WebElement (session=\"f4207426e1115da75d39d5993651df8e\", element=\"a63a1fc7-43db-49e5-80cd-423475b29924\")>,\n",
       " <selenium.webdriver.remote.webelement.WebElement (session=\"f4207426e1115da75d39d5993651df8e\", element=\"19657fb6-8640-4ab3-b481-57684abb6c6d\")>,\n",
       " <selenium.webdriver.remote.webelement.WebElement (session=\"f4207426e1115da75d39d5993651df8e\", element=\"8e9ac84a-877e-4af3-bd69-f105252c3aa4\")>,\n",
       " <selenium.webdriver.remote.webelement.WebElement (session=\"f4207426e1115da75d39d5993651df8e\", element=\"a2a0e6c9-b225-4918-ad97-bdfdf3fca988\")>,\n",
       " <selenium.webdriver.remote.webelement.WebElement (session=\"f4207426e1115da75d39d5993651df8e\", element=\"f64f835f-f6a7-4035-a52a-1660ad4c9d4d\")>,\n",
       " <selenium.webdriver.remote.webelement.WebElement (session=\"f4207426e1115da75d39d5993651df8e\", element=\"8d1a3fb7-58bb-4d29-9e3c-9961422e8381\")>,\n",
       " <selenium.webdriver.remote.webelement.WebElement (session=\"f4207426e1115da75d39d5993651df8e\", element=\"1813a61d-266c-4d33-871b-9edbfb18812e\")>,\n",
       " <selenium.webdriver.remote.webelement.WebElement (session=\"f4207426e1115da75d39d5993651df8e\", element=\"4e1c9511-a070-415b-b71b-e60e49d06863\")>,\n",
       " <selenium.webdriver.remote.webelement.WebElement (session=\"f4207426e1115da75d39d5993651df8e\", element=\"85783697-2373-419d-a448-949eb459f985\")>,\n",
       " <selenium.webdriver.remote.webelement.WebElement (session=\"f4207426e1115da75d39d5993651df8e\", element=\"3d4779d2-a2a7-4696-bc2a-5382b069ff05\")>,\n",
       " <selenium.webdriver.remote.webelement.WebElement (session=\"f4207426e1115da75d39d5993651df8e\", element=\"fe0ebb67-85ef-4817-b3e0-58897b7f91c5\")>,\n",
       " <selenium.webdriver.remote.webelement.WebElement (session=\"f4207426e1115da75d39d5993651df8e\", element=\"f6aa0b39-3214-4336-8415-28666cbec3af\")>,\n",
       " <selenium.webdriver.remote.webelement.WebElement (session=\"f4207426e1115da75d39d5993651df8e\", element=\"d2c17f18-df22-40d7-883e-b12ea28be8a5\")>,\n",
       " <selenium.webdriver.remote.webelement.WebElement (session=\"f4207426e1115da75d39d5993651df8e\", element=\"b8cce9f2-7d6b-467d-bc57-19bb27476af6\")>,\n",
       " <selenium.webdriver.remote.webelement.WebElement (session=\"f4207426e1115da75d39d5993651df8e\", element=\"69cecabe-8fdb-4eac-b9a8-17d81ebd8834\")>,\n",
       " <selenium.webdriver.remote.webelement.WebElement (session=\"f4207426e1115da75d39d5993651df8e\", element=\"53562773-7369-4a32-8afd-8bd80cedc262\")>,\n",
       " <selenium.webdriver.remote.webelement.WebElement (session=\"f4207426e1115da75d39d5993651df8e\", element=\"8e762139-3e43-4a86-ac02-259ba2dfff96\")>,\n",
       " <selenium.webdriver.remote.webelement.WebElement (session=\"f4207426e1115da75d39d5993651df8e\", element=\"ac6a5b06-9984-4546-9b6d-1ede8b024d48\")>,\n",
       " <selenium.webdriver.remote.webelement.WebElement (session=\"f4207426e1115da75d39d5993651df8e\", element=\"49cb0b94-04c4-48c8-9731-0aa078e81c16\")>,\n",
       " <selenium.webdriver.remote.webelement.WebElement (session=\"f4207426e1115da75d39d5993651df8e\", element=\"dbe79cf2-a9b4-41e6-9297-39d9a12e5973\")>,\n",
       " <selenium.webdriver.remote.webelement.WebElement (session=\"f4207426e1115da75d39d5993651df8e\", element=\"8a06b25f-f584-4f5e-b9df-94dc90234890\")>,\n",
       " <selenium.webdriver.remote.webelement.WebElement (session=\"f4207426e1115da75d39d5993651df8e\", element=\"6ab27834-f7a2-48fb-b2cf-04b408aeeeec\")>,\n",
       " <selenium.webdriver.remote.webelement.WebElement (session=\"f4207426e1115da75d39d5993651df8e\", element=\"1b3eaa93-762d-4776-b928-ef1e595a96b5\")>,\n",
       " <selenium.webdriver.remote.webelement.WebElement (session=\"f4207426e1115da75d39d5993651df8e\", element=\"2b02c569-30ca-4525-a3bf-96b9ab1d1b14\")>,\n",
       " <selenium.webdriver.remote.webelement.WebElement (session=\"f4207426e1115da75d39d5993651df8e\", element=\"d063bea9-e3c4-4395-8ab4-cd110e539ba1\")>,\n",
       " <selenium.webdriver.remote.webelement.WebElement (session=\"f4207426e1115da75d39d5993651df8e\", element=\"764addff-a85f-40e3-b77e-61c2a43479ad\")>,\n",
       " <selenium.webdriver.remote.webelement.WebElement (session=\"f4207426e1115da75d39d5993651df8e\", element=\"c5b05c65-eae3-4c28-aeec-6838e8ba38b7\")>,\n",
       " <selenium.webdriver.remote.webelement.WebElement (session=\"f4207426e1115da75d39d5993651df8e\", element=\"8643960b-7e0d-4338-a4d7-cb6923268814\")>,\n",
       " <selenium.webdriver.remote.webelement.WebElement (session=\"f4207426e1115da75d39d5993651df8e\", element=\"5ee38a34-b5d1-4ef3-aac9-d16432e48e0d\")>,\n",
       " <selenium.webdriver.remote.webelement.WebElement (session=\"f4207426e1115da75d39d5993651df8e\", element=\"c4c8c320-c2cc-4eeb-85b6-abe31a51355d\")>,\n",
       " <selenium.webdriver.remote.webelement.WebElement (session=\"f4207426e1115da75d39d5993651df8e\", element=\"9f553d3c-225e-43f0-90ac-e72fa8242af0\")>,\n",
       " <selenium.webdriver.remote.webelement.WebElement (session=\"f4207426e1115da75d39d5993651df8e\", element=\"2f0a8dd5-36cd-4ebf-9a3b-8f6bde1b9625\")>,\n",
       " <selenium.webdriver.remote.webelement.WebElement (session=\"f4207426e1115da75d39d5993651df8e\", element=\"889d4d57-9c15-4e3d-bc39-b7b344c735eb\")>,\n",
       " <selenium.webdriver.remote.webelement.WebElement (session=\"f4207426e1115da75d39d5993651df8e\", element=\"b62643e0-d5cb-4d07-97fa-7147c8054e72\")>,\n",
       " <selenium.webdriver.remote.webelement.WebElement (session=\"f4207426e1115da75d39d5993651df8e\", element=\"7b12a14d-1e14-4622-b6a2-700077a05d13\")>,\n",
       " <selenium.webdriver.remote.webelement.WebElement (session=\"f4207426e1115da75d39d5993651df8e\", element=\"8f6633e4-6cdd-444d-9255-de515fd418ac\")>,\n",
       " <selenium.webdriver.remote.webelement.WebElement (session=\"f4207426e1115da75d39d5993651df8e\", element=\"c35c1a83-5c42-48b7-b3a1-37c0a4281b36\")>,\n",
       " <selenium.webdriver.remote.webelement.WebElement (session=\"f4207426e1115da75d39d5993651df8e\", element=\"dbd07256-d7c0-42bb-a314-8c90aeb8abf7\")>,\n",
       " <selenium.webdriver.remote.webelement.WebElement (session=\"f4207426e1115da75d39d5993651df8e\", element=\"a67f27fe-5974-430c-83c7-53223a326fd1\")>,\n",
       " <selenium.webdriver.remote.webelement.WebElement (session=\"f4207426e1115da75d39d5993651df8e\", element=\"e9448872-60ec-4584-9a8c-f01726d42eeb\")>,\n",
       " <selenium.webdriver.remote.webelement.WebElement (session=\"f4207426e1115da75d39d5993651df8e\", element=\"d22510c8-73e9-413f-9d17-5240dd40699f\")>,\n",
       " <selenium.webdriver.remote.webelement.WebElement (session=\"f4207426e1115da75d39d5993651df8e\", element=\"57c0b481-9e70-43d4-adaf-d4c717d773d6\")>,\n",
       " <selenium.webdriver.remote.webelement.WebElement (session=\"f4207426e1115da75d39d5993651df8e\", element=\"ece73c76-0644-45ee-af3b-7071af5e0e52\")>,\n",
       " <selenium.webdriver.remote.webelement.WebElement (session=\"f4207426e1115da75d39d5993651df8e\", element=\"4b25f360-02a5-4f4a-9bba-b4d03d66243e\")>,\n",
       " <selenium.webdriver.remote.webelement.WebElement (session=\"f4207426e1115da75d39d5993651df8e\", element=\"c96bc9d5-b996-441a-a7be-c88894733758\")>,\n",
       " <selenium.webdriver.remote.webelement.WebElement (session=\"f4207426e1115da75d39d5993651df8e\", element=\"a79be1c5-82c0-422d-b989-395dcfeee5cc\")>,\n",
       " <selenium.webdriver.remote.webelement.WebElement (session=\"f4207426e1115da75d39d5993651df8e\", element=\"7b77f2af-e25f-4cf0-9dfe-a6cfeff28e25\")>,\n",
       " <selenium.webdriver.remote.webelement.WebElement (session=\"f4207426e1115da75d39d5993651df8e\", element=\"c9a64b80-7d80-4427-abfc-beb6df47f53f\")>,\n",
       " <selenium.webdriver.remote.webelement.WebElement (session=\"f4207426e1115da75d39d5993651df8e\", element=\"6f75ef25-6e55-4501-8de7-307c9be6e35d\")>,\n",
       " <selenium.webdriver.remote.webelement.WebElement (session=\"f4207426e1115da75d39d5993651df8e\", element=\"cd8fb7be-d7b7-42d7-9831-29e88e636d7c\")>,\n",
       " <selenium.webdriver.remote.webelement.WebElement (session=\"f4207426e1115da75d39d5993651df8e\", element=\"e4367d88-34ac-4ffa-9af0-47c643fb36d5\")>,\n",
       " <selenium.webdriver.remote.webelement.WebElement (session=\"f4207426e1115da75d39d5993651df8e\", element=\"e5d04a16-ec85-4f02-aca3-8cfa62a339ca\")>,\n",
       " <selenium.webdriver.remote.webelement.WebElement (session=\"f4207426e1115da75d39d5993651df8e\", element=\"a40b356c-8ab2-4daa-8608-81ff38b4006e\")>,\n",
       " <selenium.webdriver.remote.webelement.WebElement (session=\"f4207426e1115da75d39d5993651df8e\", element=\"842a5dd4-6968-4df4-ba35-4bc9d83511dd\")>,\n",
       " <selenium.webdriver.remote.webelement.WebElement (session=\"f4207426e1115da75d39d5993651df8e\", element=\"9fe44a6a-a05f-4ff8-88e4-6dd3aad0960a\")>,\n",
       " <selenium.webdriver.remote.webelement.WebElement (session=\"f4207426e1115da75d39d5993651df8e\", element=\"074a2723-93fb-4c17-954b-a01d7afa4f58\")>,\n",
       " <selenium.webdriver.remote.webelement.WebElement (session=\"f4207426e1115da75d39d5993651df8e\", element=\"75af7b49-12f8-43b3-b7b4-a83f5ed59739\")>,\n",
       " <selenium.webdriver.remote.webelement.WebElement (session=\"f4207426e1115da75d39d5993651df8e\", element=\"99d12687-253b-45c1-a2a2-c277d176e08d\")>,\n",
       " <selenium.webdriver.remote.webelement.WebElement (session=\"f4207426e1115da75d39d5993651df8e\", element=\"eb483fc7-03a8-4233-8ec9-89692862973d\")>,\n",
       " <selenium.webdriver.remote.webelement.WebElement (session=\"f4207426e1115da75d39d5993651df8e\", element=\"a5fc1bff-1eaa-43a9-a3d7-8550e0a04f52\")>,\n",
       " <selenium.webdriver.remote.webelement.WebElement (session=\"f4207426e1115da75d39d5993651df8e\", element=\"2dcfa09a-38cf-4050-ad99-9492305a8b13\")>,\n",
       " <selenium.webdriver.remote.webelement.WebElement (session=\"f4207426e1115da75d39d5993651df8e\", element=\"c0a13206-75ce-4a42-9fec-5866e4c710c2\")>,\n",
       " <selenium.webdriver.remote.webelement.WebElement (session=\"f4207426e1115da75d39d5993651df8e\", element=\"0d0a29cc-697b-42c7-a694-46b06cad1f6f\")>,\n",
       " <selenium.webdriver.remote.webelement.WebElement (session=\"f4207426e1115da75d39d5993651df8e\", element=\"c5b8f95c-356a-4d43-8e3c-a9d192e9fa08\")>,\n",
       " <selenium.webdriver.remote.webelement.WebElement (session=\"f4207426e1115da75d39d5993651df8e\", element=\"a0e1ffde-6515-4681-a45d-90f44c2eb50f\")>,\n",
       " <selenium.webdriver.remote.webelement.WebElement (session=\"f4207426e1115da75d39d5993651df8e\", element=\"992039c9-5369-4967-962f-a466181ead5c\")>,\n",
       " <selenium.webdriver.remote.webelement.WebElement (session=\"f4207426e1115da75d39d5993651df8e\", element=\"9a67e80a-2962-4e46-9b5c-b91ca98eca60\")>,\n",
       " <selenium.webdriver.remote.webelement.WebElement (session=\"f4207426e1115da75d39d5993651df8e\", element=\"4f5f2fb7-87dd-4911-8a36-ebc4bea1ffce\")>,\n",
       " <selenium.webdriver.remote.webelement.WebElement (session=\"f4207426e1115da75d39d5993651df8e\", element=\"320749d6-fdc6-42fc-8d7d-bac797fbba7a\")>,\n",
       " <selenium.webdriver.remote.webelement.WebElement (session=\"f4207426e1115da75d39d5993651df8e\", element=\"7a839d8f-c6db-4d9b-abd2-004c219aa6f8\")>,\n",
       " <selenium.webdriver.remote.webelement.WebElement (session=\"f4207426e1115da75d39d5993651df8e\", element=\"c8ae8740-e25e-417e-830e-3efc67806be5\")>,\n",
       " <selenium.webdriver.remote.webelement.WebElement (session=\"f4207426e1115da75d39d5993651df8e\", element=\"40475aab-25c7-4a7a-bf39-b993c237608e\")>,\n",
       " <selenium.webdriver.remote.webelement.WebElement (session=\"f4207426e1115da75d39d5993651df8e\", element=\"1b420b30-1f7a-4e40-828c-694e82980fc0\")>,\n",
       " <selenium.webdriver.remote.webelement.WebElement (session=\"f4207426e1115da75d39d5993651df8e\", element=\"ccef458f-66d0-46fa-91cd-e714edd44e65\")>,\n",
       " <selenium.webdriver.remote.webelement.WebElement (session=\"f4207426e1115da75d39d5993651df8e\", element=\"4e47c42c-07fc-4adc-9ce3-7dfef9b591f0\")>,\n",
       " <selenium.webdriver.remote.webelement.WebElement (session=\"f4207426e1115da75d39d5993651df8e\", element=\"0a970bb1-3dc0-46a9-b410-242c436f1e2c\")>,\n",
       " <selenium.webdriver.remote.webelement.WebElement (session=\"f4207426e1115da75d39d5993651df8e\", element=\"a91ab133-ab33-4c8c-9e2c-649ffe48a67b\")>,\n",
       " <selenium.webdriver.remote.webelement.WebElement (session=\"f4207426e1115da75d39d5993651df8e\", element=\"565a046b-6433-49dc-b226-8ecceecddc65\")>,\n",
       " <selenium.webdriver.remote.webelement.WebElement (session=\"f4207426e1115da75d39d5993651df8e\", element=\"48fa8f21-0bd6-4eff-aee0-73be4b9d032d\")>,\n",
       " <selenium.webdriver.remote.webelement.WebElement (session=\"f4207426e1115da75d39d5993651df8e\", element=\"790bf188-009d-4b3d-a3af-25a82f2bf42d\")>,\n",
       " <selenium.webdriver.remote.webelement.WebElement (session=\"f4207426e1115da75d39d5993651df8e\", element=\"5b4e8378-ca0b-4887-937f-ad2fdd9a9035\")>,\n",
       " <selenium.webdriver.remote.webelement.WebElement (session=\"f4207426e1115da75d39d5993651df8e\", element=\"2dbb747f-ddf4-4052-8cdd-c8eb90ab61a7\")>,\n",
       " <selenium.webdriver.remote.webelement.WebElement (session=\"f4207426e1115da75d39d5993651df8e\", element=\"d9bea7e0-b805-4eae-9056-49a8d43bc3d6\")>,\n",
       " <selenium.webdriver.remote.webelement.WebElement (session=\"f4207426e1115da75d39d5993651df8e\", element=\"a6d8d955-63eb-4029-9fe0-2271ea43f110\")>,\n",
       " <selenium.webdriver.remote.webelement.WebElement (session=\"f4207426e1115da75d39d5993651df8e\", element=\"2515bcba-bec4-4b45-b610-3802faa66694\")>,\n",
       " <selenium.webdriver.remote.webelement.WebElement (session=\"f4207426e1115da75d39d5993651df8e\", element=\"50361b76-6e73-4559-8425-da1dce470863\")>,\n",
       " <selenium.webdriver.remote.webelement.WebElement (session=\"f4207426e1115da75d39d5993651df8e\", element=\"fd79f16a-bc10-4cc4-80cb-0419685e9930\")>,\n",
       " <selenium.webdriver.remote.webelement.WebElement (session=\"f4207426e1115da75d39d5993651df8e\", element=\"b5937535-5dec-4075-8668-35cb9be6fd0f\")>,\n",
       " <selenium.webdriver.remote.webelement.WebElement (session=\"f4207426e1115da75d39d5993651df8e\", element=\"534b655f-ee00-41ab-a335-01b47889d6c4\")>,\n",
       " <selenium.webdriver.remote.webelement.WebElement (session=\"f4207426e1115da75d39d5993651df8e\", element=\"47ebd6c7-403b-4350-a2d9-8cd8531b5bcc\")>,\n",
       " <selenium.webdriver.remote.webelement.WebElement (session=\"f4207426e1115da75d39d5993651df8e\", element=\"e63557cc-4a00-45ae-a8fa-e2a90747478b\")>,\n",
       " <selenium.webdriver.remote.webelement.WebElement (session=\"f4207426e1115da75d39d5993651df8e\", element=\"38e3a935-ef84-409f-9f70-4900c82707d9\")>,\n",
       " <selenium.webdriver.remote.webelement.WebElement (session=\"f4207426e1115da75d39d5993651df8e\", element=\"8514a943-6964-44c2-99c9-eb441ce473da\")>,\n",
       " <selenium.webdriver.remote.webelement.WebElement (session=\"f4207426e1115da75d39d5993651df8e\", element=\"a3690534-4503-4ff9-8d3b-cc425a6bbe8b\")>,\n",
       " <selenium.webdriver.remote.webelement.WebElement (session=\"f4207426e1115da75d39d5993651df8e\", element=\"7e5eb73f-022b-478f-a79f-5830f620f41d\")>,\n",
       " <selenium.webdriver.remote.webelement.WebElement (session=\"f4207426e1115da75d39d5993651df8e\", element=\"8e286768-3961-418d-8cbf-074cd925abb8\")>,\n",
       " <selenium.webdriver.remote.webelement.WebElement (session=\"f4207426e1115da75d39d5993651df8e\", element=\"05223515-f80a-42c2-960b-543df551ed95\")>,\n",
       " <selenium.webdriver.remote.webelement.WebElement (session=\"f4207426e1115da75d39d5993651df8e\", element=\"c6a9cecf-a62b-4c50-bf02-f65554656b46\")>,\n",
       " <selenium.webdriver.remote.webelement.WebElement (session=\"f4207426e1115da75d39d5993651df8e\", element=\"002f9b43-a7dc-4e13-9273-9902372ffb1d\")>,\n",
       " <selenium.webdriver.remote.webelement.WebElement (session=\"f4207426e1115da75d39d5993651df8e\", element=\"d8da0a6f-79e7-4225-81bc-7d739ee33782\")>,\n",
       " <selenium.webdriver.remote.webelement.WebElement (session=\"f4207426e1115da75d39d5993651df8e\", element=\"2aaaadd5-8a90-461b-99e9-3852fd7eb704\")>,\n",
       " <selenium.webdriver.remote.webelement.WebElement (session=\"f4207426e1115da75d39d5993651df8e\", element=\"705b1ebb-f6cd-4dfc-a03b-c6126de54e69\")>,\n",
       " <selenium.webdriver.remote.webelement.WebElement (session=\"f4207426e1115da75d39d5993651df8e\", element=\"ba38efa6-8522-4524-8d42-23b475d9ae3e\")>,\n",
       " <selenium.webdriver.remote.webelement.WebElement (session=\"f4207426e1115da75d39d5993651df8e\", element=\"cb29f585-5164-48e3-95d1-5216e11eea75\")>,\n",
       " <selenium.webdriver.remote.webelement.WebElement (session=\"f4207426e1115da75d39d5993651df8e\", element=\"74dec6fe-a118-4636-a5be-429437df98a0\")>,\n",
       " <selenium.webdriver.remote.webelement.WebElement (session=\"f4207426e1115da75d39d5993651df8e\", element=\"fdc2884d-e4d4-4764-b23a-1e8a6478fc0a\")>,\n",
       " <selenium.webdriver.remote.webelement.WebElement (session=\"f4207426e1115da75d39d5993651df8e\", element=\"250f96d0-decb-4dcc-a596-b5666af0a947\")>,\n",
       " <selenium.webdriver.remote.webelement.WebElement (session=\"f4207426e1115da75d39d5993651df8e\", element=\"87b10897-bc41-451b-9aa0-d4ac41b7f87f\")>,\n",
       " <selenium.webdriver.remote.webelement.WebElement (session=\"f4207426e1115da75d39d5993651df8e\", element=\"672d5a6e-4c56-411c-b5c6-681b417e5961\")>]"
      ]
     },
     "execution_count": 129,
     "metadata": {},
     "output_type": "execute_result"
    }
   ],
   "source": [
    "ram=driver.find_elements_by_xpath('//li[@class=\"rgWa7D\"]')\n",
    "ram"
   ]
  },
  {
   "cell_type": "code",
   "execution_count": 130,
   "id": "2e1ac609",
   "metadata": {
    "scrolled": false
   },
   "outputs": [
    {
     "data": {
      "text/plain": [
       "['4 GB RAM | 64 GB ROM | Expandable Upto 512 GB',\n",
       " '16.59 cm (6.53 inch) HD+ Display',\n",
       " '13MP + 2MP + 2MP | 5MP Front Camera',\n",
       " '5000 mAh Lithium-ion Polymer Battery',\n",
       " 'MediaTek Helio G35 Processor',\n",
       " '1 Year Warranty for Handset, 6 Months for Accessories',\n",
       " '4 GB RAM | 64 GB ROM | Expandable Upto 1 TB',\n",
       " '16.76 cm (6.6 inch) Full HD+ Display',\n",
       " '50MP + 2MP + 0.3MP | 8MP Front Camera',\n",
       " '5000 mAh Lithium Polymer Battery',\n",
       " 'Unisoc Tiger T616 Processor',\n",
       " '1 Year Warranty for Phone and 6 Months Warranty for In-Box Accessories',\n",
       " '4 GB RAM | 64 GB ROM | Expandable Upto 512 GB',\n",
       " '16.59 cm (6.53 inch) HD+ Display',\n",
       " '13MP + 2MP + 2MP | 5MP Front Camera',\n",
       " '5000 mAh Lithium-ion Polymer Battery',\n",
       " 'MediaTek Helio G35 Processor',\n",
       " '1 Year Warranty for Handset, 6 Months for Accessories',\n",
       " '6 GB RAM | 128 GB ROM | Expandable Upto 1 TB',\n",
       " '17.02 cm (6.7 inch) HD+ Display',\n",
       " '50MP + 2MP | 5MP Front Camera',\n",
       " '6000 mAh Lithium Polymer Battery',\n",
       " 'Qualcomm Snapdragon 680 Processor',\n",
       " '1 Year Warranty for Phone and 6 Months Warranty for In-Box Accessories',\n",
       " '3 GB RAM | 32 GB ROM | Expandable Upto 512 GB',\n",
       " '16.59 cm (6.53 inch) HD+ Display',\n",
       " '13MP + 2MP + 2MP | 5MP Front Camera',\n",
       " '5000 mAh Lithium-ion Polymer Battery',\n",
       " 'MediaTek Helio G35 Processor',\n",
       " '1 Year Warranty for Handset, 6 Months for Accessories',\n",
       " '2 GB RAM | 32 GB ROM | Expandable Upto 256 GB',\n",
       " '16.51 cm (6.5 inch) HD+ Display',\n",
       " '8MP Rear Camera | 5MP Front Camera',\n",
       " '5000 mAh Battery',\n",
       " 'MediaTek Helio G35 Processor',\n",
       " '1 Year Warranty for Mobile and 6 Months for Accessories',\n",
       " '2 GB RAM | 32 GB ROM | Expandable Upto 256 GB',\n",
       " '16.51 cm (6.5 inch) HD+ Display',\n",
       " '8MP Rear Camera | 5MP Front Camera',\n",
       " '5000 mAh Battery',\n",
       " 'MediaTek Helio G35 Processor',\n",
       " '1 Year Warranty for Mobile and 6 Months for Accessories',\n",
       " '4 GB RAM | 64 GB ROM | Expandable Upto 1 TB',\n",
       " '16.76 cm (6.6 inch) Full HD+ Display',\n",
       " '50MP + 2MP + 2MP | 16MP Front Camera',\n",
       " '5000 mAh Lithium ion Battery',\n",
       " 'Qualcomm Snapdragon 680 (SM6225) Processor',\n",
       " '1 Year Manufacturer Warranty for Phone and 6 Months Warranty for in the Box Accessories',\n",
       " '4 GB RAM | 64 GB ROM | Expandable Upto 1 TB',\n",
       " '16.76 cm (6.6 inch) Full HD+ Display',\n",
       " '50MP + 2MP + 2MP | 16MP Front Camera',\n",
       " '5000 mAh Lithium ion Battery',\n",
       " 'Qualcomm Snapdragon 680 (SM6225) Processor',\n",
       " '1 Year Manufacturer Warranty for Phone and 6 Months Warranty for in the Box Accessories',\n",
       " '4 GB RAM | 128 GB ROM | Expandable Upto 1 TB',\n",
       " '16.76 cm (6.6 inch) Full HD+ Display',\n",
       " '50MP + 2MP + 2MP | 16MP Front Camera',\n",
       " '5000 mAh Lithium ion Battery',\n",
       " 'Qualcomm Snapdragon 680 (SM6225) Processor',\n",
       " '1 Year Manufacturer Warranty for Phone and 6 Months Warranty for in the Box Accessories',\n",
       " '4 GB RAM | 128 GB ROM | Expandable Upto 1 TB',\n",
       " '16.76 cm (6.6 inch) Full HD+ Display',\n",
       " '50MP + 2MP + 0.3MP | 8MP Front Camera',\n",
       " '5000 mAh Lithium Polymer Battery',\n",
       " 'Unisoc Tiger T616 Processor',\n",
       " '1 Year Warranty for Phone and 6 Months Warranty for In-Box Accessories',\n",
       " '4 GB RAM | 64 GB ROM | Expandable Upto 256 GB',\n",
       " '16.51 cm (6.5 inch) HD+ Display',\n",
       " '50MP + 2MP + 2MP | 8MP Front Camera',\n",
       " '5000 mAh Battery',\n",
       " 'Unisoc T610 Octa Core Processor',\n",
       " '1 Year Warranty for Mobile and 6 Months for Accessories',\n",
       " '4 GB RAM | 64 GB ROM | Expandable Upto 1 TB',\n",
       " '16.51 cm (6.5 inch) Full HD+ Display',\n",
       " '48MP + 2MP + 2MP | 8MP Front Camera',\n",
       " '5000 mAh Lithium-ion Polymer Battery',\n",
       " 'MediaTek Dimensity 700 Processor',\n",
       " 'Multiple Hands-free Voice Assistant',\n",
       " 'One Year Warranty for Handset, 6 Months for Accessories',\n",
       " '6 GB RAM | 128 GB ROM | Expandable Upto 1 TB',\n",
       " '16.51 cm (6.5 inch) Full HD+ Display',\n",
       " '48MP + 2MP + 2MP | 8MP Front Camera',\n",
       " '5000 mAh Lithium-ion Polymer Battery',\n",
       " 'MediaTek Dimensity 700 Processor',\n",
       " 'Multiple Hands-free Voice Assistant',\n",
       " 'One Year Warranty for Handset, 6 Months for Accessories',\n",
       " '4 GB RAM | 64 GB ROM | Expandable Upto 1 TB',\n",
       " '16.51 cm (6.5 inch) Full HD+ Display',\n",
       " '48MP + 2MP + 2MP | 8MP Front Camera',\n",
       " '5000 mAh Lithium-ion Polymer Battery',\n",
       " 'MediaTek Dimensity 700 Processor',\n",
       " 'Multiple Hands-free Voice Assistant',\n",
       " 'One Year Warranty for Handset, 6 Months for Accessories',\n",
       " '4 GB RAM | 64 GB ROM | Expandable Upto 512 GB',\n",
       " '16.59 cm (6.53 inch) HD+ Display',\n",
       " '13MP Rear Camera | 5MP Front Camera',\n",
       " '5000 mAh Li-Polymer Battery',\n",
       " 'MediaTek Helio G25 Processor',\n",
       " 'Brand Warranty of 1 Year Available for Mobile and 6 Months for Accessories',\n",
       " '4 GB RAM | 64 GB ROM | Expandable Upto 1 TB',\n",
       " '16.51 cm (6.5 inch) Full HD+ Display',\n",
       " '48MP + 2MP + 2MP | 8MP Front Camera',\n",
       " '5000 mAh Lithium-ion Polymer Battery',\n",
       " 'MediaTek Dimensity 700 Processor',\n",
       " 'Multiple Hands-free Voice Assistant',\n",
       " 'One Year Warranty for Handset, 6 Months for Accessories',\n",
       " '6 GB RAM | 128 GB ROM',\n",
       " '17.22 cm (6.78 inch) Full HD+ Display',\n",
       " '108MP + 8MP + 2MP | 32MP Front Camera',\n",
       " '6000 mAh Battery',\n",
       " 'Qualcomm Snapdragon 732G Processor',\n",
       " '120Hz Refresh Rate',\n",
       " 'Stock Android Experience',\n",
       " '1 Year on Handset and 6 Months on Accessories',\n",
       " '6 GB RAM | 128 GB ROM | Expandable Upto 1 TB',\n",
       " '16.76 cm (6.6 inch) Full HD+ Display',\n",
       " '50MP + 2MP + 2MP | 16MP Front Camera',\n",
       " '5000 mAh Lithium ion Battery',\n",
       " 'Qualcomm Snapdragon 680 (SM6225) Processor',\n",
       " '1 Year Manufacturer Warranty for Phone and 6 Months Warranty for in the Box Accessories',\n",
       " '6 GB RAM | 128 GB ROM | Expandable Upto 1 TB',\n",
       " '16.76 cm (6.6 inch) Full HD+ Display',\n",
       " '50MP + 2MP + 2MP | 16MP Front Camera',\n",
       " '5000 mAh Lithium ion Battery',\n",
       " 'Qualcomm Snapdragon 680 (SM6225) Processor',\n",
       " '1 Year Manufacturer Warranty for Phone and 6 Months Warranty for in the Box Accessories',\n",
       " '6 GB RAM | 128 GB ROM',\n",
       " '17.22 cm (6.78 inch) Full HD+ Display',\n",
       " '108MP + 8MP + 2MP | 32MP Front Camera',\n",
       " '6000 mAh Battery',\n",
       " 'Qualcomm Snapdragon 732G Processor',\n",
       " '120Hz Refresh Rate',\n",
       " 'Stock Android Experience',\n",
       " '1 Year on Handset and 6 Months on Accessories',\n",
       " '6 GB RAM | 128 GB ROM | Expandable Upto 1 TB',\n",
       " '16.76 cm (6.6 inch) Full HD+ Display',\n",
       " '50MP + 8MP + 2MP | 8MP Front Camera',\n",
       " '5000 mAh Lithium Ion Battery',\n",
       " 'Qualcomm Snapdragon 750G Processor',\n",
       " '1 Year Warranty Provided by the Manufacturer from Date of Purchase',\n",
       " '6 GB RAM | 128 GB ROM | Expandable Upto 1 TB',\n",
       " '16.76 cm (6.6 inch) Full HD+ Display',\n",
       " '50MP + 8MP + 2MP | 8MP Front Camera',\n",
       " '5000 mAh Lithium Ion Battery',\n",
       " 'Qualcomm Snapdragon 750G Processor',\n",
       " '1 Year Warranty Provided by the Manufacturer from Date of Purchase',\n",
       " '4 GB RAM | 64 GB ROM | Expandable Upto 1 TB',\n",
       " '16.51 cm (6.5 inch) HD+ Display',\n",
       " '48MP + 2MP + 2MP | 8MP Front Camera',\n",
       " '5000 mAh Battery',\n",
       " 'UNISOC T700 Processor',\n",
       " '1 Year on Handset and 6 Months on Accessories']"
      ]
     },
     "execution_count": 130,
     "metadata": {},
     "output_type": "execute_result"
    }
   ],
   "source": [
    "ram_name=[]\n",
    "for i in ram:\n",
    "    ram_name.append(i.text)\n",
    "    \n",
    "ram_name"
   ]
  },
  {
   "cell_type": "code",
   "execution_count": 131,
   "id": "4c671bcf",
   "metadata": {
    "scrolled": false
   },
   "outputs": [
    {
     "name": "stderr",
     "output_type": "stream",
     "text": [
      "<ipython-input-131-a3e2f2d39c28>:1: DeprecationWarning: find_elements_by_* commands are deprecated. Please use find_elements() instead\n",
      "  primary_camera=driver.find_elements_by_xpath('//li[@class=\"rgWa7D\"]')\n"
     ]
    },
    {
     "data": {
      "text/plain": [
       "[<selenium.webdriver.remote.webelement.WebElement (session=\"f4207426e1115da75d39d5993651df8e\", element=\"b9cea02d-a2aa-4e03-8942-943d62d5c4da\")>,\n",
       " <selenium.webdriver.remote.webelement.WebElement (session=\"f4207426e1115da75d39d5993651df8e\", element=\"7298895c-65dd-4ac4-a565-a904dd5fde46\")>,\n",
       " <selenium.webdriver.remote.webelement.WebElement (session=\"f4207426e1115da75d39d5993651df8e\", element=\"a75b8220-2c87-479c-afae-8e078ac1a9b5\")>,\n",
       " <selenium.webdriver.remote.webelement.WebElement (session=\"f4207426e1115da75d39d5993651df8e\", element=\"fd2312b6-69d2-4ccc-8d39-4e7a22ef1ca2\")>,\n",
       " <selenium.webdriver.remote.webelement.WebElement (session=\"f4207426e1115da75d39d5993651df8e\", element=\"b56a6e23-99c2-4e7b-8cfd-0adceccbe806\")>,\n",
       " <selenium.webdriver.remote.webelement.WebElement (session=\"f4207426e1115da75d39d5993651df8e\", element=\"28eff0b8-149c-4cee-a62e-c619dbae18b0\")>,\n",
       " <selenium.webdriver.remote.webelement.WebElement (session=\"f4207426e1115da75d39d5993651df8e\", element=\"55662546-aa38-4201-bffb-dc036e935421\")>,\n",
       " <selenium.webdriver.remote.webelement.WebElement (session=\"f4207426e1115da75d39d5993651df8e\", element=\"3a8a84b6-c69e-4d33-88db-3b0ac6c74da5\")>,\n",
       " <selenium.webdriver.remote.webelement.WebElement (session=\"f4207426e1115da75d39d5993651df8e\", element=\"57a9a77a-d601-41f2-ae47-3484d4fc865c\")>,\n",
       " <selenium.webdriver.remote.webelement.WebElement (session=\"f4207426e1115da75d39d5993651df8e\", element=\"6438d592-b259-4e44-a949-99d3ccc0ea69\")>,\n",
       " <selenium.webdriver.remote.webelement.WebElement (session=\"f4207426e1115da75d39d5993651df8e\", element=\"f93ba06a-7350-4b68-9d65-75b64ad2ac7d\")>,\n",
       " <selenium.webdriver.remote.webelement.WebElement (session=\"f4207426e1115da75d39d5993651df8e\", element=\"7f5fa7b6-8411-48ba-b5f9-dab3fdc427de\")>,\n",
       " <selenium.webdriver.remote.webelement.WebElement (session=\"f4207426e1115da75d39d5993651df8e\", element=\"86e3fd73-8198-4101-9223-aa7925f734d5\")>,\n",
       " <selenium.webdriver.remote.webelement.WebElement (session=\"f4207426e1115da75d39d5993651df8e\", element=\"e94a8f52-908b-4d0d-91d8-29d21def9468\")>,\n",
       " <selenium.webdriver.remote.webelement.WebElement (session=\"f4207426e1115da75d39d5993651df8e\", element=\"60fe5b91-b6cc-482a-8483-1c07439f85dd\")>,\n",
       " <selenium.webdriver.remote.webelement.WebElement (session=\"f4207426e1115da75d39d5993651df8e\", element=\"e99ae08c-ad78-44b0-aeac-cd43f04051de\")>,\n",
       " <selenium.webdriver.remote.webelement.WebElement (session=\"f4207426e1115da75d39d5993651df8e\", element=\"c908dc2a-371f-460b-97dd-abc4547df7c0\")>,\n",
       " <selenium.webdriver.remote.webelement.WebElement (session=\"f4207426e1115da75d39d5993651df8e\", element=\"32540e91-ee79-4eec-a7dd-eac65d9333dd\")>,\n",
       " <selenium.webdriver.remote.webelement.WebElement (session=\"f4207426e1115da75d39d5993651df8e\", element=\"3f575403-6e9e-4c14-b364-a8e736f866d8\")>,\n",
       " <selenium.webdriver.remote.webelement.WebElement (session=\"f4207426e1115da75d39d5993651df8e\", element=\"abfac7ac-d433-4a96-a57d-e97ef1907d62\")>,\n",
       " <selenium.webdriver.remote.webelement.WebElement (session=\"f4207426e1115da75d39d5993651df8e\", element=\"2a6edbaf-bc6f-4116-8208-2dd72042d112\")>,\n",
       " <selenium.webdriver.remote.webelement.WebElement (session=\"f4207426e1115da75d39d5993651df8e\", element=\"2d281fdf-0da6-483b-9ab8-110da4918281\")>,\n",
       " <selenium.webdriver.remote.webelement.WebElement (session=\"f4207426e1115da75d39d5993651df8e\", element=\"abad820d-6312-448a-8e56-fea6af69101f\")>,\n",
       " <selenium.webdriver.remote.webelement.WebElement (session=\"f4207426e1115da75d39d5993651df8e\", element=\"57bfce09-3410-4a1b-a70c-2dbde9affd79\")>,\n",
       " <selenium.webdriver.remote.webelement.WebElement (session=\"f4207426e1115da75d39d5993651df8e\", element=\"66df20c2-ffc3-4cae-93c8-47ea60c23d81\")>,\n",
       " <selenium.webdriver.remote.webelement.WebElement (session=\"f4207426e1115da75d39d5993651df8e\", element=\"644a36e7-1939-46ba-b777-2a5dc9901f22\")>,\n",
       " <selenium.webdriver.remote.webelement.WebElement (session=\"f4207426e1115da75d39d5993651df8e\", element=\"33da4cff-46e9-4c69-868f-7091b6896126\")>,\n",
       " <selenium.webdriver.remote.webelement.WebElement (session=\"f4207426e1115da75d39d5993651df8e\", element=\"76bd9da4-b2ff-44ec-9e56-8f05f14ffb55\")>,\n",
       " <selenium.webdriver.remote.webelement.WebElement (session=\"f4207426e1115da75d39d5993651df8e\", element=\"9be9f4f6-b9b0-48d0-a0e2-b87e73c7dc23\")>,\n",
       " <selenium.webdriver.remote.webelement.WebElement (session=\"f4207426e1115da75d39d5993651df8e\", element=\"2e3a9ab2-0703-4a85-ad79-5a6ed134d046\")>,\n",
       " <selenium.webdriver.remote.webelement.WebElement (session=\"f4207426e1115da75d39d5993651df8e\", element=\"ef32e916-d640-4da5-bec6-d96491bb0b61\")>,\n",
       " <selenium.webdriver.remote.webelement.WebElement (session=\"f4207426e1115da75d39d5993651df8e\", element=\"024f73a1-7ccd-496f-a77e-c36ad86deccb\")>,\n",
       " <selenium.webdriver.remote.webelement.WebElement (session=\"f4207426e1115da75d39d5993651df8e\", element=\"c3c03a10-fbb1-4a76-9d44-f4746b95e37a\")>,\n",
       " <selenium.webdriver.remote.webelement.WebElement (session=\"f4207426e1115da75d39d5993651df8e\", element=\"1f3ea324-52b2-4573-b88f-6dc2f5bcdd12\")>,\n",
       " <selenium.webdriver.remote.webelement.WebElement (session=\"f4207426e1115da75d39d5993651df8e\", element=\"2b1d19ea-27cf-47df-9e71-bb8bf1c9c1ee\")>,\n",
       " <selenium.webdriver.remote.webelement.WebElement (session=\"f4207426e1115da75d39d5993651df8e\", element=\"8c6e193c-5d6a-4395-8d04-aa8cb93c01a2\")>,\n",
       " <selenium.webdriver.remote.webelement.WebElement (session=\"f4207426e1115da75d39d5993651df8e\", element=\"e07e9c45-b534-4341-8acb-e2509021e3ce\")>,\n",
       " <selenium.webdriver.remote.webelement.WebElement (session=\"f4207426e1115da75d39d5993651df8e\", element=\"74aec31e-464d-46bd-be60-36c492179c97\")>,\n",
       " <selenium.webdriver.remote.webelement.WebElement (session=\"f4207426e1115da75d39d5993651df8e\", element=\"b5c327ac-207c-44d0-9743-84ef7e0eb09a\")>,\n",
       " <selenium.webdriver.remote.webelement.WebElement (session=\"f4207426e1115da75d39d5993651df8e\", element=\"cf937474-802d-4daf-a791-49a051d2eb65\")>,\n",
       " <selenium.webdriver.remote.webelement.WebElement (session=\"f4207426e1115da75d39d5993651df8e\", element=\"d4701b2f-78ae-4431-bdf1-7eb62c80af2f\")>,\n",
       " <selenium.webdriver.remote.webelement.WebElement (session=\"f4207426e1115da75d39d5993651df8e\", element=\"2da2ffa8-522b-4220-99e3-36ea27f151fb\")>,\n",
       " <selenium.webdriver.remote.webelement.WebElement (session=\"f4207426e1115da75d39d5993651df8e\", element=\"a7cd7e04-3d20-4b1b-a2ee-7f6eeace3a6e\")>,\n",
       " <selenium.webdriver.remote.webelement.WebElement (session=\"f4207426e1115da75d39d5993651df8e\", element=\"a63a1fc7-43db-49e5-80cd-423475b29924\")>,\n",
       " <selenium.webdriver.remote.webelement.WebElement (session=\"f4207426e1115da75d39d5993651df8e\", element=\"19657fb6-8640-4ab3-b481-57684abb6c6d\")>,\n",
       " <selenium.webdriver.remote.webelement.WebElement (session=\"f4207426e1115da75d39d5993651df8e\", element=\"8e9ac84a-877e-4af3-bd69-f105252c3aa4\")>,\n",
       " <selenium.webdriver.remote.webelement.WebElement (session=\"f4207426e1115da75d39d5993651df8e\", element=\"a2a0e6c9-b225-4918-ad97-bdfdf3fca988\")>,\n",
       " <selenium.webdriver.remote.webelement.WebElement (session=\"f4207426e1115da75d39d5993651df8e\", element=\"f64f835f-f6a7-4035-a52a-1660ad4c9d4d\")>,\n",
       " <selenium.webdriver.remote.webelement.WebElement (session=\"f4207426e1115da75d39d5993651df8e\", element=\"8d1a3fb7-58bb-4d29-9e3c-9961422e8381\")>,\n",
       " <selenium.webdriver.remote.webelement.WebElement (session=\"f4207426e1115da75d39d5993651df8e\", element=\"1813a61d-266c-4d33-871b-9edbfb18812e\")>,\n",
       " <selenium.webdriver.remote.webelement.WebElement (session=\"f4207426e1115da75d39d5993651df8e\", element=\"4e1c9511-a070-415b-b71b-e60e49d06863\")>,\n",
       " <selenium.webdriver.remote.webelement.WebElement (session=\"f4207426e1115da75d39d5993651df8e\", element=\"85783697-2373-419d-a448-949eb459f985\")>,\n",
       " <selenium.webdriver.remote.webelement.WebElement (session=\"f4207426e1115da75d39d5993651df8e\", element=\"3d4779d2-a2a7-4696-bc2a-5382b069ff05\")>,\n",
       " <selenium.webdriver.remote.webelement.WebElement (session=\"f4207426e1115da75d39d5993651df8e\", element=\"fe0ebb67-85ef-4817-b3e0-58897b7f91c5\")>,\n",
       " <selenium.webdriver.remote.webelement.WebElement (session=\"f4207426e1115da75d39d5993651df8e\", element=\"f6aa0b39-3214-4336-8415-28666cbec3af\")>,\n",
       " <selenium.webdriver.remote.webelement.WebElement (session=\"f4207426e1115da75d39d5993651df8e\", element=\"d2c17f18-df22-40d7-883e-b12ea28be8a5\")>,\n",
       " <selenium.webdriver.remote.webelement.WebElement (session=\"f4207426e1115da75d39d5993651df8e\", element=\"b8cce9f2-7d6b-467d-bc57-19bb27476af6\")>,\n",
       " <selenium.webdriver.remote.webelement.WebElement (session=\"f4207426e1115da75d39d5993651df8e\", element=\"69cecabe-8fdb-4eac-b9a8-17d81ebd8834\")>,\n",
       " <selenium.webdriver.remote.webelement.WebElement (session=\"f4207426e1115da75d39d5993651df8e\", element=\"53562773-7369-4a32-8afd-8bd80cedc262\")>,\n",
       " <selenium.webdriver.remote.webelement.WebElement (session=\"f4207426e1115da75d39d5993651df8e\", element=\"8e762139-3e43-4a86-ac02-259ba2dfff96\")>,\n",
       " <selenium.webdriver.remote.webelement.WebElement (session=\"f4207426e1115da75d39d5993651df8e\", element=\"ac6a5b06-9984-4546-9b6d-1ede8b024d48\")>,\n",
       " <selenium.webdriver.remote.webelement.WebElement (session=\"f4207426e1115da75d39d5993651df8e\", element=\"49cb0b94-04c4-48c8-9731-0aa078e81c16\")>,\n",
       " <selenium.webdriver.remote.webelement.WebElement (session=\"f4207426e1115da75d39d5993651df8e\", element=\"dbe79cf2-a9b4-41e6-9297-39d9a12e5973\")>,\n",
       " <selenium.webdriver.remote.webelement.WebElement (session=\"f4207426e1115da75d39d5993651df8e\", element=\"8a06b25f-f584-4f5e-b9df-94dc90234890\")>,\n",
       " <selenium.webdriver.remote.webelement.WebElement (session=\"f4207426e1115da75d39d5993651df8e\", element=\"6ab27834-f7a2-48fb-b2cf-04b408aeeeec\")>,\n",
       " <selenium.webdriver.remote.webelement.WebElement (session=\"f4207426e1115da75d39d5993651df8e\", element=\"1b3eaa93-762d-4776-b928-ef1e595a96b5\")>,\n",
       " <selenium.webdriver.remote.webelement.WebElement (session=\"f4207426e1115da75d39d5993651df8e\", element=\"2b02c569-30ca-4525-a3bf-96b9ab1d1b14\")>,\n",
       " <selenium.webdriver.remote.webelement.WebElement (session=\"f4207426e1115da75d39d5993651df8e\", element=\"d063bea9-e3c4-4395-8ab4-cd110e539ba1\")>,\n",
       " <selenium.webdriver.remote.webelement.WebElement (session=\"f4207426e1115da75d39d5993651df8e\", element=\"764addff-a85f-40e3-b77e-61c2a43479ad\")>,\n",
       " <selenium.webdriver.remote.webelement.WebElement (session=\"f4207426e1115da75d39d5993651df8e\", element=\"c5b05c65-eae3-4c28-aeec-6838e8ba38b7\")>,\n",
       " <selenium.webdriver.remote.webelement.WebElement (session=\"f4207426e1115da75d39d5993651df8e\", element=\"8643960b-7e0d-4338-a4d7-cb6923268814\")>,\n",
       " <selenium.webdriver.remote.webelement.WebElement (session=\"f4207426e1115da75d39d5993651df8e\", element=\"5ee38a34-b5d1-4ef3-aac9-d16432e48e0d\")>,\n",
       " <selenium.webdriver.remote.webelement.WebElement (session=\"f4207426e1115da75d39d5993651df8e\", element=\"c4c8c320-c2cc-4eeb-85b6-abe31a51355d\")>,\n",
       " <selenium.webdriver.remote.webelement.WebElement (session=\"f4207426e1115da75d39d5993651df8e\", element=\"9f553d3c-225e-43f0-90ac-e72fa8242af0\")>,\n",
       " <selenium.webdriver.remote.webelement.WebElement (session=\"f4207426e1115da75d39d5993651df8e\", element=\"2f0a8dd5-36cd-4ebf-9a3b-8f6bde1b9625\")>,\n",
       " <selenium.webdriver.remote.webelement.WebElement (session=\"f4207426e1115da75d39d5993651df8e\", element=\"889d4d57-9c15-4e3d-bc39-b7b344c735eb\")>,\n",
       " <selenium.webdriver.remote.webelement.WebElement (session=\"f4207426e1115da75d39d5993651df8e\", element=\"b62643e0-d5cb-4d07-97fa-7147c8054e72\")>,\n",
       " <selenium.webdriver.remote.webelement.WebElement (session=\"f4207426e1115da75d39d5993651df8e\", element=\"7b12a14d-1e14-4622-b6a2-700077a05d13\")>,\n",
       " <selenium.webdriver.remote.webelement.WebElement (session=\"f4207426e1115da75d39d5993651df8e\", element=\"8f6633e4-6cdd-444d-9255-de515fd418ac\")>,\n",
       " <selenium.webdriver.remote.webelement.WebElement (session=\"f4207426e1115da75d39d5993651df8e\", element=\"c35c1a83-5c42-48b7-b3a1-37c0a4281b36\")>,\n",
       " <selenium.webdriver.remote.webelement.WebElement (session=\"f4207426e1115da75d39d5993651df8e\", element=\"dbd07256-d7c0-42bb-a314-8c90aeb8abf7\")>,\n",
       " <selenium.webdriver.remote.webelement.WebElement (session=\"f4207426e1115da75d39d5993651df8e\", element=\"a67f27fe-5974-430c-83c7-53223a326fd1\")>,\n",
       " <selenium.webdriver.remote.webelement.WebElement (session=\"f4207426e1115da75d39d5993651df8e\", element=\"e9448872-60ec-4584-9a8c-f01726d42eeb\")>,\n",
       " <selenium.webdriver.remote.webelement.WebElement (session=\"f4207426e1115da75d39d5993651df8e\", element=\"d22510c8-73e9-413f-9d17-5240dd40699f\")>,\n",
       " <selenium.webdriver.remote.webelement.WebElement (session=\"f4207426e1115da75d39d5993651df8e\", element=\"57c0b481-9e70-43d4-adaf-d4c717d773d6\")>,\n",
       " <selenium.webdriver.remote.webelement.WebElement (session=\"f4207426e1115da75d39d5993651df8e\", element=\"ece73c76-0644-45ee-af3b-7071af5e0e52\")>,\n",
       " <selenium.webdriver.remote.webelement.WebElement (session=\"f4207426e1115da75d39d5993651df8e\", element=\"4b25f360-02a5-4f4a-9bba-b4d03d66243e\")>,\n",
       " <selenium.webdriver.remote.webelement.WebElement (session=\"f4207426e1115da75d39d5993651df8e\", element=\"c96bc9d5-b996-441a-a7be-c88894733758\")>,\n",
       " <selenium.webdriver.remote.webelement.WebElement (session=\"f4207426e1115da75d39d5993651df8e\", element=\"a79be1c5-82c0-422d-b989-395dcfeee5cc\")>,\n",
       " <selenium.webdriver.remote.webelement.WebElement (session=\"f4207426e1115da75d39d5993651df8e\", element=\"7b77f2af-e25f-4cf0-9dfe-a6cfeff28e25\")>,\n",
       " <selenium.webdriver.remote.webelement.WebElement (session=\"f4207426e1115da75d39d5993651df8e\", element=\"c9a64b80-7d80-4427-abfc-beb6df47f53f\")>,\n",
       " <selenium.webdriver.remote.webelement.WebElement (session=\"f4207426e1115da75d39d5993651df8e\", element=\"6f75ef25-6e55-4501-8de7-307c9be6e35d\")>,\n",
       " <selenium.webdriver.remote.webelement.WebElement (session=\"f4207426e1115da75d39d5993651df8e\", element=\"cd8fb7be-d7b7-42d7-9831-29e88e636d7c\")>,\n",
       " <selenium.webdriver.remote.webelement.WebElement (session=\"f4207426e1115da75d39d5993651df8e\", element=\"e4367d88-34ac-4ffa-9af0-47c643fb36d5\")>,\n",
       " <selenium.webdriver.remote.webelement.WebElement (session=\"f4207426e1115da75d39d5993651df8e\", element=\"e5d04a16-ec85-4f02-aca3-8cfa62a339ca\")>,\n",
       " <selenium.webdriver.remote.webelement.WebElement (session=\"f4207426e1115da75d39d5993651df8e\", element=\"a40b356c-8ab2-4daa-8608-81ff38b4006e\")>,\n",
       " <selenium.webdriver.remote.webelement.WebElement (session=\"f4207426e1115da75d39d5993651df8e\", element=\"842a5dd4-6968-4df4-ba35-4bc9d83511dd\")>,\n",
       " <selenium.webdriver.remote.webelement.WebElement (session=\"f4207426e1115da75d39d5993651df8e\", element=\"9fe44a6a-a05f-4ff8-88e4-6dd3aad0960a\")>,\n",
       " <selenium.webdriver.remote.webelement.WebElement (session=\"f4207426e1115da75d39d5993651df8e\", element=\"074a2723-93fb-4c17-954b-a01d7afa4f58\")>,\n",
       " <selenium.webdriver.remote.webelement.WebElement (session=\"f4207426e1115da75d39d5993651df8e\", element=\"75af7b49-12f8-43b3-b7b4-a83f5ed59739\")>,\n",
       " <selenium.webdriver.remote.webelement.WebElement (session=\"f4207426e1115da75d39d5993651df8e\", element=\"99d12687-253b-45c1-a2a2-c277d176e08d\")>,\n",
       " <selenium.webdriver.remote.webelement.WebElement (session=\"f4207426e1115da75d39d5993651df8e\", element=\"eb483fc7-03a8-4233-8ec9-89692862973d\")>,\n",
       " <selenium.webdriver.remote.webelement.WebElement (session=\"f4207426e1115da75d39d5993651df8e\", element=\"a5fc1bff-1eaa-43a9-a3d7-8550e0a04f52\")>,\n",
       " <selenium.webdriver.remote.webelement.WebElement (session=\"f4207426e1115da75d39d5993651df8e\", element=\"2dcfa09a-38cf-4050-ad99-9492305a8b13\")>,\n",
       " <selenium.webdriver.remote.webelement.WebElement (session=\"f4207426e1115da75d39d5993651df8e\", element=\"c0a13206-75ce-4a42-9fec-5866e4c710c2\")>,\n",
       " <selenium.webdriver.remote.webelement.WebElement (session=\"f4207426e1115da75d39d5993651df8e\", element=\"0d0a29cc-697b-42c7-a694-46b06cad1f6f\")>,\n",
       " <selenium.webdriver.remote.webelement.WebElement (session=\"f4207426e1115da75d39d5993651df8e\", element=\"c5b8f95c-356a-4d43-8e3c-a9d192e9fa08\")>,\n",
       " <selenium.webdriver.remote.webelement.WebElement (session=\"f4207426e1115da75d39d5993651df8e\", element=\"a0e1ffde-6515-4681-a45d-90f44c2eb50f\")>,\n",
       " <selenium.webdriver.remote.webelement.WebElement (session=\"f4207426e1115da75d39d5993651df8e\", element=\"992039c9-5369-4967-962f-a466181ead5c\")>,\n",
       " <selenium.webdriver.remote.webelement.WebElement (session=\"f4207426e1115da75d39d5993651df8e\", element=\"9a67e80a-2962-4e46-9b5c-b91ca98eca60\")>,\n",
       " <selenium.webdriver.remote.webelement.WebElement (session=\"f4207426e1115da75d39d5993651df8e\", element=\"4f5f2fb7-87dd-4911-8a36-ebc4bea1ffce\")>,\n",
       " <selenium.webdriver.remote.webelement.WebElement (session=\"f4207426e1115da75d39d5993651df8e\", element=\"320749d6-fdc6-42fc-8d7d-bac797fbba7a\")>,\n",
       " <selenium.webdriver.remote.webelement.WebElement (session=\"f4207426e1115da75d39d5993651df8e\", element=\"7a839d8f-c6db-4d9b-abd2-004c219aa6f8\")>,\n",
       " <selenium.webdriver.remote.webelement.WebElement (session=\"f4207426e1115da75d39d5993651df8e\", element=\"c8ae8740-e25e-417e-830e-3efc67806be5\")>,\n",
       " <selenium.webdriver.remote.webelement.WebElement (session=\"f4207426e1115da75d39d5993651df8e\", element=\"40475aab-25c7-4a7a-bf39-b993c237608e\")>,\n",
       " <selenium.webdriver.remote.webelement.WebElement (session=\"f4207426e1115da75d39d5993651df8e\", element=\"1b420b30-1f7a-4e40-828c-694e82980fc0\")>,\n",
       " <selenium.webdriver.remote.webelement.WebElement (session=\"f4207426e1115da75d39d5993651df8e\", element=\"ccef458f-66d0-46fa-91cd-e714edd44e65\")>,\n",
       " <selenium.webdriver.remote.webelement.WebElement (session=\"f4207426e1115da75d39d5993651df8e\", element=\"4e47c42c-07fc-4adc-9ce3-7dfef9b591f0\")>,\n",
       " <selenium.webdriver.remote.webelement.WebElement (session=\"f4207426e1115da75d39d5993651df8e\", element=\"0a970bb1-3dc0-46a9-b410-242c436f1e2c\")>,\n",
       " <selenium.webdriver.remote.webelement.WebElement (session=\"f4207426e1115da75d39d5993651df8e\", element=\"a91ab133-ab33-4c8c-9e2c-649ffe48a67b\")>,\n",
       " <selenium.webdriver.remote.webelement.WebElement (session=\"f4207426e1115da75d39d5993651df8e\", element=\"565a046b-6433-49dc-b226-8ecceecddc65\")>,\n",
       " <selenium.webdriver.remote.webelement.WebElement (session=\"f4207426e1115da75d39d5993651df8e\", element=\"48fa8f21-0bd6-4eff-aee0-73be4b9d032d\")>,\n",
       " <selenium.webdriver.remote.webelement.WebElement (session=\"f4207426e1115da75d39d5993651df8e\", element=\"790bf188-009d-4b3d-a3af-25a82f2bf42d\")>,\n",
       " <selenium.webdriver.remote.webelement.WebElement (session=\"f4207426e1115da75d39d5993651df8e\", element=\"5b4e8378-ca0b-4887-937f-ad2fdd9a9035\")>,\n",
       " <selenium.webdriver.remote.webelement.WebElement (session=\"f4207426e1115da75d39d5993651df8e\", element=\"2dbb747f-ddf4-4052-8cdd-c8eb90ab61a7\")>,\n",
       " <selenium.webdriver.remote.webelement.WebElement (session=\"f4207426e1115da75d39d5993651df8e\", element=\"d9bea7e0-b805-4eae-9056-49a8d43bc3d6\")>,\n",
       " <selenium.webdriver.remote.webelement.WebElement (session=\"f4207426e1115da75d39d5993651df8e\", element=\"a6d8d955-63eb-4029-9fe0-2271ea43f110\")>,\n",
       " <selenium.webdriver.remote.webelement.WebElement (session=\"f4207426e1115da75d39d5993651df8e\", element=\"2515bcba-bec4-4b45-b610-3802faa66694\")>,\n",
       " <selenium.webdriver.remote.webelement.WebElement (session=\"f4207426e1115da75d39d5993651df8e\", element=\"50361b76-6e73-4559-8425-da1dce470863\")>,\n",
       " <selenium.webdriver.remote.webelement.WebElement (session=\"f4207426e1115da75d39d5993651df8e\", element=\"fd79f16a-bc10-4cc4-80cb-0419685e9930\")>,\n",
       " <selenium.webdriver.remote.webelement.WebElement (session=\"f4207426e1115da75d39d5993651df8e\", element=\"b5937535-5dec-4075-8668-35cb9be6fd0f\")>,\n",
       " <selenium.webdriver.remote.webelement.WebElement (session=\"f4207426e1115da75d39d5993651df8e\", element=\"534b655f-ee00-41ab-a335-01b47889d6c4\")>,\n",
       " <selenium.webdriver.remote.webelement.WebElement (session=\"f4207426e1115da75d39d5993651df8e\", element=\"47ebd6c7-403b-4350-a2d9-8cd8531b5bcc\")>,\n",
       " <selenium.webdriver.remote.webelement.WebElement (session=\"f4207426e1115da75d39d5993651df8e\", element=\"e63557cc-4a00-45ae-a8fa-e2a90747478b\")>,\n",
       " <selenium.webdriver.remote.webelement.WebElement (session=\"f4207426e1115da75d39d5993651df8e\", element=\"38e3a935-ef84-409f-9f70-4900c82707d9\")>,\n",
       " <selenium.webdriver.remote.webelement.WebElement (session=\"f4207426e1115da75d39d5993651df8e\", element=\"8514a943-6964-44c2-99c9-eb441ce473da\")>,\n",
       " <selenium.webdriver.remote.webelement.WebElement (session=\"f4207426e1115da75d39d5993651df8e\", element=\"a3690534-4503-4ff9-8d3b-cc425a6bbe8b\")>,\n",
       " <selenium.webdriver.remote.webelement.WebElement (session=\"f4207426e1115da75d39d5993651df8e\", element=\"7e5eb73f-022b-478f-a79f-5830f620f41d\")>,\n",
       " <selenium.webdriver.remote.webelement.WebElement (session=\"f4207426e1115da75d39d5993651df8e\", element=\"8e286768-3961-418d-8cbf-074cd925abb8\")>,\n",
       " <selenium.webdriver.remote.webelement.WebElement (session=\"f4207426e1115da75d39d5993651df8e\", element=\"05223515-f80a-42c2-960b-543df551ed95\")>,\n",
       " <selenium.webdriver.remote.webelement.WebElement (session=\"f4207426e1115da75d39d5993651df8e\", element=\"c6a9cecf-a62b-4c50-bf02-f65554656b46\")>,\n",
       " <selenium.webdriver.remote.webelement.WebElement (session=\"f4207426e1115da75d39d5993651df8e\", element=\"002f9b43-a7dc-4e13-9273-9902372ffb1d\")>,\n",
       " <selenium.webdriver.remote.webelement.WebElement (session=\"f4207426e1115da75d39d5993651df8e\", element=\"d8da0a6f-79e7-4225-81bc-7d739ee33782\")>,\n",
       " <selenium.webdriver.remote.webelement.WebElement (session=\"f4207426e1115da75d39d5993651df8e\", element=\"2aaaadd5-8a90-461b-99e9-3852fd7eb704\")>,\n",
       " <selenium.webdriver.remote.webelement.WebElement (session=\"f4207426e1115da75d39d5993651df8e\", element=\"705b1ebb-f6cd-4dfc-a03b-c6126de54e69\")>,\n",
       " <selenium.webdriver.remote.webelement.WebElement (session=\"f4207426e1115da75d39d5993651df8e\", element=\"ba38efa6-8522-4524-8d42-23b475d9ae3e\")>,\n",
       " <selenium.webdriver.remote.webelement.WebElement (session=\"f4207426e1115da75d39d5993651df8e\", element=\"cb29f585-5164-48e3-95d1-5216e11eea75\")>,\n",
       " <selenium.webdriver.remote.webelement.WebElement (session=\"f4207426e1115da75d39d5993651df8e\", element=\"74dec6fe-a118-4636-a5be-429437df98a0\")>,\n",
       " <selenium.webdriver.remote.webelement.WebElement (session=\"f4207426e1115da75d39d5993651df8e\", element=\"fdc2884d-e4d4-4764-b23a-1e8a6478fc0a\")>,\n",
       " <selenium.webdriver.remote.webelement.WebElement (session=\"f4207426e1115da75d39d5993651df8e\", element=\"250f96d0-decb-4dcc-a596-b5666af0a947\")>,\n",
       " <selenium.webdriver.remote.webelement.WebElement (session=\"f4207426e1115da75d39d5993651df8e\", element=\"87b10897-bc41-451b-9aa0-d4ac41b7f87f\")>,\n",
       " <selenium.webdriver.remote.webelement.WebElement (session=\"f4207426e1115da75d39d5993651df8e\", element=\"672d5a6e-4c56-411c-b5c6-681b417e5961\")>]"
      ]
     },
     "execution_count": 131,
     "metadata": {},
     "output_type": "execute_result"
    }
   ],
   "source": [
    "primary_camera=driver.find_elements_by_xpath('//li[@class=\"rgWa7D\"]')\n",
    "primary_camera"
   ]
  },
  {
   "cell_type": "code",
   "execution_count": 132,
   "id": "29d8dfe7",
   "metadata": {
    "scrolled": false
   },
   "outputs": [
    {
     "data": {
      "text/plain": [
       "['4 GB RAM | 64 GB ROM | Expandable Upto 512 GB',\n",
       " '16.59 cm (6.53 inch) HD+ Display',\n",
       " '13MP + 2MP + 2MP | 5MP Front Camera',\n",
       " '5000 mAh Lithium-ion Polymer Battery',\n",
       " 'MediaTek Helio G35 Processor',\n",
       " '1 Year Warranty for Handset, 6 Months for Accessories',\n",
       " '4 GB RAM | 64 GB ROM | Expandable Upto 1 TB',\n",
       " '16.76 cm (6.6 inch) Full HD+ Display',\n",
       " '50MP + 2MP + 0.3MP | 8MP Front Camera',\n",
       " '5000 mAh Lithium Polymer Battery',\n",
       " 'Unisoc Tiger T616 Processor',\n",
       " '1 Year Warranty for Phone and 6 Months Warranty for In-Box Accessories',\n",
       " '4 GB RAM | 64 GB ROM | Expandable Upto 512 GB',\n",
       " '16.59 cm (6.53 inch) HD+ Display',\n",
       " '13MP + 2MP + 2MP | 5MP Front Camera',\n",
       " '5000 mAh Lithium-ion Polymer Battery',\n",
       " 'MediaTek Helio G35 Processor',\n",
       " '1 Year Warranty for Handset, 6 Months for Accessories',\n",
       " '6 GB RAM | 128 GB ROM | Expandable Upto 1 TB',\n",
       " '17.02 cm (6.7 inch) HD+ Display',\n",
       " '50MP + 2MP | 5MP Front Camera',\n",
       " '6000 mAh Lithium Polymer Battery',\n",
       " 'Qualcomm Snapdragon 680 Processor',\n",
       " '1 Year Warranty for Phone and 6 Months Warranty for In-Box Accessories',\n",
       " '3 GB RAM | 32 GB ROM | Expandable Upto 512 GB',\n",
       " '16.59 cm (6.53 inch) HD+ Display',\n",
       " '13MP + 2MP + 2MP | 5MP Front Camera',\n",
       " '5000 mAh Lithium-ion Polymer Battery',\n",
       " 'MediaTek Helio G35 Processor',\n",
       " '1 Year Warranty for Handset, 6 Months for Accessories',\n",
       " '2 GB RAM | 32 GB ROM | Expandable Upto 256 GB',\n",
       " '16.51 cm (6.5 inch) HD+ Display',\n",
       " '8MP Rear Camera | 5MP Front Camera',\n",
       " '5000 mAh Battery',\n",
       " 'MediaTek Helio G35 Processor',\n",
       " '1 Year Warranty for Mobile and 6 Months for Accessories',\n",
       " '2 GB RAM | 32 GB ROM | Expandable Upto 256 GB',\n",
       " '16.51 cm (6.5 inch) HD+ Display',\n",
       " '8MP Rear Camera | 5MP Front Camera',\n",
       " '5000 mAh Battery',\n",
       " 'MediaTek Helio G35 Processor',\n",
       " '1 Year Warranty for Mobile and 6 Months for Accessories',\n",
       " '4 GB RAM | 64 GB ROM | Expandable Upto 1 TB',\n",
       " '16.76 cm (6.6 inch) Full HD+ Display',\n",
       " '50MP + 2MP + 2MP | 16MP Front Camera',\n",
       " '5000 mAh Lithium ion Battery',\n",
       " 'Qualcomm Snapdragon 680 (SM6225) Processor',\n",
       " '1 Year Manufacturer Warranty for Phone and 6 Months Warranty for in the Box Accessories',\n",
       " '4 GB RAM | 64 GB ROM | Expandable Upto 1 TB',\n",
       " '16.76 cm (6.6 inch) Full HD+ Display',\n",
       " '50MP + 2MP + 2MP | 16MP Front Camera',\n",
       " '5000 mAh Lithium ion Battery',\n",
       " 'Qualcomm Snapdragon 680 (SM6225) Processor',\n",
       " '1 Year Manufacturer Warranty for Phone and 6 Months Warranty for in the Box Accessories',\n",
       " '4 GB RAM | 128 GB ROM | Expandable Upto 1 TB',\n",
       " '16.76 cm (6.6 inch) Full HD+ Display',\n",
       " '50MP + 2MP + 2MP | 16MP Front Camera',\n",
       " '5000 mAh Lithium ion Battery',\n",
       " 'Qualcomm Snapdragon 680 (SM6225) Processor',\n",
       " '1 Year Manufacturer Warranty for Phone and 6 Months Warranty for in the Box Accessories',\n",
       " '4 GB RAM | 128 GB ROM | Expandable Upto 1 TB',\n",
       " '16.76 cm (6.6 inch) Full HD+ Display',\n",
       " '50MP + 2MP + 0.3MP | 8MP Front Camera',\n",
       " '5000 mAh Lithium Polymer Battery',\n",
       " 'Unisoc Tiger T616 Processor',\n",
       " '1 Year Warranty for Phone and 6 Months Warranty for In-Box Accessories',\n",
       " '4 GB RAM | 64 GB ROM | Expandable Upto 256 GB',\n",
       " '16.51 cm (6.5 inch) HD+ Display',\n",
       " '50MP + 2MP + 2MP | 8MP Front Camera',\n",
       " '5000 mAh Battery',\n",
       " 'Unisoc T610 Octa Core Processor',\n",
       " '1 Year Warranty for Mobile and 6 Months for Accessories',\n",
       " '4 GB RAM | 64 GB ROM | Expandable Upto 1 TB',\n",
       " '16.51 cm (6.5 inch) Full HD+ Display',\n",
       " '48MP + 2MP + 2MP | 8MP Front Camera',\n",
       " '5000 mAh Lithium-ion Polymer Battery',\n",
       " 'MediaTek Dimensity 700 Processor',\n",
       " 'Multiple Hands-free Voice Assistant',\n",
       " 'One Year Warranty for Handset, 6 Months for Accessories',\n",
       " '6 GB RAM | 128 GB ROM | Expandable Upto 1 TB',\n",
       " '16.51 cm (6.5 inch) Full HD+ Display',\n",
       " '48MP + 2MP + 2MP | 8MP Front Camera',\n",
       " '5000 mAh Lithium-ion Polymer Battery',\n",
       " 'MediaTek Dimensity 700 Processor',\n",
       " 'Multiple Hands-free Voice Assistant',\n",
       " 'One Year Warranty for Handset, 6 Months for Accessories',\n",
       " '4 GB RAM | 64 GB ROM | Expandable Upto 1 TB',\n",
       " '16.51 cm (6.5 inch) Full HD+ Display',\n",
       " '48MP + 2MP + 2MP | 8MP Front Camera',\n",
       " '5000 mAh Lithium-ion Polymer Battery',\n",
       " 'MediaTek Dimensity 700 Processor',\n",
       " 'Multiple Hands-free Voice Assistant',\n",
       " 'One Year Warranty for Handset, 6 Months for Accessories',\n",
       " '4 GB RAM | 64 GB ROM | Expandable Upto 512 GB',\n",
       " '16.59 cm (6.53 inch) HD+ Display',\n",
       " '13MP Rear Camera | 5MP Front Camera',\n",
       " '5000 mAh Li-Polymer Battery',\n",
       " 'MediaTek Helio G25 Processor',\n",
       " 'Brand Warranty of 1 Year Available for Mobile and 6 Months for Accessories',\n",
       " '4 GB RAM | 64 GB ROM | Expandable Upto 1 TB',\n",
       " '16.51 cm (6.5 inch) Full HD+ Display',\n",
       " '48MP + 2MP + 2MP | 8MP Front Camera',\n",
       " '5000 mAh Lithium-ion Polymer Battery',\n",
       " 'MediaTek Dimensity 700 Processor',\n",
       " 'Multiple Hands-free Voice Assistant',\n",
       " 'One Year Warranty for Handset, 6 Months for Accessories',\n",
       " '6 GB RAM | 128 GB ROM',\n",
       " '17.22 cm (6.78 inch) Full HD+ Display',\n",
       " '108MP + 8MP + 2MP | 32MP Front Camera',\n",
       " '6000 mAh Battery',\n",
       " 'Qualcomm Snapdragon 732G Processor',\n",
       " '120Hz Refresh Rate',\n",
       " 'Stock Android Experience',\n",
       " '1 Year on Handset and 6 Months on Accessories',\n",
       " '6 GB RAM | 128 GB ROM | Expandable Upto 1 TB',\n",
       " '16.76 cm (6.6 inch) Full HD+ Display',\n",
       " '50MP + 2MP + 2MP | 16MP Front Camera',\n",
       " '5000 mAh Lithium ion Battery',\n",
       " 'Qualcomm Snapdragon 680 (SM6225) Processor',\n",
       " '1 Year Manufacturer Warranty for Phone and 6 Months Warranty for in the Box Accessories',\n",
       " '6 GB RAM | 128 GB ROM | Expandable Upto 1 TB',\n",
       " '16.76 cm (6.6 inch) Full HD+ Display',\n",
       " '50MP + 2MP + 2MP | 16MP Front Camera',\n",
       " '5000 mAh Lithium ion Battery',\n",
       " 'Qualcomm Snapdragon 680 (SM6225) Processor',\n",
       " '1 Year Manufacturer Warranty for Phone and 6 Months Warranty for in the Box Accessories',\n",
       " '6 GB RAM | 128 GB ROM',\n",
       " '17.22 cm (6.78 inch) Full HD+ Display',\n",
       " '108MP + 8MP + 2MP | 32MP Front Camera',\n",
       " '6000 mAh Battery',\n",
       " 'Qualcomm Snapdragon 732G Processor',\n",
       " '120Hz Refresh Rate',\n",
       " 'Stock Android Experience',\n",
       " '1 Year on Handset and 6 Months on Accessories',\n",
       " '6 GB RAM | 128 GB ROM | Expandable Upto 1 TB',\n",
       " '16.76 cm (6.6 inch) Full HD+ Display',\n",
       " '50MP + 8MP + 2MP | 8MP Front Camera',\n",
       " '5000 mAh Lithium Ion Battery',\n",
       " 'Qualcomm Snapdragon 750G Processor',\n",
       " '1 Year Warranty Provided by the Manufacturer from Date of Purchase',\n",
       " '6 GB RAM | 128 GB ROM | Expandable Upto 1 TB',\n",
       " '16.76 cm (6.6 inch) Full HD+ Display',\n",
       " '50MP + 8MP + 2MP | 8MP Front Camera',\n",
       " '5000 mAh Lithium Ion Battery',\n",
       " 'Qualcomm Snapdragon 750G Processor',\n",
       " '1 Year Warranty Provided by the Manufacturer from Date of Purchase',\n",
       " '4 GB RAM | 64 GB ROM | Expandable Upto 1 TB',\n",
       " '16.51 cm (6.5 inch) HD+ Display',\n",
       " '48MP + 2MP + 2MP | 8MP Front Camera',\n",
       " '5000 mAh Battery',\n",
       " 'UNISOC T700 Processor',\n",
       " '1 Year on Handset and 6 Months on Accessories']"
      ]
     },
     "execution_count": 132,
     "metadata": {},
     "output_type": "execute_result"
    }
   ],
   "source": [
    "primary_camera_name=[]\n",
    "for i in primary_camera:\n",
    "    primary_camera_name.append(i.text)\n",
    "    \n",
    "primary_camera_name"
   ]
  },
  {
   "cell_type": "code",
   "execution_count": 133,
   "id": "d931e866",
   "metadata": {
    "scrolled": false
   },
   "outputs": [
    {
     "name": "stderr",
     "output_type": "stream",
     "text": [
      "<ipython-input-133-e12861863dd7>:1: DeprecationWarning: find_elements_by_* commands are deprecated. Please use find_elements() instead\n",
      "  display=driver.find_elements_by_xpath('//li[@class=\"rgWa7D\"]')\n"
     ]
    },
    {
     "data": {
      "text/plain": [
       "[<selenium.webdriver.remote.webelement.WebElement (session=\"f4207426e1115da75d39d5993651df8e\", element=\"b9cea02d-a2aa-4e03-8942-943d62d5c4da\")>,\n",
       " <selenium.webdriver.remote.webelement.WebElement (session=\"f4207426e1115da75d39d5993651df8e\", element=\"7298895c-65dd-4ac4-a565-a904dd5fde46\")>,\n",
       " <selenium.webdriver.remote.webelement.WebElement (session=\"f4207426e1115da75d39d5993651df8e\", element=\"a75b8220-2c87-479c-afae-8e078ac1a9b5\")>,\n",
       " <selenium.webdriver.remote.webelement.WebElement (session=\"f4207426e1115da75d39d5993651df8e\", element=\"fd2312b6-69d2-4ccc-8d39-4e7a22ef1ca2\")>,\n",
       " <selenium.webdriver.remote.webelement.WebElement (session=\"f4207426e1115da75d39d5993651df8e\", element=\"b56a6e23-99c2-4e7b-8cfd-0adceccbe806\")>,\n",
       " <selenium.webdriver.remote.webelement.WebElement (session=\"f4207426e1115da75d39d5993651df8e\", element=\"28eff0b8-149c-4cee-a62e-c619dbae18b0\")>,\n",
       " <selenium.webdriver.remote.webelement.WebElement (session=\"f4207426e1115da75d39d5993651df8e\", element=\"55662546-aa38-4201-bffb-dc036e935421\")>,\n",
       " <selenium.webdriver.remote.webelement.WebElement (session=\"f4207426e1115da75d39d5993651df8e\", element=\"3a8a84b6-c69e-4d33-88db-3b0ac6c74da5\")>,\n",
       " <selenium.webdriver.remote.webelement.WebElement (session=\"f4207426e1115da75d39d5993651df8e\", element=\"57a9a77a-d601-41f2-ae47-3484d4fc865c\")>,\n",
       " <selenium.webdriver.remote.webelement.WebElement (session=\"f4207426e1115da75d39d5993651df8e\", element=\"6438d592-b259-4e44-a949-99d3ccc0ea69\")>,\n",
       " <selenium.webdriver.remote.webelement.WebElement (session=\"f4207426e1115da75d39d5993651df8e\", element=\"f93ba06a-7350-4b68-9d65-75b64ad2ac7d\")>,\n",
       " <selenium.webdriver.remote.webelement.WebElement (session=\"f4207426e1115da75d39d5993651df8e\", element=\"7f5fa7b6-8411-48ba-b5f9-dab3fdc427de\")>,\n",
       " <selenium.webdriver.remote.webelement.WebElement (session=\"f4207426e1115da75d39d5993651df8e\", element=\"86e3fd73-8198-4101-9223-aa7925f734d5\")>,\n",
       " <selenium.webdriver.remote.webelement.WebElement (session=\"f4207426e1115da75d39d5993651df8e\", element=\"e94a8f52-908b-4d0d-91d8-29d21def9468\")>,\n",
       " <selenium.webdriver.remote.webelement.WebElement (session=\"f4207426e1115da75d39d5993651df8e\", element=\"60fe5b91-b6cc-482a-8483-1c07439f85dd\")>,\n",
       " <selenium.webdriver.remote.webelement.WebElement (session=\"f4207426e1115da75d39d5993651df8e\", element=\"e99ae08c-ad78-44b0-aeac-cd43f04051de\")>,\n",
       " <selenium.webdriver.remote.webelement.WebElement (session=\"f4207426e1115da75d39d5993651df8e\", element=\"c908dc2a-371f-460b-97dd-abc4547df7c0\")>,\n",
       " <selenium.webdriver.remote.webelement.WebElement (session=\"f4207426e1115da75d39d5993651df8e\", element=\"32540e91-ee79-4eec-a7dd-eac65d9333dd\")>,\n",
       " <selenium.webdriver.remote.webelement.WebElement (session=\"f4207426e1115da75d39d5993651df8e\", element=\"3f575403-6e9e-4c14-b364-a8e736f866d8\")>,\n",
       " <selenium.webdriver.remote.webelement.WebElement (session=\"f4207426e1115da75d39d5993651df8e\", element=\"abfac7ac-d433-4a96-a57d-e97ef1907d62\")>,\n",
       " <selenium.webdriver.remote.webelement.WebElement (session=\"f4207426e1115da75d39d5993651df8e\", element=\"2a6edbaf-bc6f-4116-8208-2dd72042d112\")>,\n",
       " <selenium.webdriver.remote.webelement.WebElement (session=\"f4207426e1115da75d39d5993651df8e\", element=\"2d281fdf-0da6-483b-9ab8-110da4918281\")>,\n",
       " <selenium.webdriver.remote.webelement.WebElement (session=\"f4207426e1115da75d39d5993651df8e\", element=\"abad820d-6312-448a-8e56-fea6af69101f\")>,\n",
       " <selenium.webdriver.remote.webelement.WebElement (session=\"f4207426e1115da75d39d5993651df8e\", element=\"57bfce09-3410-4a1b-a70c-2dbde9affd79\")>,\n",
       " <selenium.webdriver.remote.webelement.WebElement (session=\"f4207426e1115da75d39d5993651df8e\", element=\"66df20c2-ffc3-4cae-93c8-47ea60c23d81\")>,\n",
       " <selenium.webdriver.remote.webelement.WebElement (session=\"f4207426e1115da75d39d5993651df8e\", element=\"644a36e7-1939-46ba-b777-2a5dc9901f22\")>,\n",
       " <selenium.webdriver.remote.webelement.WebElement (session=\"f4207426e1115da75d39d5993651df8e\", element=\"33da4cff-46e9-4c69-868f-7091b6896126\")>,\n",
       " <selenium.webdriver.remote.webelement.WebElement (session=\"f4207426e1115da75d39d5993651df8e\", element=\"76bd9da4-b2ff-44ec-9e56-8f05f14ffb55\")>,\n",
       " <selenium.webdriver.remote.webelement.WebElement (session=\"f4207426e1115da75d39d5993651df8e\", element=\"9be9f4f6-b9b0-48d0-a0e2-b87e73c7dc23\")>,\n",
       " <selenium.webdriver.remote.webelement.WebElement (session=\"f4207426e1115da75d39d5993651df8e\", element=\"2e3a9ab2-0703-4a85-ad79-5a6ed134d046\")>,\n",
       " <selenium.webdriver.remote.webelement.WebElement (session=\"f4207426e1115da75d39d5993651df8e\", element=\"ef32e916-d640-4da5-bec6-d96491bb0b61\")>,\n",
       " <selenium.webdriver.remote.webelement.WebElement (session=\"f4207426e1115da75d39d5993651df8e\", element=\"024f73a1-7ccd-496f-a77e-c36ad86deccb\")>,\n",
       " <selenium.webdriver.remote.webelement.WebElement (session=\"f4207426e1115da75d39d5993651df8e\", element=\"c3c03a10-fbb1-4a76-9d44-f4746b95e37a\")>,\n",
       " <selenium.webdriver.remote.webelement.WebElement (session=\"f4207426e1115da75d39d5993651df8e\", element=\"1f3ea324-52b2-4573-b88f-6dc2f5bcdd12\")>,\n",
       " <selenium.webdriver.remote.webelement.WebElement (session=\"f4207426e1115da75d39d5993651df8e\", element=\"2b1d19ea-27cf-47df-9e71-bb8bf1c9c1ee\")>,\n",
       " <selenium.webdriver.remote.webelement.WebElement (session=\"f4207426e1115da75d39d5993651df8e\", element=\"8c6e193c-5d6a-4395-8d04-aa8cb93c01a2\")>,\n",
       " <selenium.webdriver.remote.webelement.WebElement (session=\"f4207426e1115da75d39d5993651df8e\", element=\"e07e9c45-b534-4341-8acb-e2509021e3ce\")>,\n",
       " <selenium.webdriver.remote.webelement.WebElement (session=\"f4207426e1115da75d39d5993651df8e\", element=\"74aec31e-464d-46bd-be60-36c492179c97\")>,\n",
       " <selenium.webdriver.remote.webelement.WebElement (session=\"f4207426e1115da75d39d5993651df8e\", element=\"b5c327ac-207c-44d0-9743-84ef7e0eb09a\")>,\n",
       " <selenium.webdriver.remote.webelement.WebElement (session=\"f4207426e1115da75d39d5993651df8e\", element=\"cf937474-802d-4daf-a791-49a051d2eb65\")>,\n",
       " <selenium.webdriver.remote.webelement.WebElement (session=\"f4207426e1115da75d39d5993651df8e\", element=\"d4701b2f-78ae-4431-bdf1-7eb62c80af2f\")>,\n",
       " <selenium.webdriver.remote.webelement.WebElement (session=\"f4207426e1115da75d39d5993651df8e\", element=\"2da2ffa8-522b-4220-99e3-36ea27f151fb\")>,\n",
       " <selenium.webdriver.remote.webelement.WebElement (session=\"f4207426e1115da75d39d5993651df8e\", element=\"a7cd7e04-3d20-4b1b-a2ee-7f6eeace3a6e\")>,\n",
       " <selenium.webdriver.remote.webelement.WebElement (session=\"f4207426e1115da75d39d5993651df8e\", element=\"a63a1fc7-43db-49e5-80cd-423475b29924\")>,\n",
       " <selenium.webdriver.remote.webelement.WebElement (session=\"f4207426e1115da75d39d5993651df8e\", element=\"19657fb6-8640-4ab3-b481-57684abb6c6d\")>,\n",
       " <selenium.webdriver.remote.webelement.WebElement (session=\"f4207426e1115da75d39d5993651df8e\", element=\"8e9ac84a-877e-4af3-bd69-f105252c3aa4\")>,\n",
       " <selenium.webdriver.remote.webelement.WebElement (session=\"f4207426e1115da75d39d5993651df8e\", element=\"a2a0e6c9-b225-4918-ad97-bdfdf3fca988\")>,\n",
       " <selenium.webdriver.remote.webelement.WebElement (session=\"f4207426e1115da75d39d5993651df8e\", element=\"f64f835f-f6a7-4035-a52a-1660ad4c9d4d\")>,\n",
       " <selenium.webdriver.remote.webelement.WebElement (session=\"f4207426e1115da75d39d5993651df8e\", element=\"8d1a3fb7-58bb-4d29-9e3c-9961422e8381\")>,\n",
       " <selenium.webdriver.remote.webelement.WebElement (session=\"f4207426e1115da75d39d5993651df8e\", element=\"1813a61d-266c-4d33-871b-9edbfb18812e\")>,\n",
       " <selenium.webdriver.remote.webelement.WebElement (session=\"f4207426e1115da75d39d5993651df8e\", element=\"4e1c9511-a070-415b-b71b-e60e49d06863\")>,\n",
       " <selenium.webdriver.remote.webelement.WebElement (session=\"f4207426e1115da75d39d5993651df8e\", element=\"85783697-2373-419d-a448-949eb459f985\")>,\n",
       " <selenium.webdriver.remote.webelement.WebElement (session=\"f4207426e1115da75d39d5993651df8e\", element=\"3d4779d2-a2a7-4696-bc2a-5382b069ff05\")>,\n",
       " <selenium.webdriver.remote.webelement.WebElement (session=\"f4207426e1115da75d39d5993651df8e\", element=\"fe0ebb67-85ef-4817-b3e0-58897b7f91c5\")>,\n",
       " <selenium.webdriver.remote.webelement.WebElement (session=\"f4207426e1115da75d39d5993651df8e\", element=\"f6aa0b39-3214-4336-8415-28666cbec3af\")>,\n",
       " <selenium.webdriver.remote.webelement.WebElement (session=\"f4207426e1115da75d39d5993651df8e\", element=\"d2c17f18-df22-40d7-883e-b12ea28be8a5\")>,\n",
       " <selenium.webdriver.remote.webelement.WebElement (session=\"f4207426e1115da75d39d5993651df8e\", element=\"b8cce9f2-7d6b-467d-bc57-19bb27476af6\")>,\n",
       " <selenium.webdriver.remote.webelement.WebElement (session=\"f4207426e1115da75d39d5993651df8e\", element=\"69cecabe-8fdb-4eac-b9a8-17d81ebd8834\")>,\n",
       " <selenium.webdriver.remote.webelement.WebElement (session=\"f4207426e1115da75d39d5993651df8e\", element=\"53562773-7369-4a32-8afd-8bd80cedc262\")>,\n",
       " <selenium.webdriver.remote.webelement.WebElement (session=\"f4207426e1115da75d39d5993651df8e\", element=\"8e762139-3e43-4a86-ac02-259ba2dfff96\")>,\n",
       " <selenium.webdriver.remote.webelement.WebElement (session=\"f4207426e1115da75d39d5993651df8e\", element=\"ac6a5b06-9984-4546-9b6d-1ede8b024d48\")>,\n",
       " <selenium.webdriver.remote.webelement.WebElement (session=\"f4207426e1115da75d39d5993651df8e\", element=\"49cb0b94-04c4-48c8-9731-0aa078e81c16\")>,\n",
       " <selenium.webdriver.remote.webelement.WebElement (session=\"f4207426e1115da75d39d5993651df8e\", element=\"dbe79cf2-a9b4-41e6-9297-39d9a12e5973\")>,\n",
       " <selenium.webdriver.remote.webelement.WebElement (session=\"f4207426e1115da75d39d5993651df8e\", element=\"8a06b25f-f584-4f5e-b9df-94dc90234890\")>,\n",
       " <selenium.webdriver.remote.webelement.WebElement (session=\"f4207426e1115da75d39d5993651df8e\", element=\"6ab27834-f7a2-48fb-b2cf-04b408aeeeec\")>,\n",
       " <selenium.webdriver.remote.webelement.WebElement (session=\"f4207426e1115da75d39d5993651df8e\", element=\"1b3eaa93-762d-4776-b928-ef1e595a96b5\")>,\n",
       " <selenium.webdriver.remote.webelement.WebElement (session=\"f4207426e1115da75d39d5993651df8e\", element=\"2b02c569-30ca-4525-a3bf-96b9ab1d1b14\")>,\n",
       " <selenium.webdriver.remote.webelement.WebElement (session=\"f4207426e1115da75d39d5993651df8e\", element=\"d063bea9-e3c4-4395-8ab4-cd110e539ba1\")>,\n",
       " <selenium.webdriver.remote.webelement.WebElement (session=\"f4207426e1115da75d39d5993651df8e\", element=\"764addff-a85f-40e3-b77e-61c2a43479ad\")>,\n",
       " <selenium.webdriver.remote.webelement.WebElement (session=\"f4207426e1115da75d39d5993651df8e\", element=\"c5b05c65-eae3-4c28-aeec-6838e8ba38b7\")>,\n",
       " <selenium.webdriver.remote.webelement.WebElement (session=\"f4207426e1115da75d39d5993651df8e\", element=\"8643960b-7e0d-4338-a4d7-cb6923268814\")>,\n",
       " <selenium.webdriver.remote.webelement.WebElement (session=\"f4207426e1115da75d39d5993651df8e\", element=\"5ee38a34-b5d1-4ef3-aac9-d16432e48e0d\")>,\n",
       " <selenium.webdriver.remote.webelement.WebElement (session=\"f4207426e1115da75d39d5993651df8e\", element=\"c4c8c320-c2cc-4eeb-85b6-abe31a51355d\")>,\n",
       " <selenium.webdriver.remote.webelement.WebElement (session=\"f4207426e1115da75d39d5993651df8e\", element=\"9f553d3c-225e-43f0-90ac-e72fa8242af0\")>,\n",
       " <selenium.webdriver.remote.webelement.WebElement (session=\"f4207426e1115da75d39d5993651df8e\", element=\"2f0a8dd5-36cd-4ebf-9a3b-8f6bde1b9625\")>,\n",
       " <selenium.webdriver.remote.webelement.WebElement (session=\"f4207426e1115da75d39d5993651df8e\", element=\"889d4d57-9c15-4e3d-bc39-b7b344c735eb\")>,\n",
       " <selenium.webdriver.remote.webelement.WebElement (session=\"f4207426e1115da75d39d5993651df8e\", element=\"b62643e0-d5cb-4d07-97fa-7147c8054e72\")>,\n",
       " <selenium.webdriver.remote.webelement.WebElement (session=\"f4207426e1115da75d39d5993651df8e\", element=\"7b12a14d-1e14-4622-b6a2-700077a05d13\")>,\n",
       " <selenium.webdriver.remote.webelement.WebElement (session=\"f4207426e1115da75d39d5993651df8e\", element=\"8f6633e4-6cdd-444d-9255-de515fd418ac\")>,\n",
       " <selenium.webdriver.remote.webelement.WebElement (session=\"f4207426e1115da75d39d5993651df8e\", element=\"c35c1a83-5c42-48b7-b3a1-37c0a4281b36\")>,\n",
       " <selenium.webdriver.remote.webelement.WebElement (session=\"f4207426e1115da75d39d5993651df8e\", element=\"dbd07256-d7c0-42bb-a314-8c90aeb8abf7\")>,\n",
       " <selenium.webdriver.remote.webelement.WebElement (session=\"f4207426e1115da75d39d5993651df8e\", element=\"a67f27fe-5974-430c-83c7-53223a326fd1\")>,\n",
       " <selenium.webdriver.remote.webelement.WebElement (session=\"f4207426e1115da75d39d5993651df8e\", element=\"e9448872-60ec-4584-9a8c-f01726d42eeb\")>,\n",
       " <selenium.webdriver.remote.webelement.WebElement (session=\"f4207426e1115da75d39d5993651df8e\", element=\"d22510c8-73e9-413f-9d17-5240dd40699f\")>,\n",
       " <selenium.webdriver.remote.webelement.WebElement (session=\"f4207426e1115da75d39d5993651df8e\", element=\"57c0b481-9e70-43d4-adaf-d4c717d773d6\")>,\n",
       " <selenium.webdriver.remote.webelement.WebElement (session=\"f4207426e1115da75d39d5993651df8e\", element=\"ece73c76-0644-45ee-af3b-7071af5e0e52\")>,\n",
       " <selenium.webdriver.remote.webelement.WebElement (session=\"f4207426e1115da75d39d5993651df8e\", element=\"4b25f360-02a5-4f4a-9bba-b4d03d66243e\")>,\n",
       " <selenium.webdriver.remote.webelement.WebElement (session=\"f4207426e1115da75d39d5993651df8e\", element=\"c96bc9d5-b996-441a-a7be-c88894733758\")>,\n",
       " <selenium.webdriver.remote.webelement.WebElement (session=\"f4207426e1115da75d39d5993651df8e\", element=\"a79be1c5-82c0-422d-b989-395dcfeee5cc\")>,\n",
       " <selenium.webdriver.remote.webelement.WebElement (session=\"f4207426e1115da75d39d5993651df8e\", element=\"7b77f2af-e25f-4cf0-9dfe-a6cfeff28e25\")>,\n",
       " <selenium.webdriver.remote.webelement.WebElement (session=\"f4207426e1115da75d39d5993651df8e\", element=\"c9a64b80-7d80-4427-abfc-beb6df47f53f\")>,\n",
       " <selenium.webdriver.remote.webelement.WebElement (session=\"f4207426e1115da75d39d5993651df8e\", element=\"6f75ef25-6e55-4501-8de7-307c9be6e35d\")>,\n",
       " <selenium.webdriver.remote.webelement.WebElement (session=\"f4207426e1115da75d39d5993651df8e\", element=\"cd8fb7be-d7b7-42d7-9831-29e88e636d7c\")>,\n",
       " <selenium.webdriver.remote.webelement.WebElement (session=\"f4207426e1115da75d39d5993651df8e\", element=\"e4367d88-34ac-4ffa-9af0-47c643fb36d5\")>,\n",
       " <selenium.webdriver.remote.webelement.WebElement (session=\"f4207426e1115da75d39d5993651df8e\", element=\"e5d04a16-ec85-4f02-aca3-8cfa62a339ca\")>,\n",
       " <selenium.webdriver.remote.webelement.WebElement (session=\"f4207426e1115da75d39d5993651df8e\", element=\"a40b356c-8ab2-4daa-8608-81ff38b4006e\")>,\n",
       " <selenium.webdriver.remote.webelement.WebElement (session=\"f4207426e1115da75d39d5993651df8e\", element=\"842a5dd4-6968-4df4-ba35-4bc9d83511dd\")>,\n",
       " <selenium.webdriver.remote.webelement.WebElement (session=\"f4207426e1115da75d39d5993651df8e\", element=\"9fe44a6a-a05f-4ff8-88e4-6dd3aad0960a\")>,\n",
       " <selenium.webdriver.remote.webelement.WebElement (session=\"f4207426e1115da75d39d5993651df8e\", element=\"074a2723-93fb-4c17-954b-a01d7afa4f58\")>,\n",
       " <selenium.webdriver.remote.webelement.WebElement (session=\"f4207426e1115da75d39d5993651df8e\", element=\"75af7b49-12f8-43b3-b7b4-a83f5ed59739\")>,\n",
       " <selenium.webdriver.remote.webelement.WebElement (session=\"f4207426e1115da75d39d5993651df8e\", element=\"99d12687-253b-45c1-a2a2-c277d176e08d\")>,\n",
       " <selenium.webdriver.remote.webelement.WebElement (session=\"f4207426e1115da75d39d5993651df8e\", element=\"eb483fc7-03a8-4233-8ec9-89692862973d\")>,\n",
       " <selenium.webdriver.remote.webelement.WebElement (session=\"f4207426e1115da75d39d5993651df8e\", element=\"a5fc1bff-1eaa-43a9-a3d7-8550e0a04f52\")>,\n",
       " <selenium.webdriver.remote.webelement.WebElement (session=\"f4207426e1115da75d39d5993651df8e\", element=\"2dcfa09a-38cf-4050-ad99-9492305a8b13\")>,\n",
       " <selenium.webdriver.remote.webelement.WebElement (session=\"f4207426e1115da75d39d5993651df8e\", element=\"c0a13206-75ce-4a42-9fec-5866e4c710c2\")>,\n",
       " <selenium.webdriver.remote.webelement.WebElement (session=\"f4207426e1115da75d39d5993651df8e\", element=\"0d0a29cc-697b-42c7-a694-46b06cad1f6f\")>,\n",
       " <selenium.webdriver.remote.webelement.WebElement (session=\"f4207426e1115da75d39d5993651df8e\", element=\"c5b8f95c-356a-4d43-8e3c-a9d192e9fa08\")>,\n",
       " <selenium.webdriver.remote.webelement.WebElement (session=\"f4207426e1115da75d39d5993651df8e\", element=\"a0e1ffde-6515-4681-a45d-90f44c2eb50f\")>,\n",
       " <selenium.webdriver.remote.webelement.WebElement (session=\"f4207426e1115da75d39d5993651df8e\", element=\"992039c9-5369-4967-962f-a466181ead5c\")>,\n",
       " <selenium.webdriver.remote.webelement.WebElement (session=\"f4207426e1115da75d39d5993651df8e\", element=\"9a67e80a-2962-4e46-9b5c-b91ca98eca60\")>,\n",
       " <selenium.webdriver.remote.webelement.WebElement (session=\"f4207426e1115da75d39d5993651df8e\", element=\"4f5f2fb7-87dd-4911-8a36-ebc4bea1ffce\")>,\n",
       " <selenium.webdriver.remote.webelement.WebElement (session=\"f4207426e1115da75d39d5993651df8e\", element=\"320749d6-fdc6-42fc-8d7d-bac797fbba7a\")>,\n",
       " <selenium.webdriver.remote.webelement.WebElement (session=\"f4207426e1115da75d39d5993651df8e\", element=\"7a839d8f-c6db-4d9b-abd2-004c219aa6f8\")>,\n",
       " <selenium.webdriver.remote.webelement.WebElement (session=\"f4207426e1115da75d39d5993651df8e\", element=\"c8ae8740-e25e-417e-830e-3efc67806be5\")>,\n",
       " <selenium.webdriver.remote.webelement.WebElement (session=\"f4207426e1115da75d39d5993651df8e\", element=\"40475aab-25c7-4a7a-bf39-b993c237608e\")>,\n",
       " <selenium.webdriver.remote.webelement.WebElement (session=\"f4207426e1115da75d39d5993651df8e\", element=\"1b420b30-1f7a-4e40-828c-694e82980fc0\")>,\n",
       " <selenium.webdriver.remote.webelement.WebElement (session=\"f4207426e1115da75d39d5993651df8e\", element=\"ccef458f-66d0-46fa-91cd-e714edd44e65\")>,\n",
       " <selenium.webdriver.remote.webelement.WebElement (session=\"f4207426e1115da75d39d5993651df8e\", element=\"4e47c42c-07fc-4adc-9ce3-7dfef9b591f0\")>,\n",
       " <selenium.webdriver.remote.webelement.WebElement (session=\"f4207426e1115da75d39d5993651df8e\", element=\"0a970bb1-3dc0-46a9-b410-242c436f1e2c\")>,\n",
       " <selenium.webdriver.remote.webelement.WebElement (session=\"f4207426e1115da75d39d5993651df8e\", element=\"a91ab133-ab33-4c8c-9e2c-649ffe48a67b\")>,\n",
       " <selenium.webdriver.remote.webelement.WebElement (session=\"f4207426e1115da75d39d5993651df8e\", element=\"565a046b-6433-49dc-b226-8ecceecddc65\")>,\n",
       " <selenium.webdriver.remote.webelement.WebElement (session=\"f4207426e1115da75d39d5993651df8e\", element=\"48fa8f21-0bd6-4eff-aee0-73be4b9d032d\")>,\n",
       " <selenium.webdriver.remote.webelement.WebElement (session=\"f4207426e1115da75d39d5993651df8e\", element=\"790bf188-009d-4b3d-a3af-25a82f2bf42d\")>,\n",
       " <selenium.webdriver.remote.webelement.WebElement (session=\"f4207426e1115da75d39d5993651df8e\", element=\"5b4e8378-ca0b-4887-937f-ad2fdd9a9035\")>,\n",
       " <selenium.webdriver.remote.webelement.WebElement (session=\"f4207426e1115da75d39d5993651df8e\", element=\"2dbb747f-ddf4-4052-8cdd-c8eb90ab61a7\")>,\n",
       " <selenium.webdriver.remote.webelement.WebElement (session=\"f4207426e1115da75d39d5993651df8e\", element=\"d9bea7e0-b805-4eae-9056-49a8d43bc3d6\")>,\n",
       " <selenium.webdriver.remote.webelement.WebElement (session=\"f4207426e1115da75d39d5993651df8e\", element=\"a6d8d955-63eb-4029-9fe0-2271ea43f110\")>,\n",
       " <selenium.webdriver.remote.webelement.WebElement (session=\"f4207426e1115da75d39d5993651df8e\", element=\"2515bcba-bec4-4b45-b610-3802faa66694\")>,\n",
       " <selenium.webdriver.remote.webelement.WebElement (session=\"f4207426e1115da75d39d5993651df8e\", element=\"50361b76-6e73-4559-8425-da1dce470863\")>,\n",
       " <selenium.webdriver.remote.webelement.WebElement (session=\"f4207426e1115da75d39d5993651df8e\", element=\"fd79f16a-bc10-4cc4-80cb-0419685e9930\")>,\n",
       " <selenium.webdriver.remote.webelement.WebElement (session=\"f4207426e1115da75d39d5993651df8e\", element=\"b5937535-5dec-4075-8668-35cb9be6fd0f\")>,\n",
       " <selenium.webdriver.remote.webelement.WebElement (session=\"f4207426e1115da75d39d5993651df8e\", element=\"534b655f-ee00-41ab-a335-01b47889d6c4\")>,\n",
       " <selenium.webdriver.remote.webelement.WebElement (session=\"f4207426e1115da75d39d5993651df8e\", element=\"47ebd6c7-403b-4350-a2d9-8cd8531b5bcc\")>,\n",
       " <selenium.webdriver.remote.webelement.WebElement (session=\"f4207426e1115da75d39d5993651df8e\", element=\"e63557cc-4a00-45ae-a8fa-e2a90747478b\")>,\n",
       " <selenium.webdriver.remote.webelement.WebElement (session=\"f4207426e1115da75d39d5993651df8e\", element=\"38e3a935-ef84-409f-9f70-4900c82707d9\")>,\n",
       " <selenium.webdriver.remote.webelement.WebElement (session=\"f4207426e1115da75d39d5993651df8e\", element=\"8514a943-6964-44c2-99c9-eb441ce473da\")>,\n",
       " <selenium.webdriver.remote.webelement.WebElement (session=\"f4207426e1115da75d39d5993651df8e\", element=\"a3690534-4503-4ff9-8d3b-cc425a6bbe8b\")>,\n",
       " <selenium.webdriver.remote.webelement.WebElement (session=\"f4207426e1115da75d39d5993651df8e\", element=\"7e5eb73f-022b-478f-a79f-5830f620f41d\")>,\n",
       " <selenium.webdriver.remote.webelement.WebElement (session=\"f4207426e1115da75d39d5993651df8e\", element=\"8e286768-3961-418d-8cbf-074cd925abb8\")>,\n",
       " <selenium.webdriver.remote.webelement.WebElement (session=\"f4207426e1115da75d39d5993651df8e\", element=\"05223515-f80a-42c2-960b-543df551ed95\")>,\n",
       " <selenium.webdriver.remote.webelement.WebElement (session=\"f4207426e1115da75d39d5993651df8e\", element=\"c6a9cecf-a62b-4c50-bf02-f65554656b46\")>,\n",
       " <selenium.webdriver.remote.webelement.WebElement (session=\"f4207426e1115da75d39d5993651df8e\", element=\"002f9b43-a7dc-4e13-9273-9902372ffb1d\")>,\n",
       " <selenium.webdriver.remote.webelement.WebElement (session=\"f4207426e1115da75d39d5993651df8e\", element=\"d8da0a6f-79e7-4225-81bc-7d739ee33782\")>,\n",
       " <selenium.webdriver.remote.webelement.WebElement (session=\"f4207426e1115da75d39d5993651df8e\", element=\"2aaaadd5-8a90-461b-99e9-3852fd7eb704\")>,\n",
       " <selenium.webdriver.remote.webelement.WebElement (session=\"f4207426e1115da75d39d5993651df8e\", element=\"705b1ebb-f6cd-4dfc-a03b-c6126de54e69\")>,\n",
       " <selenium.webdriver.remote.webelement.WebElement (session=\"f4207426e1115da75d39d5993651df8e\", element=\"ba38efa6-8522-4524-8d42-23b475d9ae3e\")>,\n",
       " <selenium.webdriver.remote.webelement.WebElement (session=\"f4207426e1115da75d39d5993651df8e\", element=\"cb29f585-5164-48e3-95d1-5216e11eea75\")>,\n",
       " <selenium.webdriver.remote.webelement.WebElement (session=\"f4207426e1115da75d39d5993651df8e\", element=\"74dec6fe-a118-4636-a5be-429437df98a0\")>,\n",
       " <selenium.webdriver.remote.webelement.WebElement (session=\"f4207426e1115da75d39d5993651df8e\", element=\"fdc2884d-e4d4-4764-b23a-1e8a6478fc0a\")>,\n",
       " <selenium.webdriver.remote.webelement.WebElement (session=\"f4207426e1115da75d39d5993651df8e\", element=\"250f96d0-decb-4dcc-a596-b5666af0a947\")>,\n",
       " <selenium.webdriver.remote.webelement.WebElement (session=\"f4207426e1115da75d39d5993651df8e\", element=\"87b10897-bc41-451b-9aa0-d4ac41b7f87f\")>,\n",
       " <selenium.webdriver.remote.webelement.WebElement (session=\"f4207426e1115da75d39d5993651df8e\", element=\"672d5a6e-4c56-411c-b5c6-681b417e5961\")>]"
      ]
     },
     "execution_count": 133,
     "metadata": {},
     "output_type": "execute_result"
    }
   ],
   "source": [
    "display=driver.find_elements_by_xpath('//li[@class=\"rgWa7D\"]')\n",
    "display"
   ]
  },
  {
   "cell_type": "code",
   "execution_count": 134,
   "id": "9994149b",
   "metadata": {
    "scrolled": false
   },
   "outputs": [
    {
     "data": {
      "text/plain": [
       "['4 GB RAM | 64 GB ROM | Expandable Upto 512 GB',\n",
       " '16.59 cm (6.53 inch) HD+ Display',\n",
       " '13MP + 2MP + 2MP | 5MP Front Camera',\n",
       " '5000 mAh Lithium-ion Polymer Battery',\n",
       " 'MediaTek Helio G35 Processor',\n",
       " '1 Year Warranty for Handset, 6 Months for Accessories',\n",
       " '4 GB RAM | 64 GB ROM | Expandable Upto 1 TB',\n",
       " '16.76 cm (6.6 inch) Full HD+ Display',\n",
       " '50MP + 2MP + 0.3MP | 8MP Front Camera',\n",
       " '5000 mAh Lithium Polymer Battery',\n",
       " 'Unisoc Tiger T616 Processor',\n",
       " '1 Year Warranty for Phone and 6 Months Warranty for In-Box Accessories',\n",
       " '4 GB RAM | 64 GB ROM | Expandable Upto 512 GB',\n",
       " '16.59 cm (6.53 inch) HD+ Display',\n",
       " '13MP + 2MP + 2MP | 5MP Front Camera',\n",
       " '5000 mAh Lithium-ion Polymer Battery',\n",
       " 'MediaTek Helio G35 Processor',\n",
       " '1 Year Warranty for Handset, 6 Months for Accessories',\n",
       " '6 GB RAM | 128 GB ROM | Expandable Upto 1 TB',\n",
       " '17.02 cm (6.7 inch) HD+ Display',\n",
       " '50MP + 2MP | 5MP Front Camera',\n",
       " '6000 mAh Lithium Polymer Battery',\n",
       " 'Qualcomm Snapdragon 680 Processor',\n",
       " '1 Year Warranty for Phone and 6 Months Warranty for In-Box Accessories',\n",
       " '3 GB RAM | 32 GB ROM | Expandable Upto 512 GB',\n",
       " '16.59 cm (6.53 inch) HD+ Display',\n",
       " '13MP + 2MP + 2MP | 5MP Front Camera',\n",
       " '5000 mAh Lithium-ion Polymer Battery',\n",
       " 'MediaTek Helio G35 Processor',\n",
       " '1 Year Warranty for Handset, 6 Months for Accessories',\n",
       " '2 GB RAM | 32 GB ROM | Expandable Upto 256 GB',\n",
       " '16.51 cm (6.5 inch) HD+ Display',\n",
       " '8MP Rear Camera | 5MP Front Camera',\n",
       " '5000 mAh Battery',\n",
       " 'MediaTek Helio G35 Processor',\n",
       " '1 Year Warranty for Mobile and 6 Months for Accessories',\n",
       " '2 GB RAM | 32 GB ROM | Expandable Upto 256 GB',\n",
       " '16.51 cm (6.5 inch) HD+ Display',\n",
       " '8MP Rear Camera | 5MP Front Camera',\n",
       " '5000 mAh Battery',\n",
       " 'MediaTek Helio G35 Processor',\n",
       " '1 Year Warranty for Mobile and 6 Months for Accessories',\n",
       " '4 GB RAM | 64 GB ROM | Expandable Upto 1 TB',\n",
       " '16.76 cm (6.6 inch) Full HD+ Display',\n",
       " '50MP + 2MP + 2MP | 16MP Front Camera',\n",
       " '5000 mAh Lithium ion Battery',\n",
       " 'Qualcomm Snapdragon 680 (SM6225) Processor',\n",
       " '1 Year Manufacturer Warranty for Phone and 6 Months Warranty for in the Box Accessories',\n",
       " '4 GB RAM | 64 GB ROM | Expandable Upto 1 TB',\n",
       " '16.76 cm (6.6 inch) Full HD+ Display',\n",
       " '50MP + 2MP + 2MP | 16MP Front Camera',\n",
       " '5000 mAh Lithium ion Battery',\n",
       " 'Qualcomm Snapdragon 680 (SM6225) Processor',\n",
       " '1 Year Manufacturer Warranty for Phone and 6 Months Warranty for in the Box Accessories',\n",
       " '4 GB RAM | 128 GB ROM | Expandable Upto 1 TB',\n",
       " '16.76 cm (6.6 inch) Full HD+ Display',\n",
       " '50MP + 2MP + 2MP | 16MP Front Camera',\n",
       " '5000 mAh Lithium ion Battery',\n",
       " 'Qualcomm Snapdragon 680 (SM6225) Processor',\n",
       " '1 Year Manufacturer Warranty for Phone and 6 Months Warranty for in the Box Accessories',\n",
       " '4 GB RAM | 128 GB ROM | Expandable Upto 1 TB',\n",
       " '16.76 cm (6.6 inch) Full HD+ Display',\n",
       " '50MP + 2MP + 0.3MP | 8MP Front Camera',\n",
       " '5000 mAh Lithium Polymer Battery',\n",
       " 'Unisoc Tiger T616 Processor',\n",
       " '1 Year Warranty for Phone and 6 Months Warranty for In-Box Accessories',\n",
       " '4 GB RAM | 64 GB ROM | Expandable Upto 256 GB',\n",
       " '16.51 cm (6.5 inch) HD+ Display',\n",
       " '50MP + 2MP + 2MP | 8MP Front Camera',\n",
       " '5000 mAh Battery',\n",
       " 'Unisoc T610 Octa Core Processor',\n",
       " '1 Year Warranty for Mobile and 6 Months for Accessories',\n",
       " '4 GB RAM | 64 GB ROM | Expandable Upto 1 TB',\n",
       " '16.51 cm (6.5 inch) Full HD+ Display',\n",
       " '48MP + 2MP + 2MP | 8MP Front Camera',\n",
       " '5000 mAh Lithium-ion Polymer Battery',\n",
       " 'MediaTek Dimensity 700 Processor',\n",
       " 'Multiple Hands-free Voice Assistant',\n",
       " 'One Year Warranty for Handset, 6 Months for Accessories',\n",
       " '6 GB RAM | 128 GB ROM | Expandable Upto 1 TB',\n",
       " '16.51 cm (6.5 inch) Full HD+ Display',\n",
       " '48MP + 2MP + 2MP | 8MP Front Camera',\n",
       " '5000 mAh Lithium-ion Polymer Battery',\n",
       " 'MediaTek Dimensity 700 Processor',\n",
       " 'Multiple Hands-free Voice Assistant',\n",
       " 'One Year Warranty for Handset, 6 Months for Accessories',\n",
       " '4 GB RAM | 64 GB ROM | Expandable Upto 1 TB',\n",
       " '16.51 cm (6.5 inch) Full HD+ Display',\n",
       " '48MP + 2MP + 2MP | 8MP Front Camera',\n",
       " '5000 mAh Lithium-ion Polymer Battery',\n",
       " 'MediaTek Dimensity 700 Processor',\n",
       " 'Multiple Hands-free Voice Assistant',\n",
       " 'One Year Warranty for Handset, 6 Months for Accessories',\n",
       " '4 GB RAM | 64 GB ROM | Expandable Upto 512 GB',\n",
       " '16.59 cm (6.53 inch) HD+ Display',\n",
       " '13MP Rear Camera | 5MP Front Camera',\n",
       " '5000 mAh Li-Polymer Battery',\n",
       " 'MediaTek Helio G25 Processor',\n",
       " 'Brand Warranty of 1 Year Available for Mobile and 6 Months for Accessories',\n",
       " '4 GB RAM | 64 GB ROM | Expandable Upto 1 TB',\n",
       " '16.51 cm (6.5 inch) Full HD+ Display',\n",
       " '48MP + 2MP + 2MP | 8MP Front Camera',\n",
       " '5000 mAh Lithium-ion Polymer Battery',\n",
       " 'MediaTek Dimensity 700 Processor',\n",
       " 'Multiple Hands-free Voice Assistant',\n",
       " 'One Year Warranty for Handset, 6 Months for Accessories',\n",
       " '6 GB RAM | 128 GB ROM',\n",
       " '17.22 cm (6.78 inch) Full HD+ Display',\n",
       " '108MP + 8MP + 2MP | 32MP Front Camera',\n",
       " '6000 mAh Battery',\n",
       " 'Qualcomm Snapdragon 732G Processor',\n",
       " '120Hz Refresh Rate',\n",
       " 'Stock Android Experience',\n",
       " '1 Year on Handset and 6 Months on Accessories',\n",
       " '6 GB RAM | 128 GB ROM | Expandable Upto 1 TB',\n",
       " '16.76 cm (6.6 inch) Full HD+ Display',\n",
       " '50MP + 2MP + 2MP | 16MP Front Camera',\n",
       " '5000 mAh Lithium ion Battery',\n",
       " 'Qualcomm Snapdragon 680 (SM6225) Processor',\n",
       " '1 Year Manufacturer Warranty for Phone and 6 Months Warranty for in the Box Accessories',\n",
       " '6 GB RAM | 128 GB ROM | Expandable Upto 1 TB',\n",
       " '16.76 cm (6.6 inch) Full HD+ Display',\n",
       " '50MP + 2MP + 2MP | 16MP Front Camera',\n",
       " '5000 mAh Lithium ion Battery',\n",
       " 'Qualcomm Snapdragon 680 (SM6225) Processor',\n",
       " '1 Year Manufacturer Warranty for Phone and 6 Months Warranty for in the Box Accessories',\n",
       " '6 GB RAM | 128 GB ROM',\n",
       " '17.22 cm (6.78 inch) Full HD+ Display',\n",
       " '108MP + 8MP + 2MP | 32MP Front Camera',\n",
       " '6000 mAh Battery',\n",
       " 'Qualcomm Snapdragon 732G Processor',\n",
       " '120Hz Refresh Rate',\n",
       " 'Stock Android Experience',\n",
       " '1 Year on Handset and 6 Months on Accessories',\n",
       " '6 GB RAM | 128 GB ROM | Expandable Upto 1 TB',\n",
       " '16.76 cm (6.6 inch) Full HD+ Display',\n",
       " '50MP + 8MP + 2MP | 8MP Front Camera',\n",
       " '5000 mAh Lithium Ion Battery',\n",
       " 'Qualcomm Snapdragon 750G Processor',\n",
       " '1 Year Warranty Provided by the Manufacturer from Date of Purchase',\n",
       " '6 GB RAM | 128 GB ROM | Expandable Upto 1 TB',\n",
       " '16.76 cm (6.6 inch) Full HD+ Display',\n",
       " '50MP + 8MP + 2MP | 8MP Front Camera',\n",
       " '5000 mAh Lithium Ion Battery',\n",
       " 'Qualcomm Snapdragon 750G Processor',\n",
       " '1 Year Warranty Provided by the Manufacturer from Date of Purchase',\n",
       " '4 GB RAM | 64 GB ROM | Expandable Upto 1 TB',\n",
       " '16.51 cm (6.5 inch) HD+ Display',\n",
       " '48MP + 2MP + 2MP | 8MP Front Camera',\n",
       " '5000 mAh Battery',\n",
       " 'UNISOC T700 Processor',\n",
       " '1 Year on Handset and 6 Months on Accessories']"
      ]
     },
     "execution_count": 134,
     "metadata": {},
     "output_type": "execute_result"
    }
   ],
   "source": [
    "display_name=[]\n",
    "for i in display:\n",
    "    display_name.append(i.text)\n",
    "    \n",
    "display_name"
   ]
  },
  {
   "cell_type": "code",
   "execution_count": 135,
   "id": "d8f9efbb",
   "metadata": {
    "scrolled": false
   },
   "outputs": [
    {
     "name": "stderr",
     "output_type": "stream",
     "text": [
      "<ipython-input-135-38e27c59283d>:1: DeprecationWarning: find_elements_by_* commands are deprecated. Please use find_elements() instead\n",
      "  battery_capacity=driver.find_elements_by_xpath('//li[@class=\"rgWa7D\"]')\n"
     ]
    },
    {
     "data": {
      "text/plain": [
       "[<selenium.webdriver.remote.webelement.WebElement (session=\"f4207426e1115da75d39d5993651df8e\", element=\"b9cea02d-a2aa-4e03-8942-943d62d5c4da\")>,\n",
       " <selenium.webdriver.remote.webelement.WebElement (session=\"f4207426e1115da75d39d5993651df8e\", element=\"7298895c-65dd-4ac4-a565-a904dd5fde46\")>,\n",
       " <selenium.webdriver.remote.webelement.WebElement (session=\"f4207426e1115da75d39d5993651df8e\", element=\"a75b8220-2c87-479c-afae-8e078ac1a9b5\")>,\n",
       " <selenium.webdriver.remote.webelement.WebElement (session=\"f4207426e1115da75d39d5993651df8e\", element=\"fd2312b6-69d2-4ccc-8d39-4e7a22ef1ca2\")>,\n",
       " <selenium.webdriver.remote.webelement.WebElement (session=\"f4207426e1115da75d39d5993651df8e\", element=\"b56a6e23-99c2-4e7b-8cfd-0adceccbe806\")>,\n",
       " <selenium.webdriver.remote.webelement.WebElement (session=\"f4207426e1115da75d39d5993651df8e\", element=\"28eff0b8-149c-4cee-a62e-c619dbae18b0\")>,\n",
       " <selenium.webdriver.remote.webelement.WebElement (session=\"f4207426e1115da75d39d5993651df8e\", element=\"55662546-aa38-4201-bffb-dc036e935421\")>,\n",
       " <selenium.webdriver.remote.webelement.WebElement (session=\"f4207426e1115da75d39d5993651df8e\", element=\"3a8a84b6-c69e-4d33-88db-3b0ac6c74da5\")>,\n",
       " <selenium.webdriver.remote.webelement.WebElement (session=\"f4207426e1115da75d39d5993651df8e\", element=\"57a9a77a-d601-41f2-ae47-3484d4fc865c\")>,\n",
       " <selenium.webdriver.remote.webelement.WebElement (session=\"f4207426e1115da75d39d5993651df8e\", element=\"6438d592-b259-4e44-a949-99d3ccc0ea69\")>,\n",
       " <selenium.webdriver.remote.webelement.WebElement (session=\"f4207426e1115da75d39d5993651df8e\", element=\"f93ba06a-7350-4b68-9d65-75b64ad2ac7d\")>,\n",
       " <selenium.webdriver.remote.webelement.WebElement (session=\"f4207426e1115da75d39d5993651df8e\", element=\"7f5fa7b6-8411-48ba-b5f9-dab3fdc427de\")>,\n",
       " <selenium.webdriver.remote.webelement.WebElement (session=\"f4207426e1115da75d39d5993651df8e\", element=\"86e3fd73-8198-4101-9223-aa7925f734d5\")>,\n",
       " <selenium.webdriver.remote.webelement.WebElement (session=\"f4207426e1115da75d39d5993651df8e\", element=\"e94a8f52-908b-4d0d-91d8-29d21def9468\")>,\n",
       " <selenium.webdriver.remote.webelement.WebElement (session=\"f4207426e1115da75d39d5993651df8e\", element=\"60fe5b91-b6cc-482a-8483-1c07439f85dd\")>,\n",
       " <selenium.webdriver.remote.webelement.WebElement (session=\"f4207426e1115da75d39d5993651df8e\", element=\"e99ae08c-ad78-44b0-aeac-cd43f04051de\")>,\n",
       " <selenium.webdriver.remote.webelement.WebElement (session=\"f4207426e1115da75d39d5993651df8e\", element=\"c908dc2a-371f-460b-97dd-abc4547df7c0\")>,\n",
       " <selenium.webdriver.remote.webelement.WebElement (session=\"f4207426e1115da75d39d5993651df8e\", element=\"32540e91-ee79-4eec-a7dd-eac65d9333dd\")>,\n",
       " <selenium.webdriver.remote.webelement.WebElement (session=\"f4207426e1115da75d39d5993651df8e\", element=\"3f575403-6e9e-4c14-b364-a8e736f866d8\")>,\n",
       " <selenium.webdriver.remote.webelement.WebElement (session=\"f4207426e1115da75d39d5993651df8e\", element=\"abfac7ac-d433-4a96-a57d-e97ef1907d62\")>,\n",
       " <selenium.webdriver.remote.webelement.WebElement (session=\"f4207426e1115da75d39d5993651df8e\", element=\"2a6edbaf-bc6f-4116-8208-2dd72042d112\")>,\n",
       " <selenium.webdriver.remote.webelement.WebElement (session=\"f4207426e1115da75d39d5993651df8e\", element=\"2d281fdf-0da6-483b-9ab8-110da4918281\")>,\n",
       " <selenium.webdriver.remote.webelement.WebElement (session=\"f4207426e1115da75d39d5993651df8e\", element=\"abad820d-6312-448a-8e56-fea6af69101f\")>,\n",
       " <selenium.webdriver.remote.webelement.WebElement (session=\"f4207426e1115da75d39d5993651df8e\", element=\"57bfce09-3410-4a1b-a70c-2dbde9affd79\")>,\n",
       " <selenium.webdriver.remote.webelement.WebElement (session=\"f4207426e1115da75d39d5993651df8e\", element=\"66df20c2-ffc3-4cae-93c8-47ea60c23d81\")>,\n",
       " <selenium.webdriver.remote.webelement.WebElement (session=\"f4207426e1115da75d39d5993651df8e\", element=\"644a36e7-1939-46ba-b777-2a5dc9901f22\")>,\n",
       " <selenium.webdriver.remote.webelement.WebElement (session=\"f4207426e1115da75d39d5993651df8e\", element=\"33da4cff-46e9-4c69-868f-7091b6896126\")>,\n",
       " <selenium.webdriver.remote.webelement.WebElement (session=\"f4207426e1115da75d39d5993651df8e\", element=\"76bd9da4-b2ff-44ec-9e56-8f05f14ffb55\")>,\n",
       " <selenium.webdriver.remote.webelement.WebElement (session=\"f4207426e1115da75d39d5993651df8e\", element=\"9be9f4f6-b9b0-48d0-a0e2-b87e73c7dc23\")>,\n",
       " <selenium.webdriver.remote.webelement.WebElement (session=\"f4207426e1115da75d39d5993651df8e\", element=\"2e3a9ab2-0703-4a85-ad79-5a6ed134d046\")>,\n",
       " <selenium.webdriver.remote.webelement.WebElement (session=\"f4207426e1115da75d39d5993651df8e\", element=\"ef32e916-d640-4da5-bec6-d96491bb0b61\")>,\n",
       " <selenium.webdriver.remote.webelement.WebElement (session=\"f4207426e1115da75d39d5993651df8e\", element=\"024f73a1-7ccd-496f-a77e-c36ad86deccb\")>,\n",
       " <selenium.webdriver.remote.webelement.WebElement (session=\"f4207426e1115da75d39d5993651df8e\", element=\"c3c03a10-fbb1-4a76-9d44-f4746b95e37a\")>,\n",
       " <selenium.webdriver.remote.webelement.WebElement (session=\"f4207426e1115da75d39d5993651df8e\", element=\"1f3ea324-52b2-4573-b88f-6dc2f5bcdd12\")>,\n",
       " <selenium.webdriver.remote.webelement.WebElement (session=\"f4207426e1115da75d39d5993651df8e\", element=\"2b1d19ea-27cf-47df-9e71-bb8bf1c9c1ee\")>,\n",
       " <selenium.webdriver.remote.webelement.WebElement (session=\"f4207426e1115da75d39d5993651df8e\", element=\"8c6e193c-5d6a-4395-8d04-aa8cb93c01a2\")>,\n",
       " <selenium.webdriver.remote.webelement.WebElement (session=\"f4207426e1115da75d39d5993651df8e\", element=\"e07e9c45-b534-4341-8acb-e2509021e3ce\")>,\n",
       " <selenium.webdriver.remote.webelement.WebElement (session=\"f4207426e1115da75d39d5993651df8e\", element=\"74aec31e-464d-46bd-be60-36c492179c97\")>,\n",
       " <selenium.webdriver.remote.webelement.WebElement (session=\"f4207426e1115da75d39d5993651df8e\", element=\"b5c327ac-207c-44d0-9743-84ef7e0eb09a\")>,\n",
       " <selenium.webdriver.remote.webelement.WebElement (session=\"f4207426e1115da75d39d5993651df8e\", element=\"cf937474-802d-4daf-a791-49a051d2eb65\")>,\n",
       " <selenium.webdriver.remote.webelement.WebElement (session=\"f4207426e1115da75d39d5993651df8e\", element=\"d4701b2f-78ae-4431-bdf1-7eb62c80af2f\")>,\n",
       " <selenium.webdriver.remote.webelement.WebElement (session=\"f4207426e1115da75d39d5993651df8e\", element=\"2da2ffa8-522b-4220-99e3-36ea27f151fb\")>,\n",
       " <selenium.webdriver.remote.webelement.WebElement (session=\"f4207426e1115da75d39d5993651df8e\", element=\"a7cd7e04-3d20-4b1b-a2ee-7f6eeace3a6e\")>,\n",
       " <selenium.webdriver.remote.webelement.WebElement (session=\"f4207426e1115da75d39d5993651df8e\", element=\"a63a1fc7-43db-49e5-80cd-423475b29924\")>,\n",
       " <selenium.webdriver.remote.webelement.WebElement (session=\"f4207426e1115da75d39d5993651df8e\", element=\"19657fb6-8640-4ab3-b481-57684abb6c6d\")>,\n",
       " <selenium.webdriver.remote.webelement.WebElement (session=\"f4207426e1115da75d39d5993651df8e\", element=\"8e9ac84a-877e-4af3-bd69-f105252c3aa4\")>,\n",
       " <selenium.webdriver.remote.webelement.WebElement (session=\"f4207426e1115da75d39d5993651df8e\", element=\"a2a0e6c9-b225-4918-ad97-bdfdf3fca988\")>,\n",
       " <selenium.webdriver.remote.webelement.WebElement (session=\"f4207426e1115da75d39d5993651df8e\", element=\"f64f835f-f6a7-4035-a52a-1660ad4c9d4d\")>,\n",
       " <selenium.webdriver.remote.webelement.WebElement (session=\"f4207426e1115da75d39d5993651df8e\", element=\"8d1a3fb7-58bb-4d29-9e3c-9961422e8381\")>,\n",
       " <selenium.webdriver.remote.webelement.WebElement (session=\"f4207426e1115da75d39d5993651df8e\", element=\"1813a61d-266c-4d33-871b-9edbfb18812e\")>,\n",
       " <selenium.webdriver.remote.webelement.WebElement (session=\"f4207426e1115da75d39d5993651df8e\", element=\"4e1c9511-a070-415b-b71b-e60e49d06863\")>,\n",
       " <selenium.webdriver.remote.webelement.WebElement (session=\"f4207426e1115da75d39d5993651df8e\", element=\"85783697-2373-419d-a448-949eb459f985\")>,\n",
       " <selenium.webdriver.remote.webelement.WebElement (session=\"f4207426e1115da75d39d5993651df8e\", element=\"3d4779d2-a2a7-4696-bc2a-5382b069ff05\")>,\n",
       " <selenium.webdriver.remote.webelement.WebElement (session=\"f4207426e1115da75d39d5993651df8e\", element=\"fe0ebb67-85ef-4817-b3e0-58897b7f91c5\")>,\n",
       " <selenium.webdriver.remote.webelement.WebElement (session=\"f4207426e1115da75d39d5993651df8e\", element=\"f6aa0b39-3214-4336-8415-28666cbec3af\")>,\n",
       " <selenium.webdriver.remote.webelement.WebElement (session=\"f4207426e1115da75d39d5993651df8e\", element=\"d2c17f18-df22-40d7-883e-b12ea28be8a5\")>,\n",
       " <selenium.webdriver.remote.webelement.WebElement (session=\"f4207426e1115da75d39d5993651df8e\", element=\"b8cce9f2-7d6b-467d-bc57-19bb27476af6\")>,\n",
       " <selenium.webdriver.remote.webelement.WebElement (session=\"f4207426e1115da75d39d5993651df8e\", element=\"69cecabe-8fdb-4eac-b9a8-17d81ebd8834\")>,\n",
       " <selenium.webdriver.remote.webelement.WebElement (session=\"f4207426e1115da75d39d5993651df8e\", element=\"53562773-7369-4a32-8afd-8bd80cedc262\")>,\n",
       " <selenium.webdriver.remote.webelement.WebElement (session=\"f4207426e1115da75d39d5993651df8e\", element=\"8e762139-3e43-4a86-ac02-259ba2dfff96\")>,\n",
       " <selenium.webdriver.remote.webelement.WebElement (session=\"f4207426e1115da75d39d5993651df8e\", element=\"ac6a5b06-9984-4546-9b6d-1ede8b024d48\")>,\n",
       " <selenium.webdriver.remote.webelement.WebElement (session=\"f4207426e1115da75d39d5993651df8e\", element=\"49cb0b94-04c4-48c8-9731-0aa078e81c16\")>,\n",
       " <selenium.webdriver.remote.webelement.WebElement (session=\"f4207426e1115da75d39d5993651df8e\", element=\"dbe79cf2-a9b4-41e6-9297-39d9a12e5973\")>,\n",
       " <selenium.webdriver.remote.webelement.WebElement (session=\"f4207426e1115da75d39d5993651df8e\", element=\"8a06b25f-f584-4f5e-b9df-94dc90234890\")>,\n",
       " <selenium.webdriver.remote.webelement.WebElement (session=\"f4207426e1115da75d39d5993651df8e\", element=\"6ab27834-f7a2-48fb-b2cf-04b408aeeeec\")>,\n",
       " <selenium.webdriver.remote.webelement.WebElement (session=\"f4207426e1115da75d39d5993651df8e\", element=\"1b3eaa93-762d-4776-b928-ef1e595a96b5\")>,\n",
       " <selenium.webdriver.remote.webelement.WebElement (session=\"f4207426e1115da75d39d5993651df8e\", element=\"2b02c569-30ca-4525-a3bf-96b9ab1d1b14\")>,\n",
       " <selenium.webdriver.remote.webelement.WebElement (session=\"f4207426e1115da75d39d5993651df8e\", element=\"d063bea9-e3c4-4395-8ab4-cd110e539ba1\")>,\n",
       " <selenium.webdriver.remote.webelement.WebElement (session=\"f4207426e1115da75d39d5993651df8e\", element=\"764addff-a85f-40e3-b77e-61c2a43479ad\")>,\n",
       " <selenium.webdriver.remote.webelement.WebElement (session=\"f4207426e1115da75d39d5993651df8e\", element=\"c5b05c65-eae3-4c28-aeec-6838e8ba38b7\")>,\n",
       " <selenium.webdriver.remote.webelement.WebElement (session=\"f4207426e1115da75d39d5993651df8e\", element=\"8643960b-7e0d-4338-a4d7-cb6923268814\")>,\n",
       " <selenium.webdriver.remote.webelement.WebElement (session=\"f4207426e1115da75d39d5993651df8e\", element=\"5ee38a34-b5d1-4ef3-aac9-d16432e48e0d\")>,\n",
       " <selenium.webdriver.remote.webelement.WebElement (session=\"f4207426e1115da75d39d5993651df8e\", element=\"c4c8c320-c2cc-4eeb-85b6-abe31a51355d\")>,\n",
       " <selenium.webdriver.remote.webelement.WebElement (session=\"f4207426e1115da75d39d5993651df8e\", element=\"9f553d3c-225e-43f0-90ac-e72fa8242af0\")>,\n",
       " <selenium.webdriver.remote.webelement.WebElement (session=\"f4207426e1115da75d39d5993651df8e\", element=\"2f0a8dd5-36cd-4ebf-9a3b-8f6bde1b9625\")>,\n",
       " <selenium.webdriver.remote.webelement.WebElement (session=\"f4207426e1115da75d39d5993651df8e\", element=\"889d4d57-9c15-4e3d-bc39-b7b344c735eb\")>,\n",
       " <selenium.webdriver.remote.webelement.WebElement (session=\"f4207426e1115da75d39d5993651df8e\", element=\"b62643e0-d5cb-4d07-97fa-7147c8054e72\")>,\n",
       " <selenium.webdriver.remote.webelement.WebElement (session=\"f4207426e1115da75d39d5993651df8e\", element=\"7b12a14d-1e14-4622-b6a2-700077a05d13\")>,\n",
       " <selenium.webdriver.remote.webelement.WebElement (session=\"f4207426e1115da75d39d5993651df8e\", element=\"8f6633e4-6cdd-444d-9255-de515fd418ac\")>,\n",
       " <selenium.webdriver.remote.webelement.WebElement (session=\"f4207426e1115da75d39d5993651df8e\", element=\"c35c1a83-5c42-48b7-b3a1-37c0a4281b36\")>,\n",
       " <selenium.webdriver.remote.webelement.WebElement (session=\"f4207426e1115da75d39d5993651df8e\", element=\"dbd07256-d7c0-42bb-a314-8c90aeb8abf7\")>,\n",
       " <selenium.webdriver.remote.webelement.WebElement (session=\"f4207426e1115da75d39d5993651df8e\", element=\"a67f27fe-5974-430c-83c7-53223a326fd1\")>,\n",
       " <selenium.webdriver.remote.webelement.WebElement (session=\"f4207426e1115da75d39d5993651df8e\", element=\"e9448872-60ec-4584-9a8c-f01726d42eeb\")>,\n",
       " <selenium.webdriver.remote.webelement.WebElement (session=\"f4207426e1115da75d39d5993651df8e\", element=\"d22510c8-73e9-413f-9d17-5240dd40699f\")>,\n",
       " <selenium.webdriver.remote.webelement.WebElement (session=\"f4207426e1115da75d39d5993651df8e\", element=\"57c0b481-9e70-43d4-adaf-d4c717d773d6\")>,\n",
       " <selenium.webdriver.remote.webelement.WebElement (session=\"f4207426e1115da75d39d5993651df8e\", element=\"ece73c76-0644-45ee-af3b-7071af5e0e52\")>,\n",
       " <selenium.webdriver.remote.webelement.WebElement (session=\"f4207426e1115da75d39d5993651df8e\", element=\"4b25f360-02a5-4f4a-9bba-b4d03d66243e\")>,\n",
       " <selenium.webdriver.remote.webelement.WebElement (session=\"f4207426e1115da75d39d5993651df8e\", element=\"c96bc9d5-b996-441a-a7be-c88894733758\")>,\n",
       " <selenium.webdriver.remote.webelement.WebElement (session=\"f4207426e1115da75d39d5993651df8e\", element=\"a79be1c5-82c0-422d-b989-395dcfeee5cc\")>,\n",
       " <selenium.webdriver.remote.webelement.WebElement (session=\"f4207426e1115da75d39d5993651df8e\", element=\"7b77f2af-e25f-4cf0-9dfe-a6cfeff28e25\")>,\n",
       " <selenium.webdriver.remote.webelement.WebElement (session=\"f4207426e1115da75d39d5993651df8e\", element=\"c9a64b80-7d80-4427-abfc-beb6df47f53f\")>,\n",
       " <selenium.webdriver.remote.webelement.WebElement (session=\"f4207426e1115da75d39d5993651df8e\", element=\"6f75ef25-6e55-4501-8de7-307c9be6e35d\")>,\n",
       " <selenium.webdriver.remote.webelement.WebElement (session=\"f4207426e1115da75d39d5993651df8e\", element=\"cd8fb7be-d7b7-42d7-9831-29e88e636d7c\")>,\n",
       " <selenium.webdriver.remote.webelement.WebElement (session=\"f4207426e1115da75d39d5993651df8e\", element=\"e4367d88-34ac-4ffa-9af0-47c643fb36d5\")>,\n",
       " <selenium.webdriver.remote.webelement.WebElement (session=\"f4207426e1115da75d39d5993651df8e\", element=\"e5d04a16-ec85-4f02-aca3-8cfa62a339ca\")>,\n",
       " <selenium.webdriver.remote.webelement.WebElement (session=\"f4207426e1115da75d39d5993651df8e\", element=\"a40b356c-8ab2-4daa-8608-81ff38b4006e\")>,\n",
       " <selenium.webdriver.remote.webelement.WebElement (session=\"f4207426e1115da75d39d5993651df8e\", element=\"842a5dd4-6968-4df4-ba35-4bc9d83511dd\")>,\n",
       " <selenium.webdriver.remote.webelement.WebElement (session=\"f4207426e1115da75d39d5993651df8e\", element=\"9fe44a6a-a05f-4ff8-88e4-6dd3aad0960a\")>,\n",
       " <selenium.webdriver.remote.webelement.WebElement (session=\"f4207426e1115da75d39d5993651df8e\", element=\"074a2723-93fb-4c17-954b-a01d7afa4f58\")>,\n",
       " <selenium.webdriver.remote.webelement.WebElement (session=\"f4207426e1115da75d39d5993651df8e\", element=\"75af7b49-12f8-43b3-b7b4-a83f5ed59739\")>,\n",
       " <selenium.webdriver.remote.webelement.WebElement (session=\"f4207426e1115da75d39d5993651df8e\", element=\"99d12687-253b-45c1-a2a2-c277d176e08d\")>,\n",
       " <selenium.webdriver.remote.webelement.WebElement (session=\"f4207426e1115da75d39d5993651df8e\", element=\"eb483fc7-03a8-4233-8ec9-89692862973d\")>,\n",
       " <selenium.webdriver.remote.webelement.WebElement (session=\"f4207426e1115da75d39d5993651df8e\", element=\"a5fc1bff-1eaa-43a9-a3d7-8550e0a04f52\")>,\n",
       " <selenium.webdriver.remote.webelement.WebElement (session=\"f4207426e1115da75d39d5993651df8e\", element=\"2dcfa09a-38cf-4050-ad99-9492305a8b13\")>,\n",
       " <selenium.webdriver.remote.webelement.WebElement (session=\"f4207426e1115da75d39d5993651df8e\", element=\"c0a13206-75ce-4a42-9fec-5866e4c710c2\")>,\n",
       " <selenium.webdriver.remote.webelement.WebElement (session=\"f4207426e1115da75d39d5993651df8e\", element=\"0d0a29cc-697b-42c7-a694-46b06cad1f6f\")>,\n",
       " <selenium.webdriver.remote.webelement.WebElement (session=\"f4207426e1115da75d39d5993651df8e\", element=\"c5b8f95c-356a-4d43-8e3c-a9d192e9fa08\")>,\n",
       " <selenium.webdriver.remote.webelement.WebElement (session=\"f4207426e1115da75d39d5993651df8e\", element=\"a0e1ffde-6515-4681-a45d-90f44c2eb50f\")>,\n",
       " <selenium.webdriver.remote.webelement.WebElement (session=\"f4207426e1115da75d39d5993651df8e\", element=\"992039c9-5369-4967-962f-a466181ead5c\")>,\n",
       " <selenium.webdriver.remote.webelement.WebElement (session=\"f4207426e1115da75d39d5993651df8e\", element=\"9a67e80a-2962-4e46-9b5c-b91ca98eca60\")>,\n",
       " <selenium.webdriver.remote.webelement.WebElement (session=\"f4207426e1115da75d39d5993651df8e\", element=\"4f5f2fb7-87dd-4911-8a36-ebc4bea1ffce\")>,\n",
       " <selenium.webdriver.remote.webelement.WebElement (session=\"f4207426e1115da75d39d5993651df8e\", element=\"320749d6-fdc6-42fc-8d7d-bac797fbba7a\")>,\n",
       " <selenium.webdriver.remote.webelement.WebElement (session=\"f4207426e1115da75d39d5993651df8e\", element=\"7a839d8f-c6db-4d9b-abd2-004c219aa6f8\")>,\n",
       " <selenium.webdriver.remote.webelement.WebElement (session=\"f4207426e1115da75d39d5993651df8e\", element=\"c8ae8740-e25e-417e-830e-3efc67806be5\")>,\n",
       " <selenium.webdriver.remote.webelement.WebElement (session=\"f4207426e1115da75d39d5993651df8e\", element=\"40475aab-25c7-4a7a-bf39-b993c237608e\")>,\n",
       " <selenium.webdriver.remote.webelement.WebElement (session=\"f4207426e1115da75d39d5993651df8e\", element=\"1b420b30-1f7a-4e40-828c-694e82980fc0\")>,\n",
       " <selenium.webdriver.remote.webelement.WebElement (session=\"f4207426e1115da75d39d5993651df8e\", element=\"ccef458f-66d0-46fa-91cd-e714edd44e65\")>,\n",
       " <selenium.webdriver.remote.webelement.WebElement (session=\"f4207426e1115da75d39d5993651df8e\", element=\"4e47c42c-07fc-4adc-9ce3-7dfef9b591f0\")>,\n",
       " <selenium.webdriver.remote.webelement.WebElement (session=\"f4207426e1115da75d39d5993651df8e\", element=\"0a970bb1-3dc0-46a9-b410-242c436f1e2c\")>,\n",
       " <selenium.webdriver.remote.webelement.WebElement (session=\"f4207426e1115da75d39d5993651df8e\", element=\"a91ab133-ab33-4c8c-9e2c-649ffe48a67b\")>,\n",
       " <selenium.webdriver.remote.webelement.WebElement (session=\"f4207426e1115da75d39d5993651df8e\", element=\"565a046b-6433-49dc-b226-8ecceecddc65\")>,\n",
       " <selenium.webdriver.remote.webelement.WebElement (session=\"f4207426e1115da75d39d5993651df8e\", element=\"48fa8f21-0bd6-4eff-aee0-73be4b9d032d\")>,\n",
       " <selenium.webdriver.remote.webelement.WebElement (session=\"f4207426e1115da75d39d5993651df8e\", element=\"790bf188-009d-4b3d-a3af-25a82f2bf42d\")>,\n",
       " <selenium.webdriver.remote.webelement.WebElement (session=\"f4207426e1115da75d39d5993651df8e\", element=\"5b4e8378-ca0b-4887-937f-ad2fdd9a9035\")>,\n",
       " <selenium.webdriver.remote.webelement.WebElement (session=\"f4207426e1115da75d39d5993651df8e\", element=\"2dbb747f-ddf4-4052-8cdd-c8eb90ab61a7\")>,\n",
       " <selenium.webdriver.remote.webelement.WebElement (session=\"f4207426e1115da75d39d5993651df8e\", element=\"d9bea7e0-b805-4eae-9056-49a8d43bc3d6\")>,\n",
       " <selenium.webdriver.remote.webelement.WebElement (session=\"f4207426e1115da75d39d5993651df8e\", element=\"a6d8d955-63eb-4029-9fe0-2271ea43f110\")>,\n",
       " <selenium.webdriver.remote.webelement.WebElement (session=\"f4207426e1115da75d39d5993651df8e\", element=\"2515bcba-bec4-4b45-b610-3802faa66694\")>,\n",
       " <selenium.webdriver.remote.webelement.WebElement (session=\"f4207426e1115da75d39d5993651df8e\", element=\"50361b76-6e73-4559-8425-da1dce470863\")>,\n",
       " <selenium.webdriver.remote.webelement.WebElement (session=\"f4207426e1115da75d39d5993651df8e\", element=\"fd79f16a-bc10-4cc4-80cb-0419685e9930\")>,\n",
       " <selenium.webdriver.remote.webelement.WebElement (session=\"f4207426e1115da75d39d5993651df8e\", element=\"b5937535-5dec-4075-8668-35cb9be6fd0f\")>,\n",
       " <selenium.webdriver.remote.webelement.WebElement (session=\"f4207426e1115da75d39d5993651df8e\", element=\"534b655f-ee00-41ab-a335-01b47889d6c4\")>,\n",
       " <selenium.webdriver.remote.webelement.WebElement (session=\"f4207426e1115da75d39d5993651df8e\", element=\"47ebd6c7-403b-4350-a2d9-8cd8531b5bcc\")>,\n",
       " <selenium.webdriver.remote.webelement.WebElement (session=\"f4207426e1115da75d39d5993651df8e\", element=\"e63557cc-4a00-45ae-a8fa-e2a90747478b\")>,\n",
       " <selenium.webdriver.remote.webelement.WebElement (session=\"f4207426e1115da75d39d5993651df8e\", element=\"38e3a935-ef84-409f-9f70-4900c82707d9\")>,\n",
       " <selenium.webdriver.remote.webelement.WebElement (session=\"f4207426e1115da75d39d5993651df8e\", element=\"8514a943-6964-44c2-99c9-eb441ce473da\")>,\n",
       " <selenium.webdriver.remote.webelement.WebElement (session=\"f4207426e1115da75d39d5993651df8e\", element=\"a3690534-4503-4ff9-8d3b-cc425a6bbe8b\")>,\n",
       " <selenium.webdriver.remote.webelement.WebElement (session=\"f4207426e1115da75d39d5993651df8e\", element=\"7e5eb73f-022b-478f-a79f-5830f620f41d\")>,\n",
       " <selenium.webdriver.remote.webelement.WebElement (session=\"f4207426e1115da75d39d5993651df8e\", element=\"8e286768-3961-418d-8cbf-074cd925abb8\")>,\n",
       " <selenium.webdriver.remote.webelement.WebElement (session=\"f4207426e1115da75d39d5993651df8e\", element=\"05223515-f80a-42c2-960b-543df551ed95\")>,\n",
       " <selenium.webdriver.remote.webelement.WebElement (session=\"f4207426e1115da75d39d5993651df8e\", element=\"c6a9cecf-a62b-4c50-bf02-f65554656b46\")>,\n",
       " <selenium.webdriver.remote.webelement.WebElement (session=\"f4207426e1115da75d39d5993651df8e\", element=\"002f9b43-a7dc-4e13-9273-9902372ffb1d\")>,\n",
       " <selenium.webdriver.remote.webelement.WebElement (session=\"f4207426e1115da75d39d5993651df8e\", element=\"d8da0a6f-79e7-4225-81bc-7d739ee33782\")>,\n",
       " <selenium.webdriver.remote.webelement.WebElement (session=\"f4207426e1115da75d39d5993651df8e\", element=\"2aaaadd5-8a90-461b-99e9-3852fd7eb704\")>,\n",
       " <selenium.webdriver.remote.webelement.WebElement (session=\"f4207426e1115da75d39d5993651df8e\", element=\"705b1ebb-f6cd-4dfc-a03b-c6126de54e69\")>,\n",
       " <selenium.webdriver.remote.webelement.WebElement (session=\"f4207426e1115da75d39d5993651df8e\", element=\"ba38efa6-8522-4524-8d42-23b475d9ae3e\")>,\n",
       " <selenium.webdriver.remote.webelement.WebElement (session=\"f4207426e1115da75d39d5993651df8e\", element=\"cb29f585-5164-48e3-95d1-5216e11eea75\")>,\n",
       " <selenium.webdriver.remote.webelement.WebElement (session=\"f4207426e1115da75d39d5993651df8e\", element=\"74dec6fe-a118-4636-a5be-429437df98a0\")>,\n",
       " <selenium.webdriver.remote.webelement.WebElement (session=\"f4207426e1115da75d39d5993651df8e\", element=\"fdc2884d-e4d4-4764-b23a-1e8a6478fc0a\")>,\n",
       " <selenium.webdriver.remote.webelement.WebElement (session=\"f4207426e1115da75d39d5993651df8e\", element=\"250f96d0-decb-4dcc-a596-b5666af0a947\")>,\n",
       " <selenium.webdriver.remote.webelement.WebElement (session=\"f4207426e1115da75d39d5993651df8e\", element=\"87b10897-bc41-451b-9aa0-d4ac41b7f87f\")>,\n",
       " <selenium.webdriver.remote.webelement.WebElement (session=\"f4207426e1115da75d39d5993651df8e\", element=\"672d5a6e-4c56-411c-b5c6-681b417e5961\")>]"
      ]
     },
     "execution_count": 135,
     "metadata": {},
     "output_type": "execute_result"
    }
   ],
   "source": [
    "battery_capacity=driver.find_elements_by_xpath('//li[@class=\"rgWa7D\"]')\n",
    "battery_capacity"
   ]
  },
  {
   "cell_type": "code",
   "execution_count": 136,
   "id": "4596cd67",
   "metadata": {
    "scrolled": false
   },
   "outputs": [
    {
     "data": {
      "text/plain": [
       "['4 GB RAM | 64 GB ROM | Expandable Upto 512 GB',\n",
       " '16.59 cm (6.53 inch) HD+ Display',\n",
       " '13MP + 2MP + 2MP | 5MP Front Camera',\n",
       " '5000 mAh Lithium-ion Polymer Battery',\n",
       " 'MediaTek Helio G35 Processor',\n",
       " '1 Year Warranty for Handset, 6 Months for Accessories',\n",
       " '4 GB RAM | 64 GB ROM | Expandable Upto 1 TB',\n",
       " '16.76 cm (6.6 inch) Full HD+ Display',\n",
       " '50MP + 2MP + 0.3MP | 8MP Front Camera',\n",
       " '5000 mAh Lithium Polymer Battery',\n",
       " 'Unisoc Tiger T616 Processor',\n",
       " '1 Year Warranty for Phone and 6 Months Warranty for In-Box Accessories',\n",
       " '4 GB RAM | 64 GB ROM | Expandable Upto 512 GB',\n",
       " '16.59 cm (6.53 inch) HD+ Display',\n",
       " '13MP + 2MP + 2MP | 5MP Front Camera',\n",
       " '5000 mAh Lithium-ion Polymer Battery',\n",
       " 'MediaTek Helio G35 Processor',\n",
       " '1 Year Warranty for Handset, 6 Months for Accessories',\n",
       " '6 GB RAM | 128 GB ROM | Expandable Upto 1 TB',\n",
       " '17.02 cm (6.7 inch) HD+ Display',\n",
       " '50MP + 2MP | 5MP Front Camera',\n",
       " '6000 mAh Lithium Polymer Battery',\n",
       " 'Qualcomm Snapdragon 680 Processor',\n",
       " '1 Year Warranty for Phone and 6 Months Warranty for In-Box Accessories',\n",
       " '3 GB RAM | 32 GB ROM | Expandable Upto 512 GB',\n",
       " '16.59 cm (6.53 inch) HD+ Display',\n",
       " '13MP + 2MP + 2MP | 5MP Front Camera',\n",
       " '5000 mAh Lithium-ion Polymer Battery',\n",
       " 'MediaTek Helio G35 Processor',\n",
       " '1 Year Warranty for Handset, 6 Months for Accessories',\n",
       " '2 GB RAM | 32 GB ROM | Expandable Upto 256 GB',\n",
       " '16.51 cm (6.5 inch) HD+ Display',\n",
       " '8MP Rear Camera | 5MP Front Camera',\n",
       " '5000 mAh Battery',\n",
       " 'MediaTek Helio G35 Processor',\n",
       " '1 Year Warranty for Mobile and 6 Months for Accessories',\n",
       " '2 GB RAM | 32 GB ROM | Expandable Upto 256 GB',\n",
       " '16.51 cm (6.5 inch) HD+ Display',\n",
       " '8MP Rear Camera | 5MP Front Camera',\n",
       " '5000 mAh Battery',\n",
       " 'MediaTek Helio G35 Processor',\n",
       " '1 Year Warranty for Mobile and 6 Months for Accessories',\n",
       " '4 GB RAM | 64 GB ROM | Expandable Upto 1 TB',\n",
       " '16.76 cm (6.6 inch) Full HD+ Display',\n",
       " '50MP + 2MP + 2MP | 16MP Front Camera',\n",
       " '5000 mAh Lithium ion Battery',\n",
       " 'Qualcomm Snapdragon 680 (SM6225) Processor',\n",
       " '1 Year Manufacturer Warranty for Phone and 6 Months Warranty for in the Box Accessories',\n",
       " '4 GB RAM | 64 GB ROM | Expandable Upto 1 TB',\n",
       " '16.76 cm (6.6 inch) Full HD+ Display',\n",
       " '50MP + 2MP + 2MP | 16MP Front Camera',\n",
       " '5000 mAh Lithium ion Battery',\n",
       " 'Qualcomm Snapdragon 680 (SM6225) Processor',\n",
       " '1 Year Manufacturer Warranty for Phone and 6 Months Warranty for in the Box Accessories',\n",
       " '4 GB RAM | 128 GB ROM | Expandable Upto 1 TB',\n",
       " '16.76 cm (6.6 inch) Full HD+ Display',\n",
       " '50MP + 2MP + 2MP | 16MP Front Camera',\n",
       " '5000 mAh Lithium ion Battery',\n",
       " 'Qualcomm Snapdragon 680 (SM6225) Processor',\n",
       " '1 Year Manufacturer Warranty for Phone and 6 Months Warranty for in the Box Accessories',\n",
       " '4 GB RAM | 128 GB ROM | Expandable Upto 1 TB',\n",
       " '16.76 cm (6.6 inch) Full HD+ Display',\n",
       " '50MP + 2MP + 0.3MP | 8MP Front Camera',\n",
       " '5000 mAh Lithium Polymer Battery',\n",
       " 'Unisoc Tiger T616 Processor',\n",
       " '1 Year Warranty for Phone and 6 Months Warranty for In-Box Accessories',\n",
       " '4 GB RAM | 64 GB ROM | Expandable Upto 256 GB',\n",
       " '16.51 cm (6.5 inch) HD+ Display',\n",
       " '50MP + 2MP + 2MP | 8MP Front Camera',\n",
       " '5000 mAh Battery',\n",
       " 'Unisoc T610 Octa Core Processor',\n",
       " '1 Year Warranty for Mobile and 6 Months for Accessories',\n",
       " '4 GB RAM | 64 GB ROM | Expandable Upto 1 TB',\n",
       " '16.51 cm (6.5 inch) Full HD+ Display',\n",
       " '48MP + 2MP + 2MP | 8MP Front Camera',\n",
       " '5000 mAh Lithium-ion Polymer Battery',\n",
       " 'MediaTek Dimensity 700 Processor',\n",
       " 'Multiple Hands-free Voice Assistant',\n",
       " 'One Year Warranty for Handset, 6 Months for Accessories',\n",
       " '6 GB RAM | 128 GB ROM | Expandable Upto 1 TB',\n",
       " '16.51 cm (6.5 inch) Full HD+ Display',\n",
       " '48MP + 2MP + 2MP | 8MP Front Camera',\n",
       " '5000 mAh Lithium-ion Polymer Battery',\n",
       " 'MediaTek Dimensity 700 Processor',\n",
       " 'Multiple Hands-free Voice Assistant',\n",
       " 'One Year Warranty for Handset, 6 Months for Accessories',\n",
       " '4 GB RAM | 64 GB ROM | Expandable Upto 1 TB',\n",
       " '16.51 cm (6.5 inch) Full HD+ Display',\n",
       " '48MP + 2MP + 2MP | 8MP Front Camera',\n",
       " '5000 mAh Lithium-ion Polymer Battery',\n",
       " 'MediaTek Dimensity 700 Processor',\n",
       " 'Multiple Hands-free Voice Assistant',\n",
       " 'One Year Warranty for Handset, 6 Months for Accessories',\n",
       " '4 GB RAM | 64 GB ROM | Expandable Upto 512 GB',\n",
       " '16.59 cm (6.53 inch) HD+ Display',\n",
       " '13MP Rear Camera | 5MP Front Camera',\n",
       " '5000 mAh Li-Polymer Battery',\n",
       " 'MediaTek Helio G25 Processor',\n",
       " 'Brand Warranty of 1 Year Available for Mobile and 6 Months for Accessories',\n",
       " '4 GB RAM | 64 GB ROM | Expandable Upto 1 TB',\n",
       " '16.51 cm (6.5 inch) Full HD+ Display',\n",
       " '48MP + 2MP + 2MP | 8MP Front Camera',\n",
       " '5000 mAh Lithium-ion Polymer Battery',\n",
       " 'MediaTek Dimensity 700 Processor',\n",
       " 'Multiple Hands-free Voice Assistant',\n",
       " 'One Year Warranty for Handset, 6 Months for Accessories',\n",
       " '6 GB RAM | 128 GB ROM',\n",
       " '17.22 cm (6.78 inch) Full HD+ Display',\n",
       " '108MP + 8MP + 2MP | 32MP Front Camera',\n",
       " '6000 mAh Battery',\n",
       " 'Qualcomm Snapdragon 732G Processor',\n",
       " '120Hz Refresh Rate',\n",
       " 'Stock Android Experience',\n",
       " '1 Year on Handset and 6 Months on Accessories',\n",
       " '6 GB RAM | 128 GB ROM | Expandable Upto 1 TB',\n",
       " '16.76 cm (6.6 inch) Full HD+ Display',\n",
       " '50MP + 2MP + 2MP | 16MP Front Camera',\n",
       " '5000 mAh Lithium ion Battery',\n",
       " 'Qualcomm Snapdragon 680 (SM6225) Processor',\n",
       " '1 Year Manufacturer Warranty for Phone and 6 Months Warranty for in the Box Accessories',\n",
       " '6 GB RAM | 128 GB ROM | Expandable Upto 1 TB',\n",
       " '16.76 cm (6.6 inch) Full HD+ Display',\n",
       " '50MP + 2MP + 2MP | 16MP Front Camera',\n",
       " '5000 mAh Lithium ion Battery',\n",
       " 'Qualcomm Snapdragon 680 (SM6225) Processor',\n",
       " '1 Year Manufacturer Warranty for Phone and 6 Months Warranty for in the Box Accessories',\n",
       " '6 GB RAM | 128 GB ROM',\n",
       " '17.22 cm (6.78 inch) Full HD+ Display',\n",
       " '108MP + 8MP + 2MP | 32MP Front Camera',\n",
       " '6000 mAh Battery',\n",
       " 'Qualcomm Snapdragon 732G Processor',\n",
       " '120Hz Refresh Rate',\n",
       " 'Stock Android Experience',\n",
       " '1 Year on Handset and 6 Months on Accessories',\n",
       " '6 GB RAM | 128 GB ROM | Expandable Upto 1 TB',\n",
       " '16.76 cm (6.6 inch) Full HD+ Display',\n",
       " '50MP + 8MP + 2MP | 8MP Front Camera',\n",
       " '5000 mAh Lithium Ion Battery',\n",
       " 'Qualcomm Snapdragon 750G Processor',\n",
       " '1 Year Warranty Provided by the Manufacturer from Date of Purchase',\n",
       " '6 GB RAM | 128 GB ROM | Expandable Upto 1 TB',\n",
       " '16.76 cm (6.6 inch) Full HD+ Display',\n",
       " '50MP + 8MP + 2MP | 8MP Front Camera',\n",
       " '5000 mAh Lithium Ion Battery',\n",
       " 'Qualcomm Snapdragon 750G Processor',\n",
       " '1 Year Warranty Provided by the Manufacturer from Date of Purchase',\n",
       " '4 GB RAM | 64 GB ROM | Expandable Upto 1 TB',\n",
       " '16.51 cm (6.5 inch) HD+ Display',\n",
       " '48MP + 2MP + 2MP | 8MP Front Camera',\n",
       " '5000 mAh Battery',\n",
       " 'UNISOC T700 Processor',\n",
       " '1 Year on Handset and 6 Months on Accessories']"
      ]
     },
     "execution_count": 136,
     "metadata": {},
     "output_type": "execute_result"
    }
   ],
   "source": [
    "battery_capacity_name=[]\n",
    "for i in battery_capacity:\n",
    "    battery_capacity_name.append(i.text)\n",
    "    \n",
    "battery_capacity_name"
   ]
  },
  {
   "cell_type": "code",
   "execution_count": 137,
   "id": "8f1c9be7",
   "metadata": {},
   "outputs": [
    {
     "name": "stderr",
     "output_type": "stream",
     "text": [
      "<ipython-input-137-d028fb24b5ed>:1: DeprecationWarning: find_elements_by_* commands are deprecated. Please use find_elements() instead\n",
      "  product_url=driver.find_elements_by_xpath('//span[@style=\"margin-left: 5px;\"]')\n"
     ]
    },
    {
     "data": {
      "text/plain": [
       "[]"
      ]
     },
     "execution_count": 137,
     "metadata": {},
     "output_type": "execute_result"
    }
   ],
   "source": [
    "product_url=driver.find_elements_by_xpath('//span[@style=\"margin-left: 5px;\"]')\n",
    "product_url"
   ]
  },
  {
   "cell_type": "code",
   "execution_count": 138,
   "id": "ba306242",
   "metadata": {},
   "outputs": [
    {
     "data": {
      "text/plain": [
       "[]"
      ]
     },
     "execution_count": 138,
     "metadata": {},
     "output_type": "execute_result"
    }
   ],
   "source": [
    "product_url_name=[]\n",
    "for i in product_url:\n",
    "    product_url_name.append(i.text)\n",
    "    \n",
    "product_url_name"
   ]
  },
  {
   "cell_type": "code",
   "execution_count": 139,
   "id": "9710758c",
   "metadata": {},
   "outputs": [
    {
     "ename": "ValueError",
     "evalue": "arrays must all be same length",
     "output_type": "error",
     "traceback": [
      "\u001b[1;31m---------------------------------------------------------------------------\u001b[0m",
      "\u001b[1;31mValueError\u001b[0m                                Traceback (most recent call last)",
      "\u001b[1;32m<ipython-input-139-758e791d2afd>\u001b[0m in \u001b[0;36m<module>\u001b[1;34m\u001b[0m\n\u001b[1;32m----> 1\u001b[1;33m \u001b[0mdf\u001b[0m\u001b[1;33m=\u001b[0m\u001b[0mpd\u001b[0m\u001b[1;33m.\u001b[0m\u001b[0mDataFrame\u001b[0m\u001b[1;33m(\u001b[0m\u001b[1;33m{\u001b[0m\u001b[1;34m'Price'\u001b[0m\u001b[1;33m:\u001b[0m\u001b[0mprice\u001b[0m\u001b[1;33m,\u001b[0m\u001b[1;34m'Brand_name'\u001b[0m\u001b[1;33m:\u001b[0m\u001b[0mbrand_name\u001b[0m\u001b[1;33m,\u001b[0m\u001b[1;34m'Des_name'\u001b[0m\u001b[1;33m:\u001b[0m\u001b[0mdes_name\u001b[0m\u001b[1;33m,\u001b[0m\u001b[1;34m'Colour'\u001b[0m\u001b[1;33m:\u001b[0m\u001b[0mcolour\u001b[0m\u001b[1;33m,\u001b[0m\u001b[1;34m'RAM'\u001b[0m\u001b[1;33m:\u001b[0m\u001b[0mram\u001b[0m\u001b[1;33m,\u001b[0m\u001b[1;34m'Display'\u001b[0m\u001b[1;33m:\u001b[0m\u001b[0mdisplay\u001b[0m\u001b[1;33m,\u001b[0m\u001b[1;34m'Primary_camera'\u001b[0m\u001b[1;33m:\u001b[0m\u001b[0mprimary_camera\u001b[0m\u001b[1;33m,\u001b[0m\u001b[1;34m'Battery_capacity'\u001b[0m\u001b[1;33m:\u001b[0m\u001b[0mbattery_capacity\u001b[0m\u001b[1;33m,\u001b[0m\u001b[1;34m'Product_url'\u001b[0m\u001b[1;33m:\u001b[0m\u001b[0mproduct_url\u001b[0m\u001b[1;33m}\u001b[0m\u001b[1;33m)\u001b[0m\u001b[1;33m\u001b[0m\u001b[1;33m\u001b[0m\u001b[0m\n\u001b[0m\u001b[0;32m      2\u001b[0m \u001b[0mdf\u001b[0m\u001b[1;33m\u001b[0m\u001b[1;33m\u001b[0m\u001b[0m\n",
      "\u001b[1;32mC:\\ProgramData\\Anaconda3\\lib\\site-packages\\pandas\\core\\frame.py\u001b[0m in \u001b[0;36m__init__\u001b[1;34m(self, data, index, columns, dtype, copy)\u001b[0m\n\u001b[0;32m    527\u001b[0m \u001b[1;33m\u001b[0m\u001b[0m\n\u001b[0;32m    528\u001b[0m         \u001b[1;32melif\u001b[0m \u001b[0misinstance\u001b[0m\u001b[1;33m(\u001b[0m\u001b[0mdata\u001b[0m\u001b[1;33m,\u001b[0m \u001b[0mdict\u001b[0m\u001b[1;33m)\u001b[0m\u001b[1;33m:\u001b[0m\u001b[1;33m\u001b[0m\u001b[1;33m\u001b[0m\u001b[0m\n\u001b[1;32m--> 529\u001b[1;33m             \u001b[0mmgr\u001b[0m \u001b[1;33m=\u001b[0m \u001b[0minit_dict\u001b[0m\u001b[1;33m(\u001b[0m\u001b[0mdata\u001b[0m\u001b[1;33m,\u001b[0m \u001b[0mindex\u001b[0m\u001b[1;33m,\u001b[0m \u001b[0mcolumns\u001b[0m\u001b[1;33m,\u001b[0m \u001b[0mdtype\u001b[0m\u001b[1;33m=\u001b[0m\u001b[0mdtype\u001b[0m\u001b[1;33m)\u001b[0m\u001b[1;33m\u001b[0m\u001b[1;33m\u001b[0m\u001b[0m\n\u001b[0m\u001b[0;32m    530\u001b[0m         \u001b[1;32melif\u001b[0m \u001b[0misinstance\u001b[0m\u001b[1;33m(\u001b[0m\u001b[0mdata\u001b[0m\u001b[1;33m,\u001b[0m \u001b[0mma\u001b[0m\u001b[1;33m.\u001b[0m\u001b[0mMaskedArray\u001b[0m\u001b[1;33m)\u001b[0m\u001b[1;33m:\u001b[0m\u001b[1;33m\u001b[0m\u001b[1;33m\u001b[0m\u001b[0m\n\u001b[0;32m    531\u001b[0m             \u001b[1;32mimport\u001b[0m \u001b[0mnumpy\u001b[0m\u001b[1;33m.\u001b[0m\u001b[0mma\u001b[0m\u001b[1;33m.\u001b[0m\u001b[0mmrecords\u001b[0m \u001b[1;32mas\u001b[0m \u001b[0mmrecords\u001b[0m\u001b[1;33m\u001b[0m\u001b[1;33m\u001b[0m\u001b[0m\n",
      "\u001b[1;32mC:\\ProgramData\\Anaconda3\\lib\\site-packages\\pandas\\core\\internals\\construction.py\u001b[0m in \u001b[0;36minit_dict\u001b[1;34m(data, index, columns, dtype)\u001b[0m\n\u001b[0;32m    285\u001b[0m             \u001b[0marr\u001b[0m \u001b[1;32mif\u001b[0m \u001b[1;32mnot\u001b[0m \u001b[0mis_datetime64tz_dtype\u001b[0m\u001b[1;33m(\u001b[0m\u001b[0marr\u001b[0m\u001b[1;33m)\u001b[0m \u001b[1;32melse\u001b[0m \u001b[0marr\u001b[0m\u001b[1;33m.\u001b[0m\u001b[0mcopy\u001b[0m\u001b[1;33m(\u001b[0m\u001b[1;33m)\u001b[0m \u001b[1;32mfor\u001b[0m \u001b[0marr\u001b[0m \u001b[1;32min\u001b[0m \u001b[0marrays\u001b[0m\u001b[1;33m\u001b[0m\u001b[1;33m\u001b[0m\u001b[0m\n\u001b[0;32m    286\u001b[0m         ]\n\u001b[1;32m--> 287\u001b[1;33m     \u001b[1;32mreturn\u001b[0m \u001b[0marrays_to_mgr\u001b[0m\u001b[1;33m(\u001b[0m\u001b[0marrays\u001b[0m\u001b[1;33m,\u001b[0m \u001b[0mdata_names\u001b[0m\u001b[1;33m,\u001b[0m \u001b[0mindex\u001b[0m\u001b[1;33m,\u001b[0m \u001b[0mcolumns\u001b[0m\u001b[1;33m,\u001b[0m \u001b[0mdtype\u001b[0m\u001b[1;33m=\u001b[0m\u001b[0mdtype\u001b[0m\u001b[1;33m)\u001b[0m\u001b[1;33m\u001b[0m\u001b[1;33m\u001b[0m\u001b[0m\n\u001b[0m\u001b[0;32m    288\u001b[0m \u001b[1;33m\u001b[0m\u001b[0m\n\u001b[0;32m    289\u001b[0m \u001b[1;33m\u001b[0m\u001b[0m\n",
      "\u001b[1;32mC:\\ProgramData\\Anaconda3\\lib\\site-packages\\pandas\\core\\internals\\construction.py\u001b[0m in \u001b[0;36marrays_to_mgr\u001b[1;34m(arrays, arr_names, index, columns, dtype, verify_integrity)\u001b[0m\n\u001b[0;32m     78\u001b[0m         \u001b[1;31m# figure out the index, if necessary\u001b[0m\u001b[1;33m\u001b[0m\u001b[1;33m\u001b[0m\u001b[1;33m\u001b[0m\u001b[0m\n\u001b[0;32m     79\u001b[0m         \u001b[1;32mif\u001b[0m \u001b[0mindex\u001b[0m \u001b[1;32mis\u001b[0m \u001b[1;32mNone\u001b[0m\u001b[1;33m:\u001b[0m\u001b[1;33m\u001b[0m\u001b[1;33m\u001b[0m\u001b[0m\n\u001b[1;32m---> 80\u001b[1;33m             \u001b[0mindex\u001b[0m \u001b[1;33m=\u001b[0m \u001b[0mextract_index\u001b[0m\u001b[1;33m(\u001b[0m\u001b[0marrays\u001b[0m\u001b[1;33m)\u001b[0m\u001b[1;33m\u001b[0m\u001b[1;33m\u001b[0m\u001b[0m\n\u001b[0m\u001b[0;32m     81\u001b[0m         \u001b[1;32melse\u001b[0m\u001b[1;33m:\u001b[0m\u001b[1;33m\u001b[0m\u001b[1;33m\u001b[0m\u001b[0m\n\u001b[0;32m     82\u001b[0m             \u001b[0mindex\u001b[0m \u001b[1;33m=\u001b[0m \u001b[0mensure_index\u001b[0m\u001b[1;33m(\u001b[0m\u001b[0mindex\u001b[0m\u001b[1;33m)\u001b[0m\u001b[1;33m\u001b[0m\u001b[1;33m\u001b[0m\u001b[0m\n",
      "\u001b[1;32mC:\\ProgramData\\Anaconda3\\lib\\site-packages\\pandas\\core\\internals\\construction.py\u001b[0m in \u001b[0;36mextract_index\u001b[1;34m(data)\u001b[0m\n\u001b[0;32m    399\u001b[0m             \u001b[0mlengths\u001b[0m \u001b[1;33m=\u001b[0m \u001b[0mlist\u001b[0m\u001b[1;33m(\u001b[0m\u001b[0mset\u001b[0m\u001b[1;33m(\u001b[0m\u001b[0mraw_lengths\u001b[0m\u001b[1;33m)\u001b[0m\u001b[1;33m)\u001b[0m\u001b[1;33m\u001b[0m\u001b[1;33m\u001b[0m\u001b[0m\n\u001b[0;32m    400\u001b[0m             \u001b[1;32mif\u001b[0m \u001b[0mlen\u001b[0m\u001b[1;33m(\u001b[0m\u001b[0mlengths\u001b[0m\u001b[1;33m)\u001b[0m \u001b[1;33m>\u001b[0m \u001b[1;36m1\u001b[0m\u001b[1;33m:\u001b[0m\u001b[1;33m\u001b[0m\u001b[1;33m\u001b[0m\u001b[0m\n\u001b[1;32m--> 401\u001b[1;33m                 \u001b[1;32mraise\u001b[0m \u001b[0mValueError\u001b[0m\u001b[1;33m(\u001b[0m\u001b[1;34m\"arrays must all be same length\"\u001b[0m\u001b[1;33m)\u001b[0m\u001b[1;33m\u001b[0m\u001b[1;33m\u001b[0m\u001b[0m\n\u001b[0m\u001b[0;32m    402\u001b[0m \u001b[1;33m\u001b[0m\u001b[0m\n\u001b[0;32m    403\u001b[0m             \u001b[1;32mif\u001b[0m \u001b[0mhave_dicts\u001b[0m\u001b[1;33m:\u001b[0m\u001b[1;33m\u001b[0m\u001b[1;33m\u001b[0m\u001b[0m\n",
      "\u001b[1;31mValueError\u001b[0m: arrays must all be same length"
     ]
    }
   ],
   "source": [
    "df=pd.DataFrame({'Price':price,'Brand_name':brand_name,'Des_name':des_name,'Colour':colour,'RAM':ram,'Display':display,'Primary_camera':primary_camera,'Battery_capacity':battery_capacity,'Product_url':product_url})\n",
    "df"
   ]
  },
  {
   "cell_type": "markdown",
   "id": "e837f73e",
   "metadata": {},
   "source": [
    "QUESTION 2"
   ]
  },
  {
   "cell_type": "code",
   "execution_count": 140,
   "id": "134e9034",
   "metadata": {},
   "outputs": [
    {
     "name": "stderr",
     "output_type": "stream",
     "text": [
      "<ipython-input-140-452eafebab4f>:2: DeprecationWarning: executable_path has been deprecated, please pass in a Service object\n",
      "  driver = webdriver.Chrome(PATH)\n"
     ]
    }
   ],
   "source": [
    "PATH = 'C:/Users/Shiva Labade/Desktop/chromedriver_win32/chromedriver.exe'\n",
    "driver = webdriver.Chrome(PATH)"
   ]
  },
  {
   "cell_type": "code",
   "execution_count": 141,
   "id": "767fff9e",
   "metadata": {},
   "outputs": [],
   "source": [
    "driver.get(\"https://www.amazon.in/\")"
   ]
  },
  {
   "cell_type": "code",
   "execution_count": 142,
   "id": "bc326c63",
   "metadata": {},
   "outputs": [
    {
     "name": "stderr",
     "output_type": "stream",
     "text": [
      "<ipython-input-142-3218cddffe22>:1: DeprecationWarning: find_element_by_* commands are deprecated. Please use find_element() instead\n",
      "  search_guitar = driver.find_element_by_class_name(\"nav-search-field \")\n"
     ]
    },
    {
     "data": {
      "text/plain": [
       "<selenium.webdriver.remote.webelement.WebElement (session=\"093de1915659089d152509eeff370177\", element=\"3331273e-f11f-4ae9-ba95-786a467848a8\")>"
      ]
     },
     "execution_count": 142,
     "metadata": {},
     "output_type": "execute_result"
    }
   ],
   "source": [
    "search_guitar = driver.find_element_by_class_name(\"nav-search-field \")\n",
    "search_guitar"
   ]
  },
  {
   "cell_type": "code",
   "execution_count": 145,
   "id": "42d30254",
   "metadata": {},
   "outputs": [
    {
     "ename": "ElementNotInteractableException",
     "evalue": "Message: element not interactable\n  (Session info: chrome=99.0.4844.82)\nStacktrace:\nBacktrace:\n\tOrdinal0 [0x00579943+2595139]\n\tOrdinal0 [0x0050C9F1+2148849]\n\tOrdinal0 [0x004043F0+1065968]\n\tOrdinal0 [0x0042C4D3+1230035]\n\tOrdinal0 [0x0042BB8B+1227659]\n\tOrdinal0 [0x0044B9EC+1358316]\n\tOrdinal0 [0x00427474+1209460]\n\tOrdinal0 [0x0044BC04+1358852]\n\tOrdinal0 [0x0045BAF2+1424114]\n\tOrdinal0 [0x0044B806+1357830]\n\tOrdinal0 [0x00426086+1204358]\n\tOrdinal0 [0x00426F96+1208214]\n\tGetHandleVerifier [0x0071B232+1658114]\n\tGetHandleVerifier [0x007D312C+2411516]\n\tGetHandleVerifier [0x0060F261+560433]\n\tGetHandleVerifier [0x0060E366+556598]\n\tOrdinal0 [0x0051286B+2173035]\n\tOrdinal0 [0x005175F8+2192888]\n\tOrdinal0 [0x005176E5+2193125]\n\tOrdinal0 [0x005211FC+2232828]\n\tBaseThreadInitThunk [0x76106739+25]\n\tRtlGetFullPathName_UEx [0x778D8E7F+1215]\n\tRtlGetFullPathName_UEx [0x778D8E4D+1165]\n",
     "output_type": "error",
     "traceback": [
      "\u001b[1;31m---------------------------------------------------------------------------\u001b[0m",
      "\u001b[1;31mElementNotInteractableException\u001b[0m           Traceback (most recent call last)",
      "\u001b[1;32m<ipython-input-145-13683be443ba>\u001b[0m in \u001b[0;36m<module>\u001b[1;34m\u001b[0m\n\u001b[1;32m----> 1\u001b[1;33m \u001b[0msearch_guitar\u001b[0m\u001b[1;33m.\u001b[0m\u001b[0msend_keys\u001b[0m\u001b[1;33m(\u001b[0m\u001b[1;34m'guitar'\u001b[0m\u001b[1;33m)\u001b[0m\u001b[1;33m\u001b[0m\u001b[1;33m\u001b[0m\u001b[0m\n\u001b[0m",
      "\u001b[1;32mC:\\ProgramData\\Anaconda3\\lib\\site-packages\\selenium\\webdriver\\remote\\webelement.py\u001b[0m in \u001b[0;36msend_keys\u001b[1;34m(self, *value)\u001b[0m\n\u001b[0;32m    538\u001b[0m                 \u001b[0mvalue\u001b[0m \u001b[1;33m=\u001b[0m \u001b[1;34m'\\n'\u001b[0m\u001b[1;33m.\u001b[0m\u001b[0mjoin\u001b[0m\u001b[1;33m(\u001b[0m\u001b[0mremote_files\u001b[0m\u001b[1;33m)\u001b[0m\u001b[1;33m\u001b[0m\u001b[1;33m\u001b[0m\u001b[0m\n\u001b[0;32m    539\u001b[0m \u001b[1;33m\u001b[0m\u001b[0m\n\u001b[1;32m--> 540\u001b[1;33m         self._execute(Command.SEND_KEYS_TO_ELEMENT,\n\u001b[0m\u001b[0;32m    541\u001b[0m                       {'text': \"\".join(keys_to_typing(value)),\n\u001b[0;32m    542\u001b[0m                        'value': keys_to_typing(value)})\n",
      "\u001b[1;32mC:\\ProgramData\\Anaconda3\\lib\\site-packages\\selenium\\webdriver\\remote\\webelement.py\u001b[0m in \u001b[0;36m_execute\u001b[1;34m(self, command, params)\u001b[0m\n\u001b[0;32m    708\u001b[0m             \u001b[0mparams\u001b[0m \u001b[1;33m=\u001b[0m \u001b[1;33m{\u001b[0m\u001b[1;33m}\u001b[0m\u001b[1;33m\u001b[0m\u001b[1;33m\u001b[0m\u001b[0m\n\u001b[0;32m    709\u001b[0m         \u001b[0mparams\u001b[0m\u001b[1;33m[\u001b[0m\u001b[1;34m'id'\u001b[0m\u001b[1;33m]\u001b[0m \u001b[1;33m=\u001b[0m \u001b[0mself\u001b[0m\u001b[1;33m.\u001b[0m\u001b[0m_id\u001b[0m\u001b[1;33m\u001b[0m\u001b[1;33m\u001b[0m\u001b[0m\n\u001b[1;32m--> 710\u001b[1;33m         \u001b[1;32mreturn\u001b[0m \u001b[0mself\u001b[0m\u001b[1;33m.\u001b[0m\u001b[0m_parent\u001b[0m\u001b[1;33m.\u001b[0m\u001b[0mexecute\u001b[0m\u001b[1;33m(\u001b[0m\u001b[0mcommand\u001b[0m\u001b[1;33m,\u001b[0m \u001b[0mparams\u001b[0m\u001b[1;33m)\u001b[0m\u001b[1;33m\u001b[0m\u001b[1;33m\u001b[0m\u001b[0m\n\u001b[0m\u001b[0;32m    711\u001b[0m \u001b[1;33m\u001b[0m\u001b[0m\n\u001b[0;32m    712\u001b[0m     \u001b[1;32mdef\u001b[0m \u001b[0mfind_element\u001b[0m\u001b[1;33m(\u001b[0m\u001b[0mself\u001b[0m\u001b[1;33m,\u001b[0m \u001b[0mby\u001b[0m\u001b[1;33m=\u001b[0m\u001b[0mBy\u001b[0m\u001b[1;33m.\u001b[0m\u001b[0mID\u001b[0m\u001b[1;33m,\u001b[0m \u001b[0mvalue\u001b[0m\u001b[1;33m=\u001b[0m\u001b[1;32mNone\u001b[0m\u001b[1;33m)\u001b[0m\u001b[1;33m:\u001b[0m\u001b[1;33m\u001b[0m\u001b[1;33m\u001b[0m\u001b[0m\n",
      "\u001b[1;32mC:\\ProgramData\\Anaconda3\\lib\\site-packages\\selenium\\webdriver\\remote\\webdriver.py\u001b[0m in \u001b[0;36mexecute\u001b[1;34m(self, driver_command, params)\u001b[0m\n\u001b[0;32m    422\u001b[0m         \u001b[0mresponse\u001b[0m \u001b[1;33m=\u001b[0m \u001b[0mself\u001b[0m\u001b[1;33m.\u001b[0m\u001b[0mcommand_executor\u001b[0m\u001b[1;33m.\u001b[0m\u001b[0mexecute\u001b[0m\u001b[1;33m(\u001b[0m\u001b[0mdriver_command\u001b[0m\u001b[1;33m,\u001b[0m \u001b[0mparams\u001b[0m\u001b[1;33m)\u001b[0m\u001b[1;33m\u001b[0m\u001b[1;33m\u001b[0m\u001b[0m\n\u001b[0;32m    423\u001b[0m         \u001b[1;32mif\u001b[0m \u001b[0mresponse\u001b[0m\u001b[1;33m:\u001b[0m\u001b[1;33m\u001b[0m\u001b[1;33m\u001b[0m\u001b[0m\n\u001b[1;32m--> 424\u001b[1;33m             \u001b[0mself\u001b[0m\u001b[1;33m.\u001b[0m\u001b[0merror_handler\u001b[0m\u001b[1;33m.\u001b[0m\u001b[0mcheck_response\u001b[0m\u001b[1;33m(\u001b[0m\u001b[0mresponse\u001b[0m\u001b[1;33m)\u001b[0m\u001b[1;33m\u001b[0m\u001b[1;33m\u001b[0m\u001b[0m\n\u001b[0m\u001b[0;32m    425\u001b[0m             response['value'] = self._unwrap_value(\n\u001b[0;32m    426\u001b[0m                 response.get('value', None))\n",
      "\u001b[1;32mC:\\ProgramData\\Anaconda3\\lib\\site-packages\\selenium\\webdriver\\remote\\errorhandler.py\u001b[0m in \u001b[0;36mcheck_response\u001b[1;34m(self, response)\u001b[0m\n\u001b[0;32m    245\u001b[0m                 \u001b[0malert_text\u001b[0m \u001b[1;33m=\u001b[0m \u001b[0mvalue\u001b[0m\u001b[1;33m[\u001b[0m\u001b[1;34m'alert'\u001b[0m\u001b[1;33m]\u001b[0m\u001b[1;33m.\u001b[0m\u001b[0mget\u001b[0m\u001b[1;33m(\u001b[0m\u001b[1;34m'text'\u001b[0m\u001b[1;33m)\u001b[0m\u001b[1;33m\u001b[0m\u001b[1;33m\u001b[0m\u001b[0m\n\u001b[0;32m    246\u001b[0m             \u001b[1;32mraise\u001b[0m \u001b[0mexception_class\u001b[0m\u001b[1;33m(\u001b[0m\u001b[0mmessage\u001b[0m\u001b[1;33m,\u001b[0m \u001b[0mscreen\u001b[0m\u001b[1;33m,\u001b[0m \u001b[0mstacktrace\u001b[0m\u001b[1;33m,\u001b[0m \u001b[0malert_text\u001b[0m\u001b[1;33m)\u001b[0m  \u001b[1;31m# type: ignore[call-arg]  # mypy is not smart enough here\u001b[0m\u001b[1;33m\u001b[0m\u001b[1;33m\u001b[0m\u001b[0m\n\u001b[1;32m--> 247\u001b[1;33m         \u001b[1;32mraise\u001b[0m \u001b[0mexception_class\u001b[0m\u001b[1;33m(\u001b[0m\u001b[0mmessage\u001b[0m\u001b[1;33m,\u001b[0m \u001b[0mscreen\u001b[0m\u001b[1;33m,\u001b[0m \u001b[0mstacktrace\u001b[0m\u001b[1;33m)\u001b[0m\u001b[1;33m\u001b[0m\u001b[1;33m\u001b[0m\u001b[0m\n\u001b[0m\u001b[0;32m    248\u001b[0m \u001b[1;33m\u001b[0m\u001b[0m\n\u001b[0;32m    249\u001b[0m     \u001b[1;32mdef\u001b[0m \u001b[0m_value_or_default\u001b[0m\u001b[1;33m(\u001b[0m\u001b[0mself\u001b[0m\u001b[1;33m,\u001b[0m \u001b[0mobj\u001b[0m\u001b[1;33m:\u001b[0m \u001b[0mMapping\u001b[0m\u001b[1;33m[\u001b[0m\u001b[0m_KT\u001b[0m\u001b[1;33m,\u001b[0m \u001b[0m_VT\u001b[0m\u001b[1;33m]\u001b[0m\u001b[1;33m,\u001b[0m \u001b[0mkey\u001b[0m\u001b[1;33m:\u001b[0m \u001b[0m_KT\u001b[0m\u001b[1;33m,\u001b[0m \u001b[0mdefault\u001b[0m\u001b[1;33m:\u001b[0m \u001b[0m_VT\u001b[0m\u001b[1;33m)\u001b[0m \u001b[1;33m->\u001b[0m \u001b[0m_VT\u001b[0m\u001b[1;33m:\u001b[0m\u001b[1;33m\u001b[0m\u001b[1;33m\u001b[0m\u001b[0m\n",
      "\u001b[1;31mElementNotInteractableException\u001b[0m: Message: element not interactable\n  (Session info: chrome=99.0.4844.82)\nStacktrace:\nBacktrace:\n\tOrdinal0 [0x00579943+2595139]\n\tOrdinal0 [0x0050C9F1+2148849]\n\tOrdinal0 [0x004043F0+1065968]\n\tOrdinal0 [0x0042C4D3+1230035]\n\tOrdinal0 [0x0042BB8B+1227659]\n\tOrdinal0 [0x0044B9EC+1358316]\n\tOrdinal0 [0x00427474+1209460]\n\tOrdinal0 [0x0044BC04+1358852]\n\tOrdinal0 [0x0045BAF2+1424114]\n\tOrdinal0 [0x0044B806+1357830]\n\tOrdinal0 [0x00426086+1204358]\n\tOrdinal0 [0x00426F96+1208214]\n\tGetHandleVerifier [0x0071B232+1658114]\n\tGetHandleVerifier [0x007D312C+2411516]\n\tGetHandleVerifier [0x0060F261+560433]\n\tGetHandleVerifier [0x0060E366+556598]\n\tOrdinal0 [0x0051286B+2173035]\n\tOrdinal0 [0x005175F8+2192888]\n\tOrdinal0 [0x005176E5+2193125]\n\tOrdinal0 [0x005211FC+2232828]\n\tBaseThreadInitThunk [0x76106739+25]\n\tRtlGetFullPathName_UEx [0x778D8E7F+1215]\n\tRtlGetFullPathName_UEx [0x778D8E4D+1165]\n"
     ]
    }
   ],
   "source": [
    "search_guitar.send_keys('guitar')"
   ]
  },
  {
   "cell_type": "code",
   "execution_count": 146,
   "id": "19b111a9",
   "metadata": {},
   "outputs": [
    {
     "name": "stderr",
     "output_type": "stream",
     "text": [
      "<ipython-input-146-242d91084795>:1: DeprecationWarning: find_element_by_* commands are deprecated. Please use find_element() instead\n",
      "  brand = driver.find_element_by_class_name('a-size-base a-color-base s-medium-weight-text')\n"
     ]
    },
    {
     "ename": "NoSuchElementException",
     "evalue": "Message: no such element: Unable to locate element: {\"method\":\"css selector\",\"selector\":\".a-size-base a-color-base s-medium-weight-text\"}\n  (Session info: chrome=99.0.4844.82)\nStacktrace:\nBacktrace:\n\tOrdinal0 [0x00579943+2595139]\n\tOrdinal0 [0x0050C9F1+2148849]\n\tOrdinal0 [0x00404528+1066280]\n\tOrdinal0 [0x00430FD4+1249236]\n\tOrdinal0 [0x004311CB+1249739]\n\tOrdinal0 [0x0045D812+1431570]\n\tOrdinal0 [0x0044BA34+1358388]\n\tOrdinal0 [0x0045BAF2+1424114]\n\tOrdinal0 [0x0044B806+1357830]\n\tOrdinal0 [0x00426086+1204358]\n\tOrdinal0 [0x00426F96+1208214]\n\tGetHandleVerifier [0x0071B232+1658114]\n\tGetHandleVerifier [0x007D312C+2411516]\n\tGetHandleVerifier [0x0060F261+560433]\n\tGetHandleVerifier [0x0060E366+556598]\n\tOrdinal0 [0x0051286B+2173035]\n\tOrdinal0 [0x005175F8+2192888]\n\tOrdinal0 [0x005176E5+2193125]\n\tOrdinal0 [0x005211FC+2232828]\n\tBaseThreadInitThunk [0x76106739+25]\n\tRtlGetFullPathName_UEx [0x778D8E7F+1215]\n\tRtlGetFullPathName_UEx [0x778D8E4D+1165]\n",
     "output_type": "error",
     "traceback": [
      "\u001b[1;31m---------------------------------------------------------------------------\u001b[0m",
      "\u001b[1;31mNoSuchElementException\u001b[0m                    Traceback (most recent call last)",
      "\u001b[1;32m<ipython-input-146-242d91084795>\u001b[0m in \u001b[0;36m<module>\u001b[1;34m\u001b[0m\n\u001b[1;32m----> 1\u001b[1;33m \u001b[0mbrand\u001b[0m \u001b[1;33m=\u001b[0m \u001b[0mdriver\u001b[0m\u001b[1;33m.\u001b[0m\u001b[0mfind_element_by_class_name\u001b[0m\u001b[1;33m(\u001b[0m\u001b[1;34m'a-size-base a-color-base s-medium-weight-text'\u001b[0m\u001b[1;33m)\u001b[0m\u001b[1;33m\u001b[0m\u001b[1;33m\u001b[0m\u001b[0m\n\u001b[0m\u001b[0;32m      2\u001b[0m \u001b[0mbrand\u001b[0m\u001b[1;33m\u001b[0m\u001b[1;33m\u001b[0m\u001b[0m\n",
      "\u001b[1;32mC:\\ProgramData\\Anaconda3\\lib\\site-packages\\selenium\\webdriver\\remote\\webdriver.py\u001b[0m in \u001b[0;36mfind_element_by_class_name\u001b[1;34m(self, name)\u001b[0m\n\u001b[0;32m    758\u001b[0m             \u001b[0mstacklevel\u001b[0m\u001b[1;33m=\u001b[0m\u001b[1;36m2\u001b[0m\u001b[1;33m,\u001b[0m\u001b[1;33m\u001b[0m\u001b[1;33m\u001b[0m\u001b[0m\n\u001b[0;32m    759\u001b[0m         )\n\u001b[1;32m--> 760\u001b[1;33m         \u001b[1;32mreturn\u001b[0m \u001b[0mself\u001b[0m\u001b[1;33m.\u001b[0m\u001b[0mfind_element\u001b[0m\u001b[1;33m(\u001b[0m\u001b[0mby\u001b[0m\u001b[1;33m=\u001b[0m\u001b[0mBy\u001b[0m\u001b[1;33m.\u001b[0m\u001b[0mCLASS_NAME\u001b[0m\u001b[1;33m,\u001b[0m \u001b[0mvalue\u001b[0m\u001b[1;33m=\u001b[0m\u001b[0mname\u001b[0m\u001b[1;33m)\u001b[0m\u001b[1;33m\u001b[0m\u001b[1;33m\u001b[0m\u001b[0m\n\u001b[0m\u001b[0;32m    761\u001b[0m \u001b[1;33m\u001b[0m\u001b[0m\n\u001b[0;32m    762\u001b[0m     \u001b[1;32mdef\u001b[0m \u001b[0mfind_elements_by_class_name\u001b[0m\u001b[1;33m(\u001b[0m\u001b[0mself\u001b[0m\u001b[1;33m,\u001b[0m \u001b[0mname\u001b[0m\u001b[1;33m)\u001b[0m \u001b[1;33m->\u001b[0m \u001b[0mWebElement\u001b[0m\u001b[1;33m:\u001b[0m\u001b[1;33m\u001b[0m\u001b[1;33m\u001b[0m\u001b[0m\n",
      "\u001b[1;32mC:\\ProgramData\\Anaconda3\\lib\\site-packages\\selenium\\webdriver\\remote\\webdriver.py\u001b[0m in \u001b[0;36mfind_element\u001b[1;34m(self, by, value)\u001b[0m\n\u001b[0;32m   1242\u001b[0m             \u001b[0mvalue\u001b[0m \u001b[1;33m=\u001b[0m \u001b[1;34m'[name=\"%s\"]'\u001b[0m \u001b[1;33m%\u001b[0m \u001b[0mvalue\u001b[0m\u001b[1;33m\u001b[0m\u001b[1;33m\u001b[0m\u001b[0m\n\u001b[0;32m   1243\u001b[0m \u001b[1;33m\u001b[0m\u001b[0m\n\u001b[1;32m-> 1244\u001b[1;33m         return self.execute(Command.FIND_ELEMENT, {\n\u001b[0m\u001b[0;32m   1245\u001b[0m             \u001b[1;34m'using'\u001b[0m\u001b[1;33m:\u001b[0m \u001b[0mby\u001b[0m\u001b[1;33m,\u001b[0m\u001b[1;33m\u001b[0m\u001b[1;33m\u001b[0m\u001b[0m\n\u001b[0;32m   1246\u001b[0m             'value': value})['value']\n",
      "\u001b[1;32mC:\\ProgramData\\Anaconda3\\lib\\site-packages\\selenium\\webdriver\\remote\\webdriver.py\u001b[0m in \u001b[0;36mexecute\u001b[1;34m(self, driver_command, params)\u001b[0m\n\u001b[0;32m    422\u001b[0m         \u001b[0mresponse\u001b[0m \u001b[1;33m=\u001b[0m \u001b[0mself\u001b[0m\u001b[1;33m.\u001b[0m\u001b[0mcommand_executor\u001b[0m\u001b[1;33m.\u001b[0m\u001b[0mexecute\u001b[0m\u001b[1;33m(\u001b[0m\u001b[0mdriver_command\u001b[0m\u001b[1;33m,\u001b[0m \u001b[0mparams\u001b[0m\u001b[1;33m)\u001b[0m\u001b[1;33m\u001b[0m\u001b[1;33m\u001b[0m\u001b[0m\n\u001b[0;32m    423\u001b[0m         \u001b[1;32mif\u001b[0m \u001b[0mresponse\u001b[0m\u001b[1;33m:\u001b[0m\u001b[1;33m\u001b[0m\u001b[1;33m\u001b[0m\u001b[0m\n\u001b[1;32m--> 424\u001b[1;33m             \u001b[0mself\u001b[0m\u001b[1;33m.\u001b[0m\u001b[0merror_handler\u001b[0m\u001b[1;33m.\u001b[0m\u001b[0mcheck_response\u001b[0m\u001b[1;33m(\u001b[0m\u001b[0mresponse\u001b[0m\u001b[1;33m)\u001b[0m\u001b[1;33m\u001b[0m\u001b[1;33m\u001b[0m\u001b[0m\n\u001b[0m\u001b[0;32m    425\u001b[0m             response['value'] = self._unwrap_value(\n\u001b[0;32m    426\u001b[0m                 response.get('value', None))\n",
      "\u001b[1;32mC:\\ProgramData\\Anaconda3\\lib\\site-packages\\selenium\\webdriver\\remote\\errorhandler.py\u001b[0m in \u001b[0;36mcheck_response\u001b[1;34m(self, response)\u001b[0m\n\u001b[0;32m    245\u001b[0m                 \u001b[0malert_text\u001b[0m \u001b[1;33m=\u001b[0m \u001b[0mvalue\u001b[0m\u001b[1;33m[\u001b[0m\u001b[1;34m'alert'\u001b[0m\u001b[1;33m]\u001b[0m\u001b[1;33m.\u001b[0m\u001b[0mget\u001b[0m\u001b[1;33m(\u001b[0m\u001b[1;34m'text'\u001b[0m\u001b[1;33m)\u001b[0m\u001b[1;33m\u001b[0m\u001b[1;33m\u001b[0m\u001b[0m\n\u001b[0;32m    246\u001b[0m             \u001b[1;32mraise\u001b[0m \u001b[0mexception_class\u001b[0m\u001b[1;33m(\u001b[0m\u001b[0mmessage\u001b[0m\u001b[1;33m,\u001b[0m \u001b[0mscreen\u001b[0m\u001b[1;33m,\u001b[0m \u001b[0mstacktrace\u001b[0m\u001b[1;33m,\u001b[0m \u001b[0malert_text\u001b[0m\u001b[1;33m)\u001b[0m  \u001b[1;31m# type: ignore[call-arg]  # mypy is not smart enough here\u001b[0m\u001b[1;33m\u001b[0m\u001b[1;33m\u001b[0m\u001b[0m\n\u001b[1;32m--> 247\u001b[1;33m         \u001b[1;32mraise\u001b[0m \u001b[0mexception_class\u001b[0m\u001b[1;33m(\u001b[0m\u001b[0mmessage\u001b[0m\u001b[1;33m,\u001b[0m \u001b[0mscreen\u001b[0m\u001b[1;33m,\u001b[0m \u001b[0mstacktrace\u001b[0m\u001b[1;33m)\u001b[0m\u001b[1;33m\u001b[0m\u001b[1;33m\u001b[0m\u001b[0m\n\u001b[0m\u001b[0;32m    248\u001b[0m \u001b[1;33m\u001b[0m\u001b[0m\n\u001b[0;32m    249\u001b[0m     \u001b[1;32mdef\u001b[0m \u001b[0m_value_or_default\u001b[0m\u001b[1;33m(\u001b[0m\u001b[0mself\u001b[0m\u001b[1;33m,\u001b[0m \u001b[0mobj\u001b[0m\u001b[1;33m:\u001b[0m \u001b[0mMapping\u001b[0m\u001b[1;33m[\u001b[0m\u001b[0m_KT\u001b[0m\u001b[1;33m,\u001b[0m \u001b[0m_VT\u001b[0m\u001b[1;33m]\u001b[0m\u001b[1;33m,\u001b[0m \u001b[0mkey\u001b[0m\u001b[1;33m:\u001b[0m \u001b[0m_KT\u001b[0m\u001b[1;33m,\u001b[0m \u001b[0mdefault\u001b[0m\u001b[1;33m:\u001b[0m \u001b[0m_VT\u001b[0m\u001b[1;33m)\u001b[0m \u001b[1;33m->\u001b[0m \u001b[0m_VT\u001b[0m\u001b[1;33m:\u001b[0m\u001b[1;33m\u001b[0m\u001b[1;33m\u001b[0m\u001b[0m\n",
      "\u001b[1;31mNoSuchElementException\u001b[0m: Message: no such element: Unable to locate element: {\"method\":\"css selector\",\"selector\":\".a-size-base a-color-base s-medium-weight-text\"}\n  (Session info: chrome=99.0.4844.82)\nStacktrace:\nBacktrace:\n\tOrdinal0 [0x00579943+2595139]\n\tOrdinal0 [0x0050C9F1+2148849]\n\tOrdinal0 [0x00404528+1066280]\n\tOrdinal0 [0x00430FD4+1249236]\n\tOrdinal0 [0x004311CB+1249739]\n\tOrdinal0 [0x0045D812+1431570]\n\tOrdinal0 [0x0044BA34+1358388]\n\tOrdinal0 [0x0045BAF2+1424114]\n\tOrdinal0 [0x0044B806+1357830]\n\tOrdinal0 [0x00426086+1204358]\n\tOrdinal0 [0x00426F96+1208214]\n\tGetHandleVerifier [0x0071B232+1658114]\n\tGetHandleVerifier [0x007D312C+2411516]\n\tGetHandleVerifier [0x0060F261+560433]\n\tGetHandleVerifier [0x0060E366+556598]\n\tOrdinal0 [0x0051286B+2173035]\n\tOrdinal0 [0x005175F8+2192888]\n\tOrdinal0 [0x005176E5+2193125]\n\tOrdinal0 [0x005211FC+2232828]\n\tBaseThreadInitThunk [0x76106739+25]\n\tRtlGetFullPathName_UEx [0x778D8E7F+1215]\n\tRtlGetFullPathName_UEx [0x778D8E4D+1165]\n"
     ]
    }
   ],
   "source": [
    "brand = driver.find_element_by_class_name('a-size-base a-color-base s-medium-weight-text')\n",
    "brand"
   ]
  },
  {
   "cell_type": "code",
   "execution_count": 150,
   "id": "f0158257",
   "metadata": {},
   "outputs": [
    {
     "name": "stderr",
     "output_type": "stream",
     "text": [
      "<ipython-input-150-a9990bca1ba5>:1: DeprecationWarning: find_elements_by_* commands are deprecated. Please use find_elements() instead\n",
      "  page_brand=driver.find_elements_by_xpath('/html/body/div[1]/div[2]/div[1]/div[2]/div/div[3]/span/div[1]/div/div/div[4]/div/a/span/h3/span')\n"
     ]
    },
    {
     "data": {
      "text/plain": [
       "[<selenium.webdriver.remote.webelement.WebElement (session=\"093de1915659089d152509eeff370177\", element=\"a2c1e50b-de59-4cf3-a995-50327664e96e\")>]"
      ]
     },
     "execution_count": 150,
     "metadata": {},
     "output_type": "execute_result"
    }
   ],
   "source": [
    "page_brand=driver.find_elements_by_xpath('/html/body/div[1]/div[2]/div[1]/div[2]/div/div[3]/span/div[1]/div/div/div[4]/div/a/span/h3/span')\n",
    "page_brand"
   ]
  },
  {
   "cell_type": "code",
   "execution_count": 151,
   "id": "de2faba7",
   "metadata": {},
   "outputs": [
    {
     "data": {
      "text/plain": [
       "['BRANDS']"
      ]
     },
     "execution_count": 151,
     "metadata": {},
     "output_type": "execute_result"
    }
   ],
   "source": [
    "brand_name=[]\n",
    "for i in page_brand:\n",
    "    brand_name.append(i.text)\n",
    "    \n",
    "brand_name   "
   ]
  },
  {
   "cell_type": "code",
   "execution_count": 152,
   "id": "bce2cdb5",
   "metadata": {
    "scrolled": false
   },
   "outputs": [
    {
     "name": "stderr",
     "output_type": "stream",
     "text": [
      "<ipython-input-152-0e13ecd60f20>:1: DeprecationWarning: find_elements_by_* commands are deprecated. Please use find_elements() instead\n",
      "  prdt_des=driver.find_elements_by_xpath('//span[@class=\"a-size-base-plus a-color-base a-text-normal\"]')\n"
     ]
    },
    {
     "data": {
      "text/plain": [
       "[<selenium.webdriver.remote.webelement.WebElement (session=\"093de1915659089d152509eeff370177\", element=\"620df449-92b1-4a47-942a-414ba67c0339\")>,\n",
       " <selenium.webdriver.remote.webelement.WebElement (session=\"093de1915659089d152509eeff370177\", element=\"cf8c1cf2-0932-437f-8f8b-62e350aa21d4\")>,\n",
       " <selenium.webdriver.remote.webelement.WebElement (session=\"093de1915659089d152509eeff370177\", element=\"d83533ef-5e4b-4320-9719-c1c6242f69dc\")>,\n",
       " <selenium.webdriver.remote.webelement.WebElement (session=\"093de1915659089d152509eeff370177\", element=\"b94ed5a5-b790-48c6-85ff-553befadfbde\")>,\n",
       " <selenium.webdriver.remote.webelement.WebElement (session=\"093de1915659089d152509eeff370177\", element=\"377a4f80-7c1f-4c5c-869d-0d2d02a38f4f\")>,\n",
       " <selenium.webdriver.remote.webelement.WebElement (session=\"093de1915659089d152509eeff370177\", element=\"0233fe89-8c65-4269-8190-001776e38814\")>,\n",
       " <selenium.webdriver.remote.webelement.WebElement (session=\"093de1915659089d152509eeff370177\", element=\"b8f7d683-340e-4f99-90de-1aaf17aa3473\")>,\n",
       " <selenium.webdriver.remote.webelement.WebElement (session=\"093de1915659089d152509eeff370177\", element=\"4d3f02cc-12b7-4c2f-9dbd-6611b5987dad\")>,\n",
       " <selenium.webdriver.remote.webelement.WebElement (session=\"093de1915659089d152509eeff370177\", element=\"290a0a47-1e31-4524-be84-1acd01b73252\")>,\n",
       " <selenium.webdriver.remote.webelement.WebElement (session=\"093de1915659089d152509eeff370177\", element=\"7e66d3d7-cf03-4208-9f8a-c1e677c83d98\")>,\n",
       " <selenium.webdriver.remote.webelement.WebElement (session=\"093de1915659089d152509eeff370177\", element=\"fc87b157-9f79-49ef-a2a8-c748177e2903\")>,\n",
       " <selenium.webdriver.remote.webelement.WebElement (session=\"093de1915659089d152509eeff370177\", element=\"69758e81-ab20-460d-8205-4e0201e259e1\")>,\n",
       " <selenium.webdriver.remote.webelement.WebElement (session=\"093de1915659089d152509eeff370177\", element=\"f7b12647-a303-4e44-9b72-769a0f3e247f\")>,\n",
       " <selenium.webdriver.remote.webelement.WebElement (session=\"093de1915659089d152509eeff370177\", element=\"1c270b25-603f-4aa2-b742-e1f7c2f329c7\")>,\n",
       " <selenium.webdriver.remote.webelement.WebElement (session=\"093de1915659089d152509eeff370177\", element=\"368e42dc-c2cf-4ce5-9233-19f5fa2d7d2f\")>,\n",
       " <selenium.webdriver.remote.webelement.WebElement (session=\"093de1915659089d152509eeff370177\", element=\"d95c78d5-ffcf-412c-97be-d27e9c581c58\")>,\n",
       " <selenium.webdriver.remote.webelement.WebElement (session=\"093de1915659089d152509eeff370177\", element=\"10180e5a-e284-46c6-8b37-003909128da7\")>,\n",
       " <selenium.webdriver.remote.webelement.WebElement (session=\"093de1915659089d152509eeff370177\", element=\"52020d06-7965-422a-8260-c946d159dbb2\")>,\n",
       " <selenium.webdriver.remote.webelement.WebElement (session=\"093de1915659089d152509eeff370177\", element=\"2fe42da0-331e-4d96-8f05-d766272bbde8\")>,\n",
       " <selenium.webdriver.remote.webelement.WebElement (session=\"093de1915659089d152509eeff370177\", element=\"0f1fe064-8acf-4cd0-a247-295d6a8bd2f8\")>,\n",
       " <selenium.webdriver.remote.webelement.WebElement (session=\"093de1915659089d152509eeff370177\", element=\"e59bb5da-e481-477b-90c8-243215de100c\")>,\n",
       " <selenium.webdriver.remote.webelement.WebElement (session=\"093de1915659089d152509eeff370177\", element=\"a211e646-63dc-4410-ba65-6cd761f7b4ba\")>,\n",
       " <selenium.webdriver.remote.webelement.WebElement (session=\"093de1915659089d152509eeff370177\", element=\"50bd2170-210d-4cd3-baca-8a5b744cf2b7\")>,\n",
       " <selenium.webdriver.remote.webelement.WebElement (session=\"093de1915659089d152509eeff370177\", element=\"68e145a3-0179-40c9-a4fd-aa82561ac767\")>,\n",
       " <selenium.webdriver.remote.webelement.WebElement (session=\"093de1915659089d152509eeff370177\", element=\"bb13a6ec-331d-406a-ac54-ddc847b6f1c3\")>,\n",
       " <selenium.webdriver.remote.webelement.WebElement (session=\"093de1915659089d152509eeff370177\", element=\"5261285e-0973-4a71-991f-fd29cb8b2983\")>,\n",
       " <selenium.webdriver.remote.webelement.WebElement (session=\"093de1915659089d152509eeff370177\", element=\"5ac15542-29a8-4f96-a3d6-647febe0ba5a\")>,\n",
       " <selenium.webdriver.remote.webelement.WebElement (session=\"093de1915659089d152509eeff370177\", element=\"71c2bc37-b858-4692-b4cf-2fc3a76f9455\")>,\n",
       " <selenium.webdriver.remote.webelement.WebElement (session=\"093de1915659089d152509eeff370177\", element=\"2e4c0643-7155-4080-bf78-b458a24f19a6\")>,\n",
       " <selenium.webdriver.remote.webelement.WebElement (session=\"093de1915659089d152509eeff370177\", element=\"9d754f3e-47e4-4b2a-8d2d-a5db1c560c08\")>,\n",
       " <selenium.webdriver.remote.webelement.WebElement (session=\"093de1915659089d152509eeff370177\", element=\"efc0391b-8452-42f8-9bbb-3b9497ffa965\")>,\n",
       " <selenium.webdriver.remote.webelement.WebElement (session=\"093de1915659089d152509eeff370177\", element=\"895c1424-958b-4447-a384-0ec6d42052af\")>,\n",
       " <selenium.webdriver.remote.webelement.WebElement (session=\"093de1915659089d152509eeff370177\", element=\"3ed6972f-076c-4a57-b3a0-10b12cbad949\")>,\n",
       " <selenium.webdriver.remote.webelement.WebElement (session=\"093de1915659089d152509eeff370177\", element=\"0d0c602d-a099-4399-9e26-eb8b7e0eb807\")>,\n",
       " <selenium.webdriver.remote.webelement.WebElement (session=\"093de1915659089d152509eeff370177\", element=\"f9684005-d41b-40e1-93bb-05f9c1104045\")>,\n",
       " <selenium.webdriver.remote.webelement.WebElement (session=\"093de1915659089d152509eeff370177\", element=\"c4df7d89-c50b-4e4a-80dd-23819d2defff\")>,\n",
       " <selenium.webdriver.remote.webelement.WebElement (session=\"093de1915659089d152509eeff370177\", element=\"3fd533a7-fda0-4c6f-8147-424b86114cf3\")>,\n",
       " <selenium.webdriver.remote.webelement.WebElement (session=\"093de1915659089d152509eeff370177\", element=\"2d461540-a9ba-4034-8453-47e98fba9591\")>,\n",
       " <selenium.webdriver.remote.webelement.WebElement (session=\"093de1915659089d152509eeff370177\", element=\"ccfc9f0e-dcce-47fb-a49e-cba24c49a104\")>,\n",
       " <selenium.webdriver.remote.webelement.WebElement (session=\"093de1915659089d152509eeff370177\", element=\"68932b34-8434-4a3f-9e62-e3ccd51efb86\")>,\n",
       " <selenium.webdriver.remote.webelement.WebElement (session=\"093de1915659089d152509eeff370177\", element=\"48a83eff-dbec-4f9d-bbbf-7da0bdc3de15\")>,\n",
       " <selenium.webdriver.remote.webelement.WebElement (session=\"093de1915659089d152509eeff370177\", element=\"d1322ee3-f230-4241-a346-5f6d93188f5f\")>,\n",
       " <selenium.webdriver.remote.webelement.WebElement (session=\"093de1915659089d152509eeff370177\", element=\"bf7aa8b3-16e2-41cb-b8f4-c25f082981b7\")>,\n",
       " <selenium.webdriver.remote.webelement.WebElement (session=\"093de1915659089d152509eeff370177\", element=\"aad2c755-c0ef-40ae-b13d-281c26f77d7b\")>,\n",
       " <selenium.webdriver.remote.webelement.WebElement (session=\"093de1915659089d152509eeff370177\", element=\"f10af985-3fc8-46d8-b2fb-90c6fa535057\")>,\n",
       " <selenium.webdriver.remote.webelement.WebElement (session=\"093de1915659089d152509eeff370177\", element=\"62ed9279-73f0-4638-af0a-23128155240a\")>,\n",
       " <selenium.webdriver.remote.webelement.WebElement (session=\"093de1915659089d152509eeff370177\", element=\"9b8691bb-904e-4980-bf7f-5cb3c8e3b397\")>,\n",
       " <selenium.webdriver.remote.webelement.WebElement (session=\"093de1915659089d152509eeff370177\", element=\"968f7336-ea35-42ee-a686-6fe2112202bc\")>,\n",
       " <selenium.webdriver.remote.webelement.WebElement (session=\"093de1915659089d152509eeff370177\", element=\"6fd520b5-da11-4630-bc5f-6f4b7d5cfdac\")>,\n",
       " <selenium.webdriver.remote.webelement.WebElement (session=\"093de1915659089d152509eeff370177\", element=\"af68d324-820b-4989-a98e-faab422d00a1\")>,\n",
       " <selenium.webdriver.remote.webelement.WebElement (session=\"093de1915659089d152509eeff370177\", element=\"0956c4f0-2c06-4cdd-afb4-c511ba3032be\")>,\n",
       " <selenium.webdriver.remote.webelement.WebElement (session=\"093de1915659089d152509eeff370177\", element=\"a887b0ff-fa0b-45cc-9858-1c0b898c8816\")>,\n",
       " <selenium.webdriver.remote.webelement.WebElement (session=\"093de1915659089d152509eeff370177\", element=\"1e879a50-e095-4164-be17-e6c7fefee026\")>,\n",
       " <selenium.webdriver.remote.webelement.WebElement (session=\"093de1915659089d152509eeff370177\", element=\"5a9f3dbc-f491-41a1-bfae-e143c6c0ef95\")>,\n",
       " <selenium.webdriver.remote.webelement.WebElement (session=\"093de1915659089d152509eeff370177\", element=\"c4975aa0-3d63-42bb-8c9a-8e87ba0f14cb\")>,\n",
       " <selenium.webdriver.remote.webelement.WebElement (session=\"093de1915659089d152509eeff370177\", element=\"d322812c-9b59-4466-aba3-7ed2c400a5cd\")>,\n",
       " <selenium.webdriver.remote.webelement.WebElement (session=\"093de1915659089d152509eeff370177\", element=\"757d5ad7-171e-434a-b65d-5909b512e886\")>,\n",
       " <selenium.webdriver.remote.webelement.WebElement (session=\"093de1915659089d152509eeff370177\", element=\"c4f46e33-ea7c-43e9-9b46-8f00c6ccc986\")>,\n",
       " <selenium.webdriver.remote.webelement.WebElement (session=\"093de1915659089d152509eeff370177\", element=\"010864de-8f0c-4274-b91c-35ee333b0786\")>,\n",
       " <selenium.webdriver.remote.webelement.WebElement (session=\"093de1915659089d152509eeff370177\", element=\"876e90d5-4240-492f-a097-251fabfff969\")>,\n",
       " <selenium.webdriver.remote.webelement.WebElement (session=\"093de1915659089d152509eeff370177\", element=\"3cdd3b17-cf9c-4e3c-a438-68763ea09b9e\")>,\n",
       " <selenium.webdriver.remote.webelement.WebElement (session=\"093de1915659089d152509eeff370177\", element=\"75e90c2e-0c8f-4de9-8353-666c6119b6f7\")>,\n",
       " <selenium.webdriver.remote.webelement.WebElement (session=\"093de1915659089d152509eeff370177\", element=\"fb76b540-1696-4836-8357-b9421698063f\")>,\n",
       " <selenium.webdriver.remote.webelement.WebElement (session=\"093de1915659089d152509eeff370177\", element=\"626c7336-4c5e-4fbd-b0cc-83da19d69c7d\")>,\n",
       " <selenium.webdriver.remote.webelement.WebElement (session=\"093de1915659089d152509eeff370177\", element=\"2490aa11-77cf-4922-a86e-1e15d2e5d1c1\")>,\n",
       " <selenium.webdriver.remote.webelement.WebElement (session=\"093de1915659089d152509eeff370177\", element=\"02347b64-2ed3-4486-ad7e-de0a5445a65a\")>,\n",
       " <selenium.webdriver.remote.webelement.WebElement (session=\"093de1915659089d152509eeff370177\", element=\"d896aeff-dc99-42cd-bf81-7a86a49935c3\")>,\n",
       " <selenium.webdriver.remote.webelement.WebElement (session=\"093de1915659089d152509eeff370177\", element=\"4247cbd9-afdb-4a3a-90ae-5aecab16253e\")>,\n",
       " <selenium.webdriver.remote.webelement.WebElement (session=\"093de1915659089d152509eeff370177\", element=\"e29c6c0d-0831-49fb-a97d-72388749437c\")>,\n",
       " <selenium.webdriver.remote.webelement.WebElement (session=\"093de1915659089d152509eeff370177\", element=\"b4b80746-4f2b-40cc-b2a4-8289b8f9bdb6\")>,\n",
       " <selenium.webdriver.remote.webelement.WebElement (session=\"093de1915659089d152509eeff370177\", element=\"fa59758b-f154-45cc-ba88-a765c66dfd31\")>,\n",
       " <selenium.webdriver.remote.webelement.WebElement (session=\"093de1915659089d152509eeff370177\", element=\"c80ee11f-d7c0-48e1-ae8d-d1e6cd4306b8\")>]"
      ]
     },
     "execution_count": 152,
     "metadata": {},
     "output_type": "execute_result"
    }
   ],
   "source": [
    "prdt_des=driver.find_elements_by_xpath('//span[@class=\"a-size-base-plus a-color-base a-text-normal\"]')\n",
    "prdt_des"
   ]
  },
  {
   "cell_type": "code",
   "execution_count": 154,
   "id": "8ffb509d",
   "metadata": {},
   "outputs": [
    {
     "data": {
      "text/plain": [
       "72"
      ]
     },
     "execution_count": 154,
     "metadata": {},
     "output_type": "execute_result"
    }
   ],
   "source": [
    "len(prdt_des)"
   ]
  },
  {
   "cell_type": "code",
   "execution_count": 155,
   "id": "6f95cb85",
   "metadata": {},
   "outputs": [
    {
     "data": {
      "text/plain": [
       "['Kadence Frontier Jumbo Semi Acoustic Guitar With Die Cast Keys Super Combo (Bag, 1 pack Strings, Strap, Picks, Capo, Tuner (natural)',\n",
       " 'Vault Traveller 34 Inch Acoustic Guitar With Bag, Strap, Strings, Polishing Cloth, String Winder and Picks - Natural Gloss',\n",
       " 'GUITAR BRO - COMBO (Black Acoustic Guitar for Beginner, Guitar Learning Kit, Song Book, Video Lectures, Accessories like Pick, Bag)',\n",
       " 'NILL CREATION Natural Wooden Rosewood Fretboard Acoustic Guitar with Bag Strap 1 Set of Extra Strings and 2 Picks (Small Size)- Multi Color, Standard (Guitar_Small)',\n",
       " 'Juarez Acoustic Guitar, 38 Inch Curved Body Cutaway, 38CUR with Bag, Strings, Pick and Strap, Black',\n",
       " 'Intern INT-38C Acoustic Guitar Kit, With Bag, Strings, Pick And Strap, Black',\n",
       " 'Medellin 38\" Acoustic Guitar Blue Burst Carbon Fiber body+(Free Online Learning Course) - Durable Matt finish with handrest, strings, strap, bag, 3 Picks, capo, stand.',\n",
       " 'Intern INT-38C Acoustic Guitar Kit, With Bag, Strings, Pick And Strap, Black',\n",
       " 'Kadence Frontier guitar with Online Guitar learning course, Wine Red Acoustic Guitar with Die Cast Keys, Set of Strings, Strap, Picks and Bag (Wine Red, Acoustic)',\n",
       " '',\n",
       " '',\n",
       " 'Epiphone PR-4E Acoustic-Electric Guitar Player Pack',\n",
       " 'Ibanez GRG170DX Electric Guitar, Black',\n",
       " 'Fender CD60s Dreadnought Acoustic Guitar (Mahagony)',\n",
       " '',\n",
       " '',\n",
       " '',\n",
       " '',\n",
       " '',\n",
       " 'Juârez Acoustic Guitar, 38 Inch Cutaway, 038C with Bag, Strings, Pick and Strap, Black',\n",
       " 'Intern 38C Cutaway Design Black Acoustic Guitar with Picks & Carry Bag',\n",
       " 'Yamaha FS80C The Ultimate Concert Body Cutaway Acoustic Guitar (Black) With Bajaao Gig-Bag',\n",
       " 'Kadence Frontier guitar with Online Guitar learning course, Wine Red Acoustic Guitar with Die Cast Keys, Set of Strings, Strap, Picks and Bag (Wine Red, Acoustic)',\n",
       " 'Yamaha F280 Acoustic Guitar, Natural With Bajaao Gig Bag',\n",
       " 'JUAREZ JRZ38C Right Handed Acoustic Guitar with Bag, Strings, Pick and Strap (Natural, 6 Strings)',\n",
       " 'Kadence Guitar Frontier Series, Electric Acoustic Black Guitar With EQ, Die Cast Keys, Set of Strings, Strap, Picks and Bag (Black EQ, Electric Acoustic)',\n",
       " 'Kadence Frontier Series, Semi Acoustic Guitar With Die Cast Keys (Bag,Strap,Strings And 3 Picks) (Natural)',\n",
       " 'Hovner 215 Black F-Cut Rosewood Fretboard Acoustic Guitar With Bag,Strap,1 Set of Extra Strings and 2 Picks By K-Retail',\n",
       " 'Henrix 38 Acoustic Guitar (Black) with Dual-action Truss Rod - Includes Picks, Bag, Strings, Strap & Polishing Cloth',\n",
       " 'Juarez JRZ-ST01, 6 Strings Electric Guitar, Right Handed with Bag/Case, 2 x Picks (3TS Sunburst)',\n",
       " 'Kadence Slowhand Premium Jumbo Semi Acoustic Guitar with Heavy Padded Bag, guitar cable, Pro Capo (Black Spruce Wood)',\n",
       " 'Intern INT-38C-BK-G Cutaway Right Handed Acoustic Guitar Kit, With Bag, Strings, Pick And Strap (Black, 6 Strings)',\n",
       " 'Vault ST1 Premium Electric Guitar - Metallic Blue',\n",
       " \"HOMME STORE 4 String Guitar Children's Musical Instrument Educational Toy Guitar Ukulele Instruments Beginner Musical Sound Toys Best Gift for Children\",\n",
       " \"MAA Enterprises 4 String Guitar Children's Musical Instrument Educational Toy Guitar Ukulele Instruments Beginner Musical Sound Toys Best Gift for Children\",\n",
       " 'Cort AD810 Dreadnought Acoustic Guitar with Gig Bag,Tuner,Picks and Strap (Natural Bundle)',\n",
       " 'Juarez Acoustic Guitar Kit, 38 Inch Cutaway, 38C with Bag, Strings, Pick and Strap, 3TS Sunburst',\n",
       " 'Medellin 38\" Acoustic Guitar Black Carbon Fiber body+(Free Online Learning Course) - Durable Matt finish with handrest, strings, strap, bag, 3 Picks, capo, stand.',\n",
       " 'Intern INT-38C Sunburst Acoustic Guitar kit with carry bag & picks',\n",
       " 'Giuson Venus Black 41 Inch Rosewood Fretboard Acoustic Guitar With Bag,Strap,1 Set of Extra Strings and 2 Picks by K-Retail',\n",
       " 'Henrix 38C 38 inch Cutaway Acoustic Guitar with Dual Action Truss Rod, Gigbag, Picks, String Set, Strap & Cloth',\n",
       " 'Vault EA20 Guitar Kit with Learn to Play Ebook, Bag, Strings, Straps, Picks, String winder & Polishing Cloth - 40 inch Cutaway Acoustic Guitar',\n",
       " 'Fender CD 60 Dread V3 DS 6 String Acoustic Guitar - Walnut Fretboard-Sunburst',\n",
       " 'Yamaha FS100C Acoustic Guitar, Black',\n",
       " 'Yamaha F310-TBS Right Handed Acoustic Guitar with Cover (Tobacco Sunburst, 6-Strings)',\n",
       " 'Yamaha FSX80C Semi Acoustic Cutaway Guitar with Bag (Black)',\n",
       " 'Juarez Acoustic Guitar Kit, 38 Inch Cutaway, 38C with Bag, Strings, Pick and Strap, TBS Transparent Blue Sunburst',\n",
       " 'PRS Guitars Acoustic Electric Guitar, AX20E Special India Model w/Fishman Pickup -Natural AXM20EGB,AXM20EGB NA',\n",
       " 'Yamaha FS100C Acoustic Guitar, Natural',\n",
       " 'Vault EA40-CE 41 inch Premium Spruce-Top Cutaway Electro Acoustic Guitar (Natural)',\n",
       " 'NEWEN Relic Stratocaster Style Electric Guitar Made in Argentina, White Oak, Blue',\n",
       " 'Epiphone Les Paul Standard 60s 6 String Right Handed Electric Guitar, Inspired by Gibson Series, Bourbon Burst',\n",
       " 'Yamaha TRBX174 4-String Electric Bass Guitar - Dark Blue Metallic',\n",
       " 'JUAREZ JRZ38CTR/BK 38 Inch Acoustic Guitar with Dual Action Truss Rod, Bag, Picks, Allen Key, Extra String Set, Black',\n",
       " 'Cordoba C1 Protege Series Classical Guitar Natural with Bag',\n",
       " 'PRS, Acoustic Electric Guitar, SE P20E Parlor w/Fishman Pickup -Vintage Mahogany (106997:VM)',\n",
       " 'Medellin 38\" Carbon Fiber Acoustic Guitar with free specailized learning course- MDCF38BK Heavy Weighted Carbon Fiber Matt White finish Body for beginners with handrest, set of Strings, Strap, Bag, 3 Picks, Capo, Guitar Wall Hanging Stand and Free GUITAR LEARNING COURSE (Special Learning Combo with Guitar)',\n",
       " 'Ibanez MD39C-NT Acoustic Guitar (Natural)',\n",
       " 'Yamaha FX280 Semi acoustic Dreadnought Guitar with Bag (Tobacco Sunburst)',\n",
       " 'Fender CD60s Dreadnought Acoustic Guitar (Mahagony)',\n",
       " 'YAMAHA FS80C NATURAL CONCERT CUTAWAY GUITAR',\n",
       " 'Yamaha Acoustic Guitar F280 Dreadnought With Mexa Sponge Bag Belt,Plectrums, String Set & Guitar Stand (Natural)',\n",
       " 'Juarez JRZ-ST02 6-String Electric Guitar, Right Handed, Red, with Case/Bag and Picks',\n",
       " 'Epiphone Les Paul Muse 6 String Right Handed Electric Guitar, Purple Passion Metallic',\n",
       " 'Yamaha FX280 Semi acoustic Dreadnought Guitar with Bag (Natural)',\n",
       " 'Epiphone Les Paul Classic 6 String Right Handed Electric Guitar, Heritage Cherry Sunburst',\n",
       " 'YAMAHA WINNING STROKE F280 Acoustic Guitar with Bag Combo (Natural)',\n",
       " 'Kadence Frontier 34inch guitar for Kids, Travel Guitar for Adult Acoustic Guitar with Die Cast Keys, Set of Strings, Strap, Picks and Bag (Yellow Guitar)',\n",
       " 'Vault ST1 Strat Style 6 String Electric Guitar- Black',\n",
       " \"Gibz's G-38 Glossy Acoustic Guitar With Truss Rod Natural\",\n",
       " 'HOMME STORE 4 String Guitar Kids Brown Plastic 4 String Acoustic Guitar for Kids Musical Instrument Learning Educational Small Toy for Boys & Girls (Wooden Guitar) (1)',\n",
       " \"Portible 4 String Decor Guitar Children's Musical Instrument Educational Toy Small Guitar for Beginners\"]"
      ]
     },
     "execution_count": 155,
     "metadata": {},
     "output_type": "execute_result"
    }
   ],
   "source": [
    "des_name=[]\n",
    "for i in prdt_des:\n",
    "    des_name.append(i.text)\n",
    "    \n",
    "des_name"
   ]
  },
  {
   "cell_type": "code",
   "execution_count": 156,
   "id": "bc044bb2",
   "metadata": {
    "scrolled": false
   },
   "outputs": [
    {
     "name": "stderr",
     "output_type": "stream",
     "text": [
      "<ipython-input-156-0d46617fff5d>:1: DeprecationWarning: find_elements_by_* commands are deprecated. Please use find_elements() instead\n",
      "  price=driver.find_elements_by_xpath('//span[@class=\"a-price-whole\"]')\n"
     ]
    },
    {
     "data": {
      "text/plain": [
       "[<selenium.webdriver.remote.webelement.WebElement (session=\"093de1915659089d152509eeff370177\", element=\"d87946dc-aafb-4ff1-8cd2-64ad62b66d34\")>,\n",
       " <selenium.webdriver.remote.webelement.WebElement (session=\"093de1915659089d152509eeff370177\", element=\"97d7d43b-ab91-4081-9dd8-45024c24030a\")>,\n",
       " <selenium.webdriver.remote.webelement.WebElement (session=\"093de1915659089d152509eeff370177\", element=\"e360397f-da02-40fa-8351-617f7ea2f03c\")>,\n",
       " <selenium.webdriver.remote.webelement.WebElement (session=\"093de1915659089d152509eeff370177\", element=\"70ea0cf2-02af-4e35-bcd7-7533ff4a00c4\")>,\n",
       " <selenium.webdriver.remote.webelement.WebElement (session=\"093de1915659089d152509eeff370177\", element=\"d86bc048-1d21-4a75-94de-fe45018e32e9\")>,\n",
       " <selenium.webdriver.remote.webelement.WebElement (session=\"093de1915659089d152509eeff370177\", element=\"1fbe8df8-1969-418b-ba6f-f680086c16aa\")>,\n",
       " <selenium.webdriver.remote.webelement.WebElement (session=\"093de1915659089d152509eeff370177\", element=\"17aff828-db4f-4472-ab88-106a6bb24011\")>,\n",
       " <selenium.webdriver.remote.webelement.WebElement (session=\"093de1915659089d152509eeff370177\", element=\"d0508f0c-839b-410a-a69d-e64a1610c76c\")>,\n",
       " <selenium.webdriver.remote.webelement.WebElement (session=\"093de1915659089d152509eeff370177\", element=\"b85f44a0-e209-40ba-b8e2-540f45fe8b0a\")>,\n",
       " <selenium.webdriver.remote.webelement.WebElement (session=\"093de1915659089d152509eeff370177\", element=\"07bb3f79-d221-423a-8fdb-71d01f9c4d6f\")>,\n",
       " <selenium.webdriver.remote.webelement.WebElement (session=\"093de1915659089d152509eeff370177\", element=\"75913309-0103-4f8b-8220-f9219933e4b5\")>,\n",
       " <selenium.webdriver.remote.webelement.WebElement (session=\"093de1915659089d152509eeff370177\", element=\"8a418eca-54e2-4427-bd5c-309c220e5645\")>,\n",
       " <selenium.webdriver.remote.webelement.WebElement (session=\"093de1915659089d152509eeff370177\", element=\"998884c3-e295-4b1a-b1ec-ea29e7c1be01\")>,\n",
       " <selenium.webdriver.remote.webelement.WebElement (session=\"093de1915659089d152509eeff370177\", element=\"419af86c-6abb-41d7-8502-c480f0af1288\")>,\n",
       " <selenium.webdriver.remote.webelement.WebElement (session=\"093de1915659089d152509eeff370177\", element=\"24a5db5f-9dff-44a3-a4e9-fa49adf70698\")>,\n",
       " <selenium.webdriver.remote.webelement.WebElement (session=\"093de1915659089d152509eeff370177\", element=\"d451783c-7a8f-4082-9681-03f07323036a\")>,\n",
       " <selenium.webdriver.remote.webelement.WebElement (session=\"093de1915659089d152509eeff370177\", element=\"29bb521d-a916-4516-952a-20fea1a72553\")>,\n",
       " <selenium.webdriver.remote.webelement.WebElement (session=\"093de1915659089d152509eeff370177\", element=\"59d04467-7a51-442f-b2b2-862a198742e8\")>,\n",
       " <selenium.webdriver.remote.webelement.WebElement (session=\"093de1915659089d152509eeff370177\", element=\"206a9219-d46b-4688-a35f-26880e513498\")>,\n",
       " <selenium.webdriver.remote.webelement.WebElement (session=\"093de1915659089d152509eeff370177\", element=\"6542bd89-8c32-4408-8726-eb5f7789bf6e\")>,\n",
       " <selenium.webdriver.remote.webelement.WebElement (session=\"093de1915659089d152509eeff370177\", element=\"b69071b5-ddb7-4dd6-a6c0-b0291bc6d3dc\")>,\n",
       " <selenium.webdriver.remote.webelement.WebElement (session=\"093de1915659089d152509eeff370177\", element=\"b4ba422a-de8a-4c09-a5b6-30686c159246\")>,\n",
       " <selenium.webdriver.remote.webelement.WebElement (session=\"093de1915659089d152509eeff370177\", element=\"7f45ffe3-591e-41f8-b012-31ca1d35019d\")>,\n",
       " <selenium.webdriver.remote.webelement.WebElement (session=\"093de1915659089d152509eeff370177\", element=\"b83109ee-a548-4d43-ac44-2c9d4d5c0e76\")>,\n",
       " <selenium.webdriver.remote.webelement.WebElement (session=\"093de1915659089d152509eeff370177\", element=\"343efe27-31ad-4f37-90ef-1b40b667bcc8\")>,\n",
       " <selenium.webdriver.remote.webelement.WebElement (session=\"093de1915659089d152509eeff370177\", element=\"cc31711a-f07e-4b65-ab11-7d3b7f209caa\")>,\n",
       " <selenium.webdriver.remote.webelement.WebElement (session=\"093de1915659089d152509eeff370177\", element=\"b861d1fe-9c30-489f-83b2-bd9541c3cb8d\")>,\n",
       " <selenium.webdriver.remote.webelement.WebElement (session=\"093de1915659089d152509eeff370177\", element=\"b44eac8c-1153-4715-9fd2-bcff512d25c3\")>,\n",
       " <selenium.webdriver.remote.webelement.WebElement (session=\"093de1915659089d152509eeff370177\", element=\"10b0d074-41ad-466b-b693-f9baf82aadb7\")>,\n",
       " <selenium.webdriver.remote.webelement.WebElement (session=\"093de1915659089d152509eeff370177\", element=\"2427db70-7c57-400f-a066-2e40490dd6c0\")>,\n",
       " <selenium.webdriver.remote.webelement.WebElement (session=\"093de1915659089d152509eeff370177\", element=\"da3d44f7-e0da-4be3-a87f-954ab12bb625\")>,\n",
       " <selenium.webdriver.remote.webelement.WebElement (session=\"093de1915659089d152509eeff370177\", element=\"36d1b7df-f663-4d5e-9e34-80b988ccca5e\")>,\n",
       " <selenium.webdriver.remote.webelement.WebElement (session=\"093de1915659089d152509eeff370177\", element=\"638c37b0-b0f9-4d67-82e9-09a0661c778c\")>,\n",
       " <selenium.webdriver.remote.webelement.WebElement (session=\"093de1915659089d152509eeff370177\", element=\"6f5a8592-a61d-4d23-ab6e-fc3070049797\")>,\n",
       " <selenium.webdriver.remote.webelement.WebElement (session=\"093de1915659089d152509eeff370177\", element=\"1965f5d1-95b5-43d9-b5f6-ba795f498a02\")>,\n",
       " <selenium.webdriver.remote.webelement.WebElement (session=\"093de1915659089d152509eeff370177\", element=\"028f602b-98f3-4412-a1f9-118028a74cbb\")>,\n",
       " <selenium.webdriver.remote.webelement.WebElement (session=\"093de1915659089d152509eeff370177\", element=\"1fa8bf10-6b08-4e3a-a5cc-e92dd89383dc\")>,\n",
       " <selenium.webdriver.remote.webelement.WebElement (session=\"093de1915659089d152509eeff370177\", element=\"7c8d9faa-08f2-4ce7-b8fc-9be28f31d260\")>,\n",
       " <selenium.webdriver.remote.webelement.WebElement (session=\"093de1915659089d152509eeff370177\", element=\"cafe6f42-b876-4a61-b66b-5f7a3b0400f8\")>,\n",
       " <selenium.webdriver.remote.webelement.WebElement (session=\"093de1915659089d152509eeff370177\", element=\"d36fcf7b-5e9a-411a-af34-d2d3af6b4da0\")>,\n",
       " <selenium.webdriver.remote.webelement.WebElement (session=\"093de1915659089d152509eeff370177\", element=\"e933427e-8f18-43ee-b35c-0cdf9968bc0f\")>,\n",
       " <selenium.webdriver.remote.webelement.WebElement (session=\"093de1915659089d152509eeff370177\", element=\"e16bc918-89a7-4965-a91e-6a9db6ccd2f9\")>,\n",
       " <selenium.webdriver.remote.webelement.WebElement (session=\"093de1915659089d152509eeff370177\", element=\"11b9c183-e584-48ae-9682-5f7218046c3f\")>,\n",
       " <selenium.webdriver.remote.webelement.WebElement (session=\"093de1915659089d152509eeff370177\", element=\"a99317e7-1859-4a22-8304-a34cfcea5da8\")>,\n",
       " <selenium.webdriver.remote.webelement.WebElement (session=\"093de1915659089d152509eeff370177\", element=\"936d52d7-5fb7-4043-8ad1-458dd6876903\")>,\n",
       " <selenium.webdriver.remote.webelement.WebElement (session=\"093de1915659089d152509eeff370177\", element=\"5e5c03d6-9436-43d3-97ec-0d105f4bede2\")>,\n",
       " <selenium.webdriver.remote.webelement.WebElement (session=\"093de1915659089d152509eeff370177\", element=\"8d0e7521-f702-42ec-bc38-3f5b4f54a3af\")>,\n",
       " <selenium.webdriver.remote.webelement.WebElement (session=\"093de1915659089d152509eeff370177\", element=\"1b9c22e2-91fc-40c5-9342-9b8c36e7843a\")>,\n",
       " <selenium.webdriver.remote.webelement.WebElement (session=\"093de1915659089d152509eeff370177\", element=\"7eba506d-bf3d-4771-9a6b-deb997aa131e\")>,\n",
       " <selenium.webdriver.remote.webelement.WebElement (session=\"093de1915659089d152509eeff370177\", element=\"56b748e3-efa1-4042-97dc-47a0152cf830\")>,\n",
       " <selenium.webdriver.remote.webelement.WebElement (session=\"093de1915659089d152509eeff370177\", element=\"aedb34a8-3777-480e-9011-03b51b706f92\")>,\n",
       " <selenium.webdriver.remote.webelement.WebElement (session=\"093de1915659089d152509eeff370177\", element=\"b2a53419-d674-4258-82ee-777eaea01260\")>,\n",
       " <selenium.webdriver.remote.webelement.WebElement (session=\"093de1915659089d152509eeff370177\", element=\"8b754259-f3a4-4260-bb16-52eee874dc7f\")>,\n",
       " <selenium.webdriver.remote.webelement.WebElement (session=\"093de1915659089d152509eeff370177\", element=\"71455a06-ed05-41a5-a302-b28c961f4a65\")>,\n",
       " <selenium.webdriver.remote.webelement.WebElement (session=\"093de1915659089d152509eeff370177\", element=\"e390cff6-de27-4fce-887a-ef6c19c90cb7\")>,\n",
       " <selenium.webdriver.remote.webelement.WebElement (session=\"093de1915659089d152509eeff370177\", element=\"20b4bd95-dfee-469b-927a-b8317f94da15\")>,\n",
       " <selenium.webdriver.remote.webelement.WebElement (session=\"093de1915659089d152509eeff370177\", element=\"6657314a-528d-4913-9126-0ab97aaf9c2c\")>,\n",
       " <selenium.webdriver.remote.webelement.WebElement (session=\"093de1915659089d152509eeff370177\", element=\"d1726177-5294-4ee4-a092-3ed881b90259\")>,\n",
       " <selenium.webdriver.remote.webelement.WebElement (session=\"093de1915659089d152509eeff370177\", element=\"61bf8db8-aad7-430b-97f0-65788e2d67c6\")>,\n",
       " <selenium.webdriver.remote.webelement.WebElement (session=\"093de1915659089d152509eeff370177\", element=\"bd6c4cc6-83ef-4648-8edf-88215bf652e5\")>,\n",
       " <selenium.webdriver.remote.webelement.WebElement (session=\"093de1915659089d152509eeff370177\", element=\"04be75c7-aa97-4ed8-a179-27fec6c8f899\")>,\n",
       " <selenium.webdriver.remote.webelement.WebElement (session=\"093de1915659089d152509eeff370177\", element=\"3e476a72-0544-4a1c-85f7-a3b82550c763\")>,\n",
       " <selenium.webdriver.remote.webelement.WebElement (session=\"093de1915659089d152509eeff370177\", element=\"23e47cd0-f6cd-4589-ad3b-cc9c11b9363e\")>,\n",
       " <selenium.webdriver.remote.webelement.WebElement (session=\"093de1915659089d152509eeff370177\", element=\"b4a06e10-1684-4ae3-a095-d143bd8d54f9\")>,\n",
       " <selenium.webdriver.remote.webelement.WebElement (session=\"093de1915659089d152509eeff370177\", element=\"c6d120d0-c234-4eea-a143-3ac5b4430ee2\")>,\n",
       " <selenium.webdriver.remote.webelement.WebElement (session=\"093de1915659089d152509eeff370177\", element=\"047db263-ed85-435f-813f-fbfdf4381b72\")>,\n",
       " <selenium.webdriver.remote.webelement.WebElement (session=\"093de1915659089d152509eeff370177\", element=\"2262324c-a961-4f9d-b427-20f9f8e23593\")>,\n",
       " <selenium.webdriver.remote.webelement.WebElement (session=\"093de1915659089d152509eeff370177\", element=\"943af204-b7e1-419c-bdc4-c1d13064729a\")>,\n",
       " <selenium.webdriver.remote.webelement.WebElement (session=\"093de1915659089d152509eeff370177\", element=\"126162a5-3ecb-4295-b246-15fa675a07ab\")>,\n",
       " <selenium.webdriver.remote.webelement.WebElement (session=\"093de1915659089d152509eeff370177\", element=\"c3f10497-135f-4bd3-889a-1655ccc2cd3a\")>]"
      ]
     },
     "execution_count": 156,
     "metadata": {},
     "output_type": "execute_result"
    }
   ],
   "source": [
    "price=driver.find_elements_by_xpath('//span[@class=\"a-price-whole\"]')\n",
    "price"
   ]
  },
  {
   "cell_type": "code",
   "execution_count": 157,
   "id": "82b20114",
   "metadata": {},
   "outputs": [
    {
     "data": {
      "text/plain": [
       "['7,348',\n",
       " '3,999',\n",
       " '6,499',\n",
       " '999',\n",
       " '2,850',\n",
       " '2,150',\n",
       " '2,099',\n",
       " '7,499',\n",
       " '2,150',\n",
       " '5,299',\n",
       " '',\n",
       " '',\n",
       " '25,651',\n",
       " '21,867',\n",
       " '19,789',\n",
       " '',\n",
       " '',\n",
       " '',\n",
       " '',\n",
       " '',\n",
       " '2,095',\n",
       " '2,090',\n",
       " '8,299',\n",
       " '5,299',\n",
       " '7,999',\n",
       " '2,843',\n",
       " '5,999',\n",
       " '5,799',\n",
       " '4,280',\n",
       " '2,699',\n",
       " '5,759',\n",
       " '9,999',\n",
       " '2,290',\n",
       " '7,599',\n",
       " '989',\n",
       " '948',\n",
       " '10,150',\n",
       " '2,779',\n",
       " '2,499',\n",
       " '2,090',\n",
       " '3,658',\n",
       " '2,699',\n",
       " '4,669',\n",
       " '11,040',\n",
       " '9,990',\n",
       " '10,790',\n",
       " '12,378',\n",
       " '3,097',\n",
       " '43,626',\n",
       " '9,990',\n",
       " '8,999',\n",
       " '19,115',\n",
       " '61,641',\n",
       " '17,989',\n",
       " '3,416',\n",
       " '48,478',\n",
       " '1,999',\n",
       " '8,264',\n",
       " '19,789',\n",
       " '8,989',\n",
       " '6,082',\n",
       " '51,949',\n",
       " '11,300',\n",
       " '51,138',\n",
       " '8,590',\n",
       " '3,999',\n",
       " '7,599',\n",
       " '3,498',\n",
       " '949',\n",
       " '819']"
      ]
     },
     "execution_count": 157,
     "metadata": {},
     "output_type": "execute_result"
    }
   ],
   "source": [
    "price_name=[]\n",
    "for i in price:\n",
    "    price_name.append(i.text)\n",
    "    \n",
    "price_name"
   ]
  },
  {
   "cell_type": "code",
   "execution_count": 159,
   "id": "1b800f5d",
   "metadata": {},
   "outputs": [
    {
     "name": "stderr",
     "output_type": "stream",
     "text": [
      "<ipython-input-159-1253fbfe3754>:1: DeprecationWarning: find_elements_by_* commands are deprecated. Please use find_elements() instead\n",
      "  exchange=driver.find_elements_by_xpath('/html/body/div[2]/div[2]/div[5]/div[4]/div[4]/div[24]/div[2]/div/div/div/div[1]/span/div[2]/a')\n"
     ]
    },
    {
     "data": {
      "text/plain": [
       "[]"
      ]
     },
     "execution_count": 159,
     "metadata": {},
     "output_type": "execute_result"
    }
   ],
   "source": [
    "exchange=driver.find_elements_by_xpath('/html/body/div[2]/div[2]/div[5]/div[4]/div[4]/div[24]/div[2]/div/div/div/div[1]/span/div[2]/a')\n",
    "exchange"
   ]
  },
  {
   "cell_type": "code",
   "execution_count": 160,
   "id": "2cec5617",
   "metadata": {},
   "outputs": [
    {
     "data": {
      "text/plain": [
       "[]"
      ]
     },
     "execution_count": 160,
     "metadata": {},
     "output_type": "execute_result"
    }
   ],
   "source": [
    "exchange_name=[]\n",
    "for i in exchange:\n",
    "    exchange_name.append(i.text)\n",
    "    \n",
    "exchange_name"
   ]
  },
  {
   "cell_type": "code",
   "execution_count": 161,
   "id": "b0840e83",
   "metadata": {},
   "outputs": [
    {
     "name": "stderr",
     "output_type": "stream",
     "text": [
      "<ipython-input-161-31a37ae2ccba>:1: DeprecationWarning: find_elements_by_* commands are deprecated. Please use find_elements() instead\n",
      "  expected_delivery=driver.find_elements_by_xpath('//span[@id=\"upsell-message\"]')\n"
     ]
    },
    {
     "data": {
      "text/plain": [
       "[]"
      ]
     },
     "execution_count": 161,
     "metadata": {},
     "output_type": "execute_result"
    }
   ],
   "source": [
    "expected_delivery=driver.find_elements_by_xpath('//span[@id=\"upsell-message\"]')\n",
    "expected_delivery"
   ]
  },
  {
   "cell_type": "code",
   "execution_count": 162,
   "id": "adc75dc1",
   "metadata": {},
   "outputs": [
    {
     "data": {
      "text/plain": [
       "[]"
      ]
     },
     "execution_count": 162,
     "metadata": {},
     "output_type": "execute_result"
    }
   ],
   "source": [
    "expected_delivery_name=[]\n",
    "for i in expected_delivery:\n",
    "    expected_delivery_name.append(i.text)\n",
    "    \n",
    "expected_delivery_name"
   ]
  },
  {
   "cell_type": "code",
   "execution_count": 163,
   "id": "ebdec60a",
   "metadata": {},
   "outputs": [
    {
     "name": "stderr",
     "output_type": "stream",
     "text": [
      "<ipython-input-163-187874ca4a91>:1: DeprecationWarning: find_elements_by_* commands are deprecated. Please use find_elements() instead\n",
      "  availability=driver.find_elements_by_xpath('//span[@class=\"a-size-medium a-color-success\"]')\n"
     ]
    },
    {
     "data": {
      "text/plain": [
       "[]"
      ]
     },
     "execution_count": 163,
     "metadata": {},
     "output_type": "execute_result"
    }
   ],
   "source": [
    "availability=driver.find_elements_by_xpath('//span[@class=\"a-size-medium a-color-success\"]')\n",
    "availability"
   ]
  },
  {
   "cell_type": "code",
   "execution_count": 164,
   "id": "30bbd6b0",
   "metadata": {},
   "outputs": [
    {
     "data": {
      "text/plain": [
       "[]"
      ]
     },
     "execution_count": 164,
     "metadata": {},
     "output_type": "execute_result"
    }
   ],
   "source": [
    "availability_name=[]\n",
    "for i in availability:\n",
    "    availability_name.append(i.text)\n",
    "    \n",
    "availability_name"
   ]
  },
  {
   "cell_type": "code",
   "execution_count": 165,
   "id": "55d8c673",
   "metadata": {},
   "outputs": [
    {
     "name": "stderr",
     "output_type": "stream",
     "text": [
      "<ipython-input-165-0278e238dbea>:1: DeprecationWarning: find_elements_by_* commands are deprecated. Please use find_elements() instead\n",
      "  product_url=driver.find_elements_by_xpath('//a[@aria-labelledby=\"ad\"]')\n"
     ]
    },
    {
     "data": {
      "text/plain": [
       "[]"
      ]
     },
     "execution_count": 165,
     "metadata": {},
     "output_type": "execute_result"
    }
   ],
   "source": [
    "product_url=driver.find_elements_by_xpath('//a[@aria-labelledby=\"ad\"]')\n",
    "product_url"
   ]
  },
  {
   "cell_type": "code",
   "execution_count": 166,
   "id": "6accb7f2",
   "metadata": {},
   "outputs": [
    {
     "data": {
      "text/plain": [
       "[]"
      ]
     },
     "execution_count": 166,
     "metadata": {},
     "output_type": "execute_result"
    }
   ],
   "source": [
    "product_url=[]\n",
    "for i in product_url:\n",
    "    product_url.append(i.text)\n",
    "    \n",
    "product_url"
   ]
  },
  {
   "cell_type": "markdown",
   "id": "eb1fc5e2",
   "metadata": {},
   "source": [
    "QUESTION 1"
   ]
  },
  {
   "cell_type": "code",
   "execution_count": 167,
   "id": "da943183",
   "metadata": {},
   "outputs": [
    {
     "name": "stderr",
     "output_type": "stream",
     "text": [
      "<ipython-input-167-452eafebab4f>:2: DeprecationWarning: executable_path has been deprecated, please pass in a Service object\n",
      "  driver = webdriver.Chrome(PATH)\n"
     ]
    }
   ],
   "source": [
    "PATH = 'C:/Users/Shiva Labade/Desktop/chromedriver_win32/chromedriver.exe'\n",
    "driver = webdriver.Chrome(PATH)"
   ]
  },
  {
   "cell_type": "code",
   "execution_count": 168,
   "id": "76e32213",
   "metadata": {},
   "outputs": [],
   "source": [
    "driver.get(\"https://www.amazon.in/\")"
   ]
  },
  {
   "cell_type": "code",
   "execution_count": 169,
   "id": "e4026316",
   "metadata": {},
   "outputs": [
    {
     "name": "stderr",
     "output_type": "stream",
     "text": [
      "<ipython-input-169-68b93386daab>:1: DeprecationWarning: find_element_by_* commands are deprecated. Please use find_element() instead\n",
      "  search_guitar = driver.find_element_by_class_name('nav-search-field ')\n"
     ]
    },
    {
     "data": {
      "text/plain": [
       "<selenium.webdriver.remote.webelement.WebElement (session=\"e193147f55488b8270479e15b66862e3\", element=\"fad637ff-3946-4377-b58d-f31412fbaaa0\")>"
      ]
     },
     "execution_count": 169,
     "metadata": {},
     "output_type": "execute_result"
    }
   ],
   "source": [
    "search_guitar = driver.find_element_by_class_name('nav-search-field ')\n",
    "search_guitar"
   ]
  },
  {
   "cell_type": "code",
   "execution_count": 170,
   "id": "520c3479",
   "metadata": {},
   "outputs": [
    {
     "ename": "ElementNotInteractableException",
     "evalue": "Message: element not interactable\n  (Session info: chrome=99.0.4844.82)\nStacktrace:\nBacktrace:\n\tOrdinal0 [0x00579943+2595139]\n\tOrdinal0 [0x0050C9F1+2148849]\n\tOrdinal0 [0x004043F0+1065968]\n\tOrdinal0 [0x0042C4D3+1230035]\n\tOrdinal0 [0x0042BB8B+1227659]\n\tOrdinal0 [0x0044B9EC+1358316]\n\tOrdinal0 [0x00427474+1209460]\n\tOrdinal0 [0x0044BC04+1358852]\n\tOrdinal0 [0x0045BAF2+1424114]\n\tOrdinal0 [0x0044B806+1357830]\n\tOrdinal0 [0x00426086+1204358]\n\tOrdinal0 [0x00426F96+1208214]\n\tGetHandleVerifier [0x0071B232+1658114]\n\tGetHandleVerifier [0x007D312C+2411516]\n\tGetHandleVerifier [0x0060F261+560433]\n\tGetHandleVerifier [0x0060E366+556598]\n\tOrdinal0 [0x0051286B+2173035]\n\tOrdinal0 [0x005175F8+2192888]\n\tOrdinal0 [0x005176E5+2193125]\n\tOrdinal0 [0x005211FC+2232828]\n\tBaseThreadInitThunk [0x76106739+25]\n\tRtlGetFullPathName_UEx [0x778D8E7F+1215]\n\tRtlGetFullPathName_UEx [0x778D8E4D+1165]\n",
     "output_type": "error",
     "traceback": [
      "\u001b[1;31m---------------------------------------------------------------------------\u001b[0m",
      "\u001b[1;31mElementNotInteractableException\u001b[0m           Traceback (most recent call last)",
      "\u001b[1;32m<ipython-input-170-13683be443ba>\u001b[0m in \u001b[0;36m<module>\u001b[1;34m\u001b[0m\n\u001b[1;32m----> 1\u001b[1;33m \u001b[0msearch_guitar\u001b[0m\u001b[1;33m.\u001b[0m\u001b[0msend_keys\u001b[0m\u001b[1;33m(\u001b[0m\u001b[1;34m'guitar'\u001b[0m\u001b[1;33m)\u001b[0m\u001b[1;33m\u001b[0m\u001b[1;33m\u001b[0m\u001b[0m\n\u001b[0m",
      "\u001b[1;32mC:\\ProgramData\\Anaconda3\\lib\\site-packages\\selenium\\webdriver\\remote\\webelement.py\u001b[0m in \u001b[0;36msend_keys\u001b[1;34m(self, *value)\u001b[0m\n\u001b[0;32m    538\u001b[0m                 \u001b[0mvalue\u001b[0m \u001b[1;33m=\u001b[0m \u001b[1;34m'\\n'\u001b[0m\u001b[1;33m.\u001b[0m\u001b[0mjoin\u001b[0m\u001b[1;33m(\u001b[0m\u001b[0mremote_files\u001b[0m\u001b[1;33m)\u001b[0m\u001b[1;33m\u001b[0m\u001b[1;33m\u001b[0m\u001b[0m\n\u001b[0;32m    539\u001b[0m \u001b[1;33m\u001b[0m\u001b[0m\n\u001b[1;32m--> 540\u001b[1;33m         self._execute(Command.SEND_KEYS_TO_ELEMENT,\n\u001b[0m\u001b[0;32m    541\u001b[0m                       {'text': \"\".join(keys_to_typing(value)),\n\u001b[0;32m    542\u001b[0m                        'value': keys_to_typing(value)})\n",
      "\u001b[1;32mC:\\ProgramData\\Anaconda3\\lib\\site-packages\\selenium\\webdriver\\remote\\webelement.py\u001b[0m in \u001b[0;36m_execute\u001b[1;34m(self, command, params)\u001b[0m\n\u001b[0;32m    708\u001b[0m             \u001b[0mparams\u001b[0m \u001b[1;33m=\u001b[0m \u001b[1;33m{\u001b[0m\u001b[1;33m}\u001b[0m\u001b[1;33m\u001b[0m\u001b[1;33m\u001b[0m\u001b[0m\n\u001b[0;32m    709\u001b[0m         \u001b[0mparams\u001b[0m\u001b[1;33m[\u001b[0m\u001b[1;34m'id'\u001b[0m\u001b[1;33m]\u001b[0m \u001b[1;33m=\u001b[0m \u001b[0mself\u001b[0m\u001b[1;33m.\u001b[0m\u001b[0m_id\u001b[0m\u001b[1;33m\u001b[0m\u001b[1;33m\u001b[0m\u001b[0m\n\u001b[1;32m--> 710\u001b[1;33m         \u001b[1;32mreturn\u001b[0m \u001b[0mself\u001b[0m\u001b[1;33m.\u001b[0m\u001b[0m_parent\u001b[0m\u001b[1;33m.\u001b[0m\u001b[0mexecute\u001b[0m\u001b[1;33m(\u001b[0m\u001b[0mcommand\u001b[0m\u001b[1;33m,\u001b[0m \u001b[0mparams\u001b[0m\u001b[1;33m)\u001b[0m\u001b[1;33m\u001b[0m\u001b[1;33m\u001b[0m\u001b[0m\n\u001b[0m\u001b[0;32m    711\u001b[0m \u001b[1;33m\u001b[0m\u001b[0m\n\u001b[0;32m    712\u001b[0m     \u001b[1;32mdef\u001b[0m \u001b[0mfind_element\u001b[0m\u001b[1;33m(\u001b[0m\u001b[0mself\u001b[0m\u001b[1;33m,\u001b[0m \u001b[0mby\u001b[0m\u001b[1;33m=\u001b[0m\u001b[0mBy\u001b[0m\u001b[1;33m.\u001b[0m\u001b[0mID\u001b[0m\u001b[1;33m,\u001b[0m \u001b[0mvalue\u001b[0m\u001b[1;33m=\u001b[0m\u001b[1;32mNone\u001b[0m\u001b[1;33m)\u001b[0m\u001b[1;33m:\u001b[0m\u001b[1;33m\u001b[0m\u001b[1;33m\u001b[0m\u001b[0m\n",
      "\u001b[1;32mC:\\ProgramData\\Anaconda3\\lib\\site-packages\\selenium\\webdriver\\remote\\webdriver.py\u001b[0m in \u001b[0;36mexecute\u001b[1;34m(self, driver_command, params)\u001b[0m\n\u001b[0;32m    422\u001b[0m         \u001b[0mresponse\u001b[0m \u001b[1;33m=\u001b[0m \u001b[0mself\u001b[0m\u001b[1;33m.\u001b[0m\u001b[0mcommand_executor\u001b[0m\u001b[1;33m.\u001b[0m\u001b[0mexecute\u001b[0m\u001b[1;33m(\u001b[0m\u001b[0mdriver_command\u001b[0m\u001b[1;33m,\u001b[0m \u001b[0mparams\u001b[0m\u001b[1;33m)\u001b[0m\u001b[1;33m\u001b[0m\u001b[1;33m\u001b[0m\u001b[0m\n\u001b[0;32m    423\u001b[0m         \u001b[1;32mif\u001b[0m \u001b[0mresponse\u001b[0m\u001b[1;33m:\u001b[0m\u001b[1;33m\u001b[0m\u001b[1;33m\u001b[0m\u001b[0m\n\u001b[1;32m--> 424\u001b[1;33m             \u001b[0mself\u001b[0m\u001b[1;33m.\u001b[0m\u001b[0merror_handler\u001b[0m\u001b[1;33m.\u001b[0m\u001b[0mcheck_response\u001b[0m\u001b[1;33m(\u001b[0m\u001b[0mresponse\u001b[0m\u001b[1;33m)\u001b[0m\u001b[1;33m\u001b[0m\u001b[1;33m\u001b[0m\u001b[0m\n\u001b[0m\u001b[0;32m    425\u001b[0m             response['value'] = self._unwrap_value(\n\u001b[0;32m    426\u001b[0m                 response.get('value', None))\n",
      "\u001b[1;32mC:\\ProgramData\\Anaconda3\\lib\\site-packages\\selenium\\webdriver\\remote\\errorhandler.py\u001b[0m in \u001b[0;36mcheck_response\u001b[1;34m(self, response)\u001b[0m\n\u001b[0;32m    245\u001b[0m                 \u001b[0malert_text\u001b[0m \u001b[1;33m=\u001b[0m \u001b[0mvalue\u001b[0m\u001b[1;33m[\u001b[0m\u001b[1;34m'alert'\u001b[0m\u001b[1;33m]\u001b[0m\u001b[1;33m.\u001b[0m\u001b[0mget\u001b[0m\u001b[1;33m(\u001b[0m\u001b[1;34m'text'\u001b[0m\u001b[1;33m)\u001b[0m\u001b[1;33m\u001b[0m\u001b[1;33m\u001b[0m\u001b[0m\n\u001b[0;32m    246\u001b[0m             \u001b[1;32mraise\u001b[0m \u001b[0mexception_class\u001b[0m\u001b[1;33m(\u001b[0m\u001b[0mmessage\u001b[0m\u001b[1;33m,\u001b[0m \u001b[0mscreen\u001b[0m\u001b[1;33m,\u001b[0m \u001b[0mstacktrace\u001b[0m\u001b[1;33m,\u001b[0m \u001b[0malert_text\u001b[0m\u001b[1;33m)\u001b[0m  \u001b[1;31m# type: ignore[call-arg]  # mypy is not smart enough here\u001b[0m\u001b[1;33m\u001b[0m\u001b[1;33m\u001b[0m\u001b[0m\n\u001b[1;32m--> 247\u001b[1;33m         \u001b[1;32mraise\u001b[0m \u001b[0mexception_class\u001b[0m\u001b[1;33m(\u001b[0m\u001b[0mmessage\u001b[0m\u001b[1;33m,\u001b[0m \u001b[0mscreen\u001b[0m\u001b[1;33m,\u001b[0m \u001b[0mstacktrace\u001b[0m\u001b[1;33m)\u001b[0m\u001b[1;33m\u001b[0m\u001b[1;33m\u001b[0m\u001b[0m\n\u001b[0m\u001b[0;32m    248\u001b[0m \u001b[1;33m\u001b[0m\u001b[0m\n\u001b[0;32m    249\u001b[0m     \u001b[1;32mdef\u001b[0m \u001b[0m_value_or_default\u001b[0m\u001b[1;33m(\u001b[0m\u001b[0mself\u001b[0m\u001b[1;33m,\u001b[0m \u001b[0mobj\u001b[0m\u001b[1;33m:\u001b[0m \u001b[0mMapping\u001b[0m\u001b[1;33m[\u001b[0m\u001b[0m_KT\u001b[0m\u001b[1;33m,\u001b[0m \u001b[0m_VT\u001b[0m\u001b[1;33m]\u001b[0m\u001b[1;33m,\u001b[0m \u001b[0mkey\u001b[0m\u001b[1;33m:\u001b[0m \u001b[0m_KT\u001b[0m\u001b[1;33m,\u001b[0m \u001b[0mdefault\u001b[0m\u001b[1;33m:\u001b[0m \u001b[0m_VT\u001b[0m\u001b[1;33m)\u001b[0m \u001b[1;33m->\u001b[0m \u001b[0m_VT\u001b[0m\u001b[1;33m:\u001b[0m\u001b[1;33m\u001b[0m\u001b[1;33m\u001b[0m\u001b[0m\n",
      "\u001b[1;31mElementNotInteractableException\u001b[0m: Message: element not interactable\n  (Session info: chrome=99.0.4844.82)\nStacktrace:\nBacktrace:\n\tOrdinal0 [0x00579943+2595139]\n\tOrdinal0 [0x0050C9F1+2148849]\n\tOrdinal0 [0x004043F0+1065968]\n\tOrdinal0 [0x0042C4D3+1230035]\n\tOrdinal0 [0x0042BB8B+1227659]\n\tOrdinal0 [0x0044B9EC+1358316]\n\tOrdinal0 [0x00427474+1209460]\n\tOrdinal0 [0x0044BC04+1358852]\n\tOrdinal0 [0x0045BAF2+1424114]\n\tOrdinal0 [0x0044B806+1357830]\n\tOrdinal0 [0x00426086+1204358]\n\tOrdinal0 [0x00426F96+1208214]\n\tGetHandleVerifier [0x0071B232+1658114]\n\tGetHandleVerifier [0x007D312C+2411516]\n\tGetHandleVerifier [0x0060F261+560433]\n\tGetHandleVerifier [0x0060E366+556598]\n\tOrdinal0 [0x0051286B+2173035]\n\tOrdinal0 [0x005175F8+2192888]\n\tOrdinal0 [0x005176E5+2193125]\n\tOrdinal0 [0x005211FC+2232828]\n\tBaseThreadInitThunk [0x76106739+25]\n\tRtlGetFullPathName_UEx [0x778D8E7F+1215]\n\tRtlGetFullPathName_UEx [0x778D8E4D+1165]\n"
     ]
    }
   ],
   "source": [
    "search_guitar.send_keys('guitar')"
   ]
  },
  {
   "cell_type": "code",
   "execution_count": 171,
   "id": "6989e4b3",
   "metadata": {},
   "outputs": [
    {
     "name": "stderr",
     "output_type": "stream",
     "text": [
      "<ipython-input-171-614c3dc1e69b>:1: DeprecationWarning: find_element_by_* commands are deprecated. Please use find_element() instead\n",
      "  search_btn = driver.find_element_by_class_name('nav-search-field ')\n"
     ]
    },
    {
     "data": {
      "text/plain": [
       "<selenium.webdriver.remote.webelement.WebElement (session=\"e193147f55488b8270479e15b66862e3\", element=\"fad637ff-3946-4377-b58d-f31412fbaaa0\")>"
      ]
     },
     "execution_count": 171,
     "metadata": {},
     "output_type": "execute_result"
    }
   ],
   "source": [
    "search_btn = driver.find_element_by_class_name('nav-search-field ')\n",
    "search_btn"
   ]
  },
  {
   "cell_type": "code",
   "execution_count": 172,
   "id": "5bfa3f2f",
   "metadata": {},
   "outputs": [],
   "source": [
    "search_btn.click()"
   ]
  },
  {
   "cell_type": "code",
   "execution_count": 174,
   "id": "194de627",
   "metadata": {},
   "outputs": [
    {
     "name": "stderr",
     "output_type": "stream",
     "text": [
      "<ipython-input-174-bd4d1663320e>:1: DeprecationWarning: find_element_by_* commands are deprecated. Please use find_element() instead\n",
      "  guitar = driver.find_element_by_class_name(\"nav-input nav-progressive-attribute\")\n"
     ]
    },
    {
     "ename": "NoSuchElementException",
     "evalue": "Message: no such element: Unable to locate element: {\"method\":\"css selector\",\"selector\":\".nav-input nav-progressive-attribute\"}\n  (Session info: chrome=99.0.4844.82)\nStacktrace:\nBacktrace:\n\tOrdinal0 [0x00579943+2595139]\n\tOrdinal0 [0x0050C9F1+2148849]\n\tOrdinal0 [0x00404528+1066280]\n\tOrdinal0 [0x00430FD4+1249236]\n\tOrdinal0 [0x004311CB+1249739]\n\tOrdinal0 [0x0045D812+1431570]\n\tOrdinal0 [0x0044BA34+1358388]\n\tOrdinal0 [0x0045BAF2+1424114]\n\tOrdinal0 [0x0044B806+1357830]\n\tOrdinal0 [0x00426086+1204358]\n\tOrdinal0 [0x00426F96+1208214]\n\tGetHandleVerifier [0x0071B232+1658114]\n\tGetHandleVerifier [0x007D312C+2411516]\n\tGetHandleVerifier [0x0060F261+560433]\n\tGetHandleVerifier [0x0060E366+556598]\n\tOrdinal0 [0x0051286B+2173035]\n\tOrdinal0 [0x005175F8+2192888]\n\tOrdinal0 [0x005176E5+2193125]\n\tOrdinal0 [0x005211FC+2232828]\n\tBaseThreadInitThunk [0x76106739+25]\n\tRtlGetFullPathName_UEx [0x778D8E7F+1215]\n\tRtlGetFullPathName_UEx [0x778D8E4D+1165]\n",
     "output_type": "error",
     "traceback": [
      "\u001b[1;31m---------------------------------------------------------------------------\u001b[0m",
      "\u001b[1;31mNoSuchElementException\u001b[0m                    Traceback (most recent call last)",
      "\u001b[1;32m<ipython-input-174-bd4d1663320e>\u001b[0m in \u001b[0;36m<module>\u001b[1;34m\u001b[0m\n\u001b[1;32m----> 1\u001b[1;33m \u001b[0mguitar\u001b[0m \u001b[1;33m=\u001b[0m \u001b[0mdriver\u001b[0m\u001b[1;33m.\u001b[0m\u001b[0mfind_element_by_class_name\u001b[0m\u001b[1;33m(\u001b[0m\u001b[1;34m\"nav-input nav-progressive-attribute\"\u001b[0m\u001b[1;33m)\u001b[0m\u001b[1;33m\u001b[0m\u001b[1;33m\u001b[0m\u001b[0m\n\u001b[0m\u001b[0;32m      2\u001b[0m \u001b[0mguitar\u001b[0m\u001b[1;33m\u001b[0m\u001b[1;33m\u001b[0m\u001b[0m\n",
      "\u001b[1;32mC:\\ProgramData\\Anaconda3\\lib\\site-packages\\selenium\\webdriver\\remote\\webdriver.py\u001b[0m in \u001b[0;36mfind_element_by_class_name\u001b[1;34m(self, name)\u001b[0m\n\u001b[0;32m    758\u001b[0m             \u001b[0mstacklevel\u001b[0m\u001b[1;33m=\u001b[0m\u001b[1;36m2\u001b[0m\u001b[1;33m,\u001b[0m\u001b[1;33m\u001b[0m\u001b[1;33m\u001b[0m\u001b[0m\n\u001b[0;32m    759\u001b[0m         )\n\u001b[1;32m--> 760\u001b[1;33m         \u001b[1;32mreturn\u001b[0m \u001b[0mself\u001b[0m\u001b[1;33m.\u001b[0m\u001b[0mfind_element\u001b[0m\u001b[1;33m(\u001b[0m\u001b[0mby\u001b[0m\u001b[1;33m=\u001b[0m\u001b[0mBy\u001b[0m\u001b[1;33m.\u001b[0m\u001b[0mCLASS_NAME\u001b[0m\u001b[1;33m,\u001b[0m \u001b[0mvalue\u001b[0m\u001b[1;33m=\u001b[0m\u001b[0mname\u001b[0m\u001b[1;33m)\u001b[0m\u001b[1;33m\u001b[0m\u001b[1;33m\u001b[0m\u001b[0m\n\u001b[0m\u001b[0;32m    761\u001b[0m \u001b[1;33m\u001b[0m\u001b[0m\n\u001b[0;32m    762\u001b[0m     \u001b[1;32mdef\u001b[0m \u001b[0mfind_elements_by_class_name\u001b[0m\u001b[1;33m(\u001b[0m\u001b[0mself\u001b[0m\u001b[1;33m,\u001b[0m \u001b[0mname\u001b[0m\u001b[1;33m)\u001b[0m \u001b[1;33m->\u001b[0m \u001b[0mWebElement\u001b[0m\u001b[1;33m:\u001b[0m\u001b[1;33m\u001b[0m\u001b[1;33m\u001b[0m\u001b[0m\n",
      "\u001b[1;32mC:\\ProgramData\\Anaconda3\\lib\\site-packages\\selenium\\webdriver\\remote\\webdriver.py\u001b[0m in \u001b[0;36mfind_element\u001b[1;34m(self, by, value)\u001b[0m\n\u001b[0;32m   1242\u001b[0m             \u001b[0mvalue\u001b[0m \u001b[1;33m=\u001b[0m \u001b[1;34m'[name=\"%s\"]'\u001b[0m \u001b[1;33m%\u001b[0m \u001b[0mvalue\u001b[0m\u001b[1;33m\u001b[0m\u001b[1;33m\u001b[0m\u001b[0m\n\u001b[0;32m   1243\u001b[0m \u001b[1;33m\u001b[0m\u001b[0m\n\u001b[1;32m-> 1244\u001b[1;33m         return self.execute(Command.FIND_ELEMENT, {\n\u001b[0m\u001b[0;32m   1245\u001b[0m             \u001b[1;34m'using'\u001b[0m\u001b[1;33m:\u001b[0m \u001b[0mby\u001b[0m\u001b[1;33m,\u001b[0m\u001b[1;33m\u001b[0m\u001b[1;33m\u001b[0m\u001b[0m\n\u001b[0;32m   1246\u001b[0m             'value': value})['value']\n",
      "\u001b[1;32mC:\\ProgramData\\Anaconda3\\lib\\site-packages\\selenium\\webdriver\\remote\\webdriver.py\u001b[0m in \u001b[0;36mexecute\u001b[1;34m(self, driver_command, params)\u001b[0m\n\u001b[0;32m    422\u001b[0m         \u001b[0mresponse\u001b[0m \u001b[1;33m=\u001b[0m \u001b[0mself\u001b[0m\u001b[1;33m.\u001b[0m\u001b[0mcommand_executor\u001b[0m\u001b[1;33m.\u001b[0m\u001b[0mexecute\u001b[0m\u001b[1;33m(\u001b[0m\u001b[0mdriver_command\u001b[0m\u001b[1;33m,\u001b[0m \u001b[0mparams\u001b[0m\u001b[1;33m)\u001b[0m\u001b[1;33m\u001b[0m\u001b[1;33m\u001b[0m\u001b[0m\n\u001b[0;32m    423\u001b[0m         \u001b[1;32mif\u001b[0m \u001b[0mresponse\u001b[0m\u001b[1;33m:\u001b[0m\u001b[1;33m\u001b[0m\u001b[1;33m\u001b[0m\u001b[0m\n\u001b[1;32m--> 424\u001b[1;33m             \u001b[0mself\u001b[0m\u001b[1;33m.\u001b[0m\u001b[0merror_handler\u001b[0m\u001b[1;33m.\u001b[0m\u001b[0mcheck_response\u001b[0m\u001b[1;33m(\u001b[0m\u001b[0mresponse\u001b[0m\u001b[1;33m)\u001b[0m\u001b[1;33m\u001b[0m\u001b[1;33m\u001b[0m\u001b[0m\n\u001b[0m\u001b[0;32m    425\u001b[0m             response['value'] = self._unwrap_value(\n\u001b[0;32m    426\u001b[0m                 response.get('value', None))\n",
      "\u001b[1;32mC:\\ProgramData\\Anaconda3\\lib\\site-packages\\selenium\\webdriver\\remote\\errorhandler.py\u001b[0m in \u001b[0;36mcheck_response\u001b[1;34m(self, response)\u001b[0m\n\u001b[0;32m    245\u001b[0m                 \u001b[0malert_text\u001b[0m \u001b[1;33m=\u001b[0m \u001b[0mvalue\u001b[0m\u001b[1;33m[\u001b[0m\u001b[1;34m'alert'\u001b[0m\u001b[1;33m]\u001b[0m\u001b[1;33m.\u001b[0m\u001b[0mget\u001b[0m\u001b[1;33m(\u001b[0m\u001b[1;34m'text'\u001b[0m\u001b[1;33m)\u001b[0m\u001b[1;33m\u001b[0m\u001b[1;33m\u001b[0m\u001b[0m\n\u001b[0;32m    246\u001b[0m             \u001b[1;32mraise\u001b[0m \u001b[0mexception_class\u001b[0m\u001b[1;33m(\u001b[0m\u001b[0mmessage\u001b[0m\u001b[1;33m,\u001b[0m \u001b[0mscreen\u001b[0m\u001b[1;33m,\u001b[0m \u001b[0mstacktrace\u001b[0m\u001b[1;33m,\u001b[0m \u001b[0malert_text\u001b[0m\u001b[1;33m)\u001b[0m  \u001b[1;31m# type: ignore[call-arg]  # mypy is not smart enough here\u001b[0m\u001b[1;33m\u001b[0m\u001b[1;33m\u001b[0m\u001b[0m\n\u001b[1;32m--> 247\u001b[1;33m         \u001b[1;32mraise\u001b[0m \u001b[0mexception_class\u001b[0m\u001b[1;33m(\u001b[0m\u001b[0mmessage\u001b[0m\u001b[1;33m,\u001b[0m \u001b[0mscreen\u001b[0m\u001b[1;33m,\u001b[0m \u001b[0mstacktrace\u001b[0m\u001b[1;33m)\u001b[0m\u001b[1;33m\u001b[0m\u001b[1;33m\u001b[0m\u001b[0m\n\u001b[0m\u001b[0;32m    248\u001b[0m \u001b[1;33m\u001b[0m\u001b[0m\n\u001b[0;32m    249\u001b[0m     \u001b[1;32mdef\u001b[0m \u001b[0m_value_or_default\u001b[0m\u001b[1;33m(\u001b[0m\u001b[0mself\u001b[0m\u001b[1;33m,\u001b[0m \u001b[0mobj\u001b[0m\u001b[1;33m:\u001b[0m \u001b[0mMapping\u001b[0m\u001b[1;33m[\u001b[0m\u001b[0m_KT\u001b[0m\u001b[1;33m,\u001b[0m \u001b[0m_VT\u001b[0m\u001b[1;33m]\u001b[0m\u001b[1;33m,\u001b[0m \u001b[0mkey\u001b[0m\u001b[1;33m:\u001b[0m \u001b[0m_KT\u001b[0m\u001b[1;33m,\u001b[0m \u001b[0mdefault\u001b[0m\u001b[1;33m:\u001b[0m \u001b[0m_VT\u001b[0m\u001b[1;33m)\u001b[0m \u001b[1;33m->\u001b[0m \u001b[0m_VT\u001b[0m\u001b[1;33m:\u001b[0m\u001b[1;33m\u001b[0m\u001b[1;33m\u001b[0m\u001b[0m\n",
      "\u001b[1;31mNoSuchElementException\u001b[0m: Message: no such element: Unable to locate element: {\"method\":\"css selector\",\"selector\":\".nav-input nav-progressive-attribute\"}\n  (Session info: chrome=99.0.4844.82)\nStacktrace:\nBacktrace:\n\tOrdinal0 [0x00579943+2595139]\n\tOrdinal0 [0x0050C9F1+2148849]\n\tOrdinal0 [0x00404528+1066280]\n\tOrdinal0 [0x00430FD4+1249236]\n\tOrdinal0 [0x004311CB+1249739]\n\tOrdinal0 [0x0045D812+1431570]\n\tOrdinal0 [0x0044BA34+1358388]\n\tOrdinal0 [0x0045BAF2+1424114]\n\tOrdinal0 [0x0044B806+1357830]\n\tOrdinal0 [0x00426086+1204358]\n\tOrdinal0 [0x00426F96+1208214]\n\tGetHandleVerifier [0x0071B232+1658114]\n\tGetHandleVerifier [0x007D312C+2411516]\n\tGetHandleVerifier [0x0060F261+560433]\n\tGetHandleVerifier [0x0060E366+556598]\n\tOrdinal0 [0x0051286B+2173035]\n\tOrdinal0 [0x005175F8+2192888]\n\tOrdinal0 [0x005176E5+2193125]\n\tOrdinal0 [0x005211FC+2232828]\n\tBaseThreadInitThunk [0x76106739+25]\n\tRtlGetFullPathName_UEx [0x778D8E7F+1215]\n\tRtlGetFullPathName_UEx [0x778D8E4D+1165]\n"
     ]
    }
   ],
   "source": [
    "guitar = driver.find_element_by_class_name(\"nav-input nav-progressive-attribute\")\n",
    "guitar"
   ]
  },
  {
   "cell_type": "code",
   "execution_count": 176,
   "id": "714a538b",
   "metadata": {},
   "outputs": [
    {
     "data": {
      "text/plain": [
       "[]"
      ]
     },
     "execution_count": 176,
     "metadata": {},
     "output_type": "execute_result"
    }
   ],
   "source": [
    "guitar=[]\n",
    "for i in guitar:\n",
    "    guitar.append(i.text)\n",
    "    \n",
    "guitar"
   ]
  },
  {
   "cell_type": "markdown",
   "id": "d987570c",
   "metadata": {},
   "source": [
    "QUESTION 3"
   ]
  },
  {
   "cell_type": "code",
   "execution_count": 177,
   "id": "0110fbfa",
   "metadata": {},
   "outputs": [
    {
     "name": "stderr",
     "output_type": "stream",
     "text": [
      "<ipython-input-177-717a005650ce>:2: DeprecationWarning: executable_path has been deprecated, please pass in a Service object\n",
      "  driver = webdriver.Chrome(PATH)\n"
     ]
    }
   ],
   "source": [
    "PATH = ('C:/Users/Shiva Labade/Desktop/chromedriver_win32/chromedriver.exe')\n",
    "driver = webdriver.Chrome(PATH)"
   ]
  },
  {
   "cell_type": "code",
   "execution_count": 178,
   "id": "946465cd",
   "metadata": {},
   "outputs": [],
   "source": [
    "driver.get('https://images.google.com/')"
   ]
  },
  {
   "cell_type": "code",
   "execution_count": 183,
   "id": "dd6c8db5",
   "metadata": {},
   "outputs": [
    {
     "name": "stderr",
     "output_type": "stream",
     "text": [
      "<ipython-input-183-65cff079f5b1>:1: DeprecationWarning: find_element_by_* commands are deprecated. Please use find_element() instead\n",
      "  search_fruit = driver.find_element_by_class_name(\"og3lId\")\n"
     ]
    },
    {
     "data": {
      "text/plain": [
       "<selenium.webdriver.remote.webelement.WebElement (session=\"5e0fd1f6d88180bf9e134b8a25d7daf8\", element=\"97712650-f824-474d-b962-89ff1935b552\")>"
      ]
     },
     "execution_count": 183,
     "metadata": {},
     "output_type": "execute_result"
    }
   ],
   "source": [
    "search_fruit = driver.find_element_by_class_name(\"og3lId\")\n",
    "search_fruit"
   ]
  },
  {
   "cell_type": "code",
   "execution_count": 189,
   "id": "9a603724",
   "metadata": {},
   "outputs": [
    {
     "name": "stderr",
     "output_type": "stream",
     "text": [
      "<ipython-input-189-c0a2c1fc1279>:1: DeprecationWarning: find_elements_by_* commands are deprecated. Please use find_elements() instead\n",
      "  images=driver.find_elements_by_xpath('//html/body/div[2]/c-wiz/div[3]/div[1]/div/div/div/div[1]/div[1]/span/div[1]/div[1]/div[1]/a[1]/div[1]')\n"
     ]
    }
   ],
   "source": [
    "images=driver.find_elements_by_xpath('//html/body/div[2]/c-wiz/div[3]/div[1]/div/div/div/div[1]/div[1]/span/div[1]/div[1]/div[1]/a[1]/div[1]')"
   ]
  },
  {
   "cell_type": "code",
   "execution_count": 190,
   "id": "450f5b8c",
   "metadata": {},
   "outputs": [
    {
     "data": {
      "text/plain": [
       "[<selenium.webdriver.remote.webelement.WebElement (session=\"5e0fd1f6d88180bf9e134b8a25d7daf8\", element=\"086c0ae7-6614-4d22-b2da-15fbb3e83ffd\")>]"
      ]
     },
     "execution_count": 190,
     "metadata": {},
     "output_type": "execute_result"
    }
   ],
   "source": [
    "images"
   ]
  },
  {
   "cell_type": "code",
   "execution_count": 191,
   "id": "87b1fbf7",
   "metadata": {},
   "outputs": [
    {
     "data": {
      "text/plain": [
       "[]"
      ]
     },
     "execution_count": 191,
     "metadata": {},
     "output_type": "execute_result"
    }
   ],
   "source": [
    "images=[]\n",
    "for i in images:\n",
    "    images.append(i.text)\n",
    "    \n",
    "images"
   ]
  },
  {
   "cell_type": "code",
   "execution_count": 192,
   "id": "855fe9fc",
   "metadata": {},
   "outputs": [
    {
     "name": "stderr",
     "output_type": "stream",
     "text": [
      "<ipython-input-192-4f1ce4535c61>:1: DeprecationWarning: find_element_by_* commands are deprecated. Please use find_element() instead\n",
      "  search_car = driver.find_element_by_class_name(\"og3lId\")\n"
     ]
    },
    {
     "data": {
      "text/plain": [
       "<selenium.webdriver.remote.webelement.WebElement (session=\"5e0fd1f6d88180bf9e134b8a25d7daf8\", element=\"d01b48c3-e61a-49dc-b91e-e46b2514a58f\")>"
      ]
     },
     "execution_count": 192,
     "metadata": {},
     "output_type": "execute_result"
    }
   ],
   "source": [
    "search_car = driver.find_element_by_class_name(\"og3lId\")\n",
    "search_car"
   ]
  },
  {
   "cell_type": "code",
   "execution_count": 193,
   "id": "f1ad924d",
   "metadata": {},
   "outputs": [
    {
     "name": "stderr",
     "output_type": "stream",
     "text": [
      "<ipython-input-193-39df163eb465>:1: DeprecationWarning: find_elements_by_* commands are deprecated. Please use find_elements() instead\n",
      "  images=driver.find_elements_by_xpath('/html/body/div[2]/c-wiz/div[3]/div[1]/div/div/div/div[1]/div[1]/span/div[1]/div[1]/div[1]/a[1]/div[1]')\n"
     ]
    }
   ],
   "source": [
    "images=driver.find_elements_by_xpath('/html/body/div[2]/c-wiz/div[3]/div[1]/div/div/div/div[1]/div[1]/span/div[1]/div[1]/div[1]/a[1]/div[1]')"
   ]
  },
  {
   "cell_type": "code",
   "execution_count": 194,
   "id": "2aa1221c",
   "metadata": {},
   "outputs": [
    {
     "data": {
      "text/plain": [
       "[<selenium.webdriver.remote.webelement.WebElement (session=\"5e0fd1f6d88180bf9e134b8a25d7daf8\", element=\"4dd04746-2cc6-450f-be7e-10261da979d6\")>]"
      ]
     },
     "execution_count": 194,
     "metadata": {},
     "output_type": "execute_result"
    }
   ],
   "source": [
    "images"
   ]
  },
  {
   "cell_type": "code",
   "execution_count": 195,
   "id": "48e4ae32",
   "metadata": {},
   "outputs": [
    {
     "data": {
      "text/plain": [
       "[]"
      ]
     },
     "execution_count": 195,
     "metadata": {},
     "output_type": "execute_result"
    }
   ],
   "source": [
    "images=[]\n",
    "for i in images:\n",
    "    images.append(i.text)\n",
    "    \n",
    "images"
   ]
  },
  {
   "cell_type": "code",
   "execution_count": 196,
   "id": "cfb5e689",
   "metadata": {},
   "outputs": [
    {
     "name": "stderr",
     "output_type": "stream",
     "text": [
      "<ipython-input-196-e1bbdcaf508e>:1: DeprecationWarning: find_element_by_* commands are deprecated. Please use find_element() instead\n",
      "  search_machine_learning = driver.find_element_by_class_name(\"og3lId\")\n"
     ]
    },
    {
     "data": {
      "text/plain": [
       "<selenium.webdriver.remote.webelement.WebElement (session=\"5e0fd1f6d88180bf9e134b8a25d7daf8\", element=\"5bf14a68-5732-42be-9d6a-ae0abef4962f\")>"
      ]
     },
     "execution_count": 196,
     "metadata": {},
     "output_type": "execute_result"
    }
   ],
   "source": [
    "search_machine_learning = driver.find_element_by_class_name(\"og3lId\")\n",
    "search_machine_learning"
   ]
  },
  {
   "cell_type": "code",
   "execution_count": 197,
   "id": "c402700c",
   "metadata": {},
   "outputs": [
    {
     "name": "stderr",
     "output_type": "stream",
     "text": [
      "<ipython-input-197-31c410a5f52b>:1: DeprecationWarning: find_elements_by_* commands are deprecated. Please use find_elements() instead\n",
      "  images=driver.find_elements_by_xpath('/html/body/div[2]/c-wiz/div[3]/div[1]/div/div/div/div[1]/div[1]/span/div[1]/div[1]/div[1]/a[1]/div[1]')\n"
     ]
    },
    {
     "data": {
      "text/plain": [
       "[<selenium.webdriver.remote.webelement.WebElement (session=\"5e0fd1f6d88180bf9e134b8a25d7daf8\", element=\"4dd04746-2cc6-450f-be7e-10261da979d6\")>]"
      ]
     },
     "execution_count": 197,
     "metadata": {},
     "output_type": "execute_result"
    }
   ],
   "source": [
    "images=driver.find_elements_by_xpath('/html/body/div[2]/c-wiz/div[3]/div[1]/div/div/div/div[1]/div[1]/span/div[1]/div[1]/div[1]/a[1]/div[1]')\n",
    "images"
   ]
  },
  {
   "cell_type": "code",
   "execution_count": 198,
   "id": "2596863a",
   "metadata": {},
   "outputs": [
    {
     "data": {
      "text/plain": [
       "[]"
      ]
     },
     "execution_count": 198,
     "metadata": {},
     "output_type": "execute_result"
    }
   ],
   "source": [
    "images=[]\n",
    "for i in images:\n",
    "    images.append(i.text)\n",
    "    \n",
    "images"
   ]
  },
  {
   "cell_type": "code",
   "execution_count": 199,
   "id": "4c9acec9",
   "metadata": {},
   "outputs": [
    {
     "name": "stderr",
     "output_type": "stream",
     "text": [
      "<ipython-input-199-173f33876ac2>:1: DeprecationWarning: find_element_by_* commands are deprecated. Please use find_element() instead\n",
      "  search_guitar = driver.find_element_by_class_name(\"og3lId\")\n"
     ]
    },
    {
     "data": {
      "text/plain": [
       "<selenium.webdriver.remote.webelement.WebElement (session=\"5e0fd1f6d88180bf9e134b8a25d7daf8\", element=\"5bf14a68-5732-42be-9d6a-ae0abef4962f\")>"
      ]
     },
     "execution_count": 199,
     "metadata": {},
     "output_type": "execute_result"
    }
   ],
   "source": [
    "search_guitar = driver.find_element_by_class_name(\"og3lId\")\n",
    "search_guitar"
   ]
  },
  {
   "cell_type": "code",
   "execution_count": 200,
   "id": "d4ea0144",
   "metadata": {},
   "outputs": [
    {
     "name": "stderr",
     "output_type": "stream",
     "text": [
      "<ipython-input-200-31c410a5f52b>:1: DeprecationWarning: find_elements_by_* commands are deprecated. Please use find_elements() instead\n",
      "  images=driver.find_elements_by_xpath('/html/body/div[2]/c-wiz/div[3]/div[1]/div/div/div/div[1]/div[1]/span/div[1]/div[1]/div[1]/a[1]/div[1]')\n"
     ]
    },
    {
     "data": {
      "text/plain": [
       "[<selenium.webdriver.remote.webelement.WebElement (session=\"5e0fd1f6d88180bf9e134b8a25d7daf8\", element=\"4dd04746-2cc6-450f-be7e-10261da979d6\")>]"
      ]
     },
     "execution_count": 200,
     "metadata": {},
     "output_type": "execute_result"
    }
   ],
   "source": [
    "images=driver.find_elements_by_xpath('/html/body/div[2]/c-wiz/div[3]/div[1]/div/div/div/div[1]/div[1]/span/div[1]/div[1]/div[1]/a[1]/div[1]')\n",
    "images"
   ]
  },
  {
   "cell_type": "code",
   "execution_count": 201,
   "id": "81244e3b",
   "metadata": {},
   "outputs": [
    {
     "data": {
      "text/plain": [
       "[]"
      ]
     },
     "execution_count": 201,
     "metadata": {},
     "output_type": "execute_result"
    }
   ],
   "source": [
    "images=[]\n",
    "for i in images:\n",
    "    images.append(i.text)\n",
    "    \n",
    "images"
   ]
  },
  {
   "cell_type": "code",
   "execution_count": 202,
   "id": "efad9557",
   "metadata": {},
   "outputs": [
    {
     "name": "stderr",
     "output_type": "stream",
     "text": [
      "<ipython-input-202-ed02e15a4486>:1: DeprecationWarning: find_element_by_* commands are deprecated. Please use find_element() instead\n",
      "  search_cake_images = driver.find_element_by_class_name(\"og3lId\")\n"
     ]
    },
    {
     "data": {
      "text/plain": [
       "<selenium.webdriver.remote.webelement.WebElement (session=\"5e0fd1f6d88180bf9e134b8a25d7daf8\", element=\"5bf14a68-5732-42be-9d6a-ae0abef4962f\")>"
      ]
     },
     "execution_count": 202,
     "metadata": {},
     "output_type": "execute_result"
    }
   ],
   "source": [
    "search_cake_images = driver.find_element_by_class_name(\"og3lId\")\n",
    "search_cake_images"
   ]
  },
  {
   "cell_type": "code",
   "execution_count": 203,
   "id": "8d820cc4",
   "metadata": {},
   "outputs": [
    {
     "name": "stderr",
     "output_type": "stream",
     "text": [
      "<ipython-input-203-3b8c5e05faa2>:1: DeprecationWarning: find_elements_by_* commands are deprecated. Please use find_elements() instead\n",
      "  cake_images=driver.find_elements_by_xpath('/html/body/div[2]/c-wiz/div[3]/div[1]/div/div/div/div[1]/div[1]/span/div[1]/div[1]/div[1]/a[1]/div[1]')\n"
     ]
    },
    {
     "data": {
      "text/plain": [
       "[<selenium.webdriver.remote.webelement.WebElement (session=\"5e0fd1f6d88180bf9e134b8a25d7daf8\", element=\"4dd04746-2cc6-450f-be7e-10261da979d6\")>]"
      ]
     },
     "execution_count": 203,
     "metadata": {},
     "output_type": "execute_result"
    }
   ],
   "source": [
    "cake_images=driver.find_elements_by_xpath('/html/body/div[2]/c-wiz/div[3]/div[1]/div/div/div/div[1]/div[1]/span/div[1]/div[1]/div[1]/a[1]/div[1]')\n",
    "cake_images"
   ]
  },
  {
   "cell_type": "code",
   "execution_count": 204,
   "id": "10cd64ae",
   "metadata": {},
   "outputs": [
    {
     "data": {
      "text/plain": [
       "[]"
      ]
     },
     "execution_count": 204,
     "metadata": {},
     "output_type": "execute_result"
    }
   ],
   "source": [
    "images=[]\n",
    "for i in images:\n",
    "    images.append(i.text)\n",
    "    \n",
    "images"
   ]
  },
  {
   "cell_type": "code",
   "execution_count": null,
   "id": "4d1ea334",
   "metadata": {},
   "outputs": [],
   "source": []
  }
 ],
 "metadata": {
  "kernelspec": {
   "display_name": "Python 3",
   "language": "python",
   "name": "python3"
  },
  "language_info": {
   "codemirror_mode": {
    "name": "ipython",
    "version": 3
   },
   "file_extension": ".py",
   "mimetype": "text/x-python",
   "name": "python",
   "nbconvert_exporter": "python",
   "pygments_lexer": "ipython3",
   "version": "3.8.8"
  }
 },
 "nbformat": 4,
 "nbformat_minor": 5
}
