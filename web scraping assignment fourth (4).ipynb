{
 "cells": [
  {
   "cell_type": "code",
   "execution_count": 1,
   "id": "879b6f5b",
   "metadata": {},
   "outputs": [],
   "source": [
    "import selenium \n",
    "import pandas as pd\n",
    "import time\n",
    "from bs4 import BeautifulSoup \n",
    "\n",
    "from selenium import webdriver \n",
    "from selenium.common.exceptions import StaleElementReferenceException, NoSuchElementException\n",
    "\n",
    "import requests \n",
    "\n",
    "import re \n",
    "\n",
    "import time"
   ]
  },
  {
   "cell_type": "code",
   "execution_count": 2,
   "id": "49309ec5",
   "metadata": {},
   "outputs": [
    {
     "name": "stderr",
     "output_type": "stream",
     "text": [
      "<ipython-input-2-452eafebab4f>:2: DeprecationWarning: executable_path has been deprecated, please pass in a Service object\n",
      "  driver = webdriver.Chrome(PATH)\n"
     ]
    }
   ],
   "source": [
    "PATH = 'C:/Users/Shiva Labade/Desktop/chromedriver_win32/chromedriver.exe'\n",
    "driver = webdriver.Chrome(PATH)"
   ]
  },
  {
   "cell_type": "markdown",
   "id": "f0acf221",
   "metadata": {},
   "source": [
    "QUESTION 1"
   ]
  },
  {
   "cell_type": "code",
   "execution_count": 3,
   "id": "1dd3bbb0",
   "metadata": {},
   "outputs": [],
   "source": [
    "driver.get('https://en.wikipedia.org/wiki/List_of_most-viewed_YouTube_videos')"
   ]
  },
  {
   "cell_type": "code",
   "execution_count": 5,
   "id": "f50d9df2",
   "metadata": {},
   "outputs": [
    {
     "name": "stderr",
     "output_type": "stream",
     "text": [
      "<ipython-input-5-f1be644995d9>:1: DeprecationWarning: find_element_by_* commands are deprecated. Please use find_element() instead\n",
      "  search_rank = driver.find_element_by_class_name(\"vector-search-box-input\")\n"
     ]
    },
    {
     "data": {
      "text/plain": [
       "<selenium.webdriver.remote.webelement.WebElement (session=\"5ff43c547b77708431b59cb4d0e1ef3a\", element=\"ff855bf3-78ae-452b-baec-d130f253ea91\")>"
      ]
     },
     "execution_count": 5,
     "metadata": {},
     "output_type": "execute_result"
    }
   ],
   "source": [
    "search_rank = driver.find_element_by_class_name(\"vector-search-box-input\")\n",
    "search_rank"
   ]
  },
  {
   "cell_type": "code",
   "execution_count": 6,
   "id": "8ac33169",
   "metadata": {},
   "outputs": [],
   "source": [
    "search_rank.send_keys(\"rank\")"
   ]
  },
  {
   "cell_type": "code",
   "execution_count": 7,
   "id": "7de1c07e",
   "metadata": {},
   "outputs": [
    {
     "name": "stderr",
     "output_type": "stream",
     "text": [
      "<ipython-input-7-f393059d7239>:1: DeprecationWarning: find_element_by_* commands are deprecated. Please use find_element() instead\n",
      "  search_btn = driver.find_element_by_class_name(\"vector-search-box-input\")\n"
     ]
    },
    {
     "data": {
      "text/plain": [
       "<selenium.webdriver.remote.webelement.WebElement (session=\"5ff43c547b77708431b59cb4d0e1ef3a\", element=\"ff855bf3-78ae-452b-baec-d130f253ea91\")>"
      ]
     },
     "execution_count": 7,
     "metadata": {},
     "output_type": "execute_result"
    }
   ],
   "source": [
    "search_btn = driver.find_element_by_class_name(\"vector-search-box-input\")\n",
    "search_btn"
   ]
  },
  {
   "cell_type": "code",
   "execution_count": 8,
   "id": "48fc9204",
   "metadata": {},
   "outputs": [],
   "source": [
    "search_btn.click()"
   ]
  },
  {
   "cell_type": "code",
   "execution_count": 9,
   "id": "d1ba6c6e",
   "metadata": {},
   "outputs": [
    {
     "name": "stderr",
     "output_type": "stream",
     "text": [
      "<ipython-input-9-5e9ec86c3e24>:1: DeprecationWarning: find_elements_by_* commands are deprecated. Please use find_elements() instead\n",
      "  rank=driver.find_elements_by_xpath('//div[@class=\"vector-body\"]')\n"
     ]
    }
   ],
   "source": [
    "rank=driver.find_elements_by_xpath('//div[@class=\"vector-body\"]')"
   ]
  },
  {
   "cell_type": "code",
   "execution_count": 10,
   "id": "fc6bb121",
   "metadata": {},
   "outputs": [
    {
     "data": {
      "text/plain": [
       "[<selenium.webdriver.remote.webelement.WebElement (session=\"5ff43c547b77708431b59cb4d0e1ef3a\", element=\"501306ca-eef0-4dd6-9db2-d38e01a814a4\")>]"
      ]
     },
     "execution_count": 10,
     "metadata": {},
     "output_type": "execute_result"
    }
   ],
   "source": [
    "rank"
   ]
  },
  {
   "cell_type": "code",
   "execution_count": 11,
   "id": "9845bdc0",
   "metadata": {},
   "outputs": [
    {
     "data": {
      "text/plain": [
       "[]"
      ]
     },
     "execution_count": 11,
     "metadata": {},
     "output_type": "execute_result"
    }
   ],
   "source": [
    "rank=[]\n",
    "for i in rank:\n",
    "    rank.append(i.text)\n",
    "    \n",
    "rank"
   ]
  },
  {
   "cell_type": "code",
   "execution_count": 12,
   "id": "176cc21e",
   "metadata": {},
   "outputs": [
    {
     "name": "stderr",
     "output_type": "stream",
     "text": [
      "<ipython-input-12-d8c5f5575aa3>:1: DeprecationWarning: find_elements_by_* commands are deprecated. Please use find_elements() instead\n",
      "  name=driver.find_elements_by_xpath('//div[@class=\"vector-body\"]')\n"
     ]
    },
    {
     "data": {
      "text/plain": [
       "[<selenium.webdriver.remote.webelement.WebElement (session=\"5ff43c547b77708431b59cb4d0e1ef3a\", element=\"501306ca-eef0-4dd6-9db2-d38e01a814a4\")>]"
      ]
     },
     "execution_count": 12,
     "metadata": {},
     "output_type": "execute_result"
    }
   ],
   "source": [
    "name=driver.find_elements_by_xpath('//div[@class=\"vector-body\"]')\n",
    "name"
   ]
  },
  {
   "cell_type": "code",
   "execution_count": 13,
   "id": "cfea7ad4",
   "metadata": {},
   "outputs": [
    {
     "data": {
      "text/plain": [
       "[]"
      ]
     },
     "execution_count": 13,
     "metadata": {},
     "output_type": "execute_result"
    }
   ],
   "source": [
    "name=[]\n",
    "for i in name:\n",
    "    name.append(i.text)\n",
    "    \n",
    "name"
   ]
  },
  {
   "cell_type": "code",
   "execution_count": 14,
   "id": "fb2609f4",
   "metadata": {},
   "outputs": [
    {
     "name": "stderr",
     "output_type": "stream",
     "text": [
      "<ipython-input-14-a24d004ab5a6>:1: DeprecationWarning: find_elements_by_* commands are deprecated. Please use find_elements() instead\n",
      "  artist=driver.find_elements_by_xpath('//div[@class=\"vector-body\"]')\n"
     ]
    },
    {
     "data": {
      "text/plain": [
       "[<selenium.webdriver.remote.webelement.WebElement (session=\"5ff43c547b77708431b59cb4d0e1ef3a\", element=\"501306ca-eef0-4dd6-9db2-d38e01a814a4\")>]"
      ]
     },
     "execution_count": 14,
     "metadata": {},
     "output_type": "execute_result"
    }
   ],
   "source": [
    "artist=driver.find_elements_by_xpath('//div[@class=\"vector-body\"]')\n",
    "artist"
   ]
  },
  {
   "cell_type": "code",
   "execution_count": 15,
   "id": "5fe08463",
   "metadata": {},
   "outputs": [
    {
     "data": {
      "text/plain": [
       "[]"
      ]
     },
     "execution_count": 15,
     "metadata": {},
     "output_type": "execute_result"
    }
   ],
   "source": [
    "artist=[]\n",
    "for i in artist:\n",
    "    artist.append(i.text)\n",
    "    \n",
    "artist"
   ]
  },
  {
   "cell_type": "code",
   "execution_count": 16,
   "id": "3f068a33",
   "metadata": {},
   "outputs": [
    {
     "name": "stderr",
     "output_type": "stream",
     "text": [
      "<ipython-input-16-b05363dfc278>:1: DeprecationWarning: find_elements_by_* commands are deprecated. Please use find_elements() instead\n",
      "  upload_date=driver.find_elements_by_xpath('//a[@class=\"new\"]')\n"
     ]
    },
    {
     "data": {
      "text/plain": [
       "[<selenium.webdriver.remote.webelement.WebElement (session=\"5ff43c547b77708431b59cb4d0e1ef3a\", element=\"486b9564-c9b6-4a94-ac95-91eec0f46ce9\")>]"
      ]
     },
     "execution_count": 16,
     "metadata": {},
     "output_type": "execute_result"
    }
   ],
   "source": [
    "upload_date=driver.find_elements_by_xpath('//a[@class=\"new\"]')\n",
    "upload_date"
   ]
  },
  {
   "cell_type": "code",
   "execution_count": 17,
   "id": "8c980be7",
   "metadata": {},
   "outputs": [
    {
     "data": {
      "text/plain": [
       "[]"
      ]
     },
     "execution_count": 17,
     "metadata": {},
     "output_type": "execute_result"
    }
   ],
   "source": [
    "upload_date=[]\n",
    "for i in upload_date:\n",
    "   upload_date.append(i.text)\n",
    "    \n",
    "upload_date"
   ]
  },
  {
   "cell_type": "code",
   "execution_count": 18,
   "id": "1f398f1c",
   "metadata": {},
   "outputs": [
    {
     "name": "stderr",
     "output_type": "stream",
     "text": [
      "<ipython-input-18-2385a2c26976>:1: DeprecationWarning: find_elements_by_* commands are deprecated. Please use find_elements() instead\n",
      "  views=driver.find_elements_by_xpath('//a[@class=\"new\"]')\n"
     ]
    },
    {
     "data": {
      "text/plain": [
       "[<selenium.webdriver.remote.webelement.WebElement (session=\"5ff43c547b77708431b59cb4d0e1ef3a\", element=\"486b9564-c9b6-4a94-ac95-91eec0f46ce9\")>]"
      ]
     },
     "execution_count": 18,
     "metadata": {},
     "output_type": "execute_result"
    }
   ],
   "source": [
    "views=driver.find_elements_by_xpath('//a[@class=\"new\"]')\n",
    "views"
   ]
  },
  {
   "cell_type": "code",
   "execution_count": 19,
   "id": "7958d6e3",
   "metadata": {},
   "outputs": [
    {
     "data": {
      "text/plain": [
       "[]"
      ]
     },
     "execution_count": 19,
     "metadata": {},
     "output_type": "execute_result"
    }
   ],
   "source": [
    "views=[]\n",
    "for i in views:\n",
    "   views.append(i.text)\n",
    "    \n",
    "views"
   ]
  },
  {
   "cell_type": "markdown",
   "id": "f2501143",
   "metadata": {},
   "source": [
    "QUESTION 2"
   ]
  },
  {
   "cell_type": "code",
   "execution_count": 20,
   "id": "0609c185",
   "metadata": {},
   "outputs": [
    {
     "name": "stderr",
     "output_type": "stream",
     "text": [
      "<ipython-input-20-452eafebab4f>:2: DeprecationWarning: executable_path has been deprecated, please pass in a Service object\n",
      "  driver = webdriver.Chrome(PATH)\n"
     ]
    }
   ],
   "source": [
    "PATH = 'C:/Users/Shiva Labade/Desktop/chromedriver_win32/chromedriver.exe'\n",
    "driver = webdriver.Chrome(PATH)"
   ]
  },
  {
   "cell_type": "code",
   "execution_count": 22,
   "id": "20738cec",
   "metadata": {},
   "outputs": [],
   "source": [
    "driver.get('https://www.bcci.tv/')"
   ]
  },
  {
   "cell_type": "code",
   "execution_count": 25,
   "id": "ae7fdfe3",
   "metadata": {},
   "outputs": [
    {
     "name": "stderr",
     "output_type": "stream",
     "text": [
      "<ipython-input-25-4b44a6b40862>:1: DeprecationWarning: find_element_by_* commands are deprecated. Please use find_element() instead\n",
      "  search_international_fixtures = driver.find_element_by_class_name(\"top-bar-container\")\n"
     ]
    },
    {
     "data": {
      "text/plain": [
       "<selenium.webdriver.remote.webelement.WebElement (session=\"ea0556f0bb4cf8d82f70ceecf76fa7a1\", element=\"590a0bf9-8854-4118-b4a2-afdfb2989d2d\")>"
      ]
     },
     "execution_count": 25,
     "metadata": {},
     "output_type": "execute_result"
    }
   ],
   "source": [
    "search_international_fixtures = driver.find_element_by_class_name(\"top-bar-container\")\n",
    "search_international_fixtures "
   ]
  },
  {
   "cell_type": "code",
   "execution_count": 27,
   "id": "57ba1d18",
   "metadata": {},
   "outputs": [
    {
     "name": "stderr",
     "output_type": "stream",
     "text": [
      "<ipython-input-27-301110d6c66d>:1: DeprecationWarning: find_elements_by_* commands are deprecated. Please use find_elements() instead\n",
      "  match_title=driver.find_elements_by_xpath('//span[@class=\"ng-binding\"]')\n"
     ]
    },
    {
     "data": {
      "text/plain": [
       "[<selenium.webdriver.remote.webelement.WebElement (session=\"ea0556f0bb4cf8d82f70ceecf76fa7a1\", element=\"7cb9e15d-a7bc-4e01-9b6b-f7ced3a09556\")>,\n",
       " <selenium.webdriver.remote.webelement.WebElement (session=\"ea0556f0bb4cf8d82f70ceecf76fa7a1\", element=\"d8564a6e-d3ad-416c-80e9-b960699b51b8\")>,\n",
       " <selenium.webdriver.remote.webelement.WebElement (session=\"ea0556f0bb4cf8d82f70ceecf76fa7a1\", element=\"d8ef5001-8129-44bd-bfe3-c94f382ed2bc\")>,\n",
       " <selenium.webdriver.remote.webelement.WebElement (session=\"ea0556f0bb4cf8d82f70ceecf76fa7a1\", element=\"880e2f9f-dc6f-4a62-a4f8-62efcbf0b497\")>,\n",
       " <selenium.webdriver.remote.webelement.WebElement (session=\"ea0556f0bb4cf8d82f70ceecf76fa7a1\", element=\"3ddf8ef7-1db9-4bdc-abec-27422dbfcc05\")>,\n",
       " <selenium.webdriver.remote.webelement.WebElement (session=\"ea0556f0bb4cf8d82f70ceecf76fa7a1\", element=\"dd72f447-9ba0-4771-8d83-f63febf660ea\")>]"
      ]
     },
     "execution_count": 27,
     "metadata": {},
     "output_type": "execute_result"
    }
   ],
   "source": [
    "match_title=driver.find_elements_by_xpath('//span[@class=\"ng-binding\"]')\n",
    "match_title"
   ]
  },
  {
   "cell_type": "code",
   "execution_count": 29,
   "id": "a281eedf",
   "metadata": {},
   "outputs": [
    {
     "data": {
      "text/plain": [
       "[]"
      ]
     },
     "execution_count": 29,
     "metadata": {},
     "output_type": "execute_result"
    }
   ],
   "source": [
    "match_title=[]\n",
    "for i in match_title:\n",
    "   match_title.append(i.text)\n",
    "    \n",
    "match_title"
   ]
  },
  {
   "cell_type": "code",
   "execution_count": 30,
   "id": "c9cc04d0",
   "metadata": {},
   "outputs": [
    {
     "name": "stderr",
     "output_type": "stream",
     "text": [
      "<ipython-input-30-e0f022373929>:1: DeprecationWarning: find_elements_by_* commands are deprecated. Please use find_elements() instead\n",
      "  series=driver.find_elements_by_xpath('//div[@class=\"cSBDisplay ng-binding\"]')\n"
     ]
    },
    {
     "data": {
      "text/plain": [
       "[<selenium.webdriver.remote.webelement.WebElement (session=\"ea0556f0bb4cf8d82f70ceecf76fa7a1\", element=\"c1efd2d8-0df5-41dc-83b1-2a40660a9de0\")>,\n",
       " <selenium.webdriver.remote.webelement.WebElement (session=\"ea0556f0bb4cf8d82f70ceecf76fa7a1\", element=\"6f69ab0b-11ea-45bc-a281-7a76aa11acb9\")>,\n",
       " <selenium.webdriver.remote.webelement.WebElement (session=\"ea0556f0bb4cf8d82f70ceecf76fa7a1\", element=\"0cabeae2-2448-462e-ac1c-dda06d644fda\")>,\n",
       " <selenium.webdriver.remote.webelement.WebElement (session=\"ea0556f0bb4cf8d82f70ceecf76fa7a1\", element=\"2b1798e6-6e63-43ea-952f-658f8ca71a12\")>,\n",
       " <selenium.webdriver.remote.webelement.WebElement (session=\"ea0556f0bb4cf8d82f70ceecf76fa7a1\", element=\"aa21daf8-eae2-48a7-b8ee-c169c0855ad0\")>]"
      ]
     },
     "execution_count": 30,
     "metadata": {},
     "output_type": "execute_result"
    }
   ],
   "source": [
    "series=driver.find_elements_by_xpath('//div[@class=\"cSBDisplay ng-binding\"]')\n",
    "series"
   ]
  },
  {
   "cell_type": "code",
   "execution_count": 31,
   "id": "5347b4c0",
   "metadata": {},
   "outputs": [
    {
     "data": {
      "text/plain": [
       "[]"
      ]
     },
     "execution_count": 31,
     "metadata": {},
     "output_type": "execute_result"
    }
   ],
   "source": [
    "series=[]\n",
    "for i in series:\n",
    "   series.append(i.text)\n",
    "    \n",
    "series"
   ]
  },
  {
   "cell_type": "code",
   "execution_count": 32,
   "id": "6fbfccc5",
   "metadata": {},
   "outputs": [
    {
     "name": "stderr",
     "output_type": "stream",
     "text": [
      "<ipython-input-32-77a139d2d75f>:1: DeprecationWarning: find_elements_by_* commands are deprecated. Please use find_elements() instead\n",
      "  place=driver.find_elements_by_xpath('//div[@class=\"fix-place ng-binding ng-scope\"]')\n"
     ]
    },
    {
     "data": {
      "text/plain": [
       "[<selenium.webdriver.remote.webelement.WebElement (session=\"ea0556f0bb4cf8d82f70ceecf76fa7a1\", element=\"676a3c71-cda4-4ac9-862d-9d05a2abbb2f\")>,\n",
       " <selenium.webdriver.remote.webelement.WebElement (session=\"ea0556f0bb4cf8d82f70ceecf76fa7a1\", element=\"d4f35efe-b27e-4b86-bd4f-b43311850836\")>,\n",
       " <selenium.webdriver.remote.webelement.WebElement (session=\"ea0556f0bb4cf8d82f70ceecf76fa7a1\", element=\"ea1a32cc-82d3-4ad2-bf24-16eab5b4e676\")>,\n",
       " <selenium.webdriver.remote.webelement.WebElement (session=\"ea0556f0bb4cf8d82f70ceecf76fa7a1\", element=\"e9ceb65b-8366-4b0b-90ff-ddd94e731eb6\")>,\n",
       " <selenium.webdriver.remote.webelement.WebElement (session=\"ea0556f0bb4cf8d82f70ceecf76fa7a1\", element=\"0e663e34-ad91-4f40-8e71-e0e9656d4f2e\")>,\n",
       " <selenium.webdriver.remote.webelement.WebElement (session=\"ea0556f0bb4cf8d82f70ceecf76fa7a1\", element=\"2bf1c079-3fe4-44b6-86ca-0621393e38d6\")>]"
      ]
     },
     "execution_count": 32,
     "metadata": {},
     "output_type": "execute_result"
    }
   ],
   "source": [
    "place=driver.find_elements_by_xpath('//div[@class=\"fix-place ng-binding ng-scope\"]')\n",
    "place"
   ]
  },
  {
   "cell_type": "code",
   "execution_count": 33,
   "id": "0d9e9159",
   "metadata": {},
   "outputs": [
    {
     "data": {
      "text/plain": [
       "[]"
      ]
     },
     "execution_count": 33,
     "metadata": {},
     "output_type": "execute_result"
    }
   ],
   "source": [
    "place=[]\n",
    "for i in place:\n",
    "   place.append(i.text)\n",
    "    \n",
    "place"
   ]
  },
  {
   "cell_type": "code",
   "execution_count": 34,
   "id": "6e318d8e",
   "metadata": {},
   "outputs": [
    {
     "name": "stderr",
     "output_type": "stream",
     "text": [
      "<ipython-input-34-5b067bdd8747>:1: DeprecationWarning: find_elements_by_* commands are deprecated. Please use find_elements() instead\n",
      "  date=driver.find_elements_by_xpath('//h5[@class=\"ng-binding\"]')\n"
     ]
    },
    {
     "data": {
      "text/plain": [
       "[<selenium.webdriver.remote.webelement.WebElement (session=\"ea0556f0bb4cf8d82f70ceecf76fa7a1\", element=\"3d0f3d51-eb6c-423b-aa5c-98094c7deb57\")>,\n",
       " <selenium.webdriver.remote.webelement.WebElement (session=\"ea0556f0bb4cf8d82f70ceecf76fa7a1\", element=\"befc57e0-51ff-41d5-9c90-f5016b541b83\")>,\n",
       " <selenium.webdriver.remote.webelement.WebElement (session=\"ea0556f0bb4cf8d82f70ceecf76fa7a1\", element=\"ede760c5-53c5-40a8-bbc9-ebbda6c6f81e\")>,\n",
       " <selenium.webdriver.remote.webelement.WebElement (session=\"ea0556f0bb4cf8d82f70ceecf76fa7a1\", element=\"9cd2ac0a-2abd-4dbc-a5ca-6ada20047d73\")>,\n",
       " <selenium.webdriver.remote.webelement.WebElement (session=\"ea0556f0bb4cf8d82f70ceecf76fa7a1\", element=\"6adc70f9-2c8e-44a6-add8-74cd838a85dd\")>,\n",
       " <selenium.webdriver.remote.webelement.WebElement (session=\"ea0556f0bb4cf8d82f70ceecf76fa7a1\", element=\"68d25682-9f39-4235-b2b4-6cc435200a85\")>]"
      ]
     },
     "execution_count": 34,
     "metadata": {},
     "output_type": "execute_result"
    }
   ],
   "source": [
    "date=driver.find_elements_by_xpath('//h5[@class=\"ng-binding\"]')\n",
    "date"
   ]
  },
  {
   "cell_type": "code",
   "execution_count": 35,
   "id": "43896e5f",
   "metadata": {},
   "outputs": [
    {
     "data": {
      "text/plain": [
       "6"
      ]
     },
     "execution_count": 35,
     "metadata": {},
     "output_type": "execute_result"
    }
   ],
   "source": [
    "len(date)"
   ]
  },
  {
   "cell_type": "code",
   "execution_count": 36,
   "id": "7c2617f8",
   "metadata": {},
   "outputs": [
    {
     "data": {
      "text/plain": [
       "[]"
      ]
     },
     "execution_count": 36,
     "metadata": {},
     "output_type": "execute_result"
    }
   ],
   "source": [
    "date=[]\n",
    "for i in date:\n",
    "   date.append(i.text)\n",
    "    \n",
    "date"
   ]
  },
  {
   "cell_type": "code",
   "execution_count": 37,
   "id": "85989a11",
   "metadata": {},
   "outputs": [
    {
     "name": "stderr",
     "output_type": "stream",
     "text": [
      "<ipython-input-37-966ae325b92e>:1: DeprecationWarning: find_elements_by_* commands are deprecated. Please use find_elements() instead\n",
      "  time=driver.find_elements_by_xpath('//h5[@class=\"text-right ng-binding\"]')\n"
     ]
    },
    {
     "data": {
      "text/plain": [
       "[<selenium.webdriver.remote.webelement.WebElement (session=\"ea0556f0bb4cf8d82f70ceecf76fa7a1\", element=\"33370018-f90a-4c54-a566-9b5ca97b81ef\")>,\n",
       " <selenium.webdriver.remote.webelement.WebElement (session=\"ea0556f0bb4cf8d82f70ceecf76fa7a1\", element=\"db0c58f5-c87e-41cf-97f0-62e816b8f39b\")>,\n",
       " <selenium.webdriver.remote.webelement.WebElement (session=\"ea0556f0bb4cf8d82f70ceecf76fa7a1\", element=\"00472011-097b-49f3-b130-2b8889e6503a\")>,\n",
       " <selenium.webdriver.remote.webelement.WebElement (session=\"ea0556f0bb4cf8d82f70ceecf76fa7a1\", element=\"752fbd92-294d-4fe7-9b0b-ad5bc71f2a9e\")>,\n",
       " <selenium.webdriver.remote.webelement.WebElement (session=\"ea0556f0bb4cf8d82f70ceecf76fa7a1\", element=\"7046f6cf-e988-4dab-8659-8126baf69742\")>,\n",
       " <selenium.webdriver.remote.webelement.WebElement (session=\"ea0556f0bb4cf8d82f70ceecf76fa7a1\", element=\"7ed9431a-294d-4f27-8f8c-3078af8bfdf3\")>]"
      ]
     },
     "execution_count": 37,
     "metadata": {},
     "output_type": "execute_result"
    }
   ],
   "source": [
    "time=driver.find_elements_by_xpath('//h5[@class=\"text-right ng-binding\"]')\n",
    "time"
   ]
  },
  {
   "cell_type": "code",
   "execution_count": 38,
   "id": "071882d3",
   "metadata": {},
   "outputs": [
    {
     "data": {
      "text/plain": [
       "[]"
      ]
     },
     "execution_count": 38,
     "metadata": {},
     "output_type": "execute_result"
    }
   ],
   "source": [
    "time=[]\n",
    "for i in time:\n",
    "   time.append(i.text)\n",
    "    \n",
    "time"
   ]
  },
  {
   "cell_type": "markdown",
   "id": "200d6568",
   "metadata": {},
   "source": [
    "QUESTION 3"
   ]
  },
  {
   "cell_type": "code",
   "execution_count": 39,
   "id": "44c3f1a8",
   "metadata": {},
   "outputs": [
    {
     "name": "stderr",
     "output_type": "stream",
     "text": [
      "<ipython-input-39-452eafebab4f>:2: DeprecationWarning: executable_path has been deprecated, please pass in a Service object\n",
      "  driver = webdriver.Chrome(PATH)\n"
     ]
    }
   ],
   "source": [
    "PATH = 'C:/Users/Shiva Labade/Desktop/chromedriver_win32/chromedriver.exe'\n",
    "driver = webdriver.Chrome(PATH)"
   ]
  },
  {
   "cell_type": "code",
   "execution_count": 40,
   "id": "3e90464e",
   "metadata": {},
   "outputs": [],
   "source": [
    "driver.get('https://www.guru99.com/')"
   ]
  },
  {
   "cell_type": "code",
   "execution_count": 45,
   "id": "afcbcb8e",
   "metadata": {},
   "outputs": [
    {
     "name": "stderr",
     "output_type": "stream",
     "text": [
      "<ipython-input-45-90aac8d94c6f>:1: DeprecationWarning: find_element_by_* commands are deprecated. Please use find_element() instead\n",
      "  search_selenium_exception = driver.find_element_by_class_name(\"gsib_b\")\n"
     ]
    },
    {
     "data": {
      "text/plain": [
       "<selenium.webdriver.remote.webelement.WebElement (session=\"9366c9651b50c9730b3e1bc6cd221ee7\", element=\"70c37f37-951d-4af3-a722-74f8076913c3\")>"
      ]
     },
     "execution_count": 45,
     "metadata": {},
     "output_type": "execute_result"
    }
   ],
   "source": [
    "search_selenium_exception = driver.find_element_by_class_name(\"gsib_b\")\n",
    "search_selenium_exception "
   ]
  },
  {
   "cell_type": "code",
   "execution_count": 50,
   "id": "cfaa38f5",
   "metadata": {},
   "outputs": [
    {
     "name": "stderr",
     "output_type": "stream",
     "text": [
      "<ipython-input-50-c765546fcfb3>:1: DeprecationWarning: find_element_by_* commands are deprecated. Please use find_element() instead\n",
      "  search_btn = driver.find_element_by_class_name(\"gsib_b\")\n"
     ]
    },
    {
     "data": {
      "text/plain": [
       "<selenium.webdriver.remote.webelement.WebElement (session=\"9366c9651b50c9730b3e1bc6cd221ee7\", element=\"70c37f37-951d-4af3-a722-74f8076913c3\")>"
      ]
     },
     "execution_count": 50,
     "metadata": {},
     "output_type": "execute_result"
    }
   ],
   "source": [
    "search_btn = driver.find_element_by_class_name(\"gsib_b\")\n",
    "search_btn"
   ]
  },
  {
   "cell_type": "code",
   "execution_count": 51,
   "id": "0e17161b",
   "metadata": {},
   "outputs": [],
   "source": [
    "search_btn.click()"
   ]
  },
  {
   "cell_type": "code",
   "execution_count": 52,
   "id": "6fd8b411",
   "metadata": {},
   "outputs": [
    {
     "name": "stderr",
     "output_type": "stream",
     "text": [
      "<ipython-input-52-18aa3ab17a58>:1: DeprecationWarning: find_elements_by_* commands are deprecated. Please use find_elements() instead\n",
      "  name=driver.find_elements_by_xpath('//a[@class=\"p_ styleable-title \"]')\n"
     ]
    },
    {
     "data": {
      "text/plain": [
       "[]"
      ]
     },
     "execution_count": 52,
     "metadata": {},
     "output_type": "execute_result"
    }
   ],
   "source": [
    "name=driver.find_elements_by_xpath('//a[@class=\"p_ styleable-title \"]')\n",
    "name"
   ]
  },
  {
   "cell_type": "code",
   "execution_count": 53,
   "id": "dcd01f0e",
   "metadata": {},
   "outputs": [
    {
     "data": {
      "text/plain": [
       "[]"
      ]
     },
     "execution_count": 53,
     "metadata": {},
     "output_type": "execute_result"
    }
   ],
   "source": [
    "name=[]\n",
    "for i in name:\n",
    "   name.append(i.text)\n",
    "    \n",
    "name"
   ]
  },
  {
   "cell_type": "code",
   "execution_count": 56,
   "id": "af89cee8",
   "metadata": {},
   "outputs": [
    {
     "name": "stderr",
     "output_type": "stream",
     "text": [
      "<ipython-input-56-7db10109ed8b>:1: DeprecationWarning: find_elements_by_* commands are deprecated. Please use find_elements() instead\n",
      "  details=driver.find_elements_by_xpath('/html/body/div/div[1]/span')\n"
     ]
    },
    {
     "data": {
      "text/plain": [
       "[]"
      ]
     },
     "execution_count": 56,
     "metadata": {},
     "output_type": "execute_result"
    }
   ],
   "source": [
    "details=driver.find_elements_by_xpath('/html/body/div/div[1]/span')\n",
    "details"
   ]
  },
  {
   "cell_type": "code",
   "execution_count": 57,
   "id": "af42461f",
   "metadata": {},
   "outputs": [
    {
     "data": {
      "text/plain": [
       "[]"
      ]
     },
     "execution_count": 57,
     "metadata": {},
     "output_type": "execute_result"
    }
   ],
   "source": [
    "details=[]\n",
    "for i in details:\n",
    "   details.append(i.text)\n",
    "    \n",
    "details"
   ]
  },
  {
   "cell_type": "markdown",
   "id": "fd12b046",
   "metadata": {},
   "source": [
    "QUESTION 4"
   ]
  },
  {
   "cell_type": "code",
   "execution_count": 58,
   "id": "ac611195",
   "metadata": {},
   "outputs": [
    {
     "name": "stderr",
     "output_type": "stream",
     "text": [
      "<ipython-input-58-452eafebab4f>:2: DeprecationWarning: executable_path has been deprecated, please pass in a Service object\n",
      "  driver = webdriver.Chrome(PATH)\n"
     ]
    }
   ],
   "source": [
    "PATH = 'C:/Users/Shiva Labade/Desktop/chromedriver_win32/chromedriver.exe'\n",
    "driver = webdriver.Chrome(PATH)"
   ]
  },
  {
   "cell_type": "code",
   "execution_count": 59,
   "id": "3dbf703d",
   "metadata": {},
   "outputs": [],
   "source": [
    "driver.get('https://statisticstimes.com/')"
   ]
  },
  {
   "cell_type": "code",
   "execution_count": 61,
   "id": "5101fdae",
   "metadata": {},
   "outputs": [
    {
     "name": "stderr",
     "output_type": "stream",
     "text": [
      "<ipython-input-61-6103bc3a5cbc>:1: DeprecationWarning: find_element_by_* commands are deprecated. Please use find_element() instead\n",
      "  search_economy = driver.find_element_by_class_name(\"dropbtn\")\n"
     ]
    },
    {
     "data": {
      "text/plain": [
       "<selenium.webdriver.remote.webelement.WebElement (session=\"07fefc38ee615acd654467b30f3bace8\", element=\"5472c122-ed05-4f33-ada1-ae3ec671a945\")>"
      ]
     },
     "execution_count": 61,
     "metadata": {},
     "output_type": "execute_result"
    }
   ],
   "source": [
    "search_economy = driver.find_element_by_class_name(\"dropbtn\")\n",
    "search_economy"
   ]
  },
  {
   "cell_type": "code",
   "execution_count": 62,
   "id": "40c08859",
   "metadata": {},
   "outputs": [
    {
     "name": "stderr",
     "output_type": "stream",
     "text": [
      "<ipython-input-62-9c47d5bbcd6d>:1: DeprecationWarning: find_element_by_* commands are deprecated. Please use find_element() instead\n",
      "  search_btn = driver.find_element_by_class_name(\"dropbtn\")\n"
     ]
    }
   ],
   "source": [
    "search_btn = driver.find_element_by_class_name(\"dropbtn\")\n",
    "search_btn\n",
    "\n",
    "search_btn.click()"
   ]
  },
  {
   "cell_type": "code",
   "execution_count": 63,
   "id": "fcd53c26",
   "metadata": {},
   "outputs": [
    {
     "name": "stderr",
     "output_type": "stream",
     "text": [
      "<ipython-input-63-6e1d36a7f28a>:1: DeprecationWarning: find_elements_by_* commands are deprecated. Please use find_elements() instead\n",
      "  rank=driver.find_elements_by_xpath('//th[@class=\"sorting\"]')\n"
     ]
    },
    {
     "data": {
      "text/plain": [
       "[<selenium.webdriver.remote.webelement.WebElement (session=\"07fefc38ee615acd654467b30f3bace8\", element=\"ebea54f3-aca9-4f8d-ada8-da0ef36666e3\")>,\n",
       " <selenium.webdriver.remote.webelement.WebElement (session=\"07fefc38ee615acd654467b30f3bace8\", element=\"32429801-1433-4940-b6f2-d9dde124b191\")>,\n",
       " <selenium.webdriver.remote.webelement.WebElement (session=\"07fefc38ee615acd654467b30f3bace8\", element=\"20bbbb9c-f082-4533-9d49-dda011e3f156\")>,\n",
       " <selenium.webdriver.remote.webelement.WebElement (session=\"07fefc38ee615acd654467b30f3bace8\", element=\"1e0ccc32-5030-4b7c-864e-5ba7ac1abc3b\")>,\n",
       " <selenium.webdriver.remote.webelement.WebElement (session=\"07fefc38ee615acd654467b30f3bace8\", element=\"6e2d1d48-7370-493f-813c-2ed6fb7dd02e\")>,\n",
       " <selenium.webdriver.remote.webelement.WebElement (session=\"07fefc38ee615acd654467b30f3bace8\", element=\"1bc22730-6ad8-4510-9d21-36e1e8a60e4b\")>,\n",
       " <selenium.webdriver.remote.webelement.WebElement (session=\"07fefc38ee615acd654467b30f3bace8\", element=\"5389bcc7-0902-4d94-8217-82a091b72869\")>,\n",
       " <selenium.webdriver.remote.webelement.WebElement (session=\"07fefc38ee615acd654467b30f3bace8\", element=\"34098e1f-66ce-45cd-a564-10ec4d682538\")>,\n",
       " <selenium.webdriver.remote.webelement.WebElement (session=\"07fefc38ee615acd654467b30f3bace8\", element=\"73e94ae6-93ba-4beb-8cc0-066fcd484201\")>,\n",
       " <selenium.webdriver.remote.webelement.WebElement (session=\"07fefc38ee615acd654467b30f3bace8\", element=\"83cc47a7-c63c-4dab-965f-9bae663768b6\")>,\n",
       " <selenium.webdriver.remote.webelement.WebElement (session=\"07fefc38ee615acd654467b30f3bace8\", element=\"52135fd5-b3b1-4c12-955d-295d96873cd5\")>,\n",
       " <selenium.webdriver.remote.webelement.WebElement (session=\"07fefc38ee615acd654467b30f3bace8\", element=\"1a990f86-6045-4fd5-a213-302f28c4b1d2\")>,\n",
       " <selenium.webdriver.remote.webelement.WebElement (session=\"07fefc38ee615acd654467b30f3bace8\", element=\"88c84b3e-c56b-41d2-b842-2a8d88c8642b\")>]"
      ]
     },
     "execution_count": 63,
     "metadata": {},
     "output_type": "execute_result"
    }
   ],
   "source": [
    "rank=driver.find_elements_by_xpath('//th[@class=\"sorting\"]')\n",
    "rank"
   ]
  },
  {
   "cell_type": "code",
   "execution_count": 64,
   "id": "e1d34de0",
   "metadata": {},
   "outputs": [
    {
     "data": {
      "text/plain": [
       "13"
      ]
     },
     "execution_count": 64,
     "metadata": {},
     "output_type": "execute_result"
    }
   ],
   "source": [
    "len(rank)"
   ]
  },
  {
   "cell_type": "code",
   "execution_count": 66,
   "id": "c3531584",
   "metadata": {},
   "outputs": [
    {
     "data": {
      "text/plain": [
       "[]"
      ]
     },
     "execution_count": 66,
     "metadata": {},
     "output_type": "execute_result"
    }
   ],
   "source": [
    "rank=[]\n",
    "for i in rank:\n",
    "    rank.append(i.text)\n",
    "    rank=rank[0:10]    \n",
    "rank"
   ]
  },
  {
   "cell_type": "code",
   "execution_count": 67,
   "id": "8765b6c8",
   "metadata": {
    "scrolled": false
   },
   "outputs": [
    {
     "name": "stderr",
     "output_type": "stream",
     "text": [
      "<ipython-input-67-1304e6564792>:1: DeprecationWarning: find_elements_by_* commands are deprecated. Please use find_elements() instead\n",
      "  state=driver.find_elements_by_xpath('//td[@class=\"name\"]')\n"
     ]
    },
    {
     "data": {
      "text/plain": [
       "[<selenium.webdriver.remote.webelement.WebElement (session=\"07fefc38ee615acd654467b30f3bace8\", element=\"13d76ad2-3bd3-4683-ad11-1f82d862ed39\")>,\n",
       " <selenium.webdriver.remote.webelement.WebElement (session=\"07fefc38ee615acd654467b30f3bace8\", element=\"1c22bc33-d6dc-4412-8a34-e7985fa252ab\")>,\n",
       " <selenium.webdriver.remote.webelement.WebElement (session=\"07fefc38ee615acd654467b30f3bace8\", element=\"2363b654-88fe-4204-9dd1-260cb794d949\")>,\n",
       " <selenium.webdriver.remote.webelement.WebElement (session=\"07fefc38ee615acd654467b30f3bace8\", element=\"38a7064d-5709-489d-adca-299b04028603\")>,\n",
       " <selenium.webdriver.remote.webelement.WebElement (session=\"07fefc38ee615acd654467b30f3bace8\", element=\"b91c27e6-2f81-4a0a-9b17-63123f0258b5\")>,\n",
       " <selenium.webdriver.remote.webelement.WebElement (session=\"07fefc38ee615acd654467b30f3bace8\", element=\"23f3f20e-d902-4c0a-b095-6d81f8a05a18\")>,\n",
       " <selenium.webdriver.remote.webelement.WebElement (session=\"07fefc38ee615acd654467b30f3bace8\", element=\"ad939a92-2465-49b3-ae49-0625b691e524\")>,\n",
       " <selenium.webdriver.remote.webelement.WebElement (session=\"07fefc38ee615acd654467b30f3bace8\", element=\"1a2ddbeb-3afc-4390-b3fd-b879157bad2d\")>,\n",
       " <selenium.webdriver.remote.webelement.WebElement (session=\"07fefc38ee615acd654467b30f3bace8\", element=\"44ed4e68-41ac-4c5d-9411-663506ee23e8\")>,\n",
       " <selenium.webdriver.remote.webelement.WebElement (session=\"07fefc38ee615acd654467b30f3bace8\", element=\"1b874445-584c-43ab-95be-6af0d60deed9\")>,\n",
       " <selenium.webdriver.remote.webelement.WebElement (session=\"07fefc38ee615acd654467b30f3bace8\", element=\"4e05c402-6519-4fac-9fe9-d908b611d68a\")>,\n",
       " <selenium.webdriver.remote.webelement.WebElement (session=\"07fefc38ee615acd654467b30f3bace8\", element=\"78e77016-ec27-47c4-a695-4c5507f1c163\")>,\n",
       " <selenium.webdriver.remote.webelement.WebElement (session=\"07fefc38ee615acd654467b30f3bace8\", element=\"91ac9f81-2b9b-4755-b34e-7cbe41fb2bf2\")>,\n",
       " <selenium.webdriver.remote.webelement.WebElement (session=\"07fefc38ee615acd654467b30f3bace8\", element=\"60119e5f-8e86-49c0-8718-ce69cedfbec8\")>,\n",
       " <selenium.webdriver.remote.webelement.WebElement (session=\"07fefc38ee615acd654467b30f3bace8\", element=\"0f8f1ab3-1943-41c9-ab7d-5cd1ce4a3484\")>,\n",
       " <selenium.webdriver.remote.webelement.WebElement (session=\"07fefc38ee615acd654467b30f3bace8\", element=\"56353d78-d6fd-432d-aadb-1a61a14e274b\")>,\n",
       " <selenium.webdriver.remote.webelement.WebElement (session=\"07fefc38ee615acd654467b30f3bace8\", element=\"54b15ee8-c7c9-436a-a3bb-74346f5f8917\")>,\n",
       " <selenium.webdriver.remote.webelement.WebElement (session=\"07fefc38ee615acd654467b30f3bace8\", element=\"eff45575-e6fc-4c8c-8bf1-bf9777de8afd\")>,\n",
       " <selenium.webdriver.remote.webelement.WebElement (session=\"07fefc38ee615acd654467b30f3bace8\", element=\"59e45133-0e6d-428a-b658-05aa56d1a29e\")>,\n",
       " <selenium.webdriver.remote.webelement.WebElement (session=\"07fefc38ee615acd654467b30f3bace8\", element=\"2814e006-eeeb-44f2-a660-56b4de18cc8a\")>,\n",
       " <selenium.webdriver.remote.webelement.WebElement (session=\"07fefc38ee615acd654467b30f3bace8\", element=\"fb2213ee-7b74-455c-b515-78f140ea558a\")>,\n",
       " <selenium.webdriver.remote.webelement.WebElement (session=\"07fefc38ee615acd654467b30f3bace8\", element=\"ae76eed6-9a43-4e91-92a3-da8597c1689f\")>,\n",
       " <selenium.webdriver.remote.webelement.WebElement (session=\"07fefc38ee615acd654467b30f3bace8\", element=\"df7af15d-7d6e-48d0-b39f-6ee81648aeed\")>,\n",
       " <selenium.webdriver.remote.webelement.WebElement (session=\"07fefc38ee615acd654467b30f3bace8\", element=\"d9ea9a38-cfcf-45cb-ace7-f9c8d67d2b68\")>,\n",
       " <selenium.webdriver.remote.webelement.WebElement (session=\"07fefc38ee615acd654467b30f3bace8\", element=\"44250d40-2beb-414a-bd83-08025c2702fb\")>,\n",
       " <selenium.webdriver.remote.webelement.WebElement (session=\"07fefc38ee615acd654467b30f3bace8\", element=\"22cad29f-b707-480e-aa9b-c73dd85202c8\")>,\n",
       " <selenium.webdriver.remote.webelement.WebElement (session=\"07fefc38ee615acd654467b30f3bace8\", element=\"d0de5942-17f0-49ac-95c1-bab729c3104f\")>,\n",
       " <selenium.webdriver.remote.webelement.WebElement (session=\"07fefc38ee615acd654467b30f3bace8\", element=\"a1a6e491-0089-4fe0-93d8-3de64422006b\")>,\n",
       " <selenium.webdriver.remote.webelement.WebElement (session=\"07fefc38ee615acd654467b30f3bace8\", element=\"9bc6ee82-f8ee-41ff-85fd-81e1a6e7ed58\")>,\n",
       " <selenium.webdriver.remote.webelement.WebElement (session=\"07fefc38ee615acd654467b30f3bace8\", element=\"d0ff8546-7e3e-455b-bf9b-cbc6018c80fb\")>,\n",
       " <selenium.webdriver.remote.webelement.WebElement (session=\"07fefc38ee615acd654467b30f3bace8\", element=\"68488f4d-943e-434c-a7e4-be6dd2216760\")>,\n",
       " <selenium.webdriver.remote.webelement.WebElement (session=\"07fefc38ee615acd654467b30f3bace8\", element=\"ee961d34-3d8b-4f94-824f-b470628db569\")>,\n",
       " <selenium.webdriver.remote.webelement.WebElement (session=\"07fefc38ee615acd654467b30f3bace8\", element=\"d41695dd-250d-414c-ad8b-7ed70f20f8d0\")>,\n",
       " <selenium.webdriver.remote.webelement.WebElement (session=\"07fefc38ee615acd654467b30f3bace8\", element=\"90deff55-b944-4fd5-8bbd-20c54f439568\")>,\n",
       " <selenium.webdriver.remote.webelement.WebElement (session=\"07fefc38ee615acd654467b30f3bace8\", element=\"5dae75ab-d589-4e0e-83ce-efb7dbcf34b8\")>,\n",
       " <selenium.webdriver.remote.webelement.WebElement (session=\"07fefc38ee615acd654467b30f3bace8\", element=\"a8ac9122-b456-47ce-990b-88aa62f1108b\")>,\n",
       " <selenium.webdriver.remote.webelement.WebElement (session=\"07fefc38ee615acd654467b30f3bace8\", element=\"621606d5-8b57-4172-95a6-3a7937aba002\")>,\n",
       " <selenium.webdriver.remote.webelement.WebElement (session=\"07fefc38ee615acd654467b30f3bace8\", element=\"c7a84f2e-4ba5-421b-a348-b4f97d4a658b\")>,\n",
       " <selenium.webdriver.remote.webelement.WebElement (session=\"07fefc38ee615acd654467b30f3bace8\", element=\"b67c8aee-b598-4688-9d60-f6d4799f3887\")>,\n",
       " <selenium.webdriver.remote.webelement.WebElement (session=\"07fefc38ee615acd654467b30f3bace8\", element=\"4ba3db01-bf32-4bc4-9490-473e4aaf87f1\")>,\n",
       " <selenium.webdriver.remote.webelement.WebElement (session=\"07fefc38ee615acd654467b30f3bace8\", element=\"f5c63089-8305-4b8b-91d4-016a0b150622\")>,\n",
       " <selenium.webdriver.remote.webelement.WebElement (session=\"07fefc38ee615acd654467b30f3bace8\", element=\"4bc9def9-2bfe-422f-8c42-171ef915f769\")>,\n",
       " <selenium.webdriver.remote.webelement.WebElement (session=\"07fefc38ee615acd654467b30f3bace8\", element=\"3e450d14-ec62-4e27-aca4-694602451b75\")>,\n",
       " <selenium.webdriver.remote.webelement.WebElement (session=\"07fefc38ee615acd654467b30f3bace8\", element=\"41139a31-c83b-42f5-82d2-c6a5bbcc1927\")>,\n",
       " <selenium.webdriver.remote.webelement.WebElement (session=\"07fefc38ee615acd654467b30f3bace8\", element=\"efc97a20-1c67-4322-a762-ed7cc8dfa815\")>,\n",
       " <selenium.webdriver.remote.webelement.WebElement (session=\"07fefc38ee615acd654467b30f3bace8\", element=\"bf258e43-b031-4d3e-82d7-8b7b484a8fd7\")>,\n",
       " <selenium.webdriver.remote.webelement.WebElement (session=\"07fefc38ee615acd654467b30f3bace8\", element=\"6046d886-d442-486a-851c-4edbbd2a8a5a\")>,\n",
       " <selenium.webdriver.remote.webelement.WebElement (session=\"07fefc38ee615acd654467b30f3bace8\", element=\"892965ab-5346-4684-8dc2-976a6ff3ab85\")>,\n",
       " <selenium.webdriver.remote.webelement.WebElement (session=\"07fefc38ee615acd654467b30f3bace8\", element=\"7d476c9c-c34b-4cad-89a2-3057658f7244\")>,\n",
       " <selenium.webdriver.remote.webelement.WebElement (session=\"07fefc38ee615acd654467b30f3bace8\", element=\"bb6d6c5e-f0ca-4cde-b171-07fee364fd3b\")>,\n",
       " <selenium.webdriver.remote.webelement.WebElement (session=\"07fefc38ee615acd654467b30f3bace8\", element=\"3460d34c-681f-4858-8233-10e583a0b71e\")>,\n",
       " <selenium.webdriver.remote.webelement.WebElement (session=\"07fefc38ee615acd654467b30f3bace8\", element=\"92e30122-da5a-4aa7-a340-36fb183695e6\")>,\n",
       " <selenium.webdriver.remote.webelement.WebElement (session=\"07fefc38ee615acd654467b30f3bace8\", element=\"53b51fa1-f894-42ca-a7ed-c5eb7cbe371d\")>,\n",
       " <selenium.webdriver.remote.webelement.WebElement (session=\"07fefc38ee615acd654467b30f3bace8\", element=\"1a3618e6-63db-444c-a971-c056b2692968\")>,\n",
       " <selenium.webdriver.remote.webelement.WebElement (session=\"07fefc38ee615acd654467b30f3bace8\", element=\"cc3a249d-72f8-4f25-8427-36aad8510d52\")>,\n",
       " <selenium.webdriver.remote.webelement.WebElement (session=\"07fefc38ee615acd654467b30f3bace8\", element=\"e4856925-2f54-4203-bd48-2009c3af72f3\")>,\n",
       " <selenium.webdriver.remote.webelement.WebElement (session=\"07fefc38ee615acd654467b30f3bace8\", element=\"ef59f2bc-a208-480b-b658-9e8ba54aee5c\")>,\n",
       " <selenium.webdriver.remote.webelement.WebElement (session=\"07fefc38ee615acd654467b30f3bace8\", element=\"ff03c60c-806a-4198-8d10-f23a32e4e0e6\")>,\n",
       " <selenium.webdriver.remote.webelement.WebElement (session=\"07fefc38ee615acd654467b30f3bace8\", element=\"10ba96a8-2c6b-4279-b1e3-bee3b35357ac\")>,\n",
       " <selenium.webdriver.remote.webelement.WebElement (session=\"07fefc38ee615acd654467b30f3bace8\", element=\"d6f350f2-9ea1-426a-ae8f-dc231b7c33a9\")>,\n",
       " <selenium.webdriver.remote.webelement.WebElement (session=\"07fefc38ee615acd654467b30f3bace8\", element=\"54c6123a-c21a-49b8-b432-db664d7d561b\")>,\n",
       " <selenium.webdriver.remote.webelement.WebElement (session=\"07fefc38ee615acd654467b30f3bace8\", element=\"2bef2108-80ab-4c62-aec7-fe5c73d3c3ba\")>,\n",
       " <selenium.webdriver.remote.webelement.WebElement (session=\"07fefc38ee615acd654467b30f3bace8\", element=\"27943b4c-dcb0-4a5b-9070-5eecee4c8515\")>,\n",
       " <selenium.webdriver.remote.webelement.WebElement (session=\"07fefc38ee615acd654467b30f3bace8\", element=\"ab0bfa48-742f-4b4e-bb0e-942a1f2d9617\")>,\n",
       " <selenium.webdriver.remote.webelement.WebElement (session=\"07fefc38ee615acd654467b30f3bace8\", element=\"e979ca63-bdb5-48c7-b1a4-45afe3b777e0\")>,\n",
       " <selenium.webdriver.remote.webelement.WebElement (session=\"07fefc38ee615acd654467b30f3bace8\", element=\"6e5f16b3-7cf8-4d0a-8869-eaa41f9da579\")>,\n",
       " <selenium.webdriver.remote.webelement.WebElement (session=\"07fefc38ee615acd654467b30f3bace8\", element=\"6534e517-fb74-4d65-ac70-c81da296909b\")>,\n",
       " <selenium.webdriver.remote.webelement.WebElement (session=\"07fefc38ee615acd654467b30f3bace8\", element=\"c54b7c25-95c5-4df1-8559-db71bd61c031\")>]"
      ]
     },
     "execution_count": 67,
     "metadata": {},
     "output_type": "execute_result"
    }
   ],
   "source": [
    "state=driver.find_elements_by_xpath('//td[@class=\"name\"]')\n",
    "state"
   ]
  },
  {
   "cell_type": "code",
   "execution_count": 68,
   "id": "61c2e121",
   "metadata": {},
   "outputs": [
    {
     "data": {
      "text/plain": [
       "68"
      ]
     },
     "execution_count": 68,
     "metadata": {},
     "output_type": "execute_result"
    }
   ],
   "source": [
    "len(state)"
   ]
  },
  {
   "cell_type": "code",
   "execution_count": 69,
   "id": "963bb5c0",
   "metadata": {},
   "outputs": [
    {
     "data": {
      "text/plain": [
       "[]"
      ]
     },
     "execution_count": 69,
     "metadata": {},
     "output_type": "execute_result"
    }
   ],
   "source": [
    "state=[]\n",
    "for i in state:\n",
    "    state.append(i.text)\n",
    "    state=state[0:10]    \n",
    "\n",
    "state"
   ]
  },
  {
   "cell_type": "code",
   "execution_count": 70,
   "id": "137bd5b7",
   "metadata": {},
   "outputs": [
    {
     "name": "stderr",
     "output_type": "stream",
     "text": [
      "<ipython-input-70-679e586af805>:1: DeprecationWarning: find_elements_by_* commands are deprecated. Please use find_elements() instead\n",
      "  gsdp=driver.find_elements_by_xpath('//th[@class=\"sorting\"]')\n"
     ]
    },
    {
     "data": {
      "text/plain": [
       "[<selenium.webdriver.remote.webelement.WebElement (session=\"07fefc38ee615acd654467b30f3bace8\", element=\"ebea54f3-aca9-4f8d-ada8-da0ef36666e3\")>,\n",
       " <selenium.webdriver.remote.webelement.WebElement (session=\"07fefc38ee615acd654467b30f3bace8\", element=\"32429801-1433-4940-b6f2-d9dde124b191\")>,\n",
       " <selenium.webdriver.remote.webelement.WebElement (session=\"07fefc38ee615acd654467b30f3bace8\", element=\"20bbbb9c-f082-4533-9d49-dda011e3f156\")>,\n",
       " <selenium.webdriver.remote.webelement.WebElement (session=\"07fefc38ee615acd654467b30f3bace8\", element=\"1e0ccc32-5030-4b7c-864e-5ba7ac1abc3b\")>,\n",
       " <selenium.webdriver.remote.webelement.WebElement (session=\"07fefc38ee615acd654467b30f3bace8\", element=\"6e2d1d48-7370-493f-813c-2ed6fb7dd02e\")>,\n",
       " <selenium.webdriver.remote.webelement.WebElement (session=\"07fefc38ee615acd654467b30f3bace8\", element=\"1bc22730-6ad8-4510-9d21-36e1e8a60e4b\")>,\n",
       " <selenium.webdriver.remote.webelement.WebElement (session=\"07fefc38ee615acd654467b30f3bace8\", element=\"5389bcc7-0902-4d94-8217-82a091b72869\")>,\n",
       " <selenium.webdriver.remote.webelement.WebElement (session=\"07fefc38ee615acd654467b30f3bace8\", element=\"34098e1f-66ce-45cd-a564-10ec4d682538\")>,\n",
       " <selenium.webdriver.remote.webelement.WebElement (session=\"07fefc38ee615acd654467b30f3bace8\", element=\"73e94ae6-93ba-4beb-8cc0-066fcd484201\")>,\n",
       " <selenium.webdriver.remote.webelement.WebElement (session=\"07fefc38ee615acd654467b30f3bace8\", element=\"83cc47a7-c63c-4dab-965f-9bae663768b6\")>,\n",
       " <selenium.webdriver.remote.webelement.WebElement (session=\"07fefc38ee615acd654467b30f3bace8\", element=\"52135fd5-b3b1-4c12-955d-295d96873cd5\")>,\n",
       " <selenium.webdriver.remote.webelement.WebElement (session=\"07fefc38ee615acd654467b30f3bace8\", element=\"1a990f86-6045-4fd5-a213-302f28c4b1d2\")>,\n",
       " <selenium.webdriver.remote.webelement.WebElement (session=\"07fefc38ee615acd654467b30f3bace8\", element=\"88c84b3e-c56b-41d2-b842-2a8d88c8642b\")>]"
      ]
     },
     "execution_count": 70,
     "metadata": {},
     "output_type": "execute_result"
    }
   ],
   "source": [
    "gsdp=driver.find_elements_by_xpath('//th[@class=\"sorting\"]')\n",
    "gsdp"
   ]
  },
  {
   "cell_type": "code",
   "execution_count": 71,
   "id": "8b7977f3",
   "metadata": {},
   "outputs": [
    {
     "data": {
      "text/plain": [
       "13"
      ]
     },
     "execution_count": 71,
     "metadata": {},
     "output_type": "execute_result"
    }
   ],
   "source": [
    "len(gsdp)"
   ]
  },
  {
   "cell_type": "code",
   "execution_count": 72,
   "id": "f120df19",
   "metadata": {},
   "outputs": [
    {
     "data": {
      "text/plain": [
       "[]"
      ]
     },
     "execution_count": 72,
     "metadata": {},
     "output_type": "execute_result"
    }
   ],
   "source": [
    "gsdp=[]\n",
    "for i in gsdp:\n",
    "    gsdp.append(i.text)\n",
    "    gsdp=gsdp[0:10]    \n",
    "\n",
    "gsdp"
   ]
  },
  {
   "cell_type": "code",
   "execution_count": 73,
   "id": "8ec5c45b",
   "metadata": {},
   "outputs": [
    {
     "name": "stderr",
     "output_type": "stream",
     "text": [
      "<ipython-input-73-679e586af805>:1: DeprecationWarning: find_elements_by_* commands are deprecated. Please use find_elements() instead\n",
      "  gsdp=driver.find_elements_by_xpath('//th[@class=\"sorting\"]')\n"
     ]
    },
    {
     "data": {
      "text/plain": [
       "[<selenium.webdriver.remote.webelement.WebElement (session=\"07fefc38ee615acd654467b30f3bace8\", element=\"ebea54f3-aca9-4f8d-ada8-da0ef36666e3\")>,\n",
       " <selenium.webdriver.remote.webelement.WebElement (session=\"07fefc38ee615acd654467b30f3bace8\", element=\"32429801-1433-4940-b6f2-d9dde124b191\")>,\n",
       " <selenium.webdriver.remote.webelement.WebElement (session=\"07fefc38ee615acd654467b30f3bace8\", element=\"20bbbb9c-f082-4533-9d49-dda011e3f156\")>,\n",
       " <selenium.webdriver.remote.webelement.WebElement (session=\"07fefc38ee615acd654467b30f3bace8\", element=\"1e0ccc32-5030-4b7c-864e-5ba7ac1abc3b\")>,\n",
       " <selenium.webdriver.remote.webelement.WebElement (session=\"07fefc38ee615acd654467b30f3bace8\", element=\"6e2d1d48-7370-493f-813c-2ed6fb7dd02e\")>,\n",
       " <selenium.webdriver.remote.webelement.WebElement (session=\"07fefc38ee615acd654467b30f3bace8\", element=\"1bc22730-6ad8-4510-9d21-36e1e8a60e4b\")>,\n",
       " <selenium.webdriver.remote.webelement.WebElement (session=\"07fefc38ee615acd654467b30f3bace8\", element=\"5389bcc7-0902-4d94-8217-82a091b72869\")>,\n",
       " <selenium.webdriver.remote.webelement.WebElement (session=\"07fefc38ee615acd654467b30f3bace8\", element=\"34098e1f-66ce-45cd-a564-10ec4d682538\")>,\n",
       " <selenium.webdriver.remote.webelement.WebElement (session=\"07fefc38ee615acd654467b30f3bace8\", element=\"73e94ae6-93ba-4beb-8cc0-066fcd484201\")>,\n",
       " <selenium.webdriver.remote.webelement.WebElement (session=\"07fefc38ee615acd654467b30f3bace8\", element=\"83cc47a7-c63c-4dab-965f-9bae663768b6\")>,\n",
       " <selenium.webdriver.remote.webelement.WebElement (session=\"07fefc38ee615acd654467b30f3bace8\", element=\"52135fd5-b3b1-4c12-955d-295d96873cd5\")>,\n",
       " <selenium.webdriver.remote.webelement.WebElement (session=\"07fefc38ee615acd654467b30f3bace8\", element=\"1a990f86-6045-4fd5-a213-302f28c4b1d2\")>,\n",
       " <selenium.webdriver.remote.webelement.WebElement (session=\"07fefc38ee615acd654467b30f3bace8\", element=\"88c84b3e-c56b-41d2-b842-2a8d88c8642b\")>]"
      ]
     },
     "execution_count": 73,
     "metadata": {},
     "output_type": "execute_result"
    }
   ],
   "source": [
    "gsdp=driver.find_elements_by_xpath('//th[@class=\"sorting\"]')\n",
    "gsdp"
   ]
  },
  {
   "cell_type": "code",
   "execution_count": 74,
   "id": "39219bde",
   "metadata": {},
   "outputs": [
    {
     "data": {
      "text/plain": [
       "13"
      ]
     },
     "execution_count": 74,
     "metadata": {},
     "output_type": "execute_result"
    }
   ],
   "source": [
    "len(gsdp)"
   ]
  },
  {
   "cell_type": "code",
   "execution_count": 75,
   "id": "26204647",
   "metadata": {},
   "outputs": [
    {
     "data": {
      "text/plain": [
       "[]"
      ]
     },
     "execution_count": 75,
     "metadata": {},
     "output_type": "execute_result"
    }
   ],
   "source": [
    "gsdp=[]\n",
    "for i in gsdp:\n",
    "    gsdp.append(i.text)\n",
    "    gsdp=gsdp[0:10]    \n",
    "\n",
    "gsdp"
   ]
  },
  {
   "cell_type": "code",
   "execution_count": 76,
   "id": "80c63192",
   "metadata": {
    "scrolled": false
   },
   "outputs": [
    {
     "name": "stderr",
     "output_type": "stream",
     "text": [
      "<ipython-input-76-2260dee53987>:1: DeprecationWarning: find_elements_by_* commands are deprecated. Please use find_elements() instead\n",
      "  gdp=driver.find_elements_by_xpath('//td[@class=\"data\"]')\n"
     ]
    },
    {
     "data": {
      "text/plain": [
       "[<selenium.webdriver.remote.webelement.WebElement (session=\"07fefc38ee615acd654467b30f3bace8\", element=\"5d187d02-6b09-44f8-82fa-1a1341cc49f4\")>,\n",
       " <selenium.webdriver.remote.webelement.WebElement (session=\"07fefc38ee615acd654467b30f3bace8\", element=\"e6edfadc-7fdc-4c89-b37b-e06a73798c92\")>,\n",
       " <selenium.webdriver.remote.webelement.WebElement (session=\"07fefc38ee615acd654467b30f3bace8\", element=\"9ec41957-4089-49fe-a59e-fd67582d6d1b\")>,\n",
       " <selenium.webdriver.remote.webelement.WebElement (session=\"07fefc38ee615acd654467b30f3bace8\", element=\"6a97793c-a518-4f4c-a6af-b9ad2584e655\")>,\n",
       " <selenium.webdriver.remote.webelement.WebElement (session=\"07fefc38ee615acd654467b30f3bace8\", element=\"263732f0-1cc8-4344-8213-648ef3e89cc7\")>,\n",
       " <selenium.webdriver.remote.webelement.WebElement (session=\"07fefc38ee615acd654467b30f3bace8\", element=\"6b778a97-3a04-4a16-957c-ae2efe623151\")>,\n",
       " <selenium.webdriver.remote.webelement.WebElement (session=\"07fefc38ee615acd654467b30f3bace8\", element=\"8515bb85-7a83-4900-8539-1dbf66172cb6\")>,\n",
       " <selenium.webdriver.remote.webelement.WebElement (session=\"07fefc38ee615acd654467b30f3bace8\", element=\"0a0f963e-df75-4b78-9bd6-e388ba29d554\")>,\n",
       " <selenium.webdriver.remote.webelement.WebElement (session=\"07fefc38ee615acd654467b30f3bace8\", element=\"376da4f6-e79c-403f-abd7-0079474e4f27\")>,\n",
       " <selenium.webdriver.remote.webelement.WebElement (session=\"07fefc38ee615acd654467b30f3bace8\", element=\"429037b6-4269-47a7-b6f3-32df35adb60f\")>,\n",
       " <selenium.webdriver.remote.webelement.WebElement (session=\"07fefc38ee615acd654467b30f3bace8\", element=\"e0c2fb84-5606-497b-9aa6-6a833aa4e42d\")>,\n",
       " <selenium.webdriver.remote.webelement.WebElement (session=\"07fefc38ee615acd654467b30f3bace8\", element=\"21894acc-f28a-490b-9060-dc36b32a2974\")>,\n",
       " <selenium.webdriver.remote.webelement.WebElement (session=\"07fefc38ee615acd654467b30f3bace8\", element=\"96d1a0ce-7360-4bfd-84b4-492184b391da\")>,\n",
       " <selenium.webdriver.remote.webelement.WebElement (session=\"07fefc38ee615acd654467b30f3bace8\", element=\"734c8d80-8058-4b2d-9b79-8ac7a5dc23a8\")>,\n",
       " <selenium.webdriver.remote.webelement.WebElement (session=\"07fefc38ee615acd654467b30f3bace8\", element=\"0ba36731-d684-48f9-8140-2e3ed38da82b\")>,\n",
       " <selenium.webdriver.remote.webelement.WebElement (session=\"07fefc38ee615acd654467b30f3bace8\", element=\"a02d4535-9b90-4ab4-981e-bb5f94805cae\")>,\n",
       " <selenium.webdriver.remote.webelement.WebElement (session=\"07fefc38ee615acd654467b30f3bace8\", element=\"7d1e2b0f-d384-4bf1-8629-73f7ee022d8b\")>,\n",
       " <selenium.webdriver.remote.webelement.WebElement (session=\"07fefc38ee615acd654467b30f3bace8\", element=\"e4b17459-8945-469d-887c-0fa08611a78e\")>,\n",
       " <selenium.webdriver.remote.webelement.WebElement (session=\"07fefc38ee615acd654467b30f3bace8\", element=\"a0dc1048-f7c4-4a40-b956-35643c98a4ae\")>,\n",
       " <selenium.webdriver.remote.webelement.WebElement (session=\"07fefc38ee615acd654467b30f3bace8\", element=\"6735be90-b979-4e6e-8a4d-87832562f63c\")>,\n",
       " <selenium.webdriver.remote.webelement.WebElement (session=\"07fefc38ee615acd654467b30f3bace8\", element=\"681308ed-e861-43df-a478-a119ea28971b\")>,\n",
       " <selenium.webdriver.remote.webelement.WebElement (session=\"07fefc38ee615acd654467b30f3bace8\", element=\"ded1557f-dcc2-46c0-98f9-d4ea09fdf436\")>,\n",
       " <selenium.webdriver.remote.webelement.WebElement (session=\"07fefc38ee615acd654467b30f3bace8\", element=\"5fb316dd-f805-4e9c-bf18-80e12abd8db1\")>,\n",
       " <selenium.webdriver.remote.webelement.WebElement (session=\"07fefc38ee615acd654467b30f3bace8\", element=\"4802ce81-4a1b-479b-accf-a15afbecae03\")>,\n",
       " <selenium.webdriver.remote.webelement.WebElement (session=\"07fefc38ee615acd654467b30f3bace8\", element=\"b3b06846-d8b2-4926-aab2-5e2e7c057cc9\")>,\n",
       " <selenium.webdriver.remote.webelement.WebElement (session=\"07fefc38ee615acd654467b30f3bace8\", element=\"2652609b-cd4a-4149-961c-5aabb88b9600\")>,\n",
       " <selenium.webdriver.remote.webelement.WebElement (session=\"07fefc38ee615acd654467b30f3bace8\", element=\"0a40aeac-8c67-452c-82e4-4732b577d5e0\")>,\n",
       " <selenium.webdriver.remote.webelement.WebElement (session=\"07fefc38ee615acd654467b30f3bace8\", element=\"b2621a95-a070-4d4e-86b4-21797628af22\")>,\n",
       " <selenium.webdriver.remote.webelement.WebElement (session=\"07fefc38ee615acd654467b30f3bace8\", element=\"6111101c-f58e-40ff-a242-b0bd7ed763c2\")>,\n",
       " <selenium.webdriver.remote.webelement.WebElement (session=\"07fefc38ee615acd654467b30f3bace8\", element=\"460d1819-82fc-4aa4-85ba-87fc171ad9f2\")>,\n",
       " <selenium.webdriver.remote.webelement.WebElement (session=\"07fefc38ee615acd654467b30f3bace8\", element=\"1dbdf941-43f6-40cf-ba4c-3de91d0dd6a3\")>,\n",
       " <selenium.webdriver.remote.webelement.WebElement (session=\"07fefc38ee615acd654467b30f3bace8\", element=\"babafe0e-624b-4835-b363-0b1b4a06e3d8\")>,\n",
       " <selenium.webdriver.remote.webelement.WebElement (session=\"07fefc38ee615acd654467b30f3bace8\", element=\"878443f7-bbe3-4c18-8ffa-d78e54eee9e2\")>,\n",
       " <selenium.webdriver.remote.webelement.WebElement (session=\"07fefc38ee615acd654467b30f3bace8\", element=\"24107024-1701-4e48-aad6-aa706cd93c11\")>,\n",
       " <selenium.webdriver.remote.webelement.WebElement (session=\"07fefc38ee615acd654467b30f3bace8\", element=\"e8c1b097-4fef-439e-9cd1-42f84246767c\")>,\n",
       " <selenium.webdriver.remote.webelement.WebElement (session=\"07fefc38ee615acd654467b30f3bace8\", element=\"ec9abd78-a809-405d-b162-f9d2c379236b\")>,\n",
       " <selenium.webdriver.remote.webelement.WebElement (session=\"07fefc38ee615acd654467b30f3bace8\", element=\"e2e12ad8-caeb-4934-9535-7df1b7d2c07e\")>,\n",
       " <selenium.webdriver.remote.webelement.WebElement (session=\"07fefc38ee615acd654467b30f3bace8\", element=\"13b95527-a429-47ca-8432-6b20cf5e21b3\")>,\n",
       " <selenium.webdriver.remote.webelement.WebElement (session=\"07fefc38ee615acd654467b30f3bace8\", element=\"f8cb6b5b-4653-4a35-9f89-5857336eadc0\")>,\n",
       " <selenium.webdriver.remote.webelement.WebElement (session=\"07fefc38ee615acd654467b30f3bace8\", element=\"60113bf4-46c2-4afb-b9ff-1dec8d450522\")>,\n",
       " <selenium.webdriver.remote.webelement.WebElement (session=\"07fefc38ee615acd654467b30f3bace8\", element=\"587a4b71-b0b5-4964-ba00-68e463a8b7e8\")>,\n",
       " <selenium.webdriver.remote.webelement.WebElement (session=\"07fefc38ee615acd654467b30f3bace8\", element=\"8a0292b5-5e10-45e9-9885-4ddb57c05e5b\")>,\n",
       " <selenium.webdriver.remote.webelement.WebElement (session=\"07fefc38ee615acd654467b30f3bace8\", element=\"f1d18ba2-91ce-4bfd-b29b-2afbc8d8cc62\")>,\n",
       " <selenium.webdriver.remote.webelement.WebElement (session=\"07fefc38ee615acd654467b30f3bace8\", element=\"82658184-eb18-467f-adde-91efec202cde\")>,\n",
       " <selenium.webdriver.remote.webelement.WebElement (session=\"07fefc38ee615acd654467b30f3bace8\", element=\"7f7bc395-fe96-4f5a-831e-b00874de8e16\")>,\n",
       " <selenium.webdriver.remote.webelement.WebElement (session=\"07fefc38ee615acd654467b30f3bace8\", element=\"c33ab9c4-c2b1-40f9-98cd-a2ce3d01d316\")>,\n",
       " <selenium.webdriver.remote.webelement.WebElement (session=\"07fefc38ee615acd654467b30f3bace8\", element=\"37d86843-541c-44a3-a578-42677eb58d04\")>,\n",
       " <selenium.webdriver.remote.webelement.WebElement (session=\"07fefc38ee615acd654467b30f3bace8\", element=\"575788b0-efd5-4fd9-8036-26abb93467ef\")>,\n",
       " <selenium.webdriver.remote.webelement.WebElement (session=\"07fefc38ee615acd654467b30f3bace8\", element=\"cb1a665c-0276-4907-b13f-9f9432d93876\")>,\n",
       " <selenium.webdriver.remote.webelement.WebElement (session=\"07fefc38ee615acd654467b30f3bace8\", element=\"d2626792-fee8-483d-9fe2-28f7af9b724f\")>,\n",
       " <selenium.webdriver.remote.webelement.WebElement (session=\"07fefc38ee615acd654467b30f3bace8\", element=\"839d63be-f864-4624-ab93-155a82acdf5a\")>,\n",
       " <selenium.webdriver.remote.webelement.WebElement (session=\"07fefc38ee615acd654467b30f3bace8\", element=\"8c461239-532c-42c5-8737-b3b8f35514a3\")>,\n",
       " <selenium.webdriver.remote.webelement.WebElement (session=\"07fefc38ee615acd654467b30f3bace8\", element=\"73af5484-36f3-452e-8450-a9a1129d64aa\")>,\n",
       " <selenium.webdriver.remote.webelement.WebElement (session=\"07fefc38ee615acd654467b30f3bace8\", element=\"12ee6e29-ce12-47f6-8704-e701c9b2a45f\")>,\n",
       " <selenium.webdriver.remote.webelement.WebElement (session=\"07fefc38ee615acd654467b30f3bace8\", element=\"d0a74a6f-b86e-4a24-9774-372ed8012949\")>,\n",
       " <selenium.webdriver.remote.webelement.WebElement (session=\"07fefc38ee615acd654467b30f3bace8\", element=\"f2aaec98-16d7-4152-b668-a6e7daa2a0f1\")>,\n",
       " <selenium.webdriver.remote.webelement.WebElement (session=\"07fefc38ee615acd654467b30f3bace8\", element=\"fb36ffec-e562-4de9-87eb-17cb1ac6803a\")>,\n",
       " <selenium.webdriver.remote.webelement.WebElement (session=\"07fefc38ee615acd654467b30f3bace8\", element=\"48db91cd-4ad3-4619-96f5-62ace0fa598f\")>,\n",
       " <selenium.webdriver.remote.webelement.WebElement (session=\"07fefc38ee615acd654467b30f3bace8\", element=\"1e9ce363-ffad-45a2-9499-a66e351d9771\")>,\n",
       " <selenium.webdriver.remote.webelement.WebElement (session=\"07fefc38ee615acd654467b30f3bace8\", element=\"1a3e77c9-723c-4e5d-a9b7-bfc6602b7274\")>,\n",
       " <selenium.webdriver.remote.webelement.WebElement (session=\"07fefc38ee615acd654467b30f3bace8\", element=\"a408cffc-7265-4bc3-a3de-a44b8a2cd6fc\")>,\n",
       " <selenium.webdriver.remote.webelement.WebElement (session=\"07fefc38ee615acd654467b30f3bace8\", element=\"26ce6590-6ae3-43f5-83e0-1ef171599018\")>,\n",
       " <selenium.webdriver.remote.webelement.WebElement (session=\"07fefc38ee615acd654467b30f3bace8\", element=\"bba19fc4-584c-4ddb-804b-d3d1f650db85\")>,\n",
       " <selenium.webdriver.remote.webelement.WebElement (session=\"07fefc38ee615acd654467b30f3bace8\", element=\"c61b53d9-2c4f-4b69-b25f-9162c2958f11\")>,\n",
       " <selenium.webdriver.remote.webelement.WebElement (session=\"07fefc38ee615acd654467b30f3bace8\", element=\"75675be4-ef17-4415-8bf3-7b4984b1cd56\")>,\n",
       " <selenium.webdriver.remote.webelement.WebElement (session=\"07fefc38ee615acd654467b30f3bace8\", element=\"e2d02b58-816b-4c45-987f-80100eb13214\")>,\n",
       " <selenium.webdriver.remote.webelement.WebElement (session=\"07fefc38ee615acd654467b30f3bace8\", element=\"704441b0-fd38-4000-be49-700f7ce01c58\")>,\n",
       " <selenium.webdriver.remote.webelement.WebElement (session=\"07fefc38ee615acd654467b30f3bace8\", element=\"9920bdde-70c0-4ef2-8bd4-173e9e3f1fef\")>,\n",
       " <selenium.webdriver.remote.webelement.WebElement (session=\"07fefc38ee615acd654467b30f3bace8\", element=\"588ec3f2-b6db-4529-b1c9-34191acada8f\")>,\n",
       " <selenium.webdriver.remote.webelement.WebElement (session=\"07fefc38ee615acd654467b30f3bace8\", element=\"5c9a0798-5516-4b87-911c-0d57c4d61b29\")>,\n",
       " <selenium.webdriver.remote.webelement.WebElement (session=\"07fefc38ee615acd654467b30f3bace8\", element=\"fe750893-4a4a-449c-bbf5-bee26d4a389c\")>,\n",
       " <selenium.webdriver.remote.webelement.WebElement (session=\"07fefc38ee615acd654467b30f3bace8\", element=\"586e69a5-f55c-4a78-bf33-3bf0144ce00b\")>,\n",
       " <selenium.webdriver.remote.webelement.WebElement (session=\"07fefc38ee615acd654467b30f3bace8\", element=\"40e3883c-7993-46b1-967b-dcbf1278f04d\")>,\n",
       " <selenium.webdriver.remote.webelement.WebElement (session=\"07fefc38ee615acd654467b30f3bace8\", element=\"834dd57f-b3a1-4dd1-88f5-47692e5f7ebc\")>,\n",
       " <selenium.webdriver.remote.webelement.WebElement (session=\"07fefc38ee615acd654467b30f3bace8\", element=\"87bee8ea-2333-4306-9b4e-d4e2c21fadb3\")>,\n",
       " <selenium.webdriver.remote.webelement.WebElement (session=\"07fefc38ee615acd654467b30f3bace8\", element=\"eb9408e2-322a-426e-8121-95f08a9ea8ee\")>,\n",
       " <selenium.webdriver.remote.webelement.WebElement (session=\"07fefc38ee615acd654467b30f3bace8\", element=\"4e217aeb-9eb1-47f3-8114-f4f11743ec62\")>,\n",
       " <selenium.webdriver.remote.webelement.WebElement (session=\"07fefc38ee615acd654467b30f3bace8\", element=\"c1f627ec-69e9-4748-b2df-f79930073f5c\")>,\n",
       " <selenium.webdriver.remote.webelement.WebElement (session=\"07fefc38ee615acd654467b30f3bace8\", element=\"0af76545-b9f1-4d5d-8c36-dfddd6fc6028\")>,\n",
       " <selenium.webdriver.remote.webelement.WebElement (session=\"07fefc38ee615acd654467b30f3bace8\", element=\"f0bad738-e24b-49f9-b395-bb8a367d87f4\")>,\n",
       " <selenium.webdriver.remote.webelement.WebElement (session=\"07fefc38ee615acd654467b30f3bace8\", element=\"68ae5d9d-2ce4-4f68-98a3-e8c2a4eabb7c\")>,\n",
       " <selenium.webdriver.remote.webelement.WebElement (session=\"07fefc38ee615acd654467b30f3bace8\", element=\"722e9210-cda5-44d9-b7b8-261db221165b\")>,\n",
       " <selenium.webdriver.remote.webelement.WebElement (session=\"07fefc38ee615acd654467b30f3bace8\", element=\"543438df-4fbe-42de-8bf6-3b0fc604c35f\")>,\n",
       " <selenium.webdriver.remote.webelement.WebElement (session=\"07fefc38ee615acd654467b30f3bace8\", element=\"78ace0a5-e7cd-4e90-b0fb-cc5ec1380e99\")>,\n",
       " <selenium.webdriver.remote.webelement.WebElement (session=\"07fefc38ee615acd654467b30f3bace8\", element=\"5210c690-72cb-4c9b-8d50-bb06ebeb7355\")>,\n",
       " <selenium.webdriver.remote.webelement.WebElement (session=\"07fefc38ee615acd654467b30f3bace8\", element=\"c53f76ed-17a2-4388-885e-22ace4e3ac7e\")>,\n",
       " <selenium.webdriver.remote.webelement.WebElement (session=\"07fefc38ee615acd654467b30f3bace8\", element=\"f0e519ab-ed95-4256-a715-0174e7d5ac89\")>,\n",
       " <selenium.webdriver.remote.webelement.WebElement (session=\"07fefc38ee615acd654467b30f3bace8\", element=\"f9b6c828-ae48-49ac-b5e1-9eda13bfdafb\")>,\n",
       " <selenium.webdriver.remote.webelement.WebElement (session=\"07fefc38ee615acd654467b30f3bace8\", element=\"2a275095-991c-4d63-8053-34830d69beff\")>,\n",
       " <selenium.webdriver.remote.webelement.WebElement (session=\"07fefc38ee615acd654467b30f3bace8\", element=\"cbf15f2b-5d21-459a-9dbb-1108a1212d4a\")>,\n",
       " <selenium.webdriver.remote.webelement.WebElement (session=\"07fefc38ee615acd654467b30f3bace8\", element=\"a2a1a789-b3b5-4004-9473-521e21a57e7d\")>,\n",
       " <selenium.webdriver.remote.webelement.WebElement (session=\"07fefc38ee615acd654467b30f3bace8\", element=\"ab392e6e-7e9b-47ee-8ed8-f8960608a078\")>,\n",
       " <selenium.webdriver.remote.webelement.WebElement (session=\"07fefc38ee615acd654467b30f3bace8\", element=\"525ff420-e07e-41d1-9ba6-d24bd7b75dfa\")>,\n",
       " <selenium.webdriver.remote.webelement.WebElement (session=\"07fefc38ee615acd654467b30f3bace8\", element=\"b5c493c1-d078-4dcd-82b0-25e896ce2298\")>,\n",
       " <selenium.webdriver.remote.webelement.WebElement (session=\"07fefc38ee615acd654467b30f3bace8\", element=\"35260646-dbc0-44a0-ac85-fc1c2d57946e\")>,\n",
       " <selenium.webdriver.remote.webelement.WebElement (session=\"07fefc38ee615acd654467b30f3bace8\", element=\"6af217b3-26b8-4889-a8c8-4ca6ee6eda15\")>,\n",
       " <selenium.webdriver.remote.webelement.WebElement (session=\"07fefc38ee615acd654467b30f3bace8\", element=\"aa98ee09-6211-48e3-b327-02c1be5f88b4\")>,\n",
       " <selenium.webdriver.remote.webelement.WebElement (session=\"07fefc38ee615acd654467b30f3bace8\", element=\"a128e236-59e5-45ef-a447-fc0b1ba31748\")>,\n",
       " <selenium.webdriver.remote.webelement.WebElement (session=\"07fefc38ee615acd654467b30f3bace8\", element=\"cdbbe7dd-49c9-4912-865a-d8a0a9e8be2f\")>,\n",
       " <selenium.webdriver.remote.webelement.WebElement (session=\"07fefc38ee615acd654467b30f3bace8\", element=\"4d46613c-99b4-42f1-be77-5f71f36a1787\")>,\n",
       " <selenium.webdriver.remote.webelement.WebElement (session=\"07fefc38ee615acd654467b30f3bace8\", element=\"fe821ebc-2e5a-417a-9e4c-081173b2a032\")>,\n",
       " <selenium.webdriver.remote.webelement.WebElement (session=\"07fefc38ee615acd654467b30f3bace8\", element=\"f12e3517-acdd-4898-8b13-54d1e48b3ca0\")>,\n",
       " <selenium.webdriver.remote.webelement.WebElement (session=\"07fefc38ee615acd654467b30f3bace8\", element=\"ce339cb1-6df0-4846-9290-9dda6007ccbb\")>,\n",
       " <selenium.webdriver.remote.webelement.WebElement (session=\"07fefc38ee615acd654467b30f3bace8\", element=\"16c77510-94e4-4cc4-b897-4c2dc8ba74fb\")>,\n",
       " <selenium.webdriver.remote.webelement.WebElement (session=\"07fefc38ee615acd654467b30f3bace8\", element=\"7a3e0e86-2814-4123-9fbf-f13571c023bd\")>,\n",
       " <selenium.webdriver.remote.webelement.WebElement (session=\"07fefc38ee615acd654467b30f3bace8\", element=\"463aaed3-da7b-440c-99b4-9ea971b12c23\")>,\n",
       " <selenium.webdriver.remote.webelement.WebElement (session=\"07fefc38ee615acd654467b30f3bace8\", element=\"ecd12ad1-1b8f-4780-8955-ddcd25083503\")>,\n",
       " <selenium.webdriver.remote.webelement.WebElement (session=\"07fefc38ee615acd654467b30f3bace8\", element=\"1737e420-71f4-47e7-a4df-81007f04c04a\")>,\n",
       " <selenium.webdriver.remote.webelement.WebElement (session=\"07fefc38ee615acd654467b30f3bace8\", element=\"da80eccd-6115-41c2-802c-99ade88779db\")>,\n",
       " <selenium.webdriver.remote.webelement.WebElement (session=\"07fefc38ee615acd654467b30f3bace8\", element=\"3e2611cd-a41f-45f4-b278-b1253bb650ad\")>,\n",
       " <selenium.webdriver.remote.webelement.WebElement (session=\"07fefc38ee615acd654467b30f3bace8\", element=\"3e7e9666-0c98-429b-8154-4f295d204ef1\")>,\n",
       " <selenium.webdriver.remote.webelement.WebElement (session=\"07fefc38ee615acd654467b30f3bace8\", element=\"4051b6f3-8c24-4997-b641-fc7e32ca1d47\")>,\n",
       " <selenium.webdriver.remote.webelement.WebElement (session=\"07fefc38ee615acd654467b30f3bace8\", element=\"bc6a12e4-04a5-4fec-9ca6-59929b74c026\")>,\n",
       " <selenium.webdriver.remote.webelement.WebElement (session=\"07fefc38ee615acd654467b30f3bace8\", element=\"ffdf4172-80ed-4ae9-918d-348a2b53c226\")>,\n",
       " <selenium.webdriver.remote.webelement.WebElement (session=\"07fefc38ee615acd654467b30f3bace8\", element=\"20fe8b77-ed99-409a-b24c-6de383c47286\")>,\n",
       " <selenium.webdriver.remote.webelement.WebElement (session=\"07fefc38ee615acd654467b30f3bace8\", element=\"e56463b9-8688-427d-a503-49f9f9b62ead\")>,\n",
       " <selenium.webdriver.remote.webelement.WebElement (session=\"07fefc38ee615acd654467b30f3bace8\", element=\"38a41f2f-1660-4918-9779-87d778dfbe81\")>,\n",
       " <selenium.webdriver.remote.webelement.WebElement (session=\"07fefc38ee615acd654467b30f3bace8\", element=\"cf42aaca-2ed6-4cc2-b4f0-7cd6e9844d95\")>,\n",
       " <selenium.webdriver.remote.webelement.WebElement (session=\"07fefc38ee615acd654467b30f3bace8\", element=\"5655bdbe-431d-42a9-9ebc-9852eb909ca1\")>,\n",
       " <selenium.webdriver.remote.webelement.WebElement (session=\"07fefc38ee615acd654467b30f3bace8\", element=\"13492bc2-2a4e-4b2b-8aa6-0119a90e79ad\")>,\n",
       " <selenium.webdriver.remote.webelement.WebElement (session=\"07fefc38ee615acd654467b30f3bace8\", element=\"587c6318-2521-4831-8fa9-ad73786cf8e7\")>,\n",
       " <selenium.webdriver.remote.webelement.WebElement (session=\"07fefc38ee615acd654467b30f3bace8\", element=\"42478957-880e-4f4b-b6c6-1c704f23c0c3\")>,\n",
       " <selenium.webdriver.remote.webelement.WebElement (session=\"07fefc38ee615acd654467b30f3bace8\", element=\"db9b9023-61c7-4c19-9e8e-9d0f2c380727\")>,\n",
       " <selenium.webdriver.remote.webelement.WebElement (session=\"07fefc38ee615acd654467b30f3bace8\", element=\"8e4977c3-d56f-41f7-a677-0f9438d54228\")>,\n",
       " <selenium.webdriver.remote.webelement.WebElement (session=\"07fefc38ee615acd654467b30f3bace8\", element=\"c2dc9d5d-0e63-4573-86bd-51cb8973c5aa\")>,\n",
       " <selenium.webdriver.remote.webelement.WebElement (session=\"07fefc38ee615acd654467b30f3bace8\", element=\"11947219-001e-4469-b450-f73af27d0f8a\")>,\n",
       " <selenium.webdriver.remote.webelement.WebElement (session=\"07fefc38ee615acd654467b30f3bace8\", element=\"9c55eec1-7738-4439-a6d1-0763916a41ca\")>,\n",
       " <selenium.webdriver.remote.webelement.WebElement (session=\"07fefc38ee615acd654467b30f3bace8\", element=\"c943978f-d2d2-4055-9bd2-bf541c6b8d5a\")>,\n",
       " <selenium.webdriver.remote.webelement.WebElement (session=\"07fefc38ee615acd654467b30f3bace8\", element=\"48c5e9ee-9838-42a1-a30e-b406da07b001\")>,\n",
       " <selenium.webdriver.remote.webelement.WebElement (session=\"07fefc38ee615acd654467b30f3bace8\", element=\"9b1385c0-92e3-4179-86d6-138bfd39d489\")>,\n",
       " <selenium.webdriver.remote.webelement.WebElement (session=\"07fefc38ee615acd654467b30f3bace8\", element=\"a84e9cf1-425d-4b3d-a724-3aa826b52e5a\")>,\n",
       " <selenium.webdriver.remote.webelement.WebElement (session=\"07fefc38ee615acd654467b30f3bace8\", element=\"2f7b7487-7150-4273-a259-bb632e082369\")>,\n",
       " <selenium.webdriver.remote.webelement.WebElement (session=\"07fefc38ee615acd654467b30f3bace8\", element=\"8b38ac01-38e6-434f-b0f5-eca1d59c5730\")>,\n",
       " <selenium.webdriver.remote.webelement.WebElement (session=\"07fefc38ee615acd654467b30f3bace8\", element=\"c03d0bd2-77e4-45a3-8c6a-2fe144e4697f\")>,\n",
       " <selenium.webdriver.remote.webelement.WebElement (session=\"07fefc38ee615acd654467b30f3bace8\", element=\"401ef24a-7505-4818-8aab-9a1d39efbaec\")>,\n",
       " <selenium.webdriver.remote.webelement.WebElement (session=\"07fefc38ee615acd654467b30f3bace8\", element=\"9e5359d5-9bc7-4545-8605-a55b5408fb95\")>,\n",
       " <selenium.webdriver.remote.webelement.WebElement (session=\"07fefc38ee615acd654467b30f3bace8\", element=\"4a2750ff-153f-46a2-a558-655e59fada1a\")>,\n",
       " <selenium.webdriver.remote.webelement.WebElement (session=\"07fefc38ee615acd654467b30f3bace8\", element=\"912eb344-7acd-495b-a88f-63b0da75f31b\")>,\n",
       " <selenium.webdriver.remote.webelement.WebElement (session=\"07fefc38ee615acd654467b30f3bace8\", element=\"575ed6e8-c144-4bb3-81d4-f4bb7720acbe\")>,\n",
       " <selenium.webdriver.remote.webelement.WebElement (session=\"07fefc38ee615acd654467b30f3bace8\", element=\"9fec6291-1a06-43de-94d5-5776fcbb92be\")>,\n",
       " <selenium.webdriver.remote.webelement.WebElement (session=\"07fefc38ee615acd654467b30f3bace8\", element=\"7fc1c385-e667-4a6a-bb3c-33ef7eaf5d32\")>,\n",
       " <selenium.webdriver.remote.webelement.WebElement (session=\"07fefc38ee615acd654467b30f3bace8\", element=\"6805b333-efc2-4bcc-aa65-29147e4a9318\")>,\n",
       " <selenium.webdriver.remote.webelement.WebElement (session=\"07fefc38ee615acd654467b30f3bace8\", element=\"b133a2bd-c5b0-4e1e-bd45-4208842ec011\")>,\n",
       " <selenium.webdriver.remote.webelement.WebElement (session=\"07fefc38ee615acd654467b30f3bace8\", element=\"21cb2b1f-78d2-47ec-9dcf-7d3fee8fe8c6\")>,\n",
       " <selenium.webdriver.remote.webelement.WebElement (session=\"07fefc38ee615acd654467b30f3bace8\", element=\"8c92a244-0810-41d9-925b-dcd220e112a4\")>,\n",
       " <selenium.webdriver.remote.webelement.WebElement (session=\"07fefc38ee615acd654467b30f3bace8\", element=\"b01293c1-1b3e-42a8-988b-b3377c04ce24\")>,\n",
       " <selenium.webdriver.remote.webelement.WebElement (session=\"07fefc38ee615acd654467b30f3bace8\", element=\"3ca35838-181b-4886-baed-368feaa890ad\")>,\n",
       " <selenium.webdriver.remote.webelement.WebElement (session=\"07fefc38ee615acd654467b30f3bace8\", element=\"bbf93c50-da0e-44a2-bd12-317422f041e0\")>,\n",
       " <selenium.webdriver.remote.webelement.WebElement (session=\"07fefc38ee615acd654467b30f3bace8\", element=\"19cfedac-1a35-49da-b873-0bb8c0989d82\")>,\n",
       " <selenium.webdriver.remote.webelement.WebElement (session=\"07fefc38ee615acd654467b30f3bace8\", element=\"2d834d35-5694-42c7-884b-25a72ead277e\")>,\n",
       " <selenium.webdriver.remote.webelement.WebElement (session=\"07fefc38ee615acd654467b30f3bace8\", element=\"b666a52f-e2b7-46e3-bb4c-b7278993264f\")>,\n",
       " <selenium.webdriver.remote.webelement.WebElement (session=\"07fefc38ee615acd654467b30f3bace8\", element=\"f36e5ac4-7c98-496c-a2bc-a46e04bd3a78\")>,\n",
       " <selenium.webdriver.remote.webelement.WebElement (session=\"07fefc38ee615acd654467b30f3bace8\", element=\"0108e710-834c-4368-9954-92d501ea4d97\")>,\n",
       " <selenium.webdriver.remote.webelement.WebElement (session=\"07fefc38ee615acd654467b30f3bace8\", element=\"4b88c65a-dff4-4c82-aeae-e095e4658dba\")>,\n",
       " <selenium.webdriver.remote.webelement.WebElement (session=\"07fefc38ee615acd654467b30f3bace8\", element=\"712ee1ad-06fe-45d2-a5e8-ea56bad2f194\")>,\n",
       " <selenium.webdriver.remote.webelement.WebElement (session=\"07fefc38ee615acd654467b30f3bace8\", element=\"6904bc01-fefa-4dfa-8f18-eecb0fa16e7c\")>,\n",
       " <selenium.webdriver.remote.webelement.WebElement (session=\"07fefc38ee615acd654467b30f3bace8\", element=\"48f6ef8a-a621-47f0-8c75-2a0d4c7ab45e\")>,\n",
       " <selenium.webdriver.remote.webelement.WebElement (session=\"07fefc38ee615acd654467b30f3bace8\", element=\"11dce34a-a189-4fcc-9970-5975c1605b7b\")>,\n",
       " <selenium.webdriver.remote.webelement.WebElement (session=\"07fefc38ee615acd654467b30f3bace8\", element=\"a015f261-7ca1-43ed-89d2-aba8fe0b99ea\")>,\n",
       " <selenium.webdriver.remote.webelement.WebElement (session=\"07fefc38ee615acd654467b30f3bace8\", element=\"8ac4ebee-95bf-4164-9942-efea7aec5e96\")>,\n",
       " <selenium.webdriver.remote.webelement.WebElement (session=\"07fefc38ee615acd654467b30f3bace8\", element=\"67230719-6a36-4f65-8efc-0299366906ec\")>,\n",
       " <selenium.webdriver.remote.webelement.WebElement (session=\"07fefc38ee615acd654467b30f3bace8\", element=\"74d95c37-7804-4350-8902-9e80ee1f704c\")>,\n",
       " <selenium.webdriver.remote.webelement.WebElement (session=\"07fefc38ee615acd654467b30f3bace8\", element=\"ab4a1178-9ea4-4167-ab1d-c71d4fbf9279\")>,\n",
       " <selenium.webdriver.remote.webelement.WebElement (session=\"07fefc38ee615acd654467b30f3bace8\", element=\"4783eedf-0f63-4858-92ec-a8be38a2a6a1\")>,\n",
       " <selenium.webdriver.remote.webelement.WebElement (session=\"07fefc38ee615acd654467b30f3bace8\", element=\"9647180e-2abb-4361-871a-ea62991efe33\")>,\n",
       " <selenium.webdriver.remote.webelement.WebElement (session=\"07fefc38ee615acd654467b30f3bace8\", element=\"4f4e92ef-2a34-4bdd-9f38-4a2544fb2d26\")>,\n",
       " <selenium.webdriver.remote.webelement.WebElement (session=\"07fefc38ee615acd654467b30f3bace8\", element=\"6ec57c0c-a55f-4091-8c4b-d65cf250b8fe\")>,\n",
       " <selenium.webdriver.remote.webelement.WebElement (session=\"07fefc38ee615acd654467b30f3bace8\", element=\"f4d1e4a7-337c-48d4-a7d1-d54d4a9b5026\")>,\n",
       " <selenium.webdriver.remote.webelement.WebElement (session=\"07fefc38ee615acd654467b30f3bace8\", element=\"83ccb416-939f-410d-b7f2-ef1c6c20734f\")>,\n",
       " <selenium.webdriver.remote.webelement.WebElement (session=\"07fefc38ee615acd654467b30f3bace8\", element=\"fe8913ba-1d64-4ef4-abfa-f1be2a0875a0\")>,\n",
       " <selenium.webdriver.remote.webelement.WebElement (session=\"07fefc38ee615acd654467b30f3bace8\", element=\"b322fb44-f88d-4dfa-b260-075df136d62f\")>,\n",
       " <selenium.webdriver.remote.webelement.WebElement (session=\"07fefc38ee615acd654467b30f3bace8\", element=\"d0c7d30f-1ba1-4650-a835-a813eda31e3a\")>,\n",
       " <selenium.webdriver.remote.webelement.WebElement (session=\"07fefc38ee615acd654467b30f3bace8\", element=\"07d43a8f-c76c-49a0-88b1-2b6c34420ac7\")>,\n",
       " <selenium.webdriver.remote.webelement.WebElement (session=\"07fefc38ee615acd654467b30f3bace8\", element=\"16c223e4-c75a-46d0-a324-caa5c8bae46d\")>,\n",
       " <selenium.webdriver.remote.webelement.WebElement (session=\"07fefc38ee615acd654467b30f3bace8\", element=\"e58101bf-618e-4a09-8986-23c6965d039d\")>,\n",
       " <selenium.webdriver.remote.webelement.WebElement (session=\"07fefc38ee615acd654467b30f3bace8\", element=\"296f7445-faa8-4553-906a-252cbb3abacc\")>,\n",
       " <selenium.webdriver.remote.webelement.WebElement (session=\"07fefc38ee615acd654467b30f3bace8\", element=\"17336510-63e3-4afd-8e7c-cb21bb56194f\")>,\n",
       " <selenium.webdriver.remote.webelement.WebElement (session=\"07fefc38ee615acd654467b30f3bace8\", element=\"b5f75a37-ddfa-4d48-bd91-e5dad19127af\")>,\n",
       " <selenium.webdriver.remote.webelement.WebElement (session=\"07fefc38ee615acd654467b30f3bace8\", element=\"f5a41b24-1c0d-4d8c-8b2f-2f5656466640\")>,\n",
       " <selenium.webdriver.remote.webelement.WebElement (session=\"07fefc38ee615acd654467b30f3bace8\", element=\"f919b9d7-4cee-4344-891e-612e0432c970\")>,\n",
       " <selenium.webdriver.remote.webelement.WebElement (session=\"07fefc38ee615acd654467b30f3bace8\", element=\"4dda426f-98aa-425b-b86e-b3b10d1221dc\")>,\n",
       " <selenium.webdriver.remote.webelement.WebElement (session=\"07fefc38ee615acd654467b30f3bace8\", element=\"825309b3-7b77-4cb8-83ab-d414c384fc12\")>,\n",
       " <selenium.webdriver.remote.webelement.WebElement (session=\"07fefc38ee615acd654467b30f3bace8\", element=\"a75c038e-c66b-4cdb-b4b5-8bcdda1a6e9d\")>,\n",
       " <selenium.webdriver.remote.webelement.WebElement (session=\"07fefc38ee615acd654467b30f3bace8\", element=\"07ec37f7-49c0-4f4f-b08e-fe46917d5e52\")>,\n",
       " <selenium.webdriver.remote.webelement.WebElement (session=\"07fefc38ee615acd654467b30f3bace8\", element=\"9853d261-9658-44e8-ad66-94906e93d862\")>,\n",
       " <selenium.webdriver.remote.webelement.WebElement (session=\"07fefc38ee615acd654467b30f3bace8\", element=\"e8f5b67b-2007-4a5b-bb71-a6297eb87027\")>,\n",
       " <selenium.webdriver.remote.webelement.WebElement (session=\"07fefc38ee615acd654467b30f3bace8\", element=\"9157790e-6bef-4ef1-a199-4593d474d092\")>,\n",
       " <selenium.webdriver.remote.webelement.WebElement (session=\"07fefc38ee615acd654467b30f3bace8\", element=\"36b6bdbd-939a-4fe4-b318-353e5255416d\")>,\n",
       " <selenium.webdriver.remote.webelement.WebElement (session=\"07fefc38ee615acd654467b30f3bace8\", element=\"0e8239f5-9fca-44d6-97a0-f912ab150fd0\")>,\n",
       " <selenium.webdriver.remote.webelement.WebElement (session=\"07fefc38ee615acd654467b30f3bace8\", element=\"a6386eb2-5990-4407-a4cc-f3f4800bdb09\")>,\n",
       " <selenium.webdriver.remote.webelement.WebElement (session=\"07fefc38ee615acd654467b30f3bace8\", element=\"fd8a045a-e983-4627-b1df-0db3a243a763\")>,\n",
       " <selenium.webdriver.remote.webelement.WebElement (session=\"07fefc38ee615acd654467b30f3bace8\", element=\"b168dad7-75e5-493e-baf1-ad57a1693380\")>,\n",
       " <selenium.webdriver.remote.webelement.WebElement (session=\"07fefc38ee615acd654467b30f3bace8\", element=\"743a6d96-1d48-43fe-b685-f17ff094e31d\")>,\n",
       " <selenium.webdriver.remote.webelement.WebElement (session=\"07fefc38ee615acd654467b30f3bace8\", element=\"99d19585-20f0-44ae-83d6-bb2e7c8fdd3e\")>,\n",
       " <selenium.webdriver.remote.webelement.WebElement (session=\"07fefc38ee615acd654467b30f3bace8\", element=\"e7d67cad-1547-4ba5-b6c9-b1fd61bcf6f0\")>,\n",
       " <selenium.webdriver.remote.webelement.WebElement (session=\"07fefc38ee615acd654467b30f3bace8\", element=\"10fa7adc-f7ba-48ca-a96d-53d450c3929c\")>,\n",
       " <selenium.webdriver.remote.webelement.WebElement (session=\"07fefc38ee615acd654467b30f3bace8\", element=\"f8a03584-3f3e-4829-a682-7137cdf21843\")>,\n",
       " <selenium.webdriver.remote.webelement.WebElement (session=\"07fefc38ee615acd654467b30f3bace8\", element=\"294d6ad8-ce66-48a9-98cb-5ff0284323b4\")>,\n",
       " <selenium.webdriver.remote.webelement.WebElement (session=\"07fefc38ee615acd654467b30f3bace8\", element=\"eee773f1-6748-462a-9c08-ee10161fd92f\")>,\n",
       " <selenium.webdriver.remote.webelement.WebElement (session=\"07fefc38ee615acd654467b30f3bace8\", element=\"9e2906f6-25f5-47d2-af76-f8f9002c8c16\")>,\n",
       " <selenium.webdriver.remote.webelement.WebElement (session=\"07fefc38ee615acd654467b30f3bace8\", element=\"2f1f76ac-0b21-40a9-9cac-999f39365ee3\")>,\n",
       " <selenium.webdriver.remote.webelement.WebElement (session=\"07fefc38ee615acd654467b30f3bace8\", element=\"71dfb978-331a-4524-b312-d5288e2810af\")>,\n",
       " <selenium.webdriver.remote.webelement.WebElement (session=\"07fefc38ee615acd654467b30f3bace8\", element=\"e985794c-9a0c-490b-bf12-9934af90dff0\")>,\n",
       " <selenium.webdriver.remote.webelement.WebElement (session=\"07fefc38ee615acd654467b30f3bace8\", element=\"7a288446-87f1-4ff3-9943-26d5e5e6a1dd\")>,\n",
       " <selenium.webdriver.remote.webelement.WebElement (session=\"07fefc38ee615acd654467b30f3bace8\", element=\"2de78098-92c9-4b8f-ac80-a1b67abece3b\")>,\n",
       " <selenium.webdriver.remote.webelement.WebElement (session=\"07fefc38ee615acd654467b30f3bace8\", element=\"fa27c30c-96bc-4848-af4d-5eb08a032234\")>,\n",
       " <selenium.webdriver.remote.webelement.WebElement (session=\"07fefc38ee615acd654467b30f3bace8\", element=\"740f6a63-0d71-4cc3-ab91-8d5f0a3879c5\")>,\n",
       " <selenium.webdriver.remote.webelement.WebElement (session=\"07fefc38ee615acd654467b30f3bace8\", element=\"ea2ce455-b904-4976-85c9-436d3a4f7b92\")>,\n",
       " <selenium.webdriver.remote.webelement.WebElement (session=\"07fefc38ee615acd654467b30f3bace8\", element=\"fc8b333f-1be0-471b-b823-242d9378d6bc\")>,\n",
       " <selenium.webdriver.remote.webelement.WebElement (session=\"07fefc38ee615acd654467b30f3bace8\", element=\"0bacabf0-b80f-4f77-a91f-705b26952cef\")>,\n",
       " <selenium.webdriver.remote.webelement.WebElement (session=\"07fefc38ee615acd654467b30f3bace8\", element=\"ebec4182-34e9-4f4c-a99b-075ed02aa9cc\")>,\n",
       " <selenium.webdriver.remote.webelement.WebElement (session=\"07fefc38ee615acd654467b30f3bace8\", element=\"cbe38fd4-68b0-4905-8f28-c24769e19028\")>,\n",
       " <selenium.webdriver.remote.webelement.WebElement (session=\"07fefc38ee615acd654467b30f3bace8\", element=\"f02c86b5-5db3-4bf4-a31a-2f7da252f0e7\")>,\n",
       " <selenium.webdriver.remote.webelement.WebElement (session=\"07fefc38ee615acd654467b30f3bace8\", element=\"c0b9ce8e-33f5-4d96-bcd0-19f28b806160\")>,\n",
       " <selenium.webdriver.remote.webelement.WebElement (session=\"07fefc38ee615acd654467b30f3bace8\", element=\"718c2f4c-3adb-4f66-8faa-bd33ac1516c9\")>,\n",
       " <selenium.webdriver.remote.webelement.WebElement (session=\"07fefc38ee615acd654467b30f3bace8\", element=\"f62a84fa-02fb-48f9-81b9-5ed2498b29e0\")>,\n",
       " <selenium.webdriver.remote.webelement.WebElement (session=\"07fefc38ee615acd654467b30f3bace8\", element=\"651ecaf1-7cbc-4c01-a1f4-6b00243c6cb5\")>,\n",
       " <selenium.webdriver.remote.webelement.WebElement (session=\"07fefc38ee615acd654467b30f3bace8\", element=\"b773e084-e04a-4dfa-af33-38082cac8cc1\")>,\n",
       " <selenium.webdriver.remote.webelement.WebElement (session=\"07fefc38ee615acd654467b30f3bace8\", element=\"92b19d7a-1ef3-4e44-8ba2-75488813940b\")>,\n",
       " <selenium.webdriver.remote.webelement.WebElement (session=\"07fefc38ee615acd654467b30f3bace8\", element=\"572e1fb5-82fe-44c0-bd43-92a1cb6a963b\")>,\n",
       " <selenium.webdriver.remote.webelement.WebElement (session=\"07fefc38ee615acd654467b30f3bace8\", element=\"0c0ce0d6-a4c5-4cf8-865f-1b3692de0a8d\")>,\n",
       " <selenium.webdriver.remote.webelement.WebElement (session=\"07fefc38ee615acd654467b30f3bace8\", element=\"013ea5c5-4b77-4cf7-b361-dcd962533b40\")>,\n",
       " <selenium.webdriver.remote.webelement.WebElement (session=\"07fefc38ee615acd654467b30f3bace8\", element=\"d7c51f17-1d28-4d52-869b-036629ca5955\")>,\n",
       " <selenium.webdriver.remote.webelement.WebElement (session=\"07fefc38ee615acd654467b30f3bace8\", element=\"6091331f-9d92-418a-8250-9efe044db22f\")>,\n",
       " <selenium.webdriver.remote.webelement.WebElement (session=\"07fefc38ee615acd654467b30f3bace8\", element=\"e9db855a-c74a-45e6-b1de-4126cc4e493f\")>,\n",
       " <selenium.webdriver.remote.webelement.WebElement (session=\"07fefc38ee615acd654467b30f3bace8\", element=\"bf9233f2-afe6-4e49-bf3b-f2aaf978d9f2\")>,\n",
       " <selenium.webdriver.remote.webelement.WebElement (session=\"07fefc38ee615acd654467b30f3bace8\", element=\"9e92057f-1b9b-4b9f-98ba-6cf23c790a1f\")>,\n",
       " <selenium.webdriver.remote.webelement.WebElement (session=\"07fefc38ee615acd654467b30f3bace8\", element=\"ef978e30-c01e-4867-9067-ba2d43ee14c1\")>,\n",
       " <selenium.webdriver.remote.webelement.WebElement (session=\"07fefc38ee615acd654467b30f3bace8\", element=\"73988dbc-b2f3-402f-a00f-191315cac382\")>,\n",
       " <selenium.webdriver.remote.webelement.WebElement (session=\"07fefc38ee615acd654467b30f3bace8\", element=\"205d7eef-cc44-4cb1-a228-032812e41455\")>,\n",
       " <selenium.webdriver.remote.webelement.WebElement (session=\"07fefc38ee615acd654467b30f3bace8\", element=\"6cd28200-d6e3-4db4-bf20-2c6e915221c6\")>,\n",
       " <selenium.webdriver.remote.webelement.WebElement (session=\"07fefc38ee615acd654467b30f3bace8\", element=\"64a61e4a-654a-4a0f-8584-36cc268434f5\")>,\n",
       " <selenium.webdriver.remote.webelement.WebElement (session=\"07fefc38ee615acd654467b30f3bace8\", element=\"bf82aab1-c6b4-445e-b80e-904eb28bbedc\")>,\n",
       " <selenium.webdriver.remote.webelement.WebElement (session=\"07fefc38ee615acd654467b30f3bace8\", element=\"63f44545-fb97-44fb-89f9-b6bfdf5d66bc\")>,\n",
       " <selenium.webdriver.remote.webelement.WebElement (session=\"07fefc38ee615acd654467b30f3bace8\", element=\"3b846d22-74c1-474f-b16b-90f993a0eaab\")>,\n",
       " <selenium.webdriver.remote.webelement.WebElement (session=\"07fefc38ee615acd654467b30f3bace8\", element=\"9844f8b7-14bb-4448-96a8-f8894cbd076e\")>,\n",
       " <selenium.webdriver.remote.webelement.WebElement (session=\"07fefc38ee615acd654467b30f3bace8\", element=\"88e84b58-051e-4f57-b4c1-3d2f37dde5dd\")>,\n",
       " <selenium.webdriver.remote.webelement.WebElement (session=\"07fefc38ee615acd654467b30f3bace8\", element=\"aa7d5675-5186-4fcc-8559-43c865b3a957\")>,\n",
       " <selenium.webdriver.remote.webelement.WebElement (session=\"07fefc38ee615acd654467b30f3bace8\", element=\"a2fbf756-f060-43bb-a87d-2c9af3cce9e7\")>,\n",
       " <selenium.webdriver.remote.webelement.WebElement (session=\"07fefc38ee615acd654467b30f3bace8\", element=\"ce12b5a6-7bb3-4a41-8ad7-0d19d54a87cc\")>,\n",
       " <selenium.webdriver.remote.webelement.WebElement (session=\"07fefc38ee615acd654467b30f3bace8\", element=\"5af5af3b-44d4-488d-86ca-2a92bd66892a\")>,\n",
       " <selenium.webdriver.remote.webelement.WebElement (session=\"07fefc38ee615acd654467b30f3bace8\", element=\"1a97ae2c-f309-44e5-a3d0-617785fbd441\")>,\n",
       " <selenium.webdriver.remote.webelement.WebElement (session=\"07fefc38ee615acd654467b30f3bace8\", element=\"e522d560-e510-4df8-84d3-ef92f4c907e5\")>,\n",
       " <selenium.webdriver.remote.webelement.WebElement (session=\"07fefc38ee615acd654467b30f3bace8\", element=\"af72e6c8-a1a4-44a2-a542-c511d9a55f49\")>,\n",
       " <selenium.webdriver.remote.webelement.WebElement (session=\"07fefc38ee615acd654467b30f3bace8\", element=\"7f911dc9-c51c-4b89-a06c-1c94b187841a\")>,\n",
       " <selenium.webdriver.remote.webelement.WebElement (session=\"07fefc38ee615acd654467b30f3bace8\", element=\"d3e597db-e415-4162-9e3e-763cdb491955\")>,\n",
       " <selenium.webdriver.remote.webelement.WebElement (session=\"07fefc38ee615acd654467b30f3bace8\", element=\"1918344d-bcdb-4c4c-9943-64ffa44baa29\")>,\n",
       " <selenium.webdriver.remote.webelement.WebElement (session=\"07fefc38ee615acd654467b30f3bace8\", element=\"589a6b2d-cb1a-40c7-89de-88318a2b2bd8\")>,\n",
       " <selenium.webdriver.remote.webelement.WebElement (session=\"07fefc38ee615acd654467b30f3bace8\", element=\"2a3d1a8f-1166-4752-93ec-0d4be323677f\")>,\n",
       " <selenium.webdriver.remote.webelement.WebElement (session=\"07fefc38ee615acd654467b30f3bace8\", element=\"b92d61c5-84a7-4804-9cad-a5e9d7ec587e\")>,\n",
       " <selenium.webdriver.remote.webelement.WebElement (session=\"07fefc38ee615acd654467b30f3bace8\", element=\"e0f9ebc3-58e5-4653-8b12-2049be8056bb\")>,\n",
       " <selenium.webdriver.remote.webelement.WebElement (session=\"07fefc38ee615acd654467b30f3bace8\", element=\"34045473-36d0-49a1-b711-c72231bd1ff7\")>,\n",
       " <selenium.webdriver.remote.webelement.WebElement (session=\"07fefc38ee615acd654467b30f3bace8\", element=\"c9ed6450-2de3-4be3-9d43-88086d931ebf\")>,\n",
       " <selenium.webdriver.remote.webelement.WebElement (session=\"07fefc38ee615acd654467b30f3bace8\", element=\"0ae79cf2-6d26-405b-b2b9-f75db4424df7\")>,\n",
       " <selenium.webdriver.remote.webelement.WebElement (session=\"07fefc38ee615acd654467b30f3bace8\", element=\"14443f7b-14b4-44e0-9e73-0e68c4d52c7e\")>,\n",
       " <selenium.webdriver.remote.webelement.WebElement (session=\"07fefc38ee615acd654467b30f3bace8\", element=\"0f8c16a9-24cc-45a1-a6b1-77b988cb7e72\")>,\n",
       " <selenium.webdriver.remote.webelement.WebElement (session=\"07fefc38ee615acd654467b30f3bace8\", element=\"c5666cc6-5f5e-4c7f-b9e3-1321c4baf10b\")>,\n",
       " <selenium.webdriver.remote.webelement.WebElement (session=\"07fefc38ee615acd654467b30f3bace8\", element=\"94c171db-0426-4905-b0d4-2d36b1463910\")>,\n",
       " <selenium.webdriver.remote.webelement.WebElement (session=\"07fefc38ee615acd654467b30f3bace8\", element=\"70ee6add-6d90-4fba-bde7-a07fb585b2d3\")>,\n",
       " <selenium.webdriver.remote.webelement.WebElement (session=\"07fefc38ee615acd654467b30f3bace8\", element=\"9507fb79-74a5-4099-a520-fb697c6f92f4\")>,\n",
       " <selenium.webdriver.remote.webelement.WebElement (session=\"07fefc38ee615acd654467b30f3bace8\", element=\"7b8c3eff-7d61-401f-82ad-13a9ef8931cc\")>,\n",
       " <selenium.webdriver.remote.webelement.WebElement (session=\"07fefc38ee615acd654467b30f3bace8\", element=\"71bf65b0-966e-41e0-9f9c-962b7c2a0f00\")>,\n",
       " <selenium.webdriver.remote.webelement.WebElement (session=\"07fefc38ee615acd654467b30f3bace8\", element=\"2aff3308-44c1-47d1-8a4a-0d2821c9cb6c\")>,\n",
       " <selenium.webdriver.remote.webelement.WebElement (session=\"07fefc38ee615acd654467b30f3bace8\", element=\"1bb47bbb-d34a-4621-8fff-f6d86262c0ce\")>,\n",
       " <selenium.webdriver.remote.webelement.WebElement (session=\"07fefc38ee615acd654467b30f3bace8\", element=\"ee2d52b1-c605-46f1-b5dd-d377e1114c7e\")>,\n",
       " <selenium.webdriver.remote.webelement.WebElement (session=\"07fefc38ee615acd654467b30f3bace8\", element=\"57f7f046-631d-46ed-81b9-f6708cef57f7\")>,\n",
       " <selenium.webdriver.remote.webelement.WebElement (session=\"07fefc38ee615acd654467b30f3bace8\", element=\"25125da8-cd24-4a5e-8339-930d5f6299dc\")>,\n",
       " <selenium.webdriver.remote.webelement.WebElement (session=\"07fefc38ee615acd654467b30f3bace8\", element=\"3ecbc7a4-6b11-4f8c-b99f-d5abde461304\")>,\n",
       " <selenium.webdriver.remote.webelement.WebElement (session=\"07fefc38ee615acd654467b30f3bace8\", element=\"c195669d-83aa-471e-9d31-7b01c8e9ab20\")>,\n",
       " <selenium.webdriver.remote.webelement.WebElement (session=\"07fefc38ee615acd654467b30f3bace8\", element=\"6340711e-f6dc-4c15-b680-4deac4d529de\")>,\n",
       " <selenium.webdriver.remote.webelement.WebElement (session=\"07fefc38ee615acd654467b30f3bace8\", element=\"2bbad704-85de-4133-8ccd-a9beefe604ab\")>,\n",
       " <selenium.webdriver.remote.webelement.WebElement (session=\"07fefc38ee615acd654467b30f3bace8\", element=\"3b3676c5-94fa-4039-87c5-6864ae1b46ab\")>,\n",
       " <selenium.webdriver.remote.webelement.WebElement (session=\"07fefc38ee615acd654467b30f3bace8\", element=\"e3ad399f-56a4-4a9d-a7c1-fb6224f21dd9\")>,\n",
       " <selenium.webdriver.remote.webelement.WebElement (session=\"07fefc38ee615acd654467b30f3bace8\", element=\"8937ef16-8a53-4fe4-9851-51a431c7c08e\")>,\n",
       " <selenium.webdriver.remote.webelement.WebElement (session=\"07fefc38ee615acd654467b30f3bace8\", element=\"b89eb79a-9c00-4101-917c-02bec409dc9e\")>,\n",
       " <selenium.webdriver.remote.webelement.WebElement (session=\"07fefc38ee615acd654467b30f3bace8\", element=\"f74a9aca-7e72-40f8-a5e1-fa605c46886e\")>,\n",
       " <selenium.webdriver.remote.webelement.WebElement (session=\"07fefc38ee615acd654467b30f3bace8\", element=\"1d3f93a7-0e38-4558-b317-1609516205b4\")>,\n",
       " <selenium.webdriver.remote.webelement.WebElement (session=\"07fefc38ee615acd654467b30f3bace8\", element=\"2f8b5a68-de28-40df-bd95-c7f8c6dff69f\")>,\n",
       " <selenium.webdriver.remote.webelement.WebElement (session=\"07fefc38ee615acd654467b30f3bace8\", element=\"c11fb6c9-56ea-407a-8267-57af8786a01b\")>,\n",
       " <selenium.webdriver.remote.webelement.WebElement (session=\"07fefc38ee615acd654467b30f3bace8\", element=\"f483f2b6-995f-4b14-a577-60aca5991234\")>,\n",
       " <selenium.webdriver.remote.webelement.WebElement (session=\"07fefc38ee615acd654467b30f3bace8\", element=\"765ee599-949a-4289-9d6d-25bef4a00035\")>,\n",
       " <selenium.webdriver.remote.webelement.WebElement (session=\"07fefc38ee615acd654467b30f3bace8\", element=\"2d319e97-3df0-4cce-9437-1bbf0e01d2b4\")>,\n",
       " <selenium.webdriver.remote.webelement.WebElement (session=\"07fefc38ee615acd654467b30f3bace8\", element=\"73bcbe3a-a03c-4c82-b115-7805543bf429\")>,\n",
       " <selenium.webdriver.remote.webelement.WebElement (session=\"07fefc38ee615acd654467b30f3bace8\", element=\"2ad67936-d7d1-4019-a708-08ce17a792b5\")>,\n",
       " <selenium.webdriver.remote.webelement.WebElement (session=\"07fefc38ee615acd654467b30f3bace8\", element=\"643e6684-813f-4678-916e-48ff520b1352\")>,\n",
       " <selenium.webdriver.remote.webelement.WebElement (session=\"07fefc38ee615acd654467b30f3bace8\", element=\"0ef8f3cc-fd70-4630-b21d-4a719f689875\")>,\n",
       " <selenium.webdriver.remote.webelement.WebElement (session=\"07fefc38ee615acd654467b30f3bace8\", element=\"f94b941f-d303-44e7-aa69-37779fca0f48\")>,\n",
       " <selenium.webdriver.remote.webelement.WebElement (session=\"07fefc38ee615acd654467b30f3bace8\", element=\"ab57b4ac-b137-4bd3-adb4-97aad07578b9\")>,\n",
       " <selenium.webdriver.remote.webelement.WebElement (session=\"07fefc38ee615acd654467b30f3bace8\", element=\"22fc1a3f-898a-4a28-90b8-bd3967749af1\")>,\n",
       " <selenium.webdriver.remote.webelement.WebElement (session=\"07fefc38ee615acd654467b30f3bace8\", element=\"f5be889b-08ca-4922-9484-3a6a056c6ef1\")>,\n",
       " <selenium.webdriver.remote.webelement.WebElement (session=\"07fefc38ee615acd654467b30f3bace8\", element=\"b5b08da6-847c-4564-be84-ccf59c49837a\")>,\n",
       " <selenium.webdriver.remote.webelement.WebElement (session=\"07fefc38ee615acd654467b30f3bace8\", element=\"96104cd1-5b4b-4cc9-ad0c-8ad52e1373fa\")>,\n",
       " <selenium.webdriver.remote.webelement.WebElement (session=\"07fefc38ee615acd654467b30f3bace8\", element=\"f8980c1d-e1af-4366-98d6-b2a61d43e6cd\")>,\n",
       " <selenium.webdriver.remote.webelement.WebElement (session=\"07fefc38ee615acd654467b30f3bace8\", element=\"25666012-e333-4a5e-af3c-4ab0e9e2f934\")>,\n",
       " <selenium.webdriver.remote.webelement.WebElement (session=\"07fefc38ee615acd654467b30f3bace8\", element=\"6b7180d3-6dfc-4eca-b524-4025c8b2fb78\")>,\n",
       " <selenium.webdriver.remote.webelement.WebElement (session=\"07fefc38ee615acd654467b30f3bace8\", element=\"f4adb91a-3dd1-42bb-97d3-c2c0314a8a10\")>,\n",
       " <selenium.webdriver.remote.webelement.WebElement (session=\"07fefc38ee615acd654467b30f3bace8\", element=\"31bf560b-95b3-413a-b539-ae0df085f9e0\")>,\n",
       " <selenium.webdriver.remote.webelement.WebElement (session=\"07fefc38ee615acd654467b30f3bace8\", element=\"03f5a37d-ddc9-4ec6-ba2b-2058f5b5c684\")>,\n",
       " <selenium.webdriver.remote.webelement.WebElement (session=\"07fefc38ee615acd654467b30f3bace8\", element=\"d0c1a38c-0cc0-46a9-b52d-c00eabc462bb\")>,\n",
       " <selenium.webdriver.remote.webelement.WebElement (session=\"07fefc38ee615acd654467b30f3bace8\", element=\"adae7807-aa30-49ea-ad2d-ba91712451a0\")>,\n",
       " <selenium.webdriver.remote.webelement.WebElement (session=\"07fefc38ee615acd654467b30f3bace8\", element=\"af58681a-b659-4123-99e3-e3b52f04dfa8\")>,\n",
       " <selenium.webdriver.remote.webelement.WebElement (session=\"07fefc38ee615acd654467b30f3bace8\", element=\"bab30762-4b7e-44c8-bcb9-ff20b6c668db\")>,\n",
       " <selenium.webdriver.remote.webelement.WebElement (session=\"07fefc38ee615acd654467b30f3bace8\", element=\"7a410ed7-d89f-4cd4-b5a3-b1e7df7c1ae7\")>,\n",
       " <selenium.webdriver.remote.webelement.WebElement (session=\"07fefc38ee615acd654467b30f3bace8\", element=\"40c7cce9-b6f1-465e-b03d-4883c7f277f2\")>,\n",
       " <selenium.webdriver.remote.webelement.WebElement (session=\"07fefc38ee615acd654467b30f3bace8\", element=\"61f978bf-88d9-442e-b0ca-d214c078a029\")>,\n",
       " <selenium.webdriver.remote.webelement.WebElement (session=\"07fefc38ee615acd654467b30f3bace8\", element=\"47f34450-d13e-48b6-9f9f-992b1978929c\")>,\n",
       " <selenium.webdriver.remote.webelement.WebElement (session=\"07fefc38ee615acd654467b30f3bace8\", element=\"960f2713-0754-4d58-8ee0-006641d6715d\")>,\n",
       " <selenium.webdriver.remote.webelement.WebElement (session=\"07fefc38ee615acd654467b30f3bace8\", element=\"59f9a600-a5b2-4b0a-810f-c0ddba337734\")>]"
      ]
     },
     "execution_count": 76,
     "metadata": {},
     "output_type": "execute_result"
    }
   ],
   "source": [
    "gdp=driver.find_elements_by_xpath('//td[@class=\"data\"]')\n",
    "gdp"
   ]
  },
  {
   "cell_type": "code",
   "execution_count": 77,
   "id": "a3aed986",
   "metadata": {},
   "outputs": [
    {
     "data": {
      "text/plain": [
       "308"
      ]
     },
     "execution_count": 77,
     "metadata": {},
     "output_type": "execute_result"
    }
   ],
   "source": [
    "len(gdp)"
   ]
  },
  {
   "cell_type": "code",
   "execution_count": 78,
   "id": "435bd050",
   "metadata": {},
   "outputs": [
    {
     "data": {
      "text/plain": [
       "[]"
      ]
     },
     "execution_count": 78,
     "metadata": {},
     "output_type": "execute_result"
    }
   ],
   "source": [
    "gdp=[]\n",
    "for i in gdp:\n",
    "    gdp.append(i.text)\n",
    "    gdp=gdp[0:10]    \n",
    "\n",
    "gdp"
   ]
  },
  {
   "cell_type": "code",
   "execution_count": 79,
   "id": "5f3c0b1f",
   "metadata": {
    "scrolled": false
   },
   "outputs": [
    {
     "name": "stderr",
     "output_type": "stream",
     "text": [
      "<ipython-input-79-019a69c555a6>:1: DeprecationWarning: find_elements_by_* commands are deprecated. Please use find_elements() instead\n",
      "  share=driver.find_elements_by_xpath('//td[@class=\"data\"]')\n"
     ]
    },
    {
     "data": {
      "text/plain": [
       "[<selenium.webdriver.remote.webelement.WebElement (session=\"07fefc38ee615acd654467b30f3bace8\", element=\"5d187d02-6b09-44f8-82fa-1a1341cc49f4\")>,\n",
       " <selenium.webdriver.remote.webelement.WebElement (session=\"07fefc38ee615acd654467b30f3bace8\", element=\"e6edfadc-7fdc-4c89-b37b-e06a73798c92\")>,\n",
       " <selenium.webdriver.remote.webelement.WebElement (session=\"07fefc38ee615acd654467b30f3bace8\", element=\"9ec41957-4089-49fe-a59e-fd67582d6d1b\")>,\n",
       " <selenium.webdriver.remote.webelement.WebElement (session=\"07fefc38ee615acd654467b30f3bace8\", element=\"6a97793c-a518-4f4c-a6af-b9ad2584e655\")>,\n",
       " <selenium.webdriver.remote.webelement.WebElement (session=\"07fefc38ee615acd654467b30f3bace8\", element=\"263732f0-1cc8-4344-8213-648ef3e89cc7\")>,\n",
       " <selenium.webdriver.remote.webelement.WebElement (session=\"07fefc38ee615acd654467b30f3bace8\", element=\"6b778a97-3a04-4a16-957c-ae2efe623151\")>,\n",
       " <selenium.webdriver.remote.webelement.WebElement (session=\"07fefc38ee615acd654467b30f3bace8\", element=\"8515bb85-7a83-4900-8539-1dbf66172cb6\")>,\n",
       " <selenium.webdriver.remote.webelement.WebElement (session=\"07fefc38ee615acd654467b30f3bace8\", element=\"0a0f963e-df75-4b78-9bd6-e388ba29d554\")>,\n",
       " <selenium.webdriver.remote.webelement.WebElement (session=\"07fefc38ee615acd654467b30f3bace8\", element=\"376da4f6-e79c-403f-abd7-0079474e4f27\")>,\n",
       " <selenium.webdriver.remote.webelement.WebElement (session=\"07fefc38ee615acd654467b30f3bace8\", element=\"429037b6-4269-47a7-b6f3-32df35adb60f\")>,\n",
       " <selenium.webdriver.remote.webelement.WebElement (session=\"07fefc38ee615acd654467b30f3bace8\", element=\"e0c2fb84-5606-497b-9aa6-6a833aa4e42d\")>,\n",
       " <selenium.webdriver.remote.webelement.WebElement (session=\"07fefc38ee615acd654467b30f3bace8\", element=\"21894acc-f28a-490b-9060-dc36b32a2974\")>,\n",
       " <selenium.webdriver.remote.webelement.WebElement (session=\"07fefc38ee615acd654467b30f3bace8\", element=\"96d1a0ce-7360-4bfd-84b4-492184b391da\")>,\n",
       " <selenium.webdriver.remote.webelement.WebElement (session=\"07fefc38ee615acd654467b30f3bace8\", element=\"734c8d80-8058-4b2d-9b79-8ac7a5dc23a8\")>,\n",
       " <selenium.webdriver.remote.webelement.WebElement (session=\"07fefc38ee615acd654467b30f3bace8\", element=\"0ba36731-d684-48f9-8140-2e3ed38da82b\")>,\n",
       " <selenium.webdriver.remote.webelement.WebElement (session=\"07fefc38ee615acd654467b30f3bace8\", element=\"a02d4535-9b90-4ab4-981e-bb5f94805cae\")>,\n",
       " <selenium.webdriver.remote.webelement.WebElement (session=\"07fefc38ee615acd654467b30f3bace8\", element=\"7d1e2b0f-d384-4bf1-8629-73f7ee022d8b\")>,\n",
       " <selenium.webdriver.remote.webelement.WebElement (session=\"07fefc38ee615acd654467b30f3bace8\", element=\"e4b17459-8945-469d-887c-0fa08611a78e\")>,\n",
       " <selenium.webdriver.remote.webelement.WebElement (session=\"07fefc38ee615acd654467b30f3bace8\", element=\"a0dc1048-f7c4-4a40-b956-35643c98a4ae\")>,\n",
       " <selenium.webdriver.remote.webelement.WebElement (session=\"07fefc38ee615acd654467b30f3bace8\", element=\"6735be90-b979-4e6e-8a4d-87832562f63c\")>,\n",
       " <selenium.webdriver.remote.webelement.WebElement (session=\"07fefc38ee615acd654467b30f3bace8\", element=\"681308ed-e861-43df-a478-a119ea28971b\")>,\n",
       " <selenium.webdriver.remote.webelement.WebElement (session=\"07fefc38ee615acd654467b30f3bace8\", element=\"ded1557f-dcc2-46c0-98f9-d4ea09fdf436\")>,\n",
       " <selenium.webdriver.remote.webelement.WebElement (session=\"07fefc38ee615acd654467b30f3bace8\", element=\"5fb316dd-f805-4e9c-bf18-80e12abd8db1\")>,\n",
       " <selenium.webdriver.remote.webelement.WebElement (session=\"07fefc38ee615acd654467b30f3bace8\", element=\"4802ce81-4a1b-479b-accf-a15afbecae03\")>,\n",
       " <selenium.webdriver.remote.webelement.WebElement (session=\"07fefc38ee615acd654467b30f3bace8\", element=\"b3b06846-d8b2-4926-aab2-5e2e7c057cc9\")>,\n",
       " <selenium.webdriver.remote.webelement.WebElement (session=\"07fefc38ee615acd654467b30f3bace8\", element=\"2652609b-cd4a-4149-961c-5aabb88b9600\")>,\n",
       " <selenium.webdriver.remote.webelement.WebElement (session=\"07fefc38ee615acd654467b30f3bace8\", element=\"0a40aeac-8c67-452c-82e4-4732b577d5e0\")>,\n",
       " <selenium.webdriver.remote.webelement.WebElement (session=\"07fefc38ee615acd654467b30f3bace8\", element=\"b2621a95-a070-4d4e-86b4-21797628af22\")>,\n",
       " <selenium.webdriver.remote.webelement.WebElement (session=\"07fefc38ee615acd654467b30f3bace8\", element=\"6111101c-f58e-40ff-a242-b0bd7ed763c2\")>,\n",
       " <selenium.webdriver.remote.webelement.WebElement (session=\"07fefc38ee615acd654467b30f3bace8\", element=\"460d1819-82fc-4aa4-85ba-87fc171ad9f2\")>,\n",
       " <selenium.webdriver.remote.webelement.WebElement (session=\"07fefc38ee615acd654467b30f3bace8\", element=\"1dbdf941-43f6-40cf-ba4c-3de91d0dd6a3\")>,\n",
       " <selenium.webdriver.remote.webelement.WebElement (session=\"07fefc38ee615acd654467b30f3bace8\", element=\"babafe0e-624b-4835-b363-0b1b4a06e3d8\")>,\n",
       " <selenium.webdriver.remote.webelement.WebElement (session=\"07fefc38ee615acd654467b30f3bace8\", element=\"878443f7-bbe3-4c18-8ffa-d78e54eee9e2\")>,\n",
       " <selenium.webdriver.remote.webelement.WebElement (session=\"07fefc38ee615acd654467b30f3bace8\", element=\"24107024-1701-4e48-aad6-aa706cd93c11\")>,\n",
       " <selenium.webdriver.remote.webelement.WebElement (session=\"07fefc38ee615acd654467b30f3bace8\", element=\"e8c1b097-4fef-439e-9cd1-42f84246767c\")>,\n",
       " <selenium.webdriver.remote.webelement.WebElement (session=\"07fefc38ee615acd654467b30f3bace8\", element=\"ec9abd78-a809-405d-b162-f9d2c379236b\")>,\n",
       " <selenium.webdriver.remote.webelement.WebElement (session=\"07fefc38ee615acd654467b30f3bace8\", element=\"e2e12ad8-caeb-4934-9535-7df1b7d2c07e\")>,\n",
       " <selenium.webdriver.remote.webelement.WebElement (session=\"07fefc38ee615acd654467b30f3bace8\", element=\"13b95527-a429-47ca-8432-6b20cf5e21b3\")>,\n",
       " <selenium.webdriver.remote.webelement.WebElement (session=\"07fefc38ee615acd654467b30f3bace8\", element=\"f8cb6b5b-4653-4a35-9f89-5857336eadc0\")>,\n",
       " <selenium.webdriver.remote.webelement.WebElement (session=\"07fefc38ee615acd654467b30f3bace8\", element=\"60113bf4-46c2-4afb-b9ff-1dec8d450522\")>,\n",
       " <selenium.webdriver.remote.webelement.WebElement (session=\"07fefc38ee615acd654467b30f3bace8\", element=\"587a4b71-b0b5-4964-ba00-68e463a8b7e8\")>,\n",
       " <selenium.webdriver.remote.webelement.WebElement (session=\"07fefc38ee615acd654467b30f3bace8\", element=\"8a0292b5-5e10-45e9-9885-4ddb57c05e5b\")>,\n",
       " <selenium.webdriver.remote.webelement.WebElement (session=\"07fefc38ee615acd654467b30f3bace8\", element=\"f1d18ba2-91ce-4bfd-b29b-2afbc8d8cc62\")>,\n",
       " <selenium.webdriver.remote.webelement.WebElement (session=\"07fefc38ee615acd654467b30f3bace8\", element=\"82658184-eb18-467f-adde-91efec202cde\")>,\n",
       " <selenium.webdriver.remote.webelement.WebElement (session=\"07fefc38ee615acd654467b30f3bace8\", element=\"7f7bc395-fe96-4f5a-831e-b00874de8e16\")>,\n",
       " <selenium.webdriver.remote.webelement.WebElement (session=\"07fefc38ee615acd654467b30f3bace8\", element=\"c33ab9c4-c2b1-40f9-98cd-a2ce3d01d316\")>,\n",
       " <selenium.webdriver.remote.webelement.WebElement (session=\"07fefc38ee615acd654467b30f3bace8\", element=\"37d86843-541c-44a3-a578-42677eb58d04\")>,\n",
       " <selenium.webdriver.remote.webelement.WebElement (session=\"07fefc38ee615acd654467b30f3bace8\", element=\"575788b0-efd5-4fd9-8036-26abb93467ef\")>,\n",
       " <selenium.webdriver.remote.webelement.WebElement (session=\"07fefc38ee615acd654467b30f3bace8\", element=\"cb1a665c-0276-4907-b13f-9f9432d93876\")>,\n",
       " <selenium.webdriver.remote.webelement.WebElement (session=\"07fefc38ee615acd654467b30f3bace8\", element=\"d2626792-fee8-483d-9fe2-28f7af9b724f\")>,\n",
       " <selenium.webdriver.remote.webelement.WebElement (session=\"07fefc38ee615acd654467b30f3bace8\", element=\"839d63be-f864-4624-ab93-155a82acdf5a\")>,\n",
       " <selenium.webdriver.remote.webelement.WebElement (session=\"07fefc38ee615acd654467b30f3bace8\", element=\"8c461239-532c-42c5-8737-b3b8f35514a3\")>,\n",
       " <selenium.webdriver.remote.webelement.WebElement (session=\"07fefc38ee615acd654467b30f3bace8\", element=\"73af5484-36f3-452e-8450-a9a1129d64aa\")>,\n",
       " <selenium.webdriver.remote.webelement.WebElement (session=\"07fefc38ee615acd654467b30f3bace8\", element=\"12ee6e29-ce12-47f6-8704-e701c9b2a45f\")>,\n",
       " <selenium.webdriver.remote.webelement.WebElement (session=\"07fefc38ee615acd654467b30f3bace8\", element=\"d0a74a6f-b86e-4a24-9774-372ed8012949\")>,\n",
       " <selenium.webdriver.remote.webelement.WebElement (session=\"07fefc38ee615acd654467b30f3bace8\", element=\"f2aaec98-16d7-4152-b668-a6e7daa2a0f1\")>,\n",
       " <selenium.webdriver.remote.webelement.WebElement (session=\"07fefc38ee615acd654467b30f3bace8\", element=\"fb36ffec-e562-4de9-87eb-17cb1ac6803a\")>,\n",
       " <selenium.webdriver.remote.webelement.WebElement (session=\"07fefc38ee615acd654467b30f3bace8\", element=\"48db91cd-4ad3-4619-96f5-62ace0fa598f\")>,\n",
       " <selenium.webdriver.remote.webelement.WebElement (session=\"07fefc38ee615acd654467b30f3bace8\", element=\"1e9ce363-ffad-45a2-9499-a66e351d9771\")>,\n",
       " <selenium.webdriver.remote.webelement.WebElement (session=\"07fefc38ee615acd654467b30f3bace8\", element=\"1a3e77c9-723c-4e5d-a9b7-bfc6602b7274\")>,\n",
       " <selenium.webdriver.remote.webelement.WebElement (session=\"07fefc38ee615acd654467b30f3bace8\", element=\"a408cffc-7265-4bc3-a3de-a44b8a2cd6fc\")>,\n",
       " <selenium.webdriver.remote.webelement.WebElement (session=\"07fefc38ee615acd654467b30f3bace8\", element=\"26ce6590-6ae3-43f5-83e0-1ef171599018\")>,\n",
       " <selenium.webdriver.remote.webelement.WebElement (session=\"07fefc38ee615acd654467b30f3bace8\", element=\"bba19fc4-584c-4ddb-804b-d3d1f650db85\")>,\n",
       " <selenium.webdriver.remote.webelement.WebElement (session=\"07fefc38ee615acd654467b30f3bace8\", element=\"c61b53d9-2c4f-4b69-b25f-9162c2958f11\")>,\n",
       " <selenium.webdriver.remote.webelement.WebElement (session=\"07fefc38ee615acd654467b30f3bace8\", element=\"75675be4-ef17-4415-8bf3-7b4984b1cd56\")>,\n",
       " <selenium.webdriver.remote.webelement.WebElement (session=\"07fefc38ee615acd654467b30f3bace8\", element=\"e2d02b58-816b-4c45-987f-80100eb13214\")>,\n",
       " <selenium.webdriver.remote.webelement.WebElement (session=\"07fefc38ee615acd654467b30f3bace8\", element=\"704441b0-fd38-4000-be49-700f7ce01c58\")>,\n",
       " <selenium.webdriver.remote.webelement.WebElement (session=\"07fefc38ee615acd654467b30f3bace8\", element=\"9920bdde-70c0-4ef2-8bd4-173e9e3f1fef\")>,\n",
       " <selenium.webdriver.remote.webelement.WebElement (session=\"07fefc38ee615acd654467b30f3bace8\", element=\"588ec3f2-b6db-4529-b1c9-34191acada8f\")>,\n",
       " <selenium.webdriver.remote.webelement.WebElement (session=\"07fefc38ee615acd654467b30f3bace8\", element=\"5c9a0798-5516-4b87-911c-0d57c4d61b29\")>,\n",
       " <selenium.webdriver.remote.webelement.WebElement (session=\"07fefc38ee615acd654467b30f3bace8\", element=\"fe750893-4a4a-449c-bbf5-bee26d4a389c\")>,\n",
       " <selenium.webdriver.remote.webelement.WebElement (session=\"07fefc38ee615acd654467b30f3bace8\", element=\"586e69a5-f55c-4a78-bf33-3bf0144ce00b\")>,\n",
       " <selenium.webdriver.remote.webelement.WebElement (session=\"07fefc38ee615acd654467b30f3bace8\", element=\"40e3883c-7993-46b1-967b-dcbf1278f04d\")>,\n",
       " <selenium.webdriver.remote.webelement.WebElement (session=\"07fefc38ee615acd654467b30f3bace8\", element=\"834dd57f-b3a1-4dd1-88f5-47692e5f7ebc\")>,\n",
       " <selenium.webdriver.remote.webelement.WebElement (session=\"07fefc38ee615acd654467b30f3bace8\", element=\"87bee8ea-2333-4306-9b4e-d4e2c21fadb3\")>,\n",
       " <selenium.webdriver.remote.webelement.WebElement (session=\"07fefc38ee615acd654467b30f3bace8\", element=\"eb9408e2-322a-426e-8121-95f08a9ea8ee\")>,\n",
       " <selenium.webdriver.remote.webelement.WebElement (session=\"07fefc38ee615acd654467b30f3bace8\", element=\"4e217aeb-9eb1-47f3-8114-f4f11743ec62\")>,\n",
       " <selenium.webdriver.remote.webelement.WebElement (session=\"07fefc38ee615acd654467b30f3bace8\", element=\"c1f627ec-69e9-4748-b2df-f79930073f5c\")>,\n",
       " <selenium.webdriver.remote.webelement.WebElement (session=\"07fefc38ee615acd654467b30f3bace8\", element=\"0af76545-b9f1-4d5d-8c36-dfddd6fc6028\")>,\n",
       " <selenium.webdriver.remote.webelement.WebElement (session=\"07fefc38ee615acd654467b30f3bace8\", element=\"f0bad738-e24b-49f9-b395-bb8a367d87f4\")>,\n",
       " <selenium.webdriver.remote.webelement.WebElement (session=\"07fefc38ee615acd654467b30f3bace8\", element=\"68ae5d9d-2ce4-4f68-98a3-e8c2a4eabb7c\")>,\n",
       " <selenium.webdriver.remote.webelement.WebElement (session=\"07fefc38ee615acd654467b30f3bace8\", element=\"722e9210-cda5-44d9-b7b8-261db221165b\")>,\n",
       " <selenium.webdriver.remote.webelement.WebElement (session=\"07fefc38ee615acd654467b30f3bace8\", element=\"543438df-4fbe-42de-8bf6-3b0fc604c35f\")>,\n",
       " <selenium.webdriver.remote.webelement.WebElement (session=\"07fefc38ee615acd654467b30f3bace8\", element=\"78ace0a5-e7cd-4e90-b0fb-cc5ec1380e99\")>,\n",
       " <selenium.webdriver.remote.webelement.WebElement (session=\"07fefc38ee615acd654467b30f3bace8\", element=\"5210c690-72cb-4c9b-8d50-bb06ebeb7355\")>,\n",
       " <selenium.webdriver.remote.webelement.WebElement (session=\"07fefc38ee615acd654467b30f3bace8\", element=\"c53f76ed-17a2-4388-885e-22ace4e3ac7e\")>,\n",
       " <selenium.webdriver.remote.webelement.WebElement (session=\"07fefc38ee615acd654467b30f3bace8\", element=\"f0e519ab-ed95-4256-a715-0174e7d5ac89\")>,\n",
       " <selenium.webdriver.remote.webelement.WebElement (session=\"07fefc38ee615acd654467b30f3bace8\", element=\"f9b6c828-ae48-49ac-b5e1-9eda13bfdafb\")>,\n",
       " <selenium.webdriver.remote.webelement.WebElement (session=\"07fefc38ee615acd654467b30f3bace8\", element=\"2a275095-991c-4d63-8053-34830d69beff\")>,\n",
       " <selenium.webdriver.remote.webelement.WebElement (session=\"07fefc38ee615acd654467b30f3bace8\", element=\"cbf15f2b-5d21-459a-9dbb-1108a1212d4a\")>,\n",
       " <selenium.webdriver.remote.webelement.WebElement (session=\"07fefc38ee615acd654467b30f3bace8\", element=\"a2a1a789-b3b5-4004-9473-521e21a57e7d\")>,\n",
       " <selenium.webdriver.remote.webelement.WebElement (session=\"07fefc38ee615acd654467b30f3bace8\", element=\"ab392e6e-7e9b-47ee-8ed8-f8960608a078\")>,\n",
       " <selenium.webdriver.remote.webelement.WebElement (session=\"07fefc38ee615acd654467b30f3bace8\", element=\"525ff420-e07e-41d1-9ba6-d24bd7b75dfa\")>,\n",
       " <selenium.webdriver.remote.webelement.WebElement (session=\"07fefc38ee615acd654467b30f3bace8\", element=\"b5c493c1-d078-4dcd-82b0-25e896ce2298\")>,\n",
       " <selenium.webdriver.remote.webelement.WebElement (session=\"07fefc38ee615acd654467b30f3bace8\", element=\"35260646-dbc0-44a0-ac85-fc1c2d57946e\")>,\n",
       " <selenium.webdriver.remote.webelement.WebElement (session=\"07fefc38ee615acd654467b30f3bace8\", element=\"6af217b3-26b8-4889-a8c8-4ca6ee6eda15\")>,\n",
       " <selenium.webdriver.remote.webelement.WebElement (session=\"07fefc38ee615acd654467b30f3bace8\", element=\"aa98ee09-6211-48e3-b327-02c1be5f88b4\")>,\n",
       " <selenium.webdriver.remote.webelement.WebElement (session=\"07fefc38ee615acd654467b30f3bace8\", element=\"a128e236-59e5-45ef-a447-fc0b1ba31748\")>,\n",
       " <selenium.webdriver.remote.webelement.WebElement (session=\"07fefc38ee615acd654467b30f3bace8\", element=\"cdbbe7dd-49c9-4912-865a-d8a0a9e8be2f\")>,\n",
       " <selenium.webdriver.remote.webelement.WebElement (session=\"07fefc38ee615acd654467b30f3bace8\", element=\"4d46613c-99b4-42f1-be77-5f71f36a1787\")>,\n",
       " <selenium.webdriver.remote.webelement.WebElement (session=\"07fefc38ee615acd654467b30f3bace8\", element=\"fe821ebc-2e5a-417a-9e4c-081173b2a032\")>,\n",
       " <selenium.webdriver.remote.webelement.WebElement (session=\"07fefc38ee615acd654467b30f3bace8\", element=\"f12e3517-acdd-4898-8b13-54d1e48b3ca0\")>,\n",
       " <selenium.webdriver.remote.webelement.WebElement (session=\"07fefc38ee615acd654467b30f3bace8\", element=\"ce339cb1-6df0-4846-9290-9dda6007ccbb\")>,\n",
       " <selenium.webdriver.remote.webelement.WebElement (session=\"07fefc38ee615acd654467b30f3bace8\", element=\"16c77510-94e4-4cc4-b897-4c2dc8ba74fb\")>,\n",
       " <selenium.webdriver.remote.webelement.WebElement (session=\"07fefc38ee615acd654467b30f3bace8\", element=\"7a3e0e86-2814-4123-9fbf-f13571c023bd\")>,\n",
       " <selenium.webdriver.remote.webelement.WebElement (session=\"07fefc38ee615acd654467b30f3bace8\", element=\"463aaed3-da7b-440c-99b4-9ea971b12c23\")>,\n",
       " <selenium.webdriver.remote.webelement.WebElement (session=\"07fefc38ee615acd654467b30f3bace8\", element=\"ecd12ad1-1b8f-4780-8955-ddcd25083503\")>,\n",
       " <selenium.webdriver.remote.webelement.WebElement (session=\"07fefc38ee615acd654467b30f3bace8\", element=\"1737e420-71f4-47e7-a4df-81007f04c04a\")>,\n",
       " <selenium.webdriver.remote.webelement.WebElement (session=\"07fefc38ee615acd654467b30f3bace8\", element=\"da80eccd-6115-41c2-802c-99ade88779db\")>,\n",
       " <selenium.webdriver.remote.webelement.WebElement (session=\"07fefc38ee615acd654467b30f3bace8\", element=\"3e2611cd-a41f-45f4-b278-b1253bb650ad\")>,\n",
       " <selenium.webdriver.remote.webelement.WebElement (session=\"07fefc38ee615acd654467b30f3bace8\", element=\"3e7e9666-0c98-429b-8154-4f295d204ef1\")>,\n",
       " <selenium.webdriver.remote.webelement.WebElement (session=\"07fefc38ee615acd654467b30f3bace8\", element=\"4051b6f3-8c24-4997-b641-fc7e32ca1d47\")>,\n",
       " <selenium.webdriver.remote.webelement.WebElement (session=\"07fefc38ee615acd654467b30f3bace8\", element=\"bc6a12e4-04a5-4fec-9ca6-59929b74c026\")>,\n",
       " <selenium.webdriver.remote.webelement.WebElement (session=\"07fefc38ee615acd654467b30f3bace8\", element=\"ffdf4172-80ed-4ae9-918d-348a2b53c226\")>,\n",
       " <selenium.webdriver.remote.webelement.WebElement (session=\"07fefc38ee615acd654467b30f3bace8\", element=\"20fe8b77-ed99-409a-b24c-6de383c47286\")>,\n",
       " <selenium.webdriver.remote.webelement.WebElement (session=\"07fefc38ee615acd654467b30f3bace8\", element=\"e56463b9-8688-427d-a503-49f9f9b62ead\")>,\n",
       " <selenium.webdriver.remote.webelement.WebElement (session=\"07fefc38ee615acd654467b30f3bace8\", element=\"38a41f2f-1660-4918-9779-87d778dfbe81\")>,\n",
       " <selenium.webdriver.remote.webelement.WebElement (session=\"07fefc38ee615acd654467b30f3bace8\", element=\"cf42aaca-2ed6-4cc2-b4f0-7cd6e9844d95\")>,\n",
       " <selenium.webdriver.remote.webelement.WebElement (session=\"07fefc38ee615acd654467b30f3bace8\", element=\"5655bdbe-431d-42a9-9ebc-9852eb909ca1\")>,\n",
       " <selenium.webdriver.remote.webelement.WebElement (session=\"07fefc38ee615acd654467b30f3bace8\", element=\"13492bc2-2a4e-4b2b-8aa6-0119a90e79ad\")>,\n",
       " <selenium.webdriver.remote.webelement.WebElement (session=\"07fefc38ee615acd654467b30f3bace8\", element=\"587c6318-2521-4831-8fa9-ad73786cf8e7\")>,\n",
       " <selenium.webdriver.remote.webelement.WebElement (session=\"07fefc38ee615acd654467b30f3bace8\", element=\"42478957-880e-4f4b-b6c6-1c704f23c0c3\")>,\n",
       " <selenium.webdriver.remote.webelement.WebElement (session=\"07fefc38ee615acd654467b30f3bace8\", element=\"db9b9023-61c7-4c19-9e8e-9d0f2c380727\")>,\n",
       " <selenium.webdriver.remote.webelement.WebElement (session=\"07fefc38ee615acd654467b30f3bace8\", element=\"8e4977c3-d56f-41f7-a677-0f9438d54228\")>,\n",
       " <selenium.webdriver.remote.webelement.WebElement (session=\"07fefc38ee615acd654467b30f3bace8\", element=\"c2dc9d5d-0e63-4573-86bd-51cb8973c5aa\")>,\n",
       " <selenium.webdriver.remote.webelement.WebElement (session=\"07fefc38ee615acd654467b30f3bace8\", element=\"11947219-001e-4469-b450-f73af27d0f8a\")>,\n",
       " <selenium.webdriver.remote.webelement.WebElement (session=\"07fefc38ee615acd654467b30f3bace8\", element=\"9c55eec1-7738-4439-a6d1-0763916a41ca\")>,\n",
       " <selenium.webdriver.remote.webelement.WebElement (session=\"07fefc38ee615acd654467b30f3bace8\", element=\"c943978f-d2d2-4055-9bd2-bf541c6b8d5a\")>,\n",
       " <selenium.webdriver.remote.webelement.WebElement (session=\"07fefc38ee615acd654467b30f3bace8\", element=\"48c5e9ee-9838-42a1-a30e-b406da07b001\")>,\n",
       " <selenium.webdriver.remote.webelement.WebElement (session=\"07fefc38ee615acd654467b30f3bace8\", element=\"9b1385c0-92e3-4179-86d6-138bfd39d489\")>,\n",
       " <selenium.webdriver.remote.webelement.WebElement (session=\"07fefc38ee615acd654467b30f3bace8\", element=\"a84e9cf1-425d-4b3d-a724-3aa826b52e5a\")>,\n",
       " <selenium.webdriver.remote.webelement.WebElement (session=\"07fefc38ee615acd654467b30f3bace8\", element=\"2f7b7487-7150-4273-a259-bb632e082369\")>,\n",
       " <selenium.webdriver.remote.webelement.WebElement (session=\"07fefc38ee615acd654467b30f3bace8\", element=\"8b38ac01-38e6-434f-b0f5-eca1d59c5730\")>,\n",
       " <selenium.webdriver.remote.webelement.WebElement (session=\"07fefc38ee615acd654467b30f3bace8\", element=\"c03d0bd2-77e4-45a3-8c6a-2fe144e4697f\")>,\n",
       " <selenium.webdriver.remote.webelement.WebElement (session=\"07fefc38ee615acd654467b30f3bace8\", element=\"401ef24a-7505-4818-8aab-9a1d39efbaec\")>,\n",
       " <selenium.webdriver.remote.webelement.WebElement (session=\"07fefc38ee615acd654467b30f3bace8\", element=\"9e5359d5-9bc7-4545-8605-a55b5408fb95\")>,\n",
       " <selenium.webdriver.remote.webelement.WebElement (session=\"07fefc38ee615acd654467b30f3bace8\", element=\"4a2750ff-153f-46a2-a558-655e59fada1a\")>,\n",
       " <selenium.webdriver.remote.webelement.WebElement (session=\"07fefc38ee615acd654467b30f3bace8\", element=\"912eb344-7acd-495b-a88f-63b0da75f31b\")>,\n",
       " <selenium.webdriver.remote.webelement.WebElement (session=\"07fefc38ee615acd654467b30f3bace8\", element=\"575ed6e8-c144-4bb3-81d4-f4bb7720acbe\")>,\n",
       " <selenium.webdriver.remote.webelement.WebElement (session=\"07fefc38ee615acd654467b30f3bace8\", element=\"9fec6291-1a06-43de-94d5-5776fcbb92be\")>,\n",
       " <selenium.webdriver.remote.webelement.WebElement (session=\"07fefc38ee615acd654467b30f3bace8\", element=\"7fc1c385-e667-4a6a-bb3c-33ef7eaf5d32\")>,\n",
       " <selenium.webdriver.remote.webelement.WebElement (session=\"07fefc38ee615acd654467b30f3bace8\", element=\"6805b333-efc2-4bcc-aa65-29147e4a9318\")>,\n",
       " <selenium.webdriver.remote.webelement.WebElement (session=\"07fefc38ee615acd654467b30f3bace8\", element=\"b133a2bd-c5b0-4e1e-bd45-4208842ec011\")>,\n",
       " <selenium.webdriver.remote.webelement.WebElement (session=\"07fefc38ee615acd654467b30f3bace8\", element=\"21cb2b1f-78d2-47ec-9dcf-7d3fee8fe8c6\")>,\n",
       " <selenium.webdriver.remote.webelement.WebElement (session=\"07fefc38ee615acd654467b30f3bace8\", element=\"8c92a244-0810-41d9-925b-dcd220e112a4\")>,\n",
       " <selenium.webdriver.remote.webelement.WebElement (session=\"07fefc38ee615acd654467b30f3bace8\", element=\"b01293c1-1b3e-42a8-988b-b3377c04ce24\")>,\n",
       " <selenium.webdriver.remote.webelement.WebElement (session=\"07fefc38ee615acd654467b30f3bace8\", element=\"3ca35838-181b-4886-baed-368feaa890ad\")>,\n",
       " <selenium.webdriver.remote.webelement.WebElement (session=\"07fefc38ee615acd654467b30f3bace8\", element=\"bbf93c50-da0e-44a2-bd12-317422f041e0\")>,\n",
       " <selenium.webdriver.remote.webelement.WebElement (session=\"07fefc38ee615acd654467b30f3bace8\", element=\"19cfedac-1a35-49da-b873-0bb8c0989d82\")>,\n",
       " <selenium.webdriver.remote.webelement.WebElement (session=\"07fefc38ee615acd654467b30f3bace8\", element=\"2d834d35-5694-42c7-884b-25a72ead277e\")>,\n",
       " <selenium.webdriver.remote.webelement.WebElement (session=\"07fefc38ee615acd654467b30f3bace8\", element=\"b666a52f-e2b7-46e3-bb4c-b7278993264f\")>,\n",
       " <selenium.webdriver.remote.webelement.WebElement (session=\"07fefc38ee615acd654467b30f3bace8\", element=\"f36e5ac4-7c98-496c-a2bc-a46e04bd3a78\")>,\n",
       " <selenium.webdriver.remote.webelement.WebElement (session=\"07fefc38ee615acd654467b30f3bace8\", element=\"0108e710-834c-4368-9954-92d501ea4d97\")>,\n",
       " <selenium.webdriver.remote.webelement.WebElement (session=\"07fefc38ee615acd654467b30f3bace8\", element=\"4b88c65a-dff4-4c82-aeae-e095e4658dba\")>,\n",
       " <selenium.webdriver.remote.webelement.WebElement (session=\"07fefc38ee615acd654467b30f3bace8\", element=\"712ee1ad-06fe-45d2-a5e8-ea56bad2f194\")>,\n",
       " <selenium.webdriver.remote.webelement.WebElement (session=\"07fefc38ee615acd654467b30f3bace8\", element=\"6904bc01-fefa-4dfa-8f18-eecb0fa16e7c\")>,\n",
       " <selenium.webdriver.remote.webelement.WebElement (session=\"07fefc38ee615acd654467b30f3bace8\", element=\"48f6ef8a-a621-47f0-8c75-2a0d4c7ab45e\")>,\n",
       " <selenium.webdriver.remote.webelement.WebElement (session=\"07fefc38ee615acd654467b30f3bace8\", element=\"11dce34a-a189-4fcc-9970-5975c1605b7b\")>,\n",
       " <selenium.webdriver.remote.webelement.WebElement (session=\"07fefc38ee615acd654467b30f3bace8\", element=\"a015f261-7ca1-43ed-89d2-aba8fe0b99ea\")>,\n",
       " <selenium.webdriver.remote.webelement.WebElement (session=\"07fefc38ee615acd654467b30f3bace8\", element=\"8ac4ebee-95bf-4164-9942-efea7aec5e96\")>,\n",
       " <selenium.webdriver.remote.webelement.WebElement (session=\"07fefc38ee615acd654467b30f3bace8\", element=\"67230719-6a36-4f65-8efc-0299366906ec\")>,\n",
       " <selenium.webdriver.remote.webelement.WebElement (session=\"07fefc38ee615acd654467b30f3bace8\", element=\"74d95c37-7804-4350-8902-9e80ee1f704c\")>,\n",
       " <selenium.webdriver.remote.webelement.WebElement (session=\"07fefc38ee615acd654467b30f3bace8\", element=\"ab4a1178-9ea4-4167-ab1d-c71d4fbf9279\")>,\n",
       " <selenium.webdriver.remote.webelement.WebElement (session=\"07fefc38ee615acd654467b30f3bace8\", element=\"4783eedf-0f63-4858-92ec-a8be38a2a6a1\")>,\n",
       " <selenium.webdriver.remote.webelement.WebElement (session=\"07fefc38ee615acd654467b30f3bace8\", element=\"9647180e-2abb-4361-871a-ea62991efe33\")>,\n",
       " <selenium.webdriver.remote.webelement.WebElement (session=\"07fefc38ee615acd654467b30f3bace8\", element=\"4f4e92ef-2a34-4bdd-9f38-4a2544fb2d26\")>,\n",
       " <selenium.webdriver.remote.webelement.WebElement (session=\"07fefc38ee615acd654467b30f3bace8\", element=\"6ec57c0c-a55f-4091-8c4b-d65cf250b8fe\")>,\n",
       " <selenium.webdriver.remote.webelement.WebElement (session=\"07fefc38ee615acd654467b30f3bace8\", element=\"f4d1e4a7-337c-48d4-a7d1-d54d4a9b5026\")>,\n",
       " <selenium.webdriver.remote.webelement.WebElement (session=\"07fefc38ee615acd654467b30f3bace8\", element=\"83ccb416-939f-410d-b7f2-ef1c6c20734f\")>,\n",
       " <selenium.webdriver.remote.webelement.WebElement (session=\"07fefc38ee615acd654467b30f3bace8\", element=\"fe8913ba-1d64-4ef4-abfa-f1be2a0875a0\")>,\n",
       " <selenium.webdriver.remote.webelement.WebElement (session=\"07fefc38ee615acd654467b30f3bace8\", element=\"b322fb44-f88d-4dfa-b260-075df136d62f\")>,\n",
       " <selenium.webdriver.remote.webelement.WebElement (session=\"07fefc38ee615acd654467b30f3bace8\", element=\"d0c7d30f-1ba1-4650-a835-a813eda31e3a\")>,\n",
       " <selenium.webdriver.remote.webelement.WebElement (session=\"07fefc38ee615acd654467b30f3bace8\", element=\"07d43a8f-c76c-49a0-88b1-2b6c34420ac7\")>,\n",
       " <selenium.webdriver.remote.webelement.WebElement (session=\"07fefc38ee615acd654467b30f3bace8\", element=\"16c223e4-c75a-46d0-a324-caa5c8bae46d\")>,\n",
       " <selenium.webdriver.remote.webelement.WebElement (session=\"07fefc38ee615acd654467b30f3bace8\", element=\"e58101bf-618e-4a09-8986-23c6965d039d\")>,\n",
       " <selenium.webdriver.remote.webelement.WebElement (session=\"07fefc38ee615acd654467b30f3bace8\", element=\"296f7445-faa8-4553-906a-252cbb3abacc\")>,\n",
       " <selenium.webdriver.remote.webelement.WebElement (session=\"07fefc38ee615acd654467b30f3bace8\", element=\"17336510-63e3-4afd-8e7c-cb21bb56194f\")>,\n",
       " <selenium.webdriver.remote.webelement.WebElement (session=\"07fefc38ee615acd654467b30f3bace8\", element=\"b5f75a37-ddfa-4d48-bd91-e5dad19127af\")>,\n",
       " <selenium.webdriver.remote.webelement.WebElement (session=\"07fefc38ee615acd654467b30f3bace8\", element=\"f5a41b24-1c0d-4d8c-8b2f-2f5656466640\")>,\n",
       " <selenium.webdriver.remote.webelement.WebElement (session=\"07fefc38ee615acd654467b30f3bace8\", element=\"f919b9d7-4cee-4344-891e-612e0432c970\")>,\n",
       " <selenium.webdriver.remote.webelement.WebElement (session=\"07fefc38ee615acd654467b30f3bace8\", element=\"4dda426f-98aa-425b-b86e-b3b10d1221dc\")>,\n",
       " <selenium.webdriver.remote.webelement.WebElement (session=\"07fefc38ee615acd654467b30f3bace8\", element=\"825309b3-7b77-4cb8-83ab-d414c384fc12\")>,\n",
       " <selenium.webdriver.remote.webelement.WebElement (session=\"07fefc38ee615acd654467b30f3bace8\", element=\"a75c038e-c66b-4cdb-b4b5-8bcdda1a6e9d\")>,\n",
       " <selenium.webdriver.remote.webelement.WebElement (session=\"07fefc38ee615acd654467b30f3bace8\", element=\"07ec37f7-49c0-4f4f-b08e-fe46917d5e52\")>,\n",
       " <selenium.webdriver.remote.webelement.WebElement (session=\"07fefc38ee615acd654467b30f3bace8\", element=\"9853d261-9658-44e8-ad66-94906e93d862\")>,\n",
       " <selenium.webdriver.remote.webelement.WebElement (session=\"07fefc38ee615acd654467b30f3bace8\", element=\"e8f5b67b-2007-4a5b-bb71-a6297eb87027\")>,\n",
       " <selenium.webdriver.remote.webelement.WebElement (session=\"07fefc38ee615acd654467b30f3bace8\", element=\"9157790e-6bef-4ef1-a199-4593d474d092\")>,\n",
       " <selenium.webdriver.remote.webelement.WebElement (session=\"07fefc38ee615acd654467b30f3bace8\", element=\"36b6bdbd-939a-4fe4-b318-353e5255416d\")>,\n",
       " <selenium.webdriver.remote.webelement.WebElement (session=\"07fefc38ee615acd654467b30f3bace8\", element=\"0e8239f5-9fca-44d6-97a0-f912ab150fd0\")>,\n",
       " <selenium.webdriver.remote.webelement.WebElement (session=\"07fefc38ee615acd654467b30f3bace8\", element=\"a6386eb2-5990-4407-a4cc-f3f4800bdb09\")>,\n",
       " <selenium.webdriver.remote.webelement.WebElement (session=\"07fefc38ee615acd654467b30f3bace8\", element=\"fd8a045a-e983-4627-b1df-0db3a243a763\")>,\n",
       " <selenium.webdriver.remote.webelement.WebElement (session=\"07fefc38ee615acd654467b30f3bace8\", element=\"b168dad7-75e5-493e-baf1-ad57a1693380\")>,\n",
       " <selenium.webdriver.remote.webelement.WebElement (session=\"07fefc38ee615acd654467b30f3bace8\", element=\"743a6d96-1d48-43fe-b685-f17ff094e31d\")>,\n",
       " <selenium.webdriver.remote.webelement.WebElement (session=\"07fefc38ee615acd654467b30f3bace8\", element=\"99d19585-20f0-44ae-83d6-bb2e7c8fdd3e\")>,\n",
       " <selenium.webdriver.remote.webelement.WebElement (session=\"07fefc38ee615acd654467b30f3bace8\", element=\"e7d67cad-1547-4ba5-b6c9-b1fd61bcf6f0\")>,\n",
       " <selenium.webdriver.remote.webelement.WebElement (session=\"07fefc38ee615acd654467b30f3bace8\", element=\"10fa7adc-f7ba-48ca-a96d-53d450c3929c\")>,\n",
       " <selenium.webdriver.remote.webelement.WebElement (session=\"07fefc38ee615acd654467b30f3bace8\", element=\"f8a03584-3f3e-4829-a682-7137cdf21843\")>,\n",
       " <selenium.webdriver.remote.webelement.WebElement (session=\"07fefc38ee615acd654467b30f3bace8\", element=\"294d6ad8-ce66-48a9-98cb-5ff0284323b4\")>,\n",
       " <selenium.webdriver.remote.webelement.WebElement (session=\"07fefc38ee615acd654467b30f3bace8\", element=\"eee773f1-6748-462a-9c08-ee10161fd92f\")>,\n",
       " <selenium.webdriver.remote.webelement.WebElement (session=\"07fefc38ee615acd654467b30f3bace8\", element=\"9e2906f6-25f5-47d2-af76-f8f9002c8c16\")>,\n",
       " <selenium.webdriver.remote.webelement.WebElement (session=\"07fefc38ee615acd654467b30f3bace8\", element=\"2f1f76ac-0b21-40a9-9cac-999f39365ee3\")>,\n",
       " <selenium.webdriver.remote.webelement.WebElement (session=\"07fefc38ee615acd654467b30f3bace8\", element=\"71dfb978-331a-4524-b312-d5288e2810af\")>,\n",
       " <selenium.webdriver.remote.webelement.WebElement (session=\"07fefc38ee615acd654467b30f3bace8\", element=\"e985794c-9a0c-490b-bf12-9934af90dff0\")>,\n",
       " <selenium.webdriver.remote.webelement.WebElement (session=\"07fefc38ee615acd654467b30f3bace8\", element=\"7a288446-87f1-4ff3-9943-26d5e5e6a1dd\")>,\n",
       " <selenium.webdriver.remote.webelement.WebElement (session=\"07fefc38ee615acd654467b30f3bace8\", element=\"2de78098-92c9-4b8f-ac80-a1b67abece3b\")>,\n",
       " <selenium.webdriver.remote.webelement.WebElement (session=\"07fefc38ee615acd654467b30f3bace8\", element=\"fa27c30c-96bc-4848-af4d-5eb08a032234\")>,\n",
       " <selenium.webdriver.remote.webelement.WebElement (session=\"07fefc38ee615acd654467b30f3bace8\", element=\"740f6a63-0d71-4cc3-ab91-8d5f0a3879c5\")>,\n",
       " <selenium.webdriver.remote.webelement.WebElement (session=\"07fefc38ee615acd654467b30f3bace8\", element=\"ea2ce455-b904-4976-85c9-436d3a4f7b92\")>,\n",
       " <selenium.webdriver.remote.webelement.WebElement (session=\"07fefc38ee615acd654467b30f3bace8\", element=\"fc8b333f-1be0-471b-b823-242d9378d6bc\")>,\n",
       " <selenium.webdriver.remote.webelement.WebElement (session=\"07fefc38ee615acd654467b30f3bace8\", element=\"0bacabf0-b80f-4f77-a91f-705b26952cef\")>,\n",
       " <selenium.webdriver.remote.webelement.WebElement (session=\"07fefc38ee615acd654467b30f3bace8\", element=\"ebec4182-34e9-4f4c-a99b-075ed02aa9cc\")>,\n",
       " <selenium.webdriver.remote.webelement.WebElement (session=\"07fefc38ee615acd654467b30f3bace8\", element=\"cbe38fd4-68b0-4905-8f28-c24769e19028\")>,\n",
       " <selenium.webdriver.remote.webelement.WebElement (session=\"07fefc38ee615acd654467b30f3bace8\", element=\"f02c86b5-5db3-4bf4-a31a-2f7da252f0e7\")>,\n",
       " <selenium.webdriver.remote.webelement.WebElement (session=\"07fefc38ee615acd654467b30f3bace8\", element=\"c0b9ce8e-33f5-4d96-bcd0-19f28b806160\")>,\n",
       " <selenium.webdriver.remote.webelement.WebElement (session=\"07fefc38ee615acd654467b30f3bace8\", element=\"718c2f4c-3adb-4f66-8faa-bd33ac1516c9\")>,\n",
       " <selenium.webdriver.remote.webelement.WebElement (session=\"07fefc38ee615acd654467b30f3bace8\", element=\"f62a84fa-02fb-48f9-81b9-5ed2498b29e0\")>,\n",
       " <selenium.webdriver.remote.webelement.WebElement (session=\"07fefc38ee615acd654467b30f3bace8\", element=\"651ecaf1-7cbc-4c01-a1f4-6b00243c6cb5\")>,\n",
       " <selenium.webdriver.remote.webelement.WebElement (session=\"07fefc38ee615acd654467b30f3bace8\", element=\"b773e084-e04a-4dfa-af33-38082cac8cc1\")>,\n",
       " <selenium.webdriver.remote.webelement.WebElement (session=\"07fefc38ee615acd654467b30f3bace8\", element=\"92b19d7a-1ef3-4e44-8ba2-75488813940b\")>,\n",
       " <selenium.webdriver.remote.webelement.WebElement (session=\"07fefc38ee615acd654467b30f3bace8\", element=\"572e1fb5-82fe-44c0-bd43-92a1cb6a963b\")>,\n",
       " <selenium.webdriver.remote.webelement.WebElement (session=\"07fefc38ee615acd654467b30f3bace8\", element=\"0c0ce0d6-a4c5-4cf8-865f-1b3692de0a8d\")>,\n",
       " <selenium.webdriver.remote.webelement.WebElement (session=\"07fefc38ee615acd654467b30f3bace8\", element=\"013ea5c5-4b77-4cf7-b361-dcd962533b40\")>,\n",
       " <selenium.webdriver.remote.webelement.WebElement (session=\"07fefc38ee615acd654467b30f3bace8\", element=\"d7c51f17-1d28-4d52-869b-036629ca5955\")>,\n",
       " <selenium.webdriver.remote.webelement.WebElement (session=\"07fefc38ee615acd654467b30f3bace8\", element=\"6091331f-9d92-418a-8250-9efe044db22f\")>,\n",
       " <selenium.webdriver.remote.webelement.WebElement (session=\"07fefc38ee615acd654467b30f3bace8\", element=\"e9db855a-c74a-45e6-b1de-4126cc4e493f\")>,\n",
       " <selenium.webdriver.remote.webelement.WebElement (session=\"07fefc38ee615acd654467b30f3bace8\", element=\"bf9233f2-afe6-4e49-bf3b-f2aaf978d9f2\")>,\n",
       " <selenium.webdriver.remote.webelement.WebElement (session=\"07fefc38ee615acd654467b30f3bace8\", element=\"9e92057f-1b9b-4b9f-98ba-6cf23c790a1f\")>,\n",
       " <selenium.webdriver.remote.webelement.WebElement (session=\"07fefc38ee615acd654467b30f3bace8\", element=\"ef978e30-c01e-4867-9067-ba2d43ee14c1\")>,\n",
       " <selenium.webdriver.remote.webelement.WebElement (session=\"07fefc38ee615acd654467b30f3bace8\", element=\"73988dbc-b2f3-402f-a00f-191315cac382\")>,\n",
       " <selenium.webdriver.remote.webelement.WebElement (session=\"07fefc38ee615acd654467b30f3bace8\", element=\"205d7eef-cc44-4cb1-a228-032812e41455\")>,\n",
       " <selenium.webdriver.remote.webelement.WebElement (session=\"07fefc38ee615acd654467b30f3bace8\", element=\"6cd28200-d6e3-4db4-bf20-2c6e915221c6\")>,\n",
       " <selenium.webdriver.remote.webelement.WebElement (session=\"07fefc38ee615acd654467b30f3bace8\", element=\"64a61e4a-654a-4a0f-8584-36cc268434f5\")>,\n",
       " <selenium.webdriver.remote.webelement.WebElement (session=\"07fefc38ee615acd654467b30f3bace8\", element=\"bf82aab1-c6b4-445e-b80e-904eb28bbedc\")>,\n",
       " <selenium.webdriver.remote.webelement.WebElement (session=\"07fefc38ee615acd654467b30f3bace8\", element=\"63f44545-fb97-44fb-89f9-b6bfdf5d66bc\")>,\n",
       " <selenium.webdriver.remote.webelement.WebElement (session=\"07fefc38ee615acd654467b30f3bace8\", element=\"3b846d22-74c1-474f-b16b-90f993a0eaab\")>,\n",
       " <selenium.webdriver.remote.webelement.WebElement (session=\"07fefc38ee615acd654467b30f3bace8\", element=\"9844f8b7-14bb-4448-96a8-f8894cbd076e\")>,\n",
       " <selenium.webdriver.remote.webelement.WebElement (session=\"07fefc38ee615acd654467b30f3bace8\", element=\"88e84b58-051e-4f57-b4c1-3d2f37dde5dd\")>,\n",
       " <selenium.webdriver.remote.webelement.WebElement (session=\"07fefc38ee615acd654467b30f3bace8\", element=\"aa7d5675-5186-4fcc-8559-43c865b3a957\")>,\n",
       " <selenium.webdriver.remote.webelement.WebElement (session=\"07fefc38ee615acd654467b30f3bace8\", element=\"a2fbf756-f060-43bb-a87d-2c9af3cce9e7\")>,\n",
       " <selenium.webdriver.remote.webelement.WebElement (session=\"07fefc38ee615acd654467b30f3bace8\", element=\"ce12b5a6-7bb3-4a41-8ad7-0d19d54a87cc\")>,\n",
       " <selenium.webdriver.remote.webelement.WebElement (session=\"07fefc38ee615acd654467b30f3bace8\", element=\"5af5af3b-44d4-488d-86ca-2a92bd66892a\")>,\n",
       " <selenium.webdriver.remote.webelement.WebElement (session=\"07fefc38ee615acd654467b30f3bace8\", element=\"1a97ae2c-f309-44e5-a3d0-617785fbd441\")>,\n",
       " <selenium.webdriver.remote.webelement.WebElement (session=\"07fefc38ee615acd654467b30f3bace8\", element=\"e522d560-e510-4df8-84d3-ef92f4c907e5\")>,\n",
       " <selenium.webdriver.remote.webelement.WebElement (session=\"07fefc38ee615acd654467b30f3bace8\", element=\"af72e6c8-a1a4-44a2-a542-c511d9a55f49\")>,\n",
       " <selenium.webdriver.remote.webelement.WebElement (session=\"07fefc38ee615acd654467b30f3bace8\", element=\"7f911dc9-c51c-4b89-a06c-1c94b187841a\")>,\n",
       " <selenium.webdriver.remote.webelement.WebElement (session=\"07fefc38ee615acd654467b30f3bace8\", element=\"d3e597db-e415-4162-9e3e-763cdb491955\")>,\n",
       " <selenium.webdriver.remote.webelement.WebElement (session=\"07fefc38ee615acd654467b30f3bace8\", element=\"1918344d-bcdb-4c4c-9943-64ffa44baa29\")>,\n",
       " <selenium.webdriver.remote.webelement.WebElement (session=\"07fefc38ee615acd654467b30f3bace8\", element=\"589a6b2d-cb1a-40c7-89de-88318a2b2bd8\")>,\n",
       " <selenium.webdriver.remote.webelement.WebElement (session=\"07fefc38ee615acd654467b30f3bace8\", element=\"2a3d1a8f-1166-4752-93ec-0d4be323677f\")>,\n",
       " <selenium.webdriver.remote.webelement.WebElement (session=\"07fefc38ee615acd654467b30f3bace8\", element=\"b92d61c5-84a7-4804-9cad-a5e9d7ec587e\")>,\n",
       " <selenium.webdriver.remote.webelement.WebElement (session=\"07fefc38ee615acd654467b30f3bace8\", element=\"e0f9ebc3-58e5-4653-8b12-2049be8056bb\")>,\n",
       " <selenium.webdriver.remote.webelement.WebElement (session=\"07fefc38ee615acd654467b30f3bace8\", element=\"34045473-36d0-49a1-b711-c72231bd1ff7\")>,\n",
       " <selenium.webdriver.remote.webelement.WebElement (session=\"07fefc38ee615acd654467b30f3bace8\", element=\"c9ed6450-2de3-4be3-9d43-88086d931ebf\")>,\n",
       " <selenium.webdriver.remote.webelement.WebElement (session=\"07fefc38ee615acd654467b30f3bace8\", element=\"0ae79cf2-6d26-405b-b2b9-f75db4424df7\")>,\n",
       " <selenium.webdriver.remote.webelement.WebElement (session=\"07fefc38ee615acd654467b30f3bace8\", element=\"14443f7b-14b4-44e0-9e73-0e68c4d52c7e\")>,\n",
       " <selenium.webdriver.remote.webelement.WebElement (session=\"07fefc38ee615acd654467b30f3bace8\", element=\"0f8c16a9-24cc-45a1-a6b1-77b988cb7e72\")>,\n",
       " <selenium.webdriver.remote.webelement.WebElement (session=\"07fefc38ee615acd654467b30f3bace8\", element=\"c5666cc6-5f5e-4c7f-b9e3-1321c4baf10b\")>,\n",
       " <selenium.webdriver.remote.webelement.WebElement (session=\"07fefc38ee615acd654467b30f3bace8\", element=\"94c171db-0426-4905-b0d4-2d36b1463910\")>,\n",
       " <selenium.webdriver.remote.webelement.WebElement (session=\"07fefc38ee615acd654467b30f3bace8\", element=\"70ee6add-6d90-4fba-bde7-a07fb585b2d3\")>,\n",
       " <selenium.webdriver.remote.webelement.WebElement (session=\"07fefc38ee615acd654467b30f3bace8\", element=\"9507fb79-74a5-4099-a520-fb697c6f92f4\")>,\n",
       " <selenium.webdriver.remote.webelement.WebElement (session=\"07fefc38ee615acd654467b30f3bace8\", element=\"7b8c3eff-7d61-401f-82ad-13a9ef8931cc\")>,\n",
       " <selenium.webdriver.remote.webelement.WebElement (session=\"07fefc38ee615acd654467b30f3bace8\", element=\"71bf65b0-966e-41e0-9f9c-962b7c2a0f00\")>,\n",
       " <selenium.webdriver.remote.webelement.WebElement (session=\"07fefc38ee615acd654467b30f3bace8\", element=\"2aff3308-44c1-47d1-8a4a-0d2821c9cb6c\")>,\n",
       " <selenium.webdriver.remote.webelement.WebElement (session=\"07fefc38ee615acd654467b30f3bace8\", element=\"1bb47bbb-d34a-4621-8fff-f6d86262c0ce\")>,\n",
       " <selenium.webdriver.remote.webelement.WebElement (session=\"07fefc38ee615acd654467b30f3bace8\", element=\"ee2d52b1-c605-46f1-b5dd-d377e1114c7e\")>,\n",
       " <selenium.webdriver.remote.webelement.WebElement (session=\"07fefc38ee615acd654467b30f3bace8\", element=\"57f7f046-631d-46ed-81b9-f6708cef57f7\")>,\n",
       " <selenium.webdriver.remote.webelement.WebElement (session=\"07fefc38ee615acd654467b30f3bace8\", element=\"25125da8-cd24-4a5e-8339-930d5f6299dc\")>,\n",
       " <selenium.webdriver.remote.webelement.WebElement (session=\"07fefc38ee615acd654467b30f3bace8\", element=\"3ecbc7a4-6b11-4f8c-b99f-d5abde461304\")>,\n",
       " <selenium.webdriver.remote.webelement.WebElement (session=\"07fefc38ee615acd654467b30f3bace8\", element=\"c195669d-83aa-471e-9d31-7b01c8e9ab20\")>,\n",
       " <selenium.webdriver.remote.webelement.WebElement (session=\"07fefc38ee615acd654467b30f3bace8\", element=\"6340711e-f6dc-4c15-b680-4deac4d529de\")>,\n",
       " <selenium.webdriver.remote.webelement.WebElement (session=\"07fefc38ee615acd654467b30f3bace8\", element=\"2bbad704-85de-4133-8ccd-a9beefe604ab\")>,\n",
       " <selenium.webdriver.remote.webelement.WebElement (session=\"07fefc38ee615acd654467b30f3bace8\", element=\"3b3676c5-94fa-4039-87c5-6864ae1b46ab\")>,\n",
       " <selenium.webdriver.remote.webelement.WebElement (session=\"07fefc38ee615acd654467b30f3bace8\", element=\"e3ad399f-56a4-4a9d-a7c1-fb6224f21dd9\")>,\n",
       " <selenium.webdriver.remote.webelement.WebElement (session=\"07fefc38ee615acd654467b30f3bace8\", element=\"8937ef16-8a53-4fe4-9851-51a431c7c08e\")>,\n",
       " <selenium.webdriver.remote.webelement.WebElement (session=\"07fefc38ee615acd654467b30f3bace8\", element=\"b89eb79a-9c00-4101-917c-02bec409dc9e\")>,\n",
       " <selenium.webdriver.remote.webelement.WebElement (session=\"07fefc38ee615acd654467b30f3bace8\", element=\"f74a9aca-7e72-40f8-a5e1-fa605c46886e\")>,\n",
       " <selenium.webdriver.remote.webelement.WebElement (session=\"07fefc38ee615acd654467b30f3bace8\", element=\"1d3f93a7-0e38-4558-b317-1609516205b4\")>,\n",
       " <selenium.webdriver.remote.webelement.WebElement (session=\"07fefc38ee615acd654467b30f3bace8\", element=\"2f8b5a68-de28-40df-bd95-c7f8c6dff69f\")>,\n",
       " <selenium.webdriver.remote.webelement.WebElement (session=\"07fefc38ee615acd654467b30f3bace8\", element=\"c11fb6c9-56ea-407a-8267-57af8786a01b\")>,\n",
       " <selenium.webdriver.remote.webelement.WebElement (session=\"07fefc38ee615acd654467b30f3bace8\", element=\"f483f2b6-995f-4b14-a577-60aca5991234\")>,\n",
       " <selenium.webdriver.remote.webelement.WebElement (session=\"07fefc38ee615acd654467b30f3bace8\", element=\"765ee599-949a-4289-9d6d-25bef4a00035\")>,\n",
       " <selenium.webdriver.remote.webelement.WebElement (session=\"07fefc38ee615acd654467b30f3bace8\", element=\"2d319e97-3df0-4cce-9437-1bbf0e01d2b4\")>,\n",
       " <selenium.webdriver.remote.webelement.WebElement (session=\"07fefc38ee615acd654467b30f3bace8\", element=\"73bcbe3a-a03c-4c82-b115-7805543bf429\")>,\n",
       " <selenium.webdriver.remote.webelement.WebElement (session=\"07fefc38ee615acd654467b30f3bace8\", element=\"2ad67936-d7d1-4019-a708-08ce17a792b5\")>,\n",
       " <selenium.webdriver.remote.webelement.WebElement (session=\"07fefc38ee615acd654467b30f3bace8\", element=\"643e6684-813f-4678-916e-48ff520b1352\")>,\n",
       " <selenium.webdriver.remote.webelement.WebElement (session=\"07fefc38ee615acd654467b30f3bace8\", element=\"0ef8f3cc-fd70-4630-b21d-4a719f689875\")>,\n",
       " <selenium.webdriver.remote.webelement.WebElement (session=\"07fefc38ee615acd654467b30f3bace8\", element=\"f94b941f-d303-44e7-aa69-37779fca0f48\")>,\n",
       " <selenium.webdriver.remote.webelement.WebElement (session=\"07fefc38ee615acd654467b30f3bace8\", element=\"ab57b4ac-b137-4bd3-adb4-97aad07578b9\")>,\n",
       " <selenium.webdriver.remote.webelement.WebElement (session=\"07fefc38ee615acd654467b30f3bace8\", element=\"22fc1a3f-898a-4a28-90b8-bd3967749af1\")>,\n",
       " <selenium.webdriver.remote.webelement.WebElement (session=\"07fefc38ee615acd654467b30f3bace8\", element=\"f5be889b-08ca-4922-9484-3a6a056c6ef1\")>,\n",
       " <selenium.webdriver.remote.webelement.WebElement (session=\"07fefc38ee615acd654467b30f3bace8\", element=\"b5b08da6-847c-4564-be84-ccf59c49837a\")>,\n",
       " <selenium.webdriver.remote.webelement.WebElement (session=\"07fefc38ee615acd654467b30f3bace8\", element=\"96104cd1-5b4b-4cc9-ad0c-8ad52e1373fa\")>,\n",
       " <selenium.webdriver.remote.webelement.WebElement (session=\"07fefc38ee615acd654467b30f3bace8\", element=\"f8980c1d-e1af-4366-98d6-b2a61d43e6cd\")>,\n",
       " <selenium.webdriver.remote.webelement.WebElement (session=\"07fefc38ee615acd654467b30f3bace8\", element=\"25666012-e333-4a5e-af3c-4ab0e9e2f934\")>,\n",
       " <selenium.webdriver.remote.webelement.WebElement (session=\"07fefc38ee615acd654467b30f3bace8\", element=\"6b7180d3-6dfc-4eca-b524-4025c8b2fb78\")>,\n",
       " <selenium.webdriver.remote.webelement.WebElement (session=\"07fefc38ee615acd654467b30f3bace8\", element=\"f4adb91a-3dd1-42bb-97d3-c2c0314a8a10\")>,\n",
       " <selenium.webdriver.remote.webelement.WebElement (session=\"07fefc38ee615acd654467b30f3bace8\", element=\"31bf560b-95b3-413a-b539-ae0df085f9e0\")>,\n",
       " <selenium.webdriver.remote.webelement.WebElement (session=\"07fefc38ee615acd654467b30f3bace8\", element=\"03f5a37d-ddc9-4ec6-ba2b-2058f5b5c684\")>,\n",
       " <selenium.webdriver.remote.webelement.WebElement (session=\"07fefc38ee615acd654467b30f3bace8\", element=\"d0c1a38c-0cc0-46a9-b52d-c00eabc462bb\")>,\n",
       " <selenium.webdriver.remote.webelement.WebElement (session=\"07fefc38ee615acd654467b30f3bace8\", element=\"adae7807-aa30-49ea-ad2d-ba91712451a0\")>,\n",
       " <selenium.webdriver.remote.webelement.WebElement (session=\"07fefc38ee615acd654467b30f3bace8\", element=\"af58681a-b659-4123-99e3-e3b52f04dfa8\")>,\n",
       " <selenium.webdriver.remote.webelement.WebElement (session=\"07fefc38ee615acd654467b30f3bace8\", element=\"bab30762-4b7e-44c8-bcb9-ff20b6c668db\")>,\n",
       " <selenium.webdriver.remote.webelement.WebElement (session=\"07fefc38ee615acd654467b30f3bace8\", element=\"7a410ed7-d89f-4cd4-b5a3-b1e7df7c1ae7\")>,\n",
       " <selenium.webdriver.remote.webelement.WebElement (session=\"07fefc38ee615acd654467b30f3bace8\", element=\"40c7cce9-b6f1-465e-b03d-4883c7f277f2\")>,\n",
       " <selenium.webdriver.remote.webelement.WebElement (session=\"07fefc38ee615acd654467b30f3bace8\", element=\"61f978bf-88d9-442e-b0ca-d214c078a029\")>,\n",
       " <selenium.webdriver.remote.webelement.WebElement (session=\"07fefc38ee615acd654467b30f3bace8\", element=\"47f34450-d13e-48b6-9f9f-992b1978929c\")>,\n",
       " <selenium.webdriver.remote.webelement.WebElement (session=\"07fefc38ee615acd654467b30f3bace8\", element=\"960f2713-0754-4d58-8ee0-006641d6715d\")>,\n",
       " <selenium.webdriver.remote.webelement.WebElement (session=\"07fefc38ee615acd654467b30f3bace8\", element=\"59f9a600-a5b2-4b0a-810f-c0ddba337734\")>]"
      ]
     },
     "execution_count": 79,
     "metadata": {},
     "output_type": "execute_result"
    }
   ],
   "source": [
    "share=driver.find_elements_by_xpath('//td[@class=\"data\"]')\n",
    "share"
   ]
  },
  {
   "cell_type": "code",
   "execution_count": 80,
   "id": "bfa13429",
   "metadata": {},
   "outputs": [
    {
     "data": {
      "text/plain": [
       "308"
      ]
     },
     "execution_count": 80,
     "metadata": {},
     "output_type": "execute_result"
    }
   ],
   "source": [
    "len(share)"
   ]
  },
  {
   "cell_type": "code",
   "execution_count": 81,
   "id": "93f44bda",
   "metadata": {},
   "outputs": [
    {
     "data": {
      "text/plain": [
       "[]"
      ]
     },
     "execution_count": 81,
     "metadata": {},
     "output_type": "execute_result"
    }
   ],
   "source": [
    "gdp=[]\n",
    "for i in gdp:\n",
    "    gdp.append(i.text)\n",
    "    gdp=gdp[0:10]    \n",
    "\n",
    "gdp"
   ]
  },
  {
   "cell_type": "markdown",
   "id": "3e237f18",
   "metadata": {},
   "source": [
    "QUESTION 6"
   ]
  },
  {
   "cell_type": "code",
   "execution_count": 82,
   "id": "8fcf0330",
   "metadata": {},
   "outputs": [
    {
     "name": "stderr",
     "output_type": "stream",
     "text": [
      "<ipython-input-82-452eafebab4f>:2: DeprecationWarning: executable_path has been deprecated, please pass in a Service object\n",
      "  driver = webdriver.Chrome(PATH)\n"
     ]
    }
   ],
   "source": [
    "PATH = 'C:/Users/Shiva Labade/Desktop/chromedriver_win32/chromedriver.exe'\n",
    "driver = webdriver.Chrome(PATH)"
   ]
  },
  {
   "cell_type": "code",
   "execution_count": 98,
   "id": "a9ce19cf",
   "metadata": {},
   "outputs": [],
   "source": [
    "driver.get('https://www.billboard.com/')"
   ]
  },
  {
   "cell_type": "code",
   "execution_count": 101,
   "id": "0713fabd",
   "metadata": {},
   "outputs": [
    {
     "name": "stderr",
     "output_type": "stream",
     "text": [
      "<ipython-input-101-a77f6344d285>:1: DeprecationWarning: find_element_by_* commands are deprecated. Please use find_element() instead\n",
      "  search_hot_100 = driver.find_element_by_class_name(\"js-bound\")\n"
     ]
    },
    {
     "data": {
      "text/plain": [
       "<selenium.webdriver.remote.webelement.WebElement (session=\"dcf1dd8c1045ee873177056fb287b4db\", element=\"0609221b-2a14-4c13-8ef6-affb603e0640\")>"
      ]
     },
     "execution_count": 101,
     "metadata": {},
     "output_type": "execute_result"
    }
   ],
   "source": [
    "search_hot_100 = driver.find_element_by_class_name(\"js-bound\")\n",
    "search_hot_100"
   ]
  },
  {
   "cell_type": "code",
   "execution_count": 104,
   "id": "08206969",
   "metadata": {},
   "outputs": [
    {
     "name": "stderr",
     "output_type": "stream",
     "text": [
      "<ipython-input-104-2b5bf32440e7>:1: DeprecationWarning: find_elements_by_* commands are deprecated. Please use find_elements() instead\n",
      "  song_name=driver.find_elements_by_xpath('//h3[@id=\"title-of-a-story\"]')\n"
     ]
    },
    {
     "data": {
      "text/plain": [
       "[<selenium.webdriver.remote.webelement.WebElement (session=\"dcf1dd8c1045ee873177056fb287b4db\", element=\"a50dae11-f826-4a4f-9dda-97850a33f5e4\")>,\n",
       " <selenium.webdriver.remote.webelement.WebElement (session=\"dcf1dd8c1045ee873177056fb287b4db\", element=\"af7c38f0-5b92-4083-87de-8f43d89c790c\")>,\n",
       " <selenium.webdriver.remote.webelement.WebElement (session=\"dcf1dd8c1045ee873177056fb287b4db\", element=\"ef83900d-60b1-4aef-840b-5c9cd4737d54\")>,\n",
       " <selenium.webdriver.remote.webelement.WebElement (session=\"dcf1dd8c1045ee873177056fb287b4db\", element=\"d1c6ece3-8939-4bf1-9e63-206b74ae0cc1\")>,\n",
       " <selenium.webdriver.remote.webelement.WebElement (session=\"dcf1dd8c1045ee873177056fb287b4db\", element=\"f1ff125c-439f-46e0-a763-111eac84d539\")>,\n",
       " <selenium.webdriver.remote.webelement.WebElement (session=\"dcf1dd8c1045ee873177056fb287b4db\", element=\"482845d3-6630-4a6e-b5d6-510c1b40e12d\")>,\n",
       " <selenium.webdriver.remote.webelement.WebElement (session=\"dcf1dd8c1045ee873177056fb287b4db\", element=\"95fecfbe-7046-4aec-8e24-1e7f10042b1d\")>,\n",
       " <selenium.webdriver.remote.webelement.WebElement (session=\"dcf1dd8c1045ee873177056fb287b4db\", element=\"7f0ea4b6-1b22-4190-8bbc-e4eef7a2b67b\")>,\n",
       " <selenium.webdriver.remote.webelement.WebElement (session=\"dcf1dd8c1045ee873177056fb287b4db\", element=\"5c12dd9e-51a9-4822-98ba-65b7e3af9a41\")>,\n",
       " <selenium.webdriver.remote.webelement.WebElement (session=\"dcf1dd8c1045ee873177056fb287b4db\", element=\"c4d222fb-b2f1-4e40-bc9d-13706f2f396d\")>,\n",
       " <selenium.webdriver.remote.webelement.WebElement (session=\"dcf1dd8c1045ee873177056fb287b4db\", element=\"d133724a-10fc-4aff-84d5-cd511599b063\")>,\n",
       " <selenium.webdriver.remote.webelement.WebElement (session=\"dcf1dd8c1045ee873177056fb287b4db\", element=\"2050f27d-9704-4c5b-977b-f2fc4451528c\")>,\n",
       " <selenium.webdriver.remote.webelement.WebElement (session=\"dcf1dd8c1045ee873177056fb287b4db\", element=\"f41f47bc-3aa3-4a82-a87b-4dbec2e3cddf\")>,\n",
       " <selenium.webdriver.remote.webelement.WebElement (session=\"dcf1dd8c1045ee873177056fb287b4db\", element=\"f751f193-f1e5-475b-8e23-87c5af7c53f8\")>,\n",
       " <selenium.webdriver.remote.webelement.WebElement (session=\"dcf1dd8c1045ee873177056fb287b4db\", element=\"41b89709-7ec6-4620-a006-04d88e64c5f7\")>,\n",
       " <selenium.webdriver.remote.webelement.WebElement (session=\"dcf1dd8c1045ee873177056fb287b4db\", element=\"26689b55-ecfc-4230-a7b7-5779296b5ae5\")>,\n",
       " <selenium.webdriver.remote.webelement.WebElement (session=\"dcf1dd8c1045ee873177056fb287b4db\", element=\"41c54e69-83b7-4a09-952d-70ddf2554e2b\")>,\n",
       " <selenium.webdriver.remote.webelement.WebElement (session=\"dcf1dd8c1045ee873177056fb287b4db\", element=\"5858b3b5-b69f-4e12-beff-e4236756f510\")>,\n",
       " <selenium.webdriver.remote.webelement.WebElement (session=\"dcf1dd8c1045ee873177056fb287b4db\", element=\"74286e31-b692-45fa-bd23-5411ce36a4a7\")>,\n",
       " <selenium.webdriver.remote.webelement.WebElement (session=\"dcf1dd8c1045ee873177056fb287b4db\", element=\"94931c38-331e-46a5-aa62-a4a68bf2a6aa\")>,\n",
       " <selenium.webdriver.remote.webelement.WebElement (session=\"dcf1dd8c1045ee873177056fb287b4db\", element=\"1f368e23-25e1-462c-ba5c-86182f1afe14\")>,\n",
       " <selenium.webdriver.remote.webelement.WebElement (session=\"dcf1dd8c1045ee873177056fb287b4db\", element=\"743dc241-6e0e-466b-a5e9-25a24206f800\")>,\n",
       " <selenium.webdriver.remote.webelement.WebElement (session=\"dcf1dd8c1045ee873177056fb287b4db\", element=\"aa848f81-0312-4620-bddd-3909272b47ed\")>,\n",
       " <selenium.webdriver.remote.webelement.WebElement (session=\"dcf1dd8c1045ee873177056fb287b4db\", element=\"23331ccc-27c8-4c47-9085-0bc21ed890dd\")>,\n",
       " <selenium.webdriver.remote.webelement.WebElement (session=\"dcf1dd8c1045ee873177056fb287b4db\", element=\"19ffd71d-ea1c-47f7-9210-852372d8d3cd\")>,\n",
       " <selenium.webdriver.remote.webelement.WebElement (session=\"dcf1dd8c1045ee873177056fb287b4db\", element=\"6e88f703-1f57-4df8-ab76-a4acf1200ab7\")>,\n",
       " <selenium.webdriver.remote.webelement.WebElement (session=\"dcf1dd8c1045ee873177056fb287b4db\", element=\"b537c99a-4fd1-4801-8b63-38b8559f760b\")>,\n",
       " <selenium.webdriver.remote.webelement.WebElement (session=\"dcf1dd8c1045ee873177056fb287b4db\", element=\"de186bb2-c4cd-4987-ba50-8bec0373e3f4\")>,\n",
       " <selenium.webdriver.remote.webelement.WebElement (session=\"dcf1dd8c1045ee873177056fb287b4db\", element=\"cf323137-e40a-4d22-9724-ff8dddbf7194\")>,\n",
       " <selenium.webdriver.remote.webelement.WebElement (session=\"dcf1dd8c1045ee873177056fb287b4db\", element=\"5488aecb-b1cd-4a60-9fc4-1c76148153c0\")>,\n",
       " <selenium.webdriver.remote.webelement.WebElement (session=\"dcf1dd8c1045ee873177056fb287b4db\", element=\"59e95100-0b09-4dcd-ba19-98f4571a56b5\")>,\n",
       " <selenium.webdriver.remote.webelement.WebElement (session=\"dcf1dd8c1045ee873177056fb287b4db\", element=\"a626696d-8365-41bc-a16b-bbbed5f1f43d\")>,\n",
       " <selenium.webdriver.remote.webelement.WebElement (session=\"dcf1dd8c1045ee873177056fb287b4db\", element=\"43a9a64d-3daa-44d1-ab82-3bd626776566\")>]"
      ]
     },
     "execution_count": 104,
     "metadata": {},
     "output_type": "execute_result"
    }
   ],
   "source": [
    "song_name=driver.find_elements_by_xpath('//h3[@id=\"title-of-a-story\"]')\n",
    "song_name"
   ]
  },
  {
   "cell_type": "code",
   "execution_count": 105,
   "id": "4fb76816",
   "metadata": {},
   "outputs": [
    {
     "data": {
      "text/plain": [
       "33"
      ]
     },
     "execution_count": 105,
     "metadata": {},
     "output_type": "execute_result"
    }
   ],
   "source": [
    "len(song_name)"
   ]
  },
  {
   "cell_type": "code",
   "execution_count": 107,
   "id": "de89ee91",
   "metadata": {},
   "outputs": [
    {
     "data": {
      "text/plain": [
       "[]"
      ]
     },
     "execution_count": 107,
     "metadata": {},
     "output_type": "execute_result"
    }
   ],
   "source": [
    "song_name=[]\n",
    "for i in song_name:\n",
    "    song_name.append(i.text)\n",
    "    song_name=song_name[0:10]    \n",
    "\n",
    "song_name"
   ]
  },
  {
   "cell_type": "code",
   "execution_count": 108,
   "id": "b89b4bf8",
   "metadata": {},
   "outputs": [
    {
     "name": "stderr",
     "output_type": "stream",
     "text": [
      "<ipython-input-108-acdb98cd8a63>:1: DeprecationWarning: find_elements_by_* commands are deprecated. Please use find_elements() instead\n",
      "  artist_name=driver.find_elements_by_xpath('//span[@class=\"c-label  a-no-trucate a-font-primary-s lrv-u-font-size-14@mobile-max u-line-height-normal@mobile-max u-letter-spacing-0021 lrv-u-display-block a-truncate-ellipsis-2line u-max-width-330 u-max-width-230@tablet-only\"]')\n"
     ]
    },
    {
     "data": {
      "text/plain": [
       "[]"
      ]
     },
     "execution_count": 108,
     "metadata": {},
     "output_type": "execute_result"
    }
   ],
   "source": [
    "artist_name=driver.find_elements_by_xpath('//span[@class=\"c-label  a-no-trucate a-font-primary-s lrv-u-font-size-14@mobile-max u-line-height-normal@mobile-max u-letter-spacing-0021 lrv-u-display-block a-truncate-ellipsis-2line u-max-width-330 u-max-width-230@tablet-only\"]')\n",
    "artist_name"
   ]
  },
  {
   "cell_type": "code",
   "execution_count": 109,
   "id": "c7ed46b4",
   "metadata": {},
   "outputs": [
    {
     "data": {
      "text/plain": [
       "[]"
      ]
     },
     "execution_count": 109,
     "metadata": {},
     "output_type": "execute_result"
    }
   ],
   "source": [
    "artist_name=[]\n",
    "for i in artist_name:\n",
    "    artist_name.append(i.text)\n",
    "    \n",
    "artist_name"
   ]
  },
  {
   "cell_type": "code",
   "execution_count": 110,
   "id": "95fa33f5",
   "metadata": {},
   "outputs": [
    {
     "name": "stderr",
     "output_type": "stream",
     "text": [
      "<ipython-input-110-a3f332b38f6a>:1: DeprecationWarning: find_elements_by_* commands are deprecated. Please use find_elements() instead\n",
      "  rank=driver.find_elements_by_xpath('//div[@class=\"o-chart-results-list-header__item  // lrv-u-padding-tb-075 u-width-72 u-width-55@mobile-max u-width-55@tablet-only lrv-u-padding-lr-075@desktop lrv-u-padding-lr-025 u-flex-grow-1@mobile-max\"]')\n"
     ]
    },
    {
     "data": {
      "text/plain": [
       "[]"
      ]
     },
     "execution_count": 110,
     "metadata": {},
     "output_type": "execute_result"
    }
   ],
   "source": [
    "rank=driver.find_elements_by_xpath('//div[@class=\"o-chart-results-list-header__item  // lrv-u-padding-tb-075 u-width-72 u-width-55@mobile-max u-width-55@tablet-only lrv-u-padding-lr-075@desktop lrv-u-padding-lr-025 u-flex-grow-1@mobile-max\"]')\n",
    "rank"
   ]
  },
  {
   "cell_type": "code",
   "execution_count": 111,
   "id": "483dbf77",
   "metadata": {},
   "outputs": [
    {
     "data": {
      "text/plain": [
       "[]"
      ]
     },
     "execution_count": 111,
     "metadata": {},
     "output_type": "execute_result"
    }
   ],
   "source": [
    "rank=[]\n",
    "for i in rank:\n",
    "    rank.append(i.text)\n",
    "    \n",
    "rank"
   ]
  },
  {
   "cell_type": "code",
   "execution_count": 112,
   "id": "a6b7b036",
   "metadata": {},
   "outputs": [
    {
     "name": "stderr",
     "output_type": "stream",
     "text": [
      "<ipython-input-112-9a6ac393c4a4>:1: DeprecationWarning: find_elements_by_* commands are deprecated. Please use find_elements() instead\n",
      "  peak_rank=driver.find_elements_by_xpath('//span[@class=\"c-label  a-font-primary-m lrv-u-padding-tb-050@mobile-max\"]')\n"
     ]
    },
    {
     "data": {
      "text/plain": [
       "[]"
      ]
     },
     "execution_count": 112,
     "metadata": {},
     "output_type": "execute_result"
    }
   ],
   "source": [
    "peak_rank=driver.find_elements_by_xpath('//span[@class=\"c-label  a-font-primary-m lrv-u-padding-tb-050@mobile-max\"]')\n",
    "peak_rank"
   ]
  },
  {
   "cell_type": "code",
   "execution_count": 113,
   "id": "ef793fe8",
   "metadata": {},
   "outputs": [
    {
     "data": {
      "text/plain": [
       "[]"
      ]
     },
     "execution_count": 113,
     "metadata": {},
     "output_type": "execute_result"
    }
   ],
   "source": [
    "peak_rank=[]\n",
    "for i in peak_rank:\n",
    "    peak_rank.append(i.text)\n",
    "    \n",
    "peak_rank"
   ]
  },
  {
   "cell_type": "code",
   "execution_count": 114,
   "id": "7e4987a5",
   "metadata": {},
   "outputs": [
    {
     "name": "stderr",
     "output_type": "stream",
     "text": [
      "<ipython-input-114-7c87b4f0170f>:1: DeprecationWarning: find_elements_by_* commands are deprecated. Please use find_elements() instead\n",
      "  weeks_on_board=driver.find_elements_by_xpath('//span[@class=\"c-label  a-font-primary-m lrv-u-padding-tb-050@mobile-max\"]')\n"
     ]
    },
    {
     "data": {
      "text/plain": [
       "[]"
      ]
     },
     "execution_count": 114,
     "metadata": {},
     "output_type": "execute_result"
    }
   ],
   "source": [
    "weeks_on_board=driver.find_elements_by_xpath('//span[@class=\"c-label  a-font-primary-m lrv-u-padding-tb-050@mobile-max\"]')\n",
    "weeks_on_board"
   ]
  },
  {
   "cell_type": "code",
   "execution_count": 115,
   "id": "ed03236c",
   "metadata": {},
   "outputs": [
    {
     "data": {
      "text/plain": [
       "[]"
      ]
     },
     "execution_count": 115,
     "metadata": {},
     "output_type": "execute_result"
    }
   ],
   "source": [
    "weeks_on_board=[]\n",
    "for i in weeks_on_board:\n",
    "    weeks_on_board.append(i.text)\n",
    "    \n",
    "weeks_on_board"
   ]
  },
  {
   "cell_type": "markdown",
   "id": "5c27a110",
   "metadata": {},
   "source": [
    "QUESTION 7"
   ]
  },
  {
   "cell_type": "code",
   "execution_count": 116,
   "id": "20d12e8b",
   "metadata": {},
   "outputs": [
    {
     "name": "stderr",
     "output_type": "stream",
     "text": [
      "<ipython-input-116-452eafebab4f>:2: DeprecationWarning: executable_path has been deprecated, please pass in a Service object\n",
      "  driver = webdriver.Chrome(PATH)\n"
     ]
    }
   ],
   "source": [
    "PATH = 'C:/Users/Shiva Labade/Desktop/chromedriver_win32/chromedriver.exe'\n",
    "driver = webdriver.Chrome(PATH)"
   ]
  },
  {
   "cell_type": "code",
   "execution_count": 117,
   "id": "6887df0e",
   "metadata": {},
   "outputs": [],
   "source": [
    "driver.get('https://www.naukri.com/')"
   ]
  },
  {
   "cell_type": "code",
   "execution_count": 118,
   "id": "393d4bd9",
   "metadata": {},
   "outputs": [
    {
     "name": "stderr",
     "output_type": "stream",
     "text": [
      "<ipython-input-118-37254a24e97c>:1: DeprecationWarning: find_element_by_* commands are deprecated. Please use find_element() instead\n",
      "  search_job = driver.find_element_by_class_name(\"suggestor-input \")\n"
     ]
    },
    {
     "data": {
      "text/plain": [
       "<selenium.webdriver.remote.webelement.WebElement (session=\"d61d8598bfc603713f7897caf4603d96\", element=\"998c50a2-c858-4f50-a04f-c417779db13c\")>"
      ]
     },
     "execution_count": 118,
     "metadata": {},
     "output_type": "execute_result"
    }
   ],
   "source": [
    "search_job = driver.find_element_by_class_name(\"suggestor-input \")\n",
    "search_job"
   ]
  },
  {
   "cell_type": "code",
   "execution_count": 119,
   "id": "1df7aa15",
   "metadata": {},
   "outputs": [],
   "source": [
    "search_job.send_keys(\"Data Science\")"
   ]
  },
  {
   "cell_type": "code",
   "execution_count": 122,
   "id": "3f9c5f19",
   "metadata": {},
   "outputs": [
    {
     "name": "stderr",
     "output_type": "stream",
     "text": [
      "<ipython-input-122-0aba26be2a3b>:1: DeprecationWarning: find_element_by_* commands are deprecated. Please use find_element() instead\n",
      "  search_btn = driver.find_element_by_class_name(\"suggestor-input\")\n"
     ]
    },
    {
     "data": {
      "text/plain": [
       "<selenium.webdriver.remote.webelement.WebElement (session=\"d61d8598bfc603713f7897caf4603d96\", element=\"998c50a2-c858-4f50-a04f-c417779db13c\")>"
      ]
     },
     "execution_count": 122,
     "metadata": {},
     "output_type": "execute_result"
    }
   ],
   "source": [
    "search_btn = driver.find_element_by_class_name(\"suggestor-input\")\n",
    "search_btn"
   ]
  },
  {
   "cell_type": "code",
   "execution_count": 123,
   "id": "9adbbf2f",
   "metadata": {},
   "outputs": [],
   "source": [
    "search_btn.click()"
   ]
  },
  {
   "cell_type": "code",
   "execution_count": 124,
   "id": "21a3e29f",
   "metadata": {},
   "outputs": [
    {
     "name": "stderr",
     "output_type": "stream",
     "text": [
      "<ipython-input-124-d17dc35cbd17>:1: DeprecationWarning: find_elements_by_* commands are deprecated. Please use find_elements() instead\n",
      "  job_tags=driver.find_elements_by_xpath('//a[@class=\"title fw500 ellipsis\"]')\n"
     ]
    }
   ],
   "source": [
    "job_tags=driver.find_elements_by_xpath('//a[@class=\"title fw500 ellipsis\"]')"
   ]
  },
  {
   "cell_type": "code",
   "execution_count": 125,
   "id": "049c3c93",
   "metadata": {},
   "outputs": [
    {
     "data": {
      "text/plain": [
       "[<selenium.webdriver.remote.webelement.WebElement (session=\"d61d8598bfc603713f7897caf4603d96\", element=\"4b8debb9-07b6-4c74-858a-ba4ea4bfde5e\")>,\n",
       " <selenium.webdriver.remote.webelement.WebElement (session=\"d61d8598bfc603713f7897caf4603d96\", element=\"7c35e0e1-dbcd-41bf-90ca-6aabbcf3c4d9\")>,\n",
       " <selenium.webdriver.remote.webelement.WebElement (session=\"d61d8598bfc603713f7897caf4603d96\", element=\"96225506-d52e-4c3d-affb-1af4f8b2467e\")>,\n",
       " <selenium.webdriver.remote.webelement.WebElement (session=\"d61d8598bfc603713f7897caf4603d96\", element=\"8bef852b-0534-47db-9561-ac77c54b00b3\")>,\n",
       " <selenium.webdriver.remote.webelement.WebElement (session=\"d61d8598bfc603713f7897caf4603d96\", element=\"989857e8-a8f1-4809-8f47-3f8345bffde5\")>,\n",
       " <selenium.webdriver.remote.webelement.WebElement (session=\"d61d8598bfc603713f7897caf4603d96\", element=\"f25f3069-1186-4e0e-9f43-8659c6413b14\")>,\n",
       " <selenium.webdriver.remote.webelement.WebElement (session=\"d61d8598bfc603713f7897caf4603d96\", element=\"6e1af77e-6a62-4f54-af18-34fbdf0a97ff\")>,\n",
       " <selenium.webdriver.remote.webelement.WebElement (session=\"d61d8598bfc603713f7897caf4603d96\", element=\"b21470f5-aef5-4665-ba14-4227a922cb00\")>,\n",
       " <selenium.webdriver.remote.webelement.WebElement (session=\"d61d8598bfc603713f7897caf4603d96\", element=\"92e8ef0f-a428-4f5f-9067-540284af33d5\")>,\n",
       " <selenium.webdriver.remote.webelement.WebElement (session=\"d61d8598bfc603713f7897caf4603d96\", element=\"1b807863-f2e3-46a7-9e4a-e62d0b8dc3e0\")>,\n",
       " <selenium.webdriver.remote.webelement.WebElement (session=\"d61d8598bfc603713f7897caf4603d96\", element=\"c08daa06-9a91-4e20-a26e-48cff94badbe\")>,\n",
       " <selenium.webdriver.remote.webelement.WebElement (session=\"d61d8598bfc603713f7897caf4603d96\", element=\"f6d30969-1f88-4eae-b18e-f6a8e93a9aa7\")>,\n",
       " <selenium.webdriver.remote.webelement.WebElement (session=\"d61d8598bfc603713f7897caf4603d96\", element=\"f8a0434c-eb97-48b5-b5c1-dc8ceaf430cc\")>,\n",
       " <selenium.webdriver.remote.webelement.WebElement (session=\"d61d8598bfc603713f7897caf4603d96\", element=\"1c23e15a-b652-40d9-911f-f0b2ad6c5c54\")>,\n",
       " <selenium.webdriver.remote.webelement.WebElement (session=\"d61d8598bfc603713f7897caf4603d96\", element=\"40a56aa3-fde2-4a63-a860-15222c1b1371\")>,\n",
       " <selenium.webdriver.remote.webelement.WebElement (session=\"d61d8598bfc603713f7897caf4603d96\", element=\"bc00bd4f-9aae-4e0f-a4d6-1028f543bbd6\")>,\n",
       " <selenium.webdriver.remote.webelement.WebElement (session=\"d61d8598bfc603713f7897caf4603d96\", element=\"e22f076c-6c64-4fd7-a008-d890c82e4fe5\")>,\n",
       " <selenium.webdriver.remote.webelement.WebElement (session=\"d61d8598bfc603713f7897caf4603d96\", element=\"6d0fca82-54a7-4bb7-8424-8408e85cb3a6\")>,\n",
       " <selenium.webdriver.remote.webelement.WebElement (session=\"d61d8598bfc603713f7897caf4603d96\", element=\"3ba14724-8eff-4167-bc55-f3d7de0c55fc\")>,\n",
       " <selenium.webdriver.remote.webelement.WebElement (session=\"d61d8598bfc603713f7897caf4603d96\", element=\"1383f2af-0cf3-4346-b2df-751556ca243b\")>]"
      ]
     },
     "execution_count": 125,
     "metadata": {},
     "output_type": "execute_result"
    }
   ],
   "source": [
    "job_tags"
   ]
  },
  {
   "cell_type": "code",
   "execution_count": 126,
   "id": "1da3120d",
   "metadata": {},
   "outputs": [
    {
     "data": {
      "text/plain": [
       "20"
      ]
     },
     "execution_count": 126,
     "metadata": {},
     "output_type": "execute_result"
    }
   ],
   "source": [
    "len(job_tags)"
   ]
  },
  {
   "cell_type": "code",
   "execution_count": 127,
   "id": "1033c2b0",
   "metadata": {},
   "outputs": [
    {
     "data": {
      "text/plain": [
       "['Capgemini hiring Business Analyst with Cards Domain',\n",
       " 'DXC is hiring For Data Architect',\n",
       " 'Urgent Requirement of Cyber Security Business Analyst in Wipro',\n",
       " 'Hadoop Developer',\n",
       " 'Google Cloud Platform (GCP)',\n",
       " 'Big Data Developer',\n",
       " 'Business Analyst - RPA',\n",
       " 'Rpa Developer',\n",
       " 'Executive Assistant',\n",
       " 'Urgent Openings For Google Analytics -Tag Development',\n",
       " 'eClerx is hiring For Business Analytics/Data Analytics',\n",
       " 'Digital - Data Engineer',\n",
       " 'Lead Business Analyst - Banking',\n",
       " 'Data Engineer',\n",
       " 'Advisor, Business Continuity',\n",
       " 'Tech Mahindra Hiring WFM/MIS Manager BPO_ Pune',\n",
       " 'Lead - Payments - Acquiring Business/Senior Lead',\n",
       " 'CI Regional Expert',\n",
       " 'CI Regional Expert',\n",
       " 'Senior Business Analyst/Senior Business Analyst']"
      ]
     },
     "execution_count": 127,
     "metadata": {},
     "output_type": "execute_result"
    }
   ],
   "source": [
    "job_titles=[]\n",
    "for i in job_tags:\n",
    "    job_titles.append(i.text)\n",
    "    \n",
    "job_titles"
   ]
  },
  {
   "cell_type": "code",
   "execution_count": 128,
   "id": "bf99faca",
   "metadata": {},
   "outputs": [
    {
     "name": "stderr",
     "output_type": "stream",
     "text": [
      "<ipython-input-128-4fb20042b43a>:1: DeprecationWarning: find_elements_by_* commands are deprecated. Please use find_elements() instead\n",
      "  company=driver.find_elements_by_xpath('//a[@class=\"subTitle ellipsis fleft\"]')\n"
     ]
    },
    {
     "data": {
      "text/plain": [
       "[<selenium.webdriver.remote.webelement.WebElement (session=\"d61d8598bfc603713f7897caf4603d96\", element=\"b7a6174d-751f-487e-9dbd-5633cdf2942c\")>,\n",
       " <selenium.webdriver.remote.webelement.WebElement (session=\"d61d8598bfc603713f7897caf4603d96\", element=\"54d83c0b-5951-42ca-8416-01d92238738d\")>,\n",
       " <selenium.webdriver.remote.webelement.WebElement (session=\"d61d8598bfc603713f7897caf4603d96\", element=\"0dc9d435-5ddd-40e1-b36e-e74218c3b272\")>,\n",
       " <selenium.webdriver.remote.webelement.WebElement (session=\"d61d8598bfc603713f7897caf4603d96\", element=\"53417f1c-2407-4213-aa57-330e44888029\")>,\n",
       " <selenium.webdriver.remote.webelement.WebElement (session=\"d61d8598bfc603713f7897caf4603d96\", element=\"7426ce42-c23d-492d-b70e-e6452a0fe9e0\")>,\n",
       " <selenium.webdriver.remote.webelement.WebElement (session=\"d61d8598bfc603713f7897caf4603d96\", element=\"5502a760-5d08-4215-b989-c993b0412522\")>,\n",
       " <selenium.webdriver.remote.webelement.WebElement (session=\"d61d8598bfc603713f7897caf4603d96\", element=\"1c2c096d-970b-4c1f-a9a4-bfd5e84a6cbd\")>,\n",
       " <selenium.webdriver.remote.webelement.WebElement (session=\"d61d8598bfc603713f7897caf4603d96\", element=\"815b705e-dfaa-4b7d-a6df-fadd7ed81538\")>,\n",
       " <selenium.webdriver.remote.webelement.WebElement (session=\"d61d8598bfc603713f7897caf4603d96\", element=\"50bbe0a8-72c1-445c-a590-7115929d04fa\")>,\n",
       " <selenium.webdriver.remote.webelement.WebElement (session=\"d61d8598bfc603713f7897caf4603d96\", element=\"5977d2d8-e3fe-4944-881a-e429e6a082d1\")>,\n",
       " <selenium.webdriver.remote.webelement.WebElement (session=\"d61d8598bfc603713f7897caf4603d96\", element=\"db1a0acd-3a92-4104-973b-1cc3f16f565a\")>,\n",
       " <selenium.webdriver.remote.webelement.WebElement (session=\"d61d8598bfc603713f7897caf4603d96\", element=\"68376ef3-c137-4675-a04d-4dc216da9ca3\")>,\n",
       " <selenium.webdriver.remote.webelement.WebElement (session=\"d61d8598bfc603713f7897caf4603d96\", element=\"0b89a936-0b08-43b2-963d-6b2897b340fa\")>,\n",
       " <selenium.webdriver.remote.webelement.WebElement (session=\"d61d8598bfc603713f7897caf4603d96\", element=\"c4d5ea36-e723-4d23-bd1f-6b0a2a8c4eb2\")>,\n",
       " <selenium.webdriver.remote.webelement.WebElement (session=\"d61d8598bfc603713f7897caf4603d96\", element=\"42025645-4775-4a0e-8054-99160b0b3f70\")>,\n",
       " <selenium.webdriver.remote.webelement.WebElement (session=\"d61d8598bfc603713f7897caf4603d96\", element=\"d494dac4-5360-4f21-92f5-8cc37d25539c\")>,\n",
       " <selenium.webdriver.remote.webelement.WebElement (session=\"d61d8598bfc603713f7897caf4603d96\", element=\"a91b1e50-4d76-46e3-aacb-c914b61bdc2e\")>,\n",
       " <selenium.webdriver.remote.webelement.WebElement (session=\"d61d8598bfc603713f7897caf4603d96\", element=\"e4162ee1-5bd9-47e1-9702-fd65ad8e90cf\")>,\n",
       " <selenium.webdriver.remote.webelement.WebElement (session=\"d61d8598bfc603713f7897caf4603d96\", element=\"4bb7756b-89b7-4a5c-a263-195aff227ec3\")>,\n",
       " <selenium.webdriver.remote.webelement.WebElement (session=\"d61d8598bfc603713f7897caf4603d96\", element=\"794c6c96-d986-4859-b5e6-6d53749e3bd5\")>]"
      ]
     },
     "execution_count": 128,
     "metadata": {},
     "output_type": "execute_result"
    }
   ],
   "source": [
    "company=driver.find_elements_by_xpath('//a[@class=\"subTitle ellipsis fleft\"]')\n",
    "company"
   ]
  },
  {
   "cell_type": "code",
   "execution_count": 129,
   "id": "ce6b8fdf",
   "metadata": {},
   "outputs": [
    {
     "data": {
      "text/plain": [
       "['Capgemini',\n",
       " 'DXC Technology',\n",
       " 'Wipro',\n",
       " 'Mindtree',\n",
       " 'eClerx',\n",
       " 'Capgemini',\n",
       " 'WNS Global Services',\n",
       " 'WNS Global Services',\n",
       " 'Bajaj Finserv',\n",
       " 'LOGICSERVE DIGITAL PRIVATE LIMITED',\n",
       " 'eClerx',\n",
       " 'eClerx',\n",
       " 'Maveric Systems Limited',\n",
       " 'Collabera India',\n",
       " 'Fiserv',\n",
       " 'Tech Mahindra',\n",
       " 'Bajaj Finserv',\n",
       " 'AkzoNobel',\n",
       " 'AkzoNobel',\n",
       " 'Bajaj Finserv']"
      ]
     },
     "execution_count": 129,
     "metadata": {},
     "output_type": "execute_result"
    }
   ],
   "source": [
    "comp=[]\n",
    "for i in company:\n",
    "    comp.append(i.text)\n",
    "    \n",
    "comp "
   ]
  },
  {
   "cell_type": "code",
   "execution_count": 130,
   "id": "383b5e0b",
   "metadata": {},
   "outputs": [
    {
     "name": "stderr",
     "output_type": "stream",
     "text": [
      "<ipython-input-130-e133e9bce346>:1: DeprecationWarning: find_elements_by_* commands are deprecated. Please use find_elements() instead\n",
      "  location=driver.find_elements_by_xpath('//li[@class=\"fleft grey-text br2 placeHolderLi location\"]')\n"
     ]
    },
    {
     "data": {
      "text/plain": [
       "[<selenium.webdriver.remote.webelement.WebElement (session=\"d61d8598bfc603713f7897caf4603d96\", element=\"2f78dcbf-5487-47ed-a80f-25b51f0f5f26\")>,\n",
       " <selenium.webdriver.remote.webelement.WebElement (session=\"d61d8598bfc603713f7897caf4603d96\", element=\"053acb4b-a10b-4f59-b1d3-8dcb2437bccd\")>,\n",
       " <selenium.webdriver.remote.webelement.WebElement (session=\"d61d8598bfc603713f7897caf4603d96\", element=\"6fa2bbfe-3a2a-41fa-bd05-fc2df2b2d5c5\")>,\n",
       " <selenium.webdriver.remote.webelement.WebElement (session=\"d61d8598bfc603713f7897caf4603d96\", element=\"8deb4f59-b118-4776-997b-ec3a38cc4d07\")>,\n",
       " <selenium.webdriver.remote.webelement.WebElement (session=\"d61d8598bfc603713f7897caf4603d96\", element=\"d539f5d1-0a1e-4961-834f-64f568c53636\")>,\n",
       " <selenium.webdriver.remote.webelement.WebElement (session=\"d61d8598bfc603713f7897caf4603d96\", element=\"b205f0a8-69cf-4c1a-b5c9-cee634bbbbf7\")>,\n",
       " <selenium.webdriver.remote.webelement.WebElement (session=\"d61d8598bfc603713f7897caf4603d96\", element=\"2eb5b27c-b593-443e-a7fd-9263dd7b1b0c\")>,\n",
       " <selenium.webdriver.remote.webelement.WebElement (session=\"d61d8598bfc603713f7897caf4603d96\", element=\"619226ff-d5d4-4cba-b143-d7e6249c4fac\")>,\n",
       " <selenium.webdriver.remote.webelement.WebElement (session=\"d61d8598bfc603713f7897caf4603d96\", element=\"3e205030-d1b3-470c-b441-d1175b4c3396\")>,\n",
       " <selenium.webdriver.remote.webelement.WebElement (session=\"d61d8598bfc603713f7897caf4603d96\", element=\"43a2f655-483a-4bf0-b849-495a4cd96fc5\")>,\n",
       " <selenium.webdriver.remote.webelement.WebElement (session=\"d61d8598bfc603713f7897caf4603d96\", element=\"606fa84b-73ef-48c0-bd67-ea9e45f4a0f3\")>,\n",
       " <selenium.webdriver.remote.webelement.WebElement (session=\"d61d8598bfc603713f7897caf4603d96\", element=\"af90972c-0611-49fa-826b-81de7fb7078a\")>,\n",
       " <selenium.webdriver.remote.webelement.WebElement (session=\"d61d8598bfc603713f7897caf4603d96\", element=\"a59208a8-209b-40d2-b2c9-090afcb56282\")>,\n",
       " <selenium.webdriver.remote.webelement.WebElement (session=\"d61d8598bfc603713f7897caf4603d96\", element=\"c8983717-011c-4484-bf0c-78638b4fec6e\")>,\n",
       " <selenium.webdriver.remote.webelement.WebElement (session=\"d61d8598bfc603713f7897caf4603d96\", element=\"7340d8fe-15f4-484a-bf2f-4bb2ca251517\")>,\n",
       " <selenium.webdriver.remote.webelement.WebElement (session=\"d61d8598bfc603713f7897caf4603d96\", element=\"8f6fbc67-b87a-4c4c-9acb-0cb0105ac7fb\")>,\n",
       " <selenium.webdriver.remote.webelement.WebElement (session=\"d61d8598bfc603713f7897caf4603d96\", element=\"b7786ca5-cb53-467d-a872-174e9aea2682\")>,\n",
       " <selenium.webdriver.remote.webelement.WebElement (session=\"d61d8598bfc603713f7897caf4603d96\", element=\"7dab98b1-6a7e-479a-a980-4aa2f8d643fa\")>,\n",
       " <selenium.webdriver.remote.webelement.WebElement (session=\"d61d8598bfc603713f7897caf4603d96\", element=\"d2e3bed2-0462-44a6-aa19-725d7400c712\")>,\n",
       " <selenium.webdriver.remote.webelement.WebElement (session=\"d61d8598bfc603713f7897caf4603d96\", element=\"3b7f4dbe-f1a2-4c0a-a498-d55f3eb42c8f\")>]"
      ]
     },
     "execution_count": 130,
     "metadata": {},
     "output_type": "execute_result"
    }
   ],
   "source": [
    "location=driver.find_elements_by_xpath('//li[@class=\"fleft grey-text br2 placeHolderLi location\"]')\n",
    "location"
   ]
  },
  {
   "cell_type": "code",
   "execution_count": 131,
   "id": "1527067b",
   "metadata": {},
   "outputs": [
    {
     "data": {
      "text/plain": [
       "['Pune, Bangalore/Bengaluru, Mumbai (All Areas)',\n",
       " 'Hyderabad/Secunderabad, Pune, Chennai, Bangalore/Bengaluru, Delhi / NCR\\n(WFH during Covid)',\n",
       " 'Hyderabad/Secunderabad, Pune, Chennai, Bangalore/Bengaluru, Delhi / NCR\\n(WFH during Covid)',\n",
       " 'Noida, Kolkata, Hyderabad/Secunderabad, Pune, Chennai, Coimbatore, Bangalore/Bengaluru',\n",
       " 'Navi Mumbai, Pune\\n(WFH during Covid)',\n",
       " 'Pune, Bangalore/Bengaluru, India\\n(WFH during Covid)',\n",
       " 'Pune, Gurgaon/Gurugram, Bangalore/Bengaluru\\n(WFH during Covid)',\n",
       " 'Pune, Bangalore/Bengaluru\\n(WFH during Covid)',\n",
       " 'Pune',\n",
       " 'Navi Mumbai, Pune, Gurgaon/Gurugram, Bangalore/Bengaluru',\n",
       " 'Pune, Mumbai (All Areas)',\n",
       " 'Pune, Mumbai (All Areas)',\n",
       " 'Pune, Chennai, Bangalore/Bengaluru',\n",
       " 'New Delhi, Pune, Gurgaon/Gurugram, Bangalore/Bengaluru, Delhi / NCR',\n",
       " 'Pune',\n",
       " 'Pune',\n",
       " 'Pune',\n",
       " 'Pune',\n",
       " 'Pune',\n",
       " 'Pune']"
      ]
     },
     "execution_count": 131,
     "metadata": {},
     "output_type": "execute_result"
    }
   ],
   "source": [
    "loc=[]\n",
    "for i in location:\n",
    "    loc.append(i.text)\n",
    "    \n",
    "loc    "
   ]
  },
  {
   "cell_type": "code",
   "execution_count": 134,
   "id": "af0ab65f",
   "metadata": {},
   "outputs": [
    {
     "name": "stderr",
     "output_type": "stream",
     "text": [
      "<ipython-input-134-f0ef7ac7ccc5>:1: DeprecationWarning: find_elements_by_* commands are deprecated. Please use find_elements() instead\n",
      "  designation=driver.find_elements_by_xpath('//a[@class=\"subTitle ellipsis fleft\"]')\n"
     ]
    },
    {
     "data": {
      "text/plain": [
       "[<selenium.webdriver.remote.webelement.WebElement (session=\"d61d8598bfc603713f7897caf4603d96\", element=\"b7a6174d-751f-487e-9dbd-5633cdf2942c\")>,\n",
       " <selenium.webdriver.remote.webelement.WebElement (session=\"d61d8598bfc603713f7897caf4603d96\", element=\"54d83c0b-5951-42ca-8416-01d92238738d\")>,\n",
       " <selenium.webdriver.remote.webelement.WebElement (session=\"d61d8598bfc603713f7897caf4603d96\", element=\"0dc9d435-5ddd-40e1-b36e-e74218c3b272\")>,\n",
       " <selenium.webdriver.remote.webelement.WebElement (session=\"d61d8598bfc603713f7897caf4603d96\", element=\"53417f1c-2407-4213-aa57-330e44888029\")>,\n",
       " <selenium.webdriver.remote.webelement.WebElement (session=\"d61d8598bfc603713f7897caf4603d96\", element=\"7426ce42-c23d-492d-b70e-e6452a0fe9e0\")>,\n",
       " <selenium.webdriver.remote.webelement.WebElement (session=\"d61d8598bfc603713f7897caf4603d96\", element=\"5502a760-5d08-4215-b989-c993b0412522\")>,\n",
       " <selenium.webdriver.remote.webelement.WebElement (session=\"d61d8598bfc603713f7897caf4603d96\", element=\"1c2c096d-970b-4c1f-a9a4-bfd5e84a6cbd\")>,\n",
       " <selenium.webdriver.remote.webelement.WebElement (session=\"d61d8598bfc603713f7897caf4603d96\", element=\"815b705e-dfaa-4b7d-a6df-fadd7ed81538\")>,\n",
       " <selenium.webdriver.remote.webelement.WebElement (session=\"d61d8598bfc603713f7897caf4603d96\", element=\"50bbe0a8-72c1-445c-a590-7115929d04fa\")>,\n",
       " <selenium.webdriver.remote.webelement.WebElement (session=\"d61d8598bfc603713f7897caf4603d96\", element=\"5977d2d8-e3fe-4944-881a-e429e6a082d1\")>,\n",
       " <selenium.webdriver.remote.webelement.WebElement (session=\"d61d8598bfc603713f7897caf4603d96\", element=\"db1a0acd-3a92-4104-973b-1cc3f16f565a\")>,\n",
       " <selenium.webdriver.remote.webelement.WebElement (session=\"d61d8598bfc603713f7897caf4603d96\", element=\"68376ef3-c137-4675-a04d-4dc216da9ca3\")>,\n",
       " <selenium.webdriver.remote.webelement.WebElement (session=\"d61d8598bfc603713f7897caf4603d96\", element=\"0b89a936-0b08-43b2-963d-6b2897b340fa\")>,\n",
       " <selenium.webdriver.remote.webelement.WebElement (session=\"d61d8598bfc603713f7897caf4603d96\", element=\"c4d5ea36-e723-4d23-bd1f-6b0a2a8c4eb2\")>,\n",
       " <selenium.webdriver.remote.webelement.WebElement (session=\"d61d8598bfc603713f7897caf4603d96\", element=\"42025645-4775-4a0e-8054-99160b0b3f70\")>,\n",
       " <selenium.webdriver.remote.webelement.WebElement (session=\"d61d8598bfc603713f7897caf4603d96\", element=\"d494dac4-5360-4f21-92f5-8cc37d25539c\")>,\n",
       " <selenium.webdriver.remote.webelement.WebElement (session=\"d61d8598bfc603713f7897caf4603d96\", element=\"a91b1e50-4d76-46e3-aacb-c914b61bdc2e\")>,\n",
       " <selenium.webdriver.remote.webelement.WebElement (session=\"d61d8598bfc603713f7897caf4603d96\", element=\"e4162ee1-5bd9-47e1-9702-fd65ad8e90cf\")>,\n",
       " <selenium.webdriver.remote.webelement.WebElement (session=\"d61d8598bfc603713f7897caf4603d96\", element=\"4bb7756b-89b7-4a5c-a263-195aff227ec3\")>,\n",
       " <selenium.webdriver.remote.webelement.WebElement (session=\"d61d8598bfc603713f7897caf4603d96\", element=\"794c6c96-d986-4859-b5e6-6d53749e3bd5\")>]"
      ]
     },
     "execution_count": 134,
     "metadata": {},
     "output_type": "execute_result"
    }
   ],
   "source": [
    "designation=driver.find_elements_by_xpath('//a[@class=\"subTitle ellipsis fleft\"]')\n",
    "designation"
   ]
  },
  {
   "cell_type": "code",
   "execution_count": 135,
   "id": "a85d13a1",
   "metadata": {},
   "outputs": [
    {
     "data": {
      "text/plain": [
       "['Capgemini',\n",
       " 'DXC Technology',\n",
       " 'Wipro',\n",
       " 'Mindtree',\n",
       " 'eClerx',\n",
       " 'Capgemini',\n",
       " 'WNS Global Services',\n",
       " 'WNS Global Services',\n",
       " 'Bajaj Finserv',\n",
       " 'LOGICSERVE DIGITAL PRIVATE LIMITED',\n",
       " 'eClerx',\n",
       " 'eClerx',\n",
       " 'Maveric Systems Limited',\n",
       " 'Collabera India',\n",
       " 'Fiserv',\n",
       " 'Tech Mahindra',\n",
       " 'Bajaj Finserv',\n",
       " 'AkzoNobel',\n",
       " 'AkzoNobel',\n",
       " 'Bajaj Finserv']"
      ]
     },
     "execution_count": 135,
     "metadata": {},
     "output_type": "execute_result"
    }
   ],
   "source": [
    "des=[]\n",
    "for i in designation:\n",
    "    des.append(i.text)\n",
    "    \n",
    "des"
   ]
  },
  {
   "cell_type": "code",
   "execution_count": 136,
   "id": "20a29856",
   "metadata": {
    "scrolled": false
   },
   "outputs": [
    {
     "name": "stderr",
     "output_type": "stream",
     "text": [
      "<ipython-input-136-19185293d21d>:1: DeprecationWarning: find_elements_by_* commands are deprecated. Please use find_elements() instead\n",
      "  skills=driver.find_elements_by_xpath('//li[@class=\"fleft fs12 grey-text lh16 dot\"]')\n"
     ]
    },
    {
     "data": {
      "text/plain": [
       "[<selenium.webdriver.remote.webelement.WebElement (session=\"d61d8598bfc603713f7897caf4603d96\", element=\"9aa5832d-a5f7-45a7-b81f-15b23a174adf\")>,\n",
       " <selenium.webdriver.remote.webelement.WebElement (session=\"d61d8598bfc603713f7897caf4603d96\", element=\"7e40400c-a36c-43cd-aa8a-7621cdd95f85\")>,\n",
       " <selenium.webdriver.remote.webelement.WebElement (session=\"d61d8598bfc603713f7897caf4603d96\", element=\"f01cf511-21cd-4db8-ac55-b4ca9ec176d5\")>,\n",
       " <selenium.webdriver.remote.webelement.WebElement (session=\"d61d8598bfc603713f7897caf4603d96\", element=\"aec2e3ae-4368-46cb-9669-05a910408e05\")>,\n",
       " <selenium.webdriver.remote.webelement.WebElement (session=\"d61d8598bfc603713f7897caf4603d96\", element=\"cee769da-c68e-40c8-a02b-2f1209205463\")>,\n",
       " <selenium.webdriver.remote.webelement.WebElement (session=\"d61d8598bfc603713f7897caf4603d96\", element=\"50c7f81c-4ba0-4fdb-b0af-efa80b1e79e4\")>,\n",
       " <selenium.webdriver.remote.webelement.WebElement (session=\"d61d8598bfc603713f7897caf4603d96\", element=\"a3fef4fc-01d3-4646-ad59-61cfd2ab754d\")>,\n",
       " <selenium.webdriver.remote.webelement.WebElement (session=\"d61d8598bfc603713f7897caf4603d96\", element=\"de8fb962-8872-454e-973d-e20346ec774a\")>,\n",
       " <selenium.webdriver.remote.webelement.WebElement (session=\"d61d8598bfc603713f7897caf4603d96\", element=\"ae41dcce-07ad-445f-ac9d-42b8e97981b8\")>,\n",
       " <selenium.webdriver.remote.webelement.WebElement (session=\"d61d8598bfc603713f7897caf4603d96\", element=\"17820427-c23f-48f3-8f79-cdb48c0afdb0\")>,\n",
       " <selenium.webdriver.remote.webelement.WebElement (session=\"d61d8598bfc603713f7897caf4603d96\", element=\"8422aa24-fb5c-4b71-8e70-e7d385b1e430\")>,\n",
       " <selenium.webdriver.remote.webelement.WebElement (session=\"d61d8598bfc603713f7897caf4603d96\", element=\"257ae99b-a4b9-4309-800b-3ab580d8c9ac\")>,\n",
       " <selenium.webdriver.remote.webelement.WebElement (session=\"d61d8598bfc603713f7897caf4603d96\", element=\"2206d37b-dabf-4cd3-adcc-894f57cfcf75\")>,\n",
       " <selenium.webdriver.remote.webelement.WebElement (session=\"d61d8598bfc603713f7897caf4603d96\", element=\"3d42af8a-aa95-418b-9d13-cf4c39cfbf65\")>,\n",
       " <selenium.webdriver.remote.webelement.WebElement (session=\"d61d8598bfc603713f7897caf4603d96\", element=\"40235644-46e9-4668-8708-c9fb955113fc\")>,\n",
       " <selenium.webdriver.remote.webelement.WebElement (session=\"d61d8598bfc603713f7897caf4603d96\", element=\"b85e8b3f-34f1-4586-b787-37892014d162\")>,\n",
       " <selenium.webdriver.remote.webelement.WebElement (session=\"d61d8598bfc603713f7897caf4603d96\", element=\"19846d91-7630-4eb0-833d-7abfad58e763\")>,\n",
       " <selenium.webdriver.remote.webelement.WebElement (session=\"d61d8598bfc603713f7897caf4603d96\", element=\"c6dd84ed-cd15-4752-9f61-39e353189542\")>,\n",
       " <selenium.webdriver.remote.webelement.WebElement (session=\"d61d8598bfc603713f7897caf4603d96\", element=\"d300bb07-d4cf-40d2-a505-de97c154f66d\")>,\n",
       " <selenium.webdriver.remote.webelement.WebElement (session=\"d61d8598bfc603713f7897caf4603d96\", element=\"0254d6fa-78b9-4b71-abd6-81def4da8791\")>,\n",
       " <selenium.webdriver.remote.webelement.WebElement (session=\"d61d8598bfc603713f7897caf4603d96\", element=\"0ef7b2d9-75e3-46b5-922c-9154d78a0c43\")>,\n",
       " <selenium.webdriver.remote.webelement.WebElement (session=\"d61d8598bfc603713f7897caf4603d96\", element=\"42d2233c-50d3-4837-adec-fb27d8be2adc\")>,\n",
       " <selenium.webdriver.remote.webelement.WebElement (session=\"d61d8598bfc603713f7897caf4603d96\", element=\"b874beae-20f8-486b-9014-159819c285dc\")>,\n",
       " <selenium.webdriver.remote.webelement.WebElement (session=\"d61d8598bfc603713f7897caf4603d96\", element=\"cad8f349-003c-48c9-a289-539f2b28a661\")>,\n",
       " <selenium.webdriver.remote.webelement.WebElement (session=\"d61d8598bfc603713f7897caf4603d96\", element=\"ef98ea6a-9687-4c55-a299-c83009e48d1f\")>,\n",
       " <selenium.webdriver.remote.webelement.WebElement (session=\"d61d8598bfc603713f7897caf4603d96\", element=\"cf55288b-2a61-4422-a58b-2e49e3145012\")>,\n",
       " <selenium.webdriver.remote.webelement.WebElement (session=\"d61d8598bfc603713f7897caf4603d96\", element=\"4bf99d97-6e9d-4fee-b158-9918daaf66e7\")>,\n",
       " <selenium.webdriver.remote.webelement.WebElement (session=\"d61d8598bfc603713f7897caf4603d96\", element=\"536f7db5-b13d-4f21-a432-e39619b07209\")>,\n",
       " <selenium.webdriver.remote.webelement.WebElement (session=\"d61d8598bfc603713f7897caf4603d96\", element=\"54884360-49cd-468e-9fdc-82274d6e3043\")>,\n",
       " <selenium.webdriver.remote.webelement.WebElement (session=\"d61d8598bfc603713f7897caf4603d96\", element=\"8280cea0-45de-42e1-ae44-5eb40ddf1d23\")>,\n",
       " <selenium.webdriver.remote.webelement.WebElement (session=\"d61d8598bfc603713f7897caf4603d96\", element=\"fe698a20-83ee-47d5-be78-c0c3d5e34870\")>,\n",
       " <selenium.webdriver.remote.webelement.WebElement (session=\"d61d8598bfc603713f7897caf4603d96\", element=\"6027c50a-15c1-4617-a609-b1aebf0f1f10\")>,\n",
       " <selenium.webdriver.remote.webelement.WebElement (session=\"d61d8598bfc603713f7897caf4603d96\", element=\"36734114-eb23-47ca-9c96-ef0e9ab210b5\")>,\n",
       " <selenium.webdriver.remote.webelement.WebElement (session=\"d61d8598bfc603713f7897caf4603d96\", element=\"be642531-16a1-4bd8-9fde-04f7077c4f82\")>,\n",
       " <selenium.webdriver.remote.webelement.WebElement (session=\"d61d8598bfc603713f7897caf4603d96\", element=\"56d56f1e-acd4-4adc-957e-057e89cf8a75\")>,\n",
       " <selenium.webdriver.remote.webelement.WebElement (session=\"d61d8598bfc603713f7897caf4603d96\", element=\"b3a92ce8-bba8-4bae-9b63-e3deee13b120\")>,\n",
       " <selenium.webdriver.remote.webelement.WebElement (session=\"d61d8598bfc603713f7897caf4603d96\", element=\"ab0388e1-e8bd-4a1f-bc43-a1c69c6b86cc\")>,\n",
       " <selenium.webdriver.remote.webelement.WebElement (session=\"d61d8598bfc603713f7897caf4603d96\", element=\"1340d278-7cd2-4669-ba8f-84245d768f29\")>,\n",
       " <selenium.webdriver.remote.webelement.WebElement (session=\"d61d8598bfc603713f7897caf4603d96\", element=\"157c3395-ef7f-42da-98f4-15b008ee557c\")>,\n",
       " <selenium.webdriver.remote.webelement.WebElement (session=\"d61d8598bfc603713f7897caf4603d96\", element=\"38c9dbb2-ce65-4bed-8777-a657de1a3a47\")>,\n",
       " <selenium.webdriver.remote.webelement.WebElement (session=\"d61d8598bfc603713f7897caf4603d96\", element=\"4a97af41-0b92-4cd8-98f0-eac3d2547487\")>,\n",
       " <selenium.webdriver.remote.webelement.WebElement (session=\"d61d8598bfc603713f7897caf4603d96\", element=\"f8d693af-6a8b-49f5-b7d1-1f754a3f655f\")>,\n",
       " <selenium.webdriver.remote.webelement.WebElement (session=\"d61d8598bfc603713f7897caf4603d96\", element=\"51a43c30-0ade-4468-84ef-9b9c53dc9335\")>,\n",
       " <selenium.webdriver.remote.webelement.WebElement (session=\"d61d8598bfc603713f7897caf4603d96\", element=\"567a3fe4-e3c5-438f-841c-ec0e1b05d0ae\")>,\n",
       " <selenium.webdriver.remote.webelement.WebElement (session=\"d61d8598bfc603713f7897caf4603d96\", element=\"1c197df6-eb30-46a8-8f20-6fe463c90aff\")>,\n",
       " <selenium.webdriver.remote.webelement.WebElement (session=\"d61d8598bfc603713f7897caf4603d96\", element=\"50793324-dc2f-4f43-9502-57df23d60d3a\")>,\n",
       " <selenium.webdriver.remote.webelement.WebElement (session=\"d61d8598bfc603713f7897caf4603d96\", element=\"14d5c42f-536f-438b-8f93-570bff692681\")>,\n",
       " <selenium.webdriver.remote.webelement.WebElement (session=\"d61d8598bfc603713f7897caf4603d96\", element=\"41323b66-18f5-48ba-a26a-3ddcb44be7e0\")>,\n",
       " <selenium.webdriver.remote.webelement.WebElement (session=\"d61d8598bfc603713f7897caf4603d96\", element=\"31166699-3971-4603-8113-2fda03a3e6a1\")>,\n",
       " <selenium.webdriver.remote.webelement.WebElement (session=\"d61d8598bfc603713f7897caf4603d96\", element=\"e6e09804-1bfa-42d5-8914-333c0c1b8b45\")>,\n",
       " <selenium.webdriver.remote.webelement.WebElement (session=\"d61d8598bfc603713f7897caf4603d96\", element=\"2d34242a-5e2c-4b80-8436-bd2014a09b6c\")>,\n",
       " <selenium.webdriver.remote.webelement.WebElement (session=\"d61d8598bfc603713f7897caf4603d96\", element=\"ef0fab0e-fc58-4f85-8dab-10f46784dcb7\")>,\n",
       " <selenium.webdriver.remote.webelement.WebElement (session=\"d61d8598bfc603713f7897caf4603d96\", element=\"929619e1-b095-4d9b-ad9a-33ed2d378b91\")>,\n",
       " <selenium.webdriver.remote.webelement.WebElement (session=\"d61d8598bfc603713f7897caf4603d96\", element=\"fc2d9a95-635d-42f6-a457-ac66e11efacc\")>,\n",
       " <selenium.webdriver.remote.webelement.WebElement (session=\"d61d8598bfc603713f7897caf4603d96\", element=\"4d547579-be01-4dc4-8767-1357cd56e159\")>,\n",
       " <selenium.webdriver.remote.webelement.WebElement (session=\"d61d8598bfc603713f7897caf4603d96\", element=\"cbfea065-63d3-44e3-8308-e83697c5c535\")>,\n",
       " <selenium.webdriver.remote.webelement.WebElement (session=\"d61d8598bfc603713f7897caf4603d96\", element=\"7961cac5-ee97-4861-bb2e-a4ba043bcab2\")>,\n",
       " <selenium.webdriver.remote.webelement.WebElement (session=\"d61d8598bfc603713f7897caf4603d96\", element=\"1b0fd0db-feba-446c-afbe-1186ef402e55\")>,\n",
       " <selenium.webdriver.remote.webelement.WebElement (session=\"d61d8598bfc603713f7897caf4603d96\", element=\"c656c62e-f3c3-4ce1-92f8-eb1d8b435f05\")>,\n",
       " <selenium.webdriver.remote.webelement.WebElement (session=\"d61d8598bfc603713f7897caf4603d96\", element=\"ebcf53b8-4d00-4c5a-ac20-5aeb82b14a57\")>,\n",
       " <selenium.webdriver.remote.webelement.WebElement (session=\"d61d8598bfc603713f7897caf4603d96\", element=\"967f9d11-36bd-490d-96b2-109dac8ad2a6\")>,\n",
       " <selenium.webdriver.remote.webelement.WebElement (session=\"d61d8598bfc603713f7897caf4603d96\", element=\"6dd4ee63-8fda-4b78-b556-8b50d88d9c4e\")>,\n",
       " <selenium.webdriver.remote.webelement.WebElement (session=\"d61d8598bfc603713f7897caf4603d96\", element=\"e7cf2563-1a83-4f2c-8d02-5a42c12d0f38\")>,\n",
       " <selenium.webdriver.remote.webelement.WebElement (session=\"d61d8598bfc603713f7897caf4603d96\", element=\"c2e37e85-b587-4cab-9ccb-0be65d5c98d1\")>,\n",
       " <selenium.webdriver.remote.webelement.WebElement (session=\"d61d8598bfc603713f7897caf4603d96\", element=\"7b120ac2-52cc-4670-b621-4a8f9ef48c13\")>,\n",
       " <selenium.webdriver.remote.webelement.WebElement (session=\"d61d8598bfc603713f7897caf4603d96\", element=\"975f6386-4bb3-4c64-a488-b3e6687ed2c9\")>,\n",
       " <selenium.webdriver.remote.webelement.WebElement (session=\"d61d8598bfc603713f7897caf4603d96\", element=\"e89a334d-89a5-4812-9728-50ebdf88774e\")>,\n",
       " <selenium.webdriver.remote.webelement.WebElement (session=\"d61d8598bfc603713f7897caf4603d96\", element=\"8b3421ae-5339-437b-a86e-393af66d0caf\")>,\n",
       " <selenium.webdriver.remote.webelement.WebElement (session=\"d61d8598bfc603713f7897caf4603d96\", element=\"cc86cbe1-e8a0-4ae7-816a-ebb2b10c5a82\")>,\n",
       " <selenium.webdriver.remote.webelement.WebElement (session=\"d61d8598bfc603713f7897caf4603d96\", element=\"4fc0b7fe-b9e9-41f7-b0b8-83b9c8e24dbf\")>,\n",
       " <selenium.webdriver.remote.webelement.WebElement (session=\"d61d8598bfc603713f7897caf4603d96\", element=\"f795888c-296f-481c-b0a7-234072ccaf2f\")>,\n",
       " <selenium.webdriver.remote.webelement.WebElement (session=\"d61d8598bfc603713f7897caf4603d96\", element=\"12658ed3-f774-4d32-a04e-bcc0a0ae6add\")>,\n",
       " <selenium.webdriver.remote.webelement.WebElement (session=\"d61d8598bfc603713f7897caf4603d96\", element=\"9d9edebb-bd66-457d-8b25-db53e071ddd9\")>,\n",
       " <selenium.webdriver.remote.webelement.WebElement (session=\"d61d8598bfc603713f7897caf4603d96\", element=\"e479405b-2de7-4c80-b181-3200b52ca334\")>,\n",
       " <selenium.webdriver.remote.webelement.WebElement (session=\"d61d8598bfc603713f7897caf4603d96\", element=\"51bfbf0c-731c-43b1-98e0-ebbafbb006fd\")>,\n",
       " <selenium.webdriver.remote.webelement.WebElement (session=\"d61d8598bfc603713f7897caf4603d96\", element=\"f7576b44-385f-40c5-b36a-398ae5fdeeb4\")>,\n",
       " <selenium.webdriver.remote.webelement.WebElement (session=\"d61d8598bfc603713f7897caf4603d96\", element=\"8f81d8c4-de5f-4e41-8c39-5cc1e498d0ef\")>,\n",
       " <selenium.webdriver.remote.webelement.WebElement (session=\"d61d8598bfc603713f7897caf4603d96\", element=\"0395c9e2-1738-4526-969b-8110c5ae0678\")>,\n",
       " <selenium.webdriver.remote.webelement.WebElement (session=\"d61d8598bfc603713f7897caf4603d96\", element=\"6d95e1b3-3661-4316-8f91-857674d31e7f\")>,\n",
       " <selenium.webdriver.remote.webelement.WebElement (session=\"d61d8598bfc603713f7897caf4603d96\", element=\"08babede-1cee-4545-88f5-a59f666dc641\")>,\n",
       " <selenium.webdriver.remote.webelement.WebElement (session=\"d61d8598bfc603713f7897caf4603d96\", element=\"9e525f48-4d97-4678-a232-a32031bc7205\")>,\n",
       " <selenium.webdriver.remote.webelement.WebElement (session=\"d61d8598bfc603713f7897caf4603d96\", element=\"1fa05d44-6817-4de7-86b4-2ab0f7776ab4\")>,\n",
       " <selenium.webdriver.remote.webelement.WebElement (session=\"d61d8598bfc603713f7897caf4603d96\", element=\"da7fe459-4699-460e-98b5-e54b652581d3\")>,\n",
       " <selenium.webdriver.remote.webelement.WebElement (session=\"d61d8598bfc603713f7897caf4603d96\", element=\"914e67b6-fc4d-4e8f-8d8e-634a7e6b3f68\")>,\n",
       " <selenium.webdriver.remote.webelement.WebElement (session=\"d61d8598bfc603713f7897caf4603d96\", element=\"16f2bc9b-3f14-475d-b421-bc3e4187c43e\")>,\n",
       " <selenium.webdriver.remote.webelement.WebElement (session=\"d61d8598bfc603713f7897caf4603d96\", element=\"d71123e5-bf68-4874-9c03-1374eab53211\")>,\n",
       " <selenium.webdriver.remote.webelement.WebElement (session=\"d61d8598bfc603713f7897caf4603d96\", element=\"8dd208a9-3155-43e0-b303-1299296ee148\")>,\n",
       " <selenium.webdriver.remote.webelement.WebElement (session=\"d61d8598bfc603713f7897caf4603d96\", element=\"251499e3-7142-488e-9857-a8fdf0674249\")>,\n",
       " <selenium.webdriver.remote.webelement.WebElement (session=\"d61d8598bfc603713f7897caf4603d96\", element=\"2a784d35-696b-446e-a5e7-6c7631887786\")>,\n",
       " <selenium.webdriver.remote.webelement.WebElement (session=\"d61d8598bfc603713f7897caf4603d96\", element=\"9537a9f3-6abb-4085-934d-0667d3befcc6\")>,\n",
       " <selenium.webdriver.remote.webelement.WebElement (session=\"d61d8598bfc603713f7897caf4603d96\", element=\"448fde54-11b2-41cf-9062-74ea83841b89\")>,\n",
       " <selenium.webdriver.remote.webelement.WebElement (session=\"d61d8598bfc603713f7897caf4603d96\", element=\"6fac35f3-0c59-48b2-9f89-c43f576fec9c\")>,\n",
       " <selenium.webdriver.remote.webelement.WebElement (session=\"d61d8598bfc603713f7897caf4603d96\", element=\"e30d2e91-e5c6-4dc4-9caa-c42becb14081\")>,\n",
       " <selenium.webdriver.remote.webelement.WebElement (session=\"d61d8598bfc603713f7897caf4603d96\", element=\"d9e108d6-3acb-4f49-b6ca-a1503df3028c\")>,\n",
       " <selenium.webdriver.remote.webelement.WebElement (session=\"d61d8598bfc603713f7897caf4603d96\", element=\"0fbefdcc-92e6-4130-903e-a8f4b7b75a82\")>,\n",
       " <selenium.webdriver.remote.webelement.WebElement (session=\"d61d8598bfc603713f7897caf4603d96\", element=\"52a628bf-7719-41f2-bdf7-95b002489f9c\")>,\n",
       " <selenium.webdriver.remote.webelement.WebElement (session=\"d61d8598bfc603713f7897caf4603d96\", element=\"02fe2b60-80b5-4bfe-b7cc-3543e240586e\")>,\n",
       " <selenium.webdriver.remote.webelement.WebElement (session=\"d61d8598bfc603713f7897caf4603d96\", element=\"502eab4d-3975-45d0-b278-2d6c87efb198\")>,\n",
       " <selenium.webdriver.remote.webelement.WebElement (session=\"d61d8598bfc603713f7897caf4603d96\", element=\"7206df44-0493-4a00-b43c-86ec94eea750\")>,\n",
       " <selenium.webdriver.remote.webelement.WebElement (session=\"d61d8598bfc603713f7897caf4603d96\", element=\"0578ad5c-5201-434f-92b5-09551d587783\")>,\n",
       " <selenium.webdriver.remote.webelement.WebElement (session=\"d61d8598bfc603713f7897caf4603d96\", element=\"fd1f054a-4d2b-49e1-bd15-44fe9e111f1a\")>,\n",
       " <selenium.webdriver.remote.webelement.WebElement (session=\"d61d8598bfc603713f7897caf4603d96\", element=\"1f5791d3-b9e0-441b-838f-7cfa56b0c332\")>,\n",
       " <selenium.webdriver.remote.webelement.WebElement (session=\"d61d8598bfc603713f7897caf4603d96\", element=\"d9cd22bd-a719-4abc-aa7a-48e0854c206d\")>,\n",
       " <selenium.webdriver.remote.webelement.WebElement (session=\"d61d8598bfc603713f7897caf4603d96\", element=\"3dc206d6-1697-40a2-9a02-87053944d5f4\")>,\n",
       " <selenium.webdriver.remote.webelement.WebElement (session=\"d61d8598bfc603713f7897caf4603d96\", element=\"7a23f703-d983-47db-b535-705ec8c59ef9\")>,\n",
       " <selenium.webdriver.remote.webelement.WebElement (session=\"d61d8598bfc603713f7897caf4603d96\", element=\"2fd3b538-4250-4649-8189-435318bafcad\")>,\n",
       " <selenium.webdriver.remote.webelement.WebElement (session=\"d61d8598bfc603713f7897caf4603d96\", element=\"3f666a8d-2fc6-45e3-a041-04b7bc1419a7\")>,\n",
       " <selenium.webdriver.remote.webelement.WebElement (session=\"d61d8598bfc603713f7897caf4603d96\", element=\"7db8a771-95b1-4dbb-8b7e-2be9cf0054c5\")>,\n",
       " <selenium.webdriver.remote.webelement.WebElement (session=\"d61d8598bfc603713f7897caf4603d96\", element=\"c1b0b69d-1f60-4789-87a1-06c2fa299f69\")>,\n",
       " <selenium.webdriver.remote.webelement.WebElement (session=\"d61d8598bfc603713f7897caf4603d96\", element=\"a164a9c4-2518-43eb-85fe-68a450eb4f50\")>,\n",
       " <selenium.webdriver.remote.webelement.WebElement (session=\"d61d8598bfc603713f7897caf4603d96\", element=\"ede2fbe4-37e4-4b64-8c46-2ebc06e6c1f5\")>,\n",
       " <selenium.webdriver.remote.webelement.WebElement (session=\"d61d8598bfc603713f7897caf4603d96\", element=\"1d0dc1f6-f82f-4920-bf86-3e54b53a8242\")>,\n",
       " <selenium.webdriver.remote.webelement.WebElement (session=\"d61d8598bfc603713f7897caf4603d96\", element=\"223d7f8c-6ecb-4707-81e6-3af1c297a723\")>,\n",
       " <selenium.webdriver.remote.webelement.WebElement (session=\"d61d8598bfc603713f7897caf4603d96\", element=\"93df7f59-d56b-454e-93f0-a1082d127bd5\")>,\n",
       " <selenium.webdriver.remote.webelement.WebElement (session=\"d61d8598bfc603713f7897caf4603d96\", element=\"cec8feb7-0227-4c1c-a4ec-affb1bc35f68\")>,\n",
       " <selenium.webdriver.remote.webelement.WebElement (session=\"d61d8598bfc603713f7897caf4603d96\", element=\"b2bff796-4496-4399-a7c5-2098cd66144a\")>,\n",
       " <selenium.webdriver.remote.webelement.WebElement (session=\"d61d8598bfc603713f7897caf4603d96\", element=\"5d6337bb-f000-4e9d-b032-ee0a22e4fe62\")>,\n",
       " <selenium.webdriver.remote.webelement.WebElement (session=\"d61d8598bfc603713f7897caf4603d96\", element=\"e3842b40-199f-400f-91a1-f71e00500461\")>,\n",
       " <selenium.webdriver.remote.webelement.WebElement (session=\"d61d8598bfc603713f7897caf4603d96\", element=\"fb71e7dd-fe68-4f74-97cb-13f3833750d2\")>,\n",
       " <selenium.webdriver.remote.webelement.WebElement (session=\"d61d8598bfc603713f7897caf4603d96\", element=\"b25478d9-1a18-4a12-a8ae-5082ae62c43f\")>,\n",
       " <selenium.webdriver.remote.webelement.WebElement (session=\"d61d8598bfc603713f7897caf4603d96\", element=\"1548ce9c-3e65-4c5b-83bb-60c2e18a4dc6\")>,\n",
       " <selenium.webdriver.remote.webelement.WebElement (session=\"d61d8598bfc603713f7897caf4603d96\", element=\"efa8183c-d40b-431d-a705-18f84be3c04a\")>,\n",
       " <selenium.webdriver.remote.webelement.WebElement (session=\"d61d8598bfc603713f7897caf4603d96\", element=\"4de03fa8-0073-4e9a-bf2c-0a4bbda0d5e1\")>,\n",
       " <selenium.webdriver.remote.webelement.WebElement (session=\"d61d8598bfc603713f7897caf4603d96\", element=\"0a8fdb90-0750-414e-aea8-9579663311ac\")>,\n",
       " <selenium.webdriver.remote.webelement.WebElement (session=\"d61d8598bfc603713f7897caf4603d96\", element=\"5d2efd8d-5267-4ad3-bbaf-66fe44991118\")>,\n",
       " <selenium.webdriver.remote.webelement.WebElement (session=\"d61d8598bfc603713f7897caf4603d96\", element=\"539060a7-8006-41b5-8852-0c321bd658b0\")>,\n",
       " <selenium.webdriver.remote.webelement.WebElement (session=\"d61d8598bfc603713f7897caf4603d96\", element=\"4939e573-3a8b-4758-a8d2-e0e8210770fa\")>,\n",
       " <selenium.webdriver.remote.webelement.WebElement (session=\"d61d8598bfc603713f7897caf4603d96\", element=\"edda968f-e7e2-4dc1-a78f-ff5f3aea2985\")>,\n",
       " <selenium.webdriver.remote.webelement.WebElement (session=\"d61d8598bfc603713f7897caf4603d96\", element=\"850e48cd-4794-40b9-9f0d-6ead3f861dbb\")>,\n",
       " <selenium.webdriver.remote.webelement.WebElement (session=\"d61d8598bfc603713f7897caf4603d96\", element=\"d49e2902-34c3-4efb-abda-5fd9c53ec6dd\")>,\n",
       " <selenium.webdriver.remote.webelement.WebElement (session=\"d61d8598bfc603713f7897caf4603d96\", element=\"e49ea546-aaf1-470e-b2e8-0d5f294a8af7\")>,\n",
       " <selenium.webdriver.remote.webelement.WebElement (session=\"d61d8598bfc603713f7897caf4603d96\", element=\"51414ea5-d30b-4ec2-9240-780e79b79123\")>,\n",
       " <selenium.webdriver.remote.webelement.WebElement (session=\"d61d8598bfc603713f7897caf4603d96\", element=\"e2ea7a1d-7025-4074-b129-eaa6a8e84aec\")>,\n",
       " <selenium.webdriver.remote.webelement.WebElement (session=\"d61d8598bfc603713f7897caf4603d96\", element=\"15543ed7-1904-48d6-8a7f-8681e7284b75\")>,\n",
       " <selenium.webdriver.remote.webelement.WebElement (session=\"d61d8598bfc603713f7897caf4603d96\", element=\"e753dfef-0823-4a67-923c-5d6c3fb25892\")>,\n",
       " <selenium.webdriver.remote.webelement.WebElement (session=\"d61d8598bfc603713f7897caf4603d96\", element=\"fd9df93a-3dbb-487f-94de-80c6c7278db8\")>,\n",
       " <selenium.webdriver.remote.webelement.WebElement (session=\"d61d8598bfc603713f7897caf4603d96\", element=\"1a29646b-3973-4be9-a7d3-1f67062b3eba\")>,\n",
       " <selenium.webdriver.remote.webelement.WebElement (session=\"d61d8598bfc603713f7897caf4603d96\", element=\"560da988-30f3-44ef-9610-1afbe02c0193\")>,\n",
       " <selenium.webdriver.remote.webelement.WebElement (session=\"d61d8598bfc603713f7897caf4603d96\", element=\"67c27b7f-99a6-4a50-a9ce-84f833131c28\")>,\n",
       " <selenium.webdriver.remote.webelement.WebElement (session=\"d61d8598bfc603713f7897caf4603d96\", element=\"c0d38308-74dd-4edc-86b9-f2199a8ada6b\")>,\n",
       " <selenium.webdriver.remote.webelement.WebElement (session=\"d61d8598bfc603713f7897caf4603d96\", element=\"c7f4486b-0eed-4af9-b096-e870baa042a7\")>,\n",
       " <selenium.webdriver.remote.webelement.WebElement (session=\"d61d8598bfc603713f7897caf4603d96\", element=\"939dacef-5199-46a7-abe5-8fca99cb84b2\")>,\n",
       " <selenium.webdriver.remote.webelement.WebElement (session=\"d61d8598bfc603713f7897caf4603d96\", element=\"436979ee-56d8-4559-a849-f8926f1a7a68\")>,\n",
       " <selenium.webdriver.remote.webelement.WebElement (session=\"d61d8598bfc603713f7897caf4603d96\", element=\"2ca06250-bb76-4574-9ccf-2ecbf6054ce1\")>,\n",
       " <selenium.webdriver.remote.webelement.WebElement (session=\"d61d8598bfc603713f7897caf4603d96\", element=\"06362bb0-7d01-4ce9-85f3-9426aaeef267\")>,\n",
       " <selenium.webdriver.remote.webelement.WebElement (session=\"d61d8598bfc603713f7897caf4603d96\", element=\"362798aa-1a7f-4c9a-8785-21975cb88c6f\")>,\n",
       " <selenium.webdriver.remote.webelement.WebElement (session=\"d61d8598bfc603713f7897caf4603d96\", element=\"61c4e185-8c07-455b-9a47-63253b4661e7\")>,\n",
       " <selenium.webdriver.remote.webelement.WebElement (session=\"d61d8598bfc603713f7897caf4603d96\", element=\"3b51951e-eb12-4bf3-b904-2b06744dd36c\")>,\n",
       " <selenium.webdriver.remote.webelement.WebElement (session=\"d61d8598bfc603713f7897caf4603d96\", element=\"b32204c3-8717-4661-be91-c700c67cc228\")>,\n",
       " <selenium.webdriver.remote.webelement.WebElement (session=\"d61d8598bfc603713f7897caf4603d96\", element=\"3403baf1-49d6-44c5-a46f-1624a4adbca3\")>,\n",
       " <selenium.webdriver.remote.webelement.WebElement (session=\"d61d8598bfc603713f7897caf4603d96\", element=\"5fb63dd0-21be-4c85-b4ce-7784b7296231\")>]"
      ]
     },
     "execution_count": 136,
     "metadata": {},
     "output_type": "execute_result"
    }
   ],
   "source": [
    "skills=driver.find_elements_by_xpath('//li[@class=\"fleft fs12 grey-text lh16 dot\"]')\n",
    "skills"
   ]
  },
  {
   "cell_type": "code",
   "execution_count": 140,
   "id": "796c66fd",
   "metadata": {},
   "outputs": [
    {
     "data": {
      "text/plain": [
       "[]"
      ]
     },
     "execution_count": 140,
     "metadata": {},
     "output_type": "execute_result"
    }
   ],
   "source": [
    "skill=[]\n",
    "for i in skills:\n",
    "    skill.append(i.text)\n",
    "    \n",
    "skill"
   ]
  },
  {
   "cell_type": "markdown",
   "id": "f598ddbd",
   "metadata": {},
   "source": [
    "QUESTION 8"
   ]
  },
  {
   "cell_type": "code",
   "execution_count": 141,
   "id": "662fe17d",
   "metadata": {},
   "outputs": [
    {
     "name": "stderr",
     "output_type": "stream",
     "text": [
      "<ipython-input-141-452eafebab4f>:2: DeprecationWarning: executable_path has been deprecated, please pass in a Service object\n",
      "  driver = webdriver.Chrome(PATH)\n"
     ]
    }
   ],
   "source": [
    "PATH = 'C:/Users/Shiva Labade/Desktop/chromedriver_win32/chromedriver.exe'\n",
    "driver = webdriver.Chrome(PATH)"
   ]
  },
  {
   "cell_type": "code",
   "execution_count": 143,
   "id": "4530b3ad",
   "metadata": {},
   "outputs": [],
   "source": [
    "driver.get('https://www.theguardian.com/news/datablog/2012/aug/09/best-selling-books-all-time-fifty-shades-grey-compare')"
   ]
  },
  {
   "cell_type": "code",
   "execution_count": 144,
   "id": "9c69a812",
   "metadata": {
    "scrolled": false
   },
   "outputs": [
    {
     "name": "stderr",
     "output_type": "stream",
     "text": [
      "<ipython-input-144-634572a717de>:1: DeprecationWarning: find_elements_by_* commands are deprecated. Please use find_elements() instead\n",
      "  book_name=driver.find_elements_by_xpath('//td[@class=\"left\"]')\n"
     ]
    },
    {
     "data": {
      "text/plain": [
       "[<selenium.webdriver.remote.webelement.WebElement (session=\"826bba43ac7a5eed6244af9a027fa0a0\", element=\"b916ed08-9c4e-424b-b0e7-322ff27ffd33\")>,\n",
       " <selenium.webdriver.remote.webelement.WebElement (session=\"826bba43ac7a5eed6244af9a027fa0a0\", element=\"5a5a5276-1a27-4089-a509-b3a983eec827\")>,\n",
       " <selenium.webdriver.remote.webelement.WebElement (session=\"826bba43ac7a5eed6244af9a027fa0a0\", element=\"090b9cba-8fb0-425e-a251-7fe9d07318f1\")>,\n",
       " <selenium.webdriver.remote.webelement.WebElement (session=\"826bba43ac7a5eed6244af9a027fa0a0\", element=\"69ed12ee-8f2a-4715-a11b-0b38b02747cd\")>,\n",
       " <selenium.webdriver.remote.webelement.WebElement (session=\"826bba43ac7a5eed6244af9a027fa0a0\", element=\"32a5abe6-3a6d-4cd7-bd8e-17025f9e5dc8\")>,\n",
       " <selenium.webdriver.remote.webelement.WebElement (session=\"826bba43ac7a5eed6244af9a027fa0a0\", element=\"b02b6d39-904a-47c8-9e2c-b29803a70979\")>,\n",
       " <selenium.webdriver.remote.webelement.WebElement (session=\"826bba43ac7a5eed6244af9a027fa0a0\", element=\"b0ec2b03-ab0e-40ee-bf82-8707cb7860c0\")>,\n",
       " <selenium.webdriver.remote.webelement.WebElement (session=\"826bba43ac7a5eed6244af9a027fa0a0\", element=\"0f1cd7b7-d381-4811-b480-60a8c326ff31\")>,\n",
       " <selenium.webdriver.remote.webelement.WebElement (session=\"826bba43ac7a5eed6244af9a027fa0a0\", element=\"be446c48-e019-4610-8138-6961a6667824\")>,\n",
       " <selenium.webdriver.remote.webelement.WebElement (session=\"826bba43ac7a5eed6244af9a027fa0a0\", element=\"aa8ccce3-3c22-4517-b68f-ceff58ceff7a\")>,\n",
       " <selenium.webdriver.remote.webelement.WebElement (session=\"826bba43ac7a5eed6244af9a027fa0a0\", element=\"f428c99d-d025-46cf-a21f-5caeae763f48\")>,\n",
       " <selenium.webdriver.remote.webelement.WebElement (session=\"826bba43ac7a5eed6244af9a027fa0a0\", element=\"671ee705-45b7-4985-8108-22fb3863f380\")>,\n",
       " <selenium.webdriver.remote.webelement.WebElement (session=\"826bba43ac7a5eed6244af9a027fa0a0\", element=\"20cad254-88ad-4044-8300-9f7604b5a549\")>,\n",
       " <selenium.webdriver.remote.webelement.WebElement (session=\"826bba43ac7a5eed6244af9a027fa0a0\", element=\"5741e637-f0a5-401b-a4cf-1dc3be36674e\")>,\n",
       " <selenium.webdriver.remote.webelement.WebElement (session=\"826bba43ac7a5eed6244af9a027fa0a0\", element=\"affa704e-a25c-4157-b1cf-fede6a4553ef\")>,\n",
       " <selenium.webdriver.remote.webelement.WebElement (session=\"826bba43ac7a5eed6244af9a027fa0a0\", element=\"d6cb6de1-506c-4e24-b49f-a5b3c060131e\")>,\n",
       " <selenium.webdriver.remote.webelement.WebElement (session=\"826bba43ac7a5eed6244af9a027fa0a0\", element=\"4ea11cfb-d07d-42eb-8b4e-04cc95358da0\")>,\n",
       " <selenium.webdriver.remote.webelement.WebElement (session=\"826bba43ac7a5eed6244af9a027fa0a0\", element=\"f37ccf77-3ea1-4a11-84ee-f9939ba05988\")>,\n",
       " <selenium.webdriver.remote.webelement.WebElement (session=\"826bba43ac7a5eed6244af9a027fa0a0\", element=\"52524ac3-56a8-49c1-aebb-0f18cf19e950\")>,\n",
       " <selenium.webdriver.remote.webelement.WebElement (session=\"826bba43ac7a5eed6244af9a027fa0a0\", element=\"a69bc104-4f77-4749-984e-5d6aff1c55bf\")>,\n",
       " <selenium.webdriver.remote.webelement.WebElement (session=\"826bba43ac7a5eed6244af9a027fa0a0\", element=\"daf183be-ee7c-4a62-b0b4-6100cc08fb74\")>,\n",
       " <selenium.webdriver.remote.webelement.WebElement (session=\"826bba43ac7a5eed6244af9a027fa0a0\", element=\"fa50a8e7-0deb-4675-9ff7-4c3186fb834f\")>,\n",
       " <selenium.webdriver.remote.webelement.WebElement (session=\"826bba43ac7a5eed6244af9a027fa0a0\", element=\"9c567fe1-90f0-4ea1-8817-ab6830dcb879\")>,\n",
       " <selenium.webdriver.remote.webelement.WebElement (session=\"826bba43ac7a5eed6244af9a027fa0a0\", element=\"8af7515c-6a45-49c6-8e0d-638d16167edd\")>,\n",
       " <selenium.webdriver.remote.webelement.WebElement (session=\"826bba43ac7a5eed6244af9a027fa0a0\", element=\"8557b5aa-c6de-4e54-8e9c-ab76add5c1c5\")>,\n",
       " <selenium.webdriver.remote.webelement.WebElement (session=\"826bba43ac7a5eed6244af9a027fa0a0\", element=\"bbdfc37b-921a-4665-8771-52e266b2b7c4\")>,\n",
       " <selenium.webdriver.remote.webelement.WebElement (session=\"826bba43ac7a5eed6244af9a027fa0a0\", element=\"e1c02d4a-d357-49e6-bab8-7505ae7135fd\")>,\n",
       " <selenium.webdriver.remote.webelement.WebElement (session=\"826bba43ac7a5eed6244af9a027fa0a0\", element=\"1ab5fffb-26e1-446d-ab12-aece8610513c\")>,\n",
       " <selenium.webdriver.remote.webelement.WebElement (session=\"826bba43ac7a5eed6244af9a027fa0a0\", element=\"3b34b989-0f0c-45c6-b786-e56c7b7d56bc\")>,\n",
       " <selenium.webdriver.remote.webelement.WebElement (session=\"826bba43ac7a5eed6244af9a027fa0a0\", element=\"7b03fca0-ef8f-4901-a2c1-2b4367a62cf7\")>,\n",
       " <selenium.webdriver.remote.webelement.WebElement (session=\"826bba43ac7a5eed6244af9a027fa0a0\", element=\"4302fd12-7dd1-42ba-9fbf-9597978a9e32\")>,\n",
       " <selenium.webdriver.remote.webelement.WebElement (session=\"826bba43ac7a5eed6244af9a027fa0a0\", element=\"8902eb31-cc4a-47a7-9625-0a2393be5316\")>,\n",
       " <selenium.webdriver.remote.webelement.WebElement (session=\"826bba43ac7a5eed6244af9a027fa0a0\", element=\"4792d231-72cc-4b70-93e9-8f11ba1f9421\")>,\n",
       " <selenium.webdriver.remote.webelement.WebElement (session=\"826bba43ac7a5eed6244af9a027fa0a0\", element=\"8fc7bf41-e599-436d-99e4-c68703f615fa\")>,\n",
       " <selenium.webdriver.remote.webelement.WebElement (session=\"826bba43ac7a5eed6244af9a027fa0a0\", element=\"e520f96f-cc2c-4d6a-b221-89618da072b8\")>,\n",
       " <selenium.webdriver.remote.webelement.WebElement (session=\"826bba43ac7a5eed6244af9a027fa0a0\", element=\"2b0bb9ed-a150-4b38-aff2-2f67bcc449a5\")>,\n",
       " <selenium.webdriver.remote.webelement.WebElement (session=\"826bba43ac7a5eed6244af9a027fa0a0\", element=\"ea48eaf3-cd9e-4842-ab72-1122d386fd2f\")>,\n",
       " <selenium.webdriver.remote.webelement.WebElement (session=\"826bba43ac7a5eed6244af9a027fa0a0\", element=\"b3952f44-7017-461c-b52e-b2a1654d97a8\")>,\n",
       " <selenium.webdriver.remote.webelement.WebElement (session=\"826bba43ac7a5eed6244af9a027fa0a0\", element=\"d081f219-86b9-40c2-a842-fbee3670733c\")>,\n",
       " <selenium.webdriver.remote.webelement.WebElement (session=\"826bba43ac7a5eed6244af9a027fa0a0\", element=\"604c5322-bba7-4b4a-8595-47aae00a7c79\")>,\n",
       " <selenium.webdriver.remote.webelement.WebElement (session=\"826bba43ac7a5eed6244af9a027fa0a0\", element=\"59ddf8ec-056d-4592-81c9-ed70c448d890\")>,\n",
       " <selenium.webdriver.remote.webelement.WebElement (session=\"826bba43ac7a5eed6244af9a027fa0a0\", element=\"256771e6-627d-4944-91e1-95f438e7d876\")>,\n",
       " <selenium.webdriver.remote.webelement.WebElement (session=\"826bba43ac7a5eed6244af9a027fa0a0\", element=\"1cc0b6fd-de4a-4be7-a096-b850836fe174\")>,\n",
       " <selenium.webdriver.remote.webelement.WebElement (session=\"826bba43ac7a5eed6244af9a027fa0a0\", element=\"99d7558b-12f2-4654-b246-ccc742e23289\")>,\n",
       " <selenium.webdriver.remote.webelement.WebElement (session=\"826bba43ac7a5eed6244af9a027fa0a0\", element=\"1b690d6f-aed6-4935-8731-f9844be3788e\")>,\n",
       " <selenium.webdriver.remote.webelement.WebElement (session=\"826bba43ac7a5eed6244af9a027fa0a0\", element=\"f070bf3b-3193-46bb-ae18-2f9edd2a4eaf\")>,\n",
       " <selenium.webdriver.remote.webelement.WebElement (session=\"826bba43ac7a5eed6244af9a027fa0a0\", element=\"500f18ef-d5ed-4a7c-aad6-8ade850c84a1\")>,\n",
       " <selenium.webdriver.remote.webelement.WebElement (session=\"826bba43ac7a5eed6244af9a027fa0a0\", element=\"010d6d59-4534-404e-8154-330a82f79691\")>,\n",
       " <selenium.webdriver.remote.webelement.WebElement (session=\"826bba43ac7a5eed6244af9a027fa0a0\", element=\"6ea9ee37-272f-4964-8b09-b6e45698be68\")>,\n",
       " <selenium.webdriver.remote.webelement.WebElement (session=\"826bba43ac7a5eed6244af9a027fa0a0\", element=\"e6f030b2-7729-4dc6-abff-7ad4a8fe2f40\")>,\n",
       " <selenium.webdriver.remote.webelement.WebElement (session=\"826bba43ac7a5eed6244af9a027fa0a0\", element=\"bf4ad80a-a837-4d2a-9a16-da97944be811\")>,\n",
       " <selenium.webdriver.remote.webelement.WebElement (session=\"826bba43ac7a5eed6244af9a027fa0a0\", element=\"698b9e52-b3d8-4604-a5db-e78a965c62e9\")>,\n",
       " <selenium.webdriver.remote.webelement.WebElement (session=\"826bba43ac7a5eed6244af9a027fa0a0\", element=\"63a8f339-ef77-44ab-bf88-d91119bfac52\")>,\n",
       " <selenium.webdriver.remote.webelement.WebElement (session=\"826bba43ac7a5eed6244af9a027fa0a0\", element=\"1ec79e28-074e-46ee-aa4e-607adfe62025\")>,\n",
       " <selenium.webdriver.remote.webelement.WebElement (session=\"826bba43ac7a5eed6244af9a027fa0a0\", element=\"76e855e8-d4e9-4e63-ac6e-5e467a4721e7\")>,\n",
       " <selenium.webdriver.remote.webelement.WebElement (session=\"826bba43ac7a5eed6244af9a027fa0a0\", element=\"ef6dc69e-afcb-4f74-9af7-7134552eb19d\")>,\n",
       " <selenium.webdriver.remote.webelement.WebElement (session=\"826bba43ac7a5eed6244af9a027fa0a0\", element=\"547f38fe-06a9-4ada-aaae-e6f8674a7cf4\")>,\n",
       " <selenium.webdriver.remote.webelement.WebElement (session=\"826bba43ac7a5eed6244af9a027fa0a0\", element=\"6fa6896a-5d0f-4ce9-94ff-546d7f6a4f7e\")>,\n",
       " <selenium.webdriver.remote.webelement.WebElement (session=\"826bba43ac7a5eed6244af9a027fa0a0\", element=\"034556da-a9af-4beb-b51b-93e31968ffa8\")>,\n",
       " <selenium.webdriver.remote.webelement.WebElement (session=\"826bba43ac7a5eed6244af9a027fa0a0\", element=\"ae8e5ce1-626e-494b-9828-f96aef0be6fd\")>,\n",
       " <selenium.webdriver.remote.webelement.WebElement (session=\"826bba43ac7a5eed6244af9a027fa0a0\", element=\"a3528898-ef8f-44f6-a744-de6f67191884\")>,\n",
       " <selenium.webdriver.remote.webelement.WebElement (session=\"826bba43ac7a5eed6244af9a027fa0a0\", element=\"3e0a2852-4ed2-411f-9486-d92f1c1c02c3\")>,\n",
       " <selenium.webdriver.remote.webelement.WebElement (session=\"826bba43ac7a5eed6244af9a027fa0a0\", element=\"5cb961c0-8ea6-4311-bd01-492131e1d87a\")>,\n",
       " <selenium.webdriver.remote.webelement.WebElement (session=\"826bba43ac7a5eed6244af9a027fa0a0\", element=\"03163436-71c0-4a2c-a9ec-1c5a59efd377\")>,\n",
       " <selenium.webdriver.remote.webelement.WebElement (session=\"826bba43ac7a5eed6244af9a027fa0a0\", element=\"64ac16e3-4905-43fe-ad17-d12f34b5a196\")>,\n",
       " <selenium.webdriver.remote.webelement.WebElement (session=\"826bba43ac7a5eed6244af9a027fa0a0\", element=\"ad886a27-cb3d-409a-8151-18282c8350af\")>,\n",
       " <selenium.webdriver.remote.webelement.WebElement (session=\"826bba43ac7a5eed6244af9a027fa0a0\", element=\"86a4375e-ab0d-4f85-a351-64044c09cfbc\")>,\n",
       " <selenium.webdriver.remote.webelement.WebElement (session=\"826bba43ac7a5eed6244af9a027fa0a0\", element=\"a10928b3-56d9-4d79-b4e9-d23f73e9ca0e\")>,\n",
       " <selenium.webdriver.remote.webelement.WebElement (session=\"826bba43ac7a5eed6244af9a027fa0a0\", element=\"8406a579-a53a-4d7e-8544-458a738bcd40\")>,\n",
       " <selenium.webdriver.remote.webelement.WebElement (session=\"826bba43ac7a5eed6244af9a027fa0a0\", element=\"b53dcd1e-2185-4dc6-afcd-d0c6896a2355\")>,\n",
       " <selenium.webdriver.remote.webelement.WebElement (session=\"826bba43ac7a5eed6244af9a027fa0a0\", element=\"d6a39f1b-7b10-4c68-8a08-2cfb0a2277bd\")>,\n",
       " <selenium.webdriver.remote.webelement.WebElement (session=\"826bba43ac7a5eed6244af9a027fa0a0\", element=\"0a6be695-011f-44a5-93da-d6cd0a740c34\")>,\n",
       " <selenium.webdriver.remote.webelement.WebElement (session=\"826bba43ac7a5eed6244af9a027fa0a0\", element=\"bdcac485-04b7-4804-847f-dcd0c82fc478\")>,\n",
       " <selenium.webdriver.remote.webelement.WebElement (session=\"826bba43ac7a5eed6244af9a027fa0a0\", element=\"6f5c6c4f-af88-4fdf-851b-29bd277684a2\")>,\n",
       " <selenium.webdriver.remote.webelement.WebElement (session=\"826bba43ac7a5eed6244af9a027fa0a0\", element=\"3fcdb4b9-e288-4954-8472-520942d946f8\")>,\n",
       " <selenium.webdriver.remote.webelement.WebElement (session=\"826bba43ac7a5eed6244af9a027fa0a0\", element=\"c6a3b313-1d3f-40d9-99af-6bcfa0776ce7\")>,\n",
       " <selenium.webdriver.remote.webelement.WebElement (session=\"826bba43ac7a5eed6244af9a027fa0a0\", element=\"8c3da6a5-2b56-436f-9d5a-b8c18c43627d\")>,\n",
       " <selenium.webdriver.remote.webelement.WebElement (session=\"826bba43ac7a5eed6244af9a027fa0a0\", element=\"b523a30c-e4bb-453e-ba2a-3d8244b91627\")>,\n",
       " <selenium.webdriver.remote.webelement.WebElement (session=\"826bba43ac7a5eed6244af9a027fa0a0\", element=\"51c60ea7-05f3-4dd9-88aa-6447532383ef\")>,\n",
       " <selenium.webdriver.remote.webelement.WebElement (session=\"826bba43ac7a5eed6244af9a027fa0a0\", element=\"1f7869b6-a331-4a5f-acfa-4afe4f8fc86e\")>,\n",
       " <selenium.webdriver.remote.webelement.WebElement (session=\"826bba43ac7a5eed6244af9a027fa0a0\", element=\"64f50230-a555-471a-b71b-0740a6293930\")>,\n",
       " <selenium.webdriver.remote.webelement.WebElement (session=\"826bba43ac7a5eed6244af9a027fa0a0\", element=\"5933fbf2-5fbf-4cbb-86f8-1ee4d12c11d8\")>,\n",
       " <selenium.webdriver.remote.webelement.WebElement (session=\"826bba43ac7a5eed6244af9a027fa0a0\", element=\"5f2cb9d2-b247-4138-8d75-5e8c47600cbc\")>,\n",
       " <selenium.webdriver.remote.webelement.WebElement (session=\"826bba43ac7a5eed6244af9a027fa0a0\", element=\"441678c7-0f22-41c1-9480-04ccb9ff9d56\")>,\n",
       " <selenium.webdriver.remote.webelement.WebElement (session=\"826bba43ac7a5eed6244af9a027fa0a0\", element=\"27d0a233-f9a6-4527-bf22-015f2bf623f7\")>,\n",
       " <selenium.webdriver.remote.webelement.WebElement (session=\"826bba43ac7a5eed6244af9a027fa0a0\", element=\"7abda839-5c9a-4328-9011-2ec8e3b51644\")>,\n",
       " <selenium.webdriver.remote.webelement.WebElement (session=\"826bba43ac7a5eed6244af9a027fa0a0\", element=\"0f1f8ac1-5700-4b28-818c-d6474264b03f\")>,\n",
       " <selenium.webdriver.remote.webelement.WebElement (session=\"826bba43ac7a5eed6244af9a027fa0a0\", element=\"d636055b-ba41-4d7c-9b32-ea5cf0351d75\")>,\n",
       " <selenium.webdriver.remote.webelement.WebElement (session=\"826bba43ac7a5eed6244af9a027fa0a0\", element=\"e3dfe04e-08f0-480c-806a-2229e9111a98\")>,\n",
       " <selenium.webdriver.remote.webelement.WebElement (session=\"826bba43ac7a5eed6244af9a027fa0a0\", element=\"064a12f2-6a08-4a8b-8099-d0c98789b933\")>,\n",
       " <selenium.webdriver.remote.webelement.WebElement (session=\"826bba43ac7a5eed6244af9a027fa0a0\", element=\"e8299817-566c-4aa4-905f-2403f7618761\")>,\n",
       " <selenium.webdriver.remote.webelement.WebElement (session=\"826bba43ac7a5eed6244af9a027fa0a0\", element=\"1bdf8d6c-6d97-4e53-a47b-61074af25052\")>,\n",
       " <selenium.webdriver.remote.webelement.WebElement (session=\"826bba43ac7a5eed6244af9a027fa0a0\", element=\"023d8a4d-ba63-4ff2-acc8-dfdc7464cda4\")>,\n",
       " <selenium.webdriver.remote.webelement.WebElement (session=\"826bba43ac7a5eed6244af9a027fa0a0\", element=\"7969e55d-d60c-4a92-a235-6b029c97fbf6\")>,\n",
       " <selenium.webdriver.remote.webelement.WebElement (session=\"826bba43ac7a5eed6244af9a027fa0a0\", element=\"7682f262-3502-482b-bffb-f5730788314b\")>,\n",
       " <selenium.webdriver.remote.webelement.WebElement (session=\"826bba43ac7a5eed6244af9a027fa0a0\", element=\"74751e81-b25d-43b2-98a3-217892c82b8d\")>,\n",
       " <selenium.webdriver.remote.webelement.WebElement (session=\"826bba43ac7a5eed6244af9a027fa0a0\", element=\"5126cbc3-8187-4c6a-9915-d2bc6ef10f41\")>,\n",
       " <selenium.webdriver.remote.webelement.WebElement (session=\"826bba43ac7a5eed6244af9a027fa0a0\", element=\"e0a90096-3b25-48f5-94f0-530fb253b018\")>,\n",
       " <selenium.webdriver.remote.webelement.WebElement (session=\"826bba43ac7a5eed6244af9a027fa0a0\", element=\"dd1db8f7-3900-457a-87d6-010565f6c6c1\")>,\n",
       " <selenium.webdriver.remote.webelement.WebElement (session=\"826bba43ac7a5eed6244af9a027fa0a0\", element=\"27136895-12a1-42ce-8f20-4df98cd3d99d\")>,\n",
       " <selenium.webdriver.remote.webelement.WebElement (session=\"826bba43ac7a5eed6244af9a027fa0a0\", element=\"c4b1ece0-c9e6-4ec3-b471-e8fccebf7972\")>,\n",
       " <selenium.webdriver.remote.webelement.WebElement (session=\"826bba43ac7a5eed6244af9a027fa0a0\", element=\"ac77b23b-ff6c-4e54-a116-b68376d3ea70\")>,\n",
       " <selenium.webdriver.remote.webelement.WebElement (session=\"826bba43ac7a5eed6244af9a027fa0a0\", element=\"67b5ff2a-1719-4721-b659-65d5dec5f95b\")>,\n",
       " <selenium.webdriver.remote.webelement.WebElement (session=\"826bba43ac7a5eed6244af9a027fa0a0\", element=\"1d9a69ef-a02a-43a8-b060-ed701ae64036\")>,\n",
       " <selenium.webdriver.remote.webelement.WebElement (session=\"826bba43ac7a5eed6244af9a027fa0a0\", element=\"fe7d9f6f-6bc3-44aa-8b4d-2e87eb1b5bb7\")>,\n",
       " <selenium.webdriver.remote.webelement.WebElement (session=\"826bba43ac7a5eed6244af9a027fa0a0\", element=\"538f3835-b92b-4374-81d9-0820c16aa824\")>,\n",
       " <selenium.webdriver.remote.webelement.WebElement (session=\"826bba43ac7a5eed6244af9a027fa0a0\", element=\"ab96e339-4fbf-4643-8a99-a7af362f908a\")>,\n",
       " <selenium.webdriver.remote.webelement.WebElement (session=\"826bba43ac7a5eed6244af9a027fa0a0\", element=\"dac7d507-6168-4737-8ca7-f153f0f610b9\")>,\n",
       " <selenium.webdriver.remote.webelement.WebElement (session=\"826bba43ac7a5eed6244af9a027fa0a0\", element=\"0f177369-b738-4ddc-8d02-5338a7af946a\")>,\n",
       " <selenium.webdriver.remote.webelement.WebElement (session=\"826bba43ac7a5eed6244af9a027fa0a0\", element=\"e4640bac-654f-4295-9844-80d3e8bac08d\")>,\n",
       " <selenium.webdriver.remote.webelement.WebElement (session=\"826bba43ac7a5eed6244af9a027fa0a0\", element=\"4bfcea25-51be-479b-b2a5-51230db7b811\")>,\n",
       " <selenium.webdriver.remote.webelement.WebElement (session=\"826bba43ac7a5eed6244af9a027fa0a0\", element=\"843005be-4898-4168-a81d-af1f78317f25\")>,\n",
       " <selenium.webdriver.remote.webelement.WebElement (session=\"826bba43ac7a5eed6244af9a027fa0a0\", element=\"5192a50c-a603-4c90-8aed-7c42e566331a\")>,\n",
       " <selenium.webdriver.remote.webelement.WebElement (session=\"826bba43ac7a5eed6244af9a027fa0a0\", element=\"4a5bfedd-7ef9-4011-a47f-29239861b09f\")>,\n",
       " <selenium.webdriver.remote.webelement.WebElement (session=\"826bba43ac7a5eed6244af9a027fa0a0\", element=\"b17af07d-fd94-45b8-9f53-d0f0acaed159\")>,\n",
       " <selenium.webdriver.remote.webelement.WebElement (session=\"826bba43ac7a5eed6244af9a027fa0a0\", element=\"b87ad4ec-82b0-4b45-a35c-bd164f784d7d\")>,\n",
       " <selenium.webdriver.remote.webelement.WebElement (session=\"826bba43ac7a5eed6244af9a027fa0a0\", element=\"7c30e5a5-aa76-4588-8ecc-20b555dc08db\")>,\n",
       " <selenium.webdriver.remote.webelement.WebElement (session=\"826bba43ac7a5eed6244af9a027fa0a0\", element=\"a0b426d3-079c-4adc-9070-c6514d14c57d\")>,\n",
       " <selenium.webdriver.remote.webelement.WebElement (session=\"826bba43ac7a5eed6244af9a027fa0a0\", element=\"5def6fb1-0b7a-493f-994e-b131213b3d0c\")>,\n",
       " <selenium.webdriver.remote.webelement.WebElement (session=\"826bba43ac7a5eed6244af9a027fa0a0\", element=\"87bc30e8-ff52-4a5d-86dc-1f59a301a3bd\")>,\n",
       " <selenium.webdriver.remote.webelement.WebElement (session=\"826bba43ac7a5eed6244af9a027fa0a0\", element=\"a2e5c062-632b-485b-8a41-3a7b6778d0eb\")>,\n",
       " <selenium.webdriver.remote.webelement.WebElement (session=\"826bba43ac7a5eed6244af9a027fa0a0\", element=\"c5113fd4-46bd-4d71-890d-cfb0fefae8fb\")>,\n",
       " <selenium.webdriver.remote.webelement.WebElement (session=\"826bba43ac7a5eed6244af9a027fa0a0\", element=\"b463ec28-2b57-482d-8466-324befb3070e\")>,\n",
       " <selenium.webdriver.remote.webelement.WebElement (session=\"826bba43ac7a5eed6244af9a027fa0a0\", element=\"cea8b893-f4a5-4b80-a1d0-9b4fe39a02ec\")>,\n",
       " <selenium.webdriver.remote.webelement.WebElement (session=\"826bba43ac7a5eed6244af9a027fa0a0\", element=\"304fd9ba-bf1a-4128-943f-95b2762f47a6\")>,\n",
       " <selenium.webdriver.remote.webelement.WebElement (session=\"826bba43ac7a5eed6244af9a027fa0a0\", element=\"60ad9110-94cf-4fed-a119-71da58da6bcf\")>,\n",
       " <selenium.webdriver.remote.webelement.WebElement (session=\"826bba43ac7a5eed6244af9a027fa0a0\", element=\"e82c19d3-81f7-444d-a1f7-e6bf58d41331\")>,\n",
       " <selenium.webdriver.remote.webelement.WebElement (session=\"826bba43ac7a5eed6244af9a027fa0a0\", element=\"d684f7cb-a03a-420a-bd82-3bf109c4ffbd\")>,\n",
       " <selenium.webdriver.remote.webelement.WebElement (session=\"826bba43ac7a5eed6244af9a027fa0a0\", element=\"179d36e1-bc62-4486-83b8-a5fe7fd434d3\")>,\n",
       " <selenium.webdriver.remote.webelement.WebElement (session=\"826bba43ac7a5eed6244af9a027fa0a0\", element=\"899bb1cf-615f-48d6-9a17-3fe06a7d1b3f\")>,\n",
       " <selenium.webdriver.remote.webelement.WebElement (session=\"826bba43ac7a5eed6244af9a027fa0a0\", element=\"ee6b079e-ba93-4d8c-91c7-c3d53b3511db\")>,\n",
       " <selenium.webdriver.remote.webelement.WebElement (session=\"826bba43ac7a5eed6244af9a027fa0a0\", element=\"1437aa8e-9f2a-4f28-b66d-120ecfb0050f\")>,\n",
       " <selenium.webdriver.remote.webelement.WebElement (session=\"826bba43ac7a5eed6244af9a027fa0a0\", element=\"eec78fa2-f036-4aeb-8913-992d22af3df3\")>,\n",
       " <selenium.webdriver.remote.webelement.WebElement (session=\"826bba43ac7a5eed6244af9a027fa0a0\", element=\"950889f2-c8e2-4a7e-94ba-f9a3f8851948\")>,\n",
       " <selenium.webdriver.remote.webelement.WebElement (session=\"826bba43ac7a5eed6244af9a027fa0a0\", element=\"0ae6c640-6a91-43da-9284-b4730c2e8b8b\")>,\n",
       " <selenium.webdriver.remote.webelement.WebElement (session=\"826bba43ac7a5eed6244af9a027fa0a0\", element=\"d22f3dcf-59d9-4111-a563-eef1c654b497\")>,\n",
       " <selenium.webdriver.remote.webelement.WebElement (session=\"826bba43ac7a5eed6244af9a027fa0a0\", element=\"16b14d07-7bb7-4abb-aa17-f10d1c6a5e9d\")>,\n",
       " <selenium.webdriver.remote.webelement.WebElement (session=\"826bba43ac7a5eed6244af9a027fa0a0\", element=\"bf32301e-96d5-45cc-b4aa-a7e4c3614b27\")>,\n",
       " <selenium.webdriver.remote.webelement.WebElement (session=\"826bba43ac7a5eed6244af9a027fa0a0\", element=\"85748e80-09dc-41c4-a801-2e6f7104b032\")>,\n",
       " <selenium.webdriver.remote.webelement.WebElement (session=\"826bba43ac7a5eed6244af9a027fa0a0\", element=\"c4329ff4-f607-46f8-9ad1-5721bf39b277\")>,\n",
       " <selenium.webdriver.remote.webelement.WebElement (session=\"826bba43ac7a5eed6244af9a027fa0a0\", element=\"0c07c929-8bf4-4981-a8ef-dacb2f9ca46b\")>,\n",
       " <selenium.webdriver.remote.webelement.WebElement (session=\"826bba43ac7a5eed6244af9a027fa0a0\", element=\"9d155930-2ce2-411d-aeec-583ba9e5c681\")>,\n",
       " <selenium.webdriver.remote.webelement.WebElement (session=\"826bba43ac7a5eed6244af9a027fa0a0\", element=\"b5e94e78-b1c4-4ad9-9247-719702ba7a2e\")>,\n",
       " <selenium.webdriver.remote.webelement.WebElement (session=\"826bba43ac7a5eed6244af9a027fa0a0\", element=\"310b053e-d187-45a4-972b-7c9ca81c992f\")>,\n",
       " <selenium.webdriver.remote.webelement.WebElement (session=\"826bba43ac7a5eed6244af9a027fa0a0\", element=\"8fa76597-69b8-4f5c-900d-ba7c76b72f4b\")>,\n",
       " <selenium.webdriver.remote.webelement.WebElement (session=\"826bba43ac7a5eed6244af9a027fa0a0\", element=\"a01a8d9c-03a0-425f-92cd-25e8bf7318fd\")>,\n",
       " <selenium.webdriver.remote.webelement.WebElement (session=\"826bba43ac7a5eed6244af9a027fa0a0\", element=\"3d5fadfe-f42d-4f35-84e5-c4baf89460ee\")>,\n",
       " <selenium.webdriver.remote.webelement.WebElement (session=\"826bba43ac7a5eed6244af9a027fa0a0\", element=\"d8d24ac2-b407-426b-a3f8-8c3161299142\")>,\n",
       " <selenium.webdriver.remote.webelement.WebElement (session=\"826bba43ac7a5eed6244af9a027fa0a0\", element=\"a90ecabf-d2cd-424c-a194-0510f1b70d01\")>,\n",
       " <selenium.webdriver.remote.webelement.WebElement (session=\"826bba43ac7a5eed6244af9a027fa0a0\", element=\"1e76fa36-cb2f-46a2-b36c-0d11e6078092\")>,\n",
       " <selenium.webdriver.remote.webelement.WebElement (session=\"826bba43ac7a5eed6244af9a027fa0a0\", element=\"d0a41124-db45-42e5-9b0a-05b3e8dd7596\")>,\n",
       " <selenium.webdriver.remote.webelement.WebElement (session=\"826bba43ac7a5eed6244af9a027fa0a0\", element=\"c12c634c-4e4d-469b-93d6-40749c3f26aa\")>,\n",
       " <selenium.webdriver.remote.webelement.WebElement (session=\"826bba43ac7a5eed6244af9a027fa0a0\", element=\"6d2fd3a9-9aac-4f6a-9ab3-7ca1a88939c6\")>,\n",
       " <selenium.webdriver.remote.webelement.WebElement (session=\"826bba43ac7a5eed6244af9a027fa0a0\", element=\"a33e5630-9afb-4bbe-8939-a015c61a580d\")>,\n",
       " <selenium.webdriver.remote.webelement.WebElement (session=\"826bba43ac7a5eed6244af9a027fa0a0\", element=\"a4d6480b-c362-48ae-a291-ff8d5761cab6\")>,\n",
       " <selenium.webdriver.remote.webelement.WebElement (session=\"826bba43ac7a5eed6244af9a027fa0a0\", element=\"43b63124-262b-45b3-a742-7584c69d0fc9\")>,\n",
       " <selenium.webdriver.remote.webelement.WebElement (session=\"826bba43ac7a5eed6244af9a027fa0a0\", element=\"2cfdf8f9-befe-4f29-827a-3f17b67fe27a\")>,\n",
       " <selenium.webdriver.remote.webelement.WebElement (session=\"826bba43ac7a5eed6244af9a027fa0a0\", element=\"cd2dca52-6266-4414-83da-e62c70bfd5e3\")>,\n",
       " <selenium.webdriver.remote.webelement.WebElement (session=\"826bba43ac7a5eed6244af9a027fa0a0\", element=\"7bd95e56-4a6a-472a-b688-27a48e84f5da\")>,\n",
       " <selenium.webdriver.remote.webelement.WebElement (session=\"826bba43ac7a5eed6244af9a027fa0a0\", element=\"2ce94745-02e3-404d-84c9-9327453225ea\")>,\n",
       " <selenium.webdriver.remote.webelement.WebElement (session=\"826bba43ac7a5eed6244af9a027fa0a0\", element=\"4fb50b07-606b-4679-90f4-a842a8429425\")>,\n",
       " <selenium.webdriver.remote.webelement.WebElement (session=\"826bba43ac7a5eed6244af9a027fa0a0\", element=\"7ad681bb-d14f-4e56-9436-feb503c8a839\")>,\n",
       " <selenium.webdriver.remote.webelement.WebElement (session=\"826bba43ac7a5eed6244af9a027fa0a0\", element=\"2d2c0b5d-1357-43b0-a24e-53a5fa41c7ac\")>,\n",
       " <selenium.webdriver.remote.webelement.WebElement (session=\"826bba43ac7a5eed6244af9a027fa0a0\", element=\"42b0c975-7bb2-4dae-84a7-9d16bd546af4\")>,\n",
       " <selenium.webdriver.remote.webelement.WebElement (session=\"826bba43ac7a5eed6244af9a027fa0a0\", element=\"93c8ad2f-e161-4152-9274-9ccff2e0df4c\")>,\n",
       " <selenium.webdriver.remote.webelement.WebElement (session=\"826bba43ac7a5eed6244af9a027fa0a0\", element=\"be73be51-2f2f-4937-a364-c97bf036c59b\")>,\n",
       " <selenium.webdriver.remote.webelement.WebElement (session=\"826bba43ac7a5eed6244af9a027fa0a0\", element=\"6c9ae0d3-cd2b-4c36-9c6a-14bec261cb07\")>,\n",
       " <selenium.webdriver.remote.webelement.WebElement (session=\"826bba43ac7a5eed6244af9a027fa0a0\", element=\"4ec2a4bd-d526-41d7-8529-70f6ce99f29f\")>,\n",
       " <selenium.webdriver.remote.webelement.WebElement (session=\"826bba43ac7a5eed6244af9a027fa0a0\", element=\"a9e24656-7937-4b4f-893b-a487f41f2bf4\")>,\n",
       " <selenium.webdriver.remote.webelement.WebElement (session=\"826bba43ac7a5eed6244af9a027fa0a0\", element=\"1d191405-01e4-4159-9d5c-e43979176d27\")>,\n",
       " <selenium.webdriver.remote.webelement.WebElement (session=\"826bba43ac7a5eed6244af9a027fa0a0\", element=\"78d48ee4-3bc9-473b-afcf-a0c774b752d2\")>,\n",
       " <selenium.webdriver.remote.webelement.WebElement (session=\"826bba43ac7a5eed6244af9a027fa0a0\", element=\"ee3973de-459f-4653-95c9-bfad2cdb3fcd\")>,\n",
       " <selenium.webdriver.remote.webelement.WebElement (session=\"826bba43ac7a5eed6244af9a027fa0a0\", element=\"b0496f08-15df-4249-a760-eb5421b9ad36\")>,\n",
       " <selenium.webdriver.remote.webelement.WebElement (session=\"826bba43ac7a5eed6244af9a027fa0a0\", element=\"1b33402d-4164-4cc4-977e-55cc0fd7b60a\")>,\n",
       " <selenium.webdriver.remote.webelement.WebElement (session=\"826bba43ac7a5eed6244af9a027fa0a0\", element=\"f2c4c11b-f188-42b2-b5b6-6d11936e4980\")>,\n",
       " <selenium.webdriver.remote.webelement.WebElement (session=\"826bba43ac7a5eed6244af9a027fa0a0\", element=\"1f820458-1e34-43f9-b268-3b999d841e7c\")>,\n",
       " <selenium.webdriver.remote.webelement.WebElement (session=\"826bba43ac7a5eed6244af9a027fa0a0\", element=\"95c6704d-f5fe-4aaa-ba32-292394be4c0a\")>,\n",
       " <selenium.webdriver.remote.webelement.WebElement (session=\"826bba43ac7a5eed6244af9a027fa0a0\", element=\"c8d352a6-07e5-45a1-9821-4ece279f413b\")>,\n",
       " <selenium.webdriver.remote.webelement.WebElement (session=\"826bba43ac7a5eed6244af9a027fa0a0\", element=\"40b0e5e1-3fed-4f1b-9a62-f6abc7de4c96\")>,\n",
       " <selenium.webdriver.remote.webelement.WebElement (session=\"826bba43ac7a5eed6244af9a027fa0a0\", element=\"321cb43d-ed05-4edf-8d51-61f0391dfc4a\")>,\n",
       " <selenium.webdriver.remote.webelement.WebElement (session=\"826bba43ac7a5eed6244af9a027fa0a0\", element=\"75eed6a4-6217-4367-a3fe-7321fb240915\")>,\n",
       " <selenium.webdriver.remote.webelement.WebElement (session=\"826bba43ac7a5eed6244af9a027fa0a0\", element=\"9862bda9-304e-4f18-8b18-98247913a39d\")>,\n",
       " <selenium.webdriver.remote.webelement.WebElement (session=\"826bba43ac7a5eed6244af9a027fa0a0\", element=\"b60da373-a814-4273-a03f-f4b0ef980ea2\")>,\n",
       " <selenium.webdriver.remote.webelement.WebElement (session=\"826bba43ac7a5eed6244af9a027fa0a0\", element=\"ec2a8dfd-529e-45ea-af34-5f93f932557d\")>,\n",
       " <selenium.webdriver.remote.webelement.WebElement (session=\"826bba43ac7a5eed6244af9a027fa0a0\", element=\"831b953d-aa77-4c42-ad0c-7ebff0ad6cbe\")>,\n",
       " <selenium.webdriver.remote.webelement.WebElement (session=\"826bba43ac7a5eed6244af9a027fa0a0\", element=\"6595f3b6-31e2-4dfd-927a-5297d6d8cced\")>,\n",
       " <selenium.webdriver.remote.webelement.WebElement (session=\"826bba43ac7a5eed6244af9a027fa0a0\", element=\"10e2cbd5-45fb-4a0e-b9c5-48176d73d9e1\")>,\n",
       " <selenium.webdriver.remote.webelement.WebElement (session=\"826bba43ac7a5eed6244af9a027fa0a0\", element=\"e162517b-86a0-40d5-8bc2-700fd00392b8\")>,\n",
       " <selenium.webdriver.remote.webelement.WebElement (session=\"826bba43ac7a5eed6244af9a027fa0a0\", element=\"f7aea5c9-a66b-4590-b237-e62cb3df466d\")>,\n",
       " <selenium.webdriver.remote.webelement.WebElement (session=\"826bba43ac7a5eed6244af9a027fa0a0\", element=\"debbc75e-23f5-4c1a-ba1d-287517a15579\")>,\n",
       " <selenium.webdriver.remote.webelement.WebElement (session=\"826bba43ac7a5eed6244af9a027fa0a0\", element=\"3285f387-3553-430e-81cb-88bf50cf557e\")>,\n",
       " <selenium.webdriver.remote.webelement.WebElement (session=\"826bba43ac7a5eed6244af9a027fa0a0\", element=\"3dc1a7b3-47d2-4a67-87d7-50fd230a6c1a\")>,\n",
       " <selenium.webdriver.remote.webelement.WebElement (session=\"826bba43ac7a5eed6244af9a027fa0a0\", element=\"0c545d40-fa17-4f58-be62-508f5cb01095\")>,\n",
       " <selenium.webdriver.remote.webelement.WebElement (session=\"826bba43ac7a5eed6244af9a027fa0a0\", element=\"0437ab31-d5a6-4353-9f8e-75ce67a99692\")>,\n",
       " <selenium.webdriver.remote.webelement.WebElement (session=\"826bba43ac7a5eed6244af9a027fa0a0\", element=\"e2b9beda-5571-46a0-a1ed-0a494ffe3aa9\")>,\n",
       " <selenium.webdriver.remote.webelement.WebElement (session=\"826bba43ac7a5eed6244af9a027fa0a0\", element=\"11c40d41-7c46-40e6-84ec-832bcdb3034a\")>,\n",
       " <selenium.webdriver.remote.webelement.WebElement (session=\"826bba43ac7a5eed6244af9a027fa0a0\", element=\"9a59ecdc-47e1-4419-aebb-bd0a82c182db\")>,\n",
       " <selenium.webdriver.remote.webelement.WebElement (session=\"826bba43ac7a5eed6244af9a027fa0a0\", element=\"6d3d7132-8888-41c2-b2f2-8f59e1810baf\")>,\n",
       " <selenium.webdriver.remote.webelement.WebElement (session=\"826bba43ac7a5eed6244af9a027fa0a0\", element=\"3b96a4c2-1586-499b-81be-e3cb7c13a31a\")>,\n",
       " <selenium.webdriver.remote.webelement.WebElement (session=\"826bba43ac7a5eed6244af9a027fa0a0\", element=\"3cba5c23-29b6-4c00-b336-2c7d8333e88c\")>,\n",
       " <selenium.webdriver.remote.webelement.WebElement (session=\"826bba43ac7a5eed6244af9a027fa0a0\", element=\"0d95c4b0-0ff2-4dcc-a620-46230b7ba902\")>,\n",
       " <selenium.webdriver.remote.webelement.WebElement (session=\"826bba43ac7a5eed6244af9a027fa0a0\", element=\"cfc9bf36-02ed-45c7-a4a1-337a151fb99a\")>,\n",
       " <selenium.webdriver.remote.webelement.WebElement (session=\"826bba43ac7a5eed6244af9a027fa0a0\", element=\"46f1c550-4c43-47e5-b4d9-d6a072c6309f\")>,\n",
       " <selenium.webdriver.remote.webelement.WebElement (session=\"826bba43ac7a5eed6244af9a027fa0a0\", element=\"ab113a3b-bdd4-4bd6-8a19-030798d30ee6\")>,\n",
       " <selenium.webdriver.remote.webelement.WebElement (session=\"826bba43ac7a5eed6244af9a027fa0a0\", element=\"4cc414ba-d704-4a76-a512-3970d4e8948c\")>,\n",
       " <selenium.webdriver.remote.webelement.WebElement (session=\"826bba43ac7a5eed6244af9a027fa0a0\", element=\"dd72e55e-8aee-4492-a0a1-c723bae7d356\")>,\n",
       " <selenium.webdriver.remote.webelement.WebElement (session=\"826bba43ac7a5eed6244af9a027fa0a0\", element=\"f3ae9723-2143-42e1-9826-34fdaffbace7\")>,\n",
       " <selenium.webdriver.remote.webelement.WebElement (session=\"826bba43ac7a5eed6244af9a027fa0a0\", element=\"f852ae5d-e03d-4b5c-9ee4-198af11eebda\")>,\n",
       " <selenium.webdriver.remote.webelement.WebElement (session=\"826bba43ac7a5eed6244af9a027fa0a0\", element=\"4ab9e11a-6483-4aaf-895c-894826a6febb\")>,\n",
       " <selenium.webdriver.remote.webelement.WebElement (session=\"826bba43ac7a5eed6244af9a027fa0a0\", element=\"5cfd1a31-d4bd-42c5-a3bf-3db3aa409422\")>,\n",
       " <selenium.webdriver.remote.webelement.WebElement (session=\"826bba43ac7a5eed6244af9a027fa0a0\", element=\"117c77bb-4634-4c9e-bce0-3bba757c4d88\")>,\n",
       " <selenium.webdriver.remote.webelement.WebElement (session=\"826bba43ac7a5eed6244af9a027fa0a0\", element=\"ebd29de2-a5e7-4e1c-b0a0-0ce6d96d1b20\")>,\n",
       " <selenium.webdriver.remote.webelement.WebElement (session=\"826bba43ac7a5eed6244af9a027fa0a0\", element=\"935ef95d-1b12-46ee-a81c-561d87f55a66\")>,\n",
       " <selenium.webdriver.remote.webelement.WebElement (session=\"826bba43ac7a5eed6244af9a027fa0a0\", element=\"d09fe389-6332-4385-bdf8-50322a5090bf\")>,\n",
       " <selenium.webdriver.remote.webelement.WebElement (session=\"826bba43ac7a5eed6244af9a027fa0a0\", element=\"b2d7ed23-d8b1-4580-a8a4-171fb1bfc74a\")>,\n",
       " <selenium.webdriver.remote.webelement.WebElement (session=\"826bba43ac7a5eed6244af9a027fa0a0\", element=\"6c956122-1e48-453f-b39e-aef2a2f64917\")>,\n",
       " <selenium.webdriver.remote.webelement.WebElement (session=\"826bba43ac7a5eed6244af9a027fa0a0\", element=\"9365c407-bc83-4de7-b3c9-5374a59002e2\")>,\n",
       " <selenium.webdriver.remote.webelement.WebElement (session=\"826bba43ac7a5eed6244af9a027fa0a0\", element=\"be23b537-27d3-41c7-b04f-43d062ff7179\")>,\n",
       " <selenium.webdriver.remote.webelement.WebElement (session=\"826bba43ac7a5eed6244af9a027fa0a0\", element=\"a331ffaa-e886-491e-a7bb-025cd4f0714b\")>,\n",
       " <selenium.webdriver.remote.webelement.WebElement (session=\"826bba43ac7a5eed6244af9a027fa0a0\", element=\"ece1d166-0cb1-46a6-9ab5-21bd9fa7ccb6\")>,\n",
       " <selenium.webdriver.remote.webelement.WebElement (session=\"826bba43ac7a5eed6244af9a027fa0a0\", element=\"a3a3cfd3-a274-4ded-88f3-2d6be1aa37b2\")>,\n",
       " <selenium.webdriver.remote.webelement.WebElement (session=\"826bba43ac7a5eed6244af9a027fa0a0\", element=\"7d3ef862-1eb9-42c6-b115-73673ffe969b\")>,\n",
       " <selenium.webdriver.remote.webelement.WebElement (session=\"826bba43ac7a5eed6244af9a027fa0a0\", element=\"6a62dbbe-aaa1-4082-8341-c54e405ee114\")>,\n",
       " <selenium.webdriver.remote.webelement.WebElement (session=\"826bba43ac7a5eed6244af9a027fa0a0\", element=\"0b55b350-5e4f-4c14-89e5-64b88fc4a1ea\")>,\n",
       " <selenium.webdriver.remote.webelement.WebElement (session=\"826bba43ac7a5eed6244af9a027fa0a0\", element=\"2e4b28db-ce4e-410a-aa6e-7cb2425a2e32\")>,\n",
       " <selenium.webdriver.remote.webelement.WebElement (session=\"826bba43ac7a5eed6244af9a027fa0a0\", element=\"55c38393-fb94-4b03-8d22-084e0f3a7a8b\")>,\n",
       " <selenium.webdriver.remote.webelement.WebElement (session=\"826bba43ac7a5eed6244af9a027fa0a0\", element=\"a280424b-06ec-4d96-a91d-5390142a16a1\")>,\n",
       " <selenium.webdriver.remote.webelement.WebElement (session=\"826bba43ac7a5eed6244af9a027fa0a0\", element=\"c90bf0bf-408d-4ba0-b965-28a21620793f\")>,\n",
       " <selenium.webdriver.remote.webelement.WebElement (session=\"826bba43ac7a5eed6244af9a027fa0a0\", element=\"5b9f9080-3057-424b-956b-7da63810d7a2\")>,\n",
       " <selenium.webdriver.remote.webelement.WebElement (session=\"826bba43ac7a5eed6244af9a027fa0a0\", element=\"c514743d-3acd-4e4c-b38a-cadfe21eef73\")>,\n",
       " <selenium.webdriver.remote.webelement.WebElement (session=\"826bba43ac7a5eed6244af9a027fa0a0\", element=\"b6dfbca0-2c15-4dac-8738-379c6c37d6ad\")>,\n",
       " <selenium.webdriver.remote.webelement.WebElement (session=\"826bba43ac7a5eed6244af9a027fa0a0\", element=\"8869c7d6-8c95-4b5a-bcbc-62b34d987cde\")>,\n",
       " <selenium.webdriver.remote.webelement.WebElement (session=\"826bba43ac7a5eed6244af9a027fa0a0\", element=\"f34fb52d-b39f-403a-b10e-b78628eec4b6\")>,\n",
       " <selenium.webdriver.remote.webelement.WebElement (session=\"826bba43ac7a5eed6244af9a027fa0a0\", element=\"4998339e-d404-4e6f-a188-cd80a337010e\")>,\n",
       " <selenium.webdriver.remote.webelement.WebElement (session=\"826bba43ac7a5eed6244af9a027fa0a0\", element=\"09f737ef-dd48-4ca3-97f2-c260871d1a38\")>,\n",
       " <selenium.webdriver.remote.webelement.WebElement (session=\"826bba43ac7a5eed6244af9a027fa0a0\", element=\"c06e4632-7ec0-46b4-a7b1-6c6ee82d44a2\")>,\n",
       " <selenium.webdriver.remote.webelement.WebElement (session=\"826bba43ac7a5eed6244af9a027fa0a0\", element=\"06ea153b-f0e5-47c0-a7ea-752abb2d80e7\")>,\n",
       " <selenium.webdriver.remote.webelement.WebElement (session=\"826bba43ac7a5eed6244af9a027fa0a0\", element=\"84d0106d-855a-423b-a2d5-984d5f89bc92\")>,\n",
       " <selenium.webdriver.remote.webelement.WebElement (session=\"826bba43ac7a5eed6244af9a027fa0a0\", element=\"a77ad838-6cd0-4981-9826-bb1586305ec5\")>,\n",
       " <selenium.webdriver.remote.webelement.WebElement (session=\"826bba43ac7a5eed6244af9a027fa0a0\", element=\"f0e88137-4c63-41f4-88b9-aaee9d65bad7\")>,\n",
       " <selenium.webdriver.remote.webelement.WebElement (session=\"826bba43ac7a5eed6244af9a027fa0a0\", element=\"fd33bd08-7600-4fc6-badb-66f52f6120bc\")>,\n",
       " <selenium.webdriver.remote.webelement.WebElement (session=\"826bba43ac7a5eed6244af9a027fa0a0\", element=\"1afbd092-b1e6-4f67-ba8c-b8b3bd7e4fd9\")>,\n",
       " <selenium.webdriver.remote.webelement.WebElement (session=\"826bba43ac7a5eed6244af9a027fa0a0\", element=\"56077d21-8b87-4fbf-87f4-408bafb8edc6\")>,\n",
       " <selenium.webdriver.remote.webelement.WebElement (session=\"826bba43ac7a5eed6244af9a027fa0a0\", element=\"0d83f8f0-3062-4f38-a65a-d41d470bd6db\")>,\n",
       " <selenium.webdriver.remote.webelement.WebElement (session=\"826bba43ac7a5eed6244af9a027fa0a0\", element=\"8e7ee7d3-ba80-495c-bae7-cb4d08e730b4\")>,\n",
       " <selenium.webdriver.remote.webelement.WebElement (session=\"826bba43ac7a5eed6244af9a027fa0a0\", element=\"44a7a6fa-0837-461d-99d2-52e5a13e813b\")>,\n",
       " <selenium.webdriver.remote.webelement.WebElement (session=\"826bba43ac7a5eed6244af9a027fa0a0\", element=\"78257531-2b4a-4f6e-bb4d-52e3159f31ef\")>,\n",
       " <selenium.webdriver.remote.webelement.WebElement (session=\"826bba43ac7a5eed6244af9a027fa0a0\", element=\"0b66bbf0-0541-4448-a294-b6c459eec6ed\")>,\n",
       " <selenium.webdriver.remote.webelement.WebElement (session=\"826bba43ac7a5eed6244af9a027fa0a0\", element=\"29562f73-aff0-4a3d-a85b-543bfe9d36ae\")>,\n",
       " <selenium.webdriver.remote.webelement.WebElement (session=\"826bba43ac7a5eed6244af9a027fa0a0\", element=\"3bcbfd9f-b039-40cc-893f-b2a7ebd66777\")>,\n",
       " <selenium.webdriver.remote.webelement.WebElement (session=\"826bba43ac7a5eed6244af9a027fa0a0\", element=\"e5d0a048-cd7c-4a3f-828d-b2bb894117e5\")>,\n",
       " <selenium.webdriver.remote.webelement.WebElement (session=\"826bba43ac7a5eed6244af9a027fa0a0\", element=\"68630f81-33fe-4f7f-8237-f640a97aa00e\")>,\n",
       " <selenium.webdriver.remote.webelement.WebElement (session=\"826bba43ac7a5eed6244af9a027fa0a0\", element=\"95ba484b-5d22-4260-873c-9a22227eaa0a\")>,\n",
       " <selenium.webdriver.remote.webelement.WebElement (session=\"826bba43ac7a5eed6244af9a027fa0a0\", element=\"4d457d29-51b7-4f29-a71d-fedd7feb056f\")>,\n",
       " <selenium.webdriver.remote.webelement.WebElement (session=\"826bba43ac7a5eed6244af9a027fa0a0\", element=\"8243b946-2b6b-4fd7-a2b3-2164df2fc200\")>,\n",
       " <selenium.webdriver.remote.webelement.WebElement (session=\"826bba43ac7a5eed6244af9a027fa0a0\", element=\"9587c6c4-86de-465a-a3e1-403c9027b3b8\")>,\n",
       " <selenium.webdriver.remote.webelement.WebElement (session=\"826bba43ac7a5eed6244af9a027fa0a0\", element=\"15dbbf6f-0c18-472b-bc26-6d2bb5de2c91\")>,\n",
       " <selenium.webdriver.remote.webelement.WebElement (session=\"826bba43ac7a5eed6244af9a027fa0a0\", element=\"456630b5-f171-4295-baa1-a7b4585f6b58\")>,\n",
       " <selenium.webdriver.remote.webelement.WebElement (session=\"826bba43ac7a5eed6244af9a027fa0a0\", element=\"fc7780fa-5a96-48c8-8093-ff08c3bc591c\")>,\n",
       " <selenium.webdriver.remote.webelement.WebElement (session=\"826bba43ac7a5eed6244af9a027fa0a0\", element=\"3d20baaf-ad28-4f87-b5b3-60f19e2fc302\")>,\n",
       " <selenium.webdriver.remote.webelement.WebElement (session=\"826bba43ac7a5eed6244af9a027fa0a0\", element=\"da284793-763e-407b-a29d-f09ab45f2367\")>,\n",
       " <selenium.webdriver.remote.webelement.WebElement (session=\"826bba43ac7a5eed6244af9a027fa0a0\", element=\"12595099-afc1-48ec-87fe-152f74ca4db6\")>,\n",
       " <selenium.webdriver.remote.webelement.WebElement (session=\"826bba43ac7a5eed6244af9a027fa0a0\", element=\"5f0042c7-bb8b-47e1-bb91-229b5128e151\")>,\n",
       " <selenium.webdriver.remote.webelement.WebElement (session=\"826bba43ac7a5eed6244af9a027fa0a0\", element=\"5a8a7202-f6cf-425b-ba66-310b65899414\")>,\n",
       " <selenium.webdriver.remote.webelement.WebElement (session=\"826bba43ac7a5eed6244af9a027fa0a0\", element=\"91a9ce6c-ca4d-4a88-80a6-29fb6d959f53\")>,\n",
       " <selenium.webdriver.remote.webelement.WebElement (session=\"826bba43ac7a5eed6244af9a027fa0a0\", element=\"aed0aa05-6a54-4c3c-b6a6-56215d097f05\")>,\n",
       " <selenium.webdriver.remote.webelement.WebElement (session=\"826bba43ac7a5eed6244af9a027fa0a0\", element=\"e422f6ca-1eca-4be5-b13e-cad447077702\")>,\n",
       " <selenium.webdriver.remote.webelement.WebElement (session=\"826bba43ac7a5eed6244af9a027fa0a0\", element=\"ba7e172b-5ff4-491a-b2ae-c37bce8b89a4\")>,\n",
       " <selenium.webdriver.remote.webelement.WebElement (session=\"826bba43ac7a5eed6244af9a027fa0a0\", element=\"04e453db-231c-4d77-a906-a8afc6551e1e\")>,\n",
       " <selenium.webdriver.remote.webelement.WebElement (session=\"826bba43ac7a5eed6244af9a027fa0a0\", element=\"bf65d944-fe3c-4bec-a70c-126f2ae6fbb5\")>,\n",
       " <selenium.webdriver.remote.webelement.WebElement (session=\"826bba43ac7a5eed6244af9a027fa0a0\", element=\"6dbd42b4-03e0-43f8-a011-c246bf4306cf\")>,\n",
       " <selenium.webdriver.remote.webelement.WebElement (session=\"826bba43ac7a5eed6244af9a027fa0a0\", element=\"bcec40eb-e1cd-46a1-b991-f934d2f847b4\")>,\n",
       " <selenium.webdriver.remote.webelement.WebElement (session=\"826bba43ac7a5eed6244af9a027fa0a0\", element=\"1026b8fe-081b-41b6-8b7c-df406cfcfdb3\")>,\n",
       " <selenium.webdriver.remote.webelement.WebElement (session=\"826bba43ac7a5eed6244af9a027fa0a0\", element=\"123c6a00-b188-40c8-a521-29bbe5c471ab\")>,\n",
       " <selenium.webdriver.remote.webelement.WebElement (session=\"826bba43ac7a5eed6244af9a027fa0a0\", element=\"7972eba8-c6c1-4af2-a823-771e989dd9af\")>,\n",
       " <selenium.webdriver.remote.webelement.WebElement (session=\"826bba43ac7a5eed6244af9a027fa0a0\", element=\"0e9c5307-f5c4-428e-9931-44906abc4c0f\")>,\n",
       " <selenium.webdriver.remote.webelement.WebElement (session=\"826bba43ac7a5eed6244af9a027fa0a0\", element=\"7f51425c-36f9-4916-8b47-25bf4b9e966c\")>,\n",
       " <selenium.webdriver.remote.webelement.WebElement (session=\"826bba43ac7a5eed6244af9a027fa0a0\", element=\"608e591d-9fda-434f-b521-961905e789c3\")>,\n",
       " <selenium.webdriver.remote.webelement.WebElement (session=\"826bba43ac7a5eed6244af9a027fa0a0\", element=\"7a2a674b-42b3-4117-ae46-03a0345e24ca\")>,\n",
       " <selenium.webdriver.remote.webelement.WebElement (session=\"826bba43ac7a5eed6244af9a027fa0a0\", element=\"5ed14363-305b-44e8-b3e5-26680e5fea6c\")>,\n",
       " <selenium.webdriver.remote.webelement.WebElement (session=\"826bba43ac7a5eed6244af9a027fa0a0\", element=\"71d042e4-53a8-4911-b075-350f919f29b4\")>,\n",
       " <selenium.webdriver.remote.webelement.WebElement (session=\"826bba43ac7a5eed6244af9a027fa0a0\", element=\"5740d935-c0fb-45e7-a5f6-4affc3565a6c\")>,\n",
       " <selenium.webdriver.remote.webelement.WebElement (session=\"826bba43ac7a5eed6244af9a027fa0a0\", element=\"bc26f468-ea85-4703-8016-7b61461732e9\")>,\n",
       " <selenium.webdriver.remote.webelement.WebElement (session=\"826bba43ac7a5eed6244af9a027fa0a0\", element=\"7353fa14-ed69-4e0c-86a4-af1e2b78f71d\")>,\n",
       " <selenium.webdriver.remote.webelement.WebElement (session=\"826bba43ac7a5eed6244af9a027fa0a0\", element=\"ec27da67-49ba-443e-82c2-4b738b15e1b7\")>,\n",
       " <selenium.webdriver.remote.webelement.WebElement (session=\"826bba43ac7a5eed6244af9a027fa0a0\", element=\"b1f30f76-b905-4c90-835b-0b97b1a4b0b5\")>,\n",
       " <selenium.webdriver.remote.webelement.WebElement (session=\"826bba43ac7a5eed6244af9a027fa0a0\", element=\"67a52c15-2f4e-45f7-909e-793971ee73dd\")>,\n",
       " <selenium.webdriver.remote.webelement.WebElement (session=\"826bba43ac7a5eed6244af9a027fa0a0\", element=\"36907580-9270-47fa-8ce8-d9aea648e22a\")>,\n",
       " <selenium.webdriver.remote.webelement.WebElement (session=\"826bba43ac7a5eed6244af9a027fa0a0\", element=\"da86d914-6c02-42a2-a662-c58efecca690\")>,\n",
       " <selenium.webdriver.remote.webelement.WebElement (session=\"826bba43ac7a5eed6244af9a027fa0a0\", element=\"e1436652-cff8-4a9e-99c5-d302b9ba4f94\")>,\n",
       " <selenium.webdriver.remote.webelement.WebElement (session=\"826bba43ac7a5eed6244af9a027fa0a0\", element=\"b4209cb1-4d5e-4efd-a6fc-f50b192d9188\")>,\n",
       " <selenium.webdriver.remote.webelement.WebElement (session=\"826bba43ac7a5eed6244af9a027fa0a0\", element=\"5873f27f-b3a7-4ab3-8096-4005cfc47b64\")>,\n",
       " <selenium.webdriver.remote.webelement.WebElement (session=\"826bba43ac7a5eed6244af9a027fa0a0\", element=\"1248b4c9-490c-4f1a-9e64-960e07889a4a\")>,\n",
       " <selenium.webdriver.remote.webelement.WebElement (session=\"826bba43ac7a5eed6244af9a027fa0a0\", element=\"7d71f355-f0e8-4740-925b-998fea55f0d8\")>,\n",
       " <selenium.webdriver.remote.webelement.WebElement (session=\"826bba43ac7a5eed6244af9a027fa0a0\", element=\"97cacb3b-90c5-4727-b1ab-621068e4eb5e\")>,\n",
       " <selenium.webdriver.remote.webelement.WebElement (session=\"826bba43ac7a5eed6244af9a027fa0a0\", element=\"c612a423-d7f3-445a-a960-cadd2862dbe6\")>,\n",
       " <selenium.webdriver.remote.webelement.WebElement (session=\"826bba43ac7a5eed6244af9a027fa0a0\", element=\"4d75774c-32d6-43d6-8f63-0dceed36c9a7\")>,\n",
       " <selenium.webdriver.remote.webelement.WebElement (session=\"826bba43ac7a5eed6244af9a027fa0a0\", element=\"6b458ff3-8df4-42f6-a80b-fc34f5777631\")>,\n",
       " <selenium.webdriver.remote.webelement.WebElement (session=\"826bba43ac7a5eed6244af9a027fa0a0\", element=\"f141fc67-6982-4867-aa2d-0534ada93e21\")>,\n",
       " <selenium.webdriver.remote.webelement.WebElement (session=\"826bba43ac7a5eed6244af9a027fa0a0\", element=\"8a3c4af0-7993-4f06-9282-9add4d44d67e\")>,\n",
       " <selenium.webdriver.remote.webelement.WebElement (session=\"826bba43ac7a5eed6244af9a027fa0a0\", element=\"d3a97635-82b3-4881-b9e7-d7b9c8e0e0d6\")>,\n",
       " <selenium.webdriver.remote.webelement.WebElement (session=\"826bba43ac7a5eed6244af9a027fa0a0\", element=\"266cb4d9-4789-4e37-8559-4e00676e2f80\")>,\n",
       " <selenium.webdriver.remote.webelement.WebElement (session=\"826bba43ac7a5eed6244af9a027fa0a0\", element=\"80b958c8-05cf-41ca-96d0-5aa4592ef237\")>,\n",
       " <selenium.webdriver.remote.webelement.WebElement (session=\"826bba43ac7a5eed6244af9a027fa0a0\", element=\"ffd3c92c-0be8-4637-b0b5-1a4533b7a608\")>,\n",
       " <selenium.webdriver.remote.webelement.WebElement (session=\"826bba43ac7a5eed6244af9a027fa0a0\", element=\"9eae6630-b395-4ef7-bda4-05e85ccd4968\")>,\n",
       " <selenium.webdriver.remote.webelement.WebElement (session=\"826bba43ac7a5eed6244af9a027fa0a0\", element=\"7be5a373-3642-471b-9289-bff3610b8415\")>,\n",
       " <selenium.webdriver.remote.webelement.WebElement (session=\"826bba43ac7a5eed6244af9a027fa0a0\", element=\"72603ac2-e419-43ff-82b9-3ac0f8aeeb08\")>,\n",
       " <selenium.webdriver.remote.webelement.WebElement (session=\"826bba43ac7a5eed6244af9a027fa0a0\", element=\"cf0fb5cd-a6ed-43fc-bdf1-5267baedeef1\")>,\n",
       " <selenium.webdriver.remote.webelement.WebElement (session=\"826bba43ac7a5eed6244af9a027fa0a0\", element=\"3d776ab8-9a67-4246-8cb8-5dc0663f0b70\")>,\n",
       " <selenium.webdriver.remote.webelement.WebElement (session=\"826bba43ac7a5eed6244af9a027fa0a0\", element=\"4bb39c4a-8ff7-414a-8eeb-fed55910f166\")>,\n",
       " <selenium.webdriver.remote.webelement.WebElement (session=\"826bba43ac7a5eed6244af9a027fa0a0\", element=\"7a306a96-359e-4c1c-bf60-a679b9ee0fbf\")>,\n",
       " <selenium.webdriver.remote.webelement.WebElement (session=\"826bba43ac7a5eed6244af9a027fa0a0\", element=\"f45cfbd0-e8fa-4a13-8f15-8082b4a6cd2a\")>,\n",
       " <selenium.webdriver.remote.webelement.WebElement (session=\"826bba43ac7a5eed6244af9a027fa0a0\", element=\"c4dc1e0e-1a7e-438b-9b6b-03e4c9c91255\")>,\n",
       " <selenium.webdriver.remote.webelement.WebElement (session=\"826bba43ac7a5eed6244af9a027fa0a0\", element=\"990e0ecb-74fc-4cf8-bdeb-4599a3ff730d\")>,\n",
       " <selenium.webdriver.remote.webelement.WebElement (session=\"826bba43ac7a5eed6244af9a027fa0a0\", element=\"e109a620-5244-4478-bef5-0c03a184be91\")>,\n",
       " <selenium.webdriver.remote.webelement.WebElement (session=\"826bba43ac7a5eed6244af9a027fa0a0\", element=\"3675402c-20f6-4427-ba70-2d3e65f2c68b\")>,\n",
       " <selenium.webdriver.remote.webelement.WebElement (session=\"826bba43ac7a5eed6244af9a027fa0a0\", element=\"d9375dcf-cc39-4bc8-bb9e-70fc304b220a\")>,\n",
       " <selenium.webdriver.remote.webelement.WebElement (session=\"826bba43ac7a5eed6244af9a027fa0a0\", element=\"db0ff2c2-d57b-4dec-941a-e6b81e09d76f\")>,\n",
       " <selenium.webdriver.remote.webelement.WebElement (session=\"826bba43ac7a5eed6244af9a027fa0a0\", element=\"e550f0dd-b928-4089-b32a-68a8c5f4af0d\")>,\n",
       " <selenium.webdriver.remote.webelement.WebElement (session=\"826bba43ac7a5eed6244af9a027fa0a0\", element=\"6c566c6d-a987-4d94-9ab0-eb7b639818a1\")>,\n",
       " <selenium.webdriver.remote.webelement.WebElement (session=\"826bba43ac7a5eed6244af9a027fa0a0\", element=\"507b5dbf-8a81-43b4-b155-4b34c31c7654\")>,\n",
       " <selenium.webdriver.remote.webelement.WebElement (session=\"826bba43ac7a5eed6244af9a027fa0a0\", element=\"2be035e9-6adf-40de-8639-0851bbd41057\")>,\n",
       " <selenium.webdriver.remote.webelement.WebElement (session=\"826bba43ac7a5eed6244af9a027fa0a0\", element=\"d4dea57b-6791-466a-bb10-67bc9487c1c3\")>,\n",
       " <selenium.webdriver.remote.webelement.WebElement (session=\"826bba43ac7a5eed6244af9a027fa0a0\", element=\"d46bdf85-b111-47ce-8e45-78d808782a5b\")>,\n",
       " <selenium.webdriver.remote.webelement.WebElement (session=\"826bba43ac7a5eed6244af9a027fa0a0\", element=\"14cb1356-a057-4b7e-91f8-2bfbf9bf1977\")>,\n",
       " <selenium.webdriver.remote.webelement.WebElement (session=\"826bba43ac7a5eed6244af9a027fa0a0\", element=\"10a9c53c-3d06-4e22-a562-e3f26c7b667f\")>,\n",
       " <selenium.webdriver.remote.webelement.WebElement (session=\"826bba43ac7a5eed6244af9a027fa0a0\", element=\"7b50b62c-be7b-4ce8-9c4d-83804545dc59\")>,\n",
       " <selenium.webdriver.remote.webelement.WebElement (session=\"826bba43ac7a5eed6244af9a027fa0a0\", element=\"aebcc7b4-d0b1-40ea-be6b-45db97474c93\")>,\n",
       " <selenium.webdriver.remote.webelement.WebElement (session=\"826bba43ac7a5eed6244af9a027fa0a0\", element=\"808deee4-a32e-4b49-b88a-80b7f94cd482\")>,\n",
       " <selenium.webdriver.remote.webelement.WebElement (session=\"826bba43ac7a5eed6244af9a027fa0a0\", element=\"4229fa94-b147-443d-88c6-156becbc5d30\")>,\n",
       " <selenium.webdriver.remote.webelement.WebElement (session=\"826bba43ac7a5eed6244af9a027fa0a0\", element=\"53e377f4-fc0b-4793-b6e5-375657a88cad\")>,\n",
       " <selenium.webdriver.remote.webelement.WebElement (session=\"826bba43ac7a5eed6244af9a027fa0a0\", element=\"df6fb4a7-1259-40a9-83f0-f33fe774849f\")>,\n",
       " <selenium.webdriver.remote.webelement.WebElement (session=\"826bba43ac7a5eed6244af9a027fa0a0\", element=\"8c96a746-0753-4a7c-84dc-50a315d0e082\")>,\n",
       " <selenium.webdriver.remote.webelement.WebElement (session=\"826bba43ac7a5eed6244af9a027fa0a0\", element=\"c951f45c-a577-4b39-8049-86e612b68d36\")>,\n",
       " <selenium.webdriver.remote.webelement.WebElement (session=\"826bba43ac7a5eed6244af9a027fa0a0\", element=\"bf74da75-1674-4b90-8874-7d24e8626084\")>,\n",
       " <selenium.webdriver.remote.webelement.WebElement (session=\"826bba43ac7a5eed6244af9a027fa0a0\", element=\"f6f0862a-b8ea-40c5-8d8a-a9a5f1850d53\")>,\n",
       " <selenium.webdriver.remote.webelement.WebElement (session=\"826bba43ac7a5eed6244af9a027fa0a0\", element=\"0cf68565-e1a2-4ec8-966f-ba91a6eaf9e2\")>,\n",
       " <selenium.webdriver.remote.webelement.WebElement (session=\"826bba43ac7a5eed6244af9a027fa0a0\", element=\"8fbb3790-02fe-454a-9a80-53ee4386d134\")>,\n",
       " <selenium.webdriver.remote.webelement.WebElement (session=\"826bba43ac7a5eed6244af9a027fa0a0\", element=\"85e2b3ec-8512-4cc6-9b4e-c4625acc2b00\")>,\n",
       " <selenium.webdriver.remote.webelement.WebElement (session=\"826bba43ac7a5eed6244af9a027fa0a0\", element=\"9538aa2c-6e85-4667-bfeb-9c06d3e81230\")>,\n",
       " <selenium.webdriver.remote.webelement.WebElement (session=\"826bba43ac7a5eed6244af9a027fa0a0\", element=\"6eb38298-1ff7-4bd2-87b9-3a622d5c45e3\")>,\n",
       " <selenium.webdriver.remote.webelement.WebElement (session=\"826bba43ac7a5eed6244af9a027fa0a0\", element=\"e65e5722-8ba4-4801-b48b-8d0760a82378\")>,\n",
       " <selenium.webdriver.remote.webelement.WebElement (session=\"826bba43ac7a5eed6244af9a027fa0a0\", element=\"25b7a1e5-d355-4515-9cf8-d015952d366d\")>,\n",
       " <selenium.webdriver.remote.webelement.WebElement (session=\"826bba43ac7a5eed6244af9a027fa0a0\", element=\"81e9b497-eb84-4b1a-ad5e-16528bb63581\")>,\n",
       " <selenium.webdriver.remote.webelement.WebElement (session=\"826bba43ac7a5eed6244af9a027fa0a0\", element=\"62edb810-9f27-4789-a56e-7abba95feeb6\")>,\n",
       " <selenium.webdriver.remote.webelement.WebElement (session=\"826bba43ac7a5eed6244af9a027fa0a0\", element=\"df2f4ff2-79f9-4703-af88-19d7d9b14b90\")>,\n",
       " <selenium.webdriver.remote.webelement.WebElement (session=\"826bba43ac7a5eed6244af9a027fa0a0\", element=\"b0f4f6c7-f55b-4c86-b9f4-d1c8ac623b9c\")>,\n",
       " <selenium.webdriver.remote.webelement.WebElement (session=\"826bba43ac7a5eed6244af9a027fa0a0\", element=\"8934341e-81eb-47c6-84d8-3b396bf47d67\")>,\n",
       " <selenium.webdriver.remote.webelement.WebElement (session=\"826bba43ac7a5eed6244af9a027fa0a0\", element=\"8c4603bb-fb38-4cb4-a968-a08c7808a849\")>,\n",
       " <selenium.webdriver.remote.webelement.WebElement (session=\"826bba43ac7a5eed6244af9a027fa0a0\", element=\"8988c2f3-42de-41c2-87db-3e0f62131569\")>,\n",
       " <selenium.webdriver.remote.webelement.WebElement (session=\"826bba43ac7a5eed6244af9a027fa0a0\", element=\"eb2c7ff2-8c84-4124-8188-959eef9ca828\")>,\n",
       " <selenium.webdriver.remote.webelement.WebElement (session=\"826bba43ac7a5eed6244af9a027fa0a0\", element=\"52c2c8fc-c705-44dc-b76f-6764e45b3fa6\")>,\n",
       " <selenium.webdriver.remote.webelement.WebElement (session=\"826bba43ac7a5eed6244af9a027fa0a0\", element=\"0d2f2c79-4c77-4e43-994a-05be691ef8f2\")>,\n",
       " <selenium.webdriver.remote.webelement.WebElement (session=\"826bba43ac7a5eed6244af9a027fa0a0\", element=\"847a320a-e63e-4e50-9a26-331df5bee467\")>,\n",
       " <selenium.webdriver.remote.webelement.WebElement (session=\"826bba43ac7a5eed6244af9a027fa0a0\", element=\"0701d8cf-33c2-4435-ba10-e4105b644973\")>,\n",
       " <selenium.webdriver.remote.webelement.WebElement (session=\"826bba43ac7a5eed6244af9a027fa0a0\", element=\"6fd4c3b1-fa71-45f0-8627-49e3e0333fbb\")>,\n",
       " <selenium.webdriver.remote.webelement.WebElement (session=\"826bba43ac7a5eed6244af9a027fa0a0\", element=\"5c02af68-a49f-4a7f-9f6a-ae6155b047f2\")>,\n",
       " <selenium.webdriver.remote.webelement.WebElement (session=\"826bba43ac7a5eed6244af9a027fa0a0\", element=\"a6691b66-4f4a-42fc-b81d-592c7f8613a4\")>,\n",
       " <selenium.webdriver.remote.webelement.WebElement (session=\"826bba43ac7a5eed6244af9a027fa0a0\", element=\"034a1ebc-7c69-44c2-bc7d-9fcbe806d942\")>,\n",
       " <selenium.webdriver.remote.webelement.WebElement (session=\"826bba43ac7a5eed6244af9a027fa0a0\", element=\"4c6c6971-9235-4251-a5ac-8562310eb09b\")>,\n",
       " <selenium.webdriver.remote.webelement.WebElement (session=\"826bba43ac7a5eed6244af9a027fa0a0\", element=\"a0f3f9c7-0544-4dfe-b24f-5a5000426eb6\")>,\n",
       " <selenium.webdriver.remote.webelement.WebElement (session=\"826bba43ac7a5eed6244af9a027fa0a0\", element=\"930d15ac-1011-4be9-802e-ab6523608ca7\")>,\n",
       " <selenium.webdriver.remote.webelement.WebElement (session=\"826bba43ac7a5eed6244af9a027fa0a0\", element=\"9496e6ed-3490-4672-b759-d79780265fbb\")>,\n",
       " <selenium.webdriver.remote.webelement.WebElement (session=\"826bba43ac7a5eed6244af9a027fa0a0\", element=\"6c885337-ff45-44f0-acfd-87461314b16b\")>,\n",
       " <selenium.webdriver.remote.webelement.WebElement (session=\"826bba43ac7a5eed6244af9a027fa0a0\", element=\"b33103a4-dac2-48b7-8260-ff2fba6d2182\")>,\n",
       " <selenium.webdriver.remote.webelement.WebElement (session=\"826bba43ac7a5eed6244af9a027fa0a0\", element=\"b7340247-51da-4283-996e-1852aec6c650\")>,\n",
       " <selenium.webdriver.remote.webelement.WebElement (session=\"826bba43ac7a5eed6244af9a027fa0a0\", element=\"18f57c26-380c-4812-9049-b9ec5ad060a2\")>,\n",
       " <selenium.webdriver.remote.webelement.WebElement (session=\"826bba43ac7a5eed6244af9a027fa0a0\", element=\"ce1b123d-cd60-4f83-a4ad-275fb4fa774b\")>,\n",
       " <selenium.webdriver.remote.webelement.WebElement (session=\"826bba43ac7a5eed6244af9a027fa0a0\", element=\"f3cbcd54-9244-49ef-8fe0-a97c8f997d2a\")>,\n",
       " <selenium.webdriver.remote.webelement.WebElement (session=\"826bba43ac7a5eed6244af9a027fa0a0\", element=\"687c3b79-c85f-495f-8f74-346375ff74ef\")>,\n",
       " <selenium.webdriver.remote.webelement.WebElement (session=\"826bba43ac7a5eed6244af9a027fa0a0\", element=\"03c1c312-12e8-42e3-ba9f-239e516566ba\")>,\n",
       " <selenium.webdriver.remote.webelement.WebElement (session=\"826bba43ac7a5eed6244af9a027fa0a0\", element=\"7fa76742-8327-409b-9b2c-060d84187bdf\")>,\n",
       " <selenium.webdriver.remote.webelement.WebElement (session=\"826bba43ac7a5eed6244af9a027fa0a0\", element=\"1e590bb8-eb6b-4e1f-89d1-b9e78d8055c0\")>,\n",
       " <selenium.webdriver.remote.webelement.WebElement (session=\"826bba43ac7a5eed6244af9a027fa0a0\", element=\"1ce2d940-b0a6-4c87-87c1-53fcff0f2c01\")>,\n",
       " <selenium.webdriver.remote.webelement.WebElement (session=\"826bba43ac7a5eed6244af9a027fa0a0\", element=\"83a5384d-2d4f-4bcc-abf3-aad6af0ab2b0\")>,\n",
       " <selenium.webdriver.remote.webelement.WebElement (session=\"826bba43ac7a5eed6244af9a027fa0a0\", element=\"b05f898b-1bcd-44a8-b5bf-dcc079377b60\")>,\n",
       " <selenium.webdriver.remote.webelement.WebElement (session=\"826bba43ac7a5eed6244af9a027fa0a0\", element=\"331d4f7d-c22a-4db0-92b4-aca56431fc7a\")>,\n",
       " <selenium.webdriver.remote.webelement.WebElement (session=\"826bba43ac7a5eed6244af9a027fa0a0\", element=\"827eecd4-a76c-4ec2-8d0b-349ccb23e559\")>,\n",
       " <selenium.webdriver.remote.webelement.WebElement (session=\"826bba43ac7a5eed6244af9a027fa0a0\", element=\"6da010dd-0f13-437f-9ea2-c95c300c50d9\")>,\n",
       " <selenium.webdriver.remote.webelement.WebElement (session=\"826bba43ac7a5eed6244af9a027fa0a0\", element=\"11a128f1-f176-40d4-abb1-d9299cd71174\")>,\n",
       " <selenium.webdriver.remote.webelement.WebElement (session=\"826bba43ac7a5eed6244af9a027fa0a0\", element=\"b0d31b2f-bbee-49dd-8b5e-7a6007cffd5e\")>,\n",
       " <selenium.webdriver.remote.webelement.WebElement (session=\"826bba43ac7a5eed6244af9a027fa0a0\", element=\"99fc5e6e-ff22-4244-86fb-4c4754d497c7\")>,\n",
       " <selenium.webdriver.remote.webelement.WebElement (session=\"826bba43ac7a5eed6244af9a027fa0a0\", element=\"56170bf4-39c6-499f-8fd1-36e8ad6fd713\")>,\n",
       " <selenium.webdriver.remote.webelement.WebElement (session=\"826bba43ac7a5eed6244af9a027fa0a0\", element=\"66c4f566-b830-4344-8cb4-86e02a704739\")>,\n",
       " <selenium.webdriver.remote.webelement.WebElement (session=\"826bba43ac7a5eed6244af9a027fa0a0\", element=\"ddec51f7-522d-4784-b9e5-b147350e645a\")>,\n",
       " <selenium.webdriver.remote.webelement.WebElement (session=\"826bba43ac7a5eed6244af9a027fa0a0\", element=\"385c6ade-d052-4e9a-9d08-1537d7d896c1\")>,\n",
       " <selenium.webdriver.remote.webelement.WebElement (session=\"826bba43ac7a5eed6244af9a027fa0a0\", element=\"56b24d9a-d1b5-4345-befa-25a6986f6f78\")>,\n",
       " <selenium.webdriver.remote.webelement.WebElement (session=\"826bba43ac7a5eed6244af9a027fa0a0\", element=\"26d06e01-8b6c-4afd-a866-508f32e019a0\")>,\n",
       " <selenium.webdriver.remote.webelement.WebElement (session=\"826bba43ac7a5eed6244af9a027fa0a0\", element=\"d8e9dc0a-f471-4413-9138-be5e610131ae\")>,\n",
       " <selenium.webdriver.remote.webelement.WebElement (session=\"826bba43ac7a5eed6244af9a027fa0a0\", element=\"a2be46a9-aee9-4819-89ba-8281f535c48e\")>,\n",
       " <selenium.webdriver.remote.webelement.WebElement (session=\"826bba43ac7a5eed6244af9a027fa0a0\", element=\"21c58bec-f81f-4f82-ab3a-36a570d2658b\")>,\n",
       " <selenium.webdriver.remote.webelement.WebElement (session=\"826bba43ac7a5eed6244af9a027fa0a0\", element=\"9c676cc7-dd15-4333-a968-355c35de8d01\")>,\n",
       " <selenium.webdriver.remote.webelement.WebElement (session=\"826bba43ac7a5eed6244af9a027fa0a0\", element=\"e6852f8b-82a5-4f48-9c81-6554e4a56ba7\")>,\n",
       " <selenium.webdriver.remote.webelement.WebElement (session=\"826bba43ac7a5eed6244af9a027fa0a0\", element=\"f32ccd4a-c5d5-48f7-b057-4fa40a3f3352\")>,\n",
       " <selenium.webdriver.remote.webelement.WebElement (session=\"826bba43ac7a5eed6244af9a027fa0a0\", element=\"150818e2-0a2d-40dc-9bd0-b1a2f138cbcf\")>,\n",
       " <selenium.webdriver.remote.webelement.WebElement (session=\"826bba43ac7a5eed6244af9a027fa0a0\", element=\"5a0106ca-d802-4785-aa3d-e4ad6a7e9ae8\")>,\n",
       " <selenium.webdriver.remote.webelement.WebElement (session=\"826bba43ac7a5eed6244af9a027fa0a0\", element=\"d2c2ab5e-a5be-489b-afc0-9267fdee5b2e\")>,\n",
       " <selenium.webdriver.remote.webelement.WebElement (session=\"826bba43ac7a5eed6244af9a027fa0a0\", element=\"a2a7da03-8578-4d9f-b94a-b75e1fbe32be\")>,\n",
       " <selenium.webdriver.remote.webelement.WebElement (session=\"826bba43ac7a5eed6244af9a027fa0a0\", element=\"132b32f2-43b9-48b4-952e-625b334580d9\")>,\n",
       " <selenium.webdriver.remote.webelement.WebElement (session=\"826bba43ac7a5eed6244af9a027fa0a0\", element=\"bc2d538c-db28-4dd9-9f4e-2c2c18c493ed\")>,\n",
       " <selenium.webdriver.remote.webelement.WebElement (session=\"826bba43ac7a5eed6244af9a027fa0a0\", element=\"c4b5924e-da16-49bb-8d76-ad4174adb942\")>,\n",
       " <selenium.webdriver.remote.webelement.WebElement (session=\"826bba43ac7a5eed6244af9a027fa0a0\", element=\"6a688257-befd-4d53-8706-257b3abb83b5\")>,\n",
       " <selenium.webdriver.remote.webelement.WebElement (session=\"826bba43ac7a5eed6244af9a027fa0a0\", element=\"64d0fe19-cac5-48eb-9560-200f405b2dce\")>,\n",
       " <selenium.webdriver.remote.webelement.WebElement (session=\"826bba43ac7a5eed6244af9a027fa0a0\", element=\"f41964f0-57fd-4a3b-b75a-7399fa807f09\")>,\n",
       " <selenium.webdriver.remote.webelement.WebElement (session=\"826bba43ac7a5eed6244af9a027fa0a0\", element=\"02a4c355-ed7f-48b3-bd31-303bf7bb7e31\")>,\n",
       " <selenium.webdriver.remote.webelement.WebElement (session=\"826bba43ac7a5eed6244af9a027fa0a0\", element=\"f1ecf63e-9844-4097-81d4-0d2190a5d182\")>,\n",
       " <selenium.webdriver.remote.webelement.WebElement (session=\"826bba43ac7a5eed6244af9a027fa0a0\", element=\"db4de9fc-bd5a-422c-84c1-ffb8168bb590\")>,\n",
       " <selenium.webdriver.remote.webelement.WebElement (session=\"826bba43ac7a5eed6244af9a027fa0a0\", element=\"f9473405-3e16-4c98-b6cf-0cd39db9d2c2\")>,\n",
       " <selenium.webdriver.remote.webelement.WebElement (session=\"826bba43ac7a5eed6244af9a027fa0a0\", element=\"f267ae13-a252-4033-8d9a-0c3bbaaa268b\")>,\n",
       " <selenium.webdriver.remote.webelement.WebElement (session=\"826bba43ac7a5eed6244af9a027fa0a0\", element=\"fca4effb-eec6-47a6-82d3-36949215a16c\")>,\n",
       " <selenium.webdriver.remote.webelement.WebElement (session=\"826bba43ac7a5eed6244af9a027fa0a0\", element=\"aaab3b7e-c761-4317-937c-7239929b9cb3\")>,\n",
       " <selenium.webdriver.remote.webelement.WebElement (session=\"826bba43ac7a5eed6244af9a027fa0a0\", element=\"a93c2698-923d-4091-8af0-8bebe15cf939\")>,\n",
       " <selenium.webdriver.remote.webelement.WebElement (session=\"826bba43ac7a5eed6244af9a027fa0a0\", element=\"38c59e26-6601-4906-b838-e35c9796f7d5\")>,\n",
       " <selenium.webdriver.remote.webelement.WebElement (session=\"826bba43ac7a5eed6244af9a027fa0a0\", element=\"5943e841-304a-4e67-bf43-55c5fb4a5a4f\")>,\n",
       " <selenium.webdriver.remote.webelement.WebElement (session=\"826bba43ac7a5eed6244af9a027fa0a0\", element=\"96348d39-8403-4948-83ae-65e9d25fde49\")>,\n",
       " <selenium.webdriver.remote.webelement.WebElement (session=\"826bba43ac7a5eed6244af9a027fa0a0\", element=\"0b59f731-405f-4c3e-a7b8-b95fdf6979c6\")>,\n",
       " <selenium.webdriver.remote.webelement.WebElement (session=\"826bba43ac7a5eed6244af9a027fa0a0\", element=\"38a32058-20a7-4cb4-9a4a-bf1b1b8c94c4\")>,\n",
       " <selenium.webdriver.remote.webelement.WebElement (session=\"826bba43ac7a5eed6244af9a027fa0a0\", element=\"549724af-fd22-4ce5-9446-e4c3bce5f151\")>,\n",
       " <selenium.webdriver.remote.webelement.WebElement (session=\"826bba43ac7a5eed6244af9a027fa0a0\", element=\"c05b900b-d56f-4bf0-a4ff-38aba2287eee\")>,\n",
       " <selenium.webdriver.remote.webelement.WebElement (session=\"826bba43ac7a5eed6244af9a027fa0a0\", element=\"cb0ba502-8dfb-4a59-9780-03b4497f2d79\")>,\n",
       " <selenium.webdriver.remote.webelement.WebElement (session=\"826bba43ac7a5eed6244af9a027fa0a0\", element=\"93e37d4d-0e78-42db-935c-fbc0325a860d\")>,\n",
       " <selenium.webdriver.remote.webelement.WebElement (session=\"826bba43ac7a5eed6244af9a027fa0a0\", element=\"c9b83983-fa74-491f-9fc1-01e636569d59\")>,\n",
       " <selenium.webdriver.remote.webelement.WebElement (session=\"826bba43ac7a5eed6244af9a027fa0a0\", element=\"a5a77ce7-0fd4-4665-9714-fbb2f1444107\")>,\n",
       " <selenium.webdriver.remote.webelement.WebElement (session=\"826bba43ac7a5eed6244af9a027fa0a0\", element=\"059f76a5-301b-465f-88a1-e11f5b086351\")>,\n",
       " <selenium.webdriver.remote.webelement.WebElement (session=\"826bba43ac7a5eed6244af9a027fa0a0\", element=\"c8c26d1b-8a0c-4718-8a50-03ae3fdf3635\")>,\n",
       " <selenium.webdriver.remote.webelement.WebElement (session=\"826bba43ac7a5eed6244af9a027fa0a0\", element=\"cb01a549-40ac-4980-a0fa-c261688d126d\")>,\n",
       " <selenium.webdriver.remote.webelement.WebElement (session=\"826bba43ac7a5eed6244af9a027fa0a0\", element=\"03e8273d-474d-4077-8e4c-00ecb89fae1c\")>,\n",
       " <selenium.webdriver.remote.webelement.WebElement (session=\"826bba43ac7a5eed6244af9a027fa0a0\", element=\"80781b10-a196-413d-b39c-dabf28d0e84c\")>,\n",
       " <selenium.webdriver.remote.webelement.WebElement (session=\"826bba43ac7a5eed6244af9a027fa0a0\", element=\"d9d637f8-e13a-4ad8-9d49-a935660c4205\")>,\n",
       " <selenium.webdriver.remote.webelement.WebElement (session=\"826bba43ac7a5eed6244af9a027fa0a0\", element=\"34c229fc-a29a-44e9-9ff7-6e4b6c2462c6\")>,\n",
       " <selenium.webdriver.remote.webelement.WebElement (session=\"826bba43ac7a5eed6244af9a027fa0a0\", element=\"22173101-4136-42b0-a65a-11aa7729d631\")>,\n",
       " <selenium.webdriver.remote.webelement.WebElement (session=\"826bba43ac7a5eed6244af9a027fa0a0\", element=\"3792197a-f752-4a17-9571-f2582fc08304\")>,\n",
       " <selenium.webdriver.remote.webelement.WebElement (session=\"826bba43ac7a5eed6244af9a027fa0a0\", element=\"86eb7fb7-03fe-4452-bef9-6e355e25ef40\")>,\n",
       " <selenium.webdriver.remote.webelement.WebElement (session=\"826bba43ac7a5eed6244af9a027fa0a0\", element=\"7c86bdc4-c35e-42e4-991a-80c817950141\")>,\n",
       " <selenium.webdriver.remote.webelement.WebElement (session=\"826bba43ac7a5eed6244af9a027fa0a0\", element=\"6f892935-5596-40d7-b40a-d9d888ae2159\")>,\n",
       " <selenium.webdriver.remote.webelement.WebElement (session=\"826bba43ac7a5eed6244af9a027fa0a0\", element=\"c270b1a3-4573-4553-81b8-87411e21e5b1\")>,\n",
       " <selenium.webdriver.remote.webelement.WebElement (session=\"826bba43ac7a5eed6244af9a027fa0a0\", element=\"eb1a0b6f-5518-448e-ba4f-4647a62984be\")>,\n",
       " <selenium.webdriver.remote.webelement.WebElement (session=\"826bba43ac7a5eed6244af9a027fa0a0\", element=\"1798e6fe-477e-4e7c-bc6b-3b79029b9bf3\")>,\n",
       " <selenium.webdriver.remote.webelement.WebElement (session=\"826bba43ac7a5eed6244af9a027fa0a0\", element=\"a0016c36-544b-4a10-aa0b-b45c383ee0ae\")>,\n",
       " <selenium.webdriver.remote.webelement.WebElement (session=\"826bba43ac7a5eed6244af9a027fa0a0\", element=\"8f622bfd-c8f1-4ed0-b583-eafee0a2e300\")>,\n",
       " <selenium.webdriver.remote.webelement.WebElement (session=\"826bba43ac7a5eed6244af9a027fa0a0\", element=\"bdb52881-08ca-4780-b339-b40fec6bf175\")>,\n",
       " <selenium.webdriver.remote.webelement.WebElement (session=\"826bba43ac7a5eed6244af9a027fa0a0\", element=\"dec1285e-209f-4ba4-85a9-91b9f8d12ad0\")>,\n",
       " <selenium.webdriver.remote.webelement.WebElement (session=\"826bba43ac7a5eed6244af9a027fa0a0\", element=\"c9046dcd-8a94-497c-a0dc-c6de245173a0\")>,\n",
       " <selenium.webdriver.remote.webelement.WebElement (session=\"826bba43ac7a5eed6244af9a027fa0a0\", element=\"fd0a5b6b-2d7e-4c4a-b68c-76c0b036ccb6\")>,\n",
       " <selenium.webdriver.remote.webelement.WebElement (session=\"826bba43ac7a5eed6244af9a027fa0a0\", element=\"ab2bfde8-dfff-4686-862c-0961d43dfd90\")>,\n",
       " <selenium.webdriver.remote.webelement.WebElement (session=\"826bba43ac7a5eed6244af9a027fa0a0\", element=\"ec872a8d-c133-4576-ad68-ddcd99239ae7\")>,\n",
       " <selenium.webdriver.remote.webelement.WebElement (session=\"826bba43ac7a5eed6244af9a027fa0a0\", element=\"748eff26-7aeb-436b-860d-e1db45769752\")>,\n",
       " <selenium.webdriver.remote.webelement.WebElement (session=\"826bba43ac7a5eed6244af9a027fa0a0\", element=\"827e1410-0ce5-4868-93a6-3a43f24b4b36\")>,\n",
       " <selenium.webdriver.remote.webelement.WebElement (session=\"826bba43ac7a5eed6244af9a027fa0a0\", element=\"7b3f9556-807f-4611-a161-24d224f6aada\")>,\n",
       " <selenium.webdriver.remote.webelement.WebElement (session=\"826bba43ac7a5eed6244af9a027fa0a0\", element=\"fa5fb03f-5a7c-4172-95a1-681f6132747e\")>,\n",
       " <selenium.webdriver.remote.webelement.WebElement (session=\"826bba43ac7a5eed6244af9a027fa0a0\", element=\"8f452485-eca5-4c4d-9c65-d294789e52a4\")>,\n",
       " <selenium.webdriver.remote.webelement.WebElement (session=\"826bba43ac7a5eed6244af9a027fa0a0\", element=\"ad9dffb4-a2e2-4cdd-8c20-bafc2241d0b6\")>,\n",
       " <selenium.webdriver.remote.webelement.WebElement (session=\"826bba43ac7a5eed6244af9a027fa0a0\", element=\"3eab0bc2-b898-481e-b74d-3705d7fb4ae9\")>,\n",
       " <selenium.webdriver.remote.webelement.WebElement (session=\"826bba43ac7a5eed6244af9a027fa0a0\", element=\"c28b15ab-be85-4738-b44b-3737a65c090a\")>,\n",
       " <selenium.webdriver.remote.webelement.WebElement (session=\"826bba43ac7a5eed6244af9a027fa0a0\", element=\"1570e270-9717-4261-9193-4651eb27047a\")>,\n",
       " <selenium.webdriver.remote.webelement.WebElement (session=\"826bba43ac7a5eed6244af9a027fa0a0\", element=\"bddb1353-b26a-44ad-8a26-35afbc02d95a\")>,\n",
       " <selenium.webdriver.remote.webelement.WebElement (session=\"826bba43ac7a5eed6244af9a027fa0a0\", element=\"d64ace8c-06ca-44cb-9501-710be6811cfd\")>,\n",
       " <selenium.webdriver.remote.webelement.WebElement (session=\"826bba43ac7a5eed6244af9a027fa0a0\", element=\"4ca88243-e043-4cf0-b35b-39cad1aea257\")>,\n",
       " <selenium.webdriver.remote.webelement.WebElement (session=\"826bba43ac7a5eed6244af9a027fa0a0\", element=\"1ddaa1de-b7b6-401e-96c5-9829c439b180\")>,\n",
       " <selenium.webdriver.remote.webelement.WebElement (session=\"826bba43ac7a5eed6244af9a027fa0a0\", element=\"145d7221-7b76-46e1-bb67-7e03c65e571a\")>,\n",
       " <selenium.webdriver.remote.webelement.WebElement (session=\"826bba43ac7a5eed6244af9a027fa0a0\", element=\"858ecd3b-c6c5-4322-b9b1-50a3758f718c\")>,\n",
       " <selenium.webdriver.remote.webelement.WebElement (session=\"826bba43ac7a5eed6244af9a027fa0a0\", element=\"e988d88d-0b9c-4045-8c3d-bab75858b702\")>,\n",
       " <selenium.webdriver.remote.webelement.WebElement (session=\"826bba43ac7a5eed6244af9a027fa0a0\", element=\"a39a2d7d-2fff-4937-8489-c29b56296ef9\")>,\n",
       " <selenium.webdriver.remote.webelement.WebElement (session=\"826bba43ac7a5eed6244af9a027fa0a0\", element=\"97243309-11b1-4968-a912-42fd025a296b\")>,\n",
       " <selenium.webdriver.remote.webelement.WebElement (session=\"826bba43ac7a5eed6244af9a027fa0a0\", element=\"972b7b3d-a3b9-48e2-ad40-619f57d193b5\")>,\n",
       " <selenium.webdriver.remote.webelement.WebElement (session=\"826bba43ac7a5eed6244af9a027fa0a0\", element=\"02e22652-fd55-4e62-bf5d-c464490290b0\")>,\n",
       " <selenium.webdriver.remote.webelement.WebElement (session=\"826bba43ac7a5eed6244af9a027fa0a0\", element=\"0490b5c6-98e1-49ca-9282-bf201148f685\")>,\n",
       " <selenium.webdriver.remote.webelement.WebElement (session=\"826bba43ac7a5eed6244af9a027fa0a0\", element=\"095897e6-7936-4c0b-ac0d-bbe4f9ec7288\")>,\n",
       " <selenium.webdriver.remote.webelement.WebElement (session=\"826bba43ac7a5eed6244af9a027fa0a0\", element=\"f6f7e01d-324b-48f5-a174-24625a95ebe3\")>,\n",
       " <selenium.webdriver.remote.webelement.WebElement (session=\"826bba43ac7a5eed6244af9a027fa0a0\", element=\"7143e869-c655-49f0-8446-2654980c52e5\")>,\n",
       " <selenium.webdriver.remote.webelement.WebElement (session=\"826bba43ac7a5eed6244af9a027fa0a0\", element=\"baa061a6-7018-4a7b-bb60-ac85f7a50f51\")>,\n",
       " <selenium.webdriver.remote.webelement.WebElement (session=\"826bba43ac7a5eed6244af9a027fa0a0\", element=\"552ebbcb-ee17-4775-9674-c717059ab073\")>,\n",
       " <selenium.webdriver.remote.webelement.WebElement (session=\"826bba43ac7a5eed6244af9a027fa0a0\", element=\"a40695ee-3db1-46aa-ba08-2a10d6763e87\")>,\n",
       " <selenium.webdriver.remote.webelement.WebElement (session=\"826bba43ac7a5eed6244af9a027fa0a0\", element=\"9ebab3ce-b132-4cf1-9df7-e530b9e26db5\")>,\n",
       " <selenium.webdriver.remote.webelement.WebElement (session=\"826bba43ac7a5eed6244af9a027fa0a0\", element=\"0a210305-26ab-420c-b5ed-c1033e0c2303\")>,\n",
       " <selenium.webdriver.remote.webelement.WebElement (session=\"826bba43ac7a5eed6244af9a027fa0a0\", element=\"86513aba-0191-406e-9969-1e4e1e7b756a\")>,\n",
       " <selenium.webdriver.remote.webelement.WebElement (session=\"826bba43ac7a5eed6244af9a027fa0a0\", element=\"f2d5284b-6e23-4c65-a2fa-06e3517c25ee\")>,\n",
       " <selenium.webdriver.remote.webelement.WebElement (session=\"826bba43ac7a5eed6244af9a027fa0a0\", element=\"96dd9859-f257-43c2-938b-d1ca0ffc5e2c\")>,\n",
       " <selenium.webdriver.remote.webelement.WebElement (session=\"826bba43ac7a5eed6244af9a027fa0a0\", element=\"c8101e74-aee4-4d84-bc7c-892e73723bef\")>,\n",
       " <selenium.webdriver.remote.webelement.WebElement (session=\"826bba43ac7a5eed6244af9a027fa0a0\", element=\"a0b7d0ac-7350-4fda-9183-5beef6f69f8c\")>,\n",
       " <selenium.webdriver.remote.webelement.WebElement (session=\"826bba43ac7a5eed6244af9a027fa0a0\", element=\"dd458544-339f-45e3-937c-14ba21e50d16\")>,\n",
       " <selenium.webdriver.remote.webelement.WebElement (session=\"826bba43ac7a5eed6244af9a027fa0a0\", element=\"5f096e4d-04e5-436e-ac36-cce2d9973aff\")>,\n",
       " <selenium.webdriver.remote.webelement.WebElement (session=\"826bba43ac7a5eed6244af9a027fa0a0\", element=\"53fb1997-405a-4534-b06a-76cfcc6f500d\")>,\n",
       " <selenium.webdriver.remote.webelement.WebElement (session=\"826bba43ac7a5eed6244af9a027fa0a0\", element=\"74ecc39b-6d7b-4ded-90ac-45bd681d58f9\")>,\n",
       " <selenium.webdriver.remote.webelement.WebElement (session=\"826bba43ac7a5eed6244af9a027fa0a0\", element=\"f53967e8-74c9-405b-96ba-a0198f0d206e\")>,\n",
       " <selenium.webdriver.remote.webelement.WebElement (session=\"826bba43ac7a5eed6244af9a027fa0a0\", element=\"e95a9e25-1ece-471d-8b14-dea69a2babef\")>,\n",
       " <selenium.webdriver.remote.webelement.WebElement (session=\"826bba43ac7a5eed6244af9a027fa0a0\", element=\"06ae5394-140b-49f4-84d1-f803d3fc8b8e\")>,\n",
       " <selenium.webdriver.remote.webelement.WebElement (session=\"826bba43ac7a5eed6244af9a027fa0a0\", element=\"ea1a02ff-f36b-4541-89a6-f3fb4ebe4055\")>,\n",
       " <selenium.webdriver.remote.webelement.WebElement (session=\"826bba43ac7a5eed6244af9a027fa0a0\", element=\"6428b7b4-f0af-4906-a647-fda058053c5d\")>,\n",
       " <selenium.webdriver.remote.webelement.WebElement (session=\"826bba43ac7a5eed6244af9a027fa0a0\", element=\"cb41cd48-9e9c-4c63-add2-769fc3cd1c8f\")>,\n",
       " <selenium.webdriver.remote.webelement.WebElement (session=\"826bba43ac7a5eed6244af9a027fa0a0\", element=\"7ef1551a-eb07-419a-ab8c-2a09e682ff7b\")>,\n",
       " <selenium.webdriver.remote.webelement.WebElement (session=\"826bba43ac7a5eed6244af9a027fa0a0\", element=\"c24b8236-c9c9-4521-9058-28c42d45512d\")>,\n",
       " <selenium.webdriver.remote.webelement.WebElement (session=\"826bba43ac7a5eed6244af9a027fa0a0\", element=\"abdbbcca-cb5f-4641-b4b2-d5c6bbd9b88c\")>,\n",
       " <selenium.webdriver.remote.webelement.WebElement (session=\"826bba43ac7a5eed6244af9a027fa0a0\", element=\"ab603826-170b-44ad-a6b3-5e2c7d51cd15\")>,\n",
       " <selenium.webdriver.remote.webelement.WebElement (session=\"826bba43ac7a5eed6244af9a027fa0a0\", element=\"d6f66a6e-efde-4d51-83fc-f08d1aaa8c36\")>,\n",
       " <selenium.webdriver.remote.webelement.WebElement (session=\"826bba43ac7a5eed6244af9a027fa0a0\", element=\"99c41e46-c5e7-4eee-840b-6f0b13405637\")>,\n",
       " <selenium.webdriver.remote.webelement.WebElement (session=\"826bba43ac7a5eed6244af9a027fa0a0\", element=\"0cfde2f6-df0b-4f47-abbb-5f63079e24cf\")>,\n",
       " <selenium.webdriver.remote.webelement.WebElement (session=\"826bba43ac7a5eed6244af9a027fa0a0\", element=\"f1c9b169-cf83-4b0c-b342-94a98fda860e\")>,\n",
       " <selenium.webdriver.remote.webelement.WebElement (session=\"826bba43ac7a5eed6244af9a027fa0a0\", element=\"6bab10ff-6179-490a-a5f7-615918f3776e\")>,\n",
       " <selenium.webdriver.remote.webelement.WebElement (session=\"826bba43ac7a5eed6244af9a027fa0a0\", element=\"1258a2b6-095f-482b-9608-c3f8b1cfe29c\")>]"
      ]
     },
     "execution_count": 144,
     "metadata": {},
     "output_type": "execute_result"
    }
   ],
   "source": [
    "book_name=driver.find_elements_by_xpath('//td[@class=\"left\"]')\n",
    "book_name"
   ]
  },
  {
   "cell_type": "code",
   "execution_count": 145,
   "id": "00cf470b",
   "metadata": {},
   "outputs": [
    {
     "data": {
      "text/plain": [
       "[]"
      ]
     },
     "execution_count": 145,
     "metadata": {},
     "output_type": "execute_result"
    }
   ],
   "source": [
    "book_name=[]\n",
    "for i in book_name:\n",
    "    book_name.append(i.text)\n",
    "    \n",
    "book_name"
   ]
  },
  {
   "cell_type": "code",
   "execution_count": 146,
   "id": "6a996383",
   "metadata": {
    "scrolled": false
   },
   "outputs": [
    {
     "name": "stderr",
     "output_type": "stream",
     "text": [
      "<ipython-input-146-58324aa9ce49>:1: DeprecationWarning: find_elements_by_* commands are deprecated. Please use find_elements() instead\n",
      "  author_name=driver.find_elements_by_xpath('//td[@class=\"left\"]')\n"
     ]
    },
    {
     "data": {
      "text/plain": [
       "[<selenium.webdriver.remote.webelement.WebElement (session=\"826bba43ac7a5eed6244af9a027fa0a0\", element=\"b916ed08-9c4e-424b-b0e7-322ff27ffd33\")>,\n",
       " <selenium.webdriver.remote.webelement.WebElement (session=\"826bba43ac7a5eed6244af9a027fa0a0\", element=\"5a5a5276-1a27-4089-a509-b3a983eec827\")>,\n",
       " <selenium.webdriver.remote.webelement.WebElement (session=\"826bba43ac7a5eed6244af9a027fa0a0\", element=\"090b9cba-8fb0-425e-a251-7fe9d07318f1\")>,\n",
       " <selenium.webdriver.remote.webelement.WebElement (session=\"826bba43ac7a5eed6244af9a027fa0a0\", element=\"69ed12ee-8f2a-4715-a11b-0b38b02747cd\")>,\n",
       " <selenium.webdriver.remote.webelement.WebElement (session=\"826bba43ac7a5eed6244af9a027fa0a0\", element=\"32a5abe6-3a6d-4cd7-bd8e-17025f9e5dc8\")>,\n",
       " <selenium.webdriver.remote.webelement.WebElement (session=\"826bba43ac7a5eed6244af9a027fa0a0\", element=\"b02b6d39-904a-47c8-9e2c-b29803a70979\")>,\n",
       " <selenium.webdriver.remote.webelement.WebElement (session=\"826bba43ac7a5eed6244af9a027fa0a0\", element=\"b0ec2b03-ab0e-40ee-bf82-8707cb7860c0\")>,\n",
       " <selenium.webdriver.remote.webelement.WebElement (session=\"826bba43ac7a5eed6244af9a027fa0a0\", element=\"0f1cd7b7-d381-4811-b480-60a8c326ff31\")>,\n",
       " <selenium.webdriver.remote.webelement.WebElement (session=\"826bba43ac7a5eed6244af9a027fa0a0\", element=\"be446c48-e019-4610-8138-6961a6667824\")>,\n",
       " <selenium.webdriver.remote.webelement.WebElement (session=\"826bba43ac7a5eed6244af9a027fa0a0\", element=\"aa8ccce3-3c22-4517-b68f-ceff58ceff7a\")>,\n",
       " <selenium.webdriver.remote.webelement.WebElement (session=\"826bba43ac7a5eed6244af9a027fa0a0\", element=\"f428c99d-d025-46cf-a21f-5caeae763f48\")>,\n",
       " <selenium.webdriver.remote.webelement.WebElement (session=\"826bba43ac7a5eed6244af9a027fa0a0\", element=\"671ee705-45b7-4985-8108-22fb3863f380\")>,\n",
       " <selenium.webdriver.remote.webelement.WebElement (session=\"826bba43ac7a5eed6244af9a027fa0a0\", element=\"20cad254-88ad-4044-8300-9f7604b5a549\")>,\n",
       " <selenium.webdriver.remote.webelement.WebElement (session=\"826bba43ac7a5eed6244af9a027fa0a0\", element=\"5741e637-f0a5-401b-a4cf-1dc3be36674e\")>,\n",
       " <selenium.webdriver.remote.webelement.WebElement (session=\"826bba43ac7a5eed6244af9a027fa0a0\", element=\"affa704e-a25c-4157-b1cf-fede6a4553ef\")>,\n",
       " <selenium.webdriver.remote.webelement.WebElement (session=\"826bba43ac7a5eed6244af9a027fa0a0\", element=\"d6cb6de1-506c-4e24-b49f-a5b3c060131e\")>,\n",
       " <selenium.webdriver.remote.webelement.WebElement (session=\"826bba43ac7a5eed6244af9a027fa0a0\", element=\"4ea11cfb-d07d-42eb-8b4e-04cc95358da0\")>,\n",
       " <selenium.webdriver.remote.webelement.WebElement (session=\"826bba43ac7a5eed6244af9a027fa0a0\", element=\"f37ccf77-3ea1-4a11-84ee-f9939ba05988\")>,\n",
       " <selenium.webdriver.remote.webelement.WebElement (session=\"826bba43ac7a5eed6244af9a027fa0a0\", element=\"52524ac3-56a8-49c1-aebb-0f18cf19e950\")>,\n",
       " <selenium.webdriver.remote.webelement.WebElement (session=\"826bba43ac7a5eed6244af9a027fa0a0\", element=\"a69bc104-4f77-4749-984e-5d6aff1c55bf\")>,\n",
       " <selenium.webdriver.remote.webelement.WebElement (session=\"826bba43ac7a5eed6244af9a027fa0a0\", element=\"daf183be-ee7c-4a62-b0b4-6100cc08fb74\")>,\n",
       " <selenium.webdriver.remote.webelement.WebElement (session=\"826bba43ac7a5eed6244af9a027fa0a0\", element=\"fa50a8e7-0deb-4675-9ff7-4c3186fb834f\")>,\n",
       " <selenium.webdriver.remote.webelement.WebElement (session=\"826bba43ac7a5eed6244af9a027fa0a0\", element=\"9c567fe1-90f0-4ea1-8817-ab6830dcb879\")>,\n",
       " <selenium.webdriver.remote.webelement.WebElement (session=\"826bba43ac7a5eed6244af9a027fa0a0\", element=\"8af7515c-6a45-49c6-8e0d-638d16167edd\")>,\n",
       " <selenium.webdriver.remote.webelement.WebElement (session=\"826bba43ac7a5eed6244af9a027fa0a0\", element=\"8557b5aa-c6de-4e54-8e9c-ab76add5c1c5\")>,\n",
       " <selenium.webdriver.remote.webelement.WebElement (session=\"826bba43ac7a5eed6244af9a027fa0a0\", element=\"bbdfc37b-921a-4665-8771-52e266b2b7c4\")>,\n",
       " <selenium.webdriver.remote.webelement.WebElement (session=\"826bba43ac7a5eed6244af9a027fa0a0\", element=\"e1c02d4a-d357-49e6-bab8-7505ae7135fd\")>,\n",
       " <selenium.webdriver.remote.webelement.WebElement (session=\"826bba43ac7a5eed6244af9a027fa0a0\", element=\"1ab5fffb-26e1-446d-ab12-aece8610513c\")>,\n",
       " <selenium.webdriver.remote.webelement.WebElement (session=\"826bba43ac7a5eed6244af9a027fa0a0\", element=\"3b34b989-0f0c-45c6-b786-e56c7b7d56bc\")>,\n",
       " <selenium.webdriver.remote.webelement.WebElement (session=\"826bba43ac7a5eed6244af9a027fa0a0\", element=\"7b03fca0-ef8f-4901-a2c1-2b4367a62cf7\")>,\n",
       " <selenium.webdriver.remote.webelement.WebElement (session=\"826bba43ac7a5eed6244af9a027fa0a0\", element=\"4302fd12-7dd1-42ba-9fbf-9597978a9e32\")>,\n",
       " <selenium.webdriver.remote.webelement.WebElement (session=\"826bba43ac7a5eed6244af9a027fa0a0\", element=\"8902eb31-cc4a-47a7-9625-0a2393be5316\")>,\n",
       " <selenium.webdriver.remote.webelement.WebElement (session=\"826bba43ac7a5eed6244af9a027fa0a0\", element=\"4792d231-72cc-4b70-93e9-8f11ba1f9421\")>,\n",
       " <selenium.webdriver.remote.webelement.WebElement (session=\"826bba43ac7a5eed6244af9a027fa0a0\", element=\"8fc7bf41-e599-436d-99e4-c68703f615fa\")>,\n",
       " <selenium.webdriver.remote.webelement.WebElement (session=\"826bba43ac7a5eed6244af9a027fa0a0\", element=\"e520f96f-cc2c-4d6a-b221-89618da072b8\")>,\n",
       " <selenium.webdriver.remote.webelement.WebElement (session=\"826bba43ac7a5eed6244af9a027fa0a0\", element=\"2b0bb9ed-a150-4b38-aff2-2f67bcc449a5\")>,\n",
       " <selenium.webdriver.remote.webelement.WebElement (session=\"826bba43ac7a5eed6244af9a027fa0a0\", element=\"ea48eaf3-cd9e-4842-ab72-1122d386fd2f\")>,\n",
       " <selenium.webdriver.remote.webelement.WebElement (session=\"826bba43ac7a5eed6244af9a027fa0a0\", element=\"b3952f44-7017-461c-b52e-b2a1654d97a8\")>,\n",
       " <selenium.webdriver.remote.webelement.WebElement (session=\"826bba43ac7a5eed6244af9a027fa0a0\", element=\"d081f219-86b9-40c2-a842-fbee3670733c\")>,\n",
       " <selenium.webdriver.remote.webelement.WebElement (session=\"826bba43ac7a5eed6244af9a027fa0a0\", element=\"604c5322-bba7-4b4a-8595-47aae00a7c79\")>,\n",
       " <selenium.webdriver.remote.webelement.WebElement (session=\"826bba43ac7a5eed6244af9a027fa0a0\", element=\"59ddf8ec-056d-4592-81c9-ed70c448d890\")>,\n",
       " <selenium.webdriver.remote.webelement.WebElement (session=\"826bba43ac7a5eed6244af9a027fa0a0\", element=\"256771e6-627d-4944-91e1-95f438e7d876\")>,\n",
       " <selenium.webdriver.remote.webelement.WebElement (session=\"826bba43ac7a5eed6244af9a027fa0a0\", element=\"1cc0b6fd-de4a-4be7-a096-b850836fe174\")>,\n",
       " <selenium.webdriver.remote.webelement.WebElement (session=\"826bba43ac7a5eed6244af9a027fa0a0\", element=\"99d7558b-12f2-4654-b246-ccc742e23289\")>,\n",
       " <selenium.webdriver.remote.webelement.WebElement (session=\"826bba43ac7a5eed6244af9a027fa0a0\", element=\"1b690d6f-aed6-4935-8731-f9844be3788e\")>,\n",
       " <selenium.webdriver.remote.webelement.WebElement (session=\"826bba43ac7a5eed6244af9a027fa0a0\", element=\"f070bf3b-3193-46bb-ae18-2f9edd2a4eaf\")>,\n",
       " <selenium.webdriver.remote.webelement.WebElement (session=\"826bba43ac7a5eed6244af9a027fa0a0\", element=\"500f18ef-d5ed-4a7c-aad6-8ade850c84a1\")>,\n",
       " <selenium.webdriver.remote.webelement.WebElement (session=\"826bba43ac7a5eed6244af9a027fa0a0\", element=\"010d6d59-4534-404e-8154-330a82f79691\")>,\n",
       " <selenium.webdriver.remote.webelement.WebElement (session=\"826bba43ac7a5eed6244af9a027fa0a0\", element=\"6ea9ee37-272f-4964-8b09-b6e45698be68\")>,\n",
       " <selenium.webdriver.remote.webelement.WebElement (session=\"826bba43ac7a5eed6244af9a027fa0a0\", element=\"e6f030b2-7729-4dc6-abff-7ad4a8fe2f40\")>,\n",
       " <selenium.webdriver.remote.webelement.WebElement (session=\"826bba43ac7a5eed6244af9a027fa0a0\", element=\"bf4ad80a-a837-4d2a-9a16-da97944be811\")>,\n",
       " <selenium.webdriver.remote.webelement.WebElement (session=\"826bba43ac7a5eed6244af9a027fa0a0\", element=\"698b9e52-b3d8-4604-a5db-e78a965c62e9\")>,\n",
       " <selenium.webdriver.remote.webelement.WebElement (session=\"826bba43ac7a5eed6244af9a027fa0a0\", element=\"63a8f339-ef77-44ab-bf88-d91119bfac52\")>,\n",
       " <selenium.webdriver.remote.webelement.WebElement (session=\"826bba43ac7a5eed6244af9a027fa0a0\", element=\"1ec79e28-074e-46ee-aa4e-607adfe62025\")>,\n",
       " <selenium.webdriver.remote.webelement.WebElement (session=\"826bba43ac7a5eed6244af9a027fa0a0\", element=\"76e855e8-d4e9-4e63-ac6e-5e467a4721e7\")>,\n",
       " <selenium.webdriver.remote.webelement.WebElement (session=\"826bba43ac7a5eed6244af9a027fa0a0\", element=\"ef6dc69e-afcb-4f74-9af7-7134552eb19d\")>,\n",
       " <selenium.webdriver.remote.webelement.WebElement (session=\"826bba43ac7a5eed6244af9a027fa0a0\", element=\"547f38fe-06a9-4ada-aaae-e6f8674a7cf4\")>,\n",
       " <selenium.webdriver.remote.webelement.WebElement (session=\"826bba43ac7a5eed6244af9a027fa0a0\", element=\"6fa6896a-5d0f-4ce9-94ff-546d7f6a4f7e\")>,\n",
       " <selenium.webdriver.remote.webelement.WebElement (session=\"826bba43ac7a5eed6244af9a027fa0a0\", element=\"034556da-a9af-4beb-b51b-93e31968ffa8\")>,\n",
       " <selenium.webdriver.remote.webelement.WebElement (session=\"826bba43ac7a5eed6244af9a027fa0a0\", element=\"ae8e5ce1-626e-494b-9828-f96aef0be6fd\")>,\n",
       " <selenium.webdriver.remote.webelement.WebElement (session=\"826bba43ac7a5eed6244af9a027fa0a0\", element=\"a3528898-ef8f-44f6-a744-de6f67191884\")>,\n",
       " <selenium.webdriver.remote.webelement.WebElement (session=\"826bba43ac7a5eed6244af9a027fa0a0\", element=\"3e0a2852-4ed2-411f-9486-d92f1c1c02c3\")>,\n",
       " <selenium.webdriver.remote.webelement.WebElement (session=\"826bba43ac7a5eed6244af9a027fa0a0\", element=\"5cb961c0-8ea6-4311-bd01-492131e1d87a\")>,\n",
       " <selenium.webdriver.remote.webelement.WebElement (session=\"826bba43ac7a5eed6244af9a027fa0a0\", element=\"03163436-71c0-4a2c-a9ec-1c5a59efd377\")>,\n",
       " <selenium.webdriver.remote.webelement.WebElement (session=\"826bba43ac7a5eed6244af9a027fa0a0\", element=\"64ac16e3-4905-43fe-ad17-d12f34b5a196\")>,\n",
       " <selenium.webdriver.remote.webelement.WebElement (session=\"826bba43ac7a5eed6244af9a027fa0a0\", element=\"ad886a27-cb3d-409a-8151-18282c8350af\")>,\n",
       " <selenium.webdriver.remote.webelement.WebElement (session=\"826bba43ac7a5eed6244af9a027fa0a0\", element=\"86a4375e-ab0d-4f85-a351-64044c09cfbc\")>,\n",
       " <selenium.webdriver.remote.webelement.WebElement (session=\"826bba43ac7a5eed6244af9a027fa0a0\", element=\"a10928b3-56d9-4d79-b4e9-d23f73e9ca0e\")>,\n",
       " <selenium.webdriver.remote.webelement.WebElement (session=\"826bba43ac7a5eed6244af9a027fa0a0\", element=\"8406a579-a53a-4d7e-8544-458a738bcd40\")>,\n",
       " <selenium.webdriver.remote.webelement.WebElement (session=\"826bba43ac7a5eed6244af9a027fa0a0\", element=\"b53dcd1e-2185-4dc6-afcd-d0c6896a2355\")>,\n",
       " <selenium.webdriver.remote.webelement.WebElement (session=\"826bba43ac7a5eed6244af9a027fa0a0\", element=\"d6a39f1b-7b10-4c68-8a08-2cfb0a2277bd\")>,\n",
       " <selenium.webdriver.remote.webelement.WebElement (session=\"826bba43ac7a5eed6244af9a027fa0a0\", element=\"0a6be695-011f-44a5-93da-d6cd0a740c34\")>,\n",
       " <selenium.webdriver.remote.webelement.WebElement (session=\"826bba43ac7a5eed6244af9a027fa0a0\", element=\"bdcac485-04b7-4804-847f-dcd0c82fc478\")>,\n",
       " <selenium.webdriver.remote.webelement.WebElement (session=\"826bba43ac7a5eed6244af9a027fa0a0\", element=\"6f5c6c4f-af88-4fdf-851b-29bd277684a2\")>,\n",
       " <selenium.webdriver.remote.webelement.WebElement (session=\"826bba43ac7a5eed6244af9a027fa0a0\", element=\"3fcdb4b9-e288-4954-8472-520942d946f8\")>,\n",
       " <selenium.webdriver.remote.webelement.WebElement (session=\"826bba43ac7a5eed6244af9a027fa0a0\", element=\"c6a3b313-1d3f-40d9-99af-6bcfa0776ce7\")>,\n",
       " <selenium.webdriver.remote.webelement.WebElement (session=\"826bba43ac7a5eed6244af9a027fa0a0\", element=\"8c3da6a5-2b56-436f-9d5a-b8c18c43627d\")>,\n",
       " <selenium.webdriver.remote.webelement.WebElement (session=\"826bba43ac7a5eed6244af9a027fa0a0\", element=\"b523a30c-e4bb-453e-ba2a-3d8244b91627\")>,\n",
       " <selenium.webdriver.remote.webelement.WebElement (session=\"826bba43ac7a5eed6244af9a027fa0a0\", element=\"51c60ea7-05f3-4dd9-88aa-6447532383ef\")>,\n",
       " <selenium.webdriver.remote.webelement.WebElement (session=\"826bba43ac7a5eed6244af9a027fa0a0\", element=\"1f7869b6-a331-4a5f-acfa-4afe4f8fc86e\")>,\n",
       " <selenium.webdriver.remote.webelement.WebElement (session=\"826bba43ac7a5eed6244af9a027fa0a0\", element=\"64f50230-a555-471a-b71b-0740a6293930\")>,\n",
       " <selenium.webdriver.remote.webelement.WebElement (session=\"826bba43ac7a5eed6244af9a027fa0a0\", element=\"5933fbf2-5fbf-4cbb-86f8-1ee4d12c11d8\")>,\n",
       " <selenium.webdriver.remote.webelement.WebElement (session=\"826bba43ac7a5eed6244af9a027fa0a0\", element=\"5f2cb9d2-b247-4138-8d75-5e8c47600cbc\")>,\n",
       " <selenium.webdriver.remote.webelement.WebElement (session=\"826bba43ac7a5eed6244af9a027fa0a0\", element=\"441678c7-0f22-41c1-9480-04ccb9ff9d56\")>,\n",
       " <selenium.webdriver.remote.webelement.WebElement (session=\"826bba43ac7a5eed6244af9a027fa0a0\", element=\"27d0a233-f9a6-4527-bf22-015f2bf623f7\")>,\n",
       " <selenium.webdriver.remote.webelement.WebElement (session=\"826bba43ac7a5eed6244af9a027fa0a0\", element=\"7abda839-5c9a-4328-9011-2ec8e3b51644\")>,\n",
       " <selenium.webdriver.remote.webelement.WebElement (session=\"826bba43ac7a5eed6244af9a027fa0a0\", element=\"0f1f8ac1-5700-4b28-818c-d6474264b03f\")>,\n",
       " <selenium.webdriver.remote.webelement.WebElement (session=\"826bba43ac7a5eed6244af9a027fa0a0\", element=\"d636055b-ba41-4d7c-9b32-ea5cf0351d75\")>,\n",
       " <selenium.webdriver.remote.webelement.WebElement (session=\"826bba43ac7a5eed6244af9a027fa0a0\", element=\"e3dfe04e-08f0-480c-806a-2229e9111a98\")>,\n",
       " <selenium.webdriver.remote.webelement.WebElement (session=\"826bba43ac7a5eed6244af9a027fa0a0\", element=\"064a12f2-6a08-4a8b-8099-d0c98789b933\")>,\n",
       " <selenium.webdriver.remote.webelement.WebElement (session=\"826bba43ac7a5eed6244af9a027fa0a0\", element=\"e8299817-566c-4aa4-905f-2403f7618761\")>,\n",
       " <selenium.webdriver.remote.webelement.WebElement (session=\"826bba43ac7a5eed6244af9a027fa0a0\", element=\"1bdf8d6c-6d97-4e53-a47b-61074af25052\")>,\n",
       " <selenium.webdriver.remote.webelement.WebElement (session=\"826bba43ac7a5eed6244af9a027fa0a0\", element=\"023d8a4d-ba63-4ff2-acc8-dfdc7464cda4\")>,\n",
       " <selenium.webdriver.remote.webelement.WebElement (session=\"826bba43ac7a5eed6244af9a027fa0a0\", element=\"7969e55d-d60c-4a92-a235-6b029c97fbf6\")>,\n",
       " <selenium.webdriver.remote.webelement.WebElement (session=\"826bba43ac7a5eed6244af9a027fa0a0\", element=\"7682f262-3502-482b-bffb-f5730788314b\")>,\n",
       " <selenium.webdriver.remote.webelement.WebElement (session=\"826bba43ac7a5eed6244af9a027fa0a0\", element=\"74751e81-b25d-43b2-98a3-217892c82b8d\")>,\n",
       " <selenium.webdriver.remote.webelement.WebElement (session=\"826bba43ac7a5eed6244af9a027fa0a0\", element=\"5126cbc3-8187-4c6a-9915-d2bc6ef10f41\")>,\n",
       " <selenium.webdriver.remote.webelement.WebElement (session=\"826bba43ac7a5eed6244af9a027fa0a0\", element=\"e0a90096-3b25-48f5-94f0-530fb253b018\")>,\n",
       " <selenium.webdriver.remote.webelement.WebElement (session=\"826bba43ac7a5eed6244af9a027fa0a0\", element=\"dd1db8f7-3900-457a-87d6-010565f6c6c1\")>,\n",
       " <selenium.webdriver.remote.webelement.WebElement (session=\"826bba43ac7a5eed6244af9a027fa0a0\", element=\"27136895-12a1-42ce-8f20-4df98cd3d99d\")>,\n",
       " <selenium.webdriver.remote.webelement.WebElement (session=\"826bba43ac7a5eed6244af9a027fa0a0\", element=\"c4b1ece0-c9e6-4ec3-b471-e8fccebf7972\")>,\n",
       " <selenium.webdriver.remote.webelement.WebElement (session=\"826bba43ac7a5eed6244af9a027fa0a0\", element=\"ac77b23b-ff6c-4e54-a116-b68376d3ea70\")>,\n",
       " <selenium.webdriver.remote.webelement.WebElement (session=\"826bba43ac7a5eed6244af9a027fa0a0\", element=\"67b5ff2a-1719-4721-b659-65d5dec5f95b\")>,\n",
       " <selenium.webdriver.remote.webelement.WebElement (session=\"826bba43ac7a5eed6244af9a027fa0a0\", element=\"1d9a69ef-a02a-43a8-b060-ed701ae64036\")>,\n",
       " <selenium.webdriver.remote.webelement.WebElement (session=\"826bba43ac7a5eed6244af9a027fa0a0\", element=\"fe7d9f6f-6bc3-44aa-8b4d-2e87eb1b5bb7\")>,\n",
       " <selenium.webdriver.remote.webelement.WebElement (session=\"826bba43ac7a5eed6244af9a027fa0a0\", element=\"538f3835-b92b-4374-81d9-0820c16aa824\")>,\n",
       " <selenium.webdriver.remote.webelement.WebElement (session=\"826bba43ac7a5eed6244af9a027fa0a0\", element=\"ab96e339-4fbf-4643-8a99-a7af362f908a\")>,\n",
       " <selenium.webdriver.remote.webelement.WebElement (session=\"826bba43ac7a5eed6244af9a027fa0a0\", element=\"dac7d507-6168-4737-8ca7-f153f0f610b9\")>,\n",
       " <selenium.webdriver.remote.webelement.WebElement (session=\"826bba43ac7a5eed6244af9a027fa0a0\", element=\"0f177369-b738-4ddc-8d02-5338a7af946a\")>,\n",
       " <selenium.webdriver.remote.webelement.WebElement (session=\"826bba43ac7a5eed6244af9a027fa0a0\", element=\"e4640bac-654f-4295-9844-80d3e8bac08d\")>,\n",
       " <selenium.webdriver.remote.webelement.WebElement (session=\"826bba43ac7a5eed6244af9a027fa0a0\", element=\"4bfcea25-51be-479b-b2a5-51230db7b811\")>,\n",
       " <selenium.webdriver.remote.webelement.WebElement (session=\"826bba43ac7a5eed6244af9a027fa0a0\", element=\"843005be-4898-4168-a81d-af1f78317f25\")>,\n",
       " <selenium.webdriver.remote.webelement.WebElement (session=\"826bba43ac7a5eed6244af9a027fa0a0\", element=\"5192a50c-a603-4c90-8aed-7c42e566331a\")>,\n",
       " <selenium.webdriver.remote.webelement.WebElement (session=\"826bba43ac7a5eed6244af9a027fa0a0\", element=\"4a5bfedd-7ef9-4011-a47f-29239861b09f\")>,\n",
       " <selenium.webdriver.remote.webelement.WebElement (session=\"826bba43ac7a5eed6244af9a027fa0a0\", element=\"b17af07d-fd94-45b8-9f53-d0f0acaed159\")>,\n",
       " <selenium.webdriver.remote.webelement.WebElement (session=\"826bba43ac7a5eed6244af9a027fa0a0\", element=\"b87ad4ec-82b0-4b45-a35c-bd164f784d7d\")>,\n",
       " <selenium.webdriver.remote.webelement.WebElement (session=\"826bba43ac7a5eed6244af9a027fa0a0\", element=\"7c30e5a5-aa76-4588-8ecc-20b555dc08db\")>,\n",
       " <selenium.webdriver.remote.webelement.WebElement (session=\"826bba43ac7a5eed6244af9a027fa0a0\", element=\"a0b426d3-079c-4adc-9070-c6514d14c57d\")>,\n",
       " <selenium.webdriver.remote.webelement.WebElement (session=\"826bba43ac7a5eed6244af9a027fa0a0\", element=\"5def6fb1-0b7a-493f-994e-b131213b3d0c\")>,\n",
       " <selenium.webdriver.remote.webelement.WebElement (session=\"826bba43ac7a5eed6244af9a027fa0a0\", element=\"87bc30e8-ff52-4a5d-86dc-1f59a301a3bd\")>,\n",
       " <selenium.webdriver.remote.webelement.WebElement (session=\"826bba43ac7a5eed6244af9a027fa0a0\", element=\"a2e5c062-632b-485b-8a41-3a7b6778d0eb\")>,\n",
       " <selenium.webdriver.remote.webelement.WebElement (session=\"826bba43ac7a5eed6244af9a027fa0a0\", element=\"c5113fd4-46bd-4d71-890d-cfb0fefae8fb\")>,\n",
       " <selenium.webdriver.remote.webelement.WebElement (session=\"826bba43ac7a5eed6244af9a027fa0a0\", element=\"b463ec28-2b57-482d-8466-324befb3070e\")>,\n",
       " <selenium.webdriver.remote.webelement.WebElement (session=\"826bba43ac7a5eed6244af9a027fa0a0\", element=\"cea8b893-f4a5-4b80-a1d0-9b4fe39a02ec\")>,\n",
       " <selenium.webdriver.remote.webelement.WebElement (session=\"826bba43ac7a5eed6244af9a027fa0a0\", element=\"304fd9ba-bf1a-4128-943f-95b2762f47a6\")>,\n",
       " <selenium.webdriver.remote.webelement.WebElement (session=\"826bba43ac7a5eed6244af9a027fa0a0\", element=\"60ad9110-94cf-4fed-a119-71da58da6bcf\")>,\n",
       " <selenium.webdriver.remote.webelement.WebElement (session=\"826bba43ac7a5eed6244af9a027fa0a0\", element=\"e82c19d3-81f7-444d-a1f7-e6bf58d41331\")>,\n",
       " <selenium.webdriver.remote.webelement.WebElement (session=\"826bba43ac7a5eed6244af9a027fa0a0\", element=\"d684f7cb-a03a-420a-bd82-3bf109c4ffbd\")>,\n",
       " <selenium.webdriver.remote.webelement.WebElement (session=\"826bba43ac7a5eed6244af9a027fa0a0\", element=\"179d36e1-bc62-4486-83b8-a5fe7fd434d3\")>,\n",
       " <selenium.webdriver.remote.webelement.WebElement (session=\"826bba43ac7a5eed6244af9a027fa0a0\", element=\"899bb1cf-615f-48d6-9a17-3fe06a7d1b3f\")>,\n",
       " <selenium.webdriver.remote.webelement.WebElement (session=\"826bba43ac7a5eed6244af9a027fa0a0\", element=\"ee6b079e-ba93-4d8c-91c7-c3d53b3511db\")>,\n",
       " <selenium.webdriver.remote.webelement.WebElement (session=\"826bba43ac7a5eed6244af9a027fa0a0\", element=\"1437aa8e-9f2a-4f28-b66d-120ecfb0050f\")>,\n",
       " <selenium.webdriver.remote.webelement.WebElement (session=\"826bba43ac7a5eed6244af9a027fa0a0\", element=\"eec78fa2-f036-4aeb-8913-992d22af3df3\")>,\n",
       " <selenium.webdriver.remote.webelement.WebElement (session=\"826bba43ac7a5eed6244af9a027fa0a0\", element=\"950889f2-c8e2-4a7e-94ba-f9a3f8851948\")>,\n",
       " <selenium.webdriver.remote.webelement.WebElement (session=\"826bba43ac7a5eed6244af9a027fa0a0\", element=\"0ae6c640-6a91-43da-9284-b4730c2e8b8b\")>,\n",
       " <selenium.webdriver.remote.webelement.WebElement (session=\"826bba43ac7a5eed6244af9a027fa0a0\", element=\"d22f3dcf-59d9-4111-a563-eef1c654b497\")>,\n",
       " <selenium.webdriver.remote.webelement.WebElement (session=\"826bba43ac7a5eed6244af9a027fa0a0\", element=\"16b14d07-7bb7-4abb-aa17-f10d1c6a5e9d\")>,\n",
       " <selenium.webdriver.remote.webelement.WebElement (session=\"826bba43ac7a5eed6244af9a027fa0a0\", element=\"bf32301e-96d5-45cc-b4aa-a7e4c3614b27\")>,\n",
       " <selenium.webdriver.remote.webelement.WebElement (session=\"826bba43ac7a5eed6244af9a027fa0a0\", element=\"85748e80-09dc-41c4-a801-2e6f7104b032\")>,\n",
       " <selenium.webdriver.remote.webelement.WebElement (session=\"826bba43ac7a5eed6244af9a027fa0a0\", element=\"c4329ff4-f607-46f8-9ad1-5721bf39b277\")>,\n",
       " <selenium.webdriver.remote.webelement.WebElement (session=\"826bba43ac7a5eed6244af9a027fa0a0\", element=\"0c07c929-8bf4-4981-a8ef-dacb2f9ca46b\")>,\n",
       " <selenium.webdriver.remote.webelement.WebElement (session=\"826bba43ac7a5eed6244af9a027fa0a0\", element=\"9d155930-2ce2-411d-aeec-583ba9e5c681\")>,\n",
       " <selenium.webdriver.remote.webelement.WebElement (session=\"826bba43ac7a5eed6244af9a027fa0a0\", element=\"b5e94e78-b1c4-4ad9-9247-719702ba7a2e\")>,\n",
       " <selenium.webdriver.remote.webelement.WebElement (session=\"826bba43ac7a5eed6244af9a027fa0a0\", element=\"310b053e-d187-45a4-972b-7c9ca81c992f\")>,\n",
       " <selenium.webdriver.remote.webelement.WebElement (session=\"826bba43ac7a5eed6244af9a027fa0a0\", element=\"8fa76597-69b8-4f5c-900d-ba7c76b72f4b\")>,\n",
       " <selenium.webdriver.remote.webelement.WebElement (session=\"826bba43ac7a5eed6244af9a027fa0a0\", element=\"a01a8d9c-03a0-425f-92cd-25e8bf7318fd\")>,\n",
       " <selenium.webdriver.remote.webelement.WebElement (session=\"826bba43ac7a5eed6244af9a027fa0a0\", element=\"3d5fadfe-f42d-4f35-84e5-c4baf89460ee\")>,\n",
       " <selenium.webdriver.remote.webelement.WebElement (session=\"826bba43ac7a5eed6244af9a027fa0a0\", element=\"d8d24ac2-b407-426b-a3f8-8c3161299142\")>,\n",
       " <selenium.webdriver.remote.webelement.WebElement (session=\"826bba43ac7a5eed6244af9a027fa0a0\", element=\"a90ecabf-d2cd-424c-a194-0510f1b70d01\")>,\n",
       " <selenium.webdriver.remote.webelement.WebElement (session=\"826bba43ac7a5eed6244af9a027fa0a0\", element=\"1e76fa36-cb2f-46a2-b36c-0d11e6078092\")>,\n",
       " <selenium.webdriver.remote.webelement.WebElement (session=\"826bba43ac7a5eed6244af9a027fa0a0\", element=\"d0a41124-db45-42e5-9b0a-05b3e8dd7596\")>,\n",
       " <selenium.webdriver.remote.webelement.WebElement (session=\"826bba43ac7a5eed6244af9a027fa0a0\", element=\"c12c634c-4e4d-469b-93d6-40749c3f26aa\")>,\n",
       " <selenium.webdriver.remote.webelement.WebElement (session=\"826bba43ac7a5eed6244af9a027fa0a0\", element=\"6d2fd3a9-9aac-4f6a-9ab3-7ca1a88939c6\")>,\n",
       " <selenium.webdriver.remote.webelement.WebElement (session=\"826bba43ac7a5eed6244af9a027fa0a0\", element=\"a33e5630-9afb-4bbe-8939-a015c61a580d\")>,\n",
       " <selenium.webdriver.remote.webelement.WebElement (session=\"826bba43ac7a5eed6244af9a027fa0a0\", element=\"a4d6480b-c362-48ae-a291-ff8d5761cab6\")>,\n",
       " <selenium.webdriver.remote.webelement.WebElement (session=\"826bba43ac7a5eed6244af9a027fa0a0\", element=\"43b63124-262b-45b3-a742-7584c69d0fc9\")>,\n",
       " <selenium.webdriver.remote.webelement.WebElement (session=\"826bba43ac7a5eed6244af9a027fa0a0\", element=\"2cfdf8f9-befe-4f29-827a-3f17b67fe27a\")>,\n",
       " <selenium.webdriver.remote.webelement.WebElement (session=\"826bba43ac7a5eed6244af9a027fa0a0\", element=\"cd2dca52-6266-4414-83da-e62c70bfd5e3\")>,\n",
       " <selenium.webdriver.remote.webelement.WebElement (session=\"826bba43ac7a5eed6244af9a027fa0a0\", element=\"7bd95e56-4a6a-472a-b688-27a48e84f5da\")>,\n",
       " <selenium.webdriver.remote.webelement.WebElement (session=\"826bba43ac7a5eed6244af9a027fa0a0\", element=\"2ce94745-02e3-404d-84c9-9327453225ea\")>,\n",
       " <selenium.webdriver.remote.webelement.WebElement (session=\"826bba43ac7a5eed6244af9a027fa0a0\", element=\"4fb50b07-606b-4679-90f4-a842a8429425\")>,\n",
       " <selenium.webdriver.remote.webelement.WebElement (session=\"826bba43ac7a5eed6244af9a027fa0a0\", element=\"7ad681bb-d14f-4e56-9436-feb503c8a839\")>,\n",
       " <selenium.webdriver.remote.webelement.WebElement (session=\"826bba43ac7a5eed6244af9a027fa0a0\", element=\"2d2c0b5d-1357-43b0-a24e-53a5fa41c7ac\")>,\n",
       " <selenium.webdriver.remote.webelement.WebElement (session=\"826bba43ac7a5eed6244af9a027fa0a0\", element=\"42b0c975-7bb2-4dae-84a7-9d16bd546af4\")>,\n",
       " <selenium.webdriver.remote.webelement.WebElement (session=\"826bba43ac7a5eed6244af9a027fa0a0\", element=\"93c8ad2f-e161-4152-9274-9ccff2e0df4c\")>,\n",
       " <selenium.webdriver.remote.webelement.WebElement (session=\"826bba43ac7a5eed6244af9a027fa0a0\", element=\"be73be51-2f2f-4937-a364-c97bf036c59b\")>,\n",
       " <selenium.webdriver.remote.webelement.WebElement (session=\"826bba43ac7a5eed6244af9a027fa0a0\", element=\"6c9ae0d3-cd2b-4c36-9c6a-14bec261cb07\")>,\n",
       " <selenium.webdriver.remote.webelement.WebElement (session=\"826bba43ac7a5eed6244af9a027fa0a0\", element=\"4ec2a4bd-d526-41d7-8529-70f6ce99f29f\")>,\n",
       " <selenium.webdriver.remote.webelement.WebElement (session=\"826bba43ac7a5eed6244af9a027fa0a0\", element=\"a9e24656-7937-4b4f-893b-a487f41f2bf4\")>,\n",
       " <selenium.webdriver.remote.webelement.WebElement (session=\"826bba43ac7a5eed6244af9a027fa0a0\", element=\"1d191405-01e4-4159-9d5c-e43979176d27\")>,\n",
       " <selenium.webdriver.remote.webelement.WebElement (session=\"826bba43ac7a5eed6244af9a027fa0a0\", element=\"78d48ee4-3bc9-473b-afcf-a0c774b752d2\")>,\n",
       " <selenium.webdriver.remote.webelement.WebElement (session=\"826bba43ac7a5eed6244af9a027fa0a0\", element=\"ee3973de-459f-4653-95c9-bfad2cdb3fcd\")>,\n",
       " <selenium.webdriver.remote.webelement.WebElement (session=\"826bba43ac7a5eed6244af9a027fa0a0\", element=\"b0496f08-15df-4249-a760-eb5421b9ad36\")>,\n",
       " <selenium.webdriver.remote.webelement.WebElement (session=\"826bba43ac7a5eed6244af9a027fa0a0\", element=\"1b33402d-4164-4cc4-977e-55cc0fd7b60a\")>,\n",
       " <selenium.webdriver.remote.webelement.WebElement (session=\"826bba43ac7a5eed6244af9a027fa0a0\", element=\"f2c4c11b-f188-42b2-b5b6-6d11936e4980\")>,\n",
       " <selenium.webdriver.remote.webelement.WebElement (session=\"826bba43ac7a5eed6244af9a027fa0a0\", element=\"1f820458-1e34-43f9-b268-3b999d841e7c\")>,\n",
       " <selenium.webdriver.remote.webelement.WebElement (session=\"826bba43ac7a5eed6244af9a027fa0a0\", element=\"95c6704d-f5fe-4aaa-ba32-292394be4c0a\")>,\n",
       " <selenium.webdriver.remote.webelement.WebElement (session=\"826bba43ac7a5eed6244af9a027fa0a0\", element=\"c8d352a6-07e5-45a1-9821-4ece279f413b\")>,\n",
       " <selenium.webdriver.remote.webelement.WebElement (session=\"826bba43ac7a5eed6244af9a027fa0a0\", element=\"40b0e5e1-3fed-4f1b-9a62-f6abc7de4c96\")>,\n",
       " <selenium.webdriver.remote.webelement.WebElement (session=\"826bba43ac7a5eed6244af9a027fa0a0\", element=\"321cb43d-ed05-4edf-8d51-61f0391dfc4a\")>,\n",
       " <selenium.webdriver.remote.webelement.WebElement (session=\"826bba43ac7a5eed6244af9a027fa0a0\", element=\"75eed6a4-6217-4367-a3fe-7321fb240915\")>,\n",
       " <selenium.webdriver.remote.webelement.WebElement (session=\"826bba43ac7a5eed6244af9a027fa0a0\", element=\"9862bda9-304e-4f18-8b18-98247913a39d\")>,\n",
       " <selenium.webdriver.remote.webelement.WebElement (session=\"826bba43ac7a5eed6244af9a027fa0a0\", element=\"b60da373-a814-4273-a03f-f4b0ef980ea2\")>,\n",
       " <selenium.webdriver.remote.webelement.WebElement (session=\"826bba43ac7a5eed6244af9a027fa0a0\", element=\"ec2a8dfd-529e-45ea-af34-5f93f932557d\")>,\n",
       " <selenium.webdriver.remote.webelement.WebElement (session=\"826bba43ac7a5eed6244af9a027fa0a0\", element=\"831b953d-aa77-4c42-ad0c-7ebff0ad6cbe\")>,\n",
       " <selenium.webdriver.remote.webelement.WebElement (session=\"826bba43ac7a5eed6244af9a027fa0a0\", element=\"6595f3b6-31e2-4dfd-927a-5297d6d8cced\")>,\n",
       " <selenium.webdriver.remote.webelement.WebElement (session=\"826bba43ac7a5eed6244af9a027fa0a0\", element=\"10e2cbd5-45fb-4a0e-b9c5-48176d73d9e1\")>,\n",
       " <selenium.webdriver.remote.webelement.WebElement (session=\"826bba43ac7a5eed6244af9a027fa0a0\", element=\"e162517b-86a0-40d5-8bc2-700fd00392b8\")>,\n",
       " <selenium.webdriver.remote.webelement.WebElement (session=\"826bba43ac7a5eed6244af9a027fa0a0\", element=\"f7aea5c9-a66b-4590-b237-e62cb3df466d\")>,\n",
       " <selenium.webdriver.remote.webelement.WebElement (session=\"826bba43ac7a5eed6244af9a027fa0a0\", element=\"debbc75e-23f5-4c1a-ba1d-287517a15579\")>,\n",
       " <selenium.webdriver.remote.webelement.WebElement (session=\"826bba43ac7a5eed6244af9a027fa0a0\", element=\"3285f387-3553-430e-81cb-88bf50cf557e\")>,\n",
       " <selenium.webdriver.remote.webelement.WebElement (session=\"826bba43ac7a5eed6244af9a027fa0a0\", element=\"3dc1a7b3-47d2-4a67-87d7-50fd230a6c1a\")>,\n",
       " <selenium.webdriver.remote.webelement.WebElement (session=\"826bba43ac7a5eed6244af9a027fa0a0\", element=\"0c545d40-fa17-4f58-be62-508f5cb01095\")>,\n",
       " <selenium.webdriver.remote.webelement.WebElement (session=\"826bba43ac7a5eed6244af9a027fa0a0\", element=\"0437ab31-d5a6-4353-9f8e-75ce67a99692\")>,\n",
       " <selenium.webdriver.remote.webelement.WebElement (session=\"826bba43ac7a5eed6244af9a027fa0a0\", element=\"e2b9beda-5571-46a0-a1ed-0a494ffe3aa9\")>,\n",
       " <selenium.webdriver.remote.webelement.WebElement (session=\"826bba43ac7a5eed6244af9a027fa0a0\", element=\"11c40d41-7c46-40e6-84ec-832bcdb3034a\")>,\n",
       " <selenium.webdriver.remote.webelement.WebElement (session=\"826bba43ac7a5eed6244af9a027fa0a0\", element=\"9a59ecdc-47e1-4419-aebb-bd0a82c182db\")>,\n",
       " <selenium.webdriver.remote.webelement.WebElement (session=\"826bba43ac7a5eed6244af9a027fa0a0\", element=\"6d3d7132-8888-41c2-b2f2-8f59e1810baf\")>,\n",
       " <selenium.webdriver.remote.webelement.WebElement (session=\"826bba43ac7a5eed6244af9a027fa0a0\", element=\"3b96a4c2-1586-499b-81be-e3cb7c13a31a\")>,\n",
       " <selenium.webdriver.remote.webelement.WebElement (session=\"826bba43ac7a5eed6244af9a027fa0a0\", element=\"3cba5c23-29b6-4c00-b336-2c7d8333e88c\")>,\n",
       " <selenium.webdriver.remote.webelement.WebElement (session=\"826bba43ac7a5eed6244af9a027fa0a0\", element=\"0d95c4b0-0ff2-4dcc-a620-46230b7ba902\")>,\n",
       " <selenium.webdriver.remote.webelement.WebElement (session=\"826bba43ac7a5eed6244af9a027fa0a0\", element=\"cfc9bf36-02ed-45c7-a4a1-337a151fb99a\")>,\n",
       " <selenium.webdriver.remote.webelement.WebElement (session=\"826bba43ac7a5eed6244af9a027fa0a0\", element=\"46f1c550-4c43-47e5-b4d9-d6a072c6309f\")>,\n",
       " <selenium.webdriver.remote.webelement.WebElement (session=\"826bba43ac7a5eed6244af9a027fa0a0\", element=\"ab113a3b-bdd4-4bd6-8a19-030798d30ee6\")>,\n",
       " <selenium.webdriver.remote.webelement.WebElement (session=\"826bba43ac7a5eed6244af9a027fa0a0\", element=\"4cc414ba-d704-4a76-a512-3970d4e8948c\")>,\n",
       " <selenium.webdriver.remote.webelement.WebElement (session=\"826bba43ac7a5eed6244af9a027fa0a0\", element=\"dd72e55e-8aee-4492-a0a1-c723bae7d356\")>,\n",
       " <selenium.webdriver.remote.webelement.WebElement (session=\"826bba43ac7a5eed6244af9a027fa0a0\", element=\"f3ae9723-2143-42e1-9826-34fdaffbace7\")>,\n",
       " <selenium.webdriver.remote.webelement.WebElement (session=\"826bba43ac7a5eed6244af9a027fa0a0\", element=\"f852ae5d-e03d-4b5c-9ee4-198af11eebda\")>,\n",
       " <selenium.webdriver.remote.webelement.WebElement (session=\"826bba43ac7a5eed6244af9a027fa0a0\", element=\"4ab9e11a-6483-4aaf-895c-894826a6febb\")>,\n",
       " <selenium.webdriver.remote.webelement.WebElement (session=\"826bba43ac7a5eed6244af9a027fa0a0\", element=\"5cfd1a31-d4bd-42c5-a3bf-3db3aa409422\")>,\n",
       " <selenium.webdriver.remote.webelement.WebElement (session=\"826bba43ac7a5eed6244af9a027fa0a0\", element=\"117c77bb-4634-4c9e-bce0-3bba757c4d88\")>,\n",
       " <selenium.webdriver.remote.webelement.WebElement (session=\"826bba43ac7a5eed6244af9a027fa0a0\", element=\"ebd29de2-a5e7-4e1c-b0a0-0ce6d96d1b20\")>,\n",
       " <selenium.webdriver.remote.webelement.WebElement (session=\"826bba43ac7a5eed6244af9a027fa0a0\", element=\"935ef95d-1b12-46ee-a81c-561d87f55a66\")>,\n",
       " <selenium.webdriver.remote.webelement.WebElement (session=\"826bba43ac7a5eed6244af9a027fa0a0\", element=\"d09fe389-6332-4385-bdf8-50322a5090bf\")>,\n",
       " <selenium.webdriver.remote.webelement.WebElement (session=\"826bba43ac7a5eed6244af9a027fa0a0\", element=\"b2d7ed23-d8b1-4580-a8a4-171fb1bfc74a\")>,\n",
       " <selenium.webdriver.remote.webelement.WebElement (session=\"826bba43ac7a5eed6244af9a027fa0a0\", element=\"6c956122-1e48-453f-b39e-aef2a2f64917\")>,\n",
       " <selenium.webdriver.remote.webelement.WebElement (session=\"826bba43ac7a5eed6244af9a027fa0a0\", element=\"9365c407-bc83-4de7-b3c9-5374a59002e2\")>,\n",
       " <selenium.webdriver.remote.webelement.WebElement (session=\"826bba43ac7a5eed6244af9a027fa0a0\", element=\"be23b537-27d3-41c7-b04f-43d062ff7179\")>,\n",
       " <selenium.webdriver.remote.webelement.WebElement (session=\"826bba43ac7a5eed6244af9a027fa0a0\", element=\"a331ffaa-e886-491e-a7bb-025cd4f0714b\")>,\n",
       " <selenium.webdriver.remote.webelement.WebElement (session=\"826bba43ac7a5eed6244af9a027fa0a0\", element=\"ece1d166-0cb1-46a6-9ab5-21bd9fa7ccb6\")>,\n",
       " <selenium.webdriver.remote.webelement.WebElement (session=\"826bba43ac7a5eed6244af9a027fa0a0\", element=\"a3a3cfd3-a274-4ded-88f3-2d6be1aa37b2\")>,\n",
       " <selenium.webdriver.remote.webelement.WebElement (session=\"826bba43ac7a5eed6244af9a027fa0a0\", element=\"7d3ef862-1eb9-42c6-b115-73673ffe969b\")>,\n",
       " <selenium.webdriver.remote.webelement.WebElement (session=\"826bba43ac7a5eed6244af9a027fa0a0\", element=\"6a62dbbe-aaa1-4082-8341-c54e405ee114\")>,\n",
       " <selenium.webdriver.remote.webelement.WebElement (session=\"826bba43ac7a5eed6244af9a027fa0a0\", element=\"0b55b350-5e4f-4c14-89e5-64b88fc4a1ea\")>,\n",
       " <selenium.webdriver.remote.webelement.WebElement (session=\"826bba43ac7a5eed6244af9a027fa0a0\", element=\"2e4b28db-ce4e-410a-aa6e-7cb2425a2e32\")>,\n",
       " <selenium.webdriver.remote.webelement.WebElement (session=\"826bba43ac7a5eed6244af9a027fa0a0\", element=\"55c38393-fb94-4b03-8d22-084e0f3a7a8b\")>,\n",
       " <selenium.webdriver.remote.webelement.WebElement (session=\"826bba43ac7a5eed6244af9a027fa0a0\", element=\"a280424b-06ec-4d96-a91d-5390142a16a1\")>,\n",
       " <selenium.webdriver.remote.webelement.WebElement (session=\"826bba43ac7a5eed6244af9a027fa0a0\", element=\"c90bf0bf-408d-4ba0-b965-28a21620793f\")>,\n",
       " <selenium.webdriver.remote.webelement.WebElement (session=\"826bba43ac7a5eed6244af9a027fa0a0\", element=\"5b9f9080-3057-424b-956b-7da63810d7a2\")>,\n",
       " <selenium.webdriver.remote.webelement.WebElement (session=\"826bba43ac7a5eed6244af9a027fa0a0\", element=\"c514743d-3acd-4e4c-b38a-cadfe21eef73\")>,\n",
       " <selenium.webdriver.remote.webelement.WebElement (session=\"826bba43ac7a5eed6244af9a027fa0a0\", element=\"b6dfbca0-2c15-4dac-8738-379c6c37d6ad\")>,\n",
       " <selenium.webdriver.remote.webelement.WebElement (session=\"826bba43ac7a5eed6244af9a027fa0a0\", element=\"8869c7d6-8c95-4b5a-bcbc-62b34d987cde\")>,\n",
       " <selenium.webdriver.remote.webelement.WebElement (session=\"826bba43ac7a5eed6244af9a027fa0a0\", element=\"f34fb52d-b39f-403a-b10e-b78628eec4b6\")>,\n",
       " <selenium.webdriver.remote.webelement.WebElement (session=\"826bba43ac7a5eed6244af9a027fa0a0\", element=\"4998339e-d404-4e6f-a188-cd80a337010e\")>,\n",
       " <selenium.webdriver.remote.webelement.WebElement (session=\"826bba43ac7a5eed6244af9a027fa0a0\", element=\"09f737ef-dd48-4ca3-97f2-c260871d1a38\")>,\n",
       " <selenium.webdriver.remote.webelement.WebElement (session=\"826bba43ac7a5eed6244af9a027fa0a0\", element=\"c06e4632-7ec0-46b4-a7b1-6c6ee82d44a2\")>,\n",
       " <selenium.webdriver.remote.webelement.WebElement (session=\"826bba43ac7a5eed6244af9a027fa0a0\", element=\"06ea153b-f0e5-47c0-a7ea-752abb2d80e7\")>,\n",
       " <selenium.webdriver.remote.webelement.WebElement (session=\"826bba43ac7a5eed6244af9a027fa0a0\", element=\"84d0106d-855a-423b-a2d5-984d5f89bc92\")>,\n",
       " <selenium.webdriver.remote.webelement.WebElement (session=\"826bba43ac7a5eed6244af9a027fa0a0\", element=\"a77ad838-6cd0-4981-9826-bb1586305ec5\")>,\n",
       " <selenium.webdriver.remote.webelement.WebElement (session=\"826bba43ac7a5eed6244af9a027fa0a0\", element=\"f0e88137-4c63-41f4-88b9-aaee9d65bad7\")>,\n",
       " <selenium.webdriver.remote.webelement.WebElement (session=\"826bba43ac7a5eed6244af9a027fa0a0\", element=\"fd33bd08-7600-4fc6-badb-66f52f6120bc\")>,\n",
       " <selenium.webdriver.remote.webelement.WebElement (session=\"826bba43ac7a5eed6244af9a027fa0a0\", element=\"1afbd092-b1e6-4f67-ba8c-b8b3bd7e4fd9\")>,\n",
       " <selenium.webdriver.remote.webelement.WebElement (session=\"826bba43ac7a5eed6244af9a027fa0a0\", element=\"56077d21-8b87-4fbf-87f4-408bafb8edc6\")>,\n",
       " <selenium.webdriver.remote.webelement.WebElement (session=\"826bba43ac7a5eed6244af9a027fa0a0\", element=\"0d83f8f0-3062-4f38-a65a-d41d470bd6db\")>,\n",
       " <selenium.webdriver.remote.webelement.WebElement (session=\"826bba43ac7a5eed6244af9a027fa0a0\", element=\"8e7ee7d3-ba80-495c-bae7-cb4d08e730b4\")>,\n",
       " <selenium.webdriver.remote.webelement.WebElement (session=\"826bba43ac7a5eed6244af9a027fa0a0\", element=\"44a7a6fa-0837-461d-99d2-52e5a13e813b\")>,\n",
       " <selenium.webdriver.remote.webelement.WebElement (session=\"826bba43ac7a5eed6244af9a027fa0a0\", element=\"78257531-2b4a-4f6e-bb4d-52e3159f31ef\")>,\n",
       " <selenium.webdriver.remote.webelement.WebElement (session=\"826bba43ac7a5eed6244af9a027fa0a0\", element=\"0b66bbf0-0541-4448-a294-b6c459eec6ed\")>,\n",
       " <selenium.webdriver.remote.webelement.WebElement (session=\"826bba43ac7a5eed6244af9a027fa0a0\", element=\"29562f73-aff0-4a3d-a85b-543bfe9d36ae\")>,\n",
       " <selenium.webdriver.remote.webelement.WebElement (session=\"826bba43ac7a5eed6244af9a027fa0a0\", element=\"3bcbfd9f-b039-40cc-893f-b2a7ebd66777\")>,\n",
       " <selenium.webdriver.remote.webelement.WebElement (session=\"826bba43ac7a5eed6244af9a027fa0a0\", element=\"e5d0a048-cd7c-4a3f-828d-b2bb894117e5\")>,\n",
       " <selenium.webdriver.remote.webelement.WebElement (session=\"826bba43ac7a5eed6244af9a027fa0a0\", element=\"68630f81-33fe-4f7f-8237-f640a97aa00e\")>,\n",
       " <selenium.webdriver.remote.webelement.WebElement (session=\"826bba43ac7a5eed6244af9a027fa0a0\", element=\"95ba484b-5d22-4260-873c-9a22227eaa0a\")>,\n",
       " <selenium.webdriver.remote.webelement.WebElement (session=\"826bba43ac7a5eed6244af9a027fa0a0\", element=\"4d457d29-51b7-4f29-a71d-fedd7feb056f\")>,\n",
       " <selenium.webdriver.remote.webelement.WebElement (session=\"826bba43ac7a5eed6244af9a027fa0a0\", element=\"8243b946-2b6b-4fd7-a2b3-2164df2fc200\")>,\n",
       " <selenium.webdriver.remote.webelement.WebElement (session=\"826bba43ac7a5eed6244af9a027fa0a0\", element=\"9587c6c4-86de-465a-a3e1-403c9027b3b8\")>,\n",
       " <selenium.webdriver.remote.webelement.WebElement (session=\"826bba43ac7a5eed6244af9a027fa0a0\", element=\"15dbbf6f-0c18-472b-bc26-6d2bb5de2c91\")>,\n",
       " <selenium.webdriver.remote.webelement.WebElement (session=\"826bba43ac7a5eed6244af9a027fa0a0\", element=\"456630b5-f171-4295-baa1-a7b4585f6b58\")>,\n",
       " <selenium.webdriver.remote.webelement.WebElement (session=\"826bba43ac7a5eed6244af9a027fa0a0\", element=\"fc7780fa-5a96-48c8-8093-ff08c3bc591c\")>,\n",
       " <selenium.webdriver.remote.webelement.WebElement (session=\"826bba43ac7a5eed6244af9a027fa0a0\", element=\"3d20baaf-ad28-4f87-b5b3-60f19e2fc302\")>,\n",
       " <selenium.webdriver.remote.webelement.WebElement (session=\"826bba43ac7a5eed6244af9a027fa0a0\", element=\"da284793-763e-407b-a29d-f09ab45f2367\")>,\n",
       " <selenium.webdriver.remote.webelement.WebElement (session=\"826bba43ac7a5eed6244af9a027fa0a0\", element=\"12595099-afc1-48ec-87fe-152f74ca4db6\")>,\n",
       " <selenium.webdriver.remote.webelement.WebElement (session=\"826bba43ac7a5eed6244af9a027fa0a0\", element=\"5f0042c7-bb8b-47e1-bb91-229b5128e151\")>,\n",
       " <selenium.webdriver.remote.webelement.WebElement (session=\"826bba43ac7a5eed6244af9a027fa0a0\", element=\"5a8a7202-f6cf-425b-ba66-310b65899414\")>,\n",
       " <selenium.webdriver.remote.webelement.WebElement (session=\"826bba43ac7a5eed6244af9a027fa0a0\", element=\"91a9ce6c-ca4d-4a88-80a6-29fb6d959f53\")>,\n",
       " <selenium.webdriver.remote.webelement.WebElement (session=\"826bba43ac7a5eed6244af9a027fa0a0\", element=\"aed0aa05-6a54-4c3c-b6a6-56215d097f05\")>,\n",
       " <selenium.webdriver.remote.webelement.WebElement (session=\"826bba43ac7a5eed6244af9a027fa0a0\", element=\"e422f6ca-1eca-4be5-b13e-cad447077702\")>,\n",
       " <selenium.webdriver.remote.webelement.WebElement (session=\"826bba43ac7a5eed6244af9a027fa0a0\", element=\"ba7e172b-5ff4-491a-b2ae-c37bce8b89a4\")>,\n",
       " <selenium.webdriver.remote.webelement.WebElement (session=\"826bba43ac7a5eed6244af9a027fa0a0\", element=\"04e453db-231c-4d77-a906-a8afc6551e1e\")>,\n",
       " <selenium.webdriver.remote.webelement.WebElement (session=\"826bba43ac7a5eed6244af9a027fa0a0\", element=\"bf65d944-fe3c-4bec-a70c-126f2ae6fbb5\")>,\n",
       " <selenium.webdriver.remote.webelement.WebElement (session=\"826bba43ac7a5eed6244af9a027fa0a0\", element=\"6dbd42b4-03e0-43f8-a011-c246bf4306cf\")>,\n",
       " <selenium.webdriver.remote.webelement.WebElement (session=\"826bba43ac7a5eed6244af9a027fa0a0\", element=\"bcec40eb-e1cd-46a1-b991-f934d2f847b4\")>,\n",
       " <selenium.webdriver.remote.webelement.WebElement (session=\"826bba43ac7a5eed6244af9a027fa0a0\", element=\"1026b8fe-081b-41b6-8b7c-df406cfcfdb3\")>,\n",
       " <selenium.webdriver.remote.webelement.WebElement (session=\"826bba43ac7a5eed6244af9a027fa0a0\", element=\"123c6a00-b188-40c8-a521-29bbe5c471ab\")>,\n",
       " <selenium.webdriver.remote.webelement.WebElement (session=\"826bba43ac7a5eed6244af9a027fa0a0\", element=\"7972eba8-c6c1-4af2-a823-771e989dd9af\")>,\n",
       " <selenium.webdriver.remote.webelement.WebElement (session=\"826bba43ac7a5eed6244af9a027fa0a0\", element=\"0e9c5307-f5c4-428e-9931-44906abc4c0f\")>,\n",
       " <selenium.webdriver.remote.webelement.WebElement (session=\"826bba43ac7a5eed6244af9a027fa0a0\", element=\"7f51425c-36f9-4916-8b47-25bf4b9e966c\")>,\n",
       " <selenium.webdriver.remote.webelement.WebElement (session=\"826bba43ac7a5eed6244af9a027fa0a0\", element=\"608e591d-9fda-434f-b521-961905e789c3\")>,\n",
       " <selenium.webdriver.remote.webelement.WebElement (session=\"826bba43ac7a5eed6244af9a027fa0a0\", element=\"7a2a674b-42b3-4117-ae46-03a0345e24ca\")>,\n",
       " <selenium.webdriver.remote.webelement.WebElement (session=\"826bba43ac7a5eed6244af9a027fa0a0\", element=\"5ed14363-305b-44e8-b3e5-26680e5fea6c\")>,\n",
       " <selenium.webdriver.remote.webelement.WebElement (session=\"826bba43ac7a5eed6244af9a027fa0a0\", element=\"71d042e4-53a8-4911-b075-350f919f29b4\")>,\n",
       " <selenium.webdriver.remote.webelement.WebElement (session=\"826bba43ac7a5eed6244af9a027fa0a0\", element=\"5740d935-c0fb-45e7-a5f6-4affc3565a6c\")>,\n",
       " <selenium.webdriver.remote.webelement.WebElement (session=\"826bba43ac7a5eed6244af9a027fa0a0\", element=\"bc26f468-ea85-4703-8016-7b61461732e9\")>,\n",
       " <selenium.webdriver.remote.webelement.WebElement (session=\"826bba43ac7a5eed6244af9a027fa0a0\", element=\"7353fa14-ed69-4e0c-86a4-af1e2b78f71d\")>,\n",
       " <selenium.webdriver.remote.webelement.WebElement (session=\"826bba43ac7a5eed6244af9a027fa0a0\", element=\"ec27da67-49ba-443e-82c2-4b738b15e1b7\")>,\n",
       " <selenium.webdriver.remote.webelement.WebElement (session=\"826bba43ac7a5eed6244af9a027fa0a0\", element=\"b1f30f76-b905-4c90-835b-0b97b1a4b0b5\")>,\n",
       " <selenium.webdriver.remote.webelement.WebElement (session=\"826bba43ac7a5eed6244af9a027fa0a0\", element=\"67a52c15-2f4e-45f7-909e-793971ee73dd\")>,\n",
       " <selenium.webdriver.remote.webelement.WebElement (session=\"826bba43ac7a5eed6244af9a027fa0a0\", element=\"36907580-9270-47fa-8ce8-d9aea648e22a\")>,\n",
       " <selenium.webdriver.remote.webelement.WebElement (session=\"826bba43ac7a5eed6244af9a027fa0a0\", element=\"da86d914-6c02-42a2-a662-c58efecca690\")>,\n",
       " <selenium.webdriver.remote.webelement.WebElement (session=\"826bba43ac7a5eed6244af9a027fa0a0\", element=\"e1436652-cff8-4a9e-99c5-d302b9ba4f94\")>,\n",
       " <selenium.webdriver.remote.webelement.WebElement (session=\"826bba43ac7a5eed6244af9a027fa0a0\", element=\"b4209cb1-4d5e-4efd-a6fc-f50b192d9188\")>,\n",
       " <selenium.webdriver.remote.webelement.WebElement (session=\"826bba43ac7a5eed6244af9a027fa0a0\", element=\"5873f27f-b3a7-4ab3-8096-4005cfc47b64\")>,\n",
       " <selenium.webdriver.remote.webelement.WebElement (session=\"826bba43ac7a5eed6244af9a027fa0a0\", element=\"1248b4c9-490c-4f1a-9e64-960e07889a4a\")>,\n",
       " <selenium.webdriver.remote.webelement.WebElement (session=\"826bba43ac7a5eed6244af9a027fa0a0\", element=\"7d71f355-f0e8-4740-925b-998fea55f0d8\")>,\n",
       " <selenium.webdriver.remote.webelement.WebElement (session=\"826bba43ac7a5eed6244af9a027fa0a0\", element=\"97cacb3b-90c5-4727-b1ab-621068e4eb5e\")>,\n",
       " <selenium.webdriver.remote.webelement.WebElement (session=\"826bba43ac7a5eed6244af9a027fa0a0\", element=\"c612a423-d7f3-445a-a960-cadd2862dbe6\")>,\n",
       " <selenium.webdriver.remote.webelement.WebElement (session=\"826bba43ac7a5eed6244af9a027fa0a0\", element=\"4d75774c-32d6-43d6-8f63-0dceed36c9a7\")>,\n",
       " <selenium.webdriver.remote.webelement.WebElement (session=\"826bba43ac7a5eed6244af9a027fa0a0\", element=\"6b458ff3-8df4-42f6-a80b-fc34f5777631\")>,\n",
       " <selenium.webdriver.remote.webelement.WebElement (session=\"826bba43ac7a5eed6244af9a027fa0a0\", element=\"f141fc67-6982-4867-aa2d-0534ada93e21\")>,\n",
       " <selenium.webdriver.remote.webelement.WebElement (session=\"826bba43ac7a5eed6244af9a027fa0a0\", element=\"8a3c4af0-7993-4f06-9282-9add4d44d67e\")>,\n",
       " <selenium.webdriver.remote.webelement.WebElement (session=\"826bba43ac7a5eed6244af9a027fa0a0\", element=\"d3a97635-82b3-4881-b9e7-d7b9c8e0e0d6\")>,\n",
       " <selenium.webdriver.remote.webelement.WebElement (session=\"826bba43ac7a5eed6244af9a027fa0a0\", element=\"266cb4d9-4789-4e37-8559-4e00676e2f80\")>,\n",
       " <selenium.webdriver.remote.webelement.WebElement (session=\"826bba43ac7a5eed6244af9a027fa0a0\", element=\"80b958c8-05cf-41ca-96d0-5aa4592ef237\")>,\n",
       " <selenium.webdriver.remote.webelement.WebElement (session=\"826bba43ac7a5eed6244af9a027fa0a0\", element=\"ffd3c92c-0be8-4637-b0b5-1a4533b7a608\")>,\n",
       " <selenium.webdriver.remote.webelement.WebElement (session=\"826bba43ac7a5eed6244af9a027fa0a0\", element=\"9eae6630-b395-4ef7-bda4-05e85ccd4968\")>,\n",
       " <selenium.webdriver.remote.webelement.WebElement (session=\"826bba43ac7a5eed6244af9a027fa0a0\", element=\"7be5a373-3642-471b-9289-bff3610b8415\")>,\n",
       " <selenium.webdriver.remote.webelement.WebElement (session=\"826bba43ac7a5eed6244af9a027fa0a0\", element=\"72603ac2-e419-43ff-82b9-3ac0f8aeeb08\")>,\n",
       " <selenium.webdriver.remote.webelement.WebElement (session=\"826bba43ac7a5eed6244af9a027fa0a0\", element=\"cf0fb5cd-a6ed-43fc-bdf1-5267baedeef1\")>,\n",
       " <selenium.webdriver.remote.webelement.WebElement (session=\"826bba43ac7a5eed6244af9a027fa0a0\", element=\"3d776ab8-9a67-4246-8cb8-5dc0663f0b70\")>,\n",
       " <selenium.webdriver.remote.webelement.WebElement (session=\"826bba43ac7a5eed6244af9a027fa0a0\", element=\"4bb39c4a-8ff7-414a-8eeb-fed55910f166\")>,\n",
       " <selenium.webdriver.remote.webelement.WebElement (session=\"826bba43ac7a5eed6244af9a027fa0a0\", element=\"7a306a96-359e-4c1c-bf60-a679b9ee0fbf\")>,\n",
       " <selenium.webdriver.remote.webelement.WebElement (session=\"826bba43ac7a5eed6244af9a027fa0a0\", element=\"f45cfbd0-e8fa-4a13-8f15-8082b4a6cd2a\")>,\n",
       " <selenium.webdriver.remote.webelement.WebElement (session=\"826bba43ac7a5eed6244af9a027fa0a0\", element=\"c4dc1e0e-1a7e-438b-9b6b-03e4c9c91255\")>,\n",
       " <selenium.webdriver.remote.webelement.WebElement (session=\"826bba43ac7a5eed6244af9a027fa0a0\", element=\"990e0ecb-74fc-4cf8-bdeb-4599a3ff730d\")>,\n",
       " <selenium.webdriver.remote.webelement.WebElement (session=\"826bba43ac7a5eed6244af9a027fa0a0\", element=\"e109a620-5244-4478-bef5-0c03a184be91\")>,\n",
       " <selenium.webdriver.remote.webelement.WebElement (session=\"826bba43ac7a5eed6244af9a027fa0a0\", element=\"3675402c-20f6-4427-ba70-2d3e65f2c68b\")>,\n",
       " <selenium.webdriver.remote.webelement.WebElement (session=\"826bba43ac7a5eed6244af9a027fa0a0\", element=\"d9375dcf-cc39-4bc8-bb9e-70fc304b220a\")>,\n",
       " <selenium.webdriver.remote.webelement.WebElement (session=\"826bba43ac7a5eed6244af9a027fa0a0\", element=\"db0ff2c2-d57b-4dec-941a-e6b81e09d76f\")>,\n",
       " <selenium.webdriver.remote.webelement.WebElement (session=\"826bba43ac7a5eed6244af9a027fa0a0\", element=\"e550f0dd-b928-4089-b32a-68a8c5f4af0d\")>,\n",
       " <selenium.webdriver.remote.webelement.WebElement (session=\"826bba43ac7a5eed6244af9a027fa0a0\", element=\"6c566c6d-a987-4d94-9ab0-eb7b639818a1\")>,\n",
       " <selenium.webdriver.remote.webelement.WebElement (session=\"826bba43ac7a5eed6244af9a027fa0a0\", element=\"507b5dbf-8a81-43b4-b155-4b34c31c7654\")>,\n",
       " <selenium.webdriver.remote.webelement.WebElement (session=\"826bba43ac7a5eed6244af9a027fa0a0\", element=\"2be035e9-6adf-40de-8639-0851bbd41057\")>,\n",
       " <selenium.webdriver.remote.webelement.WebElement (session=\"826bba43ac7a5eed6244af9a027fa0a0\", element=\"d4dea57b-6791-466a-bb10-67bc9487c1c3\")>,\n",
       " <selenium.webdriver.remote.webelement.WebElement (session=\"826bba43ac7a5eed6244af9a027fa0a0\", element=\"d46bdf85-b111-47ce-8e45-78d808782a5b\")>,\n",
       " <selenium.webdriver.remote.webelement.WebElement (session=\"826bba43ac7a5eed6244af9a027fa0a0\", element=\"14cb1356-a057-4b7e-91f8-2bfbf9bf1977\")>,\n",
       " <selenium.webdriver.remote.webelement.WebElement (session=\"826bba43ac7a5eed6244af9a027fa0a0\", element=\"10a9c53c-3d06-4e22-a562-e3f26c7b667f\")>,\n",
       " <selenium.webdriver.remote.webelement.WebElement (session=\"826bba43ac7a5eed6244af9a027fa0a0\", element=\"7b50b62c-be7b-4ce8-9c4d-83804545dc59\")>,\n",
       " <selenium.webdriver.remote.webelement.WebElement (session=\"826bba43ac7a5eed6244af9a027fa0a0\", element=\"aebcc7b4-d0b1-40ea-be6b-45db97474c93\")>,\n",
       " <selenium.webdriver.remote.webelement.WebElement (session=\"826bba43ac7a5eed6244af9a027fa0a0\", element=\"808deee4-a32e-4b49-b88a-80b7f94cd482\")>,\n",
       " <selenium.webdriver.remote.webelement.WebElement (session=\"826bba43ac7a5eed6244af9a027fa0a0\", element=\"4229fa94-b147-443d-88c6-156becbc5d30\")>,\n",
       " <selenium.webdriver.remote.webelement.WebElement (session=\"826bba43ac7a5eed6244af9a027fa0a0\", element=\"53e377f4-fc0b-4793-b6e5-375657a88cad\")>,\n",
       " <selenium.webdriver.remote.webelement.WebElement (session=\"826bba43ac7a5eed6244af9a027fa0a0\", element=\"df6fb4a7-1259-40a9-83f0-f33fe774849f\")>,\n",
       " <selenium.webdriver.remote.webelement.WebElement (session=\"826bba43ac7a5eed6244af9a027fa0a0\", element=\"8c96a746-0753-4a7c-84dc-50a315d0e082\")>,\n",
       " <selenium.webdriver.remote.webelement.WebElement (session=\"826bba43ac7a5eed6244af9a027fa0a0\", element=\"c951f45c-a577-4b39-8049-86e612b68d36\")>,\n",
       " <selenium.webdriver.remote.webelement.WebElement (session=\"826bba43ac7a5eed6244af9a027fa0a0\", element=\"bf74da75-1674-4b90-8874-7d24e8626084\")>,\n",
       " <selenium.webdriver.remote.webelement.WebElement (session=\"826bba43ac7a5eed6244af9a027fa0a0\", element=\"f6f0862a-b8ea-40c5-8d8a-a9a5f1850d53\")>,\n",
       " <selenium.webdriver.remote.webelement.WebElement (session=\"826bba43ac7a5eed6244af9a027fa0a0\", element=\"0cf68565-e1a2-4ec8-966f-ba91a6eaf9e2\")>,\n",
       " <selenium.webdriver.remote.webelement.WebElement (session=\"826bba43ac7a5eed6244af9a027fa0a0\", element=\"8fbb3790-02fe-454a-9a80-53ee4386d134\")>,\n",
       " <selenium.webdriver.remote.webelement.WebElement (session=\"826bba43ac7a5eed6244af9a027fa0a0\", element=\"85e2b3ec-8512-4cc6-9b4e-c4625acc2b00\")>,\n",
       " <selenium.webdriver.remote.webelement.WebElement (session=\"826bba43ac7a5eed6244af9a027fa0a0\", element=\"9538aa2c-6e85-4667-bfeb-9c06d3e81230\")>,\n",
       " <selenium.webdriver.remote.webelement.WebElement (session=\"826bba43ac7a5eed6244af9a027fa0a0\", element=\"6eb38298-1ff7-4bd2-87b9-3a622d5c45e3\")>,\n",
       " <selenium.webdriver.remote.webelement.WebElement (session=\"826bba43ac7a5eed6244af9a027fa0a0\", element=\"e65e5722-8ba4-4801-b48b-8d0760a82378\")>,\n",
       " <selenium.webdriver.remote.webelement.WebElement (session=\"826bba43ac7a5eed6244af9a027fa0a0\", element=\"25b7a1e5-d355-4515-9cf8-d015952d366d\")>,\n",
       " <selenium.webdriver.remote.webelement.WebElement (session=\"826bba43ac7a5eed6244af9a027fa0a0\", element=\"81e9b497-eb84-4b1a-ad5e-16528bb63581\")>,\n",
       " <selenium.webdriver.remote.webelement.WebElement (session=\"826bba43ac7a5eed6244af9a027fa0a0\", element=\"62edb810-9f27-4789-a56e-7abba95feeb6\")>,\n",
       " <selenium.webdriver.remote.webelement.WebElement (session=\"826bba43ac7a5eed6244af9a027fa0a0\", element=\"df2f4ff2-79f9-4703-af88-19d7d9b14b90\")>,\n",
       " <selenium.webdriver.remote.webelement.WebElement (session=\"826bba43ac7a5eed6244af9a027fa0a0\", element=\"b0f4f6c7-f55b-4c86-b9f4-d1c8ac623b9c\")>,\n",
       " <selenium.webdriver.remote.webelement.WebElement (session=\"826bba43ac7a5eed6244af9a027fa0a0\", element=\"8934341e-81eb-47c6-84d8-3b396bf47d67\")>,\n",
       " <selenium.webdriver.remote.webelement.WebElement (session=\"826bba43ac7a5eed6244af9a027fa0a0\", element=\"8c4603bb-fb38-4cb4-a968-a08c7808a849\")>,\n",
       " <selenium.webdriver.remote.webelement.WebElement (session=\"826bba43ac7a5eed6244af9a027fa0a0\", element=\"8988c2f3-42de-41c2-87db-3e0f62131569\")>,\n",
       " <selenium.webdriver.remote.webelement.WebElement (session=\"826bba43ac7a5eed6244af9a027fa0a0\", element=\"eb2c7ff2-8c84-4124-8188-959eef9ca828\")>,\n",
       " <selenium.webdriver.remote.webelement.WebElement (session=\"826bba43ac7a5eed6244af9a027fa0a0\", element=\"52c2c8fc-c705-44dc-b76f-6764e45b3fa6\")>,\n",
       " <selenium.webdriver.remote.webelement.WebElement (session=\"826bba43ac7a5eed6244af9a027fa0a0\", element=\"0d2f2c79-4c77-4e43-994a-05be691ef8f2\")>,\n",
       " <selenium.webdriver.remote.webelement.WebElement (session=\"826bba43ac7a5eed6244af9a027fa0a0\", element=\"847a320a-e63e-4e50-9a26-331df5bee467\")>,\n",
       " <selenium.webdriver.remote.webelement.WebElement (session=\"826bba43ac7a5eed6244af9a027fa0a0\", element=\"0701d8cf-33c2-4435-ba10-e4105b644973\")>,\n",
       " <selenium.webdriver.remote.webelement.WebElement (session=\"826bba43ac7a5eed6244af9a027fa0a0\", element=\"6fd4c3b1-fa71-45f0-8627-49e3e0333fbb\")>,\n",
       " <selenium.webdriver.remote.webelement.WebElement (session=\"826bba43ac7a5eed6244af9a027fa0a0\", element=\"5c02af68-a49f-4a7f-9f6a-ae6155b047f2\")>,\n",
       " <selenium.webdriver.remote.webelement.WebElement (session=\"826bba43ac7a5eed6244af9a027fa0a0\", element=\"a6691b66-4f4a-42fc-b81d-592c7f8613a4\")>,\n",
       " <selenium.webdriver.remote.webelement.WebElement (session=\"826bba43ac7a5eed6244af9a027fa0a0\", element=\"034a1ebc-7c69-44c2-bc7d-9fcbe806d942\")>,\n",
       " <selenium.webdriver.remote.webelement.WebElement (session=\"826bba43ac7a5eed6244af9a027fa0a0\", element=\"4c6c6971-9235-4251-a5ac-8562310eb09b\")>,\n",
       " <selenium.webdriver.remote.webelement.WebElement (session=\"826bba43ac7a5eed6244af9a027fa0a0\", element=\"a0f3f9c7-0544-4dfe-b24f-5a5000426eb6\")>,\n",
       " <selenium.webdriver.remote.webelement.WebElement (session=\"826bba43ac7a5eed6244af9a027fa0a0\", element=\"930d15ac-1011-4be9-802e-ab6523608ca7\")>,\n",
       " <selenium.webdriver.remote.webelement.WebElement (session=\"826bba43ac7a5eed6244af9a027fa0a0\", element=\"9496e6ed-3490-4672-b759-d79780265fbb\")>,\n",
       " <selenium.webdriver.remote.webelement.WebElement (session=\"826bba43ac7a5eed6244af9a027fa0a0\", element=\"6c885337-ff45-44f0-acfd-87461314b16b\")>,\n",
       " <selenium.webdriver.remote.webelement.WebElement (session=\"826bba43ac7a5eed6244af9a027fa0a0\", element=\"b33103a4-dac2-48b7-8260-ff2fba6d2182\")>,\n",
       " <selenium.webdriver.remote.webelement.WebElement (session=\"826bba43ac7a5eed6244af9a027fa0a0\", element=\"b7340247-51da-4283-996e-1852aec6c650\")>,\n",
       " <selenium.webdriver.remote.webelement.WebElement (session=\"826bba43ac7a5eed6244af9a027fa0a0\", element=\"18f57c26-380c-4812-9049-b9ec5ad060a2\")>,\n",
       " <selenium.webdriver.remote.webelement.WebElement (session=\"826bba43ac7a5eed6244af9a027fa0a0\", element=\"ce1b123d-cd60-4f83-a4ad-275fb4fa774b\")>,\n",
       " <selenium.webdriver.remote.webelement.WebElement (session=\"826bba43ac7a5eed6244af9a027fa0a0\", element=\"f3cbcd54-9244-49ef-8fe0-a97c8f997d2a\")>,\n",
       " <selenium.webdriver.remote.webelement.WebElement (session=\"826bba43ac7a5eed6244af9a027fa0a0\", element=\"687c3b79-c85f-495f-8f74-346375ff74ef\")>,\n",
       " <selenium.webdriver.remote.webelement.WebElement (session=\"826bba43ac7a5eed6244af9a027fa0a0\", element=\"03c1c312-12e8-42e3-ba9f-239e516566ba\")>,\n",
       " <selenium.webdriver.remote.webelement.WebElement (session=\"826bba43ac7a5eed6244af9a027fa0a0\", element=\"7fa76742-8327-409b-9b2c-060d84187bdf\")>,\n",
       " <selenium.webdriver.remote.webelement.WebElement (session=\"826bba43ac7a5eed6244af9a027fa0a0\", element=\"1e590bb8-eb6b-4e1f-89d1-b9e78d8055c0\")>,\n",
       " <selenium.webdriver.remote.webelement.WebElement (session=\"826bba43ac7a5eed6244af9a027fa0a0\", element=\"1ce2d940-b0a6-4c87-87c1-53fcff0f2c01\")>,\n",
       " <selenium.webdriver.remote.webelement.WebElement (session=\"826bba43ac7a5eed6244af9a027fa0a0\", element=\"83a5384d-2d4f-4bcc-abf3-aad6af0ab2b0\")>,\n",
       " <selenium.webdriver.remote.webelement.WebElement (session=\"826bba43ac7a5eed6244af9a027fa0a0\", element=\"b05f898b-1bcd-44a8-b5bf-dcc079377b60\")>,\n",
       " <selenium.webdriver.remote.webelement.WebElement (session=\"826bba43ac7a5eed6244af9a027fa0a0\", element=\"331d4f7d-c22a-4db0-92b4-aca56431fc7a\")>,\n",
       " <selenium.webdriver.remote.webelement.WebElement (session=\"826bba43ac7a5eed6244af9a027fa0a0\", element=\"827eecd4-a76c-4ec2-8d0b-349ccb23e559\")>,\n",
       " <selenium.webdriver.remote.webelement.WebElement (session=\"826bba43ac7a5eed6244af9a027fa0a0\", element=\"6da010dd-0f13-437f-9ea2-c95c300c50d9\")>,\n",
       " <selenium.webdriver.remote.webelement.WebElement (session=\"826bba43ac7a5eed6244af9a027fa0a0\", element=\"11a128f1-f176-40d4-abb1-d9299cd71174\")>,\n",
       " <selenium.webdriver.remote.webelement.WebElement (session=\"826bba43ac7a5eed6244af9a027fa0a0\", element=\"b0d31b2f-bbee-49dd-8b5e-7a6007cffd5e\")>,\n",
       " <selenium.webdriver.remote.webelement.WebElement (session=\"826bba43ac7a5eed6244af9a027fa0a0\", element=\"99fc5e6e-ff22-4244-86fb-4c4754d497c7\")>,\n",
       " <selenium.webdriver.remote.webelement.WebElement (session=\"826bba43ac7a5eed6244af9a027fa0a0\", element=\"56170bf4-39c6-499f-8fd1-36e8ad6fd713\")>,\n",
       " <selenium.webdriver.remote.webelement.WebElement (session=\"826bba43ac7a5eed6244af9a027fa0a0\", element=\"66c4f566-b830-4344-8cb4-86e02a704739\")>,\n",
       " <selenium.webdriver.remote.webelement.WebElement (session=\"826bba43ac7a5eed6244af9a027fa0a0\", element=\"ddec51f7-522d-4784-b9e5-b147350e645a\")>,\n",
       " <selenium.webdriver.remote.webelement.WebElement (session=\"826bba43ac7a5eed6244af9a027fa0a0\", element=\"385c6ade-d052-4e9a-9d08-1537d7d896c1\")>,\n",
       " <selenium.webdriver.remote.webelement.WebElement (session=\"826bba43ac7a5eed6244af9a027fa0a0\", element=\"56b24d9a-d1b5-4345-befa-25a6986f6f78\")>,\n",
       " <selenium.webdriver.remote.webelement.WebElement (session=\"826bba43ac7a5eed6244af9a027fa0a0\", element=\"26d06e01-8b6c-4afd-a866-508f32e019a0\")>,\n",
       " <selenium.webdriver.remote.webelement.WebElement (session=\"826bba43ac7a5eed6244af9a027fa0a0\", element=\"d8e9dc0a-f471-4413-9138-be5e610131ae\")>,\n",
       " <selenium.webdriver.remote.webelement.WebElement (session=\"826bba43ac7a5eed6244af9a027fa0a0\", element=\"a2be46a9-aee9-4819-89ba-8281f535c48e\")>,\n",
       " <selenium.webdriver.remote.webelement.WebElement (session=\"826bba43ac7a5eed6244af9a027fa0a0\", element=\"21c58bec-f81f-4f82-ab3a-36a570d2658b\")>,\n",
       " <selenium.webdriver.remote.webelement.WebElement (session=\"826bba43ac7a5eed6244af9a027fa0a0\", element=\"9c676cc7-dd15-4333-a968-355c35de8d01\")>,\n",
       " <selenium.webdriver.remote.webelement.WebElement (session=\"826bba43ac7a5eed6244af9a027fa0a0\", element=\"e6852f8b-82a5-4f48-9c81-6554e4a56ba7\")>,\n",
       " <selenium.webdriver.remote.webelement.WebElement (session=\"826bba43ac7a5eed6244af9a027fa0a0\", element=\"f32ccd4a-c5d5-48f7-b057-4fa40a3f3352\")>,\n",
       " <selenium.webdriver.remote.webelement.WebElement (session=\"826bba43ac7a5eed6244af9a027fa0a0\", element=\"150818e2-0a2d-40dc-9bd0-b1a2f138cbcf\")>,\n",
       " <selenium.webdriver.remote.webelement.WebElement (session=\"826bba43ac7a5eed6244af9a027fa0a0\", element=\"5a0106ca-d802-4785-aa3d-e4ad6a7e9ae8\")>,\n",
       " <selenium.webdriver.remote.webelement.WebElement (session=\"826bba43ac7a5eed6244af9a027fa0a0\", element=\"d2c2ab5e-a5be-489b-afc0-9267fdee5b2e\")>,\n",
       " <selenium.webdriver.remote.webelement.WebElement (session=\"826bba43ac7a5eed6244af9a027fa0a0\", element=\"a2a7da03-8578-4d9f-b94a-b75e1fbe32be\")>,\n",
       " <selenium.webdriver.remote.webelement.WebElement (session=\"826bba43ac7a5eed6244af9a027fa0a0\", element=\"132b32f2-43b9-48b4-952e-625b334580d9\")>,\n",
       " <selenium.webdriver.remote.webelement.WebElement (session=\"826bba43ac7a5eed6244af9a027fa0a0\", element=\"bc2d538c-db28-4dd9-9f4e-2c2c18c493ed\")>,\n",
       " <selenium.webdriver.remote.webelement.WebElement (session=\"826bba43ac7a5eed6244af9a027fa0a0\", element=\"c4b5924e-da16-49bb-8d76-ad4174adb942\")>,\n",
       " <selenium.webdriver.remote.webelement.WebElement (session=\"826bba43ac7a5eed6244af9a027fa0a0\", element=\"6a688257-befd-4d53-8706-257b3abb83b5\")>,\n",
       " <selenium.webdriver.remote.webelement.WebElement (session=\"826bba43ac7a5eed6244af9a027fa0a0\", element=\"64d0fe19-cac5-48eb-9560-200f405b2dce\")>,\n",
       " <selenium.webdriver.remote.webelement.WebElement (session=\"826bba43ac7a5eed6244af9a027fa0a0\", element=\"f41964f0-57fd-4a3b-b75a-7399fa807f09\")>,\n",
       " <selenium.webdriver.remote.webelement.WebElement (session=\"826bba43ac7a5eed6244af9a027fa0a0\", element=\"02a4c355-ed7f-48b3-bd31-303bf7bb7e31\")>,\n",
       " <selenium.webdriver.remote.webelement.WebElement (session=\"826bba43ac7a5eed6244af9a027fa0a0\", element=\"f1ecf63e-9844-4097-81d4-0d2190a5d182\")>,\n",
       " <selenium.webdriver.remote.webelement.WebElement (session=\"826bba43ac7a5eed6244af9a027fa0a0\", element=\"db4de9fc-bd5a-422c-84c1-ffb8168bb590\")>,\n",
       " <selenium.webdriver.remote.webelement.WebElement (session=\"826bba43ac7a5eed6244af9a027fa0a0\", element=\"f9473405-3e16-4c98-b6cf-0cd39db9d2c2\")>,\n",
       " <selenium.webdriver.remote.webelement.WebElement (session=\"826bba43ac7a5eed6244af9a027fa0a0\", element=\"f267ae13-a252-4033-8d9a-0c3bbaaa268b\")>,\n",
       " <selenium.webdriver.remote.webelement.WebElement (session=\"826bba43ac7a5eed6244af9a027fa0a0\", element=\"fca4effb-eec6-47a6-82d3-36949215a16c\")>,\n",
       " <selenium.webdriver.remote.webelement.WebElement (session=\"826bba43ac7a5eed6244af9a027fa0a0\", element=\"aaab3b7e-c761-4317-937c-7239929b9cb3\")>,\n",
       " <selenium.webdriver.remote.webelement.WebElement (session=\"826bba43ac7a5eed6244af9a027fa0a0\", element=\"a93c2698-923d-4091-8af0-8bebe15cf939\")>,\n",
       " <selenium.webdriver.remote.webelement.WebElement (session=\"826bba43ac7a5eed6244af9a027fa0a0\", element=\"38c59e26-6601-4906-b838-e35c9796f7d5\")>,\n",
       " <selenium.webdriver.remote.webelement.WebElement (session=\"826bba43ac7a5eed6244af9a027fa0a0\", element=\"5943e841-304a-4e67-bf43-55c5fb4a5a4f\")>,\n",
       " <selenium.webdriver.remote.webelement.WebElement (session=\"826bba43ac7a5eed6244af9a027fa0a0\", element=\"96348d39-8403-4948-83ae-65e9d25fde49\")>,\n",
       " <selenium.webdriver.remote.webelement.WebElement (session=\"826bba43ac7a5eed6244af9a027fa0a0\", element=\"0b59f731-405f-4c3e-a7b8-b95fdf6979c6\")>,\n",
       " <selenium.webdriver.remote.webelement.WebElement (session=\"826bba43ac7a5eed6244af9a027fa0a0\", element=\"38a32058-20a7-4cb4-9a4a-bf1b1b8c94c4\")>,\n",
       " <selenium.webdriver.remote.webelement.WebElement (session=\"826bba43ac7a5eed6244af9a027fa0a0\", element=\"549724af-fd22-4ce5-9446-e4c3bce5f151\")>,\n",
       " <selenium.webdriver.remote.webelement.WebElement (session=\"826bba43ac7a5eed6244af9a027fa0a0\", element=\"c05b900b-d56f-4bf0-a4ff-38aba2287eee\")>,\n",
       " <selenium.webdriver.remote.webelement.WebElement (session=\"826bba43ac7a5eed6244af9a027fa0a0\", element=\"cb0ba502-8dfb-4a59-9780-03b4497f2d79\")>,\n",
       " <selenium.webdriver.remote.webelement.WebElement (session=\"826bba43ac7a5eed6244af9a027fa0a0\", element=\"93e37d4d-0e78-42db-935c-fbc0325a860d\")>,\n",
       " <selenium.webdriver.remote.webelement.WebElement (session=\"826bba43ac7a5eed6244af9a027fa0a0\", element=\"c9b83983-fa74-491f-9fc1-01e636569d59\")>,\n",
       " <selenium.webdriver.remote.webelement.WebElement (session=\"826bba43ac7a5eed6244af9a027fa0a0\", element=\"a5a77ce7-0fd4-4665-9714-fbb2f1444107\")>,\n",
       " <selenium.webdriver.remote.webelement.WebElement (session=\"826bba43ac7a5eed6244af9a027fa0a0\", element=\"059f76a5-301b-465f-88a1-e11f5b086351\")>,\n",
       " <selenium.webdriver.remote.webelement.WebElement (session=\"826bba43ac7a5eed6244af9a027fa0a0\", element=\"c8c26d1b-8a0c-4718-8a50-03ae3fdf3635\")>,\n",
       " <selenium.webdriver.remote.webelement.WebElement (session=\"826bba43ac7a5eed6244af9a027fa0a0\", element=\"cb01a549-40ac-4980-a0fa-c261688d126d\")>,\n",
       " <selenium.webdriver.remote.webelement.WebElement (session=\"826bba43ac7a5eed6244af9a027fa0a0\", element=\"03e8273d-474d-4077-8e4c-00ecb89fae1c\")>,\n",
       " <selenium.webdriver.remote.webelement.WebElement (session=\"826bba43ac7a5eed6244af9a027fa0a0\", element=\"80781b10-a196-413d-b39c-dabf28d0e84c\")>,\n",
       " <selenium.webdriver.remote.webelement.WebElement (session=\"826bba43ac7a5eed6244af9a027fa0a0\", element=\"d9d637f8-e13a-4ad8-9d49-a935660c4205\")>,\n",
       " <selenium.webdriver.remote.webelement.WebElement (session=\"826bba43ac7a5eed6244af9a027fa0a0\", element=\"34c229fc-a29a-44e9-9ff7-6e4b6c2462c6\")>,\n",
       " <selenium.webdriver.remote.webelement.WebElement (session=\"826bba43ac7a5eed6244af9a027fa0a0\", element=\"22173101-4136-42b0-a65a-11aa7729d631\")>,\n",
       " <selenium.webdriver.remote.webelement.WebElement (session=\"826bba43ac7a5eed6244af9a027fa0a0\", element=\"3792197a-f752-4a17-9571-f2582fc08304\")>,\n",
       " <selenium.webdriver.remote.webelement.WebElement (session=\"826bba43ac7a5eed6244af9a027fa0a0\", element=\"86eb7fb7-03fe-4452-bef9-6e355e25ef40\")>,\n",
       " <selenium.webdriver.remote.webelement.WebElement (session=\"826bba43ac7a5eed6244af9a027fa0a0\", element=\"7c86bdc4-c35e-42e4-991a-80c817950141\")>,\n",
       " <selenium.webdriver.remote.webelement.WebElement (session=\"826bba43ac7a5eed6244af9a027fa0a0\", element=\"6f892935-5596-40d7-b40a-d9d888ae2159\")>,\n",
       " <selenium.webdriver.remote.webelement.WebElement (session=\"826bba43ac7a5eed6244af9a027fa0a0\", element=\"c270b1a3-4573-4553-81b8-87411e21e5b1\")>,\n",
       " <selenium.webdriver.remote.webelement.WebElement (session=\"826bba43ac7a5eed6244af9a027fa0a0\", element=\"eb1a0b6f-5518-448e-ba4f-4647a62984be\")>,\n",
       " <selenium.webdriver.remote.webelement.WebElement (session=\"826bba43ac7a5eed6244af9a027fa0a0\", element=\"1798e6fe-477e-4e7c-bc6b-3b79029b9bf3\")>,\n",
       " <selenium.webdriver.remote.webelement.WebElement (session=\"826bba43ac7a5eed6244af9a027fa0a0\", element=\"a0016c36-544b-4a10-aa0b-b45c383ee0ae\")>,\n",
       " <selenium.webdriver.remote.webelement.WebElement (session=\"826bba43ac7a5eed6244af9a027fa0a0\", element=\"8f622bfd-c8f1-4ed0-b583-eafee0a2e300\")>,\n",
       " <selenium.webdriver.remote.webelement.WebElement (session=\"826bba43ac7a5eed6244af9a027fa0a0\", element=\"bdb52881-08ca-4780-b339-b40fec6bf175\")>,\n",
       " <selenium.webdriver.remote.webelement.WebElement (session=\"826bba43ac7a5eed6244af9a027fa0a0\", element=\"dec1285e-209f-4ba4-85a9-91b9f8d12ad0\")>,\n",
       " <selenium.webdriver.remote.webelement.WebElement (session=\"826bba43ac7a5eed6244af9a027fa0a0\", element=\"c9046dcd-8a94-497c-a0dc-c6de245173a0\")>,\n",
       " <selenium.webdriver.remote.webelement.WebElement (session=\"826bba43ac7a5eed6244af9a027fa0a0\", element=\"fd0a5b6b-2d7e-4c4a-b68c-76c0b036ccb6\")>,\n",
       " <selenium.webdriver.remote.webelement.WebElement (session=\"826bba43ac7a5eed6244af9a027fa0a0\", element=\"ab2bfde8-dfff-4686-862c-0961d43dfd90\")>,\n",
       " <selenium.webdriver.remote.webelement.WebElement (session=\"826bba43ac7a5eed6244af9a027fa0a0\", element=\"ec872a8d-c133-4576-ad68-ddcd99239ae7\")>,\n",
       " <selenium.webdriver.remote.webelement.WebElement (session=\"826bba43ac7a5eed6244af9a027fa0a0\", element=\"748eff26-7aeb-436b-860d-e1db45769752\")>,\n",
       " <selenium.webdriver.remote.webelement.WebElement (session=\"826bba43ac7a5eed6244af9a027fa0a0\", element=\"827e1410-0ce5-4868-93a6-3a43f24b4b36\")>,\n",
       " <selenium.webdriver.remote.webelement.WebElement (session=\"826bba43ac7a5eed6244af9a027fa0a0\", element=\"7b3f9556-807f-4611-a161-24d224f6aada\")>,\n",
       " <selenium.webdriver.remote.webelement.WebElement (session=\"826bba43ac7a5eed6244af9a027fa0a0\", element=\"fa5fb03f-5a7c-4172-95a1-681f6132747e\")>,\n",
       " <selenium.webdriver.remote.webelement.WebElement (session=\"826bba43ac7a5eed6244af9a027fa0a0\", element=\"8f452485-eca5-4c4d-9c65-d294789e52a4\")>,\n",
       " <selenium.webdriver.remote.webelement.WebElement (session=\"826bba43ac7a5eed6244af9a027fa0a0\", element=\"ad9dffb4-a2e2-4cdd-8c20-bafc2241d0b6\")>,\n",
       " <selenium.webdriver.remote.webelement.WebElement (session=\"826bba43ac7a5eed6244af9a027fa0a0\", element=\"3eab0bc2-b898-481e-b74d-3705d7fb4ae9\")>,\n",
       " <selenium.webdriver.remote.webelement.WebElement (session=\"826bba43ac7a5eed6244af9a027fa0a0\", element=\"c28b15ab-be85-4738-b44b-3737a65c090a\")>,\n",
       " <selenium.webdriver.remote.webelement.WebElement (session=\"826bba43ac7a5eed6244af9a027fa0a0\", element=\"1570e270-9717-4261-9193-4651eb27047a\")>,\n",
       " <selenium.webdriver.remote.webelement.WebElement (session=\"826bba43ac7a5eed6244af9a027fa0a0\", element=\"bddb1353-b26a-44ad-8a26-35afbc02d95a\")>,\n",
       " <selenium.webdriver.remote.webelement.WebElement (session=\"826bba43ac7a5eed6244af9a027fa0a0\", element=\"d64ace8c-06ca-44cb-9501-710be6811cfd\")>,\n",
       " <selenium.webdriver.remote.webelement.WebElement (session=\"826bba43ac7a5eed6244af9a027fa0a0\", element=\"4ca88243-e043-4cf0-b35b-39cad1aea257\")>,\n",
       " <selenium.webdriver.remote.webelement.WebElement (session=\"826bba43ac7a5eed6244af9a027fa0a0\", element=\"1ddaa1de-b7b6-401e-96c5-9829c439b180\")>,\n",
       " <selenium.webdriver.remote.webelement.WebElement (session=\"826bba43ac7a5eed6244af9a027fa0a0\", element=\"145d7221-7b76-46e1-bb67-7e03c65e571a\")>,\n",
       " <selenium.webdriver.remote.webelement.WebElement (session=\"826bba43ac7a5eed6244af9a027fa0a0\", element=\"858ecd3b-c6c5-4322-b9b1-50a3758f718c\")>,\n",
       " <selenium.webdriver.remote.webelement.WebElement (session=\"826bba43ac7a5eed6244af9a027fa0a0\", element=\"e988d88d-0b9c-4045-8c3d-bab75858b702\")>,\n",
       " <selenium.webdriver.remote.webelement.WebElement (session=\"826bba43ac7a5eed6244af9a027fa0a0\", element=\"a39a2d7d-2fff-4937-8489-c29b56296ef9\")>,\n",
       " <selenium.webdriver.remote.webelement.WebElement (session=\"826bba43ac7a5eed6244af9a027fa0a0\", element=\"97243309-11b1-4968-a912-42fd025a296b\")>,\n",
       " <selenium.webdriver.remote.webelement.WebElement (session=\"826bba43ac7a5eed6244af9a027fa0a0\", element=\"972b7b3d-a3b9-48e2-ad40-619f57d193b5\")>,\n",
       " <selenium.webdriver.remote.webelement.WebElement (session=\"826bba43ac7a5eed6244af9a027fa0a0\", element=\"02e22652-fd55-4e62-bf5d-c464490290b0\")>,\n",
       " <selenium.webdriver.remote.webelement.WebElement (session=\"826bba43ac7a5eed6244af9a027fa0a0\", element=\"0490b5c6-98e1-49ca-9282-bf201148f685\")>,\n",
       " <selenium.webdriver.remote.webelement.WebElement (session=\"826bba43ac7a5eed6244af9a027fa0a0\", element=\"095897e6-7936-4c0b-ac0d-bbe4f9ec7288\")>,\n",
       " <selenium.webdriver.remote.webelement.WebElement (session=\"826bba43ac7a5eed6244af9a027fa0a0\", element=\"f6f7e01d-324b-48f5-a174-24625a95ebe3\")>,\n",
       " <selenium.webdriver.remote.webelement.WebElement (session=\"826bba43ac7a5eed6244af9a027fa0a0\", element=\"7143e869-c655-49f0-8446-2654980c52e5\")>,\n",
       " <selenium.webdriver.remote.webelement.WebElement (session=\"826bba43ac7a5eed6244af9a027fa0a0\", element=\"baa061a6-7018-4a7b-bb60-ac85f7a50f51\")>,\n",
       " <selenium.webdriver.remote.webelement.WebElement (session=\"826bba43ac7a5eed6244af9a027fa0a0\", element=\"552ebbcb-ee17-4775-9674-c717059ab073\")>,\n",
       " <selenium.webdriver.remote.webelement.WebElement (session=\"826bba43ac7a5eed6244af9a027fa0a0\", element=\"a40695ee-3db1-46aa-ba08-2a10d6763e87\")>,\n",
       " <selenium.webdriver.remote.webelement.WebElement (session=\"826bba43ac7a5eed6244af9a027fa0a0\", element=\"9ebab3ce-b132-4cf1-9df7-e530b9e26db5\")>,\n",
       " <selenium.webdriver.remote.webelement.WebElement (session=\"826bba43ac7a5eed6244af9a027fa0a0\", element=\"0a210305-26ab-420c-b5ed-c1033e0c2303\")>,\n",
       " <selenium.webdriver.remote.webelement.WebElement (session=\"826bba43ac7a5eed6244af9a027fa0a0\", element=\"86513aba-0191-406e-9969-1e4e1e7b756a\")>,\n",
       " <selenium.webdriver.remote.webelement.WebElement (session=\"826bba43ac7a5eed6244af9a027fa0a0\", element=\"f2d5284b-6e23-4c65-a2fa-06e3517c25ee\")>,\n",
       " <selenium.webdriver.remote.webelement.WebElement (session=\"826bba43ac7a5eed6244af9a027fa0a0\", element=\"96dd9859-f257-43c2-938b-d1ca0ffc5e2c\")>,\n",
       " <selenium.webdriver.remote.webelement.WebElement (session=\"826bba43ac7a5eed6244af9a027fa0a0\", element=\"c8101e74-aee4-4d84-bc7c-892e73723bef\")>,\n",
       " <selenium.webdriver.remote.webelement.WebElement (session=\"826bba43ac7a5eed6244af9a027fa0a0\", element=\"a0b7d0ac-7350-4fda-9183-5beef6f69f8c\")>,\n",
       " <selenium.webdriver.remote.webelement.WebElement (session=\"826bba43ac7a5eed6244af9a027fa0a0\", element=\"dd458544-339f-45e3-937c-14ba21e50d16\")>,\n",
       " <selenium.webdriver.remote.webelement.WebElement (session=\"826bba43ac7a5eed6244af9a027fa0a0\", element=\"5f096e4d-04e5-436e-ac36-cce2d9973aff\")>,\n",
       " <selenium.webdriver.remote.webelement.WebElement (session=\"826bba43ac7a5eed6244af9a027fa0a0\", element=\"53fb1997-405a-4534-b06a-76cfcc6f500d\")>,\n",
       " <selenium.webdriver.remote.webelement.WebElement (session=\"826bba43ac7a5eed6244af9a027fa0a0\", element=\"74ecc39b-6d7b-4ded-90ac-45bd681d58f9\")>,\n",
       " <selenium.webdriver.remote.webelement.WebElement (session=\"826bba43ac7a5eed6244af9a027fa0a0\", element=\"f53967e8-74c9-405b-96ba-a0198f0d206e\")>,\n",
       " <selenium.webdriver.remote.webelement.WebElement (session=\"826bba43ac7a5eed6244af9a027fa0a0\", element=\"e95a9e25-1ece-471d-8b14-dea69a2babef\")>,\n",
       " <selenium.webdriver.remote.webelement.WebElement (session=\"826bba43ac7a5eed6244af9a027fa0a0\", element=\"06ae5394-140b-49f4-84d1-f803d3fc8b8e\")>,\n",
       " <selenium.webdriver.remote.webelement.WebElement (session=\"826bba43ac7a5eed6244af9a027fa0a0\", element=\"ea1a02ff-f36b-4541-89a6-f3fb4ebe4055\")>,\n",
       " <selenium.webdriver.remote.webelement.WebElement (session=\"826bba43ac7a5eed6244af9a027fa0a0\", element=\"6428b7b4-f0af-4906-a647-fda058053c5d\")>,\n",
       " <selenium.webdriver.remote.webelement.WebElement (session=\"826bba43ac7a5eed6244af9a027fa0a0\", element=\"cb41cd48-9e9c-4c63-add2-769fc3cd1c8f\")>,\n",
       " <selenium.webdriver.remote.webelement.WebElement (session=\"826bba43ac7a5eed6244af9a027fa0a0\", element=\"7ef1551a-eb07-419a-ab8c-2a09e682ff7b\")>,\n",
       " <selenium.webdriver.remote.webelement.WebElement (session=\"826bba43ac7a5eed6244af9a027fa0a0\", element=\"c24b8236-c9c9-4521-9058-28c42d45512d\")>,\n",
       " <selenium.webdriver.remote.webelement.WebElement (session=\"826bba43ac7a5eed6244af9a027fa0a0\", element=\"abdbbcca-cb5f-4641-b4b2-d5c6bbd9b88c\")>,\n",
       " <selenium.webdriver.remote.webelement.WebElement (session=\"826bba43ac7a5eed6244af9a027fa0a0\", element=\"ab603826-170b-44ad-a6b3-5e2c7d51cd15\")>,\n",
       " <selenium.webdriver.remote.webelement.WebElement (session=\"826bba43ac7a5eed6244af9a027fa0a0\", element=\"d6f66a6e-efde-4d51-83fc-f08d1aaa8c36\")>,\n",
       " <selenium.webdriver.remote.webelement.WebElement (session=\"826bba43ac7a5eed6244af9a027fa0a0\", element=\"99c41e46-c5e7-4eee-840b-6f0b13405637\")>,\n",
       " <selenium.webdriver.remote.webelement.WebElement (session=\"826bba43ac7a5eed6244af9a027fa0a0\", element=\"0cfde2f6-df0b-4f47-abbb-5f63079e24cf\")>,\n",
       " <selenium.webdriver.remote.webelement.WebElement (session=\"826bba43ac7a5eed6244af9a027fa0a0\", element=\"f1c9b169-cf83-4b0c-b342-94a98fda860e\")>,\n",
       " <selenium.webdriver.remote.webelement.WebElement (session=\"826bba43ac7a5eed6244af9a027fa0a0\", element=\"6bab10ff-6179-490a-a5f7-615918f3776e\")>,\n",
       " <selenium.webdriver.remote.webelement.WebElement (session=\"826bba43ac7a5eed6244af9a027fa0a0\", element=\"1258a2b6-095f-482b-9608-c3f8b1cfe29c\")>]"
      ]
     },
     "execution_count": 146,
     "metadata": {},
     "output_type": "execute_result"
    }
   ],
   "source": [
    "author_name=driver.find_elements_by_xpath('//td[@class=\"left\"]')\n",
    "author_name"
   ]
  },
  {
   "cell_type": "code",
   "execution_count": 147,
   "id": "ffb71b49",
   "metadata": {},
   "outputs": [
    {
     "data": {
      "text/plain": [
       "[]"
      ]
     },
     "execution_count": 147,
     "metadata": {},
     "output_type": "execute_result"
    }
   ],
   "source": [
    "author_name=[]\n",
    "for i in author_name:\n",
    "   author_name.append(i.text)\n",
    "    \n",
    "author_name"
   ]
  },
  {
   "cell_type": "code",
   "execution_count": 148,
   "id": "f8513f1c",
   "metadata": {
    "scrolled": false
   },
   "outputs": [
    {
     "name": "stderr",
     "output_type": "stream",
     "text": [
      "<ipython-input-148-d2b422958f52>:1: DeprecationWarning: find_elements_by_* commands are deprecated. Please use find_elements() instead\n",
      "  volume_sold=driver.find_elements_by_xpath('//td[@class=\"left\"]')\n"
     ]
    },
    {
     "data": {
      "text/plain": [
       "[<selenium.webdriver.remote.webelement.WebElement (session=\"826bba43ac7a5eed6244af9a027fa0a0\", element=\"b916ed08-9c4e-424b-b0e7-322ff27ffd33\")>,\n",
       " <selenium.webdriver.remote.webelement.WebElement (session=\"826bba43ac7a5eed6244af9a027fa0a0\", element=\"5a5a5276-1a27-4089-a509-b3a983eec827\")>,\n",
       " <selenium.webdriver.remote.webelement.WebElement (session=\"826bba43ac7a5eed6244af9a027fa0a0\", element=\"090b9cba-8fb0-425e-a251-7fe9d07318f1\")>,\n",
       " <selenium.webdriver.remote.webelement.WebElement (session=\"826bba43ac7a5eed6244af9a027fa0a0\", element=\"69ed12ee-8f2a-4715-a11b-0b38b02747cd\")>,\n",
       " <selenium.webdriver.remote.webelement.WebElement (session=\"826bba43ac7a5eed6244af9a027fa0a0\", element=\"32a5abe6-3a6d-4cd7-bd8e-17025f9e5dc8\")>,\n",
       " <selenium.webdriver.remote.webelement.WebElement (session=\"826bba43ac7a5eed6244af9a027fa0a0\", element=\"b02b6d39-904a-47c8-9e2c-b29803a70979\")>,\n",
       " <selenium.webdriver.remote.webelement.WebElement (session=\"826bba43ac7a5eed6244af9a027fa0a0\", element=\"b0ec2b03-ab0e-40ee-bf82-8707cb7860c0\")>,\n",
       " <selenium.webdriver.remote.webelement.WebElement (session=\"826bba43ac7a5eed6244af9a027fa0a0\", element=\"0f1cd7b7-d381-4811-b480-60a8c326ff31\")>,\n",
       " <selenium.webdriver.remote.webelement.WebElement (session=\"826bba43ac7a5eed6244af9a027fa0a0\", element=\"be446c48-e019-4610-8138-6961a6667824\")>,\n",
       " <selenium.webdriver.remote.webelement.WebElement (session=\"826bba43ac7a5eed6244af9a027fa0a0\", element=\"aa8ccce3-3c22-4517-b68f-ceff58ceff7a\")>,\n",
       " <selenium.webdriver.remote.webelement.WebElement (session=\"826bba43ac7a5eed6244af9a027fa0a0\", element=\"f428c99d-d025-46cf-a21f-5caeae763f48\")>,\n",
       " <selenium.webdriver.remote.webelement.WebElement (session=\"826bba43ac7a5eed6244af9a027fa0a0\", element=\"671ee705-45b7-4985-8108-22fb3863f380\")>,\n",
       " <selenium.webdriver.remote.webelement.WebElement (session=\"826bba43ac7a5eed6244af9a027fa0a0\", element=\"20cad254-88ad-4044-8300-9f7604b5a549\")>,\n",
       " <selenium.webdriver.remote.webelement.WebElement (session=\"826bba43ac7a5eed6244af9a027fa0a0\", element=\"5741e637-f0a5-401b-a4cf-1dc3be36674e\")>,\n",
       " <selenium.webdriver.remote.webelement.WebElement (session=\"826bba43ac7a5eed6244af9a027fa0a0\", element=\"affa704e-a25c-4157-b1cf-fede6a4553ef\")>,\n",
       " <selenium.webdriver.remote.webelement.WebElement (session=\"826bba43ac7a5eed6244af9a027fa0a0\", element=\"d6cb6de1-506c-4e24-b49f-a5b3c060131e\")>,\n",
       " <selenium.webdriver.remote.webelement.WebElement (session=\"826bba43ac7a5eed6244af9a027fa0a0\", element=\"4ea11cfb-d07d-42eb-8b4e-04cc95358da0\")>,\n",
       " <selenium.webdriver.remote.webelement.WebElement (session=\"826bba43ac7a5eed6244af9a027fa0a0\", element=\"f37ccf77-3ea1-4a11-84ee-f9939ba05988\")>,\n",
       " <selenium.webdriver.remote.webelement.WebElement (session=\"826bba43ac7a5eed6244af9a027fa0a0\", element=\"52524ac3-56a8-49c1-aebb-0f18cf19e950\")>,\n",
       " <selenium.webdriver.remote.webelement.WebElement (session=\"826bba43ac7a5eed6244af9a027fa0a0\", element=\"a69bc104-4f77-4749-984e-5d6aff1c55bf\")>,\n",
       " <selenium.webdriver.remote.webelement.WebElement (session=\"826bba43ac7a5eed6244af9a027fa0a0\", element=\"daf183be-ee7c-4a62-b0b4-6100cc08fb74\")>,\n",
       " <selenium.webdriver.remote.webelement.WebElement (session=\"826bba43ac7a5eed6244af9a027fa0a0\", element=\"fa50a8e7-0deb-4675-9ff7-4c3186fb834f\")>,\n",
       " <selenium.webdriver.remote.webelement.WebElement (session=\"826bba43ac7a5eed6244af9a027fa0a0\", element=\"9c567fe1-90f0-4ea1-8817-ab6830dcb879\")>,\n",
       " <selenium.webdriver.remote.webelement.WebElement (session=\"826bba43ac7a5eed6244af9a027fa0a0\", element=\"8af7515c-6a45-49c6-8e0d-638d16167edd\")>,\n",
       " <selenium.webdriver.remote.webelement.WebElement (session=\"826bba43ac7a5eed6244af9a027fa0a0\", element=\"8557b5aa-c6de-4e54-8e9c-ab76add5c1c5\")>,\n",
       " <selenium.webdriver.remote.webelement.WebElement (session=\"826bba43ac7a5eed6244af9a027fa0a0\", element=\"bbdfc37b-921a-4665-8771-52e266b2b7c4\")>,\n",
       " <selenium.webdriver.remote.webelement.WebElement (session=\"826bba43ac7a5eed6244af9a027fa0a0\", element=\"e1c02d4a-d357-49e6-bab8-7505ae7135fd\")>,\n",
       " <selenium.webdriver.remote.webelement.WebElement (session=\"826bba43ac7a5eed6244af9a027fa0a0\", element=\"1ab5fffb-26e1-446d-ab12-aece8610513c\")>,\n",
       " <selenium.webdriver.remote.webelement.WebElement (session=\"826bba43ac7a5eed6244af9a027fa0a0\", element=\"3b34b989-0f0c-45c6-b786-e56c7b7d56bc\")>,\n",
       " <selenium.webdriver.remote.webelement.WebElement (session=\"826bba43ac7a5eed6244af9a027fa0a0\", element=\"7b03fca0-ef8f-4901-a2c1-2b4367a62cf7\")>,\n",
       " <selenium.webdriver.remote.webelement.WebElement (session=\"826bba43ac7a5eed6244af9a027fa0a0\", element=\"4302fd12-7dd1-42ba-9fbf-9597978a9e32\")>,\n",
       " <selenium.webdriver.remote.webelement.WebElement (session=\"826bba43ac7a5eed6244af9a027fa0a0\", element=\"8902eb31-cc4a-47a7-9625-0a2393be5316\")>,\n",
       " <selenium.webdriver.remote.webelement.WebElement (session=\"826bba43ac7a5eed6244af9a027fa0a0\", element=\"4792d231-72cc-4b70-93e9-8f11ba1f9421\")>,\n",
       " <selenium.webdriver.remote.webelement.WebElement (session=\"826bba43ac7a5eed6244af9a027fa0a0\", element=\"8fc7bf41-e599-436d-99e4-c68703f615fa\")>,\n",
       " <selenium.webdriver.remote.webelement.WebElement (session=\"826bba43ac7a5eed6244af9a027fa0a0\", element=\"e520f96f-cc2c-4d6a-b221-89618da072b8\")>,\n",
       " <selenium.webdriver.remote.webelement.WebElement (session=\"826bba43ac7a5eed6244af9a027fa0a0\", element=\"2b0bb9ed-a150-4b38-aff2-2f67bcc449a5\")>,\n",
       " <selenium.webdriver.remote.webelement.WebElement (session=\"826bba43ac7a5eed6244af9a027fa0a0\", element=\"ea48eaf3-cd9e-4842-ab72-1122d386fd2f\")>,\n",
       " <selenium.webdriver.remote.webelement.WebElement (session=\"826bba43ac7a5eed6244af9a027fa0a0\", element=\"b3952f44-7017-461c-b52e-b2a1654d97a8\")>,\n",
       " <selenium.webdriver.remote.webelement.WebElement (session=\"826bba43ac7a5eed6244af9a027fa0a0\", element=\"d081f219-86b9-40c2-a842-fbee3670733c\")>,\n",
       " <selenium.webdriver.remote.webelement.WebElement (session=\"826bba43ac7a5eed6244af9a027fa0a0\", element=\"604c5322-bba7-4b4a-8595-47aae00a7c79\")>,\n",
       " <selenium.webdriver.remote.webelement.WebElement (session=\"826bba43ac7a5eed6244af9a027fa0a0\", element=\"59ddf8ec-056d-4592-81c9-ed70c448d890\")>,\n",
       " <selenium.webdriver.remote.webelement.WebElement (session=\"826bba43ac7a5eed6244af9a027fa0a0\", element=\"256771e6-627d-4944-91e1-95f438e7d876\")>,\n",
       " <selenium.webdriver.remote.webelement.WebElement (session=\"826bba43ac7a5eed6244af9a027fa0a0\", element=\"1cc0b6fd-de4a-4be7-a096-b850836fe174\")>,\n",
       " <selenium.webdriver.remote.webelement.WebElement (session=\"826bba43ac7a5eed6244af9a027fa0a0\", element=\"99d7558b-12f2-4654-b246-ccc742e23289\")>,\n",
       " <selenium.webdriver.remote.webelement.WebElement (session=\"826bba43ac7a5eed6244af9a027fa0a0\", element=\"1b690d6f-aed6-4935-8731-f9844be3788e\")>,\n",
       " <selenium.webdriver.remote.webelement.WebElement (session=\"826bba43ac7a5eed6244af9a027fa0a0\", element=\"f070bf3b-3193-46bb-ae18-2f9edd2a4eaf\")>,\n",
       " <selenium.webdriver.remote.webelement.WebElement (session=\"826bba43ac7a5eed6244af9a027fa0a0\", element=\"500f18ef-d5ed-4a7c-aad6-8ade850c84a1\")>,\n",
       " <selenium.webdriver.remote.webelement.WebElement (session=\"826bba43ac7a5eed6244af9a027fa0a0\", element=\"010d6d59-4534-404e-8154-330a82f79691\")>,\n",
       " <selenium.webdriver.remote.webelement.WebElement (session=\"826bba43ac7a5eed6244af9a027fa0a0\", element=\"6ea9ee37-272f-4964-8b09-b6e45698be68\")>,\n",
       " <selenium.webdriver.remote.webelement.WebElement (session=\"826bba43ac7a5eed6244af9a027fa0a0\", element=\"e6f030b2-7729-4dc6-abff-7ad4a8fe2f40\")>,\n",
       " <selenium.webdriver.remote.webelement.WebElement (session=\"826bba43ac7a5eed6244af9a027fa0a0\", element=\"bf4ad80a-a837-4d2a-9a16-da97944be811\")>,\n",
       " <selenium.webdriver.remote.webelement.WebElement (session=\"826bba43ac7a5eed6244af9a027fa0a0\", element=\"698b9e52-b3d8-4604-a5db-e78a965c62e9\")>,\n",
       " <selenium.webdriver.remote.webelement.WebElement (session=\"826bba43ac7a5eed6244af9a027fa0a0\", element=\"63a8f339-ef77-44ab-bf88-d91119bfac52\")>,\n",
       " <selenium.webdriver.remote.webelement.WebElement (session=\"826bba43ac7a5eed6244af9a027fa0a0\", element=\"1ec79e28-074e-46ee-aa4e-607adfe62025\")>,\n",
       " <selenium.webdriver.remote.webelement.WebElement (session=\"826bba43ac7a5eed6244af9a027fa0a0\", element=\"76e855e8-d4e9-4e63-ac6e-5e467a4721e7\")>,\n",
       " <selenium.webdriver.remote.webelement.WebElement (session=\"826bba43ac7a5eed6244af9a027fa0a0\", element=\"ef6dc69e-afcb-4f74-9af7-7134552eb19d\")>,\n",
       " <selenium.webdriver.remote.webelement.WebElement (session=\"826bba43ac7a5eed6244af9a027fa0a0\", element=\"547f38fe-06a9-4ada-aaae-e6f8674a7cf4\")>,\n",
       " <selenium.webdriver.remote.webelement.WebElement (session=\"826bba43ac7a5eed6244af9a027fa0a0\", element=\"6fa6896a-5d0f-4ce9-94ff-546d7f6a4f7e\")>,\n",
       " <selenium.webdriver.remote.webelement.WebElement (session=\"826bba43ac7a5eed6244af9a027fa0a0\", element=\"034556da-a9af-4beb-b51b-93e31968ffa8\")>,\n",
       " <selenium.webdriver.remote.webelement.WebElement (session=\"826bba43ac7a5eed6244af9a027fa0a0\", element=\"ae8e5ce1-626e-494b-9828-f96aef0be6fd\")>,\n",
       " <selenium.webdriver.remote.webelement.WebElement (session=\"826bba43ac7a5eed6244af9a027fa0a0\", element=\"a3528898-ef8f-44f6-a744-de6f67191884\")>,\n",
       " <selenium.webdriver.remote.webelement.WebElement (session=\"826bba43ac7a5eed6244af9a027fa0a0\", element=\"3e0a2852-4ed2-411f-9486-d92f1c1c02c3\")>,\n",
       " <selenium.webdriver.remote.webelement.WebElement (session=\"826bba43ac7a5eed6244af9a027fa0a0\", element=\"5cb961c0-8ea6-4311-bd01-492131e1d87a\")>,\n",
       " <selenium.webdriver.remote.webelement.WebElement (session=\"826bba43ac7a5eed6244af9a027fa0a0\", element=\"03163436-71c0-4a2c-a9ec-1c5a59efd377\")>,\n",
       " <selenium.webdriver.remote.webelement.WebElement (session=\"826bba43ac7a5eed6244af9a027fa0a0\", element=\"64ac16e3-4905-43fe-ad17-d12f34b5a196\")>,\n",
       " <selenium.webdriver.remote.webelement.WebElement (session=\"826bba43ac7a5eed6244af9a027fa0a0\", element=\"ad886a27-cb3d-409a-8151-18282c8350af\")>,\n",
       " <selenium.webdriver.remote.webelement.WebElement (session=\"826bba43ac7a5eed6244af9a027fa0a0\", element=\"86a4375e-ab0d-4f85-a351-64044c09cfbc\")>,\n",
       " <selenium.webdriver.remote.webelement.WebElement (session=\"826bba43ac7a5eed6244af9a027fa0a0\", element=\"a10928b3-56d9-4d79-b4e9-d23f73e9ca0e\")>,\n",
       " <selenium.webdriver.remote.webelement.WebElement (session=\"826bba43ac7a5eed6244af9a027fa0a0\", element=\"8406a579-a53a-4d7e-8544-458a738bcd40\")>,\n",
       " <selenium.webdriver.remote.webelement.WebElement (session=\"826bba43ac7a5eed6244af9a027fa0a0\", element=\"b53dcd1e-2185-4dc6-afcd-d0c6896a2355\")>,\n",
       " <selenium.webdriver.remote.webelement.WebElement (session=\"826bba43ac7a5eed6244af9a027fa0a0\", element=\"d6a39f1b-7b10-4c68-8a08-2cfb0a2277bd\")>,\n",
       " <selenium.webdriver.remote.webelement.WebElement (session=\"826bba43ac7a5eed6244af9a027fa0a0\", element=\"0a6be695-011f-44a5-93da-d6cd0a740c34\")>,\n",
       " <selenium.webdriver.remote.webelement.WebElement (session=\"826bba43ac7a5eed6244af9a027fa0a0\", element=\"bdcac485-04b7-4804-847f-dcd0c82fc478\")>,\n",
       " <selenium.webdriver.remote.webelement.WebElement (session=\"826bba43ac7a5eed6244af9a027fa0a0\", element=\"6f5c6c4f-af88-4fdf-851b-29bd277684a2\")>,\n",
       " <selenium.webdriver.remote.webelement.WebElement (session=\"826bba43ac7a5eed6244af9a027fa0a0\", element=\"3fcdb4b9-e288-4954-8472-520942d946f8\")>,\n",
       " <selenium.webdriver.remote.webelement.WebElement (session=\"826bba43ac7a5eed6244af9a027fa0a0\", element=\"c6a3b313-1d3f-40d9-99af-6bcfa0776ce7\")>,\n",
       " <selenium.webdriver.remote.webelement.WebElement (session=\"826bba43ac7a5eed6244af9a027fa0a0\", element=\"8c3da6a5-2b56-436f-9d5a-b8c18c43627d\")>,\n",
       " <selenium.webdriver.remote.webelement.WebElement (session=\"826bba43ac7a5eed6244af9a027fa0a0\", element=\"b523a30c-e4bb-453e-ba2a-3d8244b91627\")>,\n",
       " <selenium.webdriver.remote.webelement.WebElement (session=\"826bba43ac7a5eed6244af9a027fa0a0\", element=\"51c60ea7-05f3-4dd9-88aa-6447532383ef\")>,\n",
       " <selenium.webdriver.remote.webelement.WebElement (session=\"826bba43ac7a5eed6244af9a027fa0a0\", element=\"1f7869b6-a331-4a5f-acfa-4afe4f8fc86e\")>,\n",
       " <selenium.webdriver.remote.webelement.WebElement (session=\"826bba43ac7a5eed6244af9a027fa0a0\", element=\"64f50230-a555-471a-b71b-0740a6293930\")>,\n",
       " <selenium.webdriver.remote.webelement.WebElement (session=\"826bba43ac7a5eed6244af9a027fa0a0\", element=\"5933fbf2-5fbf-4cbb-86f8-1ee4d12c11d8\")>,\n",
       " <selenium.webdriver.remote.webelement.WebElement (session=\"826bba43ac7a5eed6244af9a027fa0a0\", element=\"5f2cb9d2-b247-4138-8d75-5e8c47600cbc\")>,\n",
       " <selenium.webdriver.remote.webelement.WebElement (session=\"826bba43ac7a5eed6244af9a027fa0a0\", element=\"441678c7-0f22-41c1-9480-04ccb9ff9d56\")>,\n",
       " <selenium.webdriver.remote.webelement.WebElement (session=\"826bba43ac7a5eed6244af9a027fa0a0\", element=\"27d0a233-f9a6-4527-bf22-015f2bf623f7\")>,\n",
       " <selenium.webdriver.remote.webelement.WebElement (session=\"826bba43ac7a5eed6244af9a027fa0a0\", element=\"7abda839-5c9a-4328-9011-2ec8e3b51644\")>,\n",
       " <selenium.webdriver.remote.webelement.WebElement (session=\"826bba43ac7a5eed6244af9a027fa0a0\", element=\"0f1f8ac1-5700-4b28-818c-d6474264b03f\")>,\n",
       " <selenium.webdriver.remote.webelement.WebElement (session=\"826bba43ac7a5eed6244af9a027fa0a0\", element=\"d636055b-ba41-4d7c-9b32-ea5cf0351d75\")>,\n",
       " <selenium.webdriver.remote.webelement.WebElement (session=\"826bba43ac7a5eed6244af9a027fa0a0\", element=\"e3dfe04e-08f0-480c-806a-2229e9111a98\")>,\n",
       " <selenium.webdriver.remote.webelement.WebElement (session=\"826bba43ac7a5eed6244af9a027fa0a0\", element=\"064a12f2-6a08-4a8b-8099-d0c98789b933\")>,\n",
       " <selenium.webdriver.remote.webelement.WebElement (session=\"826bba43ac7a5eed6244af9a027fa0a0\", element=\"e8299817-566c-4aa4-905f-2403f7618761\")>,\n",
       " <selenium.webdriver.remote.webelement.WebElement (session=\"826bba43ac7a5eed6244af9a027fa0a0\", element=\"1bdf8d6c-6d97-4e53-a47b-61074af25052\")>,\n",
       " <selenium.webdriver.remote.webelement.WebElement (session=\"826bba43ac7a5eed6244af9a027fa0a0\", element=\"023d8a4d-ba63-4ff2-acc8-dfdc7464cda4\")>,\n",
       " <selenium.webdriver.remote.webelement.WebElement (session=\"826bba43ac7a5eed6244af9a027fa0a0\", element=\"7969e55d-d60c-4a92-a235-6b029c97fbf6\")>,\n",
       " <selenium.webdriver.remote.webelement.WebElement (session=\"826bba43ac7a5eed6244af9a027fa0a0\", element=\"7682f262-3502-482b-bffb-f5730788314b\")>,\n",
       " <selenium.webdriver.remote.webelement.WebElement (session=\"826bba43ac7a5eed6244af9a027fa0a0\", element=\"74751e81-b25d-43b2-98a3-217892c82b8d\")>,\n",
       " <selenium.webdriver.remote.webelement.WebElement (session=\"826bba43ac7a5eed6244af9a027fa0a0\", element=\"5126cbc3-8187-4c6a-9915-d2bc6ef10f41\")>,\n",
       " <selenium.webdriver.remote.webelement.WebElement (session=\"826bba43ac7a5eed6244af9a027fa0a0\", element=\"e0a90096-3b25-48f5-94f0-530fb253b018\")>,\n",
       " <selenium.webdriver.remote.webelement.WebElement (session=\"826bba43ac7a5eed6244af9a027fa0a0\", element=\"dd1db8f7-3900-457a-87d6-010565f6c6c1\")>,\n",
       " <selenium.webdriver.remote.webelement.WebElement (session=\"826bba43ac7a5eed6244af9a027fa0a0\", element=\"27136895-12a1-42ce-8f20-4df98cd3d99d\")>,\n",
       " <selenium.webdriver.remote.webelement.WebElement (session=\"826bba43ac7a5eed6244af9a027fa0a0\", element=\"c4b1ece0-c9e6-4ec3-b471-e8fccebf7972\")>,\n",
       " <selenium.webdriver.remote.webelement.WebElement (session=\"826bba43ac7a5eed6244af9a027fa0a0\", element=\"ac77b23b-ff6c-4e54-a116-b68376d3ea70\")>,\n",
       " <selenium.webdriver.remote.webelement.WebElement (session=\"826bba43ac7a5eed6244af9a027fa0a0\", element=\"67b5ff2a-1719-4721-b659-65d5dec5f95b\")>,\n",
       " <selenium.webdriver.remote.webelement.WebElement (session=\"826bba43ac7a5eed6244af9a027fa0a0\", element=\"1d9a69ef-a02a-43a8-b060-ed701ae64036\")>,\n",
       " <selenium.webdriver.remote.webelement.WebElement (session=\"826bba43ac7a5eed6244af9a027fa0a0\", element=\"fe7d9f6f-6bc3-44aa-8b4d-2e87eb1b5bb7\")>,\n",
       " <selenium.webdriver.remote.webelement.WebElement (session=\"826bba43ac7a5eed6244af9a027fa0a0\", element=\"538f3835-b92b-4374-81d9-0820c16aa824\")>,\n",
       " <selenium.webdriver.remote.webelement.WebElement (session=\"826bba43ac7a5eed6244af9a027fa0a0\", element=\"ab96e339-4fbf-4643-8a99-a7af362f908a\")>,\n",
       " <selenium.webdriver.remote.webelement.WebElement (session=\"826bba43ac7a5eed6244af9a027fa0a0\", element=\"dac7d507-6168-4737-8ca7-f153f0f610b9\")>,\n",
       " <selenium.webdriver.remote.webelement.WebElement (session=\"826bba43ac7a5eed6244af9a027fa0a0\", element=\"0f177369-b738-4ddc-8d02-5338a7af946a\")>,\n",
       " <selenium.webdriver.remote.webelement.WebElement (session=\"826bba43ac7a5eed6244af9a027fa0a0\", element=\"e4640bac-654f-4295-9844-80d3e8bac08d\")>,\n",
       " <selenium.webdriver.remote.webelement.WebElement (session=\"826bba43ac7a5eed6244af9a027fa0a0\", element=\"4bfcea25-51be-479b-b2a5-51230db7b811\")>,\n",
       " <selenium.webdriver.remote.webelement.WebElement (session=\"826bba43ac7a5eed6244af9a027fa0a0\", element=\"843005be-4898-4168-a81d-af1f78317f25\")>,\n",
       " <selenium.webdriver.remote.webelement.WebElement (session=\"826bba43ac7a5eed6244af9a027fa0a0\", element=\"5192a50c-a603-4c90-8aed-7c42e566331a\")>,\n",
       " <selenium.webdriver.remote.webelement.WebElement (session=\"826bba43ac7a5eed6244af9a027fa0a0\", element=\"4a5bfedd-7ef9-4011-a47f-29239861b09f\")>,\n",
       " <selenium.webdriver.remote.webelement.WebElement (session=\"826bba43ac7a5eed6244af9a027fa0a0\", element=\"b17af07d-fd94-45b8-9f53-d0f0acaed159\")>,\n",
       " <selenium.webdriver.remote.webelement.WebElement (session=\"826bba43ac7a5eed6244af9a027fa0a0\", element=\"b87ad4ec-82b0-4b45-a35c-bd164f784d7d\")>,\n",
       " <selenium.webdriver.remote.webelement.WebElement (session=\"826bba43ac7a5eed6244af9a027fa0a0\", element=\"7c30e5a5-aa76-4588-8ecc-20b555dc08db\")>,\n",
       " <selenium.webdriver.remote.webelement.WebElement (session=\"826bba43ac7a5eed6244af9a027fa0a0\", element=\"a0b426d3-079c-4adc-9070-c6514d14c57d\")>,\n",
       " <selenium.webdriver.remote.webelement.WebElement (session=\"826bba43ac7a5eed6244af9a027fa0a0\", element=\"5def6fb1-0b7a-493f-994e-b131213b3d0c\")>,\n",
       " <selenium.webdriver.remote.webelement.WebElement (session=\"826bba43ac7a5eed6244af9a027fa0a0\", element=\"87bc30e8-ff52-4a5d-86dc-1f59a301a3bd\")>,\n",
       " <selenium.webdriver.remote.webelement.WebElement (session=\"826bba43ac7a5eed6244af9a027fa0a0\", element=\"a2e5c062-632b-485b-8a41-3a7b6778d0eb\")>,\n",
       " <selenium.webdriver.remote.webelement.WebElement (session=\"826bba43ac7a5eed6244af9a027fa0a0\", element=\"c5113fd4-46bd-4d71-890d-cfb0fefae8fb\")>,\n",
       " <selenium.webdriver.remote.webelement.WebElement (session=\"826bba43ac7a5eed6244af9a027fa0a0\", element=\"b463ec28-2b57-482d-8466-324befb3070e\")>,\n",
       " <selenium.webdriver.remote.webelement.WebElement (session=\"826bba43ac7a5eed6244af9a027fa0a0\", element=\"cea8b893-f4a5-4b80-a1d0-9b4fe39a02ec\")>,\n",
       " <selenium.webdriver.remote.webelement.WebElement (session=\"826bba43ac7a5eed6244af9a027fa0a0\", element=\"304fd9ba-bf1a-4128-943f-95b2762f47a6\")>,\n",
       " <selenium.webdriver.remote.webelement.WebElement (session=\"826bba43ac7a5eed6244af9a027fa0a0\", element=\"60ad9110-94cf-4fed-a119-71da58da6bcf\")>,\n",
       " <selenium.webdriver.remote.webelement.WebElement (session=\"826bba43ac7a5eed6244af9a027fa0a0\", element=\"e82c19d3-81f7-444d-a1f7-e6bf58d41331\")>,\n",
       " <selenium.webdriver.remote.webelement.WebElement (session=\"826bba43ac7a5eed6244af9a027fa0a0\", element=\"d684f7cb-a03a-420a-bd82-3bf109c4ffbd\")>,\n",
       " <selenium.webdriver.remote.webelement.WebElement (session=\"826bba43ac7a5eed6244af9a027fa0a0\", element=\"179d36e1-bc62-4486-83b8-a5fe7fd434d3\")>,\n",
       " <selenium.webdriver.remote.webelement.WebElement (session=\"826bba43ac7a5eed6244af9a027fa0a0\", element=\"899bb1cf-615f-48d6-9a17-3fe06a7d1b3f\")>,\n",
       " <selenium.webdriver.remote.webelement.WebElement (session=\"826bba43ac7a5eed6244af9a027fa0a0\", element=\"ee6b079e-ba93-4d8c-91c7-c3d53b3511db\")>,\n",
       " <selenium.webdriver.remote.webelement.WebElement (session=\"826bba43ac7a5eed6244af9a027fa0a0\", element=\"1437aa8e-9f2a-4f28-b66d-120ecfb0050f\")>,\n",
       " <selenium.webdriver.remote.webelement.WebElement (session=\"826bba43ac7a5eed6244af9a027fa0a0\", element=\"eec78fa2-f036-4aeb-8913-992d22af3df3\")>,\n",
       " <selenium.webdriver.remote.webelement.WebElement (session=\"826bba43ac7a5eed6244af9a027fa0a0\", element=\"950889f2-c8e2-4a7e-94ba-f9a3f8851948\")>,\n",
       " <selenium.webdriver.remote.webelement.WebElement (session=\"826bba43ac7a5eed6244af9a027fa0a0\", element=\"0ae6c640-6a91-43da-9284-b4730c2e8b8b\")>,\n",
       " <selenium.webdriver.remote.webelement.WebElement (session=\"826bba43ac7a5eed6244af9a027fa0a0\", element=\"d22f3dcf-59d9-4111-a563-eef1c654b497\")>,\n",
       " <selenium.webdriver.remote.webelement.WebElement (session=\"826bba43ac7a5eed6244af9a027fa0a0\", element=\"16b14d07-7bb7-4abb-aa17-f10d1c6a5e9d\")>,\n",
       " <selenium.webdriver.remote.webelement.WebElement (session=\"826bba43ac7a5eed6244af9a027fa0a0\", element=\"bf32301e-96d5-45cc-b4aa-a7e4c3614b27\")>,\n",
       " <selenium.webdriver.remote.webelement.WebElement (session=\"826bba43ac7a5eed6244af9a027fa0a0\", element=\"85748e80-09dc-41c4-a801-2e6f7104b032\")>,\n",
       " <selenium.webdriver.remote.webelement.WebElement (session=\"826bba43ac7a5eed6244af9a027fa0a0\", element=\"c4329ff4-f607-46f8-9ad1-5721bf39b277\")>,\n",
       " <selenium.webdriver.remote.webelement.WebElement (session=\"826bba43ac7a5eed6244af9a027fa0a0\", element=\"0c07c929-8bf4-4981-a8ef-dacb2f9ca46b\")>,\n",
       " <selenium.webdriver.remote.webelement.WebElement (session=\"826bba43ac7a5eed6244af9a027fa0a0\", element=\"9d155930-2ce2-411d-aeec-583ba9e5c681\")>,\n",
       " <selenium.webdriver.remote.webelement.WebElement (session=\"826bba43ac7a5eed6244af9a027fa0a0\", element=\"b5e94e78-b1c4-4ad9-9247-719702ba7a2e\")>,\n",
       " <selenium.webdriver.remote.webelement.WebElement (session=\"826bba43ac7a5eed6244af9a027fa0a0\", element=\"310b053e-d187-45a4-972b-7c9ca81c992f\")>,\n",
       " <selenium.webdriver.remote.webelement.WebElement (session=\"826bba43ac7a5eed6244af9a027fa0a0\", element=\"8fa76597-69b8-4f5c-900d-ba7c76b72f4b\")>,\n",
       " <selenium.webdriver.remote.webelement.WebElement (session=\"826bba43ac7a5eed6244af9a027fa0a0\", element=\"a01a8d9c-03a0-425f-92cd-25e8bf7318fd\")>,\n",
       " <selenium.webdriver.remote.webelement.WebElement (session=\"826bba43ac7a5eed6244af9a027fa0a0\", element=\"3d5fadfe-f42d-4f35-84e5-c4baf89460ee\")>,\n",
       " <selenium.webdriver.remote.webelement.WebElement (session=\"826bba43ac7a5eed6244af9a027fa0a0\", element=\"d8d24ac2-b407-426b-a3f8-8c3161299142\")>,\n",
       " <selenium.webdriver.remote.webelement.WebElement (session=\"826bba43ac7a5eed6244af9a027fa0a0\", element=\"a90ecabf-d2cd-424c-a194-0510f1b70d01\")>,\n",
       " <selenium.webdriver.remote.webelement.WebElement (session=\"826bba43ac7a5eed6244af9a027fa0a0\", element=\"1e76fa36-cb2f-46a2-b36c-0d11e6078092\")>,\n",
       " <selenium.webdriver.remote.webelement.WebElement (session=\"826bba43ac7a5eed6244af9a027fa0a0\", element=\"d0a41124-db45-42e5-9b0a-05b3e8dd7596\")>,\n",
       " <selenium.webdriver.remote.webelement.WebElement (session=\"826bba43ac7a5eed6244af9a027fa0a0\", element=\"c12c634c-4e4d-469b-93d6-40749c3f26aa\")>,\n",
       " <selenium.webdriver.remote.webelement.WebElement (session=\"826bba43ac7a5eed6244af9a027fa0a0\", element=\"6d2fd3a9-9aac-4f6a-9ab3-7ca1a88939c6\")>,\n",
       " <selenium.webdriver.remote.webelement.WebElement (session=\"826bba43ac7a5eed6244af9a027fa0a0\", element=\"a33e5630-9afb-4bbe-8939-a015c61a580d\")>,\n",
       " <selenium.webdriver.remote.webelement.WebElement (session=\"826bba43ac7a5eed6244af9a027fa0a0\", element=\"a4d6480b-c362-48ae-a291-ff8d5761cab6\")>,\n",
       " <selenium.webdriver.remote.webelement.WebElement (session=\"826bba43ac7a5eed6244af9a027fa0a0\", element=\"43b63124-262b-45b3-a742-7584c69d0fc9\")>,\n",
       " <selenium.webdriver.remote.webelement.WebElement (session=\"826bba43ac7a5eed6244af9a027fa0a0\", element=\"2cfdf8f9-befe-4f29-827a-3f17b67fe27a\")>,\n",
       " <selenium.webdriver.remote.webelement.WebElement (session=\"826bba43ac7a5eed6244af9a027fa0a0\", element=\"cd2dca52-6266-4414-83da-e62c70bfd5e3\")>,\n",
       " <selenium.webdriver.remote.webelement.WebElement (session=\"826bba43ac7a5eed6244af9a027fa0a0\", element=\"7bd95e56-4a6a-472a-b688-27a48e84f5da\")>,\n",
       " <selenium.webdriver.remote.webelement.WebElement (session=\"826bba43ac7a5eed6244af9a027fa0a0\", element=\"2ce94745-02e3-404d-84c9-9327453225ea\")>,\n",
       " <selenium.webdriver.remote.webelement.WebElement (session=\"826bba43ac7a5eed6244af9a027fa0a0\", element=\"4fb50b07-606b-4679-90f4-a842a8429425\")>,\n",
       " <selenium.webdriver.remote.webelement.WebElement (session=\"826bba43ac7a5eed6244af9a027fa0a0\", element=\"7ad681bb-d14f-4e56-9436-feb503c8a839\")>,\n",
       " <selenium.webdriver.remote.webelement.WebElement (session=\"826bba43ac7a5eed6244af9a027fa0a0\", element=\"2d2c0b5d-1357-43b0-a24e-53a5fa41c7ac\")>,\n",
       " <selenium.webdriver.remote.webelement.WebElement (session=\"826bba43ac7a5eed6244af9a027fa0a0\", element=\"42b0c975-7bb2-4dae-84a7-9d16bd546af4\")>,\n",
       " <selenium.webdriver.remote.webelement.WebElement (session=\"826bba43ac7a5eed6244af9a027fa0a0\", element=\"93c8ad2f-e161-4152-9274-9ccff2e0df4c\")>,\n",
       " <selenium.webdriver.remote.webelement.WebElement (session=\"826bba43ac7a5eed6244af9a027fa0a0\", element=\"be73be51-2f2f-4937-a364-c97bf036c59b\")>,\n",
       " <selenium.webdriver.remote.webelement.WebElement (session=\"826bba43ac7a5eed6244af9a027fa0a0\", element=\"6c9ae0d3-cd2b-4c36-9c6a-14bec261cb07\")>,\n",
       " <selenium.webdriver.remote.webelement.WebElement (session=\"826bba43ac7a5eed6244af9a027fa0a0\", element=\"4ec2a4bd-d526-41d7-8529-70f6ce99f29f\")>,\n",
       " <selenium.webdriver.remote.webelement.WebElement (session=\"826bba43ac7a5eed6244af9a027fa0a0\", element=\"a9e24656-7937-4b4f-893b-a487f41f2bf4\")>,\n",
       " <selenium.webdriver.remote.webelement.WebElement (session=\"826bba43ac7a5eed6244af9a027fa0a0\", element=\"1d191405-01e4-4159-9d5c-e43979176d27\")>,\n",
       " <selenium.webdriver.remote.webelement.WebElement (session=\"826bba43ac7a5eed6244af9a027fa0a0\", element=\"78d48ee4-3bc9-473b-afcf-a0c774b752d2\")>,\n",
       " <selenium.webdriver.remote.webelement.WebElement (session=\"826bba43ac7a5eed6244af9a027fa0a0\", element=\"ee3973de-459f-4653-95c9-bfad2cdb3fcd\")>,\n",
       " <selenium.webdriver.remote.webelement.WebElement (session=\"826bba43ac7a5eed6244af9a027fa0a0\", element=\"b0496f08-15df-4249-a760-eb5421b9ad36\")>,\n",
       " <selenium.webdriver.remote.webelement.WebElement (session=\"826bba43ac7a5eed6244af9a027fa0a0\", element=\"1b33402d-4164-4cc4-977e-55cc0fd7b60a\")>,\n",
       " <selenium.webdriver.remote.webelement.WebElement (session=\"826bba43ac7a5eed6244af9a027fa0a0\", element=\"f2c4c11b-f188-42b2-b5b6-6d11936e4980\")>,\n",
       " <selenium.webdriver.remote.webelement.WebElement (session=\"826bba43ac7a5eed6244af9a027fa0a0\", element=\"1f820458-1e34-43f9-b268-3b999d841e7c\")>,\n",
       " <selenium.webdriver.remote.webelement.WebElement (session=\"826bba43ac7a5eed6244af9a027fa0a0\", element=\"95c6704d-f5fe-4aaa-ba32-292394be4c0a\")>,\n",
       " <selenium.webdriver.remote.webelement.WebElement (session=\"826bba43ac7a5eed6244af9a027fa0a0\", element=\"c8d352a6-07e5-45a1-9821-4ece279f413b\")>,\n",
       " <selenium.webdriver.remote.webelement.WebElement (session=\"826bba43ac7a5eed6244af9a027fa0a0\", element=\"40b0e5e1-3fed-4f1b-9a62-f6abc7de4c96\")>,\n",
       " <selenium.webdriver.remote.webelement.WebElement (session=\"826bba43ac7a5eed6244af9a027fa0a0\", element=\"321cb43d-ed05-4edf-8d51-61f0391dfc4a\")>,\n",
       " <selenium.webdriver.remote.webelement.WebElement (session=\"826bba43ac7a5eed6244af9a027fa0a0\", element=\"75eed6a4-6217-4367-a3fe-7321fb240915\")>,\n",
       " <selenium.webdriver.remote.webelement.WebElement (session=\"826bba43ac7a5eed6244af9a027fa0a0\", element=\"9862bda9-304e-4f18-8b18-98247913a39d\")>,\n",
       " <selenium.webdriver.remote.webelement.WebElement (session=\"826bba43ac7a5eed6244af9a027fa0a0\", element=\"b60da373-a814-4273-a03f-f4b0ef980ea2\")>,\n",
       " <selenium.webdriver.remote.webelement.WebElement (session=\"826bba43ac7a5eed6244af9a027fa0a0\", element=\"ec2a8dfd-529e-45ea-af34-5f93f932557d\")>,\n",
       " <selenium.webdriver.remote.webelement.WebElement (session=\"826bba43ac7a5eed6244af9a027fa0a0\", element=\"831b953d-aa77-4c42-ad0c-7ebff0ad6cbe\")>,\n",
       " <selenium.webdriver.remote.webelement.WebElement (session=\"826bba43ac7a5eed6244af9a027fa0a0\", element=\"6595f3b6-31e2-4dfd-927a-5297d6d8cced\")>,\n",
       " <selenium.webdriver.remote.webelement.WebElement (session=\"826bba43ac7a5eed6244af9a027fa0a0\", element=\"10e2cbd5-45fb-4a0e-b9c5-48176d73d9e1\")>,\n",
       " <selenium.webdriver.remote.webelement.WebElement (session=\"826bba43ac7a5eed6244af9a027fa0a0\", element=\"e162517b-86a0-40d5-8bc2-700fd00392b8\")>,\n",
       " <selenium.webdriver.remote.webelement.WebElement (session=\"826bba43ac7a5eed6244af9a027fa0a0\", element=\"f7aea5c9-a66b-4590-b237-e62cb3df466d\")>,\n",
       " <selenium.webdriver.remote.webelement.WebElement (session=\"826bba43ac7a5eed6244af9a027fa0a0\", element=\"debbc75e-23f5-4c1a-ba1d-287517a15579\")>,\n",
       " <selenium.webdriver.remote.webelement.WebElement (session=\"826bba43ac7a5eed6244af9a027fa0a0\", element=\"3285f387-3553-430e-81cb-88bf50cf557e\")>,\n",
       " <selenium.webdriver.remote.webelement.WebElement (session=\"826bba43ac7a5eed6244af9a027fa0a0\", element=\"3dc1a7b3-47d2-4a67-87d7-50fd230a6c1a\")>,\n",
       " <selenium.webdriver.remote.webelement.WebElement (session=\"826bba43ac7a5eed6244af9a027fa0a0\", element=\"0c545d40-fa17-4f58-be62-508f5cb01095\")>,\n",
       " <selenium.webdriver.remote.webelement.WebElement (session=\"826bba43ac7a5eed6244af9a027fa0a0\", element=\"0437ab31-d5a6-4353-9f8e-75ce67a99692\")>,\n",
       " <selenium.webdriver.remote.webelement.WebElement (session=\"826bba43ac7a5eed6244af9a027fa0a0\", element=\"e2b9beda-5571-46a0-a1ed-0a494ffe3aa9\")>,\n",
       " <selenium.webdriver.remote.webelement.WebElement (session=\"826bba43ac7a5eed6244af9a027fa0a0\", element=\"11c40d41-7c46-40e6-84ec-832bcdb3034a\")>,\n",
       " <selenium.webdriver.remote.webelement.WebElement (session=\"826bba43ac7a5eed6244af9a027fa0a0\", element=\"9a59ecdc-47e1-4419-aebb-bd0a82c182db\")>,\n",
       " <selenium.webdriver.remote.webelement.WebElement (session=\"826bba43ac7a5eed6244af9a027fa0a0\", element=\"6d3d7132-8888-41c2-b2f2-8f59e1810baf\")>,\n",
       " <selenium.webdriver.remote.webelement.WebElement (session=\"826bba43ac7a5eed6244af9a027fa0a0\", element=\"3b96a4c2-1586-499b-81be-e3cb7c13a31a\")>,\n",
       " <selenium.webdriver.remote.webelement.WebElement (session=\"826bba43ac7a5eed6244af9a027fa0a0\", element=\"3cba5c23-29b6-4c00-b336-2c7d8333e88c\")>,\n",
       " <selenium.webdriver.remote.webelement.WebElement (session=\"826bba43ac7a5eed6244af9a027fa0a0\", element=\"0d95c4b0-0ff2-4dcc-a620-46230b7ba902\")>,\n",
       " <selenium.webdriver.remote.webelement.WebElement (session=\"826bba43ac7a5eed6244af9a027fa0a0\", element=\"cfc9bf36-02ed-45c7-a4a1-337a151fb99a\")>,\n",
       " <selenium.webdriver.remote.webelement.WebElement (session=\"826bba43ac7a5eed6244af9a027fa0a0\", element=\"46f1c550-4c43-47e5-b4d9-d6a072c6309f\")>,\n",
       " <selenium.webdriver.remote.webelement.WebElement (session=\"826bba43ac7a5eed6244af9a027fa0a0\", element=\"ab113a3b-bdd4-4bd6-8a19-030798d30ee6\")>,\n",
       " <selenium.webdriver.remote.webelement.WebElement (session=\"826bba43ac7a5eed6244af9a027fa0a0\", element=\"4cc414ba-d704-4a76-a512-3970d4e8948c\")>,\n",
       " <selenium.webdriver.remote.webelement.WebElement (session=\"826bba43ac7a5eed6244af9a027fa0a0\", element=\"dd72e55e-8aee-4492-a0a1-c723bae7d356\")>,\n",
       " <selenium.webdriver.remote.webelement.WebElement (session=\"826bba43ac7a5eed6244af9a027fa0a0\", element=\"f3ae9723-2143-42e1-9826-34fdaffbace7\")>,\n",
       " <selenium.webdriver.remote.webelement.WebElement (session=\"826bba43ac7a5eed6244af9a027fa0a0\", element=\"f852ae5d-e03d-4b5c-9ee4-198af11eebda\")>,\n",
       " <selenium.webdriver.remote.webelement.WebElement (session=\"826bba43ac7a5eed6244af9a027fa0a0\", element=\"4ab9e11a-6483-4aaf-895c-894826a6febb\")>,\n",
       " <selenium.webdriver.remote.webelement.WebElement (session=\"826bba43ac7a5eed6244af9a027fa0a0\", element=\"5cfd1a31-d4bd-42c5-a3bf-3db3aa409422\")>,\n",
       " <selenium.webdriver.remote.webelement.WebElement (session=\"826bba43ac7a5eed6244af9a027fa0a0\", element=\"117c77bb-4634-4c9e-bce0-3bba757c4d88\")>,\n",
       " <selenium.webdriver.remote.webelement.WebElement (session=\"826bba43ac7a5eed6244af9a027fa0a0\", element=\"ebd29de2-a5e7-4e1c-b0a0-0ce6d96d1b20\")>,\n",
       " <selenium.webdriver.remote.webelement.WebElement (session=\"826bba43ac7a5eed6244af9a027fa0a0\", element=\"935ef95d-1b12-46ee-a81c-561d87f55a66\")>,\n",
       " <selenium.webdriver.remote.webelement.WebElement (session=\"826bba43ac7a5eed6244af9a027fa0a0\", element=\"d09fe389-6332-4385-bdf8-50322a5090bf\")>,\n",
       " <selenium.webdriver.remote.webelement.WebElement (session=\"826bba43ac7a5eed6244af9a027fa0a0\", element=\"b2d7ed23-d8b1-4580-a8a4-171fb1bfc74a\")>,\n",
       " <selenium.webdriver.remote.webelement.WebElement (session=\"826bba43ac7a5eed6244af9a027fa0a0\", element=\"6c956122-1e48-453f-b39e-aef2a2f64917\")>,\n",
       " <selenium.webdriver.remote.webelement.WebElement (session=\"826bba43ac7a5eed6244af9a027fa0a0\", element=\"9365c407-bc83-4de7-b3c9-5374a59002e2\")>,\n",
       " <selenium.webdriver.remote.webelement.WebElement (session=\"826bba43ac7a5eed6244af9a027fa0a0\", element=\"be23b537-27d3-41c7-b04f-43d062ff7179\")>,\n",
       " <selenium.webdriver.remote.webelement.WebElement (session=\"826bba43ac7a5eed6244af9a027fa0a0\", element=\"a331ffaa-e886-491e-a7bb-025cd4f0714b\")>,\n",
       " <selenium.webdriver.remote.webelement.WebElement (session=\"826bba43ac7a5eed6244af9a027fa0a0\", element=\"ece1d166-0cb1-46a6-9ab5-21bd9fa7ccb6\")>,\n",
       " <selenium.webdriver.remote.webelement.WebElement (session=\"826bba43ac7a5eed6244af9a027fa0a0\", element=\"a3a3cfd3-a274-4ded-88f3-2d6be1aa37b2\")>,\n",
       " <selenium.webdriver.remote.webelement.WebElement (session=\"826bba43ac7a5eed6244af9a027fa0a0\", element=\"7d3ef862-1eb9-42c6-b115-73673ffe969b\")>,\n",
       " <selenium.webdriver.remote.webelement.WebElement (session=\"826bba43ac7a5eed6244af9a027fa0a0\", element=\"6a62dbbe-aaa1-4082-8341-c54e405ee114\")>,\n",
       " <selenium.webdriver.remote.webelement.WebElement (session=\"826bba43ac7a5eed6244af9a027fa0a0\", element=\"0b55b350-5e4f-4c14-89e5-64b88fc4a1ea\")>,\n",
       " <selenium.webdriver.remote.webelement.WebElement (session=\"826bba43ac7a5eed6244af9a027fa0a0\", element=\"2e4b28db-ce4e-410a-aa6e-7cb2425a2e32\")>,\n",
       " <selenium.webdriver.remote.webelement.WebElement (session=\"826bba43ac7a5eed6244af9a027fa0a0\", element=\"55c38393-fb94-4b03-8d22-084e0f3a7a8b\")>,\n",
       " <selenium.webdriver.remote.webelement.WebElement (session=\"826bba43ac7a5eed6244af9a027fa0a0\", element=\"a280424b-06ec-4d96-a91d-5390142a16a1\")>,\n",
       " <selenium.webdriver.remote.webelement.WebElement (session=\"826bba43ac7a5eed6244af9a027fa0a0\", element=\"c90bf0bf-408d-4ba0-b965-28a21620793f\")>,\n",
       " <selenium.webdriver.remote.webelement.WebElement (session=\"826bba43ac7a5eed6244af9a027fa0a0\", element=\"5b9f9080-3057-424b-956b-7da63810d7a2\")>,\n",
       " <selenium.webdriver.remote.webelement.WebElement (session=\"826bba43ac7a5eed6244af9a027fa0a0\", element=\"c514743d-3acd-4e4c-b38a-cadfe21eef73\")>,\n",
       " <selenium.webdriver.remote.webelement.WebElement (session=\"826bba43ac7a5eed6244af9a027fa0a0\", element=\"b6dfbca0-2c15-4dac-8738-379c6c37d6ad\")>,\n",
       " <selenium.webdriver.remote.webelement.WebElement (session=\"826bba43ac7a5eed6244af9a027fa0a0\", element=\"8869c7d6-8c95-4b5a-bcbc-62b34d987cde\")>,\n",
       " <selenium.webdriver.remote.webelement.WebElement (session=\"826bba43ac7a5eed6244af9a027fa0a0\", element=\"f34fb52d-b39f-403a-b10e-b78628eec4b6\")>,\n",
       " <selenium.webdriver.remote.webelement.WebElement (session=\"826bba43ac7a5eed6244af9a027fa0a0\", element=\"4998339e-d404-4e6f-a188-cd80a337010e\")>,\n",
       " <selenium.webdriver.remote.webelement.WebElement (session=\"826bba43ac7a5eed6244af9a027fa0a0\", element=\"09f737ef-dd48-4ca3-97f2-c260871d1a38\")>,\n",
       " <selenium.webdriver.remote.webelement.WebElement (session=\"826bba43ac7a5eed6244af9a027fa0a0\", element=\"c06e4632-7ec0-46b4-a7b1-6c6ee82d44a2\")>,\n",
       " <selenium.webdriver.remote.webelement.WebElement (session=\"826bba43ac7a5eed6244af9a027fa0a0\", element=\"06ea153b-f0e5-47c0-a7ea-752abb2d80e7\")>,\n",
       " <selenium.webdriver.remote.webelement.WebElement (session=\"826bba43ac7a5eed6244af9a027fa0a0\", element=\"84d0106d-855a-423b-a2d5-984d5f89bc92\")>,\n",
       " <selenium.webdriver.remote.webelement.WebElement (session=\"826bba43ac7a5eed6244af9a027fa0a0\", element=\"a77ad838-6cd0-4981-9826-bb1586305ec5\")>,\n",
       " <selenium.webdriver.remote.webelement.WebElement (session=\"826bba43ac7a5eed6244af9a027fa0a0\", element=\"f0e88137-4c63-41f4-88b9-aaee9d65bad7\")>,\n",
       " <selenium.webdriver.remote.webelement.WebElement (session=\"826bba43ac7a5eed6244af9a027fa0a0\", element=\"fd33bd08-7600-4fc6-badb-66f52f6120bc\")>,\n",
       " <selenium.webdriver.remote.webelement.WebElement (session=\"826bba43ac7a5eed6244af9a027fa0a0\", element=\"1afbd092-b1e6-4f67-ba8c-b8b3bd7e4fd9\")>,\n",
       " <selenium.webdriver.remote.webelement.WebElement (session=\"826bba43ac7a5eed6244af9a027fa0a0\", element=\"56077d21-8b87-4fbf-87f4-408bafb8edc6\")>,\n",
       " <selenium.webdriver.remote.webelement.WebElement (session=\"826bba43ac7a5eed6244af9a027fa0a0\", element=\"0d83f8f0-3062-4f38-a65a-d41d470bd6db\")>,\n",
       " <selenium.webdriver.remote.webelement.WebElement (session=\"826bba43ac7a5eed6244af9a027fa0a0\", element=\"8e7ee7d3-ba80-495c-bae7-cb4d08e730b4\")>,\n",
       " <selenium.webdriver.remote.webelement.WebElement (session=\"826bba43ac7a5eed6244af9a027fa0a0\", element=\"44a7a6fa-0837-461d-99d2-52e5a13e813b\")>,\n",
       " <selenium.webdriver.remote.webelement.WebElement (session=\"826bba43ac7a5eed6244af9a027fa0a0\", element=\"78257531-2b4a-4f6e-bb4d-52e3159f31ef\")>,\n",
       " <selenium.webdriver.remote.webelement.WebElement (session=\"826bba43ac7a5eed6244af9a027fa0a0\", element=\"0b66bbf0-0541-4448-a294-b6c459eec6ed\")>,\n",
       " <selenium.webdriver.remote.webelement.WebElement (session=\"826bba43ac7a5eed6244af9a027fa0a0\", element=\"29562f73-aff0-4a3d-a85b-543bfe9d36ae\")>,\n",
       " <selenium.webdriver.remote.webelement.WebElement (session=\"826bba43ac7a5eed6244af9a027fa0a0\", element=\"3bcbfd9f-b039-40cc-893f-b2a7ebd66777\")>,\n",
       " <selenium.webdriver.remote.webelement.WebElement (session=\"826bba43ac7a5eed6244af9a027fa0a0\", element=\"e5d0a048-cd7c-4a3f-828d-b2bb894117e5\")>,\n",
       " <selenium.webdriver.remote.webelement.WebElement (session=\"826bba43ac7a5eed6244af9a027fa0a0\", element=\"68630f81-33fe-4f7f-8237-f640a97aa00e\")>,\n",
       " <selenium.webdriver.remote.webelement.WebElement (session=\"826bba43ac7a5eed6244af9a027fa0a0\", element=\"95ba484b-5d22-4260-873c-9a22227eaa0a\")>,\n",
       " <selenium.webdriver.remote.webelement.WebElement (session=\"826bba43ac7a5eed6244af9a027fa0a0\", element=\"4d457d29-51b7-4f29-a71d-fedd7feb056f\")>,\n",
       " <selenium.webdriver.remote.webelement.WebElement (session=\"826bba43ac7a5eed6244af9a027fa0a0\", element=\"8243b946-2b6b-4fd7-a2b3-2164df2fc200\")>,\n",
       " <selenium.webdriver.remote.webelement.WebElement (session=\"826bba43ac7a5eed6244af9a027fa0a0\", element=\"9587c6c4-86de-465a-a3e1-403c9027b3b8\")>,\n",
       " <selenium.webdriver.remote.webelement.WebElement (session=\"826bba43ac7a5eed6244af9a027fa0a0\", element=\"15dbbf6f-0c18-472b-bc26-6d2bb5de2c91\")>,\n",
       " <selenium.webdriver.remote.webelement.WebElement (session=\"826bba43ac7a5eed6244af9a027fa0a0\", element=\"456630b5-f171-4295-baa1-a7b4585f6b58\")>,\n",
       " <selenium.webdriver.remote.webelement.WebElement (session=\"826bba43ac7a5eed6244af9a027fa0a0\", element=\"fc7780fa-5a96-48c8-8093-ff08c3bc591c\")>,\n",
       " <selenium.webdriver.remote.webelement.WebElement (session=\"826bba43ac7a5eed6244af9a027fa0a0\", element=\"3d20baaf-ad28-4f87-b5b3-60f19e2fc302\")>,\n",
       " <selenium.webdriver.remote.webelement.WebElement (session=\"826bba43ac7a5eed6244af9a027fa0a0\", element=\"da284793-763e-407b-a29d-f09ab45f2367\")>,\n",
       " <selenium.webdriver.remote.webelement.WebElement (session=\"826bba43ac7a5eed6244af9a027fa0a0\", element=\"12595099-afc1-48ec-87fe-152f74ca4db6\")>,\n",
       " <selenium.webdriver.remote.webelement.WebElement (session=\"826bba43ac7a5eed6244af9a027fa0a0\", element=\"5f0042c7-bb8b-47e1-bb91-229b5128e151\")>,\n",
       " <selenium.webdriver.remote.webelement.WebElement (session=\"826bba43ac7a5eed6244af9a027fa0a0\", element=\"5a8a7202-f6cf-425b-ba66-310b65899414\")>,\n",
       " <selenium.webdriver.remote.webelement.WebElement (session=\"826bba43ac7a5eed6244af9a027fa0a0\", element=\"91a9ce6c-ca4d-4a88-80a6-29fb6d959f53\")>,\n",
       " <selenium.webdriver.remote.webelement.WebElement (session=\"826bba43ac7a5eed6244af9a027fa0a0\", element=\"aed0aa05-6a54-4c3c-b6a6-56215d097f05\")>,\n",
       " <selenium.webdriver.remote.webelement.WebElement (session=\"826bba43ac7a5eed6244af9a027fa0a0\", element=\"e422f6ca-1eca-4be5-b13e-cad447077702\")>,\n",
       " <selenium.webdriver.remote.webelement.WebElement (session=\"826bba43ac7a5eed6244af9a027fa0a0\", element=\"ba7e172b-5ff4-491a-b2ae-c37bce8b89a4\")>,\n",
       " <selenium.webdriver.remote.webelement.WebElement (session=\"826bba43ac7a5eed6244af9a027fa0a0\", element=\"04e453db-231c-4d77-a906-a8afc6551e1e\")>,\n",
       " <selenium.webdriver.remote.webelement.WebElement (session=\"826bba43ac7a5eed6244af9a027fa0a0\", element=\"bf65d944-fe3c-4bec-a70c-126f2ae6fbb5\")>,\n",
       " <selenium.webdriver.remote.webelement.WebElement (session=\"826bba43ac7a5eed6244af9a027fa0a0\", element=\"6dbd42b4-03e0-43f8-a011-c246bf4306cf\")>,\n",
       " <selenium.webdriver.remote.webelement.WebElement (session=\"826bba43ac7a5eed6244af9a027fa0a0\", element=\"bcec40eb-e1cd-46a1-b991-f934d2f847b4\")>,\n",
       " <selenium.webdriver.remote.webelement.WebElement (session=\"826bba43ac7a5eed6244af9a027fa0a0\", element=\"1026b8fe-081b-41b6-8b7c-df406cfcfdb3\")>,\n",
       " <selenium.webdriver.remote.webelement.WebElement (session=\"826bba43ac7a5eed6244af9a027fa0a0\", element=\"123c6a00-b188-40c8-a521-29bbe5c471ab\")>,\n",
       " <selenium.webdriver.remote.webelement.WebElement (session=\"826bba43ac7a5eed6244af9a027fa0a0\", element=\"7972eba8-c6c1-4af2-a823-771e989dd9af\")>,\n",
       " <selenium.webdriver.remote.webelement.WebElement (session=\"826bba43ac7a5eed6244af9a027fa0a0\", element=\"0e9c5307-f5c4-428e-9931-44906abc4c0f\")>,\n",
       " <selenium.webdriver.remote.webelement.WebElement (session=\"826bba43ac7a5eed6244af9a027fa0a0\", element=\"7f51425c-36f9-4916-8b47-25bf4b9e966c\")>,\n",
       " <selenium.webdriver.remote.webelement.WebElement (session=\"826bba43ac7a5eed6244af9a027fa0a0\", element=\"608e591d-9fda-434f-b521-961905e789c3\")>,\n",
       " <selenium.webdriver.remote.webelement.WebElement (session=\"826bba43ac7a5eed6244af9a027fa0a0\", element=\"7a2a674b-42b3-4117-ae46-03a0345e24ca\")>,\n",
       " <selenium.webdriver.remote.webelement.WebElement (session=\"826bba43ac7a5eed6244af9a027fa0a0\", element=\"5ed14363-305b-44e8-b3e5-26680e5fea6c\")>,\n",
       " <selenium.webdriver.remote.webelement.WebElement (session=\"826bba43ac7a5eed6244af9a027fa0a0\", element=\"71d042e4-53a8-4911-b075-350f919f29b4\")>,\n",
       " <selenium.webdriver.remote.webelement.WebElement (session=\"826bba43ac7a5eed6244af9a027fa0a0\", element=\"5740d935-c0fb-45e7-a5f6-4affc3565a6c\")>,\n",
       " <selenium.webdriver.remote.webelement.WebElement (session=\"826bba43ac7a5eed6244af9a027fa0a0\", element=\"bc26f468-ea85-4703-8016-7b61461732e9\")>,\n",
       " <selenium.webdriver.remote.webelement.WebElement (session=\"826bba43ac7a5eed6244af9a027fa0a0\", element=\"7353fa14-ed69-4e0c-86a4-af1e2b78f71d\")>,\n",
       " <selenium.webdriver.remote.webelement.WebElement (session=\"826bba43ac7a5eed6244af9a027fa0a0\", element=\"ec27da67-49ba-443e-82c2-4b738b15e1b7\")>,\n",
       " <selenium.webdriver.remote.webelement.WebElement (session=\"826bba43ac7a5eed6244af9a027fa0a0\", element=\"b1f30f76-b905-4c90-835b-0b97b1a4b0b5\")>,\n",
       " <selenium.webdriver.remote.webelement.WebElement (session=\"826bba43ac7a5eed6244af9a027fa0a0\", element=\"67a52c15-2f4e-45f7-909e-793971ee73dd\")>,\n",
       " <selenium.webdriver.remote.webelement.WebElement (session=\"826bba43ac7a5eed6244af9a027fa0a0\", element=\"36907580-9270-47fa-8ce8-d9aea648e22a\")>,\n",
       " <selenium.webdriver.remote.webelement.WebElement (session=\"826bba43ac7a5eed6244af9a027fa0a0\", element=\"da86d914-6c02-42a2-a662-c58efecca690\")>,\n",
       " <selenium.webdriver.remote.webelement.WebElement (session=\"826bba43ac7a5eed6244af9a027fa0a0\", element=\"e1436652-cff8-4a9e-99c5-d302b9ba4f94\")>,\n",
       " <selenium.webdriver.remote.webelement.WebElement (session=\"826bba43ac7a5eed6244af9a027fa0a0\", element=\"b4209cb1-4d5e-4efd-a6fc-f50b192d9188\")>,\n",
       " <selenium.webdriver.remote.webelement.WebElement (session=\"826bba43ac7a5eed6244af9a027fa0a0\", element=\"5873f27f-b3a7-4ab3-8096-4005cfc47b64\")>,\n",
       " <selenium.webdriver.remote.webelement.WebElement (session=\"826bba43ac7a5eed6244af9a027fa0a0\", element=\"1248b4c9-490c-4f1a-9e64-960e07889a4a\")>,\n",
       " <selenium.webdriver.remote.webelement.WebElement (session=\"826bba43ac7a5eed6244af9a027fa0a0\", element=\"7d71f355-f0e8-4740-925b-998fea55f0d8\")>,\n",
       " <selenium.webdriver.remote.webelement.WebElement (session=\"826bba43ac7a5eed6244af9a027fa0a0\", element=\"97cacb3b-90c5-4727-b1ab-621068e4eb5e\")>,\n",
       " <selenium.webdriver.remote.webelement.WebElement (session=\"826bba43ac7a5eed6244af9a027fa0a0\", element=\"c612a423-d7f3-445a-a960-cadd2862dbe6\")>,\n",
       " <selenium.webdriver.remote.webelement.WebElement (session=\"826bba43ac7a5eed6244af9a027fa0a0\", element=\"4d75774c-32d6-43d6-8f63-0dceed36c9a7\")>,\n",
       " <selenium.webdriver.remote.webelement.WebElement (session=\"826bba43ac7a5eed6244af9a027fa0a0\", element=\"6b458ff3-8df4-42f6-a80b-fc34f5777631\")>,\n",
       " <selenium.webdriver.remote.webelement.WebElement (session=\"826bba43ac7a5eed6244af9a027fa0a0\", element=\"f141fc67-6982-4867-aa2d-0534ada93e21\")>,\n",
       " <selenium.webdriver.remote.webelement.WebElement (session=\"826bba43ac7a5eed6244af9a027fa0a0\", element=\"8a3c4af0-7993-4f06-9282-9add4d44d67e\")>,\n",
       " <selenium.webdriver.remote.webelement.WebElement (session=\"826bba43ac7a5eed6244af9a027fa0a0\", element=\"d3a97635-82b3-4881-b9e7-d7b9c8e0e0d6\")>,\n",
       " <selenium.webdriver.remote.webelement.WebElement (session=\"826bba43ac7a5eed6244af9a027fa0a0\", element=\"266cb4d9-4789-4e37-8559-4e00676e2f80\")>,\n",
       " <selenium.webdriver.remote.webelement.WebElement (session=\"826bba43ac7a5eed6244af9a027fa0a0\", element=\"80b958c8-05cf-41ca-96d0-5aa4592ef237\")>,\n",
       " <selenium.webdriver.remote.webelement.WebElement (session=\"826bba43ac7a5eed6244af9a027fa0a0\", element=\"ffd3c92c-0be8-4637-b0b5-1a4533b7a608\")>,\n",
       " <selenium.webdriver.remote.webelement.WebElement (session=\"826bba43ac7a5eed6244af9a027fa0a0\", element=\"9eae6630-b395-4ef7-bda4-05e85ccd4968\")>,\n",
       " <selenium.webdriver.remote.webelement.WebElement (session=\"826bba43ac7a5eed6244af9a027fa0a0\", element=\"7be5a373-3642-471b-9289-bff3610b8415\")>,\n",
       " <selenium.webdriver.remote.webelement.WebElement (session=\"826bba43ac7a5eed6244af9a027fa0a0\", element=\"72603ac2-e419-43ff-82b9-3ac0f8aeeb08\")>,\n",
       " <selenium.webdriver.remote.webelement.WebElement (session=\"826bba43ac7a5eed6244af9a027fa0a0\", element=\"cf0fb5cd-a6ed-43fc-bdf1-5267baedeef1\")>,\n",
       " <selenium.webdriver.remote.webelement.WebElement (session=\"826bba43ac7a5eed6244af9a027fa0a0\", element=\"3d776ab8-9a67-4246-8cb8-5dc0663f0b70\")>,\n",
       " <selenium.webdriver.remote.webelement.WebElement (session=\"826bba43ac7a5eed6244af9a027fa0a0\", element=\"4bb39c4a-8ff7-414a-8eeb-fed55910f166\")>,\n",
       " <selenium.webdriver.remote.webelement.WebElement (session=\"826bba43ac7a5eed6244af9a027fa0a0\", element=\"7a306a96-359e-4c1c-bf60-a679b9ee0fbf\")>,\n",
       " <selenium.webdriver.remote.webelement.WebElement (session=\"826bba43ac7a5eed6244af9a027fa0a0\", element=\"f45cfbd0-e8fa-4a13-8f15-8082b4a6cd2a\")>,\n",
       " <selenium.webdriver.remote.webelement.WebElement (session=\"826bba43ac7a5eed6244af9a027fa0a0\", element=\"c4dc1e0e-1a7e-438b-9b6b-03e4c9c91255\")>,\n",
       " <selenium.webdriver.remote.webelement.WebElement (session=\"826bba43ac7a5eed6244af9a027fa0a0\", element=\"990e0ecb-74fc-4cf8-bdeb-4599a3ff730d\")>,\n",
       " <selenium.webdriver.remote.webelement.WebElement (session=\"826bba43ac7a5eed6244af9a027fa0a0\", element=\"e109a620-5244-4478-bef5-0c03a184be91\")>,\n",
       " <selenium.webdriver.remote.webelement.WebElement (session=\"826bba43ac7a5eed6244af9a027fa0a0\", element=\"3675402c-20f6-4427-ba70-2d3e65f2c68b\")>,\n",
       " <selenium.webdriver.remote.webelement.WebElement (session=\"826bba43ac7a5eed6244af9a027fa0a0\", element=\"d9375dcf-cc39-4bc8-bb9e-70fc304b220a\")>,\n",
       " <selenium.webdriver.remote.webelement.WebElement (session=\"826bba43ac7a5eed6244af9a027fa0a0\", element=\"db0ff2c2-d57b-4dec-941a-e6b81e09d76f\")>,\n",
       " <selenium.webdriver.remote.webelement.WebElement (session=\"826bba43ac7a5eed6244af9a027fa0a0\", element=\"e550f0dd-b928-4089-b32a-68a8c5f4af0d\")>,\n",
       " <selenium.webdriver.remote.webelement.WebElement (session=\"826bba43ac7a5eed6244af9a027fa0a0\", element=\"6c566c6d-a987-4d94-9ab0-eb7b639818a1\")>,\n",
       " <selenium.webdriver.remote.webelement.WebElement (session=\"826bba43ac7a5eed6244af9a027fa0a0\", element=\"507b5dbf-8a81-43b4-b155-4b34c31c7654\")>,\n",
       " <selenium.webdriver.remote.webelement.WebElement (session=\"826bba43ac7a5eed6244af9a027fa0a0\", element=\"2be035e9-6adf-40de-8639-0851bbd41057\")>,\n",
       " <selenium.webdriver.remote.webelement.WebElement (session=\"826bba43ac7a5eed6244af9a027fa0a0\", element=\"d4dea57b-6791-466a-bb10-67bc9487c1c3\")>,\n",
       " <selenium.webdriver.remote.webelement.WebElement (session=\"826bba43ac7a5eed6244af9a027fa0a0\", element=\"d46bdf85-b111-47ce-8e45-78d808782a5b\")>,\n",
       " <selenium.webdriver.remote.webelement.WebElement (session=\"826bba43ac7a5eed6244af9a027fa0a0\", element=\"14cb1356-a057-4b7e-91f8-2bfbf9bf1977\")>,\n",
       " <selenium.webdriver.remote.webelement.WebElement (session=\"826bba43ac7a5eed6244af9a027fa0a0\", element=\"10a9c53c-3d06-4e22-a562-e3f26c7b667f\")>,\n",
       " <selenium.webdriver.remote.webelement.WebElement (session=\"826bba43ac7a5eed6244af9a027fa0a0\", element=\"7b50b62c-be7b-4ce8-9c4d-83804545dc59\")>,\n",
       " <selenium.webdriver.remote.webelement.WebElement (session=\"826bba43ac7a5eed6244af9a027fa0a0\", element=\"aebcc7b4-d0b1-40ea-be6b-45db97474c93\")>,\n",
       " <selenium.webdriver.remote.webelement.WebElement (session=\"826bba43ac7a5eed6244af9a027fa0a0\", element=\"808deee4-a32e-4b49-b88a-80b7f94cd482\")>,\n",
       " <selenium.webdriver.remote.webelement.WebElement (session=\"826bba43ac7a5eed6244af9a027fa0a0\", element=\"4229fa94-b147-443d-88c6-156becbc5d30\")>,\n",
       " <selenium.webdriver.remote.webelement.WebElement (session=\"826bba43ac7a5eed6244af9a027fa0a0\", element=\"53e377f4-fc0b-4793-b6e5-375657a88cad\")>,\n",
       " <selenium.webdriver.remote.webelement.WebElement (session=\"826bba43ac7a5eed6244af9a027fa0a0\", element=\"df6fb4a7-1259-40a9-83f0-f33fe774849f\")>,\n",
       " <selenium.webdriver.remote.webelement.WebElement (session=\"826bba43ac7a5eed6244af9a027fa0a0\", element=\"8c96a746-0753-4a7c-84dc-50a315d0e082\")>,\n",
       " <selenium.webdriver.remote.webelement.WebElement (session=\"826bba43ac7a5eed6244af9a027fa0a0\", element=\"c951f45c-a577-4b39-8049-86e612b68d36\")>,\n",
       " <selenium.webdriver.remote.webelement.WebElement (session=\"826bba43ac7a5eed6244af9a027fa0a0\", element=\"bf74da75-1674-4b90-8874-7d24e8626084\")>,\n",
       " <selenium.webdriver.remote.webelement.WebElement (session=\"826bba43ac7a5eed6244af9a027fa0a0\", element=\"f6f0862a-b8ea-40c5-8d8a-a9a5f1850d53\")>,\n",
       " <selenium.webdriver.remote.webelement.WebElement (session=\"826bba43ac7a5eed6244af9a027fa0a0\", element=\"0cf68565-e1a2-4ec8-966f-ba91a6eaf9e2\")>,\n",
       " <selenium.webdriver.remote.webelement.WebElement (session=\"826bba43ac7a5eed6244af9a027fa0a0\", element=\"8fbb3790-02fe-454a-9a80-53ee4386d134\")>,\n",
       " <selenium.webdriver.remote.webelement.WebElement (session=\"826bba43ac7a5eed6244af9a027fa0a0\", element=\"85e2b3ec-8512-4cc6-9b4e-c4625acc2b00\")>,\n",
       " <selenium.webdriver.remote.webelement.WebElement (session=\"826bba43ac7a5eed6244af9a027fa0a0\", element=\"9538aa2c-6e85-4667-bfeb-9c06d3e81230\")>,\n",
       " <selenium.webdriver.remote.webelement.WebElement (session=\"826bba43ac7a5eed6244af9a027fa0a0\", element=\"6eb38298-1ff7-4bd2-87b9-3a622d5c45e3\")>,\n",
       " <selenium.webdriver.remote.webelement.WebElement (session=\"826bba43ac7a5eed6244af9a027fa0a0\", element=\"e65e5722-8ba4-4801-b48b-8d0760a82378\")>,\n",
       " <selenium.webdriver.remote.webelement.WebElement (session=\"826bba43ac7a5eed6244af9a027fa0a0\", element=\"25b7a1e5-d355-4515-9cf8-d015952d366d\")>,\n",
       " <selenium.webdriver.remote.webelement.WebElement (session=\"826bba43ac7a5eed6244af9a027fa0a0\", element=\"81e9b497-eb84-4b1a-ad5e-16528bb63581\")>,\n",
       " <selenium.webdriver.remote.webelement.WebElement (session=\"826bba43ac7a5eed6244af9a027fa0a0\", element=\"62edb810-9f27-4789-a56e-7abba95feeb6\")>,\n",
       " <selenium.webdriver.remote.webelement.WebElement (session=\"826bba43ac7a5eed6244af9a027fa0a0\", element=\"df2f4ff2-79f9-4703-af88-19d7d9b14b90\")>,\n",
       " <selenium.webdriver.remote.webelement.WebElement (session=\"826bba43ac7a5eed6244af9a027fa0a0\", element=\"b0f4f6c7-f55b-4c86-b9f4-d1c8ac623b9c\")>,\n",
       " <selenium.webdriver.remote.webelement.WebElement (session=\"826bba43ac7a5eed6244af9a027fa0a0\", element=\"8934341e-81eb-47c6-84d8-3b396bf47d67\")>,\n",
       " <selenium.webdriver.remote.webelement.WebElement (session=\"826bba43ac7a5eed6244af9a027fa0a0\", element=\"8c4603bb-fb38-4cb4-a968-a08c7808a849\")>,\n",
       " <selenium.webdriver.remote.webelement.WebElement (session=\"826bba43ac7a5eed6244af9a027fa0a0\", element=\"8988c2f3-42de-41c2-87db-3e0f62131569\")>,\n",
       " <selenium.webdriver.remote.webelement.WebElement (session=\"826bba43ac7a5eed6244af9a027fa0a0\", element=\"eb2c7ff2-8c84-4124-8188-959eef9ca828\")>,\n",
       " <selenium.webdriver.remote.webelement.WebElement (session=\"826bba43ac7a5eed6244af9a027fa0a0\", element=\"52c2c8fc-c705-44dc-b76f-6764e45b3fa6\")>,\n",
       " <selenium.webdriver.remote.webelement.WebElement (session=\"826bba43ac7a5eed6244af9a027fa0a0\", element=\"0d2f2c79-4c77-4e43-994a-05be691ef8f2\")>,\n",
       " <selenium.webdriver.remote.webelement.WebElement (session=\"826bba43ac7a5eed6244af9a027fa0a0\", element=\"847a320a-e63e-4e50-9a26-331df5bee467\")>,\n",
       " <selenium.webdriver.remote.webelement.WebElement (session=\"826bba43ac7a5eed6244af9a027fa0a0\", element=\"0701d8cf-33c2-4435-ba10-e4105b644973\")>,\n",
       " <selenium.webdriver.remote.webelement.WebElement (session=\"826bba43ac7a5eed6244af9a027fa0a0\", element=\"6fd4c3b1-fa71-45f0-8627-49e3e0333fbb\")>,\n",
       " <selenium.webdriver.remote.webelement.WebElement (session=\"826bba43ac7a5eed6244af9a027fa0a0\", element=\"5c02af68-a49f-4a7f-9f6a-ae6155b047f2\")>,\n",
       " <selenium.webdriver.remote.webelement.WebElement (session=\"826bba43ac7a5eed6244af9a027fa0a0\", element=\"a6691b66-4f4a-42fc-b81d-592c7f8613a4\")>,\n",
       " <selenium.webdriver.remote.webelement.WebElement (session=\"826bba43ac7a5eed6244af9a027fa0a0\", element=\"034a1ebc-7c69-44c2-bc7d-9fcbe806d942\")>,\n",
       " <selenium.webdriver.remote.webelement.WebElement (session=\"826bba43ac7a5eed6244af9a027fa0a0\", element=\"4c6c6971-9235-4251-a5ac-8562310eb09b\")>,\n",
       " <selenium.webdriver.remote.webelement.WebElement (session=\"826bba43ac7a5eed6244af9a027fa0a0\", element=\"a0f3f9c7-0544-4dfe-b24f-5a5000426eb6\")>,\n",
       " <selenium.webdriver.remote.webelement.WebElement (session=\"826bba43ac7a5eed6244af9a027fa0a0\", element=\"930d15ac-1011-4be9-802e-ab6523608ca7\")>,\n",
       " <selenium.webdriver.remote.webelement.WebElement (session=\"826bba43ac7a5eed6244af9a027fa0a0\", element=\"9496e6ed-3490-4672-b759-d79780265fbb\")>,\n",
       " <selenium.webdriver.remote.webelement.WebElement (session=\"826bba43ac7a5eed6244af9a027fa0a0\", element=\"6c885337-ff45-44f0-acfd-87461314b16b\")>,\n",
       " <selenium.webdriver.remote.webelement.WebElement (session=\"826bba43ac7a5eed6244af9a027fa0a0\", element=\"b33103a4-dac2-48b7-8260-ff2fba6d2182\")>,\n",
       " <selenium.webdriver.remote.webelement.WebElement (session=\"826bba43ac7a5eed6244af9a027fa0a0\", element=\"b7340247-51da-4283-996e-1852aec6c650\")>,\n",
       " <selenium.webdriver.remote.webelement.WebElement (session=\"826bba43ac7a5eed6244af9a027fa0a0\", element=\"18f57c26-380c-4812-9049-b9ec5ad060a2\")>,\n",
       " <selenium.webdriver.remote.webelement.WebElement (session=\"826bba43ac7a5eed6244af9a027fa0a0\", element=\"ce1b123d-cd60-4f83-a4ad-275fb4fa774b\")>,\n",
       " <selenium.webdriver.remote.webelement.WebElement (session=\"826bba43ac7a5eed6244af9a027fa0a0\", element=\"f3cbcd54-9244-49ef-8fe0-a97c8f997d2a\")>,\n",
       " <selenium.webdriver.remote.webelement.WebElement (session=\"826bba43ac7a5eed6244af9a027fa0a0\", element=\"687c3b79-c85f-495f-8f74-346375ff74ef\")>,\n",
       " <selenium.webdriver.remote.webelement.WebElement (session=\"826bba43ac7a5eed6244af9a027fa0a0\", element=\"03c1c312-12e8-42e3-ba9f-239e516566ba\")>,\n",
       " <selenium.webdriver.remote.webelement.WebElement (session=\"826bba43ac7a5eed6244af9a027fa0a0\", element=\"7fa76742-8327-409b-9b2c-060d84187bdf\")>,\n",
       " <selenium.webdriver.remote.webelement.WebElement (session=\"826bba43ac7a5eed6244af9a027fa0a0\", element=\"1e590bb8-eb6b-4e1f-89d1-b9e78d8055c0\")>,\n",
       " <selenium.webdriver.remote.webelement.WebElement (session=\"826bba43ac7a5eed6244af9a027fa0a0\", element=\"1ce2d940-b0a6-4c87-87c1-53fcff0f2c01\")>,\n",
       " <selenium.webdriver.remote.webelement.WebElement (session=\"826bba43ac7a5eed6244af9a027fa0a0\", element=\"83a5384d-2d4f-4bcc-abf3-aad6af0ab2b0\")>,\n",
       " <selenium.webdriver.remote.webelement.WebElement (session=\"826bba43ac7a5eed6244af9a027fa0a0\", element=\"b05f898b-1bcd-44a8-b5bf-dcc079377b60\")>,\n",
       " <selenium.webdriver.remote.webelement.WebElement (session=\"826bba43ac7a5eed6244af9a027fa0a0\", element=\"331d4f7d-c22a-4db0-92b4-aca56431fc7a\")>,\n",
       " <selenium.webdriver.remote.webelement.WebElement (session=\"826bba43ac7a5eed6244af9a027fa0a0\", element=\"827eecd4-a76c-4ec2-8d0b-349ccb23e559\")>,\n",
       " <selenium.webdriver.remote.webelement.WebElement (session=\"826bba43ac7a5eed6244af9a027fa0a0\", element=\"6da010dd-0f13-437f-9ea2-c95c300c50d9\")>,\n",
       " <selenium.webdriver.remote.webelement.WebElement (session=\"826bba43ac7a5eed6244af9a027fa0a0\", element=\"11a128f1-f176-40d4-abb1-d9299cd71174\")>,\n",
       " <selenium.webdriver.remote.webelement.WebElement (session=\"826bba43ac7a5eed6244af9a027fa0a0\", element=\"b0d31b2f-bbee-49dd-8b5e-7a6007cffd5e\")>,\n",
       " <selenium.webdriver.remote.webelement.WebElement (session=\"826bba43ac7a5eed6244af9a027fa0a0\", element=\"99fc5e6e-ff22-4244-86fb-4c4754d497c7\")>,\n",
       " <selenium.webdriver.remote.webelement.WebElement (session=\"826bba43ac7a5eed6244af9a027fa0a0\", element=\"56170bf4-39c6-499f-8fd1-36e8ad6fd713\")>,\n",
       " <selenium.webdriver.remote.webelement.WebElement (session=\"826bba43ac7a5eed6244af9a027fa0a0\", element=\"66c4f566-b830-4344-8cb4-86e02a704739\")>,\n",
       " <selenium.webdriver.remote.webelement.WebElement (session=\"826bba43ac7a5eed6244af9a027fa0a0\", element=\"ddec51f7-522d-4784-b9e5-b147350e645a\")>,\n",
       " <selenium.webdriver.remote.webelement.WebElement (session=\"826bba43ac7a5eed6244af9a027fa0a0\", element=\"385c6ade-d052-4e9a-9d08-1537d7d896c1\")>,\n",
       " <selenium.webdriver.remote.webelement.WebElement (session=\"826bba43ac7a5eed6244af9a027fa0a0\", element=\"56b24d9a-d1b5-4345-befa-25a6986f6f78\")>,\n",
       " <selenium.webdriver.remote.webelement.WebElement (session=\"826bba43ac7a5eed6244af9a027fa0a0\", element=\"26d06e01-8b6c-4afd-a866-508f32e019a0\")>,\n",
       " <selenium.webdriver.remote.webelement.WebElement (session=\"826bba43ac7a5eed6244af9a027fa0a0\", element=\"d8e9dc0a-f471-4413-9138-be5e610131ae\")>,\n",
       " <selenium.webdriver.remote.webelement.WebElement (session=\"826bba43ac7a5eed6244af9a027fa0a0\", element=\"a2be46a9-aee9-4819-89ba-8281f535c48e\")>,\n",
       " <selenium.webdriver.remote.webelement.WebElement (session=\"826bba43ac7a5eed6244af9a027fa0a0\", element=\"21c58bec-f81f-4f82-ab3a-36a570d2658b\")>,\n",
       " <selenium.webdriver.remote.webelement.WebElement (session=\"826bba43ac7a5eed6244af9a027fa0a0\", element=\"9c676cc7-dd15-4333-a968-355c35de8d01\")>,\n",
       " <selenium.webdriver.remote.webelement.WebElement (session=\"826bba43ac7a5eed6244af9a027fa0a0\", element=\"e6852f8b-82a5-4f48-9c81-6554e4a56ba7\")>,\n",
       " <selenium.webdriver.remote.webelement.WebElement (session=\"826bba43ac7a5eed6244af9a027fa0a0\", element=\"f32ccd4a-c5d5-48f7-b057-4fa40a3f3352\")>,\n",
       " <selenium.webdriver.remote.webelement.WebElement (session=\"826bba43ac7a5eed6244af9a027fa0a0\", element=\"150818e2-0a2d-40dc-9bd0-b1a2f138cbcf\")>,\n",
       " <selenium.webdriver.remote.webelement.WebElement (session=\"826bba43ac7a5eed6244af9a027fa0a0\", element=\"5a0106ca-d802-4785-aa3d-e4ad6a7e9ae8\")>,\n",
       " <selenium.webdriver.remote.webelement.WebElement (session=\"826bba43ac7a5eed6244af9a027fa0a0\", element=\"d2c2ab5e-a5be-489b-afc0-9267fdee5b2e\")>,\n",
       " <selenium.webdriver.remote.webelement.WebElement (session=\"826bba43ac7a5eed6244af9a027fa0a0\", element=\"a2a7da03-8578-4d9f-b94a-b75e1fbe32be\")>,\n",
       " <selenium.webdriver.remote.webelement.WebElement (session=\"826bba43ac7a5eed6244af9a027fa0a0\", element=\"132b32f2-43b9-48b4-952e-625b334580d9\")>,\n",
       " <selenium.webdriver.remote.webelement.WebElement (session=\"826bba43ac7a5eed6244af9a027fa0a0\", element=\"bc2d538c-db28-4dd9-9f4e-2c2c18c493ed\")>,\n",
       " <selenium.webdriver.remote.webelement.WebElement (session=\"826bba43ac7a5eed6244af9a027fa0a0\", element=\"c4b5924e-da16-49bb-8d76-ad4174adb942\")>,\n",
       " <selenium.webdriver.remote.webelement.WebElement (session=\"826bba43ac7a5eed6244af9a027fa0a0\", element=\"6a688257-befd-4d53-8706-257b3abb83b5\")>,\n",
       " <selenium.webdriver.remote.webelement.WebElement (session=\"826bba43ac7a5eed6244af9a027fa0a0\", element=\"64d0fe19-cac5-48eb-9560-200f405b2dce\")>,\n",
       " <selenium.webdriver.remote.webelement.WebElement (session=\"826bba43ac7a5eed6244af9a027fa0a0\", element=\"f41964f0-57fd-4a3b-b75a-7399fa807f09\")>,\n",
       " <selenium.webdriver.remote.webelement.WebElement (session=\"826bba43ac7a5eed6244af9a027fa0a0\", element=\"02a4c355-ed7f-48b3-bd31-303bf7bb7e31\")>,\n",
       " <selenium.webdriver.remote.webelement.WebElement (session=\"826bba43ac7a5eed6244af9a027fa0a0\", element=\"f1ecf63e-9844-4097-81d4-0d2190a5d182\")>,\n",
       " <selenium.webdriver.remote.webelement.WebElement (session=\"826bba43ac7a5eed6244af9a027fa0a0\", element=\"db4de9fc-bd5a-422c-84c1-ffb8168bb590\")>,\n",
       " <selenium.webdriver.remote.webelement.WebElement (session=\"826bba43ac7a5eed6244af9a027fa0a0\", element=\"f9473405-3e16-4c98-b6cf-0cd39db9d2c2\")>,\n",
       " <selenium.webdriver.remote.webelement.WebElement (session=\"826bba43ac7a5eed6244af9a027fa0a0\", element=\"f267ae13-a252-4033-8d9a-0c3bbaaa268b\")>,\n",
       " <selenium.webdriver.remote.webelement.WebElement (session=\"826bba43ac7a5eed6244af9a027fa0a0\", element=\"fca4effb-eec6-47a6-82d3-36949215a16c\")>,\n",
       " <selenium.webdriver.remote.webelement.WebElement (session=\"826bba43ac7a5eed6244af9a027fa0a0\", element=\"aaab3b7e-c761-4317-937c-7239929b9cb3\")>,\n",
       " <selenium.webdriver.remote.webelement.WebElement (session=\"826bba43ac7a5eed6244af9a027fa0a0\", element=\"a93c2698-923d-4091-8af0-8bebe15cf939\")>,\n",
       " <selenium.webdriver.remote.webelement.WebElement (session=\"826bba43ac7a5eed6244af9a027fa0a0\", element=\"38c59e26-6601-4906-b838-e35c9796f7d5\")>,\n",
       " <selenium.webdriver.remote.webelement.WebElement (session=\"826bba43ac7a5eed6244af9a027fa0a0\", element=\"5943e841-304a-4e67-bf43-55c5fb4a5a4f\")>,\n",
       " <selenium.webdriver.remote.webelement.WebElement (session=\"826bba43ac7a5eed6244af9a027fa0a0\", element=\"96348d39-8403-4948-83ae-65e9d25fde49\")>,\n",
       " <selenium.webdriver.remote.webelement.WebElement (session=\"826bba43ac7a5eed6244af9a027fa0a0\", element=\"0b59f731-405f-4c3e-a7b8-b95fdf6979c6\")>,\n",
       " <selenium.webdriver.remote.webelement.WebElement (session=\"826bba43ac7a5eed6244af9a027fa0a0\", element=\"38a32058-20a7-4cb4-9a4a-bf1b1b8c94c4\")>,\n",
       " <selenium.webdriver.remote.webelement.WebElement (session=\"826bba43ac7a5eed6244af9a027fa0a0\", element=\"549724af-fd22-4ce5-9446-e4c3bce5f151\")>,\n",
       " <selenium.webdriver.remote.webelement.WebElement (session=\"826bba43ac7a5eed6244af9a027fa0a0\", element=\"c05b900b-d56f-4bf0-a4ff-38aba2287eee\")>,\n",
       " <selenium.webdriver.remote.webelement.WebElement (session=\"826bba43ac7a5eed6244af9a027fa0a0\", element=\"cb0ba502-8dfb-4a59-9780-03b4497f2d79\")>,\n",
       " <selenium.webdriver.remote.webelement.WebElement (session=\"826bba43ac7a5eed6244af9a027fa0a0\", element=\"93e37d4d-0e78-42db-935c-fbc0325a860d\")>,\n",
       " <selenium.webdriver.remote.webelement.WebElement (session=\"826bba43ac7a5eed6244af9a027fa0a0\", element=\"c9b83983-fa74-491f-9fc1-01e636569d59\")>,\n",
       " <selenium.webdriver.remote.webelement.WebElement (session=\"826bba43ac7a5eed6244af9a027fa0a0\", element=\"a5a77ce7-0fd4-4665-9714-fbb2f1444107\")>,\n",
       " <selenium.webdriver.remote.webelement.WebElement (session=\"826bba43ac7a5eed6244af9a027fa0a0\", element=\"059f76a5-301b-465f-88a1-e11f5b086351\")>,\n",
       " <selenium.webdriver.remote.webelement.WebElement (session=\"826bba43ac7a5eed6244af9a027fa0a0\", element=\"c8c26d1b-8a0c-4718-8a50-03ae3fdf3635\")>,\n",
       " <selenium.webdriver.remote.webelement.WebElement (session=\"826bba43ac7a5eed6244af9a027fa0a0\", element=\"cb01a549-40ac-4980-a0fa-c261688d126d\")>,\n",
       " <selenium.webdriver.remote.webelement.WebElement (session=\"826bba43ac7a5eed6244af9a027fa0a0\", element=\"03e8273d-474d-4077-8e4c-00ecb89fae1c\")>,\n",
       " <selenium.webdriver.remote.webelement.WebElement (session=\"826bba43ac7a5eed6244af9a027fa0a0\", element=\"80781b10-a196-413d-b39c-dabf28d0e84c\")>,\n",
       " <selenium.webdriver.remote.webelement.WebElement (session=\"826bba43ac7a5eed6244af9a027fa0a0\", element=\"d9d637f8-e13a-4ad8-9d49-a935660c4205\")>,\n",
       " <selenium.webdriver.remote.webelement.WebElement (session=\"826bba43ac7a5eed6244af9a027fa0a0\", element=\"34c229fc-a29a-44e9-9ff7-6e4b6c2462c6\")>,\n",
       " <selenium.webdriver.remote.webelement.WebElement (session=\"826bba43ac7a5eed6244af9a027fa0a0\", element=\"22173101-4136-42b0-a65a-11aa7729d631\")>,\n",
       " <selenium.webdriver.remote.webelement.WebElement (session=\"826bba43ac7a5eed6244af9a027fa0a0\", element=\"3792197a-f752-4a17-9571-f2582fc08304\")>,\n",
       " <selenium.webdriver.remote.webelement.WebElement (session=\"826bba43ac7a5eed6244af9a027fa0a0\", element=\"86eb7fb7-03fe-4452-bef9-6e355e25ef40\")>,\n",
       " <selenium.webdriver.remote.webelement.WebElement (session=\"826bba43ac7a5eed6244af9a027fa0a0\", element=\"7c86bdc4-c35e-42e4-991a-80c817950141\")>,\n",
       " <selenium.webdriver.remote.webelement.WebElement (session=\"826bba43ac7a5eed6244af9a027fa0a0\", element=\"6f892935-5596-40d7-b40a-d9d888ae2159\")>,\n",
       " <selenium.webdriver.remote.webelement.WebElement (session=\"826bba43ac7a5eed6244af9a027fa0a0\", element=\"c270b1a3-4573-4553-81b8-87411e21e5b1\")>,\n",
       " <selenium.webdriver.remote.webelement.WebElement (session=\"826bba43ac7a5eed6244af9a027fa0a0\", element=\"eb1a0b6f-5518-448e-ba4f-4647a62984be\")>,\n",
       " <selenium.webdriver.remote.webelement.WebElement (session=\"826bba43ac7a5eed6244af9a027fa0a0\", element=\"1798e6fe-477e-4e7c-bc6b-3b79029b9bf3\")>,\n",
       " <selenium.webdriver.remote.webelement.WebElement (session=\"826bba43ac7a5eed6244af9a027fa0a0\", element=\"a0016c36-544b-4a10-aa0b-b45c383ee0ae\")>,\n",
       " <selenium.webdriver.remote.webelement.WebElement (session=\"826bba43ac7a5eed6244af9a027fa0a0\", element=\"8f622bfd-c8f1-4ed0-b583-eafee0a2e300\")>,\n",
       " <selenium.webdriver.remote.webelement.WebElement (session=\"826bba43ac7a5eed6244af9a027fa0a0\", element=\"bdb52881-08ca-4780-b339-b40fec6bf175\")>,\n",
       " <selenium.webdriver.remote.webelement.WebElement (session=\"826bba43ac7a5eed6244af9a027fa0a0\", element=\"dec1285e-209f-4ba4-85a9-91b9f8d12ad0\")>,\n",
       " <selenium.webdriver.remote.webelement.WebElement (session=\"826bba43ac7a5eed6244af9a027fa0a0\", element=\"c9046dcd-8a94-497c-a0dc-c6de245173a0\")>,\n",
       " <selenium.webdriver.remote.webelement.WebElement (session=\"826bba43ac7a5eed6244af9a027fa0a0\", element=\"fd0a5b6b-2d7e-4c4a-b68c-76c0b036ccb6\")>,\n",
       " <selenium.webdriver.remote.webelement.WebElement (session=\"826bba43ac7a5eed6244af9a027fa0a0\", element=\"ab2bfde8-dfff-4686-862c-0961d43dfd90\")>,\n",
       " <selenium.webdriver.remote.webelement.WebElement (session=\"826bba43ac7a5eed6244af9a027fa0a0\", element=\"ec872a8d-c133-4576-ad68-ddcd99239ae7\")>,\n",
       " <selenium.webdriver.remote.webelement.WebElement (session=\"826bba43ac7a5eed6244af9a027fa0a0\", element=\"748eff26-7aeb-436b-860d-e1db45769752\")>,\n",
       " <selenium.webdriver.remote.webelement.WebElement (session=\"826bba43ac7a5eed6244af9a027fa0a0\", element=\"827e1410-0ce5-4868-93a6-3a43f24b4b36\")>,\n",
       " <selenium.webdriver.remote.webelement.WebElement (session=\"826bba43ac7a5eed6244af9a027fa0a0\", element=\"7b3f9556-807f-4611-a161-24d224f6aada\")>,\n",
       " <selenium.webdriver.remote.webelement.WebElement (session=\"826bba43ac7a5eed6244af9a027fa0a0\", element=\"fa5fb03f-5a7c-4172-95a1-681f6132747e\")>,\n",
       " <selenium.webdriver.remote.webelement.WebElement (session=\"826bba43ac7a5eed6244af9a027fa0a0\", element=\"8f452485-eca5-4c4d-9c65-d294789e52a4\")>,\n",
       " <selenium.webdriver.remote.webelement.WebElement (session=\"826bba43ac7a5eed6244af9a027fa0a0\", element=\"ad9dffb4-a2e2-4cdd-8c20-bafc2241d0b6\")>,\n",
       " <selenium.webdriver.remote.webelement.WebElement (session=\"826bba43ac7a5eed6244af9a027fa0a0\", element=\"3eab0bc2-b898-481e-b74d-3705d7fb4ae9\")>,\n",
       " <selenium.webdriver.remote.webelement.WebElement (session=\"826bba43ac7a5eed6244af9a027fa0a0\", element=\"c28b15ab-be85-4738-b44b-3737a65c090a\")>,\n",
       " <selenium.webdriver.remote.webelement.WebElement (session=\"826bba43ac7a5eed6244af9a027fa0a0\", element=\"1570e270-9717-4261-9193-4651eb27047a\")>,\n",
       " <selenium.webdriver.remote.webelement.WebElement (session=\"826bba43ac7a5eed6244af9a027fa0a0\", element=\"bddb1353-b26a-44ad-8a26-35afbc02d95a\")>,\n",
       " <selenium.webdriver.remote.webelement.WebElement (session=\"826bba43ac7a5eed6244af9a027fa0a0\", element=\"d64ace8c-06ca-44cb-9501-710be6811cfd\")>,\n",
       " <selenium.webdriver.remote.webelement.WebElement (session=\"826bba43ac7a5eed6244af9a027fa0a0\", element=\"4ca88243-e043-4cf0-b35b-39cad1aea257\")>,\n",
       " <selenium.webdriver.remote.webelement.WebElement (session=\"826bba43ac7a5eed6244af9a027fa0a0\", element=\"1ddaa1de-b7b6-401e-96c5-9829c439b180\")>,\n",
       " <selenium.webdriver.remote.webelement.WebElement (session=\"826bba43ac7a5eed6244af9a027fa0a0\", element=\"145d7221-7b76-46e1-bb67-7e03c65e571a\")>,\n",
       " <selenium.webdriver.remote.webelement.WebElement (session=\"826bba43ac7a5eed6244af9a027fa0a0\", element=\"858ecd3b-c6c5-4322-b9b1-50a3758f718c\")>,\n",
       " <selenium.webdriver.remote.webelement.WebElement (session=\"826bba43ac7a5eed6244af9a027fa0a0\", element=\"e988d88d-0b9c-4045-8c3d-bab75858b702\")>,\n",
       " <selenium.webdriver.remote.webelement.WebElement (session=\"826bba43ac7a5eed6244af9a027fa0a0\", element=\"a39a2d7d-2fff-4937-8489-c29b56296ef9\")>,\n",
       " <selenium.webdriver.remote.webelement.WebElement (session=\"826bba43ac7a5eed6244af9a027fa0a0\", element=\"97243309-11b1-4968-a912-42fd025a296b\")>,\n",
       " <selenium.webdriver.remote.webelement.WebElement (session=\"826bba43ac7a5eed6244af9a027fa0a0\", element=\"972b7b3d-a3b9-48e2-ad40-619f57d193b5\")>,\n",
       " <selenium.webdriver.remote.webelement.WebElement (session=\"826bba43ac7a5eed6244af9a027fa0a0\", element=\"02e22652-fd55-4e62-bf5d-c464490290b0\")>,\n",
       " <selenium.webdriver.remote.webelement.WebElement (session=\"826bba43ac7a5eed6244af9a027fa0a0\", element=\"0490b5c6-98e1-49ca-9282-bf201148f685\")>,\n",
       " <selenium.webdriver.remote.webelement.WebElement (session=\"826bba43ac7a5eed6244af9a027fa0a0\", element=\"095897e6-7936-4c0b-ac0d-bbe4f9ec7288\")>,\n",
       " <selenium.webdriver.remote.webelement.WebElement (session=\"826bba43ac7a5eed6244af9a027fa0a0\", element=\"f6f7e01d-324b-48f5-a174-24625a95ebe3\")>,\n",
       " <selenium.webdriver.remote.webelement.WebElement (session=\"826bba43ac7a5eed6244af9a027fa0a0\", element=\"7143e869-c655-49f0-8446-2654980c52e5\")>,\n",
       " <selenium.webdriver.remote.webelement.WebElement (session=\"826bba43ac7a5eed6244af9a027fa0a0\", element=\"baa061a6-7018-4a7b-bb60-ac85f7a50f51\")>,\n",
       " <selenium.webdriver.remote.webelement.WebElement (session=\"826bba43ac7a5eed6244af9a027fa0a0\", element=\"552ebbcb-ee17-4775-9674-c717059ab073\")>,\n",
       " <selenium.webdriver.remote.webelement.WebElement (session=\"826bba43ac7a5eed6244af9a027fa0a0\", element=\"a40695ee-3db1-46aa-ba08-2a10d6763e87\")>,\n",
       " <selenium.webdriver.remote.webelement.WebElement (session=\"826bba43ac7a5eed6244af9a027fa0a0\", element=\"9ebab3ce-b132-4cf1-9df7-e530b9e26db5\")>,\n",
       " <selenium.webdriver.remote.webelement.WebElement (session=\"826bba43ac7a5eed6244af9a027fa0a0\", element=\"0a210305-26ab-420c-b5ed-c1033e0c2303\")>,\n",
       " <selenium.webdriver.remote.webelement.WebElement (session=\"826bba43ac7a5eed6244af9a027fa0a0\", element=\"86513aba-0191-406e-9969-1e4e1e7b756a\")>,\n",
       " <selenium.webdriver.remote.webelement.WebElement (session=\"826bba43ac7a5eed6244af9a027fa0a0\", element=\"f2d5284b-6e23-4c65-a2fa-06e3517c25ee\")>,\n",
       " <selenium.webdriver.remote.webelement.WebElement (session=\"826bba43ac7a5eed6244af9a027fa0a0\", element=\"96dd9859-f257-43c2-938b-d1ca0ffc5e2c\")>,\n",
       " <selenium.webdriver.remote.webelement.WebElement (session=\"826bba43ac7a5eed6244af9a027fa0a0\", element=\"c8101e74-aee4-4d84-bc7c-892e73723bef\")>,\n",
       " <selenium.webdriver.remote.webelement.WebElement (session=\"826bba43ac7a5eed6244af9a027fa0a0\", element=\"a0b7d0ac-7350-4fda-9183-5beef6f69f8c\")>,\n",
       " <selenium.webdriver.remote.webelement.WebElement (session=\"826bba43ac7a5eed6244af9a027fa0a0\", element=\"dd458544-339f-45e3-937c-14ba21e50d16\")>,\n",
       " <selenium.webdriver.remote.webelement.WebElement (session=\"826bba43ac7a5eed6244af9a027fa0a0\", element=\"5f096e4d-04e5-436e-ac36-cce2d9973aff\")>,\n",
       " <selenium.webdriver.remote.webelement.WebElement (session=\"826bba43ac7a5eed6244af9a027fa0a0\", element=\"53fb1997-405a-4534-b06a-76cfcc6f500d\")>,\n",
       " <selenium.webdriver.remote.webelement.WebElement (session=\"826bba43ac7a5eed6244af9a027fa0a0\", element=\"74ecc39b-6d7b-4ded-90ac-45bd681d58f9\")>,\n",
       " <selenium.webdriver.remote.webelement.WebElement (session=\"826bba43ac7a5eed6244af9a027fa0a0\", element=\"f53967e8-74c9-405b-96ba-a0198f0d206e\")>,\n",
       " <selenium.webdriver.remote.webelement.WebElement (session=\"826bba43ac7a5eed6244af9a027fa0a0\", element=\"e95a9e25-1ece-471d-8b14-dea69a2babef\")>,\n",
       " <selenium.webdriver.remote.webelement.WebElement (session=\"826bba43ac7a5eed6244af9a027fa0a0\", element=\"06ae5394-140b-49f4-84d1-f803d3fc8b8e\")>,\n",
       " <selenium.webdriver.remote.webelement.WebElement (session=\"826bba43ac7a5eed6244af9a027fa0a0\", element=\"ea1a02ff-f36b-4541-89a6-f3fb4ebe4055\")>,\n",
       " <selenium.webdriver.remote.webelement.WebElement (session=\"826bba43ac7a5eed6244af9a027fa0a0\", element=\"6428b7b4-f0af-4906-a647-fda058053c5d\")>,\n",
       " <selenium.webdriver.remote.webelement.WebElement (session=\"826bba43ac7a5eed6244af9a027fa0a0\", element=\"cb41cd48-9e9c-4c63-add2-769fc3cd1c8f\")>,\n",
       " <selenium.webdriver.remote.webelement.WebElement (session=\"826bba43ac7a5eed6244af9a027fa0a0\", element=\"7ef1551a-eb07-419a-ab8c-2a09e682ff7b\")>,\n",
       " <selenium.webdriver.remote.webelement.WebElement (session=\"826bba43ac7a5eed6244af9a027fa0a0\", element=\"c24b8236-c9c9-4521-9058-28c42d45512d\")>,\n",
       " <selenium.webdriver.remote.webelement.WebElement (session=\"826bba43ac7a5eed6244af9a027fa0a0\", element=\"abdbbcca-cb5f-4641-b4b2-d5c6bbd9b88c\")>,\n",
       " <selenium.webdriver.remote.webelement.WebElement (session=\"826bba43ac7a5eed6244af9a027fa0a0\", element=\"ab603826-170b-44ad-a6b3-5e2c7d51cd15\")>,\n",
       " <selenium.webdriver.remote.webelement.WebElement (session=\"826bba43ac7a5eed6244af9a027fa0a0\", element=\"d6f66a6e-efde-4d51-83fc-f08d1aaa8c36\")>,\n",
       " <selenium.webdriver.remote.webelement.WebElement (session=\"826bba43ac7a5eed6244af9a027fa0a0\", element=\"99c41e46-c5e7-4eee-840b-6f0b13405637\")>,\n",
       " <selenium.webdriver.remote.webelement.WebElement (session=\"826bba43ac7a5eed6244af9a027fa0a0\", element=\"0cfde2f6-df0b-4f47-abbb-5f63079e24cf\")>,\n",
       " <selenium.webdriver.remote.webelement.WebElement (session=\"826bba43ac7a5eed6244af9a027fa0a0\", element=\"f1c9b169-cf83-4b0c-b342-94a98fda860e\")>,\n",
       " <selenium.webdriver.remote.webelement.WebElement (session=\"826bba43ac7a5eed6244af9a027fa0a0\", element=\"6bab10ff-6179-490a-a5f7-615918f3776e\")>,\n",
       " <selenium.webdriver.remote.webelement.WebElement (session=\"826bba43ac7a5eed6244af9a027fa0a0\", element=\"1258a2b6-095f-482b-9608-c3f8b1cfe29c\")>]"
      ]
     },
     "execution_count": 148,
     "metadata": {},
     "output_type": "execute_result"
    }
   ],
   "source": [
    "volume_sold=driver.find_elements_by_xpath('//td[@class=\"left\"]')\n",
    "volume_sold"
   ]
  },
  {
   "cell_type": "code",
   "execution_count": 149,
   "id": "facb83fc",
   "metadata": {},
   "outputs": [
    {
     "data": {
      "text/plain": [
       "[]"
      ]
     },
     "execution_count": 149,
     "metadata": {},
     "output_type": "execute_result"
    }
   ],
   "source": [
    "volume_sold=[]\n",
    "for i in volume_sold:\n",
    "   volume_sold.append(i.text)\n",
    "    \n",
    "volume_sold"
   ]
  },
  {
   "cell_type": "code",
   "execution_count": 150,
   "id": "40c3e973",
   "metadata": {
    "scrolled": false
   },
   "outputs": [
    {
     "name": "stderr",
     "output_type": "stream",
     "text": [
      "<ipython-input-150-06ec1348363b>:1: DeprecationWarning: find_elements_by_* commands are deprecated. Please use find_elements() instead\n",
      "  publisher=driver.find_elements_by_xpath('//td[@class=\"left\"]')\n"
     ]
    },
    {
     "data": {
      "text/plain": [
       "[<selenium.webdriver.remote.webelement.WebElement (session=\"826bba43ac7a5eed6244af9a027fa0a0\", element=\"b916ed08-9c4e-424b-b0e7-322ff27ffd33\")>,\n",
       " <selenium.webdriver.remote.webelement.WebElement (session=\"826bba43ac7a5eed6244af9a027fa0a0\", element=\"5a5a5276-1a27-4089-a509-b3a983eec827\")>,\n",
       " <selenium.webdriver.remote.webelement.WebElement (session=\"826bba43ac7a5eed6244af9a027fa0a0\", element=\"090b9cba-8fb0-425e-a251-7fe9d07318f1\")>,\n",
       " <selenium.webdriver.remote.webelement.WebElement (session=\"826bba43ac7a5eed6244af9a027fa0a0\", element=\"69ed12ee-8f2a-4715-a11b-0b38b02747cd\")>,\n",
       " <selenium.webdriver.remote.webelement.WebElement (session=\"826bba43ac7a5eed6244af9a027fa0a0\", element=\"32a5abe6-3a6d-4cd7-bd8e-17025f9e5dc8\")>,\n",
       " <selenium.webdriver.remote.webelement.WebElement (session=\"826bba43ac7a5eed6244af9a027fa0a0\", element=\"b02b6d39-904a-47c8-9e2c-b29803a70979\")>,\n",
       " <selenium.webdriver.remote.webelement.WebElement (session=\"826bba43ac7a5eed6244af9a027fa0a0\", element=\"b0ec2b03-ab0e-40ee-bf82-8707cb7860c0\")>,\n",
       " <selenium.webdriver.remote.webelement.WebElement (session=\"826bba43ac7a5eed6244af9a027fa0a0\", element=\"0f1cd7b7-d381-4811-b480-60a8c326ff31\")>,\n",
       " <selenium.webdriver.remote.webelement.WebElement (session=\"826bba43ac7a5eed6244af9a027fa0a0\", element=\"be446c48-e019-4610-8138-6961a6667824\")>,\n",
       " <selenium.webdriver.remote.webelement.WebElement (session=\"826bba43ac7a5eed6244af9a027fa0a0\", element=\"aa8ccce3-3c22-4517-b68f-ceff58ceff7a\")>,\n",
       " <selenium.webdriver.remote.webelement.WebElement (session=\"826bba43ac7a5eed6244af9a027fa0a0\", element=\"f428c99d-d025-46cf-a21f-5caeae763f48\")>,\n",
       " <selenium.webdriver.remote.webelement.WebElement (session=\"826bba43ac7a5eed6244af9a027fa0a0\", element=\"671ee705-45b7-4985-8108-22fb3863f380\")>,\n",
       " <selenium.webdriver.remote.webelement.WebElement (session=\"826bba43ac7a5eed6244af9a027fa0a0\", element=\"20cad254-88ad-4044-8300-9f7604b5a549\")>,\n",
       " <selenium.webdriver.remote.webelement.WebElement (session=\"826bba43ac7a5eed6244af9a027fa0a0\", element=\"5741e637-f0a5-401b-a4cf-1dc3be36674e\")>,\n",
       " <selenium.webdriver.remote.webelement.WebElement (session=\"826bba43ac7a5eed6244af9a027fa0a0\", element=\"affa704e-a25c-4157-b1cf-fede6a4553ef\")>,\n",
       " <selenium.webdriver.remote.webelement.WebElement (session=\"826bba43ac7a5eed6244af9a027fa0a0\", element=\"d6cb6de1-506c-4e24-b49f-a5b3c060131e\")>,\n",
       " <selenium.webdriver.remote.webelement.WebElement (session=\"826bba43ac7a5eed6244af9a027fa0a0\", element=\"4ea11cfb-d07d-42eb-8b4e-04cc95358da0\")>,\n",
       " <selenium.webdriver.remote.webelement.WebElement (session=\"826bba43ac7a5eed6244af9a027fa0a0\", element=\"f37ccf77-3ea1-4a11-84ee-f9939ba05988\")>,\n",
       " <selenium.webdriver.remote.webelement.WebElement (session=\"826bba43ac7a5eed6244af9a027fa0a0\", element=\"52524ac3-56a8-49c1-aebb-0f18cf19e950\")>,\n",
       " <selenium.webdriver.remote.webelement.WebElement (session=\"826bba43ac7a5eed6244af9a027fa0a0\", element=\"a69bc104-4f77-4749-984e-5d6aff1c55bf\")>,\n",
       " <selenium.webdriver.remote.webelement.WebElement (session=\"826bba43ac7a5eed6244af9a027fa0a0\", element=\"daf183be-ee7c-4a62-b0b4-6100cc08fb74\")>,\n",
       " <selenium.webdriver.remote.webelement.WebElement (session=\"826bba43ac7a5eed6244af9a027fa0a0\", element=\"fa50a8e7-0deb-4675-9ff7-4c3186fb834f\")>,\n",
       " <selenium.webdriver.remote.webelement.WebElement (session=\"826bba43ac7a5eed6244af9a027fa0a0\", element=\"9c567fe1-90f0-4ea1-8817-ab6830dcb879\")>,\n",
       " <selenium.webdriver.remote.webelement.WebElement (session=\"826bba43ac7a5eed6244af9a027fa0a0\", element=\"8af7515c-6a45-49c6-8e0d-638d16167edd\")>,\n",
       " <selenium.webdriver.remote.webelement.WebElement (session=\"826bba43ac7a5eed6244af9a027fa0a0\", element=\"8557b5aa-c6de-4e54-8e9c-ab76add5c1c5\")>,\n",
       " <selenium.webdriver.remote.webelement.WebElement (session=\"826bba43ac7a5eed6244af9a027fa0a0\", element=\"bbdfc37b-921a-4665-8771-52e266b2b7c4\")>,\n",
       " <selenium.webdriver.remote.webelement.WebElement (session=\"826bba43ac7a5eed6244af9a027fa0a0\", element=\"e1c02d4a-d357-49e6-bab8-7505ae7135fd\")>,\n",
       " <selenium.webdriver.remote.webelement.WebElement (session=\"826bba43ac7a5eed6244af9a027fa0a0\", element=\"1ab5fffb-26e1-446d-ab12-aece8610513c\")>,\n",
       " <selenium.webdriver.remote.webelement.WebElement (session=\"826bba43ac7a5eed6244af9a027fa0a0\", element=\"3b34b989-0f0c-45c6-b786-e56c7b7d56bc\")>,\n",
       " <selenium.webdriver.remote.webelement.WebElement (session=\"826bba43ac7a5eed6244af9a027fa0a0\", element=\"7b03fca0-ef8f-4901-a2c1-2b4367a62cf7\")>,\n",
       " <selenium.webdriver.remote.webelement.WebElement (session=\"826bba43ac7a5eed6244af9a027fa0a0\", element=\"4302fd12-7dd1-42ba-9fbf-9597978a9e32\")>,\n",
       " <selenium.webdriver.remote.webelement.WebElement (session=\"826bba43ac7a5eed6244af9a027fa0a0\", element=\"8902eb31-cc4a-47a7-9625-0a2393be5316\")>,\n",
       " <selenium.webdriver.remote.webelement.WebElement (session=\"826bba43ac7a5eed6244af9a027fa0a0\", element=\"4792d231-72cc-4b70-93e9-8f11ba1f9421\")>,\n",
       " <selenium.webdriver.remote.webelement.WebElement (session=\"826bba43ac7a5eed6244af9a027fa0a0\", element=\"8fc7bf41-e599-436d-99e4-c68703f615fa\")>,\n",
       " <selenium.webdriver.remote.webelement.WebElement (session=\"826bba43ac7a5eed6244af9a027fa0a0\", element=\"e520f96f-cc2c-4d6a-b221-89618da072b8\")>,\n",
       " <selenium.webdriver.remote.webelement.WebElement (session=\"826bba43ac7a5eed6244af9a027fa0a0\", element=\"2b0bb9ed-a150-4b38-aff2-2f67bcc449a5\")>,\n",
       " <selenium.webdriver.remote.webelement.WebElement (session=\"826bba43ac7a5eed6244af9a027fa0a0\", element=\"ea48eaf3-cd9e-4842-ab72-1122d386fd2f\")>,\n",
       " <selenium.webdriver.remote.webelement.WebElement (session=\"826bba43ac7a5eed6244af9a027fa0a0\", element=\"b3952f44-7017-461c-b52e-b2a1654d97a8\")>,\n",
       " <selenium.webdriver.remote.webelement.WebElement (session=\"826bba43ac7a5eed6244af9a027fa0a0\", element=\"d081f219-86b9-40c2-a842-fbee3670733c\")>,\n",
       " <selenium.webdriver.remote.webelement.WebElement (session=\"826bba43ac7a5eed6244af9a027fa0a0\", element=\"604c5322-bba7-4b4a-8595-47aae00a7c79\")>,\n",
       " <selenium.webdriver.remote.webelement.WebElement (session=\"826bba43ac7a5eed6244af9a027fa0a0\", element=\"59ddf8ec-056d-4592-81c9-ed70c448d890\")>,\n",
       " <selenium.webdriver.remote.webelement.WebElement (session=\"826bba43ac7a5eed6244af9a027fa0a0\", element=\"256771e6-627d-4944-91e1-95f438e7d876\")>,\n",
       " <selenium.webdriver.remote.webelement.WebElement (session=\"826bba43ac7a5eed6244af9a027fa0a0\", element=\"1cc0b6fd-de4a-4be7-a096-b850836fe174\")>,\n",
       " <selenium.webdriver.remote.webelement.WebElement (session=\"826bba43ac7a5eed6244af9a027fa0a0\", element=\"99d7558b-12f2-4654-b246-ccc742e23289\")>,\n",
       " <selenium.webdriver.remote.webelement.WebElement (session=\"826bba43ac7a5eed6244af9a027fa0a0\", element=\"1b690d6f-aed6-4935-8731-f9844be3788e\")>,\n",
       " <selenium.webdriver.remote.webelement.WebElement (session=\"826bba43ac7a5eed6244af9a027fa0a0\", element=\"f070bf3b-3193-46bb-ae18-2f9edd2a4eaf\")>,\n",
       " <selenium.webdriver.remote.webelement.WebElement (session=\"826bba43ac7a5eed6244af9a027fa0a0\", element=\"500f18ef-d5ed-4a7c-aad6-8ade850c84a1\")>,\n",
       " <selenium.webdriver.remote.webelement.WebElement (session=\"826bba43ac7a5eed6244af9a027fa0a0\", element=\"010d6d59-4534-404e-8154-330a82f79691\")>,\n",
       " <selenium.webdriver.remote.webelement.WebElement (session=\"826bba43ac7a5eed6244af9a027fa0a0\", element=\"6ea9ee37-272f-4964-8b09-b6e45698be68\")>,\n",
       " <selenium.webdriver.remote.webelement.WebElement (session=\"826bba43ac7a5eed6244af9a027fa0a0\", element=\"e6f030b2-7729-4dc6-abff-7ad4a8fe2f40\")>,\n",
       " <selenium.webdriver.remote.webelement.WebElement (session=\"826bba43ac7a5eed6244af9a027fa0a0\", element=\"bf4ad80a-a837-4d2a-9a16-da97944be811\")>,\n",
       " <selenium.webdriver.remote.webelement.WebElement (session=\"826bba43ac7a5eed6244af9a027fa0a0\", element=\"698b9e52-b3d8-4604-a5db-e78a965c62e9\")>,\n",
       " <selenium.webdriver.remote.webelement.WebElement (session=\"826bba43ac7a5eed6244af9a027fa0a0\", element=\"63a8f339-ef77-44ab-bf88-d91119bfac52\")>,\n",
       " <selenium.webdriver.remote.webelement.WebElement (session=\"826bba43ac7a5eed6244af9a027fa0a0\", element=\"1ec79e28-074e-46ee-aa4e-607adfe62025\")>,\n",
       " <selenium.webdriver.remote.webelement.WebElement (session=\"826bba43ac7a5eed6244af9a027fa0a0\", element=\"76e855e8-d4e9-4e63-ac6e-5e467a4721e7\")>,\n",
       " <selenium.webdriver.remote.webelement.WebElement (session=\"826bba43ac7a5eed6244af9a027fa0a0\", element=\"ef6dc69e-afcb-4f74-9af7-7134552eb19d\")>,\n",
       " <selenium.webdriver.remote.webelement.WebElement (session=\"826bba43ac7a5eed6244af9a027fa0a0\", element=\"547f38fe-06a9-4ada-aaae-e6f8674a7cf4\")>,\n",
       " <selenium.webdriver.remote.webelement.WebElement (session=\"826bba43ac7a5eed6244af9a027fa0a0\", element=\"6fa6896a-5d0f-4ce9-94ff-546d7f6a4f7e\")>,\n",
       " <selenium.webdriver.remote.webelement.WebElement (session=\"826bba43ac7a5eed6244af9a027fa0a0\", element=\"034556da-a9af-4beb-b51b-93e31968ffa8\")>,\n",
       " <selenium.webdriver.remote.webelement.WebElement (session=\"826bba43ac7a5eed6244af9a027fa0a0\", element=\"ae8e5ce1-626e-494b-9828-f96aef0be6fd\")>,\n",
       " <selenium.webdriver.remote.webelement.WebElement (session=\"826bba43ac7a5eed6244af9a027fa0a0\", element=\"a3528898-ef8f-44f6-a744-de6f67191884\")>,\n",
       " <selenium.webdriver.remote.webelement.WebElement (session=\"826bba43ac7a5eed6244af9a027fa0a0\", element=\"3e0a2852-4ed2-411f-9486-d92f1c1c02c3\")>,\n",
       " <selenium.webdriver.remote.webelement.WebElement (session=\"826bba43ac7a5eed6244af9a027fa0a0\", element=\"5cb961c0-8ea6-4311-bd01-492131e1d87a\")>,\n",
       " <selenium.webdriver.remote.webelement.WebElement (session=\"826bba43ac7a5eed6244af9a027fa0a0\", element=\"03163436-71c0-4a2c-a9ec-1c5a59efd377\")>,\n",
       " <selenium.webdriver.remote.webelement.WebElement (session=\"826bba43ac7a5eed6244af9a027fa0a0\", element=\"64ac16e3-4905-43fe-ad17-d12f34b5a196\")>,\n",
       " <selenium.webdriver.remote.webelement.WebElement (session=\"826bba43ac7a5eed6244af9a027fa0a0\", element=\"ad886a27-cb3d-409a-8151-18282c8350af\")>,\n",
       " <selenium.webdriver.remote.webelement.WebElement (session=\"826bba43ac7a5eed6244af9a027fa0a0\", element=\"86a4375e-ab0d-4f85-a351-64044c09cfbc\")>,\n",
       " <selenium.webdriver.remote.webelement.WebElement (session=\"826bba43ac7a5eed6244af9a027fa0a0\", element=\"a10928b3-56d9-4d79-b4e9-d23f73e9ca0e\")>,\n",
       " <selenium.webdriver.remote.webelement.WebElement (session=\"826bba43ac7a5eed6244af9a027fa0a0\", element=\"8406a579-a53a-4d7e-8544-458a738bcd40\")>,\n",
       " <selenium.webdriver.remote.webelement.WebElement (session=\"826bba43ac7a5eed6244af9a027fa0a0\", element=\"b53dcd1e-2185-4dc6-afcd-d0c6896a2355\")>,\n",
       " <selenium.webdriver.remote.webelement.WebElement (session=\"826bba43ac7a5eed6244af9a027fa0a0\", element=\"d6a39f1b-7b10-4c68-8a08-2cfb0a2277bd\")>,\n",
       " <selenium.webdriver.remote.webelement.WebElement (session=\"826bba43ac7a5eed6244af9a027fa0a0\", element=\"0a6be695-011f-44a5-93da-d6cd0a740c34\")>,\n",
       " <selenium.webdriver.remote.webelement.WebElement (session=\"826bba43ac7a5eed6244af9a027fa0a0\", element=\"bdcac485-04b7-4804-847f-dcd0c82fc478\")>,\n",
       " <selenium.webdriver.remote.webelement.WebElement (session=\"826bba43ac7a5eed6244af9a027fa0a0\", element=\"6f5c6c4f-af88-4fdf-851b-29bd277684a2\")>,\n",
       " <selenium.webdriver.remote.webelement.WebElement (session=\"826bba43ac7a5eed6244af9a027fa0a0\", element=\"3fcdb4b9-e288-4954-8472-520942d946f8\")>,\n",
       " <selenium.webdriver.remote.webelement.WebElement (session=\"826bba43ac7a5eed6244af9a027fa0a0\", element=\"c6a3b313-1d3f-40d9-99af-6bcfa0776ce7\")>,\n",
       " <selenium.webdriver.remote.webelement.WebElement (session=\"826bba43ac7a5eed6244af9a027fa0a0\", element=\"8c3da6a5-2b56-436f-9d5a-b8c18c43627d\")>,\n",
       " <selenium.webdriver.remote.webelement.WebElement (session=\"826bba43ac7a5eed6244af9a027fa0a0\", element=\"b523a30c-e4bb-453e-ba2a-3d8244b91627\")>,\n",
       " <selenium.webdriver.remote.webelement.WebElement (session=\"826bba43ac7a5eed6244af9a027fa0a0\", element=\"51c60ea7-05f3-4dd9-88aa-6447532383ef\")>,\n",
       " <selenium.webdriver.remote.webelement.WebElement (session=\"826bba43ac7a5eed6244af9a027fa0a0\", element=\"1f7869b6-a331-4a5f-acfa-4afe4f8fc86e\")>,\n",
       " <selenium.webdriver.remote.webelement.WebElement (session=\"826bba43ac7a5eed6244af9a027fa0a0\", element=\"64f50230-a555-471a-b71b-0740a6293930\")>,\n",
       " <selenium.webdriver.remote.webelement.WebElement (session=\"826bba43ac7a5eed6244af9a027fa0a0\", element=\"5933fbf2-5fbf-4cbb-86f8-1ee4d12c11d8\")>,\n",
       " <selenium.webdriver.remote.webelement.WebElement (session=\"826bba43ac7a5eed6244af9a027fa0a0\", element=\"5f2cb9d2-b247-4138-8d75-5e8c47600cbc\")>,\n",
       " <selenium.webdriver.remote.webelement.WebElement (session=\"826bba43ac7a5eed6244af9a027fa0a0\", element=\"441678c7-0f22-41c1-9480-04ccb9ff9d56\")>,\n",
       " <selenium.webdriver.remote.webelement.WebElement (session=\"826bba43ac7a5eed6244af9a027fa0a0\", element=\"27d0a233-f9a6-4527-bf22-015f2bf623f7\")>,\n",
       " <selenium.webdriver.remote.webelement.WebElement (session=\"826bba43ac7a5eed6244af9a027fa0a0\", element=\"7abda839-5c9a-4328-9011-2ec8e3b51644\")>,\n",
       " <selenium.webdriver.remote.webelement.WebElement (session=\"826bba43ac7a5eed6244af9a027fa0a0\", element=\"0f1f8ac1-5700-4b28-818c-d6474264b03f\")>,\n",
       " <selenium.webdriver.remote.webelement.WebElement (session=\"826bba43ac7a5eed6244af9a027fa0a0\", element=\"d636055b-ba41-4d7c-9b32-ea5cf0351d75\")>,\n",
       " <selenium.webdriver.remote.webelement.WebElement (session=\"826bba43ac7a5eed6244af9a027fa0a0\", element=\"e3dfe04e-08f0-480c-806a-2229e9111a98\")>,\n",
       " <selenium.webdriver.remote.webelement.WebElement (session=\"826bba43ac7a5eed6244af9a027fa0a0\", element=\"064a12f2-6a08-4a8b-8099-d0c98789b933\")>,\n",
       " <selenium.webdriver.remote.webelement.WebElement (session=\"826bba43ac7a5eed6244af9a027fa0a0\", element=\"e8299817-566c-4aa4-905f-2403f7618761\")>,\n",
       " <selenium.webdriver.remote.webelement.WebElement (session=\"826bba43ac7a5eed6244af9a027fa0a0\", element=\"1bdf8d6c-6d97-4e53-a47b-61074af25052\")>,\n",
       " <selenium.webdriver.remote.webelement.WebElement (session=\"826bba43ac7a5eed6244af9a027fa0a0\", element=\"023d8a4d-ba63-4ff2-acc8-dfdc7464cda4\")>,\n",
       " <selenium.webdriver.remote.webelement.WebElement (session=\"826bba43ac7a5eed6244af9a027fa0a0\", element=\"7969e55d-d60c-4a92-a235-6b029c97fbf6\")>,\n",
       " <selenium.webdriver.remote.webelement.WebElement (session=\"826bba43ac7a5eed6244af9a027fa0a0\", element=\"7682f262-3502-482b-bffb-f5730788314b\")>,\n",
       " <selenium.webdriver.remote.webelement.WebElement (session=\"826bba43ac7a5eed6244af9a027fa0a0\", element=\"74751e81-b25d-43b2-98a3-217892c82b8d\")>,\n",
       " <selenium.webdriver.remote.webelement.WebElement (session=\"826bba43ac7a5eed6244af9a027fa0a0\", element=\"5126cbc3-8187-4c6a-9915-d2bc6ef10f41\")>,\n",
       " <selenium.webdriver.remote.webelement.WebElement (session=\"826bba43ac7a5eed6244af9a027fa0a0\", element=\"e0a90096-3b25-48f5-94f0-530fb253b018\")>,\n",
       " <selenium.webdriver.remote.webelement.WebElement (session=\"826bba43ac7a5eed6244af9a027fa0a0\", element=\"dd1db8f7-3900-457a-87d6-010565f6c6c1\")>,\n",
       " <selenium.webdriver.remote.webelement.WebElement (session=\"826bba43ac7a5eed6244af9a027fa0a0\", element=\"27136895-12a1-42ce-8f20-4df98cd3d99d\")>,\n",
       " <selenium.webdriver.remote.webelement.WebElement (session=\"826bba43ac7a5eed6244af9a027fa0a0\", element=\"c4b1ece0-c9e6-4ec3-b471-e8fccebf7972\")>,\n",
       " <selenium.webdriver.remote.webelement.WebElement (session=\"826bba43ac7a5eed6244af9a027fa0a0\", element=\"ac77b23b-ff6c-4e54-a116-b68376d3ea70\")>,\n",
       " <selenium.webdriver.remote.webelement.WebElement (session=\"826bba43ac7a5eed6244af9a027fa0a0\", element=\"67b5ff2a-1719-4721-b659-65d5dec5f95b\")>,\n",
       " <selenium.webdriver.remote.webelement.WebElement (session=\"826bba43ac7a5eed6244af9a027fa0a0\", element=\"1d9a69ef-a02a-43a8-b060-ed701ae64036\")>,\n",
       " <selenium.webdriver.remote.webelement.WebElement (session=\"826bba43ac7a5eed6244af9a027fa0a0\", element=\"fe7d9f6f-6bc3-44aa-8b4d-2e87eb1b5bb7\")>,\n",
       " <selenium.webdriver.remote.webelement.WebElement (session=\"826bba43ac7a5eed6244af9a027fa0a0\", element=\"538f3835-b92b-4374-81d9-0820c16aa824\")>,\n",
       " <selenium.webdriver.remote.webelement.WebElement (session=\"826bba43ac7a5eed6244af9a027fa0a0\", element=\"ab96e339-4fbf-4643-8a99-a7af362f908a\")>,\n",
       " <selenium.webdriver.remote.webelement.WebElement (session=\"826bba43ac7a5eed6244af9a027fa0a0\", element=\"dac7d507-6168-4737-8ca7-f153f0f610b9\")>,\n",
       " <selenium.webdriver.remote.webelement.WebElement (session=\"826bba43ac7a5eed6244af9a027fa0a0\", element=\"0f177369-b738-4ddc-8d02-5338a7af946a\")>,\n",
       " <selenium.webdriver.remote.webelement.WebElement (session=\"826bba43ac7a5eed6244af9a027fa0a0\", element=\"e4640bac-654f-4295-9844-80d3e8bac08d\")>,\n",
       " <selenium.webdriver.remote.webelement.WebElement (session=\"826bba43ac7a5eed6244af9a027fa0a0\", element=\"4bfcea25-51be-479b-b2a5-51230db7b811\")>,\n",
       " <selenium.webdriver.remote.webelement.WebElement (session=\"826bba43ac7a5eed6244af9a027fa0a0\", element=\"843005be-4898-4168-a81d-af1f78317f25\")>,\n",
       " <selenium.webdriver.remote.webelement.WebElement (session=\"826bba43ac7a5eed6244af9a027fa0a0\", element=\"5192a50c-a603-4c90-8aed-7c42e566331a\")>,\n",
       " <selenium.webdriver.remote.webelement.WebElement (session=\"826bba43ac7a5eed6244af9a027fa0a0\", element=\"4a5bfedd-7ef9-4011-a47f-29239861b09f\")>,\n",
       " <selenium.webdriver.remote.webelement.WebElement (session=\"826bba43ac7a5eed6244af9a027fa0a0\", element=\"b17af07d-fd94-45b8-9f53-d0f0acaed159\")>,\n",
       " <selenium.webdriver.remote.webelement.WebElement (session=\"826bba43ac7a5eed6244af9a027fa0a0\", element=\"b87ad4ec-82b0-4b45-a35c-bd164f784d7d\")>,\n",
       " <selenium.webdriver.remote.webelement.WebElement (session=\"826bba43ac7a5eed6244af9a027fa0a0\", element=\"7c30e5a5-aa76-4588-8ecc-20b555dc08db\")>,\n",
       " <selenium.webdriver.remote.webelement.WebElement (session=\"826bba43ac7a5eed6244af9a027fa0a0\", element=\"a0b426d3-079c-4adc-9070-c6514d14c57d\")>,\n",
       " <selenium.webdriver.remote.webelement.WebElement (session=\"826bba43ac7a5eed6244af9a027fa0a0\", element=\"5def6fb1-0b7a-493f-994e-b131213b3d0c\")>,\n",
       " <selenium.webdriver.remote.webelement.WebElement (session=\"826bba43ac7a5eed6244af9a027fa0a0\", element=\"87bc30e8-ff52-4a5d-86dc-1f59a301a3bd\")>,\n",
       " <selenium.webdriver.remote.webelement.WebElement (session=\"826bba43ac7a5eed6244af9a027fa0a0\", element=\"a2e5c062-632b-485b-8a41-3a7b6778d0eb\")>,\n",
       " <selenium.webdriver.remote.webelement.WebElement (session=\"826bba43ac7a5eed6244af9a027fa0a0\", element=\"c5113fd4-46bd-4d71-890d-cfb0fefae8fb\")>,\n",
       " <selenium.webdriver.remote.webelement.WebElement (session=\"826bba43ac7a5eed6244af9a027fa0a0\", element=\"b463ec28-2b57-482d-8466-324befb3070e\")>,\n",
       " <selenium.webdriver.remote.webelement.WebElement (session=\"826bba43ac7a5eed6244af9a027fa0a0\", element=\"cea8b893-f4a5-4b80-a1d0-9b4fe39a02ec\")>,\n",
       " <selenium.webdriver.remote.webelement.WebElement (session=\"826bba43ac7a5eed6244af9a027fa0a0\", element=\"304fd9ba-bf1a-4128-943f-95b2762f47a6\")>,\n",
       " <selenium.webdriver.remote.webelement.WebElement (session=\"826bba43ac7a5eed6244af9a027fa0a0\", element=\"60ad9110-94cf-4fed-a119-71da58da6bcf\")>,\n",
       " <selenium.webdriver.remote.webelement.WebElement (session=\"826bba43ac7a5eed6244af9a027fa0a0\", element=\"e82c19d3-81f7-444d-a1f7-e6bf58d41331\")>,\n",
       " <selenium.webdriver.remote.webelement.WebElement (session=\"826bba43ac7a5eed6244af9a027fa0a0\", element=\"d684f7cb-a03a-420a-bd82-3bf109c4ffbd\")>,\n",
       " <selenium.webdriver.remote.webelement.WebElement (session=\"826bba43ac7a5eed6244af9a027fa0a0\", element=\"179d36e1-bc62-4486-83b8-a5fe7fd434d3\")>,\n",
       " <selenium.webdriver.remote.webelement.WebElement (session=\"826bba43ac7a5eed6244af9a027fa0a0\", element=\"899bb1cf-615f-48d6-9a17-3fe06a7d1b3f\")>,\n",
       " <selenium.webdriver.remote.webelement.WebElement (session=\"826bba43ac7a5eed6244af9a027fa0a0\", element=\"ee6b079e-ba93-4d8c-91c7-c3d53b3511db\")>,\n",
       " <selenium.webdriver.remote.webelement.WebElement (session=\"826bba43ac7a5eed6244af9a027fa0a0\", element=\"1437aa8e-9f2a-4f28-b66d-120ecfb0050f\")>,\n",
       " <selenium.webdriver.remote.webelement.WebElement (session=\"826bba43ac7a5eed6244af9a027fa0a0\", element=\"eec78fa2-f036-4aeb-8913-992d22af3df3\")>,\n",
       " <selenium.webdriver.remote.webelement.WebElement (session=\"826bba43ac7a5eed6244af9a027fa0a0\", element=\"950889f2-c8e2-4a7e-94ba-f9a3f8851948\")>,\n",
       " <selenium.webdriver.remote.webelement.WebElement (session=\"826bba43ac7a5eed6244af9a027fa0a0\", element=\"0ae6c640-6a91-43da-9284-b4730c2e8b8b\")>,\n",
       " <selenium.webdriver.remote.webelement.WebElement (session=\"826bba43ac7a5eed6244af9a027fa0a0\", element=\"d22f3dcf-59d9-4111-a563-eef1c654b497\")>,\n",
       " <selenium.webdriver.remote.webelement.WebElement (session=\"826bba43ac7a5eed6244af9a027fa0a0\", element=\"16b14d07-7bb7-4abb-aa17-f10d1c6a5e9d\")>,\n",
       " <selenium.webdriver.remote.webelement.WebElement (session=\"826bba43ac7a5eed6244af9a027fa0a0\", element=\"bf32301e-96d5-45cc-b4aa-a7e4c3614b27\")>,\n",
       " <selenium.webdriver.remote.webelement.WebElement (session=\"826bba43ac7a5eed6244af9a027fa0a0\", element=\"85748e80-09dc-41c4-a801-2e6f7104b032\")>,\n",
       " <selenium.webdriver.remote.webelement.WebElement (session=\"826bba43ac7a5eed6244af9a027fa0a0\", element=\"c4329ff4-f607-46f8-9ad1-5721bf39b277\")>,\n",
       " <selenium.webdriver.remote.webelement.WebElement (session=\"826bba43ac7a5eed6244af9a027fa0a0\", element=\"0c07c929-8bf4-4981-a8ef-dacb2f9ca46b\")>,\n",
       " <selenium.webdriver.remote.webelement.WebElement (session=\"826bba43ac7a5eed6244af9a027fa0a0\", element=\"9d155930-2ce2-411d-aeec-583ba9e5c681\")>,\n",
       " <selenium.webdriver.remote.webelement.WebElement (session=\"826bba43ac7a5eed6244af9a027fa0a0\", element=\"b5e94e78-b1c4-4ad9-9247-719702ba7a2e\")>,\n",
       " <selenium.webdriver.remote.webelement.WebElement (session=\"826bba43ac7a5eed6244af9a027fa0a0\", element=\"310b053e-d187-45a4-972b-7c9ca81c992f\")>,\n",
       " <selenium.webdriver.remote.webelement.WebElement (session=\"826bba43ac7a5eed6244af9a027fa0a0\", element=\"8fa76597-69b8-4f5c-900d-ba7c76b72f4b\")>,\n",
       " <selenium.webdriver.remote.webelement.WebElement (session=\"826bba43ac7a5eed6244af9a027fa0a0\", element=\"a01a8d9c-03a0-425f-92cd-25e8bf7318fd\")>,\n",
       " <selenium.webdriver.remote.webelement.WebElement (session=\"826bba43ac7a5eed6244af9a027fa0a0\", element=\"3d5fadfe-f42d-4f35-84e5-c4baf89460ee\")>,\n",
       " <selenium.webdriver.remote.webelement.WebElement (session=\"826bba43ac7a5eed6244af9a027fa0a0\", element=\"d8d24ac2-b407-426b-a3f8-8c3161299142\")>,\n",
       " <selenium.webdriver.remote.webelement.WebElement (session=\"826bba43ac7a5eed6244af9a027fa0a0\", element=\"a90ecabf-d2cd-424c-a194-0510f1b70d01\")>,\n",
       " <selenium.webdriver.remote.webelement.WebElement (session=\"826bba43ac7a5eed6244af9a027fa0a0\", element=\"1e76fa36-cb2f-46a2-b36c-0d11e6078092\")>,\n",
       " <selenium.webdriver.remote.webelement.WebElement (session=\"826bba43ac7a5eed6244af9a027fa0a0\", element=\"d0a41124-db45-42e5-9b0a-05b3e8dd7596\")>,\n",
       " <selenium.webdriver.remote.webelement.WebElement (session=\"826bba43ac7a5eed6244af9a027fa0a0\", element=\"c12c634c-4e4d-469b-93d6-40749c3f26aa\")>,\n",
       " <selenium.webdriver.remote.webelement.WebElement (session=\"826bba43ac7a5eed6244af9a027fa0a0\", element=\"6d2fd3a9-9aac-4f6a-9ab3-7ca1a88939c6\")>,\n",
       " <selenium.webdriver.remote.webelement.WebElement (session=\"826bba43ac7a5eed6244af9a027fa0a0\", element=\"a33e5630-9afb-4bbe-8939-a015c61a580d\")>,\n",
       " <selenium.webdriver.remote.webelement.WebElement (session=\"826bba43ac7a5eed6244af9a027fa0a0\", element=\"a4d6480b-c362-48ae-a291-ff8d5761cab6\")>,\n",
       " <selenium.webdriver.remote.webelement.WebElement (session=\"826bba43ac7a5eed6244af9a027fa0a0\", element=\"43b63124-262b-45b3-a742-7584c69d0fc9\")>,\n",
       " <selenium.webdriver.remote.webelement.WebElement (session=\"826bba43ac7a5eed6244af9a027fa0a0\", element=\"2cfdf8f9-befe-4f29-827a-3f17b67fe27a\")>,\n",
       " <selenium.webdriver.remote.webelement.WebElement (session=\"826bba43ac7a5eed6244af9a027fa0a0\", element=\"cd2dca52-6266-4414-83da-e62c70bfd5e3\")>,\n",
       " <selenium.webdriver.remote.webelement.WebElement (session=\"826bba43ac7a5eed6244af9a027fa0a0\", element=\"7bd95e56-4a6a-472a-b688-27a48e84f5da\")>,\n",
       " <selenium.webdriver.remote.webelement.WebElement (session=\"826bba43ac7a5eed6244af9a027fa0a0\", element=\"2ce94745-02e3-404d-84c9-9327453225ea\")>,\n",
       " <selenium.webdriver.remote.webelement.WebElement (session=\"826bba43ac7a5eed6244af9a027fa0a0\", element=\"4fb50b07-606b-4679-90f4-a842a8429425\")>,\n",
       " <selenium.webdriver.remote.webelement.WebElement (session=\"826bba43ac7a5eed6244af9a027fa0a0\", element=\"7ad681bb-d14f-4e56-9436-feb503c8a839\")>,\n",
       " <selenium.webdriver.remote.webelement.WebElement (session=\"826bba43ac7a5eed6244af9a027fa0a0\", element=\"2d2c0b5d-1357-43b0-a24e-53a5fa41c7ac\")>,\n",
       " <selenium.webdriver.remote.webelement.WebElement (session=\"826bba43ac7a5eed6244af9a027fa0a0\", element=\"42b0c975-7bb2-4dae-84a7-9d16bd546af4\")>,\n",
       " <selenium.webdriver.remote.webelement.WebElement (session=\"826bba43ac7a5eed6244af9a027fa0a0\", element=\"93c8ad2f-e161-4152-9274-9ccff2e0df4c\")>,\n",
       " <selenium.webdriver.remote.webelement.WebElement (session=\"826bba43ac7a5eed6244af9a027fa0a0\", element=\"be73be51-2f2f-4937-a364-c97bf036c59b\")>,\n",
       " <selenium.webdriver.remote.webelement.WebElement (session=\"826bba43ac7a5eed6244af9a027fa0a0\", element=\"6c9ae0d3-cd2b-4c36-9c6a-14bec261cb07\")>,\n",
       " <selenium.webdriver.remote.webelement.WebElement (session=\"826bba43ac7a5eed6244af9a027fa0a0\", element=\"4ec2a4bd-d526-41d7-8529-70f6ce99f29f\")>,\n",
       " <selenium.webdriver.remote.webelement.WebElement (session=\"826bba43ac7a5eed6244af9a027fa0a0\", element=\"a9e24656-7937-4b4f-893b-a487f41f2bf4\")>,\n",
       " <selenium.webdriver.remote.webelement.WebElement (session=\"826bba43ac7a5eed6244af9a027fa0a0\", element=\"1d191405-01e4-4159-9d5c-e43979176d27\")>,\n",
       " <selenium.webdriver.remote.webelement.WebElement (session=\"826bba43ac7a5eed6244af9a027fa0a0\", element=\"78d48ee4-3bc9-473b-afcf-a0c774b752d2\")>,\n",
       " <selenium.webdriver.remote.webelement.WebElement (session=\"826bba43ac7a5eed6244af9a027fa0a0\", element=\"ee3973de-459f-4653-95c9-bfad2cdb3fcd\")>,\n",
       " <selenium.webdriver.remote.webelement.WebElement (session=\"826bba43ac7a5eed6244af9a027fa0a0\", element=\"b0496f08-15df-4249-a760-eb5421b9ad36\")>,\n",
       " <selenium.webdriver.remote.webelement.WebElement (session=\"826bba43ac7a5eed6244af9a027fa0a0\", element=\"1b33402d-4164-4cc4-977e-55cc0fd7b60a\")>,\n",
       " <selenium.webdriver.remote.webelement.WebElement (session=\"826bba43ac7a5eed6244af9a027fa0a0\", element=\"f2c4c11b-f188-42b2-b5b6-6d11936e4980\")>,\n",
       " <selenium.webdriver.remote.webelement.WebElement (session=\"826bba43ac7a5eed6244af9a027fa0a0\", element=\"1f820458-1e34-43f9-b268-3b999d841e7c\")>,\n",
       " <selenium.webdriver.remote.webelement.WebElement (session=\"826bba43ac7a5eed6244af9a027fa0a0\", element=\"95c6704d-f5fe-4aaa-ba32-292394be4c0a\")>,\n",
       " <selenium.webdriver.remote.webelement.WebElement (session=\"826bba43ac7a5eed6244af9a027fa0a0\", element=\"c8d352a6-07e5-45a1-9821-4ece279f413b\")>,\n",
       " <selenium.webdriver.remote.webelement.WebElement (session=\"826bba43ac7a5eed6244af9a027fa0a0\", element=\"40b0e5e1-3fed-4f1b-9a62-f6abc7de4c96\")>,\n",
       " <selenium.webdriver.remote.webelement.WebElement (session=\"826bba43ac7a5eed6244af9a027fa0a0\", element=\"321cb43d-ed05-4edf-8d51-61f0391dfc4a\")>,\n",
       " <selenium.webdriver.remote.webelement.WebElement (session=\"826bba43ac7a5eed6244af9a027fa0a0\", element=\"75eed6a4-6217-4367-a3fe-7321fb240915\")>,\n",
       " <selenium.webdriver.remote.webelement.WebElement (session=\"826bba43ac7a5eed6244af9a027fa0a0\", element=\"9862bda9-304e-4f18-8b18-98247913a39d\")>,\n",
       " <selenium.webdriver.remote.webelement.WebElement (session=\"826bba43ac7a5eed6244af9a027fa0a0\", element=\"b60da373-a814-4273-a03f-f4b0ef980ea2\")>,\n",
       " <selenium.webdriver.remote.webelement.WebElement (session=\"826bba43ac7a5eed6244af9a027fa0a0\", element=\"ec2a8dfd-529e-45ea-af34-5f93f932557d\")>,\n",
       " <selenium.webdriver.remote.webelement.WebElement (session=\"826bba43ac7a5eed6244af9a027fa0a0\", element=\"831b953d-aa77-4c42-ad0c-7ebff0ad6cbe\")>,\n",
       " <selenium.webdriver.remote.webelement.WebElement (session=\"826bba43ac7a5eed6244af9a027fa0a0\", element=\"6595f3b6-31e2-4dfd-927a-5297d6d8cced\")>,\n",
       " <selenium.webdriver.remote.webelement.WebElement (session=\"826bba43ac7a5eed6244af9a027fa0a0\", element=\"10e2cbd5-45fb-4a0e-b9c5-48176d73d9e1\")>,\n",
       " <selenium.webdriver.remote.webelement.WebElement (session=\"826bba43ac7a5eed6244af9a027fa0a0\", element=\"e162517b-86a0-40d5-8bc2-700fd00392b8\")>,\n",
       " <selenium.webdriver.remote.webelement.WebElement (session=\"826bba43ac7a5eed6244af9a027fa0a0\", element=\"f7aea5c9-a66b-4590-b237-e62cb3df466d\")>,\n",
       " <selenium.webdriver.remote.webelement.WebElement (session=\"826bba43ac7a5eed6244af9a027fa0a0\", element=\"debbc75e-23f5-4c1a-ba1d-287517a15579\")>,\n",
       " <selenium.webdriver.remote.webelement.WebElement (session=\"826bba43ac7a5eed6244af9a027fa0a0\", element=\"3285f387-3553-430e-81cb-88bf50cf557e\")>,\n",
       " <selenium.webdriver.remote.webelement.WebElement (session=\"826bba43ac7a5eed6244af9a027fa0a0\", element=\"3dc1a7b3-47d2-4a67-87d7-50fd230a6c1a\")>,\n",
       " <selenium.webdriver.remote.webelement.WebElement (session=\"826bba43ac7a5eed6244af9a027fa0a0\", element=\"0c545d40-fa17-4f58-be62-508f5cb01095\")>,\n",
       " <selenium.webdriver.remote.webelement.WebElement (session=\"826bba43ac7a5eed6244af9a027fa0a0\", element=\"0437ab31-d5a6-4353-9f8e-75ce67a99692\")>,\n",
       " <selenium.webdriver.remote.webelement.WebElement (session=\"826bba43ac7a5eed6244af9a027fa0a0\", element=\"e2b9beda-5571-46a0-a1ed-0a494ffe3aa9\")>,\n",
       " <selenium.webdriver.remote.webelement.WebElement (session=\"826bba43ac7a5eed6244af9a027fa0a0\", element=\"11c40d41-7c46-40e6-84ec-832bcdb3034a\")>,\n",
       " <selenium.webdriver.remote.webelement.WebElement (session=\"826bba43ac7a5eed6244af9a027fa0a0\", element=\"9a59ecdc-47e1-4419-aebb-bd0a82c182db\")>,\n",
       " <selenium.webdriver.remote.webelement.WebElement (session=\"826bba43ac7a5eed6244af9a027fa0a0\", element=\"6d3d7132-8888-41c2-b2f2-8f59e1810baf\")>,\n",
       " <selenium.webdriver.remote.webelement.WebElement (session=\"826bba43ac7a5eed6244af9a027fa0a0\", element=\"3b96a4c2-1586-499b-81be-e3cb7c13a31a\")>,\n",
       " <selenium.webdriver.remote.webelement.WebElement (session=\"826bba43ac7a5eed6244af9a027fa0a0\", element=\"3cba5c23-29b6-4c00-b336-2c7d8333e88c\")>,\n",
       " <selenium.webdriver.remote.webelement.WebElement (session=\"826bba43ac7a5eed6244af9a027fa0a0\", element=\"0d95c4b0-0ff2-4dcc-a620-46230b7ba902\")>,\n",
       " <selenium.webdriver.remote.webelement.WebElement (session=\"826bba43ac7a5eed6244af9a027fa0a0\", element=\"cfc9bf36-02ed-45c7-a4a1-337a151fb99a\")>,\n",
       " <selenium.webdriver.remote.webelement.WebElement (session=\"826bba43ac7a5eed6244af9a027fa0a0\", element=\"46f1c550-4c43-47e5-b4d9-d6a072c6309f\")>,\n",
       " <selenium.webdriver.remote.webelement.WebElement (session=\"826bba43ac7a5eed6244af9a027fa0a0\", element=\"ab113a3b-bdd4-4bd6-8a19-030798d30ee6\")>,\n",
       " <selenium.webdriver.remote.webelement.WebElement (session=\"826bba43ac7a5eed6244af9a027fa0a0\", element=\"4cc414ba-d704-4a76-a512-3970d4e8948c\")>,\n",
       " <selenium.webdriver.remote.webelement.WebElement (session=\"826bba43ac7a5eed6244af9a027fa0a0\", element=\"dd72e55e-8aee-4492-a0a1-c723bae7d356\")>,\n",
       " <selenium.webdriver.remote.webelement.WebElement (session=\"826bba43ac7a5eed6244af9a027fa0a0\", element=\"f3ae9723-2143-42e1-9826-34fdaffbace7\")>,\n",
       " <selenium.webdriver.remote.webelement.WebElement (session=\"826bba43ac7a5eed6244af9a027fa0a0\", element=\"f852ae5d-e03d-4b5c-9ee4-198af11eebda\")>,\n",
       " <selenium.webdriver.remote.webelement.WebElement (session=\"826bba43ac7a5eed6244af9a027fa0a0\", element=\"4ab9e11a-6483-4aaf-895c-894826a6febb\")>,\n",
       " <selenium.webdriver.remote.webelement.WebElement (session=\"826bba43ac7a5eed6244af9a027fa0a0\", element=\"5cfd1a31-d4bd-42c5-a3bf-3db3aa409422\")>,\n",
       " <selenium.webdriver.remote.webelement.WebElement (session=\"826bba43ac7a5eed6244af9a027fa0a0\", element=\"117c77bb-4634-4c9e-bce0-3bba757c4d88\")>,\n",
       " <selenium.webdriver.remote.webelement.WebElement (session=\"826bba43ac7a5eed6244af9a027fa0a0\", element=\"ebd29de2-a5e7-4e1c-b0a0-0ce6d96d1b20\")>,\n",
       " <selenium.webdriver.remote.webelement.WebElement (session=\"826bba43ac7a5eed6244af9a027fa0a0\", element=\"935ef95d-1b12-46ee-a81c-561d87f55a66\")>,\n",
       " <selenium.webdriver.remote.webelement.WebElement (session=\"826bba43ac7a5eed6244af9a027fa0a0\", element=\"d09fe389-6332-4385-bdf8-50322a5090bf\")>,\n",
       " <selenium.webdriver.remote.webelement.WebElement (session=\"826bba43ac7a5eed6244af9a027fa0a0\", element=\"b2d7ed23-d8b1-4580-a8a4-171fb1bfc74a\")>,\n",
       " <selenium.webdriver.remote.webelement.WebElement (session=\"826bba43ac7a5eed6244af9a027fa0a0\", element=\"6c956122-1e48-453f-b39e-aef2a2f64917\")>,\n",
       " <selenium.webdriver.remote.webelement.WebElement (session=\"826bba43ac7a5eed6244af9a027fa0a0\", element=\"9365c407-bc83-4de7-b3c9-5374a59002e2\")>,\n",
       " <selenium.webdriver.remote.webelement.WebElement (session=\"826bba43ac7a5eed6244af9a027fa0a0\", element=\"be23b537-27d3-41c7-b04f-43d062ff7179\")>,\n",
       " <selenium.webdriver.remote.webelement.WebElement (session=\"826bba43ac7a5eed6244af9a027fa0a0\", element=\"a331ffaa-e886-491e-a7bb-025cd4f0714b\")>,\n",
       " <selenium.webdriver.remote.webelement.WebElement (session=\"826bba43ac7a5eed6244af9a027fa0a0\", element=\"ece1d166-0cb1-46a6-9ab5-21bd9fa7ccb6\")>,\n",
       " <selenium.webdriver.remote.webelement.WebElement (session=\"826bba43ac7a5eed6244af9a027fa0a0\", element=\"a3a3cfd3-a274-4ded-88f3-2d6be1aa37b2\")>,\n",
       " <selenium.webdriver.remote.webelement.WebElement (session=\"826bba43ac7a5eed6244af9a027fa0a0\", element=\"7d3ef862-1eb9-42c6-b115-73673ffe969b\")>,\n",
       " <selenium.webdriver.remote.webelement.WebElement (session=\"826bba43ac7a5eed6244af9a027fa0a0\", element=\"6a62dbbe-aaa1-4082-8341-c54e405ee114\")>,\n",
       " <selenium.webdriver.remote.webelement.WebElement (session=\"826bba43ac7a5eed6244af9a027fa0a0\", element=\"0b55b350-5e4f-4c14-89e5-64b88fc4a1ea\")>,\n",
       " <selenium.webdriver.remote.webelement.WebElement (session=\"826bba43ac7a5eed6244af9a027fa0a0\", element=\"2e4b28db-ce4e-410a-aa6e-7cb2425a2e32\")>,\n",
       " <selenium.webdriver.remote.webelement.WebElement (session=\"826bba43ac7a5eed6244af9a027fa0a0\", element=\"55c38393-fb94-4b03-8d22-084e0f3a7a8b\")>,\n",
       " <selenium.webdriver.remote.webelement.WebElement (session=\"826bba43ac7a5eed6244af9a027fa0a0\", element=\"a280424b-06ec-4d96-a91d-5390142a16a1\")>,\n",
       " <selenium.webdriver.remote.webelement.WebElement (session=\"826bba43ac7a5eed6244af9a027fa0a0\", element=\"c90bf0bf-408d-4ba0-b965-28a21620793f\")>,\n",
       " <selenium.webdriver.remote.webelement.WebElement (session=\"826bba43ac7a5eed6244af9a027fa0a0\", element=\"5b9f9080-3057-424b-956b-7da63810d7a2\")>,\n",
       " <selenium.webdriver.remote.webelement.WebElement (session=\"826bba43ac7a5eed6244af9a027fa0a0\", element=\"c514743d-3acd-4e4c-b38a-cadfe21eef73\")>,\n",
       " <selenium.webdriver.remote.webelement.WebElement (session=\"826bba43ac7a5eed6244af9a027fa0a0\", element=\"b6dfbca0-2c15-4dac-8738-379c6c37d6ad\")>,\n",
       " <selenium.webdriver.remote.webelement.WebElement (session=\"826bba43ac7a5eed6244af9a027fa0a0\", element=\"8869c7d6-8c95-4b5a-bcbc-62b34d987cde\")>,\n",
       " <selenium.webdriver.remote.webelement.WebElement (session=\"826bba43ac7a5eed6244af9a027fa0a0\", element=\"f34fb52d-b39f-403a-b10e-b78628eec4b6\")>,\n",
       " <selenium.webdriver.remote.webelement.WebElement (session=\"826bba43ac7a5eed6244af9a027fa0a0\", element=\"4998339e-d404-4e6f-a188-cd80a337010e\")>,\n",
       " <selenium.webdriver.remote.webelement.WebElement (session=\"826bba43ac7a5eed6244af9a027fa0a0\", element=\"09f737ef-dd48-4ca3-97f2-c260871d1a38\")>,\n",
       " <selenium.webdriver.remote.webelement.WebElement (session=\"826bba43ac7a5eed6244af9a027fa0a0\", element=\"c06e4632-7ec0-46b4-a7b1-6c6ee82d44a2\")>,\n",
       " <selenium.webdriver.remote.webelement.WebElement (session=\"826bba43ac7a5eed6244af9a027fa0a0\", element=\"06ea153b-f0e5-47c0-a7ea-752abb2d80e7\")>,\n",
       " <selenium.webdriver.remote.webelement.WebElement (session=\"826bba43ac7a5eed6244af9a027fa0a0\", element=\"84d0106d-855a-423b-a2d5-984d5f89bc92\")>,\n",
       " <selenium.webdriver.remote.webelement.WebElement (session=\"826bba43ac7a5eed6244af9a027fa0a0\", element=\"a77ad838-6cd0-4981-9826-bb1586305ec5\")>,\n",
       " <selenium.webdriver.remote.webelement.WebElement (session=\"826bba43ac7a5eed6244af9a027fa0a0\", element=\"f0e88137-4c63-41f4-88b9-aaee9d65bad7\")>,\n",
       " <selenium.webdriver.remote.webelement.WebElement (session=\"826bba43ac7a5eed6244af9a027fa0a0\", element=\"fd33bd08-7600-4fc6-badb-66f52f6120bc\")>,\n",
       " <selenium.webdriver.remote.webelement.WebElement (session=\"826bba43ac7a5eed6244af9a027fa0a0\", element=\"1afbd092-b1e6-4f67-ba8c-b8b3bd7e4fd9\")>,\n",
       " <selenium.webdriver.remote.webelement.WebElement (session=\"826bba43ac7a5eed6244af9a027fa0a0\", element=\"56077d21-8b87-4fbf-87f4-408bafb8edc6\")>,\n",
       " <selenium.webdriver.remote.webelement.WebElement (session=\"826bba43ac7a5eed6244af9a027fa0a0\", element=\"0d83f8f0-3062-4f38-a65a-d41d470bd6db\")>,\n",
       " <selenium.webdriver.remote.webelement.WebElement (session=\"826bba43ac7a5eed6244af9a027fa0a0\", element=\"8e7ee7d3-ba80-495c-bae7-cb4d08e730b4\")>,\n",
       " <selenium.webdriver.remote.webelement.WebElement (session=\"826bba43ac7a5eed6244af9a027fa0a0\", element=\"44a7a6fa-0837-461d-99d2-52e5a13e813b\")>,\n",
       " <selenium.webdriver.remote.webelement.WebElement (session=\"826bba43ac7a5eed6244af9a027fa0a0\", element=\"78257531-2b4a-4f6e-bb4d-52e3159f31ef\")>,\n",
       " <selenium.webdriver.remote.webelement.WebElement (session=\"826bba43ac7a5eed6244af9a027fa0a0\", element=\"0b66bbf0-0541-4448-a294-b6c459eec6ed\")>,\n",
       " <selenium.webdriver.remote.webelement.WebElement (session=\"826bba43ac7a5eed6244af9a027fa0a0\", element=\"29562f73-aff0-4a3d-a85b-543bfe9d36ae\")>,\n",
       " <selenium.webdriver.remote.webelement.WebElement (session=\"826bba43ac7a5eed6244af9a027fa0a0\", element=\"3bcbfd9f-b039-40cc-893f-b2a7ebd66777\")>,\n",
       " <selenium.webdriver.remote.webelement.WebElement (session=\"826bba43ac7a5eed6244af9a027fa0a0\", element=\"e5d0a048-cd7c-4a3f-828d-b2bb894117e5\")>,\n",
       " <selenium.webdriver.remote.webelement.WebElement (session=\"826bba43ac7a5eed6244af9a027fa0a0\", element=\"68630f81-33fe-4f7f-8237-f640a97aa00e\")>,\n",
       " <selenium.webdriver.remote.webelement.WebElement (session=\"826bba43ac7a5eed6244af9a027fa0a0\", element=\"95ba484b-5d22-4260-873c-9a22227eaa0a\")>,\n",
       " <selenium.webdriver.remote.webelement.WebElement (session=\"826bba43ac7a5eed6244af9a027fa0a0\", element=\"4d457d29-51b7-4f29-a71d-fedd7feb056f\")>,\n",
       " <selenium.webdriver.remote.webelement.WebElement (session=\"826bba43ac7a5eed6244af9a027fa0a0\", element=\"8243b946-2b6b-4fd7-a2b3-2164df2fc200\")>,\n",
       " <selenium.webdriver.remote.webelement.WebElement (session=\"826bba43ac7a5eed6244af9a027fa0a0\", element=\"9587c6c4-86de-465a-a3e1-403c9027b3b8\")>,\n",
       " <selenium.webdriver.remote.webelement.WebElement (session=\"826bba43ac7a5eed6244af9a027fa0a0\", element=\"15dbbf6f-0c18-472b-bc26-6d2bb5de2c91\")>,\n",
       " <selenium.webdriver.remote.webelement.WebElement (session=\"826bba43ac7a5eed6244af9a027fa0a0\", element=\"456630b5-f171-4295-baa1-a7b4585f6b58\")>,\n",
       " <selenium.webdriver.remote.webelement.WebElement (session=\"826bba43ac7a5eed6244af9a027fa0a0\", element=\"fc7780fa-5a96-48c8-8093-ff08c3bc591c\")>,\n",
       " <selenium.webdriver.remote.webelement.WebElement (session=\"826bba43ac7a5eed6244af9a027fa0a0\", element=\"3d20baaf-ad28-4f87-b5b3-60f19e2fc302\")>,\n",
       " <selenium.webdriver.remote.webelement.WebElement (session=\"826bba43ac7a5eed6244af9a027fa0a0\", element=\"da284793-763e-407b-a29d-f09ab45f2367\")>,\n",
       " <selenium.webdriver.remote.webelement.WebElement (session=\"826bba43ac7a5eed6244af9a027fa0a0\", element=\"12595099-afc1-48ec-87fe-152f74ca4db6\")>,\n",
       " <selenium.webdriver.remote.webelement.WebElement (session=\"826bba43ac7a5eed6244af9a027fa0a0\", element=\"5f0042c7-bb8b-47e1-bb91-229b5128e151\")>,\n",
       " <selenium.webdriver.remote.webelement.WebElement (session=\"826bba43ac7a5eed6244af9a027fa0a0\", element=\"5a8a7202-f6cf-425b-ba66-310b65899414\")>,\n",
       " <selenium.webdriver.remote.webelement.WebElement (session=\"826bba43ac7a5eed6244af9a027fa0a0\", element=\"91a9ce6c-ca4d-4a88-80a6-29fb6d959f53\")>,\n",
       " <selenium.webdriver.remote.webelement.WebElement (session=\"826bba43ac7a5eed6244af9a027fa0a0\", element=\"aed0aa05-6a54-4c3c-b6a6-56215d097f05\")>,\n",
       " <selenium.webdriver.remote.webelement.WebElement (session=\"826bba43ac7a5eed6244af9a027fa0a0\", element=\"e422f6ca-1eca-4be5-b13e-cad447077702\")>,\n",
       " <selenium.webdriver.remote.webelement.WebElement (session=\"826bba43ac7a5eed6244af9a027fa0a0\", element=\"ba7e172b-5ff4-491a-b2ae-c37bce8b89a4\")>,\n",
       " <selenium.webdriver.remote.webelement.WebElement (session=\"826bba43ac7a5eed6244af9a027fa0a0\", element=\"04e453db-231c-4d77-a906-a8afc6551e1e\")>,\n",
       " <selenium.webdriver.remote.webelement.WebElement (session=\"826bba43ac7a5eed6244af9a027fa0a0\", element=\"bf65d944-fe3c-4bec-a70c-126f2ae6fbb5\")>,\n",
       " <selenium.webdriver.remote.webelement.WebElement (session=\"826bba43ac7a5eed6244af9a027fa0a0\", element=\"6dbd42b4-03e0-43f8-a011-c246bf4306cf\")>,\n",
       " <selenium.webdriver.remote.webelement.WebElement (session=\"826bba43ac7a5eed6244af9a027fa0a0\", element=\"bcec40eb-e1cd-46a1-b991-f934d2f847b4\")>,\n",
       " <selenium.webdriver.remote.webelement.WebElement (session=\"826bba43ac7a5eed6244af9a027fa0a0\", element=\"1026b8fe-081b-41b6-8b7c-df406cfcfdb3\")>,\n",
       " <selenium.webdriver.remote.webelement.WebElement (session=\"826bba43ac7a5eed6244af9a027fa0a0\", element=\"123c6a00-b188-40c8-a521-29bbe5c471ab\")>,\n",
       " <selenium.webdriver.remote.webelement.WebElement (session=\"826bba43ac7a5eed6244af9a027fa0a0\", element=\"7972eba8-c6c1-4af2-a823-771e989dd9af\")>,\n",
       " <selenium.webdriver.remote.webelement.WebElement (session=\"826bba43ac7a5eed6244af9a027fa0a0\", element=\"0e9c5307-f5c4-428e-9931-44906abc4c0f\")>,\n",
       " <selenium.webdriver.remote.webelement.WebElement (session=\"826bba43ac7a5eed6244af9a027fa0a0\", element=\"7f51425c-36f9-4916-8b47-25bf4b9e966c\")>,\n",
       " <selenium.webdriver.remote.webelement.WebElement (session=\"826bba43ac7a5eed6244af9a027fa0a0\", element=\"608e591d-9fda-434f-b521-961905e789c3\")>,\n",
       " <selenium.webdriver.remote.webelement.WebElement (session=\"826bba43ac7a5eed6244af9a027fa0a0\", element=\"7a2a674b-42b3-4117-ae46-03a0345e24ca\")>,\n",
       " <selenium.webdriver.remote.webelement.WebElement (session=\"826bba43ac7a5eed6244af9a027fa0a0\", element=\"5ed14363-305b-44e8-b3e5-26680e5fea6c\")>,\n",
       " <selenium.webdriver.remote.webelement.WebElement (session=\"826bba43ac7a5eed6244af9a027fa0a0\", element=\"71d042e4-53a8-4911-b075-350f919f29b4\")>,\n",
       " <selenium.webdriver.remote.webelement.WebElement (session=\"826bba43ac7a5eed6244af9a027fa0a0\", element=\"5740d935-c0fb-45e7-a5f6-4affc3565a6c\")>,\n",
       " <selenium.webdriver.remote.webelement.WebElement (session=\"826bba43ac7a5eed6244af9a027fa0a0\", element=\"bc26f468-ea85-4703-8016-7b61461732e9\")>,\n",
       " <selenium.webdriver.remote.webelement.WebElement (session=\"826bba43ac7a5eed6244af9a027fa0a0\", element=\"7353fa14-ed69-4e0c-86a4-af1e2b78f71d\")>,\n",
       " <selenium.webdriver.remote.webelement.WebElement (session=\"826bba43ac7a5eed6244af9a027fa0a0\", element=\"ec27da67-49ba-443e-82c2-4b738b15e1b7\")>,\n",
       " <selenium.webdriver.remote.webelement.WebElement (session=\"826bba43ac7a5eed6244af9a027fa0a0\", element=\"b1f30f76-b905-4c90-835b-0b97b1a4b0b5\")>,\n",
       " <selenium.webdriver.remote.webelement.WebElement (session=\"826bba43ac7a5eed6244af9a027fa0a0\", element=\"67a52c15-2f4e-45f7-909e-793971ee73dd\")>,\n",
       " <selenium.webdriver.remote.webelement.WebElement (session=\"826bba43ac7a5eed6244af9a027fa0a0\", element=\"36907580-9270-47fa-8ce8-d9aea648e22a\")>,\n",
       " <selenium.webdriver.remote.webelement.WebElement (session=\"826bba43ac7a5eed6244af9a027fa0a0\", element=\"da86d914-6c02-42a2-a662-c58efecca690\")>,\n",
       " <selenium.webdriver.remote.webelement.WebElement (session=\"826bba43ac7a5eed6244af9a027fa0a0\", element=\"e1436652-cff8-4a9e-99c5-d302b9ba4f94\")>,\n",
       " <selenium.webdriver.remote.webelement.WebElement (session=\"826bba43ac7a5eed6244af9a027fa0a0\", element=\"b4209cb1-4d5e-4efd-a6fc-f50b192d9188\")>,\n",
       " <selenium.webdriver.remote.webelement.WebElement (session=\"826bba43ac7a5eed6244af9a027fa0a0\", element=\"5873f27f-b3a7-4ab3-8096-4005cfc47b64\")>,\n",
       " <selenium.webdriver.remote.webelement.WebElement (session=\"826bba43ac7a5eed6244af9a027fa0a0\", element=\"1248b4c9-490c-4f1a-9e64-960e07889a4a\")>,\n",
       " <selenium.webdriver.remote.webelement.WebElement (session=\"826bba43ac7a5eed6244af9a027fa0a0\", element=\"7d71f355-f0e8-4740-925b-998fea55f0d8\")>,\n",
       " <selenium.webdriver.remote.webelement.WebElement (session=\"826bba43ac7a5eed6244af9a027fa0a0\", element=\"97cacb3b-90c5-4727-b1ab-621068e4eb5e\")>,\n",
       " <selenium.webdriver.remote.webelement.WebElement (session=\"826bba43ac7a5eed6244af9a027fa0a0\", element=\"c612a423-d7f3-445a-a960-cadd2862dbe6\")>,\n",
       " <selenium.webdriver.remote.webelement.WebElement (session=\"826bba43ac7a5eed6244af9a027fa0a0\", element=\"4d75774c-32d6-43d6-8f63-0dceed36c9a7\")>,\n",
       " <selenium.webdriver.remote.webelement.WebElement (session=\"826bba43ac7a5eed6244af9a027fa0a0\", element=\"6b458ff3-8df4-42f6-a80b-fc34f5777631\")>,\n",
       " <selenium.webdriver.remote.webelement.WebElement (session=\"826bba43ac7a5eed6244af9a027fa0a0\", element=\"f141fc67-6982-4867-aa2d-0534ada93e21\")>,\n",
       " <selenium.webdriver.remote.webelement.WebElement (session=\"826bba43ac7a5eed6244af9a027fa0a0\", element=\"8a3c4af0-7993-4f06-9282-9add4d44d67e\")>,\n",
       " <selenium.webdriver.remote.webelement.WebElement (session=\"826bba43ac7a5eed6244af9a027fa0a0\", element=\"d3a97635-82b3-4881-b9e7-d7b9c8e0e0d6\")>,\n",
       " <selenium.webdriver.remote.webelement.WebElement (session=\"826bba43ac7a5eed6244af9a027fa0a0\", element=\"266cb4d9-4789-4e37-8559-4e00676e2f80\")>,\n",
       " <selenium.webdriver.remote.webelement.WebElement (session=\"826bba43ac7a5eed6244af9a027fa0a0\", element=\"80b958c8-05cf-41ca-96d0-5aa4592ef237\")>,\n",
       " <selenium.webdriver.remote.webelement.WebElement (session=\"826bba43ac7a5eed6244af9a027fa0a0\", element=\"ffd3c92c-0be8-4637-b0b5-1a4533b7a608\")>,\n",
       " <selenium.webdriver.remote.webelement.WebElement (session=\"826bba43ac7a5eed6244af9a027fa0a0\", element=\"9eae6630-b395-4ef7-bda4-05e85ccd4968\")>,\n",
       " <selenium.webdriver.remote.webelement.WebElement (session=\"826bba43ac7a5eed6244af9a027fa0a0\", element=\"7be5a373-3642-471b-9289-bff3610b8415\")>,\n",
       " <selenium.webdriver.remote.webelement.WebElement (session=\"826bba43ac7a5eed6244af9a027fa0a0\", element=\"72603ac2-e419-43ff-82b9-3ac0f8aeeb08\")>,\n",
       " <selenium.webdriver.remote.webelement.WebElement (session=\"826bba43ac7a5eed6244af9a027fa0a0\", element=\"cf0fb5cd-a6ed-43fc-bdf1-5267baedeef1\")>,\n",
       " <selenium.webdriver.remote.webelement.WebElement (session=\"826bba43ac7a5eed6244af9a027fa0a0\", element=\"3d776ab8-9a67-4246-8cb8-5dc0663f0b70\")>,\n",
       " <selenium.webdriver.remote.webelement.WebElement (session=\"826bba43ac7a5eed6244af9a027fa0a0\", element=\"4bb39c4a-8ff7-414a-8eeb-fed55910f166\")>,\n",
       " <selenium.webdriver.remote.webelement.WebElement (session=\"826bba43ac7a5eed6244af9a027fa0a0\", element=\"7a306a96-359e-4c1c-bf60-a679b9ee0fbf\")>,\n",
       " <selenium.webdriver.remote.webelement.WebElement (session=\"826bba43ac7a5eed6244af9a027fa0a0\", element=\"f45cfbd0-e8fa-4a13-8f15-8082b4a6cd2a\")>,\n",
       " <selenium.webdriver.remote.webelement.WebElement (session=\"826bba43ac7a5eed6244af9a027fa0a0\", element=\"c4dc1e0e-1a7e-438b-9b6b-03e4c9c91255\")>,\n",
       " <selenium.webdriver.remote.webelement.WebElement (session=\"826bba43ac7a5eed6244af9a027fa0a0\", element=\"990e0ecb-74fc-4cf8-bdeb-4599a3ff730d\")>,\n",
       " <selenium.webdriver.remote.webelement.WebElement (session=\"826bba43ac7a5eed6244af9a027fa0a0\", element=\"e109a620-5244-4478-bef5-0c03a184be91\")>,\n",
       " <selenium.webdriver.remote.webelement.WebElement (session=\"826bba43ac7a5eed6244af9a027fa0a0\", element=\"3675402c-20f6-4427-ba70-2d3e65f2c68b\")>,\n",
       " <selenium.webdriver.remote.webelement.WebElement (session=\"826bba43ac7a5eed6244af9a027fa0a0\", element=\"d9375dcf-cc39-4bc8-bb9e-70fc304b220a\")>,\n",
       " <selenium.webdriver.remote.webelement.WebElement (session=\"826bba43ac7a5eed6244af9a027fa0a0\", element=\"db0ff2c2-d57b-4dec-941a-e6b81e09d76f\")>,\n",
       " <selenium.webdriver.remote.webelement.WebElement (session=\"826bba43ac7a5eed6244af9a027fa0a0\", element=\"e550f0dd-b928-4089-b32a-68a8c5f4af0d\")>,\n",
       " <selenium.webdriver.remote.webelement.WebElement (session=\"826bba43ac7a5eed6244af9a027fa0a0\", element=\"6c566c6d-a987-4d94-9ab0-eb7b639818a1\")>,\n",
       " <selenium.webdriver.remote.webelement.WebElement (session=\"826bba43ac7a5eed6244af9a027fa0a0\", element=\"507b5dbf-8a81-43b4-b155-4b34c31c7654\")>,\n",
       " <selenium.webdriver.remote.webelement.WebElement (session=\"826bba43ac7a5eed6244af9a027fa0a0\", element=\"2be035e9-6adf-40de-8639-0851bbd41057\")>,\n",
       " <selenium.webdriver.remote.webelement.WebElement (session=\"826bba43ac7a5eed6244af9a027fa0a0\", element=\"d4dea57b-6791-466a-bb10-67bc9487c1c3\")>,\n",
       " <selenium.webdriver.remote.webelement.WebElement (session=\"826bba43ac7a5eed6244af9a027fa0a0\", element=\"d46bdf85-b111-47ce-8e45-78d808782a5b\")>,\n",
       " <selenium.webdriver.remote.webelement.WebElement (session=\"826bba43ac7a5eed6244af9a027fa0a0\", element=\"14cb1356-a057-4b7e-91f8-2bfbf9bf1977\")>,\n",
       " <selenium.webdriver.remote.webelement.WebElement (session=\"826bba43ac7a5eed6244af9a027fa0a0\", element=\"10a9c53c-3d06-4e22-a562-e3f26c7b667f\")>,\n",
       " <selenium.webdriver.remote.webelement.WebElement (session=\"826bba43ac7a5eed6244af9a027fa0a0\", element=\"7b50b62c-be7b-4ce8-9c4d-83804545dc59\")>,\n",
       " <selenium.webdriver.remote.webelement.WebElement (session=\"826bba43ac7a5eed6244af9a027fa0a0\", element=\"aebcc7b4-d0b1-40ea-be6b-45db97474c93\")>,\n",
       " <selenium.webdriver.remote.webelement.WebElement (session=\"826bba43ac7a5eed6244af9a027fa0a0\", element=\"808deee4-a32e-4b49-b88a-80b7f94cd482\")>,\n",
       " <selenium.webdriver.remote.webelement.WebElement (session=\"826bba43ac7a5eed6244af9a027fa0a0\", element=\"4229fa94-b147-443d-88c6-156becbc5d30\")>,\n",
       " <selenium.webdriver.remote.webelement.WebElement (session=\"826bba43ac7a5eed6244af9a027fa0a0\", element=\"53e377f4-fc0b-4793-b6e5-375657a88cad\")>,\n",
       " <selenium.webdriver.remote.webelement.WebElement (session=\"826bba43ac7a5eed6244af9a027fa0a0\", element=\"df6fb4a7-1259-40a9-83f0-f33fe774849f\")>,\n",
       " <selenium.webdriver.remote.webelement.WebElement (session=\"826bba43ac7a5eed6244af9a027fa0a0\", element=\"8c96a746-0753-4a7c-84dc-50a315d0e082\")>,\n",
       " <selenium.webdriver.remote.webelement.WebElement (session=\"826bba43ac7a5eed6244af9a027fa0a0\", element=\"c951f45c-a577-4b39-8049-86e612b68d36\")>,\n",
       " <selenium.webdriver.remote.webelement.WebElement (session=\"826bba43ac7a5eed6244af9a027fa0a0\", element=\"bf74da75-1674-4b90-8874-7d24e8626084\")>,\n",
       " <selenium.webdriver.remote.webelement.WebElement (session=\"826bba43ac7a5eed6244af9a027fa0a0\", element=\"f6f0862a-b8ea-40c5-8d8a-a9a5f1850d53\")>,\n",
       " <selenium.webdriver.remote.webelement.WebElement (session=\"826bba43ac7a5eed6244af9a027fa0a0\", element=\"0cf68565-e1a2-4ec8-966f-ba91a6eaf9e2\")>,\n",
       " <selenium.webdriver.remote.webelement.WebElement (session=\"826bba43ac7a5eed6244af9a027fa0a0\", element=\"8fbb3790-02fe-454a-9a80-53ee4386d134\")>,\n",
       " <selenium.webdriver.remote.webelement.WebElement (session=\"826bba43ac7a5eed6244af9a027fa0a0\", element=\"85e2b3ec-8512-4cc6-9b4e-c4625acc2b00\")>,\n",
       " <selenium.webdriver.remote.webelement.WebElement (session=\"826bba43ac7a5eed6244af9a027fa0a0\", element=\"9538aa2c-6e85-4667-bfeb-9c06d3e81230\")>,\n",
       " <selenium.webdriver.remote.webelement.WebElement (session=\"826bba43ac7a5eed6244af9a027fa0a0\", element=\"6eb38298-1ff7-4bd2-87b9-3a622d5c45e3\")>,\n",
       " <selenium.webdriver.remote.webelement.WebElement (session=\"826bba43ac7a5eed6244af9a027fa0a0\", element=\"e65e5722-8ba4-4801-b48b-8d0760a82378\")>,\n",
       " <selenium.webdriver.remote.webelement.WebElement (session=\"826bba43ac7a5eed6244af9a027fa0a0\", element=\"25b7a1e5-d355-4515-9cf8-d015952d366d\")>,\n",
       " <selenium.webdriver.remote.webelement.WebElement (session=\"826bba43ac7a5eed6244af9a027fa0a0\", element=\"81e9b497-eb84-4b1a-ad5e-16528bb63581\")>,\n",
       " <selenium.webdriver.remote.webelement.WebElement (session=\"826bba43ac7a5eed6244af9a027fa0a0\", element=\"62edb810-9f27-4789-a56e-7abba95feeb6\")>,\n",
       " <selenium.webdriver.remote.webelement.WebElement (session=\"826bba43ac7a5eed6244af9a027fa0a0\", element=\"df2f4ff2-79f9-4703-af88-19d7d9b14b90\")>,\n",
       " <selenium.webdriver.remote.webelement.WebElement (session=\"826bba43ac7a5eed6244af9a027fa0a0\", element=\"b0f4f6c7-f55b-4c86-b9f4-d1c8ac623b9c\")>,\n",
       " <selenium.webdriver.remote.webelement.WebElement (session=\"826bba43ac7a5eed6244af9a027fa0a0\", element=\"8934341e-81eb-47c6-84d8-3b396bf47d67\")>,\n",
       " <selenium.webdriver.remote.webelement.WebElement (session=\"826bba43ac7a5eed6244af9a027fa0a0\", element=\"8c4603bb-fb38-4cb4-a968-a08c7808a849\")>,\n",
       " <selenium.webdriver.remote.webelement.WebElement (session=\"826bba43ac7a5eed6244af9a027fa0a0\", element=\"8988c2f3-42de-41c2-87db-3e0f62131569\")>,\n",
       " <selenium.webdriver.remote.webelement.WebElement (session=\"826bba43ac7a5eed6244af9a027fa0a0\", element=\"eb2c7ff2-8c84-4124-8188-959eef9ca828\")>,\n",
       " <selenium.webdriver.remote.webelement.WebElement (session=\"826bba43ac7a5eed6244af9a027fa0a0\", element=\"52c2c8fc-c705-44dc-b76f-6764e45b3fa6\")>,\n",
       " <selenium.webdriver.remote.webelement.WebElement (session=\"826bba43ac7a5eed6244af9a027fa0a0\", element=\"0d2f2c79-4c77-4e43-994a-05be691ef8f2\")>,\n",
       " <selenium.webdriver.remote.webelement.WebElement (session=\"826bba43ac7a5eed6244af9a027fa0a0\", element=\"847a320a-e63e-4e50-9a26-331df5bee467\")>,\n",
       " <selenium.webdriver.remote.webelement.WebElement (session=\"826bba43ac7a5eed6244af9a027fa0a0\", element=\"0701d8cf-33c2-4435-ba10-e4105b644973\")>,\n",
       " <selenium.webdriver.remote.webelement.WebElement (session=\"826bba43ac7a5eed6244af9a027fa0a0\", element=\"6fd4c3b1-fa71-45f0-8627-49e3e0333fbb\")>,\n",
       " <selenium.webdriver.remote.webelement.WebElement (session=\"826bba43ac7a5eed6244af9a027fa0a0\", element=\"5c02af68-a49f-4a7f-9f6a-ae6155b047f2\")>,\n",
       " <selenium.webdriver.remote.webelement.WebElement (session=\"826bba43ac7a5eed6244af9a027fa0a0\", element=\"a6691b66-4f4a-42fc-b81d-592c7f8613a4\")>,\n",
       " <selenium.webdriver.remote.webelement.WebElement (session=\"826bba43ac7a5eed6244af9a027fa0a0\", element=\"034a1ebc-7c69-44c2-bc7d-9fcbe806d942\")>,\n",
       " <selenium.webdriver.remote.webelement.WebElement (session=\"826bba43ac7a5eed6244af9a027fa0a0\", element=\"4c6c6971-9235-4251-a5ac-8562310eb09b\")>,\n",
       " <selenium.webdriver.remote.webelement.WebElement (session=\"826bba43ac7a5eed6244af9a027fa0a0\", element=\"a0f3f9c7-0544-4dfe-b24f-5a5000426eb6\")>,\n",
       " <selenium.webdriver.remote.webelement.WebElement (session=\"826bba43ac7a5eed6244af9a027fa0a0\", element=\"930d15ac-1011-4be9-802e-ab6523608ca7\")>,\n",
       " <selenium.webdriver.remote.webelement.WebElement (session=\"826bba43ac7a5eed6244af9a027fa0a0\", element=\"9496e6ed-3490-4672-b759-d79780265fbb\")>,\n",
       " <selenium.webdriver.remote.webelement.WebElement (session=\"826bba43ac7a5eed6244af9a027fa0a0\", element=\"6c885337-ff45-44f0-acfd-87461314b16b\")>,\n",
       " <selenium.webdriver.remote.webelement.WebElement (session=\"826bba43ac7a5eed6244af9a027fa0a0\", element=\"b33103a4-dac2-48b7-8260-ff2fba6d2182\")>,\n",
       " <selenium.webdriver.remote.webelement.WebElement (session=\"826bba43ac7a5eed6244af9a027fa0a0\", element=\"b7340247-51da-4283-996e-1852aec6c650\")>,\n",
       " <selenium.webdriver.remote.webelement.WebElement (session=\"826bba43ac7a5eed6244af9a027fa0a0\", element=\"18f57c26-380c-4812-9049-b9ec5ad060a2\")>,\n",
       " <selenium.webdriver.remote.webelement.WebElement (session=\"826bba43ac7a5eed6244af9a027fa0a0\", element=\"ce1b123d-cd60-4f83-a4ad-275fb4fa774b\")>,\n",
       " <selenium.webdriver.remote.webelement.WebElement (session=\"826bba43ac7a5eed6244af9a027fa0a0\", element=\"f3cbcd54-9244-49ef-8fe0-a97c8f997d2a\")>,\n",
       " <selenium.webdriver.remote.webelement.WebElement (session=\"826bba43ac7a5eed6244af9a027fa0a0\", element=\"687c3b79-c85f-495f-8f74-346375ff74ef\")>,\n",
       " <selenium.webdriver.remote.webelement.WebElement (session=\"826bba43ac7a5eed6244af9a027fa0a0\", element=\"03c1c312-12e8-42e3-ba9f-239e516566ba\")>,\n",
       " <selenium.webdriver.remote.webelement.WebElement (session=\"826bba43ac7a5eed6244af9a027fa0a0\", element=\"7fa76742-8327-409b-9b2c-060d84187bdf\")>,\n",
       " <selenium.webdriver.remote.webelement.WebElement (session=\"826bba43ac7a5eed6244af9a027fa0a0\", element=\"1e590bb8-eb6b-4e1f-89d1-b9e78d8055c0\")>,\n",
       " <selenium.webdriver.remote.webelement.WebElement (session=\"826bba43ac7a5eed6244af9a027fa0a0\", element=\"1ce2d940-b0a6-4c87-87c1-53fcff0f2c01\")>,\n",
       " <selenium.webdriver.remote.webelement.WebElement (session=\"826bba43ac7a5eed6244af9a027fa0a0\", element=\"83a5384d-2d4f-4bcc-abf3-aad6af0ab2b0\")>,\n",
       " <selenium.webdriver.remote.webelement.WebElement (session=\"826bba43ac7a5eed6244af9a027fa0a0\", element=\"b05f898b-1bcd-44a8-b5bf-dcc079377b60\")>,\n",
       " <selenium.webdriver.remote.webelement.WebElement (session=\"826bba43ac7a5eed6244af9a027fa0a0\", element=\"331d4f7d-c22a-4db0-92b4-aca56431fc7a\")>,\n",
       " <selenium.webdriver.remote.webelement.WebElement (session=\"826bba43ac7a5eed6244af9a027fa0a0\", element=\"827eecd4-a76c-4ec2-8d0b-349ccb23e559\")>,\n",
       " <selenium.webdriver.remote.webelement.WebElement (session=\"826bba43ac7a5eed6244af9a027fa0a0\", element=\"6da010dd-0f13-437f-9ea2-c95c300c50d9\")>,\n",
       " <selenium.webdriver.remote.webelement.WebElement (session=\"826bba43ac7a5eed6244af9a027fa0a0\", element=\"11a128f1-f176-40d4-abb1-d9299cd71174\")>,\n",
       " <selenium.webdriver.remote.webelement.WebElement (session=\"826bba43ac7a5eed6244af9a027fa0a0\", element=\"b0d31b2f-bbee-49dd-8b5e-7a6007cffd5e\")>,\n",
       " <selenium.webdriver.remote.webelement.WebElement (session=\"826bba43ac7a5eed6244af9a027fa0a0\", element=\"99fc5e6e-ff22-4244-86fb-4c4754d497c7\")>,\n",
       " <selenium.webdriver.remote.webelement.WebElement (session=\"826bba43ac7a5eed6244af9a027fa0a0\", element=\"56170bf4-39c6-499f-8fd1-36e8ad6fd713\")>,\n",
       " <selenium.webdriver.remote.webelement.WebElement (session=\"826bba43ac7a5eed6244af9a027fa0a0\", element=\"66c4f566-b830-4344-8cb4-86e02a704739\")>,\n",
       " <selenium.webdriver.remote.webelement.WebElement (session=\"826bba43ac7a5eed6244af9a027fa0a0\", element=\"ddec51f7-522d-4784-b9e5-b147350e645a\")>,\n",
       " <selenium.webdriver.remote.webelement.WebElement (session=\"826bba43ac7a5eed6244af9a027fa0a0\", element=\"385c6ade-d052-4e9a-9d08-1537d7d896c1\")>,\n",
       " <selenium.webdriver.remote.webelement.WebElement (session=\"826bba43ac7a5eed6244af9a027fa0a0\", element=\"56b24d9a-d1b5-4345-befa-25a6986f6f78\")>,\n",
       " <selenium.webdriver.remote.webelement.WebElement (session=\"826bba43ac7a5eed6244af9a027fa0a0\", element=\"26d06e01-8b6c-4afd-a866-508f32e019a0\")>,\n",
       " <selenium.webdriver.remote.webelement.WebElement (session=\"826bba43ac7a5eed6244af9a027fa0a0\", element=\"d8e9dc0a-f471-4413-9138-be5e610131ae\")>,\n",
       " <selenium.webdriver.remote.webelement.WebElement (session=\"826bba43ac7a5eed6244af9a027fa0a0\", element=\"a2be46a9-aee9-4819-89ba-8281f535c48e\")>,\n",
       " <selenium.webdriver.remote.webelement.WebElement (session=\"826bba43ac7a5eed6244af9a027fa0a0\", element=\"21c58bec-f81f-4f82-ab3a-36a570d2658b\")>,\n",
       " <selenium.webdriver.remote.webelement.WebElement (session=\"826bba43ac7a5eed6244af9a027fa0a0\", element=\"9c676cc7-dd15-4333-a968-355c35de8d01\")>,\n",
       " <selenium.webdriver.remote.webelement.WebElement (session=\"826bba43ac7a5eed6244af9a027fa0a0\", element=\"e6852f8b-82a5-4f48-9c81-6554e4a56ba7\")>,\n",
       " <selenium.webdriver.remote.webelement.WebElement (session=\"826bba43ac7a5eed6244af9a027fa0a0\", element=\"f32ccd4a-c5d5-48f7-b057-4fa40a3f3352\")>,\n",
       " <selenium.webdriver.remote.webelement.WebElement (session=\"826bba43ac7a5eed6244af9a027fa0a0\", element=\"150818e2-0a2d-40dc-9bd0-b1a2f138cbcf\")>,\n",
       " <selenium.webdriver.remote.webelement.WebElement (session=\"826bba43ac7a5eed6244af9a027fa0a0\", element=\"5a0106ca-d802-4785-aa3d-e4ad6a7e9ae8\")>,\n",
       " <selenium.webdriver.remote.webelement.WebElement (session=\"826bba43ac7a5eed6244af9a027fa0a0\", element=\"d2c2ab5e-a5be-489b-afc0-9267fdee5b2e\")>,\n",
       " <selenium.webdriver.remote.webelement.WebElement (session=\"826bba43ac7a5eed6244af9a027fa0a0\", element=\"a2a7da03-8578-4d9f-b94a-b75e1fbe32be\")>,\n",
       " <selenium.webdriver.remote.webelement.WebElement (session=\"826bba43ac7a5eed6244af9a027fa0a0\", element=\"132b32f2-43b9-48b4-952e-625b334580d9\")>,\n",
       " <selenium.webdriver.remote.webelement.WebElement (session=\"826bba43ac7a5eed6244af9a027fa0a0\", element=\"bc2d538c-db28-4dd9-9f4e-2c2c18c493ed\")>,\n",
       " <selenium.webdriver.remote.webelement.WebElement (session=\"826bba43ac7a5eed6244af9a027fa0a0\", element=\"c4b5924e-da16-49bb-8d76-ad4174adb942\")>,\n",
       " <selenium.webdriver.remote.webelement.WebElement (session=\"826bba43ac7a5eed6244af9a027fa0a0\", element=\"6a688257-befd-4d53-8706-257b3abb83b5\")>,\n",
       " <selenium.webdriver.remote.webelement.WebElement (session=\"826bba43ac7a5eed6244af9a027fa0a0\", element=\"64d0fe19-cac5-48eb-9560-200f405b2dce\")>,\n",
       " <selenium.webdriver.remote.webelement.WebElement (session=\"826bba43ac7a5eed6244af9a027fa0a0\", element=\"f41964f0-57fd-4a3b-b75a-7399fa807f09\")>,\n",
       " <selenium.webdriver.remote.webelement.WebElement (session=\"826bba43ac7a5eed6244af9a027fa0a0\", element=\"02a4c355-ed7f-48b3-bd31-303bf7bb7e31\")>,\n",
       " <selenium.webdriver.remote.webelement.WebElement (session=\"826bba43ac7a5eed6244af9a027fa0a0\", element=\"f1ecf63e-9844-4097-81d4-0d2190a5d182\")>,\n",
       " <selenium.webdriver.remote.webelement.WebElement (session=\"826bba43ac7a5eed6244af9a027fa0a0\", element=\"db4de9fc-bd5a-422c-84c1-ffb8168bb590\")>,\n",
       " <selenium.webdriver.remote.webelement.WebElement (session=\"826bba43ac7a5eed6244af9a027fa0a0\", element=\"f9473405-3e16-4c98-b6cf-0cd39db9d2c2\")>,\n",
       " <selenium.webdriver.remote.webelement.WebElement (session=\"826bba43ac7a5eed6244af9a027fa0a0\", element=\"f267ae13-a252-4033-8d9a-0c3bbaaa268b\")>,\n",
       " <selenium.webdriver.remote.webelement.WebElement (session=\"826bba43ac7a5eed6244af9a027fa0a0\", element=\"fca4effb-eec6-47a6-82d3-36949215a16c\")>,\n",
       " <selenium.webdriver.remote.webelement.WebElement (session=\"826bba43ac7a5eed6244af9a027fa0a0\", element=\"aaab3b7e-c761-4317-937c-7239929b9cb3\")>,\n",
       " <selenium.webdriver.remote.webelement.WebElement (session=\"826bba43ac7a5eed6244af9a027fa0a0\", element=\"a93c2698-923d-4091-8af0-8bebe15cf939\")>,\n",
       " <selenium.webdriver.remote.webelement.WebElement (session=\"826bba43ac7a5eed6244af9a027fa0a0\", element=\"38c59e26-6601-4906-b838-e35c9796f7d5\")>,\n",
       " <selenium.webdriver.remote.webelement.WebElement (session=\"826bba43ac7a5eed6244af9a027fa0a0\", element=\"5943e841-304a-4e67-bf43-55c5fb4a5a4f\")>,\n",
       " <selenium.webdriver.remote.webelement.WebElement (session=\"826bba43ac7a5eed6244af9a027fa0a0\", element=\"96348d39-8403-4948-83ae-65e9d25fde49\")>,\n",
       " <selenium.webdriver.remote.webelement.WebElement (session=\"826bba43ac7a5eed6244af9a027fa0a0\", element=\"0b59f731-405f-4c3e-a7b8-b95fdf6979c6\")>,\n",
       " <selenium.webdriver.remote.webelement.WebElement (session=\"826bba43ac7a5eed6244af9a027fa0a0\", element=\"38a32058-20a7-4cb4-9a4a-bf1b1b8c94c4\")>,\n",
       " <selenium.webdriver.remote.webelement.WebElement (session=\"826bba43ac7a5eed6244af9a027fa0a0\", element=\"549724af-fd22-4ce5-9446-e4c3bce5f151\")>,\n",
       " <selenium.webdriver.remote.webelement.WebElement (session=\"826bba43ac7a5eed6244af9a027fa0a0\", element=\"c05b900b-d56f-4bf0-a4ff-38aba2287eee\")>,\n",
       " <selenium.webdriver.remote.webelement.WebElement (session=\"826bba43ac7a5eed6244af9a027fa0a0\", element=\"cb0ba502-8dfb-4a59-9780-03b4497f2d79\")>,\n",
       " <selenium.webdriver.remote.webelement.WebElement (session=\"826bba43ac7a5eed6244af9a027fa0a0\", element=\"93e37d4d-0e78-42db-935c-fbc0325a860d\")>,\n",
       " <selenium.webdriver.remote.webelement.WebElement (session=\"826bba43ac7a5eed6244af9a027fa0a0\", element=\"c9b83983-fa74-491f-9fc1-01e636569d59\")>,\n",
       " <selenium.webdriver.remote.webelement.WebElement (session=\"826bba43ac7a5eed6244af9a027fa0a0\", element=\"a5a77ce7-0fd4-4665-9714-fbb2f1444107\")>,\n",
       " <selenium.webdriver.remote.webelement.WebElement (session=\"826bba43ac7a5eed6244af9a027fa0a0\", element=\"059f76a5-301b-465f-88a1-e11f5b086351\")>,\n",
       " <selenium.webdriver.remote.webelement.WebElement (session=\"826bba43ac7a5eed6244af9a027fa0a0\", element=\"c8c26d1b-8a0c-4718-8a50-03ae3fdf3635\")>,\n",
       " <selenium.webdriver.remote.webelement.WebElement (session=\"826bba43ac7a5eed6244af9a027fa0a0\", element=\"cb01a549-40ac-4980-a0fa-c261688d126d\")>,\n",
       " <selenium.webdriver.remote.webelement.WebElement (session=\"826bba43ac7a5eed6244af9a027fa0a0\", element=\"03e8273d-474d-4077-8e4c-00ecb89fae1c\")>,\n",
       " <selenium.webdriver.remote.webelement.WebElement (session=\"826bba43ac7a5eed6244af9a027fa0a0\", element=\"80781b10-a196-413d-b39c-dabf28d0e84c\")>,\n",
       " <selenium.webdriver.remote.webelement.WebElement (session=\"826bba43ac7a5eed6244af9a027fa0a0\", element=\"d9d637f8-e13a-4ad8-9d49-a935660c4205\")>,\n",
       " <selenium.webdriver.remote.webelement.WebElement (session=\"826bba43ac7a5eed6244af9a027fa0a0\", element=\"34c229fc-a29a-44e9-9ff7-6e4b6c2462c6\")>,\n",
       " <selenium.webdriver.remote.webelement.WebElement (session=\"826bba43ac7a5eed6244af9a027fa0a0\", element=\"22173101-4136-42b0-a65a-11aa7729d631\")>,\n",
       " <selenium.webdriver.remote.webelement.WebElement (session=\"826bba43ac7a5eed6244af9a027fa0a0\", element=\"3792197a-f752-4a17-9571-f2582fc08304\")>,\n",
       " <selenium.webdriver.remote.webelement.WebElement (session=\"826bba43ac7a5eed6244af9a027fa0a0\", element=\"86eb7fb7-03fe-4452-bef9-6e355e25ef40\")>,\n",
       " <selenium.webdriver.remote.webelement.WebElement (session=\"826bba43ac7a5eed6244af9a027fa0a0\", element=\"7c86bdc4-c35e-42e4-991a-80c817950141\")>,\n",
       " <selenium.webdriver.remote.webelement.WebElement (session=\"826bba43ac7a5eed6244af9a027fa0a0\", element=\"6f892935-5596-40d7-b40a-d9d888ae2159\")>,\n",
       " <selenium.webdriver.remote.webelement.WebElement (session=\"826bba43ac7a5eed6244af9a027fa0a0\", element=\"c270b1a3-4573-4553-81b8-87411e21e5b1\")>,\n",
       " <selenium.webdriver.remote.webelement.WebElement (session=\"826bba43ac7a5eed6244af9a027fa0a0\", element=\"eb1a0b6f-5518-448e-ba4f-4647a62984be\")>,\n",
       " <selenium.webdriver.remote.webelement.WebElement (session=\"826bba43ac7a5eed6244af9a027fa0a0\", element=\"1798e6fe-477e-4e7c-bc6b-3b79029b9bf3\")>,\n",
       " <selenium.webdriver.remote.webelement.WebElement (session=\"826bba43ac7a5eed6244af9a027fa0a0\", element=\"a0016c36-544b-4a10-aa0b-b45c383ee0ae\")>,\n",
       " <selenium.webdriver.remote.webelement.WebElement (session=\"826bba43ac7a5eed6244af9a027fa0a0\", element=\"8f622bfd-c8f1-4ed0-b583-eafee0a2e300\")>,\n",
       " <selenium.webdriver.remote.webelement.WebElement (session=\"826bba43ac7a5eed6244af9a027fa0a0\", element=\"bdb52881-08ca-4780-b339-b40fec6bf175\")>,\n",
       " <selenium.webdriver.remote.webelement.WebElement (session=\"826bba43ac7a5eed6244af9a027fa0a0\", element=\"dec1285e-209f-4ba4-85a9-91b9f8d12ad0\")>,\n",
       " <selenium.webdriver.remote.webelement.WebElement (session=\"826bba43ac7a5eed6244af9a027fa0a0\", element=\"c9046dcd-8a94-497c-a0dc-c6de245173a0\")>,\n",
       " <selenium.webdriver.remote.webelement.WebElement (session=\"826bba43ac7a5eed6244af9a027fa0a0\", element=\"fd0a5b6b-2d7e-4c4a-b68c-76c0b036ccb6\")>,\n",
       " <selenium.webdriver.remote.webelement.WebElement (session=\"826bba43ac7a5eed6244af9a027fa0a0\", element=\"ab2bfde8-dfff-4686-862c-0961d43dfd90\")>,\n",
       " <selenium.webdriver.remote.webelement.WebElement (session=\"826bba43ac7a5eed6244af9a027fa0a0\", element=\"ec872a8d-c133-4576-ad68-ddcd99239ae7\")>,\n",
       " <selenium.webdriver.remote.webelement.WebElement (session=\"826bba43ac7a5eed6244af9a027fa0a0\", element=\"748eff26-7aeb-436b-860d-e1db45769752\")>,\n",
       " <selenium.webdriver.remote.webelement.WebElement (session=\"826bba43ac7a5eed6244af9a027fa0a0\", element=\"827e1410-0ce5-4868-93a6-3a43f24b4b36\")>,\n",
       " <selenium.webdriver.remote.webelement.WebElement (session=\"826bba43ac7a5eed6244af9a027fa0a0\", element=\"7b3f9556-807f-4611-a161-24d224f6aada\")>,\n",
       " <selenium.webdriver.remote.webelement.WebElement (session=\"826bba43ac7a5eed6244af9a027fa0a0\", element=\"fa5fb03f-5a7c-4172-95a1-681f6132747e\")>,\n",
       " <selenium.webdriver.remote.webelement.WebElement (session=\"826bba43ac7a5eed6244af9a027fa0a0\", element=\"8f452485-eca5-4c4d-9c65-d294789e52a4\")>,\n",
       " <selenium.webdriver.remote.webelement.WebElement (session=\"826bba43ac7a5eed6244af9a027fa0a0\", element=\"ad9dffb4-a2e2-4cdd-8c20-bafc2241d0b6\")>,\n",
       " <selenium.webdriver.remote.webelement.WebElement (session=\"826bba43ac7a5eed6244af9a027fa0a0\", element=\"3eab0bc2-b898-481e-b74d-3705d7fb4ae9\")>,\n",
       " <selenium.webdriver.remote.webelement.WebElement (session=\"826bba43ac7a5eed6244af9a027fa0a0\", element=\"c28b15ab-be85-4738-b44b-3737a65c090a\")>,\n",
       " <selenium.webdriver.remote.webelement.WebElement (session=\"826bba43ac7a5eed6244af9a027fa0a0\", element=\"1570e270-9717-4261-9193-4651eb27047a\")>,\n",
       " <selenium.webdriver.remote.webelement.WebElement (session=\"826bba43ac7a5eed6244af9a027fa0a0\", element=\"bddb1353-b26a-44ad-8a26-35afbc02d95a\")>,\n",
       " <selenium.webdriver.remote.webelement.WebElement (session=\"826bba43ac7a5eed6244af9a027fa0a0\", element=\"d64ace8c-06ca-44cb-9501-710be6811cfd\")>,\n",
       " <selenium.webdriver.remote.webelement.WebElement (session=\"826bba43ac7a5eed6244af9a027fa0a0\", element=\"4ca88243-e043-4cf0-b35b-39cad1aea257\")>,\n",
       " <selenium.webdriver.remote.webelement.WebElement (session=\"826bba43ac7a5eed6244af9a027fa0a0\", element=\"1ddaa1de-b7b6-401e-96c5-9829c439b180\")>,\n",
       " <selenium.webdriver.remote.webelement.WebElement (session=\"826bba43ac7a5eed6244af9a027fa0a0\", element=\"145d7221-7b76-46e1-bb67-7e03c65e571a\")>,\n",
       " <selenium.webdriver.remote.webelement.WebElement (session=\"826bba43ac7a5eed6244af9a027fa0a0\", element=\"858ecd3b-c6c5-4322-b9b1-50a3758f718c\")>,\n",
       " <selenium.webdriver.remote.webelement.WebElement (session=\"826bba43ac7a5eed6244af9a027fa0a0\", element=\"e988d88d-0b9c-4045-8c3d-bab75858b702\")>,\n",
       " <selenium.webdriver.remote.webelement.WebElement (session=\"826bba43ac7a5eed6244af9a027fa0a0\", element=\"a39a2d7d-2fff-4937-8489-c29b56296ef9\")>,\n",
       " <selenium.webdriver.remote.webelement.WebElement (session=\"826bba43ac7a5eed6244af9a027fa0a0\", element=\"97243309-11b1-4968-a912-42fd025a296b\")>,\n",
       " <selenium.webdriver.remote.webelement.WebElement (session=\"826bba43ac7a5eed6244af9a027fa0a0\", element=\"972b7b3d-a3b9-48e2-ad40-619f57d193b5\")>,\n",
       " <selenium.webdriver.remote.webelement.WebElement (session=\"826bba43ac7a5eed6244af9a027fa0a0\", element=\"02e22652-fd55-4e62-bf5d-c464490290b0\")>,\n",
       " <selenium.webdriver.remote.webelement.WebElement (session=\"826bba43ac7a5eed6244af9a027fa0a0\", element=\"0490b5c6-98e1-49ca-9282-bf201148f685\")>,\n",
       " <selenium.webdriver.remote.webelement.WebElement (session=\"826bba43ac7a5eed6244af9a027fa0a0\", element=\"095897e6-7936-4c0b-ac0d-bbe4f9ec7288\")>,\n",
       " <selenium.webdriver.remote.webelement.WebElement (session=\"826bba43ac7a5eed6244af9a027fa0a0\", element=\"f6f7e01d-324b-48f5-a174-24625a95ebe3\")>,\n",
       " <selenium.webdriver.remote.webelement.WebElement (session=\"826bba43ac7a5eed6244af9a027fa0a0\", element=\"7143e869-c655-49f0-8446-2654980c52e5\")>,\n",
       " <selenium.webdriver.remote.webelement.WebElement (session=\"826bba43ac7a5eed6244af9a027fa0a0\", element=\"baa061a6-7018-4a7b-bb60-ac85f7a50f51\")>,\n",
       " <selenium.webdriver.remote.webelement.WebElement (session=\"826bba43ac7a5eed6244af9a027fa0a0\", element=\"552ebbcb-ee17-4775-9674-c717059ab073\")>,\n",
       " <selenium.webdriver.remote.webelement.WebElement (session=\"826bba43ac7a5eed6244af9a027fa0a0\", element=\"a40695ee-3db1-46aa-ba08-2a10d6763e87\")>,\n",
       " <selenium.webdriver.remote.webelement.WebElement (session=\"826bba43ac7a5eed6244af9a027fa0a0\", element=\"9ebab3ce-b132-4cf1-9df7-e530b9e26db5\")>,\n",
       " <selenium.webdriver.remote.webelement.WebElement (session=\"826bba43ac7a5eed6244af9a027fa0a0\", element=\"0a210305-26ab-420c-b5ed-c1033e0c2303\")>,\n",
       " <selenium.webdriver.remote.webelement.WebElement (session=\"826bba43ac7a5eed6244af9a027fa0a0\", element=\"86513aba-0191-406e-9969-1e4e1e7b756a\")>,\n",
       " <selenium.webdriver.remote.webelement.WebElement (session=\"826bba43ac7a5eed6244af9a027fa0a0\", element=\"f2d5284b-6e23-4c65-a2fa-06e3517c25ee\")>,\n",
       " <selenium.webdriver.remote.webelement.WebElement (session=\"826bba43ac7a5eed6244af9a027fa0a0\", element=\"96dd9859-f257-43c2-938b-d1ca0ffc5e2c\")>,\n",
       " <selenium.webdriver.remote.webelement.WebElement (session=\"826bba43ac7a5eed6244af9a027fa0a0\", element=\"c8101e74-aee4-4d84-bc7c-892e73723bef\")>,\n",
       " <selenium.webdriver.remote.webelement.WebElement (session=\"826bba43ac7a5eed6244af9a027fa0a0\", element=\"a0b7d0ac-7350-4fda-9183-5beef6f69f8c\")>,\n",
       " <selenium.webdriver.remote.webelement.WebElement (session=\"826bba43ac7a5eed6244af9a027fa0a0\", element=\"dd458544-339f-45e3-937c-14ba21e50d16\")>,\n",
       " <selenium.webdriver.remote.webelement.WebElement (session=\"826bba43ac7a5eed6244af9a027fa0a0\", element=\"5f096e4d-04e5-436e-ac36-cce2d9973aff\")>,\n",
       " <selenium.webdriver.remote.webelement.WebElement (session=\"826bba43ac7a5eed6244af9a027fa0a0\", element=\"53fb1997-405a-4534-b06a-76cfcc6f500d\")>,\n",
       " <selenium.webdriver.remote.webelement.WebElement (session=\"826bba43ac7a5eed6244af9a027fa0a0\", element=\"74ecc39b-6d7b-4ded-90ac-45bd681d58f9\")>,\n",
       " <selenium.webdriver.remote.webelement.WebElement (session=\"826bba43ac7a5eed6244af9a027fa0a0\", element=\"f53967e8-74c9-405b-96ba-a0198f0d206e\")>,\n",
       " <selenium.webdriver.remote.webelement.WebElement (session=\"826bba43ac7a5eed6244af9a027fa0a0\", element=\"e95a9e25-1ece-471d-8b14-dea69a2babef\")>,\n",
       " <selenium.webdriver.remote.webelement.WebElement (session=\"826bba43ac7a5eed6244af9a027fa0a0\", element=\"06ae5394-140b-49f4-84d1-f803d3fc8b8e\")>,\n",
       " <selenium.webdriver.remote.webelement.WebElement (session=\"826bba43ac7a5eed6244af9a027fa0a0\", element=\"ea1a02ff-f36b-4541-89a6-f3fb4ebe4055\")>,\n",
       " <selenium.webdriver.remote.webelement.WebElement (session=\"826bba43ac7a5eed6244af9a027fa0a0\", element=\"6428b7b4-f0af-4906-a647-fda058053c5d\")>,\n",
       " <selenium.webdriver.remote.webelement.WebElement (session=\"826bba43ac7a5eed6244af9a027fa0a0\", element=\"cb41cd48-9e9c-4c63-add2-769fc3cd1c8f\")>,\n",
       " <selenium.webdriver.remote.webelement.WebElement (session=\"826bba43ac7a5eed6244af9a027fa0a0\", element=\"7ef1551a-eb07-419a-ab8c-2a09e682ff7b\")>,\n",
       " <selenium.webdriver.remote.webelement.WebElement (session=\"826bba43ac7a5eed6244af9a027fa0a0\", element=\"c24b8236-c9c9-4521-9058-28c42d45512d\")>,\n",
       " <selenium.webdriver.remote.webelement.WebElement (session=\"826bba43ac7a5eed6244af9a027fa0a0\", element=\"abdbbcca-cb5f-4641-b4b2-d5c6bbd9b88c\")>,\n",
       " <selenium.webdriver.remote.webelement.WebElement (session=\"826bba43ac7a5eed6244af9a027fa0a0\", element=\"ab603826-170b-44ad-a6b3-5e2c7d51cd15\")>,\n",
       " <selenium.webdriver.remote.webelement.WebElement (session=\"826bba43ac7a5eed6244af9a027fa0a0\", element=\"d6f66a6e-efde-4d51-83fc-f08d1aaa8c36\")>,\n",
       " <selenium.webdriver.remote.webelement.WebElement (session=\"826bba43ac7a5eed6244af9a027fa0a0\", element=\"99c41e46-c5e7-4eee-840b-6f0b13405637\")>,\n",
       " <selenium.webdriver.remote.webelement.WebElement (session=\"826bba43ac7a5eed6244af9a027fa0a0\", element=\"0cfde2f6-df0b-4f47-abbb-5f63079e24cf\")>,\n",
       " <selenium.webdriver.remote.webelement.WebElement (session=\"826bba43ac7a5eed6244af9a027fa0a0\", element=\"f1c9b169-cf83-4b0c-b342-94a98fda860e\")>,\n",
       " <selenium.webdriver.remote.webelement.WebElement (session=\"826bba43ac7a5eed6244af9a027fa0a0\", element=\"6bab10ff-6179-490a-a5f7-615918f3776e\")>,\n",
       " <selenium.webdriver.remote.webelement.WebElement (session=\"826bba43ac7a5eed6244af9a027fa0a0\", element=\"1258a2b6-095f-482b-9608-c3f8b1cfe29c\")>]"
      ]
     },
     "execution_count": 150,
     "metadata": {},
     "output_type": "execute_result"
    }
   ],
   "source": [
    "publisher=driver.find_elements_by_xpath('//td[@class=\"left\"]')\n",
    "publisher"
   ]
  },
  {
   "cell_type": "code",
   "execution_count": 151,
   "id": "07b7bc9f",
   "metadata": {},
   "outputs": [
    {
     "data": {
      "text/plain": [
       "[]"
      ]
     },
     "execution_count": 151,
     "metadata": {},
     "output_type": "execute_result"
    }
   ],
   "source": [
    "publisher=[]\n",
    "for i in publisher:\n",
    "   publisher.append(i.text)\n",
    "    \n",
    "publisher"
   ]
  },
  {
   "cell_type": "code",
   "execution_count": 152,
   "id": "3f8e5e86",
   "metadata": {},
   "outputs": [
    {
     "name": "stderr",
     "output_type": "stream",
     "text": [
      "<ipython-input-152-35b202658349>:1: DeprecationWarning: find_elements_by_* commands are deprecated. Please use find_elements() instead\n",
      "  genre=driver.find_elements_by_xpath('//td[@class=\"left\"]')\n"
     ]
    },
    {
     "data": {
      "text/plain": [
       "[<selenium.webdriver.remote.webelement.WebElement (session=\"826bba43ac7a5eed6244af9a027fa0a0\", element=\"b916ed08-9c4e-424b-b0e7-322ff27ffd33\")>,\n",
       " <selenium.webdriver.remote.webelement.WebElement (session=\"826bba43ac7a5eed6244af9a027fa0a0\", element=\"5a5a5276-1a27-4089-a509-b3a983eec827\")>,\n",
       " <selenium.webdriver.remote.webelement.WebElement (session=\"826bba43ac7a5eed6244af9a027fa0a0\", element=\"090b9cba-8fb0-425e-a251-7fe9d07318f1\")>,\n",
       " <selenium.webdriver.remote.webelement.WebElement (session=\"826bba43ac7a5eed6244af9a027fa0a0\", element=\"69ed12ee-8f2a-4715-a11b-0b38b02747cd\")>,\n",
       " <selenium.webdriver.remote.webelement.WebElement (session=\"826bba43ac7a5eed6244af9a027fa0a0\", element=\"32a5abe6-3a6d-4cd7-bd8e-17025f9e5dc8\")>,\n",
       " <selenium.webdriver.remote.webelement.WebElement (session=\"826bba43ac7a5eed6244af9a027fa0a0\", element=\"b02b6d39-904a-47c8-9e2c-b29803a70979\")>,\n",
       " <selenium.webdriver.remote.webelement.WebElement (session=\"826bba43ac7a5eed6244af9a027fa0a0\", element=\"b0ec2b03-ab0e-40ee-bf82-8707cb7860c0\")>,\n",
       " <selenium.webdriver.remote.webelement.WebElement (session=\"826bba43ac7a5eed6244af9a027fa0a0\", element=\"0f1cd7b7-d381-4811-b480-60a8c326ff31\")>,\n",
       " <selenium.webdriver.remote.webelement.WebElement (session=\"826bba43ac7a5eed6244af9a027fa0a0\", element=\"be446c48-e019-4610-8138-6961a6667824\")>,\n",
       " <selenium.webdriver.remote.webelement.WebElement (session=\"826bba43ac7a5eed6244af9a027fa0a0\", element=\"aa8ccce3-3c22-4517-b68f-ceff58ceff7a\")>,\n",
       " <selenium.webdriver.remote.webelement.WebElement (session=\"826bba43ac7a5eed6244af9a027fa0a0\", element=\"f428c99d-d025-46cf-a21f-5caeae763f48\")>,\n",
       " <selenium.webdriver.remote.webelement.WebElement (session=\"826bba43ac7a5eed6244af9a027fa0a0\", element=\"671ee705-45b7-4985-8108-22fb3863f380\")>,\n",
       " <selenium.webdriver.remote.webelement.WebElement (session=\"826bba43ac7a5eed6244af9a027fa0a0\", element=\"20cad254-88ad-4044-8300-9f7604b5a549\")>,\n",
       " <selenium.webdriver.remote.webelement.WebElement (session=\"826bba43ac7a5eed6244af9a027fa0a0\", element=\"5741e637-f0a5-401b-a4cf-1dc3be36674e\")>,\n",
       " <selenium.webdriver.remote.webelement.WebElement (session=\"826bba43ac7a5eed6244af9a027fa0a0\", element=\"affa704e-a25c-4157-b1cf-fede6a4553ef\")>,\n",
       " <selenium.webdriver.remote.webelement.WebElement (session=\"826bba43ac7a5eed6244af9a027fa0a0\", element=\"d6cb6de1-506c-4e24-b49f-a5b3c060131e\")>,\n",
       " <selenium.webdriver.remote.webelement.WebElement (session=\"826bba43ac7a5eed6244af9a027fa0a0\", element=\"4ea11cfb-d07d-42eb-8b4e-04cc95358da0\")>,\n",
       " <selenium.webdriver.remote.webelement.WebElement (session=\"826bba43ac7a5eed6244af9a027fa0a0\", element=\"f37ccf77-3ea1-4a11-84ee-f9939ba05988\")>,\n",
       " <selenium.webdriver.remote.webelement.WebElement (session=\"826bba43ac7a5eed6244af9a027fa0a0\", element=\"52524ac3-56a8-49c1-aebb-0f18cf19e950\")>,\n",
       " <selenium.webdriver.remote.webelement.WebElement (session=\"826bba43ac7a5eed6244af9a027fa0a0\", element=\"a69bc104-4f77-4749-984e-5d6aff1c55bf\")>,\n",
       " <selenium.webdriver.remote.webelement.WebElement (session=\"826bba43ac7a5eed6244af9a027fa0a0\", element=\"daf183be-ee7c-4a62-b0b4-6100cc08fb74\")>,\n",
       " <selenium.webdriver.remote.webelement.WebElement (session=\"826bba43ac7a5eed6244af9a027fa0a0\", element=\"fa50a8e7-0deb-4675-9ff7-4c3186fb834f\")>,\n",
       " <selenium.webdriver.remote.webelement.WebElement (session=\"826bba43ac7a5eed6244af9a027fa0a0\", element=\"9c567fe1-90f0-4ea1-8817-ab6830dcb879\")>,\n",
       " <selenium.webdriver.remote.webelement.WebElement (session=\"826bba43ac7a5eed6244af9a027fa0a0\", element=\"8af7515c-6a45-49c6-8e0d-638d16167edd\")>,\n",
       " <selenium.webdriver.remote.webelement.WebElement (session=\"826bba43ac7a5eed6244af9a027fa0a0\", element=\"8557b5aa-c6de-4e54-8e9c-ab76add5c1c5\")>,\n",
       " <selenium.webdriver.remote.webelement.WebElement (session=\"826bba43ac7a5eed6244af9a027fa0a0\", element=\"bbdfc37b-921a-4665-8771-52e266b2b7c4\")>,\n",
       " <selenium.webdriver.remote.webelement.WebElement (session=\"826bba43ac7a5eed6244af9a027fa0a0\", element=\"e1c02d4a-d357-49e6-bab8-7505ae7135fd\")>,\n",
       " <selenium.webdriver.remote.webelement.WebElement (session=\"826bba43ac7a5eed6244af9a027fa0a0\", element=\"1ab5fffb-26e1-446d-ab12-aece8610513c\")>,\n",
       " <selenium.webdriver.remote.webelement.WebElement (session=\"826bba43ac7a5eed6244af9a027fa0a0\", element=\"3b34b989-0f0c-45c6-b786-e56c7b7d56bc\")>,\n",
       " <selenium.webdriver.remote.webelement.WebElement (session=\"826bba43ac7a5eed6244af9a027fa0a0\", element=\"7b03fca0-ef8f-4901-a2c1-2b4367a62cf7\")>,\n",
       " <selenium.webdriver.remote.webelement.WebElement (session=\"826bba43ac7a5eed6244af9a027fa0a0\", element=\"4302fd12-7dd1-42ba-9fbf-9597978a9e32\")>,\n",
       " <selenium.webdriver.remote.webelement.WebElement (session=\"826bba43ac7a5eed6244af9a027fa0a0\", element=\"8902eb31-cc4a-47a7-9625-0a2393be5316\")>,\n",
       " <selenium.webdriver.remote.webelement.WebElement (session=\"826bba43ac7a5eed6244af9a027fa0a0\", element=\"4792d231-72cc-4b70-93e9-8f11ba1f9421\")>,\n",
       " <selenium.webdriver.remote.webelement.WebElement (session=\"826bba43ac7a5eed6244af9a027fa0a0\", element=\"8fc7bf41-e599-436d-99e4-c68703f615fa\")>,\n",
       " <selenium.webdriver.remote.webelement.WebElement (session=\"826bba43ac7a5eed6244af9a027fa0a0\", element=\"e520f96f-cc2c-4d6a-b221-89618da072b8\")>,\n",
       " <selenium.webdriver.remote.webelement.WebElement (session=\"826bba43ac7a5eed6244af9a027fa0a0\", element=\"2b0bb9ed-a150-4b38-aff2-2f67bcc449a5\")>,\n",
       " <selenium.webdriver.remote.webelement.WebElement (session=\"826bba43ac7a5eed6244af9a027fa0a0\", element=\"ea48eaf3-cd9e-4842-ab72-1122d386fd2f\")>,\n",
       " <selenium.webdriver.remote.webelement.WebElement (session=\"826bba43ac7a5eed6244af9a027fa0a0\", element=\"b3952f44-7017-461c-b52e-b2a1654d97a8\")>,\n",
       " <selenium.webdriver.remote.webelement.WebElement (session=\"826bba43ac7a5eed6244af9a027fa0a0\", element=\"d081f219-86b9-40c2-a842-fbee3670733c\")>,\n",
       " <selenium.webdriver.remote.webelement.WebElement (session=\"826bba43ac7a5eed6244af9a027fa0a0\", element=\"604c5322-bba7-4b4a-8595-47aae00a7c79\")>,\n",
       " <selenium.webdriver.remote.webelement.WebElement (session=\"826bba43ac7a5eed6244af9a027fa0a0\", element=\"59ddf8ec-056d-4592-81c9-ed70c448d890\")>,\n",
       " <selenium.webdriver.remote.webelement.WebElement (session=\"826bba43ac7a5eed6244af9a027fa0a0\", element=\"256771e6-627d-4944-91e1-95f438e7d876\")>,\n",
       " <selenium.webdriver.remote.webelement.WebElement (session=\"826bba43ac7a5eed6244af9a027fa0a0\", element=\"1cc0b6fd-de4a-4be7-a096-b850836fe174\")>,\n",
       " <selenium.webdriver.remote.webelement.WebElement (session=\"826bba43ac7a5eed6244af9a027fa0a0\", element=\"99d7558b-12f2-4654-b246-ccc742e23289\")>,\n",
       " <selenium.webdriver.remote.webelement.WebElement (session=\"826bba43ac7a5eed6244af9a027fa0a0\", element=\"1b690d6f-aed6-4935-8731-f9844be3788e\")>,\n",
       " <selenium.webdriver.remote.webelement.WebElement (session=\"826bba43ac7a5eed6244af9a027fa0a0\", element=\"f070bf3b-3193-46bb-ae18-2f9edd2a4eaf\")>,\n",
       " <selenium.webdriver.remote.webelement.WebElement (session=\"826bba43ac7a5eed6244af9a027fa0a0\", element=\"500f18ef-d5ed-4a7c-aad6-8ade850c84a1\")>,\n",
       " <selenium.webdriver.remote.webelement.WebElement (session=\"826bba43ac7a5eed6244af9a027fa0a0\", element=\"010d6d59-4534-404e-8154-330a82f79691\")>,\n",
       " <selenium.webdriver.remote.webelement.WebElement (session=\"826bba43ac7a5eed6244af9a027fa0a0\", element=\"6ea9ee37-272f-4964-8b09-b6e45698be68\")>,\n",
       " <selenium.webdriver.remote.webelement.WebElement (session=\"826bba43ac7a5eed6244af9a027fa0a0\", element=\"e6f030b2-7729-4dc6-abff-7ad4a8fe2f40\")>,\n",
       " <selenium.webdriver.remote.webelement.WebElement (session=\"826bba43ac7a5eed6244af9a027fa0a0\", element=\"bf4ad80a-a837-4d2a-9a16-da97944be811\")>,\n",
       " <selenium.webdriver.remote.webelement.WebElement (session=\"826bba43ac7a5eed6244af9a027fa0a0\", element=\"698b9e52-b3d8-4604-a5db-e78a965c62e9\")>,\n",
       " <selenium.webdriver.remote.webelement.WebElement (session=\"826bba43ac7a5eed6244af9a027fa0a0\", element=\"63a8f339-ef77-44ab-bf88-d91119bfac52\")>,\n",
       " <selenium.webdriver.remote.webelement.WebElement (session=\"826bba43ac7a5eed6244af9a027fa0a0\", element=\"1ec79e28-074e-46ee-aa4e-607adfe62025\")>,\n",
       " <selenium.webdriver.remote.webelement.WebElement (session=\"826bba43ac7a5eed6244af9a027fa0a0\", element=\"76e855e8-d4e9-4e63-ac6e-5e467a4721e7\")>,\n",
       " <selenium.webdriver.remote.webelement.WebElement (session=\"826bba43ac7a5eed6244af9a027fa0a0\", element=\"ef6dc69e-afcb-4f74-9af7-7134552eb19d\")>,\n",
       " <selenium.webdriver.remote.webelement.WebElement (session=\"826bba43ac7a5eed6244af9a027fa0a0\", element=\"547f38fe-06a9-4ada-aaae-e6f8674a7cf4\")>,\n",
       " <selenium.webdriver.remote.webelement.WebElement (session=\"826bba43ac7a5eed6244af9a027fa0a0\", element=\"6fa6896a-5d0f-4ce9-94ff-546d7f6a4f7e\")>,\n",
       " <selenium.webdriver.remote.webelement.WebElement (session=\"826bba43ac7a5eed6244af9a027fa0a0\", element=\"034556da-a9af-4beb-b51b-93e31968ffa8\")>,\n",
       " <selenium.webdriver.remote.webelement.WebElement (session=\"826bba43ac7a5eed6244af9a027fa0a0\", element=\"ae8e5ce1-626e-494b-9828-f96aef0be6fd\")>,\n",
       " <selenium.webdriver.remote.webelement.WebElement (session=\"826bba43ac7a5eed6244af9a027fa0a0\", element=\"a3528898-ef8f-44f6-a744-de6f67191884\")>,\n",
       " <selenium.webdriver.remote.webelement.WebElement (session=\"826bba43ac7a5eed6244af9a027fa0a0\", element=\"3e0a2852-4ed2-411f-9486-d92f1c1c02c3\")>,\n",
       " <selenium.webdriver.remote.webelement.WebElement (session=\"826bba43ac7a5eed6244af9a027fa0a0\", element=\"5cb961c0-8ea6-4311-bd01-492131e1d87a\")>,\n",
       " <selenium.webdriver.remote.webelement.WebElement (session=\"826bba43ac7a5eed6244af9a027fa0a0\", element=\"03163436-71c0-4a2c-a9ec-1c5a59efd377\")>,\n",
       " <selenium.webdriver.remote.webelement.WebElement (session=\"826bba43ac7a5eed6244af9a027fa0a0\", element=\"64ac16e3-4905-43fe-ad17-d12f34b5a196\")>,\n",
       " <selenium.webdriver.remote.webelement.WebElement (session=\"826bba43ac7a5eed6244af9a027fa0a0\", element=\"ad886a27-cb3d-409a-8151-18282c8350af\")>,\n",
       " <selenium.webdriver.remote.webelement.WebElement (session=\"826bba43ac7a5eed6244af9a027fa0a0\", element=\"86a4375e-ab0d-4f85-a351-64044c09cfbc\")>,\n",
       " <selenium.webdriver.remote.webelement.WebElement (session=\"826bba43ac7a5eed6244af9a027fa0a0\", element=\"a10928b3-56d9-4d79-b4e9-d23f73e9ca0e\")>,\n",
       " <selenium.webdriver.remote.webelement.WebElement (session=\"826bba43ac7a5eed6244af9a027fa0a0\", element=\"8406a579-a53a-4d7e-8544-458a738bcd40\")>,\n",
       " <selenium.webdriver.remote.webelement.WebElement (session=\"826bba43ac7a5eed6244af9a027fa0a0\", element=\"b53dcd1e-2185-4dc6-afcd-d0c6896a2355\")>,\n",
       " <selenium.webdriver.remote.webelement.WebElement (session=\"826bba43ac7a5eed6244af9a027fa0a0\", element=\"d6a39f1b-7b10-4c68-8a08-2cfb0a2277bd\")>,\n",
       " <selenium.webdriver.remote.webelement.WebElement (session=\"826bba43ac7a5eed6244af9a027fa0a0\", element=\"0a6be695-011f-44a5-93da-d6cd0a740c34\")>,\n",
       " <selenium.webdriver.remote.webelement.WebElement (session=\"826bba43ac7a5eed6244af9a027fa0a0\", element=\"bdcac485-04b7-4804-847f-dcd0c82fc478\")>,\n",
       " <selenium.webdriver.remote.webelement.WebElement (session=\"826bba43ac7a5eed6244af9a027fa0a0\", element=\"6f5c6c4f-af88-4fdf-851b-29bd277684a2\")>,\n",
       " <selenium.webdriver.remote.webelement.WebElement (session=\"826bba43ac7a5eed6244af9a027fa0a0\", element=\"3fcdb4b9-e288-4954-8472-520942d946f8\")>,\n",
       " <selenium.webdriver.remote.webelement.WebElement (session=\"826bba43ac7a5eed6244af9a027fa0a0\", element=\"c6a3b313-1d3f-40d9-99af-6bcfa0776ce7\")>,\n",
       " <selenium.webdriver.remote.webelement.WebElement (session=\"826bba43ac7a5eed6244af9a027fa0a0\", element=\"8c3da6a5-2b56-436f-9d5a-b8c18c43627d\")>,\n",
       " <selenium.webdriver.remote.webelement.WebElement (session=\"826bba43ac7a5eed6244af9a027fa0a0\", element=\"b523a30c-e4bb-453e-ba2a-3d8244b91627\")>,\n",
       " <selenium.webdriver.remote.webelement.WebElement (session=\"826bba43ac7a5eed6244af9a027fa0a0\", element=\"51c60ea7-05f3-4dd9-88aa-6447532383ef\")>,\n",
       " <selenium.webdriver.remote.webelement.WebElement (session=\"826bba43ac7a5eed6244af9a027fa0a0\", element=\"1f7869b6-a331-4a5f-acfa-4afe4f8fc86e\")>,\n",
       " <selenium.webdriver.remote.webelement.WebElement (session=\"826bba43ac7a5eed6244af9a027fa0a0\", element=\"64f50230-a555-471a-b71b-0740a6293930\")>,\n",
       " <selenium.webdriver.remote.webelement.WebElement (session=\"826bba43ac7a5eed6244af9a027fa0a0\", element=\"5933fbf2-5fbf-4cbb-86f8-1ee4d12c11d8\")>,\n",
       " <selenium.webdriver.remote.webelement.WebElement (session=\"826bba43ac7a5eed6244af9a027fa0a0\", element=\"5f2cb9d2-b247-4138-8d75-5e8c47600cbc\")>,\n",
       " <selenium.webdriver.remote.webelement.WebElement (session=\"826bba43ac7a5eed6244af9a027fa0a0\", element=\"441678c7-0f22-41c1-9480-04ccb9ff9d56\")>,\n",
       " <selenium.webdriver.remote.webelement.WebElement (session=\"826bba43ac7a5eed6244af9a027fa0a0\", element=\"27d0a233-f9a6-4527-bf22-015f2bf623f7\")>,\n",
       " <selenium.webdriver.remote.webelement.WebElement (session=\"826bba43ac7a5eed6244af9a027fa0a0\", element=\"7abda839-5c9a-4328-9011-2ec8e3b51644\")>,\n",
       " <selenium.webdriver.remote.webelement.WebElement (session=\"826bba43ac7a5eed6244af9a027fa0a0\", element=\"0f1f8ac1-5700-4b28-818c-d6474264b03f\")>,\n",
       " <selenium.webdriver.remote.webelement.WebElement (session=\"826bba43ac7a5eed6244af9a027fa0a0\", element=\"d636055b-ba41-4d7c-9b32-ea5cf0351d75\")>,\n",
       " <selenium.webdriver.remote.webelement.WebElement (session=\"826bba43ac7a5eed6244af9a027fa0a0\", element=\"e3dfe04e-08f0-480c-806a-2229e9111a98\")>,\n",
       " <selenium.webdriver.remote.webelement.WebElement (session=\"826bba43ac7a5eed6244af9a027fa0a0\", element=\"064a12f2-6a08-4a8b-8099-d0c98789b933\")>,\n",
       " <selenium.webdriver.remote.webelement.WebElement (session=\"826bba43ac7a5eed6244af9a027fa0a0\", element=\"e8299817-566c-4aa4-905f-2403f7618761\")>,\n",
       " <selenium.webdriver.remote.webelement.WebElement (session=\"826bba43ac7a5eed6244af9a027fa0a0\", element=\"1bdf8d6c-6d97-4e53-a47b-61074af25052\")>,\n",
       " <selenium.webdriver.remote.webelement.WebElement (session=\"826bba43ac7a5eed6244af9a027fa0a0\", element=\"023d8a4d-ba63-4ff2-acc8-dfdc7464cda4\")>,\n",
       " <selenium.webdriver.remote.webelement.WebElement (session=\"826bba43ac7a5eed6244af9a027fa0a0\", element=\"7969e55d-d60c-4a92-a235-6b029c97fbf6\")>,\n",
       " <selenium.webdriver.remote.webelement.WebElement (session=\"826bba43ac7a5eed6244af9a027fa0a0\", element=\"7682f262-3502-482b-bffb-f5730788314b\")>,\n",
       " <selenium.webdriver.remote.webelement.WebElement (session=\"826bba43ac7a5eed6244af9a027fa0a0\", element=\"74751e81-b25d-43b2-98a3-217892c82b8d\")>,\n",
       " <selenium.webdriver.remote.webelement.WebElement (session=\"826bba43ac7a5eed6244af9a027fa0a0\", element=\"5126cbc3-8187-4c6a-9915-d2bc6ef10f41\")>,\n",
       " <selenium.webdriver.remote.webelement.WebElement (session=\"826bba43ac7a5eed6244af9a027fa0a0\", element=\"e0a90096-3b25-48f5-94f0-530fb253b018\")>,\n",
       " <selenium.webdriver.remote.webelement.WebElement (session=\"826bba43ac7a5eed6244af9a027fa0a0\", element=\"dd1db8f7-3900-457a-87d6-010565f6c6c1\")>,\n",
       " <selenium.webdriver.remote.webelement.WebElement (session=\"826bba43ac7a5eed6244af9a027fa0a0\", element=\"27136895-12a1-42ce-8f20-4df98cd3d99d\")>,\n",
       " <selenium.webdriver.remote.webelement.WebElement (session=\"826bba43ac7a5eed6244af9a027fa0a0\", element=\"c4b1ece0-c9e6-4ec3-b471-e8fccebf7972\")>,\n",
       " <selenium.webdriver.remote.webelement.WebElement (session=\"826bba43ac7a5eed6244af9a027fa0a0\", element=\"ac77b23b-ff6c-4e54-a116-b68376d3ea70\")>,\n",
       " <selenium.webdriver.remote.webelement.WebElement (session=\"826bba43ac7a5eed6244af9a027fa0a0\", element=\"67b5ff2a-1719-4721-b659-65d5dec5f95b\")>,\n",
       " <selenium.webdriver.remote.webelement.WebElement (session=\"826bba43ac7a5eed6244af9a027fa0a0\", element=\"1d9a69ef-a02a-43a8-b060-ed701ae64036\")>,\n",
       " <selenium.webdriver.remote.webelement.WebElement (session=\"826bba43ac7a5eed6244af9a027fa0a0\", element=\"fe7d9f6f-6bc3-44aa-8b4d-2e87eb1b5bb7\")>,\n",
       " <selenium.webdriver.remote.webelement.WebElement (session=\"826bba43ac7a5eed6244af9a027fa0a0\", element=\"538f3835-b92b-4374-81d9-0820c16aa824\")>,\n",
       " <selenium.webdriver.remote.webelement.WebElement (session=\"826bba43ac7a5eed6244af9a027fa0a0\", element=\"ab96e339-4fbf-4643-8a99-a7af362f908a\")>,\n",
       " <selenium.webdriver.remote.webelement.WebElement (session=\"826bba43ac7a5eed6244af9a027fa0a0\", element=\"dac7d507-6168-4737-8ca7-f153f0f610b9\")>,\n",
       " <selenium.webdriver.remote.webelement.WebElement (session=\"826bba43ac7a5eed6244af9a027fa0a0\", element=\"0f177369-b738-4ddc-8d02-5338a7af946a\")>,\n",
       " <selenium.webdriver.remote.webelement.WebElement (session=\"826bba43ac7a5eed6244af9a027fa0a0\", element=\"e4640bac-654f-4295-9844-80d3e8bac08d\")>,\n",
       " <selenium.webdriver.remote.webelement.WebElement (session=\"826bba43ac7a5eed6244af9a027fa0a0\", element=\"4bfcea25-51be-479b-b2a5-51230db7b811\")>,\n",
       " <selenium.webdriver.remote.webelement.WebElement (session=\"826bba43ac7a5eed6244af9a027fa0a0\", element=\"843005be-4898-4168-a81d-af1f78317f25\")>,\n",
       " <selenium.webdriver.remote.webelement.WebElement (session=\"826bba43ac7a5eed6244af9a027fa0a0\", element=\"5192a50c-a603-4c90-8aed-7c42e566331a\")>,\n",
       " <selenium.webdriver.remote.webelement.WebElement (session=\"826bba43ac7a5eed6244af9a027fa0a0\", element=\"4a5bfedd-7ef9-4011-a47f-29239861b09f\")>,\n",
       " <selenium.webdriver.remote.webelement.WebElement (session=\"826bba43ac7a5eed6244af9a027fa0a0\", element=\"b17af07d-fd94-45b8-9f53-d0f0acaed159\")>,\n",
       " <selenium.webdriver.remote.webelement.WebElement (session=\"826bba43ac7a5eed6244af9a027fa0a0\", element=\"b87ad4ec-82b0-4b45-a35c-bd164f784d7d\")>,\n",
       " <selenium.webdriver.remote.webelement.WebElement (session=\"826bba43ac7a5eed6244af9a027fa0a0\", element=\"7c30e5a5-aa76-4588-8ecc-20b555dc08db\")>,\n",
       " <selenium.webdriver.remote.webelement.WebElement (session=\"826bba43ac7a5eed6244af9a027fa0a0\", element=\"a0b426d3-079c-4adc-9070-c6514d14c57d\")>,\n",
       " <selenium.webdriver.remote.webelement.WebElement (session=\"826bba43ac7a5eed6244af9a027fa0a0\", element=\"5def6fb1-0b7a-493f-994e-b131213b3d0c\")>,\n",
       " <selenium.webdriver.remote.webelement.WebElement (session=\"826bba43ac7a5eed6244af9a027fa0a0\", element=\"87bc30e8-ff52-4a5d-86dc-1f59a301a3bd\")>,\n",
       " <selenium.webdriver.remote.webelement.WebElement (session=\"826bba43ac7a5eed6244af9a027fa0a0\", element=\"a2e5c062-632b-485b-8a41-3a7b6778d0eb\")>,\n",
       " <selenium.webdriver.remote.webelement.WebElement (session=\"826bba43ac7a5eed6244af9a027fa0a0\", element=\"c5113fd4-46bd-4d71-890d-cfb0fefae8fb\")>,\n",
       " <selenium.webdriver.remote.webelement.WebElement (session=\"826bba43ac7a5eed6244af9a027fa0a0\", element=\"b463ec28-2b57-482d-8466-324befb3070e\")>,\n",
       " <selenium.webdriver.remote.webelement.WebElement (session=\"826bba43ac7a5eed6244af9a027fa0a0\", element=\"cea8b893-f4a5-4b80-a1d0-9b4fe39a02ec\")>,\n",
       " <selenium.webdriver.remote.webelement.WebElement (session=\"826bba43ac7a5eed6244af9a027fa0a0\", element=\"304fd9ba-bf1a-4128-943f-95b2762f47a6\")>,\n",
       " <selenium.webdriver.remote.webelement.WebElement (session=\"826bba43ac7a5eed6244af9a027fa0a0\", element=\"60ad9110-94cf-4fed-a119-71da58da6bcf\")>,\n",
       " <selenium.webdriver.remote.webelement.WebElement (session=\"826bba43ac7a5eed6244af9a027fa0a0\", element=\"e82c19d3-81f7-444d-a1f7-e6bf58d41331\")>,\n",
       " <selenium.webdriver.remote.webelement.WebElement (session=\"826bba43ac7a5eed6244af9a027fa0a0\", element=\"d684f7cb-a03a-420a-bd82-3bf109c4ffbd\")>,\n",
       " <selenium.webdriver.remote.webelement.WebElement (session=\"826bba43ac7a5eed6244af9a027fa0a0\", element=\"179d36e1-bc62-4486-83b8-a5fe7fd434d3\")>,\n",
       " <selenium.webdriver.remote.webelement.WebElement (session=\"826bba43ac7a5eed6244af9a027fa0a0\", element=\"899bb1cf-615f-48d6-9a17-3fe06a7d1b3f\")>,\n",
       " <selenium.webdriver.remote.webelement.WebElement (session=\"826bba43ac7a5eed6244af9a027fa0a0\", element=\"ee6b079e-ba93-4d8c-91c7-c3d53b3511db\")>,\n",
       " <selenium.webdriver.remote.webelement.WebElement (session=\"826bba43ac7a5eed6244af9a027fa0a0\", element=\"1437aa8e-9f2a-4f28-b66d-120ecfb0050f\")>,\n",
       " <selenium.webdriver.remote.webelement.WebElement (session=\"826bba43ac7a5eed6244af9a027fa0a0\", element=\"eec78fa2-f036-4aeb-8913-992d22af3df3\")>,\n",
       " <selenium.webdriver.remote.webelement.WebElement (session=\"826bba43ac7a5eed6244af9a027fa0a0\", element=\"950889f2-c8e2-4a7e-94ba-f9a3f8851948\")>,\n",
       " <selenium.webdriver.remote.webelement.WebElement (session=\"826bba43ac7a5eed6244af9a027fa0a0\", element=\"0ae6c640-6a91-43da-9284-b4730c2e8b8b\")>,\n",
       " <selenium.webdriver.remote.webelement.WebElement (session=\"826bba43ac7a5eed6244af9a027fa0a0\", element=\"d22f3dcf-59d9-4111-a563-eef1c654b497\")>,\n",
       " <selenium.webdriver.remote.webelement.WebElement (session=\"826bba43ac7a5eed6244af9a027fa0a0\", element=\"16b14d07-7bb7-4abb-aa17-f10d1c6a5e9d\")>,\n",
       " <selenium.webdriver.remote.webelement.WebElement (session=\"826bba43ac7a5eed6244af9a027fa0a0\", element=\"bf32301e-96d5-45cc-b4aa-a7e4c3614b27\")>,\n",
       " <selenium.webdriver.remote.webelement.WebElement (session=\"826bba43ac7a5eed6244af9a027fa0a0\", element=\"85748e80-09dc-41c4-a801-2e6f7104b032\")>,\n",
       " <selenium.webdriver.remote.webelement.WebElement (session=\"826bba43ac7a5eed6244af9a027fa0a0\", element=\"c4329ff4-f607-46f8-9ad1-5721bf39b277\")>,\n",
       " <selenium.webdriver.remote.webelement.WebElement (session=\"826bba43ac7a5eed6244af9a027fa0a0\", element=\"0c07c929-8bf4-4981-a8ef-dacb2f9ca46b\")>,\n",
       " <selenium.webdriver.remote.webelement.WebElement (session=\"826bba43ac7a5eed6244af9a027fa0a0\", element=\"9d155930-2ce2-411d-aeec-583ba9e5c681\")>,\n",
       " <selenium.webdriver.remote.webelement.WebElement (session=\"826bba43ac7a5eed6244af9a027fa0a0\", element=\"b5e94e78-b1c4-4ad9-9247-719702ba7a2e\")>,\n",
       " <selenium.webdriver.remote.webelement.WebElement (session=\"826bba43ac7a5eed6244af9a027fa0a0\", element=\"310b053e-d187-45a4-972b-7c9ca81c992f\")>,\n",
       " <selenium.webdriver.remote.webelement.WebElement (session=\"826bba43ac7a5eed6244af9a027fa0a0\", element=\"8fa76597-69b8-4f5c-900d-ba7c76b72f4b\")>,\n",
       " <selenium.webdriver.remote.webelement.WebElement (session=\"826bba43ac7a5eed6244af9a027fa0a0\", element=\"a01a8d9c-03a0-425f-92cd-25e8bf7318fd\")>,\n",
       " <selenium.webdriver.remote.webelement.WebElement (session=\"826bba43ac7a5eed6244af9a027fa0a0\", element=\"3d5fadfe-f42d-4f35-84e5-c4baf89460ee\")>,\n",
       " <selenium.webdriver.remote.webelement.WebElement (session=\"826bba43ac7a5eed6244af9a027fa0a0\", element=\"d8d24ac2-b407-426b-a3f8-8c3161299142\")>,\n",
       " <selenium.webdriver.remote.webelement.WebElement (session=\"826bba43ac7a5eed6244af9a027fa0a0\", element=\"a90ecabf-d2cd-424c-a194-0510f1b70d01\")>,\n",
       " <selenium.webdriver.remote.webelement.WebElement (session=\"826bba43ac7a5eed6244af9a027fa0a0\", element=\"1e76fa36-cb2f-46a2-b36c-0d11e6078092\")>,\n",
       " <selenium.webdriver.remote.webelement.WebElement (session=\"826bba43ac7a5eed6244af9a027fa0a0\", element=\"d0a41124-db45-42e5-9b0a-05b3e8dd7596\")>,\n",
       " <selenium.webdriver.remote.webelement.WebElement (session=\"826bba43ac7a5eed6244af9a027fa0a0\", element=\"c12c634c-4e4d-469b-93d6-40749c3f26aa\")>,\n",
       " <selenium.webdriver.remote.webelement.WebElement (session=\"826bba43ac7a5eed6244af9a027fa0a0\", element=\"6d2fd3a9-9aac-4f6a-9ab3-7ca1a88939c6\")>,\n",
       " <selenium.webdriver.remote.webelement.WebElement (session=\"826bba43ac7a5eed6244af9a027fa0a0\", element=\"a33e5630-9afb-4bbe-8939-a015c61a580d\")>,\n",
       " <selenium.webdriver.remote.webelement.WebElement (session=\"826bba43ac7a5eed6244af9a027fa0a0\", element=\"a4d6480b-c362-48ae-a291-ff8d5761cab6\")>,\n",
       " <selenium.webdriver.remote.webelement.WebElement (session=\"826bba43ac7a5eed6244af9a027fa0a0\", element=\"43b63124-262b-45b3-a742-7584c69d0fc9\")>,\n",
       " <selenium.webdriver.remote.webelement.WebElement (session=\"826bba43ac7a5eed6244af9a027fa0a0\", element=\"2cfdf8f9-befe-4f29-827a-3f17b67fe27a\")>,\n",
       " <selenium.webdriver.remote.webelement.WebElement (session=\"826bba43ac7a5eed6244af9a027fa0a0\", element=\"cd2dca52-6266-4414-83da-e62c70bfd5e3\")>,\n",
       " <selenium.webdriver.remote.webelement.WebElement (session=\"826bba43ac7a5eed6244af9a027fa0a0\", element=\"7bd95e56-4a6a-472a-b688-27a48e84f5da\")>,\n",
       " <selenium.webdriver.remote.webelement.WebElement (session=\"826bba43ac7a5eed6244af9a027fa0a0\", element=\"2ce94745-02e3-404d-84c9-9327453225ea\")>,\n",
       " <selenium.webdriver.remote.webelement.WebElement (session=\"826bba43ac7a5eed6244af9a027fa0a0\", element=\"4fb50b07-606b-4679-90f4-a842a8429425\")>,\n",
       " <selenium.webdriver.remote.webelement.WebElement (session=\"826bba43ac7a5eed6244af9a027fa0a0\", element=\"7ad681bb-d14f-4e56-9436-feb503c8a839\")>,\n",
       " <selenium.webdriver.remote.webelement.WebElement (session=\"826bba43ac7a5eed6244af9a027fa0a0\", element=\"2d2c0b5d-1357-43b0-a24e-53a5fa41c7ac\")>,\n",
       " <selenium.webdriver.remote.webelement.WebElement (session=\"826bba43ac7a5eed6244af9a027fa0a0\", element=\"42b0c975-7bb2-4dae-84a7-9d16bd546af4\")>,\n",
       " <selenium.webdriver.remote.webelement.WebElement (session=\"826bba43ac7a5eed6244af9a027fa0a0\", element=\"93c8ad2f-e161-4152-9274-9ccff2e0df4c\")>,\n",
       " <selenium.webdriver.remote.webelement.WebElement (session=\"826bba43ac7a5eed6244af9a027fa0a0\", element=\"be73be51-2f2f-4937-a364-c97bf036c59b\")>,\n",
       " <selenium.webdriver.remote.webelement.WebElement (session=\"826bba43ac7a5eed6244af9a027fa0a0\", element=\"6c9ae0d3-cd2b-4c36-9c6a-14bec261cb07\")>,\n",
       " <selenium.webdriver.remote.webelement.WebElement (session=\"826bba43ac7a5eed6244af9a027fa0a0\", element=\"4ec2a4bd-d526-41d7-8529-70f6ce99f29f\")>,\n",
       " <selenium.webdriver.remote.webelement.WebElement (session=\"826bba43ac7a5eed6244af9a027fa0a0\", element=\"a9e24656-7937-4b4f-893b-a487f41f2bf4\")>,\n",
       " <selenium.webdriver.remote.webelement.WebElement (session=\"826bba43ac7a5eed6244af9a027fa0a0\", element=\"1d191405-01e4-4159-9d5c-e43979176d27\")>,\n",
       " <selenium.webdriver.remote.webelement.WebElement (session=\"826bba43ac7a5eed6244af9a027fa0a0\", element=\"78d48ee4-3bc9-473b-afcf-a0c774b752d2\")>,\n",
       " <selenium.webdriver.remote.webelement.WebElement (session=\"826bba43ac7a5eed6244af9a027fa0a0\", element=\"ee3973de-459f-4653-95c9-bfad2cdb3fcd\")>,\n",
       " <selenium.webdriver.remote.webelement.WebElement (session=\"826bba43ac7a5eed6244af9a027fa0a0\", element=\"b0496f08-15df-4249-a760-eb5421b9ad36\")>,\n",
       " <selenium.webdriver.remote.webelement.WebElement (session=\"826bba43ac7a5eed6244af9a027fa0a0\", element=\"1b33402d-4164-4cc4-977e-55cc0fd7b60a\")>,\n",
       " <selenium.webdriver.remote.webelement.WebElement (session=\"826bba43ac7a5eed6244af9a027fa0a0\", element=\"f2c4c11b-f188-42b2-b5b6-6d11936e4980\")>,\n",
       " <selenium.webdriver.remote.webelement.WebElement (session=\"826bba43ac7a5eed6244af9a027fa0a0\", element=\"1f820458-1e34-43f9-b268-3b999d841e7c\")>,\n",
       " <selenium.webdriver.remote.webelement.WebElement (session=\"826bba43ac7a5eed6244af9a027fa0a0\", element=\"95c6704d-f5fe-4aaa-ba32-292394be4c0a\")>,\n",
       " <selenium.webdriver.remote.webelement.WebElement (session=\"826bba43ac7a5eed6244af9a027fa0a0\", element=\"c8d352a6-07e5-45a1-9821-4ece279f413b\")>,\n",
       " <selenium.webdriver.remote.webelement.WebElement (session=\"826bba43ac7a5eed6244af9a027fa0a0\", element=\"40b0e5e1-3fed-4f1b-9a62-f6abc7de4c96\")>,\n",
       " <selenium.webdriver.remote.webelement.WebElement (session=\"826bba43ac7a5eed6244af9a027fa0a0\", element=\"321cb43d-ed05-4edf-8d51-61f0391dfc4a\")>,\n",
       " <selenium.webdriver.remote.webelement.WebElement (session=\"826bba43ac7a5eed6244af9a027fa0a0\", element=\"75eed6a4-6217-4367-a3fe-7321fb240915\")>,\n",
       " <selenium.webdriver.remote.webelement.WebElement (session=\"826bba43ac7a5eed6244af9a027fa0a0\", element=\"9862bda9-304e-4f18-8b18-98247913a39d\")>,\n",
       " <selenium.webdriver.remote.webelement.WebElement (session=\"826bba43ac7a5eed6244af9a027fa0a0\", element=\"b60da373-a814-4273-a03f-f4b0ef980ea2\")>,\n",
       " <selenium.webdriver.remote.webelement.WebElement (session=\"826bba43ac7a5eed6244af9a027fa0a0\", element=\"ec2a8dfd-529e-45ea-af34-5f93f932557d\")>,\n",
       " <selenium.webdriver.remote.webelement.WebElement (session=\"826bba43ac7a5eed6244af9a027fa0a0\", element=\"831b953d-aa77-4c42-ad0c-7ebff0ad6cbe\")>,\n",
       " <selenium.webdriver.remote.webelement.WebElement (session=\"826bba43ac7a5eed6244af9a027fa0a0\", element=\"6595f3b6-31e2-4dfd-927a-5297d6d8cced\")>,\n",
       " <selenium.webdriver.remote.webelement.WebElement (session=\"826bba43ac7a5eed6244af9a027fa0a0\", element=\"10e2cbd5-45fb-4a0e-b9c5-48176d73d9e1\")>,\n",
       " <selenium.webdriver.remote.webelement.WebElement (session=\"826bba43ac7a5eed6244af9a027fa0a0\", element=\"e162517b-86a0-40d5-8bc2-700fd00392b8\")>,\n",
       " <selenium.webdriver.remote.webelement.WebElement (session=\"826bba43ac7a5eed6244af9a027fa0a0\", element=\"f7aea5c9-a66b-4590-b237-e62cb3df466d\")>,\n",
       " <selenium.webdriver.remote.webelement.WebElement (session=\"826bba43ac7a5eed6244af9a027fa0a0\", element=\"debbc75e-23f5-4c1a-ba1d-287517a15579\")>,\n",
       " <selenium.webdriver.remote.webelement.WebElement (session=\"826bba43ac7a5eed6244af9a027fa0a0\", element=\"3285f387-3553-430e-81cb-88bf50cf557e\")>,\n",
       " <selenium.webdriver.remote.webelement.WebElement (session=\"826bba43ac7a5eed6244af9a027fa0a0\", element=\"3dc1a7b3-47d2-4a67-87d7-50fd230a6c1a\")>,\n",
       " <selenium.webdriver.remote.webelement.WebElement (session=\"826bba43ac7a5eed6244af9a027fa0a0\", element=\"0c545d40-fa17-4f58-be62-508f5cb01095\")>,\n",
       " <selenium.webdriver.remote.webelement.WebElement (session=\"826bba43ac7a5eed6244af9a027fa0a0\", element=\"0437ab31-d5a6-4353-9f8e-75ce67a99692\")>,\n",
       " <selenium.webdriver.remote.webelement.WebElement (session=\"826bba43ac7a5eed6244af9a027fa0a0\", element=\"e2b9beda-5571-46a0-a1ed-0a494ffe3aa9\")>,\n",
       " <selenium.webdriver.remote.webelement.WebElement (session=\"826bba43ac7a5eed6244af9a027fa0a0\", element=\"11c40d41-7c46-40e6-84ec-832bcdb3034a\")>,\n",
       " <selenium.webdriver.remote.webelement.WebElement (session=\"826bba43ac7a5eed6244af9a027fa0a0\", element=\"9a59ecdc-47e1-4419-aebb-bd0a82c182db\")>,\n",
       " <selenium.webdriver.remote.webelement.WebElement (session=\"826bba43ac7a5eed6244af9a027fa0a0\", element=\"6d3d7132-8888-41c2-b2f2-8f59e1810baf\")>,\n",
       " <selenium.webdriver.remote.webelement.WebElement (session=\"826bba43ac7a5eed6244af9a027fa0a0\", element=\"3b96a4c2-1586-499b-81be-e3cb7c13a31a\")>,\n",
       " <selenium.webdriver.remote.webelement.WebElement (session=\"826bba43ac7a5eed6244af9a027fa0a0\", element=\"3cba5c23-29b6-4c00-b336-2c7d8333e88c\")>,\n",
       " <selenium.webdriver.remote.webelement.WebElement (session=\"826bba43ac7a5eed6244af9a027fa0a0\", element=\"0d95c4b0-0ff2-4dcc-a620-46230b7ba902\")>,\n",
       " <selenium.webdriver.remote.webelement.WebElement (session=\"826bba43ac7a5eed6244af9a027fa0a0\", element=\"cfc9bf36-02ed-45c7-a4a1-337a151fb99a\")>,\n",
       " <selenium.webdriver.remote.webelement.WebElement (session=\"826bba43ac7a5eed6244af9a027fa0a0\", element=\"46f1c550-4c43-47e5-b4d9-d6a072c6309f\")>,\n",
       " <selenium.webdriver.remote.webelement.WebElement (session=\"826bba43ac7a5eed6244af9a027fa0a0\", element=\"ab113a3b-bdd4-4bd6-8a19-030798d30ee6\")>,\n",
       " <selenium.webdriver.remote.webelement.WebElement (session=\"826bba43ac7a5eed6244af9a027fa0a0\", element=\"4cc414ba-d704-4a76-a512-3970d4e8948c\")>,\n",
       " <selenium.webdriver.remote.webelement.WebElement (session=\"826bba43ac7a5eed6244af9a027fa0a0\", element=\"dd72e55e-8aee-4492-a0a1-c723bae7d356\")>,\n",
       " <selenium.webdriver.remote.webelement.WebElement (session=\"826bba43ac7a5eed6244af9a027fa0a0\", element=\"f3ae9723-2143-42e1-9826-34fdaffbace7\")>,\n",
       " <selenium.webdriver.remote.webelement.WebElement (session=\"826bba43ac7a5eed6244af9a027fa0a0\", element=\"f852ae5d-e03d-4b5c-9ee4-198af11eebda\")>,\n",
       " <selenium.webdriver.remote.webelement.WebElement (session=\"826bba43ac7a5eed6244af9a027fa0a0\", element=\"4ab9e11a-6483-4aaf-895c-894826a6febb\")>,\n",
       " <selenium.webdriver.remote.webelement.WebElement (session=\"826bba43ac7a5eed6244af9a027fa0a0\", element=\"5cfd1a31-d4bd-42c5-a3bf-3db3aa409422\")>,\n",
       " <selenium.webdriver.remote.webelement.WebElement (session=\"826bba43ac7a5eed6244af9a027fa0a0\", element=\"117c77bb-4634-4c9e-bce0-3bba757c4d88\")>,\n",
       " <selenium.webdriver.remote.webelement.WebElement (session=\"826bba43ac7a5eed6244af9a027fa0a0\", element=\"ebd29de2-a5e7-4e1c-b0a0-0ce6d96d1b20\")>,\n",
       " <selenium.webdriver.remote.webelement.WebElement (session=\"826bba43ac7a5eed6244af9a027fa0a0\", element=\"935ef95d-1b12-46ee-a81c-561d87f55a66\")>,\n",
       " <selenium.webdriver.remote.webelement.WebElement (session=\"826bba43ac7a5eed6244af9a027fa0a0\", element=\"d09fe389-6332-4385-bdf8-50322a5090bf\")>,\n",
       " <selenium.webdriver.remote.webelement.WebElement (session=\"826bba43ac7a5eed6244af9a027fa0a0\", element=\"b2d7ed23-d8b1-4580-a8a4-171fb1bfc74a\")>,\n",
       " <selenium.webdriver.remote.webelement.WebElement (session=\"826bba43ac7a5eed6244af9a027fa0a0\", element=\"6c956122-1e48-453f-b39e-aef2a2f64917\")>,\n",
       " <selenium.webdriver.remote.webelement.WebElement (session=\"826bba43ac7a5eed6244af9a027fa0a0\", element=\"9365c407-bc83-4de7-b3c9-5374a59002e2\")>,\n",
       " <selenium.webdriver.remote.webelement.WebElement (session=\"826bba43ac7a5eed6244af9a027fa0a0\", element=\"be23b537-27d3-41c7-b04f-43d062ff7179\")>,\n",
       " <selenium.webdriver.remote.webelement.WebElement (session=\"826bba43ac7a5eed6244af9a027fa0a0\", element=\"a331ffaa-e886-491e-a7bb-025cd4f0714b\")>,\n",
       " <selenium.webdriver.remote.webelement.WebElement (session=\"826bba43ac7a5eed6244af9a027fa0a0\", element=\"ece1d166-0cb1-46a6-9ab5-21bd9fa7ccb6\")>,\n",
       " <selenium.webdriver.remote.webelement.WebElement (session=\"826bba43ac7a5eed6244af9a027fa0a0\", element=\"a3a3cfd3-a274-4ded-88f3-2d6be1aa37b2\")>,\n",
       " <selenium.webdriver.remote.webelement.WebElement (session=\"826bba43ac7a5eed6244af9a027fa0a0\", element=\"7d3ef862-1eb9-42c6-b115-73673ffe969b\")>,\n",
       " <selenium.webdriver.remote.webelement.WebElement (session=\"826bba43ac7a5eed6244af9a027fa0a0\", element=\"6a62dbbe-aaa1-4082-8341-c54e405ee114\")>,\n",
       " <selenium.webdriver.remote.webelement.WebElement (session=\"826bba43ac7a5eed6244af9a027fa0a0\", element=\"0b55b350-5e4f-4c14-89e5-64b88fc4a1ea\")>,\n",
       " <selenium.webdriver.remote.webelement.WebElement (session=\"826bba43ac7a5eed6244af9a027fa0a0\", element=\"2e4b28db-ce4e-410a-aa6e-7cb2425a2e32\")>,\n",
       " <selenium.webdriver.remote.webelement.WebElement (session=\"826bba43ac7a5eed6244af9a027fa0a0\", element=\"55c38393-fb94-4b03-8d22-084e0f3a7a8b\")>,\n",
       " <selenium.webdriver.remote.webelement.WebElement (session=\"826bba43ac7a5eed6244af9a027fa0a0\", element=\"a280424b-06ec-4d96-a91d-5390142a16a1\")>,\n",
       " <selenium.webdriver.remote.webelement.WebElement (session=\"826bba43ac7a5eed6244af9a027fa0a0\", element=\"c90bf0bf-408d-4ba0-b965-28a21620793f\")>,\n",
       " <selenium.webdriver.remote.webelement.WebElement (session=\"826bba43ac7a5eed6244af9a027fa0a0\", element=\"5b9f9080-3057-424b-956b-7da63810d7a2\")>,\n",
       " <selenium.webdriver.remote.webelement.WebElement (session=\"826bba43ac7a5eed6244af9a027fa0a0\", element=\"c514743d-3acd-4e4c-b38a-cadfe21eef73\")>,\n",
       " <selenium.webdriver.remote.webelement.WebElement (session=\"826bba43ac7a5eed6244af9a027fa0a0\", element=\"b6dfbca0-2c15-4dac-8738-379c6c37d6ad\")>,\n",
       " <selenium.webdriver.remote.webelement.WebElement (session=\"826bba43ac7a5eed6244af9a027fa0a0\", element=\"8869c7d6-8c95-4b5a-bcbc-62b34d987cde\")>,\n",
       " <selenium.webdriver.remote.webelement.WebElement (session=\"826bba43ac7a5eed6244af9a027fa0a0\", element=\"f34fb52d-b39f-403a-b10e-b78628eec4b6\")>,\n",
       " <selenium.webdriver.remote.webelement.WebElement (session=\"826bba43ac7a5eed6244af9a027fa0a0\", element=\"4998339e-d404-4e6f-a188-cd80a337010e\")>,\n",
       " <selenium.webdriver.remote.webelement.WebElement (session=\"826bba43ac7a5eed6244af9a027fa0a0\", element=\"09f737ef-dd48-4ca3-97f2-c260871d1a38\")>,\n",
       " <selenium.webdriver.remote.webelement.WebElement (session=\"826bba43ac7a5eed6244af9a027fa0a0\", element=\"c06e4632-7ec0-46b4-a7b1-6c6ee82d44a2\")>,\n",
       " <selenium.webdriver.remote.webelement.WebElement (session=\"826bba43ac7a5eed6244af9a027fa0a0\", element=\"06ea153b-f0e5-47c0-a7ea-752abb2d80e7\")>,\n",
       " <selenium.webdriver.remote.webelement.WebElement (session=\"826bba43ac7a5eed6244af9a027fa0a0\", element=\"84d0106d-855a-423b-a2d5-984d5f89bc92\")>,\n",
       " <selenium.webdriver.remote.webelement.WebElement (session=\"826bba43ac7a5eed6244af9a027fa0a0\", element=\"a77ad838-6cd0-4981-9826-bb1586305ec5\")>,\n",
       " <selenium.webdriver.remote.webelement.WebElement (session=\"826bba43ac7a5eed6244af9a027fa0a0\", element=\"f0e88137-4c63-41f4-88b9-aaee9d65bad7\")>,\n",
       " <selenium.webdriver.remote.webelement.WebElement (session=\"826bba43ac7a5eed6244af9a027fa0a0\", element=\"fd33bd08-7600-4fc6-badb-66f52f6120bc\")>,\n",
       " <selenium.webdriver.remote.webelement.WebElement (session=\"826bba43ac7a5eed6244af9a027fa0a0\", element=\"1afbd092-b1e6-4f67-ba8c-b8b3bd7e4fd9\")>,\n",
       " <selenium.webdriver.remote.webelement.WebElement (session=\"826bba43ac7a5eed6244af9a027fa0a0\", element=\"56077d21-8b87-4fbf-87f4-408bafb8edc6\")>,\n",
       " <selenium.webdriver.remote.webelement.WebElement (session=\"826bba43ac7a5eed6244af9a027fa0a0\", element=\"0d83f8f0-3062-4f38-a65a-d41d470bd6db\")>,\n",
       " <selenium.webdriver.remote.webelement.WebElement (session=\"826bba43ac7a5eed6244af9a027fa0a0\", element=\"8e7ee7d3-ba80-495c-bae7-cb4d08e730b4\")>,\n",
       " <selenium.webdriver.remote.webelement.WebElement (session=\"826bba43ac7a5eed6244af9a027fa0a0\", element=\"44a7a6fa-0837-461d-99d2-52e5a13e813b\")>,\n",
       " <selenium.webdriver.remote.webelement.WebElement (session=\"826bba43ac7a5eed6244af9a027fa0a0\", element=\"78257531-2b4a-4f6e-bb4d-52e3159f31ef\")>,\n",
       " <selenium.webdriver.remote.webelement.WebElement (session=\"826bba43ac7a5eed6244af9a027fa0a0\", element=\"0b66bbf0-0541-4448-a294-b6c459eec6ed\")>,\n",
       " <selenium.webdriver.remote.webelement.WebElement (session=\"826bba43ac7a5eed6244af9a027fa0a0\", element=\"29562f73-aff0-4a3d-a85b-543bfe9d36ae\")>,\n",
       " <selenium.webdriver.remote.webelement.WebElement (session=\"826bba43ac7a5eed6244af9a027fa0a0\", element=\"3bcbfd9f-b039-40cc-893f-b2a7ebd66777\")>,\n",
       " <selenium.webdriver.remote.webelement.WebElement (session=\"826bba43ac7a5eed6244af9a027fa0a0\", element=\"e5d0a048-cd7c-4a3f-828d-b2bb894117e5\")>,\n",
       " <selenium.webdriver.remote.webelement.WebElement (session=\"826bba43ac7a5eed6244af9a027fa0a0\", element=\"68630f81-33fe-4f7f-8237-f640a97aa00e\")>,\n",
       " <selenium.webdriver.remote.webelement.WebElement (session=\"826bba43ac7a5eed6244af9a027fa0a0\", element=\"95ba484b-5d22-4260-873c-9a22227eaa0a\")>,\n",
       " <selenium.webdriver.remote.webelement.WebElement (session=\"826bba43ac7a5eed6244af9a027fa0a0\", element=\"4d457d29-51b7-4f29-a71d-fedd7feb056f\")>,\n",
       " <selenium.webdriver.remote.webelement.WebElement (session=\"826bba43ac7a5eed6244af9a027fa0a0\", element=\"8243b946-2b6b-4fd7-a2b3-2164df2fc200\")>,\n",
       " <selenium.webdriver.remote.webelement.WebElement (session=\"826bba43ac7a5eed6244af9a027fa0a0\", element=\"9587c6c4-86de-465a-a3e1-403c9027b3b8\")>,\n",
       " <selenium.webdriver.remote.webelement.WebElement (session=\"826bba43ac7a5eed6244af9a027fa0a0\", element=\"15dbbf6f-0c18-472b-bc26-6d2bb5de2c91\")>,\n",
       " <selenium.webdriver.remote.webelement.WebElement (session=\"826bba43ac7a5eed6244af9a027fa0a0\", element=\"456630b5-f171-4295-baa1-a7b4585f6b58\")>,\n",
       " <selenium.webdriver.remote.webelement.WebElement (session=\"826bba43ac7a5eed6244af9a027fa0a0\", element=\"fc7780fa-5a96-48c8-8093-ff08c3bc591c\")>,\n",
       " <selenium.webdriver.remote.webelement.WebElement (session=\"826bba43ac7a5eed6244af9a027fa0a0\", element=\"3d20baaf-ad28-4f87-b5b3-60f19e2fc302\")>,\n",
       " <selenium.webdriver.remote.webelement.WebElement (session=\"826bba43ac7a5eed6244af9a027fa0a0\", element=\"da284793-763e-407b-a29d-f09ab45f2367\")>,\n",
       " <selenium.webdriver.remote.webelement.WebElement (session=\"826bba43ac7a5eed6244af9a027fa0a0\", element=\"12595099-afc1-48ec-87fe-152f74ca4db6\")>,\n",
       " <selenium.webdriver.remote.webelement.WebElement (session=\"826bba43ac7a5eed6244af9a027fa0a0\", element=\"5f0042c7-bb8b-47e1-bb91-229b5128e151\")>,\n",
       " <selenium.webdriver.remote.webelement.WebElement (session=\"826bba43ac7a5eed6244af9a027fa0a0\", element=\"5a8a7202-f6cf-425b-ba66-310b65899414\")>,\n",
       " <selenium.webdriver.remote.webelement.WebElement (session=\"826bba43ac7a5eed6244af9a027fa0a0\", element=\"91a9ce6c-ca4d-4a88-80a6-29fb6d959f53\")>,\n",
       " <selenium.webdriver.remote.webelement.WebElement (session=\"826bba43ac7a5eed6244af9a027fa0a0\", element=\"aed0aa05-6a54-4c3c-b6a6-56215d097f05\")>,\n",
       " <selenium.webdriver.remote.webelement.WebElement (session=\"826bba43ac7a5eed6244af9a027fa0a0\", element=\"e422f6ca-1eca-4be5-b13e-cad447077702\")>,\n",
       " <selenium.webdriver.remote.webelement.WebElement (session=\"826bba43ac7a5eed6244af9a027fa0a0\", element=\"ba7e172b-5ff4-491a-b2ae-c37bce8b89a4\")>,\n",
       " <selenium.webdriver.remote.webelement.WebElement (session=\"826bba43ac7a5eed6244af9a027fa0a0\", element=\"04e453db-231c-4d77-a906-a8afc6551e1e\")>,\n",
       " <selenium.webdriver.remote.webelement.WebElement (session=\"826bba43ac7a5eed6244af9a027fa0a0\", element=\"bf65d944-fe3c-4bec-a70c-126f2ae6fbb5\")>,\n",
       " <selenium.webdriver.remote.webelement.WebElement (session=\"826bba43ac7a5eed6244af9a027fa0a0\", element=\"6dbd42b4-03e0-43f8-a011-c246bf4306cf\")>,\n",
       " <selenium.webdriver.remote.webelement.WebElement (session=\"826bba43ac7a5eed6244af9a027fa0a0\", element=\"bcec40eb-e1cd-46a1-b991-f934d2f847b4\")>,\n",
       " <selenium.webdriver.remote.webelement.WebElement (session=\"826bba43ac7a5eed6244af9a027fa0a0\", element=\"1026b8fe-081b-41b6-8b7c-df406cfcfdb3\")>,\n",
       " <selenium.webdriver.remote.webelement.WebElement (session=\"826bba43ac7a5eed6244af9a027fa0a0\", element=\"123c6a00-b188-40c8-a521-29bbe5c471ab\")>,\n",
       " <selenium.webdriver.remote.webelement.WebElement (session=\"826bba43ac7a5eed6244af9a027fa0a0\", element=\"7972eba8-c6c1-4af2-a823-771e989dd9af\")>,\n",
       " <selenium.webdriver.remote.webelement.WebElement (session=\"826bba43ac7a5eed6244af9a027fa0a0\", element=\"0e9c5307-f5c4-428e-9931-44906abc4c0f\")>,\n",
       " <selenium.webdriver.remote.webelement.WebElement (session=\"826bba43ac7a5eed6244af9a027fa0a0\", element=\"7f51425c-36f9-4916-8b47-25bf4b9e966c\")>,\n",
       " <selenium.webdriver.remote.webelement.WebElement (session=\"826bba43ac7a5eed6244af9a027fa0a0\", element=\"608e591d-9fda-434f-b521-961905e789c3\")>,\n",
       " <selenium.webdriver.remote.webelement.WebElement (session=\"826bba43ac7a5eed6244af9a027fa0a0\", element=\"7a2a674b-42b3-4117-ae46-03a0345e24ca\")>,\n",
       " <selenium.webdriver.remote.webelement.WebElement (session=\"826bba43ac7a5eed6244af9a027fa0a0\", element=\"5ed14363-305b-44e8-b3e5-26680e5fea6c\")>,\n",
       " <selenium.webdriver.remote.webelement.WebElement (session=\"826bba43ac7a5eed6244af9a027fa0a0\", element=\"71d042e4-53a8-4911-b075-350f919f29b4\")>,\n",
       " <selenium.webdriver.remote.webelement.WebElement (session=\"826bba43ac7a5eed6244af9a027fa0a0\", element=\"5740d935-c0fb-45e7-a5f6-4affc3565a6c\")>,\n",
       " <selenium.webdriver.remote.webelement.WebElement (session=\"826bba43ac7a5eed6244af9a027fa0a0\", element=\"bc26f468-ea85-4703-8016-7b61461732e9\")>,\n",
       " <selenium.webdriver.remote.webelement.WebElement (session=\"826bba43ac7a5eed6244af9a027fa0a0\", element=\"7353fa14-ed69-4e0c-86a4-af1e2b78f71d\")>,\n",
       " <selenium.webdriver.remote.webelement.WebElement (session=\"826bba43ac7a5eed6244af9a027fa0a0\", element=\"ec27da67-49ba-443e-82c2-4b738b15e1b7\")>,\n",
       " <selenium.webdriver.remote.webelement.WebElement (session=\"826bba43ac7a5eed6244af9a027fa0a0\", element=\"b1f30f76-b905-4c90-835b-0b97b1a4b0b5\")>,\n",
       " <selenium.webdriver.remote.webelement.WebElement (session=\"826bba43ac7a5eed6244af9a027fa0a0\", element=\"67a52c15-2f4e-45f7-909e-793971ee73dd\")>,\n",
       " <selenium.webdriver.remote.webelement.WebElement (session=\"826bba43ac7a5eed6244af9a027fa0a0\", element=\"36907580-9270-47fa-8ce8-d9aea648e22a\")>,\n",
       " <selenium.webdriver.remote.webelement.WebElement (session=\"826bba43ac7a5eed6244af9a027fa0a0\", element=\"da86d914-6c02-42a2-a662-c58efecca690\")>,\n",
       " <selenium.webdriver.remote.webelement.WebElement (session=\"826bba43ac7a5eed6244af9a027fa0a0\", element=\"e1436652-cff8-4a9e-99c5-d302b9ba4f94\")>,\n",
       " <selenium.webdriver.remote.webelement.WebElement (session=\"826bba43ac7a5eed6244af9a027fa0a0\", element=\"b4209cb1-4d5e-4efd-a6fc-f50b192d9188\")>,\n",
       " <selenium.webdriver.remote.webelement.WebElement (session=\"826bba43ac7a5eed6244af9a027fa0a0\", element=\"5873f27f-b3a7-4ab3-8096-4005cfc47b64\")>,\n",
       " <selenium.webdriver.remote.webelement.WebElement (session=\"826bba43ac7a5eed6244af9a027fa0a0\", element=\"1248b4c9-490c-4f1a-9e64-960e07889a4a\")>,\n",
       " <selenium.webdriver.remote.webelement.WebElement (session=\"826bba43ac7a5eed6244af9a027fa0a0\", element=\"7d71f355-f0e8-4740-925b-998fea55f0d8\")>,\n",
       " <selenium.webdriver.remote.webelement.WebElement (session=\"826bba43ac7a5eed6244af9a027fa0a0\", element=\"97cacb3b-90c5-4727-b1ab-621068e4eb5e\")>,\n",
       " <selenium.webdriver.remote.webelement.WebElement (session=\"826bba43ac7a5eed6244af9a027fa0a0\", element=\"c612a423-d7f3-445a-a960-cadd2862dbe6\")>,\n",
       " <selenium.webdriver.remote.webelement.WebElement (session=\"826bba43ac7a5eed6244af9a027fa0a0\", element=\"4d75774c-32d6-43d6-8f63-0dceed36c9a7\")>,\n",
       " <selenium.webdriver.remote.webelement.WebElement (session=\"826bba43ac7a5eed6244af9a027fa0a0\", element=\"6b458ff3-8df4-42f6-a80b-fc34f5777631\")>,\n",
       " <selenium.webdriver.remote.webelement.WebElement (session=\"826bba43ac7a5eed6244af9a027fa0a0\", element=\"f141fc67-6982-4867-aa2d-0534ada93e21\")>,\n",
       " <selenium.webdriver.remote.webelement.WebElement (session=\"826bba43ac7a5eed6244af9a027fa0a0\", element=\"8a3c4af0-7993-4f06-9282-9add4d44d67e\")>,\n",
       " <selenium.webdriver.remote.webelement.WebElement (session=\"826bba43ac7a5eed6244af9a027fa0a0\", element=\"d3a97635-82b3-4881-b9e7-d7b9c8e0e0d6\")>,\n",
       " <selenium.webdriver.remote.webelement.WebElement (session=\"826bba43ac7a5eed6244af9a027fa0a0\", element=\"266cb4d9-4789-4e37-8559-4e00676e2f80\")>,\n",
       " <selenium.webdriver.remote.webelement.WebElement (session=\"826bba43ac7a5eed6244af9a027fa0a0\", element=\"80b958c8-05cf-41ca-96d0-5aa4592ef237\")>,\n",
       " <selenium.webdriver.remote.webelement.WebElement (session=\"826bba43ac7a5eed6244af9a027fa0a0\", element=\"ffd3c92c-0be8-4637-b0b5-1a4533b7a608\")>,\n",
       " <selenium.webdriver.remote.webelement.WebElement (session=\"826bba43ac7a5eed6244af9a027fa0a0\", element=\"9eae6630-b395-4ef7-bda4-05e85ccd4968\")>,\n",
       " <selenium.webdriver.remote.webelement.WebElement (session=\"826bba43ac7a5eed6244af9a027fa0a0\", element=\"7be5a373-3642-471b-9289-bff3610b8415\")>,\n",
       " <selenium.webdriver.remote.webelement.WebElement (session=\"826bba43ac7a5eed6244af9a027fa0a0\", element=\"72603ac2-e419-43ff-82b9-3ac0f8aeeb08\")>,\n",
       " <selenium.webdriver.remote.webelement.WebElement (session=\"826bba43ac7a5eed6244af9a027fa0a0\", element=\"cf0fb5cd-a6ed-43fc-bdf1-5267baedeef1\")>,\n",
       " <selenium.webdriver.remote.webelement.WebElement (session=\"826bba43ac7a5eed6244af9a027fa0a0\", element=\"3d776ab8-9a67-4246-8cb8-5dc0663f0b70\")>,\n",
       " <selenium.webdriver.remote.webelement.WebElement (session=\"826bba43ac7a5eed6244af9a027fa0a0\", element=\"4bb39c4a-8ff7-414a-8eeb-fed55910f166\")>,\n",
       " <selenium.webdriver.remote.webelement.WebElement (session=\"826bba43ac7a5eed6244af9a027fa0a0\", element=\"7a306a96-359e-4c1c-bf60-a679b9ee0fbf\")>,\n",
       " <selenium.webdriver.remote.webelement.WebElement (session=\"826bba43ac7a5eed6244af9a027fa0a0\", element=\"f45cfbd0-e8fa-4a13-8f15-8082b4a6cd2a\")>,\n",
       " <selenium.webdriver.remote.webelement.WebElement (session=\"826bba43ac7a5eed6244af9a027fa0a0\", element=\"c4dc1e0e-1a7e-438b-9b6b-03e4c9c91255\")>,\n",
       " <selenium.webdriver.remote.webelement.WebElement (session=\"826bba43ac7a5eed6244af9a027fa0a0\", element=\"990e0ecb-74fc-4cf8-bdeb-4599a3ff730d\")>,\n",
       " <selenium.webdriver.remote.webelement.WebElement (session=\"826bba43ac7a5eed6244af9a027fa0a0\", element=\"e109a620-5244-4478-bef5-0c03a184be91\")>,\n",
       " <selenium.webdriver.remote.webelement.WebElement (session=\"826bba43ac7a5eed6244af9a027fa0a0\", element=\"3675402c-20f6-4427-ba70-2d3e65f2c68b\")>,\n",
       " <selenium.webdriver.remote.webelement.WebElement (session=\"826bba43ac7a5eed6244af9a027fa0a0\", element=\"d9375dcf-cc39-4bc8-bb9e-70fc304b220a\")>,\n",
       " <selenium.webdriver.remote.webelement.WebElement (session=\"826bba43ac7a5eed6244af9a027fa0a0\", element=\"db0ff2c2-d57b-4dec-941a-e6b81e09d76f\")>,\n",
       " <selenium.webdriver.remote.webelement.WebElement (session=\"826bba43ac7a5eed6244af9a027fa0a0\", element=\"e550f0dd-b928-4089-b32a-68a8c5f4af0d\")>,\n",
       " <selenium.webdriver.remote.webelement.WebElement (session=\"826bba43ac7a5eed6244af9a027fa0a0\", element=\"6c566c6d-a987-4d94-9ab0-eb7b639818a1\")>,\n",
       " <selenium.webdriver.remote.webelement.WebElement (session=\"826bba43ac7a5eed6244af9a027fa0a0\", element=\"507b5dbf-8a81-43b4-b155-4b34c31c7654\")>,\n",
       " <selenium.webdriver.remote.webelement.WebElement (session=\"826bba43ac7a5eed6244af9a027fa0a0\", element=\"2be035e9-6adf-40de-8639-0851bbd41057\")>,\n",
       " <selenium.webdriver.remote.webelement.WebElement (session=\"826bba43ac7a5eed6244af9a027fa0a0\", element=\"d4dea57b-6791-466a-bb10-67bc9487c1c3\")>,\n",
       " <selenium.webdriver.remote.webelement.WebElement (session=\"826bba43ac7a5eed6244af9a027fa0a0\", element=\"d46bdf85-b111-47ce-8e45-78d808782a5b\")>,\n",
       " <selenium.webdriver.remote.webelement.WebElement (session=\"826bba43ac7a5eed6244af9a027fa0a0\", element=\"14cb1356-a057-4b7e-91f8-2bfbf9bf1977\")>,\n",
       " <selenium.webdriver.remote.webelement.WebElement (session=\"826bba43ac7a5eed6244af9a027fa0a0\", element=\"10a9c53c-3d06-4e22-a562-e3f26c7b667f\")>,\n",
       " <selenium.webdriver.remote.webelement.WebElement (session=\"826bba43ac7a5eed6244af9a027fa0a0\", element=\"7b50b62c-be7b-4ce8-9c4d-83804545dc59\")>,\n",
       " <selenium.webdriver.remote.webelement.WebElement (session=\"826bba43ac7a5eed6244af9a027fa0a0\", element=\"aebcc7b4-d0b1-40ea-be6b-45db97474c93\")>,\n",
       " <selenium.webdriver.remote.webelement.WebElement (session=\"826bba43ac7a5eed6244af9a027fa0a0\", element=\"808deee4-a32e-4b49-b88a-80b7f94cd482\")>,\n",
       " <selenium.webdriver.remote.webelement.WebElement (session=\"826bba43ac7a5eed6244af9a027fa0a0\", element=\"4229fa94-b147-443d-88c6-156becbc5d30\")>,\n",
       " <selenium.webdriver.remote.webelement.WebElement (session=\"826bba43ac7a5eed6244af9a027fa0a0\", element=\"53e377f4-fc0b-4793-b6e5-375657a88cad\")>,\n",
       " <selenium.webdriver.remote.webelement.WebElement (session=\"826bba43ac7a5eed6244af9a027fa0a0\", element=\"df6fb4a7-1259-40a9-83f0-f33fe774849f\")>,\n",
       " <selenium.webdriver.remote.webelement.WebElement (session=\"826bba43ac7a5eed6244af9a027fa0a0\", element=\"8c96a746-0753-4a7c-84dc-50a315d0e082\")>,\n",
       " <selenium.webdriver.remote.webelement.WebElement (session=\"826bba43ac7a5eed6244af9a027fa0a0\", element=\"c951f45c-a577-4b39-8049-86e612b68d36\")>,\n",
       " <selenium.webdriver.remote.webelement.WebElement (session=\"826bba43ac7a5eed6244af9a027fa0a0\", element=\"bf74da75-1674-4b90-8874-7d24e8626084\")>,\n",
       " <selenium.webdriver.remote.webelement.WebElement (session=\"826bba43ac7a5eed6244af9a027fa0a0\", element=\"f6f0862a-b8ea-40c5-8d8a-a9a5f1850d53\")>,\n",
       " <selenium.webdriver.remote.webelement.WebElement (session=\"826bba43ac7a5eed6244af9a027fa0a0\", element=\"0cf68565-e1a2-4ec8-966f-ba91a6eaf9e2\")>,\n",
       " <selenium.webdriver.remote.webelement.WebElement (session=\"826bba43ac7a5eed6244af9a027fa0a0\", element=\"8fbb3790-02fe-454a-9a80-53ee4386d134\")>,\n",
       " <selenium.webdriver.remote.webelement.WebElement (session=\"826bba43ac7a5eed6244af9a027fa0a0\", element=\"85e2b3ec-8512-4cc6-9b4e-c4625acc2b00\")>,\n",
       " <selenium.webdriver.remote.webelement.WebElement (session=\"826bba43ac7a5eed6244af9a027fa0a0\", element=\"9538aa2c-6e85-4667-bfeb-9c06d3e81230\")>,\n",
       " <selenium.webdriver.remote.webelement.WebElement (session=\"826bba43ac7a5eed6244af9a027fa0a0\", element=\"6eb38298-1ff7-4bd2-87b9-3a622d5c45e3\")>,\n",
       " <selenium.webdriver.remote.webelement.WebElement (session=\"826bba43ac7a5eed6244af9a027fa0a0\", element=\"e65e5722-8ba4-4801-b48b-8d0760a82378\")>,\n",
       " <selenium.webdriver.remote.webelement.WebElement (session=\"826bba43ac7a5eed6244af9a027fa0a0\", element=\"25b7a1e5-d355-4515-9cf8-d015952d366d\")>,\n",
       " <selenium.webdriver.remote.webelement.WebElement (session=\"826bba43ac7a5eed6244af9a027fa0a0\", element=\"81e9b497-eb84-4b1a-ad5e-16528bb63581\")>,\n",
       " <selenium.webdriver.remote.webelement.WebElement (session=\"826bba43ac7a5eed6244af9a027fa0a0\", element=\"62edb810-9f27-4789-a56e-7abba95feeb6\")>,\n",
       " <selenium.webdriver.remote.webelement.WebElement (session=\"826bba43ac7a5eed6244af9a027fa0a0\", element=\"df2f4ff2-79f9-4703-af88-19d7d9b14b90\")>,\n",
       " <selenium.webdriver.remote.webelement.WebElement (session=\"826bba43ac7a5eed6244af9a027fa0a0\", element=\"b0f4f6c7-f55b-4c86-b9f4-d1c8ac623b9c\")>,\n",
       " <selenium.webdriver.remote.webelement.WebElement (session=\"826bba43ac7a5eed6244af9a027fa0a0\", element=\"8934341e-81eb-47c6-84d8-3b396bf47d67\")>,\n",
       " <selenium.webdriver.remote.webelement.WebElement (session=\"826bba43ac7a5eed6244af9a027fa0a0\", element=\"8c4603bb-fb38-4cb4-a968-a08c7808a849\")>,\n",
       " <selenium.webdriver.remote.webelement.WebElement (session=\"826bba43ac7a5eed6244af9a027fa0a0\", element=\"8988c2f3-42de-41c2-87db-3e0f62131569\")>,\n",
       " <selenium.webdriver.remote.webelement.WebElement (session=\"826bba43ac7a5eed6244af9a027fa0a0\", element=\"eb2c7ff2-8c84-4124-8188-959eef9ca828\")>,\n",
       " <selenium.webdriver.remote.webelement.WebElement (session=\"826bba43ac7a5eed6244af9a027fa0a0\", element=\"52c2c8fc-c705-44dc-b76f-6764e45b3fa6\")>,\n",
       " <selenium.webdriver.remote.webelement.WebElement (session=\"826bba43ac7a5eed6244af9a027fa0a0\", element=\"0d2f2c79-4c77-4e43-994a-05be691ef8f2\")>,\n",
       " <selenium.webdriver.remote.webelement.WebElement (session=\"826bba43ac7a5eed6244af9a027fa0a0\", element=\"847a320a-e63e-4e50-9a26-331df5bee467\")>,\n",
       " <selenium.webdriver.remote.webelement.WebElement (session=\"826bba43ac7a5eed6244af9a027fa0a0\", element=\"0701d8cf-33c2-4435-ba10-e4105b644973\")>,\n",
       " <selenium.webdriver.remote.webelement.WebElement (session=\"826bba43ac7a5eed6244af9a027fa0a0\", element=\"6fd4c3b1-fa71-45f0-8627-49e3e0333fbb\")>,\n",
       " <selenium.webdriver.remote.webelement.WebElement (session=\"826bba43ac7a5eed6244af9a027fa0a0\", element=\"5c02af68-a49f-4a7f-9f6a-ae6155b047f2\")>,\n",
       " <selenium.webdriver.remote.webelement.WebElement (session=\"826bba43ac7a5eed6244af9a027fa0a0\", element=\"a6691b66-4f4a-42fc-b81d-592c7f8613a4\")>,\n",
       " <selenium.webdriver.remote.webelement.WebElement (session=\"826bba43ac7a5eed6244af9a027fa0a0\", element=\"034a1ebc-7c69-44c2-bc7d-9fcbe806d942\")>,\n",
       " <selenium.webdriver.remote.webelement.WebElement (session=\"826bba43ac7a5eed6244af9a027fa0a0\", element=\"4c6c6971-9235-4251-a5ac-8562310eb09b\")>,\n",
       " <selenium.webdriver.remote.webelement.WebElement (session=\"826bba43ac7a5eed6244af9a027fa0a0\", element=\"a0f3f9c7-0544-4dfe-b24f-5a5000426eb6\")>,\n",
       " <selenium.webdriver.remote.webelement.WebElement (session=\"826bba43ac7a5eed6244af9a027fa0a0\", element=\"930d15ac-1011-4be9-802e-ab6523608ca7\")>,\n",
       " <selenium.webdriver.remote.webelement.WebElement (session=\"826bba43ac7a5eed6244af9a027fa0a0\", element=\"9496e6ed-3490-4672-b759-d79780265fbb\")>,\n",
       " <selenium.webdriver.remote.webelement.WebElement (session=\"826bba43ac7a5eed6244af9a027fa0a0\", element=\"6c885337-ff45-44f0-acfd-87461314b16b\")>,\n",
       " <selenium.webdriver.remote.webelement.WebElement (session=\"826bba43ac7a5eed6244af9a027fa0a0\", element=\"b33103a4-dac2-48b7-8260-ff2fba6d2182\")>,\n",
       " <selenium.webdriver.remote.webelement.WebElement (session=\"826bba43ac7a5eed6244af9a027fa0a0\", element=\"b7340247-51da-4283-996e-1852aec6c650\")>,\n",
       " <selenium.webdriver.remote.webelement.WebElement (session=\"826bba43ac7a5eed6244af9a027fa0a0\", element=\"18f57c26-380c-4812-9049-b9ec5ad060a2\")>,\n",
       " <selenium.webdriver.remote.webelement.WebElement (session=\"826bba43ac7a5eed6244af9a027fa0a0\", element=\"ce1b123d-cd60-4f83-a4ad-275fb4fa774b\")>,\n",
       " <selenium.webdriver.remote.webelement.WebElement (session=\"826bba43ac7a5eed6244af9a027fa0a0\", element=\"f3cbcd54-9244-49ef-8fe0-a97c8f997d2a\")>,\n",
       " <selenium.webdriver.remote.webelement.WebElement (session=\"826bba43ac7a5eed6244af9a027fa0a0\", element=\"687c3b79-c85f-495f-8f74-346375ff74ef\")>,\n",
       " <selenium.webdriver.remote.webelement.WebElement (session=\"826bba43ac7a5eed6244af9a027fa0a0\", element=\"03c1c312-12e8-42e3-ba9f-239e516566ba\")>,\n",
       " <selenium.webdriver.remote.webelement.WebElement (session=\"826bba43ac7a5eed6244af9a027fa0a0\", element=\"7fa76742-8327-409b-9b2c-060d84187bdf\")>,\n",
       " <selenium.webdriver.remote.webelement.WebElement (session=\"826bba43ac7a5eed6244af9a027fa0a0\", element=\"1e590bb8-eb6b-4e1f-89d1-b9e78d8055c0\")>,\n",
       " <selenium.webdriver.remote.webelement.WebElement (session=\"826bba43ac7a5eed6244af9a027fa0a0\", element=\"1ce2d940-b0a6-4c87-87c1-53fcff0f2c01\")>,\n",
       " <selenium.webdriver.remote.webelement.WebElement (session=\"826bba43ac7a5eed6244af9a027fa0a0\", element=\"83a5384d-2d4f-4bcc-abf3-aad6af0ab2b0\")>,\n",
       " <selenium.webdriver.remote.webelement.WebElement (session=\"826bba43ac7a5eed6244af9a027fa0a0\", element=\"b05f898b-1bcd-44a8-b5bf-dcc079377b60\")>,\n",
       " <selenium.webdriver.remote.webelement.WebElement (session=\"826bba43ac7a5eed6244af9a027fa0a0\", element=\"331d4f7d-c22a-4db0-92b4-aca56431fc7a\")>,\n",
       " <selenium.webdriver.remote.webelement.WebElement (session=\"826bba43ac7a5eed6244af9a027fa0a0\", element=\"827eecd4-a76c-4ec2-8d0b-349ccb23e559\")>,\n",
       " <selenium.webdriver.remote.webelement.WebElement (session=\"826bba43ac7a5eed6244af9a027fa0a0\", element=\"6da010dd-0f13-437f-9ea2-c95c300c50d9\")>,\n",
       " <selenium.webdriver.remote.webelement.WebElement (session=\"826bba43ac7a5eed6244af9a027fa0a0\", element=\"11a128f1-f176-40d4-abb1-d9299cd71174\")>,\n",
       " <selenium.webdriver.remote.webelement.WebElement (session=\"826bba43ac7a5eed6244af9a027fa0a0\", element=\"b0d31b2f-bbee-49dd-8b5e-7a6007cffd5e\")>,\n",
       " <selenium.webdriver.remote.webelement.WebElement (session=\"826bba43ac7a5eed6244af9a027fa0a0\", element=\"99fc5e6e-ff22-4244-86fb-4c4754d497c7\")>,\n",
       " <selenium.webdriver.remote.webelement.WebElement (session=\"826bba43ac7a5eed6244af9a027fa0a0\", element=\"56170bf4-39c6-499f-8fd1-36e8ad6fd713\")>,\n",
       " <selenium.webdriver.remote.webelement.WebElement (session=\"826bba43ac7a5eed6244af9a027fa0a0\", element=\"66c4f566-b830-4344-8cb4-86e02a704739\")>,\n",
       " <selenium.webdriver.remote.webelement.WebElement (session=\"826bba43ac7a5eed6244af9a027fa0a0\", element=\"ddec51f7-522d-4784-b9e5-b147350e645a\")>,\n",
       " <selenium.webdriver.remote.webelement.WebElement (session=\"826bba43ac7a5eed6244af9a027fa0a0\", element=\"385c6ade-d052-4e9a-9d08-1537d7d896c1\")>,\n",
       " <selenium.webdriver.remote.webelement.WebElement (session=\"826bba43ac7a5eed6244af9a027fa0a0\", element=\"56b24d9a-d1b5-4345-befa-25a6986f6f78\")>,\n",
       " <selenium.webdriver.remote.webelement.WebElement (session=\"826bba43ac7a5eed6244af9a027fa0a0\", element=\"26d06e01-8b6c-4afd-a866-508f32e019a0\")>,\n",
       " <selenium.webdriver.remote.webelement.WebElement (session=\"826bba43ac7a5eed6244af9a027fa0a0\", element=\"d8e9dc0a-f471-4413-9138-be5e610131ae\")>,\n",
       " <selenium.webdriver.remote.webelement.WebElement (session=\"826bba43ac7a5eed6244af9a027fa0a0\", element=\"a2be46a9-aee9-4819-89ba-8281f535c48e\")>,\n",
       " <selenium.webdriver.remote.webelement.WebElement (session=\"826bba43ac7a5eed6244af9a027fa0a0\", element=\"21c58bec-f81f-4f82-ab3a-36a570d2658b\")>,\n",
       " <selenium.webdriver.remote.webelement.WebElement (session=\"826bba43ac7a5eed6244af9a027fa0a0\", element=\"9c676cc7-dd15-4333-a968-355c35de8d01\")>,\n",
       " <selenium.webdriver.remote.webelement.WebElement (session=\"826bba43ac7a5eed6244af9a027fa0a0\", element=\"e6852f8b-82a5-4f48-9c81-6554e4a56ba7\")>,\n",
       " <selenium.webdriver.remote.webelement.WebElement (session=\"826bba43ac7a5eed6244af9a027fa0a0\", element=\"f32ccd4a-c5d5-48f7-b057-4fa40a3f3352\")>,\n",
       " <selenium.webdriver.remote.webelement.WebElement (session=\"826bba43ac7a5eed6244af9a027fa0a0\", element=\"150818e2-0a2d-40dc-9bd0-b1a2f138cbcf\")>,\n",
       " <selenium.webdriver.remote.webelement.WebElement (session=\"826bba43ac7a5eed6244af9a027fa0a0\", element=\"5a0106ca-d802-4785-aa3d-e4ad6a7e9ae8\")>,\n",
       " <selenium.webdriver.remote.webelement.WebElement (session=\"826bba43ac7a5eed6244af9a027fa0a0\", element=\"d2c2ab5e-a5be-489b-afc0-9267fdee5b2e\")>,\n",
       " <selenium.webdriver.remote.webelement.WebElement (session=\"826bba43ac7a5eed6244af9a027fa0a0\", element=\"a2a7da03-8578-4d9f-b94a-b75e1fbe32be\")>,\n",
       " <selenium.webdriver.remote.webelement.WebElement (session=\"826bba43ac7a5eed6244af9a027fa0a0\", element=\"132b32f2-43b9-48b4-952e-625b334580d9\")>,\n",
       " <selenium.webdriver.remote.webelement.WebElement (session=\"826bba43ac7a5eed6244af9a027fa0a0\", element=\"bc2d538c-db28-4dd9-9f4e-2c2c18c493ed\")>,\n",
       " <selenium.webdriver.remote.webelement.WebElement (session=\"826bba43ac7a5eed6244af9a027fa0a0\", element=\"c4b5924e-da16-49bb-8d76-ad4174adb942\")>,\n",
       " <selenium.webdriver.remote.webelement.WebElement (session=\"826bba43ac7a5eed6244af9a027fa0a0\", element=\"6a688257-befd-4d53-8706-257b3abb83b5\")>,\n",
       " <selenium.webdriver.remote.webelement.WebElement (session=\"826bba43ac7a5eed6244af9a027fa0a0\", element=\"64d0fe19-cac5-48eb-9560-200f405b2dce\")>,\n",
       " <selenium.webdriver.remote.webelement.WebElement (session=\"826bba43ac7a5eed6244af9a027fa0a0\", element=\"f41964f0-57fd-4a3b-b75a-7399fa807f09\")>,\n",
       " <selenium.webdriver.remote.webelement.WebElement (session=\"826bba43ac7a5eed6244af9a027fa0a0\", element=\"02a4c355-ed7f-48b3-bd31-303bf7bb7e31\")>,\n",
       " <selenium.webdriver.remote.webelement.WebElement (session=\"826bba43ac7a5eed6244af9a027fa0a0\", element=\"f1ecf63e-9844-4097-81d4-0d2190a5d182\")>,\n",
       " <selenium.webdriver.remote.webelement.WebElement (session=\"826bba43ac7a5eed6244af9a027fa0a0\", element=\"db4de9fc-bd5a-422c-84c1-ffb8168bb590\")>,\n",
       " <selenium.webdriver.remote.webelement.WebElement (session=\"826bba43ac7a5eed6244af9a027fa0a0\", element=\"f9473405-3e16-4c98-b6cf-0cd39db9d2c2\")>,\n",
       " <selenium.webdriver.remote.webelement.WebElement (session=\"826bba43ac7a5eed6244af9a027fa0a0\", element=\"f267ae13-a252-4033-8d9a-0c3bbaaa268b\")>,\n",
       " <selenium.webdriver.remote.webelement.WebElement (session=\"826bba43ac7a5eed6244af9a027fa0a0\", element=\"fca4effb-eec6-47a6-82d3-36949215a16c\")>,\n",
       " <selenium.webdriver.remote.webelement.WebElement (session=\"826bba43ac7a5eed6244af9a027fa0a0\", element=\"aaab3b7e-c761-4317-937c-7239929b9cb3\")>,\n",
       " <selenium.webdriver.remote.webelement.WebElement (session=\"826bba43ac7a5eed6244af9a027fa0a0\", element=\"a93c2698-923d-4091-8af0-8bebe15cf939\")>,\n",
       " <selenium.webdriver.remote.webelement.WebElement (session=\"826bba43ac7a5eed6244af9a027fa0a0\", element=\"38c59e26-6601-4906-b838-e35c9796f7d5\")>,\n",
       " <selenium.webdriver.remote.webelement.WebElement (session=\"826bba43ac7a5eed6244af9a027fa0a0\", element=\"5943e841-304a-4e67-bf43-55c5fb4a5a4f\")>,\n",
       " <selenium.webdriver.remote.webelement.WebElement (session=\"826bba43ac7a5eed6244af9a027fa0a0\", element=\"96348d39-8403-4948-83ae-65e9d25fde49\")>,\n",
       " <selenium.webdriver.remote.webelement.WebElement (session=\"826bba43ac7a5eed6244af9a027fa0a0\", element=\"0b59f731-405f-4c3e-a7b8-b95fdf6979c6\")>,\n",
       " <selenium.webdriver.remote.webelement.WebElement (session=\"826bba43ac7a5eed6244af9a027fa0a0\", element=\"38a32058-20a7-4cb4-9a4a-bf1b1b8c94c4\")>,\n",
       " <selenium.webdriver.remote.webelement.WebElement (session=\"826bba43ac7a5eed6244af9a027fa0a0\", element=\"549724af-fd22-4ce5-9446-e4c3bce5f151\")>,\n",
       " <selenium.webdriver.remote.webelement.WebElement (session=\"826bba43ac7a5eed6244af9a027fa0a0\", element=\"c05b900b-d56f-4bf0-a4ff-38aba2287eee\")>,\n",
       " <selenium.webdriver.remote.webelement.WebElement (session=\"826bba43ac7a5eed6244af9a027fa0a0\", element=\"cb0ba502-8dfb-4a59-9780-03b4497f2d79\")>,\n",
       " <selenium.webdriver.remote.webelement.WebElement (session=\"826bba43ac7a5eed6244af9a027fa0a0\", element=\"93e37d4d-0e78-42db-935c-fbc0325a860d\")>,\n",
       " <selenium.webdriver.remote.webelement.WebElement (session=\"826bba43ac7a5eed6244af9a027fa0a0\", element=\"c9b83983-fa74-491f-9fc1-01e636569d59\")>,\n",
       " <selenium.webdriver.remote.webelement.WebElement (session=\"826bba43ac7a5eed6244af9a027fa0a0\", element=\"a5a77ce7-0fd4-4665-9714-fbb2f1444107\")>,\n",
       " <selenium.webdriver.remote.webelement.WebElement (session=\"826bba43ac7a5eed6244af9a027fa0a0\", element=\"059f76a5-301b-465f-88a1-e11f5b086351\")>,\n",
       " <selenium.webdriver.remote.webelement.WebElement (session=\"826bba43ac7a5eed6244af9a027fa0a0\", element=\"c8c26d1b-8a0c-4718-8a50-03ae3fdf3635\")>,\n",
       " <selenium.webdriver.remote.webelement.WebElement (session=\"826bba43ac7a5eed6244af9a027fa0a0\", element=\"cb01a549-40ac-4980-a0fa-c261688d126d\")>,\n",
       " <selenium.webdriver.remote.webelement.WebElement (session=\"826bba43ac7a5eed6244af9a027fa0a0\", element=\"03e8273d-474d-4077-8e4c-00ecb89fae1c\")>,\n",
       " <selenium.webdriver.remote.webelement.WebElement (session=\"826bba43ac7a5eed6244af9a027fa0a0\", element=\"80781b10-a196-413d-b39c-dabf28d0e84c\")>,\n",
       " <selenium.webdriver.remote.webelement.WebElement (session=\"826bba43ac7a5eed6244af9a027fa0a0\", element=\"d9d637f8-e13a-4ad8-9d49-a935660c4205\")>,\n",
       " <selenium.webdriver.remote.webelement.WebElement (session=\"826bba43ac7a5eed6244af9a027fa0a0\", element=\"34c229fc-a29a-44e9-9ff7-6e4b6c2462c6\")>,\n",
       " <selenium.webdriver.remote.webelement.WebElement (session=\"826bba43ac7a5eed6244af9a027fa0a0\", element=\"22173101-4136-42b0-a65a-11aa7729d631\")>,\n",
       " <selenium.webdriver.remote.webelement.WebElement (session=\"826bba43ac7a5eed6244af9a027fa0a0\", element=\"3792197a-f752-4a17-9571-f2582fc08304\")>,\n",
       " <selenium.webdriver.remote.webelement.WebElement (session=\"826bba43ac7a5eed6244af9a027fa0a0\", element=\"86eb7fb7-03fe-4452-bef9-6e355e25ef40\")>,\n",
       " <selenium.webdriver.remote.webelement.WebElement (session=\"826bba43ac7a5eed6244af9a027fa0a0\", element=\"7c86bdc4-c35e-42e4-991a-80c817950141\")>,\n",
       " <selenium.webdriver.remote.webelement.WebElement (session=\"826bba43ac7a5eed6244af9a027fa0a0\", element=\"6f892935-5596-40d7-b40a-d9d888ae2159\")>,\n",
       " <selenium.webdriver.remote.webelement.WebElement (session=\"826bba43ac7a5eed6244af9a027fa0a0\", element=\"c270b1a3-4573-4553-81b8-87411e21e5b1\")>,\n",
       " <selenium.webdriver.remote.webelement.WebElement (session=\"826bba43ac7a5eed6244af9a027fa0a0\", element=\"eb1a0b6f-5518-448e-ba4f-4647a62984be\")>,\n",
       " <selenium.webdriver.remote.webelement.WebElement (session=\"826bba43ac7a5eed6244af9a027fa0a0\", element=\"1798e6fe-477e-4e7c-bc6b-3b79029b9bf3\")>,\n",
       " <selenium.webdriver.remote.webelement.WebElement (session=\"826bba43ac7a5eed6244af9a027fa0a0\", element=\"a0016c36-544b-4a10-aa0b-b45c383ee0ae\")>,\n",
       " <selenium.webdriver.remote.webelement.WebElement (session=\"826bba43ac7a5eed6244af9a027fa0a0\", element=\"8f622bfd-c8f1-4ed0-b583-eafee0a2e300\")>,\n",
       " <selenium.webdriver.remote.webelement.WebElement (session=\"826bba43ac7a5eed6244af9a027fa0a0\", element=\"bdb52881-08ca-4780-b339-b40fec6bf175\")>,\n",
       " <selenium.webdriver.remote.webelement.WebElement (session=\"826bba43ac7a5eed6244af9a027fa0a0\", element=\"dec1285e-209f-4ba4-85a9-91b9f8d12ad0\")>,\n",
       " <selenium.webdriver.remote.webelement.WebElement (session=\"826bba43ac7a5eed6244af9a027fa0a0\", element=\"c9046dcd-8a94-497c-a0dc-c6de245173a0\")>,\n",
       " <selenium.webdriver.remote.webelement.WebElement (session=\"826bba43ac7a5eed6244af9a027fa0a0\", element=\"fd0a5b6b-2d7e-4c4a-b68c-76c0b036ccb6\")>,\n",
       " <selenium.webdriver.remote.webelement.WebElement (session=\"826bba43ac7a5eed6244af9a027fa0a0\", element=\"ab2bfde8-dfff-4686-862c-0961d43dfd90\")>,\n",
       " <selenium.webdriver.remote.webelement.WebElement (session=\"826bba43ac7a5eed6244af9a027fa0a0\", element=\"ec872a8d-c133-4576-ad68-ddcd99239ae7\")>,\n",
       " <selenium.webdriver.remote.webelement.WebElement (session=\"826bba43ac7a5eed6244af9a027fa0a0\", element=\"748eff26-7aeb-436b-860d-e1db45769752\")>,\n",
       " <selenium.webdriver.remote.webelement.WebElement (session=\"826bba43ac7a5eed6244af9a027fa0a0\", element=\"827e1410-0ce5-4868-93a6-3a43f24b4b36\")>,\n",
       " <selenium.webdriver.remote.webelement.WebElement (session=\"826bba43ac7a5eed6244af9a027fa0a0\", element=\"7b3f9556-807f-4611-a161-24d224f6aada\")>,\n",
       " <selenium.webdriver.remote.webelement.WebElement (session=\"826bba43ac7a5eed6244af9a027fa0a0\", element=\"fa5fb03f-5a7c-4172-95a1-681f6132747e\")>,\n",
       " <selenium.webdriver.remote.webelement.WebElement (session=\"826bba43ac7a5eed6244af9a027fa0a0\", element=\"8f452485-eca5-4c4d-9c65-d294789e52a4\")>,\n",
       " <selenium.webdriver.remote.webelement.WebElement (session=\"826bba43ac7a5eed6244af9a027fa0a0\", element=\"ad9dffb4-a2e2-4cdd-8c20-bafc2241d0b6\")>,\n",
       " <selenium.webdriver.remote.webelement.WebElement (session=\"826bba43ac7a5eed6244af9a027fa0a0\", element=\"3eab0bc2-b898-481e-b74d-3705d7fb4ae9\")>,\n",
       " <selenium.webdriver.remote.webelement.WebElement (session=\"826bba43ac7a5eed6244af9a027fa0a0\", element=\"c28b15ab-be85-4738-b44b-3737a65c090a\")>,\n",
       " <selenium.webdriver.remote.webelement.WebElement (session=\"826bba43ac7a5eed6244af9a027fa0a0\", element=\"1570e270-9717-4261-9193-4651eb27047a\")>,\n",
       " <selenium.webdriver.remote.webelement.WebElement (session=\"826bba43ac7a5eed6244af9a027fa0a0\", element=\"bddb1353-b26a-44ad-8a26-35afbc02d95a\")>,\n",
       " <selenium.webdriver.remote.webelement.WebElement (session=\"826bba43ac7a5eed6244af9a027fa0a0\", element=\"d64ace8c-06ca-44cb-9501-710be6811cfd\")>,\n",
       " <selenium.webdriver.remote.webelement.WebElement (session=\"826bba43ac7a5eed6244af9a027fa0a0\", element=\"4ca88243-e043-4cf0-b35b-39cad1aea257\")>,\n",
       " <selenium.webdriver.remote.webelement.WebElement (session=\"826bba43ac7a5eed6244af9a027fa0a0\", element=\"1ddaa1de-b7b6-401e-96c5-9829c439b180\")>,\n",
       " <selenium.webdriver.remote.webelement.WebElement (session=\"826bba43ac7a5eed6244af9a027fa0a0\", element=\"145d7221-7b76-46e1-bb67-7e03c65e571a\")>,\n",
       " <selenium.webdriver.remote.webelement.WebElement (session=\"826bba43ac7a5eed6244af9a027fa0a0\", element=\"858ecd3b-c6c5-4322-b9b1-50a3758f718c\")>,\n",
       " <selenium.webdriver.remote.webelement.WebElement (session=\"826bba43ac7a5eed6244af9a027fa0a0\", element=\"e988d88d-0b9c-4045-8c3d-bab75858b702\")>,\n",
       " <selenium.webdriver.remote.webelement.WebElement (session=\"826bba43ac7a5eed6244af9a027fa0a0\", element=\"a39a2d7d-2fff-4937-8489-c29b56296ef9\")>,\n",
       " <selenium.webdriver.remote.webelement.WebElement (session=\"826bba43ac7a5eed6244af9a027fa0a0\", element=\"97243309-11b1-4968-a912-42fd025a296b\")>,\n",
       " <selenium.webdriver.remote.webelement.WebElement (session=\"826bba43ac7a5eed6244af9a027fa0a0\", element=\"972b7b3d-a3b9-48e2-ad40-619f57d193b5\")>,\n",
       " <selenium.webdriver.remote.webelement.WebElement (session=\"826bba43ac7a5eed6244af9a027fa0a0\", element=\"02e22652-fd55-4e62-bf5d-c464490290b0\")>,\n",
       " <selenium.webdriver.remote.webelement.WebElement (session=\"826bba43ac7a5eed6244af9a027fa0a0\", element=\"0490b5c6-98e1-49ca-9282-bf201148f685\")>,\n",
       " <selenium.webdriver.remote.webelement.WebElement (session=\"826bba43ac7a5eed6244af9a027fa0a0\", element=\"095897e6-7936-4c0b-ac0d-bbe4f9ec7288\")>,\n",
       " <selenium.webdriver.remote.webelement.WebElement (session=\"826bba43ac7a5eed6244af9a027fa0a0\", element=\"f6f7e01d-324b-48f5-a174-24625a95ebe3\")>,\n",
       " <selenium.webdriver.remote.webelement.WebElement (session=\"826bba43ac7a5eed6244af9a027fa0a0\", element=\"7143e869-c655-49f0-8446-2654980c52e5\")>,\n",
       " <selenium.webdriver.remote.webelement.WebElement (session=\"826bba43ac7a5eed6244af9a027fa0a0\", element=\"baa061a6-7018-4a7b-bb60-ac85f7a50f51\")>,\n",
       " <selenium.webdriver.remote.webelement.WebElement (session=\"826bba43ac7a5eed6244af9a027fa0a0\", element=\"552ebbcb-ee17-4775-9674-c717059ab073\")>,\n",
       " <selenium.webdriver.remote.webelement.WebElement (session=\"826bba43ac7a5eed6244af9a027fa0a0\", element=\"a40695ee-3db1-46aa-ba08-2a10d6763e87\")>,\n",
       " <selenium.webdriver.remote.webelement.WebElement (session=\"826bba43ac7a5eed6244af9a027fa0a0\", element=\"9ebab3ce-b132-4cf1-9df7-e530b9e26db5\")>,\n",
       " <selenium.webdriver.remote.webelement.WebElement (session=\"826bba43ac7a5eed6244af9a027fa0a0\", element=\"0a210305-26ab-420c-b5ed-c1033e0c2303\")>,\n",
       " <selenium.webdriver.remote.webelement.WebElement (session=\"826bba43ac7a5eed6244af9a027fa0a0\", element=\"86513aba-0191-406e-9969-1e4e1e7b756a\")>,\n",
       " <selenium.webdriver.remote.webelement.WebElement (session=\"826bba43ac7a5eed6244af9a027fa0a0\", element=\"f2d5284b-6e23-4c65-a2fa-06e3517c25ee\")>,\n",
       " <selenium.webdriver.remote.webelement.WebElement (session=\"826bba43ac7a5eed6244af9a027fa0a0\", element=\"96dd9859-f257-43c2-938b-d1ca0ffc5e2c\")>,\n",
       " <selenium.webdriver.remote.webelement.WebElement (session=\"826bba43ac7a5eed6244af9a027fa0a0\", element=\"c8101e74-aee4-4d84-bc7c-892e73723bef\")>,\n",
       " <selenium.webdriver.remote.webelement.WebElement (session=\"826bba43ac7a5eed6244af9a027fa0a0\", element=\"a0b7d0ac-7350-4fda-9183-5beef6f69f8c\")>,\n",
       " <selenium.webdriver.remote.webelement.WebElement (session=\"826bba43ac7a5eed6244af9a027fa0a0\", element=\"dd458544-339f-45e3-937c-14ba21e50d16\")>,\n",
       " <selenium.webdriver.remote.webelement.WebElement (session=\"826bba43ac7a5eed6244af9a027fa0a0\", element=\"5f096e4d-04e5-436e-ac36-cce2d9973aff\")>,\n",
       " <selenium.webdriver.remote.webelement.WebElement (session=\"826bba43ac7a5eed6244af9a027fa0a0\", element=\"53fb1997-405a-4534-b06a-76cfcc6f500d\")>,\n",
       " <selenium.webdriver.remote.webelement.WebElement (session=\"826bba43ac7a5eed6244af9a027fa0a0\", element=\"74ecc39b-6d7b-4ded-90ac-45bd681d58f9\")>,\n",
       " <selenium.webdriver.remote.webelement.WebElement (session=\"826bba43ac7a5eed6244af9a027fa0a0\", element=\"f53967e8-74c9-405b-96ba-a0198f0d206e\")>,\n",
       " <selenium.webdriver.remote.webelement.WebElement (session=\"826bba43ac7a5eed6244af9a027fa0a0\", element=\"e95a9e25-1ece-471d-8b14-dea69a2babef\")>,\n",
       " <selenium.webdriver.remote.webelement.WebElement (session=\"826bba43ac7a5eed6244af9a027fa0a0\", element=\"06ae5394-140b-49f4-84d1-f803d3fc8b8e\")>,\n",
       " <selenium.webdriver.remote.webelement.WebElement (session=\"826bba43ac7a5eed6244af9a027fa0a0\", element=\"ea1a02ff-f36b-4541-89a6-f3fb4ebe4055\")>,\n",
       " <selenium.webdriver.remote.webelement.WebElement (session=\"826bba43ac7a5eed6244af9a027fa0a0\", element=\"6428b7b4-f0af-4906-a647-fda058053c5d\")>,\n",
       " <selenium.webdriver.remote.webelement.WebElement (session=\"826bba43ac7a5eed6244af9a027fa0a0\", element=\"cb41cd48-9e9c-4c63-add2-769fc3cd1c8f\")>,\n",
       " <selenium.webdriver.remote.webelement.WebElement (session=\"826bba43ac7a5eed6244af9a027fa0a0\", element=\"7ef1551a-eb07-419a-ab8c-2a09e682ff7b\")>,\n",
       " <selenium.webdriver.remote.webelement.WebElement (session=\"826bba43ac7a5eed6244af9a027fa0a0\", element=\"c24b8236-c9c9-4521-9058-28c42d45512d\")>,\n",
       " <selenium.webdriver.remote.webelement.WebElement (session=\"826bba43ac7a5eed6244af9a027fa0a0\", element=\"abdbbcca-cb5f-4641-b4b2-d5c6bbd9b88c\")>,\n",
       " <selenium.webdriver.remote.webelement.WebElement (session=\"826bba43ac7a5eed6244af9a027fa0a0\", element=\"ab603826-170b-44ad-a6b3-5e2c7d51cd15\")>,\n",
       " <selenium.webdriver.remote.webelement.WebElement (session=\"826bba43ac7a5eed6244af9a027fa0a0\", element=\"d6f66a6e-efde-4d51-83fc-f08d1aaa8c36\")>,\n",
       " <selenium.webdriver.remote.webelement.WebElement (session=\"826bba43ac7a5eed6244af9a027fa0a0\", element=\"99c41e46-c5e7-4eee-840b-6f0b13405637\")>,\n",
       " <selenium.webdriver.remote.webelement.WebElement (session=\"826bba43ac7a5eed6244af9a027fa0a0\", element=\"0cfde2f6-df0b-4f47-abbb-5f63079e24cf\")>,\n",
       " <selenium.webdriver.remote.webelement.WebElement (session=\"826bba43ac7a5eed6244af9a027fa0a0\", element=\"f1c9b169-cf83-4b0c-b342-94a98fda860e\")>,\n",
       " <selenium.webdriver.remote.webelement.WebElement (session=\"826bba43ac7a5eed6244af9a027fa0a0\", element=\"6bab10ff-6179-490a-a5f7-615918f3776e\")>,\n",
       " <selenium.webdriver.remote.webelement.WebElement (session=\"826bba43ac7a5eed6244af9a027fa0a0\", element=\"1258a2b6-095f-482b-9608-c3f8b1cfe29c\")>]"
      ]
     },
     "execution_count": 152,
     "metadata": {},
     "output_type": "execute_result"
    }
   ],
   "source": [
    "genre=driver.find_elements_by_xpath('//td[@class=\"left\"]')\n",
    "genre"
   ]
  },
  {
   "cell_type": "code",
   "execution_count": 153,
   "id": "72ec8bfd",
   "metadata": {},
   "outputs": [
    {
     "data": {
      "text/plain": [
       "[]"
      ]
     },
     "execution_count": 153,
     "metadata": {},
     "output_type": "execute_result"
    }
   ],
   "source": [
    "genre=[]\n",
    "for i in genre:\n",
    "   genre.append(i.text)\n",
    "    \n",
    "genre"
   ]
  },
  {
   "cell_type": "markdown",
   "id": "1da48376",
   "metadata": {},
   "source": [
    "QUESTION 9"
   ]
  },
  {
   "cell_type": "code",
   "execution_count": 154,
   "id": "c9a0b077",
   "metadata": {},
   "outputs": [
    {
     "name": "stderr",
     "output_type": "stream",
     "text": [
      "<ipython-input-154-452eafebab4f>:2: DeprecationWarning: executable_path has been deprecated, please pass in a Service object\n",
      "  driver = webdriver.Chrome(PATH)\n"
     ]
    }
   ],
   "source": [
    "PATH = 'C:/Users/Shiva Labade/Desktop/chromedriver_win32/chromedriver.exe'\n",
    "driver = webdriver.Chrome(PATH)"
   ]
  },
  {
   "cell_type": "code",
   "execution_count": 155,
   "id": "88c5d14b",
   "metadata": {},
   "outputs": [],
   "source": [
    "driver.get('https://www.imdb.com/list/ls095964455/')"
   ]
  },
  {
   "cell_type": "code",
   "execution_count": 157,
   "id": "29c7e318",
   "metadata": {},
   "outputs": [
    {
     "name": "stderr",
     "output_type": "stream",
     "text": [
      "<ipython-input-157-203584fbbbc4>:1: DeprecationWarning: find_elements_by_* commands are deprecated. Please use find_elements() instead\n",
      "  name=driver.find_elements_by_xpath('/html/body/div[3]/div/div[2]/div[3]/div[1]/div/div[3]/div[3]/div[1]/div[2]/h3/span[1]')\n"
     ]
    },
    {
     "data": {
      "text/plain": [
       "[<selenium.webdriver.remote.webelement.WebElement (session=\"8726103ecc9d70816336519d3b3e44bf\", element=\"882ecd39-e62e-47b5-8fa2-d65bd5f1c8cd\")>]"
      ]
     },
     "execution_count": 157,
     "metadata": {},
     "output_type": "execute_result"
    }
   ],
   "source": [
    "name=driver.find_elements_by_xpath('/html/body/div[3]/div/div[2]/div[3]/div[1]/div/div[3]/div[3]/div[1]/div[2]/h3/span[1]')\n",
    "name"
   ]
  },
  {
   "cell_type": "code",
   "execution_count": 158,
   "id": "3d723ba2",
   "metadata": {},
   "outputs": [
    {
     "data": {
      "text/plain": [
       "[]"
      ]
     },
     "execution_count": 158,
     "metadata": {},
     "output_type": "execute_result"
    }
   ],
   "source": [
    "name=[]\n",
    "for i in name:\n",
    "   name.append(i.text)\n",
    "    \n",
    "name"
   ]
  },
  {
   "cell_type": "code",
   "execution_count": 159,
   "id": "e34dba2d",
   "metadata": {},
   "outputs": [
    {
     "name": "stderr",
     "output_type": "stream",
     "text": [
      "<ipython-input-159-d54cb6b52b41>:1: DeprecationWarning: find_elements_by_* commands are deprecated. Please use find_elements() instead\n",
      "  year_span=driver.find_elements_by_xpath('//span[@class=\"lister-item-year text-muted unbold\"]')\n"
     ]
    },
    {
     "data": {
      "text/plain": [
       "[<selenium.webdriver.remote.webelement.WebElement (session=\"8726103ecc9d70816336519d3b3e44bf\", element=\"ba9c97ce-7ce8-46ff-ac33-aff7cf2a3ee7\")>,\n",
       " <selenium.webdriver.remote.webelement.WebElement (session=\"8726103ecc9d70816336519d3b3e44bf\", element=\"f6da5f96-67a9-4803-b659-0faf1141bc0a\")>,\n",
       " <selenium.webdriver.remote.webelement.WebElement (session=\"8726103ecc9d70816336519d3b3e44bf\", element=\"57decc01-b5a9-4b33-8bed-7e6859aae8d5\")>,\n",
       " <selenium.webdriver.remote.webelement.WebElement (session=\"8726103ecc9d70816336519d3b3e44bf\", element=\"af367fdc-5054-4262-b41b-7a96a8a8d66d\")>,\n",
       " <selenium.webdriver.remote.webelement.WebElement (session=\"8726103ecc9d70816336519d3b3e44bf\", element=\"9fe352f7-771e-4886-a015-d0f2b3899f6c\")>,\n",
       " <selenium.webdriver.remote.webelement.WebElement (session=\"8726103ecc9d70816336519d3b3e44bf\", element=\"c30fad30-b61e-4ffd-8efd-0732241ef8f4\")>,\n",
       " <selenium.webdriver.remote.webelement.WebElement (session=\"8726103ecc9d70816336519d3b3e44bf\", element=\"723915cf-7cf0-4ee4-8657-6e089ee2ca72\")>,\n",
       " <selenium.webdriver.remote.webelement.WebElement (session=\"8726103ecc9d70816336519d3b3e44bf\", element=\"8370183e-c116-4dd4-bfec-c32d4d9a30ee\")>,\n",
       " <selenium.webdriver.remote.webelement.WebElement (session=\"8726103ecc9d70816336519d3b3e44bf\", element=\"78b39ae8-402c-4afc-9447-2292a7136376\")>,\n",
       " <selenium.webdriver.remote.webelement.WebElement (session=\"8726103ecc9d70816336519d3b3e44bf\", element=\"9db66346-dc1b-4562-bce8-9bfc1d79a4c8\")>,\n",
       " <selenium.webdriver.remote.webelement.WebElement (session=\"8726103ecc9d70816336519d3b3e44bf\", element=\"5ba0919a-6093-4fdf-9f04-65ceab639adc\")>,\n",
       " <selenium.webdriver.remote.webelement.WebElement (session=\"8726103ecc9d70816336519d3b3e44bf\", element=\"31cfa429-591e-46b3-8ef8-a735167e2570\")>,\n",
       " <selenium.webdriver.remote.webelement.WebElement (session=\"8726103ecc9d70816336519d3b3e44bf\", element=\"ce7e4277-9fc8-4188-9b0d-daa222cac226\")>,\n",
       " <selenium.webdriver.remote.webelement.WebElement (session=\"8726103ecc9d70816336519d3b3e44bf\", element=\"7e6a413c-0434-4aeb-9750-bb9bbe4c3fca\")>,\n",
       " <selenium.webdriver.remote.webelement.WebElement (session=\"8726103ecc9d70816336519d3b3e44bf\", element=\"c080e54c-2716-485a-8a77-edb1a9a98fb1\")>,\n",
       " <selenium.webdriver.remote.webelement.WebElement (session=\"8726103ecc9d70816336519d3b3e44bf\", element=\"eacf56b9-dca8-48cf-8fa5-8a3cc97413b7\")>,\n",
       " <selenium.webdriver.remote.webelement.WebElement (session=\"8726103ecc9d70816336519d3b3e44bf\", element=\"ed9d349c-9a83-4fd9-b92e-723e55aa7e1f\")>,\n",
       " <selenium.webdriver.remote.webelement.WebElement (session=\"8726103ecc9d70816336519d3b3e44bf\", element=\"07cecf5b-5bed-4f1b-8b8e-61f75af9d168\")>,\n",
       " <selenium.webdriver.remote.webelement.WebElement (session=\"8726103ecc9d70816336519d3b3e44bf\", element=\"79428708-319c-4dbf-b0ed-810bd472ca5e\")>,\n",
       " <selenium.webdriver.remote.webelement.WebElement (session=\"8726103ecc9d70816336519d3b3e44bf\", element=\"0dbd4414-321a-457b-886e-2917a3aba724\")>,\n",
       " <selenium.webdriver.remote.webelement.WebElement (session=\"8726103ecc9d70816336519d3b3e44bf\", element=\"f8ba5f85-bcf1-47d7-a11b-62d0da6a8eed\")>,\n",
       " <selenium.webdriver.remote.webelement.WebElement (session=\"8726103ecc9d70816336519d3b3e44bf\", element=\"5f22c251-8bb6-4ee2-8175-fb7c1eb8d475\")>,\n",
       " <selenium.webdriver.remote.webelement.WebElement (session=\"8726103ecc9d70816336519d3b3e44bf\", element=\"c284fcce-df1a-488e-929e-bfeb21b02ce1\")>,\n",
       " <selenium.webdriver.remote.webelement.WebElement (session=\"8726103ecc9d70816336519d3b3e44bf\", element=\"167ce7cd-7a15-43e5-b777-84259790242d\")>,\n",
       " <selenium.webdriver.remote.webelement.WebElement (session=\"8726103ecc9d70816336519d3b3e44bf\", element=\"875b9d2f-fdbf-401b-82f6-8576b10a802d\")>,\n",
       " <selenium.webdriver.remote.webelement.WebElement (session=\"8726103ecc9d70816336519d3b3e44bf\", element=\"7bd4d622-e25d-49c4-90e2-d5b8a2aa853f\")>,\n",
       " <selenium.webdriver.remote.webelement.WebElement (session=\"8726103ecc9d70816336519d3b3e44bf\", element=\"0d06610b-316a-4269-9979-5ee82dfe0f85\")>,\n",
       " <selenium.webdriver.remote.webelement.WebElement (session=\"8726103ecc9d70816336519d3b3e44bf\", element=\"907489b7-27fe-419b-8965-56b8ccd09a7f\")>,\n",
       " <selenium.webdriver.remote.webelement.WebElement (session=\"8726103ecc9d70816336519d3b3e44bf\", element=\"616a9072-942c-4862-9f89-b88adc979c70\")>,\n",
       " <selenium.webdriver.remote.webelement.WebElement (session=\"8726103ecc9d70816336519d3b3e44bf\", element=\"9a44100b-7ad4-49d8-ac10-d7fde5becaf7\")>,\n",
       " <selenium.webdriver.remote.webelement.WebElement (session=\"8726103ecc9d70816336519d3b3e44bf\", element=\"7770a2c3-5faf-4ce2-afa8-98eb5936dd60\")>,\n",
       " <selenium.webdriver.remote.webelement.WebElement (session=\"8726103ecc9d70816336519d3b3e44bf\", element=\"bac28f96-5e20-4392-a94d-c5d8296779da\")>,\n",
       " <selenium.webdriver.remote.webelement.WebElement (session=\"8726103ecc9d70816336519d3b3e44bf\", element=\"cd54f305-055f-41e5-85b5-e1ac42afbcfb\")>,\n",
       " <selenium.webdriver.remote.webelement.WebElement (session=\"8726103ecc9d70816336519d3b3e44bf\", element=\"3986e22b-b046-463a-b563-7e689984cb47\")>,\n",
       " <selenium.webdriver.remote.webelement.WebElement (session=\"8726103ecc9d70816336519d3b3e44bf\", element=\"4b1447b0-c8ea-458e-8385-afdd7abbe242\")>,\n",
       " <selenium.webdriver.remote.webelement.WebElement (session=\"8726103ecc9d70816336519d3b3e44bf\", element=\"f1f60c56-8349-491a-bc61-5f192f1acb1c\")>,\n",
       " <selenium.webdriver.remote.webelement.WebElement (session=\"8726103ecc9d70816336519d3b3e44bf\", element=\"06891a7d-0707-41cd-8839-b172e1d2b0fb\")>,\n",
       " <selenium.webdriver.remote.webelement.WebElement (session=\"8726103ecc9d70816336519d3b3e44bf\", element=\"ecaa3f14-336b-4ce0-9250-2dfb16e2a879\")>,\n",
       " <selenium.webdriver.remote.webelement.WebElement (session=\"8726103ecc9d70816336519d3b3e44bf\", element=\"c3b9106e-df2f-4fc1-99e3-bed82dc4d94d\")>,\n",
       " <selenium.webdriver.remote.webelement.WebElement (session=\"8726103ecc9d70816336519d3b3e44bf\", element=\"f2896869-075b-40bc-b0e0-e5b656d497d7\")>,\n",
       " <selenium.webdriver.remote.webelement.WebElement (session=\"8726103ecc9d70816336519d3b3e44bf\", element=\"16b1dc19-b5ae-4981-b840-215fb47bd788\")>,\n",
       " <selenium.webdriver.remote.webelement.WebElement (session=\"8726103ecc9d70816336519d3b3e44bf\", element=\"bf3b9508-41c7-4691-92cf-7c48cd42bca7\")>,\n",
       " <selenium.webdriver.remote.webelement.WebElement (session=\"8726103ecc9d70816336519d3b3e44bf\", element=\"3dc37862-5673-4443-a79e-8643bb7e52eb\")>,\n",
       " <selenium.webdriver.remote.webelement.WebElement (session=\"8726103ecc9d70816336519d3b3e44bf\", element=\"2d1485b1-1201-4d65-b169-c60bf759986c\")>,\n",
       " <selenium.webdriver.remote.webelement.WebElement (session=\"8726103ecc9d70816336519d3b3e44bf\", element=\"8b665105-dd7f-49b0-a719-5df0fda5a6de\")>,\n",
       " <selenium.webdriver.remote.webelement.WebElement (session=\"8726103ecc9d70816336519d3b3e44bf\", element=\"c301bf59-11b3-4038-8078-c0a9d9409486\")>,\n",
       " <selenium.webdriver.remote.webelement.WebElement (session=\"8726103ecc9d70816336519d3b3e44bf\", element=\"e326379b-d3fd-40e4-924b-1e79d06e1d33\")>,\n",
       " <selenium.webdriver.remote.webelement.WebElement (session=\"8726103ecc9d70816336519d3b3e44bf\", element=\"dc551a69-e134-4d6b-98cc-3dcfda3d0c45\")>,\n",
       " <selenium.webdriver.remote.webelement.WebElement (session=\"8726103ecc9d70816336519d3b3e44bf\", element=\"a5ea7699-55de-4b56-8751-15292cc3f699\")>,\n",
       " <selenium.webdriver.remote.webelement.WebElement (session=\"8726103ecc9d70816336519d3b3e44bf\", element=\"a44df494-ce2a-4e1a-8427-6d4b6dac5d2a\")>,\n",
       " <selenium.webdriver.remote.webelement.WebElement (session=\"8726103ecc9d70816336519d3b3e44bf\", element=\"1b4fc13d-8dc8-4215-a2f7-903d9c2d082c\")>,\n",
       " <selenium.webdriver.remote.webelement.WebElement (session=\"8726103ecc9d70816336519d3b3e44bf\", element=\"d4badf2f-6cba-4579-aec6-6ff6c4aaaf61\")>,\n",
       " <selenium.webdriver.remote.webelement.WebElement (session=\"8726103ecc9d70816336519d3b3e44bf\", element=\"e2c92eab-8ca5-4d20-8690-7a5330f884d2\")>,\n",
       " <selenium.webdriver.remote.webelement.WebElement (session=\"8726103ecc9d70816336519d3b3e44bf\", element=\"37d46c6c-1a7a-493e-b90e-d887b611db24\")>,\n",
       " <selenium.webdriver.remote.webelement.WebElement (session=\"8726103ecc9d70816336519d3b3e44bf\", element=\"f95d15c2-59db-4df4-af46-c07ad9e4b6c2\")>,\n",
       " <selenium.webdriver.remote.webelement.WebElement (session=\"8726103ecc9d70816336519d3b3e44bf\", element=\"261539b6-2c8c-4548-9153-ddec8a16655c\")>,\n",
       " <selenium.webdriver.remote.webelement.WebElement (session=\"8726103ecc9d70816336519d3b3e44bf\", element=\"4e2ba2e0-4a79-402a-b101-202da92ac0ea\")>,\n",
       " <selenium.webdriver.remote.webelement.WebElement (session=\"8726103ecc9d70816336519d3b3e44bf\", element=\"bfbfe22f-9925-4439-a389-0ff981f4296d\")>,\n",
       " <selenium.webdriver.remote.webelement.WebElement (session=\"8726103ecc9d70816336519d3b3e44bf\", element=\"92748514-102c-4c86-bae0-f588f8a75586\")>,\n",
       " <selenium.webdriver.remote.webelement.WebElement (session=\"8726103ecc9d70816336519d3b3e44bf\", element=\"cbc7c090-a5bf-47c3-a022-662918b1b73c\")>,\n",
       " <selenium.webdriver.remote.webelement.WebElement (session=\"8726103ecc9d70816336519d3b3e44bf\", element=\"9b4f33e7-b6d1-4de9-bbca-62d0bf09e010\")>,\n",
       " <selenium.webdriver.remote.webelement.WebElement (session=\"8726103ecc9d70816336519d3b3e44bf\", element=\"382d4675-5487-4017-87fc-d9a35c2013cd\")>,\n",
       " <selenium.webdriver.remote.webelement.WebElement (session=\"8726103ecc9d70816336519d3b3e44bf\", element=\"5ffac4ba-a0b0-4043-bc2d-c15e805a198e\")>,\n",
       " <selenium.webdriver.remote.webelement.WebElement (session=\"8726103ecc9d70816336519d3b3e44bf\", element=\"78c1e747-5f17-4eee-84ef-c10640bd5138\")>,\n",
       " <selenium.webdriver.remote.webelement.WebElement (session=\"8726103ecc9d70816336519d3b3e44bf\", element=\"a6f197b9-72c5-42f0-bb2a-9d3dc0e09249\")>,\n",
       " <selenium.webdriver.remote.webelement.WebElement (session=\"8726103ecc9d70816336519d3b3e44bf\", element=\"7e96f3ad-b391-47c0-ab7b-efd18645428c\")>,\n",
       " <selenium.webdriver.remote.webelement.WebElement (session=\"8726103ecc9d70816336519d3b3e44bf\", element=\"ed8cd411-d30b-4d94-9766-256f2a1b35d9\")>,\n",
       " <selenium.webdriver.remote.webelement.WebElement (session=\"8726103ecc9d70816336519d3b3e44bf\", element=\"bdadb013-20cb-412c-82a1-be6fad93120b\")>,\n",
       " <selenium.webdriver.remote.webelement.WebElement (session=\"8726103ecc9d70816336519d3b3e44bf\", element=\"2602acee-0d00-4d7d-9e2e-814fedf7614d\")>,\n",
       " <selenium.webdriver.remote.webelement.WebElement (session=\"8726103ecc9d70816336519d3b3e44bf\", element=\"f44ee635-6233-4815-864c-bedae3a76448\")>,\n",
       " <selenium.webdriver.remote.webelement.WebElement (session=\"8726103ecc9d70816336519d3b3e44bf\", element=\"3cdd056e-8f28-4f1f-b885-b2e5b96f57a7\")>,\n",
       " <selenium.webdriver.remote.webelement.WebElement (session=\"8726103ecc9d70816336519d3b3e44bf\", element=\"c0357aa5-66f7-4b63-b21a-bfabf6a03d75\")>,\n",
       " <selenium.webdriver.remote.webelement.WebElement (session=\"8726103ecc9d70816336519d3b3e44bf\", element=\"5de24b15-ab01-4145-b307-b06805a3b052\")>,\n",
       " <selenium.webdriver.remote.webelement.WebElement (session=\"8726103ecc9d70816336519d3b3e44bf\", element=\"5bb3b532-b0f3-48be-9394-b8d5233bc4f3\")>,\n",
       " <selenium.webdriver.remote.webelement.WebElement (session=\"8726103ecc9d70816336519d3b3e44bf\", element=\"3d86fb31-a416-41ee-aaa9-8b703f8f3e39\")>,\n",
       " <selenium.webdriver.remote.webelement.WebElement (session=\"8726103ecc9d70816336519d3b3e44bf\", element=\"2313dcad-8011-4f86-b7c0-6a691b8246e1\")>,\n",
       " <selenium.webdriver.remote.webelement.WebElement (session=\"8726103ecc9d70816336519d3b3e44bf\", element=\"3608b1a5-20bd-456e-ac29-258fcc8bb744\")>,\n",
       " <selenium.webdriver.remote.webelement.WebElement (session=\"8726103ecc9d70816336519d3b3e44bf\", element=\"13cc0b93-98a3-4d9b-9796-4101b5181b2d\")>,\n",
       " <selenium.webdriver.remote.webelement.WebElement (session=\"8726103ecc9d70816336519d3b3e44bf\", element=\"3cc6efe3-2ff4-45dc-8baa-c751ae0e39b5\")>,\n",
       " <selenium.webdriver.remote.webelement.WebElement (session=\"8726103ecc9d70816336519d3b3e44bf\", element=\"c84e3359-b8c5-4ef2-9475-a2df2ab79b68\")>,\n",
       " <selenium.webdriver.remote.webelement.WebElement (session=\"8726103ecc9d70816336519d3b3e44bf\", element=\"c702ff46-a889-4eae-9b82-37799ceef6bc\")>,\n",
       " <selenium.webdriver.remote.webelement.WebElement (session=\"8726103ecc9d70816336519d3b3e44bf\", element=\"e1e66c95-e59d-4e29-88a6-31eaced5f47a\")>,\n",
       " <selenium.webdriver.remote.webelement.WebElement (session=\"8726103ecc9d70816336519d3b3e44bf\", element=\"3f12461f-4a05-4f4c-bc4d-ad692371e493\")>,\n",
       " <selenium.webdriver.remote.webelement.WebElement (session=\"8726103ecc9d70816336519d3b3e44bf\", element=\"e879675d-1672-45dd-89a4-f7be027b127b\")>,\n",
       " <selenium.webdriver.remote.webelement.WebElement (session=\"8726103ecc9d70816336519d3b3e44bf\", element=\"8b9bd6aa-1297-4213-b0f4-58fa8ee9239b\")>,\n",
       " <selenium.webdriver.remote.webelement.WebElement (session=\"8726103ecc9d70816336519d3b3e44bf\", element=\"c80a7573-d632-4d26-9fdc-151a204990c2\")>,\n",
       " <selenium.webdriver.remote.webelement.WebElement (session=\"8726103ecc9d70816336519d3b3e44bf\", element=\"71279b57-cc07-4cef-b8ae-a811e60489b2\")>,\n",
       " <selenium.webdriver.remote.webelement.WebElement (session=\"8726103ecc9d70816336519d3b3e44bf\", element=\"8d0972d1-1ad5-4bb6-a13e-5869bb3a7575\")>,\n",
       " <selenium.webdriver.remote.webelement.WebElement (session=\"8726103ecc9d70816336519d3b3e44bf\", element=\"60f7da2b-143f-4a30-b363-8264bb1c29b3\")>,\n",
       " <selenium.webdriver.remote.webelement.WebElement (session=\"8726103ecc9d70816336519d3b3e44bf\", element=\"296e6684-7e8a-4264-ab0f-f0fdad8235b1\")>,\n",
       " <selenium.webdriver.remote.webelement.WebElement (session=\"8726103ecc9d70816336519d3b3e44bf\", element=\"6a6ba09f-b5e2-4920-8122-b3e728a5b8c8\")>,\n",
       " <selenium.webdriver.remote.webelement.WebElement (session=\"8726103ecc9d70816336519d3b3e44bf\", element=\"e0273580-3021-46ff-9924-0928ae3e97ab\")>,\n",
       " <selenium.webdriver.remote.webelement.WebElement (session=\"8726103ecc9d70816336519d3b3e44bf\", element=\"1fd60fef-714c-434d-926c-0793e3c1d046\")>,\n",
       " <selenium.webdriver.remote.webelement.WebElement (session=\"8726103ecc9d70816336519d3b3e44bf\", element=\"3cd75638-8cfd-4abc-a844-782121271341\")>,\n",
       " <selenium.webdriver.remote.webelement.WebElement (session=\"8726103ecc9d70816336519d3b3e44bf\", element=\"608409a1-361a-42b6-9114-b34ef89078d1\")>,\n",
       " <selenium.webdriver.remote.webelement.WebElement (session=\"8726103ecc9d70816336519d3b3e44bf\", element=\"f86f64f0-04fe-4294-a533-aadbd9ab86fd\")>,\n",
       " <selenium.webdriver.remote.webelement.WebElement (session=\"8726103ecc9d70816336519d3b3e44bf\", element=\"a6427207-e65c-44fa-ab96-b09ac6d8e49e\")>,\n",
       " <selenium.webdriver.remote.webelement.WebElement (session=\"8726103ecc9d70816336519d3b3e44bf\", element=\"26739e05-2d85-4b93-9679-5c0cfaab001b\")>,\n",
       " <selenium.webdriver.remote.webelement.WebElement (session=\"8726103ecc9d70816336519d3b3e44bf\", element=\"d15b4655-2c73-4c61-9ea4-bb8a3db718ac\")>,\n",
       " <selenium.webdriver.remote.webelement.WebElement (session=\"8726103ecc9d70816336519d3b3e44bf\", element=\"509618b4-2e2b-48df-be3b-7c6582336644\")>]"
      ]
     },
     "execution_count": 159,
     "metadata": {},
     "output_type": "execute_result"
    }
   ],
   "source": [
    "year_span=driver.find_elements_by_xpath('//span[@class=\"lister-item-year text-muted unbold\"]')\n",
    "year_span"
   ]
  },
  {
   "cell_type": "code",
   "execution_count": 160,
   "id": "0c102837",
   "metadata": {},
   "outputs": [
    {
     "data": {
      "text/plain": [
       "[]"
      ]
     },
     "execution_count": 160,
     "metadata": {},
     "output_type": "execute_result"
    }
   ],
   "source": [
    "year_span=[]\n",
    "for i in year_span:\n",
    "   year_span.append(i.text)\n",
    "    \n",
    "year_span"
   ]
  },
  {
   "cell_type": "code",
   "execution_count": 161,
   "id": "d7d8d3de",
   "metadata": {},
   "outputs": [
    {
     "name": "stderr",
     "output_type": "stream",
     "text": [
      "<ipython-input-161-9df3d8b19b1d>:1: DeprecationWarning: find_elements_by_* commands are deprecated. Please use find_elements() instead\n",
      "  genre=driver.find_elements_by_xpath('//p[@class]')\n"
     ]
    },
    {
     "data": {
      "text/plain": [
       "[<selenium.webdriver.remote.webelement.WebElement (session=\"8726103ecc9d70816336519d3b3e44bf\", element=\"55eac8a1-cdb7-490e-8e6e-c7883ca236cc\")>,\n",
       " <selenium.webdriver.remote.webelement.WebElement (session=\"8726103ecc9d70816336519d3b3e44bf\", element=\"080b2b5e-dd0c-493f-9755-9289142ca9d4\")>,\n",
       " <selenium.webdriver.remote.webelement.WebElement (session=\"8726103ecc9d70816336519d3b3e44bf\", element=\"0a7409b8-1122-40c9-8f91-5a5564267226\")>,\n",
       " <selenium.webdriver.remote.webelement.WebElement (session=\"8726103ecc9d70816336519d3b3e44bf\", element=\"c20b9994-8395-496c-b7bb-f4f7ab28e616\")>,\n",
       " <selenium.webdriver.remote.webelement.WebElement (session=\"8726103ecc9d70816336519d3b3e44bf\", element=\"4b1861cd-3c71-471a-b5ca-ee859f842f00\")>,\n",
       " <selenium.webdriver.remote.webelement.WebElement (session=\"8726103ecc9d70816336519d3b3e44bf\", element=\"e3266de7-bbd6-45cb-bb25-754003c77fba\")>,\n",
       " <selenium.webdriver.remote.webelement.WebElement (session=\"8726103ecc9d70816336519d3b3e44bf\", element=\"82fee34b-869a-40b3-8319-8e6d86182ba0\")>,\n",
       " <selenium.webdriver.remote.webelement.WebElement (session=\"8726103ecc9d70816336519d3b3e44bf\", element=\"6c14fb23-bb01-4e1a-9f47-6805fca91ce0\")>,\n",
       " <selenium.webdriver.remote.webelement.WebElement (session=\"8726103ecc9d70816336519d3b3e44bf\", element=\"a41d0f0e-2808-48d6-be85-dcb005e64365\")>,\n",
       " <selenium.webdriver.remote.webelement.WebElement (session=\"8726103ecc9d70816336519d3b3e44bf\", element=\"789fcf80-98de-44c4-91ed-ef5cc23209de\")>,\n",
       " <selenium.webdriver.remote.webelement.WebElement (session=\"8726103ecc9d70816336519d3b3e44bf\", element=\"36ec447e-1d7b-4190-864e-b563676a2235\")>,\n",
       " <selenium.webdriver.remote.webelement.WebElement (session=\"8726103ecc9d70816336519d3b3e44bf\", element=\"d723d7f0-9af4-4f19-8e63-b532307aa3b4\")>,\n",
       " <selenium.webdriver.remote.webelement.WebElement (session=\"8726103ecc9d70816336519d3b3e44bf\", element=\"7ca505eb-e08f-46ef-8ab4-41124493f094\")>,\n",
       " <selenium.webdriver.remote.webelement.WebElement (session=\"8726103ecc9d70816336519d3b3e44bf\", element=\"3b40ae0c-e3b3-458c-a861-bde7dffb356d\")>,\n",
       " <selenium.webdriver.remote.webelement.WebElement (session=\"8726103ecc9d70816336519d3b3e44bf\", element=\"03220f82-d2ce-409c-ac59-115bdb111eaa\")>,\n",
       " <selenium.webdriver.remote.webelement.WebElement (session=\"8726103ecc9d70816336519d3b3e44bf\", element=\"e0cb511c-0bc3-4d8f-b1b9-66f74d3f5354\")>,\n",
       " <selenium.webdriver.remote.webelement.WebElement (session=\"8726103ecc9d70816336519d3b3e44bf\", element=\"f7057aa6-5ad4-46ff-9f30-d2908c58717e\")>,\n",
       " <selenium.webdriver.remote.webelement.WebElement (session=\"8726103ecc9d70816336519d3b3e44bf\", element=\"73115fc4-61d8-4cd8-a81e-8c220ec962cc\")>,\n",
       " <selenium.webdriver.remote.webelement.WebElement (session=\"8726103ecc9d70816336519d3b3e44bf\", element=\"470bc5f9-790a-44f2-a59a-70b5cab3ea2f\")>,\n",
       " <selenium.webdriver.remote.webelement.WebElement (session=\"8726103ecc9d70816336519d3b3e44bf\", element=\"b0bef869-249f-41b2-82fc-8aba8f4d1791\")>,\n",
       " <selenium.webdriver.remote.webelement.WebElement (session=\"8726103ecc9d70816336519d3b3e44bf\", element=\"32b89921-17ef-4a46-b064-996353dd8d9d\")>,\n",
       " <selenium.webdriver.remote.webelement.WebElement (session=\"8726103ecc9d70816336519d3b3e44bf\", element=\"4edd96cc-f3e5-40c8-bc2b-ea74542d6923\")>,\n",
       " <selenium.webdriver.remote.webelement.WebElement (session=\"8726103ecc9d70816336519d3b3e44bf\", element=\"5c3200bc-404c-4ffe-a6d7-c2cc78289df2\")>,\n",
       " <selenium.webdriver.remote.webelement.WebElement (session=\"8726103ecc9d70816336519d3b3e44bf\", element=\"b3e4eec0-5d5d-41c6-8104-f4edb30d1e54\")>,\n",
       " <selenium.webdriver.remote.webelement.WebElement (session=\"8726103ecc9d70816336519d3b3e44bf\", element=\"8560bcba-e5bf-4ffe-a239-90fecd684f3f\")>,\n",
       " <selenium.webdriver.remote.webelement.WebElement (session=\"8726103ecc9d70816336519d3b3e44bf\", element=\"148474c7-89aa-4738-8c2d-9f6f62ad72d8\")>,\n",
       " <selenium.webdriver.remote.webelement.WebElement (session=\"8726103ecc9d70816336519d3b3e44bf\", element=\"f49b0728-47d6-4d33-9664-7d716917b154\")>,\n",
       " <selenium.webdriver.remote.webelement.WebElement (session=\"8726103ecc9d70816336519d3b3e44bf\", element=\"9922a7d9-27c9-437e-aa7a-5bfdf8c19828\")>,\n",
       " <selenium.webdriver.remote.webelement.WebElement (session=\"8726103ecc9d70816336519d3b3e44bf\", element=\"40e3208c-aa03-40b4-acec-603cf83fa83d\")>,\n",
       " <selenium.webdriver.remote.webelement.WebElement (session=\"8726103ecc9d70816336519d3b3e44bf\", element=\"4b489df3-b0c7-4414-9231-78e24e935861\")>,\n",
       " <selenium.webdriver.remote.webelement.WebElement (session=\"8726103ecc9d70816336519d3b3e44bf\", element=\"bbbbd051-8d00-4cc0-b403-332730d8b16b\")>,\n",
       " <selenium.webdriver.remote.webelement.WebElement (session=\"8726103ecc9d70816336519d3b3e44bf\", element=\"a9eae7bd-9ac7-4134-ba5d-c2d6eb8b09bb\")>,\n",
       " <selenium.webdriver.remote.webelement.WebElement (session=\"8726103ecc9d70816336519d3b3e44bf\", element=\"1b57f69c-1ae6-4b9c-a3d0-13f46ada3c70\")>,\n",
       " <selenium.webdriver.remote.webelement.WebElement (session=\"8726103ecc9d70816336519d3b3e44bf\", element=\"e1a746f0-5d1b-45b3-a3eb-7285a29095a0\")>,\n",
       " <selenium.webdriver.remote.webelement.WebElement (session=\"8726103ecc9d70816336519d3b3e44bf\", element=\"e233113d-73fa-4e1d-a895-14fbce922698\")>,\n",
       " <selenium.webdriver.remote.webelement.WebElement (session=\"8726103ecc9d70816336519d3b3e44bf\", element=\"cebc7484-540a-4ac0-8912-7e97e793ad9d\")>,\n",
       " <selenium.webdriver.remote.webelement.WebElement (session=\"8726103ecc9d70816336519d3b3e44bf\", element=\"d4824bd5-9d52-4fa5-b38e-4b99e0b0f6ca\")>,\n",
       " <selenium.webdriver.remote.webelement.WebElement (session=\"8726103ecc9d70816336519d3b3e44bf\", element=\"2ab11367-c246-480e-891f-01c6c6f9de19\")>,\n",
       " <selenium.webdriver.remote.webelement.WebElement (session=\"8726103ecc9d70816336519d3b3e44bf\", element=\"ce1297df-056a-4149-94a5-e9ed082e2b94\")>,\n",
       " <selenium.webdriver.remote.webelement.WebElement (session=\"8726103ecc9d70816336519d3b3e44bf\", element=\"457aff0a-45b9-48e9-9c65-423cc9d4ca4f\")>,\n",
       " <selenium.webdriver.remote.webelement.WebElement (session=\"8726103ecc9d70816336519d3b3e44bf\", element=\"705f72a0-bff8-4bbc-bf5e-f3936a7c5161\")>,\n",
       " <selenium.webdriver.remote.webelement.WebElement (session=\"8726103ecc9d70816336519d3b3e44bf\", element=\"e6aec92e-443c-491d-b816-4f49d7b119ef\")>,\n",
       " <selenium.webdriver.remote.webelement.WebElement (session=\"8726103ecc9d70816336519d3b3e44bf\", element=\"6c10d095-6640-453d-a78a-587fdac1d762\")>,\n",
       " <selenium.webdriver.remote.webelement.WebElement (session=\"8726103ecc9d70816336519d3b3e44bf\", element=\"5f70adaf-ced0-41c7-8f9b-0b03e1d22a79\")>,\n",
       " <selenium.webdriver.remote.webelement.WebElement (session=\"8726103ecc9d70816336519d3b3e44bf\", element=\"d41c1f82-8827-460b-8484-5d2b44e6a02d\")>,\n",
       " <selenium.webdriver.remote.webelement.WebElement (session=\"8726103ecc9d70816336519d3b3e44bf\", element=\"deb8002f-50c9-491a-8d74-e93a2c69973c\")>,\n",
       " <selenium.webdriver.remote.webelement.WebElement (session=\"8726103ecc9d70816336519d3b3e44bf\", element=\"4d218286-4e72-4f3e-b76c-b2c6f4233795\")>,\n",
       " <selenium.webdriver.remote.webelement.WebElement (session=\"8726103ecc9d70816336519d3b3e44bf\", element=\"e242cb0d-dcb8-4c62-83e0-eac7d71b49a2\")>,\n",
       " <selenium.webdriver.remote.webelement.WebElement (session=\"8726103ecc9d70816336519d3b3e44bf\", element=\"edaa11c7-979c-43bb-b7f7-24eb6f013548\")>,\n",
       " <selenium.webdriver.remote.webelement.WebElement (session=\"8726103ecc9d70816336519d3b3e44bf\", element=\"cc7bed98-c470-4c63-ba44-dea2ee6b6728\")>,\n",
       " <selenium.webdriver.remote.webelement.WebElement (session=\"8726103ecc9d70816336519d3b3e44bf\", element=\"fcf21200-d0e2-4a12-804b-8214a5d55599\")>,\n",
       " <selenium.webdriver.remote.webelement.WebElement (session=\"8726103ecc9d70816336519d3b3e44bf\", element=\"5c8f0203-df30-4548-9dc9-5a4209629fe2\")>,\n",
       " <selenium.webdriver.remote.webelement.WebElement (session=\"8726103ecc9d70816336519d3b3e44bf\", element=\"75b5ceb1-6501-4d67-b42c-e294b6957f68\")>,\n",
       " <selenium.webdriver.remote.webelement.WebElement (session=\"8726103ecc9d70816336519d3b3e44bf\", element=\"7f0588a1-549a-4e6e-a99e-cd238c87ecfa\")>,\n",
       " <selenium.webdriver.remote.webelement.WebElement (session=\"8726103ecc9d70816336519d3b3e44bf\", element=\"6c21ce0c-e030-492e-9603-ff61fba6ac1f\")>,\n",
       " <selenium.webdriver.remote.webelement.WebElement (session=\"8726103ecc9d70816336519d3b3e44bf\", element=\"bfc557e1-e55a-4f6e-b388-a661497768ab\")>,\n",
       " <selenium.webdriver.remote.webelement.WebElement (session=\"8726103ecc9d70816336519d3b3e44bf\", element=\"041db985-f22c-4f37-9078-eed66d07c523\")>,\n",
       " <selenium.webdriver.remote.webelement.WebElement (session=\"8726103ecc9d70816336519d3b3e44bf\", element=\"7d65026f-e08f-47f2-a28e-0bdea12fc8c7\")>,\n",
       " <selenium.webdriver.remote.webelement.WebElement (session=\"8726103ecc9d70816336519d3b3e44bf\", element=\"c67a49e1-0230-4d2c-9816-4dc0250d841a\")>,\n",
       " <selenium.webdriver.remote.webelement.WebElement (session=\"8726103ecc9d70816336519d3b3e44bf\", element=\"899d7375-7f2b-4613-ad0a-f991d2104475\")>,\n",
       " <selenium.webdriver.remote.webelement.WebElement (session=\"8726103ecc9d70816336519d3b3e44bf\", element=\"f1b1c95a-151e-40ea-9ee7-9cbaa5702c04\")>,\n",
       " <selenium.webdriver.remote.webelement.WebElement (session=\"8726103ecc9d70816336519d3b3e44bf\", element=\"18e97a99-e4fa-441e-88c2-b3a3ad90dc96\")>,\n",
       " <selenium.webdriver.remote.webelement.WebElement (session=\"8726103ecc9d70816336519d3b3e44bf\", element=\"ebb3a9a4-3ef4-4f3e-a562-b6f7a6971151\")>,\n",
       " <selenium.webdriver.remote.webelement.WebElement (session=\"8726103ecc9d70816336519d3b3e44bf\", element=\"670c2aa5-d784-4a07-a409-e09637cb3ec2\")>,\n",
       " <selenium.webdriver.remote.webelement.WebElement (session=\"8726103ecc9d70816336519d3b3e44bf\", element=\"c685130d-1f27-40db-8b14-95cb55a95109\")>,\n",
       " <selenium.webdriver.remote.webelement.WebElement (session=\"8726103ecc9d70816336519d3b3e44bf\", element=\"6bb74ea4-d905-40bf-bda0-f390fc4bc7e0\")>,\n",
       " <selenium.webdriver.remote.webelement.WebElement (session=\"8726103ecc9d70816336519d3b3e44bf\", element=\"ab937510-74f5-4412-9033-90ed2c99cb5c\")>,\n",
       " <selenium.webdriver.remote.webelement.WebElement (session=\"8726103ecc9d70816336519d3b3e44bf\", element=\"da1d508b-bae8-4b89-b51f-8bfb4181f200\")>,\n",
       " <selenium.webdriver.remote.webelement.WebElement (session=\"8726103ecc9d70816336519d3b3e44bf\", element=\"e44782df-66eb-4ad6-83d7-87be93b485a4\")>,\n",
       " <selenium.webdriver.remote.webelement.WebElement (session=\"8726103ecc9d70816336519d3b3e44bf\", element=\"271930ce-a139-42b8-9564-9c434d2bbcae\")>,\n",
       " <selenium.webdriver.remote.webelement.WebElement (session=\"8726103ecc9d70816336519d3b3e44bf\", element=\"a734362c-3ece-4d2d-8923-864864219d22\")>,\n",
       " <selenium.webdriver.remote.webelement.WebElement (session=\"8726103ecc9d70816336519d3b3e44bf\", element=\"758dd271-7a87-4d61-90ec-7530043784ae\")>,\n",
       " <selenium.webdriver.remote.webelement.WebElement (session=\"8726103ecc9d70816336519d3b3e44bf\", element=\"2db2de94-13fc-4620-8dbe-7a223d6724db\")>,\n",
       " <selenium.webdriver.remote.webelement.WebElement (session=\"8726103ecc9d70816336519d3b3e44bf\", element=\"5aa70ad3-92b9-4c02-8634-11101328ca6c\")>,\n",
       " <selenium.webdriver.remote.webelement.WebElement (session=\"8726103ecc9d70816336519d3b3e44bf\", element=\"b06fa236-81cd-4098-beb0-9c40d01e5605\")>,\n",
       " <selenium.webdriver.remote.webelement.WebElement (session=\"8726103ecc9d70816336519d3b3e44bf\", element=\"209ca987-d25c-4f1e-8a5b-6924ef598f08\")>,\n",
       " <selenium.webdriver.remote.webelement.WebElement (session=\"8726103ecc9d70816336519d3b3e44bf\", element=\"c5b21b6a-2a4b-49c2-aa9e-72af33fb7c9f\")>,\n",
       " <selenium.webdriver.remote.webelement.WebElement (session=\"8726103ecc9d70816336519d3b3e44bf\", element=\"552c87e2-4be6-4625-8e27-073723d6c008\")>,\n",
       " <selenium.webdriver.remote.webelement.WebElement (session=\"8726103ecc9d70816336519d3b3e44bf\", element=\"b819f9c0-bec5-4c1f-96a1-c0bf2121a422\")>,\n",
       " <selenium.webdriver.remote.webelement.WebElement (session=\"8726103ecc9d70816336519d3b3e44bf\", element=\"bd2a3c6d-f255-42b9-92a7-2deb03dd58df\")>,\n",
       " <selenium.webdriver.remote.webelement.WebElement (session=\"8726103ecc9d70816336519d3b3e44bf\", element=\"9258f819-98cf-4081-b745-1553a0761d4b\")>,\n",
       " <selenium.webdriver.remote.webelement.WebElement (session=\"8726103ecc9d70816336519d3b3e44bf\", element=\"99ecf547-59b5-42db-8b0b-4b43b5adea12\")>,\n",
       " <selenium.webdriver.remote.webelement.WebElement (session=\"8726103ecc9d70816336519d3b3e44bf\", element=\"4629aaef-e975-4c8c-81b8-7a600bba0819\")>,\n",
       " <selenium.webdriver.remote.webelement.WebElement (session=\"8726103ecc9d70816336519d3b3e44bf\", element=\"84dd4e72-4e4f-4d6a-a20a-8633657f866c\")>,\n",
       " <selenium.webdriver.remote.webelement.WebElement (session=\"8726103ecc9d70816336519d3b3e44bf\", element=\"a02b465a-95ff-4c18-bbff-6cedae23cfb4\")>,\n",
       " <selenium.webdriver.remote.webelement.WebElement (session=\"8726103ecc9d70816336519d3b3e44bf\", element=\"6a87517d-80e9-453c-98b3-f8073ee3e685\")>,\n",
       " <selenium.webdriver.remote.webelement.WebElement (session=\"8726103ecc9d70816336519d3b3e44bf\", element=\"5b261b4f-eef3-4a18-9762-b870c0646c14\")>,\n",
       " <selenium.webdriver.remote.webelement.WebElement (session=\"8726103ecc9d70816336519d3b3e44bf\", element=\"de748962-ee69-4287-bdc1-f16879b16763\")>,\n",
       " <selenium.webdriver.remote.webelement.WebElement (session=\"8726103ecc9d70816336519d3b3e44bf\", element=\"b46e078c-dc55-4eb4-b47f-fc185b37e928\")>,\n",
       " <selenium.webdriver.remote.webelement.WebElement (session=\"8726103ecc9d70816336519d3b3e44bf\", element=\"81712fcd-bc46-4c1e-85dd-e5c85c5bb467\")>,\n",
       " <selenium.webdriver.remote.webelement.WebElement (session=\"8726103ecc9d70816336519d3b3e44bf\", element=\"9af4d24f-6919-4e83-9191-7ff2d4f3af74\")>,\n",
       " <selenium.webdriver.remote.webelement.WebElement (session=\"8726103ecc9d70816336519d3b3e44bf\", element=\"ded71f03-1180-4749-bbb0-43c0066e942f\")>,\n",
       " <selenium.webdriver.remote.webelement.WebElement (session=\"8726103ecc9d70816336519d3b3e44bf\", element=\"a3584aea-9992-47ba-992c-52876bc07ad5\")>,\n",
       " <selenium.webdriver.remote.webelement.WebElement (session=\"8726103ecc9d70816336519d3b3e44bf\", element=\"fbe71fd4-dcc8-4ee1-a034-69f46d62f924\")>,\n",
       " <selenium.webdriver.remote.webelement.WebElement (session=\"8726103ecc9d70816336519d3b3e44bf\", element=\"d79ceb44-0868-49af-b463-b1767b97f521\")>,\n",
       " <selenium.webdriver.remote.webelement.WebElement (session=\"8726103ecc9d70816336519d3b3e44bf\", element=\"6daffedd-b5a1-4000-837a-615035e3dc1d\")>,\n",
       " <selenium.webdriver.remote.webelement.WebElement (session=\"8726103ecc9d70816336519d3b3e44bf\", element=\"d309f6a6-a8e2-4442-bbba-a7714177c52c\")>,\n",
       " <selenium.webdriver.remote.webelement.WebElement (session=\"8726103ecc9d70816336519d3b3e44bf\", element=\"ce1ec48d-308f-41ce-b0e1-f5b8cb51d6f7\")>,\n",
       " <selenium.webdriver.remote.webelement.WebElement (session=\"8726103ecc9d70816336519d3b3e44bf\", element=\"122a83c9-0fb0-40c0-92d7-ab2792d7e115\")>,\n",
       " <selenium.webdriver.remote.webelement.WebElement (session=\"8726103ecc9d70816336519d3b3e44bf\", element=\"3d1e6e80-ab9c-4cc9-aff3-ecaa192b1cda\")>,\n",
       " <selenium.webdriver.remote.webelement.WebElement (session=\"8726103ecc9d70816336519d3b3e44bf\", element=\"3a411555-44e8-402b-867c-9d2269090206\")>,\n",
       " <selenium.webdriver.remote.webelement.WebElement (session=\"8726103ecc9d70816336519d3b3e44bf\", element=\"c017f3e7-b04e-4782-b079-451149ab4578\")>,\n",
       " <selenium.webdriver.remote.webelement.WebElement (session=\"8726103ecc9d70816336519d3b3e44bf\", element=\"37f1fac4-25db-4974-a403-64f42de3735a\")>,\n",
       " <selenium.webdriver.remote.webelement.WebElement (session=\"8726103ecc9d70816336519d3b3e44bf\", element=\"42f4bcc2-2562-4030-8bb0-3cf9d9f1a67d\")>,\n",
       " <selenium.webdriver.remote.webelement.WebElement (session=\"8726103ecc9d70816336519d3b3e44bf\", element=\"9eed0ffc-1562-47f5-8c03-0653bfd324a0\")>,\n",
       " <selenium.webdriver.remote.webelement.WebElement (session=\"8726103ecc9d70816336519d3b3e44bf\", element=\"4e1a7fc1-0fc3-456b-8c5f-b6b2e3554aa6\")>,\n",
       " <selenium.webdriver.remote.webelement.WebElement (session=\"8726103ecc9d70816336519d3b3e44bf\", element=\"7b2981f3-6acf-445b-96c5-a6232bc2fb9d\")>,\n",
       " <selenium.webdriver.remote.webelement.WebElement (session=\"8726103ecc9d70816336519d3b3e44bf\", element=\"84f126fc-1154-4f65-b46e-f60becf66165\")>,\n",
       " <selenium.webdriver.remote.webelement.WebElement (session=\"8726103ecc9d70816336519d3b3e44bf\", element=\"b75f501a-4ecf-4f9a-b411-42ba3d1bf27d\")>,\n",
       " <selenium.webdriver.remote.webelement.WebElement (session=\"8726103ecc9d70816336519d3b3e44bf\", element=\"15fcdf0b-adb9-4f4f-a363-54d33dbb3e94\")>,\n",
       " <selenium.webdriver.remote.webelement.WebElement (session=\"8726103ecc9d70816336519d3b3e44bf\", element=\"5c303cc7-80bb-4935-a65b-fadca37b37f4\")>,\n",
       " <selenium.webdriver.remote.webelement.WebElement (session=\"8726103ecc9d70816336519d3b3e44bf\", element=\"f9b15631-1e38-457a-9eab-b915c316de68\")>,\n",
       " <selenium.webdriver.remote.webelement.WebElement (session=\"8726103ecc9d70816336519d3b3e44bf\", element=\"30f68fb3-5e9a-47dd-bae6-7125559f7531\")>,\n",
       " <selenium.webdriver.remote.webelement.WebElement (session=\"8726103ecc9d70816336519d3b3e44bf\", element=\"688baf96-6e46-4d53-83c9-86e3a16fad4a\")>,\n",
       " <selenium.webdriver.remote.webelement.WebElement (session=\"8726103ecc9d70816336519d3b3e44bf\", element=\"5668bbb1-9471-4505-803c-4641828d557e\")>,\n",
       " <selenium.webdriver.remote.webelement.WebElement (session=\"8726103ecc9d70816336519d3b3e44bf\", element=\"b6d8ca77-3488-4077-b2f6-30aa5ac99aaf\")>,\n",
       " <selenium.webdriver.remote.webelement.WebElement (session=\"8726103ecc9d70816336519d3b3e44bf\", element=\"55b43324-d889-4797-a8b9-b6b1cbfd90c7\")>,\n",
       " <selenium.webdriver.remote.webelement.WebElement (session=\"8726103ecc9d70816336519d3b3e44bf\", element=\"5fa65fa7-1da7-43cb-a719-bd110fe45aa6\")>,\n",
       " <selenium.webdriver.remote.webelement.WebElement (session=\"8726103ecc9d70816336519d3b3e44bf\", element=\"fb01d76c-8cab-4aa4-805e-c0799ede3d7a\")>,\n",
       " <selenium.webdriver.remote.webelement.WebElement (session=\"8726103ecc9d70816336519d3b3e44bf\", element=\"00ccba50-22fd-40b9-98bf-e0ac6d912886\")>,\n",
       " <selenium.webdriver.remote.webelement.WebElement (session=\"8726103ecc9d70816336519d3b3e44bf\", element=\"d01b493b-932a-45cc-929b-eacb12a3ea03\")>,\n",
       " <selenium.webdriver.remote.webelement.WebElement (session=\"8726103ecc9d70816336519d3b3e44bf\", element=\"c62a1b70-14b0-44c0-82f9-78cb8fa74930\")>,\n",
       " <selenium.webdriver.remote.webelement.WebElement (session=\"8726103ecc9d70816336519d3b3e44bf\", element=\"39e51e18-31d1-43b0-aab9-0bb886d89d2f\")>,\n",
       " <selenium.webdriver.remote.webelement.WebElement (session=\"8726103ecc9d70816336519d3b3e44bf\", element=\"7567fdc4-f13e-4906-9c10-3c16c1570a14\")>,\n",
       " <selenium.webdriver.remote.webelement.WebElement (session=\"8726103ecc9d70816336519d3b3e44bf\", element=\"3c0597cc-c81f-4784-bfae-8517112b679a\")>,\n",
       " <selenium.webdriver.remote.webelement.WebElement (session=\"8726103ecc9d70816336519d3b3e44bf\", element=\"d90f18dd-8707-4c05-9330-44ddb01ed779\")>,\n",
       " <selenium.webdriver.remote.webelement.WebElement (session=\"8726103ecc9d70816336519d3b3e44bf\", element=\"949cd97a-974d-42b3-a6a6-e0547c1561f5\")>,\n",
       " <selenium.webdriver.remote.webelement.WebElement (session=\"8726103ecc9d70816336519d3b3e44bf\", element=\"94beb67e-7602-4a31-b1df-b374b3bafb31\")>,\n",
       " <selenium.webdriver.remote.webelement.WebElement (session=\"8726103ecc9d70816336519d3b3e44bf\", element=\"824d28f5-fa91-430b-a6df-cd7fc816ef21\")>,\n",
       " <selenium.webdriver.remote.webelement.WebElement (session=\"8726103ecc9d70816336519d3b3e44bf\", element=\"e30073e9-2db7-432f-8517-725c367aa322\")>,\n",
       " <selenium.webdriver.remote.webelement.WebElement (session=\"8726103ecc9d70816336519d3b3e44bf\", element=\"deefd1dd-a2f0-4720-a65b-e9de62ae6721\")>,\n",
       " <selenium.webdriver.remote.webelement.WebElement (session=\"8726103ecc9d70816336519d3b3e44bf\", element=\"c069d198-a479-4180-8123-17a3831a9e68\")>,\n",
       " <selenium.webdriver.remote.webelement.WebElement (session=\"8726103ecc9d70816336519d3b3e44bf\", element=\"ad8cdf71-88ec-4561-8826-bf9c1b4ce888\")>,\n",
       " <selenium.webdriver.remote.webelement.WebElement (session=\"8726103ecc9d70816336519d3b3e44bf\", element=\"9df731d5-8d21-46a4-aeb5-63d1b16b7093\")>,\n",
       " <selenium.webdriver.remote.webelement.WebElement (session=\"8726103ecc9d70816336519d3b3e44bf\", element=\"2c770755-8a00-459b-92fb-81cbda5fbbec\")>,\n",
       " <selenium.webdriver.remote.webelement.WebElement (session=\"8726103ecc9d70816336519d3b3e44bf\", element=\"a47bd227-5780-4ddd-b2a4-a8b8558e321a\")>,\n",
       " <selenium.webdriver.remote.webelement.WebElement (session=\"8726103ecc9d70816336519d3b3e44bf\", element=\"fd9442b3-b57a-4f81-bb2e-c6572a564fef\")>,\n",
       " <selenium.webdriver.remote.webelement.WebElement (session=\"8726103ecc9d70816336519d3b3e44bf\", element=\"210f3b96-cf6c-432b-960b-ee5ede03b903\")>,\n",
       " <selenium.webdriver.remote.webelement.WebElement (session=\"8726103ecc9d70816336519d3b3e44bf\", element=\"9bfd4554-9ccd-4cf8-af7e-d9394960254c\")>,\n",
       " <selenium.webdriver.remote.webelement.WebElement (session=\"8726103ecc9d70816336519d3b3e44bf\", element=\"606ab91b-34ba-4dd6-90f1-870951ae66a7\")>,\n",
       " <selenium.webdriver.remote.webelement.WebElement (session=\"8726103ecc9d70816336519d3b3e44bf\", element=\"3db2bad9-bdd8-443e-9f3c-ae22f6aa3ca0\")>,\n",
       " <selenium.webdriver.remote.webelement.WebElement (session=\"8726103ecc9d70816336519d3b3e44bf\", element=\"2771bd25-8296-480e-850b-9b71d2b7ea04\")>,\n",
       " <selenium.webdriver.remote.webelement.WebElement (session=\"8726103ecc9d70816336519d3b3e44bf\", element=\"2f8e9676-6f54-462d-b745-71cd981c9e10\")>,\n",
       " <selenium.webdriver.remote.webelement.WebElement (session=\"8726103ecc9d70816336519d3b3e44bf\", element=\"d6d19e18-a52c-4c87-956b-218ad540f2e9\")>,\n",
       " <selenium.webdriver.remote.webelement.WebElement (session=\"8726103ecc9d70816336519d3b3e44bf\", element=\"17c84e9c-6fbe-4fe4-b4f7-9fc599641f83\")>,\n",
       " <selenium.webdriver.remote.webelement.WebElement (session=\"8726103ecc9d70816336519d3b3e44bf\", element=\"a79e7966-d9fd-4b46-a8ae-7c1af4b8c606\")>,\n",
       " <selenium.webdriver.remote.webelement.WebElement (session=\"8726103ecc9d70816336519d3b3e44bf\", element=\"2674d674-a283-45ed-8975-130dd38d4669\")>,\n",
       " <selenium.webdriver.remote.webelement.WebElement (session=\"8726103ecc9d70816336519d3b3e44bf\", element=\"edbc9826-e76c-4d30-b3a2-dfa684a1894a\")>,\n",
       " <selenium.webdriver.remote.webelement.WebElement (session=\"8726103ecc9d70816336519d3b3e44bf\", element=\"b3a0b92c-58ff-43b2-82d0-5229bbbf9388\")>,\n",
       " <selenium.webdriver.remote.webelement.WebElement (session=\"8726103ecc9d70816336519d3b3e44bf\", element=\"e46c9f11-4b7b-401d-9799-1d7350f45b86\")>,\n",
       " <selenium.webdriver.remote.webelement.WebElement (session=\"8726103ecc9d70816336519d3b3e44bf\", element=\"c4892e32-11c6-405b-bcdc-781e47254c85\")>,\n",
       " <selenium.webdriver.remote.webelement.WebElement (session=\"8726103ecc9d70816336519d3b3e44bf\", element=\"9fbfab34-4424-4bef-a514-9813e960d7cd\")>,\n",
       " <selenium.webdriver.remote.webelement.WebElement (session=\"8726103ecc9d70816336519d3b3e44bf\", element=\"41a9a790-4f25-48da-9ca1-73ed291689f7\")>,\n",
       " <selenium.webdriver.remote.webelement.WebElement (session=\"8726103ecc9d70816336519d3b3e44bf\", element=\"ce803ccf-1d32-4df3-bc4d-dcb08d9d2292\")>,\n",
       " <selenium.webdriver.remote.webelement.WebElement (session=\"8726103ecc9d70816336519d3b3e44bf\", element=\"46d1b008-27b1-4ae9-8938-a71f6be8bf11\")>,\n",
       " <selenium.webdriver.remote.webelement.WebElement (session=\"8726103ecc9d70816336519d3b3e44bf\", element=\"92e1b04b-e2d0-4bc4-a5a9-c6edeb1707f1\")>,\n",
       " <selenium.webdriver.remote.webelement.WebElement (session=\"8726103ecc9d70816336519d3b3e44bf\", element=\"2a23fdbb-b7d6-419d-818b-3b27c93c4151\")>,\n",
       " <selenium.webdriver.remote.webelement.WebElement (session=\"8726103ecc9d70816336519d3b3e44bf\", element=\"c35e0150-d7e7-4e9c-af07-ebd417053117\")>,\n",
       " <selenium.webdriver.remote.webelement.WebElement (session=\"8726103ecc9d70816336519d3b3e44bf\", element=\"5ed5d89d-2f17-4607-8d40-47ba6d3ed142\")>,\n",
       " <selenium.webdriver.remote.webelement.WebElement (session=\"8726103ecc9d70816336519d3b3e44bf\", element=\"ffe4bec4-73ed-4ef8-ae90-2cbd7dc637f7\")>,\n",
       " <selenium.webdriver.remote.webelement.WebElement (session=\"8726103ecc9d70816336519d3b3e44bf\", element=\"f8d96f71-fa2a-41a0-80c0-0483621aa70d\")>,\n",
       " <selenium.webdriver.remote.webelement.WebElement (session=\"8726103ecc9d70816336519d3b3e44bf\", element=\"62f2f1e1-53fc-486d-9e84-ac0efc20e34d\")>,\n",
       " <selenium.webdriver.remote.webelement.WebElement (session=\"8726103ecc9d70816336519d3b3e44bf\", element=\"bdf39e16-a66f-4d02-9a1e-af78231ad527\")>,\n",
       " <selenium.webdriver.remote.webelement.WebElement (session=\"8726103ecc9d70816336519d3b3e44bf\", element=\"60bafd75-ef35-40cf-8730-e8f2b0f60826\")>,\n",
       " <selenium.webdriver.remote.webelement.WebElement (session=\"8726103ecc9d70816336519d3b3e44bf\", element=\"9713c3b1-18f6-427c-aca7-8ab2b9f2e78c\")>,\n",
       " <selenium.webdriver.remote.webelement.WebElement (session=\"8726103ecc9d70816336519d3b3e44bf\", element=\"454f1235-a3e8-467a-89b1-9d4149954d41\")>,\n",
       " <selenium.webdriver.remote.webelement.WebElement (session=\"8726103ecc9d70816336519d3b3e44bf\", element=\"42453787-f076-4a33-abdd-7ecaecb81568\")>,\n",
       " <selenium.webdriver.remote.webelement.WebElement (session=\"8726103ecc9d70816336519d3b3e44bf\", element=\"0d5467e9-7b97-4c43-ad15-548e16171245\")>,\n",
       " <selenium.webdriver.remote.webelement.WebElement (session=\"8726103ecc9d70816336519d3b3e44bf\", element=\"77e0c6de-dc26-4638-92c6-ba16cef80287\")>,\n",
       " <selenium.webdriver.remote.webelement.WebElement (session=\"8726103ecc9d70816336519d3b3e44bf\", element=\"5c854b8a-69dd-46f2-bd06-fc792a2e0183\")>,\n",
       " <selenium.webdriver.remote.webelement.WebElement (session=\"8726103ecc9d70816336519d3b3e44bf\", element=\"b03d4df5-130f-49d9-b146-e558b782fe8b\")>,\n",
       " <selenium.webdriver.remote.webelement.WebElement (session=\"8726103ecc9d70816336519d3b3e44bf\", element=\"8a5ef476-b046-475e-99d2-eb452f326f14\")>,\n",
       " <selenium.webdriver.remote.webelement.WebElement (session=\"8726103ecc9d70816336519d3b3e44bf\", element=\"0dac99a9-ee69-483c-b740-d4517820f4a2\")>,\n",
       " <selenium.webdriver.remote.webelement.WebElement (session=\"8726103ecc9d70816336519d3b3e44bf\", element=\"f6d752ab-6dca-452a-b217-e5d6cf1cc5b0\")>,\n",
       " <selenium.webdriver.remote.webelement.WebElement (session=\"8726103ecc9d70816336519d3b3e44bf\", element=\"f4a3aacb-dc3a-47b8-903f-e3c200410f84\")>,\n",
       " <selenium.webdriver.remote.webelement.WebElement (session=\"8726103ecc9d70816336519d3b3e44bf\", element=\"09137ac9-6955-42ef-b98a-c24c5ec7a2e6\")>,\n",
       " <selenium.webdriver.remote.webelement.WebElement (session=\"8726103ecc9d70816336519d3b3e44bf\", element=\"03691eaf-f191-4f57-9fef-99e1994b0fda\")>,\n",
       " <selenium.webdriver.remote.webelement.WebElement (session=\"8726103ecc9d70816336519d3b3e44bf\", element=\"13293799-c429-410e-98b5-fd9895e5f7be\")>,\n",
       " <selenium.webdriver.remote.webelement.WebElement (session=\"8726103ecc9d70816336519d3b3e44bf\", element=\"ee2a1ea8-42bc-4530-ac35-282f0d06253e\")>,\n",
       " <selenium.webdriver.remote.webelement.WebElement (session=\"8726103ecc9d70816336519d3b3e44bf\", element=\"b0739612-d3a8-44da-9e7a-6303961094e7\")>,\n",
       " <selenium.webdriver.remote.webelement.WebElement (session=\"8726103ecc9d70816336519d3b3e44bf\", element=\"71452196-b7d7-469d-88d7-af424e89099c\")>,\n",
       " <selenium.webdriver.remote.webelement.WebElement (session=\"8726103ecc9d70816336519d3b3e44bf\", element=\"5ebe7156-c0a9-4920-b8fc-b4bdf8a0dc21\")>,\n",
       " <selenium.webdriver.remote.webelement.WebElement (session=\"8726103ecc9d70816336519d3b3e44bf\", element=\"cb9840cc-813f-47d8-8f35-84f917110467\")>,\n",
       " <selenium.webdriver.remote.webelement.WebElement (session=\"8726103ecc9d70816336519d3b3e44bf\", element=\"050ff741-111d-4ebd-9cea-3c3f488b9940\")>,\n",
       " <selenium.webdriver.remote.webelement.WebElement (session=\"8726103ecc9d70816336519d3b3e44bf\", element=\"3e0333b2-71e0-4ff5-a5d0-84dce910ce2b\")>,\n",
       " <selenium.webdriver.remote.webelement.WebElement (session=\"8726103ecc9d70816336519d3b3e44bf\", element=\"7a4f88b7-42fc-4084-ad1a-bc5682a3cc8c\")>,\n",
       " <selenium.webdriver.remote.webelement.WebElement (session=\"8726103ecc9d70816336519d3b3e44bf\", element=\"9eb7cb7f-f444-4ae4-ad39-e200853f27a0\")>,\n",
       " <selenium.webdriver.remote.webelement.WebElement (session=\"8726103ecc9d70816336519d3b3e44bf\", element=\"e3863028-cf10-45da-9daf-830a6ce8bd63\")>,\n",
       " <selenium.webdriver.remote.webelement.WebElement (session=\"8726103ecc9d70816336519d3b3e44bf\", element=\"a369e751-7670-4b57-af4d-7de00596dc3c\")>,\n",
       " <selenium.webdriver.remote.webelement.WebElement (session=\"8726103ecc9d70816336519d3b3e44bf\", element=\"98459232-b43b-4b24-9c12-45b978e35f73\")>,\n",
       " <selenium.webdriver.remote.webelement.WebElement (session=\"8726103ecc9d70816336519d3b3e44bf\", element=\"4d4684de-088e-444b-af06-463990a8098c\")>,\n",
       " <selenium.webdriver.remote.webelement.WebElement (session=\"8726103ecc9d70816336519d3b3e44bf\", element=\"b5f49c0e-9c0c-4c88-b69f-694390e68a43\")>,\n",
       " <selenium.webdriver.remote.webelement.WebElement (session=\"8726103ecc9d70816336519d3b3e44bf\", element=\"fc7edc4f-71b7-4776-afbb-286f1dddcf5e\")>,\n",
       " <selenium.webdriver.remote.webelement.WebElement (session=\"8726103ecc9d70816336519d3b3e44bf\", element=\"0ab74acf-11e6-4684-b6f5-93dfb1cd8b6d\")>,\n",
       " <selenium.webdriver.remote.webelement.WebElement (session=\"8726103ecc9d70816336519d3b3e44bf\", element=\"4dd0d5ba-f81f-4ddf-86a3-5ac023706df7\")>,\n",
       " <selenium.webdriver.remote.webelement.WebElement (session=\"8726103ecc9d70816336519d3b3e44bf\", element=\"bdc7c209-49a7-443a-a3b4-5bd46bc264d2\")>,\n",
       " <selenium.webdriver.remote.webelement.WebElement (session=\"8726103ecc9d70816336519d3b3e44bf\", element=\"53f371e7-ce41-472b-bdff-ee4151585b9e\")>,\n",
       " <selenium.webdriver.remote.webelement.WebElement (session=\"8726103ecc9d70816336519d3b3e44bf\", element=\"73419997-d13e-486f-8d2e-f6361b04235c\")>,\n",
       " <selenium.webdriver.remote.webelement.WebElement (session=\"8726103ecc9d70816336519d3b3e44bf\", element=\"83975f14-19e8-4d59-8faf-3694d412161b\")>,\n",
       " <selenium.webdriver.remote.webelement.WebElement (session=\"8726103ecc9d70816336519d3b3e44bf\", element=\"37b22cf4-2eef-4514-861d-aa78bfe4a30b\")>,\n",
       " <selenium.webdriver.remote.webelement.WebElement (session=\"8726103ecc9d70816336519d3b3e44bf\", element=\"c29798e2-e70e-43e4-86c9-cff61e0dbfca\")>,\n",
       " <selenium.webdriver.remote.webelement.WebElement (session=\"8726103ecc9d70816336519d3b3e44bf\", element=\"fac727b8-8099-4f85-8984-05107d31241d\")>,\n",
       " <selenium.webdriver.remote.webelement.WebElement (session=\"8726103ecc9d70816336519d3b3e44bf\", element=\"c57070aa-a559-4c4f-85fd-393907ee885b\")>,\n",
       " <selenium.webdriver.remote.webelement.WebElement (session=\"8726103ecc9d70816336519d3b3e44bf\", element=\"72803cfa-ecda-4b05-965b-7a9704185d81\")>,\n",
       " <selenium.webdriver.remote.webelement.WebElement (session=\"8726103ecc9d70816336519d3b3e44bf\", element=\"55b759af-2306-41c6-8b62-7651f53ba2d8\")>,\n",
       " <selenium.webdriver.remote.webelement.WebElement (session=\"8726103ecc9d70816336519d3b3e44bf\", element=\"4b9afef1-05ad-4670-980b-e401568d2338\")>,\n",
       " <selenium.webdriver.remote.webelement.WebElement (session=\"8726103ecc9d70816336519d3b3e44bf\", element=\"79c52e79-c517-4a92-810b-05539328d5bf\")>,\n",
       " <selenium.webdriver.remote.webelement.WebElement (session=\"8726103ecc9d70816336519d3b3e44bf\", element=\"6799da9a-4f84-45e3-aa17-e907c8be70ee\")>,\n",
       " <selenium.webdriver.remote.webelement.WebElement (session=\"8726103ecc9d70816336519d3b3e44bf\", element=\"ae47084c-391c-439f-9f79-19857bcdf27d\")>,\n",
       " <selenium.webdriver.remote.webelement.WebElement (session=\"8726103ecc9d70816336519d3b3e44bf\", element=\"583ba4af-b1a3-4ed3-86d9-5d823f41d8a0\")>,\n",
       " <selenium.webdriver.remote.webelement.WebElement (session=\"8726103ecc9d70816336519d3b3e44bf\", element=\"83b7adc4-7661-431d-976e-491b4eebae20\")>,\n",
       " <selenium.webdriver.remote.webelement.WebElement (session=\"8726103ecc9d70816336519d3b3e44bf\", element=\"07e20226-b954-439d-88a9-37f0ae5c2756\")>,\n",
       " <selenium.webdriver.remote.webelement.WebElement (session=\"8726103ecc9d70816336519d3b3e44bf\", element=\"94925136-bc54-4437-b3e3-84f794bf8bbc\")>,\n",
       " <selenium.webdriver.remote.webelement.WebElement (session=\"8726103ecc9d70816336519d3b3e44bf\", element=\"9163ff5a-819f-466d-a3be-f093183a42c2\")>,\n",
       " <selenium.webdriver.remote.webelement.WebElement (session=\"8726103ecc9d70816336519d3b3e44bf\", element=\"ef8033c9-257c-44b3-b896-7642220f0041\")>,\n",
       " <selenium.webdriver.remote.webelement.WebElement (session=\"8726103ecc9d70816336519d3b3e44bf\", element=\"e9e998a1-c140-47ed-9db1-0724f2c11e11\")>,\n",
       " <selenium.webdriver.remote.webelement.WebElement (session=\"8726103ecc9d70816336519d3b3e44bf\", element=\"13dec304-0951-4e97-9c3d-a908f559db44\")>,\n",
       " <selenium.webdriver.remote.webelement.WebElement (session=\"8726103ecc9d70816336519d3b3e44bf\", element=\"a7c688f4-d096-4644-a795-cdc4fa3fbd13\")>,\n",
       " <selenium.webdriver.remote.webelement.WebElement (session=\"8726103ecc9d70816336519d3b3e44bf\", element=\"90c7730c-0b41-4bfd-8788-581ec40bf5fd\")>,\n",
       " <selenium.webdriver.remote.webelement.WebElement (session=\"8726103ecc9d70816336519d3b3e44bf\", element=\"e845d245-0b44-4fa6-aa4c-b07b5944220f\")>,\n",
       " <selenium.webdriver.remote.webelement.WebElement (session=\"8726103ecc9d70816336519d3b3e44bf\", element=\"02e8e174-5a87-46f0-8559-3ab5aee5f3fd\")>,\n",
       " <selenium.webdriver.remote.webelement.WebElement (session=\"8726103ecc9d70816336519d3b3e44bf\", element=\"e719d50d-aac5-4f70-bca9-05fb899f9a6a\")>,\n",
       " <selenium.webdriver.remote.webelement.WebElement (session=\"8726103ecc9d70816336519d3b3e44bf\", element=\"bcc64ee5-d04f-4d5a-b04c-3eb5dce51be6\")>,\n",
       " <selenium.webdriver.remote.webelement.WebElement (session=\"8726103ecc9d70816336519d3b3e44bf\", element=\"3f1a7027-ae00-4321-943b-4c4b38296bc7\")>,\n",
       " <selenium.webdriver.remote.webelement.WebElement (session=\"8726103ecc9d70816336519d3b3e44bf\", element=\"3ef9a228-9a8e-4458-8508-b04e94f9216b\")>,\n",
       " <selenium.webdriver.remote.webelement.WebElement (session=\"8726103ecc9d70816336519d3b3e44bf\", element=\"7e9288bd-ca12-456a-be58-5deb0b89747d\")>,\n",
       " <selenium.webdriver.remote.webelement.WebElement (session=\"8726103ecc9d70816336519d3b3e44bf\", element=\"18207066-b020-44d7-b31d-90c17953f67c\")>,\n",
       " <selenium.webdriver.remote.webelement.WebElement (session=\"8726103ecc9d70816336519d3b3e44bf\", element=\"440284a3-84fa-49a3-b65e-9c4a29a81cbc\")>,\n",
       " <selenium.webdriver.remote.webelement.WebElement (session=\"8726103ecc9d70816336519d3b3e44bf\", element=\"a600bd30-c7a3-47bc-8ded-26cff167b6bc\")>,\n",
       " <selenium.webdriver.remote.webelement.WebElement (session=\"8726103ecc9d70816336519d3b3e44bf\", element=\"b148cfa6-45ae-48b9-906d-14c85227b62d\")>,\n",
       " <selenium.webdriver.remote.webelement.WebElement (session=\"8726103ecc9d70816336519d3b3e44bf\", element=\"929ed0a9-e1b2-4e31-add8-1670492b35bd\")>,\n",
       " <selenium.webdriver.remote.webelement.WebElement (session=\"8726103ecc9d70816336519d3b3e44bf\", element=\"3062a1b2-7911-4c49-b35b-31d580d1e35b\")>,\n",
       " <selenium.webdriver.remote.webelement.WebElement (session=\"8726103ecc9d70816336519d3b3e44bf\", element=\"d738d9ef-64cd-4c15-9cf6-651d83020c8d\")>,\n",
       " <selenium.webdriver.remote.webelement.WebElement (session=\"8726103ecc9d70816336519d3b3e44bf\", element=\"aa646b43-a348-4eae-aaa8-bdfdee9e7ce4\")>,\n",
       " <selenium.webdriver.remote.webelement.WebElement (session=\"8726103ecc9d70816336519d3b3e44bf\", element=\"34afb7ab-cc44-4882-b0f3-9f5879fbdcef\")>,\n",
       " <selenium.webdriver.remote.webelement.WebElement (session=\"8726103ecc9d70816336519d3b3e44bf\", element=\"2bac618d-c4d2-4b50-a209-1e070564e56a\")>,\n",
       " <selenium.webdriver.remote.webelement.WebElement (session=\"8726103ecc9d70816336519d3b3e44bf\", element=\"51414d06-de79-4ed9-b75a-d5383c7b241c\")>,\n",
       " <selenium.webdriver.remote.webelement.WebElement (session=\"8726103ecc9d70816336519d3b3e44bf\", element=\"2ce398c7-715e-4053-aa6c-17ec1df623f7\")>,\n",
       " <selenium.webdriver.remote.webelement.WebElement (session=\"8726103ecc9d70816336519d3b3e44bf\", element=\"f03896ba-6bf6-439f-9506-6327cae865ed\")>,\n",
       " <selenium.webdriver.remote.webelement.WebElement (session=\"8726103ecc9d70816336519d3b3e44bf\", element=\"184f9491-e5dc-4105-bb07-45e7053706c7\")>,\n",
       " <selenium.webdriver.remote.webelement.WebElement (session=\"8726103ecc9d70816336519d3b3e44bf\", element=\"0cee017e-fd3c-4ad8-a012-1b0b27a99ebf\")>,\n",
       " <selenium.webdriver.remote.webelement.WebElement (session=\"8726103ecc9d70816336519d3b3e44bf\", element=\"ff86a06d-9b5e-4b76-baeb-09ada89b835f\")>,\n",
       " <selenium.webdriver.remote.webelement.WebElement (session=\"8726103ecc9d70816336519d3b3e44bf\", element=\"17513f30-e1da-4d62-ba1f-50e2b4bfad62\")>,\n",
       " <selenium.webdriver.remote.webelement.WebElement (session=\"8726103ecc9d70816336519d3b3e44bf\", element=\"e272aa99-b935-4590-aca8-f247a7138fdc\")>,\n",
       " <selenium.webdriver.remote.webelement.WebElement (session=\"8726103ecc9d70816336519d3b3e44bf\", element=\"537a6483-2613-4b13-bfd9-874b6fe49244\")>,\n",
       " <selenium.webdriver.remote.webelement.WebElement (session=\"8726103ecc9d70816336519d3b3e44bf\", element=\"32e4aa01-1acb-4211-b21b-5270f0f57d43\")>,\n",
       " <selenium.webdriver.remote.webelement.WebElement (session=\"8726103ecc9d70816336519d3b3e44bf\", element=\"d4d708c1-0a0f-4626-a5c1-2221f7f21271\")>,\n",
       " <selenium.webdriver.remote.webelement.WebElement (session=\"8726103ecc9d70816336519d3b3e44bf\", element=\"efdeb6a3-ae04-4fbd-b42d-bc407216144d\")>,\n",
       " <selenium.webdriver.remote.webelement.WebElement (session=\"8726103ecc9d70816336519d3b3e44bf\", element=\"eea3f026-7a5a-4176-85fd-781b01344380\")>,\n",
       " <selenium.webdriver.remote.webelement.WebElement (session=\"8726103ecc9d70816336519d3b3e44bf\", element=\"0f3e0ea6-7e92-4fd6-a7e8-318ab6489e6b\")>,\n",
       " <selenium.webdriver.remote.webelement.WebElement (session=\"8726103ecc9d70816336519d3b3e44bf\", element=\"10dada14-58ac-4b25-850d-1f961318e4ab\")>,\n",
       " <selenium.webdriver.remote.webelement.WebElement (session=\"8726103ecc9d70816336519d3b3e44bf\", element=\"cbd636ad-831d-4dd2-8589-8ffdeb7cf63f\")>,\n",
       " <selenium.webdriver.remote.webelement.WebElement (session=\"8726103ecc9d70816336519d3b3e44bf\", element=\"078faf46-9bf3-456b-9fe7-90d7351ef7be\")>,\n",
       " <selenium.webdriver.remote.webelement.WebElement (session=\"8726103ecc9d70816336519d3b3e44bf\", element=\"07cdd164-47f2-4820-9e93-7772c5286f80\")>,\n",
       " <selenium.webdriver.remote.webelement.WebElement (session=\"8726103ecc9d70816336519d3b3e44bf\", element=\"15bafcef-f2fb-49df-8dfa-d099e605882d\")>,\n",
       " <selenium.webdriver.remote.webelement.WebElement (session=\"8726103ecc9d70816336519d3b3e44bf\", element=\"ea80d16b-4d12-4aee-992e-f2c99d341795\")>,\n",
       " <selenium.webdriver.remote.webelement.WebElement (session=\"8726103ecc9d70816336519d3b3e44bf\", element=\"dddceafb-c776-4da1-9fd8-07dedf2e23fa\")>,\n",
       " <selenium.webdriver.remote.webelement.WebElement (session=\"8726103ecc9d70816336519d3b3e44bf\", element=\"3bfeb343-8c05-4328-9322-0ac28f207cd7\")>,\n",
       " <selenium.webdriver.remote.webelement.WebElement (session=\"8726103ecc9d70816336519d3b3e44bf\", element=\"2646fcd0-b7d0-45d9-a743-6c08ef403c05\")>,\n",
       " <selenium.webdriver.remote.webelement.WebElement (session=\"8726103ecc9d70816336519d3b3e44bf\", element=\"465c6992-e6d1-4494-aceb-81e2566149c1\")>,\n",
       " <selenium.webdriver.remote.webelement.WebElement (session=\"8726103ecc9d70816336519d3b3e44bf\", element=\"b2f7734d-6053-4c93-901b-cecc21a0ebdf\")>,\n",
       " <selenium.webdriver.remote.webelement.WebElement (session=\"8726103ecc9d70816336519d3b3e44bf\", element=\"6e7dc5a6-4b4d-4e47-9f97-9fdcd0481d72\")>,\n",
       " <selenium.webdriver.remote.webelement.WebElement (session=\"8726103ecc9d70816336519d3b3e44bf\", element=\"d720b9a2-280c-4814-aa0e-ebaf0b1171e0\")>,\n",
       " <selenium.webdriver.remote.webelement.WebElement (session=\"8726103ecc9d70816336519d3b3e44bf\", element=\"c4b9438e-c8cc-421c-9957-ce3a5947b420\")>,\n",
       " <selenium.webdriver.remote.webelement.WebElement (session=\"8726103ecc9d70816336519d3b3e44bf\", element=\"d27025b1-0a38-4364-8d4f-926a72dcf7f1\")>,\n",
       " <selenium.webdriver.remote.webelement.WebElement (session=\"8726103ecc9d70816336519d3b3e44bf\", element=\"ac1a3c64-b497-452f-8d1f-7dd418b451e0\")>,\n",
       " <selenium.webdriver.remote.webelement.WebElement (session=\"8726103ecc9d70816336519d3b3e44bf\", element=\"a0697513-ab1f-49cb-a873-09ea83536c0c\")>,\n",
       " <selenium.webdriver.remote.webelement.WebElement (session=\"8726103ecc9d70816336519d3b3e44bf\", element=\"01d2b718-7a5e-49c6-9fa3-49af0d3cc081\")>,\n",
       " <selenium.webdriver.remote.webelement.WebElement (session=\"8726103ecc9d70816336519d3b3e44bf\", element=\"7753db36-cc9e-438f-9916-47e6555951f0\")>,\n",
       " <selenium.webdriver.remote.webelement.WebElement (session=\"8726103ecc9d70816336519d3b3e44bf\", element=\"6272d0aa-f1c9-4f67-a8f8-ee2b0323145d\")>,\n",
       " <selenium.webdriver.remote.webelement.WebElement (session=\"8726103ecc9d70816336519d3b3e44bf\", element=\"4c7f9266-d112-4541-916b-a7323f6aae1f\")>,\n",
       " <selenium.webdriver.remote.webelement.WebElement (session=\"8726103ecc9d70816336519d3b3e44bf\", element=\"1bc585bb-b24a-4017-b364-1edbdbfac015\")>,\n",
       " <selenium.webdriver.remote.webelement.WebElement (session=\"8726103ecc9d70816336519d3b3e44bf\", element=\"46dc85d1-74b5-4d17-899c-7dd1ef911e23\")>,\n",
       " <selenium.webdriver.remote.webelement.WebElement (session=\"8726103ecc9d70816336519d3b3e44bf\", element=\"940f86bf-fb67-499d-bb41-a213f97cf0e3\")>,\n",
       " <selenium.webdriver.remote.webelement.WebElement (session=\"8726103ecc9d70816336519d3b3e44bf\", element=\"b81e3942-41f5-4c6e-97a3-4840ca55a5ee\")>,\n",
       " <selenium.webdriver.remote.webelement.WebElement (session=\"8726103ecc9d70816336519d3b3e44bf\", element=\"1b25873f-3d4c-4541-8df7-c4939c6b8058\")>,\n",
       " <selenium.webdriver.remote.webelement.WebElement (session=\"8726103ecc9d70816336519d3b3e44bf\", element=\"182e301d-cdf1-48eb-831e-6221eee5e99f\")>,\n",
       " <selenium.webdriver.remote.webelement.WebElement (session=\"8726103ecc9d70816336519d3b3e44bf\", element=\"eec6de9d-ebdd-4a97-accc-f1a0337b7df8\")>,\n",
       " <selenium.webdriver.remote.webelement.WebElement (session=\"8726103ecc9d70816336519d3b3e44bf\", element=\"7b1ff589-96e3-4aed-86cb-56d2be4ca54b\")>,\n",
       " <selenium.webdriver.remote.webelement.WebElement (session=\"8726103ecc9d70816336519d3b3e44bf\", element=\"2017ce05-ed0b-4244-bfad-727e93c230f8\")>,\n",
       " <selenium.webdriver.remote.webelement.WebElement (session=\"8726103ecc9d70816336519d3b3e44bf\", element=\"098b53ac-6931-4bf5-b39f-0b022fc3c57b\")>,\n",
       " <selenium.webdriver.remote.webelement.WebElement (session=\"8726103ecc9d70816336519d3b3e44bf\", element=\"95c4219a-effa-42f6-acea-c71ee38cdf20\")>,\n",
       " <selenium.webdriver.remote.webelement.WebElement (session=\"8726103ecc9d70816336519d3b3e44bf\", element=\"e191e7aa-81f8-451f-b916-3812d100a53e\")>,\n",
       " <selenium.webdriver.remote.webelement.WebElement (session=\"8726103ecc9d70816336519d3b3e44bf\", element=\"bcd99d8e-ff32-430d-9524-2ae4ebece828\")>,\n",
       " <selenium.webdriver.remote.webelement.WebElement (session=\"8726103ecc9d70816336519d3b3e44bf\", element=\"af5d04a0-b452-4659-8ecb-c54ed7f11050\")>,\n",
       " <selenium.webdriver.remote.webelement.WebElement (session=\"8726103ecc9d70816336519d3b3e44bf\", element=\"48336ca7-cacc-45b2-8cd1-6bd9adcfb9be\")>,\n",
       " <selenium.webdriver.remote.webelement.WebElement (session=\"8726103ecc9d70816336519d3b3e44bf\", element=\"6906262d-bac9-4838-94cf-fc5cc8f82f0e\")>,\n",
       " <selenium.webdriver.remote.webelement.WebElement (session=\"8726103ecc9d70816336519d3b3e44bf\", element=\"90f51e2e-1d73-460f-964a-7fc20198921c\")>,\n",
       " <selenium.webdriver.remote.webelement.WebElement (session=\"8726103ecc9d70816336519d3b3e44bf\", element=\"01bc799a-6b0f-4218-82bc-7ce792fa6f4e\")>,\n",
       " <selenium.webdriver.remote.webelement.WebElement (session=\"8726103ecc9d70816336519d3b3e44bf\", element=\"4a75e837-8ab0-434a-8709-402db4e37e8c\")>,\n",
       " <selenium.webdriver.remote.webelement.WebElement (session=\"8726103ecc9d70816336519d3b3e44bf\", element=\"26ea1426-5163-4441-a1f1-b516a12903fa\")>,\n",
       " <selenium.webdriver.remote.webelement.WebElement (session=\"8726103ecc9d70816336519d3b3e44bf\", element=\"6e63b618-a24d-4f88-a3f2-b5f836106e52\")>,\n",
       " <selenium.webdriver.remote.webelement.WebElement (session=\"8726103ecc9d70816336519d3b3e44bf\", element=\"64266ea4-d643-42b9-95dc-9132df5378a3\")>,\n",
       " <selenium.webdriver.remote.webelement.WebElement (session=\"8726103ecc9d70816336519d3b3e44bf\", element=\"094a9701-2bdb-49fd-87ee-67d6f6811dc8\")>,\n",
       " <selenium.webdriver.remote.webelement.WebElement (session=\"8726103ecc9d70816336519d3b3e44bf\", element=\"1d530fde-927c-4d22-8a87-77483f6c2eb0\")>,\n",
       " <selenium.webdriver.remote.webelement.WebElement (session=\"8726103ecc9d70816336519d3b3e44bf\", element=\"2eb05b8e-9b93-479a-8f02-91c30c5d22c7\")>,\n",
       " <selenium.webdriver.remote.webelement.WebElement (session=\"8726103ecc9d70816336519d3b3e44bf\", element=\"4e8d5863-9501-4b7a-82b9-047867846c52\")>,\n",
       " <selenium.webdriver.remote.webelement.WebElement (session=\"8726103ecc9d70816336519d3b3e44bf\", element=\"34dbc02a-35b1-4f70-83fc-3ca38c67e903\")>,\n",
       " <selenium.webdriver.remote.webelement.WebElement (session=\"8726103ecc9d70816336519d3b3e44bf\", element=\"01a8e521-b6e2-4048-b24f-176a37da6d5e\")>,\n",
       " <selenium.webdriver.remote.webelement.WebElement (session=\"8726103ecc9d70816336519d3b3e44bf\", element=\"c08d1035-f7b5-4a6c-9bee-61ef2df02450\")>,\n",
       " <selenium.webdriver.remote.webelement.WebElement (session=\"8726103ecc9d70816336519d3b3e44bf\", element=\"a0917dd5-6853-4ebd-90db-fa71a0be110f\")>,\n",
       " <selenium.webdriver.remote.webelement.WebElement (session=\"8726103ecc9d70816336519d3b3e44bf\", element=\"45ad263b-35fd-4693-908b-186ae5a04b3b\")>,\n",
       " <selenium.webdriver.remote.webelement.WebElement (session=\"8726103ecc9d70816336519d3b3e44bf\", element=\"2235a875-5840-4452-b184-d9a94a178299\")>,\n",
       " <selenium.webdriver.remote.webelement.WebElement (session=\"8726103ecc9d70816336519d3b3e44bf\", element=\"d2426cd8-d93b-4151-9de7-7800f919a176\")>,\n",
       " <selenium.webdriver.remote.webelement.WebElement (session=\"8726103ecc9d70816336519d3b3e44bf\", element=\"d40e830b-145f-4a4e-a02e-b78bcfa3face\")>,\n",
       " <selenium.webdriver.remote.webelement.WebElement (session=\"8726103ecc9d70816336519d3b3e44bf\", element=\"03e4c513-95b6-4297-8578-cb00d6bd9d08\")>,\n",
       " <selenium.webdriver.remote.webelement.WebElement (session=\"8726103ecc9d70816336519d3b3e44bf\", element=\"df32a141-039c-48d1-b120-bb23fffa5718\")>,\n",
       " <selenium.webdriver.remote.webelement.WebElement (session=\"8726103ecc9d70816336519d3b3e44bf\", element=\"2ceb83a1-2d42-43cb-bc9b-3e90312e72bc\")>,\n",
       " <selenium.webdriver.remote.webelement.WebElement (session=\"8726103ecc9d70816336519d3b3e44bf\", element=\"72811ad8-de65-4bdc-8786-aa21ad17cbf0\")>,\n",
       " <selenium.webdriver.remote.webelement.WebElement (session=\"8726103ecc9d70816336519d3b3e44bf\", element=\"b9a16af8-9e13-47b8-bcb5-9551f65d17a7\")>,\n",
       " <selenium.webdriver.remote.webelement.WebElement (session=\"8726103ecc9d70816336519d3b3e44bf\", element=\"3e3527cf-2257-41cd-bc41-1e2ad75fbc68\")>,\n",
       " <selenium.webdriver.remote.webelement.WebElement (session=\"8726103ecc9d70816336519d3b3e44bf\", element=\"57fcbe19-4469-4386-880a-fd1b7d4f30ee\")>,\n",
       " <selenium.webdriver.remote.webelement.WebElement (session=\"8726103ecc9d70816336519d3b3e44bf\", element=\"3a988c29-f449-4263-9dfe-59958203cdb8\")>,\n",
       " <selenium.webdriver.remote.webelement.WebElement (session=\"8726103ecc9d70816336519d3b3e44bf\", element=\"caae836d-50c2-471e-860f-cbbb4702355f\")>,\n",
       " <selenium.webdriver.remote.webelement.WebElement (session=\"8726103ecc9d70816336519d3b3e44bf\", element=\"77565881-defe-48cc-a5c4-e1b3e876c985\")>,\n",
       " <selenium.webdriver.remote.webelement.WebElement (session=\"8726103ecc9d70816336519d3b3e44bf\", element=\"ee85d768-27d3-443e-bce5-f0ced46e4627\")>,\n",
       " <selenium.webdriver.remote.webelement.WebElement (session=\"8726103ecc9d70816336519d3b3e44bf\", element=\"b502ccac-2086-433d-af3a-ee49517614ef\")>,\n",
       " <selenium.webdriver.remote.webelement.WebElement (session=\"8726103ecc9d70816336519d3b3e44bf\", element=\"115d259c-3764-4539-80a1-3369ef49f194\")>,\n",
       " <selenium.webdriver.remote.webelement.WebElement (session=\"8726103ecc9d70816336519d3b3e44bf\", element=\"71c0fbb4-8057-467a-be86-ec4998ec9cef\")>,\n",
       " <selenium.webdriver.remote.webelement.WebElement (session=\"8726103ecc9d70816336519d3b3e44bf\", element=\"7516c149-d041-40fb-974c-bd0c0d3cec84\")>,\n",
       " <selenium.webdriver.remote.webelement.WebElement (session=\"8726103ecc9d70816336519d3b3e44bf\", element=\"e9562870-b387-45f6-b7b5-74dc8b411882\")>,\n",
       " <selenium.webdriver.remote.webelement.WebElement (session=\"8726103ecc9d70816336519d3b3e44bf\", element=\"5f55eb06-8f5f-49ff-8624-4a2d186232ad\")>,\n",
       " <selenium.webdriver.remote.webelement.WebElement (session=\"8726103ecc9d70816336519d3b3e44bf\", element=\"f1ac7c15-0b2e-4479-8348-45b5d42f3527\")>,\n",
       " <selenium.webdriver.remote.webelement.WebElement (session=\"8726103ecc9d70816336519d3b3e44bf\", element=\"45429b5d-c98a-4534-9d5f-616a88e15ea2\")>,\n",
       " <selenium.webdriver.remote.webelement.WebElement (session=\"8726103ecc9d70816336519d3b3e44bf\", element=\"893f05ae-a89f-40f1-81ae-73a4ec3d6234\")>,\n",
       " <selenium.webdriver.remote.webelement.WebElement (session=\"8726103ecc9d70816336519d3b3e44bf\", element=\"cb01b052-cbb9-4352-a2c5-c16f6763c1c6\")>,\n",
       " <selenium.webdriver.remote.webelement.WebElement (session=\"8726103ecc9d70816336519d3b3e44bf\", element=\"08db122c-dad2-4b1f-8b16-eed882dc1c09\")>,\n",
       " <selenium.webdriver.remote.webelement.WebElement (session=\"8726103ecc9d70816336519d3b3e44bf\", element=\"d8a669fb-8919-4900-b006-20753840c09e\")>,\n",
       " <selenium.webdriver.remote.webelement.WebElement (session=\"8726103ecc9d70816336519d3b3e44bf\", element=\"3027bfc9-2d83-419d-85cf-a3126865bba0\")>,\n",
       " <selenium.webdriver.remote.webelement.WebElement (session=\"8726103ecc9d70816336519d3b3e44bf\", element=\"d61e55e6-1a86-447a-b493-47dd51fcbba9\")>,\n",
       " <selenium.webdriver.remote.webelement.WebElement (session=\"8726103ecc9d70816336519d3b3e44bf\", element=\"1846d491-77dc-4550-8201-82161442dc50\")>,\n",
       " <selenium.webdriver.remote.webelement.WebElement (session=\"8726103ecc9d70816336519d3b3e44bf\", element=\"56c771a4-6cd5-4de6-bed3-3aa3c90d50e2\")>,\n",
       " <selenium.webdriver.remote.webelement.WebElement (session=\"8726103ecc9d70816336519d3b3e44bf\", element=\"0722ecc4-efab-413c-9615-ce770e86b255\")>,\n",
       " <selenium.webdriver.remote.webelement.WebElement (session=\"8726103ecc9d70816336519d3b3e44bf\", element=\"db8e03e6-c2a0-4a7a-bbb3-9ba3ccad7442\")>,\n",
       " <selenium.webdriver.remote.webelement.WebElement (session=\"8726103ecc9d70816336519d3b3e44bf\", element=\"b1fa5580-1243-44ba-a85d-8b4317b6daf9\")>,\n",
       " <selenium.webdriver.remote.webelement.WebElement (session=\"8726103ecc9d70816336519d3b3e44bf\", element=\"9fce59d2-8f48-4b1a-8fca-3c6c2eeed460\")>,\n",
       " <selenium.webdriver.remote.webelement.WebElement (session=\"8726103ecc9d70816336519d3b3e44bf\", element=\"e6befdfd-1b35-491c-a8d2-72e627ca2fe2\")>,\n",
       " <selenium.webdriver.remote.webelement.WebElement (session=\"8726103ecc9d70816336519d3b3e44bf\", element=\"7250b76d-e204-4b46-8e5b-d6f27f416c85\")>,\n",
       " <selenium.webdriver.remote.webelement.WebElement (session=\"8726103ecc9d70816336519d3b3e44bf\", element=\"360a3be7-4156-478e-a73e-035b079850f3\")>,\n",
       " <selenium.webdriver.remote.webelement.WebElement (session=\"8726103ecc9d70816336519d3b3e44bf\", element=\"62cffea4-70d9-4eaf-a092-5ff0a1e15a40\")>,\n",
       " <selenium.webdriver.remote.webelement.WebElement (session=\"8726103ecc9d70816336519d3b3e44bf\", element=\"6cbe609b-fe05-4ec8-a87c-f60b33f19de3\")>,\n",
       " <selenium.webdriver.remote.webelement.WebElement (session=\"8726103ecc9d70816336519d3b3e44bf\", element=\"b3d39e9e-abad-4872-9f46-fde8673042db\")>,\n",
       " <selenium.webdriver.remote.webelement.WebElement (session=\"8726103ecc9d70816336519d3b3e44bf\", element=\"34212a8b-fc49-4107-9a14-f61a1f2de061\")>,\n",
       " <selenium.webdriver.remote.webelement.WebElement (session=\"8726103ecc9d70816336519d3b3e44bf\", element=\"bedcaf33-3554-4329-b821-7b30e9c796e8\")>,\n",
       " <selenium.webdriver.remote.webelement.WebElement (session=\"8726103ecc9d70816336519d3b3e44bf\", element=\"b5440290-66c2-4e47-a1cd-10f8c67f2984\")>,\n",
       " <selenium.webdriver.remote.webelement.WebElement (session=\"8726103ecc9d70816336519d3b3e44bf\", element=\"cd8785cc-0474-4700-9acb-3c868ae7bdde\")>,\n",
       " <selenium.webdriver.remote.webelement.WebElement (session=\"8726103ecc9d70816336519d3b3e44bf\", element=\"dde3aeaf-40da-405a-9401-8d118eb90ecf\")>,\n",
       " <selenium.webdriver.remote.webelement.WebElement (session=\"8726103ecc9d70816336519d3b3e44bf\", element=\"670bd730-dca8-4258-a432-715ab150b9ba\")>,\n",
       " <selenium.webdriver.remote.webelement.WebElement (session=\"8726103ecc9d70816336519d3b3e44bf\", element=\"cd262427-bc8f-4724-8f16-8673d433ad5c\")>,\n",
       " <selenium.webdriver.remote.webelement.WebElement (session=\"8726103ecc9d70816336519d3b3e44bf\", element=\"3bc9ad8d-42e2-45fc-bacc-1b9a724f64df\")>,\n",
       " <selenium.webdriver.remote.webelement.WebElement (session=\"8726103ecc9d70816336519d3b3e44bf\", element=\"c2fc8a68-f240-497e-96bd-3233f9ed0007\")>,\n",
       " <selenium.webdriver.remote.webelement.WebElement (session=\"8726103ecc9d70816336519d3b3e44bf\", element=\"801d2ca9-3236-49a3-8066-99cb07ed34e2\")>,\n",
       " <selenium.webdriver.remote.webelement.WebElement (session=\"8726103ecc9d70816336519d3b3e44bf\", element=\"170109eb-c136-4626-a0ad-32346cad027c\")>,\n",
       " <selenium.webdriver.remote.webelement.WebElement (session=\"8726103ecc9d70816336519d3b3e44bf\", element=\"69854db4-fddb-4b1c-9f0a-355662b51a1b\")>,\n",
       " <selenium.webdriver.remote.webelement.WebElement (session=\"8726103ecc9d70816336519d3b3e44bf\", element=\"d6d5eb10-1711-49de-bcb0-36a9c884c2fe\")>,\n",
       " <selenium.webdriver.remote.webelement.WebElement (session=\"8726103ecc9d70816336519d3b3e44bf\", element=\"60e24cb7-f50a-434e-9533-50f60d7d683b\")>,\n",
       " <selenium.webdriver.remote.webelement.WebElement (session=\"8726103ecc9d70816336519d3b3e44bf\", element=\"15c9055f-96f2-451d-93a3-7ac14a2373fe\")>,\n",
       " <selenium.webdriver.remote.webelement.WebElement (session=\"8726103ecc9d70816336519d3b3e44bf\", element=\"a715151e-c12d-4f96-a563-81258f7e3c55\")>,\n",
       " <selenium.webdriver.remote.webelement.WebElement (session=\"8726103ecc9d70816336519d3b3e44bf\", element=\"143f9c6e-a3c3-4fbc-b45f-e0866cb2d95f\")>,\n",
       " <selenium.webdriver.remote.webelement.WebElement (session=\"8726103ecc9d70816336519d3b3e44bf\", element=\"7ea59676-e732-44ab-9402-a6d334ee4ec2\")>,\n",
       " <selenium.webdriver.remote.webelement.WebElement (session=\"8726103ecc9d70816336519d3b3e44bf\", element=\"4f245f04-de81-4fa5-afbf-a4b61f227897\")>,\n",
       " <selenium.webdriver.remote.webelement.WebElement (session=\"8726103ecc9d70816336519d3b3e44bf\", element=\"bcdc515e-d551-4346-944b-5316cb3e0da1\")>,\n",
       " <selenium.webdriver.remote.webelement.WebElement (session=\"8726103ecc9d70816336519d3b3e44bf\", element=\"3f66b7a7-2e33-4799-b82a-26f2752f1f39\")>,\n",
       " <selenium.webdriver.remote.webelement.WebElement (session=\"8726103ecc9d70816336519d3b3e44bf\", element=\"806ccd9d-d41c-4d2e-b8f2-c5cd533ff166\")>,\n",
       " <selenium.webdriver.remote.webelement.WebElement (session=\"8726103ecc9d70816336519d3b3e44bf\", element=\"b0f80ca1-7b8f-4325-b6c0-488c6f3a61e6\")>,\n",
       " <selenium.webdriver.remote.webelement.WebElement (session=\"8726103ecc9d70816336519d3b3e44bf\", element=\"3baa09cd-238a-4678-a664-25ca3ecb4c95\")>,\n",
       " <selenium.webdriver.remote.webelement.WebElement (session=\"8726103ecc9d70816336519d3b3e44bf\", element=\"b8550368-9404-4956-aa5b-da2996341960\")>,\n",
       " <selenium.webdriver.remote.webelement.WebElement (session=\"8726103ecc9d70816336519d3b3e44bf\", element=\"f88c3a4d-cb58-4a92-8c07-3f9ff77935df\")>,\n",
       " <selenium.webdriver.remote.webelement.WebElement (session=\"8726103ecc9d70816336519d3b3e44bf\", element=\"bf628fe5-586d-49d4-8df3-4bdc755c832b\")>,\n",
       " <selenium.webdriver.remote.webelement.WebElement (session=\"8726103ecc9d70816336519d3b3e44bf\", element=\"552c4c0c-c772-4371-b6de-3bea5b9f0461\")>,\n",
       " <selenium.webdriver.remote.webelement.WebElement (session=\"8726103ecc9d70816336519d3b3e44bf\", element=\"398e88ca-ea73-4f39-83f8-5140b578fac8\")>,\n",
       " <selenium.webdriver.remote.webelement.WebElement (session=\"8726103ecc9d70816336519d3b3e44bf\", element=\"93658e17-e319-4753-b320-da263f3b8968\")>,\n",
       " <selenium.webdriver.remote.webelement.WebElement (session=\"8726103ecc9d70816336519d3b3e44bf\", element=\"b5e75cbb-f28d-4506-954e-31547d910609\")>,\n",
       " <selenium.webdriver.remote.webelement.WebElement (session=\"8726103ecc9d70816336519d3b3e44bf\", element=\"1e06c2ca-0072-42c2-9604-75157071ee3d\")>,\n",
       " <selenium.webdriver.remote.webelement.WebElement (session=\"8726103ecc9d70816336519d3b3e44bf\", element=\"d326ad7a-ca30-4755-a552-4da0b28df96f\")>,\n",
       " <selenium.webdriver.remote.webelement.WebElement (session=\"8726103ecc9d70816336519d3b3e44bf\", element=\"1c10703b-9593-46a8-8065-4f83f5b1b73c\")>,\n",
       " <selenium.webdriver.remote.webelement.WebElement (session=\"8726103ecc9d70816336519d3b3e44bf\", element=\"3c627e99-72ce-4e39-87eb-4aa5d917d8d6\")>,\n",
       " <selenium.webdriver.remote.webelement.WebElement (session=\"8726103ecc9d70816336519d3b3e44bf\", element=\"70cc2798-1254-4db1-a81c-19c6c8b79cb8\")>,\n",
       " <selenium.webdriver.remote.webelement.WebElement (session=\"8726103ecc9d70816336519d3b3e44bf\", element=\"f40e3853-adc2-4125-8195-95637224b3b1\")>,\n",
       " <selenium.webdriver.remote.webelement.WebElement (session=\"8726103ecc9d70816336519d3b3e44bf\", element=\"14afb919-1dfa-430e-8e88-87f2b5dd66d0\")>,\n",
       " <selenium.webdriver.remote.webelement.WebElement (session=\"8726103ecc9d70816336519d3b3e44bf\", element=\"acd28500-4363-43bb-9d3d-c0f5fc3ab064\")>,\n",
       " <selenium.webdriver.remote.webelement.WebElement (session=\"8726103ecc9d70816336519d3b3e44bf\", element=\"da9e67a1-8ba2-4964-91f5-47688680ad27\")>,\n",
       " <selenium.webdriver.remote.webelement.WebElement (session=\"8726103ecc9d70816336519d3b3e44bf\", element=\"4807209f-af1b-478e-8064-044226a26820\")>,\n",
       " <selenium.webdriver.remote.webelement.WebElement (session=\"8726103ecc9d70816336519d3b3e44bf\", element=\"29830229-245c-4cbd-b57e-e7208bcb4fc0\")>,\n",
       " <selenium.webdriver.remote.webelement.WebElement (session=\"8726103ecc9d70816336519d3b3e44bf\", element=\"4a483205-dca7-4cc3-85b2-bddb5e595bd7\")>,\n",
       " <selenium.webdriver.remote.webelement.WebElement (session=\"8726103ecc9d70816336519d3b3e44bf\", element=\"5d2cfac6-a747-46df-87ac-2f3e4469b6a7\")>,\n",
       " <selenium.webdriver.remote.webelement.WebElement (session=\"8726103ecc9d70816336519d3b3e44bf\", element=\"c0e124ec-8f82-4ada-aae6-339c076cf071\")>,\n",
       " <selenium.webdriver.remote.webelement.WebElement (session=\"8726103ecc9d70816336519d3b3e44bf\", element=\"e6adf3aa-465a-4b93-b9c0-d1291925d9c9\")>,\n",
       " <selenium.webdriver.remote.webelement.WebElement (session=\"8726103ecc9d70816336519d3b3e44bf\", element=\"54497d97-195e-4c8c-b27d-0d4e0070ebbb\")>,\n",
       " <selenium.webdriver.remote.webelement.WebElement (session=\"8726103ecc9d70816336519d3b3e44bf\", element=\"ac78c3fa-8747-49e8-858d-b27ba9bbb059\")>,\n",
       " <selenium.webdriver.remote.webelement.WebElement (session=\"8726103ecc9d70816336519d3b3e44bf\", element=\"d98b98f0-b110-484a-b9a8-45e2927506ea\")>,\n",
       " <selenium.webdriver.remote.webelement.WebElement (session=\"8726103ecc9d70816336519d3b3e44bf\", element=\"5558070b-c25f-44d5-866a-49b74c74dd59\")>,\n",
       " <selenium.webdriver.remote.webelement.WebElement (session=\"8726103ecc9d70816336519d3b3e44bf\", element=\"30016ce7-75da-4ed2-95de-0daf7ac4e55b\")>,\n",
       " <selenium.webdriver.remote.webelement.WebElement (session=\"8726103ecc9d70816336519d3b3e44bf\", element=\"8ca4abc0-14d1-45b0-b099-8ab03a79f3eb\")>,\n",
       " <selenium.webdriver.remote.webelement.WebElement (session=\"8726103ecc9d70816336519d3b3e44bf\", element=\"d35c14a9-e4d1-4ee0-a4b0-f63af67377ca\")>,\n",
       " <selenium.webdriver.remote.webelement.WebElement (session=\"8726103ecc9d70816336519d3b3e44bf\", element=\"2b693991-a96d-4728-aec7-f1bcc8a7684e\")>,\n",
       " <selenium.webdriver.remote.webelement.WebElement (session=\"8726103ecc9d70816336519d3b3e44bf\", element=\"67651264-6287-45d9-a025-7599970aac17\")>,\n",
       " <selenium.webdriver.remote.webelement.WebElement (session=\"8726103ecc9d70816336519d3b3e44bf\", element=\"ac67575e-f12b-4d97-965c-1e793c809c9e\")>,\n",
       " <selenium.webdriver.remote.webelement.WebElement (session=\"8726103ecc9d70816336519d3b3e44bf\", element=\"a15da6f2-2ed1-4ba8-9692-70ed6da763d4\")>,\n",
       " <selenium.webdriver.remote.webelement.WebElement (session=\"8726103ecc9d70816336519d3b3e44bf\", element=\"6a0a060d-d089-4d04-9afe-f45c4279938a\")>,\n",
       " <selenium.webdriver.remote.webelement.WebElement (session=\"8726103ecc9d70816336519d3b3e44bf\", element=\"21594795-2251-40bf-bccf-22464b3c3d90\")>]"
      ]
     },
     "execution_count": 161,
     "metadata": {},
     "output_type": "execute_result"
    }
   ],
   "source": [
    "genre=driver.find_elements_by_xpath('//p[@class]')\n",
    "genre"
   ]
  },
  {
   "cell_type": "code",
   "execution_count": 162,
   "id": "024570d0",
   "metadata": {},
   "outputs": [
    {
     "data": {
      "text/plain": [
       "[]"
      ]
     },
     "execution_count": 162,
     "metadata": {},
     "output_type": "execute_result"
    }
   ],
   "source": [
    "genre=[]\n",
    "for i in genre:\n",
    "   genre.append(i.text)\n",
    "    \n",
    "genre"
   ]
  },
  {
   "cell_type": "code",
   "execution_count": 163,
   "id": "e771d6d4",
   "metadata": {},
   "outputs": [
    {
     "name": "stderr",
     "output_type": "stream",
     "text": [
      "<ipython-input-163-bc09e49986e4>:1: DeprecationWarning: find_elements_by_* commands are deprecated. Please use find_elements() instead\n",
      "  run_time=driver.find_elements_by_xpath('//span[@class=\"runtime\"]')\n"
     ]
    },
    {
     "data": {
      "text/plain": [
       "[<selenium.webdriver.remote.webelement.WebElement (session=\"8726103ecc9d70816336519d3b3e44bf\", element=\"65e66bef-16f8-46f5-8de8-1427e1cff036\")>,\n",
       " <selenium.webdriver.remote.webelement.WebElement (session=\"8726103ecc9d70816336519d3b3e44bf\", element=\"89ada653-0d75-4f70-9843-3d861f432587\")>,\n",
       " <selenium.webdriver.remote.webelement.WebElement (session=\"8726103ecc9d70816336519d3b3e44bf\", element=\"3d61c9b7-6a21-4202-8d6f-79c2cbab8a8e\")>,\n",
       " <selenium.webdriver.remote.webelement.WebElement (session=\"8726103ecc9d70816336519d3b3e44bf\", element=\"36b2c381-0366-4f30-abbe-d1439eacfc89\")>,\n",
       " <selenium.webdriver.remote.webelement.WebElement (session=\"8726103ecc9d70816336519d3b3e44bf\", element=\"d38a52da-6983-4fa5-8f51-1870fb2a3656\")>,\n",
       " <selenium.webdriver.remote.webelement.WebElement (session=\"8726103ecc9d70816336519d3b3e44bf\", element=\"7fff7e08-4dc0-4a5b-8e22-73b1719dd917\")>,\n",
       " <selenium.webdriver.remote.webelement.WebElement (session=\"8726103ecc9d70816336519d3b3e44bf\", element=\"9f104ed0-53fe-4045-911a-08374de48aa9\")>,\n",
       " <selenium.webdriver.remote.webelement.WebElement (session=\"8726103ecc9d70816336519d3b3e44bf\", element=\"8aaea44b-3b81-4042-8c60-41871e559767\")>,\n",
       " <selenium.webdriver.remote.webelement.WebElement (session=\"8726103ecc9d70816336519d3b3e44bf\", element=\"752d6372-3b22-4dbc-a98f-ddb94a72397c\")>,\n",
       " <selenium.webdriver.remote.webelement.WebElement (session=\"8726103ecc9d70816336519d3b3e44bf\", element=\"b590b6fe-14a1-4fdc-922e-cadc6d3b3dea\")>,\n",
       " <selenium.webdriver.remote.webelement.WebElement (session=\"8726103ecc9d70816336519d3b3e44bf\", element=\"f9db8901-77a0-46eb-969e-69487658ec3e\")>,\n",
       " <selenium.webdriver.remote.webelement.WebElement (session=\"8726103ecc9d70816336519d3b3e44bf\", element=\"376bf909-6c43-42ce-89af-77a8b1be5a40\")>,\n",
       " <selenium.webdriver.remote.webelement.WebElement (session=\"8726103ecc9d70816336519d3b3e44bf\", element=\"3f61cb82-9541-4520-af98-1dbe85374d5e\")>,\n",
       " <selenium.webdriver.remote.webelement.WebElement (session=\"8726103ecc9d70816336519d3b3e44bf\", element=\"7b3468bc-22f2-4137-bdea-60596c26078c\")>,\n",
       " <selenium.webdriver.remote.webelement.WebElement (session=\"8726103ecc9d70816336519d3b3e44bf\", element=\"290120f5-e749-4999-b4b7-8f38eabbe9af\")>,\n",
       " <selenium.webdriver.remote.webelement.WebElement (session=\"8726103ecc9d70816336519d3b3e44bf\", element=\"ac702788-a66a-4aa8-95cf-37118e8188f1\")>,\n",
       " <selenium.webdriver.remote.webelement.WebElement (session=\"8726103ecc9d70816336519d3b3e44bf\", element=\"fdae18c5-ef90-4115-b2b8-6303f4779624\")>,\n",
       " <selenium.webdriver.remote.webelement.WebElement (session=\"8726103ecc9d70816336519d3b3e44bf\", element=\"a23cfbda-b20f-475f-a05c-cc46baaabbae\")>,\n",
       " <selenium.webdriver.remote.webelement.WebElement (session=\"8726103ecc9d70816336519d3b3e44bf\", element=\"7626640c-90c5-454b-ab09-f15516aaf9a8\")>,\n",
       " <selenium.webdriver.remote.webelement.WebElement (session=\"8726103ecc9d70816336519d3b3e44bf\", element=\"1fb59315-27e6-4d75-a29b-e72fa6b5ca8b\")>,\n",
       " <selenium.webdriver.remote.webelement.WebElement (session=\"8726103ecc9d70816336519d3b3e44bf\", element=\"962e04ff-5967-4099-9da5-defc36035d64\")>,\n",
       " <selenium.webdriver.remote.webelement.WebElement (session=\"8726103ecc9d70816336519d3b3e44bf\", element=\"7178a06b-74ce-4a68-a4d0-620195237c28\")>,\n",
       " <selenium.webdriver.remote.webelement.WebElement (session=\"8726103ecc9d70816336519d3b3e44bf\", element=\"7e3c10f6-bc6e-42da-b7d2-3654a4fd22bb\")>,\n",
       " <selenium.webdriver.remote.webelement.WebElement (session=\"8726103ecc9d70816336519d3b3e44bf\", element=\"f9869d56-074a-4c33-bcd5-dfad33fc9634\")>,\n",
       " <selenium.webdriver.remote.webelement.WebElement (session=\"8726103ecc9d70816336519d3b3e44bf\", element=\"48dc1432-e8e1-44e0-85e0-ab501c9fb677\")>,\n",
       " <selenium.webdriver.remote.webelement.WebElement (session=\"8726103ecc9d70816336519d3b3e44bf\", element=\"11f3799b-efb0-4f43-b9a1-df3e88693539\")>,\n",
       " <selenium.webdriver.remote.webelement.WebElement (session=\"8726103ecc9d70816336519d3b3e44bf\", element=\"9194ddde-f89b-4a78-803d-2b4cd5ddc636\")>,\n",
       " <selenium.webdriver.remote.webelement.WebElement (session=\"8726103ecc9d70816336519d3b3e44bf\", element=\"19c50b42-cac3-42e3-8256-83ff5e01b03a\")>,\n",
       " <selenium.webdriver.remote.webelement.WebElement (session=\"8726103ecc9d70816336519d3b3e44bf\", element=\"f7863fe9-b35f-4cfa-ae81-a2984e49168d\")>,\n",
       " <selenium.webdriver.remote.webelement.WebElement (session=\"8726103ecc9d70816336519d3b3e44bf\", element=\"18bd8ef8-9818-4c87-bed5-6719490242f6\")>,\n",
       " <selenium.webdriver.remote.webelement.WebElement (session=\"8726103ecc9d70816336519d3b3e44bf\", element=\"a6f203f9-bfa3-4343-bcba-6383010da2dd\")>,\n",
       " <selenium.webdriver.remote.webelement.WebElement (session=\"8726103ecc9d70816336519d3b3e44bf\", element=\"ebf35140-3681-4238-bb23-01154beaa135\")>,\n",
       " <selenium.webdriver.remote.webelement.WebElement (session=\"8726103ecc9d70816336519d3b3e44bf\", element=\"15e8118c-176a-4a7b-aa75-6541a725c955\")>,\n",
       " <selenium.webdriver.remote.webelement.WebElement (session=\"8726103ecc9d70816336519d3b3e44bf\", element=\"a2dbbd35-500f-4b3c-b038-3ef5165d6271\")>,\n",
       " <selenium.webdriver.remote.webelement.WebElement (session=\"8726103ecc9d70816336519d3b3e44bf\", element=\"34249966-f16a-4c8f-b899-804aeee84f71\")>,\n",
       " <selenium.webdriver.remote.webelement.WebElement (session=\"8726103ecc9d70816336519d3b3e44bf\", element=\"1e217303-e139-492c-afd2-8a2aba1ad201\")>,\n",
       " <selenium.webdriver.remote.webelement.WebElement (session=\"8726103ecc9d70816336519d3b3e44bf\", element=\"be0ae761-b6bb-467c-ae65-f7cfac0cdf0e\")>,\n",
       " <selenium.webdriver.remote.webelement.WebElement (session=\"8726103ecc9d70816336519d3b3e44bf\", element=\"5a435273-72a7-4d08-97a1-0d2d310c59d9\")>,\n",
       " <selenium.webdriver.remote.webelement.WebElement (session=\"8726103ecc9d70816336519d3b3e44bf\", element=\"e5753cca-93a8-4229-9f97-2d888d357ecb\")>,\n",
       " <selenium.webdriver.remote.webelement.WebElement (session=\"8726103ecc9d70816336519d3b3e44bf\", element=\"bf48c031-1454-4646-bb7c-fd9596c6062d\")>,\n",
       " <selenium.webdriver.remote.webelement.WebElement (session=\"8726103ecc9d70816336519d3b3e44bf\", element=\"e36b104c-12f6-473b-b1ab-997037227827\")>,\n",
       " <selenium.webdriver.remote.webelement.WebElement (session=\"8726103ecc9d70816336519d3b3e44bf\", element=\"453baa6d-8e5e-4f92-bdd2-98966f99870e\")>,\n",
       " <selenium.webdriver.remote.webelement.WebElement (session=\"8726103ecc9d70816336519d3b3e44bf\", element=\"872f5722-fe63-4f16-884b-bac765d2dc14\")>,\n",
       " <selenium.webdriver.remote.webelement.WebElement (session=\"8726103ecc9d70816336519d3b3e44bf\", element=\"0e9958fd-f5b2-4279-bacd-369a558789fe\")>,\n",
       " <selenium.webdriver.remote.webelement.WebElement (session=\"8726103ecc9d70816336519d3b3e44bf\", element=\"6398329e-24dc-40c1-9616-c820ecae556a\")>,\n",
       " <selenium.webdriver.remote.webelement.WebElement (session=\"8726103ecc9d70816336519d3b3e44bf\", element=\"e1c6deae-b1ee-4ead-87af-bb8df20bbd9e\")>,\n",
       " <selenium.webdriver.remote.webelement.WebElement (session=\"8726103ecc9d70816336519d3b3e44bf\", element=\"95a44efc-0c75-4497-aaeb-4d63a6fe3271\")>,\n",
       " <selenium.webdriver.remote.webelement.WebElement (session=\"8726103ecc9d70816336519d3b3e44bf\", element=\"e45b9807-affe-45e1-b2ed-b9e22967b6ad\")>,\n",
       " <selenium.webdriver.remote.webelement.WebElement (session=\"8726103ecc9d70816336519d3b3e44bf\", element=\"38535940-6658-4327-9be1-c059febcb171\")>,\n",
       " <selenium.webdriver.remote.webelement.WebElement (session=\"8726103ecc9d70816336519d3b3e44bf\", element=\"c2c6ae85-66c3-4fdb-973e-56fa71441faa\")>,\n",
       " <selenium.webdriver.remote.webelement.WebElement (session=\"8726103ecc9d70816336519d3b3e44bf\", element=\"049e4837-f6c4-4565-8ca9-578130b2842f\")>,\n",
       " <selenium.webdriver.remote.webelement.WebElement (session=\"8726103ecc9d70816336519d3b3e44bf\", element=\"4147e8ca-de62-4703-b36e-c8782407dcd8\")>,\n",
       " <selenium.webdriver.remote.webelement.WebElement (session=\"8726103ecc9d70816336519d3b3e44bf\", element=\"52c27365-fdf8-47c8-8d1f-346f50f773f0\")>,\n",
       " <selenium.webdriver.remote.webelement.WebElement (session=\"8726103ecc9d70816336519d3b3e44bf\", element=\"57dad16f-4b8c-4d7e-a22f-c833e37a2ec8\")>,\n",
       " <selenium.webdriver.remote.webelement.WebElement (session=\"8726103ecc9d70816336519d3b3e44bf\", element=\"f11b1918-6845-4416-aa6c-cc62c7d85057\")>,\n",
       " <selenium.webdriver.remote.webelement.WebElement (session=\"8726103ecc9d70816336519d3b3e44bf\", element=\"de01f079-3508-484a-8295-4e35876469f1\")>,\n",
       " <selenium.webdriver.remote.webelement.WebElement (session=\"8726103ecc9d70816336519d3b3e44bf\", element=\"4b8322d2-1357-4274-b6d7-fdfd247ca4bd\")>,\n",
       " <selenium.webdriver.remote.webelement.WebElement (session=\"8726103ecc9d70816336519d3b3e44bf\", element=\"915d6bfd-42e3-4971-9bd1-2d0ebd859012\")>,\n",
       " <selenium.webdriver.remote.webelement.WebElement (session=\"8726103ecc9d70816336519d3b3e44bf\", element=\"cdc76a2f-b697-4114-bd67-872bf2eb7e07\")>,\n",
       " <selenium.webdriver.remote.webelement.WebElement (session=\"8726103ecc9d70816336519d3b3e44bf\", element=\"83d1e622-5b64-4399-9c69-901f8ff237b0\")>,\n",
       " <selenium.webdriver.remote.webelement.WebElement (session=\"8726103ecc9d70816336519d3b3e44bf\", element=\"990c1c04-ac18-400e-906b-4da5f4873386\")>,\n",
       " <selenium.webdriver.remote.webelement.WebElement (session=\"8726103ecc9d70816336519d3b3e44bf\", element=\"553ac2ae-8967-4943-a6be-dcaed17fb512\")>,\n",
       " <selenium.webdriver.remote.webelement.WebElement (session=\"8726103ecc9d70816336519d3b3e44bf\", element=\"d568f193-0ff5-4bfb-892f-952b4d520952\")>,\n",
       " <selenium.webdriver.remote.webelement.WebElement (session=\"8726103ecc9d70816336519d3b3e44bf\", element=\"fcd318f3-311a-40aa-8e96-e5da690b08db\")>,\n",
       " <selenium.webdriver.remote.webelement.WebElement (session=\"8726103ecc9d70816336519d3b3e44bf\", element=\"a38dfec0-eb53-4c0f-82ce-20548c2c6057\")>,\n",
       " <selenium.webdriver.remote.webelement.WebElement (session=\"8726103ecc9d70816336519d3b3e44bf\", element=\"197823d9-3323-4f1b-8dfd-640fdb6c7d3c\")>,\n",
       " <selenium.webdriver.remote.webelement.WebElement (session=\"8726103ecc9d70816336519d3b3e44bf\", element=\"e6923236-c5bd-4e01-ae9e-dae2fa1c011d\")>,\n",
       " <selenium.webdriver.remote.webelement.WebElement (session=\"8726103ecc9d70816336519d3b3e44bf\", element=\"20fb39f5-0e06-4c73-a1b8-8d1e5a7d98ae\")>,\n",
       " <selenium.webdriver.remote.webelement.WebElement (session=\"8726103ecc9d70816336519d3b3e44bf\", element=\"ceefd513-746e-42d7-8d78-902a26b6601e\")>,\n",
       " <selenium.webdriver.remote.webelement.WebElement (session=\"8726103ecc9d70816336519d3b3e44bf\", element=\"50d4e0cc-93c2-4361-af31-080e8adfe1f2\")>,\n",
       " <selenium.webdriver.remote.webelement.WebElement (session=\"8726103ecc9d70816336519d3b3e44bf\", element=\"dbe7cede-e0ef-42bd-99e2-1a1a00e5ae3a\")>,\n",
       " <selenium.webdriver.remote.webelement.WebElement (session=\"8726103ecc9d70816336519d3b3e44bf\", element=\"21674d67-d58f-4cca-b055-6bb1fb4d83ac\")>,\n",
       " <selenium.webdriver.remote.webelement.WebElement (session=\"8726103ecc9d70816336519d3b3e44bf\", element=\"8961daf5-a263-4a31-b333-4681b153d2a6\")>,\n",
       " <selenium.webdriver.remote.webelement.WebElement (session=\"8726103ecc9d70816336519d3b3e44bf\", element=\"f38f7004-23f3-4da7-a8ae-2dd22c791dee\")>,\n",
       " <selenium.webdriver.remote.webelement.WebElement (session=\"8726103ecc9d70816336519d3b3e44bf\", element=\"ec544cdd-e1dd-4dc9-8b4f-50e295b9d720\")>,\n",
       " <selenium.webdriver.remote.webelement.WebElement (session=\"8726103ecc9d70816336519d3b3e44bf\", element=\"cbd6714f-a1ea-417e-986c-c203fb56ea6e\")>,\n",
       " <selenium.webdriver.remote.webelement.WebElement (session=\"8726103ecc9d70816336519d3b3e44bf\", element=\"00edcd50-0421-4d30-b3bf-75335b7ac4ea\")>,\n",
       " <selenium.webdriver.remote.webelement.WebElement (session=\"8726103ecc9d70816336519d3b3e44bf\", element=\"e2b433fa-b9d4-48a8-b0e5-9a9fa373f4f7\")>,\n",
       " <selenium.webdriver.remote.webelement.WebElement (session=\"8726103ecc9d70816336519d3b3e44bf\", element=\"b5f6a172-35b2-4c45-9c40-04dbd05954b3\")>,\n",
       " <selenium.webdriver.remote.webelement.WebElement (session=\"8726103ecc9d70816336519d3b3e44bf\", element=\"d8bc676b-4f0d-492a-a515-7b8e794582e1\")>,\n",
       " <selenium.webdriver.remote.webelement.WebElement (session=\"8726103ecc9d70816336519d3b3e44bf\", element=\"6a3c29cf-0e5b-48d5-abff-6d2f2998a37a\")>,\n",
       " <selenium.webdriver.remote.webelement.WebElement (session=\"8726103ecc9d70816336519d3b3e44bf\", element=\"995c34f6-233d-4f22-bbaf-8c3b15f102fb\")>,\n",
       " <selenium.webdriver.remote.webelement.WebElement (session=\"8726103ecc9d70816336519d3b3e44bf\", element=\"aa920d15-11d4-47cd-a4c0-306cf66a504e\")>,\n",
       " <selenium.webdriver.remote.webelement.WebElement (session=\"8726103ecc9d70816336519d3b3e44bf\", element=\"badf3bb1-e852-4740-a68f-e8395a371c72\")>,\n",
       " <selenium.webdriver.remote.webelement.WebElement (session=\"8726103ecc9d70816336519d3b3e44bf\", element=\"335f83e1-bcdf-4557-a704-f59b4482325d\")>,\n",
       " <selenium.webdriver.remote.webelement.WebElement (session=\"8726103ecc9d70816336519d3b3e44bf\", element=\"2e63f929-5fdc-4113-a10f-495d4a823c3e\")>,\n",
       " <selenium.webdriver.remote.webelement.WebElement (session=\"8726103ecc9d70816336519d3b3e44bf\", element=\"e9994fca-c0e2-4fef-8866-0f5f1f41bd5c\")>,\n",
       " <selenium.webdriver.remote.webelement.WebElement (session=\"8726103ecc9d70816336519d3b3e44bf\", element=\"a4887f96-3d63-4937-90f1-93b0b496a310\")>,\n",
       " <selenium.webdriver.remote.webelement.WebElement (session=\"8726103ecc9d70816336519d3b3e44bf\", element=\"9b1c1567-5b6f-447d-9136-5ede0c925697\")>,\n",
       " <selenium.webdriver.remote.webelement.WebElement (session=\"8726103ecc9d70816336519d3b3e44bf\", element=\"c60d190d-0f05-4dd1-8275-fad9bc5f4629\")>,\n",
       " <selenium.webdriver.remote.webelement.WebElement (session=\"8726103ecc9d70816336519d3b3e44bf\", element=\"1341aa82-ae25-4756-a65a-07ba41c8eaa0\")>,\n",
       " <selenium.webdriver.remote.webelement.WebElement (session=\"8726103ecc9d70816336519d3b3e44bf\", element=\"e713a018-0417-4a40-aee9-1763dae9e891\")>,\n",
       " <selenium.webdriver.remote.webelement.WebElement (session=\"8726103ecc9d70816336519d3b3e44bf\", element=\"a38dc1e8-ff85-429c-a767-c358ed2bebee\")>,\n",
       " <selenium.webdriver.remote.webelement.WebElement (session=\"8726103ecc9d70816336519d3b3e44bf\", element=\"a7bcefd6-c6e9-4c05-b3cd-9af368be0bda\")>,\n",
       " <selenium.webdriver.remote.webelement.WebElement (session=\"8726103ecc9d70816336519d3b3e44bf\", element=\"058d198e-c46f-453d-8161-275e754fbf90\")>,\n",
       " <selenium.webdriver.remote.webelement.WebElement (session=\"8726103ecc9d70816336519d3b3e44bf\", element=\"f1911812-209d-43b4-a8d8-a4110950a2ca\")>,\n",
       " <selenium.webdriver.remote.webelement.WebElement (session=\"8726103ecc9d70816336519d3b3e44bf\", element=\"3898b86f-218f-4580-bfe7-fa7619efce13\")>,\n",
       " <selenium.webdriver.remote.webelement.WebElement (session=\"8726103ecc9d70816336519d3b3e44bf\", element=\"53a4c8a4-5be5-41fe-a714-8127c1198609\")>,\n",
       " <selenium.webdriver.remote.webelement.WebElement (session=\"8726103ecc9d70816336519d3b3e44bf\", element=\"31d933cf-b28c-4ce2-a4dc-459797e52bab\")>,\n",
       " <selenium.webdriver.remote.webelement.WebElement (session=\"8726103ecc9d70816336519d3b3e44bf\", element=\"a0c990f1-4e9f-4b34-a497-b4b63a585505\")>]"
      ]
     },
     "execution_count": 163,
     "metadata": {},
     "output_type": "execute_result"
    }
   ],
   "source": [
    "run_time=driver.find_elements_by_xpath('//span[@class=\"runtime\"]')\n",
    "run_time"
   ]
  },
  {
   "cell_type": "code",
   "execution_count": 164,
   "id": "d614d059",
   "metadata": {},
   "outputs": [
    {
     "data": {
      "text/plain": [
       "[]"
      ]
     },
     "execution_count": 164,
     "metadata": {},
     "output_type": "execute_result"
    }
   ],
   "source": [
    "run_time=[]\n",
    "for i in run_time:\n",
    "   run_time.append(i.text)\n",
    "    \n",
    "run_time"
   ]
  },
  {
   "cell_type": "code",
   "execution_count": 165,
   "id": "6196c223",
   "metadata": {},
   "outputs": [
    {
     "name": "stderr",
     "output_type": "stream",
     "text": [
      "<ipython-input-165-f3555bdcdef1>:1: DeprecationWarning: find_elements_by_* commands are deprecated. Please use find_elements() instead\n",
      "  ratings=driver.find_elements_by_xpath('//span[@class=\"ipl-rating-star__rating\"]')\n"
     ]
    },
    {
     "data": {
      "text/plain": [
       "[<selenium.webdriver.remote.webelement.WebElement (session=\"8726103ecc9d70816336519d3b3e44bf\", element=\"a895db79-030a-4b75-9ad6-0db7c02b6af4\")>,\n",
       " <selenium.webdriver.remote.webelement.WebElement (session=\"8726103ecc9d70816336519d3b3e44bf\", element=\"f4e266aa-9a58-417b-ac44-46ac45fd5223\")>,\n",
       " <selenium.webdriver.remote.webelement.WebElement (session=\"8726103ecc9d70816336519d3b3e44bf\", element=\"36043e16-1d93-4168-a583-b6dc0afb7dc5\")>,\n",
       " <selenium.webdriver.remote.webelement.WebElement (session=\"8726103ecc9d70816336519d3b3e44bf\", element=\"b9f7dc52-d10c-48a5-94dc-4aaa0d2539be\")>,\n",
       " <selenium.webdriver.remote.webelement.WebElement (session=\"8726103ecc9d70816336519d3b3e44bf\", element=\"4c792f37-e0e6-47b8-ab92-88ab6093b0ca\")>,\n",
       " <selenium.webdriver.remote.webelement.WebElement (session=\"8726103ecc9d70816336519d3b3e44bf\", element=\"2365d219-aa6c-44b9-a8cd-0288ccef835f\")>,\n",
       " <selenium.webdriver.remote.webelement.WebElement (session=\"8726103ecc9d70816336519d3b3e44bf\", element=\"de07eb01-b35c-44ee-ad64-6418b0169e54\")>,\n",
       " <selenium.webdriver.remote.webelement.WebElement (session=\"8726103ecc9d70816336519d3b3e44bf\", element=\"bd84440e-7843-4ab8-8bf6-9bff847cf004\")>,\n",
       " <selenium.webdriver.remote.webelement.WebElement (session=\"8726103ecc9d70816336519d3b3e44bf\", element=\"32044422-e41b-4d25-8344-d3fa1fbe7693\")>,\n",
       " <selenium.webdriver.remote.webelement.WebElement (session=\"8726103ecc9d70816336519d3b3e44bf\", element=\"7ae314ec-cc3f-46ec-a7b6-ea4daee25d1d\")>,\n",
       " <selenium.webdriver.remote.webelement.WebElement (session=\"8726103ecc9d70816336519d3b3e44bf\", element=\"f5c6972a-fc3c-49db-9019-01673f3ec61d\")>,\n",
       " <selenium.webdriver.remote.webelement.WebElement (session=\"8726103ecc9d70816336519d3b3e44bf\", element=\"30110f26-bc27-4c35-ba95-13a9d4fe67df\")>,\n",
       " <selenium.webdriver.remote.webelement.WebElement (session=\"8726103ecc9d70816336519d3b3e44bf\", element=\"19a78a50-4361-430c-b188-0b95a9abeb32\")>,\n",
       " <selenium.webdriver.remote.webelement.WebElement (session=\"8726103ecc9d70816336519d3b3e44bf\", element=\"8aa1916c-679c-4dd3-a7ae-0cb164dc8de8\")>,\n",
       " <selenium.webdriver.remote.webelement.WebElement (session=\"8726103ecc9d70816336519d3b3e44bf\", element=\"802f142d-5d62-470c-866a-c06df06d0b29\")>,\n",
       " <selenium.webdriver.remote.webelement.WebElement (session=\"8726103ecc9d70816336519d3b3e44bf\", element=\"08f34300-26ac-488d-9fed-6b4b396710fe\")>,\n",
       " <selenium.webdriver.remote.webelement.WebElement (session=\"8726103ecc9d70816336519d3b3e44bf\", element=\"bd06145c-27e4-42cb-84b0-1f9b60007392\")>,\n",
       " <selenium.webdriver.remote.webelement.WebElement (session=\"8726103ecc9d70816336519d3b3e44bf\", element=\"e637e80e-ada3-4d18-8189-72a2092d5fe5\")>,\n",
       " <selenium.webdriver.remote.webelement.WebElement (session=\"8726103ecc9d70816336519d3b3e44bf\", element=\"d91c566b-3b0a-45d1-838f-f56860c6a439\")>,\n",
       " <selenium.webdriver.remote.webelement.WebElement (session=\"8726103ecc9d70816336519d3b3e44bf\", element=\"12719476-4ec7-400b-bab1-993819dd7703\")>,\n",
       " <selenium.webdriver.remote.webelement.WebElement (session=\"8726103ecc9d70816336519d3b3e44bf\", element=\"6398b366-2639-4de2-a786-d34e0c193fb8\")>,\n",
       " <selenium.webdriver.remote.webelement.WebElement (session=\"8726103ecc9d70816336519d3b3e44bf\", element=\"e865f791-c3ce-414e-b2f7-13693bf7740e\")>,\n",
       " <selenium.webdriver.remote.webelement.WebElement (session=\"8726103ecc9d70816336519d3b3e44bf\", element=\"d496da97-dedf-444a-a055-478a34f2b611\")>,\n",
       " <selenium.webdriver.remote.webelement.WebElement (session=\"8726103ecc9d70816336519d3b3e44bf\", element=\"8e666d0c-7c8c-4fae-8aca-615a41ed2e21\")>,\n",
       " <selenium.webdriver.remote.webelement.WebElement (session=\"8726103ecc9d70816336519d3b3e44bf\", element=\"88c3fc2b-e5a1-4711-a6b9-fd76ad8210fb\")>,\n",
       " <selenium.webdriver.remote.webelement.WebElement (session=\"8726103ecc9d70816336519d3b3e44bf\", element=\"746b5373-7a4b-459d-b273-9fa5d0f3baac\")>,\n",
       " <selenium.webdriver.remote.webelement.WebElement (session=\"8726103ecc9d70816336519d3b3e44bf\", element=\"8e91ed02-ece8-4eea-9f50-421f67d3d783\")>,\n",
       " <selenium.webdriver.remote.webelement.WebElement (session=\"8726103ecc9d70816336519d3b3e44bf\", element=\"688a7af0-98ef-4eea-8cab-3830232b69dd\")>,\n",
       " <selenium.webdriver.remote.webelement.WebElement (session=\"8726103ecc9d70816336519d3b3e44bf\", element=\"420b2b4c-0172-43cf-8173-2ddc30fa6410\")>,\n",
       " <selenium.webdriver.remote.webelement.WebElement (session=\"8726103ecc9d70816336519d3b3e44bf\", element=\"9f8ed8ae-7767-41b4-9c09-61dcf1cff2bd\")>,\n",
       " <selenium.webdriver.remote.webelement.WebElement (session=\"8726103ecc9d70816336519d3b3e44bf\", element=\"9d777cdd-36b1-4e75-9259-672fd3223601\")>,\n",
       " <selenium.webdriver.remote.webelement.WebElement (session=\"8726103ecc9d70816336519d3b3e44bf\", element=\"34e55f9a-efe4-40bf-85c8-95f49701cfb5\")>,\n",
       " <selenium.webdriver.remote.webelement.WebElement (session=\"8726103ecc9d70816336519d3b3e44bf\", element=\"97374585-d505-4325-b991-e11ee86d969d\")>,\n",
       " <selenium.webdriver.remote.webelement.WebElement (session=\"8726103ecc9d70816336519d3b3e44bf\", element=\"21743dee-6c1b-4a30-b53e-81492b8b6e85\")>,\n",
       " <selenium.webdriver.remote.webelement.WebElement (session=\"8726103ecc9d70816336519d3b3e44bf\", element=\"ae73f0a0-183c-49f4-9a6c-b10ef90f4aea\")>,\n",
       " <selenium.webdriver.remote.webelement.WebElement (session=\"8726103ecc9d70816336519d3b3e44bf\", element=\"93291f63-3a62-46e5-84e0-c8d380f60937\")>,\n",
       " <selenium.webdriver.remote.webelement.WebElement (session=\"8726103ecc9d70816336519d3b3e44bf\", element=\"8d199983-4e9c-4521-8f73-2b2ce7fdba7a\")>,\n",
       " <selenium.webdriver.remote.webelement.WebElement (session=\"8726103ecc9d70816336519d3b3e44bf\", element=\"4da67017-c891-4e01-8322-68efef7f94d8\")>,\n",
       " <selenium.webdriver.remote.webelement.WebElement (session=\"8726103ecc9d70816336519d3b3e44bf\", element=\"d923c017-baee-4113-815f-2016f4a226fe\")>,\n",
       " <selenium.webdriver.remote.webelement.WebElement (session=\"8726103ecc9d70816336519d3b3e44bf\", element=\"96179272-0d57-48d8-9ca9-a648976e9395\")>,\n",
       " <selenium.webdriver.remote.webelement.WebElement (session=\"8726103ecc9d70816336519d3b3e44bf\", element=\"5c97b235-ee3c-495f-88db-6ef471eb72dd\")>,\n",
       " <selenium.webdriver.remote.webelement.WebElement (session=\"8726103ecc9d70816336519d3b3e44bf\", element=\"23b3069e-412f-4a52-a06a-9990fcbddb98\")>,\n",
       " <selenium.webdriver.remote.webelement.WebElement (session=\"8726103ecc9d70816336519d3b3e44bf\", element=\"c6a2c843-e09e-4893-ab00-96052efb47bc\")>,\n",
       " <selenium.webdriver.remote.webelement.WebElement (session=\"8726103ecc9d70816336519d3b3e44bf\", element=\"f6e14c8b-dd0f-4f4b-9d17-4fe2b231dcfd\")>,\n",
       " <selenium.webdriver.remote.webelement.WebElement (session=\"8726103ecc9d70816336519d3b3e44bf\", element=\"ff3922e8-c86e-417c-9a89-b8cf995865bf\")>,\n",
       " <selenium.webdriver.remote.webelement.WebElement (session=\"8726103ecc9d70816336519d3b3e44bf\", element=\"d06d8cc8-f923-478d-b261-658964334058\")>,\n",
       " <selenium.webdriver.remote.webelement.WebElement (session=\"8726103ecc9d70816336519d3b3e44bf\", element=\"a9ca6c16-9b65-4706-9a40-d4bd01b55857\")>,\n",
       " <selenium.webdriver.remote.webelement.WebElement (session=\"8726103ecc9d70816336519d3b3e44bf\", element=\"fb4420ff-7694-4748-862d-0122ec92e1f3\")>,\n",
       " <selenium.webdriver.remote.webelement.WebElement (session=\"8726103ecc9d70816336519d3b3e44bf\", element=\"3da6f1da-716c-4c87-9dff-380364f257a1\")>,\n",
       " <selenium.webdriver.remote.webelement.WebElement (session=\"8726103ecc9d70816336519d3b3e44bf\", element=\"983f4794-d436-4be0-93d3-24502cc79045\")>,\n",
       " <selenium.webdriver.remote.webelement.WebElement (session=\"8726103ecc9d70816336519d3b3e44bf\", element=\"b392d752-bc72-44d2-ac56-6a1fb4445501\")>,\n",
       " <selenium.webdriver.remote.webelement.WebElement (session=\"8726103ecc9d70816336519d3b3e44bf\", element=\"638d9d46-a049-4e3d-8b20-19701cac8512\")>,\n",
       " <selenium.webdriver.remote.webelement.WebElement (session=\"8726103ecc9d70816336519d3b3e44bf\", element=\"dd1186b3-40e9-438e-9aa1-5c0c51fa3504\")>,\n",
       " <selenium.webdriver.remote.webelement.WebElement (session=\"8726103ecc9d70816336519d3b3e44bf\", element=\"9f9fafce-91c0-466c-9231-ae5cc02a829c\")>,\n",
       " <selenium.webdriver.remote.webelement.WebElement (session=\"8726103ecc9d70816336519d3b3e44bf\", element=\"37d0c2f0-fee7-4e9e-83ad-2a43e3863df3\")>,\n",
       " <selenium.webdriver.remote.webelement.WebElement (session=\"8726103ecc9d70816336519d3b3e44bf\", element=\"410f9020-3e39-4b94-a80d-38063a0467ce\")>,\n",
       " <selenium.webdriver.remote.webelement.WebElement (session=\"8726103ecc9d70816336519d3b3e44bf\", element=\"d65d8772-feab-4fbb-a3e4-5951db1bbdc7\")>,\n",
       " <selenium.webdriver.remote.webelement.WebElement (session=\"8726103ecc9d70816336519d3b3e44bf\", element=\"fd2df862-a592-4ee9-ad53-ba65c5aabfa3\")>,\n",
       " <selenium.webdriver.remote.webelement.WebElement (session=\"8726103ecc9d70816336519d3b3e44bf\", element=\"8e586cb8-90e3-44a6-800c-d05f6848ce54\")>,\n",
       " <selenium.webdriver.remote.webelement.WebElement (session=\"8726103ecc9d70816336519d3b3e44bf\", element=\"4bb15a21-b4ad-4c95-885e-06c46d4eca50\")>,\n",
       " <selenium.webdriver.remote.webelement.WebElement (session=\"8726103ecc9d70816336519d3b3e44bf\", element=\"3afd6629-640d-4053-9b31-f9e2a87da992\")>,\n",
       " <selenium.webdriver.remote.webelement.WebElement (session=\"8726103ecc9d70816336519d3b3e44bf\", element=\"5be50f37-7204-4b1f-b721-3a960fae288b\")>,\n",
       " <selenium.webdriver.remote.webelement.WebElement (session=\"8726103ecc9d70816336519d3b3e44bf\", element=\"632b197d-6f4f-4e10-8949-d14c49caacb5\")>,\n",
       " <selenium.webdriver.remote.webelement.WebElement (session=\"8726103ecc9d70816336519d3b3e44bf\", element=\"fa0f8f39-9ada-40c1-a026-dbf44dde5b51\")>,\n",
       " <selenium.webdriver.remote.webelement.WebElement (session=\"8726103ecc9d70816336519d3b3e44bf\", element=\"49a835cd-285d-4e00-abd0-5a42f2afc144\")>,\n",
       " <selenium.webdriver.remote.webelement.WebElement (session=\"8726103ecc9d70816336519d3b3e44bf\", element=\"7b7aa8c1-ead7-42a7-8726-bdab764d3f62\")>,\n",
       " <selenium.webdriver.remote.webelement.WebElement (session=\"8726103ecc9d70816336519d3b3e44bf\", element=\"f09bce1e-5508-4651-a396-ec40bbc679fb\")>,\n",
       " <selenium.webdriver.remote.webelement.WebElement (session=\"8726103ecc9d70816336519d3b3e44bf\", element=\"d2994cb4-d9ca-4418-afe9-3e9ca0c486ec\")>,\n",
       " <selenium.webdriver.remote.webelement.WebElement (session=\"8726103ecc9d70816336519d3b3e44bf\", element=\"9f10b695-31f3-4036-a3da-9ea6c4ba549a\")>,\n",
       " <selenium.webdriver.remote.webelement.WebElement (session=\"8726103ecc9d70816336519d3b3e44bf\", element=\"36f6227a-49d7-436d-a5e6-2d10bc40914e\")>,\n",
       " <selenium.webdriver.remote.webelement.WebElement (session=\"8726103ecc9d70816336519d3b3e44bf\", element=\"bd6dd1f4-d15a-46b7-a746-9b6c6cefa484\")>,\n",
       " <selenium.webdriver.remote.webelement.WebElement (session=\"8726103ecc9d70816336519d3b3e44bf\", element=\"b0b59188-c420-4070-bdb7-98c65ea1a26a\")>,\n",
       " <selenium.webdriver.remote.webelement.WebElement (session=\"8726103ecc9d70816336519d3b3e44bf\", element=\"ec463415-708e-4a14-beba-c92dc9c9a1b2\")>,\n",
       " <selenium.webdriver.remote.webelement.WebElement (session=\"8726103ecc9d70816336519d3b3e44bf\", element=\"41f04621-ad07-4372-8aff-fc72b10deba2\")>,\n",
       " <selenium.webdriver.remote.webelement.WebElement (session=\"8726103ecc9d70816336519d3b3e44bf\", element=\"b54893cb-bc98-42ea-9ca8-a85672633af2\")>,\n",
       " <selenium.webdriver.remote.webelement.WebElement (session=\"8726103ecc9d70816336519d3b3e44bf\", element=\"26d46271-76fb-4681-a16f-6e550df66cc9\")>,\n",
       " <selenium.webdriver.remote.webelement.WebElement (session=\"8726103ecc9d70816336519d3b3e44bf\", element=\"3c1f324c-7f12-4bac-b33a-e6ecb3f475ec\")>,\n",
       " <selenium.webdriver.remote.webelement.WebElement (session=\"8726103ecc9d70816336519d3b3e44bf\", element=\"675fe7a4-7669-49f0-aa2e-5f9d1d3b3428\")>,\n",
       " <selenium.webdriver.remote.webelement.WebElement (session=\"8726103ecc9d70816336519d3b3e44bf\", element=\"96a519c6-23db-4690-aeee-921127f23a72\")>,\n",
       " <selenium.webdriver.remote.webelement.WebElement (session=\"8726103ecc9d70816336519d3b3e44bf\", element=\"85995464-b5dc-423e-b26c-edd4be32705e\")>,\n",
       " <selenium.webdriver.remote.webelement.WebElement (session=\"8726103ecc9d70816336519d3b3e44bf\", element=\"b5be88c1-27e5-4255-b1a6-b2c19083581e\")>,\n",
       " <selenium.webdriver.remote.webelement.WebElement (session=\"8726103ecc9d70816336519d3b3e44bf\", element=\"65dea6de-f223-47b1-999e-04bba2ece81b\")>,\n",
       " <selenium.webdriver.remote.webelement.WebElement (session=\"8726103ecc9d70816336519d3b3e44bf\", element=\"479e359e-d557-442f-bb13-4d0f82667dd3\")>,\n",
       " <selenium.webdriver.remote.webelement.WebElement (session=\"8726103ecc9d70816336519d3b3e44bf\", element=\"af638665-6c3d-4c37-901b-3ed7fb64a1f2\")>,\n",
       " <selenium.webdriver.remote.webelement.WebElement (session=\"8726103ecc9d70816336519d3b3e44bf\", element=\"70210a29-611b-4d2b-91c6-af2ee3e7aa7a\")>,\n",
       " <selenium.webdriver.remote.webelement.WebElement (session=\"8726103ecc9d70816336519d3b3e44bf\", element=\"9d91511f-f65c-4621-acb2-ca23d36f3c3b\")>,\n",
       " <selenium.webdriver.remote.webelement.WebElement (session=\"8726103ecc9d70816336519d3b3e44bf\", element=\"2bb55094-e465-4501-810e-4689a7228834\")>,\n",
       " <selenium.webdriver.remote.webelement.WebElement (session=\"8726103ecc9d70816336519d3b3e44bf\", element=\"920f94c9-eca1-4205-85d5-22f352c21003\")>,\n",
       " <selenium.webdriver.remote.webelement.WebElement (session=\"8726103ecc9d70816336519d3b3e44bf\", element=\"3289004d-b730-4f25-82ec-f5f24588b408\")>,\n",
       " <selenium.webdriver.remote.webelement.WebElement (session=\"8726103ecc9d70816336519d3b3e44bf\", element=\"34ec3484-859d-4a70-9cbb-ede005ddd86f\")>,\n",
       " <selenium.webdriver.remote.webelement.WebElement (session=\"8726103ecc9d70816336519d3b3e44bf\", element=\"59e9ac2b-0ab8-47d9-ade2-e10e7fdbfd16\")>,\n",
       " <selenium.webdriver.remote.webelement.WebElement (session=\"8726103ecc9d70816336519d3b3e44bf\", element=\"abce24db-9d3c-41c0-a8ca-fce23c7c535d\")>,\n",
       " <selenium.webdriver.remote.webelement.WebElement (session=\"8726103ecc9d70816336519d3b3e44bf\", element=\"8bdc83d3-7397-474a-82ab-996ba03fe808\")>,\n",
       " <selenium.webdriver.remote.webelement.WebElement (session=\"8726103ecc9d70816336519d3b3e44bf\", element=\"73ad0c46-59c3-49b2-bf91-cb3b3b747d6e\")>,\n",
       " <selenium.webdriver.remote.webelement.WebElement (session=\"8726103ecc9d70816336519d3b3e44bf\", element=\"4e1ded9b-b447-474f-8fe1-fb58975b678c\")>,\n",
       " <selenium.webdriver.remote.webelement.WebElement (session=\"8726103ecc9d70816336519d3b3e44bf\", element=\"865ac4ca-e3e7-4b5e-b77f-e7f13483e0e2\")>,\n",
       " <selenium.webdriver.remote.webelement.WebElement (session=\"8726103ecc9d70816336519d3b3e44bf\", element=\"07cea2c2-4a9c-4a3b-b57d-60eae7534b7e\")>,\n",
       " <selenium.webdriver.remote.webelement.WebElement (session=\"8726103ecc9d70816336519d3b3e44bf\", element=\"3ecba6de-e1a4-49c7-a75a-b79d074265cf\")>,\n",
       " <selenium.webdriver.remote.webelement.WebElement (session=\"8726103ecc9d70816336519d3b3e44bf\", element=\"665cb51e-5448-4317-bf09-340a2f81c6da\")>,\n",
       " <selenium.webdriver.remote.webelement.WebElement (session=\"8726103ecc9d70816336519d3b3e44bf\", element=\"c698e805-9514-46bb-92b8-ffdae6a19c62\")>,\n",
       " <selenium.webdriver.remote.webelement.WebElement (session=\"8726103ecc9d70816336519d3b3e44bf\", element=\"b0c9dcd9-54b4-493d-bd4b-fb69913ae0d5\")>,\n",
       " <selenium.webdriver.remote.webelement.WebElement (session=\"8726103ecc9d70816336519d3b3e44bf\", element=\"068f800c-973a-435e-8446-6a27d8c6ca63\")>,\n",
       " <selenium.webdriver.remote.webelement.WebElement (session=\"8726103ecc9d70816336519d3b3e44bf\", element=\"1b4087ac-3a1d-4c5b-81c2-1285ce52a0bb\")>,\n",
       " <selenium.webdriver.remote.webelement.WebElement (session=\"8726103ecc9d70816336519d3b3e44bf\", element=\"7e1425dc-f358-4172-9a53-54f9dfa368b6\")>,\n",
       " <selenium.webdriver.remote.webelement.WebElement (session=\"8726103ecc9d70816336519d3b3e44bf\", element=\"05aaf9ec-6b3c-49ad-a79f-9c68e5a3836a\")>,\n",
       " <selenium.webdriver.remote.webelement.WebElement (session=\"8726103ecc9d70816336519d3b3e44bf\", element=\"5a444da8-3801-4383-87ec-8895c995eacf\")>,\n",
       " <selenium.webdriver.remote.webelement.WebElement (session=\"8726103ecc9d70816336519d3b3e44bf\", element=\"79d3ffa6-71b2-4085-bb27-929df45d4c25\")>,\n",
       " <selenium.webdriver.remote.webelement.WebElement (session=\"8726103ecc9d70816336519d3b3e44bf\", element=\"0bce596d-5311-4120-ae64-aee0fdea4dae\")>,\n",
       " <selenium.webdriver.remote.webelement.WebElement (session=\"8726103ecc9d70816336519d3b3e44bf\", element=\"d578fa7e-0431-4d23-b5d8-cc47adb87c4f\")>,\n",
       " <selenium.webdriver.remote.webelement.WebElement (session=\"8726103ecc9d70816336519d3b3e44bf\", element=\"f8df89b7-7ef5-49a8-81b9-90beee3b154d\")>,\n",
       " <selenium.webdriver.remote.webelement.WebElement (session=\"8726103ecc9d70816336519d3b3e44bf\", element=\"acd80324-af46-4637-bd57-dd373d9b351b\")>,\n",
       " <selenium.webdriver.remote.webelement.WebElement (session=\"8726103ecc9d70816336519d3b3e44bf\", element=\"b1d89df2-f42e-4dc4-b99d-335124ae04b4\")>,\n",
       " <selenium.webdriver.remote.webelement.WebElement (session=\"8726103ecc9d70816336519d3b3e44bf\", element=\"997bd9de-01c2-497b-a22a-4d17fa4128cf\")>,\n",
       " <selenium.webdriver.remote.webelement.WebElement (session=\"8726103ecc9d70816336519d3b3e44bf\", element=\"77e6f12e-4c16-4209-827e-fd026b9f6eb6\")>,\n",
       " <selenium.webdriver.remote.webelement.WebElement (session=\"8726103ecc9d70816336519d3b3e44bf\", element=\"0223b03b-9253-40e5-bd42-96b4d5be5864\")>,\n",
       " <selenium.webdriver.remote.webelement.WebElement (session=\"8726103ecc9d70816336519d3b3e44bf\", element=\"0508a8ec-a244-4b62-b346-45831d82e95f\")>,\n",
       " <selenium.webdriver.remote.webelement.WebElement (session=\"8726103ecc9d70816336519d3b3e44bf\", element=\"1a693342-6d2d-4124-b3cd-8f035ec329f3\")>,\n",
       " <selenium.webdriver.remote.webelement.WebElement (session=\"8726103ecc9d70816336519d3b3e44bf\", element=\"cbaa1bcb-5c90-445f-9121-ae28fb921c16\")>,\n",
       " <selenium.webdriver.remote.webelement.WebElement (session=\"8726103ecc9d70816336519d3b3e44bf\", element=\"551838e6-af4b-4ad8-ad71-cfbd63095931\")>,\n",
       " <selenium.webdriver.remote.webelement.WebElement (session=\"8726103ecc9d70816336519d3b3e44bf\", element=\"9eb4f31f-f7e2-482e-a8c5-2cd380979bd7\")>,\n",
       " <selenium.webdriver.remote.webelement.WebElement (session=\"8726103ecc9d70816336519d3b3e44bf\", element=\"d3b5661e-978c-40a1-8f0d-c7739e543529\")>,\n",
       " <selenium.webdriver.remote.webelement.WebElement (session=\"8726103ecc9d70816336519d3b3e44bf\", element=\"bc53e51a-2e16-4e48-a998-7b00d8570705\")>,\n",
       " <selenium.webdriver.remote.webelement.WebElement (session=\"8726103ecc9d70816336519d3b3e44bf\", element=\"a1221f37-7073-4cd7-9c2c-4587ac60c999\")>,\n",
       " <selenium.webdriver.remote.webelement.WebElement (session=\"8726103ecc9d70816336519d3b3e44bf\", element=\"d94da0f5-584c-4117-92e9-a1ebc44ef5d6\")>,\n",
       " <selenium.webdriver.remote.webelement.WebElement (session=\"8726103ecc9d70816336519d3b3e44bf\", element=\"feb08d93-11fc-4003-9115-58c8bb951c0f\")>,\n",
       " <selenium.webdriver.remote.webelement.WebElement (session=\"8726103ecc9d70816336519d3b3e44bf\", element=\"1d90424a-d117-4f01-8064-7992177ea1ba\")>,\n",
       " <selenium.webdriver.remote.webelement.WebElement (session=\"8726103ecc9d70816336519d3b3e44bf\", element=\"6d28343f-e256-4663-8716-b0177001388a\")>,\n",
       " <selenium.webdriver.remote.webelement.WebElement (session=\"8726103ecc9d70816336519d3b3e44bf\", element=\"64acea8f-63cd-46de-9b84-a90c149136be\")>,\n",
       " <selenium.webdriver.remote.webelement.WebElement (session=\"8726103ecc9d70816336519d3b3e44bf\", element=\"96218b25-462c-4012-88b5-26424d3746e7\")>,\n",
       " <selenium.webdriver.remote.webelement.WebElement (session=\"8726103ecc9d70816336519d3b3e44bf\", element=\"b61492ac-4ff3-45f2-83a7-718cc7796295\")>,\n",
       " <selenium.webdriver.remote.webelement.WebElement (session=\"8726103ecc9d70816336519d3b3e44bf\", element=\"5afe67a1-1581-47ce-9fc8-2e731103f709\")>,\n",
       " <selenium.webdriver.remote.webelement.WebElement (session=\"8726103ecc9d70816336519d3b3e44bf\", element=\"171bce6c-cd35-4239-b834-34e199a2fe6d\")>,\n",
       " <selenium.webdriver.remote.webelement.WebElement (session=\"8726103ecc9d70816336519d3b3e44bf\", element=\"4ab5aff7-130b-4207-98cf-6f6c79303df2\")>,\n",
       " <selenium.webdriver.remote.webelement.WebElement (session=\"8726103ecc9d70816336519d3b3e44bf\", element=\"420cfbaa-66fc-4a16-b3ec-dca37fabeb48\")>,\n",
       " <selenium.webdriver.remote.webelement.WebElement (session=\"8726103ecc9d70816336519d3b3e44bf\", element=\"bceca4c3-f203-4f72-b00a-aa918386a42b\")>,\n",
       " <selenium.webdriver.remote.webelement.WebElement (session=\"8726103ecc9d70816336519d3b3e44bf\", element=\"649d595c-5ac2-4b52-952b-15a825b0edc4\")>,\n",
       " <selenium.webdriver.remote.webelement.WebElement (session=\"8726103ecc9d70816336519d3b3e44bf\", element=\"2f6f8cd0-78bd-47b2-aeca-e491ce4a57a1\")>,\n",
       " <selenium.webdriver.remote.webelement.WebElement (session=\"8726103ecc9d70816336519d3b3e44bf\", element=\"70bf3e35-4f22-4639-b44d-6598bde1a1b8\")>,\n",
       " <selenium.webdriver.remote.webelement.WebElement (session=\"8726103ecc9d70816336519d3b3e44bf\", element=\"c187f331-04fd-4e80-8a09-8e7651695d3e\")>,\n",
       " <selenium.webdriver.remote.webelement.WebElement (session=\"8726103ecc9d70816336519d3b3e44bf\", element=\"e79129ff-b19e-4ddc-8798-76b4d5ec788c\")>,\n",
       " <selenium.webdriver.remote.webelement.WebElement (session=\"8726103ecc9d70816336519d3b3e44bf\", element=\"990b7796-1a2d-4e0d-9928-bf3986f84695\")>,\n",
       " <selenium.webdriver.remote.webelement.WebElement (session=\"8726103ecc9d70816336519d3b3e44bf\", element=\"c8069a32-7b2e-4ff4-ab1e-4ff72e218fcc\")>,\n",
       " <selenium.webdriver.remote.webelement.WebElement (session=\"8726103ecc9d70816336519d3b3e44bf\", element=\"9a6952e2-75e3-4b3a-a46f-cb6a98ac4a28\")>,\n",
       " <selenium.webdriver.remote.webelement.WebElement (session=\"8726103ecc9d70816336519d3b3e44bf\", element=\"85a81ed1-8fdb-469f-929d-b53272371c41\")>,\n",
       " <selenium.webdriver.remote.webelement.WebElement (session=\"8726103ecc9d70816336519d3b3e44bf\", element=\"4efb0fb4-c0d8-42ee-b54b-cfa1ac9ac8c7\")>,\n",
       " <selenium.webdriver.remote.webelement.WebElement (session=\"8726103ecc9d70816336519d3b3e44bf\", element=\"27eaaebd-a280-425f-94b0-99eeae3b3818\")>,\n",
       " <selenium.webdriver.remote.webelement.WebElement (session=\"8726103ecc9d70816336519d3b3e44bf\", element=\"4763cc14-5e43-4faf-b771-32ca399940a6\")>,\n",
       " <selenium.webdriver.remote.webelement.WebElement (session=\"8726103ecc9d70816336519d3b3e44bf\", element=\"60b49db4-9f94-48f4-88d8-72fe9eb26bf1\")>,\n",
       " <selenium.webdriver.remote.webelement.WebElement (session=\"8726103ecc9d70816336519d3b3e44bf\", element=\"365a32d4-b070-4c51-8899-b3c94a6d7bbe\")>,\n",
       " <selenium.webdriver.remote.webelement.WebElement (session=\"8726103ecc9d70816336519d3b3e44bf\", element=\"e535c3d7-59f6-45f3-a57f-230695d50a04\")>,\n",
       " <selenium.webdriver.remote.webelement.WebElement (session=\"8726103ecc9d70816336519d3b3e44bf\", element=\"7d33e35b-dc31-4a60-934f-97126562cbe6\")>,\n",
       " <selenium.webdriver.remote.webelement.WebElement (session=\"8726103ecc9d70816336519d3b3e44bf\", element=\"d2e63681-337e-4361-ab55-fb58e4da3cd7\")>,\n",
       " <selenium.webdriver.remote.webelement.WebElement (session=\"8726103ecc9d70816336519d3b3e44bf\", element=\"6337ff99-2a26-4f5d-8835-511b029afe7f\")>,\n",
       " <selenium.webdriver.remote.webelement.WebElement (session=\"8726103ecc9d70816336519d3b3e44bf\", element=\"ac120274-cbe6-41a0-9b28-1be62c1bfd11\")>,\n",
       " <selenium.webdriver.remote.webelement.WebElement (session=\"8726103ecc9d70816336519d3b3e44bf\", element=\"39f5429a-f4c8-48bd-9d65-df36abe503b3\")>,\n",
       " <selenium.webdriver.remote.webelement.WebElement (session=\"8726103ecc9d70816336519d3b3e44bf\", element=\"b11f0bcc-f90c-4c83-bf2c-fb2d0ee66232\")>,\n",
       " <selenium.webdriver.remote.webelement.WebElement (session=\"8726103ecc9d70816336519d3b3e44bf\", element=\"d4736339-75bd-48a9-a177-30b875cb0700\")>,\n",
       " <selenium.webdriver.remote.webelement.WebElement (session=\"8726103ecc9d70816336519d3b3e44bf\", element=\"78ed6661-7bcd-497e-a7d2-dbf966b85b13\")>,\n",
       " <selenium.webdriver.remote.webelement.WebElement (session=\"8726103ecc9d70816336519d3b3e44bf\", element=\"e11967f9-07ca-485f-b777-133a584d3101\")>,\n",
       " <selenium.webdriver.remote.webelement.WebElement (session=\"8726103ecc9d70816336519d3b3e44bf\", element=\"c5acd337-3bef-433f-812e-57e80cce6e79\")>,\n",
       " <selenium.webdriver.remote.webelement.WebElement (session=\"8726103ecc9d70816336519d3b3e44bf\", element=\"fe3afeed-8ae6-43f0-9888-145ca357aa09\")>,\n",
       " <selenium.webdriver.remote.webelement.WebElement (session=\"8726103ecc9d70816336519d3b3e44bf\", element=\"9aafad0c-c507-4a4b-9f9e-0f0cded77dda\")>,\n",
       " <selenium.webdriver.remote.webelement.WebElement (session=\"8726103ecc9d70816336519d3b3e44bf\", element=\"8d86a763-e78f-45d4-a0fe-fcef35b7293a\")>,\n",
       " <selenium.webdriver.remote.webelement.WebElement (session=\"8726103ecc9d70816336519d3b3e44bf\", element=\"77ba0a69-9cd6-4c58-8eee-28209791dbfd\")>,\n",
       " <selenium.webdriver.remote.webelement.WebElement (session=\"8726103ecc9d70816336519d3b3e44bf\", element=\"e06d1e5e-d564-4709-9feb-1881dddf4f87\")>,\n",
       " <selenium.webdriver.remote.webelement.WebElement (session=\"8726103ecc9d70816336519d3b3e44bf\", element=\"e1baeeed-f241-4cb9-b120-6c20f639a3fe\")>,\n",
       " <selenium.webdriver.remote.webelement.WebElement (session=\"8726103ecc9d70816336519d3b3e44bf\", element=\"99dfe7f7-de77-4a85-92ca-52ff05bb5d9f\")>,\n",
       " <selenium.webdriver.remote.webelement.WebElement (session=\"8726103ecc9d70816336519d3b3e44bf\", element=\"e54521ec-9ebc-439b-bdb0-654d05f2afe5\")>,\n",
       " <selenium.webdriver.remote.webelement.WebElement (session=\"8726103ecc9d70816336519d3b3e44bf\", element=\"4922b8b0-9a87-4dbf-a412-1d5e6516fbaa\")>,\n",
       " <selenium.webdriver.remote.webelement.WebElement (session=\"8726103ecc9d70816336519d3b3e44bf\", element=\"4345d803-f0a4-4525-9812-e2218342ac24\")>,\n",
       " <selenium.webdriver.remote.webelement.WebElement (session=\"8726103ecc9d70816336519d3b3e44bf\", element=\"b4408cce-d23b-47b5-bc25-b729554bf532\")>,\n",
       " <selenium.webdriver.remote.webelement.WebElement (session=\"8726103ecc9d70816336519d3b3e44bf\", element=\"a2a26524-3edf-4817-ad16-4ef32d83ac39\")>,\n",
       " <selenium.webdriver.remote.webelement.WebElement (session=\"8726103ecc9d70816336519d3b3e44bf\", element=\"5bb87822-f691-4bba-bb76-a5d2b014f1e2\")>,\n",
       " <selenium.webdriver.remote.webelement.WebElement (session=\"8726103ecc9d70816336519d3b3e44bf\", element=\"fa6e4656-c4fc-4127-beab-046320bc3755\")>,\n",
       " <selenium.webdriver.remote.webelement.WebElement (session=\"8726103ecc9d70816336519d3b3e44bf\", element=\"b3acc0cb-fdad-455d-96de-fdcae786b891\")>,\n",
       " <selenium.webdriver.remote.webelement.WebElement (session=\"8726103ecc9d70816336519d3b3e44bf\", element=\"693060c4-480e-4f18-b6af-e10fbf9ec1b9\")>,\n",
       " <selenium.webdriver.remote.webelement.WebElement (session=\"8726103ecc9d70816336519d3b3e44bf\", element=\"f0d7fa03-14c7-4363-8a41-86203ce18d91\")>,\n",
       " <selenium.webdriver.remote.webelement.WebElement (session=\"8726103ecc9d70816336519d3b3e44bf\", element=\"ee268804-c734-47ea-917d-4eb853cc0541\")>,\n",
       " <selenium.webdriver.remote.webelement.WebElement (session=\"8726103ecc9d70816336519d3b3e44bf\", element=\"e89b18e3-6553-4cba-a9a7-b9160f3904cd\")>,\n",
       " <selenium.webdriver.remote.webelement.WebElement (session=\"8726103ecc9d70816336519d3b3e44bf\", element=\"80b9a4d7-34de-4655-99a3-a34dfb68e03d\")>,\n",
       " <selenium.webdriver.remote.webelement.WebElement (session=\"8726103ecc9d70816336519d3b3e44bf\", element=\"f93ed68b-861a-4e4e-889d-a3514126cc26\")>,\n",
       " <selenium.webdriver.remote.webelement.WebElement (session=\"8726103ecc9d70816336519d3b3e44bf\", element=\"4bff0067-9cac-4738-90be-ae506a75b489\")>,\n",
       " <selenium.webdriver.remote.webelement.WebElement (session=\"8726103ecc9d70816336519d3b3e44bf\", element=\"c9717b6f-7302-4821-ba5a-cbb8c8eb3016\")>,\n",
       " <selenium.webdriver.remote.webelement.WebElement (session=\"8726103ecc9d70816336519d3b3e44bf\", element=\"ddec3047-db0d-48af-a4d1-854a88a9a8fe\")>,\n",
       " <selenium.webdriver.remote.webelement.WebElement (session=\"8726103ecc9d70816336519d3b3e44bf\", element=\"5affa8c9-b580-461c-83ee-d55a92231c94\")>,\n",
       " <selenium.webdriver.remote.webelement.WebElement (session=\"8726103ecc9d70816336519d3b3e44bf\", element=\"846d1586-def2-44bb-ac58-80fe6e2b7bc2\")>,\n",
       " <selenium.webdriver.remote.webelement.WebElement (session=\"8726103ecc9d70816336519d3b3e44bf\", element=\"70b50c84-e157-4cf7-90e9-64082c92d253\")>,\n",
       " <selenium.webdriver.remote.webelement.WebElement (session=\"8726103ecc9d70816336519d3b3e44bf\", element=\"19661d8e-0c53-42d6-9fa1-95b5f1e0c611\")>,\n",
       " <selenium.webdriver.remote.webelement.WebElement (session=\"8726103ecc9d70816336519d3b3e44bf\", element=\"e6edcab3-d2ba-47f8-9881-2549114283b8\")>,\n",
       " <selenium.webdriver.remote.webelement.WebElement (session=\"8726103ecc9d70816336519d3b3e44bf\", element=\"1e99f0e3-d2ce-4f20-a351-b2dfee190486\")>,\n",
       " <selenium.webdriver.remote.webelement.WebElement (session=\"8726103ecc9d70816336519d3b3e44bf\", element=\"01ff0436-3457-4928-8bae-8337f0bf17e9\")>,\n",
       " <selenium.webdriver.remote.webelement.WebElement (session=\"8726103ecc9d70816336519d3b3e44bf\", element=\"7846e423-54e6-467d-ae9f-ab73f469310b\")>,\n",
       " <selenium.webdriver.remote.webelement.WebElement (session=\"8726103ecc9d70816336519d3b3e44bf\", element=\"2e1670ed-6001-4d84-82f5-0c0b90b0797b\")>,\n",
       " <selenium.webdriver.remote.webelement.WebElement (session=\"8726103ecc9d70816336519d3b3e44bf\", element=\"69784564-c57f-4131-aeb3-515825da96a1\")>,\n",
       " <selenium.webdriver.remote.webelement.WebElement (session=\"8726103ecc9d70816336519d3b3e44bf\", element=\"22b31864-6b0f-48c1-801d-3b1b0144ae3b\")>,\n",
       " <selenium.webdriver.remote.webelement.WebElement (session=\"8726103ecc9d70816336519d3b3e44bf\", element=\"206da319-a6c6-45aa-b7a8-16aee2603956\")>,\n",
       " <selenium.webdriver.remote.webelement.WebElement (session=\"8726103ecc9d70816336519d3b3e44bf\", element=\"0d6fbd69-0ffe-4eab-9e8f-b71f3e2bd7e1\")>,\n",
       " <selenium.webdriver.remote.webelement.WebElement (session=\"8726103ecc9d70816336519d3b3e44bf\", element=\"ffbb364f-22ed-4969-9f58-c662d2e7e7a9\")>,\n",
       " <selenium.webdriver.remote.webelement.WebElement (session=\"8726103ecc9d70816336519d3b3e44bf\", element=\"39a309a8-d059-4678-8032-0805344de6a5\")>,\n",
       " <selenium.webdriver.remote.webelement.WebElement (session=\"8726103ecc9d70816336519d3b3e44bf\", element=\"4326a8a5-5be3-4622-9859-9baebaab902d\")>,\n",
       " <selenium.webdriver.remote.webelement.WebElement (session=\"8726103ecc9d70816336519d3b3e44bf\", element=\"9292123c-ba61-4907-92f5-5017ba0f8e7a\")>,\n",
       " <selenium.webdriver.remote.webelement.WebElement (session=\"8726103ecc9d70816336519d3b3e44bf\", element=\"5174f869-c3b4-4ce0-8e84-5054fa9388d6\")>,\n",
       " <selenium.webdriver.remote.webelement.WebElement (session=\"8726103ecc9d70816336519d3b3e44bf\", element=\"6f8bb2a8-946a-4ff6-a766-ebb7a47a73a7\")>,\n",
       " <selenium.webdriver.remote.webelement.WebElement (session=\"8726103ecc9d70816336519d3b3e44bf\", element=\"a79a8c99-7236-4e13-8686-ddeef28f29e0\")>,\n",
       " <selenium.webdriver.remote.webelement.WebElement (session=\"8726103ecc9d70816336519d3b3e44bf\", element=\"227a8c87-58f9-4509-9236-193edabf1189\")>,\n",
       " <selenium.webdriver.remote.webelement.WebElement (session=\"8726103ecc9d70816336519d3b3e44bf\", element=\"8711ab80-5fcf-4558-b273-68e8d49d2973\")>,\n",
       " <selenium.webdriver.remote.webelement.WebElement (session=\"8726103ecc9d70816336519d3b3e44bf\", element=\"145bf75a-ad1d-4725-8c40-fba02f9c1eca\")>,\n",
       " <selenium.webdriver.remote.webelement.WebElement (session=\"8726103ecc9d70816336519d3b3e44bf\", element=\"97e966b5-42f8-45ef-af51-856db38398e6\")>,\n",
       " <selenium.webdriver.remote.webelement.WebElement (session=\"8726103ecc9d70816336519d3b3e44bf\", element=\"b3cd9cf5-e8a1-4523-be9c-629f30edf794\")>,\n",
       " <selenium.webdriver.remote.webelement.WebElement (session=\"8726103ecc9d70816336519d3b3e44bf\", element=\"9803337f-7d12-4abf-bac2-0a9abc11250e\")>,\n",
       " <selenium.webdriver.remote.webelement.WebElement (session=\"8726103ecc9d70816336519d3b3e44bf\", element=\"d984439d-10db-46e6-8188-5ef2e906cdfe\")>,\n",
       " <selenium.webdriver.remote.webelement.WebElement (session=\"8726103ecc9d70816336519d3b3e44bf\", element=\"03f4faba-1a0c-4273-8fa4-4de76c61c17b\")>,\n",
       " <selenium.webdriver.remote.webelement.WebElement (session=\"8726103ecc9d70816336519d3b3e44bf\", element=\"75d82b3a-5a07-4efd-be60-339cbcc2d699\")>,\n",
       " <selenium.webdriver.remote.webelement.WebElement (session=\"8726103ecc9d70816336519d3b3e44bf\", element=\"99d2519f-8f6d-4f4b-a8e6-892555b9f043\")>,\n",
       " <selenium.webdriver.remote.webelement.WebElement (session=\"8726103ecc9d70816336519d3b3e44bf\", element=\"8cad91f8-0674-4116-b3bd-88f8f3a2a6f6\")>,\n",
       " <selenium.webdriver.remote.webelement.WebElement (session=\"8726103ecc9d70816336519d3b3e44bf\", element=\"bf34e8a6-bab6-4461-bfad-f5b133912419\")>,\n",
       " <selenium.webdriver.remote.webelement.WebElement (session=\"8726103ecc9d70816336519d3b3e44bf\", element=\"369a83c9-e360-48d5-91cc-fee87295b301\")>,\n",
       " <selenium.webdriver.remote.webelement.WebElement (session=\"8726103ecc9d70816336519d3b3e44bf\", element=\"5127795f-8719-4695-a816-9e9340e039c8\")>,\n",
       " <selenium.webdriver.remote.webelement.WebElement (session=\"8726103ecc9d70816336519d3b3e44bf\", element=\"307427ff-1cf7-49a6-a2df-85d3b17b4ea3\")>,\n",
       " <selenium.webdriver.remote.webelement.WebElement (session=\"8726103ecc9d70816336519d3b3e44bf\", element=\"e929bd4e-aa0b-4ef2-93a9-1cbb9cba7a58\")>,\n",
       " <selenium.webdriver.remote.webelement.WebElement (session=\"8726103ecc9d70816336519d3b3e44bf\", element=\"23f598cd-0dd5-4236-a08d-2b7d515e214a\")>,\n",
       " <selenium.webdriver.remote.webelement.WebElement (session=\"8726103ecc9d70816336519d3b3e44bf\", element=\"f1169844-cb7f-4768-9680-65f332aaaa67\")>,\n",
       " <selenium.webdriver.remote.webelement.WebElement (session=\"8726103ecc9d70816336519d3b3e44bf\", element=\"837bc467-c2e5-478e-bb07-2a9050224fd3\")>,\n",
       " <selenium.webdriver.remote.webelement.WebElement (session=\"8726103ecc9d70816336519d3b3e44bf\", element=\"88ab2831-a70b-4d57-8d46-21a9b57025de\")>,\n",
       " <selenium.webdriver.remote.webelement.WebElement (session=\"8726103ecc9d70816336519d3b3e44bf\", element=\"9721ef95-33c1-47ba-9f14-ec478fe6d1e1\")>,\n",
       " <selenium.webdriver.remote.webelement.WebElement (session=\"8726103ecc9d70816336519d3b3e44bf\", element=\"706d0733-0788-4576-b18e-21de22b17117\")>,\n",
       " <selenium.webdriver.remote.webelement.WebElement (session=\"8726103ecc9d70816336519d3b3e44bf\", element=\"2613384c-c992-41c0-9532-2a1a73632192\")>,\n",
       " <selenium.webdriver.remote.webelement.WebElement (session=\"8726103ecc9d70816336519d3b3e44bf\", element=\"ef99ce15-b580-4b36-942c-c6bbea187fd8\")>,\n",
       " <selenium.webdriver.remote.webelement.WebElement (session=\"8726103ecc9d70816336519d3b3e44bf\", element=\"493f27d1-b518-4e65-b5af-1a5fdf78cbb3\")>,\n",
       " <selenium.webdriver.remote.webelement.WebElement (session=\"8726103ecc9d70816336519d3b3e44bf\", element=\"c5e259ab-a77c-4e84-98ac-8b688cbea37d\")>,\n",
       " <selenium.webdriver.remote.webelement.WebElement (session=\"8726103ecc9d70816336519d3b3e44bf\", element=\"b1348c2d-58cb-4591-9e28-a85d4d87705e\")>,\n",
       " <selenium.webdriver.remote.webelement.WebElement (session=\"8726103ecc9d70816336519d3b3e44bf\", element=\"e621b0d2-772e-40f2-9e12-f5a7cc6cd828\")>,\n",
       " <selenium.webdriver.remote.webelement.WebElement (session=\"8726103ecc9d70816336519d3b3e44bf\", element=\"1cfb77a2-343e-4807-b6af-d01c2cbac474\")>,\n",
       " <selenium.webdriver.remote.webelement.WebElement (session=\"8726103ecc9d70816336519d3b3e44bf\", element=\"ce1c31d4-6851-48a8-94cf-fa7268f5dada\")>,\n",
       " <selenium.webdriver.remote.webelement.WebElement (session=\"8726103ecc9d70816336519d3b3e44bf\", element=\"8c4b02b5-91a3-4cb4-a27f-3f67b3781c4c\")>,\n",
       " <selenium.webdriver.remote.webelement.WebElement (session=\"8726103ecc9d70816336519d3b3e44bf\", element=\"fced73b1-02d9-44db-9292-2f3b6f99f8f9\")>,\n",
       " <selenium.webdriver.remote.webelement.WebElement (session=\"8726103ecc9d70816336519d3b3e44bf\", element=\"cc3460d3-0306-4dad-8a45-65fdf534e114\")>,\n",
       " <selenium.webdriver.remote.webelement.WebElement (session=\"8726103ecc9d70816336519d3b3e44bf\", element=\"51f86478-c0d1-4c40-b5e9-bbe65c570840\")>,\n",
       " <selenium.webdriver.remote.webelement.WebElement (session=\"8726103ecc9d70816336519d3b3e44bf\", element=\"b812563b-2c35-4b9a-997b-5bfc9e4d3076\")>,\n",
       " <selenium.webdriver.remote.webelement.WebElement (session=\"8726103ecc9d70816336519d3b3e44bf\", element=\"e07d08f0-2908-4807-aa1a-dea459cff8ca\")>,\n",
       " <selenium.webdriver.remote.webelement.WebElement (session=\"8726103ecc9d70816336519d3b3e44bf\", element=\"0021348a-9289-440e-b855-c779b42c9ad4\")>,\n",
       " <selenium.webdriver.remote.webelement.WebElement (session=\"8726103ecc9d70816336519d3b3e44bf\", element=\"ca2ab3af-15a4-4252-8bde-bd949725f400\")>,\n",
       " <selenium.webdriver.remote.webelement.WebElement (session=\"8726103ecc9d70816336519d3b3e44bf\", element=\"fc5e037d-aa7c-4993-bb4e-1db4e5a29b75\")>,\n",
       " <selenium.webdriver.remote.webelement.WebElement (session=\"8726103ecc9d70816336519d3b3e44bf\", element=\"9ee8a8f4-0247-4808-9eec-d414fb5822f2\")>,\n",
       " <selenium.webdriver.remote.webelement.WebElement (session=\"8726103ecc9d70816336519d3b3e44bf\", element=\"e2808c29-76cd-4982-b410-8e00a36066b1\")>,\n",
       " <selenium.webdriver.remote.webelement.WebElement (session=\"8726103ecc9d70816336519d3b3e44bf\", element=\"3b65f8e7-5f91-4ff5-841b-86d8a0663582\")>,\n",
       " <selenium.webdriver.remote.webelement.WebElement (session=\"8726103ecc9d70816336519d3b3e44bf\", element=\"a72d21a4-1f8b-45cc-ac16-478b83cf8279\")>,\n",
       " <selenium.webdriver.remote.webelement.WebElement (session=\"8726103ecc9d70816336519d3b3e44bf\", element=\"52c5acb6-b82c-41f6-9dbe-aa2e755ca6b5\")>,\n",
       " <selenium.webdriver.remote.webelement.WebElement (session=\"8726103ecc9d70816336519d3b3e44bf\", element=\"2e288789-436e-44c9-8278-4158df0a6d19\")>,\n",
       " <selenium.webdriver.remote.webelement.WebElement (session=\"8726103ecc9d70816336519d3b3e44bf\", element=\"7edb96f9-d4a4-4e8d-94fe-4874c93e9d26\")>,\n",
       " <selenium.webdriver.remote.webelement.WebElement (session=\"8726103ecc9d70816336519d3b3e44bf\", element=\"2a036502-41d2-4d48-beef-a6a73df965b0\")>,\n",
       " <selenium.webdriver.remote.webelement.WebElement (session=\"8726103ecc9d70816336519d3b3e44bf\", element=\"22593d78-dfaf-4011-afd8-8e32a8a9810c\")>,\n",
       " <selenium.webdriver.remote.webelement.WebElement (session=\"8726103ecc9d70816336519d3b3e44bf\", element=\"0e933310-360a-4292-8ab1-8b62eddaec98\")>,\n",
       " <selenium.webdriver.remote.webelement.WebElement (session=\"8726103ecc9d70816336519d3b3e44bf\", element=\"7eefc1e9-6f35-4506-969b-cfd3419ccd56\")>,\n",
       " <selenium.webdriver.remote.webelement.WebElement (session=\"8726103ecc9d70816336519d3b3e44bf\", element=\"6d8ceba5-3a32-4987-a357-af293bb1dee2\")>,\n",
       " <selenium.webdriver.remote.webelement.WebElement (session=\"8726103ecc9d70816336519d3b3e44bf\", element=\"86166921-0a8d-4443-8d97-34401db9e5a2\")>,\n",
       " <selenium.webdriver.remote.webelement.WebElement (session=\"8726103ecc9d70816336519d3b3e44bf\", element=\"4bdb3982-bcc7-43dd-b371-65ed41fbb63f\")>,\n",
       " <selenium.webdriver.remote.webelement.WebElement (session=\"8726103ecc9d70816336519d3b3e44bf\", element=\"fc6f04b2-a4ea-4c23-bfd9-55806ce3b0ed\")>,\n",
       " <selenium.webdriver.remote.webelement.WebElement (session=\"8726103ecc9d70816336519d3b3e44bf\", element=\"5f685ee4-350b-4c6b-882a-0fb26aa303b4\")>,\n",
       " <selenium.webdriver.remote.webelement.WebElement (session=\"8726103ecc9d70816336519d3b3e44bf\", element=\"f9243111-61c5-46c6-bb9d-834120b6ad50\")>,\n",
       " <selenium.webdriver.remote.webelement.WebElement (session=\"8726103ecc9d70816336519d3b3e44bf\", element=\"c0fb5bda-f57d-496e-87ba-3a3fa17d1b76\")>,\n",
       " <selenium.webdriver.remote.webelement.WebElement (session=\"8726103ecc9d70816336519d3b3e44bf\", element=\"6e5d8638-65d6-4cf7-90ca-e7f932306613\")>,\n",
       " <selenium.webdriver.remote.webelement.WebElement (session=\"8726103ecc9d70816336519d3b3e44bf\", element=\"a49b91bb-3eb0-4631-ac86-6fdd10bcf07d\")>,\n",
       " <selenium.webdriver.remote.webelement.WebElement (session=\"8726103ecc9d70816336519d3b3e44bf\", element=\"4d5bdc63-e9ce-4dbf-b67f-ed0e182f7dd7\")>,\n",
       " <selenium.webdriver.remote.webelement.WebElement (session=\"8726103ecc9d70816336519d3b3e44bf\", element=\"bc232082-de66-4fc1-997d-0d9be8084afc\")>,\n",
       " <selenium.webdriver.remote.webelement.WebElement (session=\"8726103ecc9d70816336519d3b3e44bf\", element=\"ed79d65e-2d87-47b7-a996-f81de4155018\")>,\n",
       " <selenium.webdriver.remote.webelement.WebElement (session=\"8726103ecc9d70816336519d3b3e44bf\", element=\"09abbd3c-7576-4aa3-b643-93afec546643\")>,\n",
       " <selenium.webdriver.remote.webelement.WebElement (session=\"8726103ecc9d70816336519d3b3e44bf\", element=\"6f544f4d-1aa8-4746-9120-d9a7a84b5151\")>,\n",
       " <selenium.webdriver.remote.webelement.WebElement (session=\"8726103ecc9d70816336519d3b3e44bf\", element=\"4b5f1307-8656-466b-94e0-5956c61b1aa5\")>,\n",
       " <selenium.webdriver.remote.webelement.WebElement (session=\"8726103ecc9d70816336519d3b3e44bf\", element=\"42efe606-0500-4bdb-89dd-33abbc451e86\")>,\n",
       " <selenium.webdriver.remote.webelement.WebElement (session=\"8726103ecc9d70816336519d3b3e44bf\", element=\"5c8c5171-1b15-4caa-b1ef-131ae77dfa4d\")>,\n",
       " <selenium.webdriver.remote.webelement.WebElement (session=\"8726103ecc9d70816336519d3b3e44bf\", element=\"7532977e-9983-4149-8a54-b171e85edf93\")>,\n",
       " <selenium.webdriver.remote.webelement.WebElement (session=\"8726103ecc9d70816336519d3b3e44bf\", element=\"c2c33231-21ff-4d79-81d2-1abcc55513fc\")>,\n",
       " <selenium.webdriver.remote.webelement.WebElement (session=\"8726103ecc9d70816336519d3b3e44bf\", element=\"0270e3cf-f15b-4c1c-9bd6-67fdac83d3e4\")>,\n",
       " <selenium.webdriver.remote.webelement.WebElement (session=\"8726103ecc9d70816336519d3b3e44bf\", element=\"1ae74931-a7f9-4af3-a550-70af97949d9e\")>,\n",
       " <selenium.webdriver.remote.webelement.WebElement (session=\"8726103ecc9d70816336519d3b3e44bf\", element=\"82ec2724-c395-4f9f-a01e-a87c2245cf0d\")>,\n",
       " <selenium.webdriver.remote.webelement.WebElement (session=\"8726103ecc9d70816336519d3b3e44bf\", element=\"55c74faf-9790-42cf-8abb-c873924c5d67\")>,\n",
       " <selenium.webdriver.remote.webelement.WebElement (session=\"8726103ecc9d70816336519d3b3e44bf\", element=\"3cb8b80e-6932-4a29-9304-53c9b884acc8\")>,\n",
       " <selenium.webdriver.remote.webelement.WebElement (session=\"8726103ecc9d70816336519d3b3e44bf\", element=\"405aa1f3-7a3e-444d-ab49-1117d4ed7458\")>,\n",
       " <selenium.webdriver.remote.webelement.WebElement (session=\"8726103ecc9d70816336519d3b3e44bf\", element=\"0f5353d8-85a2-41ec-9835-a27fbc717834\")>,\n",
       " <selenium.webdriver.remote.webelement.WebElement (session=\"8726103ecc9d70816336519d3b3e44bf\", element=\"417590d4-3494-452e-bba8-3bd21ee62b30\")>,\n",
       " <selenium.webdriver.remote.webelement.WebElement (session=\"8726103ecc9d70816336519d3b3e44bf\", element=\"4a89eba4-3ab2-4837-9504-4cc16a6fe9a3\")>,\n",
       " <selenium.webdriver.remote.webelement.WebElement (session=\"8726103ecc9d70816336519d3b3e44bf\", element=\"364ba329-90b4-4ade-a2b7-440c7c1af08a\")>,\n",
       " <selenium.webdriver.remote.webelement.WebElement (session=\"8726103ecc9d70816336519d3b3e44bf\", element=\"b27adf9c-e913-49d6-b5df-98976c825bd5\")>,\n",
       " <selenium.webdriver.remote.webelement.WebElement (session=\"8726103ecc9d70816336519d3b3e44bf\", element=\"bfcf82ca-f001-4027-93e4-17dbebdeef68\")>,\n",
       " <selenium.webdriver.remote.webelement.WebElement (session=\"8726103ecc9d70816336519d3b3e44bf\", element=\"4e4001dd-b7e8-4a4f-80f3-6c1ba0da35f2\")>,\n",
       " <selenium.webdriver.remote.webelement.WebElement (session=\"8726103ecc9d70816336519d3b3e44bf\", element=\"93fd87a7-383c-43e6-bf5c-eac76703d17a\")>,\n",
       " <selenium.webdriver.remote.webelement.WebElement (session=\"8726103ecc9d70816336519d3b3e44bf\", element=\"b0fd6f06-dd2b-439e-9c37-5515d25b9e0d\")>,\n",
       " <selenium.webdriver.remote.webelement.WebElement (session=\"8726103ecc9d70816336519d3b3e44bf\", element=\"dea23648-f694-4ff3-aafb-d9cbe8a70ca6\")>,\n",
       " <selenium.webdriver.remote.webelement.WebElement (session=\"8726103ecc9d70816336519d3b3e44bf\", element=\"2fb96524-50f5-4041-9cc4-48be7ff03042\")>,\n",
       " <selenium.webdriver.remote.webelement.WebElement (session=\"8726103ecc9d70816336519d3b3e44bf\", element=\"6c45901a-48ab-4fb0-b486-078708e55fe7\")>,\n",
       " <selenium.webdriver.remote.webelement.WebElement (session=\"8726103ecc9d70816336519d3b3e44bf\", element=\"cb011d44-62a2-4934-a095-95239e3ae650\")>,\n",
       " <selenium.webdriver.remote.webelement.WebElement (session=\"8726103ecc9d70816336519d3b3e44bf\", element=\"3eb01e72-2d48-424b-a719-9dfe8b26ef67\")>,\n",
       " <selenium.webdriver.remote.webelement.WebElement (session=\"8726103ecc9d70816336519d3b3e44bf\", element=\"1f7e511c-8c18-4c69-b36a-0e45b05604ee\")>,\n",
       " <selenium.webdriver.remote.webelement.WebElement (session=\"8726103ecc9d70816336519d3b3e44bf\", element=\"06ce2775-5b4f-410d-9cb5-2e6205073400\")>,\n",
       " <selenium.webdriver.remote.webelement.WebElement (session=\"8726103ecc9d70816336519d3b3e44bf\", element=\"bc8934ba-2458-407f-9544-ba7123667cd1\")>,\n",
       " <selenium.webdriver.remote.webelement.WebElement (session=\"8726103ecc9d70816336519d3b3e44bf\", element=\"927399c3-36b9-411a-bd33-e49ca916d98a\")>,\n",
       " <selenium.webdriver.remote.webelement.WebElement (session=\"8726103ecc9d70816336519d3b3e44bf\", element=\"af3bf4d9-da80-428e-b42d-0f6d45232a23\")>,\n",
       " <selenium.webdriver.remote.webelement.WebElement (session=\"8726103ecc9d70816336519d3b3e44bf\", element=\"c5fa8424-b293-47e0-bc71-028fc27272c3\")>,\n",
       " <selenium.webdriver.remote.webelement.WebElement (session=\"8726103ecc9d70816336519d3b3e44bf\", element=\"51e3c184-94f2-4700-9e3b-ddce585e8dd6\")>,\n",
       " <selenium.webdriver.remote.webelement.WebElement (session=\"8726103ecc9d70816336519d3b3e44bf\", element=\"77cd7721-7768-40d7-ac63-2acb743116ad\")>,\n",
       " <selenium.webdriver.remote.webelement.WebElement (session=\"8726103ecc9d70816336519d3b3e44bf\", element=\"02b2cb87-5078-4f0d-8966-2b4710397166\")>,\n",
       " <selenium.webdriver.remote.webelement.WebElement (session=\"8726103ecc9d70816336519d3b3e44bf\", element=\"6710f7c5-3520-4f43-9093-20a4b60e9113\")>,\n",
       " <selenium.webdriver.remote.webelement.WebElement (session=\"8726103ecc9d70816336519d3b3e44bf\", element=\"6701d709-3fd1-4c9a-bf87-e02cd9b9c53c\")>,\n",
       " <selenium.webdriver.remote.webelement.WebElement (session=\"8726103ecc9d70816336519d3b3e44bf\", element=\"8c47785f-4528-4b45-9f15-f1ffc8bd85cc\")>,\n",
       " <selenium.webdriver.remote.webelement.WebElement (session=\"8726103ecc9d70816336519d3b3e44bf\", element=\"b24a569f-2f15-4c7c-8d6f-b5e104c09860\")>,\n",
       " <selenium.webdriver.remote.webelement.WebElement (session=\"8726103ecc9d70816336519d3b3e44bf\", element=\"dce2b98b-0413-4f62-a7d8-0e042a98cd24\")>,\n",
       " <selenium.webdriver.remote.webelement.WebElement (session=\"8726103ecc9d70816336519d3b3e44bf\", element=\"d49921b0-06e7-4b84-8c08-f4ee8ca35a0f\")>,\n",
       " <selenium.webdriver.remote.webelement.WebElement (session=\"8726103ecc9d70816336519d3b3e44bf\", element=\"fbfe6011-7ae5-40bb-8f1d-a8908929e343\")>,\n",
       " <selenium.webdriver.remote.webelement.WebElement (session=\"8726103ecc9d70816336519d3b3e44bf\", element=\"ffb5b201-6fe9-4883-b69b-6952b84fde19\")>,\n",
       " <selenium.webdriver.remote.webelement.WebElement (session=\"8726103ecc9d70816336519d3b3e44bf\", element=\"1b81a1a5-6554-45ab-8c68-62d342727e33\")>,\n",
       " <selenium.webdriver.remote.webelement.WebElement (session=\"8726103ecc9d70816336519d3b3e44bf\", element=\"8c080328-8d2c-4230-9584-7dd85a5dae6b\")>,\n",
       " <selenium.webdriver.remote.webelement.WebElement (session=\"8726103ecc9d70816336519d3b3e44bf\", element=\"634318d1-e9d2-459f-b82d-5c6c735aa83e\")>,\n",
       " <selenium.webdriver.remote.webelement.WebElement (session=\"8726103ecc9d70816336519d3b3e44bf\", element=\"84f4dd5d-9ba1-4031-ad0c-f06aeb5f6ee0\")>,\n",
       " <selenium.webdriver.remote.webelement.WebElement (session=\"8726103ecc9d70816336519d3b3e44bf\", element=\"4bbb6938-3d54-44e3-9ed9-69ad13e8f4d4\")>,\n",
       " <selenium.webdriver.remote.webelement.WebElement (session=\"8726103ecc9d70816336519d3b3e44bf\", element=\"e882d665-c131-473d-bf50-c1448dcbb861\")>,\n",
       " <selenium.webdriver.remote.webelement.WebElement (session=\"8726103ecc9d70816336519d3b3e44bf\", element=\"43d7ef5e-5d11-4c9b-8152-8a29b3bb1012\")>,\n",
       " <selenium.webdriver.remote.webelement.WebElement (session=\"8726103ecc9d70816336519d3b3e44bf\", element=\"48a4647c-5d15-4785-bfb7-f94ef22521bb\")>,\n",
       " <selenium.webdriver.remote.webelement.WebElement (session=\"8726103ecc9d70816336519d3b3e44bf\", element=\"e216030f-4333-47fc-b77b-69072acec84d\")>,\n",
       " <selenium.webdriver.remote.webelement.WebElement (session=\"8726103ecc9d70816336519d3b3e44bf\", element=\"beb57d2f-b647-4d58-9b4e-3dbfc588e05d\")>,\n",
       " <selenium.webdriver.remote.webelement.WebElement (session=\"8726103ecc9d70816336519d3b3e44bf\", element=\"5081ce86-bccb-4e03-bc66-a481079890a0\")>,\n",
       " <selenium.webdriver.remote.webelement.WebElement (session=\"8726103ecc9d70816336519d3b3e44bf\", element=\"1ae2c9cb-5529-4617-9382-e641898c396a\")>,\n",
       " <selenium.webdriver.remote.webelement.WebElement (session=\"8726103ecc9d70816336519d3b3e44bf\", element=\"e07e8c28-2b09-4c4a-a8ec-50bf32615c7c\")>,\n",
       " <selenium.webdriver.remote.webelement.WebElement (session=\"8726103ecc9d70816336519d3b3e44bf\", element=\"37320418-1ff5-4897-830e-3fdd3f936081\")>,\n",
       " <selenium.webdriver.remote.webelement.WebElement (session=\"8726103ecc9d70816336519d3b3e44bf\", element=\"700d9640-c4e0-4ab2-96b1-cbb5b004b1a9\")>,\n",
       " <selenium.webdriver.remote.webelement.WebElement (session=\"8726103ecc9d70816336519d3b3e44bf\", element=\"2404d206-0270-48b5-956a-6bc6567ee20e\")>,\n",
       " <selenium.webdriver.remote.webelement.WebElement (session=\"8726103ecc9d70816336519d3b3e44bf\", element=\"f3c8c00f-2bdb-4137-a6a1-8c15c2d9d45f\")>,\n",
       " <selenium.webdriver.remote.webelement.WebElement (session=\"8726103ecc9d70816336519d3b3e44bf\", element=\"79775c44-87b5-48bf-b6ff-4af872c796a4\")>,\n",
       " <selenium.webdriver.remote.webelement.WebElement (session=\"8726103ecc9d70816336519d3b3e44bf\", element=\"b0aba926-ff78-4633-9abc-717631e62ca2\")>,\n",
       " <selenium.webdriver.remote.webelement.WebElement (session=\"8726103ecc9d70816336519d3b3e44bf\", element=\"566c179c-8f62-4180-a738-dd4af54604ee\")>,\n",
       " <selenium.webdriver.remote.webelement.WebElement (session=\"8726103ecc9d70816336519d3b3e44bf\", element=\"c4a2e845-f6ad-4fcf-8512-c7f901f1aed6\")>,\n",
       " <selenium.webdriver.remote.webelement.WebElement (session=\"8726103ecc9d70816336519d3b3e44bf\", element=\"98c4ec91-3d90-4938-aa11-609de70d8be7\")>,\n",
       " <selenium.webdriver.remote.webelement.WebElement (session=\"8726103ecc9d70816336519d3b3e44bf\", element=\"e54168b9-2311-4b6c-97ef-406aebbe22fb\")>,\n",
       " <selenium.webdriver.remote.webelement.WebElement (session=\"8726103ecc9d70816336519d3b3e44bf\", element=\"4688f1df-866f-48a8-9f5e-5805385eb791\")>,\n",
       " <selenium.webdriver.remote.webelement.WebElement (session=\"8726103ecc9d70816336519d3b3e44bf\", element=\"59fb0700-5647-4c2c-8418-06ad94171fcc\")>,\n",
       " <selenium.webdriver.remote.webelement.WebElement (session=\"8726103ecc9d70816336519d3b3e44bf\", element=\"e490c130-9f2c-479b-9d14-43cf06cb3d84\")>,\n",
       " <selenium.webdriver.remote.webelement.WebElement (session=\"8726103ecc9d70816336519d3b3e44bf\", element=\"8265063e-869a-4d93-a7ac-bcac14160823\")>,\n",
       " <selenium.webdriver.remote.webelement.WebElement (session=\"8726103ecc9d70816336519d3b3e44bf\", element=\"64005bc1-34e2-406c-86be-9f9c6dd7ad06\")>,\n",
       " <selenium.webdriver.remote.webelement.WebElement (session=\"8726103ecc9d70816336519d3b3e44bf\", element=\"b2a30eca-6aef-41a5-b458-7c8588669092\")>,\n",
       " <selenium.webdriver.remote.webelement.WebElement (session=\"8726103ecc9d70816336519d3b3e44bf\", element=\"f0eac562-fa81-44f9-8b4c-b27178575254\")>,\n",
       " <selenium.webdriver.remote.webelement.WebElement (session=\"8726103ecc9d70816336519d3b3e44bf\", element=\"3cf29b65-ad3d-4c10-b868-e41e7d842854\")>,\n",
       " <selenium.webdriver.remote.webelement.WebElement (session=\"8726103ecc9d70816336519d3b3e44bf\", element=\"7c9b4282-2bb0-4f7b-a1a0-909013e8d5f7\")>,\n",
       " <selenium.webdriver.remote.webelement.WebElement (session=\"8726103ecc9d70816336519d3b3e44bf\", element=\"1d5f8c63-4752-4608-a3d8-f9f98ef08541\")>,\n",
       " <selenium.webdriver.remote.webelement.WebElement (session=\"8726103ecc9d70816336519d3b3e44bf\", element=\"ff2d4fb6-5404-4f27-9dca-3e067adfaf51\")>,\n",
       " <selenium.webdriver.remote.webelement.WebElement (session=\"8726103ecc9d70816336519d3b3e44bf\", element=\"4c9c9ae1-a6f7-43bf-b1c7-c12e2db5a1dd\")>,\n",
       " <selenium.webdriver.remote.webelement.WebElement (session=\"8726103ecc9d70816336519d3b3e44bf\", element=\"245cc484-eb1b-4086-9a6d-00ef3560caec\")>,\n",
       " <selenium.webdriver.remote.webelement.WebElement (session=\"8726103ecc9d70816336519d3b3e44bf\", element=\"ab78b562-9bf2-4aa4-8e92-c5c8d0a538d3\")>,\n",
       " <selenium.webdriver.remote.webelement.WebElement (session=\"8726103ecc9d70816336519d3b3e44bf\", element=\"88a4ce29-0d81-4b64-93b7-d4faae120b25\")>,\n",
       " <selenium.webdriver.remote.webelement.WebElement (session=\"8726103ecc9d70816336519d3b3e44bf\", element=\"b33b826d-56bc-4e60-bf56-0dd26f744707\")>,\n",
       " <selenium.webdriver.remote.webelement.WebElement (session=\"8726103ecc9d70816336519d3b3e44bf\", element=\"e3bf4080-163a-44e4-a5ee-68e2df817313\")>,\n",
       " <selenium.webdriver.remote.webelement.WebElement (session=\"8726103ecc9d70816336519d3b3e44bf\", element=\"8e82d8fd-fd59-4ea2-b389-6d5c78dd62d2\")>,\n",
       " <selenium.webdriver.remote.webelement.WebElement (session=\"8726103ecc9d70816336519d3b3e44bf\", element=\"7852e508-7be7-4382-a1d3-5b952b263454\")>,\n",
       " <selenium.webdriver.remote.webelement.WebElement (session=\"8726103ecc9d70816336519d3b3e44bf\", element=\"2721daf7-0d13-4043-a99d-169535517a3a\")>,\n",
       " <selenium.webdriver.remote.webelement.WebElement (session=\"8726103ecc9d70816336519d3b3e44bf\", element=\"844ce0f5-2dd2-428f-a0cc-3f19728cdccb\")>,\n",
       " <selenium.webdriver.remote.webelement.WebElement (session=\"8726103ecc9d70816336519d3b3e44bf\", element=\"d17bc965-8714-4505-8fa5-3f1e7975e45f\")>,\n",
       " <selenium.webdriver.remote.webelement.WebElement (session=\"8726103ecc9d70816336519d3b3e44bf\", element=\"73efdb64-686f-414d-a150-1ed22cb8e306\")>,\n",
       " <selenium.webdriver.remote.webelement.WebElement (session=\"8726103ecc9d70816336519d3b3e44bf\", element=\"4e7fcc17-8fff-47d6-a8ab-1fb25a69599f\")>,\n",
       " <selenium.webdriver.remote.webelement.WebElement (session=\"8726103ecc9d70816336519d3b3e44bf\", element=\"706b4fdf-18d0-455b-af42-9c1a97005314\")>,\n",
       " <selenium.webdriver.remote.webelement.WebElement (session=\"8726103ecc9d70816336519d3b3e44bf\", element=\"a7552fdd-72e8-489d-9b96-1f912eac1754\")>,\n",
       " <selenium.webdriver.remote.webelement.WebElement (session=\"8726103ecc9d70816336519d3b3e44bf\", element=\"eb7b8765-05e6-455e-81e4-3479a2141fe5\")>,\n",
       " <selenium.webdriver.remote.webelement.WebElement (session=\"8726103ecc9d70816336519d3b3e44bf\", element=\"08e782d2-11d1-41d2-a289-e683c8d8b378\")>,\n",
       " <selenium.webdriver.remote.webelement.WebElement (session=\"8726103ecc9d70816336519d3b3e44bf\", element=\"fdd4ee2c-c1b4-4190-999f-b89a5dc37a35\")>,\n",
       " <selenium.webdriver.remote.webelement.WebElement (session=\"8726103ecc9d70816336519d3b3e44bf\", element=\"ec15eed0-cc08-4ef6-aeb2-dc652e9d56d8\")>,\n",
       " <selenium.webdriver.remote.webelement.WebElement (session=\"8726103ecc9d70816336519d3b3e44bf\", element=\"5058a2cb-72ec-4550-bb8c-e0551efb73ae\")>,\n",
       " <selenium.webdriver.remote.webelement.WebElement (session=\"8726103ecc9d70816336519d3b3e44bf\", element=\"bdfbcf71-2e64-4e82-b69e-9e8dc9e27ff9\")>,\n",
       " <selenium.webdriver.remote.webelement.WebElement (session=\"8726103ecc9d70816336519d3b3e44bf\", element=\"e2134014-96ef-434c-bbf8-b98658be4094\")>,\n",
       " <selenium.webdriver.remote.webelement.WebElement (session=\"8726103ecc9d70816336519d3b3e44bf\", element=\"4d3f8dd8-4405-4ec5-9c15-c8aa643ce9f0\")>,\n",
       " <selenium.webdriver.remote.webelement.WebElement (session=\"8726103ecc9d70816336519d3b3e44bf\", element=\"3ccd06c9-3371-42a0-bbbb-dd6f1cf940fb\")>,\n",
       " <selenium.webdriver.remote.webelement.WebElement (session=\"8726103ecc9d70816336519d3b3e44bf\", element=\"c80ddfe4-1fd2-433e-8797-20ae1db1acc0\")>,\n",
       " <selenium.webdriver.remote.webelement.WebElement (session=\"8726103ecc9d70816336519d3b3e44bf\", element=\"0f69ef97-6a23-499d-8eb2-8ac4d2286649\")>,\n",
       " <selenium.webdriver.remote.webelement.WebElement (session=\"8726103ecc9d70816336519d3b3e44bf\", element=\"acb5d3f0-099c-46e3-afc9-7082318d33b6\")>,\n",
       " <selenium.webdriver.remote.webelement.WebElement (session=\"8726103ecc9d70816336519d3b3e44bf\", element=\"cb679f9f-9a08-43da-ba1a-1607175cbfc4\")>,\n",
       " <selenium.webdriver.remote.webelement.WebElement (session=\"8726103ecc9d70816336519d3b3e44bf\", element=\"5facfa7b-b564-45ea-bda5-6cfea399d8f2\")>,\n",
       " <selenium.webdriver.remote.webelement.WebElement (session=\"8726103ecc9d70816336519d3b3e44bf\", element=\"e600474d-b083-46a6-9b66-220c1a7985f3\")>,\n",
       " <selenium.webdriver.remote.webelement.WebElement (session=\"8726103ecc9d70816336519d3b3e44bf\", element=\"0e0df5a3-fa83-4554-bf88-9c4b9e2fc599\")>,\n",
       " <selenium.webdriver.remote.webelement.WebElement (session=\"8726103ecc9d70816336519d3b3e44bf\", element=\"e2dc5eb9-b2df-4ae4-8ff5-b6ece56d42a0\")>,\n",
       " <selenium.webdriver.remote.webelement.WebElement (session=\"8726103ecc9d70816336519d3b3e44bf\", element=\"e29a9343-1565-4343-a2d4-12c94b957f93\")>,\n",
       " <selenium.webdriver.remote.webelement.WebElement (session=\"8726103ecc9d70816336519d3b3e44bf\", element=\"a5b2e2fe-42e8-4a01-9995-8c82da1da1d3\")>,\n",
       " <selenium.webdriver.remote.webelement.WebElement (session=\"8726103ecc9d70816336519d3b3e44bf\", element=\"7f60ab0b-da92-4d81-83d2-c70cbb7c8a75\")>,\n",
       " <selenium.webdriver.remote.webelement.WebElement (session=\"8726103ecc9d70816336519d3b3e44bf\", element=\"559bf916-9bd6-43ba-9e30-764eabe48949\")>,\n",
       " <selenium.webdriver.remote.webelement.WebElement (session=\"8726103ecc9d70816336519d3b3e44bf\", element=\"07f75828-4077-4dd4-a1ac-d03a3505e409\")>,\n",
       " <selenium.webdriver.remote.webelement.WebElement (session=\"8726103ecc9d70816336519d3b3e44bf\", element=\"1d6d1633-6434-45e0-b3d5-1ee09a4623e9\")>,\n",
       " <selenium.webdriver.remote.webelement.WebElement (session=\"8726103ecc9d70816336519d3b3e44bf\", element=\"3c6605c8-347f-4095-af9b-9722a613167f\")>,\n",
       " <selenium.webdriver.remote.webelement.WebElement (session=\"8726103ecc9d70816336519d3b3e44bf\", element=\"80e62dee-ff6a-421e-bbb9-30132a92959b\")>,\n",
       " <selenium.webdriver.remote.webelement.WebElement (session=\"8726103ecc9d70816336519d3b3e44bf\", element=\"160f1da1-24e6-4085-bcda-fa6eed6eeeae\")>,\n",
       " <selenium.webdriver.remote.webelement.WebElement (session=\"8726103ecc9d70816336519d3b3e44bf\", element=\"57e6fdc9-b30f-4951-b24c-65cf80e34c54\")>,\n",
       " <selenium.webdriver.remote.webelement.WebElement (session=\"8726103ecc9d70816336519d3b3e44bf\", element=\"cccfbf83-1a08-4135-b9be-6833679e45aa\")>,\n",
       " <selenium.webdriver.remote.webelement.WebElement (session=\"8726103ecc9d70816336519d3b3e44bf\", element=\"fb0ee988-fb9a-416f-bf48-cee058b7a58d\")>,\n",
       " <selenium.webdriver.remote.webelement.WebElement (session=\"8726103ecc9d70816336519d3b3e44bf\", element=\"adb0f708-c90b-45ab-bae6-c6d25e0859f4\")>,\n",
       " <selenium.webdriver.remote.webelement.WebElement (session=\"8726103ecc9d70816336519d3b3e44bf\", element=\"4b619865-f8a6-4a87-a56d-978f81f68d3e\")>,\n",
       " <selenium.webdriver.remote.webelement.WebElement (session=\"8726103ecc9d70816336519d3b3e44bf\", element=\"035d3cd3-1a12-4536-8275-79c7aa5e8add\")>,\n",
       " <selenium.webdriver.remote.webelement.WebElement (session=\"8726103ecc9d70816336519d3b3e44bf\", element=\"cf08bec0-5f0f-498a-81d7-65e5096aaf50\")>,\n",
       " <selenium.webdriver.remote.webelement.WebElement (session=\"8726103ecc9d70816336519d3b3e44bf\", element=\"c5a77f70-aee1-4090-9401-524b8857caf4\")>,\n",
       " <selenium.webdriver.remote.webelement.WebElement (session=\"8726103ecc9d70816336519d3b3e44bf\", element=\"ff58e502-8323-4eb6-b329-dc64f4ded491\")>,\n",
       " <selenium.webdriver.remote.webelement.WebElement (session=\"8726103ecc9d70816336519d3b3e44bf\", element=\"3fb7a889-357a-4afb-88bd-46afeae48aec\")>,\n",
       " <selenium.webdriver.remote.webelement.WebElement (session=\"8726103ecc9d70816336519d3b3e44bf\", element=\"5827aeb2-9d00-4fa8-91da-6c22f229544d\")>,\n",
       " <selenium.webdriver.remote.webelement.WebElement (session=\"8726103ecc9d70816336519d3b3e44bf\", element=\"b83a35da-d75a-4b75-8153-ab92a3db33fc\")>,\n",
       " <selenium.webdriver.remote.webelement.WebElement (session=\"8726103ecc9d70816336519d3b3e44bf\", element=\"91f79b7b-603f-4fdf-8525-6acfecabad72\")>,\n",
       " <selenium.webdriver.remote.webelement.WebElement (session=\"8726103ecc9d70816336519d3b3e44bf\", element=\"1520f3d8-f8ec-4ff5-998e-859120f6598f\")>,\n",
       " <selenium.webdriver.remote.webelement.WebElement (session=\"8726103ecc9d70816336519d3b3e44bf\", element=\"36297370-7c45-4ef8-8544-e3b1ae149ffd\")>,\n",
       " <selenium.webdriver.remote.webelement.WebElement (session=\"8726103ecc9d70816336519d3b3e44bf\", element=\"c3c74d8b-070f-4929-bb2d-9da9a7c6fdef\")>,\n",
       " <selenium.webdriver.remote.webelement.WebElement (session=\"8726103ecc9d70816336519d3b3e44bf\", element=\"90957852-9548-42d9-87dd-c19beb2ac1ae\")>,\n",
       " <selenium.webdriver.remote.webelement.WebElement (session=\"8726103ecc9d70816336519d3b3e44bf\", element=\"1f9e7196-e839-4ff9-b055-a6e7f0b34161\")>,\n",
       " <selenium.webdriver.remote.webelement.WebElement (session=\"8726103ecc9d70816336519d3b3e44bf\", element=\"1a053c7b-e378-4db7-94a9-0f663af3624d\")>,\n",
       " <selenium.webdriver.remote.webelement.WebElement (session=\"8726103ecc9d70816336519d3b3e44bf\", element=\"889d1522-ee16-4df8-a165-99b20dd3b7fa\")>,\n",
       " <selenium.webdriver.remote.webelement.WebElement (session=\"8726103ecc9d70816336519d3b3e44bf\", element=\"faeb33c6-2a58-4059-a170-2fcf3f49f5e8\")>,\n",
       " <selenium.webdriver.remote.webelement.WebElement (session=\"8726103ecc9d70816336519d3b3e44bf\", element=\"37976057-fe1d-4f76-921f-fbf8f29d2dce\")>,\n",
       " <selenium.webdriver.remote.webelement.WebElement (session=\"8726103ecc9d70816336519d3b3e44bf\", element=\"8f8edd35-1f40-4f6f-8b55-0d7f6806e4f0\")>,\n",
       " <selenium.webdriver.remote.webelement.WebElement (session=\"8726103ecc9d70816336519d3b3e44bf\", element=\"6b802be5-0374-4270-b6be-7170b733a2fb\")>,\n",
       " <selenium.webdriver.remote.webelement.WebElement (session=\"8726103ecc9d70816336519d3b3e44bf\", element=\"a6b94f8f-2523-46b6-b728-7f6e870bc149\")>,\n",
       " <selenium.webdriver.remote.webelement.WebElement (session=\"8726103ecc9d70816336519d3b3e44bf\", element=\"2d765b8a-ffff-4cc7-91ee-acc326a62983\")>,\n",
       " <selenium.webdriver.remote.webelement.WebElement (session=\"8726103ecc9d70816336519d3b3e44bf\", element=\"b89ae366-3a15-4ba5-beb7-61b6afcba33c\")>,\n",
       " <selenium.webdriver.remote.webelement.WebElement (session=\"8726103ecc9d70816336519d3b3e44bf\", element=\"77f88489-d0c5-4981-beae-b74615e416b7\")>,\n",
       " <selenium.webdriver.remote.webelement.WebElement (session=\"8726103ecc9d70816336519d3b3e44bf\", element=\"234f7ecd-a5c2-4df2-b7d6-fcb23562f0b6\")>,\n",
       " <selenium.webdriver.remote.webelement.WebElement (session=\"8726103ecc9d70816336519d3b3e44bf\", element=\"1f9f923e-40a7-43cf-847d-287ed19d53b3\")>,\n",
       " <selenium.webdriver.remote.webelement.WebElement (session=\"8726103ecc9d70816336519d3b3e44bf\", element=\"4dfd402f-fd1b-4847-8d25-676d207ef967\")>,\n",
       " <selenium.webdriver.remote.webelement.WebElement (session=\"8726103ecc9d70816336519d3b3e44bf\", element=\"3bf3969e-6c6e-49c7-ba1b-c7373d6c4426\")>,\n",
       " <selenium.webdriver.remote.webelement.WebElement (session=\"8726103ecc9d70816336519d3b3e44bf\", element=\"0bfd6372-3d29-4c66-904c-fe130a1e733b\")>,\n",
       " <selenium.webdriver.remote.webelement.WebElement (session=\"8726103ecc9d70816336519d3b3e44bf\", element=\"c57a0948-5429-4c63-ad12-fd3af8c0ee1b\")>,\n",
       " <selenium.webdriver.remote.webelement.WebElement (session=\"8726103ecc9d70816336519d3b3e44bf\", element=\"41ab2956-c507-4687-b369-adbdc36f8a15\")>,\n",
       " <selenium.webdriver.remote.webelement.WebElement (session=\"8726103ecc9d70816336519d3b3e44bf\", element=\"d42cb897-1555-4535-a501-85d1ab9cd2b6\")>,\n",
       " <selenium.webdriver.remote.webelement.WebElement (session=\"8726103ecc9d70816336519d3b3e44bf\", element=\"e4bf2393-a8c7-4e7b-be2c-d8c4eb0c3b54\")>,\n",
       " <selenium.webdriver.remote.webelement.WebElement (session=\"8726103ecc9d70816336519d3b3e44bf\", element=\"d1c75f06-8f2b-4936-9bc8-c4ff93e1e424\")>,\n",
       " <selenium.webdriver.remote.webelement.WebElement (session=\"8726103ecc9d70816336519d3b3e44bf\", element=\"ad225fa0-be4f-480f-921a-24259f2073d6\")>,\n",
       " <selenium.webdriver.remote.webelement.WebElement (session=\"8726103ecc9d70816336519d3b3e44bf\", element=\"28f7cc20-32b0-4ad9-aa6f-fa45db68b39e\")>,\n",
       " <selenium.webdriver.remote.webelement.WebElement (session=\"8726103ecc9d70816336519d3b3e44bf\", element=\"53c0b2ec-c97a-4307-b97c-cc26f0f71270\")>,\n",
       " <selenium.webdriver.remote.webelement.WebElement (session=\"8726103ecc9d70816336519d3b3e44bf\", element=\"c217de5d-77fc-40e9-a850-311a61b0bf5e\")>,\n",
       " <selenium.webdriver.remote.webelement.WebElement (session=\"8726103ecc9d70816336519d3b3e44bf\", element=\"24c55968-9afd-4705-bcd3-5787398099dc\")>,\n",
       " <selenium.webdriver.remote.webelement.WebElement (session=\"8726103ecc9d70816336519d3b3e44bf\", element=\"159beb3e-c7bf-44ad-a087-b78e3bf3f176\")>,\n",
       " <selenium.webdriver.remote.webelement.WebElement (session=\"8726103ecc9d70816336519d3b3e44bf\", element=\"1c5c6b8d-64dd-4a15-b37c-004673c0eb5d\")>,\n",
       " <selenium.webdriver.remote.webelement.WebElement (session=\"8726103ecc9d70816336519d3b3e44bf\", element=\"aa239093-ca34-492f-b3cd-2e0a06a7cd1e\")>,\n",
       " <selenium.webdriver.remote.webelement.WebElement (session=\"8726103ecc9d70816336519d3b3e44bf\", element=\"81346e16-a210-4350-b63e-4b12547b02b2\")>,\n",
       " <selenium.webdriver.remote.webelement.WebElement (session=\"8726103ecc9d70816336519d3b3e44bf\", element=\"3b9ac9c9-9a54-4217-969e-5642cf18788a\")>,\n",
       " <selenium.webdriver.remote.webelement.WebElement (session=\"8726103ecc9d70816336519d3b3e44bf\", element=\"708d4bc6-3bee-4145-943f-7b19c699de8b\")>,\n",
       " <selenium.webdriver.remote.webelement.WebElement (session=\"8726103ecc9d70816336519d3b3e44bf\", element=\"2e8996b1-3fd3-4b1e-b58d-4a7c473fa2db\")>,\n",
       " <selenium.webdriver.remote.webelement.WebElement (session=\"8726103ecc9d70816336519d3b3e44bf\", element=\"27983df3-1f59-4172-98a2-248fb908b139\")>,\n",
       " <selenium.webdriver.remote.webelement.WebElement (session=\"8726103ecc9d70816336519d3b3e44bf\", element=\"2e1daa35-4970-4c69-afb4-369313e10ab5\")>,\n",
       " <selenium.webdriver.remote.webelement.WebElement (session=\"8726103ecc9d70816336519d3b3e44bf\", element=\"6c03179a-58f8-4a01-8793-9b555d56522a\")>,\n",
       " <selenium.webdriver.remote.webelement.WebElement (session=\"8726103ecc9d70816336519d3b3e44bf\", element=\"2ded6b93-3f40-45cb-8502-e4330e26f6b2\")>,\n",
       " <selenium.webdriver.remote.webelement.WebElement (session=\"8726103ecc9d70816336519d3b3e44bf\", element=\"ded30d4d-dbbc-4944-984a-499bdc9d0d2b\")>,\n",
       " <selenium.webdriver.remote.webelement.WebElement (session=\"8726103ecc9d70816336519d3b3e44bf\", element=\"1652d01f-f1e2-4cad-84d2-a00904cea698\")>,\n",
       " <selenium.webdriver.remote.webelement.WebElement (session=\"8726103ecc9d70816336519d3b3e44bf\", element=\"4cb8fb0c-c3bb-4161-a11a-6a252d1bb7ce\")>,\n",
       " <selenium.webdriver.remote.webelement.WebElement (session=\"8726103ecc9d70816336519d3b3e44bf\", element=\"fbc9163d-7365-4f1b-a869-e9510eec89c9\")>,\n",
       " <selenium.webdriver.remote.webelement.WebElement (session=\"8726103ecc9d70816336519d3b3e44bf\", element=\"bc464a41-9bc4-470a-acac-75cab93fe5c0\")>,\n",
       " <selenium.webdriver.remote.webelement.WebElement (session=\"8726103ecc9d70816336519d3b3e44bf\", element=\"24ef7256-3173-4bda-b0ec-ad22e91e9fc2\")>,\n",
       " <selenium.webdriver.remote.webelement.WebElement (session=\"8726103ecc9d70816336519d3b3e44bf\", element=\"89fb207e-d7b5-44ab-85fa-0fea7fecb10d\")>,\n",
       " <selenium.webdriver.remote.webelement.WebElement (session=\"8726103ecc9d70816336519d3b3e44bf\", element=\"edaa8efe-8ed4-45b7-9c4f-1e0f53e9e57a\")>,\n",
       " <selenium.webdriver.remote.webelement.WebElement (session=\"8726103ecc9d70816336519d3b3e44bf\", element=\"94454f36-b912-4ae0-96da-9938ea4dd45d\")>,\n",
       " <selenium.webdriver.remote.webelement.WebElement (session=\"8726103ecc9d70816336519d3b3e44bf\", element=\"17122dc7-103f-420e-9536-b6e1cf5db836\")>,\n",
       " <selenium.webdriver.remote.webelement.WebElement (session=\"8726103ecc9d70816336519d3b3e44bf\", element=\"9cd996f6-5c1a-4ce6-85d0-83427f81645a\")>,\n",
       " <selenium.webdriver.remote.webelement.WebElement (session=\"8726103ecc9d70816336519d3b3e44bf\", element=\"548112ef-2947-4c91-bb90-1c605a616a29\")>,\n",
       " <selenium.webdriver.remote.webelement.WebElement (session=\"8726103ecc9d70816336519d3b3e44bf\", element=\"a9421576-0625-400a-ba27-bf7f65546528\")>,\n",
       " <selenium.webdriver.remote.webelement.WebElement (session=\"8726103ecc9d70816336519d3b3e44bf\", element=\"d1a50a5b-84f1-4d02-a8e1-7cab17989017\")>,\n",
       " <selenium.webdriver.remote.webelement.WebElement (session=\"8726103ecc9d70816336519d3b3e44bf\", element=\"50b59b5e-8548-4be6-acf9-8ffc0a4d2e22\")>,\n",
       " <selenium.webdriver.remote.webelement.WebElement (session=\"8726103ecc9d70816336519d3b3e44bf\", element=\"f8a998b0-045d-4a49-91cf-96f0af0bda95\")>,\n",
       " <selenium.webdriver.remote.webelement.WebElement (session=\"8726103ecc9d70816336519d3b3e44bf\", element=\"6b37d31f-14c5-4e49-87f1-d0d692242475\")>,\n",
       " <selenium.webdriver.remote.webelement.WebElement (session=\"8726103ecc9d70816336519d3b3e44bf\", element=\"a3d48225-b5b4-4b06-a9fe-e7be314a2bee\")>,\n",
       " <selenium.webdriver.remote.webelement.WebElement (session=\"8726103ecc9d70816336519d3b3e44bf\", element=\"9460fa62-a692-4aac-83a2-a42f9b76f6c8\")>,\n",
       " <selenium.webdriver.remote.webelement.WebElement (session=\"8726103ecc9d70816336519d3b3e44bf\", element=\"ac712ae4-780e-498a-88ae-a28483459c2b\")>,\n",
       " <selenium.webdriver.remote.webelement.WebElement (session=\"8726103ecc9d70816336519d3b3e44bf\", element=\"c0429ef0-2d31-40b1-b742-84f8f28e3e7d\")>,\n",
       " <selenium.webdriver.remote.webelement.WebElement (session=\"8726103ecc9d70816336519d3b3e44bf\", element=\"257f7c31-d708-48f6-b170-bde33fac9682\")>,\n",
       " <selenium.webdriver.remote.webelement.WebElement (session=\"8726103ecc9d70816336519d3b3e44bf\", element=\"b136dfce-992e-47bc-8947-80e5ffd9d266\")>,\n",
       " <selenium.webdriver.remote.webelement.WebElement (session=\"8726103ecc9d70816336519d3b3e44bf\", element=\"39d1e871-c2a1-4d5d-952a-c76846081c65\")>,\n",
       " <selenium.webdriver.remote.webelement.WebElement (session=\"8726103ecc9d70816336519d3b3e44bf\", element=\"b79f3de6-e9ba-47fc-8742-9f54b3343c28\")>,\n",
       " <selenium.webdriver.remote.webelement.WebElement (session=\"8726103ecc9d70816336519d3b3e44bf\", element=\"41706cd0-8907-4166-9efe-85663a3b67b9\")>,\n",
       " <selenium.webdriver.remote.webelement.WebElement (session=\"8726103ecc9d70816336519d3b3e44bf\", element=\"f86c53c9-7384-4362-8734-6437d2723707\")>,\n",
       " <selenium.webdriver.remote.webelement.WebElement (session=\"8726103ecc9d70816336519d3b3e44bf\", element=\"bb555c55-3366-451e-b743-7fa686502a3a\")>,\n",
       " <selenium.webdriver.remote.webelement.WebElement (session=\"8726103ecc9d70816336519d3b3e44bf\", element=\"db03270f-3cb0-49b7-882a-13c45ac17bb9\")>,\n",
       " <selenium.webdriver.remote.webelement.WebElement (session=\"8726103ecc9d70816336519d3b3e44bf\", element=\"eea57f8e-dac6-4c29-a0ce-451deec5473e\")>,\n",
       " <selenium.webdriver.remote.webelement.WebElement (session=\"8726103ecc9d70816336519d3b3e44bf\", element=\"7d0ecc34-d0e3-4d70-98bf-df9e247b821f\")>,\n",
       " <selenium.webdriver.remote.webelement.WebElement (session=\"8726103ecc9d70816336519d3b3e44bf\", element=\"c5c1fcd9-c87a-4248-98ee-64e08cf66f9e\")>,\n",
       " <selenium.webdriver.remote.webelement.WebElement (session=\"8726103ecc9d70816336519d3b3e44bf\", element=\"26abf069-85f9-4a0f-80d4-28bac7de059e\")>,\n",
       " <selenium.webdriver.remote.webelement.WebElement (session=\"8726103ecc9d70816336519d3b3e44bf\", element=\"210a62e5-88a8-45cc-a5a1-f0cd96a98a51\")>,\n",
       " <selenium.webdriver.remote.webelement.WebElement (session=\"8726103ecc9d70816336519d3b3e44bf\", element=\"dd915460-1a3e-463b-b453-6516a06256b1\")>,\n",
       " <selenium.webdriver.remote.webelement.WebElement (session=\"8726103ecc9d70816336519d3b3e44bf\", element=\"584e96c0-b7d4-4a66-9d57-e386a4670119\")>,\n",
       " <selenium.webdriver.remote.webelement.WebElement (session=\"8726103ecc9d70816336519d3b3e44bf\", element=\"f5d0986d-dd75-4141-a14c-aa44299b249e\")>,\n",
       " <selenium.webdriver.remote.webelement.WebElement (session=\"8726103ecc9d70816336519d3b3e44bf\", element=\"a2c9659e-eed3-40d2-ae47-9aa82e9f2294\")>,\n",
       " <selenium.webdriver.remote.webelement.WebElement (session=\"8726103ecc9d70816336519d3b3e44bf\", element=\"759d52e0-bda0-4f46-afe8-969876ba8b9e\")>,\n",
       " <selenium.webdriver.remote.webelement.WebElement (session=\"8726103ecc9d70816336519d3b3e44bf\", element=\"dfefbcb8-e54d-46ab-b345-c9467b3f7a07\")>,\n",
       " <selenium.webdriver.remote.webelement.WebElement (session=\"8726103ecc9d70816336519d3b3e44bf\", element=\"7f1ddc54-cfa9-442b-a5c3-4b00016e6b95\")>,\n",
       " <selenium.webdriver.remote.webelement.WebElement (session=\"8726103ecc9d70816336519d3b3e44bf\", element=\"8a6637bd-b078-4602-bfa4-c699c3123ba9\")>,\n",
       " <selenium.webdriver.remote.webelement.WebElement (session=\"8726103ecc9d70816336519d3b3e44bf\", element=\"2a6203bc-fe89-47d1-a370-cf1fe7906157\")>,\n",
       " <selenium.webdriver.remote.webelement.WebElement (session=\"8726103ecc9d70816336519d3b3e44bf\", element=\"304f3ec9-f153-4fb3-9d9d-fa69bea548fe\")>,\n",
       " <selenium.webdriver.remote.webelement.WebElement (session=\"8726103ecc9d70816336519d3b3e44bf\", element=\"c2da98d6-12d9-4452-a40d-11ad56e51045\")>,\n",
       " <selenium.webdriver.remote.webelement.WebElement (session=\"8726103ecc9d70816336519d3b3e44bf\", element=\"510ed240-8f71-436d-b828-e96d073c6a05\")>,\n",
       " <selenium.webdriver.remote.webelement.WebElement (session=\"8726103ecc9d70816336519d3b3e44bf\", element=\"036ed096-a751-422e-86f3-2346c25b7d8b\")>,\n",
       " <selenium.webdriver.remote.webelement.WebElement (session=\"8726103ecc9d70816336519d3b3e44bf\", element=\"41fa8206-01f5-4514-9a5f-4c35e2940100\")>,\n",
       " <selenium.webdriver.remote.webelement.WebElement (session=\"8726103ecc9d70816336519d3b3e44bf\", element=\"b2ea72c1-1c77-41ce-a8c5-765d787e291b\")>,\n",
       " <selenium.webdriver.remote.webelement.WebElement (session=\"8726103ecc9d70816336519d3b3e44bf\", element=\"4c2e1fa0-a35f-49e9-bfea-6d57defeb7cb\")>,\n",
       " <selenium.webdriver.remote.webelement.WebElement (session=\"8726103ecc9d70816336519d3b3e44bf\", element=\"061e6709-7f98-40f1-a905-868b0d8b79b2\")>,\n",
       " <selenium.webdriver.remote.webelement.WebElement (session=\"8726103ecc9d70816336519d3b3e44bf\", element=\"08e432a6-73f4-42a2-a1dd-6a91e9e1c120\")>,\n",
       " <selenium.webdriver.remote.webelement.WebElement (session=\"8726103ecc9d70816336519d3b3e44bf\", element=\"66bd4638-9c23-4f9d-a5cb-081b4cc67d25\")>,\n",
       " <selenium.webdriver.remote.webelement.WebElement (session=\"8726103ecc9d70816336519d3b3e44bf\", element=\"0e2abdce-457d-495d-b20b-565601e0cc21\")>,\n",
       " <selenium.webdriver.remote.webelement.WebElement (session=\"8726103ecc9d70816336519d3b3e44bf\", element=\"46abfcb4-16a3-4cd8-910f-dae3e8f27eb9\")>,\n",
       " <selenium.webdriver.remote.webelement.WebElement (session=\"8726103ecc9d70816336519d3b3e44bf\", element=\"0e26187c-0704-471b-9393-58dc6826cbc0\")>,\n",
       " <selenium.webdriver.remote.webelement.WebElement (session=\"8726103ecc9d70816336519d3b3e44bf\", element=\"51426dc8-1387-404c-b12c-d4e7a5fa6790\")>,\n",
       " <selenium.webdriver.remote.webelement.WebElement (session=\"8726103ecc9d70816336519d3b3e44bf\", element=\"e2d31231-8033-41b7-bd50-4b154bccc8a1\")>,\n",
       " <selenium.webdriver.remote.webelement.WebElement (session=\"8726103ecc9d70816336519d3b3e44bf\", element=\"fff4c8dc-e59a-44c8-b9ca-a8cc7cefcae9\")>,\n",
       " <selenium.webdriver.remote.webelement.WebElement (session=\"8726103ecc9d70816336519d3b3e44bf\", element=\"2f980b3a-5f1c-4cb4-afcf-b1bd2c808297\")>,\n",
       " <selenium.webdriver.remote.webelement.WebElement (session=\"8726103ecc9d70816336519d3b3e44bf\", element=\"e3bd9e24-7f52-4691-b4db-ecdbcbfa0bd1\")>,\n",
       " <selenium.webdriver.remote.webelement.WebElement (session=\"8726103ecc9d70816336519d3b3e44bf\", element=\"e5abfaf2-e25f-495f-af2e-392d2074c6df\")>,\n",
       " <selenium.webdriver.remote.webelement.WebElement (session=\"8726103ecc9d70816336519d3b3e44bf\", element=\"2091bcfb-deb0-46be-84d5-d19768bc2d85\")>,\n",
       " <selenium.webdriver.remote.webelement.WebElement (session=\"8726103ecc9d70816336519d3b3e44bf\", element=\"16c797ce-5882-4efb-9371-377f07e3fdbd\")>,\n",
       " <selenium.webdriver.remote.webelement.WebElement (session=\"8726103ecc9d70816336519d3b3e44bf\", element=\"f177cb96-35fd-4fc8-92a5-6b9fbff0684a\")>,\n",
       " <selenium.webdriver.remote.webelement.WebElement (session=\"8726103ecc9d70816336519d3b3e44bf\", element=\"a2b6579b-1eb7-4ecf-b2f0-ae6e8bee7d46\")>,\n",
       " <selenium.webdriver.remote.webelement.WebElement (session=\"8726103ecc9d70816336519d3b3e44bf\", element=\"1befd8a1-2377-4395-a56a-472121d4763d\")>,\n",
       " <selenium.webdriver.remote.webelement.WebElement (session=\"8726103ecc9d70816336519d3b3e44bf\", element=\"35a708cc-46e2-4733-9314-d64730055369\")>,\n",
       " <selenium.webdriver.remote.webelement.WebElement (session=\"8726103ecc9d70816336519d3b3e44bf\", element=\"d486b7c8-4b94-4a97-93e1-bafbbdc03fde\")>,\n",
       " <selenium.webdriver.remote.webelement.WebElement (session=\"8726103ecc9d70816336519d3b3e44bf\", element=\"177e79f6-a7f8-4b63-95ea-d0434d090175\")>,\n",
       " <selenium.webdriver.remote.webelement.WebElement (session=\"8726103ecc9d70816336519d3b3e44bf\", element=\"01dc88db-6440-409b-9f86-9003bd0e20ec\")>,\n",
       " <selenium.webdriver.remote.webelement.WebElement (session=\"8726103ecc9d70816336519d3b3e44bf\", element=\"08eedf57-24cc-4fe2-b3e7-e785422b538a\")>,\n",
       " <selenium.webdriver.remote.webelement.WebElement (session=\"8726103ecc9d70816336519d3b3e44bf\", element=\"32b4daba-6197-4ca3-806a-5c8b1fd2180f\")>,\n",
       " <selenium.webdriver.remote.webelement.WebElement (session=\"8726103ecc9d70816336519d3b3e44bf\", element=\"fc560818-914c-408d-bc32-d7a17ca6d783\")>,\n",
       " <selenium.webdriver.remote.webelement.WebElement (session=\"8726103ecc9d70816336519d3b3e44bf\", element=\"c0dd1c0b-b887-4530-b4c6-75496073ee9d\")>,\n",
       " <selenium.webdriver.remote.webelement.WebElement (session=\"8726103ecc9d70816336519d3b3e44bf\", element=\"e7141caf-03f8-486a-8c60-0032003ac40f\")>,\n",
       " <selenium.webdriver.remote.webelement.WebElement (session=\"8726103ecc9d70816336519d3b3e44bf\", element=\"8e79c5e7-17d5-4832-96a8-84653900a2b0\")>,\n",
       " <selenium.webdriver.remote.webelement.WebElement (session=\"8726103ecc9d70816336519d3b3e44bf\", element=\"c055ef1d-304c-47e1-a09d-8a140595ba0f\")>,\n",
       " <selenium.webdriver.remote.webelement.WebElement (session=\"8726103ecc9d70816336519d3b3e44bf\", element=\"441f5322-4d65-457f-97a7-90df7483a310\")>,\n",
       " <selenium.webdriver.remote.webelement.WebElement (session=\"8726103ecc9d70816336519d3b3e44bf\", element=\"77d9d159-762a-4bdb-8617-59e7a4ebef13\")>,\n",
       " <selenium.webdriver.remote.webelement.WebElement (session=\"8726103ecc9d70816336519d3b3e44bf\", element=\"6adad3ef-5557-4122-b1ee-f605837df9d2\")>,\n",
       " <selenium.webdriver.remote.webelement.WebElement (session=\"8726103ecc9d70816336519d3b3e44bf\", element=\"df396331-35bb-4ab2-a2e3-384b1782977c\")>,\n",
       " <selenium.webdriver.remote.webelement.WebElement (session=\"8726103ecc9d70816336519d3b3e44bf\", element=\"a4680299-5df6-4a3c-b426-40cd26a875fc\")>,\n",
       " <selenium.webdriver.remote.webelement.WebElement (session=\"8726103ecc9d70816336519d3b3e44bf\", element=\"568cd002-ae28-470f-bbb3-672213a90d00\")>,\n",
       " <selenium.webdriver.remote.webelement.WebElement (session=\"8726103ecc9d70816336519d3b3e44bf\", element=\"652b1305-465b-4e00-a96a-ba1252cf0a08\")>,\n",
       " <selenium.webdriver.remote.webelement.WebElement (session=\"8726103ecc9d70816336519d3b3e44bf\", element=\"232d3d93-2043-431e-be0e-4d178ddfab22\")>,\n",
       " <selenium.webdriver.remote.webelement.WebElement (session=\"8726103ecc9d70816336519d3b3e44bf\", element=\"a5f6946e-da5c-4a15-a0ae-64b8a577ddf9\")>,\n",
       " <selenium.webdriver.remote.webelement.WebElement (session=\"8726103ecc9d70816336519d3b3e44bf\", element=\"a11edacf-72c3-4801-97b4-ab585b433c93\")>,\n",
       " <selenium.webdriver.remote.webelement.WebElement (session=\"8726103ecc9d70816336519d3b3e44bf\", element=\"40ced25d-055a-43fb-a0f5-6b87d246be18\")>,\n",
       " <selenium.webdriver.remote.webelement.WebElement (session=\"8726103ecc9d70816336519d3b3e44bf\", element=\"c1fe0633-75e9-4729-8f5b-b1222c2189e1\")>,\n",
       " <selenium.webdriver.remote.webelement.WebElement (session=\"8726103ecc9d70816336519d3b3e44bf\", element=\"647d1b86-4d74-49fb-9d59-795566acf060\")>,\n",
       " <selenium.webdriver.remote.webelement.WebElement (session=\"8726103ecc9d70816336519d3b3e44bf\", element=\"58b770f5-a78b-4fa0-895b-6a7094a8eac1\")>,\n",
       " <selenium.webdriver.remote.webelement.WebElement (session=\"8726103ecc9d70816336519d3b3e44bf\", element=\"32b3e5b4-b7a2-4298-b967-60edf3508dee\")>,\n",
       " <selenium.webdriver.remote.webelement.WebElement (session=\"8726103ecc9d70816336519d3b3e44bf\", element=\"0131c90f-7ab4-4579-af1a-5aad3729fdb5\")>,\n",
       " <selenium.webdriver.remote.webelement.WebElement (session=\"8726103ecc9d70816336519d3b3e44bf\", element=\"e3876e17-89bc-42e7-bec2-c6ed7a8afc7e\")>,\n",
       " <selenium.webdriver.remote.webelement.WebElement (session=\"8726103ecc9d70816336519d3b3e44bf\", element=\"4e4f87ec-bba3-4aeb-90c6-96481599081b\")>,\n",
       " <selenium.webdriver.remote.webelement.WebElement (session=\"8726103ecc9d70816336519d3b3e44bf\", element=\"d2b56839-5238-45c8-9562-0dae41fc5cf8\")>,\n",
       " <selenium.webdriver.remote.webelement.WebElement (session=\"8726103ecc9d70816336519d3b3e44bf\", element=\"1714d740-b896-40cc-912a-afcae11873e8\")>,\n",
       " <selenium.webdriver.remote.webelement.WebElement (session=\"8726103ecc9d70816336519d3b3e44bf\", element=\"1db9ccf7-41f3-4cf5-9e7c-9f67708d7c31\")>,\n",
       " <selenium.webdriver.remote.webelement.WebElement (session=\"8726103ecc9d70816336519d3b3e44bf\", element=\"19b04776-da5b-4503-bbf0-a32f74f6e1ac\")>,\n",
       " <selenium.webdriver.remote.webelement.WebElement (session=\"8726103ecc9d70816336519d3b3e44bf\", element=\"657e89ce-d99b-413b-aa20-c5fea3b67abd\")>,\n",
       " <selenium.webdriver.remote.webelement.WebElement (session=\"8726103ecc9d70816336519d3b3e44bf\", element=\"93590328-5f41-4788-b604-d411e79f475d\")>,\n",
       " <selenium.webdriver.remote.webelement.WebElement (session=\"8726103ecc9d70816336519d3b3e44bf\", element=\"63173d94-116a-4192-a5b6-a0f903d5037f\")>,\n",
       " <selenium.webdriver.remote.webelement.WebElement (session=\"8726103ecc9d70816336519d3b3e44bf\", element=\"7a3fa213-5f51-4170-bc91-6d61ea51f6a6\")>,\n",
       " <selenium.webdriver.remote.webelement.WebElement (session=\"8726103ecc9d70816336519d3b3e44bf\", element=\"6a252075-ea0c-42d3-8c9d-d335b7de3f5c\")>,\n",
       " <selenium.webdriver.remote.webelement.WebElement (session=\"8726103ecc9d70816336519d3b3e44bf\", element=\"b926c8a2-2bb0-4caa-833a-4409d3bb5ce3\")>,\n",
       " <selenium.webdriver.remote.webelement.WebElement (session=\"8726103ecc9d70816336519d3b3e44bf\", element=\"5c4705ac-80b5-4af3-b160-991593e578a3\")>,\n",
       " <selenium.webdriver.remote.webelement.WebElement (session=\"8726103ecc9d70816336519d3b3e44bf\", element=\"e135db2f-f27a-4f21-88ba-57ece82898ca\")>,\n",
       " <selenium.webdriver.remote.webelement.WebElement (session=\"8726103ecc9d70816336519d3b3e44bf\", element=\"81312b1d-a4dc-406e-b693-c0630b2247dc\")>,\n",
       " <selenium.webdriver.remote.webelement.WebElement (session=\"8726103ecc9d70816336519d3b3e44bf\", element=\"352b0b72-aea9-4f82-ac41-146d204291dd\")>,\n",
       " <selenium.webdriver.remote.webelement.WebElement (session=\"8726103ecc9d70816336519d3b3e44bf\", element=\"a1598869-77a4-4924-a384-29048afc985d\")>,\n",
       " <selenium.webdriver.remote.webelement.WebElement (session=\"8726103ecc9d70816336519d3b3e44bf\", element=\"3e7f4aff-69ec-420a-9a15-709e5363f587\")>,\n",
       " <selenium.webdriver.remote.webelement.WebElement (session=\"8726103ecc9d70816336519d3b3e44bf\", element=\"2b4e1dda-40e9-4119-8d8d-25957b7fa169\")>,\n",
       " <selenium.webdriver.remote.webelement.WebElement (session=\"8726103ecc9d70816336519d3b3e44bf\", element=\"e9306571-576d-46f1-892b-e3f5b0046fda\")>,\n",
       " <selenium.webdriver.remote.webelement.WebElement (session=\"8726103ecc9d70816336519d3b3e44bf\", element=\"a66241b7-883e-483f-89ea-ed6e8d4e0fc5\")>,\n",
       " <selenium.webdriver.remote.webelement.WebElement (session=\"8726103ecc9d70816336519d3b3e44bf\", element=\"7730f7c3-1b5d-4d91-b48a-a97479962f65\")>,\n",
       " <selenium.webdriver.remote.webelement.WebElement (session=\"8726103ecc9d70816336519d3b3e44bf\", element=\"8399475d-ab34-4e08-a302-f665b3c3f076\")>,\n",
       " <selenium.webdriver.remote.webelement.WebElement (session=\"8726103ecc9d70816336519d3b3e44bf\", element=\"417dcb55-142c-4d5e-b37d-eca38e0bcaab\")>,\n",
       " <selenium.webdriver.remote.webelement.WebElement (session=\"8726103ecc9d70816336519d3b3e44bf\", element=\"e70f5821-e028-45d1-a79d-012e93b2f28b\")>,\n",
       " <selenium.webdriver.remote.webelement.WebElement (session=\"8726103ecc9d70816336519d3b3e44bf\", element=\"72bc3778-a2d1-40ea-aae8-8be7a56ad587\")>,\n",
       " <selenium.webdriver.remote.webelement.WebElement (session=\"8726103ecc9d70816336519d3b3e44bf\", element=\"f2d58ea2-fcc7-4c80-a5aa-eca12f7a3375\")>,\n",
       " <selenium.webdriver.remote.webelement.WebElement (session=\"8726103ecc9d70816336519d3b3e44bf\", element=\"56463bee-baa2-4c86-93d9-4c7d0baf7d63\")>,\n",
       " <selenium.webdriver.remote.webelement.WebElement (session=\"8726103ecc9d70816336519d3b3e44bf\", element=\"076c8f5f-ad47-4da1-b6a2-c0e4ee964869\")>,\n",
       " <selenium.webdriver.remote.webelement.WebElement (session=\"8726103ecc9d70816336519d3b3e44bf\", element=\"83a34c26-a7a9-4c2d-9bc9-219d247926f5\")>,\n",
       " <selenium.webdriver.remote.webelement.WebElement (session=\"8726103ecc9d70816336519d3b3e44bf\", element=\"3ea1e327-7fd5-4b72-b04e-b5fae5c72cfc\")>,\n",
       " <selenium.webdriver.remote.webelement.WebElement (session=\"8726103ecc9d70816336519d3b3e44bf\", element=\"3bd9933f-4cbd-4190-9251-ab6a89eef263\")>,\n",
       " <selenium.webdriver.remote.webelement.WebElement (session=\"8726103ecc9d70816336519d3b3e44bf\", element=\"88cb6c5b-ec1e-4444-8254-4b0f053241fe\")>,\n",
       " <selenium.webdriver.remote.webelement.WebElement (session=\"8726103ecc9d70816336519d3b3e44bf\", element=\"15bcab94-ef30-4428-9793-b10f83a533ae\")>,\n",
       " <selenium.webdriver.remote.webelement.WebElement (session=\"8726103ecc9d70816336519d3b3e44bf\", element=\"b611c2a2-eae2-4b4c-aa6f-f8e9f59c069c\")>,\n",
       " <selenium.webdriver.remote.webelement.WebElement (session=\"8726103ecc9d70816336519d3b3e44bf\", element=\"6739bb4d-68da-4a38-b5a2-aa0a50dbcca0\")>,\n",
       " <selenium.webdriver.remote.webelement.WebElement (session=\"8726103ecc9d70816336519d3b3e44bf\", element=\"f5de2104-0118-4f2f-9018-761e64a72c2f\")>,\n",
       " <selenium.webdriver.remote.webelement.WebElement (session=\"8726103ecc9d70816336519d3b3e44bf\", element=\"977d0635-3ca4-4196-b345-65ac8e1f3599\")>,\n",
       " <selenium.webdriver.remote.webelement.WebElement (session=\"8726103ecc9d70816336519d3b3e44bf\", element=\"ce1c4637-aab5-44b9-b075-4c0dc3acb365\")>,\n",
       " <selenium.webdriver.remote.webelement.WebElement (session=\"8726103ecc9d70816336519d3b3e44bf\", element=\"9aab6a8f-f7b5-430a-8fda-15bb25c5298b\")>,\n",
       " <selenium.webdriver.remote.webelement.WebElement (session=\"8726103ecc9d70816336519d3b3e44bf\", element=\"aae65e22-0cb7-44a9-aaf1-f394cdb1f375\")>,\n",
       " <selenium.webdriver.remote.webelement.WebElement (session=\"8726103ecc9d70816336519d3b3e44bf\", element=\"a58aad25-e56d-4f72-8df2-45d2e2bbc9ee\")>,\n",
       " <selenium.webdriver.remote.webelement.WebElement (session=\"8726103ecc9d70816336519d3b3e44bf\", element=\"868d5018-5c34-4d02-8315-869e01dc4d74\")>,\n",
       " <selenium.webdriver.remote.webelement.WebElement (session=\"8726103ecc9d70816336519d3b3e44bf\", element=\"d4f7cf8c-87f5-4efd-882d-6c9f5ea5dee2\")>,\n",
       " <selenium.webdriver.remote.webelement.WebElement (session=\"8726103ecc9d70816336519d3b3e44bf\", element=\"9e605058-6174-4d65-8bb3-93f8f4a4d4bb\")>,\n",
       " <selenium.webdriver.remote.webelement.WebElement (session=\"8726103ecc9d70816336519d3b3e44bf\", element=\"4a7999e1-dd97-4f16-a498-af8367879e9f\")>,\n",
       " <selenium.webdriver.remote.webelement.WebElement (session=\"8726103ecc9d70816336519d3b3e44bf\", element=\"9450b132-32c2-4514-80d4-e83979171c9d\")>,\n",
       " <selenium.webdriver.remote.webelement.WebElement (session=\"8726103ecc9d70816336519d3b3e44bf\", element=\"442bab71-7136-4011-a814-0d38e404f520\")>,\n",
       " <selenium.webdriver.remote.webelement.WebElement (session=\"8726103ecc9d70816336519d3b3e44bf\", element=\"71cb1cc3-a984-4bbb-9e7c-7fe0c20fa7ee\")>,\n",
       " <selenium.webdriver.remote.webelement.WebElement (session=\"8726103ecc9d70816336519d3b3e44bf\", element=\"6afbc9bc-1c9d-4a71-b9f0-0dcadc8ea95d\")>,\n",
       " <selenium.webdriver.remote.webelement.WebElement (session=\"8726103ecc9d70816336519d3b3e44bf\", element=\"88a16e9d-0415-4f6d-8422-8de5f250a895\")>,\n",
       " <selenium.webdriver.remote.webelement.WebElement (session=\"8726103ecc9d70816336519d3b3e44bf\", element=\"cc9aecc4-c004-4d87-ad9c-8b239c724fed\")>,\n",
       " <selenium.webdriver.remote.webelement.WebElement (session=\"8726103ecc9d70816336519d3b3e44bf\", element=\"98a10035-8947-4cd7-8c33-a70158dc03c2\")>,\n",
       " <selenium.webdriver.remote.webelement.WebElement (session=\"8726103ecc9d70816336519d3b3e44bf\", element=\"c26dabff-7653-4006-9407-acdf934f1e58\")>,\n",
       " <selenium.webdriver.remote.webelement.WebElement (session=\"8726103ecc9d70816336519d3b3e44bf\", element=\"fcb0796c-2c20-4265-944a-d83759bf0684\")>,\n",
       " <selenium.webdriver.remote.webelement.WebElement (session=\"8726103ecc9d70816336519d3b3e44bf\", element=\"424e2393-8d56-42a8-9244-35b931ff79c1\")>,\n",
       " <selenium.webdriver.remote.webelement.WebElement (session=\"8726103ecc9d70816336519d3b3e44bf\", element=\"732ae74a-893c-498d-85ab-516f857e3604\")>,\n",
       " <selenium.webdriver.remote.webelement.WebElement (session=\"8726103ecc9d70816336519d3b3e44bf\", element=\"a9e389c4-daec-40f8-a43b-394d8f9683a4\")>,\n",
       " <selenium.webdriver.remote.webelement.WebElement (session=\"8726103ecc9d70816336519d3b3e44bf\", element=\"6fee738e-7d65-49e7-9ba0-01a648c6bf3a\")>,\n",
       " <selenium.webdriver.remote.webelement.WebElement (session=\"8726103ecc9d70816336519d3b3e44bf\", element=\"6b2c0e39-680b-417a-bc91-8d072af20946\")>,\n",
       " <selenium.webdriver.remote.webelement.WebElement (session=\"8726103ecc9d70816336519d3b3e44bf\", element=\"4290ff03-9c01-4953-8693-8107b5bf78ef\")>,\n",
       " <selenium.webdriver.remote.webelement.WebElement (session=\"8726103ecc9d70816336519d3b3e44bf\", element=\"53daa1b2-7f08-4e11-8385-98a2171a62fb\")>,\n",
       " <selenium.webdriver.remote.webelement.WebElement (session=\"8726103ecc9d70816336519d3b3e44bf\", element=\"fe1e176e-614e-423e-8037-2e4a8d46a524\")>,\n",
       " <selenium.webdriver.remote.webelement.WebElement (session=\"8726103ecc9d70816336519d3b3e44bf\", element=\"16ae83ea-4903-40f2-af4c-2ab2cec1ccef\")>,\n",
       " <selenium.webdriver.remote.webelement.WebElement (session=\"8726103ecc9d70816336519d3b3e44bf\", element=\"78836e9e-b422-43d1-839b-de03bdb39f22\")>,\n",
       " <selenium.webdriver.remote.webelement.WebElement (session=\"8726103ecc9d70816336519d3b3e44bf\", element=\"c6243de9-7414-4b25-a88d-75af612473b6\")>,\n",
       " <selenium.webdriver.remote.webelement.WebElement (session=\"8726103ecc9d70816336519d3b3e44bf\", element=\"f5b90c69-5eee-4e0f-a5e3-eaa3944bf232\")>,\n",
       " <selenium.webdriver.remote.webelement.WebElement (session=\"8726103ecc9d70816336519d3b3e44bf\", element=\"09d788bc-9437-47e2-b1e4-49b47f6c145a\")>,\n",
       " <selenium.webdriver.remote.webelement.WebElement (session=\"8726103ecc9d70816336519d3b3e44bf\", element=\"ec8ad7d0-4b5b-4943-924e-c5d804a6817c\")>,\n",
       " <selenium.webdriver.remote.webelement.WebElement (session=\"8726103ecc9d70816336519d3b3e44bf\", element=\"2ce4474d-5db2-4aff-b0a0-429d19714029\")>,\n",
       " <selenium.webdriver.remote.webelement.WebElement (session=\"8726103ecc9d70816336519d3b3e44bf\", element=\"7b1f6bc4-1103-417c-a03e-5d77fe4e1a31\")>,\n",
       " <selenium.webdriver.remote.webelement.WebElement (session=\"8726103ecc9d70816336519d3b3e44bf\", element=\"c46ed3e0-174f-4134-a051-f2e7853371ef\")>,\n",
       " <selenium.webdriver.remote.webelement.WebElement (session=\"8726103ecc9d70816336519d3b3e44bf\", element=\"c03ba4df-47b2-40a4-aa6a-3afda46a5e10\")>,\n",
       " <selenium.webdriver.remote.webelement.WebElement (session=\"8726103ecc9d70816336519d3b3e44bf\", element=\"227026c0-aa1f-4aeb-bee3-9700865e78f9\")>,\n",
       " <selenium.webdriver.remote.webelement.WebElement (session=\"8726103ecc9d70816336519d3b3e44bf\", element=\"b69c3b53-b0a0-4f9a-a4f6-b27f9d74e16c\")>,\n",
       " <selenium.webdriver.remote.webelement.WebElement (session=\"8726103ecc9d70816336519d3b3e44bf\", element=\"c3c91314-f266-4304-849c-a4ac222c742a\")>,\n",
       " <selenium.webdriver.remote.webelement.WebElement (session=\"8726103ecc9d70816336519d3b3e44bf\", element=\"7993623c-d3dc-473b-8183-a58a79b29427\")>,\n",
       " <selenium.webdriver.remote.webelement.WebElement (session=\"8726103ecc9d70816336519d3b3e44bf\", element=\"93624f8d-651d-4588-8035-4445627d78bd\")>,\n",
       " <selenium.webdriver.remote.webelement.WebElement (session=\"8726103ecc9d70816336519d3b3e44bf\", element=\"9bf3a6c5-8122-44cc-8965-75dad24a00f9\")>,\n",
       " <selenium.webdriver.remote.webelement.WebElement (session=\"8726103ecc9d70816336519d3b3e44bf\", element=\"69c0cd34-dfd6-45e1-a695-973beb43562c\")>,\n",
       " <selenium.webdriver.remote.webelement.WebElement (session=\"8726103ecc9d70816336519d3b3e44bf\", element=\"28f075e6-8f34-458a-b9f6-6f0021ddda1e\")>,\n",
       " <selenium.webdriver.remote.webelement.WebElement (session=\"8726103ecc9d70816336519d3b3e44bf\", element=\"5a637248-62b7-44a8-a336-c4756dda86dc\")>,\n",
       " <selenium.webdriver.remote.webelement.WebElement (session=\"8726103ecc9d70816336519d3b3e44bf\", element=\"a4b72e5d-7e9c-48a2-8edb-5c9d99ad91f4\")>,\n",
       " <selenium.webdriver.remote.webelement.WebElement (session=\"8726103ecc9d70816336519d3b3e44bf\", element=\"34debdd9-68b8-48c9-a60e-c447038bd282\")>,\n",
       " <selenium.webdriver.remote.webelement.WebElement (session=\"8726103ecc9d70816336519d3b3e44bf\", element=\"654f443d-b88e-4d97-9d6d-6e31dbde0866\")>,\n",
       " <selenium.webdriver.remote.webelement.WebElement (session=\"8726103ecc9d70816336519d3b3e44bf\", element=\"6d07f74e-4f3f-4fa3-a6c9-a9be7506a82f\")>,\n",
       " <selenium.webdriver.remote.webelement.WebElement (session=\"8726103ecc9d70816336519d3b3e44bf\", element=\"c19198e3-b8bf-4955-b9cd-2349ebdad1fb\")>,\n",
       " <selenium.webdriver.remote.webelement.WebElement (session=\"8726103ecc9d70816336519d3b3e44bf\", element=\"489b9b10-c4a0-4c93-9da4-ed58c53a797d\")>,\n",
       " <selenium.webdriver.remote.webelement.WebElement (session=\"8726103ecc9d70816336519d3b3e44bf\", element=\"2cfdcf6f-b07a-4895-9aa1-265fb370dec3\")>,\n",
       " <selenium.webdriver.remote.webelement.WebElement (session=\"8726103ecc9d70816336519d3b3e44bf\", element=\"c4765421-b4ac-4090-8444-35d484e0daa5\")>,\n",
       " <selenium.webdriver.remote.webelement.WebElement (session=\"8726103ecc9d70816336519d3b3e44bf\", element=\"59e9d51c-775e-4f4f-867b-5f5b9787105e\")>,\n",
       " <selenium.webdriver.remote.webelement.WebElement (session=\"8726103ecc9d70816336519d3b3e44bf\", element=\"c4f66e37-7bf1-443c-bcc7-4b244881290e\")>,\n",
       " <selenium.webdriver.remote.webelement.WebElement (session=\"8726103ecc9d70816336519d3b3e44bf\", element=\"c5da9a60-737c-4fce-a570-26bb5474f3ab\")>,\n",
       " <selenium.webdriver.remote.webelement.WebElement (session=\"8726103ecc9d70816336519d3b3e44bf\", element=\"e17d56b2-2293-4d33-b24e-b77795a3e5c7\")>,\n",
       " <selenium.webdriver.remote.webelement.WebElement (session=\"8726103ecc9d70816336519d3b3e44bf\", element=\"aec3925e-5bb7-4869-a8a5-ad43db838e08\")>,\n",
       " <selenium.webdriver.remote.webelement.WebElement (session=\"8726103ecc9d70816336519d3b3e44bf\", element=\"64e9d4db-f980-4bd2-ae62-68af6b2d3ba8\")>,\n",
       " <selenium.webdriver.remote.webelement.WebElement (session=\"8726103ecc9d70816336519d3b3e44bf\", element=\"38b1fc9a-c22b-43bd-98e9-ce2933d29574\")>,\n",
       " <selenium.webdriver.remote.webelement.WebElement (session=\"8726103ecc9d70816336519d3b3e44bf\", element=\"bcc08dcc-c8a3-470c-8780-3de768e17b6b\")>,\n",
       " <selenium.webdriver.remote.webelement.WebElement (session=\"8726103ecc9d70816336519d3b3e44bf\", element=\"31f622ac-c1af-46c0-86ad-9fdabae35c62\")>,\n",
       " <selenium.webdriver.remote.webelement.WebElement (session=\"8726103ecc9d70816336519d3b3e44bf\", element=\"c449db26-3493-4cef-821f-677c30df0c4d\")>,\n",
       " <selenium.webdriver.remote.webelement.WebElement (session=\"8726103ecc9d70816336519d3b3e44bf\", element=\"1efbe85e-174e-4ba5-8afc-9ec2261271bc\")>,\n",
       " <selenium.webdriver.remote.webelement.WebElement (session=\"8726103ecc9d70816336519d3b3e44bf\", element=\"95be3346-46d8-4b02-a58c-6070ad7d7040\")>,\n",
       " <selenium.webdriver.remote.webelement.WebElement (session=\"8726103ecc9d70816336519d3b3e44bf\", element=\"54233083-e843-4945-a73b-9908137b5f8d\")>,\n",
       " <selenium.webdriver.remote.webelement.WebElement (session=\"8726103ecc9d70816336519d3b3e44bf\", element=\"c15c501e-26a2-41c1-8e99-c08dfd30c1d3\")>,\n",
       " <selenium.webdriver.remote.webelement.WebElement (session=\"8726103ecc9d70816336519d3b3e44bf\", element=\"56ae1c4d-7c8f-4d5d-9853-6e5cbde3e2f8\")>,\n",
       " <selenium.webdriver.remote.webelement.WebElement (session=\"8726103ecc9d70816336519d3b3e44bf\", element=\"39c4c8ef-468f-41d9-bbf7-558046a439c8\")>,\n",
       " <selenium.webdriver.remote.webelement.WebElement (session=\"8726103ecc9d70816336519d3b3e44bf\", element=\"79c416ce-292f-4db5-b692-348bdcf6d169\")>,\n",
       " <selenium.webdriver.remote.webelement.WebElement (session=\"8726103ecc9d70816336519d3b3e44bf\", element=\"e9419c23-e495-4ce7-bb04-65ddeadcbb6c\")>,\n",
       " <selenium.webdriver.remote.webelement.WebElement (session=\"8726103ecc9d70816336519d3b3e44bf\", element=\"dcd0443a-e426-4689-8a50-0c7b6ecf11ae\")>,\n",
       " <selenium.webdriver.remote.webelement.WebElement (session=\"8726103ecc9d70816336519d3b3e44bf\", element=\"38caceb3-d12f-4ff5-8fc0-02a1746ab26f\")>,\n",
       " <selenium.webdriver.remote.webelement.WebElement (session=\"8726103ecc9d70816336519d3b3e44bf\", element=\"fbd4be33-e916-415b-a891-46244da52868\")>,\n",
       " <selenium.webdriver.remote.webelement.WebElement (session=\"8726103ecc9d70816336519d3b3e44bf\", element=\"64d1a287-1c90-467d-8ad1-65ac3a7151f9\")>,\n",
       " <selenium.webdriver.remote.webelement.WebElement (session=\"8726103ecc9d70816336519d3b3e44bf\", element=\"44f25eac-3eab-4898-901e-3cefabc338ed\")>,\n",
       " <selenium.webdriver.remote.webelement.WebElement (session=\"8726103ecc9d70816336519d3b3e44bf\", element=\"44ab9153-72f2-42c2-b6bc-941338064c92\")>,\n",
       " <selenium.webdriver.remote.webelement.WebElement (session=\"8726103ecc9d70816336519d3b3e44bf\", element=\"9ea5c898-0ae6-4dd1-aded-e6159be36300\")>,\n",
       " <selenium.webdriver.remote.webelement.WebElement (session=\"8726103ecc9d70816336519d3b3e44bf\", element=\"27943d61-a997-42a9-a2fb-bfe09270fd6d\")>,\n",
       " <selenium.webdriver.remote.webelement.WebElement (session=\"8726103ecc9d70816336519d3b3e44bf\", element=\"25b8023e-bbcc-469f-8d0b-09ba2c78dd67\")>,\n",
       " <selenium.webdriver.remote.webelement.WebElement (session=\"8726103ecc9d70816336519d3b3e44bf\", element=\"0ef32b5c-9ef9-40a3-93dd-02dca0491ba9\")>,\n",
       " <selenium.webdriver.remote.webelement.WebElement (session=\"8726103ecc9d70816336519d3b3e44bf\", element=\"5f514ebe-07fc-46eb-9091-888ef9c4d89c\")>,\n",
       " <selenium.webdriver.remote.webelement.WebElement (session=\"8726103ecc9d70816336519d3b3e44bf\", element=\"6adc7e5e-7d44-4764-9a7d-60b78aabc00d\")>,\n",
       " <selenium.webdriver.remote.webelement.WebElement (session=\"8726103ecc9d70816336519d3b3e44bf\", element=\"9e2cb243-2581-4153-b47e-1bab8d58b9a8\")>,\n",
       " <selenium.webdriver.remote.webelement.WebElement (session=\"8726103ecc9d70816336519d3b3e44bf\", element=\"8d27c281-9a5b-4ba1-9754-bf56a32bd7b4\")>,\n",
       " <selenium.webdriver.remote.webelement.WebElement (session=\"8726103ecc9d70816336519d3b3e44bf\", element=\"37043059-a3e6-4ba4-8b7e-6fca84ea9321\")>,\n",
       " <selenium.webdriver.remote.webelement.WebElement (session=\"8726103ecc9d70816336519d3b3e44bf\", element=\"e39f9ee6-cd3d-44d9-8563-8bca7789091b\")>,\n",
       " <selenium.webdriver.remote.webelement.WebElement (session=\"8726103ecc9d70816336519d3b3e44bf\", element=\"e9a0c8cb-c854-4ccd-b27c-edd115f0b342\")>,\n",
       " <selenium.webdriver.remote.webelement.WebElement (session=\"8726103ecc9d70816336519d3b3e44bf\", element=\"00b737ee-6d17-471c-be46-313b665377ac\")>,\n",
       " <selenium.webdriver.remote.webelement.WebElement (session=\"8726103ecc9d70816336519d3b3e44bf\", element=\"5f424ac6-ef0d-4085-9d34-c5616bab500f\")>,\n",
       " <selenium.webdriver.remote.webelement.WebElement (session=\"8726103ecc9d70816336519d3b3e44bf\", element=\"8ecca8dc-4154-494a-9d99-1fe6d522fa08\")>,\n",
       " <selenium.webdriver.remote.webelement.WebElement (session=\"8726103ecc9d70816336519d3b3e44bf\", element=\"687e53b7-c2e9-4680-9e6f-030c59428f06\")>,\n",
       " <selenium.webdriver.remote.webelement.WebElement (session=\"8726103ecc9d70816336519d3b3e44bf\", element=\"4fddaaae-66fa-447e-a1b6-2d8e2fdf8ae5\")>,\n",
       " <selenium.webdriver.remote.webelement.WebElement (session=\"8726103ecc9d70816336519d3b3e44bf\", element=\"17f6e3cb-312e-4646-bc1b-270388e3435f\")>,\n",
       " <selenium.webdriver.remote.webelement.WebElement (session=\"8726103ecc9d70816336519d3b3e44bf\", element=\"7e146a6d-65e6-4bd1-be80-f4070539dab0\")>,\n",
       " <selenium.webdriver.remote.webelement.WebElement (session=\"8726103ecc9d70816336519d3b3e44bf\", element=\"5b142a83-b7ce-4bc8-99f8-d8c48aed8647\")>,\n",
       " <selenium.webdriver.remote.webelement.WebElement (session=\"8726103ecc9d70816336519d3b3e44bf\", element=\"87ae89e3-ba6b-4048-986a-32c56ffbedc0\")>,\n",
       " <selenium.webdriver.remote.webelement.WebElement (session=\"8726103ecc9d70816336519d3b3e44bf\", element=\"21754091-7873-4e42-8996-b2d76b111c49\")>,\n",
       " <selenium.webdriver.remote.webelement.WebElement (session=\"8726103ecc9d70816336519d3b3e44bf\", element=\"f49585d0-ee17-47d7-a6d2-ccf8d5aa079b\")>,\n",
       " <selenium.webdriver.remote.webelement.WebElement (session=\"8726103ecc9d70816336519d3b3e44bf\", element=\"24be4e46-a251-4a87-b4fa-e4b8001bdd33\")>,\n",
       " <selenium.webdriver.remote.webelement.WebElement (session=\"8726103ecc9d70816336519d3b3e44bf\", element=\"6def29d6-9e05-48d1-ae57-a082399064fe\")>,\n",
       " <selenium.webdriver.remote.webelement.WebElement (session=\"8726103ecc9d70816336519d3b3e44bf\", element=\"c84858d9-f68b-4663-96ba-8820c96f69e4\")>,\n",
       " <selenium.webdriver.remote.webelement.WebElement (session=\"8726103ecc9d70816336519d3b3e44bf\", element=\"7281e397-3dfa-4df2-bd63-d8aa04f4c554\")>,\n",
       " <selenium.webdriver.remote.webelement.WebElement (session=\"8726103ecc9d70816336519d3b3e44bf\", element=\"268806e5-634e-40db-8039-aa9fa19169b6\")>,\n",
       " <selenium.webdriver.remote.webelement.WebElement (session=\"8726103ecc9d70816336519d3b3e44bf\", element=\"ae830c01-d26e-4e10-9eea-2f276ad0dc17\")>,\n",
       " <selenium.webdriver.remote.webelement.WebElement (session=\"8726103ecc9d70816336519d3b3e44bf\", element=\"59c80284-8971-4acf-8870-7949cc21e430\")>,\n",
       " <selenium.webdriver.remote.webelement.WebElement (session=\"8726103ecc9d70816336519d3b3e44bf\", element=\"d40688cd-8543-449d-9447-807623895c8f\")>,\n",
       " <selenium.webdriver.remote.webelement.WebElement (session=\"8726103ecc9d70816336519d3b3e44bf\", element=\"a493f040-66cf-4da7-8bdc-4040a76c0eae\")>,\n",
       " <selenium.webdriver.remote.webelement.WebElement (session=\"8726103ecc9d70816336519d3b3e44bf\", element=\"f6672f4d-bd38-4d43-8ac7-853a04160fb9\")>,\n",
       " <selenium.webdriver.remote.webelement.WebElement (session=\"8726103ecc9d70816336519d3b3e44bf\", element=\"d9c1eb13-57ad-49bb-8ece-bae50cc7e3e8\")>,\n",
       " <selenium.webdriver.remote.webelement.WebElement (session=\"8726103ecc9d70816336519d3b3e44bf\", element=\"8a296f7a-55de-4082-a4f5-d07f8ba38245\")>,\n",
       " <selenium.webdriver.remote.webelement.WebElement (session=\"8726103ecc9d70816336519d3b3e44bf\", element=\"2596f991-3760-4f14-a4d9-fd2bd0a711a5\")>,\n",
       " <selenium.webdriver.remote.webelement.WebElement (session=\"8726103ecc9d70816336519d3b3e44bf\", element=\"4f693143-39bd-4489-b9b2-24e710a4bf60\")>,\n",
       " <selenium.webdriver.remote.webelement.WebElement (session=\"8726103ecc9d70816336519d3b3e44bf\", element=\"2ea1bf1d-4892-422f-aec7-efc10c7b7564\")>,\n",
       " <selenium.webdriver.remote.webelement.WebElement (session=\"8726103ecc9d70816336519d3b3e44bf\", element=\"28af4147-77cb-46a8-8d2f-31ed60d08000\")>,\n",
       " <selenium.webdriver.remote.webelement.WebElement (session=\"8726103ecc9d70816336519d3b3e44bf\", element=\"2bbc2b3f-d812-4ea5-b61e-a15661028efc\")>,\n",
       " <selenium.webdriver.remote.webelement.WebElement (session=\"8726103ecc9d70816336519d3b3e44bf\", element=\"5b600b66-f6aa-4bbe-a5b7-372972f8464e\")>,\n",
       " <selenium.webdriver.remote.webelement.WebElement (session=\"8726103ecc9d70816336519d3b3e44bf\", element=\"8661b848-3bfb-47a0-9fd1-92250cf90746\")>,\n",
       " <selenium.webdriver.remote.webelement.WebElement (session=\"8726103ecc9d70816336519d3b3e44bf\", element=\"69c79b72-7982-4089-8fbf-522e6ba88a0c\")>,\n",
       " <selenium.webdriver.remote.webelement.WebElement (session=\"8726103ecc9d70816336519d3b3e44bf\", element=\"fbee6be5-1e03-43c3-8a5c-f6628a5f6945\")>,\n",
       " <selenium.webdriver.remote.webelement.WebElement (session=\"8726103ecc9d70816336519d3b3e44bf\", element=\"81c6013c-52a2-4d1c-b27a-d67249c6d2a4\")>,\n",
       " <selenium.webdriver.remote.webelement.WebElement (session=\"8726103ecc9d70816336519d3b3e44bf\", element=\"aa357df8-c6cb-4746-a3dd-de1d820a0732\")>,\n",
       " <selenium.webdriver.remote.webelement.WebElement (session=\"8726103ecc9d70816336519d3b3e44bf\", element=\"827d11a3-60ad-4f03-95bc-eed945670534\")>,\n",
       " <selenium.webdriver.remote.webelement.WebElement (session=\"8726103ecc9d70816336519d3b3e44bf\", element=\"434fc73b-b5d3-4e1b-a697-20ab5b9875d0\")>,\n",
       " <selenium.webdriver.remote.webelement.WebElement (session=\"8726103ecc9d70816336519d3b3e44bf\", element=\"6f464e69-5758-4a6c-a872-ce679a99431b\")>,\n",
       " <selenium.webdriver.remote.webelement.WebElement (session=\"8726103ecc9d70816336519d3b3e44bf\", element=\"35e09323-0685-4c55-a29b-2f249ec0e7e4\")>,\n",
       " <selenium.webdriver.remote.webelement.WebElement (session=\"8726103ecc9d70816336519d3b3e44bf\", element=\"4b52c5e5-5048-4f31-9701-f3c0b75b9f1c\")>,\n",
       " <selenium.webdriver.remote.webelement.WebElement (session=\"8726103ecc9d70816336519d3b3e44bf\", element=\"a09264d2-907b-4dea-a56e-83b0ddc9a777\")>,\n",
       " <selenium.webdriver.remote.webelement.WebElement (session=\"8726103ecc9d70816336519d3b3e44bf\", element=\"d9d145e1-9278-45fe-acf7-4a3f453c8fad\")>,\n",
       " <selenium.webdriver.remote.webelement.WebElement (session=\"8726103ecc9d70816336519d3b3e44bf\", element=\"102a62ef-8d2e-4b87-9390-9e5fdf1c4aec\")>,\n",
       " <selenium.webdriver.remote.webelement.WebElement (session=\"8726103ecc9d70816336519d3b3e44bf\", element=\"14283002-b247-4d77-8d83-1c173c37d4c1\")>,\n",
       " <selenium.webdriver.remote.webelement.WebElement (session=\"8726103ecc9d70816336519d3b3e44bf\", element=\"dfecd0ac-adcc-4421-b1ed-a6e474c9de54\")>,\n",
       " <selenium.webdriver.remote.webelement.WebElement (session=\"8726103ecc9d70816336519d3b3e44bf\", element=\"39793986-b763-472c-8ae8-818bbede0798\")>,\n",
       " <selenium.webdriver.remote.webelement.WebElement (session=\"8726103ecc9d70816336519d3b3e44bf\", element=\"cc9597a3-ed79-4cca-ad82-9f1c08a13046\")>,\n",
       " <selenium.webdriver.remote.webelement.WebElement (session=\"8726103ecc9d70816336519d3b3e44bf\", element=\"601562dd-ca52-4820-a6a2-accee40f8b04\")>,\n",
       " <selenium.webdriver.remote.webelement.WebElement (session=\"8726103ecc9d70816336519d3b3e44bf\", element=\"250ad8ee-2a5d-497f-9238-2aadc9d47c54\")>,\n",
       " <selenium.webdriver.remote.webelement.WebElement (session=\"8726103ecc9d70816336519d3b3e44bf\", element=\"b79e0126-db7e-47d6-a2f0-06933653dbd0\")>,\n",
       " <selenium.webdriver.remote.webelement.WebElement (session=\"8726103ecc9d70816336519d3b3e44bf\", element=\"93d89dfc-256e-4977-a20a-e7c5fec9a3e4\")>,\n",
       " <selenium.webdriver.remote.webelement.WebElement (session=\"8726103ecc9d70816336519d3b3e44bf\", element=\"26567f06-c6ea-4ccd-86bd-46c7e87fdca3\")>,\n",
       " <selenium.webdriver.remote.webelement.WebElement (session=\"8726103ecc9d70816336519d3b3e44bf\", element=\"0d8bf813-b03b-4131-b9fe-479954186626\")>,\n",
       " <selenium.webdriver.remote.webelement.WebElement (session=\"8726103ecc9d70816336519d3b3e44bf\", element=\"785fd3b8-938d-4941-bc4b-5b221640ef48\")>,\n",
       " <selenium.webdriver.remote.webelement.WebElement (session=\"8726103ecc9d70816336519d3b3e44bf\", element=\"56de2aa1-705b-49fa-a38d-46d72acbe72c\")>,\n",
       " <selenium.webdriver.remote.webelement.WebElement (session=\"8726103ecc9d70816336519d3b3e44bf\", element=\"ac8f22b1-5ed6-4f99-bf88-6edf258f7449\")>,\n",
       " <selenium.webdriver.remote.webelement.WebElement (session=\"8726103ecc9d70816336519d3b3e44bf\", element=\"bfe182dc-c1b5-439d-bc8a-22b16b5c9aab\")>,\n",
       " <selenium.webdriver.remote.webelement.WebElement (session=\"8726103ecc9d70816336519d3b3e44bf\", element=\"b7f4cc48-f16f-4e78-bc6b-5ae1b68d4c35\")>,\n",
       " <selenium.webdriver.remote.webelement.WebElement (session=\"8726103ecc9d70816336519d3b3e44bf\", element=\"0ba1a516-47d9-4375-86fc-a6eb307fda45\")>,\n",
       " <selenium.webdriver.remote.webelement.WebElement (session=\"8726103ecc9d70816336519d3b3e44bf\", element=\"37397939-684b-4516-9beb-41def8693288\")>,\n",
       " <selenium.webdriver.remote.webelement.WebElement (session=\"8726103ecc9d70816336519d3b3e44bf\", element=\"7f34dae3-75db-4b88-a796-e827424ce052\")>,\n",
       " <selenium.webdriver.remote.webelement.WebElement (session=\"8726103ecc9d70816336519d3b3e44bf\", element=\"93b1ce10-bbde-47c6-9ebe-5f51d766935f\")>,\n",
       " <selenium.webdriver.remote.webelement.WebElement (session=\"8726103ecc9d70816336519d3b3e44bf\", element=\"1ffce79c-34a3-486b-8eaf-e35b79b59121\")>,\n",
       " <selenium.webdriver.remote.webelement.WebElement (session=\"8726103ecc9d70816336519d3b3e44bf\", element=\"7b85cf1a-e5a2-4424-ab50-ed82aa4dfb35\")>,\n",
       " <selenium.webdriver.remote.webelement.WebElement (session=\"8726103ecc9d70816336519d3b3e44bf\", element=\"67e7c134-4bc7-4c78-8b42-f0cd5e9fe368\")>,\n",
       " <selenium.webdriver.remote.webelement.WebElement (session=\"8726103ecc9d70816336519d3b3e44bf\", element=\"00c03058-6daa-4fa8-b280-8eae2030f907\")>,\n",
       " <selenium.webdriver.remote.webelement.WebElement (session=\"8726103ecc9d70816336519d3b3e44bf\", element=\"472d8f4d-7387-4caf-a704-c6ae73c9578e\")>,\n",
       " <selenium.webdriver.remote.webelement.WebElement (session=\"8726103ecc9d70816336519d3b3e44bf\", element=\"39b85ecc-4e02-4af2-ae65-ba40fe60419f\")>,\n",
       " <selenium.webdriver.remote.webelement.WebElement (session=\"8726103ecc9d70816336519d3b3e44bf\", element=\"b468accd-ee6f-4c33-8eeb-77ea8a929f32\")>,\n",
       " <selenium.webdriver.remote.webelement.WebElement (session=\"8726103ecc9d70816336519d3b3e44bf\", element=\"bd3b6314-9406-4d5b-b462-9dcafbe60b10\")>,\n",
       " <selenium.webdriver.remote.webelement.WebElement (session=\"8726103ecc9d70816336519d3b3e44bf\", element=\"b03c17a7-cf91-40aa-9504-233ec673dd46\")>,\n",
       " <selenium.webdriver.remote.webelement.WebElement (session=\"8726103ecc9d70816336519d3b3e44bf\", element=\"0a5e0d3b-7b2c-4a64-96df-49ba6c5b1f83\")>,\n",
       " <selenium.webdriver.remote.webelement.WebElement (session=\"8726103ecc9d70816336519d3b3e44bf\", element=\"5c76ab9c-f019-4840-80bb-71146a2f3ee6\")>,\n",
       " <selenium.webdriver.remote.webelement.WebElement (session=\"8726103ecc9d70816336519d3b3e44bf\", element=\"17ebdf5b-4802-46ea-aec6-a3e617e757fd\")>,\n",
       " <selenium.webdriver.remote.webelement.WebElement (session=\"8726103ecc9d70816336519d3b3e44bf\", element=\"bf84df1b-cebc-4253-8b9e-8e50f9b30776\")>,\n",
       " <selenium.webdriver.remote.webelement.WebElement (session=\"8726103ecc9d70816336519d3b3e44bf\", element=\"8c71f1f3-52ad-4c4f-83d1-fa0336f63ed8\")>,\n",
       " <selenium.webdriver.remote.webelement.WebElement (session=\"8726103ecc9d70816336519d3b3e44bf\", element=\"8895d389-32d6-4c16-aa25-3f54afeadf23\")>,\n",
       " <selenium.webdriver.remote.webelement.WebElement (session=\"8726103ecc9d70816336519d3b3e44bf\", element=\"f223e96b-d550-4482-bb38-ef7def52734b\")>,\n",
       " <selenium.webdriver.remote.webelement.WebElement (session=\"8726103ecc9d70816336519d3b3e44bf\", element=\"73402e9a-bc90-4ba5-8aca-1a570e026cc4\")>,\n",
       " <selenium.webdriver.remote.webelement.WebElement (session=\"8726103ecc9d70816336519d3b3e44bf\", element=\"15ab10da-f8b6-4c88-a3a6-85fe1c1ed200\")>,\n",
       " <selenium.webdriver.remote.webelement.WebElement (session=\"8726103ecc9d70816336519d3b3e44bf\", element=\"f2ea8959-78ab-4db4-b03c-ed340ebcbf7c\")>,\n",
       " <selenium.webdriver.remote.webelement.WebElement (session=\"8726103ecc9d70816336519d3b3e44bf\", element=\"e23bab32-616c-4786-9211-f2b74a26e0dc\")>,\n",
       " <selenium.webdriver.remote.webelement.WebElement (session=\"8726103ecc9d70816336519d3b3e44bf\", element=\"095b5312-dcfc-4785-85a1-da4707a1fbc9\")>,\n",
       " <selenium.webdriver.remote.webelement.WebElement (session=\"8726103ecc9d70816336519d3b3e44bf\", element=\"d73294fd-1189-4a88-ad92-16c60a3498e1\")>,\n",
       " <selenium.webdriver.remote.webelement.WebElement (session=\"8726103ecc9d70816336519d3b3e44bf\", element=\"4f86e58f-9e3c-48c2-9ca9-7d564baeaf2b\")>,\n",
       " <selenium.webdriver.remote.webelement.WebElement (session=\"8726103ecc9d70816336519d3b3e44bf\", element=\"b1fd8a61-31ab-4f65-a60d-e1394478cdb4\")>,\n",
       " <selenium.webdriver.remote.webelement.WebElement (session=\"8726103ecc9d70816336519d3b3e44bf\", element=\"7f145561-01f3-41c5-9561-281cddc1aca6\")>,\n",
       " <selenium.webdriver.remote.webelement.WebElement (session=\"8726103ecc9d70816336519d3b3e44bf\", element=\"176ddbdf-e107-4b13-8387-760f7bccb55a\")>,\n",
       " <selenium.webdriver.remote.webelement.WebElement (session=\"8726103ecc9d70816336519d3b3e44bf\", element=\"7281d2ea-5335-4002-b2e3-54bb232f3f74\")>,\n",
       " <selenium.webdriver.remote.webelement.WebElement (session=\"8726103ecc9d70816336519d3b3e44bf\", element=\"069b3683-6e34-4d07-b9e0-26976dd1f29d\")>,\n",
       " <selenium.webdriver.remote.webelement.WebElement (session=\"8726103ecc9d70816336519d3b3e44bf\", element=\"de699a8f-71cd-400f-a1ac-bfc200f6b485\")>,\n",
       " <selenium.webdriver.remote.webelement.WebElement (session=\"8726103ecc9d70816336519d3b3e44bf\", element=\"6704b4d7-5e0e-4de9-8897-7deb7f7cf414\")>,\n",
       " <selenium.webdriver.remote.webelement.WebElement (session=\"8726103ecc9d70816336519d3b3e44bf\", element=\"f3130be8-c661-430c-b350-93ef1fc20db1\")>,\n",
       " <selenium.webdriver.remote.webelement.WebElement (session=\"8726103ecc9d70816336519d3b3e44bf\", element=\"9cb6884e-e5c3-4a21-9b0a-cdda4fefdd87\")>,\n",
       " <selenium.webdriver.remote.webelement.WebElement (session=\"8726103ecc9d70816336519d3b3e44bf\", element=\"f558c732-3c5e-4af0-b099-6a5a98febe29\")>,\n",
       " <selenium.webdriver.remote.webelement.WebElement (session=\"8726103ecc9d70816336519d3b3e44bf\", element=\"031b59c8-fbd4-4c26-ac99-b160b1d5fa3b\")>,\n",
       " <selenium.webdriver.remote.webelement.WebElement (session=\"8726103ecc9d70816336519d3b3e44bf\", element=\"e626e9a7-9ced-484c-b968-0de8e510cc72\")>,\n",
       " <selenium.webdriver.remote.webelement.WebElement (session=\"8726103ecc9d70816336519d3b3e44bf\", element=\"1cfe039a-06cf-4a3b-a169-0f9c47589d62\")>,\n",
       " <selenium.webdriver.remote.webelement.WebElement (session=\"8726103ecc9d70816336519d3b3e44bf\", element=\"14e4f95e-9c92-4569-ae11-cd31409a2daa\")>,\n",
       " <selenium.webdriver.remote.webelement.WebElement (session=\"8726103ecc9d70816336519d3b3e44bf\", element=\"6758216f-8d4c-4c30-895e-6d6979025789\")>,\n",
       " <selenium.webdriver.remote.webelement.WebElement (session=\"8726103ecc9d70816336519d3b3e44bf\", element=\"481a4054-6b94-4940-b652-c2fa9475dd08\")>,\n",
       " <selenium.webdriver.remote.webelement.WebElement (session=\"8726103ecc9d70816336519d3b3e44bf\", element=\"6b3ddc47-3b35-45c0-806e-df063f1f2c73\")>,\n",
       " <selenium.webdriver.remote.webelement.WebElement (session=\"8726103ecc9d70816336519d3b3e44bf\", element=\"d4973d78-156e-40cf-8d7b-2d7b029e92ba\")>,\n",
       " <selenium.webdriver.remote.webelement.WebElement (session=\"8726103ecc9d70816336519d3b3e44bf\", element=\"9e0af565-c174-47d6-976e-e7b88970182c\")>,\n",
       " <selenium.webdriver.remote.webelement.WebElement (session=\"8726103ecc9d70816336519d3b3e44bf\", element=\"e2348de8-e1b8-4b8d-8cd7-95196e04f7e1\")>,\n",
       " <selenium.webdriver.remote.webelement.WebElement (session=\"8726103ecc9d70816336519d3b3e44bf\", element=\"7cad31b4-00d5-4a65-bf45-6c791b653f65\")>,\n",
       " <selenium.webdriver.remote.webelement.WebElement (session=\"8726103ecc9d70816336519d3b3e44bf\", element=\"c2cea84b-c495-4b6c-a377-9a041c51ed7c\")>,\n",
       " <selenium.webdriver.remote.webelement.WebElement (session=\"8726103ecc9d70816336519d3b3e44bf\", element=\"e1eb7e39-53e6-45aa-a263-70051f1c9109\")>,\n",
       " <selenium.webdriver.remote.webelement.WebElement (session=\"8726103ecc9d70816336519d3b3e44bf\", element=\"4c72afc9-c2f7-44ba-8f53-069550939905\")>,\n",
       " <selenium.webdriver.remote.webelement.WebElement (session=\"8726103ecc9d70816336519d3b3e44bf\", element=\"97e0fc69-8af9-40a7-ae98-6471806729cb\")>,\n",
       " <selenium.webdriver.remote.webelement.WebElement (session=\"8726103ecc9d70816336519d3b3e44bf\", element=\"5d7887a3-f15b-436a-9c73-c776046a4f86\")>,\n",
       " <selenium.webdriver.remote.webelement.WebElement (session=\"8726103ecc9d70816336519d3b3e44bf\", element=\"b4eb2aa3-c54e-4ab6-8e4f-fff22f4d7e89\")>,\n",
       " <selenium.webdriver.remote.webelement.WebElement (session=\"8726103ecc9d70816336519d3b3e44bf\", element=\"3fed966c-48fc-4827-b3a2-c6a1e3d92546\")>,\n",
       " <selenium.webdriver.remote.webelement.WebElement (session=\"8726103ecc9d70816336519d3b3e44bf\", element=\"2e1eed00-51ee-4bb8-b868-ffa924c45e7c\")>,\n",
       " <selenium.webdriver.remote.webelement.WebElement (session=\"8726103ecc9d70816336519d3b3e44bf\", element=\"28854b54-0f43-4c4a-b914-b1ab85b35d78\")>,\n",
       " <selenium.webdriver.remote.webelement.WebElement (session=\"8726103ecc9d70816336519d3b3e44bf\", element=\"f8b0e28a-cb65-40b6-a80e-b8dfd8b294ca\")>,\n",
       " <selenium.webdriver.remote.webelement.WebElement (session=\"8726103ecc9d70816336519d3b3e44bf\", element=\"6bcc9f3b-262c-45cc-8cda-0b2b79e0b491\")>,\n",
       " <selenium.webdriver.remote.webelement.WebElement (session=\"8726103ecc9d70816336519d3b3e44bf\", element=\"e3c33acd-957e-4e1e-bdb1-592bc8428c7d\")>,\n",
       " <selenium.webdriver.remote.webelement.WebElement (session=\"8726103ecc9d70816336519d3b3e44bf\", element=\"776f3d19-cdb5-4778-883c-140ea0210444\")>,\n",
       " <selenium.webdriver.remote.webelement.WebElement (session=\"8726103ecc9d70816336519d3b3e44bf\", element=\"e3416c62-215d-4ebe-aefd-91a621e37ec8\")>,\n",
       " <selenium.webdriver.remote.webelement.WebElement (session=\"8726103ecc9d70816336519d3b3e44bf\", element=\"43502463-9e8d-4616-9501-a5cd96734e77\")>,\n",
       " <selenium.webdriver.remote.webelement.WebElement (session=\"8726103ecc9d70816336519d3b3e44bf\", element=\"b3f0793e-8ff6-4dcc-9f46-18f02e88c07d\")>,\n",
       " <selenium.webdriver.remote.webelement.WebElement (session=\"8726103ecc9d70816336519d3b3e44bf\", element=\"2ca1e72f-4825-42cc-afe5-58865e128c1b\")>,\n",
       " <selenium.webdriver.remote.webelement.WebElement (session=\"8726103ecc9d70816336519d3b3e44bf\", element=\"0fd83935-5389-4e2a-9ff7-97fb475bc69c\")>,\n",
       " <selenium.webdriver.remote.webelement.WebElement (session=\"8726103ecc9d70816336519d3b3e44bf\", element=\"7f1bac04-a438-4dba-a221-547efd6a21fe\")>,\n",
       " <selenium.webdriver.remote.webelement.WebElement (session=\"8726103ecc9d70816336519d3b3e44bf\", element=\"297cc959-feea-4788-9b9d-442fd2ab76d7\")>,\n",
       " <selenium.webdriver.remote.webelement.WebElement (session=\"8726103ecc9d70816336519d3b3e44bf\", element=\"0813452c-c4e2-4266-83bd-8c7dbe8f02e7\")>,\n",
       " <selenium.webdriver.remote.webelement.WebElement (session=\"8726103ecc9d70816336519d3b3e44bf\", element=\"63220a1a-ebff-4b60-98b4-de57047aaf65\")>,\n",
       " <selenium.webdriver.remote.webelement.WebElement (session=\"8726103ecc9d70816336519d3b3e44bf\", element=\"9403e7b1-2836-4032-bfe1-7e2356e42fa8\")>,\n",
       " <selenium.webdriver.remote.webelement.WebElement (session=\"8726103ecc9d70816336519d3b3e44bf\", element=\"a2f1c400-e5f3-432b-a659-4d2474dbee7b\")>,\n",
       " <selenium.webdriver.remote.webelement.WebElement (session=\"8726103ecc9d70816336519d3b3e44bf\", element=\"50769684-af86-4daf-8c07-52cc4d7bcb80\")>,\n",
       " <selenium.webdriver.remote.webelement.WebElement (session=\"8726103ecc9d70816336519d3b3e44bf\", element=\"16135455-51c3-4e77-a6ac-f1506626c9c3\")>,\n",
       " <selenium.webdriver.remote.webelement.WebElement (session=\"8726103ecc9d70816336519d3b3e44bf\", element=\"285e92c8-a8c3-4206-b5de-87582cea542b\")>,\n",
       " <selenium.webdriver.remote.webelement.WebElement (session=\"8726103ecc9d70816336519d3b3e44bf\", element=\"684c1293-0bc1-44c5-b94d-962bdfcc5f0b\")>,\n",
       " <selenium.webdriver.remote.webelement.WebElement (session=\"8726103ecc9d70816336519d3b3e44bf\", element=\"97e03c53-d348-41f5-a691-75eb1f3a8f08\")>,\n",
       " <selenium.webdriver.remote.webelement.WebElement (session=\"8726103ecc9d70816336519d3b3e44bf\", element=\"12f50e0b-f949-4544-ac3b-76f68d1e30ec\")>,\n",
       " <selenium.webdriver.remote.webelement.WebElement (session=\"8726103ecc9d70816336519d3b3e44bf\", element=\"9807d030-70f2-48fa-9cbb-450825134fda\")>,\n",
       " <selenium.webdriver.remote.webelement.WebElement (session=\"8726103ecc9d70816336519d3b3e44bf\", element=\"a03f87b2-ba3c-4ec6-9c5f-cb74d44008c8\")>,\n",
       " <selenium.webdriver.remote.webelement.WebElement (session=\"8726103ecc9d70816336519d3b3e44bf\", element=\"954de71f-464d-45ef-a29e-600bb0209637\")>,\n",
       " <selenium.webdriver.remote.webelement.WebElement (session=\"8726103ecc9d70816336519d3b3e44bf\", element=\"9515ae68-6f36-4546-a233-0c3ae736b564\")>,\n",
       " <selenium.webdriver.remote.webelement.WebElement (session=\"8726103ecc9d70816336519d3b3e44bf\", element=\"1a5fda96-1ca5-4404-87d1-3b822dd0f55b\")>,\n",
       " <selenium.webdriver.remote.webelement.WebElement (session=\"8726103ecc9d70816336519d3b3e44bf\", element=\"8e329112-ae9d-4863-a6cc-760a134bc727\")>,\n",
       " <selenium.webdriver.remote.webelement.WebElement (session=\"8726103ecc9d70816336519d3b3e44bf\", element=\"1cdff955-cf56-4c6c-b27e-5d3a090e54b5\")>,\n",
       " <selenium.webdriver.remote.webelement.WebElement (session=\"8726103ecc9d70816336519d3b3e44bf\", element=\"d23b9fe5-c3e7-45da-abbb-d092355997ff\")>,\n",
       " <selenium.webdriver.remote.webelement.WebElement (session=\"8726103ecc9d70816336519d3b3e44bf\", element=\"0e7eecba-83c9-42fd-b557-bc7d6ef4dc2a\")>,\n",
       " <selenium.webdriver.remote.webelement.WebElement (session=\"8726103ecc9d70816336519d3b3e44bf\", element=\"96280342-28ad-445e-83a7-a03b6973e556\")>,\n",
       " <selenium.webdriver.remote.webelement.WebElement (session=\"8726103ecc9d70816336519d3b3e44bf\", element=\"2bb0b2a7-ec57-4bab-b8ab-a84316590c9e\")>,\n",
       " <selenium.webdriver.remote.webelement.WebElement (session=\"8726103ecc9d70816336519d3b3e44bf\", element=\"c002c54a-79fe-464d-af39-4582c2cd6031\")>,\n",
       " <selenium.webdriver.remote.webelement.WebElement (session=\"8726103ecc9d70816336519d3b3e44bf\", element=\"27173056-632a-47cf-ad3e-b2776de5659c\")>,\n",
       " <selenium.webdriver.remote.webelement.WebElement (session=\"8726103ecc9d70816336519d3b3e44bf\", element=\"e8267a87-0618-4d5d-ae5c-2e3b2f636e69\")>,\n",
       " <selenium.webdriver.remote.webelement.WebElement (session=\"8726103ecc9d70816336519d3b3e44bf\", element=\"6feab59a-3845-4e38-b5e3-05892a7076d7\")>,\n",
       " <selenium.webdriver.remote.webelement.WebElement (session=\"8726103ecc9d70816336519d3b3e44bf\", element=\"c5b793e4-c52d-49a3-99f9-142963061135\")>,\n",
       " <selenium.webdriver.remote.webelement.WebElement (session=\"8726103ecc9d70816336519d3b3e44bf\", element=\"6a2cd709-38b5-4dba-a250-1b06c48fc5fe\")>,\n",
       " <selenium.webdriver.remote.webelement.WebElement (session=\"8726103ecc9d70816336519d3b3e44bf\", element=\"30c2a4c9-10e7-4e67-a252-4e3489589d40\")>,\n",
       " <selenium.webdriver.remote.webelement.WebElement (session=\"8726103ecc9d70816336519d3b3e44bf\", element=\"66efcfe8-b727-459e-8487-a7b36ae8ee75\")>,\n",
       " <selenium.webdriver.remote.webelement.WebElement (session=\"8726103ecc9d70816336519d3b3e44bf\", element=\"a3d69ed8-d773-4d90-a031-3cbe417d542f\")>,\n",
       " <selenium.webdriver.remote.webelement.WebElement (session=\"8726103ecc9d70816336519d3b3e44bf\", element=\"67d4cf2d-ce89-4b3a-a5dd-b4fcad49ed2d\")>,\n",
       " <selenium.webdriver.remote.webelement.WebElement (session=\"8726103ecc9d70816336519d3b3e44bf\", element=\"2dea088b-f929-43b4-a680-cff4b136333c\")>,\n",
       " <selenium.webdriver.remote.webelement.WebElement (session=\"8726103ecc9d70816336519d3b3e44bf\", element=\"ca3654cc-d7f8-4949-86e9-128df91f332c\")>,\n",
       " <selenium.webdriver.remote.webelement.WebElement (session=\"8726103ecc9d70816336519d3b3e44bf\", element=\"48773a38-6625-49bb-b4a7-614a529bb30b\")>,\n",
       " <selenium.webdriver.remote.webelement.WebElement (session=\"8726103ecc9d70816336519d3b3e44bf\", element=\"ddc9e5d3-8bee-4c64-a107-536f5bb5e64e\")>,\n",
       " <selenium.webdriver.remote.webelement.WebElement (session=\"8726103ecc9d70816336519d3b3e44bf\", element=\"51c59bb0-eaaf-4808-83f9-77bc75510ab5\")>,\n",
       " <selenium.webdriver.remote.webelement.WebElement (session=\"8726103ecc9d70816336519d3b3e44bf\", element=\"58829333-2f6f-4436-833d-9f85a01966ab\")>,\n",
       " <selenium.webdriver.remote.webelement.WebElement (session=\"8726103ecc9d70816336519d3b3e44bf\", element=\"435ef5fa-bb63-404a-9161-5135bbeaedfb\")>,\n",
       " <selenium.webdriver.remote.webelement.WebElement (session=\"8726103ecc9d70816336519d3b3e44bf\", element=\"8205bdf8-9717-4f00-b102-8740cf77cefe\")>,\n",
       " <selenium.webdriver.remote.webelement.WebElement (session=\"8726103ecc9d70816336519d3b3e44bf\", element=\"c6790724-bf2d-4a6a-8738-94b7f37d8093\")>,\n",
       " <selenium.webdriver.remote.webelement.WebElement (session=\"8726103ecc9d70816336519d3b3e44bf\", element=\"9a59b7f5-bace-4a42-83b7-b61fcb334738\")>,\n",
       " <selenium.webdriver.remote.webelement.WebElement (session=\"8726103ecc9d70816336519d3b3e44bf\", element=\"90440566-1f1c-4659-b02f-ad03746396f0\")>,\n",
       " <selenium.webdriver.remote.webelement.WebElement (session=\"8726103ecc9d70816336519d3b3e44bf\", element=\"7ca0fe1a-a42c-4087-b456-0b4e865ae604\")>,\n",
       " <selenium.webdriver.remote.webelement.WebElement (session=\"8726103ecc9d70816336519d3b3e44bf\", element=\"27c600fe-a0d7-4db7-92b2-64fef6afbcf7\")>,\n",
       " <selenium.webdriver.remote.webelement.WebElement (session=\"8726103ecc9d70816336519d3b3e44bf\", element=\"ebef2c62-467e-4bbe-a71c-e5d2ef2cc72b\")>,\n",
       " <selenium.webdriver.remote.webelement.WebElement (session=\"8726103ecc9d70816336519d3b3e44bf\", element=\"6ea45708-af57-4b31-bed7-912f97f48dfd\")>,\n",
       " <selenium.webdriver.remote.webelement.WebElement (session=\"8726103ecc9d70816336519d3b3e44bf\", element=\"335cb3a8-3bbd-4bb5-aecd-3aeff1edbe18\")>,\n",
       " <selenium.webdriver.remote.webelement.WebElement (session=\"8726103ecc9d70816336519d3b3e44bf\", element=\"e0a2cfc3-3af9-4dd7-ab5b-cfae77327091\")>,\n",
       " <selenium.webdriver.remote.webelement.WebElement (session=\"8726103ecc9d70816336519d3b3e44bf\", element=\"c1025edb-f65f-493f-95f2-416310f12c62\")>,\n",
       " <selenium.webdriver.remote.webelement.WebElement (session=\"8726103ecc9d70816336519d3b3e44bf\", element=\"c262bb7c-6dfc-41be-955a-230685b650c9\")>,\n",
       " <selenium.webdriver.remote.webelement.WebElement (session=\"8726103ecc9d70816336519d3b3e44bf\", element=\"0548f146-f98d-45cf-aafa-aed14a7a1faf\")>,\n",
       " <selenium.webdriver.remote.webelement.WebElement (session=\"8726103ecc9d70816336519d3b3e44bf\", element=\"3c2c5ba2-fb1d-4b9d-a0e2-7f12c832ec80\")>,\n",
       " <selenium.webdriver.remote.webelement.WebElement (session=\"8726103ecc9d70816336519d3b3e44bf\", element=\"fb72bc8d-e8a1-4828-9b40-1ca0e86c7bf5\")>,\n",
       " <selenium.webdriver.remote.webelement.WebElement (session=\"8726103ecc9d70816336519d3b3e44bf\", element=\"74c5bbca-bf76-449a-b2b1-57ef213373a0\")>,\n",
       " <selenium.webdriver.remote.webelement.WebElement (session=\"8726103ecc9d70816336519d3b3e44bf\", element=\"3bf351ed-eb80-44b0-9bdc-52c916edf1f6\")>,\n",
       " <selenium.webdriver.remote.webelement.WebElement (session=\"8726103ecc9d70816336519d3b3e44bf\", element=\"a9415706-f3e6-4fda-947f-f865a567f2e3\")>,\n",
       " <selenium.webdriver.remote.webelement.WebElement (session=\"8726103ecc9d70816336519d3b3e44bf\", element=\"68d4d2f9-b2ef-4209-8ec6-fde297f3e2d2\")>,\n",
       " <selenium.webdriver.remote.webelement.WebElement (session=\"8726103ecc9d70816336519d3b3e44bf\", element=\"871ea119-bfe4-4db7-a1f4-b099dce7a180\")>,\n",
       " <selenium.webdriver.remote.webelement.WebElement (session=\"8726103ecc9d70816336519d3b3e44bf\", element=\"5f965ed7-25fd-4a22-afbb-bb5e78b688b2\")>,\n",
       " <selenium.webdriver.remote.webelement.WebElement (session=\"8726103ecc9d70816336519d3b3e44bf\", element=\"00ea4604-c704-4c87-9caf-9730821fd386\")>,\n",
       " <selenium.webdriver.remote.webelement.WebElement (session=\"8726103ecc9d70816336519d3b3e44bf\", element=\"d6b362ac-3135-4125-ac7f-06841085d0b9\")>,\n",
       " <selenium.webdriver.remote.webelement.WebElement (session=\"8726103ecc9d70816336519d3b3e44bf\", element=\"4b9fb508-9ca7-40fe-94b4-de09937f6e1c\")>,\n",
       " <selenium.webdriver.remote.webelement.WebElement (session=\"8726103ecc9d70816336519d3b3e44bf\", element=\"f6d1de6e-9aa0-458a-a252-5c25a0f1181e\")>,\n",
       " <selenium.webdriver.remote.webelement.WebElement (session=\"8726103ecc9d70816336519d3b3e44bf\", element=\"5b84f525-fdbb-4035-ba54-9755ddb62e5a\")>,\n",
       " <selenium.webdriver.remote.webelement.WebElement (session=\"8726103ecc9d70816336519d3b3e44bf\", element=\"6fd3444d-4b54-4d2d-a288-9b4f9452f97f\")>,\n",
       " <selenium.webdriver.remote.webelement.WebElement (session=\"8726103ecc9d70816336519d3b3e44bf\", element=\"422d6dd5-c5e4-4457-ae1b-f84a00844520\")>,\n",
       " <selenium.webdriver.remote.webelement.WebElement (session=\"8726103ecc9d70816336519d3b3e44bf\", element=\"d5253bfe-736c-4071-9a3b-d0c355b5afa6\")>,\n",
       " <selenium.webdriver.remote.webelement.WebElement (session=\"8726103ecc9d70816336519d3b3e44bf\", element=\"d5a4e512-4b13-4731-b2be-3c8b2f13dfc6\")>,\n",
       " <selenium.webdriver.remote.webelement.WebElement (session=\"8726103ecc9d70816336519d3b3e44bf\", element=\"3fb11b48-98f8-44a6-ac77-d04a2a892039\")>,\n",
       " <selenium.webdriver.remote.webelement.WebElement (session=\"8726103ecc9d70816336519d3b3e44bf\", element=\"85683c4b-2214-4870-af67-81d7aacaab4e\")>,\n",
       " <selenium.webdriver.remote.webelement.WebElement (session=\"8726103ecc9d70816336519d3b3e44bf\", element=\"4b23bf1b-6039-47e1-8bd7-938253bff17c\")>,\n",
       " <selenium.webdriver.remote.webelement.WebElement (session=\"8726103ecc9d70816336519d3b3e44bf\", element=\"2f7e5efd-7766-4f94-80b5-9f81e58413fa\")>,\n",
       " <selenium.webdriver.remote.webelement.WebElement (session=\"8726103ecc9d70816336519d3b3e44bf\", element=\"f78d8509-ae02-49ab-8e25-98602f507ce9\")>,\n",
       " <selenium.webdriver.remote.webelement.WebElement (session=\"8726103ecc9d70816336519d3b3e44bf\", element=\"0c791db5-d0b2-4acc-8839-b8dd62d63a9a\")>,\n",
       " <selenium.webdriver.remote.webelement.WebElement (session=\"8726103ecc9d70816336519d3b3e44bf\", element=\"15a3d789-b253-4770-ad3d-63a636eb8cf4\")>,\n",
       " <selenium.webdriver.remote.webelement.WebElement (session=\"8726103ecc9d70816336519d3b3e44bf\", element=\"f99f19a7-d636-4bb5-a961-5d06d9d7bc6e\")>,\n",
       " <selenium.webdriver.remote.webelement.WebElement (session=\"8726103ecc9d70816336519d3b3e44bf\", element=\"b24b15f7-ffc2-4bc6-a6df-e75479596302\")>,\n",
       " <selenium.webdriver.remote.webelement.WebElement (session=\"8726103ecc9d70816336519d3b3e44bf\", element=\"27708843-e123-46c1-a527-785d624f0c97\")>,\n",
       " <selenium.webdriver.remote.webelement.WebElement (session=\"8726103ecc9d70816336519d3b3e44bf\", element=\"bca3a5e7-9ce0-4e3c-9f72-f81dbce955cd\")>,\n",
       " <selenium.webdriver.remote.webelement.WebElement (session=\"8726103ecc9d70816336519d3b3e44bf\", element=\"cd235c9b-e614-43c3-b60f-44aeb32bf6d7\")>,\n",
       " <selenium.webdriver.remote.webelement.WebElement (session=\"8726103ecc9d70816336519d3b3e44bf\", element=\"c500948e-847a-49e3-ad9a-919a92800509\")>,\n",
       " <selenium.webdriver.remote.webelement.WebElement (session=\"8726103ecc9d70816336519d3b3e44bf\", element=\"19ffb3b2-1ef0-418e-b6fe-c725f91a6575\")>,\n",
       " <selenium.webdriver.remote.webelement.WebElement (session=\"8726103ecc9d70816336519d3b3e44bf\", element=\"4249212b-a6cb-4720-ba76-e072e85f6816\")>,\n",
       " <selenium.webdriver.remote.webelement.WebElement (session=\"8726103ecc9d70816336519d3b3e44bf\", element=\"cea854cb-c598-409d-87b3-2e6e4d84b956\")>,\n",
       " <selenium.webdriver.remote.webelement.WebElement (session=\"8726103ecc9d70816336519d3b3e44bf\", element=\"77b45585-bad4-4a9f-b9a9-4c4fe769296b\")>,\n",
       " <selenium.webdriver.remote.webelement.WebElement (session=\"8726103ecc9d70816336519d3b3e44bf\", element=\"b31a60d9-0f22-40c3-bf9e-df1411c5db64\")>,\n",
       " <selenium.webdriver.remote.webelement.WebElement (session=\"8726103ecc9d70816336519d3b3e44bf\", element=\"2a294b5a-9d1b-4656-a4e0-5ccb67c724fa\")>,\n",
       " <selenium.webdriver.remote.webelement.WebElement (session=\"8726103ecc9d70816336519d3b3e44bf\", element=\"5e9a3d1e-baa9-42d9-8a06-4e499bed56a7\")>,\n",
       " <selenium.webdriver.remote.webelement.WebElement (session=\"8726103ecc9d70816336519d3b3e44bf\", element=\"06be6841-5f70-486c-8cc5-72a31fa1cce9\")>,\n",
       " <selenium.webdriver.remote.webelement.WebElement (session=\"8726103ecc9d70816336519d3b3e44bf\", element=\"34cf5ebf-42ff-484f-ac54-74be89d8904c\")>,\n",
       " <selenium.webdriver.remote.webelement.WebElement (session=\"8726103ecc9d70816336519d3b3e44bf\", element=\"525ae3db-09be-4b8b-bf97-0734e1a608e6\")>,\n",
       " <selenium.webdriver.remote.webelement.WebElement (session=\"8726103ecc9d70816336519d3b3e44bf\", element=\"eae5ea0f-b591-4bb6-9362-78a1bfa1df13\")>,\n",
       " <selenium.webdriver.remote.webelement.WebElement (session=\"8726103ecc9d70816336519d3b3e44bf\", element=\"0cc1f9d9-0468-476f-9b6a-0cfee92dfd4e\")>,\n",
       " <selenium.webdriver.remote.webelement.WebElement (session=\"8726103ecc9d70816336519d3b3e44bf\", element=\"b42f61d9-d18b-4f2a-80ed-3fe6abc12cfa\")>,\n",
       " <selenium.webdriver.remote.webelement.WebElement (session=\"8726103ecc9d70816336519d3b3e44bf\", element=\"5cd14b1f-9acb-43b2-9a3f-2afff7b00f19\")>,\n",
       " <selenium.webdriver.remote.webelement.WebElement (session=\"8726103ecc9d70816336519d3b3e44bf\", element=\"af94b46d-484d-48e2-89b3-ba087b70c16f\")>,\n",
       " <selenium.webdriver.remote.webelement.WebElement (session=\"8726103ecc9d70816336519d3b3e44bf\", element=\"a20f3e17-1cd1-42f1-aa40-6f1d8d745951\")>,\n",
       " <selenium.webdriver.remote.webelement.WebElement (session=\"8726103ecc9d70816336519d3b3e44bf\", element=\"cb04f0a6-962d-4186-b8b1-ff93a76c7d3a\")>,\n",
       " <selenium.webdriver.remote.webelement.WebElement (session=\"8726103ecc9d70816336519d3b3e44bf\", element=\"3604b81b-8bb6-4ca1-aac0-9f4179a918f2\")>,\n",
       " <selenium.webdriver.remote.webelement.WebElement (session=\"8726103ecc9d70816336519d3b3e44bf\", element=\"f80f071c-dedf-45c5-afa8-d595c672220b\")>,\n",
       " <selenium.webdriver.remote.webelement.WebElement (session=\"8726103ecc9d70816336519d3b3e44bf\", element=\"5a73f5bc-6e18-4034-9f2d-313cc6a09924\")>,\n",
       " <selenium.webdriver.remote.webelement.WebElement (session=\"8726103ecc9d70816336519d3b3e44bf\", element=\"6b88b071-1c87-46f4-bba5-fbaf707452e3\")>,\n",
       " <selenium.webdriver.remote.webelement.WebElement (session=\"8726103ecc9d70816336519d3b3e44bf\", element=\"74fa51b1-4661-4e14-8e76-4b9ac7521ff7\")>,\n",
       " <selenium.webdriver.remote.webelement.WebElement (session=\"8726103ecc9d70816336519d3b3e44bf\", element=\"4511f749-b120-465a-b162-43e9a4b4d007\")>,\n",
       " <selenium.webdriver.remote.webelement.WebElement (session=\"8726103ecc9d70816336519d3b3e44bf\", element=\"258958ca-9449-4175-9ee2-7ebe33d08fd3\")>,\n",
       " <selenium.webdriver.remote.webelement.WebElement (session=\"8726103ecc9d70816336519d3b3e44bf\", element=\"020f9588-e3a9-46ef-9fa7-8675b08e3cb4\")>,\n",
       " <selenium.webdriver.remote.webelement.WebElement (session=\"8726103ecc9d70816336519d3b3e44bf\", element=\"11bef676-ee11-473e-9e90-fe03088cffe0\")>,\n",
       " <selenium.webdriver.remote.webelement.WebElement (session=\"8726103ecc9d70816336519d3b3e44bf\", element=\"62a1c7f6-5b67-4eec-bdb2-16d20de27497\")>,\n",
       " <selenium.webdriver.remote.webelement.WebElement (session=\"8726103ecc9d70816336519d3b3e44bf\", element=\"f9879030-bcd6-4877-9a85-f0a934864a9f\")>,\n",
       " <selenium.webdriver.remote.webelement.WebElement (session=\"8726103ecc9d70816336519d3b3e44bf\", element=\"2d2e6e2a-4b95-448d-b708-38a666ffff65\")>,\n",
       " <selenium.webdriver.remote.webelement.WebElement (session=\"8726103ecc9d70816336519d3b3e44bf\", element=\"848be63a-2907-4623-b815-af50974f659a\")>,\n",
       " <selenium.webdriver.remote.webelement.WebElement (session=\"8726103ecc9d70816336519d3b3e44bf\", element=\"adc3b69e-bcd4-4a9c-846a-eea5f3a8defd\")>,\n",
       " <selenium.webdriver.remote.webelement.WebElement (session=\"8726103ecc9d70816336519d3b3e44bf\", element=\"d31b782d-0d28-4972-b707-f5dfd47715ec\")>,\n",
       " <selenium.webdriver.remote.webelement.WebElement (session=\"8726103ecc9d70816336519d3b3e44bf\", element=\"c2d5f3cf-937d-4118-8dc6-db621960f950\")>,\n",
       " <selenium.webdriver.remote.webelement.WebElement (session=\"8726103ecc9d70816336519d3b3e44bf\", element=\"fd0c932f-c5f0-4189-9f23-db32638f4067\")>,\n",
       " <selenium.webdriver.remote.webelement.WebElement (session=\"8726103ecc9d70816336519d3b3e44bf\", element=\"e5b0fbce-8ba6-4088-a173-0b9fac4961fb\")>,\n",
       " <selenium.webdriver.remote.webelement.WebElement (session=\"8726103ecc9d70816336519d3b3e44bf\", element=\"3f543b9b-5996-4b01-92d4-b362c78d7d95\")>,\n",
       " <selenium.webdriver.remote.webelement.WebElement (session=\"8726103ecc9d70816336519d3b3e44bf\", element=\"3e3fe5ef-b238-4cab-a328-82b5ca4cbe2f\")>,\n",
       " <selenium.webdriver.remote.webelement.WebElement (session=\"8726103ecc9d70816336519d3b3e44bf\", element=\"50eb31b2-f269-42ef-900a-c83fa124a2d4\")>,\n",
       " <selenium.webdriver.remote.webelement.WebElement (session=\"8726103ecc9d70816336519d3b3e44bf\", element=\"4dae0bd9-464c-4aab-877d-68e3893f27e4\")>,\n",
       " <selenium.webdriver.remote.webelement.WebElement (session=\"8726103ecc9d70816336519d3b3e44bf\", element=\"4ffb8f7b-38b0-4804-894b-1a40a63c6d67\")>,\n",
       " <selenium.webdriver.remote.webelement.WebElement (session=\"8726103ecc9d70816336519d3b3e44bf\", element=\"c457b833-0535-4c38-a618-8d8e70516eaa\")>,\n",
       " <selenium.webdriver.remote.webelement.WebElement (session=\"8726103ecc9d70816336519d3b3e44bf\", element=\"04f983c8-d018-4757-925e-73d0c0d40dba\")>,\n",
       " <selenium.webdriver.remote.webelement.WebElement (session=\"8726103ecc9d70816336519d3b3e44bf\", element=\"ab95a231-348f-470c-beb2-aaddb5d4ae50\")>,\n",
       " <selenium.webdriver.remote.webelement.WebElement (session=\"8726103ecc9d70816336519d3b3e44bf\", element=\"0b94552a-2d09-4f13-b2e5-2563313b83ac\")>,\n",
       " <selenium.webdriver.remote.webelement.WebElement (session=\"8726103ecc9d70816336519d3b3e44bf\", element=\"abcccffc-0958-4b12-a67e-ac5e88779e70\")>,\n",
       " <selenium.webdriver.remote.webelement.WebElement (session=\"8726103ecc9d70816336519d3b3e44bf\", element=\"87741020-d659-40e9-aa07-34c65bbc22bf\")>,\n",
       " <selenium.webdriver.remote.webelement.WebElement (session=\"8726103ecc9d70816336519d3b3e44bf\", element=\"f8643238-8899-4f26-8a8f-7e619605c127\")>,\n",
       " <selenium.webdriver.remote.webelement.WebElement (session=\"8726103ecc9d70816336519d3b3e44bf\", element=\"795a2d73-ee8d-4f63-b91b-b79c69295fce\")>,\n",
       " <selenium.webdriver.remote.webelement.WebElement (session=\"8726103ecc9d70816336519d3b3e44bf\", element=\"010b9f22-375d-4318-adec-d54461f08636\")>,\n",
       " <selenium.webdriver.remote.webelement.WebElement (session=\"8726103ecc9d70816336519d3b3e44bf\", element=\"12ffb85f-baa1-4c96-a33f-5a4b7e16992f\")>,\n",
       " <selenium.webdriver.remote.webelement.WebElement (session=\"8726103ecc9d70816336519d3b3e44bf\", element=\"e7a0b52e-687b-4ff4-b940-9e93205632b9\")>,\n",
       " <selenium.webdriver.remote.webelement.WebElement (session=\"8726103ecc9d70816336519d3b3e44bf\", element=\"8b1d2870-e479-4a4b-aa99-5e5b02281994\")>,\n",
       " <selenium.webdriver.remote.webelement.WebElement (session=\"8726103ecc9d70816336519d3b3e44bf\", element=\"20c6ec25-11b0-4ddd-971e-38a5ae016917\")>,\n",
       " <selenium.webdriver.remote.webelement.WebElement (session=\"8726103ecc9d70816336519d3b3e44bf\", element=\"fbad7f6e-a698-423f-b2f0-a856b3ab61d4\")>,\n",
       " <selenium.webdriver.remote.webelement.WebElement (session=\"8726103ecc9d70816336519d3b3e44bf\", element=\"723cc2c1-8b2f-4046-bec6-29136b3507d8\")>,\n",
       " <selenium.webdriver.remote.webelement.WebElement (session=\"8726103ecc9d70816336519d3b3e44bf\", element=\"e72a673a-4826-47ea-bdf1-8b16201fa7a5\")>,\n",
       " <selenium.webdriver.remote.webelement.WebElement (session=\"8726103ecc9d70816336519d3b3e44bf\", element=\"0de49015-8afa-40c7-829b-89b34464f782\")>,\n",
       " <selenium.webdriver.remote.webelement.WebElement (session=\"8726103ecc9d70816336519d3b3e44bf\", element=\"32b6c1ee-0319-4c42-b885-e0453cf863af\")>,\n",
       " <selenium.webdriver.remote.webelement.WebElement (session=\"8726103ecc9d70816336519d3b3e44bf\", element=\"54c60cbe-f05b-4c9b-803d-63c36f26027a\")>,\n",
       " <selenium.webdriver.remote.webelement.WebElement (session=\"8726103ecc9d70816336519d3b3e44bf\", element=\"63b50392-926f-4537-bf29-7736110091e8\")>,\n",
       " <selenium.webdriver.remote.webelement.WebElement (session=\"8726103ecc9d70816336519d3b3e44bf\", element=\"c3bbabf2-14f2-4bf6-ae4a-8278c11b5ca2\")>,\n",
       " <selenium.webdriver.remote.webelement.WebElement (session=\"8726103ecc9d70816336519d3b3e44bf\", element=\"6087784f-2ec6-4a13-973e-9927c5a6f4c8\")>,\n",
       " <selenium.webdriver.remote.webelement.WebElement (session=\"8726103ecc9d70816336519d3b3e44bf\", element=\"1e423439-b07e-48fc-905a-c7ae0b203a39\")>,\n",
       " <selenium.webdriver.remote.webelement.WebElement (session=\"8726103ecc9d70816336519d3b3e44bf\", element=\"adde7bfb-3a95-43a1-bad5-b838a66c7338\")>,\n",
       " <selenium.webdriver.remote.webelement.WebElement (session=\"8726103ecc9d70816336519d3b3e44bf\", element=\"a98a3816-4e3a-48ba-8d4c-9fb25df6db44\")>,\n",
       " <selenium.webdriver.remote.webelement.WebElement (session=\"8726103ecc9d70816336519d3b3e44bf\", element=\"73725e03-62c8-4d13-b84d-d0c5c870996c\")>,\n",
       " <selenium.webdriver.remote.webelement.WebElement (session=\"8726103ecc9d70816336519d3b3e44bf\", element=\"86861745-a5c5-4d0b-9197-5eeeb241e0b3\")>,\n",
       " <selenium.webdriver.remote.webelement.WebElement (session=\"8726103ecc9d70816336519d3b3e44bf\", element=\"1be8a229-b7e5-425f-9e85-059ad699ec0a\")>,\n",
       " <selenium.webdriver.remote.webelement.WebElement (session=\"8726103ecc9d70816336519d3b3e44bf\", element=\"0d318975-7761-4bdb-a650-3e6115f7a9e7\")>,\n",
       " <selenium.webdriver.remote.webelement.WebElement (session=\"8726103ecc9d70816336519d3b3e44bf\", element=\"d727d5ca-72af-42a9-92da-a61f4e3eb0ed\")>,\n",
       " <selenium.webdriver.remote.webelement.WebElement (session=\"8726103ecc9d70816336519d3b3e44bf\", element=\"54b44e4a-a763-4d95-a4d3-7c5772552b1f\")>,\n",
       " <selenium.webdriver.remote.webelement.WebElement (session=\"8726103ecc9d70816336519d3b3e44bf\", element=\"628c5df9-7978-4e3f-8f8b-e9a7e4bbde40\")>,\n",
       " <selenium.webdriver.remote.webelement.WebElement (session=\"8726103ecc9d70816336519d3b3e44bf\", element=\"1998a566-666f-4dbd-ac7c-a023e8426f86\")>,\n",
       " <selenium.webdriver.remote.webelement.WebElement (session=\"8726103ecc9d70816336519d3b3e44bf\", element=\"ae8ee0fd-ce72-46b3-9124-d565bc80130d\")>,\n",
       " <selenium.webdriver.remote.webelement.WebElement (session=\"8726103ecc9d70816336519d3b3e44bf\", element=\"8b303da8-866a-4758-8651-5fa210468d15\")>,\n",
       " <selenium.webdriver.remote.webelement.WebElement (session=\"8726103ecc9d70816336519d3b3e44bf\", element=\"d67b10ce-1aeb-4e14-a2e0-37cf1954604c\")>,\n",
       " <selenium.webdriver.remote.webelement.WebElement (session=\"8726103ecc9d70816336519d3b3e44bf\", element=\"e2afe24c-f2c5-40af-9b81-d872b0607d2e\")>,\n",
       " <selenium.webdriver.remote.webelement.WebElement (session=\"8726103ecc9d70816336519d3b3e44bf\", element=\"8952459a-43ba-4207-8021-590045699e9d\")>,\n",
       " <selenium.webdriver.remote.webelement.WebElement (session=\"8726103ecc9d70816336519d3b3e44bf\", element=\"a039a59c-b544-418c-8a9f-3a176ca2bde2\")>,\n",
       " <selenium.webdriver.remote.webelement.WebElement (session=\"8726103ecc9d70816336519d3b3e44bf\", element=\"2937eec4-882a-49e1-9626-7f07a71dc905\")>,\n",
       " <selenium.webdriver.remote.webelement.WebElement (session=\"8726103ecc9d70816336519d3b3e44bf\", element=\"72ed200d-0917-415c-98e0-960890710438\")>,\n",
       " <selenium.webdriver.remote.webelement.WebElement (session=\"8726103ecc9d70816336519d3b3e44bf\", element=\"9554c6b0-f74f-4fb6-b7a8-8bb6c296dcab\")>,\n",
       " <selenium.webdriver.remote.webelement.WebElement (session=\"8726103ecc9d70816336519d3b3e44bf\", element=\"97d37cb4-a663-4e5f-8ca9-9c10543817aa\")>,\n",
       " <selenium.webdriver.remote.webelement.WebElement (session=\"8726103ecc9d70816336519d3b3e44bf\", element=\"70c5e954-b4d8-4daf-8083-6f8210b63feb\")>,\n",
       " <selenium.webdriver.remote.webelement.WebElement (session=\"8726103ecc9d70816336519d3b3e44bf\", element=\"a8244471-7901-40f7-9874-9eab4de5af87\")>,\n",
       " <selenium.webdriver.remote.webelement.WebElement (session=\"8726103ecc9d70816336519d3b3e44bf\", element=\"04ec3c5a-6e4e-40b6-9a1c-b17cebaaafef\")>,\n",
       " <selenium.webdriver.remote.webelement.WebElement (session=\"8726103ecc9d70816336519d3b3e44bf\", element=\"3bc853e6-29fb-49d8-8250-5a92cce1845c\")>,\n",
       " <selenium.webdriver.remote.webelement.WebElement (session=\"8726103ecc9d70816336519d3b3e44bf\", element=\"00671533-eacc-4c87-95a8-37ed909993d5\")>,\n",
       " <selenium.webdriver.remote.webelement.WebElement (session=\"8726103ecc9d70816336519d3b3e44bf\", element=\"6ad6ff62-eccc-47ac-9d7a-0c6d4ef61e46\")>,\n",
       " <selenium.webdriver.remote.webelement.WebElement (session=\"8726103ecc9d70816336519d3b3e44bf\", element=\"f9e2bb42-415b-4f3f-a1b5-018b292684dd\")>,\n",
       " <selenium.webdriver.remote.webelement.WebElement (session=\"8726103ecc9d70816336519d3b3e44bf\", element=\"81714564-d57c-4cc7-898f-22628329b036\")>,\n",
       " <selenium.webdriver.remote.webelement.WebElement (session=\"8726103ecc9d70816336519d3b3e44bf\", element=\"442bf824-97ee-48ea-b914-34ada62f800d\")>,\n",
       " <selenium.webdriver.remote.webelement.WebElement (session=\"8726103ecc9d70816336519d3b3e44bf\", element=\"f334fda8-c30b-43de-a458-11aa73ff3267\")>,\n",
       " <selenium.webdriver.remote.webelement.WebElement (session=\"8726103ecc9d70816336519d3b3e44bf\", element=\"b8c8f140-e105-45cb-8707-9dec0d6a1c32\")>,\n",
       " <selenium.webdriver.remote.webelement.WebElement (session=\"8726103ecc9d70816336519d3b3e44bf\", element=\"34618c30-0047-4b2c-b131-000fe5e47eb7\")>,\n",
       " <selenium.webdriver.remote.webelement.WebElement (session=\"8726103ecc9d70816336519d3b3e44bf\", element=\"f6f93b03-f8ee-45cb-b6cb-aa1a81351fe5\")>,\n",
       " <selenium.webdriver.remote.webelement.WebElement (session=\"8726103ecc9d70816336519d3b3e44bf\", element=\"460dae9c-8626-4f4e-8112-c1331760e872\")>,\n",
       " <selenium.webdriver.remote.webelement.WebElement (session=\"8726103ecc9d70816336519d3b3e44bf\", element=\"8c0b5a4c-9108-4b59-84f2-de5bbee90a84\")>,\n",
       " <selenium.webdriver.remote.webelement.WebElement (session=\"8726103ecc9d70816336519d3b3e44bf\", element=\"00d658aa-6fe5-4433-afd0-2bcc9201efff\")>,\n",
       " <selenium.webdriver.remote.webelement.WebElement (session=\"8726103ecc9d70816336519d3b3e44bf\", element=\"78c5e9b2-768e-4df0-a0a8-f74961e0d2c2\")>,\n",
       " <selenium.webdriver.remote.webelement.WebElement (session=\"8726103ecc9d70816336519d3b3e44bf\", element=\"80fbdabd-b57f-49f1-ba26-4917b79aed10\")>,\n",
       " <selenium.webdriver.remote.webelement.WebElement (session=\"8726103ecc9d70816336519d3b3e44bf\", element=\"794f48be-feb2-4f42-88ea-48b8fa995480\")>,\n",
       " <selenium.webdriver.remote.webelement.WebElement (session=\"8726103ecc9d70816336519d3b3e44bf\", element=\"2e49a21f-b940-4fbd-b88b-685ec0268adb\")>,\n",
       " <selenium.webdriver.remote.webelement.WebElement (session=\"8726103ecc9d70816336519d3b3e44bf\", element=\"34b73fc0-fd8a-42fa-b8e4-832db080b507\")>,\n",
       " <selenium.webdriver.remote.webelement.WebElement (session=\"8726103ecc9d70816336519d3b3e44bf\", element=\"9b4ecfdf-45ba-485b-a5dd-3da8574a7b54\")>,\n",
       " <selenium.webdriver.remote.webelement.WebElement (session=\"8726103ecc9d70816336519d3b3e44bf\", element=\"0324b0b4-5a04-4c4b-aa27-38f04daf2218\")>,\n",
       " <selenium.webdriver.remote.webelement.WebElement (session=\"8726103ecc9d70816336519d3b3e44bf\", element=\"627873ea-f41c-4e05-b0c7-e6fffde33a2d\")>,\n",
       " <selenium.webdriver.remote.webelement.WebElement (session=\"8726103ecc9d70816336519d3b3e44bf\", element=\"4e228840-b2eb-4ac6-9bea-1e9412c60c76\")>,\n",
       " <selenium.webdriver.remote.webelement.WebElement (session=\"8726103ecc9d70816336519d3b3e44bf\", element=\"30703c9c-25b4-4023-b15f-43304da45cda\")>,\n",
       " <selenium.webdriver.remote.webelement.WebElement (session=\"8726103ecc9d70816336519d3b3e44bf\", element=\"37f3db1f-5e4d-4525-ba9a-323a974d5033\")>,\n",
       " <selenium.webdriver.remote.webelement.WebElement (session=\"8726103ecc9d70816336519d3b3e44bf\", element=\"19bfac70-c0a1-4fbc-9a6d-716b82b322b7\")>,\n",
       " <selenium.webdriver.remote.webelement.WebElement (session=\"8726103ecc9d70816336519d3b3e44bf\", element=\"598f6b2d-1b9a-49d6-871f-7a4adff7ddab\")>,\n",
       " <selenium.webdriver.remote.webelement.WebElement (session=\"8726103ecc9d70816336519d3b3e44bf\", element=\"f88b8806-29a1-4882-8d69-6f3b53e5b7fc\")>,\n",
       " <selenium.webdriver.remote.webelement.WebElement (session=\"8726103ecc9d70816336519d3b3e44bf\", element=\"06820099-f67e-467d-b26c-caeb848cf757\")>,\n",
       " <selenium.webdriver.remote.webelement.WebElement (session=\"8726103ecc9d70816336519d3b3e44bf\", element=\"c37d51c2-a1d4-4166-a4e3-bc82f3119310\")>,\n",
       " <selenium.webdriver.remote.webelement.WebElement (session=\"8726103ecc9d70816336519d3b3e44bf\", element=\"5b5df713-1134-4bfa-ac7b-e892ba0416da\")>,\n",
       " <selenium.webdriver.remote.webelement.WebElement (session=\"8726103ecc9d70816336519d3b3e44bf\", element=\"c5860c96-e0b1-47a0-a27d-07716001a12e\")>,\n",
       " <selenium.webdriver.remote.webelement.WebElement (session=\"8726103ecc9d70816336519d3b3e44bf\", element=\"3f358274-3ce2-488f-bdf2-57c11ebc7c24\")>,\n",
       " <selenium.webdriver.remote.webelement.WebElement (session=\"8726103ecc9d70816336519d3b3e44bf\", element=\"33af0507-2f72-4530-a64f-112be8ca8297\")>,\n",
       " <selenium.webdriver.remote.webelement.WebElement (session=\"8726103ecc9d70816336519d3b3e44bf\", element=\"c84f1396-b74a-419b-8976-a7eeddaaeb15\")>,\n",
       " <selenium.webdriver.remote.webelement.WebElement (session=\"8726103ecc9d70816336519d3b3e44bf\", element=\"ded933b7-eebd-4a7b-a912-5e3de1b4587c\")>,\n",
       " <selenium.webdriver.remote.webelement.WebElement (session=\"8726103ecc9d70816336519d3b3e44bf\", element=\"7a35806d-cb8a-4c73-a51c-7fd6803fa8dd\")>,\n",
       " <selenium.webdriver.remote.webelement.WebElement (session=\"8726103ecc9d70816336519d3b3e44bf\", element=\"75f3bb97-1d2f-4bbc-8cdc-017ab73ccdce\")>,\n",
       " <selenium.webdriver.remote.webelement.WebElement (session=\"8726103ecc9d70816336519d3b3e44bf\", element=\"876ce4d2-9f5a-4977-8180-ea96bfdb025b\")>,\n",
       " <selenium.webdriver.remote.webelement.WebElement (session=\"8726103ecc9d70816336519d3b3e44bf\", element=\"8280810c-283c-4ae7-962e-d20fa2cdd9d3\")>,\n",
       " <selenium.webdriver.remote.webelement.WebElement (session=\"8726103ecc9d70816336519d3b3e44bf\", element=\"eb175354-db3f-4a49-b7fd-6c94ad1a35fb\")>,\n",
       " <selenium.webdriver.remote.webelement.WebElement (session=\"8726103ecc9d70816336519d3b3e44bf\", element=\"67ce72e8-c36e-4a4d-a96e-228400c5945a\")>,\n",
       " <selenium.webdriver.remote.webelement.WebElement (session=\"8726103ecc9d70816336519d3b3e44bf\", element=\"5fa9624c-59df-4075-806b-c3302f997f78\")>,\n",
       " <selenium.webdriver.remote.webelement.WebElement (session=\"8726103ecc9d70816336519d3b3e44bf\", element=\"bc8ff8a0-8f44-4f88-babf-be5b4a5e1f92\")>,\n",
       " <selenium.webdriver.remote.webelement.WebElement (session=\"8726103ecc9d70816336519d3b3e44bf\", element=\"1c0eb92b-2a34-44ad-a30d-ac1e0746ba8d\")>,\n",
       " <selenium.webdriver.remote.webelement.WebElement (session=\"8726103ecc9d70816336519d3b3e44bf\", element=\"d781f450-b024-4cd1-aed9-73c0973b54e6\")>,\n",
       " <selenium.webdriver.remote.webelement.WebElement (session=\"8726103ecc9d70816336519d3b3e44bf\", element=\"a974adb5-64eb-486f-92ab-2103ca145ed3\")>,\n",
       " <selenium.webdriver.remote.webelement.WebElement (session=\"8726103ecc9d70816336519d3b3e44bf\", element=\"bb94c954-36e9-41cc-b3ec-67c292f7b9e6\")>,\n",
       " <selenium.webdriver.remote.webelement.WebElement (session=\"8726103ecc9d70816336519d3b3e44bf\", element=\"d371fe49-d01d-4fea-bbc8-35710afb3c94\")>,\n",
       " <selenium.webdriver.remote.webelement.WebElement (session=\"8726103ecc9d70816336519d3b3e44bf\", element=\"5a24339c-900e-40ec-ae83-0cb474bad816\")>,\n",
       " <selenium.webdriver.remote.webelement.WebElement (session=\"8726103ecc9d70816336519d3b3e44bf\", element=\"2d656890-0977-468a-b2af-78e49621f2d4\")>,\n",
       " ...]"
      ]
     },
     "execution_count": 165,
     "metadata": {},
     "output_type": "execute_result"
    }
   ],
   "source": [
    "ratings=driver.find_elements_by_xpath('//span[@class=\"ipl-rating-star__rating\"]')\n",
    "ratings"
   ]
  },
  {
   "cell_type": "code",
   "execution_count": 166,
   "id": "8ce26860",
   "metadata": {},
   "outputs": [
    {
     "data": {
      "text/plain": [
       "[]"
      ]
     },
     "execution_count": 166,
     "metadata": {},
     "output_type": "execute_result"
    }
   ],
   "source": [
    "ratings=[]\n",
    "for i in ratings:\n",
    "   ratings.append(i.text)\n",
    "    \n",
    "ratings"
   ]
  },
  {
   "cell_type": "code",
   "execution_count": 167,
   "id": "c1100aa5",
   "metadata": {},
   "outputs": [
    {
     "name": "stderr",
     "output_type": "stream",
     "text": [
      "<ipython-input-167-9e0c6c42d3ec>:1: DeprecationWarning: find_elements_by_* commands are deprecated. Please use find_elements() instead\n",
      "  votes=driver.find_elements_by_xpath('//span[@class=\"text-muted\"]')\n"
     ]
    },
    {
     "data": {
      "text/plain": [
       "[<selenium.webdriver.remote.webelement.WebElement (session=\"8726103ecc9d70816336519d3b3e44bf\", element=\"831eae11-8a12-434e-90ff-8dbdf0ef064c\")>,\n",
       " <selenium.webdriver.remote.webelement.WebElement (session=\"8726103ecc9d70816336519d3b3e44bf\", element=\"9c3d9e92-7141-4b5f-bbb2-680389961feb\")>,\n",
       " <selenium.webdriver.remote.webelement.WebElement (session=\"8726103ecc9d70816336519d3b3e44bf\", element=\"c885d012-47e7-4868-93dd-a4f70e9ab1c9\")>,\n",
       " <selenium.webdriver.remote.webelement.WebElement (session=\"8726103ecc9d70816336519d3b3e44bf\", element=\"a2d61bcd-ca94-40c3-b640-1b5ac9931dbd\")>,\n",
       " <selenium.webdriver.remote.webelement.WebElement (session=\"8726103ecc9d70816336519d3b3e44bf\", element=\"044d18c8-aa79-40fb-a6ce-39edc6ec38f5\")>,\n",
       " <selenium.webdriver.remote.webelement.WebElement (session=\"8726103ecc9d70816336519d3b3e44bf\", element=\"91258629-adaa-4392-8f9b-8070f84aad1d\")>,\n",
       " <selenium.webdriver.remote.webelement.WebElement (session=\"8726103ecc9d70816336519d3b3e44bf\", element=\"fa55207e-e32e-49cb-b83f-0ea40f22d40c\")>,\n",
       " <selenium.webdriver.remote.webelement.WebElement (session=\"8726103ecc9d70816336519d3b3e44bf\", element=\"bb7d1cdb-f915-4a0a-a7f3-4ce3ab4b220b\")>,\n",
       " <selenium.webdriver.remote.webelement.WebElement (session=\"8726103ecc9d70816336519d3b3e44bf\", element=\"d915f351-3493-4794-8fa9-1cd20ba9cae8\")>,\n",
       " <selenium.webdriver.remote.webelement.WebElement (session=\"8726103ecc9d70816336519d3b3e44bf\", element=\"56c83353-f484-4d7e-8c95-eee3f1a9a93b\")>,\n",
       " <selenium.webdriver.remote.webelement.WebElement (session=\"8726103ecc9d70816336519d3b3e44bf\", element=\"b9b1ba58-812b-4209-afaa-c8fc0c6777f0\")>,\n",
       " <selenium.webdriver.remote.webelement.WebElement (session=\"8726103ecc9d70816336519d3b3e44bf\", element=\"b7d4ed74-1698-481d-86b5-961a0911ac6f\")>,\n",
       " <selenium.webdriver.remote.webelement.WebElement (session=\"8726103ecc9d70816336519d3b3e44bf\", element=\"fbcf4011-7c67-473a-b81a-500c2ed0cc91\")>,\n",
       " <selenium.webdriver.remote.webelement.WebElement (session=\"8726103ecc9d70816336519d3b3e44bf\", element=\"d72bbf31-c79e-4822-b75a-4aeff93c22d9\")>,\n",
       " <selenium.webdriver.remote.webelement.WebElement (session=\"8726103ecc9d70816336519d3b3e44bf\", element=\"c19662c8-f13c-4704-bc39-18456061d197\")>,\n",
       " <selenium.webdriver.remote.webelement.WebElement (session=\"8726103ecc9d70816336519d3b3e44bf\", element=\"5e01c836-97e6-4918-800a-835ee4387357\")>,\n",
       " <selenium.webdriver.remote.webelement.WebElement (session=\"8726103ecc9d70816336519d3b3e44bf\", element=\"70dcec5b-4fa8-4a4b-901b-eef76da54c36\")>,\n",
       " <selenium.webdriver.remote.webelement.WebElement (session=\"8726103ecc9d70816336519d3b3e44bf\", element=\"4f1dec57-ed57-464d-b2d7-62b0f477db63\")>,\n",
       " <selenium.webdriver.remote.webelement.WebElement (session=\"8726103ecc9d70816336519d3b3e44bf\", element=\"ac20a2d9-28ff-4ddb-9b05-f345b4b64c24\")>,\n",
       " <selenium.webdriver.remote.webelement.WebElement (session=\"8726103ecc9d70816336519d3b3e44bf\", element=\"e4701d28-6ea4-437d-970c-82006534d4a3\")>,\n",
       " <selenium.webdriver.remote.webelement.WebElement (session=\"8726103ecc9d70816336519d3b3e44bf\", element=\"a637ad77-79f5-44c5-a8f6-e42f2d2302e6\")>,\n",
       " <selenium.webdriver.remote.webelement.WebElement (session=\"8726103ecc9d70816336519d3b3e44bf\", element=\"9af78821-516c-4146-8166-fd3dba7f3fea\")>,\n",
       " <selenium.webdriver.remote.webelement.WebElement (session=\"8726103ecc9d70816336519d3b3e44bf\", element=\"dcb9fdee-dbd3-4a93-8294-ea892efbf862\")>,\n",
       " <selenium.webdriver.remote.webelement.WebElement (session=\"8726103ecc9d70816336519d3b3e44bf\", element=\"94df9a1d-c331-4a60-8cb0-e8bd7d993c49\")>,\n",
       " <selenium.webdriver.remote.webelement.WebElement (session=\"8726103ecc9d70816336519d3b3e44bf\", element=\"b108e271-7bea-45e1-bba8-caa399e792d1\")>,\n",
       " <selenium.webdriver.remote.webelement.WebElement (session=\"8726103ecc9d70816336519d3b3e44bf\", element=\"893e97f9-10b8-4924-99ae-6c2f748f8c6d\")>,\n",
       " <selenium.webdriver.remote.webelement.WebElement (session=\"8726103ecc9d70816336519d3b3e44bf\", element=\"e86dca48-7e61-48cc-82d8-9125eea7e257\")>,\n",
       " <selenium.webdriver.remote.webelement.WebElement (session=\"8726103ecc9d70816336519d3b3e44bf\", element=\"a66e6612-0223-4176-b984-8c532d160fb7\")>,\n",
       " <selenium.webdriver.remote.webelement.WebElement (session=\"8726103ecc9d70816336519d3b3e44bf\", element=\"123c1eb1-a118-4d10-abfe-a60ee4b39e90\")>,\n",
       " <selenium.webdriver.remote.webelement.WebElement (session=\"8726103ecc9d70816336519d3b3e44bf\", element=\"f880f40a-d1c7-4847-813e-2d764ab2974f\")>,\n",
       " <selenium.webdriver.remote.webelement.WebElement (session=\"8726103ecc9d70816336519d3b3e44bf\", element=\"c5e07f43-8a5f-41a3-bce5-cf25c6b9b1a4\")>,\n",
       " <selenium.webdriver.remote.webelement.WebElement (session=\"8726103ecc9d70816336519d3b3e44bf\", element=\"80a230ca-495d-41da-a9e6-c7458ae09fa8\")>,\n",
       " <selenium.webdriver.remote.webelement.WebElement (session=\"8726103ecc9d70816336519d3b3e44bf\", element=\"83105235-3e96-49dd-9799-f00e0655ced7\")>,\n",
       " <selenium.webdriver.remote.webelement.WebElement (session=\"8726103ecc9d70816336519d3b3e44bf\", element=\"c54653c9-139a-4e6e-807b-ebd8bbc0ceec\")>,\n",
       " <selenium.webdriver.remote.webelement.WebElement (session=\"8726103ecc9d70816336519d3b3e44bf\", element=\"b5a02412-617d-43c5-8ca6-4463738e66b3\")>,\n",
       " <selenium.webdriver.remote.webelement.WebElement (session=\"8726103ecc9d70816336519d3b3e44bf\", element=\"67155cb3-55b2-417a-94f2-bfc4a4c2039f\")>,\n",
       " <selenium.webdriver.remote.webelement.WebElement (session=\"8726103ecc9d70816336519d3b3e44bf\", element=\"1cbe04d0-472f-4370-ba37-53648c68502b\")>,\n",
       " <selenium.webdriver.remote.webelement.WebElement (session=\"8726103ecc9d70816336519d3b3e44bf\", element=\"644273d7-d1ae-4d0f-99d8-99ce17ff5a5a\")>,\n",
       " <selenium.webdriver.remote.webelement.WebElement (session=\"8726103ecc9d70816336519d3b3e44bf\", element=\"6b6ee270-5aa1-40e2-b0af-61585fae153d\")>,\n",
       " <selenium.webdriver.remote.webelement.WebElement (session=\"8726103ecc9d70816336519d3b3e44bf\", element=\"6ea4b409-51f6-4305-9723-25ad0c680606\")>,\n",
       " <selenium.webdriver.remote.webelement.WebElement (session=\"8726103ecc9d70816336519d3b3e44bf\", element=\"70690803-0551-41d3-a95d-579ab3114a9d\")>,\n",
       " <selenium.webdriver.remote.webelement.WebElement (session=\"8726103ecc9d70816336519d3b3e44bf\", element=\"2421d13e-a82d-4d1b-9df7-fb713220a6c1\")>,\n",
       " <selenium.webdriver.remote.webelement.WebElement (session=\"8726103ecc9d70816336519d3b3e44bf\", element=\"e255377d-21b9-4525-b0f9-f33e346447b1\")>,\n",
       " <selenium.webdriver.remote.webelement.WebElement (session=\"8726103ecc9d70816336519d3b3e44bf\", element=\"e849b651-dea8-4234-92a9-bb02b29041b5\")>,\n",
       " <selenium.webdriver.remote.webelement.WebElement (session=\"8726103ecc9d70816336519d3b3e44bf\", element=\"8d9df295-7a43-4c5c-b311-068a0efe4a6c\")>,\n",
       " <selenium.webdriver.remote.webelement.WebElement (session=\"8726103ecc9d70816336519d3b3e44bf\", element=\"0b08fd9f-1975-4a93-b3e7-5ce160e49f9c\")>,\n",
       " <selenium.webdriver.remote.webelement.WebElement (session=\"8726103ecc9d70816336519d3b3e44bf\", element=\"0f6a8e78-601c-4974-b3ba-e4ad4e16cb34\")>,\n",
       " <selenium.webdriver.remote.webelement.WebElement (session=\"8726103ecc9d70816336519d3b3e44bf\", element=\"7efb21cb-de99-433d-a2b9-c155a6ecaa56\")>,\n",
       " <selenium.webdriver.remote.webelement.WebElement (session=\"8726103ecc9d70816336519d3b3e44bf\", element=\"53e3573e-b0ac-4151-9ef3-6415ae445779\")>,\n",
       " <selenium.webdriver.remote.webelement.WebElement (session=\"8726103ecc9d70816336519d3b3e44bf\", element=\"434c232f-8a34-4a24-9997-88357f339f0e\")>,\n",
       " <selenium.webdriver.remote.webelement.WebElement (session=\"8726103ecc9d70816336519d3b3e44bf\", element=\"8a8bf5ed-c0bb-4f00-bb84-00fb8276f236\")>,\n",
       " <selenium.webdriver.remote.webelement.WebElement (session=\"8726103ecc9d70816336519d3b3e44bf\", element=\"246ab33d-c2b2-425d-8b07-2f9d6ff9c4e7\")>,\n",
       " <selenium.webdriver.remote.webelement.WebElement (session=\"8726103ecc9d70816336519d3b3e44bf\", element=\"6adb071d-d384-4309-862f-c6de8133ae43\")>,\n",
       " <selenium.webdriver.remote.webelement.WebElement (session=\"8726103ecc9d70816336519d3b3e44bf\", element=\"ddadd86b-7442-4b1e-9921-48ace5ae06bf\")>,\n",
       " <selenium.webdriver.remote.webelement.WebElement (session=\"8726103ecc9d70816336519d3b3e44bf\", element=\"1710274a-90f7-4f37-a8eb-469959451c80\")>,\n",
       " <selenium.webdriver.remote.webelement.WebElement (session=\"8726103ecc9d70816336519d3b3e44bf\", element=\"92f18868-8534-4c28-9530-9eb852e72dc9\")>,\n",
       " <selenium.webdriver.remote.webelement.WebElement (session=\"8726103ecc9d70816336519d3b3e44bf\", element=\"18a022d4-8c93-4946-aad1-9872c0b334b5\")>,\n",
       " <selenium.webdriver.remote.webelement.WebElement (session=\"8726103ecc9d70816336519d3b3e44bf\", element=\"fc2021bf-3ce9-44ca-bc67-df0bc336a4d5\")>,\n",
       " <selenium.webdriver.remote.webelement.WebElement (session=\"8726103ecc9d70816336519d3b3e44bf\", element=\"9e16b599-a695-4f7a-b7cb-e9e4444045f2\")>,\n",
       " <selenium.webdriver.remote.webelement.WebElement (session=\"8726103ecc9d70816336519d3b3e44bf\", element=\"383ac952-804b-4a74-8c13-9e15127b3787\")>,\n",
       " <selenium.webdriver.remote.webelement.WebElement (session=\"8726103ecc9d70816336519d3b3e44bf\", element=\"888f4261-7955-4b74-8a25-b360d04c85ef\")>,\n",
       " <selenium.webdriver.remote.webelement.WebElement (session=\"8726103ecc9d70816336519d3b3e44bf\", element=\"e0b3214c-9efa-40d4-9f87-5cd831fa9c76\")>,\n",
       " <selenium.webdriver.remote.webelement.WebElement (session=\"8726103ecc9d70816336519d3b3e44bf\", element=\"19573df0-9a33-488e-900a-768dda5ee2bc\")>,\n",
       " <selenium.webdriver.remote.webelement.WebElement (session=\"8726103ecc9d70816336519d3b3e44bf\", element=\"40b2e9c1-0383-4aef-b495-7de9b65c03a4\")>,\n",
       " <selenium.webdriver.remote.webelement.WebElement (session=\"8726103ecc9d70816336519d3b3e44bf\", element=\"bd82d029-9152-4e07-9350-79fc98b4851f\")>,\n",
       " <selenium.webdriver.remote.webelement.WebElement (session=\"8726103ecc9d70816336519d3b3e44bf\", element=\"ce04319b-abaa-4ff1-8c5e-602283873cd9\")>,\n",
       " <selenium.webdriver.remote.webelement.WebElement (session=\"8726103ecc9d70816336519d3b3e44bf\", element=\"0f7444b4-51cf-4843-bd93-7128ddc45b56\")>,\n",
       " <selenium.webdriver.remote.webelement.WebElement (session=\"8726103ecc9d70816336519d3b3e44bf\", element=\"12bee104-7a58-4852-87b0-ee23f12c7034\")>,\n",
       " <selenium.webdriver.remote.webelement.WebElement (session=\"8726103ecc9d70816336519d3b3e44bf\", element=\"846b0b49-6ad2-46f8-b44b-ac5fb6aec5fb\")>,\n",
       " <selenium.webdriver.remote.webelement.WebElement (session=\"8726103ecc9d70816336519d3b3e44bf\", element=\"2aee360a-67d8-4e50-90f1-d4a31ea6f4ff\")>,\n",
       " <selenium.webdriver.remote.webelement.WebElement (session=\"8726103ecc9d70816336519d3b3e44bf\", element=\"df9af4c8-c704-46cd-8da6-5f80c6ec7aa8\")>,\n",
       " <selenium.webdriver.remote.webelement.WebElement (session=\"8726103ecc9d70816336519d3b3e44bf\", element=\"b1e7a0e9-ccf3-49c7-b203-487e2d9157b9\")>,\n",
       " <selenium.webdriver.remote.webelement.WebElement (session=\"8726103ecc9d70816336519d3b3e44bf\", element=\"14d63d77-0d22-49b7-99dc-0cc264546d3f\")>,\n",
       " <selenium.webdriver.remote.webelement.WebElement (session=\"8726103ecc9d70816336519d3b3e44bf\", element=\"b632fd1d-7da7-45a6-ba3e-71c75900e834\")>,\n",
       " <selenium.webdriver.remote.webelement.WebElement (session=\"8726103ecc9d70816336519d3b3e44bf\", element=\"d5f155ac-27ee-4b90-bc85-3bdf59553b50\")>,\n",
       " <selenium.webdriver.remote.webelement.WebElement (session=\"8726103ecc9d70816336519d3b3e44bf\", element=\"acd56239-16b6-47e1-8cb5-aec7427fa342\")>,\n",
       " <selenium.webdriver.remote.webelement.WebElement (session=\"8726103ecc9d70816336519d3b3e44bf\", element=\"5ce83a65-5a6d-4e39-bd8a-93dcead87174\")>,\n",
       " <selenium.webdriver.remote.webelement.WebElement (session=\"8726103ecc9d70816336519d3b3e44bf\", element=\"5cf3117b-0c0e-4539-8de2-20916aabbb17\")>,\n",
       " <selenium.webdriver.remote.webelement.WebElement (session=\"8726103ecc9d70816336519d3b3e44bf\", element=\"be62f03a-5333-4037-9cc2-d53e23db1abb\")>,\n",
       " <selenium.webdriver.remote.webelement.WebElement (session=\"8726103ecc9d70816336519d3b3e44bf\", element=\"3eeb3f78-32ec-4ff8-81a4-1238ef975c4b\")>,\n",
       " <selenium.webdriver.remote.webelement.WebElement (session=\"8726103ecc9d70816336519d3b3e44bf\", element=\"f5a37c17-3c41-43aa-bd27-4a223908feef\")>,\n",
       " <selenium.webdriver.remote.webelement.WebElement (session=\"8726103ecc9d70816336519d3b3e44bf\", element=\"9037019b-f949-4917-b740-a7bd6854b4b1\")>,\n",
       " <selenium.webdriver.remote.webelement.WebElement (session=\"8726103ecc9d70816336519d3b3e44bf\", element=\"a9c20115-2587-4c0f-afe0-3fccdcba028b\")>,\n",
       " <selenium.webdriver.remote.webelement.WebElement (session=\"8726103ecc9d70816336519d3b3e44bf\", element=\"4928bd21-79ec-4b26-b6ab-87a2825c112c\")>,\n",
       " <selenium.webdriver.remote.webelement.WebElement (session=\"8726103ecc9d70816336519d3b3e44bf\", element=\"ff565ffe-4709-4107-b561-877492b98929\")>,\n",
       " <selenium.webdriver.remote.webelement.WebElement (session=\"8726103ecc9d70816336519d3b3e44bf\", element=\"4672ce7b-abf1-492f-aca8-eccbc81be1d9\")>,\n",
       " <selenium.webdriver.remote.webelement.WebElement (session=\"8726103ecc9d70816336519d3b3e44bf\", element=\"8c535039-bd40-4f68-8576-020afbf041cc\")>,\n",
       " <selenium.webdriver.remote.webelement.WebElement (session=\"8726103ecc9d70816336519d3b3e44bf\", element=\"e3f19cc2-6d8b-4d5a-adef-a1e11d59b909\")>,\n",
       " <selenium.webdriver.remote.webelement.WebElement (session=\"8726103ecc9d70816336519d3b3e44bf\", element=\"cf3f8dcd-e250-40c1-9ba3-a723aea8dd29\")>,\n",
       " <selenium.webdriver.remote.webelement.WebElement (session=\"8726103ecc9d70816336519d3b3e44bf\", element=\"66cd4afe-65a1-47e7-a9bb-5647fc1aec4e\")>,\n",
       " <selenium.webdriver.remote.webelement.WebElement (session=\"8726103ecc9d70816336519d3b3e44bf\", element=\"28ced51a-7977-428d-868b-6bfcf275aa3d\")>,\n",
       " <selenium.webdriver.remote.webelement.WebElement (session=\"8726103ecc9d70816336519d3b3e44bf\", element=\"6dd8689d-d3ed-4e5b-abd1-04f1d2dee863\")>,\n",
       " <selenium.webdriver.remote.webelement.WebElement (session=\"8726103ecc9d70816336519d3b3e44bf\", element=\"34a1b26e-c6a8-4790-ae37-32d4f6619e9c\")>,\n",
       " <selenium.webdriver.remote.webelement.WebElement (session=\"8726103ecc9d70816336519d3b3e44bf\", element=\"6c3ff789-78ff-4850-a36c-4341c332e97f\")>,\n",
       " <selenium.webdriver.remote.webelement.WebElement (session=\"8726103ecc9d70816336519d3b3e44bf\", element=\"aef73b3d-c6ce-45c1-8e12-2d72c6bdb44b\")>,\n",
       " <selenium.webdriver.remote.webelement.WebElement (session=\"8726103ecc9d70816336519d3b3e44bf\", element=\"4ff54f06-cb69-4260-acf0-9ba416d86091\")>,\n",
       " <selenium.webdriver.remote.webelement.WebElement (session=\"8726103ecc9d70816336519d3b3e44bf\", element=\"46b3a4d3-0ca6-45ba-a7ed-783cf21ccf05\")>,\n",
       " <selenium.webdriver.remote.webelement.WebElement (session=\"8726103ecc9d70816336519d3b3e44bf\", element=\"895e8860-fac3-4e4a-aed5-11f79108f0fd\")>,\n",
       " <selenium.webdriver.remote.webelement.WebElement (session=\"8726103ecc9d70816336519d3b3e44bf\", element=\"ef2dc9ed-6446-497e-b66e-38848c0ef382\")>,\n",
       " <selenium.webdriver.remote.webelement.WebElement (session=\"8726103ecc9d70816336519d3b3e44bf\", element=\"efcd9a23-be83-4136-a071-a39818336e99\")>,\n",
       " <selenium.webdriver.remote.webelement.WebElement (session=\"8726103ecc9d70816336519d3b3e44bf\", element=\"16540a95-3f35-4725-b55a-21ca80fd245e\")>,\n",
       " <selenium.webdriver.remote.webelement.WebElement (session=\"8726103ecc9d70816336519d3b3e44bf\", element=\"69879f5c-21c8-4306-8985-833d4cb61a06\")>]"
      ]
     },
     "execution_count": 167,
     "metadata": {},
     "output_type": "execute_result"
    }
   ],
   "source": [
    "votes=driver.find_elements_by_xpath('//span[@class=\"text-muted\"]')\n",
    "votes"
   ]
  },
  {
   "cell_type": "code",
   "execution_count": 168,
   "id": "2ee5611b",
   "metadata": {},
   "outputs": [
    {
     "data": {
      "text/plain": [
       "[]"
      ]
     },
     "execution_count": 168,
     "metadata": {},
     "output_type": "execute_result"
    }
   ],
   "source": [
    "votes=[]\n",
    "for i in votes:\n",
    "   votes.append(i.text)\n",
    "    \n",
    "votes"
   ]
  },
  {
   "cell_type": "markdown",
   "id": "9750c92c",
   "metadata": {},
   "source": [
    "QUESTION 10"
   ]
  },
  {
   "cell_type": "code",
   "execution_count": 169,
   "id": "306ae5ae",
   "metadata": {},
   "outputs": [
    {
     "name": "stderr",
     "output_type": "stream",
     "text": [
      "<ipython-input-169-452eafebab4f>:2: DeprecationWarning: executable_path has been deprecated, please pass in a Service object\n",
      "  driver = webdriver.Chrome(PATH)\n"
     ]
    }
   ],
   "source": [
    "PATH = 'C:/Users/Shiva Labade/Desktop/chromedriver_win32/chromedriver.exe'\n",
    "driver = webdriver.Chrome(PATH)"
   ]
  },
  {
   "cell_type": "code",
   "execution_count": 170,
   "id": "cd369725",
   "metadata": {},
   "outputs": [],
   "source": [
    "driver.get('https://archive.ics.uci.edu/ml/index.php')"
   ]
  },
  {
   "cell_type": "code",
   "execution_count": 178,
   "id": "1dc014be",
   "metadata": {},
   "outputs": [
    {
     "name": "stderr",
     "output_type": "stream",
     "text": [
      "<ipython-input-178-515109075dd9>:1: DeprecationWarning: find_element_by_* commands are deprecated. Please use find_element() instead\n",
      "  search_dataset = driver.find_element_by_class_name(\"whitetext\")\n"
     ]
    },
    {
     "data": {
      "text/plain": [
       "<selenium.webdriver.remote.webelement.WebElement (session=\"59de5b7ae09f8fa3e16d493835c9a0ff\", element=\"80060c53-30ee-419e-b587-fec9720fc2c2\")>"
      ]
     },
     "execution_count": 178,
     "metadata": {},
     "output_type": "execute_result"
    }
   ],
   "source": [
    "search_dataset = driver.find_element_by_class_name(\"whitetext\")\n",
    "search_dataset"
   ]
  },
  {
   "cell_type": "code",
   "execution_count": 179,
   "id": "7cf57575",
   "metadata": {},
   "outputs": [
    {
     "name": "stderr",
     "output_type": "stream",
     "text": [
      "<ipython-input-179-1bb84836b942>:1: DeprecationWarning: find_element_by_* commands are deprecated. Please use find_element() instead\n",
      "  search_btn = driver.find_element_by_class_name(\"whitetext\")\n"
     ]
    },
    {
     "data": {
      "text/plain": [
       "<selenium.webdriver.remote.webelement.WebElement (session=\"59de5b7ae09f8fa3e16d493835c9a0ff\", element=\"80060c53-30ee-419e-b587-fec9720fc2c2\")>"
      ]
     },
     "execution_count": 179,
     "metadata": {},
     "output_type": "execute_result"
    }
   ],
   "source": [
    "search_btn = driver.find_element_by_class_name(\"whitetext\")\n",
    "search_btn"
   ]
  },
  {
   "cell_type": "code",
   "execution_count": 180,
   "id": "80e2f877",
   "metadata": {},
   "outputs": [],
   "source": [
    "search_btn.click()"
   ]
  },
  {
   "cell_type": "code",
   "execution_count": 181,
   "id": "9363c2f7",
   "metadata": {},
   "outputs": [
    {
     "name": "stderr",
     "output_type": "stream",
     "text": [
      "<ipython-input-181-83c684a71a6e>:1: DeprecationWarning: find_elements_by_* commands are deprecated. Please use find_elements() instead\n",
      "  dataset_name=driver.find_elements_by_xpath('//span[@class=\"normal\"]')\n"
     ]
    },
    {
     "data": {
      "text/plain": [
       "[<selenium.webdriver.remote.webelement.WebElement (session=\"59de5b7ae09f8fa3e16d493835c9a0ff\", element=\"e486ea54-2861-44ab-ab6a-5db84cbf8392\")>,\n",
       " <selenium.webdriver.remote.webelement.WebElement (session=\"59de5b7ae09f8fa3e16d493835c9a0ff\", element=\"42beeb31-742c-4e79-ae68-98270f64327e\")>]"
      ]
     },
     "execution_count": 181,
     "metadata": {},
     "output_type": "execute_result"
    }
   ],
   "source": [
    "dataset_name=driver.find_elements_by_xpath('//span[@class=\"normal\"]')\n",
    "dataset_name"
   ]
  },
  {
   "cell_type": "code",
   "execution_count": 182,
   "id": "319bd65a",
   "metadata": {},
   "outputs": [
    {
     "data": {
      "text/plain": [
       "[]"
      ]
     },
     "execution_count": 182,
     "metadata": {},
     "output_type": "execute_result"
    }
   ],
   "source": [
    "dataset_name=[]\n",
    "for i in dataset_name:\n",
    "   dataset_name.append(i.text)\n",
    "    \n",
    "dataset_name"
   ]
  },
  {
   "cell_type": "code",
   "execution_count": 183,
   "id": "ba338cb8",
   "metadata": {},
   "outputs": [
    {
     "name": "stderr",
     "output_type": "stream",
     "text": [
      "<ipython-input-183-41c6629265cb>:1: DeprecationWarning: find_elements_by_* commands are deprecated. Please use find_elements() instead\n",
      "  data_type=driver.find_elements_by_xpath('//span[@class=\"normal\"]')\n"
     ]
    },
    {
     "data": {
      "text/plain": [
       "[<selenium.webdriver.remote.webelement.WebElement (session=\"59de5b7ae09f8fa3e16d493835c9a0ff\", element=\"e486ea54-2861-44ab-ab6a-5db84cbf8392\")>,\n",
       " <selenium.webdriver.remote.webelement.WebElement (session=\"59de5b7ae09f8fa3e16d493835c9a0ff\", element=\"42beeb31-742c-4e79-ae68-98270f64327e\")>]"
      ]
     },
     "execution_count": 183,
     "metadata": {},
     "output_type": "execute_result"
    }
   ],
   "source": [
    "data_type=driver.find_elements_by_xpath('//span[@class=\"normal\"]')\n",
    "data_type"
   ]
  },
  {
   "cell_type": "code",
   "execution_count": 184,
   "id": "64d552e8",
   "metadata": {},
   "outputs": [
    {
     "data": {
      "text/plain": [
       "[]"
      ]
     },
     "execution_count": 184,
     "metadata": {},
     "output_type": "execute_result"
    }
   ],
   "source": [
    "data_type=[]\n",
    "for i in data_type:\n",
    "   data_type.append(i.text)\n",
    "    \n",
    "data_type"
   ]
  },
  {
   "cell_type": "code",
   "execution_count": 185,
   "id": "b7741d76",
   "metadata": {},
   "outputs": [
    {
     "name": "stderr",
     "output_type": "stream",
     "text": [
      "<ipython-input-185-25a0b0f86514>:1: DeprecationWarning: find_elements_by_* commands are deprecated. Please use find_elements() instead\n",
      "  task=driver.find_elements_by_xpath('//p[@class=\"normal, whitetext\"]')\n"
     ]
    },
    {
     "data": {
      "text/plain": [
       "[<selenium.webdriver.remote.webelement.WebElement (session=\"59de5b7ae09f8fa3e16d493835c9a0ff\", element=\"dcf2716b-d9d8-49f3-8c49-77486cba103c\")>,\n",
       " <selenium.webdriver.remote.webelement.WebElement (session=\"59de5b7ae09f8fa3e16d493835c9a0ff\", element=\"c261402d-fe4b-4b9e-983a-bbe7989cb06b\")>,\n",
       " <selenium.webdriver.remote.webelement.WebElement (session=\"59de5b7ae09f8fa3e16d493835c9a0ff\", element=\"d582cd4e-a4df-4114-94d6-386a82978033\")>,\n",
       " <selenium.webdriver.remote.webelement.WebElement (session=\"59de5b7ae09f8fa3e16d493835c9a0ff\", element=\"eb3e776d-39b1-41d6-998b-07e52f8e87b2\")>,\n",
       " <selenium.webdriver.remote.webelement.WebElement (session=\"59de5b7ae09f8fa3e16d493835c9a0ff\", element=\"fe619418-40ca-40cb-8766-4e7b5799ab49\")>,\n",
       " <selenium.webdriver.remote.webelement.WebElement (session=\"59de5b7ae09f8fa3e16d493835c9a0ff\", element=\"15408664-f24e-4bbf-a028-37803b2d04cc\")>,\n",
       " <selenium.webdriver.remote.webelement.WebElement (session=\"59de5b7ae09f8fa3e16d493835c9a0ff\", element=\"97c477aa-e727-478b-9d59-b62d59ffe312\")>]"
      ]
     },
     "execution_count": 185,
     "metadata": {},
     "output_type": "execute_result"
    }
   ],
   "source": [
    "task=driver.find_elements_by_xpath('//p[@class=\"normal, whitetext\"]')\n",
    "task"
   ]
  },
  {
   "cell_type": "code",
   "execution_count": 186,
   "id": "bb37a62d",
   "metadata": {},
   "outputs": [
    {
     "data": {
      "text/plain": [
       "[]"
      ]
     },
     "execution_count": 186,
     "metadata": {},
     "output_type": "execute_result"
    }
   ],
   "source": [
    "task=[]\n",
    "for i in task:\n",
    "   task.append(i.text)\n",
    "    \n",
    "task"
   ]
  },
  {
   "cell_type": "code",
   "execution_count": 187,
   "id": "a3eba102",
   "metadata": {},
   "outputs": [
    {
     "name": "stderr",
     "output_type": "stream",
     "text": [
      "<ipython-input-187-df7ba32a91ab>:1: DeprecationWarning: find_elements_by_* commands are deprecated. Please use find_elements() instead\n",
      "  attribute_type=driver.find_elements_by_xpath('//p[@class=\"normal, whitetext\"]')\n"
     ]
    },
    {
     "data": {
      "text/plain": [
       "[<selenium.webdriver.remote.webelement.WebElement (session=\"59de5b7ae09f8fa3e16d493835c9a0ff\", element=\"dcf2716b-d9d8-49f3-8c49-77486cba103c\")>,\n",
       " <selenium.webdriver.remote.webelement.WebElement (session=\"59de5b7ae09f8fa3e16d493835c9a0ff\", element=\"c261402d-fe4b-4b9e-983a-bbe7989cb06b\")>,\n",
       " <selenium.webdriver.remote.webelement.WebElement (session=\"59de5b7ae09f8fa3e16d493835c9a0ff\", element=\"d582cd4e-a4df-4114-94d6-386a82978033\")>,\n",
       " <selenium.webdriver.remote.webelement.WebElement (session=\"59de5b7ae09f8fa3e16d493835c9a0ff\", element=\"eb3e776d-39b1-41d6-998b-07e52f8e87b2\")>,\n",
       " <selenium.webdriver.remote.webelement.WebElement (session=\"59de5b7ae09f8fa3e16d493835c9a0ff\", element=\"fe619418-40ca-40cb-8766-4e7b5799ab49\")>,\n",
       " <selenium.webdriver.remote.webelement.WebElement (session=\"59de5b7ae09f8fa3e16d493835c9a0ff\", element=\"15408664-f24e-4bbf-a028-37803b2d04cc\")>,\n",
       " <selenium.webdriver.remote.webelement.WebElement (session=\"59de5b7ae09f8fa3e16d493835c9a0ff\", element=\"97c477aa-e727-478b-9d59-b62d59ffe312\")>]"
      ]
     },
     "execution_count": 187,
     "metadata": {},
     "output_type": "execute_result"
    }
   ],
   "source": [
    "attribute_type=driver.find_elements_by_xpath('//p[@class=\"normal, whitetext\"]')\n",
    "attribute_type"
   ]
  },
  {
   "cell_type": "code",
   "execution_count": 188,
   "id": "cb1d8524",
   "metadata": {},
   "outputs": [
    {
     "data": {
      "text/plain": [
       "[]"
      ]
     },
     "execution_count": 188,
     "metadata": {},
     "output_type": "execute_result"
    }
   ],
   "source": [
    "attribute_type=[]\n",
    "for i in attribute_type:\n",
    "   attribute_type.append(i.text)\n",
    "    \n",
    "attribute_type"
   ]
  },
  {
   "cell_type": "code",
   "execution_count": 190,
   "id": "d375886e",
   "metadata": {},
   "outputs": [
    {
     "name": "stderr",
     "output_type": "stream",
     "text": [
      "<ipython-input-190-9de72b3bc60f>:1: DeprecationWarning: find_elements_by_* commands are deprecated. Please use find_elements() instead\n",
      "  num_of_instances=driver.find_elements_by_xpath('//p[@class=\"normal, whitetext\"]')\n"
     ]
    },
    {
     "data": {
      "text/plain": [
       "[<selenium.webdriver.remote.webelement.WebElement (session=\"59de5b7ae09f8fa3e16d493835c9a0ff\", element=\"dcf2716b-d9d8-49f3-8c49-77486cba103c\")>,\n",
       " <selenium.webdriver.remote.webelement.WebElement (session=\"59de5b7ae09f8fa3e16d493835c9a0ff\", element=\"c261402d-fe4b-4b9e-983a-bbe7989cb06b\")>,\n",
       " <selenium.webdriver.remote.webelement.WebElement (session=\"59de5b7ae09f8fa3e16d493835c9a0ff\", element=\"d582cd4e-a4df-4114-94d6-386a82978033\")>,\n",
       " <selenium.webdriver.remote.webelement.WebElement (session=\"59de5b7ae09f8fa3e16d493835c9a0ff\", element=\"eb3e776d-39b1-41d6-998b-07e52f8e87b2\")>,\n",
       " <selenium.webdriver.remote.webelement.WebElement (session=\"59de5b7ae09f8fa3e16d493835c9a0ff\", element=\"fe619418-40ca-40cb-8766-4e7b5799ab49\")>,\n",
       " <selenium.webdriver.remote.webelement.WebElement (session=\"59de5b7ae09f8fa3e16d493835c9a0ff\", element=\"15408664-f24e-4bbf-a028-37803b2d04cc\")>,\n",
       " <selenium.webdriver.remote.webelement.WebElement (session=\"59de5b7ae09f8fa3e16d493835c9a0ff\", element=\"97c477aa-e727-478b-9d59-b62d59ffe312\")>]"
      ]
     },
     "execution_count": 190,
     "metadata": {},
     "output_type": "execute_result"
    }
   ],
   "source": [
    "num_of_instances=driver.find_elements_by_xpath('//p[@class=\"normal, whitetext\"]')\n",
    "num_of_instances"
   ]
  },
  {
   "cell_type": "code",
   "execution_count": 191,
   "id": "04430dbb",
   "metadata": {},
   "outputs": [
    {
     "data": {
      "text/plain": [
       "[]"
      ]
     },
     "execution_count": 191,
     "metadata": {},
     "output_type": "execute_result"
    }
   ],
   "source": [
    "num_of_instances=[]\n",
    "for i in num_of_instances:\n",
    "   num_of_instances.append(i.text)\n",
    "    \n",
    "num_of_instances"
   ]
  },
  {
   "cell_type": "code",
   "execution_count": 192,
   "id": "7a71ec11",
   "metadata": {},
   "outputs": [
    {
     "name": "stderr",
     "output_type": "stream",
     "text": [
      "<ipython-input-192-abd221eacc8c>:1: DeprecationWarning: find_elements_by_* commands are deprecated. Please use find_elements() instead\n",
      "  num_of_attribute=driver.find_elements_by_xpath('//p[@class=\"normal, whitetext\"]')\n"
     ]
    },
    {
     "data": {
      "text/plain": [
       "[<selenium.webdriver.remote.webelement.WebElement (session=\"59de5b7ae09f8fa3e16d493835c9a0ff\", element=\"dcf2716b-d9d8-49f3-8c49-77486cba103c\")>,\n",
       " <selenium.webdriver.remote.webelement.WebElement (session=\"59de5b7ae09f8fa3e16d493835c9a0ff\", element=\"c261402d-fe4b-4b9e-983a-bbe7989cb06b\")>,\n",
       " <selenium.webdriver.remote.webelement.WebElement (session=\"59de5b7ae09f8fa3e16d493835c9a0ff\", element=\"d582cd4e-a4df-4114-94d6-386a82978033\")>,\n",
       " <selenium.webdriver.remote.webelement.WebElement (session=\"59de5b7ae09f8fa3e16d493835c9a0ff\", element=\"eb3e776d-39b1-41d6-998b-07e52f8e87b2\")>,\n",
       " <selenium.webdriver.remote.webelement.WebElement (session=\"59de5b7ae09f8fa3e16d493835c9a0ff\", element=\"fe619418-40ca-40cb-8766-4e7b5799ab49\")>,\n",
       " <selenium.webdriver.remote.webelement.WebElement (session=\"59de5b7ae09f8fa3e16d493835c9a0ff\", element=\"15408664-f24e-4bbf-a028-37803b2d04cc\")>,\n",
       " <selenium.webdriver.remote.webelement.WebElement (session=\"59de5b7ae09f8fa3e16d493835c9a0ff\", element=\"97c477aa-e727-478b-9d59-b62d59ffe312\")>]"
      ]
     },
     "execution_count": 192,
     "metadata": {},
     "output_type": "execute_result"
    }
   ],
   "source": [
    "num_of_attribute=driver.find_elements_by_xpath('//p[@class=\"normal, whitetext\"]')\n",
    "num_of_attribute"
   ]
  },
  {
   "cell_type": "code",
   "execution_count": 194,
   "id": "19e6f422",
   "metadata": {},
   "outputs": [
    {
     "data": {
      "text/plain": [
       "[]"
      ]
     },
     "execution_count": 194,
     "metadata": {},
     "output_type": "execute_result"
    }
   ],
   "source": [
    "num_of_attribute=[]\n",
    "for i in num_of_attribute:\n",
    "   num_of_attribute.append(i.text)\n",
    "    \n",
    "num_of_attribute"
   ]
  },
  {
   "cell_type": "code",
   "execution_count": 195,
   "id": "9789eedc",
   "metadata": {},
   "outputs": [
    {
     "name": "stderr",
     "output_type": "stream",
     "text": [
      "<ipython-input-195-c5f789206c91>:1: DeprecationWarning: find_elements_by_* commands are deprecated. Please use find_elements() instead\n",
      "  year=driver.find_elements_by_xpath('//p[@class=\"normal, whitetext\"]')\n"
     ]
    },
    {
     "data": {
      "text/plain": [
       "[<selenium.webdriver.remote.webelement.WebElement (session=\"59de5b7ae09f8fa3e16d493835c9a0ff\", element=\"dcf2716b-d9d8-49f3-8c49-77486cba103c\")>,\n",
       " <selenium.webdriver.remote.webelement.WebElement (session=\"59de5b7ae09f8fa3e16d493835c9a0ff\", element=\"c261402d-fe4b-4b9e-983a-bbe7989cb06b\")>,\n",
       " <selenium.webdriver.remote.webelement.WebElement (session=\"59de5b7ae09f8fa3e16d493835c9a0ff\", element=\"d582cd4e-a4df-4114-94d6-386a82978033\")>,\n",
       " <selenium.webdriver.remote.webelement.WebElement (session=\"59de5b7ae09f8fa3e16d493835c9a0ff\", element=\"eb3e776d-39b1-41d6-998b-07e52f8e87b2\")>,\n",
       " <selenium.webdriver.remote.webelement.WebElement (session=\"59de5b7ae09f8fa3e16d493835c9a0ff\", element=\"fe619418-40ca-40cb-8766-4e7b5799ab49\")>,\n",
       " <selenium.webdriver.remote.webelement.WebElement (session=\"59de5b7ae09f8fa3e16d493835c9a0ff\", element=\"15408664-f24e-4bbf-a028-37803b2d04cc\")>,\n",
       " <selenium.webdriver.remote.webelement.WebElement (session=\"59de5b7ae09f8fa3e16d493835c9a0ff\", element=\"97c477aa-e727-478b-9d59-b62d59ffe312\")>]"
      ]
     },
     "execution_count": 195,
     "metadata": {},
     "output_type": "execute_result"
    }
   ],
   "source": [
    "year=driver.find_elements_by_xpath('//p[@class=\"normal, whitetext\"]')\n",
    "year"
   ]
  },
  {
   "cell_type": "code",
   "execution_count": 196,
   "id": "949776df",
   "metadata": {},
   "outputs": [
    {
     "data": {
      "text/plain": [
       "[]"
      ]
     },
     "execution_count": 196,
     "metadata": {},
     "output_type": "execute_result"
    }
   ],
   "source": [
    "year=[]\n",
    "for i in year:\n",
    "   year.append(i.text)\n",
    "    \n",
    "year"
   ]
  },
  {
   "cell_type": "raw",
   "id": "1b68e05a",
   "metadata": {},
   "source": [
    "QUESTION 5"
   ]
  },
  {
   "cell_type": "code",
   "execution_count": 197,
   "id": "a6750904",
   "metadata": {},
   "outputs": [
    {
     "name": "stderr",
     "output_type": "stream",
     "text": [
      "<ipython-input-197-452eafebab4f>:2: DeprecationWarning: executable_path has been deprecated, please pass in a Service object\n",
      "  driver = webdriver.Chrome(PATH)\n"
     ]
    }
   ],
   "source": [
    "PATH = 'C:/Users/Shiva Labade/Desktop/chromedriver_win32/chromedriver.exe'\n",
    "driver = webdriver.Chrome(PATH)"
   ]
  },
  {
   "cell_type": "code",
   "execution_count": 198,
   "id": "354b2f7a",
   "metadata": {},
   "outputs": [],
   "source": [
    "driver.get('https://github.com/')"
   ]
  },
  {
   "cell_type": "code",
   "execution_count": 204,
   "id": "ff976c22",
   "metadata": {},
   "outputs": [
    {
     "name": "stderr",
     "output_type": "stream",
     "text": [
      "<ipython-input-204-d3ecd1a3dab6>:1: DeprecationWarning: find_element_by_* commands are deprecated. Please use find_element() instead\n",
      "  search_repositories = driver.find_element_by_xpath(\"/html/body/div[1]/header/div/div[2]/div[2]/div[1]/div/div/form/label\")\n"
     ]
    },
    {
     "data": {
      "text/plain": [
       "<selenium.webdriver.remote.webelement.WebElement (session=\"ef372a6f7de5f4617a0f62f120011066\", element=\"dd9df8ad-4fcc-4321-b00e-347ff4fd9ac3\")>"
      ]
     },
     "execution_count": 204,
     "metadata": {},
     "output_type": "execute_result"
    }
   ],
   "source": [
    "search_repositories = driver.find_element_by_xpath(\"/html/body/div[1]/header/div/div[2]/div[2]/div[1]/div/div/form/label\")\n",
    "search_repositories"
   ]
  },
  {
   "cell_type": "code",
   "execution_count": 205,
   "id": "82b4165e",
   "metadata": {},
   "outputs": [
    {
     "name": "stderr",
     "output_type": "stream",
     "text": [
      "<ipython-input-205-38de1fd64e83>:1: DeprecationWarning: find_element_by_* commands are deprecated. Please use find_element() instead\n",
      "  search_btn = driver.find_element_by_xpath(\"/html/body/div[1]/header/div/div[2]/div[2]/div[1]/div/div/form/label\")\n"
     ]
    },
    {
     "data": {
      "text/plain": [
       "<selenium.webdriver.remote.webelement.WebElement (session=\"ef372a6f7de5f4617a0f62f120011066\", element=\"dd9df8ad-4fcc-4321-b00e-347ff4fd9ac3\")>"
      ]
     },
     "execution_count": 205,
     "metadata": {},
     "output_type": "execute_result"
    }
   ],
   "source": [
    "search_btn = driver.find_element_by_xpath(\"/html/body/div[1]/header/div/div[2]/div[2]/div[1]/div/div/form/label\")\n",
    "search_btn"
   ]
  },
  {
   "cell_type": "code",
   "execution_count": 206,
   "id": "6784b01e",
   "metadata": {},
   "outputs": [],
   "source": [
    "search_btn.click()"
   ]
  },
  {
   "cell_type": "code",
   "execution_count": 207,
   "id": "6dd61569",
   "metadata": {},
   "outputs": [
    {
     "name": "stderr",
     "output_type": "stream",
     "text": [
      "<ipython-input-207-9558cda8805c>:1: DeprecationWarning: find_elements_by_* commands are deprecated. Please use find_elements() instead\n",
      "  repository_title=driver.find_elements_by_xpath('//a[@class=\"v-align-middle\"]')\n"
     ]
    },
    {
     "data": {
      "text/plain": [
       "[<selenium.webdriver.remote.webelement.WebElement (session=\"ef372a6f7de5f4617a0f62f120011066\", element=\"a9d51c3f-8297-40d8-8530-0da9f0d78d79\")>,\n",
       " <selenium.webdriver.remote.webelement.WebElement (session=\"ef372a6f7de5f4617a0f62f120011066\", element=\"179380a2-fc39-4179-af86-edc5bce2aacb\")>,\n",
       " <selenium.webdriver.remote.webelement.WebElement (session=\"ef372a6f7de5f4617a0f62f120011066\", element=\"12041c69-d86c-4619-a551-aefbcbe25201\")>,\n",
       " <selenium.webdriver.remote.webelement.WebElement (session=\"ef372a6f7de5f4617a0f62f120011066\", element=\"beb8c67e-3c2e-46ed-b6c0-ea182127d3cf\")>,\n",
       " <selenium.webdriver.remote.webelement.WebElement (session=\"ef372a6f7de5f4617a0f62f120011066\", element=\"0bb07ad4-2f2d-49a7-a644-f993f4e5cbe6\")>,\n",
       " <selenium.webdriver.remote.webelement.WebElement (session=\"ef372a6f7de5f4617a0f62f120011066\", element=\"ca6cc9ca-78d8-4700-890d-63460a29fbc7\")>,\n",
       " <selenium.webdriver.remote.webelement.WebElement (session=\"ef372a6f7de5f4617a0f62f120011066\", element=\"900389e1-1172-4592-80e7-375eba5d5af0\")>,\n",
       " <selenium.webdriver.remote.webelement.WebElement (session=\"ef372a6f7de5f4617a0f62f120011066\", element=\"62319369-9ba7-442b-84ce-867a40b7d087\")>,\n",
       " <selenium.webdriver.remote.webelement.WebElement (session=\"ef372a6f7de5f4617a0f62f120011066\", element=\"1d534497-c303-4a87-9110-5af50cfd43dd\")>,\n",
       " <selenium.webdriver.remote.webelement.WebElement (session=\"ef372a6f7de5f4617a0f62f120011066\", element=\"9d26fa7c-3366-4391-82ad-4e1e53000aa9\")>]"
      ]
     },
     "execution_count": 207,
     "metadata": {},
     "output_type": "execute_result"
    }
   ],
   "source": [
    "repository_title=driver.find_elements_by_xpath('//a[@class=\"v-align-middle\"]')\n",
    "repository_title"
   ]
  },
  {
   "cell_type": "code",
   "execution_count": 208,
   "id": "f81c7377",
   "metadata": {},
   "outputs": [
    {
     "data": {
      "text/plain": [
       "[]"
      ]
     },
     "execution_count": 208,
     "metadata": {},
     "output_type": "execute_result"
    }
   ],
   "source": [
    "repository_title=[]\n",
    "for i in repository_title:\n",
    "   repository_title.append(i.text)\n",
    "    \n",
    "repository_title"
   ]
  },
  {
   "cell_type": "code",
   "execution_count": 209,
   "id": "61ac108b",
   "metadata": {},
   "outputs": [
    {
     "name": "stderr",
     "output_type": "stream",
     "text": [
      "<ipython-input-209-aef2a82deea6>:1: DeprecationWarning: find_elements_by_* commands are deprecated. Please use find_elements() instead\n",
      "  repository_description=driver.find_elements_by_xpath('//p[@dir=\"auto\"]')\n"
     ]
    },
    {
     "data": {
      "text/plain": [
       "[<selenium.webdriver.remote.webelement.WebElement (session=\"ef372a6f7de5f4617a0f62f120011066\", element=\"2dc9f446-38c6-4b16-af7d-28adcd9436a3\")>,\n",
       " <selenium.webdriver.remote.webelement.WebElement (session=\"ef372a6f7de5f4617a0f62f120011066\", element=\"b008e499-20f2-4bec-a9f1-433d802da006\")>,\n",
       " <selenium.webdriver.remote.webelement.WebElement (session=\"ef372a6f7de5f4617a0f62f120011066\", element=\"332f0e0b-d471-4996-a557-037df80c99f4\")>,\n",
       " <selenium.webdriver.remote.webelement.WebElement (session=\"ef372a6f7de5f4617a0f62f120011066\", element=\"db00f760-d246-44ee-b345-b6e40730f10d\")>,\n",
       " <selenium.webdriver.remote.webelement.WebElement (session=\"ef372a6f7de5f4617a0f62f120011066\", element=\"81a2221d-dae9-4e33-bd78-b86c597d21f6\")>,\n",
       " <selenium.webdriver.remote.webelement.WebElement (session=\"ef372a6f7de5f4617a0f62f120011066\", element=\"7089d8c8-6b03-4fd8-991c-3ab54a5016cc\")>,\n",
       " <selenium.webdriver.remote.webelement.WebElement (session=\"ef372a6f7de5f4617a0f62f120011066\", element=\"56379edc-92fa-49b2-bf21-e9a20fddae2b\")>,\n",
       " <selenium.webdriver.remote.webelement.WebElement (session=\"ef372a6f7de5f4617a0f62f120011066\", element=\"72d76725-3995-4059-9e3e-6623abd91c84\")>,\n",
       " <selenium.webdriver.remote.webelement.WebElement (session=\"ef372a6f7de5f4617a0f62f120011066\", element=\"a0fe6503-387c-4273-ba19-3cadb03b159a\")>,\n",
       " <selenium.webdriver.remote.webelement.WebElement (session=\"ef372a6f7de5f4617a0f62f120011066\", element=\"55e42559-bf5f-4862-866b-575df8d6eb29\")>,\n",
       " <selenium.webdriver.remote.webelement.WebElement (session=\"ef372a6f7de5f4617a0f62f120011066\", element=\"bacc2acf-47dd-4136-9f7e-2ab3b3d45c53\")>,\n",
       " <selenium.webdriver.remote.webelement.WebElement (session=\"ef372a6f7de5f4617a0f62f120011066\", element=\"ca484767-b83c-4569-83eb-61766fda7e1f\")>,\n",
       " <selenium.webdriver.remote.webelement.WebElement (session=\"ef372a6f7de5f4617a0f62f120011066\", element=\"93d042b1-e02e-4915-b4f6-cd4bcded4d81\")>,\n",
       " <selenium.webdriver.remote.webelement.WebElement (session=\"ef372a6f7de5f4617a0f62f120011066\", element=\"fb68d16f-cdb3-47b5-b904-bc564457766d\")>,\n",
       " <selenium.webdriver.remote.webelement.WebElement (session=\"ef372a6f7de5f4617a0f62f120011066\", element=\"f9eed242-7dc9-49eb-b19e-a628614a2fa0\")>,\n",
       " <selenium.webdriver.remote.webelement.WebElement (session=\"ef372a6f7de5f4617a0f62f120011066\", element=\"42e91fe7-068b-4e4c-a3bf-ad157b7a537e\")>,\n",
       " <selenium.webdriver.remote.webelement.WebElement (session=\"ef372a6f7de5f4617a0f62f120011066\", element=\"2be4cc44-6583-49c0-9f8f-c519007c0dee\")>,\n",
       " <selenium.webdriver.remote.webelement.WebElement (session=\"ef372a6f7de5f4617a0f62f120011066\", element=\"29500bc8-648f-4ff6-9ae7-930ced95982f\")>,\n",
       " <selenium.webdriver.remote.webelement.WebElement (session=\"ef372a6f7de5f4617a0f62f120011066\", element=\"424dd040-3cbc-452c-86f8-de161f8ce9c2\")>,\n",
       " <selenium.webdriver.remote.webelement.WebElement (session=\"ef372a6f7de5f4617a0f62f120011066\", element=\"3ed26cba-c2fc-4b58-a812-6cb99d20bf97\")>,\n",
       " <selenium.webdriver.remote.webelement.WebElement (session=\"ef372a6f7de5f4617a0f62f120011066\", element=\"e7133017-4dc3-420f-829c-b1f8e716343c\")>,\n",
       " <selenium.webdriver.remote.webelement.WebElement (session=\"ef372a6f7de5f4617a0f62f120011066\", element=\"5ec13ef7-6062-4242-80dc-4cd17f8db405\")>,\n",
       " <selenium.webdriver.remote.webelement.WebElement (session=\"ef372a6f7de5f4617a0f62f120011066\", element=\"7923b8b8-5383-41ef-875e-aac2cda7a2e8\")>,\n",
       " <selenium.webdriver.remote.webelement.WebElement (session=\"ef372a6f7de5f4617a0f62f120011066\", element=\"1742b760-1b25-4bf5-a02a-f906376577bb\")>,\n",
       " <selenium.webdriver.remote.webelement.WebElement (session=\"ef372a6f7de5f4617a0f62f120011066\", element=\"a2efdb52-8d4f-49e3-af7e-1fc8d427361b\")>,\n",
       " <selenium.webdriver.remote.webelement.WebElement (session=\"ef372a6f7de5f4617a0f62f120011066\", element=\"20a539ed-9de6-4128-a696-e7271ef43f77\")>,\n",
       " <selenium.webdriver.remote.webelement.WebElement (session=\"ef372a6f7de5f4617a0f62f120011066\", element=\"730fac66-62f6-4f40-be05-4ca57defc860\")>,\n",
       " <selenium.webdriver.remote.webelement.WebElement (session=\"ef372a6f7de5f4617a0f62f120011066\", element=\"dc406560-294c-48b5-b663-0dcf8ce3d7b8\")>]"
      ]
     },
     "execution_count": 209,
     "metadata": {},
     "output_type": "execute_result"
    }
   ],
   "source": [
    "repository_description=driver.find_elements_by_xpath('//p[@dir=\"auto\"]')\n",
    "repository_description"
   ]
  },
  {
   "cell_type": "code",
   "execution_count": 212,
   "id": "df21bac6",
   "metadata": {},
   "outputs": [
    {
     "data": {
      "text/plain": [
       "[]"
      ]
     },
     "execution_count": 212,
     "metadata": {},
     "output_type": "execute_result"
    }
   ],
   "source": [
    "repository_description=[]\n",
    "for i in repository_description:\n",
    "   repository_description.append(i.text)\n",
    "    \n",
    "repository_description"
   ]
  },
  {
   "cell_type": "code",
   "execution_count": 213,
   "id": "21dc6639",
   "metadata": {},
   "outputs": [
    {
     "name": "stderr",
     "output_type": "stream",
     "text": [
      "<ipython-input-213-75c6f6d08542>:1: DeprecationWarning: find_elements_by_* commands are deprecated. Please use find_elements() instead\n",
      "  contributors_count=driver.find_elements_by_xpath('//p[@dir=\"auto\"]')\n"
     ]
    },
    {
     "data": {
      "text/plain": [
       "[]"
      ]
     },
     "execution_count": 213,
     "metadata": {},
     "output_type": "execute_result"
    }
   ],
   "source": [
    "contributors_count=driver.find_elements_by_xpath('//p[@dir=\"auto\"]')\n",
    "contributors_count"
   ]
  },
  {
   "cell_type": "code",
   "execution_count": 214,
   "id": "428cc741",
   "metadata": {},
   "outputs": [
    {
     "data": {
      "text/plain": [
       "[]"
      ]
     },
     "execution_count": 214,
     "metadata": {},
     "output_type": "execute_result"
    }
   ],
   "source": [
    "contributors_count=[]\n",
    "for i in contributors_count:\n",
    "   contributors_count.append(i.text)\n",
    "    \n",
    "contributors_count"
   ]
  },
  {
   "cell_type": "code",
   "execution_count": 216,
   "id": "1799f63c",
   "metadata": {},
   "outputs": [
    {
     "name": "stderr",
     "output_type": "stream",
     "text": [
      "<ipython-input-216-e8eebc9db898>:1: DeprecationWarning: find_elements_by_* commands are deprecated. Please use find_elements() instead\n",
      "  language_used=driver.find_elements_by_xpath('//span[@itemprop=\"programmingLanguage\"]')\n"
     ]
    },
    {
     "data": {
      "text/plain": [
       "[<selenium.webdriver.remote.webelement.WebElement (session=\"ef372a6f7de5f4617a0f62f120011066\", element=\"e8f8df2b-0a44-4ef7-a0cd-af67a3d2d5c0\")>,\n",
       " <selenium.webdriver.remote.webelement.WebElement (session=\"ef372a6f7de5f4617a0f62f120011066\", element=\"af249321-5473-4310-9ae3-bb8f48cf6f0b\")>,\n",
       " <selenium.webdriver.remote.webelement.WebElement (session=\"ef372a6f7de5f4617a0f62f120011066\", element=\"0c85bb86-eb8b-46aa-bb2a-855107bf3adc\")>,\n",
       " <selenium.webdriver.remote.webelement.WebElement (session=\"ef372a6f7de5f4617a0f62f120011066\", element=\"4c0cc3fc-5ed0-41d3-a0b3-527bab17651b\")>,\n",
       " <selenium.webdriver.remote.webelement.WebElement (session=\"ef372a6f7de5f4617a0f62f120011066\", element=\"6819ef89-dab0-4efd-bc4d-275080f19773\")>,\n",
       " <selenium.webdriver.remote.webelement.WebElement (session=\"ef372a6f7de5f4617a0f62f120011066\", element=\"79a2f90a-e046-42c0-a3bd-5996a2682d00\")>,\n",
       " <selenium.webdriver.remote.webelement.WebElement (session=\"ef372a6f7de5f4617a0f62f120011066\", element=\"d8c5bd47-cf32-41bb-a0b4-70f0846f6717\")>,\n",
       " <selenium.webdriver.remote.webelement.WebElement (session=\"ef372a6f7de5f4617a0f62f120011066\", element=\"6f1e2419-176a-4319-9e7c-251d74f546e7\")>,\n",
       " <selenium.webdriver.remote.webelement.WebElement (session=\"ef372a6f7de5f4617a0f62f120011066\", element=\"f9ac75aa-9f5b-43b6-aea2-f8bdb771f0e9\")>]"
      ]
     },
     "execution_count": 216,
     "metadata": {},
     "output_type": "execute_result"
    }
   ],
   "source": [
    "language_used=driver.find_elements_by_xpath('//span[@itemprop=\"programmingLanguage\"]')\n",
    "language_used"
   ]
  },
  {
   "cell_type": "code",
   "execution_count": 217,
   "id": "36b01c7d",
   "metadata": {},
   "outputs": [
    {
     "data": {
      "text/plain": [
       "[]"
      ]
     },
     "execution_count": 217,
     "metadata": {},
     "output_type": "execute_result"
    }
   ],
   "source": [
    "language_used=[]\n",
    "for i in language_used:\n",
    "   language_used.append(i.text)\n",
    "    \n",
    "language_used"
   ]
  },
  {
   "cell_type": "code",
   "execution_count": null,
   "id": "9f07fdef",
   "metadata": {},
   "outputs": [],
   "source": []
  }
 ],
 "metadata": {
  "kernelspec": {
   "display_name": "Python 3",
   "language": "python",
   "name": "python3"
  },
  "language_info": {
   "codemirror_mode": {
    "name": "ipython",
    "version": 3
   },
   "file_extension": ".py",
   "mimetype": "text/x-python",
   "name": "python",
   "nbconvert_exporter": "python",
   "pygments_lexer": "ipython3",
   "version": "3.8.8"
  }
 },
 "nbformat": 4,
 "nbformat_minor": 5
}
